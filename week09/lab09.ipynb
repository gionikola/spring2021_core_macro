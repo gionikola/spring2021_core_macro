{
 "cells": [
  {
   "cell_type": "markdown",
   "metadata": {},
   "source": [
    "# Huggett Model"
   ]
  },
  {
   "cell_type": "markdown",
   "metadata": {},
   "source": [
    "Contents:\n",
    "\n",
    "- [Huggett Model](#Huggett-Model)  \n",
    "  - [Model Overview](#Model-Overview) \n",
    "  - [Solving for a Stationary Equilibrium](#Solving-for-a-Stationary-Equilibrium) \n",
    "  - [Analysis](#Analysis)   "
   ]
  },
  {
   "cell_type": "markdown",
   "metadata": {},
   "source": [
    "This lab includes:\n",
    "\n",
    "(1) A brief overview of the Huggett's incomplete markets model;\n",
    "\n",
    "(2) A computational approach to solving for stationary equilibria for Huggett's model;\n",
    "\n",
    "(3) Analyses of changes in the stationary equilibrium by varying the model parameters."
   ]
  },
  {
   "cell_type": "markdown",
   "metadata": {},
   "source": [
    "---\n",
    "\n",
    "## Model Overview"
   ]
  },
  {
   "cell_type": "markdown",
   "metadata": {},
   "source": [
    "### Intuitive Description"
   ]
  },
  {
   "cell_type": "markdown",
   "metadata": {},
   "source": [
    "Huggett (1993) sets up and analyzes a pure consumption-loans economy. \n",
    "\n",
    "The economy is populated by a unit mass of households.\n",
    "\n",
    "Each household lives to maximize their lifetime utility, which is a function of its consumption path.\n",
    "\n",
    "In each period, each household is endowed stochastically and idiosyncratically with some income.\n",
    "\n",
    "More specifically, the household's endowment follows a Markov chain $(\\mathcal{P},\\overline{s})$.\n",
    "\n",
    "The stochastic and idiosyncratic nature of the endowment process in the economy creates risk for each household.\n",
    "\n",
    "The existence of risk creates the need for risk management / insurance against the risk.\n",
    "\n",
    "The vehicle for such insurance is the centralized loan market, where households can borrow and lend at some constant risk-free interest rate $r$.\n",
    "\n",
    "Total borrowing is bounded by some $\\phi > 0$ (otherwise debt levels could blow up).\n",
    "\n",
    "$\\ast$ The level of assets is restricted to the *discrete* set $\\mathcal{A} = [\\overline{a}_1, \\ldots, \\overline{a}_m]$, where the lower bound on assets is $\\overline{a}_1 = - \\phi$.\n",
    "\n",
    "(Why does $\\overline{a}_1 = - \\phi$ make sense? Think abut the intuitive relationship between assets and debt.)"
   ]
  },
  {
   "cell_type": "markdown",
   "metadata": {},
   "source": [
    "### Stationary Equilibrium Definition"
   ]
  },
  {
   "cell_type": "markdown",
   "metadata": {},
   "source": [
    "Given a borrowing limit $\\phi$ a **stationary equilibrium** is an interest rate $r$, a policy function $g(a,s)$, and a stationary distribution $\\lambda(a,s)$ for which "
   ]
  },
  {
   "cell_type": "markdown",
   "metadata": {},
   "source": [
    "#### (a) \n",
    "\n",
    "Given $r$, the policy function $g(a,s)$ solves the household's optimum problem\n",
    "\n",
    "\\begin{align*}\n",
    "\\max_{ \\{c_t,a_{t+1}\\} } E_0 \\sum_{t=0}^\\infty \\beta^t u(c_t) \\, ,\n",
    "\\end{align*}\n",
    "\n",
    "subject to \n",
    "\n",
    "\\begin{align*}\n",
    "c_t + a_{t+1} &= (1+r) a_t + w s_t \\, , \\\\\n",
    "a_{t+1} &\\in \\mathcal{A} \\, ,\n",
    "\\end{align*}\n",
    "\n",
    "where $\\beta \\in (0,1)$, $u(c)$ has the usual properties, and $\\beta (1+r) < 1$."
   ]
  },
  {
   "cell_type": "markdown",
   "metadata": {},
   "source": [
    "#### (b)\n",
    "\n",
    "The probability distribution $\\lambda(a,s)$ is the invariant distribution of the Markov chain on $(a,s)$ induced by the Markov chain $(\\mathcal{P},\\overline{s})$ and the optimal policy $g(a,s)$.\n",
    "\n",
    "Let's think a bit about this Markov chain. \n",
    "\n",
    "Define $x = (a,s)$ as a single state variable. \n",
    "\n",
    "More specifically, if $i = 1,\\ldots,n$ indexes the asset level grid $\\mathcal{A}$, and $h = 1,\\ldots,m$ indexes the possible income states $\\{ws_1,\\ldots,ws_m\\}$, then the $j$-th element of $x$ is is $x_j = (a_i, s_i)$, where $j= (i-1)m + h$:\n",
    "\n",
    "\\begin{align*}\n",
    "x' = [(\\overline{a}_1,\\overline{s}_1),\\ldots,(\\overline{a}_1,\\overline{s}_m),\n",
    "(\\overline{a}_2,\\overline{s}_1),\\ldots,(\\overline{a}_2,\\overline{s}_m),\n",
    "\\ldots, (\\overline{a}_n,\\overline{s}_1),\\ldots,(\\overline{a}_n,\\overline{s}_m)] \\, .\n",
    "\\end{align*}\n",
    "\n",
    "The Markov chain for $x$ is determined by the following equation:\n",
    "\n",
    "\\begin{align*}\n",
    "P[(a_{t+1} = a', s_{t+1} =s') \\,|\\, (a_t = a, s_t = s) ] \n",
    "&= \n",
    "P(a_{t+1} = a\\prime \\,|\\, a_t =a, s_t = s) \\cdot P(s_{t+1} = s' \\,|\\, s_t = s)\n",
    "\\\\\n",
    "&=\n",
    "    \\mathcal{I}(a\\prime, a,s) \\mathcal{P}(s,s') \\, ,\n",
    "\\end{align*}\n",
    "where $ \\mathcal{I}(a\\prime, a,s) = 1$ if $a' = g(a,s)$ and zero otherwise, and $\\mathcal{P}$ is the given Markov chain on $s$.\n",
    "\n",
    "The Markov process defined by the above equation corresponds to a $(n \\cdot m) \\times (n \\cdot m)$ transition matrix $P$.\n",
    "\n",
    "The stationary distribution corresponding to the transition matrix $P$ is a vector $\\pi_\\infty$ with $n \\cdot m$ entries."
   ]
  },
  {
   "cell_type": "markdown",
   "metadata": {},
   "source": [
    "#### (c)\n",
    "\n",
    "When $\\lambda(a,s)$ describes the cross-section of households at each date, the loan market clears:\n",
    "\n",
    "\\begin{align*}\n",
    "\\sum_{a,s} \\lambda(a,s) g(a,s) = 0 \\, .\n",
    "\\end{align*}"
   ]
  },
  {
   "cell_type": "markdown",
   "metadata": {},
   "source": [
    "---\n",
    "\n",
    "## Solving for a Stationary Equilibrium"
   ]
  },
  {
   "cell_type": "markdown",
   "metadata": {
    "ExecuteTime": {
     "end_time": "2021-05-24T17:53:41.789000-07:00",
     "start_time": "2021-05-25T00:53:38.479Z"
    }
   },
   "source": [
    "First we load all necessary packages."
   ]
  },
  {
   "cell_type": "code",
   "execution_count": 37,
   "metadata": {
    "ExecuteTime": {
     "end_time": "2021-05-25T23:13:46.087000-07:00",
     "start_time": "2021-05-26T06:13:45.983Z"
    }
   },
   "outputs": [],
   "source": [
    "using Parameters\n",
    "using QuantEcon\n",
    "using LinearAlgebra\n",
    "using SparseArrays\n",
    "using Plots\n",
    "using LaTeXStrings"
   ]
  },
  {
   "cell_type": "markdown",
   "metadata": {},
   "source": [
    "We then define a structure called `Agent` that will contain all agent-specific model parameters."
   ]
  },
  {
   "cell_type": "code",
   "execution_count": 3,
   "metadata": {
    "ExecuteTime": {
     "end_time": "2021-05-25T22:53:05.842000-07:00",
     "start_time": "2021-05-26T05:53:05.755Z"
    }
   },
   "outputs": [],
   "source": [
    "mutable struct Agent\n",
    "  σ::Float64 # risk aversion parameter\n",
    "  β::Float64 # discount factor\n",
    "  r::Float64 # interest rate \n",
    "  w::Float64 # endowment\n",
    "  e::Vector{Float64} # vector of productivities\n",
    "  π::Vector{Float64} # probability weights on productivities\n",
    "  agrid::Vector{Float64} # grid for asset holdings \n",
    "end;"
   ]
  },
  {
   "cell_type": "markdown",
   "metadata": {},
   "source": [
    "Then we construct a function `utility` that will take agent parameters and the level of consumption as inputs, and return the utility level."
   ]
  },
  {
   "cell_type": "code",
   "execution_count": 4,
   "metadata": {
    "ExecuteTime": {
     "end_time": "2021-05-25T22:53:08.054000-07:00",
     "start_time": "2021-05-26T05:53:07.619Z"
    }
   },
   "outputs": [],
   "source": [
    "\"\"\"\n",
    "Utility function for agent when consumption is a real number\n",
    "\"\"\"\n",
    "function utility(agent::Agent,c::Real)\n",
    "    \n",
    "    σ = agent.σ # Store risk-aversion parameter\n",
    "    \n",
    "    # Define the utility mapping \n",
    "    # condition on the input `c`\n",
    "    if c > 0\n",
    "        if σ == 1\n",
    "          return log(c) # if σ = 1, CRRA utility is log\n",
    "        else\n",
    "          return c^(1-σ)/(1-σ) # if σ != 1, regular specification\n",
    "        end\n",
    "    else\n",
    "        return -Inf # infinite disutility if c∈(-∞,0]\n",
    "    end\n",
    "end;"
   ]
  },
  {
   "cell_type": "markdown",
   "metadata": {},
   "source": [
    "Allow for `utility` to be applied to a vector of different consumption levels as well."
   ]
  },
  {
   "cell_type": "code",
   "execution_count": 5,
   "metadata": {
    "ExecuteTime": {
     "end_time": "2021-05-25T22:53:10.685000-07:00",
     "start_time": "2021-05-26T05:53:10.679Z"
    }
   },
   "outputs": [],
   "source": [
    "\"\"\"\n",
    "Utility function when consumption is a vector\n",
    "\"\"\"\n",
    "function utility(agent::Agent,cvec)\n",
    "  u(c) = utility(agent,c)\n",
    "  return u.(cvec)\n",
    "end;"
   ]
  },
  {
   "cell_type": "markdown",
   "metadata": {},
   "source": [
    "Create a function `iterateBellman` that applies a single Bellman mapping to an initial value function guess.\n",
    "As always, the model parameters must also be inputted."
   ]
  },
  {
   "cell_type": "code",
   "execution_count": 6,
   "metadata": {
    "ExecuteTime": {
     "end_time": "2021-05-25T22:53:12.528000-07:00",
     "start_time": "2021-05-26T05:53:12.438Z"
    }
   },
   "outputs": [],
   "source": [
    "\"\"\"\n",
    "  iterateBellman(agent::Agent,Vcont)\n",
    "\n",
    "Iterates on the bellman equation using continuation value function Vcont\n",
    "\"\"\"\n",
    "function iterateBellman(agent::Agent,Vcont)\n",
    "  @unpack σ,agrid,π,w,e,r,β = agent #unpack parameters of agent\n",
    "  u(c) = utility(agent,c)#shorthand for utility\n",
    "  Na = length(agrid)\n",
    "  S = length(e)\n",
    "\n",
    "  EVcont = Vcont*π #precompute expected value\n",
    "\n",
    "  #solve for each state\n",
    "  #preallocate space for V and a_policy\n",
    "  V = similar(Vcont)\n",
    "  a_policy = similar(Vcont,Int)\n",
    "  for s  in 1:S\n",
    "    for ia_ in 1:Na\n",
    "      cvec = e[s]*w + (1+r)*agrid[ia_] - agrid #possible consumption values for each asset position\n",
    "      obj = u(cvec) + β * EVcont #objective for each asset position\n",
    "\n",
    "      V[ia_,s],a_policy[ia_,s] = findmax(obj) #choose maximum asset position\n",
    "    end\n",
    "  end\n",
    "  return V,a_policy\n",
    "end;"
   ]
  },
  {
   "cell_type": "code",
   "execution_count": 7,
   "metadata": {
    "ExecuteTime": {
     "end_time": "2021-05-25T22:53:14.181000-07:00",
     "start_time": "2021-05-26T05:53:14.167Z"
    }
   },
   "outputs": [],
   "source": [
    "\"\"\"\n",
    "  iterateBellman_alt(agent::Agent,Vcont)\n",
    "\n",
    "Iterates on the bellman equation using continuation value function Vcont.  Exploits\n",
    "that a_policy in increasing in a and that the value function is concave.\n",
    "\"\"\"\n",
    "function iterateBellman_alt(agent::Agent,Vcont)\n",
    "  @unpack σ,agrid,π,w,e,r,β = agent\n",
    "  u(c) = utility(agent,c)\n",
    "  Na = length(agrid)\n",
    "  S = length(e)\n",
    "  EVcont = Vcont*π #precompute expected value\n",
    "\n",
    "  EVcont = Vcont*π #precompute expected value\n",
    "\n",
    "  #solve for each state\n",
    "  #preallocate space for V and a_policy\n",
    "  V = similar(Vcont) #creates V the same size as Vcont\n",
    "  a_policy = similar(Vcont,Int) #note a_policy needs to be integers\n",
    "  for s  in 1:S\n",
    "    aprev = 1 #stores for the last ia_ the optimal policy\n",
    "    for ia_ in 1:Na\n",
    "      maxobj = -Inf #stores the maxobj up to this point\n",
    "      for ia in aprev:Na #start iterating at a_policy[ia_-1,s]\n",
    "        c = w*e[s] + (1+r)*agrid[ia_] - agrid[ia] #get consumption for this ia\n",
    "        obj = u(c) + β * EVcont[ia] #get objective\n",
    "        if obj >= maxobj #check if increasing ia improves utility\n",
    "          V[ia_,s],a_policy[ia_,s] = obj,ia #if so store values\n",
    "          maxobj = obj#and update maxobj\n",
    "        else\n",
    "          break #if it decreases utility end for loop, we have found our max\n",
    "        end\n",
    "      end\n",
    "      aprev = a_policy[ia_,s]#store the max in aprev for next ia_\n",
    "    end\n",
    "  end\n",
    "  return V,a_policy\n",
    "end;"
   ]
  },
  {
   "cell_type": "markdown",
   "metadata": {},
   "source": [
    "Create function `solveBellman` that applies the Bellman mapping iteratively until convergence. "
   ]
  },
  {
   "cell_type": "code",
   "execution_count": 8,
   "metadata": {
    "ExecuteTime": {
     "end_time": "2021-05-25T22:53:16.502000-07:00",
     "start_time": "2021-05-26T05:53:16.487Z"
    }
   },
   "outputs": [],
   "source": [
    "\"\"\"\n",
    "  solveBellman(agent::Agent,V0,ϵ=1e-6)\n",
    "\n",
    "Solves the bellman equation for a given guess of V0 using iterateBellman\n",
    "\"\"\"\n",
    "function solveBellman(agent::Agent,V0,ϵ=1e-6)\n",
    "  Vcont = V0\n",
    "  a_policy = similar(V0,Int)\n",
    "  diff = 1.\n",
    "\n",
    "  while diff > ϵ\n",
    "    V,a_policy = iterateBellman(agent,Vcont)\n",
    "    diff = norm((V-Vcont)[:],Inf)\n",
    "    Vcont = V\n",
    "  end\n",
    "  return Vcont,a_policy\n",
    "end;"
   ]
  },
  {
   "cell_type": "code",
   "execution_count": 9,
   "metadata": {
    "ExecuteTime": {
     "end_time": "2021-05-25T22:53:18.720000-07:00",
     "start_time": "2021-05-26T05:53:18.712Z"
    }
   },
   "outputs": [],
   "source": [
    "\"\"\"\n",
    "  solveBellman_alt(agent::Agent,V0,ϵ=1e-6)\n",
    "\n",
    "Solves the bellman equation for a given guess of V0 using iterateBellman_alt\n",
    "\"\"\"\n",
    "function solveBellman_alt(agent::Agent,V0,ϵ=1e-6)\n",
    "  Vcont = V0\n",
    "  a_policy = similar(V0,Int)\n",
    "  diff = 1.\n",
    "\n",
    "  while diff > ϵ\n",
    "    V,a_policy = iterateBellman_alt(agent,Vcont)\n",
    "    diff = norm((V-Vcont)[:],Inf)\n",
    "    Vcont = V\n",
    "  end\n",
    "  return Vcont,a_policy\n",
    "end;"
   ]
  },
  {
   "cell_type": "markdown",
   "metadata": {},
   "source": [
    "Now let's create a function `constructTransitionMatrix` that... constructs the transition matrix."
   ]
  },
  {
   "cell_type": "code",
   "execution_count": 10,
   "metadata": {
    "ExecuteTime": {
     "end_time": "2021-05-25T22:53:20.723000-07:00",
     "start_time": "2021-05-26T05:53:20.715Z"
    }
   },
   "outputs": [],
   "source": [
    "function constructTransitionMatrix(agent::Agent,a_policy)\n",
    "  @unpack π,agrid = agent\n",
    "\n",
    "  N = length(agrid)\n",
    "  S = length(π)\n",
    "\n",
    "  H = spzeros(N*S,N*S) #sparse matrix to save on space\n",
    "  for n_ in 1:N\n",
    "    for s in 1:S\n",
    "      i_ = n_+N*(s-1) # index for ia_,s\n",
    "      n = a_policy[n_,s]\n",
    "      for sprime in 1:S\n",
    "        i = n+N*(sprime-1)\n",
    "        #probability of transitioning from state ia_,s to ia,sprime\n",
    "        H[i_,i] = π[sprime]\n",
    "      end\n",
    "    end\n",
    "  end\n",
    "  return H\n",
    "end;"
   ]
  },
  {
   "cell_type": "markdown",
   "metadata": {},
   "source": [
    "We then create a function `find_stationary_distribution` that updates the transition matrix given a uniform initial distribution until it converges to a stationary distribution (represented by a vector)."
   ]
  },
  {
   "cell_type": "code",
   "execution_count": 11,
   "metadata": {
    "ExecuteTime": {
     "end_time": "2021-05-25T22:53:22.545000-07:00",
     "start_time": "2021-05-26T05:53:22.538Z"
    }
   },
   "outputs": [],
   "source": [
    "function find_stationary_distribution(agent::Agent,a_policy)\n",
    "  H = constructTransitionMatrix(agent,a_policy)\n",
    "  N = size(H)[1]\n",
    "  π0 = ones(1,N)/N\n",
    "  diff = 1.\n",
    "  while diff > 1e-10\n",
    "    π1 = π0*H\n",
    "    diff = norm(π1-π0,Inf)\n",
    "    π0 = π1\n",
    "  end\n",
    "\n",
    "  return π0\n",
    "end;"
   ]
  },
  {
   "cell_type": "markdown",
   "metadata": {},
   "source": [
    "Lastly, we create a function `computeassetdemand` that solves for the asset demand in the stationary equilibrium."
   ]
  },
  {
   "cell_type": "code",
   "execution_count": 12,
   "metadata": {
    "ExecuteTime": {
     "end_time": "2021-05-25T22:53:24.796000-07:00",
     "start_time": "2021-05-26T05:53:24.788Z"
    }
   },
   "outputs": [],
   "source": [
    "\"\"\"\n",
    "  computeassetdemand(agent::Agent,r)\n",
    "\n",
    "Computes asset demanded in steady state at interest rate r and\n",
    "wage w\n",
    "\"\"\"\n",
    "function computeassetdemand(agent::Agent,r,w)\n",
    "  agent.r = r\n",
    "  agent.w = w\n",
    "\n",
    "  N = length(agent.agrid)\n",
    "  S = length(agent.e)\n",
    "  V0 = zeros(N,S)\n",
    "\n",
    "  V,a_policy = solveBellman_alt(agent,V0)\n",
    "  λss = find_stationary_distribution(agent,a_policy)\n",
    "\n",
    "  A = 0.\n",
    "  for n in 1:N\n",
    "    for s in 1:S\n",
    "      i = n + (s-1)*N\n",
    "      A  = A + λss[i] * agent.agrid[n]\n",
    "    end\n",
    "  end\n",
    "\n",
    "  λss = reshape(λss,N,S) #λss[ia_,s] is the fraction of agents with assets agrid[ia]\n",
    "  #and productivity e[s]\n",
    "\n",
    "  return dot(agent.agrid,sum(λss,dims=2)) #agrid*πss gives average assets for each productivity\n",
    "end;"
   ]
  },
  {
   "cell_type": "markdown",
   "metadata": {},
   "source": [
    "---\n",
    "\n",
    "## Analysis"
   ]
  },
  {
   "cell_type": "markdown",
   "metadata": {},
   "source": [
    "Let's use our code to solve for the equilibrum asset demand."
   ]
  },
  {
   "cell_type": "code",
   "execution_count": 13,
   "metadata": {
    "ExecuteTime": {
     "end_time": "2021-05-25T22:53:29.878000-07:00",
     "start_time": "2021-05-26T05:53:27.623Z"
    }
   },
   "outputs": [
    {
     "data": {
      "text/plain": [
       "0.00042094784010208216"
      ]
     },
     "execution_count": 13,
     "metadata": {},
     "output_type": "execute_result"
    }
   ],
   "source": [
    "agent = Agent(2.,0.96,.02,1.,[.8,1.,1.2],ones(3)/3,LinRange(-.5,25.,1000))\n",
    "computeassetdemand(agent,.03435,1.)"
   ]
  },
  {
   "cell_type": "code",
   "execution_count": 44,
   "metadata": {
    "ExecuteTime": {
     "end_time": "2021-05-25T23:18:01.678000-07:00",
     "start_time": "2021-05-26T06:17:30.737Z"
    }
   },
   "outputs": [],
   "source": [
    "N = 10\n",
    "M = 3\n",
    "Σ = LinRange(2.,50.,N)\n",
    "Φ = LinRange(-1.0,-0.1,M)\n",
    "A = zeros(N,M)\n",
    "\n",
    "for i in 1:N\n",
    "    for j in 1:M\n",
    "        agent = Agent(Σ[i],0.96,0.02,1.,[.8,1.,1.2],ones(3)/3,LinRange(Φ[j],25.,1000))\n",
    "        A[i,j] = computeassetdemand(agent,.03435,1.)\n",
    "    end \n",
    "end"
   ]
  },
  {
   "cell_type": "code",
   "execution_count": 45,
   "metadata": {
    "ExecuteTime": {
     "end_time": "2021-05-25T23:18:01.749000-07:00",
     "start_time": "2021-05-26T06:17:32.335Z"
    }
   },
   "outputs": [
    {
     "data": {
      "image/svg+xml": [
       "<?xml version=\"1.0\" encoding=\"utf-8\"?>\n",
       "<svg xmlns=\"http://www.w3.org/2000/svg\" xmlns:xlink=\"http://www.w3.org/1999/xlink\" width=\"600\" height=\"400\" viewBox=\"0 0 2400 1600\">\n",
       "<defs>\n",
       "  <clipPath id=\"clip680\">\n",
       "    <rect x=\"0\" y=\"0\" width=\"2400\" height=\"1600\"/>\n",
       "  </clipPath>\n",
       "</defs>\n",
       "<path clip-path=\"url(#clip680)\" d=\"\n",
       "M0 1600 L2400 1600 L2400 0 L0 0  Z\n",
       "  \" fill=\"#ffffff\" fill-rule=\"evenodd\" fill-opacity=\"1\"/>\n",
       "<defs>\n",
       "  <clipPath id=\"clip681\">\n",
       "    <rect x=\"480\" y=\"0\" width=\"1681\" height=\"1600\"/>\n",
       "  </clipPath>\n",
       "</defs>\n",
       "<defs>\n",
       "  <clipPath id=\"clip682\">\n",
       "    <rect x=\"195\" y=\"47\" width=\"2159\" height=\"1381\"/>\n",
       "  </clipPath>\n",
       "</defs>\n",
       "<path clip-path=\"url(#clip680)\" d=\"\n",
       "M195.032 1427.37 L2352.76 1427.37 L2352.76 47.2441 L195.032 47.2441  Z\n",
       "  \" fill=\"#ffffff\" fill-rule=\"evenodd\" fill-opacity=\"1\"/>\n",
       "<polyline clip-path=\"url(#clip682)\" style=\"stroke:#000000; stroke-width:2; stroke-opacity:0.1; fill:none\" points=\"\n",
       "  595.364,1427.37 595.364,47.2441 \n",
       "  \"/>\n",
       "<polyline clip-path=\"url(#clip682)\" style=\"stroke:#000000; stroke-width:2; stroke-opacity:0.1; fill:none\" points=\"\n",
       "  1019.45,1427.37 1019.45,47.2441 \n",
       "  \"/>\n",
       "<polyline clip-path=\"url(#clip682)\" style=\"stroke:#000000; stroke-width:2; stroke-opacity:0.1; fill:none\" points=\"\n",
       "  1443.53,1427.37 1443.53,47.2441 \n",
       "  \"/>\n",
       "<polyline clip-path=\"url(#clip682)\" style=\"stroke:#000000; stroke-width:2; stroke-opacity:0.1; fill:none\" points=\"\n",
       "  1867.61,1427.37 1867.61,47.2441 \n",
       "  \"/>\n",
       "<polyline clip-path=\"url(#clip682)\" style=\"stroke:#000000; stroke-width:2; stroke-opacity:0.1; fill:none\" points=\"\n",
       "  2291.69,1427.37 2291.69,47.2441 \n",
       "  \"/>\n",
       "<polyline clip-path=\"url(#clip680)\" style=\"stroke:#000000; stroke-width:4; stroke-opacity:1; fill:none\" points=\"\n",
       "  195.032,1427.37 2352.76,1427.37 \n",
       "  \"/>\n",
       "<polyline clip-path=\"url(#clip680)\" style=\"stroke:#000000; stroke-width:4; stroke-opacity:1; fill:none\" points=\"\n",
       "  595.364,1427.37 595.364,1410.81 \n",
       "  \"/>\n",
       "<polyline clip-path=\"url(#clip680)\" style=\"stroke:#000000; stroke-width:4; stroke-opacity:1; fill:none\" points=\"\n",
       "  1019.45,1427.37 1019.45,1410.81 \n",
       "  \"/>\n",
       "<polyline clip-path=\"url(#clip680)\" style=\"stroke:#000000; stroke-width:4; stroke-opacity:1; fill:none\" points=\"\n",
       "  1443.53,1427.37 1443.53,1410.81 \n",
       "  \"/>\n",
       "<polyline clip-path=\"url(#clip680)\" style=\"stroke:#000000; stroke-width:4; stroke-opacity:1; fill:none\" points=\"\n",
       "  1867.61,1427.37 1867.61,1410.81 \n",
       "  \"/>\n",
       "<polyline clip-path=\"url(#clip680)\" style=\"stroke:#000000; stroke-width:4; stroke-opacity:1; fill:none\" points=\"\n",
       "  2291.69,1427.37 2291.69,1410.81 \n",
       "  \"/>\n",
       "<path clip-path=\"url(#clip680)\" d=\"M 0 0 M572.239 1484.1 L579.878 1484.1 L579.878 1457.74 L571.568 1459.4 L571.568 1455.15 L579.832 1453.48 L584.508 1453.48 L584.508 1484.1 L592.146 1484.1 L592.146 1488.04 L572.239 1488.04 L572.239 1484.1 Z\" fill=\"#000000\" fill-rule=\"evenodd\" fill-opacity=\"1\" /><path clip-path=\"url(#clip680)\" d=\"M 0 0 M607.216 1456.56 Q603.605 1456.56 601.776 1460.12 Q599.971 1463.66 599.971 1470.79 Q599.971 1477.9 601.776 1481.46 Q603.605 1485.01 607.216 1485.01 Q610.85 1485.01 612.656 1481.46 Q614.484 1477.9 614.484 1470.79 Q614.484 1463.66 612.656 1460.12 Q610.85 1456.56 607.216 1456.56 M607.216 1452.85 Q613.026 1452.85 616.082 1457.46 Q619.16 1462.04 619.16 1470.79 Q619.16 1479.52 616.082 1484.13 Q613.026 1488.71 607.216 1488.71 Q601.406 1488.71 598.327 1484.13 Q595.271 1479.52 595.271 1470.79 Q595.271 1462.04 598.327 1457.46 Q601.406 1452.85 607.216 1452.85 Z\" fill=\"#000000\" fill-rule=\"evenodd\" fill-opacity=\"1\" /><path clip-path=\"url(#clip680)\" d=\"M 0 0 M1000.59 1484.1 L1016.91 1484.1 L1016.91 1488.04 L994.966 1488.04 L994.966 1484.1 Q997.628 1481.35 1002.21 1476.72 Q1006.82 1472.07 1008 1470.72 Q1010.24 1468.2 1011.12 1466.46 Q1012.03 1464.71 1012.03 1463.02 Q1012.03 1460.26 1010.08 1458.52 Q1008.16 1456.79 1005.06 1456.79 Q1002.86 1456.79 1000.41 1457.55 Q997.975 1458.32 995.198 1459.87 L995.198 1455.15 Q998.022 1454.01 1000.48 1453.43 Q1002.93 1452.85 1004.97 1452.85 Q1010.34 1452.85 1013.53 1455.54 Q1016.73 1458.22 1016.73 1462.71 Q1016.73 1464.84 1015.92 1466.77 Q1015.13 1468.66 1013.02 1471.26 Q1012.44 1471.93 1009.34 1475.15 Q1006.24 1478.34 1000.59 1484.1 Z\" fill=\"#000000\" fill-rule=\"evenodd\" fill-opacity=\"1\" /><path clip-path=\"url(#clip680)\" d=\"M 0 0 M1031.98 1456.56 Q1028.37 1456.56 1026.54 1460.12 Q1024.73 1463.66 1024.73 1470.79 Q1024.73 1477.9 1026.54 1481.46 Q1028.37 1485.01 1031.98 1485.01 Q1035.61 1485.01 1037.42 1481.46 Q1039.25 1477.9 1039.25 1470.79 Q1039.25 1463.66 1037.42 1460.12 Q1035.61 1456.56 1031.98 1456.56 M1031.98 1452.85 Q1037.79 1452.85 1040.85 1457.46 Q1043.92 1462.04 1043.92 1470.79 Q1043.92 1479.52 1040.85 1484.13 Q1037.79 1488.71 1031.98 1488.71 Q1026.17 1488.71 1023.09 1484.13 Q1020.04 1479.52 1020.04 1470.79 Q1020.04 1462.04 1023.09 1457.46 Q1026.17 1452.85 1031.98 1452.85 Z\" fill=\"#000000\" fill-rule=\"evenodd\" fill-opacity=\"1\" /><path clip-path=\"url(#clip680)\" d=\"M 0 0 M1434.27 1469.4 Q1437.62 1470.12 1439.5 1472.39 Q1441.4 1474.66 1441.4 1477.99 Q1441.4 1483.11 1437.88 1485.91 Q1434.36 1488.71 1427.88 1488.71 Q1425.7 1488.71 1423.39 1488.27 Q1421.1 1487.85 1418.64 1487 L1418.64 1482.48 Q1420.59 1483.62 1422.9 1484.2 Q1425.22 1484.77 1427.74 1484.77 Q1432.14 1484.77 1434.43 1483.04 Q1436.74 1481.3 1436.74 1477.99 Q1436.74 1474.94 1434.59 1473.22 Q1432.46 1471.49 1428.64 1471.49 L1424.61 1471.49 L1424.61 1467.65 L1428.83 1467.65 Q1432.28 1467.65 1434.1 1466.28 Q1435.93 1464.89 1435.93 1462.3 Q1435.93 1459.64 1434.04 1458.22 Q1432.16 1456.79 1428.64 1456.79 Q1426.72 1456.79 1424.52 1457.21 Q1422.32 1457.62 1419.68 1458.5 L1419.68 1454.33 Q1422.35 1453.59 1424.66 1453.22 Q1427 1452.85 1429.06 1452.85 Q1434.38 1452.85 1437.48 1455.28 Q1440.59 1457.69 1440.59 1461.81 Q1440.59 1464.68 1438.94 1466.67 Q1437.3 1468.64 1434.27 1469.4 Z\" fill=\"#000000\" fill-rule=\"evenodd\" fill-opacity=\"1\" /><path clip-path=\"url(#clip680)\" d=\"M 0 0 M1456.47 1456.56 Q1452.85 1456.56 1451.03 1460.12 Q1449.22 1463.66 1449.22 1470.79 Q1449.22 1477.9 1451.03 1481.46 Q1452.85 1485.01 1456.47 1485.01 Q1460.1 1485.01 1461.91 1481.46 Q1463.73 1477.9 1463.73 1470.79 Q1463.73 1463.66 1461.91 1460.12 Q1460.1 1456.56 1456.47 1456.56 M1456.47 1452.85 Q1462.28 1452.85 1465.33 1457.46 Q1468.41 1462.04 1468.41 1470.79 Q1468.41 1479.52 1465.33 1484.13 Q1462.28 1488.71 1456.47 1488.71 Q1450.66 1488.71 1447.58 1484.13 Q1444.52 1479.52 1444.52 1470.79 Q1444.52 1462.04 1447.58 1457.46 Q1450.66 1452.85 1456.47 1452.85 Z\" fill=\"#000000\" fill-rule=\"evenodd\" fill-opacity=\"1\" /><path clip-path=\"url(#clip680)\" d=\"M 0 0 M1857.11 1457.55 L1845.3 1476 L1857.11 1476 L1857.11 1457.55 M1855.88 1453.48 L1861.76 1453.48 L1861.76 1476 L1866.69 1476 L1866.69 1479.89 L1861.76 1479.89 L1861.76 1488.04 L1857.11 1488.04 L1857.11 1479.89 L1841.51 1479.89 L1841.51 1475.38 L1855.88 1453.48 Z\" fill=\"#000000\" fill-rule=\"evenodd\" fill-opacity=\"1\" /><path clip-path=\"url(#clip680)\" d=\"M 0 0 M1881.76 1456.56 Q1878.15 1456.56 1876.32 1460.12 Q1874.52 1463.66 1874.52 1470.79 Q1874.52 1477.9 1876.32 1481.46 Q1878.15 1485.01 1881.76 1485.01 Q1885.4 1485.01 1887.2 1481.46 Q1889.03 1477.9 1889.03 1470.79 Q1889.03 1463.66 1887.2 1460.12 Q1885.4 1456.56 1881.76 1456.56 M1881.76 1452.85 Q1887.57 1452.85 1890.63 1457.46 Q1893.71 1462.04 1893.71 1470.79 Q1893.71 1479.52 1890.63 1484.13 Q1887.57 1488.71 1881.76 1488.71 Q1875.95 1488.71 1872.87 1484.13 Q1869.82 1479.52 1869.82 1470.79 Q1869.82 1462.04 1872.87 1457.46 Q1875.95 1452.85 1881.76 1452.85 Z\" fill=\"#000000\" fill-rule=\"evenodd\" fill-opacity=\"1\" /><path clip-path=\"url(#clip680)\" d=\"M 0 0 M2268.46 1453.48 L2286.82 1453.48 L2286.82 1457.41 L2272.74 1457.41 L2272.74 1465.89 Q2273.76 1465.54 2274.78 1465.38 Q2275.8 1465.19 2276.82 1465.19 Q2282.6 1465.19 2285.98 1468.36 Q2289.36 1471.53 2289.36 1476.95 Q2289.36 1482.53 2285.89 1485.63 Q2282.42 1488.71 2276.1 1488.71 Q2273.92 1488.71 2271.65 1488.34 Q2269.41 1487.97 2267 1487.23 L2267 1482.53 Q2269.08 1483.66 2271.31 1484.22 Q2273.53 1484.77 2276.01 1484.77 Q2280.01 1484.77 2282.35 1482.67 Q2284.69 1480.56 2284.69 1476.95 Q2284.69 1473.34 2282.35 1471.23 Q2280.01 1469.13 2276.01 1469.13 Q2274.13 1469.13 2272.26 1469.54 Q2270.4 1469.96 2268.46 1470.84 L2268.46 1453.48 Z\" fill=\"#000000\" fill-rule=\"evenodd\" fill-opacity=\"1\" /><path clip-path=\"url(#clip680)\" d=\"M 0 0 M2304.43 1456.56 Q2300.82 1456.56 2298.99 1460.12 Q2297.19 1463.66 2297.19 1470.79 Q2297.19 1477.9 2298.99 1481.46 Q2300.82 1485.01 2304.43 1485.01 Q2308.07 1485.01 2309.87 1481.46 Q2311.7 1477.9 2311.7 1470.79 Q2311.7 1463.66 2309.87 1460.12 Q2308.07 1456.56 2304.43 1456.56 M2304.43 1452.85 Q2310.24 1452.85 2313.3 1457.46 Q2316.38 1462.04 2316.38 1470.79 Q2316.38 1479.52 2313.3 1484.13 Q2310.24 1488.71 2304.43 1488.71 Q2298.62 1488.71 2295.54 1484.13 Q2292.49 1479.52 2292.49 1470.79 Q2292.49 1462.04 2295.54 1457.46 Q2298.62 1452.85 2304.43 1452.85 Z\" fill=\"#000000\" fill-rule=\"evenodd\" fill-opacity=\"1\" /><path clip-path=\"url(#clip680)\" d=\"M 0 0 M1011.32 1557.46 L1011.32 1555.43 L1012.89 1555.43 Q1016.47 1555.43 1017.27 1554.85 Q1018.11 1554.24 1018.11 1552.3 L1018.11 1517.55 Q1018.11 1515.65 1017.27 1515.07 Q1016.44 1514.46 1012.89 1514.46 L1011.32 1514.46 L1011.32 1512.4 L1032.02 1512.4 Q1039.21 1512.4 1044.2 1515.94 Q1049.22 1519.45 1049.22 1524.28 Q1049.22 1527.99 1045.97 1530.89 Q1042.72 1533.79 1037.69 1535.04 Q1044.23 1537.3 1045.74 1542.67 L1046.58 1547.96 Q1046.84 1549.86 1047 1550.82 Q1047.19 1551.79 1047.48 1553.11 Q1047.77 1554.43 1048.06 1555.07 Q1048.38 1555.69 1048.84 1556.36 Q1049.29 1557.01 1049.87 1557.23 Q1050.48 1557.46 1051.28 1557.46 Q1052.8 1557.46 1054.09 1556.1 Q1055.37 1554.75 1055.63 1551.6 Q1055.76 1550.53 1056.44 1550.53 Q1057.27 1550.53 1057.27 1551.6 Q1057.27 1552.53 1057.02 1553.62 Q1056.76 1554.69 1056.11 1555.94 Q1055.5 1557.2 1054.15 1558.04 Q1052.8 1558.91 1051.03 1558.91 Q1045.87 1558.91 1042.72 1556.14 Q1041.4 1554.94 1040.78 1553.4 Q1040.2 1551.85 1040.11 1550.63 Q1040.01 1549.41 1040.01 1546.7 Q1040.01 1542.87 1039.59 1541.19 Q1039.21 1539.52 1037.5 1537.88 Q1035.18 1535.62 1031.35 1535.62 L1023.78 1535.62 L1023.78 1552.3 Q1023.78 1554.2 1024.58 1554.82 Q1025.42 1555.43 1029 1555.43 L1030.57 1555.43 L1030.57 1557.46 Q1028.19 1557.26 1020.95 1557.26 Q1013.7 1557.26 1011.32 1557.46 M1023.78 1534.17 L1031.09 1534.17 Q1034.6 1534.17 1036.95 1533.33 Q1039.33 1532.46 1040.46 1530.92 Q1041.59 1529.37 1042.01 1527.83 Q1042.43 1526.25 1042.43 1524.28 Q1042.43 1521.97 1041.91 1520.23 Q1041.4 1518.49 1040.27 1517.46 Q1039.14 1516.43 1038.01 1515.78 Q1036.89 1515.11 1035.15 1514.85 Q1033.41 1514.59 1032.22 1514.53 Q1031.03 1514.46 1029.13 1514.46 Q1025.91 1514.46 1025.23 1514.59 Q1024.49 1514.65 1024.2 1515.01 Q1023.91 1515.36 1023.84 1515.78 Q1023.78 1516.17 1023.78 1517.1 L1023.78 1534.17 Z\" fill=\"#000000\" fill-rule=\"evenodd\" fill-opacity=\"1\" /><path clip-path=\"url(#clip680)\" d=\"M 0 0 M1059.42 1557.46 L1059.42 1555.43 Q1062.93 1555.43 1063.74 1555.01 Q1064.54 1554.56 1064.54 1552.43 L1064.54 1534.69 Q1064.54 1532.24 1063.7 1531.66 Q1062.9 1531.08 1059.68 1531.08 L1059.68 1529.02 L1068.89 1528.31 L1068.89 1552.5 Q1068.89 1554.46 1069.6 1554.94 Q1070.31 1555.43 1073.53 1555.43 L1073.53 1557.46 Q1066.8 1557.26 1066.67 1557.26 Q1065.77 1557.26 1059.42 1557.46 M1062.19 1516.81 Q1062.19 1515.49 1063.19 1514.43 Q1064.22 1513.33 1065.67 1513.33 Q1067.12 1513.33 1068.15 1514.33 Q1069.18 1515.3 1069.18 1516.84 Q1069.18 1518.36 1068.15 1519.36 Q1067.12 1520.32 1065.67 1520.32 Q1064.16 1520.32 1063.16 1519.26 Q1062.19 1518.2 1062.19 1516.81 Z\" fill=\"#000000\" fill-rule=\"evenodd\" fill-opacity=\"1\" /><path clip-path=\"url(#clip680)\" d=\"M 0 0 M1077.52 1556.59 L1077.52 1547.89 Q1077.52 1547.15 1077.55 1546.89 Q1077.59 1546.64 1077.78 1546.44 Q1077.97 1546.25 1078.36 1546.25 Q1078.81 1546.25 1078.97 1546.44 Q1079.16 1546.64 1079.29 1547.38 Q1080.29 1551.92 1082.42 1554.33 Q1084.57 1556.72 1088.47 1556.72 Q1092.17 1556.72 1094.04 1555.07 Q1095.91 1553.43 1095.91 1550.73 Q1095.91 1545.89 1089.05 1544.67 Q1085.09 1543.87 1083.45 1543.35 Q1081.8 1542.8 1080.35 1541.61 Q1077.52 1539.29 1077.52 1536.01 Q1077.52 1532.72 1080 1530.31 Q1082.51 1527.89 1088.05 1527.89 Q1091.76 1527.89 1094.27 1529.76 Q1095.01 1529.18 1095.4 1528.7 Q1096.26 1527.89 1096.72 1527.89 Q1097.23 1527.89 1097.33 1528.25 Q1097.42 1528.57 1097.42 1529.5 L1097.42 1536.14 Q1097.42 1536.88 1097.39 1537.13 Q1097.36 1537.39 1097.17 1537.59 Q1096.97 1537.75 1096.55 1537.75 Q1095.81 1537.75 1095.78 1537.13 Q1095.27 1529.15 1088.05 1529.15 Q1084.16 1529.15 1082.42 1530.66 Q1080.68 1532.14 1080.68 1534.17 Q1080.68 1535.3 1081.19 1536.17 Q1081.74 1537.01 1082.42 1537.52 Q1083.12 1538 1084.41 1538.49 Q1085.7 1538.94 1086.47 1539.1 Q1087.28 1539.26 1088.79 1539.58 Q1094.07 1540.58 1096.3 1542.74 Q1099.07 1545.51 1099.07 1549.02 Q1099.07 1552.92 1096.43 1555.56 Q1093.78 1558.2 1088.47 1558.2 Q1084.19 1558.2 1081.19 1555.33 Q1080.81 1555.72 1080.52 1556.07 Q1080.23 1556.39 1080.1 1556.52 Q1080 1556.65 1079.97 1556.75 Q1079.94 1556.81 1079.87 1556.88 Q1078.55 1558.2 1078.23 1558.2 Q1077.71 1558.2 1077.62 1557.84 Q1077.52 1557.52 1077.52 1556.59 Z\" fill=\"#000000\" fill-rule=\"evenodd\" fill-opacity=\"1\" /><path clip-path=\"url(#clip680)\" d=\"M 0 0 M1103.25 1557.46 L1103.25 1555.43 Q1106.76 1555.43 1107.57 1555.01 Q1108.4 1554.56 1108.4 1552.43 L1108.4 1518.13 Q1108.4 1515.69 1107.53 1515.07 Q1106.7 1514.46 1103.25 1514.46 L1103.25 1512.4 L1112.75 1511.69 L1112.75 1543.35 L1122.06 1535.3 Q1123.51 1534.04 1123.51 1532.72 Q1123.51 1531.21 1121.61 1531.08 L1121.61 1529.02 Q1124.38 1529.21 1128.98 1529.21 Q1131.69 1529.21 1133.59 1529.02 L1133.59 1531.08 Q1129.43 1531.27 1125.28 1534.62 Q1124.34 1535.36 1122.12 1537.3 Q1119.93 1539.2 1119.93 1539.39 Q1119.93 1539.45 1120 1539.61 Q1120.09 1539.78 1120.22 1539.9 Q1120.35 1540.03 1120.35 1540.1 L1128.72 1551.92 Q1130.43 1554.3 1131.69 1554.88 Q1132.94 1555.43 1135.13 1555.43 L1135.13 1557.46 Q1132.3 1557.26 1129.37 1557.26 Q1127.79 1557.26 1122.25 1557.46 L1122.25 1555.43 Q1124.63 1555.43 1124.63 1553.88 Q1124.63 1552.82 1119.29 1545.44 Q1118.9 1544.93 1118.03 1543.8 Q1117.23 1542.61 1116.78 1542.03 L1112.56 1545.64 L1112.56 1552.43 Q1112.56 1554.56 1113.36 1555.01 Q1114.2 1555.43 1117.71 1555.43 L1117.71 1557.46 Q1113.75 1557.26 1110.46 1557.26 Q1109.79 1557.26 1103.25 1557.46 Z\" fill=\"#000000\" fill-rule=\"evenodd\" fill-opacity=\"1\" /><path clip-path=\"url(#clip680)\" d=\"M 0 0 M1159.43 1557.46 L1159.43 1555.43 Q1165.29 1555.3 1166.81 1550.98 L1180.46 1511.56 Q1180.72 1510.76 1181.01 1510.5 Q1181.3 1510.24 1182.04 1510.24 Q1182.43 1510.24 1182.65 1510.31 Q1182.91 1510.37 1183.07 1510.6 Q1183.23 1510.82 1183.3 1510.95 Q1183.36 1511.08 1183.55 1511.56 L1197.79 1552.79 Q1198.3 1554.43 1199.37 1554.94 Q1200.43 1555.43 1203.42 1555.43 L1204.58 1555.43 L1204.58 1557.46 Q1200.43 1557.26 1195.95 1557.26 Q1188.84 1557.26 1186.45 1557.46 L1186.45 1555.43 Q1191.93 1555.43 1191.93 1553.43 Q1191.93 1553.3 1191.73 1552.5 L1188.26 1542.42 L1171.96 1542.42 L1168.9 1551.05 Q1168.77 1551.31 1168.77 1552.05 Q1168.77 1553.43 1170.06 1554.43 Q1171.35 1555.43 1173.73 1555.43 L1173.73 1557.46 Q1167.39 1557.26 1166.13 1557.26 Q1163.97 1557.26 1159.43 1557.46 M1172.67 1540.39 L1187.51 1540.39 L1180.08 1518.94 L1172.67 1540.39 Z\" fill=\"#000000\" fill-rule=\"evenodd\" fill-opacity=\"1\" /><path clip-path=\"url(#clip680)\" d=\"M 0 0 M1205.34 1531.08 L1205.34 1529.02 Q1208.3 1529.21 1211.75 1529.21 Q1213 1529.21 1218.93 1529.02 L1218.93 1531.08 Q1215.16 1531.08 1215.16 1532.79 Q1215.16 1533.04 1215.55 1533.91 L1222.95 1552.3 L1229.68 1535.49 Q1230.07 1534.36 1230.07 1533.91 Q1230.07 1532.79 1229.3 1531.98 Q1228.56 1531.14 1226.92 1531.08 L1226.92 1529.02 Q1230.26 1529.21 1232.65 1529.21 Q1235.35 1529.21 1237.58 1529.02 L1237.58 1531.08 Q1235.61 1531.08 1234.23 1531.98 Q1232.84 1532.85 1232.39 1533.62 Q1231.97 1534.36 1231.52 1535.49 L1222.89 1556.94 Q1222.37 1558.2 1221.5 1558.2 Q1220.92 1558.2 1220.67 1557.94 Q1220.44 1557.71 1220.12 1556.94 L1210.62 1533.53 Q1209.97 1531.89 1209.14 1531.5 Q1208.3 1531.08 1205.34 1531.08 Z\" fill=\"#000000\" fill-rule=\"evenodd\" fill-opacity=\"1\" /><path clip-path=\"url(#clip680)\" d=\"M 0 0 M1239.03 1542.93 Q1239.03 1536.72 1243.02 1532.3 Q1247.02 1527.89 1252.75 1527.89 Q1258.55 1527.89 1261.54 1531.66 Q1264.57 1535.43 1264.57 1540.84 Q1264.57 1541.84 1264.31 1542.03 Q1264.05 1542.22 1262.93 1542.22 L1244.51 1542.22 Q1244.51 1548.95 1246.5 1552.11 Q1249.27 1556.52 1253.94 1556.52 Q1254.59 1556.52 1255.36 1556.39 Q1256.13 1556.26 1257.71 1555.72 Q1259.29 1555.14 1260.67 1553.62 Q1262.06 1552.11 1262.86 1549.73 Q1263.06 1548.79 1263.7 1548.83 Q1264.57 1548.83 1264.57 1549.6 Q1264.57 1550.18 1263.93 1551.5 Q1263.31 1552.79 1262.12 1554.33 Q1260.93 1555.88 1258.61 1557.04 Q1256.33 1558.2 1253.56 1558.2 Q1247.76 1558.2 1243.38 1553.82 Q1239.03 1549.41 1239.03 1542.93 M1244.57 1540.84 L1260.22 1540.84 Q1260.22 1539.45 1259.96 1537.91 Q1259.74 1536.36 1259.03 1534.24 Q1258.35 1532.08 1256.74 1530.73 Q1255.13 1529.37 1252.75 1529.37 Q1251.69 1529.37 1250.53 1529.82 Q1249.4 1530.27 1248.02 1531.37 Q1246.63 1532.46 1245.66 1534.94 Q1244.7 1537.42 1244.57 1540.84 Z\" fill=\"#000000\" fill-rule=\"evenodd\" fill-opacity=\"1\" /><path clip-path=\"url(#clip680)\" d=\"M 0 0 M1268.05 1557.46 L1268.05 1555.43 Q1271.56 1555.43 1272.36 1555.01 Q1273.2 1554.56 1273.2 1552.43 L1273.2 1534.75 Q1273.2 1532.3 1272.33 1531.69 Q1271.49 1531.08 1268.05 1531.08 L1268.05 1529.02 L1277.23 1528.31 L1277.23 1535.56 Q1278.16 1532.72 1280.12 1530.53 Q1282.12 1528.31 1285.34 1528.31 Q1287.47 1528.31 1288.82 1529.5 Q1290.2 1530.69 1290.2 1532.34 Q1290.2 1533.79 1289.3 1534.53 Q1288.43 1535.23 1287.37 1535.23 Q1286.18 1535.23 1285.34 1534.49 Q1284.54 1533.72 1284.54 1532.4 Q1284.54 1531.6 1284.89 1530.98 Q1285.28 1530.34 1285.57 1530.11 Q1285.86 1529.89 1286.05 1529.82 Q1285.92 1529.76 1285.34 1529.76 Q1281.7 1529.76 1279.61 1533.4 Q1277.55 1537.01 1277.55 1542.16 L1277.55 1552.3 Q1277.55 1554.2 1278.32 1554.82 Q1279.13 1555.43 1282.57 1555.43 L1283.96 1555.43 L1283.96 1557.46 Q1281.32 1557.26 1275.58 1557.26 Q1274.78 1557.26 1273.52 1557.3 Q1272.27 1557.33 1270.62 1557.39 Q1268.98 1557.46 1268.05 1557.46 Z\" fill=\"#000000\" fill-rule=\"evenodd\" fill-opacity=\"1\" /><path clip-path=\"url(#clip680)\" d=\"M 0 0 M1292.21 1556.59 L1292.21 1547.89 Q1292.21 1547.15 1292.24 1546.89 Q1292.27 1546.64 1292.47 1546.44 Q1292.66 1546.25 1293.05 1546.25 Q1293.5 1546.25 1293.66 1546.44 Q1293.85 1546.64 1293.98 1547.38 Q1294.98 1551.92 1297.1 1554.33 Q1299.26 1556.72 1303.16 1556.72 Q1306.86 1556.72 1308.73 1555.07 Q1310.6 1553.43 1310.6 1550.73 Q1310.6 1545.89 1303.74 1544.67 Q1299.78 1543.87 1298.14 1543.35 Q1296.49 1542.8 1295.04 1541.61 Q1292.21 1539.29 1292.21 1536.01 Q1292.21 1532.72 1294.69 1530.31 Q1297.2 1527.89 1302.74 1527.89 Q1306.44 1527.89 1308.96 1529.76 Q1309.7 1529.18 1310.08 1528.7 Q1310.95 1527.89 1311.4 1527.89 Q1311.92 1527.89 1312.02 1528.25 Q1312.11 1528.57 1312.11 1529.5 L1312.11 1536.14 Q1312.11 1536.88 1312.08 1537.13 Q1312.05 1537.39 1311.85 1537.59 Q1311.66 1537.75 1311.24 1537.75 Q1310.5 1537.75 1310.47 1537.13 Q1309.95 1529.15 1302.74 1529.15 Q1298.84 1529.15 1297.1 1530.66 Q1295.37 1532.14 1295.37 1534.17 Q1295.37 1535.3 1295.88 1536.17 Q1296.43 1537.01 1297.1 1537.52 Q1297.81 1538 1299.1 1538.49 Q1300.39 1538.94 1301.16 1539.1 Q1301.97 1539.26 1303.48 1539.58 Q1308.76 1540.58 1310.99 1542.74 Q1313.75 1545.51 1313.75 1549.02 Q1313.75 1552.92 1311.11 1555.56 Q1308.47 1558.2 1303.16 1558.2 Q1298.88 1558.2 1295.88 1555.33 Q1295.49 1555.72 1295.2 1556.07 Q1294.91 1556.39 1294.79 1556.52 Q1294.69 1556.65 1294.66 1556.75 Q1294.62 1556.81 1294.56 1556.88 Q1293.24 1558.2 1292.92 1558.2 Q1292.4 1558.2 1292.31 1557.84 Q1292.21 1557.52 1292.21 1556.59 Z\" fill=\"#000000\" fill-rule=\"evenodd\" fill-opacity=\"1\" /><path clip-path=\"url(#clip680)\" d=\"M 0 0 M1317.94 1557.46 L1317.94 1555.43 Q1321.45 1555.43 1322.25 1555.01 Q1323.06 1554.56 1323.06 1552.43 L1323.06 1534.69 Q1323.06 1532.24 1322.22 1531.66 Q1321.42 1531.08 1318.2 1531.08 L1318.2 1529.02 L1327.41 1528.31 L1327.41 1552.5 Q1327.41 1554.46 1328.11 1554.94 Q1328.82 1555.43 1332.04 1555.43 L1332.04 1557.46 Q1325.31 1557.26 1325.18 1557.26 Q1324.28 1557.26 1317.94 1557.46 M1320.71 1516.81 Q1320.71 1515.49 1321.71 1514.43 Q1322.74 1513.33 1324.19 1513.33 Q1325.64 1513.33 1326.67 1514.33 Q1327.7 1515.3 1327.7 1516.84 Q1327.7 1518.36 1326.67 1519.36 Q1325.64 1520.32 1324.19 1520.32 Q1322.67 1520.32 1321.67 1519.26 Q1320.71 1518.2 1320.71 1516.81 Z\" fill=\"#000000\" fill-rule=\"evenodd\" fill-opacity=\"1\" /><path clip-path=\"url(#clip680)\" d=\"M 0 0 M1340.39 1553.91 Q1336.04 1549.6 1336.04 1543.35 Q1336.04 1537.07 1340.29 1532.5 Q1344.57 1527.89 1350.69 1527.89 Q1356.68 1527.89 1360.96 1532.46 Q1365.28 1537.01 1365.28 1543.35 Q1365.28 1549.57 1360.93 1553.88 Q1356.62 1558.2 1350.63 1558.2 Q1344.77 1558.2 1340.39 1553.91 M1341.51 1542.8 Q1341.51 1549.21 1343.19 1552.11 Q1345.76 1556.52 1350.69 1556.52 Q1353.14 1556.52 1355.17 1555.2 Q1357.23 1553.88 1358.36 1551.66 Q1359.81 1548.76 1359.81 1542.8 Q1359.81 1536.46 1358.07 1533.66 Q1355.49 1529.37 1350.63 1529.37 Q1348.5 1529.37 1346.41 1530.5 Q1344.35 1531.6 1343.09 1533.79 Q1341.51 1536.68 1341.51 1542.8 Z\" fill=\"#000000\" fill-rule=\"evenodd\" fill-opacity=\"1\" /><path clip-path=\"url(#clip680)\" d=\"M 0 0 M1368.72 1557.46 L1368.72 1555.43 Q1372.24 1555.43 1373.04 1555.01 Q1373.85 1554.56 1373.85 1552.43 L1373.85 1534.75 Q1373.85 1532.3 1372.98 1531.69 Q1372.14 1531.08 1368.72 1531.08 L1368.72 1529.02 L1378 1528.31 L1378 1535.23 Q1381.09 1528.31 1387.76 1528.31 Q1392.72 1528.31 1394.68 1530.76 Q1396.13 1532.4 1396.42 1534.24 Q1396.74 1536.07 1396.74 1540.84 L1396.74 1553.43 Q1396.81 1554.82 1397.87 1555.14 Q1398.93 1555.43 1401.9 1555.43 L1401.9 1557.46 Q1395.17 1557.26 1394.49 1557.26 Q1393.97 1557.26 1387.05 1557.46 L1387.05 1555.43 Q1390.56 1555.43 1391.37 1555.01 Q1392.2 1554.56 1392.2 1552.43 L1392.2 1537.07 Q1392.2 1533.72 1391.17 1531.76 Q1390.14 1529.76 1387.31 1529.76 Q1383.89 1529.76 1381.16 1532.63 Q1378.42 1535.49 1378.42 1540.32 L1378.42 1552.43 Q1378.42 1554.56 1379.22 1555.01 Q1380.06 1555.43 1383.54 1555.43 L1383.54 1557.46 Q1376.81 1557.26 1376.16 1557.26 Q1375.65 1557.26 1368.72 1557.46 Z\" fill=\"#000000\" fill-rule=\"evenodd\" fill-opacity=\"1\" /><path clip-path=\"url(#clip680)\" d=\"M 0 0 M1448.46 1540.97 Q1448.46 1529.82 1452.62 1520.84 Q1454.39 1517.07 1456.87 1513.91 Q1459.35 1510.76 1460.99 1509.37 Q1462.63 1507.99 1463.09 1507.99 Q1463.73 1507.99 1463.76 1508.63 Q1463.76 1508.95 1462.89 1509.76 Q1452.26 1520.58 1452.3 1540.97 Q1452.3 1561.42 1462.63 1571.82 Q1463.76 1572.95 1463.76 1573.3 Q1463.76 1573.95 1463.09 1573.95 Q1462.63 1573.95 1461.06 1572.63 Q1459.48 1571.31 1457.03 1568.28 Q1454.58 1565.25 1452.81 1561.55 Q1448.46 1552.56 1448.46 1540.97 Z\" fill=\"#000000\" fill-rule=\"evenodd\" fill-opacity=\"1\" /><path clip-path=\"url(#clip680)\" d=\"M 0 0 M1508.69 1530.6 Q1508.69 1532.85 1505.47 1532.85 L1498.22 1532.85 Q1500.25 1535.75 1500.25 1540.03 Q1500.25 1543.7 1498.74 1547.15 Q1497.26 1550.56 1494.87 1552.95 Q1492.52 1555.33 1489.56 1556.78 Q1486.6 1558.2 1483.7 1558.2 Q1479.28 1558.2 1476.55 1555.2 Q1473.81 1552.21 1473.81 1547.76 Q1473.81 1545.41 1474.62 1542.8 Q1475.45 1540.19 1477.03 1537.78 Q1478.61 1535.33 1480.67 1533.37 Q1482.76 1531.4 1485.47 1530.21 Q1488.21 1529.02 1491.07 1529.02 L1506.11 1529.02 Q1506.92 1529.02 1507.34 1529.08 Q1507.79 1529.12 1508.24 1529.5 Q1508.69 1529.86 1508.69 1530.6 M1496.03 1539.26 Q1496.03 1538.49 1495.94 1537.81 Q1495.84 1537.1 1495.48 1536.17 Q1495.13 1535.2 1494.52 1534.53 Q1493.91 1533.82 1492.71 1533.33 Q1491.56 1532.85 1489.98 1532.85 Q1487.76 1532.85 1485.31 1534.08 Q1482.86 1535.3 1480.99 1538.33 Q1479.45 1540.9 1478.67 1544.25 Q1477.9 1547.6 1477.9 1549.6 Q1477.9 1553.01 1479.54 1554.88 Q1481.22 1556.72 1483.76 1556.72 Q1485.85 1556.72 1488.24 1555.3 Q1490.62 1553.85 1492.46 1551.11 Q1494.07 1548.73 1495.03 1545.25 Q1496.03 1541.77 1496.03 1539.26 Z\" fill=\"#000000\" fill-rule=\"evenodd\" fill-opacity=\"1\" /><path clip-path=\"url(#clip680)\" d=\"M 0 0 M1511.13 1573.3 Q1511.13 1572.98 1511.96 1572.17 Q1522.59 1561.35 1522.59 1540.97 Q1522.59 1520.52 1512.38 1510.18 Q1511.13 1508.99 1511.13 1508.63 Q1511.13 1507.99 1511.77 1507.99 Q1512.22 1507.99 1513.8 1509.31 Q1515.41 1510.63 1517.82 1513.66 Q1520.27 1516.68 1522.08 1520.39 Q1526.42 1529.37 1526.42 1540.97 Q1526.42 1552.11 1522.27 1561.1 Q1520.5 1564.86 1518.02 1568.02 Q1515.54 1571.18 1513.9 1572.56 Q1512.25 1573.95 1511.77 1573.95 Q1511.13 1573.95 1511.13 1573.3 Z\" fill=\"#000000\" fill-rule=\"evenodd\" fill-opacity=\"1\" /><polyline clip-path=\"url(#clip682)\" style=\"stroke:#000000; stroke-width:2; stroke-opacity:0.1; fill:none\" points=\"\n",
       "  195.032,1361.44 2352.76,1361.44 \n",
       "  \"/>\n",
       "<polyline clip-path=\"url(#clip682)\" style=\"stroke:#000000; stroke-width:2; stroke-opacity:0.1; fill:none\" points=\"\n",
       "  195.032,1089.26 2352.76,1089.26 \n",
       "  \"/>\n",
       "<polyline clip-path=\"url(#clip682)\" style=\"stroke:#000000; stroke-width:2; stroke-opacity:0.1; fill:none\" points=\"\n",
       "  195.032,817.081 2352.76,817.081 \n",
       "  \"/>\n",
       "<polyline clip-path=\"url(#clip682)\" style=\"stroke:#000000; stroke-width:2; stroke-opacity:0.1; fill:none\" points=\"\n",
       "  195.032,544.902 2352.76,544.902 \n",
       "  \"/>\n",
       "<polyline clip-path=\"url(#clip682)\" style=\"stroke:#000000; stroke-width:2; stroke-opacity:0.1; fill:none\" points=\"\n",
       "  195.032,272.723 2352.76,272.723 \n",
       "  \"/>\n",
       "<polyline clip-path=\"url(#clip680)\" style=\"stroke:#000000; stroke-width:4; stroke-opacity:1; fill:none\" points=\"\n",
       "  195.032,1427.37 195.032,47.2441 \n",
       "  \"/>\n",
       "<polyline clip-path=\"url(#clip680)\" style=\"stroke:#000000; stroke-width:4; stroke-opacity:1; fill:none\" points=\"\n",
       "  195.032,1361.44 220.924,1361.44 \n",
       "  \"/>\n",
       "<polyline clip-path=\"url(#clip680)\" style=\"stroke:#000000; stroke-width:4; stroke-opacity:1; fill:none\" points=\"\n",
       "  195.032,1089.26 220.924,1089.26 \n",
       "  \"/>\n",
       "<polyline clip-path=\"url(#clip680)\" style=\"stroke:#000000; stroke-width:4; stroke-opacity:1; fill:none\" points=\"\n",
       "  195.032,817.081 220.924,817.081 \n",
       "  \"/>\n",
       "<polyline clip-path=\"url(#clip680)\" style=\"stroke:#000000; stroke-width:4; stroke-opacity:1; fill:none\" points=\"\n",
       "  195.032,544.902 220.924,544.902 \n",
       "  \"/>\n",
       "<polyline clip-path=\"url(#clip680)\" style=\"stroke:#000000; stroke-width:4; stroke-opacity:1; fill:none\" points=\"\n",
       "  195.032,272.723 220.924,272.723 \n",
       "  \"/>\n",
       "<path clip-path=\"url(#clip680)\" d=\"M 0 0 M147.087 1347.24 Q143.476 1347.24 141.647 1350.8 Q139.842 1354.34 139.842 1361.47 Q139.842 1368.58 141.647 1372.14 Q143.476 1375.69 147.087 1375.69 Q150.721 1375.69 152.527 1372.14 Q154.356 1368.58 154.356 1361.47 Q154.356 1354.34 152.527 1350.8 Q150.721 1347.24 147.087 1347.24 M147.087 1343.53 Q152.897 1343.53 155.953 1348.14 Q159.032 1352.72 159.032 1361.47 Q159.032 1370.2 155.953 1374.81 Q152.897 1379.39 147.087 1379.39 Q141.277 1379.39 138.198 1374.81 Q135.143 1370.2 135.143 1361.47 Q135.143 1352.72 138.198 1348.14 Q141.277 1343.53 147.087 1343.53 Z\" fill=\"#000000\" fill-rule=\"evenodd\" fill-opacity=\"1\" /><path clip-path=\"url(#clip680)\" d=\"M 0 0 M138.129 1071.98 L156.485 1071.98 L156.485 1075.91 L142.411 1075.91 L142.411 1084.39 Q143.43 1084.04 144.448 1083.88 Q145.467 1083.69 146.485 1083.69 Q152.272 1083.69 155.652 1086.86 Q159.032 1090.03 159.032 1095.45 Q159.032 1101.03 155.559 1104.13 Q152.087 1107.21 145.768 1107.21 Q143.592 1107.21 141.323 1106.84 Q139.078 1106.47 136.671 1105.73 L136.671 1101.03 Q138.754 1102.16 140.976 1102.72 Q143.198 1103.28 145.675 1103.28 Q149.68 1103.28 152.018 1101.17 Q154.356 1099.06 154.356 1095.45 Q154.356 1091.84 152.018 1089.73 Q149.68 1087.63 145.675 1087.63 Q143.8 1087.63 141.925 1088.04 Q140.073 1088.46 138.129 1089.34 L138.129 1071.98 Z\" fill=\"#000000\" fill-rule=\"evenodd\" fill-opacity=\"1\" /><path clip-path=\"url(#clip680)\" d=\"M 0 0 M112.111 830.426 L119.749 830.426 L119.749 804.06 L111.439 805.727 L111.439 801.467 L119.703 799.801 L124.379 799.801 L124.379 830.426 L132.018 830.426 L132.018 834.361 L112.111 834.361 L112.111 830.426 Z\" fill=\"#000000\" fill-rule=\"evenodd\" fill-opacity=\"1\" /><path clip-path=\"url(#clip680)\" d=\"M 0 0 M147.087 802.879 Q143.476 802.879 141.647 806.444 Q139.842 809.986 139.842 817.115 Q139.842 824.222 141.647 827.787 Q143.476 831.328 147.087 831.328 Q150.721 831.328 152.527 827.787 Q154.356 824.222 154.356 817.115 Q154.356 809.986 152.527 806.444 Q150.721 802.879 147.087 802.879 M147.087 799.176 Q152.897 799.176 155.953 803.782 Q159.032 808.366 159.032 817.115 Q159.032 825.842 155.953 830.449 Q152.897 835.032 147.087 835.032 Q141.277 835.032 138.198 830.449 Q135.143 825.842 135.143 817.115 Q135.143 808.366 138.198 803.782 Q141.277 799.176 147.087 799.176 Z\" fill=\"#000000\" fill-rule=\"evenodd\" fill-opacity=\"1\" /><path clip-path=\"url(#clip680)\" d=\"M 0 0 M113.106 558.247 L120.745 558.247 L120.745 531.881 L112.435 533.548 L112.435 529.289 L120.698 527.622 L125.374 527.622 L125.374 558.247 L133.013 558.247 L133.013 562.182 L113.106 562.182 L113.106 558.247 Z\" fill=\"#000000\" fill-rule=\"evenodd\" fill-opacity=\"1\" /><path clip-path=\"url(#clip680)\" d=\"M 0 0 M138.129 527.622 L156.485 527.622 L156.485 531.557 L142.411 531.557 L142.411 540.029 Q143.43 539.682 144.448 539.52 Q145.467 539.335 146.485 539.335 Q152.272 539.335 155.652 542.506 Q159.032 545.677 159.032 551.094 Q159.032 556.673 155.559 559.775 Q152.087 562.853 145.768 562.853 Q143.592 562.853 141.323 562.483 Q139.078 562.113 136.671 561.372 L136.671 556.673 Q138.754 557.807 140.976 558.363 Q143.198 558.918 145.675 558.918 Q149.68 558.918 152.018 556.812 Q154.356 554.705 154.356 551.094 Q154.356 547.483 152.018 545.377 Q149.68 543.27 145.675 543.27 Q143.8 543.27 141.925 543.687 Q140.073 544.103 138.129 544.983 L138.129 527.622 Z\" fill=\"#000000\" fill-rule=\"evenodd\" fill-opacity=\"1\" /><path clip-path=\"url(#clip680)\" d=\"M 0 0 M115.698 286.068 L132.018 286.068 L132.018 290.003 L110.073 290.003 L110.073 286.068 Q112.736 283.313 117.319 278.684 Q121.925 274.031 123.106 272.689 Q125.351 270.165 126.231 268.429 Q127.134 266.67 127.134 264.98 Q127.134 262.226 125.189 260.49 Q123.268 258.753 120.166 258.753 Q117.967 258.753 115.513 259.517 Q113.083 260.281 110.305 261.832 L110.305 257.11 Q113.129 255.976 115.583 255.397 Q118.036 254.818 120.073 254.818 Q125.444 254.818 128.638 257.503 Q131.833 260.189 131.833 264.679 Q131.833 266.809 131.022 268.73 Q130.235 270.628 128.129 273.221 Q127.55 273.892 124.448 277.11 Q121.347 280.304 115.698 286.068 Z\" fill=\"#000000\" fill-rule=\"evenodd\" fill-opacity=\"1\" /><path clip-path=\"url(#clip680)\" d=\"M 0 0 M147.087 258.522 Q143.476 258.522 141.647 262.087 Q139.842 265.628 139.842 272.758 Q139.842 279.864 141.647 283.429 Q143.476 286.971 147.087 286.971 Q150.721 286.971 152.527 283.429 Q154.356 279.864 154.356 272.758 Q154.356 265.628 152.527 262.087 Q150.721 258.522 147.087 258.522 M147.087 254.818 Q152.897 254.818 155.953 259.425 Q159.032 264.008 159.032 272.758 Q159.032 281.485 155.953 286.091 Q152.897 290.675 147.087 290.675 Q141.277 290.675 138.198 286.091 Q135.143 281.485 135.143 272.758 Q135.143 264.008 138.198 259.425 Q141.277 254.818 147.087 254.818 Z\" fill=\"#000000\" fill-rule=\"evenodd\" fill-opacity=\"1\" /><path clip-path=\"url(#clip680)\" d=\"M 0 0 M64.3235 1069.79 L62.2945 1069.79 Q62.1657 1063.93 57.8501 1062.41 L18.4301 1048.76 Q17.625 1048.5 17.3673 1048.21 Q17.1097 1047.92 17.1097 1047.18 Q17.1097 1046.79 17.1741 1046.57 Q17.2385 1046.31 17.464 1046.15 Q17.6894 1045.99 17.8182 1045.92 Q17.9471 1045.86 18.4301 1045.67 L59.6536 1031.43 Q61.2961 1030.92 61.8114 1029.85 Q62.2945 1028.79 62.2945 1025.79 L62.2945 1024.64 L64.3235 1024.64 Q64.1303 1028.79 64.1303 1033.27 Q64.1303 1040.38 64.3235 1042.77 L62.2945 1042.77 Q62.2945 1037.29 60.2978 1037.29 Q60.1689 1037.29 59.3638 1037.49 L49.2834 1040.96 L49.2834 1057.26 L57.9145 1060.32 Q58.1722 1060.45 58.9129 1060.45 Q60.2978 1060.45 61.2961 1059.16 Q62.2945 1057.87 62.2945 1055.49 L64.3235 1055.49 Q64.1303 1061.83 64.1303 1063.09 Q64.1303 1065.25 64.3235 1069.79 M47.2544 1056.55 L47.2544 1041.7 L25.8053 1049.14 L47.2544 1056.55 Z\" fill=\"#000000\" fill-rule=\"evenodd\" fill-opacity=\"1\" /><path clip-path=\"url(#clip680)\" d=\"M 0 0 M63.4539 1020.76 L54.7583 1020.76 Q54.0176 1020.76 53.76 1020.72 Q53.5023 1020.69 53.3091 1020.5 Q53.1159 1020.31 53.1159 1019.92 Q53.1159 1019.47 53.3091 1019.31 Q53.5023 1019.11 54.2431 1018.99 Q58.7841 1017.99 61.1995 1015.86 Q63.5828 1013.7 63.5828 1009.81 Q63.5828 1006.1 61.9403 1004.23 Q60.2978 1002.37 57.5925 1002.37 Q52.7616 1002.37 51.5378 1009.23 Q50.7326 1013.19 50.2173 1014.83 Q49.6698 1016.47 48.4782 1017.92 Q46.1594 1020.76 42.8744 1020.76 Q39.5894 1020.76 37.1739 1018.28 Q34.7585 1015.76 34.7585 1010.23 Q34.7585 1006.52 36.6265 1004.01 Q36.0467 1003.27 35.5637 1002.88 Q34.7585 1002.01 34.7585 1001.56 Q34.7585 1001.05 35.1128 1000.95 Q35.4348 1000.85 36.3688 1000.85 L43.0032 1000.85 Q43.7439 1000.85 44.0016 1000.89 Q44.2592 1000.92 44.4525 1001.11 Q44.6135 1001.3 44.6135 1001.72 Q44.6135 1002.46 44.0016 1002.5 Q36.0145 1003.01 36.0145 1010.23 Q36.0145 1014.12 37.5282 1015.86 Q39.0097 1017.6 41.0387 1017.6 Q42.1659 1017.6 43.0354 1017.09 Q43.8728 1016.54 44.3881 1015.86 Q44.8712 1015.15 45.3542 1013.86 Q45.8051 1012.58 45.9661 1011.8 Q46.1272 1011 46.4492 1009.48 Q47.4476 1004.2 49.6054 1001.98 Q52.3751 999.211 55.8856 999.211 Q59.7825 999.211 62.4233 1001.85 Q65.0642 1004.49 65.0642 1009.81 Q65.0642 1014.09 62.1979 1017.09 Q62.5844 1017.47 62.9386 1017.76 Q63.2607 1018.05 63.3895 1018.18 Q63.5183 1018.28 63.615 1018.31 Q63.6794 1018.34 63.7438 1018.41 Q65.0642 1019.73 65.0642 1020.05 Q65.0642 1020.56 64.71 1020.66 Q64.3879 1020.76 63.4539 1020.76 Z\" fill=\"#000000\" fill-rule=\"evenodd\" fill-opacity=\"1\" /><path clip-path=\"url(#clip680)\" d=\"M 0 0 M63.4539 995.028 L54.7583 995.028 Q54.0176 995.028 53.76 994.996 Q53.5023 994.964 53.3091 994.77 Q53.1159 994.577 53.1159 994.191 Q53.1159 993.74 53.3091 993.579 Q53.5023 993.385 54.2431 993.257 Q58.7841 992.258 61.1995 990.133 Q63.5828 987.975 63.5828 984.078 Q63.5828 980.374 61.9403 978.506 Q60.2978 976.638 57.5925 976.638 Q52.7616 976.638 51.5378 983.498 Q50.7326 987.46 50.2173 989.102 Q49.6698 990.745 48.4782 992.194 Q46.1594 995.028 42.8744 995.028 Q39.5894 995.028 37.1739 992.548 Q34.7585 990.036 34.7585 984.497 Q34.7585 980.793 36.6265 978.281 Q36.0467 977.54 35.5637 977.154 Q34.7585 976.284 34.7585 975.833 Q34.7585 975.318 35.1128 975.221 Q35.4348 975.125 36.3688 975.125 L43.0032 975.125 Q43.7439 975.125 44.0016 975.157 Q44.2592 975.189 44.4525 975.382 Q44.6135 975.576 44.6135 975.994 Q44.6135 976.735 44.0016 976.767 Q36.0145 977.283 36.0145 984.497 Q36.0145 988.394 37.5282 990.133 Q39.0097 991.872 41.0387 991.872 Q42.1659 991.872 43.0354 991.356 Q43.8728 990.809 44.3881 990.133 Q44.8712 989.424 45.3542 988.136 Q45.8051 986.848 45.9661 986.075 Q46.1272 985.27 46.4492 983.756 Q47.4476 978.474 49.6054 976.252 Q52.3751 973.482 55.8856 973.482 Q59.7825 973.482 62.4233 976.123 Q65.0642 978.764 65.0642 984.078 Q65.0642 988.361 62.1979 991.356 Q62.5844 991.743 62.9386 992.033 Q63.2607 992.323 63.3895 992.451 Q63.5183 992.548 63.615 992.58 Q63.6794 992.613 63.7438 992.677 Q65.0642 993.997 65.0642 994.319 Q65.0642 994.835 64.71 994.931 Q64.3879 995.028 63.4539 995.028 Z\" fill=\"#000000\" fill-rule=\"evenodd\" fill-opacity=\"1\" /><path clip-path=\"url(#clip680)\" d=\"M 0 0 M49.7986 969.299 Q43.5829 969.299 39.1707 965.306 Q34.7585 961.312 34.7585 955.58 Q34.7585 949.783 38.5266 946.787 Q42.2947 943.76 47.7053 943.76 Q48.7036 943.76 48.8969 944.018 Q49.0901 944.275 49.0901 945.403 L49.0901 963.824 Q55.8211 963.824 58.9773 961.828 Q63.3895 959.058 63.3895 954.388 Q63.3895 953.744 63.2607 952.971 Q63.1319 952.198 62.5844 950.62 Q62.0047 949.042 60.491 947.657 Q58.9773 946.272 56.5941 945.467 Q55.6601 945.274 55.6923 944.63 Q55.6923 943.76 56.4653 943.76 Q57.045 943.76 58.3654 944.404 Q59.6536 945.016 61.1995 946.208 Q62.7454 947.399 63.9048 949.718 Q65.0642 952.005 65.0642 954.774 Q65.0642 960.572 60.6842 964.952 Q56.272 969.299 49.7986 969.299 M47.7053 963.76 L47.7053 948.108 Q46.3204 948.108 44.7745 948.366 Q43.2287 948.591 41.1031 949.299 Q38.9453 949.976 37.5926 951.586 Q36.24 953.196 36.24 955.58 Q36.24 956.642 36.6909 957.802 Q37.1417 958.929 38.2367 960.314 Q39.3317 961.699 41.8116 962.665 Q44.2914 963.631 47.7053 963.76 Z\" fill=\"#000000\" fill-rule=\"evenodd\" fill-opacity=\"1\" /><path clip-path=\"url(#clip680)\" d=\"M 0 0 M37.9469 941.908 L36.4976 941.908 Q36.3688 938.88 34.2432 936.884 Q32.0854 934.855 29.4445 934.178 Q26.8037 933.47 23.7441 933.405 L23.7441 931.763 L35.8857 931.763 L35.8857 922.327 L37.9469 922.327 L37.9469 931.763 L56.272 931.763 Q63.3895 931.763 63.3895 927.319 Q63.3895 925.418 61.4572 924.162 Q59.4926 922.906 56.0144 922.906 L52.3751 922.906 L52.3751 921.264 L56.1432 921.264 Q59.7181 921.264 62.3911 922.906 Q65.0642 924.549 65.0642 927.802 Q65.0642 928.993 64.7422 930.185 Q64.4523 931.344 63.6794 932.89 Q62.8742 934.404 60.9419 935.37 Q58.9773 936.304 56.1432 936.304 L37.9469 936.304 L37.9469 941.908 Z\" fill=\"#000000\" fill-rule=\"evenodd\" fill-opacity=\"1\" /><path clip-path=\"url(#clip680)\" d=\"M 0 0 M64.3235 894.824 L62.2945 894.824 L62.2945 893.246 Q62.2945 889.671 61.7148 888.866 Q61.1029 888.028 59.1706 888.028 L24.4204 888.028 Q22.5203 888.028 21.9406 888.866 Q21.3287 889.703 21.3287 893.246 L21.3287 894.824 L19.2675 894.824 L19.2675 870.702 Q19.2675 862.264 25.9985 856.402 Q32.7295 850.508 42.1659 850.508 Q51.4089 850.508 57.8823 856.434 Q64.3235 862.328 64.3235 870.702 L64.3235 894.824 M59.6536 882.36 Q61.3606 882.36 61.8436 881.877 Q62.2945 881.394 62.2945 879.139 L62.2945 872.473 Q62.2945 868.125 60.5232 865.194 Q58.7197 862.264 56.6585 860.75 Q51.6988 857.111 42.1659 857.111 Q32.1498 857.111 27.4478 860.524 Q21.3287 864.937 21.3287 872.537 L21.3287 879.139 Q21.3287 881.394 21.7795 881.877 Q22.2304 882.36 23.9695 882.36 L59.6536 882.36 Z\" fill=\"#000000\" fill-rule=\"evenodd\" fill-opacity=\"1\" /><path clip-path=\"url(#clip680)\" d=\"M 0 0 M49.7986 844.963 Q43.5829 844.963 39.1707 840.969 Q34.7585 836.975 34.7585 831.243 Q34.7585 825.446 38.5266 822.451 Q42.2947 819.423 47.7053 819.423 Q48.7036 819.423 48.8969 819.681 Q49.0901 819.939 49.0901 821.066 L49.0901 839.488 Q55.8211 839.488 58.9773 837.491 Q63.3895 834.721 63.3895 830.051 Q63.3895 829.407 63.2607 828.634 Q63.1319 827.861 62.5844 826.283 Q62.0047 824.705 60.491 823.32 Q58.9773 821.935 56.5941 821.13 Q55.6601 820.937 55.6923 820.293 Q55.6923 819.423 56.4653 819.423 Q57.045 819.423 58.3654 820.067 Q59.6536 820.679 61.1995 821.871 Q62.7454 823.063 63.9048 825.381 Q65.0642 827.668 65.0642 830.438 Q65.0642 836.235 60.6842 840.615 Q56.272 844.963 49.7986 844.963 M47.7053 839.423 L47.7053 823.771 Q46.3204 823.771 44.7745 824.029 Q43.2287 824.254 41.1031 824.963 Q38.9453 825.639 37.5926 827.249 Q36.24 828.86 36.24 831.243 Q36.24 832.306 36.6909 833.465 Q37.1417 834.592 38.2367 835.977 Q39.3317 837.362 41.8116 838.328 Q44.2914 839.294 47.7053 839.423 Z\" fill=\"#000000\" fill-rule=\"evenodd\" fill-opacity=\"1\" /><path clip-path=\"url(#clip680)\" d=\"M 0 0 M64.3235 815.946 L62.2945 815.946 Q62.2945 812.436 61.8758 811.63 Q61.425 810.825 59.2994 810.825 L41.6184 810.825 Q39.1707 810.825 38.5588 811.695 Q37.9469 812.532 37.9469 815.946 L35.8857 815.946 L35.1772 806.671 L42.1014 806.671 Q35.1772 803.579 35.1772 796.912 Q35.1772 789.183 41.6184 788.12 Q39.1063 786.993 37.1417 784.642 Q35.1772 782.259 35.1772 778.555 Q35.1772 773.595 37.6248 771.631 Q39.2673 770.181 41.1031 769.892 Q42.9388 769.602 47.7053 769.602 L60.2978 769.602 Q61.6826 769.537 62.0047 768.475 Q62.2945 767.412 62.2945 764.449 L64.3235 764.449 Q64.1303 771.18 64.1303 771.824 Q64.1303 772.339 64.3235 779.296 L62.2945 779.296 Q62.2945 775.785 61.8758 774.98 Q61.425 774.143 59.2994 774.143 L43.9372 774.143 Q40.5878 774.143 38.6232 775.173 Q36.6265 776.204 36.6265 779.038 Q36.6265 782.452 39.4928 785.189 Q42.3591 787.927 47.19 787.927 L59.2994 787.927 Q61.425 787.927 61.8758 787.122 Q62.2945 786.284 62.2945 782.774 L64.3235 782.774 Q64.1303 789.505 64.1303 790.181 Q64.1303 790.697 64.3235 797.621 L62.2945 797.621 Q62.2945 794.11 61.8758 793.305 Q61.425 792.468 59.2994 792.468 L43.9372 792.468 Q40.5878 792.468 38.6232 793.498 Q36.6265 794.529 36.6265 797.363 Q36.6265 800.777 39.4928 803.515 Q42.3591 806.252 47.19 806.252 L59.2994 806.252 Q61.425 806.252 61.8758 805.447 Q62.2945 804.61 62.2945 801.131 L64.3235 801.131 Q64.1303 807.862 64.1303 808.506 Q64.1303 809.022 64.3235 815.946 Z\" fill=\"#000000\" fill-rule=\"evenodd\" fill-opacity=\"1\" /><path clip-path=\"url(#clip680)\" d=\"M 0 0 M58.0433 761.52 Q52.4395 761.52 49.4766 754.918 Q47.5764 750.956 47.0934 742.776 L44.6779 742.776 Q40.5878 742.776 38.43 744.934 Q36.24 747.06 36.24 749.765 Q36.24 754.596 39.2673 756.915 Q39.3317 754.95 40.3301 754.241 Q41.2963 753.533 42.2947 753.533 Q43.6151 753.533 44.4847 754.37 Q45.322 755.175 45.322 756.56 Q45.322 757.881 44.5169 758.75 Q43.6795 759.62 42.2303 759.62 Q39.0097 759.62 36.8841 756.721 Q34.7585 753.791 34.7585 749.636 Q34.7585 744.225 38.3978 740.618 Q39.525 739.491 40.9742 738.944 Q42.4235 738.364 43.3897 738.3 Q44.3237 738.235 46.1916 738.235 L59.3638 738.235 Q59.7503 738.235 60.3944 738.106 Q61.0385 737.978 61.8758 737.398 Q62.681 736.786 62.681 735.788 Q62.681 733.404 58.462 733.437 L54.7583 733.437 L54.7583 731.762 L58.462 731.762 Q61.9725 731.762 63.3573 733.63 Q64.71 735.465 64.71 737.172 Q64.71 739.362 63.0997 740.747 Q61.4894 742.132 59.2994 742.325 Q61.8114 743.324 63.4539 745.61 Q65.0642 747.865 65.0642 750.956 Q65.0642 753.34 64.4523 755.594 Q63.8726 757.816 62.2301 759.684 Q60.5554 761.52 58.0433 761.52 M57.9789 756.431 Q60.4266 756.431 62.0047 754.692 Q63.5828 752.953 63.5828 750.506 Q63.5828 747.736 61.4572 745.256 Q59.2994 742.776 55.0804 742.776 L48.4782 742.776 Q48.7359 750.087 51.6666 753.275 Q54.5651 756.431 57.9789 756.431 Z\" fill=\"#000000\" fill-rule=\"evenodd\" fill-opacity=\"1\" /><path clip-path=\"url(#clip680)\" d=\"M 0 0 M64.3235 728.833 L62.2945 728.833 Q62.2945 725.322 61.8758 724.517 Q61.425 723.712 59.2994 723.712 L41.6184 723.712 Q39.1707 723.712 38.5588 724.581 Q37.9469 725.419 37.9469 728.833 L35.8857 728.833 L35.1772 719.557 L42.1014 719.557 Q35.1772 716.465 35.1772 709.799 Q35.1772 704.839 37.6248 702.875 Q39.2673 701.425 41.1031 701.135 Q42.9388 700.813 47.7053 700.813 L60.2978 700.813 Q61.6826 700.749 62.0047 699.686 Q62.2945 698.623 62.2945 695.66 L64.3235 695.66 Q64.1303 702.392 64.1303 703.068 Q64.1303 703.583 64.3235 710.507 L62.2945 710.507 Q62.2945 706.997 61.8758 706.192 Q61.425 705.354 59.2994 705.354 L43.9372 705.354 Q40.5878 705.354 38.6232 706.385 Q36.6265 707.416 36.6265 710.25 Q36.6265 713.664 39.4928 716.401 Q42.3591 719.139 47.19 719.139 L59.2994 719.139 Q61.425 719.139 61.8758 718.333 Q62.2945 717.496 62.2945 714.018 L64.3235 714.018 Q64.1303 720.749 64.1303 721.393 Q64.1303 721.908 64.3235 728.833 Z\" fill=\"#000000\" fill-rule=\"evenodd\" fill-opacity=\"1\" /><path clip-path=\"url(#clip680)\" d=\"M 0 0 M50.1529 692.57 Q43.8728 692.57 39.525 688.19 Q35.1772 683.81 35.1772 677.884 Q35.1772 672.86 39.2673 669.575 L25.0001 669.575 Q22.5525 669.575 21.9406 670.444 Q21.3287 671.282 21.3287 674.696 L19.2675 674.696 L18.559 665.195 L58.5908 665.195 Q61.0385 665.195 61.6826 664.357 Q62.2945 663.488 62.2945 660.074 L64.3235 660.074 L65.0642 669.768 L60.6842 669.768 Q65.032 673.182 65.0642 678.592 Q65.0642 684.261 60.7164 688.415 Q56.3686 692.57 50.1529 692.57 M50.2173 687.095 Q56.3364 687.095 59.3638 685.195 Q63.5828 682.554 63.5828 678.27 Q63.5828 673.375 58.9773 670.477 Q57.8501 669.736 56.5297 669.768 L43.0032 669.768 Q41.6828 669.768 40.5878 670.477 Q36.6265 673.182 36.6265 677.594 Q36.6265 682.2 40.8454 685.066 Q44.0016 687.095 50.2173 687.095 Z\" fill=\"#000000\" fill-rule=\"evenodd\" fill-opacity=\"1\" /><path clip-path=\"url(#clip680)\" d=\"M 0 0 M21.2643 565.004 L32.6651 566.325 Q33.6957 566.422 34.0178 566.583 Q34.3076 566.744 34.3076 567.259 Q34.3076 567.645 34.0822 567.871 Q33.8245 568.064 33.5347 568.064 Q33.3737 568.064 32.955 568.032 Q32.5363 568 32.3431 568 Q30.3463 567.71 28.8326 567.71 Q26.0307 567.71 24.517 568.547 Q22.9712 569.384 22.2626 571.542 Q21.5219 573.7 21.5219 577.758 L21.5219 587.033 Q21.5219 589.159 21.9084 589.674 Q22.2948 590.157 24.0984 590.608 L39.9759 594.569 L39.9759 588.354 Q39.9759 586.035 39.686 584.65 Q39.3962 583.233 38.591 582.299 Q37.7537 581.333 36.6265 580.818 Q35.4992 580.27 33.4703 579.723 Q32.794 579.562 32.5363 579.401 Q32.2787 579.207 32.2787 578.789 Q32.2787 578.467 32.5041 578.241 Q32.6973 578.016 32.9872 578.016 L48.4138 581.784 Q49.1867 581.977 49.4766 582.17 Q49.7342 582.363 49.7342 582.75 Q49.7342 583.169 49.5088 583.394 Q49.2834 583.619 49.0257 583.619 Q48.7681 583.619 48.285 583.426 Q46.1916 582.943 45.0644 582.943 Q44.4203 582.943 44.0982 583.008 Q43.7762 583.04 43.3253 583.33 Q42.8422 583.587 42.6167 584.167 Q42.3913 584.747 42.2303 585.842 Q42.037 586.937 42.037 588.579 L42.037 595.085 L60.0401 599.594 Q61.2317 599.916 61.5538 599.916 Q61.9081 599.916 62.0369 599.755 Q62.1335 599.561 62.1979 599.046 Q62.2945 598.466 62.2945 597.597 L62.2945 587.967 Q62.2945 585.842 62.1013 584.135 Q61.9081 582.428 61.425 581.011 Q60.9419 579.562 60.3944 578.467 Q59.8469 577.372 58.8485 576.341 Q57.8179 575.31 56.9161 574.602 Q55.9822 573.861 54.4041 572.992 Q52.826 572.122 51.5378 571.51 Q50.2173 570.898 48.0917 569.964 Q47.3188 569.707 47.3188 569.095 Q47.3188 568.74 47.512 568.547 Q47.6731 568.354 47.8341 568.322 L48.0273 568.322 Q48.6392 568.515 48.9613 568.644 L63.1963 574.698 Q64.0014 575.053 64.1625 575.343 Q64.3235 575.632 64.3235 576.76 L64.3235 610.994 Q64.3235 611.767 64.2913 612.089 Q64.2591 612.379 64.098 612.605 Q63.9048 612.83 63.5183 612.83 Q62.9064 612.83 62.6488 612.573 Q62.3589 612.315 62.3267 612.025 Q62.2945 611.735 62.2945 610.994 Q62.2945 609.384 62.1979 608.418 Q62.1013 607.452 61.9725 606.84 Q61.8114 606.196 61.3606 605.874 Q60.9097 605.519 60.5232 605.358 Q60.1045 605.197 59.1706 604.972 L24.2916 596.276 Q23.1 595.954 22.7135 595.954 Q22.2948 595.954 22.0372 596.244 Q21.7795 596.502 21.6829 597.21 Q21.5541 597.919 21.5541 598.499 Q21.5219 599.046 21.5219 600.238 Q21.5219 601.011 21.4897 601.333 Q21.4575 601.623 21.2965 601.848 Q21.1354 602.073 20.7812 602.073 Q19.8794 602.073 19.6862 601.687 Q19.4607 601.268 19.4607 600.109 L19.4607 566.808 Q19.4607 565.488 19.7506 565.198 Q20.0082 564.876 21.2643 565.004 Z\" fill=\"#000000\" fill-rule=\"evenodd\" fill-opacity=\"1\" /><path clip-path=\"url(#clip680)\" d=\"M 0 0 M80.8129 555.875 L14.8553 555.875 L14.8553 545.923 L16.369 545.923 L16.369 551.463 L79.2992 551.463 L79.2992 545.923 L80.8129 545.923 L80.8129 555.875 Z\" fill=\"#000000\" fill-rule=\"evenodd\" fill-opacity=\"1\" /><path clip-path=\"url(#clip680)\" d=\"M 0 0 M54.8872 507.502 Q59.0417 508.372 61.425 509.499 Q65.0642 511.303 65.0642 514.362 Q65.0642 516.681 63.6472 518.324 Q62.2301 519.966 60.1045 520.353 Q65.0642 524.572 65.0642 528.952 Q65.0642 532.816 62.1335 535.264 Q59.1706 537.712 54.5007 537.712 Q49.7986 537.712 45.2898 535.393 Q40.781 533.042 37.9791 529.338 Q35.1772 525.634 35.1772 521.834 Q35.1772 517.808 39.3962 515.747 Q38.2367 515.586 37.3672 514.845 Q36.4976 514.105 36.4976 512.977 Q36.4976 512.108 36.9807 511.593 Q37.4316 511.077 38.2689 511.077 Q38.6876 511.077 40.5234 511.528 L49.7342 513.911 L55.6923 515.361 Q57.8823 515.908 58.6875 516.069 Q59.4926 516.198 60.5554 516.198 Q63.5828 516.198 63.5828 514.233 Q63.5828 513.267 62.9708 512.494 Q62.3589 511.721 61.0707 511.109 Q59.7825 510.498 58.5908 510.111 Q57.367 509.725 55.4347 509.209 Q54.6617 509.048 54.4685 508.919 Q54.2431 508.758 54.2431 508.308 Q54.2431 507.502 54.8872 507.502 M42.4235 516.552 Q42.1337 516.552 41.3285 516.778 Q40.5234 517.003 39.3962 517.518 Q38.2689 518.034 37.4638 519.161 Q36.6265 520.256 36.6265 521.737 Q36.6265 523.734 38.3334 525.828 Q40.0403 527.889 42.9388 529.402 Q45.2576 530.562 50.1207 531.818 Q54.9838 533.042 57.3992 533.042 Q58.8807 533.042 60.2011 532.72 Q61.4894 532.365 62.5522 531.367 Q63.5828 530.369 63.5828 528.823 Q63.5828 525.055 58.9129 521.351 Q58.1078 520.642 57.7857 520.481 Q57.4314 520.288 56.4653 520.03 L43.5507 516.745 Q42.5845 516.552 42.4235 516.552 Z\" fill=\"#000000\" fill-rule=\"evenodd\" fill-opacity=\"1\" /><path clip-path=\"url(#clip680)\" d=\"M 0 0 M47.8341 503.141 Q36.6909 503.141 27.7054 498.986 Q23.9373 497.215 20.7812 494.735 Q17.625 492.255 16.2401 490.613 Q14.8553 488.97 14.8553 488.519 Q14.8553 487.875 15.4994 487.843 Q15.8215 487.843 16.6266 488.712 Q27.4478 499.34 47.8341 499.308 Q68.2848 499.308 78.6873 488.97 Q79.8145 487.843 80.1688 487.843 Q80.8129 487.843 80.8129 488.519 Q80.8129 488.97 79.4925 490.548 Q78.172 492.126 75.1447 494.574 Q72.1173 497.022 68.4136 498.793 Q59.4282 503.141 47.8341 503.141 Z\" fill=\"#000000\" fill-rule=\"evenodd\" fill-opacity=\"1\" /><path clip-path=\"url(#clip680)\" d=\"M 0 0 M39.4606 450.935 Q41.1675 450.935 42.2625 452.063 Q43.3575 453.158 43.3575 454.575 Q43.3575 455.798 42.6489 456.443 Q41.9404 457.087 41.0387 457.087 Q39.7504 457.087 38.6876 456.088 Q37.6248 455.09 37.3994 453.641 Q36.6265 454.703 36.6265 456.41 Q36.6265 459.212 38.7842 461.692 Q39.7826 462.787 41.6184 463.979 Q43.4219 465.17 44.1948 465.396 L52.7938 467.489 Q53.76 467.682 58.3976 468.874 Q63.0031 470.033 63.1963 470.13 Q64.098 470.452 64.5811 471.161 Q65.0642 471.869 65.0642 472.578 Q65.0642 473.383 64.5811 473.93 Q64.098 474.478 63.2607 474.478 Q63.1319 474.478 62.6488 474.381 Q62.1657 474.285 61.4894 474.124 Q60.8131 473.963 60.4266 473.898 L45.1932 470.066 Q42.4235 469.357 41.5539 469.196 Q40.6522 469.003 39.6538 469.003 Q37.9147 469.003 37.2706 469.55 Q36.6265 470.098 36.6265 471.064 Q36.6265 472.739 38.6232 473.834 Q40.62 474.929 44.4847 475.863 Q45.5475 476.153 45.7729 476.346 Q45.9984 476.507 45.9984 476.99 Q45.9661 477.795 45.322 477.795 Q45.161 477.795 44.1304 477.537 Q43.0676 477.28 41.5217 476.797 Q39.9437 476.281 38.9453 475.734 Q38.2689 475.412 37.8181 475.122 Q37.3672 474.832 36.6587 474.252 Q35.9501 473.673 35.5637 472.803 Q35.1772 471.934 35.1772 470.871 Q35.1772 468.552 36.5942 466.909 Q38.0113 465.235 40.2335 464.848 Q39.0741 464.043 38.0757 463.045 Q37.0451 462.046 36.1112 460.211 Q35.1772 458.375 35.1772 456.41 Q35.1772 453.963 36.4332 452.449 Q37.657 450.935 39.4606 450.935 Z\" fill=\"#000000\" fill-rule=\"evenodd\" fill-opacity=\"1\" /><path clip-path=\"url(#clip680)\" d=\"M 0 0 M80.1688 448.332 Q79.8467 448.332 79.0416 447.494 Q68.2204 436.866 47.8341 436.866 Q27.3834 436.866 17.0453 447.076 Q15.8537 448.332 15.4994 448.332 Q14.8553 448.332 14.8553 447.688 Q14.8553 447.237 16.1757 445.659 Q17.4962 444.048 20.5235 441.633 Q23.5509 439.185 27.2545 437.382 Q36.24 433.034 47.8341 433.034 Q58.9773 433.034 67.9628 437.188 Q71.7308 438.96 74.887 441.44 Q78.0432 443.919 79.428 445.562 Q80.8129 447.204 80.8129 447.688 Q80.8129 448.332 80.1688 448.332 Z\" fill=\"#000000\" fill-rule=\"evenodd\" fill-opacity=\"1\" /><path clip-path=\"url(#clip680)\" d=\"M 0 0 M79.2992 422.986 L79.2992 417.447 L16.369 417.447 L16.369 422.986 L14.8553 422.986 L14.8553 413.034 L80.8129 413.034 L80.8129 422.986 L79.2992 422.986 Z\" fill=\"#000000\" fill-rule=\"evenodd\" fill-opacity=\"1\" /><polyline clip-path=\"url(#clip682)\" style=\"stroke:#009af9; stroke-width:4; stroke-opacity:1; fill:none\" points=\"\n",
       "  256.099,1388.31 482.276,1347.37 708.452,1300.52 934.629,1254.14 1160.81,1098.57 1386.98,767.746 1613.16,397.077 1839.34,199.621 2065.51,98.1854 2291.69,87.9899 \n",
       "  \n",
       "  \"/>\n",
       "<polyline clip-path=\"url(#clip682)\" style=\"stroke:#e26f46; stroke-width:4; stroke-opacity:1; fill:none\" points=\"\n",
       "  256.099,1364.22 482.276,1323.68 708.452,1279.79 934.629,1233.65 1160.81,1097.39 1386.98,765.685 1613.16,397.802 1839.34,181.17 2065.51,95.7835 2291.69,86.3042 \n",
       "  \n",
       "  \"/>\n",
       "<polyline clip-path=\"url(#clip682)\" style=\"stroke:#3da44d; stroke-width:4; stroke-opacity:1; fill:none\" points=\"\n",
       "  256.099,1339.95 482.276,1301.89 708.452,1255.03 934.629,1182.95 1160.81,954.946 1386.98,690.856 1613.16,524.857 1839.34,383.755 2065.51,259.543 2291.69,159.458 \n",
       "  \n",
       "  \"/>\n",
       "<path clip-path=\"url(#clip680)\" d=\"\n",
       "M1846.5 335.168 L2280.83 335.168 L2280.83 93.2482 L1846.5 93.2482  Z\n",
       "  \" fill=\"#ffffff\" fill-rule=\"evenodd\" fill-opacity=\"1\"/>\n",
       "<polyline clip-path=\"url(#clip680)\" style=\"stroke:#000000; stroke-width:4; stroke-opacity:1; fill:none\" points=\"\n",
       "  1846.5,335.168 2280.83,335.168 2280.83,93.2482 1846.5,93.2482 1846.5,335.168 \n",
       "  \"/>\n",
       "<polyline clip-path=\"url(#clip680)\" style=\"stroke:#009af9; stroke-width:4; stroke-opacity:1; fill:none\" points=\"\n",
       "  1870.48,153.728 2014.33,153.728 \n",
       "  \"/>\n",
       "<path clip-path=\"url(#clip680)\" d=\"M 0 0 M2053.39 134.99 L2053.39 144.55 Q2058 144.55 2061.08 148.092 Q2064.25 151.703 2064.25 158.068 Q2064.25 164.434 2061.08 168.045 Q2058 171.587 2053.39 171.587 L2053.39 180.869 L2049.16 180.869 L2049.16 171.587 Q2044.55 171.587 2041.45 168.045 Q2038.3 164.434 2038.3 158.068 Q2038.3 151.703 2041.45 148.092 Q2044.55 144.55 2049.16 144.55 L2049.16 134.99 L2053.39 134.99 M2053.39 167.791 Q2056.01 167.791 2057.79 165.406 Q2059.74 162.744 2059.76 158.068 Q2059.78 153.439 2057.79 150.731 Q2056.01 148.346 2053.39 148.346 L2053.39 167.791 M2049.16 167.791 L2049.16 148.346 Q2046.54 148.346 2044.78 150.731 Q2042.77 153.439 2042.79 158.068 Q2042.81 162.744 2044.78 165.406 Q2046.54 167.791 2049.16 167.791 Z\" fill=\"#000000\" fill-rule=\"evenodd\" fill-opacity=\"1\" /><path clip-path=\"url(#clip680)\" d=\"M 0 0 M2084.34 149.481 L2114.02 149.481 L2114.02 153.369 L2084.34 153.369 L2084.34 149.481 M2084.34 158.925 L2114.02 158.925 L2114.02 162.86 L2084.34 162.86 L2084.34 158.925 Z\" fill=\"#000000\" fill-rule=\"evenodd\" fill-opacity=\"1\" /><path clip-path=\"url(#clip680)\" d=\"M 0 0 M2131.4 156.124 L2143.88 156.124 L2143.88 159.92 L2131.4 159.92 L2131.4 156.124 Z\" fill=\"#000000\" fill-rule=\"evenodd\" fill-opacity=\"1\" /><path clip-path=\"url(#clip680)\" d=\"M 0 0 M2149.76 167.073 L2157.4 167.073 L2157.4 140.707 L2149.09 142.374 L2149.09 138.115 L2157.35 136.448 L2162.03 136.448 L2162.03 167.073 L2169.67 167.073 L2169.67 171.008 L2149.76 171.008 L2149.76 167.073 Z\" fill=\"#000000\" fill-rule=\"evenodd\" fill-opacity=\"1\" /><path clip-path=\"url(#clip680)\" d=\"M 0 0 M2174.73 165.129 L2179.62 165.129 L2179.62 171.008 L2174.73 171.008 L2174.73 165.129 Z\" fill=\"#000000\" fill-rule=\"evenodd\" fill-opacity=\"1\" /><path clip-path=\"url(#clip680)\" d=\"M 0 0 M2194.69 139.527 Q2191.08 139.527 2189.25 143.092 Q2187.44 146.633 2187.44 153.763 Q2187.44 160.869 2189.25 164.434 Q2191.08 167.976 2194.69 167.976 Q2198.32 167.976 2200.13 164.434 Q2201.96 160.869 2201.96 153.763 Q2201.96 146.633 2200.13 143.092 Q2198.32 139.527 2194.69 139.527 M2194.69 135.823 Q2200.5 135.823 2203.55 140.43 Q2206.63 145.013 2206.63 153.763 Q2206.63 162.49 2203.55 167.096 Q2200.5 171.679 2194.69 171.679 Q2188.88 171.679 2185.8 167.096 Q2182.74 162.49 2182.74 153.763 Q2182.74 145.013 2185.8 140.43 Q2188.88 135.823 2194.69 135.823 Z\" fill=\"#000000\" fill-rule=\"evenodd\" fill-opacity=\"1\" /><polyline clip-path=\"url(#clip680)\" style=\"stroke:#e26f46; stroke-width:4; stroke-opacity:1; fill:none\" points=\"\n",
       "  1870.48,214.208 2014.33,214.208 \n",
       "  \"/>\n",
       "<path clip-path=\"url(#clip680)\" d=\"M 0 0 M2053.39 195.47 L2053.39 205.03 Q2058 205.03 2061.08 208.572 Q2064.25 212.183 2064.25 218.548 Q2064.25 224.914 2061.08 228.525 Q2058 232.067 2053.39 232.067 L2053.39 241.349 L2049.16 241.349 L2049.16 232.067 Q2044.55 232.067 2041.45 228.525 Q2038.3 224.914 2038.3 218.548 Q2038.3 212.183 2041.45 208.572 Q2044.55 205.03 2049.16 205.03 L2049.16 195.47 L2053.39 195.47 M2053.39 228.271 Q2056.01 228.271 2057.79 225.886 Q2059.74 223.224 2059.76 218.548 Q2059.78 213.919 2057.79 211.211 Q2056.01 208.826 2053.39 208.826 L2053.39 228.271 M2049.16 228.271 L2049.16 208.826 Q2046.54 208.826 2044.78 211.211 Q2042.77 213.919 2042.79 218.548 Q2042.81 223.224 2044.78 225.886 Q2046.54 228.271 2049.16 228.271 Z\" fill=\"#000000\" fill-rule=\"evenodd\" fill-opacity=\"1\" /><path clip-path=\"url(#clip680)\" d=\"M 0 0 M2084.34 209.961 L2114.02 209.961 L2114.02 213.849 L2084.34 213.849 L2084.34 209.961 M2084.34 219.405 L2114.02 219.405 L2114.02 223.34 L2084.34 223.34 L2084.34 219.405 Z\" fill=\"#000000\" fill-rule=\"evenodd\" fill-opacity=\"1\" /><path clip-path=\"url(#clip680)\" d=\"M 0 0 M2131.4 216.604 L2143.88 216.604 L2143.88 220.4 L2131.4 220.4 L2131.4 216.604 Z\" fill=\"#000000\" fill-rule=\"evenodd\" fill-opacity=\"1\" /><path clip-path=\"url(#clip680)\" d=\"M 0 0 M2158.95 200.007 Q2155.34 200.007 2153.51 203.572 Q2151.7 207.113 2151.7 214.243 Q2151.7 221.349 2153.51 224.914 Q2155.34 228.456 2158.95 228.456 Q2162.58 228.456 2164.39 224.914 Q2166.22 221.349 2166.22 214.243 Q2166.22 207.113 2164.39 203.572 Q2162.58 200.007 2158.95 200.007 M2158.95 196.303 Q2164.76 196.303 2167.81 200.91 Q2170.89 205.493 2170.89 214.243 Q2170.89 222.97 2167.81 227.576 Q2164.76 232.159 2158.95 232.159 Q2153.14 232.159 2150.06 227.576 Q2147 222.97 2147 214.243 Q2147 205.493 2150.06 200.91 Q2153.14 196.303 2158.95 196.303 Z\" fill=\"#000000\" fill-rule=\"evenodd\" fill-opacity=\"1\" /><path clip-path=\"url(#clip680)\" d=\"M 0 0 M2175.96 225.609 L2180.85 225.609 L2180.85 231.488 L2175.96 231.488 L2175.96 225.609 Z\" fill=\"#000000\" fill-rule=\"evenodd\" fill-opacity=\"1\" /><path clip-path=\"url(#clip680)\" d=\"M 0 0 M2185.96 196.928 L2204.32 196.928 L2204.32 200.863 L2190.24 200.863 L2190.24 209.336 Q2191.26 208.988 2192.28 208.826 Q2193.3 208.641 2194.32 208.641 Q2200.1 208.641 2203.48 211.812 Q2206.86 214.984 2206.86 220.4 Q2206.86 225.979 2203.39 229.081 Q2199.92 232.159 2193.6 232.159 Q2191.42 232.159 2189.16 231.789 Q2186.91 231.419 2184.5 230.678 L2184.5 225.979 Q2186.59 227.113 2188.81 227.669 Q2191.03 228.224 2193.51 228.224 Q2197.51 228.224 2199.85 226.118 Q2202.19 224.011 2202.19 220.4 Q2202.19 216.789 2199.85 214.683 Q2197.51 212.576 2193.51 212.576 Q2191.63 212.576 2189.76 212.993 Q2187.91 213.41 2185.96 214.289 L2185.96 196.928 Z\" fill=\"#000000\" fill-rule=\"evenodd\" fill-opacity=\"1\" /><path clip-path=\"url(#clip680)\" d=\"M 0 0 M2211.98 196.928 L2230.34 196.928 L2230.34 200.863 L2216.26 200.863 L2216.26 209.336 Q2217.28 208.988 2218.3 208.826 Q2219.32 208.641 2220.34 208.641 Q2226.12 208.641 2229.5 211.812 Q2232.88 214.984 2232.88 220.4 Q2232.88 225.979 2229.41 229.081 Q2225.94 232.159 2219.62 232.159 Q2217.44 232.159 2215.17 231.789 Q2212.93 231.419 2210.52 230.678 L2210.52 225.979 Q2212.6 227.113 2214.83 227.669 Q2217.05 228.224 2219.53 228.224 Q2223.53 228.224 2225.87 226.118 Q2228.21 224.011 2228.21 220.4 Q2228.21 216.789 2225.87 214.683 Q2223.53 212.576 2219.53 212.576 Q2217.65 212.576 2215.78 212.993 Q2213.92 213.41 2211.98 214.289 L2211.98 196.928 Z\" fill=\"#000000\" fill-rule=\"evenodd\" fill-opacity=\"1\" /><polyline clip-path=\"url(#clip680)\" style=\"stroke:#3da44d; stroke-width:4; stroke-opacity:1; fill:none\" points=\"\n",
       "  1870.48,274.688 2014.33,274.688 \n",
       "  \"/>\n",
       "<path clip-path=\"url(#clip680)\" d=\"M 0 0 M2053.39 255.95 L2053.39 265.51 Q2058 265.51 2061.08 269.052 Q2064.25 272.663 2064.25 279.028 Q2064.25 285.394 2061.08 289.005 Q2058 292.547 2053.39 292.547 L2053.39 301.829 L2049.16 301.829 L2049.16 292.547 Q2044.55 292.547 2041.45 289.005 Q2038.3 285.394 2038.3 279.028 Q2038.3 272.663 2041.45 269.052 Q2044.55 265.51 2049.16 265.51 L2049.16 255.95 L2053.39 255.95 M2053.39 288.751 Q2056.01 288.751 2057.79 286.366 Q2059.74 283.704 2059.76 279.028 Q2059.78 274.399 2057.79 271.691 Q2056.01 269.306 2053.39 269.306 L2053.39 288.751 M2049.16 288.751 L2049.16 269.306 Q2046.54 269.306 2044.78 271.691 Q2042.77 274.399 2042.79 279.028 Q2042.81 283.704 2044.78 286.366 Q2046.54 288.751 2049.16 288.751 Z\" fill=\"#000000\" fill-rule=\"evenodd\" fill-opacity=\"1\" /><path clip-path=\"url(#clip680)\" d=\"M 0 0 M2084.34 270.441 L2114.02 270.441 L2114.02 274.329 L2084.34 274.329 L2084.34 270.441 M2084.34 279.885 L2114.02 279.885 L2114.02 283.82 L2084.34 283.82 L2084.34 279.885 Z\" fill=\"#000000\" fill-rule=\"evenodd\" fill-opacity=\"1\" /><path clip-path=\"url(#clip680)\" d=\"M 0 0 M2131.4 277.084 L2143.88 277.084 L2143.88 280.88 L2131.4 280.88 L2131.4 277.084 Z\" fill=\"#000000\" fill-rule=\"evenodd\" fill-opacity=\"1\" /><path clip-path=\"url(#clip680)\" d=\"M 0 0 M2158.95 260.487 Q2155.34 260.487 2153.51 264.052 Q2151.7 267.593 2151.7 274.723 Q2151.7 281.829 2153.51 285.394 Q2155.34 288.936 2158.95 288.936 Q2162.58 288.936 2164.39 285.394 Q2166.22 281.829 2166.22 274.723 Q2166.22 267.593 2164.39 264.052 Q2162.58 260.487 2158.95 260.487 M2158.95 256.783 Q2164.76 256.783 2167.81 261.39 Q2170.89 265.973 2170.89 274.723 Q2170.89 283.45 2167.81 288.056 Q2164.76 292.639 2158.95 292.639 Q2153.14 292.639 2150.06 288.056 Q2147 283.45 2147 274.723 Q2147 265.973 2150.06 261.39 Q2153.14 256.783 2158.95 256.783 Z\" fill=\"#000000\" fill-rule=\"evenodd\" fill-opacity=\"1\" /><path clip-path=\"url(#clip680)\" d=\"M 0 0 M2175.96 286.089 L2180.85 286.089 L2180.85 291.968 L2175.96 291.968 L2175.96 286.089 Z\" fill=\"#000000\" fill-rule=\"evenodd\" fill-opacity=\"1\" /><path clip-path=\"url(#clip680)\" d=\"M 0 0 M2186.73 288.033 L2194.36 288.033 L2194.36 261.667 L2186.05 263.334 L2186.05 259.075 L2194.32 257.408 L2198.99 257.408 L2198.99 288.033 L2206.63 288.033 L2206.63 291.968 L2186.73 291.968 L2186.73 288.033 Z\" fill=\"#000000\" fill-rule=\"evenodd\" fill-opacity=\"1\" /></svg>\n"
      ]
     },
     "execution_count": 45,
     "metadata": {},
     "output_type": "execute_result"
    }
   ],
   "source": [
    "fig = plot();\n",
    "for i in 1:M\n",
    "    plot!(fig,Σ,A[:,i],label=\"ϕ = $(round(Φ[i],digits=2))\")\n",
    "end \n",
    "plot!(fig, xlabel=L\"\\textrm{Risk Aversion  } (\\sigma)\", ylabel=L\"\\textrm{Asset Demand  } E\\,[a(r)]\")\n",
    "fig"
   ]
  }
 ],
 "metadata": {
  "kernelspec": {
   "display_name": "Julia 1.5.4",
   "language": "julia",
   "name": "julia-1.5"
  },
  "language_info": {
   "file_extension": ".jl",
   "mimetype": "application/julia",
   "name": "julia",
   "version": "1.5.4"
  },
  "latex_envs": {
   "LaTeX_envs_menu_present": true,
   "autoclose": false,
   "autocomplete": true,
   "bibliofile": "biblio.bib",
   "cite_by": "apalike",
   "current_citInitial": 1,
   "eqLabelWithNumbers": true,
   "eqNumInitial": 1,
   "hotkeys": {
    "equation": "Ctrl-E",
    "itemize": "Ctrl-I"
   },
   "labels_anchors": false,
   "latex_user_defs": false,
   "report_style_numbering": false,
   "user_envs_cfg": false
  }
 },
 "nbformat": 4,
 "nbformat_minor": 4
}

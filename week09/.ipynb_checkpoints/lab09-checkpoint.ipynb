{
 "cells": [
  {
   "cell_type": "markdown",
   "metadata": {},
   "source": [
    "# Huggett Model"
   ]
  },
  {
   "cell_type": "markdown",
   "metadata": {},
   "source": [
    "Contents:\n",
    "\n",
    "- [Huggett Model](#Huggett-Model)  \n",
    "  - [Model Overview](#Model-Overview) \n",
    "  - [Solving for a Stationary Equilibrium](#Solving-for-a-Stationary-Equilibrium) \n",
    "  - [Analysis](#Analysis)   "
   ]
  },
  {
   "cell_type": "markdown",
   "metadata": {},
   "source": [
    "This lab includes:\n",
    "\n",
    "(1) A brief overview of the Huggett's incomplete markets model;\n",
    "\n",
    "(2) A computational approach to solving for stationary equilibria for Huggett's model;\n",
    "\n",
    "(3) Analyses of changes in the stationary equilibrium by varying the model parameters."
   ]
  },
  {
   "cell_type": "markdown",
   "metadata": {},
   "source": [
    "---\n",
    "\n",
    "## Model Overview"
   ]
  },
  {
   "cell_type": "markdown",
   "metadata": {},
   "source": [
    "### Intuitive Description"
   ]
  },
  {
   "cell_type": "markdown",
   "metadata": {},
   "source": [
    "Huggett (1993) sets up and analyzes a pure consumption-loans economy. \n",
    "\n",
    "The economy is populated by a unit mass of households.\n",
    "\n",
    "Each household lives to maximize their lifetime utility, which is a function of its consumption path.\n",
    "\n",
    "In each period, each household is endowed stochastically and idiosyncratically with some income.\n",
    "\n",
    "More specifically, the household's endowment follows a Markov chain $(\\mathcal{P},\\overline{s})$.\n",
    "\n",
    "The stochastic and idiosyncratic nature of the endowment process in the economy creates risk for each household.\n",
    "\n",
    "The existence of risk creates the need for risk management / insurance against the risk.\n",
    "\n",
    "The vehicle for such insurance is the centralized loan market, where households can borrow and lend at some constant risk-free interest rate $r$.\n",
    "\n",
    "Total borrowing is bounded by some $\\phi > 0$ (otherwise debt levels could blow up).\n",
    "\n",
    "$\\ast$ The level of assets is restricted to the *discrete* set $\\mathcal{A} = [\\overline{a}_1, \\ldots, \\overline{a}_m]$, where the lower bound on assets is $\\overline{a}_1 = - \\phi$.\n",
    "\n",
    "(Why does $\\overline{a}_1 = - \\phi$ make sense? Think abut the intuitive relationship between assets and debt.)"
   ]
  },
  {
   "cell_type": "markdown",
   "metadata": {},
   "source": [
    "### Stationary Equilibrium Definition"
   ]
  },
  {
   "cell_type": "markdown",
   "metadata": {},
   "source": [
    "Given a borrowing limit $\\phi$ a **stationary equilibrium** is an interest rate $r$, a policy function $g(a,s)$, and a stationary distribution $\\lambda(a,s)$ for which "
   ]
  },
  {
   "cell_type": "markdown",
   "metadata": {},
   "source": [
    "#### (a) \n",
    "\n",
    "Given $r$, the policy function $g(a,s)$ solves the household's optimum problem\n",
    "\n",
    "\\begin{align*}\n",
    "\\max_{ \\{c_t,a_{t+1}\\} } E_0 \\sum_{t=0}^\\infty \\beta^t u(c_t) \\, ,\n",
    "\\end{align*}\n",
    "\n",
    "subject to \n",
    "\n",
    "\\begin{align*}\n",
    "c_t + a_{t+1} &= (1+r) a_t + w s_t \\, , \\\\\n",
    "a_{t+1} &\\in \\mathcal{A} \\, ,\n",
    "\\end{align*}\n",
    "\n",
    "where $\\beta \\in (0,1)$, $u(c)$ has the usual properties, and $\\beta (1+r) < 1$."
   ]
  },
  {
   "cell_type": "markdown",
   "metadata": {},
   "source": [
    "#### (b)\n",
    "\n",
    "The probability distribution $\\lambda(a,s)$ is the invariant distribution of the Markov chain on $(a,s)$ induced by the Markov chain $(\\mathcal{P},\\overline{s})$ and the optimal policy $g(a,s)$.\n",
    "\n",
    "Let's think a bit about this Markov chain. \n",
    "\n",
    "Define $x = (a,s)$ as a single state variable. \n",
    "\n",
    "More specifically, if $i = 1,\\ldots,n$ indexes the asset level grid $\\mathcal{A}$, and $h = 1,\\ldots,m$ indexes the possible income states $\\{ws_1,\\ldots,ws_m\\}$, then the $j$-th element of $x$ is is $x_j = (a_i, s_i)$, where $j= (i-1)m + h$:\n",
    "\n",
    "\\begin{align*}\n",
    "x' = [(\\overline{a}_1,\\overline{s}_1),\\ldots,(\\overline{a}_1,\\overline{s}_m),\n",
    "(\\overline{a}_2,\\overline{s}_1),\\ldots,(\\overline{a}_2,\\overline{s}_m),\n",
    "\\ldots, (\\overline{a}_n,\\overline{s}_1),\\ldots,(\\overline{a}_n,\\overline{s}_m)] \\, .\n",
    "\\end{align*}\n",
    "\n",
    "The Markov chain for $x$ is determined by the following equation:\n",
    "\n",
    "\\begin{align*}\n",
    "P[(a_{t+1} = a', s_{t+1} =s') \\,|\\, (a_t = a, s_t = s) ] \n",
    "&= \n",
    "P(a_{t+1} = a\\prime \\,|\\, a_t =a, s_t = s) \\cdot P(s_{t+1} = s' \\,|\\, s_t = s)\n",
    "\\\\\n",
    "&=\n",
    "    \\mathcal{I}(a\\prime, a,s) \\mathcal{P}(s,s') \\, ,\n",
    "\\end{align*}\n",
    "where $ \\mathcal{I}(a\\prime, a,s) = 1$ if $a' = g(a,s)$ and zero otherwise, and $\\mathcal{P}$ is the given Markov chain on $s$.\n",
    "\n",
    "The Markov process defined by the above equation corresponds to a $(n \\cdot m) \\times (n \\cdot m)$ transition matrix $P$.\n",
    "\n",
    "The stationary distribution corresponding to the transition matrix $P$ is a vector $\\pi_\\infty$ with $n \\cdot m$ entries."
   ]
  },
  {
   "cell_type": "markdown",
   "metadata": {},
   "source": [
    "#### (c)\n",
    "\n",
    "When $\\lambda(a,s)$ describes the cross-section of households at each date, the loan market clears:\n",
    "\n",
    "\\begin{align*}\n",
    "\\sum_{a,s} \\lambda(a,s) g(a,s) = 0 \\, .\n",
    "\\end{align*}"
   ]
  },
  {
   "cell_type": "markdown",
   "metadata": {},
   "source": [
    "---\n",
    "\n",
    "## Solving for a Stationary Equilibrium"
   ]
  },
  {
   "cell_type": "markdown",
   "metadata": {
    "ExecuteTime": {
     "end_time": "2021-05-24T17:53:41.789000-07:00",
     "start_time": "2021-05-25T00:53:38.479Z"
    }
   },
   "source": [
    "First we load all necessary packages."
   ]
  },
  {
   "cell_type": "code",
   "execution_count": 1,
   "metadata": {
    "ExecuteTime": {
     "end_time": "2021-05-26T12:43:13.431000-07:00",
     "start_time": "2021-05-26T19:42:24.389Z"
    }
   },
   "outputs": [],
   "source": [
    "using Parameters\n",
    "using QuantEcon\n",
    "using LinearAlgebra\n",
    "using SparseArrays\n",
    "using Plots\n",
    "using LaTeXStrings"
   ]
  },
  {
   "cell_type": "markdown",
   "metadata": {},
   "source": [
    "We then define a structure called `Agent` that will contain all agent-specific model parameters."
   ]
  },
  {
   "cell_type": "code",
   "execution_count": 2,
   "metadata": {
    "ExecuteTime": {
     "end_time": "2021-05-26T12:43:26.666000-07:00",
     "start_time": "2021-05-26T19:42:26.300Z"
    }
   },
   "outputs": [],
   "source": [
    "mutable struct Agent\n",
    "  σ::Float64 # risk aversion parameter\n",
    "  β::Float64 # discount factor\n",
    "  r::Float64 # interest rate \n",
    "  w::Float64 # endowment\n",
    "  e::Vector{Float64} # vector of productivities\n",
    "  π::Vector{Float64} # probability weights on productivities\n",
    "  agrid::Vector{Float64} # grid for asset holdings \n",
    "end;"
   ]
  },
  {
   "cell_type": "markdown",
   "metadata": {},
   "source": [
    "Then we construct a function `utility` that will take agent parameters and the level of consumption as inputs, and return the utility level."
   ]
  },
  {
   "cell_type": "code",
   "execution_count": 3,
   "metadata": {
    "ExecuteTime": {
     "end_time": "2021-05-26T12:43:27.103000-07:00",
     "start_time": "2021-05-26T19:42:28.235Z"
    }
   },
   "outputs": [],
   "source": [
    "\"\"\"\n",
    "Utility function for agent when consumption is a real number\n",
    "\"\"\"\n",
    "function utility(agent::Agent,c::Real)\n",
    "    \n",
    "    σ = agent.σ # Store risk-aversion parameter\n",
    "    \n",
    "    # Define the utility mapping \n",
    "    # condition on the input `c`\n",
    "    if c > 0\n",
    "        if σ == 1\n",
    "          return log(c) # if σ = 1, CRRA utility is log\n",
    "        else\n",
    "          return c^(1-σ)/(1-σ) # if σ != 1, regular specification\n",
    "        end\n",
    "    else\n",
    "        return -Inf # infinite disutility if c∈(-∞,0]\n",
    "    end\n",
    "end;"
   ]
  },
  {
   "cell_type": "markdown",
   "metadata": {},
   "source": [
    "Allow for `utility` to be applied to a vector of different consumption levels as well."
   ]
  },
  {
   "cell_type": "code",
   "execution_count": 4,
   "metadata": {
    "ExecuteTime": {
     "end_time": "2021-05-26T12:43:27.106000-07:00",
     "start_time": "2021-05-26T19:42:30.375Z"
    }
   },
   "outputs": [],
   "source": [
    "\"\"\"\n",
    "Utility function when consumption is a vector\n",
    "\"\"\"\n",
    "function utility(agent::Agent,cvec)\n",
    "  u(c) = utility(agent,c)\n",
    "  return u.(cvec)\n",
    "end;"
   ]
  },
  {
   "cell_type": "markdown",
   "metadata": {},
   "source": [
    "Create a function `iterateBellman` that applies a single Bellman mapping to an initial value function guess.\n",
    "As always, the model parameters must also be inputted."
   ]
  },
  {
   "cell_type": "code",
   "execution_count": 5,
   "metadata": {
    "ExecuteTime": {
     "end_time": "2021-05-26T12:43:27.181000-07:00",
     "start_time": "2021-05-26T19:42:32.263Z"
    }
   },
   "outputs": [],
   "source": [
    "\"\"\"\n",
    "  iterateBellman(agent::Agent,Vcont)\n",
    "\n",
    "Iterates on the bellman equation using continuation value function Vcont\n",
    "\"\"\"\n",
    "function iterateBellman(agent::Agent,Vcont)\n",
    "  @unpack σ,agrid,π,w,e,r,β = agent #unpack parameters of agent\n",
    "  u(c) = utility(agent,c)#shorthand for utility\n",
    "  Na = length(agrid)\n",
    "  S = length(e)\n",
    "\n",
    "  EVcont = Vcont*π #precompute expected value\n",
    "\n",
    "  #solve for each state\n",
    "  #preallocate space for V and a_policy\n",
    "  V = similar(Vcont)\n",
    "  a_policy = similar(Vcont,Int)\n",
    "  for s  in 1:S\n",
    "    for ia_ in 1:Na\n",
    "      cvec = e[s]*w + (1+r)*agrid[ia_] - agrid #possible consumption values for each asset position\n",
    "      obj = u(cvec) + β * EVcont #objective for each asset position\n",
    "\n",
    "      V[ia_,s],a_policy[ia_,s] = findmax(obj) #choose maximum asset position\n",
    "    end\n",
    "  end\n",
    "  return V,a_policy\n",
    "end;"
   ]
  },
  {
   "cell_type": "code",
   "execution_count": 6,
   "metadata": {
    "ExecuteTime": {
     "end_time": "2021-05-26T12:43:27.191000-07:00",
     "start_time": "2021-05-26T19:42:34.581Z"
    }
   },
   "outputs": [],
   "source": [
    "\"\"\"\n",
    "  iterateBellman_alt(agent::Agent,Vcont)\n",
    "\n",
    "Iterates on the bellman equation using continuation value function Vcont.  Exploits\n",
    "that a_policy in increasing in a and that the value function is concave.\n",
    "\"\"\"\n",
    "function iterateBellman_alt(agent::Agent,Vcont)\n",
    "  @unpack σ,agrid,π,w,e,r,β = agent\n",
    "  u(c) = utility(agent,c)\n",
    "  Na = length(agrid)\n",
    "  S = length(e)\n",
    "  EVcont = Vcont*π #precompute expected value\n",
    "\n",
    "  EVcont = Vcont*π #precompute expected value\n",
    "\n",
    "  #solve for each state\n",
    "  #preallocate space for V and a_policy\n",
    "  V = similar(Vcont) #creates V the same size as Vcont\n",
    "  a_policy = similar(Vcont,Int) #note a_policy needs to be integers\n",
    "  for s  in 1:S\n",
    "    aprev = 1 #stores for the last ia_ the optimal policy\n",
    "    for ia_ in 1:Na\n",
    "      maxobj = -Inf #stores the maxobj up to this point\n",
    "      for ia in aprev:Na #start iterating at a_policy[ia_-1,s]\n",
    "        c = w*e[s] + (1+r)*agrid[ia_] - agrid[ia] #get consumption for this ia\n",
    "        obj = u(c) + β * EVcont[ia] #get objective\n",
    "        if obj >= maxobj #check if increasing ia improves utility\n",
    "          V[ia_,s],a_policy[ia_,s] = obj,ia #if so store values\n",
    "          maxobj = obj#and update maxobj\n",
    "        else\n",
    "          break #if it decreases utility end for loop, we have found our max\n",
    "        end\n",
    "      end\n",
    "      aprev = a_policy[ia_,s]#store the max in aprev for next ia_\n",
    "    end\n",
    "  end\n",
    "  return V,a_policy\n",
    "end;"
   ]
  },
  {
   "cell_type": "markdown",
   "metadata": {},
   "source": [
    "Create function `solveBellman` that applies the Bellman mapping iteratively until convergence. "
   ]
  },
  {
   "cell_type": "code",
   "execution_count": 7,
   "metadata": {
    "ExecuteTime": {
     "end_time": "2021-05-26T12:43:27.199000-07:00",
     "start_time": "2021-05-26T19:42:37.190Z"
    }
   },
   "outputs": [],
   "source": [
    "\"\"\"\n",
    "  solveBellman(agent::Agent,V0,ϵ=1e-6)\n",
    "\n",
    "Solves the bellman equation for a given guess of V0 using iterateBellman\n",
    "\"\"\"\n",
    "function solveBellman(agent::Agent,V0,ϵ=1e-6)\n",
    "  Vcont = V0\n",
    "  a_policy = similar(V0,Int)\n",
    "  diff = 1.\n",
    "\n",
    "  while diff > ϵ\n",
    "    V,a_policy = iterateBellman(agent,Vcont)\n",
    "    diff = norm((V-Vcont)[:],Inf)\n",
    "    Vcont = V\n",
    "  end\n",
    "  return Vcont,a_policy\n",
    "end;"
   ]
  },
  {
   "cell_type": "code",
   "execution_count": 8,
   "metadata": {
    "ExecuteTime": {
     "end_time": "2021-05-26T12:43:27.205000-07:00",
     "start_time": "2021-05-26T19:42:39.329Z"
    }
   },
   "outputs": [],
   "source": [
    "\"\"\"\n",
    "  solveBellman_alt(agent::Agent,V0,ϵ=1e-6)\n",
    "\n",
    "Solves the bellman equation for a given guess of V0 using iterateBellman_alt\n",
    "\"\"\"\n",
    "function solveBellman_alt(agent::Agent,V0,ϵ=1e-6)\n",
    "  Vcont = V0\n",
    "  a_policy = similar(V0,Int)\n",
    "  diff = 1.\n",
    "\n",
    "  while diff > ϵ\n",
    "    V,a_policy = iterateBellman_alt(agent,Vcont)\n",
    "    diff = norm((V-Vcont)[:],Inf)\n",
    "    Vcont = V\n",
    "  end\n",
    "  return Vcont,a_policy\n",
    "end;"
   ]
  },
  {
   "cell_type": "markdown",
   "metadata": {},
   "source": [
    "Now let's create a function `constructTransitionMatrix` that... constructs the transition matrix."
   ]
  },
  {
   "cell_type": "code",
   "execution_count": 9,
   "metadata": {
    "ExecuteTime": {
     "end_time": "2021-05-26T12:43:27.213000-07:00",
     "start_time": "2021-05-26T19:42:41.128Z"
    }
   },
   "outputs": [],
   "source": [
    "function constructTransitionMatrix(agent::Agent,a_policy)\n",
    "  @unpack π,agrid = agent\n",
    "\n",
    "  N = length(agrid)\n",
    "  S = length(π)\n",
    "\n",
    "  H = spzeros(N*S,N*S) #sparse matrix to save on space\n",
    "  for n_ in 1:N\n",
    "    for s in 1:S\n",
    "      i_ = n_+N*(s-1) # index for ia_,s\n",
    "      n = a_policy[n_,s]\n",
    "      for sprime in 1:S\n",
    "        i = n+N*(sprime-1)\n",
    "        #probability of transitioning from state ia_,s to ia,sprime\n",
    "        H[i_,i] = π[sprime]\n",
    "      end\n",
    "    end\n",
    "  end\n",
    "  return H\n",
    "end;"
   ]
  },
  {
   "cell_type": "markdown",
   "metadata": {},
   "source": [
    "We then create a function `find_stationary_distribution` that updates the transition matrix given a uniform initial distribution until it converges to a stationary distribution (represented by a vector)."
   ]
  },
  {
   "cell_type": "code",
   "execution_count": 10,
   "metadata": {
    "ExecuteTime": {
     "end_time": "2021-05-26T12:43:27.217000-07:00",
     "start_time": "2021-05-26T19:42:43.018Z"
    }
   },
   "outputs": [],
   "source": [
    "function find_stationary_distribution(agent::Agent,a_policy)\n",
    "  H = constructTransitionMatrix(agent,a_policy)\n",
    "  N = size(H)[1]\n",
    "  π0 = ones(1,N)/N\n",
    "  diff = 1.\n",
    "  while diff > 1e-10\n",
    "    π1 = π0*H\n",
    "    diff = norm(π1-π0,Inf)\n",
    "    π0 = π1\n",
    "  end\n",
    "\n",
    "  return π0\n",
    "end;"
   ]
  },
  {
   "cell_type": "markdown",
   "metadata": {},
   "source": [
    "Lastly, we create a function `computeassetdemand` that solves for the asset demand in the stationary equilibrium."
   ]
  },
  {
   "cell_type": "code",
   "execution_count": 11,
   "metadata": {
    "ExecuteTime": {
     "end_time": "2021-05-26T12:43:27.223000-07:00",
     "start_time": "2021-05-26T19:42:44.933Z"
    }
   },
   "outputs": [],
   "source": [
    "\"\"\"\n",
    "  computeassetdemand(agent::Agent,r)\n",
    "\n",
    "Computes asset demanded in steady state at interest rate r and\n",
    "wage w\n",
    "\"\"\"\n",
    "function computeassetdemand(agent::Agent,r,w)\n",
    "  agent.r = r\n",
    "  agent.w = w\n",
    "\n",
    "  N = length(agent.agrid)\n",
    "  S = length(agent.e)\n",
    "  V0 = zeros(N,S)\n",
    "\n",
    "  V,a_policy = solveBellman_alt(agent,V0)\n",
    "  λss = find_stationary_distribution(agent,a_policy)\n",
    "\n",
    "  A = 0.\n",
    "  for n in 1:N\n",
    "    for s in 1:S\n",
    "      i = n + (s-1)*N\n",
    "      A  = A + λss[i] * agent.agrid[n]\n",
    "    end\n",
    "  end\n",
    "\n",
    "  λss = reshape(λss,N,S) #λss[ia_,s] is the fraction of agents with assets agrid[ia]\n",
    "  #and productivity e[s]\n",
    "\n",
    "  return dot(agent.agrid,sum(λss,dims=2)) #agrid*πss gives average assets for each productivity\n",
    "end;"
   ]
  },
  {
   "cell_type": "markdown",
   "metadata": {},
   "source": [
    "---\n",
    "\n",
    "## Analysis"
   ]
  },
  {
   "cell_type": "markdown",
   "metadata": {},
   "source": [
    "Let's use our code to solve for the equilibrum asset demand."
   ]
  },
  {
   "cell_type": "code",
   "execution_count": 12,
   "metadata": {
    "ExecuteTime": {
     "end_time": "2021-05-26T12:43:29.428000-07:00",
     "start_time": "2021-05-26T19:42:48.979Z"
    }
   },
   "outputs": [
    {
     "data": {
      "text/plain": [
       "0.00042094784010208216"
      ]
     },
     "execution_count": 12,
     "metadata": {},
     "output_type": "execute_result"
    }
   ],
   "source": [
    "agent = Agent(2.,0.96,.02,1.,[.8,1.,1.2],ones(3)/3,LinRange(-.5,25.,1000))\n",
    "computeassetdemand(agent,.03435,1.)"
   ]
  },
  {
   "cell_type": "code",
   "execution_count": 13,
   "metadata": {
    "ExecuteTime": {
     "end_time": "2021-05-26T12:44:02.873000-07:00",
     "start_time": "2021-05-26T19:42:51.140Z"
    }
   },
   "outputs": [],
   "source": [
    "N = 10\n",
    "M = 3\n",
    "Σ = LinRange(2.,50.,N)\n",
    "Φ = LinRange(-1.0,-0.1,M)\n",
    "A = zeros(N,M)\n",
    "\n",
    "for i in 1:N\n",
    "    for j in 1:M\n",
    "        agent = Agent(Σ[i],0.96,0.02,1.,[.8,1.,1.2],ones(3)/3,LinRange(Φ[j],25.,1000))\n",
    "        A[i,j] = computeassetdemand(agent,.03435,1.)\n",
    "    end \n",
    "end"
   ]
  },
  {
   "cell_type": "code",
   "execution_count": 14,
   "metadata": {
    "ExecuteTime": {
     "end_time": "2021-05-26T12:44:21.050000-07:00",
     "start_time": "2021-05-26T19:42:53.570Z"
    }
   },
   "outputs": [
    {
     "data": {
      "image/svg+xml": [
       "<?xml version=\"1.0\" encoding=\"utf-8\"?>\n",
       "<svg xmlns=\"http://www.w3.org/2000/svg\" xmlns:xlink=\"http://www.w3.org/1999/xlink\" width=\"600\" height=\"400\" viewBox=\"0 0 2400 1600\">\n",
       "<defs>\n",
       "  <clipPath id=\"clip770\">\n",
       "    <rect x=\"0\" y=\"0\" width=\"2400\" height=\"1600\"/>\n",
       "  </clipPath>\n",
       "</defs>\n",
       "<path clip-path=\"url(#clip770)\" d=\"\n",
       "M0 1600 L2400 1600 L2400 0 L0 0  Z\n",
       "  \" fill=\"#ffffff\" fill-rule=\"evenodd\" fill-opacity=\"1\"/>\n",
       "<defs>\n",
       "  <clipPath id=\"clip771\">\n",
       "    <rect x=\"480\" y=\"0\" width=\"1681\" height=\"1600\"/>\n",
       "  </clipPath>\n",
       "</defs>\n",
       "<path clip-path=\"url(#clip770)\" d=\"\n",
       "M195.032 1427.37 L2352.76 1427.37 L2352.76 47.2441 L195.032 47.2441  Z\n",
       "  \" fill=\"#ffffff\" fill-rule=\"evenodd\" fill-opacity=\"1\"/>\n",
       "<defs>\n",
       "  <clipPath id=\"clip772\">\n",
       "    <rect x=\"195\" y=\"47\" width=\"2159\" height=\"1381\"/>\n",
       "  </clipPath>\n",
       "</defs>\n",
       "<polyline clip-path=\"url(#clip772)\" style=\"stroke:#000000; stroke-width:2; stroke-opacity:0.1; fill:none\" points=\"\n",
       "  595.364,1427.37 595.364,47.2441 \n",
       "  \"/>\n",
       "<polyline clip-path=\"url(#clip772)\" style=\"stroke:#000000; stroke-width:2; stroke-opacity:0.1; fill:none\" points=\"\n",
       "  1019.45,1427.37 1019.45,47.2441 \n",
       "  \"/>\n",
       "<polyline clip-path=\"url(#clip772)\" style=\"stroke:#000000; stroke-width:2; stroke-opacity:0.1; fill:none\" points=\"\n",
       "  1443.53,1427.37 1443.53,47.2441 \n",
       "  \"/>\n",
       "<polyline clip-path=\"url(#clip772)\" style=\"stroke:#000000; stroke-width:2; stroke-opacity:0.1; fill:none\" points=\"\n",
       "  1867.61,1427.37 1867.61,47.2441 \n",
       "  \"/>\n",
       "<polyline clip-path=\"url(#clip772)\" style=\"stroke:#000000; stroke-width:2; stroke-opacity:0.1; fill:none\" points=\"\n",
       "  2291.69,1427.37 2291.69,47.2441 \n",
       "  \"/>\n",
       "<polyline clip-path=\"url(#clip770)\" style=\"stroke:#000000; stroke-width:4; stroke-opacity:1; fill:none\" points=\"\n",
       "  195.032,1427.37 2352.76,1427.37 \n",
       "  \"/>\n",
       "<polyline clip-path=\"url(#clip770)\" style=\"stroke:#000000; stroke-width:4; stroke-opacity:1; fill:none\" points=\"\n",
       "  595.364,1427.37 595.364,1410.81 \n",
       "  \"/>\n",
       "<polyline clip-path=\"url(#clip770)\" style=\"stroke:#000000; stroke-width:4; stroke-opacity:1; fill:none\" points=\"\n",
       "  1019.45,1427.37 1019.45,1410.81 \n",
       "  \"/>\n",
       "<polyline clip-path=\"url(#clip770)\" style=\"stroke:#000000; stroke-width:4; stroke-opacity:1; fill:none\" points=\"\n",
       "  1443.53,1427.37 1443.53,1410.81 \n",
       "  \"/>\n",
       "<polyline clip-path=\"url(#clip770)\" style=\"stroke:#000000; stroke-width:4; stroke-opacity:1; fill:none\" points=\"\n",
       "  1867.61,1427.37 1867.61,1410.81 \n",
       "  \"/>\n",
       "<polyline clip-path=\"url(#clip770)\" style=\"stroke:#000000; stroke-width:4; stroke-opacity:1; fill:none\" points=\"\n",
       "  2291.69,1427.37 2291.69,1410.81 \n",
       "  \"/>\n",
       "<path clip-path=\"url(#clip770)\" d=\"M 0 0 M572.239 1484.1 L579.878 1484.1 L579.878 1457.74 L571.568 1459.4 L571.568 1455.15 L579.832 1453.48 L584.508 1453.48 L584.508 1484.1 L592.146 1484.1 L592.146 1488.04 L572.239 1488.04 L572.239 1484.1 Z\" fill=\"#000000\" fill-rule=\"evenodd\" fill-opacity=\"1\" /><path clip-path=\"url(#clip770)\" d=\"M 0 0 M607.216 1456.56 Q603.605 1456.56 601.776 1460.12 Q599.971 1463.66 599.971 1470.79 Q599.971 1477.9 601.776 1481.46 Q603.605 1485.01 607.216 1485.01 Q610.85 1485.01 612.656 1481.46 Q614.484 1477.9 614.484 1470.79 Q614.484 1463.66 612.656 1460.12 Q610.85 1456.56 607.216 1456.56 M607.216 1452.85 Q613.026 1452.85 616.082 1457.46 Q619.16 1462.04 619.16 1470.79 Q619.16 1479.52 616.082 1484.13 Q613.026 1488.71 607.216 1488.71 Q601.406 1488.71 598.327 1484.13 Q595.271 1479.52 595.271 1470.79 Q595.271 1462.04 598.327 1457.46 Q601.406 1452.85 607.216 1452.85 Z\" fill=\"#000000\" fill-rule=\"evenodd\" fill-opacity=\"1\" /><path clip-path=\"url(#clip770)\" d=\"M 0 0 M1000.59 1484.1 L1016.91 1484.1 L1016.91 1488.04 L994.966 1488.04 L994.966 1484.1 Q997.628 1481.35 1002.21 1476.72 Q1006.82 1472.07 1008 1470.72 Q1010.24 1468.2 1011.12 1466.46 Q1012.03 1464.71 1012.03 1463.02 Q1012.03 1460.26 1010.08 1458.52 Q1008.16 1456.79 1005.06 1456.79 Q1002.86 1456.79 1000.41 1457.55 Q997.975 1458.32 995.198 1459.87 L995.198 1455.15 Q998.022 1454.01 1000.48 1453.43 Q1002.93 1452.85 1004.97 1452.85 Q1010.34 1452.85 1013.53 1455.54 Q1016.73 1458.22 1016.73 1462.71 Q1016.73 1464.84 1015.92 1466.77 Q1015.13 1468.66 1013.02 1471.26 Q1012.44 1471.93 1009.34 1475.15 Q1006.24 1478.34 1000.59 1484.1 Z\" fill=\"#000000\" fill-rule=\"evenodd\" fill-opacity=\"1\" /><path clip-path=\"url(#clip770)\" d=\"M 0 0 M1031.98 1456.56 Q1028.37 1456.56 1026.54 1460.12 Q1024.73 1463.66 1024.73 1470.79 Q1024.73 1477.9 1026.54 1481.46 Q1028.37 1485.01 1031.98 1485.01 Q1035.61 1485.01 1037.42 1481.46 Q1039.25 1477.9 1039.25 1470.79 Q1039.25 1463.66 1037.42 1460.12 Q1035.61 1456.56 1031.98 1456.56 M1031.98 1452.85 Q1037.79 1452.85 1040.85 1457.46 Q1043.92 1462.04 1043.92 1470.79 Q1043.92 1479.52 1040.85 1484.13 Q1037.79 1488.71 1031.98 1488.71 Q1026.17 1488.71 1023.09 1484.13 Q1020.04 1479.52 1020.04 1470.79 Q1020.04 1462.04 1023.09 1457.46 Q1026.17 1452.85 1031.98 1452.85 Z\" fill=\"#000000\" fill-rule=\"evenodd\" fill-opacity=\"1\" /><path clip-path=\"url(#clip770)\" d=\"M 0 0 M1434.27 1469.4 Q1437.62 1470.12 1439.5 1472.39 Q1441.4 1474.66 1441.4 1477.99 Q1441.4 1483.11 1437.88 1485.91 Q1434.36 1488.71 1427.88 1488.71 Q1425.7 1488.71 1423.39 1488.27 Q1421.1 1487.85 1418.64 1487 L1418.64 1482.48 Q1420.59 1483.62 1422.9 1484.2 Q1425.22 1484.77 1427.74 1484.77 Q1432.14 1484.77 1434.43 1483.04 Q1436.74 1481.3 1436.74 1477.99 Q1436.74 1474.94 1434.59 1473.22 Q1432.46 1471.49 1428.64 1471.49 L1424.61 1471.49 L1424.61 1467.65 L1428.83 1467.65 Q1432.28 1467.65 1434.1 1466.28 Q1435.93 1464.89 1435.93 1462.3 Q1435.93 1459.64 1434.04 1458.22 Q1432.16 1456.79 1428.64 1456.79 Q1426.72 1456.79 1424.52 1457.21 Q1422.32 1457.62 1419.68 1458.5 L1419.68 1454.33 Q1422.35 1453.59 1424.66 1453.22 Q1427 1452.85 1429.06 1452.85 Q1434.38 1452.85 1437.48 1455.28 Q1440.59 1457.69 1440.59 1461.81 Q1440.59 1464.68 1438.94 1466.67 Q1437.3 1468.64 1434.27 1469.4 Z\" fill=\"#000000\" fill-rule=\"evenodd\" fill-opacity=\"1\" /><path clip-path=\"url(#clip770)\" d=\"M 0 0 M1456.47 1456.56 Q1452.85 1456.56 1451.03 1460.12 Q1449.22 1463.66 1449.22 1470.79 Q1449.22 1477.9 1451.03 1481.46 Q1452.85 1485.01 1456.47 1485.01 Q1460.1 1485.01 1461.91 1481.46 Q1463.73 1477.9 1463.73 1470.79 Q1463.73 1463.66 1461.91 1460.12 Q1460.1 1456.56 1456.47 1456.56 M1456.47 1452.85 Q1462.28 1452.85 1465.33 1457.46 Q1468.41 1462.04 1468.41 1470.79 Q1468.41 1479.52 1465.33 1484.13 Q1462.28 1488.71 1456.47 1488.71 Q1450.66 1488.71 1447.58 1484.13 Q1444.52 1479.52 1444.52 1470.79 Q1444.52 1462.04 1447.58 1457.46 Q1450.66 1452.85 1456.47 1452.85 Z\" fill=\"#000000\" fill-rule=\"evenodd\" fill-opacity=\"1\" /><path clip-path=\"url(#clip770)\" d=\"M 0 0 M1857.11 1457.55 L1845.3 1476 L1857.11 1476 L1857.11 1457.55 M1855.88 1453.48 L1861.76 1453.48 L1861.76 1476 L1866.69 1476 L1866.69 1479.89 L1861.76 1479.89 L1861.76 1488.04 L1857.11 1488.04 L1857.11 1479.89 L1841.51 1479.89 L1841.51 1475.38 L1855.88 1453.48 Z\" fill=\"#000000\" fill-rule=\"evenodd\" fill-opacity=\"1\" /><path clip-path=\"url(#clip770)\" d=\"M 0 0 M1881.76 1456.56 Q1878.15 1456.56 1876.32 1460.12 Q1874.52 1463.66 1874.52 1470.79 Q1874.52 1477.9 1876.32 1481.46 Q1878.15 1485.01 1881.76 1485.01 Q1885.4 1485.01 1887.2 1481.46 Q1889.03 1477.9 1889.03 1470.79 Q1889.03 1463.66 1887.2 1460.12 Q1885.4 1456.56 1881.76 1456.56 M1881.76 1452.85 Q1887.57 1452.85 1890.63 1457.46 Q1893.71 1462.04 1893.71 1470.79 Q1893.71 1479.52 1890.63 1484.13 Q1887.57 1488.71 1881.76 1488.71 Q1875.95 1488.71 1872.87 1484.13 Q1869.82 1479.52 1869.82 1470.79 Q1869.82 1462.04 1872.87 1457.46 Q1875.95 1452.85 1881.76 1452.85 Z\" fill=\"#000000\" fill-rule=\"evenodd\" fill-opacity=\"1\" /><path clip-path=\"url(#clip770)\" d=\"M 0 0 M2268.46 1453.48 L2286.82 1453.48 L2286.82 1457.41 L2272.74 1457.41 L2272.74 1465.89 Q2273.76 1465.54 2274.78 1465.38 Q2275.8 1465.19 2276.82 1465.19 Q2282.6 1465.19 2285.98 1468.36 Q2289.36 1471.53 2289.36 1476.95 Q2289.36 1482.53 2285.89 1485.63 Q2282.42 1488.71 2276.1 1488.71 Q2273.92 1488.71 2271.65 1488.34 Q2269.41 1487.97 2267 1487.23 L2267 1482.53 Q2269.08 1483.66 2271.31 1484.22 Q2273.53 1484.77 2276.01 1484.77 Q2280.01 1484.77 2282.35 1482.67 Q2284.69 1480.56 2284.69 1476.95 Q2284.69 1473.34 2282.35 1471.23 Q2280.01 1469.13 2276.01 1469.13 Q2274.13 1469.13 2272.26 1469.54 Q2270.4 1469.96 2268.46 1470.84 L2268.46 1453.48 Z\" fill=\"#000000\" fill-rule=\"evenodd\" fill-opacity=\"1\" /><path clip-path=\"url(#clip770)\" d=\"M 0 0 M2304.43 1456.56 Q2300.82 1456.56 2298.99 1460.12 Q2297.19 1463.66 2297.19 1470.79 Q2297.19 1477.9 2298.99 1481.46 Q2300.82 1485.01 2304.43 1485.01 Q2308.07 1485.01 2309.87 1481.46 Q2311.7 1477.9 2311.7 1470.79 Q2311.7 1463.66 2309.87 1460.12 Q2308.07 1456.56 2304.43 1456.56 M2304.43 1452.85 Q2310.24 1452.85 2313.3 1457.46 Q2316.38 1462.04 2316.38 1470.79 Q2316.38 1479.52 2313.3 1484.13 Q2310.24 1488.71 2304.43 1488.71 Q2298.62 1488.71 2295.54 1484.13 Q2292.49 1479.52 2292.49 1470.79 Q2292.49 1462.04 2295.54 1457.46 Q2298.62 1452.85 2304.43 1452.85 Z\" fill=\"#000000\" fill-rule=\"evenodd\" fill-opacity=\"1\" /><path clip-path=\"url(#clip770)\" d=\"M 0 0 M1011.32 1557.46 L1011.32 1555.43 L1012.89 1555.43 Q1016.47 1555.43 1017.27 1554.85 Q1018.11 1554.24 1018.11 1552.3 L1018.11 1517.55 Q1018.11 1515.65 1017.27 1515.07 Q1016.44 1514.46 1012.89 1514.46 L1011.32 1514.46 L1011.32 1512.4 L1032.02 1512.4 Q1039.21 1512.4 1044.2 1515.94 Q1049.22 1519.45 1049.22 1524.28 Q1049.22 1527.99 1045.97 1530.89 Q1042.72 1533.79 1037.69 1535.04 Q1044.23 1537.3 1045.74 1542.67 L1046.58 1547.96 Q1046.84 1549.86 1047 1550.82 Q1047.19 1551.79 1047.48 1553.11 Q1047.77 1554.43 1048.06 1555.07 Q1048.38 1555.69 1048.84 1556.36 Q1049.29 1557.01 1049.87 1557.23 Q1050.48 1557.46 1051.28 1557.46 Q1052.8 1557.46 1054.09 1556.1 Q1055.37 1554.75 1055.63 1551.6 Q1055.76 1550.53 1056.44 1550.53 Q1057.27 1550.53 1057.27 1551.6 Q1057.27 1552.53 1057.02 1553.62 Q1056.76 1554.69 1056.11 1555.94 Q1055.5 1557.2 1054.15 1558.04 Q1052.8 1558.91 1051.03 1558.91 Q1045.87 1558.91 1042.72 1556.14 Q1041.4 1554.94 1040.78 1553.4 Q1040.2 1551.85 1040.11 1550.63 Q1040.01 1549.41 1040.01 1546.7 Q1040.01 1542.87 1039.59 1541.19 Q1039.21 1539.52 1037.5 1537.88 Q1035.18 1535.62 1031.35 1535.62 L1023.78 1535.62 L1023.78 1552.3 Q1023.78 1554.2 1024.58 1554.82 Q1025.42 1555.43 1029 1555.43 L1030.57 1555.43 L1030.57 1557.46 Q1028.19 1557.26 1020.95 1557.26 Q1013.7 1557.26 1011.32 1557.46 M1023.78 1534.17 L1031.09 1534.17 Q1034.6 1534.17 1036.95 1533.33 Q1039.33 1532.46 1040.46 1530.92 Q1041.59 1529.37 1042.01 1527.83 Q1042.43 1526.25 1042.43 1524.28 Q1042.43 1521.97 1041.91 1520.23 Q1041.4 1518.49 1040.27 1517.46 Q1039.14 1516.43 1038.01 1515.78 Q1036.89 1515.11 1035.15 1514.85 Q1033.41 1514.59 1032.22 1514.53 Q1031.03 1514.46 1029.13 1514.46 Q1025.91 1514.46 1025.23 1514.59 Q1024.49 1514.65 1024.2 1515.01 Q1023.91 1515.36 1023.84 1515.78 Q1023.78 1516.17 1023.78 1517.1 L1023.78 1534.17 Z\" fill=\"#000000\" fill-rule=\"evenodd\" fill-opacity=\"1\" /><path clip-path=\"url(#clip770)\" d=\"M 0 0 M1059.42 1557.46 L1059.42 1555.43 Q1062.93 1555.43 1063.74 1555.01 Q1064.54 1554.56 1064.54 1552.43 L1064.54 1534.69 Q1064.54 1532.24 1063.7 1531.66 Q1062.9 1531.08 1059.68 1531.08 L1059.68 1529.02 L1068.89 1528.31 L1068.89 1552.5 Q1068.89 1554.46 1069.6 1554.94 Q1070.31 1555.43 1073.53 1555.43 L1073.53 1557.46 Q1066.8 1557.26 1066.67 1557.26 Q1065.77 1557.26 1059.42 1557.46 M1062.19 1516.81 Q1062.19 1515.49 1063.19 1514.43 Q1064.22 1513.33 1065.67 1513.33 Q1067.12 1513.33 1068.15 1514.33 Q1069.18 1515.3 1069.18 1516.84 Q1069.18 1518.36 1068.15 1519.36 Q1067.12 1520.32 1065.67 1520.32 Q1064.16 1520.32 1063.16 1519.26 Q1062.19 1518.2 1062.19 1516.81 Z\" fill=\"#000000\" fill-rule=\"evenodd\" fill-opacity=\"1\" /><path clip-path=\"url(#clip770)\" d=\"M 0 0 M1077.52 1556.59 L1077.52 1547.89 Q1077.52 1547.15 1077.55 1546.89 Q1077.59 1546.64 1077.78 1546.44 Q1077.97 1546.25 1078.36 1546.25 Q1078.81 1546.25 1078.97 1546.44 Q1079.16 1546.64 1079.29 1547.38 Q1080.29 1551.92 1082.42 1554.33 Q1084.57 1556.72 1088.47 1556.72 Q1092.17 1556.72 1094.04 1555.07 Q1095.91 1553.43 1095.91 1550.73 Q1095.91 1545.89 1089.05 1544.67 Q1085.09 1543.87 1083.45 1543.35 Q1081.8 1542.8 1080.35 1541.61 Q1077.52 1539.29 1077.52 1536.01 Q1077.52 1532.72 1080 1530.31 Q1082.51 1527.89 1088.05 1527.89 Q1091.76 1527.89 1094.27 1529.76 Q1095.01 1529.18 1095.4 1528.7 Q1096.26 1527.89 1096.72 1527.89 Q1097.23 1527.89 1097.33 1528.25 Q1097.42 1528.57 1097.42 1529.5 L1097.42 1536.14 Q1097.42 1536.88 1097.39 1537.13 Q1097.36 1537.39 1097.17 1537.59 Q1096.97 1537.75 1096.55 1537.75 Q1095.81 1537.75 1095.78 1537.13 Q1095.27 1529.15 1088.05 1529.15 Q1084.16 1529.15 1082.42 1530.66 Q1080.68 1532.14 1080.68 1534.17 Q1080.68 1535.3 1081.19 1536.17 Q1081.74 1537.01 1082.42 1537.52 Q1083.12 1538 1084.41 1538.49 Q1085.7 1538.94 1086.47 1539.1 Q1087.28 1539.26 1088.79 1539.58 Q1094.07 1540.58 1096.3 1542.74 Q1099.07 1545.51 1099.07 1549.02 Q1099.07 1552.92 1096.43 1555.56 Q1093.78 1558.2 1088.47 1558.2 Q1084.19 1558.2 1081.19 1555.33 Q1080.81 1555.72 1080.52 1556.07 Q1080.23 1556.39 1080.1 1556.52 Q1080 1556.65 1079.97 1556.75 Q1079.94 1556.81 1079.87 1556.88 Q1078.55 1558.2 1078.23 1558.2 Q1077.71 1558.2 1077.62 1557.84 Q1077.52 1557.52 1077.52 1556.59 Z\" fill=\"#000000\" fill-rule=\"evenodd\" fill-opacity=\"1\" /><path clip-path=\"url(#clip770)\" d=\"M 0 0 M1103.25 1557.46 L1103.25 1555.43 Q1106.76 1555.43 1107.57 1555.01 Q1108.4 1554.56 1108.4 1552.43 L1108.4 1518.13 Q1108.4 1515.69 1107.53 1515.07 Q1106.7 1514.46 1103.25 1514.46 L1103.25 1512.4 L1112.75 1511.69 L1112.75 1543.35 L1122.06 1535.3 Q1123.51 1534.04 1123.51 1532.72 Q1123.51 1531.21 1121.61 1531.08 L1121.61 1529.02 Q1124.38 1529.21 1128.98 1529.21 Q1131.69 1529.21 1133.59 1529.02 L1133.59 1531.08 Q1129.43 1531.27 1125.28 1534.62 Q1124.34 1535.36 1122.12 1537.3 Q1119.93 1539.2 1119.93 1539.39 Q1119.93 1539.45 1120 1539.61 Q1120.09 1539.78 1120.22 1539.9 Q1120.35 1540.03 1120.35 1540.1 L1128.72 1551.92 Q1130.43 1554.3 1131.69 1554.88 Q1132.94 1555.43 1135.13 1555.43 L1135.13 1557.46 Q1132.3 1557.26 1129.37 1557.26 Q1127.79 1557.26 1122.25 1557.46 L1122.25 1555.43 Q1124.63 1555.43 1124.63 1553.88 Q1124.63 1552.82 1119.29 1545.44 Q1118.9 1544.93 1118.03 1543.8 Q1117.23 1542.61 1116.78 1542.03 L1112.56 1545.64 L1112.56 1552.43 Q1112.56 1554.56 1113.36 1555.01 Q1114.2 1555.43 1117.71 1555.43 L1117.71 1557.46 Q1113.75 1557.26 1110.46 1557.26 Q1109.79 1557.26 1103.25 1557.46 Z\" fill=\"#000000\" fill-rule=\"evenodd\" fill-opacity=\"1\" /><path clip-path=\"url(#clip770)\" d=\"M 0 0 M1159.43 1557.46 L1159.43 1555.43 Q1165.29 1555.3 1166.81 1550.98 L1180.46 1511.56 Q1180.72 1510.76 1181.01 1510.5 Q1181.3 1510.24 1182.04 1510.24 Q1182.43 1510.24 1182.65 1510.31 Q1182.91 1510.37 1183.07 1510.6 Q1183.23 1510.82 1183.3 1510.95 Q1183.36 1511.08 1183.55 1511.56 L1197.79 1552.79 Q1198.3 1554.43 1199.37 1554.94 Q1200.43 1555.43 1203.42 1555.43 L1204.58 1555.43 L1204.58 1557.46 Q1200.43 1557.26 1195.95 1557.26 Q1188.84 1557.26 1186.45 1557.46 L1186.45 1555.43 Q1191.93 1555.43 1191.93 1553.43 Q1191.93 1553.3 1191.73 1552.5 L1188.26 1542.42 L1171.96 1542.42 L1168.9 1551.05 Q1168.77 1551.31 1168.77 1552.05 Q1168.77 1553.43 1170.06 1554.43 Q1171.35 1555.43 1173.73 1555.43 L1173.73 1557.46 Q1167.39 1557.26 1166.13 1557.26 Q1163.97 1557.26 1159.43 1557.46 M1172.67 1540.39 L1187.51 1540.39 L1180.08 1518.94 L1172.67 1540.39 Z\" fill=\"#000000\" fill-rule=\"evenodd\" fill-opacity=\"1\" /><path clip-path=\"url(#clip770)\" d=\"M 0 0 M1205.34 1531.08 L1205.34 1529.02 Q1208.3 1529.21 1211.75 1529.21 Q1213 1529.21 1218.93 1529.02 L1218.93 1531.08 Q1215.16 1531.08 1215.16 1532.79 Q1215.16 1533.04 1215.55 1533.91 L1222.95 1552.3 L1229.68 1535.49 Q1230.07 1534.36 1230.07 1533.91 Q1230.07 1532.79 1229.3 1531.98 Q1228.56 1531.14 1226.92 1531.08 L1226.92 1529.02 Q1230.26 1529.21 1232.65 1529.21 Q1235.35 1529.21 1237.58 1529.02 L1237.58 1531.08 Q1235.61 1531.08 1234.23 1531.98 Q1232.84 1532.85 1232.39 1533.62 Q1231.97 1534.36 1231.52 1535.49 L1222.89 1556.94 Q1222.37 1558.2 1221.5 1558.2 Q1220.92 1558.2 1220.67 1557.94 Q1220.44 1557.71 1220.12 1556.94 L1210.62 1533.53 Q1209.97 1531.89 1209.14 1531.5 Q1208.3 1531.08 1205.34 1531.08 Z\" fill=\"#000000\" fill-rule=\"evenodd\" fill-opacity=\"1\" /><path clip-path=\"url(#clip770)\" d=\"M 0 0 M1239.03 1542.93 Q1239.03 1536.72 1243.02 1532.3 Q1247.02 1527.89 1252.75 1527.89 Q1258.55 1527.89 1261.54 1531.66 Q1264.57 1535.43 1264.57 1540.84 Q1264.57 1541.84 1264.31 1542.03 Q1264.05 1542.22 1262.93 1542.22 L1244.51 1542.22 Q1244.51 1548.95 1246.5 1552.11 Q1249.27 1556.52 1253.94 1556.52 Q1254.59 1556.52 1255.36 1556.39 Q1256.13 1556.26 1257.71 1555.72 Q1259.29 1555.14 1260.67 1553.62 Q1262.06 1552.11 1262.86 1549.73 Q1263.06 1548.79 1263.7 1548.83 Q1264.57 1548.83 1264.57 1549.6 Q1264.57 1550.18 1263.93 1551.5 Q1263.31 1552.79 1262.12 1554.33 Q1260.93 1555.88 1258.61 1557.04 Q1256.33 1558.2 1253.56 1558.2 Q1247.76 1558.2 1243.38 1553.82 Q1239.03 1549.41 1239.03 1542.93 M1244.57 1540.84 L1260.22 1540.84 Q1260.22 1539.45 1259.96 1537.91 Q1259.74 1536.36 1259.03 1534.24 Q1258.35 1532.08 1256.74 1530.73 Q1255.13 1529.37 1252.75 1529.37 Q1251.69 1529.37 1250.53 1529.82 Q1249.4 1530.27 1248.02 1531.37 Q1246.63 1532.46 1245.66 1534.94 Q1244.7 1537.42 1244.57 1540.84 Z\" fill=\"#000000\" fill-rule=\"evenodd\" fill-opacity=\"1\" /><path clip-path=\"url(#clip770)\" d=\"M 0 0 M1268.05 1557.46 L1268.05 1555.43 Q1271.56 1555.43 1272.36 1555.01 Q1273.2 1554.56 1273.2 1552.43 L1273.2 1534.75 Q1273.2 1532.3 1272.33 1531.69 Q1271.49 1531.08 1268.05 1531.08 L1268.05 1529.02 L1277.23 1528.31 L1277.23 1535.56 Q1278.16 1532.72 1280.12 1530.53 Q1282.12 1528.31 1285.34 1528.31 Q1287.47 1528.31 1288.82 1529.5 Q1290.2 1530.69 1290.2 1532.34 Q1290.2 1533.79 1289.3 1534.53 Q1288.43 1535.23 1287.37 1535.23 Q1286.18 1535.23 1285.34 1534.49 Q1284.54 1533.72 1284.54 1532.4 Q1284.54 1531.6 1284.89 1530.98 Q1285.28 1530.34 1285.57 1530.11 Q1285.86 1529.89 1286.05 1529.82 Q1285.92 1529.76 1285.34 1529.76 Q1281.7 1529.76 1279.61 1533.4 Q1277.55 1537.01 1277.55 1542.16 L1277.55 1552.3 Q1277.55 1554.2 1278.32 1554.82 Q1279.13 1555.43 1282.57 1555.43 L1283.96 1555.43 L1283.96 1557.46 Q1281.32 1557.26 1275.58 1557.26 Q1274.78 1557.26 1273.52 1557.3 Q1272.27 1557.33 1270.62 1557.39 Q1268.98 1557.46 1268.05 1557.46 Z\" fill=\"#000000\" fill-rule=\"evenodd\" fill-opacity=\"1\" /><path clip-path=\"url(#clip770)\" d=\"M 0 0 M1292.21 1556.59 L1292.21 1547.89 Q1292.21 1547.15 1292.24 1546.89 Q1292.27 1546.64 1292.47 1546.44 Q1292.66 1546.25 1293.05 1546.25 Q1293.5 1546.25 1293.66 1546.44 Q1293.85 1546.64 1293.98 1547.38 Q1294.98 1551.92 1297.1 1554.33 Q1299.26 1556.72 1303.16 1556.72 Q1306.86 1556.72 1308.73 1555.07 Q1310.6 1553.43 1310.6 1550.73 Q1310.6 1545.89 1303.74 1544.67 Q1299.78 1543.87 1298.14 1543.35 Q1296.49 1542.8 1295.04 1541.61 Q1292.21 1539.29 1292.21 1536.01 Q1292.21 1532.72 1294.69 1530.31 Q1297.2 1527.89 1302.74 1527.89 Q1306.44 1527.89 1308.96 1529.76 Q1309.7 1529.18 1310.08 1528.7 Q1310.95 1527.89 1311.4 1527.89 Q1311.92 1527.89 1312.02 1528.25 Q1312.11 1528.57 1312.11 1529.5 L1312.11 1536.14 Q1312.11 1536.88 1312.08 1537.13 Q1312.05 1537.39 1311.85 1537.59 Q1311.66 1537.75 1311.24 1537.75 Q1310.5 1537.75 1310.47 1537.13 Q1309.95 1529.15 1302.74 1529.15 Q1298.84 1529.15 1297.1 1530.66 Q1295.37 1532.14 1295.37 1534.17 Q1295.37 1535.3 1295.88 1536.17 Q1296.43 1537.01 1297.1 1537.52 Q1297.81 1538 1299.1 1538.49 Q1300.39 1538.94 1301.16 1539.1 Q1301.97 1539.26 1303.48 1539.58 Q1308.76 1540.58 1310.99 1542.74 Q1313.75 1545.51 1313.75 1549.02 Q1313.75 1552.92 1311.11 1555.56 Q1308.47 1558.2 1303.16 1558.2 Q1298.88 1558.2 1295.88 1555.33 Q1295.49 1555.72 1295.2 1556.07 Q1294.91 1556.39 1294.79 1556.52 Q1294.69 1556.65 1294.66 1556.75 Q1294.62 1556.81 1294.56 1556.88 Q1293.24 1558.2 1292.92 1558.2 Q1292.4 1558.2 1292.31 1557.84 Q1292.21 1557.52 1292.21 1556.59 Z\" fill=\"#000000\" fill-rule=\"evenodd\" fill-opacity=\"1\" /><path clip-path=\"url(#clip770)\" d=\"M 0 0 M1317.94 1557.46 L1317.94 1555.43 Q1321.45 1555.43 1322.25 1555.01 Q1323.06 1554.56 1323.06 1552.43 L1323.06 1534.69 Q1323.06 1532.24 1322.22 1531.66 Q1321.42 1531.08 1318.2 1531.08 L1318.2 1529.02 L1327.41 1528.31 L1327.41 1552.5 Q1327.41 1554.46 1328.11 1554.94 Q1328.82 1555.43 1332.04 1555.43 L1332.04 1557.46 Q1325.31 1557.26 1325.18 1557.26 Q1324.28 1557.26 1317.94 1557.46 M1320.71 1516.81 Q1320.71 1515.49 1321.71 1514.43 Q1322.74 1513.33 1324.19 1513.33 Q1325.64 1513.33 1326.67 1514.33 Q1327.7 1515.3 1327.7 1516.84 Q1327.7 1518.36 1326.67 1519.36 Q1325.64 1520.32 1324.19 1520.32 Q1322.67 1520.32 1321.67 1519.26 Q1320.71 1518.2 1320.71 1516.81 Z\" fill=\"#000000\" fill-rule=\"evenodd\" fill-opacity=\"1\" /><path clip-path=\"url(#clip770)\" d=\"M 0 0 M1340.39 1553.91 Q1336.04 1549.6 1336.04 1543.35 Q1336.04 1537.07 1340.29 1532.5 Q1344.57 1527.89 1350.69 1527.89 Q1356.68 1527.89 1360.96 1532.46 Q1365.28 1537.01 1365.28 1543.35 Q1365.28 1549.57 1360.93 1553.88 Q1356.62 1558.2 1350.63 1558.2 Q1344.77 1558.2 1340.39 1553.91 M1341.51 1542.8 Q1341.51 1549.21 1343.19 1552.11 Q1345.76 1556.52 1350.69 1556.52 Q1353.14 1556.52 1355.17 1555.2 Q1357.23 1553.88 1358.36 1551.66 Q1359.81 1548.76 1359.81 1542.8 Q1359.81 1536.46 1358.07 1533.66 Q1355.49 1529.37 1350.63 1529.37 Q1348.5 1529.37 1346.41 1530.5 Q1344.35 1531.6 1343.09 1533.79 Q1341.51 1536.68 1341.51 1542.8 Z\" fill=\"#000000\" fill-rule=\"evenodd\" fill-opacity=\"1\" /><path clip-path=\"url(#clip770)\" d=\"M 0 0 M1368.72 1557.46 L1368.72 1555.43 Q1372.24 1555.43 1373.04 1555.01 Q1373.85 1554.56 1373.85 1552.43 L1373.85 1534.75 Q1373.85 1532.3 1372.98 1531.69 Q1372.14 1531.08 1368.72 1531.08 L1368.72 1529.02 L1378 1528.31 L1378 1535.23 Q1381.09 1528.31 1387.76 1528.31 Q1392.72 1528.31 1394.68 1530.76 Q1396.13 1532.4 1396.42 1534.24 Q1396.74 1536.07 1396.74 1540.84 L1396.74 1553.43 Q1396.81 1554.82 1397.87 1555.14 Q1398.93 1555.43 1401.9 1555.43 L1401.9 1557.46 Q1395.17 1557.26 1394.49 1557.26 Q1393.97 1557.26 1387.05 1557.46 L1387.05 1555.43 Q1390.56 1555.43 1391.37 1555.01 Q1392.2 1554.56 1392.2 1552.43 L1392.2 1537.07 Q1392.2 1533.72 1391.17 1531.76 Q1390.14 1529.76 1387.31 1529.76 Q1383.89 1529.76 1381.16 1532.63 Q1378.42 1535.49 1378.42 1540.32 L1378.42 1552.43 Q1378.42 1554.56 1379.22 1555.01 Q1380.06 1555.43 1383.54 1555.43 L1383.54 1557.46 Q1376.81 1557.26 1376.16 1557.26 Q1375.65 1557.26 1368.72 1557.46 Z\" fill=\"#000000\" fill-rule=\"evenodd\" fill-opacity=\"1\" /><path clip-path=\"url(#clip770)\" d=\"M 0 0 M1448.46 1540.97 Q1448.46 1529.82 1452.62 1520.84 Q1454.39 1517.07 1456.87 1513.91 Q1459.35 1510.76 1460.99 1509.37 Q1462.63 1507.99 1463.09 1507.99 Q1463.73 1507.99 1463.76 1508.63 Q1463.76 1508.95 1462.89 1509.76 Q1452.26 1520.58 1452.3 1540.97 Q1452.3 1561.42 1462.63 1571.82 Q1463.76 1572.95 1463.76 1573.3 Q1463.76 1573.95 1463.09 1573.95 Q1462.63 1573.95 1461.06 1572.63 Q1459.48 1571.31 1457.03 1568.28 Q1454.58 1565.25 1452.81 1561.55 Q1448.46 1552.56 1448.46 1540.97 Z\" fill=\"#000000\" fill-rule=\"evenodd\" fill-opacity=\"1\" /><path clip-path=\"url(#clip770)\" d=\"M 0 0 M1508.69 1530.6 Q1508.69 1532.85 1505.47 1532.85 L1498.22 1532.85 Q1500.25 1535.75 1500.25 1540.03 Q1500.25 1543.7 1498.74 1547.15 Q1497.26 1550.56 1494.87 1552.95 Q1492.52 1555.33 1489.56 1556.78 Q1486.6 1558.2 1483.7 1558.2 Q1479.28 1558.2 1476.55 1555.2 Q1473.81 1552.21 1473.81 1547.76 Q1473.81 1545.41 1474.62 1542.8 Q1475.45 1540.19 1477.03 1537.78 Q1478.61 1535.33 1480.67 1533.37 Q1482.76 1531.4 1485.47 1530.21 Q1488.21 1529.02 1491.07 1529.02 L1506.11 1529.02 Q1506.92 1529.02 1507.34 1529.08 Q1507.79 1529.12 1508.24 1529.5 Q1508.69 1529.86 1508.69 1530.6 M1496.03 1539.26 Q1496.03 1538.49 1495.94 1537.81 Q1495.84 1537.1 1495.48 1536.17 Q1495.13 1535.2 1494.52 1534.53 Q1493.91 1533.82 1492.71 1533.33 Q1491.56 1532.85 1489.98 1532.85 Q1487.76 1532.85 1485.31 1534.08 Q1482.86 1535.3 1480.99 1538.33 Q1479.45 1540.9 1478.67 1544.25 Q1477.9 1547.6 1477.9 1549.6 Q1477.9 1553.01 1479.54 1554.88 Q1481.22 1556.72 1483.76 1556.72 Q1485.85 1556.72 1488.24 1555.3 Q1490.62 1553.85 1492.46 1551.11 Q1494.07 1548.73 1495.03 1545.25 Q1496.03 1541.77 1496.03 1539.26 Z\" fill=\"#000000\" fill-rule=\"evenodd\" fill-opacity=\"1\" /><path clip-path=\"url(#clip770)\" d=\"M 0 0 M1511.13 1573.3 Q1511.13 1572.98 1511.96 1572.17 Q1522.59 1561.35 1522.59 1540.97 Q1522.59 1520.52 1512.38 1510.18 Q1511.13 1508.99 1511.13 1508.63 Q1511.13 1507.99 1511.77 1507.99 Q1512.22 1507.99 1513.8 1509.31 Q1515.41 1510.63 1517.82 1513.66 Q1520.27 1516.68 1522.08 1520.39 Q1526.42 1529.37 1526.42 1540.97 Q1526.42 1552.11 1522.27 1561.1 Q1520.5 1564.86 1518.02 1568.02 Q1515.54 1571.18 1513.9 1572.56 Q1512.25 1573.95 1511.77 1573.95 Q1511.13 1573.95 1511.13 1573.3 Z\" fill=\"#000000\" fill-rule=\"evenodd\" fill-opacity=\"1\" /><polyline clip-path=\"url(#clip772)\" style=\"stroke:#000000; stroke-width:2; stroke-opacity:0.1; fill:none\" points=\"\n",
       "  195.032,1361.44 2352.76,1361.44 \n",
       "  \"/>\n",
       "<polyline clip-path=\"url(#clip772)\" style=\"stroke:#000000; stroke-width:2; stroke-opacity:0.1; fill:none\" points=\"\n",
       "  195.032,1089.26 2352.76,1089.26 \n",
       "  \"/>\n",
       "<polyline clip-path=\"url(#clip772)\" style=\"stroke:#000000; stroke-width:2; stroke-opacity:0.1; fill:none\" points=\"\n",
       "  195.032,817.081 2352.76,817.081 \n",
       "  \"/>\n",
       "<polyline clip-path=\"url(#clip772)\" style=\"stroke:#000000; stroke-width:2; stroke-opacity:0.1; fill:none\" points=\"\n",
       "  195.032,544.902 2352.76,544.902 \n",
       "  \"/>\n",
       "<polyline clip-path=\"url(#clip772)\" style=\"stroke:#000000; stroke-width:2; stroke-opacity:0.1; fill:none\" points=\"\n",
       "  195.032,272.723 2352.76,272.723 \n",
       "  \"/>\n",
       "<polyline clip-path=\"url(#clip770)\" style=\"stroke:#000000; stroke-width:4; stroke-opacity:1; fill:none\" points=\"\n",
       "  195.032,1427.37 195.032,47.2441 \n",
       "  \"/>\n",
       "<polyline clip-path=\"url(#clip770)\" style=\"stroke:#000000; stroke-width:4; stroke-opacity:1; fill:none\" points=\"\n",
       "  195.032,1361.44 220.924,1361.44 \n",
       "  \"/>\n",
       "<polyline clip-path=\"url(#clip770)\" style=\"stroke:#000000; stroke-width:4; stroke-opacity:1; fill:none\" points=\"\n",
       "  195.032,1089.26 220.924,1089.26 \n",
       "  \"/>\n",
       "<polyline clip-path=\"url(#clip770)\" style=\"stroke:#000000; stroke-width:4; stroke-opacity:1; fill:none\" points=\"\n",
       "  195.032,817.081 220.924,817.081 \n",
       "  \"/>\n",
       "<polyline clip-path=\"url(#clip770)\" style=\"stroke:#000000; stroke-width:4; stroke-opacity:1; fill:none\" points=\"\n",
       "  195.032,544.902 220.924,544.902 \n",
       "  \"/>\n",
       "<polyline clip-path=\"url(#clip770)\" style=\"stroke:#000000; stroke-width:4; stroke-opacity:1; fill:none\" points=\"\n",
       "  195.032,272.723 220.924,272.723 \n",
       "  \"/>\n",
       "<path clip-path=\"url(#clip770)\" d=\"M 0 0 M147.087 1347.24 Q143.476 1347.24 141.647 1350.8 Q139.842 1354.34 139.842 1361.47 Q139.842 1368.58 141.647 1372.14 Q143.476 1375.69 147.087 1375.69 Q150.721 1375.69 152.527 1372.14 Q154.356 1368.58 154.356 1361.47 Q154.356 1354.34 152.527 1350.8 Q150.721 1347.24 147.087 1347.24 M147.087 1343.53 Q152.897 1343.53 155.953 1348.14 Q159.032 1352.72 159.032 1361.47 Q159.032 1370.2 155.953 1374.81 Q152.897 1379.39 147.087 1379.39 Q141.277 1379.39 138.198 1374.81 Q135.143 1370.2 135.143 1361.47 Q135.143 1352.72 138.198 1348.14 Q141.277 1343.53 147.087 1343.53 Z\" fill=\"#000000\" fill-rule=\"evenodd\" fill-opacity=\"1\" /><path clip-path=\"url(#clip770)\" d=\"M 0 0 M138.129 1071.98 L156.485 1071.98 L156.485 1075.91 L142.411 1075.91 L142.411 1084.39 Q143.43 1084.04 144.448 1083.88 Q145.467 1083.69 146.485 1083.69 Q152.272 1083.69 155.652 1086.86 Q159.032 1090.03 159.032 1095.45 Q159.032 1101.03 155.559 1104.13 Q152.087 1107.21 145.768 1107.21 Q143.592 1107.21 141.323 1106.84 Q139.078 1106.47 136.671 1105.73 L136.671 1101.03 Q138.754 1102.16 140.976 1102.72 Q143.198 1103.28 145.675 1103.28 Q149.68 1103.28 152.018 1101.17 Q154.356 1099.06 154.356 1095.45 Q154.356 1091.84 152.018 1089.73 Q149.68 1087.63 145.675 1087.63 Q143.8 1087.63 141.925 1088.04 Q140.073 1088.46 138.129 1089.34 L138.129 1071.98 Z\" fill=\"#000000\" fill-rule=\"evenodd\" fill-opacity=\"1\" /><path clip-path=\"url(#clip770)\" d=\"M 0 0 M112.111 830.426 L119.749 830.426 L119.749 804.06 L111.439 805.727 L111.439 801.467 L119.703 799.801 L124.379 799.801 L124.379 830.426 L132.018 830.426 L132.018 834.361 L112.111 834.361 L112.111 830.426 Z\" fill=\"#000000\" fill-rule=\"evenodd\" fill-opacity=\"1\" /><path clip-path=\"url(#clip770)\" d=\"M 0 0 M147.087 802.879 Q143.476 802.879 141.647 806.444 Q139.842 809.986 139.842 817.115 Q139.842 824.222 141.647 827.787 Q143.476 831.328 147.087 831.328 Q150.721 831.328 152.527 827.787 Q154.356 824.222 154.356 817.115 Q154.356 809.986 152.527 806.444 Q150.721 802.879 147.087 802.879 M147.087 799.176 Q152.897 799.176 155.953 803.782 Q159.032 808.366 159.032 817.115 Q159.032 825.842 155.953 830.449 Q152.897 835.032 147.087 835.032 Q141.277 835.032 138.198 830.449 Q135.143 825.842 135.143 817.115 Q135.143 808.366 138.198 803.782 Q141.277 799.176 147.087 799.176 Z\" fill=\"#000000\" fill-rule=\"evenodd\" fill-opacity=\"1\" /><path clip-path=\"url(#clip770)\" d=\"M 0 0 M113.106 558.247 L120.745 558.247 L120.745 531.881 L112.435 533.548 L112.435 529.289 L120.698 527.622 L125.374 527.622 L125.374 558.247 L133.013 558.247 L133.013 562.182 L113.106 562.182 L113.106 558.247 Z\" fill=\"#000000\" fill-rule=\"evenodd\" fill-opacity=\"1\" /><path clip-path=\"url(#clip770)\" d=\"M 0 0 M138.129 527.622 L156.485 527.622 L156.485 531.557 L142.411 531.557 L142.411 540.029 Q143.43 539.682 144.448 539.52 Q145.467 539.335 146.485 539.335 Q152.272 539.335 155.652 542.506 Q159.032 545.677 159.032 551.094 Q159.032 556.673 155.559 559.775 Q152.087 562.853 145.768 562.853 Q143.592 562.853 141.323 562.483 Q139.078 562.113 136.671 561.372 L136.671 556.673 Q138.754 557.807 140.976 558.363 Q143.198 558.918 145.675 558.918 Q149.68 558.918 152.018 556.812 Q154.356 554.705 154.356 551.094 Q154.356 547.483 152.018 545.377 Q149.68 543.27 145.675 543.27 Q143.8 543.27 141.925 543.687 Q140.073 544.103 138.129 544.983 L138.129 527.622 Z\" fill=\"#000000\" fill-rule=\"evenodd\" fill-opacity=\"1\" /><path clip-path=\"url(#clip770)\" d=\"M 0 0 M115.698 286.068 L132.018 286.068 L132.018 290.003 L110.073 290.003 L110.073 286.068 Q112.736 283.313 117.319 278.684 Q121.925 274.031 123.106 272.689 Q125.351 270.165 126.231 268.429 Q127.134 266.67 127.134 264.98 Q127.134 262.226 125.189 260.49 Q123.268 258.753 120.166 258.753 Q117.967 258.753 115.513 259.517 Q113.083 260.281 110.305 261.832 L110.305 257.11 Q113.129 255.976 115.583 255.397 Q118.036 254.818 120.073 254.818 Q125.444 254.818 128.638 257.503 Q131.833 260.189 131.833 264.679 Q131.833 266.809 131.022 268.73 Q130.235 270.628 128.129 273.221 Q127.55 273.892 124.448 277.11 Q121.347 280.304 115.698 286.068 Z\" fill=\"#000000\" fill-rule=\"evenodd\" fill-opacity=\"1\" /><path clip-path=\"url(#clip770)\" d=\"M 0 0 M147.087 258.522 Q143.476 258.522 141.647 262.087 Q139.842 265.628 139.842 272.758 Q139.842 279.864 141.647 283.429 Q143.476 286.971 147.087 286.971 Q150.721 286.971 152.527 283.429 Q154.356 279.864 154.356 272.758 Q154.356 265.628 152.527 262.087 Q150.721 258.522 147.087 258.522 M147.087 254.818 Q152.897 254.818 155.953 259.425 Q159.032 264.008 159.032 272.758 Q159.032 281.485 155.953 286.091 Q152.897 290.675 147.087 290.675 Q141.277 290.675 138.198 286.091 Q135.143 281.485 135.143 272.758 Q135.143 264.008 138.198 259.425 Q141.277 254.818 147.087 254.818 Z\" fill=\"#000000\" fill-rule=\"evenodd\" fill-opacity=\"1\" /><path clip-path=\"url(#clip770)\" d=\"M 0 0 M64.3235 1069.79 L62.2945 1069.79 Q62.1657 1063.93 57.8501 1062.41 L18.4301 1048.76 Q17.625 1048.5 17.3673 1048.21 Q17.1097 1047.92 17.1097 1047.18 Q17.1097 1046.79 17.1741 1046.57 Q17.2385 1046.31 17.464 1046.15 Q17.6894 1045.99 17.8182 1045.92 Q17.9471 1045.86 18.4301 1045.67 L59.6536 1031.43 Q61.2961 1030.92 61.8114 1029.85 Q62.2945 1028.79 62.2945 1025.79 L62.2945 1024.64 L64.3235 1024.64 Q64.1303 1028.79 64.1303 1033.27 Q64.1303 1040.38 64.3235 1042.77 L62.2945 1042.77 Q62.2945 1037.29 60.2978 1037.29 Q60.1689 1037.29 59.3638 1037.49 L49.2834 1040.96 L49.2834 1057.26 L57.9145 1060.32 Q58.1722 1060.45 58.9129 1060.45 Q60.2978 1060.45 61.2961 1059.16 Q62.2945 1057.87 62.2945 1055.49 L64.3235 1055.49 Q64.1303 1061.83 64.1303 1063.09 Q64.1303 1065.25 64.3235 1069.79 M47.2544 1056.55 L47.2544 1041.7 L25.8053 1049.14 L47.2544 1056.55 Z\" fill=\"#000000\" fill-rule=\"evenodd\" fill-opacity=\"1\" /><path clip-path=\"url(#clip770)\" d=\"M 0 0 M63.4539 1020.76 L54.7583 1020.76 Q54.0176 1020.76 53.76 1020.72 Q53.5023 1020.69 53.3091 1020.5 Q53.1159 1020.31 53.1159 1019.92 Q53.1159 1019.47 53.3091 1019.31 Q53.5023 1019.11 54.2431 1018.99 Q58.7841 1017.99 61.1995 1015.86 Q63.5828 1013.7 63.5828 1009.81 Q63.5828 1006.1 61.9403 1004.23 Q60.2978 1002.37 57.5925 1002.37 Q52.7616 1002.37 51.5378 1009.23 Q50.7326 1013.19 50.2173 1014.83 Q49.6698 1016.47 48.4782 1017.92 Q46.1594 1020.76 42.8744 1020.76 Q39.5894 1020.76 37.1739 1018.28 Q34.7585 1015.76 34.7585 1010.23 Q34.7585 1006.52 36.6265 1004.01 Q36.0467 1003.27 35.5637 1002.88 Q34.7585 1002.01 34.7585 1001.56 Q34.7585 1001.05 35.1128 1000.95 Q35.4348 1000.85 36.3688 1000.85 L43.0032 1000.85 Q43.7439 1000.85 44.0016 1000.89 Q44.2592 1000.92 44.4525 1001.11 Q44.6135 1001.3 44.6135 1001.72 Q44.6135 1002.46 44.0016 1002.5 Q36.0145 1003.01 36.0145 1010.23 Q36.0145 1014.12 37.5282 1015.86 Q39.0097 1017.6 41.0387 1017.6 Q42.1659 1017.6 43.0354 1017.09 Q43.8728 1016.54 44.3881 1015.86 Q44.8712 1015.15 45.3542 1013.86 Q45.8051 1012.58 45.9661 1011.8 Q46.1272 1011 46.4492 1009.48 Q47.4476 1004.2 49.6054 1001.98 Q52.3751 999.211 55.8856 999.211 Q59.7825 999.211 62.4233 1001.85 Q65.0642 1004.49 65.0642 1009.81 Q65.0642 1014.09 62.1979 1017.09 Q62.5844 1017.47 62.9386 1017.76 Q63.2607 1018.05 63.3895 1018.18 Q63.5183 1018.28 63.615 1018.31 Q63.6794 1018.34 63.7438 1018.41 Q65.0642 1019.73 65.0642 1020.05 Q65.0642 1020.56 64.71 1020.66 Q64.3879 1020.76 63.4539 1020.76 Z\" fill=\"#000000\" fill-rule=\"evenodd\" fill-opacity=\"1\" /><path clip-path=\"url(#clip770)\" d=\"M 0 0 M63.4539 995.028 L54.7583 995.028 Q54.0176 995.028 53.76 994.996 Q53.5023 994.964 53.3091 994.77 Q53.1159 994.577 53.1159 994.191 Q53.1159 993.74 53.3091 993.579 Q53.5023 993.385 54.2431 993.257 Q58.7841 992.258 61.1995 990.133 Q63.5828 987.975 63.5828 984.078 Q63.5828 980.374 61.9403 978.506 Q60.2978 976.638 57.5925 976.638 Q52.7616 976.638 51.5378 983.498 Q50.7326 987.46 50.2173 989.102 Q49.6698 990.745 48.4782 992.194 Q46.1594 995.028 42.8744 995.028 Q39.5894 995.028 37.1739 992.548 Q34.7585 990.036 34.7585 984.497 Q34.7585 980.793 36.6265 978.281 Q36.0467 977.54 35.5637 977.154 Q34.7585 976.284 34.7585 975.833 Q34.7585 975.318 35.1128 975.221 Q35.4348 975.125 36.3688 975.125 L43.0032 975.125 Q43.7439 975.125 44.0016 975.157 Q44.2592 975.189 44.4525 975.382 Q44.6135 975.576 44.6135 975.994 Q44.6135 976.735 44.0016 976.767 Q36.0145 977.283 36.0145 984.497 Q36.0145 988.394 37.5282 990.133 Q39.0097 991.872 41.0387 991.872 Q42.1659 991.872 43.0354 991.356 Q43.8728 990.809 44.3881 990.133 Q44.8712 989.424 45.3542 988.136 Q45.8051 986.848 45.9661 986.075 Q46.1272 985.27 46.4492 983.756 Q47.4476 978.474 49.6054 976.252 Q52.3751 973.482 55.8856 973.482 Q59.7825 973.482 62.4233 976.123 Q65.0642 978.764 65.0642 984.078 Q65.0642 988.361 62.1979 991.356 Q62.5844 991.743 62.9386 992.033 Q63.2607 992.323 63.3895 992.451 Q63.5183 992.548 63.615 992.58 Q63.6794 992.613 63.7438 992.677 Q65.0642 993.997 65.0642 994.319 Q65.0642 994.835 64.71 994.931 Q64.3879 995.028 63.4539 995.028 Z\" fill=\"#000000\" fill-rule=\"evenodd\" fill-opacity=\"1\" /><path clip-path=\"url(#clip770)\" d=\"M 0 0 M49.7986 969.299 Q43.5829 969.299 39.1707 965.306 Q34.7585 961.312 34.7585 955.58 Q34.7585 949.783 38.5266 946.787 Q42.2947 943.76 47.7053 943.76 Q48.7036 943.76 48.8969 944.018 Q49.0901 944.275 49.0901 945.403 L49.0901 963.824 Q55.8211 963.824 58.9773 961.828 Q63.3895 959.058 63.3895 954.388 Q63.3895 953.744 63.2607 952.971 Q63.1319 952.198 62.5844 950.62 Q62.0047 949.042 60.491 947.657 Q58.9773 946.272 56.5941 945.467 Q55.6601 945.274 55.6923 944.63 Q55.6923 943.76 56.4653 943.76 Q57.045 943.76 58.3654 944.404 Q59.6536 945.016 61.1995 946.208 Q62.7454 947.399 63.9048 949.718 Q65.0642 952.005 65.0642 954.774 Q65.0642 960.572 60.6842 964.952 Q56.272 969.299 49.7986 969.299 M47.7053 963.76 L47.7053 948.108 Q46.3204 948.108 44.7745 948.366 Q43.2287 948.591 41.1031 949.299 Q38.9453 949.976 37.5926 951.586 Q36.24 953.196 36.24 955.58 Q36.24 956.642 36.6909 957.802 Q37.1417 958.929 38.2367 960.314 Q39.3317 961.699 41.8116 962.665 Q44.2914 963.631 47.7053 963.76 Z\" fill=\"#000000\" fill-rule=\"evenodd\" fill-opacity=\"1\" /><path clip-path=\"url(#clip770)\" d=\"M 0 0 M37.9469 941.908 L36.4976 941.908 Q36.3688 938.88 34.2432 936.884 Q32.0854 934.855 29.4445 934.178 Q26.8037 933.47 23.7441 933.405 L23.7441 931.763 L35.8857 931.763 L35.8857 922.327 L37.9469 922.327 L37.9469 931.763 L56.272 931.763 Q63.3895 931.763 63.3895 927.319 Q63.3895 925.418 61.4572 924.162 Q59.4926 922.906 56.0144 922.906 L52.3751 922.906 L52.3751 921.264 L56.1432 921.264 Q59.7181 921.264 62.3911 922.906 Q65.0642 924.549 65.0642 927.802 Q65.0642 928.993 64.7422 930.185 Q64.4523 931.344 63.6794 932.89 Q62.8742 934.404 60.9419 935.37 Q58.9773 936.304 56.1432 936.304 L37.9469 936.304 L37.9469 941.908 Z\" fill=\"#000000\" fill-rule=\"evenodd\" fill-opacity=\"1\" /><path clip-path=\"url(#clip770)\" d=\"M 0 0 M64.3235 894.824 L62.2945 894.824 L62.2945 893.246 Q62.2945 889.671 61.7148 888.866 Q61.1029 888.028 59.1706 888.028 L24.4204 888.028 Q22.5203 888.028 21.9406 888.866 Q21.3287 889.703 21.3287 893.246 L21.3287 894.824 L19.2675 894.824 L19.2675 870.702 Q19.2675 862.264 25.9985 856.402 Q32.7295 850.508 42.1659 850.508 Q51.4089 850.508 57.8823 856.434 Q64.3235 862.328 64.3235 870.702 L64.3235 894.824 M59.6536 882.36 Q61.3606 882.36 61.8436 881.877 Q62.2945 881.394 62.2945 879.139 L62.2945 872.473 Q62.2945 868.125 60.5232 865.194 Q58.7197 862.264 56.6585 860.75 Q51.6988 857.111 42.1659 857.111 Q32.1498 857.111 27.4478 860.524 Q21.3287 864.937 21.3287 872.537 L21.3287 879.139 Q21.3287 881.394 21.7795 881.877 Q22.2304 882.36 23.9695 882.36 L59.6536 882.36 Z\" fill=\"#000000\" fill-rule=\"evenodd\" fill-opacity=\"1\" /><path clip-path=\"url(#clip770)\" d=\"M 0 0 M49.7986 844.963 Q43.5829 844.963 39.1707 840.969 Q34.7585 836.975 34.7585 831.243 Q34.7585 825.446 38.5266 822.451 Q42.2947 819.423 47.7053 819.423 Q48.7036 819.423 48.8969 819.681 Q49.0901 819.939 49.0901 821.066 L49.0901 839.488 Q55.8211 839.488 58.9773 837.491 Q63.3895 834.721 63.3895 830.051 Q63.3895 829.407 63.2607 828.634 Q63.1319 827.861 62.5844 826.283 Q62.0047 824.705 60.491 823.32 Q58.9773 821.935 56.5941 821.13 Q55.6601 820.937 55.6923 820.293 Q55.6923 819.423 56.4653 819.423 Q57.045 819.423 58.3654 820.067 Q59.6536 820.679 61.1995 821.871 Q62.7454 823.063 63.9048 825.381 Q65.0642 827.668 65.0642 830.438 Q65.0642 836.235 60.6842 840.615 Q56.272 844.963 49.7986 844.963 M47.7053 839.423 L47.7053 823.771 Q46.3204 823.771 44.7745 824.029 Q43.2287 824.254 41.1031 824.963 Q38.9453 825.639 37.5926 827.249 Q36.24 828.86 36.24 831.243 Q36.24 832.306 36.6909 833.465 Q37.1417 834.592 38.2367 835.977 Q39.3317 837.362 41.8116 838.328 Q44.2914 839.294 47.7053 839.423 Z\" fill=\"#000000\" fill-rule=\"evenodd\" fill-opacity=\"1\" /><path clip-path=\"url(#clip770)\" d=\"M 0 0 M64.3235 815.946 L62.2945 815.946 Q62.2945 812.436 61.8758 811.63 Q61.425 810.825 59.2994 810.825 L41.6184 810.825 Q39.1707 810.825 38.5588 811.695 Q37.9469 812.532 37.9469 815.946 L35.8857 815.946 L35.1772 806.671 L42.1014 806.671 Q35.1772 803.579 35.1772 796.912 Q35.1772 789.183 41.6184 788.12 Q39.1063 786.993 37.1417 784.642 Q35.1772 782.259 35.1772 778.555 Q35.1772 773.595 37.6248 771.631 Q39.2673 770.181 41.1031 769.892 Q42.9388 769.602 47.7053 769.602 L60.2978 769.602 Q61.6826 769.537 62.0047 768.475 Q62.2945 767.412 62.2945 764.449 L64.3235 764.449 Q64.1303 771.18 64.1303 771.824 Q64.1303 772.339 64.3235 779.296 L62.2945 779.296 Q62.2945 775.785 61.8758 774.98 Q61.425 774.143 59.2994 774.143 L43.9372 774.143 Q40.5878 774.143 38.6232 775.173 Q36.6265 776.204 36.6265 779.038 Q36.6265 782.452 39.4928 785.189 Q42.3591 787.927 47.19 787.927 L59.2994 787.927 Q61.425 787.927 61.8758 787.122 Q62.2945 786.284 62.2945 782.774 L64.3235 782.774 Q64.1303 789.505 64.1303 790.181 Q64.1303 790.697 64.3235 797.621 L62.2945 797.621 Q62.2945 794.11 61.8758 793.305 Q61.425 792.468 59.2994 792.468 L43.9372 792.468 Q40.5878 792.468 38.6232 793.498 Q36.6265 794.529 36.6265 797.363 Q36.6265 800.777 39.4928 803.515 Q42.3591 806.252 47.19 806.252 L59.2994 806.252 Q61.425 806.252 61.8758 805.447 Q62.2945 804.61 62.2945 801.131 L64.3235 801.131 Q64.1303 807.862 64.1303 808.506 Q64.1303 809.022 64.3235 815.946 Z\" fill=\"#000000\" fill-rule=\"evenodd\" fill-opacity=\"1\" /><path clip-path=\"url(#clip770)\" d=\"M 0 0 M58.0433 761.52 Q52.4395 761.52 49.4766 754.918 Q47.5764 750.956 47.0934 742.776 L44.6779 742.776 Q40.5878 742.776 38.43 744.934 Q36.24 747.06 36.24 749.765 Q36.24 754.596 39.2673 756.915 Q39.3317 754.95 40.3301 754.241 Q41.2963 753.533 42.2947 753.533 Q43.6151 753.533 44.4847 754.37 Q45.322 755.175 45.322 756.56 Q45.322 757.881 44.5169 758.75 Q43.6795 759.62 42.2303 759.62 Q39.0097 759.62 36.8841 756.721 Q34.7585 753.791 34.7585 749.636 Q34.7585 744.225 38.3978 740.618 Q39.525 739.491 40.9742 738.944 Q42.4235 738.364 43.3897 738.3 Q44.3237 738.235 46.1916 738.235 L59.3638 738.235 Q59.7503 738.235 60.3944 738.106 Q61.0385 737.978 61.8758 737.398 Q62.681 736.786 62.681 735.788 Q62.681 733.404 58.462 733.437 L54.7583 733.437 L54.7583 731.762 L58.462 731.762 Q61.9725 731.762 63.3573 733.63 Q64.71 735.465 64.71 737.172 Q64.71 739.362 63.0997 740.747 Q61.4894 742.132 59.2994 742.325 Q61.8114 743.324 63.4539 745.61 Q65.0642 747.865 65.0642 750.956 Q65.0642 753.34 64.4523 755.594 Q63.8726 757.816 62.2301 759.684 Q60.5554 761.52 58.0433 761.52 M57.9789 756.431 Q60.4266 756.431 62.0047 754.692 Q63.5828 752.953 63.5828 750.506 Q63.5828 747.736 61.4572 745.256 Q59.2994 742.776 55.0804 742.776 L48.4782 742.776 Q48.7359 750.087 51.6666 753.275 Q54.5651 756.431 57.9789 756.431 Z\" fill=\"#000000\" fill-rule=\"evenodd\" fill-opacity=\"1\" /><path clip-path=\"url(#clip770)\" d=\"M 0 0 M64.3235 728.833 L62.2945 728.833 Q62.2945 725.322 61.8758 724.517 Q61.425 723.712 59.2994 723.712 L41.6184 723.712 Q39.1707 723.712 38.5588 724.581 Q37.9469 725.419 37.9469 728.833 L35.8857 728.833 L35.1772 719.557 L42.1014 719.557 Q35.1772 716.465 35.1772 709.799 Q35.1772 704.839 37.6248 702.875 Q39.2673 701.425 41.1031 701.135 Q42.9388 700.813 47.7053 700.813 L60.2978 700.813 Q61.6826 700.749 62.0047 699.686 Q62.2945 698.623 62.2945 695.66 L64.3235 695.66 Q64.1303 702.392 64.1303 703.068 Q64.1303 703.583 64.3235 710.507 L62.2945 710.507 Q62.2945 706.997 61.8758 706.192 Q61.425 705.354 59.2994 705.354 L43.9372 705.354 Q40.5878 705.354 38.6232 706.385 Q36.6265 707.416 36.6265 710.25 Q36.6265 713.664 39.4928 716.401 Q42.3591 719.139 47.19 719.139 L59.2994 719.139 Q61.425 719.139 61.8758 718.333 Q62.2945 717.496 62.2945 714.018 L64.3235 714.018 Q64.1303 720.749 64.1303 721.393 Q64.1303 721.908 64.3235 728.833 Z\" fill=\"#000000\" fill-rule=\"evenodd\" fill-opacity=\"1\" /><path clip-path=\"url(#clip770)\" d=\"M 0 0 M50.1529 692.57 Q43.8728 692.57 39.525 688.19 Q35.1772 683.81 35.1772 677.884 Q35.1772 672.86 39.2673 669.575 L25.0001 669.575 Q22.5525 669.575 21.9406 670.444 Q21.3287 671.282 21.3287 674.696 L19.2675 674.696 L18.559 665.195 L58.5908 665.195 Q61.0385 665.195 61.6826 664.357 Q62.2945 663.488 62.2945 660.074 L64.3235 660.074 L65.0642 669.768 L60.6842 669.768 Q65.032 673.182 65.0642 678.592 Q65.0642 684.261 60.7164 688.415 Q56.3686 692.57 50.1529 692.57 M50.2173 687.095 Q56.3364 687.095 59.3638 685.195 Q63.5828 682.554 63.5828 678.27 Q63.5828 673.375 58.9773 670.477 Q57.8501 669.736 56.5297 669.768 L43.0032 669.768 Q41.6828 669.768 40.5878 670.477 Q36.6265 673.182 36.6265 677.594 Q36.6265 682.2 40.8454 685.066 Q44.0016 687.095 50.2173 687.095 Z\" fill=\"#000000\" fill-rule=\"evenodd\" fill-opacity=\"1\" /><path clip-path=\"url(#clip770)\" d=\"M 0 0 M21.2643 565.004 L32.6651 566.325 Q33.6957 566.422 34.0178 566.583 Q34.3076 566.744 34.3076 567.259 Q34.3076 567.645 34.0822 567.871 Q33.8245 568.064 33.5347 568.064 Q33.3737 568.064 32.955 568.032 Q32.5363 568 32.3431 568 Q30.3463 567.71 28.8326 567.71 Q26.0307 567.71 24.517 568.547 Q22.9712 569.384 22.2626 571.542 Q21.5219 573.7 21.5219 577.758 L21.5219 587.033 Q21.5219 589.159 21.9084 589.674 Q22.2948 590.157 24.0984 590.608 L39.9759 594.569 L39.9759 588.354 Q39.9759 586.035 39.686 584.65 Q39.3962 583.233 38.591 582.299 Q37.7537 581.333 36.6265 580.818 Q35.4992 580.27 33.4703 579.723 Q32.794 579.562 32.5363 579.401 Q32.2787 579.207 32.2787 578.789 Q32.2787 578.467 32.5041 578.241 Q32.6973 578.016 32.9872 578.016 L48.4138 581.784 Q49.1867 581.977 49.4766 582.17 Q49.7342 582.363 49.7342 582.75 Q49.7342 583.169 49.5088 583.394 Q49.2834 583.619 49.0257 583.619 Q48.7681 583.619 48.285 583.426 Q46.1916 582.943 45.0644 582.943 Q44.4203 582.943 44.0982 583.008 Q43.7762 583.04 43.3253 583.33 Q42.8422 583.587 42.6167 584.167 Q42.3913 584.747 42.2303 585.842 Q42.037 586.937 42.037 588.579 L42.037 595.085 L60.0401 599.594 Q61.2317 599.916 61.5538 599.916 Q61.9081 599.916 62.0369 599.755 Q62.1335 599.561 62.1979 599.046 Q62.2945 598.466 62.2945 597.597 L62.2945 587.967 Q62.2945 585.842 62.1013 584.135 Q61.9081 582.428 61.425 581.011 Q60.9419 579.562 60.3944 578.467 Q59.8469 577.372 58.8485 576.341 Q57.8179 575.31 56.9161 574.602 Q55.9822 573.861 54.4041 572.992 Q52.826 572.122 51.5378 571.51 Q50.2173 570.898 48.0917 569.964 Q47.3188 569.707 47.3188 569.095 Q47.3188 568.74 47.512 568.547 Q47.6731 568.354 47.8341 568.322 L48.0273 568.322 Q48.6392 568.515 48.9613 568.644 L63.1963 574.698 Q64.0014 575.053 64.1625 575.343 Q64.3235 575.632 64.3235 576.76 L64.3235 610.994 Q64.3235 611.767 64.2913 612.089 Q64.2591 612.379 64.098 612.605 Q63.9048 612.83 63.5183 612.83 Q62.9064 612.83 62.6488 612.573 Q62.3589 612.315 62.3267 612.025 Q62.2945 611.735 62.2945 610.994 Q62.2945 609.384 62.1979 608.418 Q62.1013 607.452 61.9725 606.84 Q61.8114 606.196 61.3606 605.874 Q60.9097 605.519 60.5232 605.358 Q60.1045 605.197 59.1706 604.972 L24.2916 596.276 Q23.1 595.954 22.7135 595.954 Q22.2948 595.954 22.0372 596.244 Q21.7795 596.502 21.6829 597.21 Q21.5541 597.919 21.5541 598.499 Q21.5219 599.046 21.5219 600.238 Q21.5219 601.011 21.4897 601.333 Q21.4575 601.623 21.2965 601.848 Q21.1354 602.073 20.7812 602.073 Q19.8794 602.073 19.6862 601.687 Q19.4607 601.268 19.4607 600.109 L19.4607 566.808 Q19.4607 565.488 19.7506 565.198 Q20.0082 564.876 21.2643 565.004 Z\" fill=\"#000000\" fill-rule=\"evenodd\" fill-opacity=\"1\" /><path clip-path=\"url(#clip770)\" d=\"M 0 0 M80.8129 555.875 L14.8553 555.875 L14.8553 545.923 L16.369 545.923 L16.369 551.463 L79.2992 551.463 L79.2992 545.923 L80.8129 545.923 L80.8129 555.875 Z\" fill=\"#000000\" fill-rule=\"evenodd\" fill-opacity=\"1\" /><path clip-path=\"url(#clip770)\" d=\"M 0 0 M54.8872 507.502 Q59.0417 508.372 61.425 509.499 Q65.0642 511.303 65.0642 514.362 Q65.0642 516.681 63.6472 518.324 Q62.2301 519.966 60.1045 520.353 Q65.0642 524.572 65.0642 528.952 Q65.0642 532.816 62.1335 535.264 Q59.1706 537.712 54.5007 537.712 Q49.7986 537.712 45.2898 535.393 Q40.781 533.042 37.9791 529.338 Q35.1772 525.634 35.1772 521.834 Q35.1772 517.808 39.3962 515.747 Q38.2367 515.586 37.3672 514.845 Q36.4976 514.105 36.4976 512.977 Q36.4976 512.108 36.9807 511.593 Q37.4316 511.077 38.2689 511.077 Q38.6876 511.077 40.5234 511.528 L49.7342 513.911 L55.6923 515.361 Q57.8823 515.908 58.6875 516.069 Q59.4926 516.198 60.5554 516.198 Q63.5828 516.198 63.5828 514.233 Q63.5828 513.267 62.9708 512.494 Q62.3589 511.721 61.0707 511.109 Q59.7825 510.498 58.5908 510.111 Q57.367 509.725 55.4347 509.209 Q54.6617 509.048 54.4685 508.919 Q54.2431 508.758 54.2431 508.308 Q54.2431 507.502 54.8872 507.502 M42.4235 516.552 Q42.1337 516.552 41.3285 516.778 Q40.5234 517.003 39.3962 517.518 Q38.2689 518.034 37.4638 519.161 Q36.6265 520.256 36.6265 521.737 Q36.6265 523.734 38.3334 525.828 Q40.0403 527.889 42.9388 529.402 Q45.2576 530.562 50.1207 531.818 Q54.9838 533.042 57.3992 533.042 Q58.8807 533.042 60.2011 532.72 Q61.4894 532.365 62.5522 531.367 Q63.5828 530.369 63.5828 528.823 Q63.5828 525.055 58.9129 521.351 Q58.1078 520.642 57.7857 520.481 Q57.4314 520.288 56.4653 520.03 L43.5507 516.745 Q42.5845 516.552 42.4235 516.552 Z\" fill=\"#000000\" fill-rule=\"evenodd\" fill-opacity=\"1\" /><path clip-path=\"url(#clip770)\" d=\"M 0 0 M47.8341 503.141 Q36.6909 503.141 27.7054 498.986 Q23.9373 497.215 20.7812 494.735 Q17.625 492.255 16.2401 490.613 Q14.8553 488.97 14.8553 488.519 Q14.8553 487.875 15.4994 487.843 Q15.8215 487.843 16.6266 488.712 Q27.4478 499.34 47.8341 499.308 Q68.2848 499.308 78.6873 488.97 Q79.8145 487.843 80.1688 487.843 Q80.8129 487.843 80.8129 488.519 Q80.8129 488.97 79.4925 490.548 Q78.172 492.126 75.1447 494.574 Q72.1173 497.022 68.4136 498.793 Q59.4282 503.141 47.8341 503.141 Z\" fill=\"#000000\" fill-rule=\"evenodd\" fill-opacity=\"1\" /><path clip-path=\"url(#clip770)\" d=\"M 0 0 M39.4606 450.935 Q41.1675 450.935 42.2625 452.063 Q43.3575 453.158 43.3575 454.575 Q43.3575 455.798 42.6489 456.443 Q41.9404 457.087 41.0387 457.087 Q39.7504 457.087 38.6876 456.088 Q37.6248 455.09 37.3994 453.641 Q36.6265 454.703 36.6265 456.41 Q36.6265 459.212 38.7842 461.692 Q39.7826 462.787 41.6184 463.979 Q43.4219 465.17 44.1948 465.396 L52.7938 467.489 Q53.76 467.682 58.3976 468.874 Q63.0031 470.033 63.1963 470.13 Q64.098 470.452 64.5811 471.161 Q65.0642 471.869 65.0642 472.578 Q65.0642 473.383 64.5811 473.93 Q64.098 474.478 63.2607 474.478 Q63.1319 474.478 62.6488 474.381 Q62.1657 474.285 61.4894 474.124 Q60.8131 473.963 60.4266 473.898 L45.1932 470.066 Q42.4235 469.357 41.5539 469.196 Q40.6522 469.003 39.6538 469.003 Q37.9147 469.003 37.2706 469.55 Q36.6265 470.098 36.6265 471.064 Q36.6265 472.739 38.6232 473.834 Q40.62 474.929 44.4847 475.863 Q45.5475 476.153 45.7729 476.346 Q45.9984 476.507 45.9984 476.99 Q45.9661 477.795 45.322 477.795 Q45.161 477.795 44.1304 477.537 Q43.0676 477.28 41.5217 476.797 Q39.9437 476.281 38.9453 475.734 Q38.2689 475.412 37.8181 475.122 Q37.3672 474.832 36.6587 474.252 Q35.9501 473.673 35.5637 472.803 Q35.1772 471.934 35.1772 470.871 Q35.1772 468.552 36.5942 466.909 Q38.0113 465.235 40.2335 464.848 Q39.0741 464.043 38.0757 463.045 Q37.0451 462.046 36.1112 460.211 Q35.1772 458.375 35.1772 456.41 Q35.1772 453.963 36.4332 452.449 Q37.657 450.935 39.4606 450.935 Z\" fill=\"#000000\" fill-rule=\"evenodd\" fill-opacity=\"1\" /><path clip-path=\"url(#clip770)\" d=\"M 0 0 M80.1688 448.332 Q79.8467 448.332 79.0416 447.494 Q68.2204 436.866 47.8341 436.866 Q27.3834 436.866 17.0453 447.076 Q15.8537 448.332 15.4994 448.332 Q14.8553 448.332 14.8553 447.688 Q14.8553 447.237 16.1757 445.659 Q17.4962 444.048 20.5235 441.633 Q23.5509 439.185 27.2545 437.382 Q36.24 433.034 47.8341 433.034 Q58.9773 433.034 67.9628 437.188 Q71.7308 438.96 74.887 441.44 Q78.0432 443.919 79.428 445.562 Q80.8129 447.204 80.8129 447.688 Q80.8129 448.332 80.1688 448.332 Z\" fill=\"#000000\" fill-rule=\"evenodd\" fill-opacity=\"1\" /><path clip-path=\"url(#clip770)\" d=\"M 0 0 M79.2992 422.986 L79.2992 417.447 L16.369 417.447 L16.369 422.986 L14.8553 422.986 L14.8553 413.034 L80.8129 413.034 L80.8129 422.986 L79.2992 422.986 Z\" fill=\"#000000\" fill-rule=\"evenodd\" fill-opacity=\"1\" /><polyline clip-path=\"url(#clip772)\" style=\"stroke:#009af9; stroke-width:4; stroke-opacity:1; fill:none\" points=\"\n",
       "  256.099,1388.31 482.276,1347.37 708.452,1300.52 934.629,1254.14 1160.81,1098.57 1386.98,767.746 1613.16,397.077 1839.34,199.621 2065.51,98.1854 2291.69,87.9899 \n",
       "  \n",
       "  \"/>\n",
       "<polyline clip-path=\"url(#clip772)\" style=\"stroke:#e26f46; stroke-width:4; stroke-opacity:1; fill:none\" points=\"\n",
       "  256.099,1364.22 482.276,1323.68 708.452,1279.79 934.629,1233.65 1160.81,1097.39 1386.98,765.685 1613.16,397.802 1839.34,181.17 2065.51,95.7835 2291.69,86.3042 \n",
       "  \n",
       "  \"/>\n",
       "<polyline clip-path=\"url(#clip772)\" style=\"stroke:#3da44d; stroke-width:4; stroke-opacity:1; fill:none\" points=\"\n",
       "  256.099,1339.95 482.276,1301.89 708.452,1255.03 934.629,1182.95 1160.81,954.946 1386.98,690.856 1613.16,524.857 1839.34,383.755 2065.51,259.543 2291.69,159.458 \n",
       "  \n",
       "  \"/>\n",
       "<path clip-path=\"url(#clip770)\" d=\"\n",
       "M1846.5 335.168 L2280.83 335.168 L2280.83 93.2482 L1846.5 93.2482  Z\n",
       "  \" fill=\"#ffffff\" fill-rule=\"evenodd\" fill-opacity=\"1\"/>\n",
       "<polyline clip-path=\"url(#clip770)\" style=\"stroke:#000000; stroke-width:4; stroke-opacity:1; fill:none\" points=\"\n",
       "  1846.5,335.168 2280.83,335.168 2280.83,93.2482 1846.5,93.2482 1846.5,335.168 \n",
       "  \"/>\n",
       "<polyline clip-path=\"url(#clip770)\" style=\"stroke:#009af9; stroke-width:4; stroke-opacity:1; fill:none\" points=\"\n",
       "  1870.48,153.728 2014.33,153.728 \n",
       "  \"/>\n",
       "<path clip-path=\"url(#clip770)\" d=\"M 0 0 M2053.39 134.99 L2053.39 144.55 Q2058 144.55 2061.08 148.092 Q2064.25 151.703 2064.25 158.068 Q2064.25 164.434 2061.08 168.045 Q2058 171.587 2053.39 171.587 L2053.39 180.869 L2049.16 180.869 L2049.16 171.587 Q2044.55 171.587 2041.45 168.045 Q2038.3 164.434 2038.3 158.068 Q2038.3 151.703 2041.45 148.092 Q2044.55 144.55 2049.16 144.55 L2049.16 134.99 L2053.39 134.99 M2053.39 167.791 Q2056.01 167.791 2057.79 165.406 Q2059.74 162.744 2059.76 158.068 Q2059.78 153.439 2057.79 150.731 Q2056.01 148.346 2053.39 148.346 L2053.39 167.791 M2049.16 167.791 L2049.16 148.346 Q2046.54 148.346 2044.78 150.731 Q2042.77 153.439 2042.79 158.068 Q2042.81 162.744 2044.78 165.406 Q2046.54 167.791 2049.16 167.791 Z\" fill=\"#000000\" fill-rule=\"evenodd\" fill-opacity=\"1\" /><path clip-path=\"url(#clip770)\" d=\"M 0 0 M2084.34 149.481 L2114.02 149.481 L2114.02 153.369 L2084.34 153.369 L2084.34 149.481 M2084.34 158.925 L2114.02 158.925 L2114.02 162.86 L2084.34 162.86 L2084.34 158.925 Z\" fill=\"#000000\" fill-rule=\"evenodd\" fill-opacity=\"1\" /><path clip-path=\"url(#clip770)\" d=\"M 0 0 M2131.4 156.124 L2143.88 156.124 L2143.88 159.92 L2131.4 159.92 L2131.4 156.124 Z\" fill=\"#000000\" fill-rule=\"evenodd\" fill-opacity=\"1\" /><path clip-path=\"url(#clip770)\" d=\"M 0 0 M2149.76 167.073 L2157.4 167.073 L2157.4 140.707 L2149.09 142.374 L2149.09 138.115 L2157.35 136.448 L2162.03 136.448 L2162.03 167.073 L2169.67 167.073 L2169.67 171.008 L2149.76 171.008 L2149.76 167.073 Z\" fill=\"#000000\" fill-rule=\"evenodd\" fill-opacity=\"1\" /><path clip-path=\"url(#clip770)\" d=\"M 0 0 M2174.73 165.129 L2179.62 165.129 L2179.62 171.008 L2174.73 171.008 L2174.73 165.129 Z\" fill=\"#000000\" fill-rule=\"evenodd\" fill-opacity=\"1\" /><path clip-path=\"url(#clip770)\" d=\"M 0 0 M2194.69 139.527 Q2191.08 139.527 2189.25 143.092 Q2187.44 146.633 2187.44 153.763 Q2187.44 160.869 2189.25 164.434 Q2191.08 167.976 2194.69 167.976 Q2198.32 167.976 2200.13 164.434 Q2201.96 160.869 2201.96 153.763 Q2201.96 146.633 2200.13 143.092 Q2198.32 139.527 2194.69 139.527 M2194.69 135.823 Q2200.5 135.823 2203.55 140.43 Q2206.63 145.013 2206.63 153.763 Q2206.63 162.49 2203.55 167.096 Q2200.5 171.679 2194.69 171.679 Q2188.88 171.679 2185.8 167.096 Q2182.74 162.49 2182.74 153.763 Q2182.74 145.013 2185.8 140.43 Q2188.88 135.823 2194.69 135.823 Z\" fill=\"#000000\" fill-rule=\"evenodd\" fill-opacity=\"1\" /><polyline clip-path=\"url(#clip770)\" style=\"stroke:#e26f46; stroke-width:4; stroke-opacity:1; fill:none\" points=\"\n",
       "  1870.48,214.208 2014.33,214.208 \n",
       "  \"/>\n",
       "<path clip-path=\"url(#clip770)\" d=\"M 0 0 M2053.39 195.47 L2053.39 205.03 Q2058 205.03 2061.08 208.572 Q2064.25 212.183 2064.25 218.548 Q2064.25 224.914 2061.08 228.525 Q2058 232.067 2053.39 232.067 L2053.39 241.349 L2049.16 241.349 L2049.16 232.067 Q2044.55 232.067 2041.45 228.525 Q2038.3 224.914 2038.3 218.548 Q2038.3 212.183 2041.45 208.572 Q2044.55 205.03 2049.16 205.03 L2049.16 195.47 L2053.39 195.47 M2053.39 228.271 Q2056.01 228.271 2057.79 225.886 Q2059.74 223.224 2059.76 218.548 Q2059.78 213.919 2057.79 211.211 Q2056.01 208.826 2053.39 208.826 L2053.39 228.271 M2049.16 228.271 L2049.16 208.826 Q2046.54 208.826 2044.78 211.211 Q2042.77 213.919 2042.79 218.548 Q2042.81 223.224 2044.78 225.886 Q2046.54 228.271 2049.16 228.271 Z\" fill=\"#000000\" fill-rule=\"evenodd\" fill-opacity=\"1\" /><path clip-path=\"url(#clip770)\" d=\"M 0 0 M2084.34 209.961 L2114.02 209.961 L2114.02 213.849 L2084.34 213.849 L2084.34 209.961 M2084.34 219.405 L2114.02 219.405 L2114.02 223.34 L2084.34 223.34 L2084.34 219.405 Z\" fill=\"#000000\" fill-rule=\"evenodd\" fill-opacity=\"1\" /><path clip-path=\"url(#clip770)\" d=\"M 0 0 M2131.4 216.604 L2143.88 216.604 L2143.88 220.4 L2131.4 220.4 L2131.4 216.604 Z\" fill=\"#000000\" fill-rule=\"evenodd\" fill-opacity=\"1\" /><path clip-path=\"url(#clip770)\" d=\"M 0 0 M2158.95 200.007 Q2155.34 200.007 2153.51 203.572 Q2151.7 207.113 2151.7 214.243 Q2151.7 221.349 2153.51 224.914 Q2155.34 228.456 2158.95 228.456 Q2162.58 228.456 2164.39 224.914 Q2166.22 221.349 2166.22 214.243 Q2166.22 207.113 2164.39 203.572 Q2162.58 200.007 2158.95 200.007 M2158.95 196.303 Q2164.76 196.303 2167.81 200.91 Q2170.89 205.493 2170.89 214.243 Q2170.89 222.97 2167.81 227.576 Q2164.76 232.159 2158.95 232.159 Q2153.14 232.159 2150.06 227.576 Q2147 222.97 2147 214.243 Q2147 205.493 2150.06 200.91 Q2153.14 196.303 2158.95 196.303 Z\" fill=\"#000000\" fill-rule=\"evenodd\" fill-opacity=\"1\" /><path clip-path=\"url(#clip770)\" d=\"M 0 0 M2175.96 225.609 L2180.85 225.609 L2180.85 231.488 L2175.96 231.488 L2175.96 225.609 Z\" fill=\"#000000\" fill-rule=\"evenodd\" fill-opacity=\"1\" /><path clip-path=\"url(#clip770)\" d=\"M 0 0 M2185.96 196.928 L2204.32 196.928 L2204.32 200.863 L2190.24 200.863 L2190.24 209.336 Q2191.26 208.988 2192.28 208.826 Q2193.3 208.641 2194.32 208.641 Q2200.1 208.641 2203.48 211.812 Q2206.86 214.984 2206.86 220.4 Q2206.86 225.979 2203.39 229.081 Q2199.92 232.159 2193.6 232.159 Q2191.42 232.159 2189.16 231.789 Q2186.91 231.419 2184.5 230.678 L2184.5 225.979 Q2186.59 227.113 2188.81 227.669 Q2191.03 228.224 2193.51 228.224 Q2197.51 228.224 2199.85 226.118 Q2202.19 224.011 2202.19 220.4 Q2202.19 216.789 2199.85 214.683 Q2197.51 212.576 2193.51 212.576 Q2191.63 212.576 2189.76 212.993 Q2187.91 213.41 2185.96 214.289 L2185.96 196.928 Z\" fill=\"#000000\" fill-rule=\"evenodd\" fill-opacity=\"1\" /><path clip-path=\"url(#clip770)\" d=\"M 0 0 M2211.98 196.928 L2230.34 196.928 L2230.34 200.863 L2216.26 200.863 L2216.26 209.336 Q2217.28 208.988 2218.3 208.826 Q2219.32 208.641 2220.34 208.641 Q2226.12 208.641 2229.5 211.812 Q2232.88 214.984 2232.88 220.4 Q2232.88 225.979 2229.41 229.081 Q2225.94 232.159 2219.62 232.159 Q2217.44 232.159 2215.17 231.789 Q2212.93 231.419 2210.52 230.678 L2210.52 225.979 Q2212.6 227.113 2214.83 227.669 Q2217.05 228.224 2219.53 228.224 Q2223.53 228.224 2225.87 226.118 Q2228.21 224.011 2228.21 220.4 Q2228.21 216.789 2225.87 214.683 Q2223.53 212.576 2219.53 212.576 Q2217.65 212.576 2215.78 212.993 Q2213.92 213.41 2211.98 214.289 L2211.98 196.928 Z\" fill=\"#000000\" fill-rule=\"evenodd\" fill-opacity=\"1\" /><polyline clip-path=\"url(#clip770)\" style=\"stroke:#3da44d; stroke-width:4; stroke-opacity:1; fill:none\" points=\"\n",
       "  1870.48,274.688 2014.33,274.688 \n",
       "  \"/>\n",
       "<path clip-path=\"url(#clip770)\" d=\"M 0 0 M2053.39 255.95 L2053.39 265.51 Q2058 265.51 2061.08 269.052 Q2064.25 272.663 2064.25 279.028 Q2064.25 285.394 2061.08 289.005 Q2058 292.547 2053.39 292.547 L2053.39 301.829 L2049.16 301.829 L2049.16 292.547 Q2044.55 292.547 2041.45 289.005 Q2038.3 285.394 2038.3 279.028 Q2038.3 272.663 2041.45 269.052 Q2044.55 265.51 2049.16 265.51 L2049.16 255.95 L2053.39 255.95 M2053.39 288.751 Q2056.01 288.751 2057.79 286.366 Q2059.74 283.704 2059.76 279.028 Q2059.78 274.399 2057.79 271.691 Q2056.01 269.306 2053.39 269.306 L2053.39 288.751 M2049.16 288.751 L2049.16 269.306 Q2046.54 269.306 2044.78 271.691 Q2042.77 274.399 2042.79 279.028 Q2042.81 283.704 2044.78 286.366 Q2046.54 288.751 2049.16 288.751 Z\" fill=\"#000000\" fill-rule=\"evenodd\" fill-opacity=\"1\" /><path clip-path=\"url(#clip770)\" d=\"M 0 0 M2084.34 270.441 L2114.02 270.441 L2114.02 274.329 L2084.34 274.329 L2084.34 270.441 M2084.34 279.885 L2114.02 279.885 L2114.02 283.82 L2084.34 283.82 L2084.34 279.885 Z\" fill=\"#000000\" fill-rule=\"evenodd\" fill-opacity=\"1\" /><path clip-path=\"url(#clip770)\" d=\"M 0 0 M2131.4 277.084 L2143.88 277.084 L2143.88 280.88 L2131.4 280.88 L2131.4 277.084 Z\" fill=\"#000000\" fill-rule=\"evenodd\" fill-opacity=\"1\" /><path clip-path=\"url(#clip770)\" d=\"M 0 0 M2158.95 260.487 Q2155.34 260.487 2153.51 264.052 Q2151.7 267.593 2151.7 274.723 Q2151.7 281.829 2153.51 285.394 Q2155.34 288.936 2158.95 288.936 Q2162.58 288.936 2164.39 285.394 Q2166.22 281.829 2166.22 274.723 Q2166.22 267.593 2164.39 264.052 Q2162.58 260.487 2158.95 260.487 M2158.95 256.783 Q2164.76 256.783 2167.81 261.39 Q2170.89 265.973 2170.89 274.723 Q2170.89 283.45 2167.81 288.056 Q2164.76 292.639 2158.95 292.639 Q2153.14 292.639 2150.06 288.056 Q2147 283.45 2147 274.723 Q2147 265.973 2150.06 261.39 Q2153.14 256.783 2158.95 256.783 Z\" fill=\"#000000\" fill-rule=\"evenodd\" fill-opacity=\"1\" /><path clip-path=\"url(#clip770)\" d=\"M 0 0 M2175.96 286.089 L2180.85 286.089 L2180.85 291.968 L2175.96 291.968 L2175.96 286.089 Z\" fill=\"#000000\" fill-rule=\"evenodd\" fill-opacity=\"1\" /><path clip-path=\"url(#clip770)\" d=\"M 0 0 M2186.73 288.033 L2194.36 288.033 L2194.36 261.667 L2186.05 263.334 L2186.05 259.075 L2194.32 257.408 L2198.99 257.408 L2198.99 288.033 L2206.63 288.033 L2206.63 291.968 L2186.73 291.968 L2186.73 288.033 Z\" fill=\"#000000\" fill-rule=\"evenodd\" fill-opacity=\"1\" /></svg>\n"
      ]
     },
     "execution_count": 14,
     "metadata": {},
     "output_type": "execute_result"
    }
   ],
   "source": [
    "fig = plot();\n",
    "for i in 1:M\n",
    "    plot!(fig,Σ,A[:,i],label=\"ϕ = $(round(Φ[i],digits=2))\")\n",
    "end \n",
    "plot!(fig, xlabel=L\"\\textrm{Risk Aversion  } (\\sigma)\", ylabel=L\"\\textrm{Asset Demand  } E\\,[a(r)]\")\n",
    "fig"
   ]
  },
  {
   "cell_type": "code",
   "execution_count": 22,
   "metadata": {
    "ExecuteTime": {
     "end_time": "2021-05-26T12:54:01.642000-07:00",
     "start_time": "2021-05-26T19:53:57.958Z"
    }
   },
   "outputs": [],
   "source": [
    "N = 10\n",
    "M = 3\n",
    "R = LinRange(0.01,0.04,N)\n",
    "Φ = LinRange(-1.0,-0.1,M)\n",
    "A = zeros(N,M)\n",
    "\n",
    "for i in 1:N\n",
    "    for j in 1:M\n",
    "        agent = Agent(2.,0.96,0.02,1.,[.8,1.,1.2],ones(3)/3,LinRange(Φ[j],25.,1000))\n",
    "        A[i,j] = computeassetdemand(agent,R[i],1.)\n",
    "    end \n",
    "end"
   ]
  },
  {
   "cell_type": "code",
   "execution_count": 26,
   "metadata": {
    "ExecuteTime": {
     "end_time": "2021-05-26T12:55:31.719000-07:00",
     "start_time": "2021-05-26T19:55:31.648Z"
    }
   },
   "outputs": [
    {
     "data": {
      "image/svg+xml": [
       "<?xml version=\"1.0\" encoding=\"utf-8\"?>\n",
       "<svg xmlns=\"http://www.w3.org/2000/svg\" xmlns:xlink=\"http://www.w3.org/1999/xlink\" width=\"600\" height=\"400\" viewBox=\"0 0 2400 1600\">\n",
       "<defs>\n",
       "  <clipPath id=\"clip930\">\n",
       "    <rect x=\"0\" y=\"0\" width=\"2400\" height=\"1600\"/>\n",
       "  </clipPath>\n",
       "</defs>\n",
       "<path clip-path=\"url(#clip930)\" d=\"\n",
       "M0 1600 L2400 1600 L2400 0 L0 0  Z\n",
       "  \" fill=\"#ffffff\" fill-rule=\"evenodd\" fill-opacity=\"1\"/>\n",
       "<defs>\n",
       "  <clipPath id=\"clip931\">\n",
       "    <rect x=\"480\" y=\"0\" width=\"1681\" height=\"1600\"/>\n",
       "  </clipPath>\n",
       "</defs>\n",
       "<defs>\n",
       "  <clipPath id=\"clip932\">\n",
       "    <rect x=\"238\" y=\"47\" width=\"2115\" height=\"1381\"/>\n",
       "  </clipPath>\n",
       "</defs>\n",
       "<path clip-path=\"url(#clip930)\" d=\"\n",
       "M238.735 1427.37 L2352.76 1427.37 L2352.76 47.2441 L238.735 47.2441  Z\n",
       "  \" fill=\"#ffffff\" fill-rule=\"evenodd\" fill-opacity=\"1\"/>\n",
       "<polyline clip-path=\"url(#clip932)\" style=\"stroke:#000000; stroke-width:2; stroke-opacity:0.1; fill:none\" points=\"\n",
       "  298.566,1427.37 298.566,47.2441 \n",
       "  \"/>\n",
       "<polyline clip-path=\"url(#clip932)\" style=\"stroke:#000000; stroke-width:2; stroke-opacity:0.1; fill:none\" points=\"\n",
       "  963.352,1427.37 963.352,47.2441 \n",
       "  \"/>\n",
       "<polyline clip-path=\"url(#clip932)\" style=\"stroke:#000000; stroke-width:2; stroke-opacity:0.1; fill:none\" points=\"\n",
       "  1628.14,1427.37 1628.14,47.2441 \n",
       "  \"/>\n",
       "<polyline clip-path=\"url(#clip932)\" style=\"stroke:#000000; stroke-width:2; stroke-opacity:0.1; fill:none\" points=\"\n",
       "  2292.93,1427.37 2292.93,47.2441 \n",
       "  \"/>\n",
       "<polyline clip-path=\"url(#clip930)\" style=\"stroke:#000000; stroke-width:4; stroke-opacity:1; fill:none\" points=\"\n",
       "  238.735,1427.37 2352.76,1427.37 \n",
       "  \"/>\n",
       "<polyline clip-path=\"url(#clip930)\" style=\"stroke:#000000; stroke-width:4; stroke-opacity:1; fill:none\" points=\"\n",
       "  298.566,1427.37 298.566,1410.81 \n",
       "  \"/>\n",
       "<polyline clip-path=\"url(#clip930)\" style=\"stroke:#000000; stroke-width:4; stroke-opacity:1; fill:none\" points=\"\n",
       "  963.352,1427.37 963.352,1410.81 \n",
       "  \"/>\n",
       "<polyline clip-path=\"url(#clip930)\" style=\"stroke:#000000; stroke-width:4; stroke-opacity:1; fill:none\" points=\"\n",
       "  1628.14,1427.37 1628.14,1410.81 \n",
       "  \"/>\n",
       "<polyline clip-path=\"url(#clip930)\" style=\"stroke:#000000; stroke-width:4; stroke-opacity:1; fill:none\" points=\"\n",
       "  2292.93,1427.37 2292.93,1410.81 \n",
       "  \"/>\n",
       "<path clip-path=\"url(#clip930)\" d=\"M 0 0 M267.189 1456.56 Q263.578 1456.56 261.749 1460.12 Q259.943 1463.66 259.943 1470.79 Q259.943 1477.9 261.749 1481.46 Q263.578 1485.01 267.189 1485.01 Q270.823 1485.01 272.628 1481.46 Q274.457 1477.9 274.457 1470.79 Q274.457 1463.66 272.628 1460.12 Q270.823 1456.56 267.189 1456.56 M267.189 1452.85 Q272.999 1452.85 276.054 1457.46 Q279.133 1462.04 279.133 1470.79 Q279.133 1479.52 276.054 1484.13 Q272.999 1488.71 267.189 1488.71 Q261.379 1488.71 258.3 1484.13 Q255.244 1479.52 255.244 1470.79 Q255.244 1462.04 258.3 1457.46 Q261.379 1452.85 267.189 1452.85 Z\" fill=\"#000000\" fill-rule=\"evenodd\" fill-opacity=\"1\" /><path clip-path=\"url(#clip930)\" d=\"M 0 0 M284.202 1482.16 L289.087 1482.16 L289.087 1488.04 L284.202 1488.04 L284.202 1482.16 Z\" fill=\"#000000\" fill-rule=\"evenodd\" fill-opacity=\"1\" /><path clip-path=\"url(#clip930)\" d=\"M 0 0 M304.156 1456.56 Q300.545 1456.56 298.716 1460.12 Q296.911 1463.66 296.911 1470.79 Q296.911 1477.9 298.716 1481.46 Q300.545 1485.01 304.156 1485.01 Q307.79 1485.01 309.596 1481.46 Q311.425 1477.9 311.425 1470.79 Q311.425 1463.66 309.596 1460.12 Q307.79 1456.56 304.156 1456.56 M304.156 1452.85 Q309.966 1452.85 313.022 1457.46 Q316.1 1462.04 316.1 1470.79 Q316.1 1479.52 313.022 1484.13 Q309.966 1488.71 304.156 1488.71 Q298.346 1488.71 295.267 1484.13 Q292.212 1479.52 292.212 1470.79 Q292.212 1462.04 295.267 1457.46 Q298.346 1452.85 304.156 1452.85 Z\" fill=\"#000000\" fill-rule=\"evenodd\" fill-opacity=\"1\" /><path clip-path=\"url(#clip930)\" d=\"M 0 0 M321.98 1484.1 L329.619 1484.1 L329.619 1457.74 L321.309 1459.4 L321.309 1455.15 L329.573 1453.48 L334.248 1453.48 L334.248 1484.1 L341.887 1484.1 L341.887 1488.04 L321.98 1488.04 L321.98 1484.1 Z\" fill=\"#000000\" fill-rule=\"evenodd\" fill-opacity=\"1\" /><path clip-path=\"url(#clip930)\" d=\"M 0 0 M932.16 1456.56 Q928.549 1456.56 926.721 1460.12 Q924.915 1463.66 924.915 1470.79 Q924.915 1477.9 926.721 1481.46 Q928.549 1485.01 932.16 1485.01 Q935.795 1485.01 937.6 1481.46 Q939.429 1477.9 939.429 1470.79 Q939.429 1463.66 937.6 1460.12 Q935.795 1456.56 932.16 1456.56 M932.16 1452.85 Q937.97 1452.85 941.026 1457.46 Q944.105 1462.04 944.105 1470.79 Q944.105 1479.52 941.026 1484.13 Q937.97 1488.71 932.16 1488.71 Q926.35 1488.71 923.271 1484.13 Q920.216 1479.52 920.216 1470.79 Q920.216 1462.04 923.271 1457.46 Q926.35 1452.85 932.16 1452.85 Z\" fill=\"#000000\" fill-rule=\"evenodd\" fill-opacity=\"1\" /><path clip-path=\"url(#clip930)\" d=\"M 0 0 M949.174 1482.16 L954.058 1482.16 L954.058 1488.04 L949.174 1488.04 L949.174 1482.16 Z\" fill=\"#000000\" fill-rule=\"evenodd\" fill-opacity=\"1\" /><path clip-path=\"url(#clip930)\" d=\"M 0 0 M969.128 1456.56 Q965.517 1456.56 963.688 1460.12 Q961.882 1463.66 961.882 1470.79 Q961.882 1477.9 963.688 1481.46 Q965.517 1485.01 969.128 1485.01 Q972.762 1485.01 974.567 1481.46 Q976.396 1477.9 976.396 1470.79 Q976.396 1463.66 974.567 1460.12 Q972.762 1456.56 969.128 1456.56 M969.128 1452.85 Q974.938 1452.85 977.993 1457.46 Q981.072 1462.04 981.072 1470.79 Q981.072 1479.52 977.993 1484.13 Q974.938 1488.71 969.128 1488.71 Q963.318 1488.71 960.239 1484.13 Q957.183 1479.52 957.183 1470.79 Q957.183 1462.04 960.239 1457.46 Q963.318 1452.85 969.128 1452.85 Z\" fill=\"#000000\" fill-rule=\"evenodd\" fill-opacity=\"1\" /><path clip-path=\"url(#clip930)\" d=\"M 0 0 M990.169 1484.1 L1006.49 1484.1 L1006.49 1488.04 L984.544 1488.04 L984.544 1484.1 Q987.206 1481.35 991.79 1476.72 Q996.396 1472.07 997.577 1470.72 Q999.822 1468.2 1000.7 1466.46 Q1001.6 1464.71 1001.6 1463.02 Q1001.6 1460.26 999.66 1458.52 Q997.739 1456.79 994.637 1456.79 Q992.438 1456.79 989.984 1457.55 Q987.554 1458.32 984.776 1459.87 L984.776 1455.15 Q987.6 1454.01 990.053 1453.43 Q992.507 1452.85 994.544 1452.85 Q999.915 1452.85 1003.11 1455.54 Q1006.3 1458.22 1006.3 1462.71 Q1006.3 1464.84 1005.49 1466.77 Q1004.71 1468.66 1002.6 1471.26 Q1002.02 1471.93 998.919 1475.15 Q995.817 1478.34 990.169 1484.1 Z\" fill=\"#000000\" fill-rule=\"evenodd\" fill-opacity=\"1\" /><path clip-path=\"url(#clip930)\" d=\"M 0 0 M1596.47 1456.56 Q1592.86 1456.56 1591.03 1460.12 Q1589.23 1463.66 1589.23 1470.79 Q1589.23 1477.9 1591.03 1481.46 Q1592.86 1485.01 1596.47 1485.01 Q1600.11 1485.01 1601.91 1481.46 Q1603.74 1477.9 1603.74 1470.79 Q1603.74 1463.66 1601.91 1460.12 Q1600.11 1456.56 1596.47 1456.56 M1596.47 1452.85 Q1602.28 1452.85 1605.34 1457.46 Q1608.42 1462.04 1608.42 1470.79 Q1608.42 1479.52 1605.34 1484.13 Q1602.28 1488.71 1596.47 1488.71 Q1590.66 1488.71 1587.58 1484.13 Q1584.53 1479.52 1584.53 1470.79 Q1584.53 1462.04 1587.58 1457.46 Q1590.66 1452.85 1596.47 1452.85 Z\" fill=\"#000000\" fill-rule=\"evenodd\" fill-opacity=\"1\" /><path clip-path=\"url(#clip930)\" d=\"M 0 0 M1613.49 1482.16 L1618.37 1482.16 L1618.37 1488.04 L1613.49 1488.04 L1613.49 1482.16 Z\" fill=\"#000000\" fill-rule=\"evenodd\" fill-opacity=\"1\" /><path clip-path=\"url(#clip930)\" d=\"M 0 0 M1633.44 1456.56 Q1629.83 1456.56 1628 1460.12 Q1626.19 1463.66 1626.19 1470.79 Q1626.19 1477.9 1628 1481.46 Q1629.83 1485.01 1633.44 1485.01 Q1637.07 1485.01 1638.88 1481.46 Q1640.71 1477.9 1640.71 1470.79 Q1640.71 1463.66 1638.88 1460.12 Q1637.07 1456.56 1633.44 1456.56 M1633.44 1452.85 Q1639.25 1452.85 1642.31 1457.46 Q1645.38 1462.04 1645.38 1470.79 Q1645.38 1479.52 1642.31 1484.13 Q1639.25 1488.71 1633.44 1488.71 Q1627.63 1488.71 1624.55 1484.13 Q1621.5 1479.52 1621.5 1470.79 Q1621.5 1462.04 1624.55 1457.46 Q1627.63 1452.85 1633.44 1452.85 Z\" fill=\"#000000\" fill-rule=\"evenodd\" fill-opacity=\"1\" /><path clip-path=\"url(#clip930)\" d=\"M 0 0 M1664.62 1469.4 Q1667.98 1470.12 1669.85 1472.39 Q1671.75 1474.66 1671.75 1477.99 Q1671.75 1483.11 1668.23 1485.91 Q1664.71 1488.71 1658.23 1488.71 Q1656.06 1488.71 1653.74 1488.27 Q1651.45 1487.85 1649 1487 L1649 1482.48 Q1650.94 1483.62 1653.25 1484.2 Q1655.57 1484.77 1658.09 1484.77 Q1662.49 1484.77 1664.78 1483.04 Q1667.1 1481.3 1667.1 1477.99 Q1667.1 1474.94 1664.94 1473.22 Q1662.81 1471.49 1659 1471.49 L1654.97 1471.49 L1654.97 1467.65 L1659.18 1467.65 Q1662.63 1467.65 1664.46 1466.28 Q1666.29 1464.89 1666.29 1462.3 Q1666.29 1459.64 1664.39 1458.22 Q1662.51 1456.79 1659 1456.79 Q1657.07 1456.79 1654.87 1457.21 Q1652.68 1457.62 1650.04 1458.5 L1650.04 1454.33 Q1652.7 1453.59 1655.01 1453.22 Q1657.35 1452.85 1659.41 1452.85 Q1664.74 1452.85 1667.84 1455.28 Q1670.94 1457.69 1670.94 1461.81 Q1670.94 1464.68 1669.3 1466.67 Q1667.65 1468.64 1664.62 1469.4 Z\" fill=\"#000000\" fill-rule=\"evenodd\" fill-opacity=\"1\" /><path clip-path=\"url(#clip930)\" d=\"M 0 0 M2260.69 1456.56 Q2257.08 1456.56 2255.25 1460.12 Q2253.45 1463.66 2253.45 1470.79 Q2253.45 1477.9 2255.25 1481.46 Q2257.08 1485.01 2260.69 1485.01 Q2264.33 1485.01 2266.13 1481.46 Q2267.96 1477.9 2267.96 1470.79 Q2267.96 1463.66 2266.13 1460.12 Q2264.33 1456.56 2260.69 1456.56 M2260.69 1452.85 Q2266.5 1452.85 2269.56 1457.46 Q2272.64 1462.04 2272.64 1470.79 Q2272.64 1479.52 2269.56 1484.13 Q2266.5 1488.71 2260.69 1488.71 Q2254.88 1488.71 2251.8 1484.13 Q2248.75 1479.52 2248.75 1470.79 Q2248.75 1462.04 2251.8 1457.46 Q2254.88 1452.85 2260.69 1452.85 Z\" fill=\"#000000\" fill-rule=\"evenodd\" fill-opacity=\"1\" /><path clip-path=\"url(#clip930)\" d=\"M 0 0 M2277.71 1482.16 L2282.59 1482.16 L2282.59 1488.04 L2277.71 1488.04 L2277.71 1482.16 Z\" fill=\"#000000\" fill-rule=\"evenodd\" fill-opacity=\"1\" /><path clip-path=\"url(#clip930)\" d=\"M 0 0 M2297.66 1456.56 Q2294.05 1456.56 2292.22 1460.12 Q2290.41 1463.66 2290.41 1470.79 Q2290.41 1477.9 2292.22 1481.46 Q2294.05 1485.01 2297.66 1485.01 Q2301.29 1485.01 2303.1 1481.46 Q2304.93 1477.9 2304.93 1470.79 Q2304.93 1463.66 2303.1 1460.12 Q2301.29 1456.56 2297.66 1456.56 M2297.66 1452.85 Q2303.47 1452.85 2306.52 1457.46 Q2309.6 1462.04 2309.6 1470.79 Q2309.6 1479.52 2306.52 1484.13 Q2303.47 1488.71 2297.66 1488.71 Q2291.85 1488.71 2288.77 1484.13 Q2285.71 1479.52 2285.71 1470.79 Q2285.71 1462.04 2288.77 1457.46 Q2291.85 1452.85 2297.66 1452.85 Z\" fill=\"#000000\" fill-rule=\"evenodd\" fill-opacity=\"1\" /><path clip-path=\"url(#clip930)\" d=\"M 0 0 M2327.52 1457.55 L2315.71 1476 L2327.52 1476 L2327.52 1457.55 M2326.29 1453.48 L2332.17 1453.48 L2332.17 1476 L2337.1 1476 L2337.1 1479.89 L2332.17 1479.89 L2332.17 1488.04 L2327.52 1488.04 L2327.52 1479.89 L2311.92 1479.89 L2311.92 1475.38 L2326.29 1453.48 Z\" fill=\"#000000\" fill-rule=\"evenodd\" fill-opacity=\"1\" /><path clip-path=\"url(#clip930)\" d=\"M 0 0 M1033.17 1557.46 L1033.17 1555.43 L1034.75 1555.43 Q1038.32 1555.43 1039.13 1554.85 Q1039.96 1554.24 1039.96 1552.3 L1039.96 1517.55 Q1039.96 1515.65 1039.13 1515.07 Q1038.29 1514.46 1034.75 1514.46 L1033.17 1514.46 L1033.17 1512.4 L1053.88 1512.4 Q1061.06 1512.4 1066.05 1515.94 Q1071.07 1519.45 1071.07 1524.28 Q1071.07 1527.99 1067.82 1530.89 Q1064.57 1533.79 1059.54 1535.04 Q1066.08 1537.3 1067.6 1542.67 L1068.43 1547.96 Q1068.69 1549.86 1068.85 1550.82 Q1069.04 1551.79 1069.33 1553.11 Q1069.62 1554.43 1069.91 1555.07 Q1070.24 1555.69 1070.69 1556.36 Q1071.14 1557.01 1071.72 1557.23 Q1072.33 1557.46 1073.14 1557.46 Q1074.65 1557.46 1075.94 1556.1 Q1077.23 1554.75 1077.48 1551.6 Q1077.61 1550.53 1078.29 1550.53 Q1079.13 1550.53 1079.13 1551.6 Q1079.13 1552.53 1078.87 1553.62 Q1078.61 1554.69 1077.97 1555.94 Q1077.35 1557.2 1076 1558.04 Q1074.65 1558.91 1072.88 1558.91 Q1067.72 1558.91 1064.57 1556.14 Q1063.25 1554.94 1062.64 1553.4 Q1062.06 1551.85 1061.96 1550.63 Q1061.86 1549.41 1061.86 1546.7 Q1061.86 1542.87 1061.44 1541.19 Q1061.06 1539.52 1059.35 1537.88 Q1057.03 1535.62 1053.2 1535.62 L1045.63 1535.62 L1045.63 1552.3 Q1045.63 1554.2 1046.44 1554.82 Q1047.27 1555.43 1050.85 1555.43 L1052.43 1555.43 L1052.43 1557.46 Q1050.04 1557.26 1042.8 1557.26 Q1035.55 1557.26 1033.17 1557.46 M1045.63 1534.17 L1052.94 1534.17 Q1056.45 1534.17 1058.8 1533.33 Q1061.19 1532.46 1062.31 1530.92 Q1063.44 1529.37 1063.86 1527.83 Q1064.28 1526.25 1064.28 1524.28 Q1064.28 1521.97 1063.76 1520.23 Q1063.25 1518.49 1062.12 1517.46 Q1060.99 1516.43 1059.87 1515.78 Q1058.74 1515.11 1057 1514.85 Q1055.26 1514.59 1054.07 1514.53 Q1052.88 1514.46 1050.98 1514.46 Q1047.76 1514.46 1047.08 1514.59 Q1046.34 1514.65 1046.05 1515.01 Q1045.76 1515.36 1045.7 1515.78 Q1045.63 1516.17 1045.63 1517.1 L1045.63 1534.17 Z\" fill=\"#000000\" fill-rule=\"evenodd\" fill-opacity=\"1\" /><path clip-path=\"url(#clip930)\" d=\"M 0 0 M1081.27 1557.46 L1081.27 1555.43 Q1084.78 1555.43 1085.59 1555.01 Q1086.39 1554.56 1086.39 1552.43 L1086.39 1534.69 Q1086.39 1532.24 1085.56 1531.66 Q1084.75 1531.08 1081.53 1531.08 L1081.53 1529.02 L1090.74 1528.31 L1090.74 1552.5 Q1090.74 1554.46 1091.45 1554.94 Q1092.16 1555.43 1095.38 1555.43 L1095.38 1557.46 Q1088.65 1557.26 1088.52 1557.26 Q1087.62 1557.26 1081.27 1557.46 M1084.04 1516.81 Q1084.04 1515.49 1085.04 1514.43 Q1086.07 1513.33 1087.52 1513.33 Q1088.97 1513.33 1090 1514.33 Q1091.03 1515.3 1091.03 1516.84 Q1091.03 1518.36 1090 1519.36 Q1088.97 1520.32 1087.52 1520.32 Q1086.01 1520.32 1085.01 1519.26 Q1084.04 1518.2 1084.04 1516.81 Z\" fill=\"#000000\" fill-rule=\"evenodd\" fill-opacity=\"1\" /><path clip-path=\"url(#clip930)\" d=\"M 0 0 M1099.37 1556.59 L1099.37 1547.89 Q1099.37 1547.15 1099.4 1546.89 Q1099.44 1546.64 1099.63 1546.44 Q1099.82 1546.25 1100.21 1546.25 Q1100.66 1546.25 1100.82 1546.44 Q1101.02 1546.64 1101.14 1547.38 Q1102.14 1551.92 1104.27 1554.33 Q1106.43 1556.72 1110.32 1556.72 Q1114.03 1556.72 1115.89 1555.07 Q1117.76 1553.43 1117.76 1550.73 Q1117.76 1545.89 1110.9 1544.67 Q1106.94 1543.87 1105.3 1543.35 Q1103.66 1542.8 1102.21 1541.61 Q1099.37 1539.29 1099.37 1536.01 Q1099.37 1532.72 1101.85 1530.31 Q1104.36 1527.89 1109.9 1527.89 Q1113.61 1527.89 1116.12 1529.76 Q1116.86 1529.18 1117.25 1528.7 Q1118.12 1527.89 1118.57 1527.89 Q1119.08 1527.89 1119.18 1528.25 Q1119.28 1528.57 1119.28 1529.5 L1119.28 1536.14 Q1119.28 1536.88 1119.24 1537.13 Q1119.21 1537.39 1119.02 1537.59 Q1118.82 1537.75 1118.41 1537.75 Q1117.67 1537.75 1117.63 1537.13 Q1117.12 1529.15 1109.9 1529.15 Q1106.01 1529.15 1104.27 1530.66 Q1102.53 1532.14 1102.53 1534.17 Q1102.53 1535.3 1103.04 1536.17 Q1103.59 1537.01 1104.27 1537.52 Q1104.98 1538 1106.26 1538.49 Q1107.55 1538.94 1108.33 1539.1 Q1109.13 1539.26 1110.64 1539.58 Q1115.93 1540.58 1118.15 1542.74 Q1120.92 1545.51 1120.92 1549.02 Q1120.92 1552.92 1118.28 1555.56 Q1115.64 1558.2 1110.32 1558.2 Q1106.04 1558.2 1103.04 1555.33 Q1102.66 1555.72 1102.37 1556.07 Q1102.08 1556.39 1101.95 1556.52 Q1101.85 1556.65 1101.82 1556.75 Q1101.79 1556.81 1101.72 1556.88 Q1100.4 1558.2 1100.08 1558.2 Q1099.57 1558.2 1099.47 1557.84 Q1099.37 1557.52 1099.37 1556.59 Z\" fill=\"#000000\" fill-rule=\"evenodd\" fill-opacity=\"1\" /><path clip-path=\"url(#clip930)\" d=\"M 0 0 M1125.1 1557.46 L1125.1 1555.43 Q1128.61 1555.43 1129.42 1555.01 Q1130.25 1554.56 1130.25 1552.43 L1130.25 1518.13 Q1130.25 1515.69 1129.38 1515.07 Q1128.55 1514.46 1125.1 1514.46 L1125.1 1512.4 L1134.6 1511.69 L1134.6 1543.35 L1143.91 1535.3 Q1145.36 1534.04 1145.36 1532.72 Q1145.36 1531.21 1143.46 1531.08 L1143.46 1529.02 Q1146.23 1529.21 1150.83 1529.21 Q1153.54 1529.21 1155.44 1529.02 L1155.44 1531.08 Q1151.28 1531.27 1147.13 1534.62 Q1146.2 1535.36 1143.97 1537.3 Q1141.78 1539.2 1141.78 1539.39 Q1141.78 1539.45 1141.85 1539.61 Q1141.94 1539.78 1142.07 1539.9 Q1142.2 1540.03 1142.2 1540.1 L1150.58 1551.92 Q1152.28 1554.3 1153.54 1554.88 Q1154.79 1555.43 1156.98 1555.43 L1156.98 1557.46 Q1154.15 1557.26 1151.22 1557.26 Q1149.64 1557.26 1144.1 1557.46 L1144.1 1555.43 Q1146.49 1555.43 1146.49 1553.88 Q1146.49 1552.82 1141.14 1545.44 Q1140.75 1544.93 1139.88 1543.8 Q1139.08 1542.61 1138.63 1542.03 L1134.41 1545.64 L1134.41 1552.43 Q1134.41 1554.56 1135.21 1555.01 Q1136.05 1555.43 1139.56 1555.43 L1139.56 1557.46 Q1135.6 1557.26 1132.32 1557.26 Q1131.64 1557.26 1125.1 1557.46 Z\" fill=\"#000000\" fill-rule=\"evenodd\" fill-opacity=\"1\" /><path clip-path=\"url(#clip930)\" d=\"M 0 0 M1181.28 1557.46 L1181.28 1555.43 Q1187.14 1555.3 1188.66 1550.98 L1202.31 1511.56 Q1202.57 1510.76 1202.86 1510.5 Q1203.15 1510.24 1203.89 1510.24 Q1204.28 1510.24 1204.5 1510.31 Q1204.76 1510.37 1204.92 1510.6 Q1205.08 1510.82 1205.15 1510.95 Q1205.21 1511.08 1205.41 1511.56 L1219.64 1552.79 Q1220.16 1554.43 1221.22 1554.94 Q1222.28 1555.43 1225.28 1555.43 L1226.44 1555.43 L1226.44 1557.46 Q1222.28 1557.26 1217.8 1557.26 Q1210.69 1557.26 1208.3 1557.46 L1208.3 1555.43 Q1213.78 1555.43 1213.78 1553.43 Q1213.78 1553.3 1213.59 1552.5 L1210.11 1542.42 L1193.81 1542.42 L1190.75 1551.05 Q1190.62 1551.31 1190.62 1552.05 Q1190.62 1553.43 1191.91 1554.43 Q1193.2 1555.43 1195.58 1555.43 L1195.58 1557.46 Q1189.24 1557.26 1187.98 1557.26 Q1185.82 1557.26 1181.28 1557.46 M1194.52 1540.39 L1209.37 1540.39 L1201.93 1518.94 L1194.52 1540.39 Z\" fill=\"#000000\" fill-rule=\"evenodd\" fill-opacity=\"1\" /><path clip-path=\"url(#clip930)\" d=\"M 0 0 M1227.19 1531.08 L1227.19 1529.02 Q1230.15 1529.21 1233.6 1529.21 Q1234.85 1529.21 1240.78 1529.02 L1240.78 1531.08 Q1237.01 1531.08 1237.01 1532.79 Q1237.01 1533.04 1237.4 1533.91 L1244.81 1552.3 L1251.54 1535.49 Q1251.92 1534.36 1251.92 1533.91 Q1251.92 1532.79 1251.15 1531.98 Q1250.41 1531.14 1248.77 1531.08 L1248.77 1529.02 Q1252.12 1529.21 1254.5 1529.21 Q1257.2 1529.21 1259.43 1529.02 L1259.43 1531.08 Q1257.46 1531.08 1256.08 1531.98 Q1254.69 1532.85 1254.24 1533.62 Q1253.82 1534.36 1253.37 1535.49 L1244.74 1556.94 Q1244.23 1558.2 1243.36 1558.2 Q1242.78 1558.2 1242.52 1557.94 Q1242.29 1557.71 1241.97 1556.94 L1232.47 1533.53 Q1231.83 1531.89 1230.99 1531.5 Q1230.15 1531.08 1227.19 1531.08 Z\" fill=\"#000000\" fill-rule=\"evenodd\" fill-opacity=\"1\" /><path clip-path=\"url(#clip930)\" d=\"M 0 0 M1260.88 1542.93 Q1260.88 1536.72 1264.88 1532.3 Q1268.87 1527.89 1274.6 1527.89 Q1280.4 1527.89 1283.39 1531.66 Q1286.42 1535.43 1286.42 1540.84 Q1286.42 1541.84 1286.16 1542.03 Q1285.91 1542.22 1284.78 1542.22 L1266.36 1542.22 Q1266.36 1548.95 1268.35 1552.11 Q1271.12 1556.52 1275.79 1556.52 Q1276.44 1556.52 1277.21 1556.39 Q1277.98 1556.26 1279.56 1555.72 Q1281.14 1555.14 1282.52 1553.62 Q1283.91 1552.11 1284.71 1549.73 Q1284.91 1548.79 1285.55 1548.83 Q1286.42 1548.83 1286.42 1549.6 Q1286.42 1550.18 1285.78 1551.5 Q1285.17 1552.79 1283.97 1554.33 Q1282.78 1555.88 1280.46 1557.04 Q1278.18 1558.2 1275.41 1558.2 Q1269.61 1558.2 1265.23 1553.82 Q1260.88 1549.41 1260.88 1542.93 M1266.42 1540.84 L1282.07 1540.84 Q1282.07 1539.45 1281.82 1537.91 Q1281.59 1536.36 1280.88 1534.24 Q1280.21 1532.08 1278.6 1530.73 Q1276.99 1529.37 1274.6 1529.37 Q1273.54 1529.37 1272.38 1529.82 Q1271.25 1530.27 1269.87 1531.37 Q1268.48 1532.46 1267.52 1534.94 Q1266.55 1537.42 1266.42 1540.84 Z\" fill=\"#000000\" fill-rule=\"evenodd\" fill-opacity=\"1\" /><path clip-path=\"url(#clip930)\" d=\"M 0 0 M1289.9 1557.46 L1289.9 1555.43 Q1293.41 1555.43 1294.21 1555.01 Q1295.05 1554.56 1295.05 1552.43 L1295.05 1534.75 Q1295.05 1532.3 1294.18 1531.69 Q1293.34 1531.08 1289.9 1531.08 L1289.9 1529.02 L1299.08 1528.31 L1299.08 1535.56 Q1300.01 1532.72 1301.98 1530.53 Q1303.97 1528.31 1307.19 1528.31 Q1309.32 1528.31 1310.67 1529.5 Q1312.06 1530.69 1312.06 1532.34 Q1312.06 1533.79 1311.15 1534.53 Q1310.29 1535.23 1309.22 1535.23 Q1308.03 1535.23 1307.19 1534.49 Q1306.39 1533.72 1306.39 1532.4 Q1306.39 1531.6 1306.74 1530.98 Q1307.13 1530.34 1307.42 1530.11 Q1307.71 1529.89 1307.9 1529.82 Q1307.77 1529.76 1307.19 1529.76 Q1303.55 1529.76 1301.46 1533.4 Q1299.4 1537.01 1299.4 1542.16 L1299.4 1552.3 Q1299.4 1554.2 1300.17 1554.82 Q1300.98 1555.43 1304.42 1555.43 L1305.81 1555.43 L1305.81 1557.46 Q1303.17 1557.26 1297.43 1557.26 Q1296.63 1557.26 1295.37 1557.3 Q1294.12 1557.33 1292.48 1557.39 Q1290.83 1557.46 1289.9 1557.46 Z\" fill=\"#000000\" fill-rule=\"evenodd\" fill-opacity=\"1\" /><path clip-path=\"url(#clip930)\" d=\"M 0 0 M1314.06 1556.59 L1314.06 1547.89 Q1314.06 1547.15 1314.09 1546.89 Q1314.13 1546.64 1314.32 1546.44 Q1314.51 1546.25 1314.9 1546.25 Q1315.35 1546.25 1315.51 1546.44 Q1315.7 1546.64 1315.83 1547.38 Q1316.83 1551.92 1318.96 1554.33 Q1321.11 1556.72 1325.01 1556.72 Q1328.71 1556.72 1330.58 1555.07 Q1332.45 1553.43 1332.45 1550.73 Q1332.45 1545.89 1325.59 1544.67 Q1321.63 1543.87 1319.99 1543.35 Q1318.34 1542.8 1316.9 1541.61 Q1314.06 1539.29 1314.06 1536.01 Q1314.06 1532.72 1316.54 1530.31 Q1319.05 1527.89 1324.59 1527.89 Q1328.3 1527.89 1330.81 1529.76 Q1331.55 1529.18 1331.94 1528.7 Q1332.8 1527.89 1333.26 1527.89 Q1333.77 1527.89 1333.87 1528.25 Q1333.96 1528.57 1333.96 1529.5 L1333.96 1536.14 Q1333.96 1536.88 1333.93 1537.13 Q1333.9 1537.39 1333.71 1537.59 Q1333.51 1537.75 1333.09 1537.75 Q1332.35 1537.75 1332.32 1537.13 Q1331.81 1529.15 1324.59 1529.15 Q1320.7 1529.15 1318.96 1530.66 Q1317.22 1532.14 1317.22 1534.17 Q1317.22 1535.3 1317.73 1536.17 Q1318.28 1537.01 1318.96 1537.52 Q1319.66 1538 1320.95 1538.49 Q1322.24 1538.94 1323.01 1539.1 Q1323.82 1539.26 1325.33 1539.58 Q1330.61 1540.58 1332.84 1542.74 Q1335.61 1545.51 1335.61 1549.02 Q1335.61 1552.92 1332.97 1555.56 Q1330.32 1558.2 1325.01 1558.2 Q1320.73 1558.2 1317.73 1555.33 Q1317.35 1555.72 1317.06 1556.07 Q1316.77 1556.39 1316.64 1556.52 Q1316.54 1556.65 1316.51 1556.75 Q1316.48 1556.81 1316.41 1556.88 Q1315.09 1558.2 1314.77 1558.2 Q1314.25 1558.2 1314.16 1557.84 Q1314.06 1557.52 1314.06 1556.59 Z\" fill=\"#000000\" fill-rule=\"evenodd\" fill-opacity=\"1\" /><path clip-path=\"url(#clip930)\" d=\"M 0 0 M1339.79 1557.46 L1339.79 1555.43 Q1343.3 1555.43 1344.11 1555.01 Q1344.91 1554.56 1344.91 1552.43 L1344.91 1534.69 Q1344.91 1532.24 1344.07 1531.66 Q1343.27 1531.08 1340.05 1531.08 L1340.05 1529.02 L1349.26 1528.31 L1349.26 1552.5 Q1349.26 1554.46 1349.97 1554.94 Q1350.68 1555.43 1353.9 1555.43 L1353.9 1557.46 Q1347.16 1557.26 1347.04 1557.26 Q1346.13 1557.26 1339.79 1557.46 M1342.56 1516.81 Q1342.56 1515.49 1343.56 1514.43 Q1344.59 1513.33 1346.04 1513.33 Q1347.49 1513.33 1348.52 1514.33 Q1349.55 1515.3 1349.55 1516.84 Q1349.55 1518.36 1348.52 1519.36 Q1347.49 1520.32 1346.04 1520.32 Q1344.52 1520.32 1343.53 1519.26 Q1342.56 1518.2 1342.56 1516.81 Z\" fill=\"#000000\" fill-rule=\"evenodd\" fill-opacity=\"1\" /><path clip-path=\"url(#clip930)\" d=\"M 0 0 M1362.24 1553.91 Q1357.89 1549.6 1357.89 1543.35 Q1357.89 1537.07 1362.14 1532.5 Q1366.42 1527.89 1372.54 1527.89 Q1378.53 1527.89 1382.82 1532.46 Q1387.13 1537.01 1387.13 1543.35 Q1387.13 1549.57 1382.78 1553.88 Q1378.47 1558.2 1372.48 1558.2 Q1366.62 1558.2 1362.24 1553.91 M1363.36 1542.8 Q1363.36 1549.21 1365.04 1552.11 Q1367.62 1556.52 1372.54 1556.52 Q1374.99 1556.52 1377.02 1555.2 Q1379.08 1553.88 1380.21 1551.66 Q1381.66 1548.76 1381.66 1542.8 Q1381.66 1536.46 1379.92 1533.66 Q1377.34 1529.37 1372.48 1529.37 Q1370.35 1529.37 1368.26 1530.5 Q1366.2 1531.6 1364.94 1533.79 Q1363.36 1536.68 1363.36 1542.8 Z\" fill=\"#000000\" fill-rule=\"evenodd\" fill-opacity=\"1\" /><path clip-path=\"url(#clip930)\" d=\"M 0 0 M1390.58 1557.46 L1390.58 1555.43 Q1394.09 1555.43 1394.89 1555.01 Q1395.7 1554.56 1395.7 1552.43 L1395.7 1534.75 Q1395.7 1532.3 1394.83 1531.69 Q1393.99 1531.08 1390.58 1531.08 L1390.58 1529.02 L1399.85 1528.31 L1399.85 1535.23 Q1402.94 1528.31 1409.61 1528.31 Q1414.57 1528.31 1416.53 1530.76 Q1417.98 1532.4 1418.27 1534.24 Q1418.6 1536.07 1418.6 1540.84 L1418.6 1553.43 Q1418.66 1554.82 1419.72 1555.14 Q1420.79 1555.43 1423.75 1555.43 L1423.75 1557.46 Q1417.02 1557.26 1416.34 1557.26 Q1415.83 1557.26 1408.9 1557.46 L1408.9 1555.43 Q1412.41 1555.43 1413.22 1555.01 Q1414.05 1554.56 1414.05 1552.43 L1414.05 1537.07 Q1414.05 1533.72 1413.02 1531.76 Q1411.99 1529.76 1409.16 1529.76 Q1405.75 1529.76 1403.01 1532.63 Q1400.27 1535.49 1400.27 1540.32 L1400.27 1552.43 Q1400.27 1554.56 1401.08 1555.01 Q1401.91 1555.43 1405.39 1555.43 L1405.39 1557.46 Q1398.66 1557.26 1398.02 1557.26 Q1397.5 1557.26 1390.58 1557.46 Z\" fill=\"#000000\" fill-rule=\"evenodd\" fill-opacity=\"1\" /><path clip-path=\"url(#clip930)\" d=\"M 0 0 M1470.32 1540.97 Q1470.32 1529.82 1474.47 1520.84 Q1476.24 1517.07 1478.72 1513.91 Q1481.2 1510.76 1482.84 1509.37 Q1484.49 1507.99 1484.94 1507.99 Q1485.58 1507.99 1485.61 1508.63 Q1485.61 1508.95 1484.74 1509.76 Q1474.12 1520.58 1474.15 1540.97 Q1474.15 1561.42 1484.49 1571.82 Q1485.61 1572.95 1485.61 1573.3 Q1485.61 1573.95 1484.94 1573.95 Q1484.49 1573.95 1482.91 1572.63 Q1481.33 1571.31 1478.88 1568.28 Q1476.44 1565.25 1474.66 1561.55 Q1470.32 1552.56 1470.32 1540.97 Z\" fill=\"#000000\" fill-rule=\"evenodd\" fill-opacity=\"1\" /><path clip-path=\"url(#clip930)\" d=\"M 0 0 M1530.54 1530.6 Q1530.54 1532.85 1527.32 1532.85 L1520.07 1532.85 Q1522.1 1535.75 1522.1 1540.03 Q1522.1 1543.7 1520.59 1547.15 Q1519.11 1550.56 1516.72 1552.95 Q1514.37 1555.33 1511.41 1556.78 Q1508.45 1558.2 1505.55 1558.2 Q1501.14 1558.2 1498.4 1555.2 Q1495.66 1552.21 1495.66 1547.76 Q1495.66 1545.41 1496.47 1542.8 Q1497.3 1540.19 1498.88 1537.78 Q1500.46 1535.33 1502.52 1533.37 Q1504.61 1531.4 1507.32 1530.21 Q1510.06 1529.02 1512.92 1529.02 L1527.96 1529.02 Q1528.77 1529.02 1529.19 1529.08 Q1529.64 1529.12 1530.09 1529.5 Q1530.54 1529.86 1530.54 1530.6 M1517.88 1539.26 Q1517.88 1538.49 1517.79 1537.81 Q1517.69 1537.1 1517.34 1536.17 Q1516.98 1535.2 1516.37 1534.53 Q1515.76 1533.82 1514.57 1533.33 Q1513.41 1532.85 1511.83 1532.85 Q1509.61 1532.85 1507.16 1534.08 Q1504.71 1535.3 1502.84 1538.33 Q1501.3 1540.9 1500.52 1544.25 Q1499.75 1547.6 1499.75 1549.6 Q1499.75 1553.01 1501.39 1554.88 Q1503.07 1556.72 1505.61 1556.72 Q1507.71 1556.72 1510.09 1555.3 Q1512.47 1553.85 1514.31 1551.11 Q1515.92 1548.73 1516.89 1545.25 Q1517.88 1541.77 1517.88 1539.26 Z\" fill=\"#000000\" fill-rule=\"evenodd\" fill-opacity=\"1\" /><path clip-path=\"url(#clip930)\" d=\"M 0 0 M1532.98 1573.3 Q1532.98 1572.98 1533.82 1572.17 Q1544.44 1561.35 1544.44 1540.97 Q1544.44 1520.52 1534.23 1510.18 Q1532.98 1508.99 1532.98 1508.63 Q1532.98 1507.99 1533.62 1507.99 Q1534.07 1507.99 1535.65 1509.31 Q1537.26 1510.63 1539.68 1513.66 Q1542.12 1516.68 1543.93 1520.39 Q1548.28 1529.37 1548.28 1540.97 Q1548.28 1552.11 1544.12 1561.1 Q1542.35 1564.86 1539.87 1568.02 Q1537.39 1571.18 1535.75 1572.56 Q1534.1 1573.95 1533.62 1573.95 Q1532.98 1573.95 1532.98 1573.3 Z\" fill=\"#000000\" fill-rule=\"evenodd\" fill-opacity=\"1\" /><polyline clip-path=\"url(#clip932)\" style=\"stroke:#000000; stroke-width:2; stroke-opacity:0.1; fill:none\" points=\"\n",
       "  238.735,1185.02 2352.76,1185.02 \n",
       "  \"/>\n",
       "<polyline clip-path=\"url(#clip932)\" style=\"stroke:#000000; stroke-width:2; stroke-opacity:0.1; fill:none\" points=\"\n",
       "  238.735,838.105 2352.76,838.105 \n",
       "  \"/>\n",
       "<polyline clip-path=\"url(#clip932)\" style=\"stroke:#000000; stroke-width:2; stroke-opacity:0.1; fill:none\" points=\"\n",
       "  238.735,491.194 2352.76,491.194 \n",
       "  \"/>\n",
       "<polyline clip-path=\"url(#clip932)\" style=\"stroke:#000000; stroke-width:2; stroke-opacity:0.1; fill:none\" points=\"\n",
       "  238.735,144.284 2352.76,144.284 \n",
       "  \"/>\n",
       "<polyline clip-path=\"url(#clip930)\" style=\"stroke:#000000; stroke-width:4; stroke-opacity:1; fill:none\" points=\"\n",
       "  238.735,1427.37 238.735,47.2441 \n",
       "  \"/>\n",
       "<polyline clip-path=\"url(#clip930)\" style=\"stroke:#000000; stroke-width:4; stroke-opacity:1; fill:none\" points=\"\n",
       "  238.735,1185.02 264.103,1185.02 \n",
       "  \"/>\n",
       "<polyline clip-path=\"url(#clip930)\" style=\"stroke:#000000; stroke-width:4; stroke-opacity:1; fill:none\" points=\"\n",
       "  238.735,838.105 264.103,838.105 \n",
       "  \"/>\n",
       "<polyline clip-path=\"url(#clip930)\" style=\"stroke:#000000; stroke-width:4; stroke-opacity:1; fill:none\" points=\"\n",
       "  238.735,491.194 264.103,491.194 \n",
       "  \"/>\n",
       "<polyline clip-path=\"url(#clip930)\" style=\"stroke:#000000; stroke-width:4; stroke-opacity:1; fill:none\" points=\"\n",
       "  238.735,144.284 264.103,144.284 \n",
       "  \"/>\n",
       "<path clip-path=\"url(#clip930)\" d=\"M 0 0 M110.073 1185.47 L139.749 1185.47 L139.749 1189.4 L110.073 1189.4 L110.073 1185.47 Z\" fill=\"#000000\" fill-rule=\"evenodd\" fill-opacity=\"1\" /><path clip-path=\"url(#clip930)\" d=\"M 0 0 M154.819 1170.81 Q151.208 1170.81 149.379 1174.38 Q147.573 1177.92 147.573 1185.05 Q147.573 1192.16 149.379 1195.72 Q151.208 1199.26 154.819 1199.26 Q158.453 1199.26 160.258 1195.72 Q162.087 1192.16 162.087 1185.05 Q162.087 1177.92 160.258 1174.38 Q158.453 1170.81 154.819 1170.81 M154.819 1167.11 Q160.629 1167.11 163.684 1171.72 Q166.763 1176.3 166.763 1185.05 Q166.763 1193.78 163.684 1198.38 Q160.629 1202.97 154.819 1202.97 Q149.008 1202.97 145.93 1198.38 Q142.874 1193.78 142.874 1185.05 Q142.874 1176.3 145.93 1171.72 Q149.008 1167.11 154.819 1167.11 Z\" fill=\"#000000\" fill-rule=\"evenodd\" fill-opacity=\"1\" /><path clip-path=\"url(#clip930)\" d=\"M 0 0 M171.832 1196.42 L176.717 1196.42 L176.717 1202.3 L171.832 1202.3 L171.832 1196.42 Z\" fill=\"#000000\" fill-rule=\"evenodd\" fill-opacity=\"1\" /><path clip-path=\"url(#clip930)\" d=\"M 0 0 M181.832 1167.74 L200.189 1167.74 L200.189 1171.67 L186.115 1171.67 L186.115 1180.14 Q187.133 1179.8 188.152 1179.63 Q189.17 1179.45 190.189 1179.45 Q195.976 1179.45 199.355 1182.62 Q202.735 1185.79 202.735 1191.21 Q202.735 1196.79 199.263 1199.89 Q195.791 1202.97 189.471 1202.97 Q187.295 1202.97 185.027 1202.6 Q182.781 1202.23 180.374 1201.49 L180.374 1196.79 Q182.457 1197.92 184.68 1198.48 Q186.902 1199.03 189.379 1199.03 Q193.383 1199.03 195.721 1196.93 Q198.059 1194.82 198.059 1191.21 Q198.059 1187.6 195.721 1185.49 Q193.383 1183.38 189.379 1183.38 Q187.504 1183.38 185.629 1183.8 Q183.777 1184.22 181.832 1185.1 L181.832 1167.74 Z\" fill=\"#000000\" fill-rule=\"evenodd\" fill-opacity=\"1\" /><path clip-path=\"url(#clip930)\" d=\"M 0 0 M153.823 823.904 Q150.212 823.904 148.383 827.468 Q146.578 831.01 146.578 838.14 Q146.578 845.246 148.383 848.811 Q150.212 852.353 153.823 852.353 Q157.457 852.353 159.263 848.811 Q161.092 845.246 161.092 838.14 Q161.092 831.01 159.263 827.468 Q157.457 823.904 153.823 823.904 M153.823 820.2 Q159.633 820.2 162.689 824.806 Q165.768 829.39 165.768 838.14 Q165.768 846.867 162.689 851.473 Q159.633 856.056 153.823 856.056 Q148.013 856.056 144.934 851.473 Q141.879 846.867 141.879 838.14 Q141.879 829.39 144.934 824.806 Q148.013 820.2 153.823 820.2 Z\" fill=\"#000000\" fill-rule=\"evenodd\" fill-opacity=\"1\" /><path clip-path=\"url(#clip930)\" d=\"M 0 0 M170.837 849.505 L175.721 849.505 L175.721 855.385 L170.837 855.385 L170.837 849.505 Z\" fill=\"#000000\" fill-rule=\"evenodd\" fill-opacity=\"1\" /><path clip-path=\"url(#clip930)\" d=\"M 0 0 M190.791 823.904 Q187.18 823.904 185.351 827.468 Q183.545 831.01 183.545 838.14 Q183.545 845.246 185.351 848.811 Q187.18 852.353 190.791 852.353 Q194.425 852.353 196.23 848.811 Q198.059 845.246 198.059 838.14 Q198.059 831.01 196.23 827.468 Q194.425 823.904 190.791 823.904 M190.791 820.2 Q196.601 820.2 199.656 824.806 Q202.735 829.39 202.735 838.14 Q202.735 846.867 199.656 851.473 Q196.601 856.056 190.791 856.056 Q184.98 856.056 181.902 851.473 Q178.846 846.867 178.846 838.14 Q178.846 829.39 181.902 824.806 Q184.98 820.2 190.791 820.2 Z\" fill=\"#000000\" fill-rule=\"evenodd\" fill-opacity=\"1\" /><path clip-path=\"url(#clip930)\" d=\"M 0 0 M154.819 476.993 Q151.208 476.993 149.379 480.558 Q147.573 484.099 147.573 491.229 Q147.573 498.335 149.379 501.9 Q151.208 505.442 154.819 505.442 Q158.453 505.442 160.258 501.9 Q162.087 498.335 162.087 491.229 Q162.087 484.099 160.258 480.558 Q158.453 476.993 154.819 476.993 M154.819 473.289 Q160.629 473.289 163.684 477.896 Q166.763 482.479 166.763 491.229 Q166.763 499.956 163.684 504.562 Q160.629 509.146 154.819 509.146 Q149.008 509.146 145.93 504.562 Q142.874 499.956 142.874 491.229 Q142.874 482.479 145.93 477.896 Q149.008 473.289 154.819 473.289 Z\" fill=\"#000000\" fill-rule=\"evenodd\" fill-opacity=\"1\" /><path clip-path=\"url(#clip930)\" d=\"M 0 0 M171.832 502.595 L176.717 502.595 L176.717 508.474 L171.832 508.474 L171.832 502.595 Z\" fill=\"#000000\" fill-rule=\"evenodd\" fill-opacity=\"1\" /><path clip-path=\"url(#clip930)\" d=\"M 0 0 M181.832 473.914 L200.189 473.914 L200.189 477.849 L186.115 477.849 L186.115 486.322 Q187.133 485.974 188.152 485.812 Q189.17 485.627 190.189 485.627 Q195.976 485.627 199.355 488.798 Q202.735 491.97 202.735 497.386 Q202.735 502.965 199.263 506.067 Q195.791 509.146 189.471 509.146 Q187.295 509.146 185.027 508.775 Q182.781 508.405 180.374 507.664 L180.374 502.965 Q182.457 504.099 184.68 504.655 Q186.902 505.21 189.379 505.21 Q193.383 505.21 195.721 503.104 Q198.059 500.998 198.059 497.386 Q198.059 493.775 195.721 491.669 Q193.383 489.562 189.379 489.562 Q187.504 489.562 185.629 489.979 Q183.777 490.396 181.832 491.275 L181.832 473.914 Z\" fill=\"#000000\" fill-rule=\"evenodd\" fill-opacity=\"1\" /><path clip-path=\"url(#clip930)\" d=\"M 0 0 M145.86 157.628 L153.499 157.628 L153.499 131.263 L145.189 132.93 L145.189 128.67 L153.453 127.004 L158.129 127.004 L158.129 157.628 L165.768 157.628 L165.768 161.564 L145.86 161.564 L145.86 157.628 Z\" fill=\"#000000\" fill-rule=\"evenodd\" fill-opacity=\"1\" /><path clip-path=\"url(#clip930)\" d=\"M 0 0 M170.837 155.684 L175.721 155.684 L175.721 161.564 L170.837 161.564 L170.837 155.684 Z\" fill=\"#000000\" fill-rule=\"evenodd\" fill-opacity=\"1\" /><path clip-path=\"url(#clip930)\" d=\"M 0 0 M190.791 130.082 Q187.18 130.082 185.351 133.647 Q183.545 137.189 183.545 144.318 Q183.545 151.425 185.351 154.99 Q187.18 158.531 190.791 158.531 Q194.425 158.531 196.23 154.99 Q198.059 151.425 198.059 144.318 Q198.059 137.189 196.23 133.647 Q194.425 130.082 190.791 130.082 M190.791 126.379 Q196.601 126.379 199.656 130.985 Q202.735 135.568 202.735 144.318 Q202.735 153.045 199.656 157.652 Q196.601 162.235 190.791 162.235 Q184.98 162.235 181.902 157.652 Q178.846 153.045 178.846 144.318 Q178.846 135.568 181.902 130.985 Q184.98 126.379 190.791 126.379 Z\" fill=\"#000000\" fill-rule=\"evenodd\" fill-opacity=\"1\" /><path clip-path=\"url(#clip930)\" d=\"M 0 0 M64.3235 1069.79 L62.2945 1069.79 Q62.1657 1063.93 57.8501 1062.41 L18.4301 1048.76 Q17.625 1048.5 17.3673 1048.21 Q17.1097 1047.92 17.1097 1047.18 Q17.1097 1046.79 17.1741 1046.57 Q17.2385 1046.31 17.464 1046.15 Q17.6894 1045.99 17.8182 1045.92 Q17.9471 1045.86 18.4301 1045.67 L59.6536 1031.43 Q61.2961 1030.92 61.8114 1029.85 Q62.2945 1028.79 62.2945 1025.79 L62.2945 1024.64 L64.3235 1024.64 Q64.1303 1028.79 64.1303 1033.27 Q64.1303 1040.38 64.3235 1042.77 L62.2945 1042.77 Q62.2945 1037.29 60.2978 1037.29 Q60.1689 1037.29 59.3638 1037.49 L49.2834 1040.96 L49.2834 1057.26 L57.9145 1060.32 Q58.1722 1060.45 58.9129 1060.45 Q60.2978 1060.45 61.2961 1059.16 Q62.2945 1057.87 62.2945 1055.49 L64.3235 1055.49 Q64.1303 1061.83 64.1303 1063.09 Q64.1303 1065.25 64.3235 1069.79 M47.2544 1056.55 L47.2544 1041.7 L25.8053 1049.14 L47.2544 1056.55 Z\" fill=\"#000000\" fill-rule=\"evenodd\" fill-opacity=\"1\" /><path clip-path=\"url(#clip930)\" d=\"M 0 0 M63.4539 1020.76 L54.7583 1020.76 Q54.0176 1020.76 53.76 1020.72 Q53.5023 1020.69 53.3091 1020.5 Q53.1159 1020.31 53.1159 1019.92 Q53.1159 1019.47 53.3091 1019.31 Q53.5023 1019.11 54.2431 1018.99 Q58.7841 1017.99 61.1995 1015.86 Q63.5828 1013.7 63.5828 1009.81 Q63.5828 1006.1 61.9403 1004.23 Q60.2978 1002.37 57.5925 1002.37 Q52.7616 1002.37 51.5378 1009.23 Q50.7326 1013.19 50.2173 1014.83 Q49.6698 1016.47 48.4782 1017.92 Q46.1594 1020.76 42.8744 1020.76 Q39.5894 1020.76 37.1739 1018.28 Q34.7585 1015.76 34.7585 1010.23 Q34.7585 1006.52 36.6265 1004.01 Q36.0467 1003.27 35.5637 1002.88 Q34.7585 1002.01 34.7585 1001.56 Q34.7585 1001.05 35.1128 1000.95 Q35.4348 1000.85 36.3688 1000.85 L43.0032 1000.85 Q43.7439 1000.85 44.0016 1000.89 Q44.2592 1000.92 44.4525 1001.11 Q44.6135 1001.3 44.6135 1001.72 Q44.6135 1002.46 44.0016 1002.5 Q36.0145 1003.01 36.0145 1010.23 Q36.0145 1014.12 37.5282 1015.86 Q39.0097 1017.6 41.0387 1017.6 Q42.1659 1017.6 43.0354 1017.09 Q43.8728 1016.54 44.3881 1015.86 Q44.8712 1015.15 45.3542 1013.86 Q45.8051 1012.58 45.9661 1011.8 Q46.1272 1011 46.4492 1009.48 Q47.4476 1004.2 49.6054 1001.98 Q52.3751 999.211 55.8856 999.211 Q59.7825 999.211 62.4233 1001.85 Q65.0642 1004.49 65.0642 1009.81 Q65.0642 1014.09 62.1979 1017.09 Q62.5844 1017.47 62.9386 1017.76 Q63.2607 1018.05 63.3895 1018.18 Q63.5183 1018.28 63.615 1018.31 Q63.6794 1018.34 63.7438 1018.41 Q65.0642 1019.73 65.0642 1020.05 Q65.0642 1020.56 64.71 1020.66 Q64.3879 1020.76 63.4539 1020.76 Z\" fill=\"#000000\" fill-rule=\"evenodd\" fill-opacity=\"1\" /><path clip-path=\"url(#clip930)\" d=\"M 0 0 M63.4539 995.028 L54.7583 995.028 Q54.0176 995.028 53.76 994.996 Q53.5023 994.964 53.3091 994.77 Q53.1159 994.577 53.1159 994.191 Q53.1159 993.74 53.3091 993.579 Q53.5023 993.385 54.2431 993.257 Q58.7841 992.258 61.1995 990.133 Q63.5828 987.975 63.5828 984.078 Q63.5828 980.374 61.9403 978.506 Q60.2978 976.638 57.5925 976.638 Q52.7616 976.638 51.5378 983.498 Q50.7326 987.46 50.2173 989.102 Q49.6698 990.745 48.4782 992.194 Q46.1594 995.028 42.8744 995.028 Q39.5894 995.028 37.1739 992.548 Q34.7585 990.036 34.7585 984.497 Q34.7585 980.793 36.6265 978.281 Q36.0467 977.54 35.5637 977.154 Q34.7585 976.284 34.7585 975.833 Q34.7585 975.318 35.1128 975.221 Q35.4348 975.125 36.3688 975.125 L43.0032 975.125 Q43.7439 975.125 44.0016 975.157 Q44.2592 975.189 44.4525 975.382 Q44.6135 975.576 44.6135 975.994 Q44.6135 976.735 44.0016 976.767 Q36.0145 977.283 36.0145 984.497 Q36.0145 988.394 37.5282 990.133 Q39.0097 991.872 41.0387 991.872 Q42.1659 991.872 43.0354 991.356 Q43.8728 990.809 44.3881 990.133 Q44.8712 989.424 45.3542 988.136 Q45.8051 986.848 45.9661 986.075 Q46.1272 985.27 46.4492 983.756 Q47.4476 978.474 49.6054 976.252 Q52.3751 973.482 55.8856 973.482 Q59.7825 973.482 62.4233 976.123 Q65.0642 978.764 65.0642 984.078 Q65.0642 988.361 62.1979 991.356 Q62.5844 991.743 62.9386 992.033 Q63.2607 992.323 63.3895 992.451 Q63.5183 992.548 63.615 992.58 Q63.6794 992.613 63.7438 992.677 Q65.0642 993.997 65.0642 994.319 Q65.0642 994.835 64.71 994.931 Q64.3879 995.028 63.4539 995.028 Z\" fill=\"#000000\" fill-rule=\"evenodd\" fill-opacity=\"1\" /><path clip-path=\"url(#clip930)\" d=\"M 0 0 M49.7986 969.299 Q43.5829 969.299 39.1707 965.306 Q34.7585 961.312 34.7585 955.58 Q34.7585 949.783 38.5266 946.787 Q42.2947 943.76 47.7053 943.76 Q48.7036 943.76 48.8969 944.018 Q49.0901 944.275 49.0901 945.403 L49.0901 963.824 Q55.8211 963.824 58.9773 961.828 Q63.3895 959.058 63.3895 954.388 Q63.3895 953.744 63.2607 952.971 Q63.1319 952.198 62.5844 950.62 Q62.0047 949.042 60.491 947.657 Q58.9773 946.272 56.5941 945.467 Q55.6601 945.274 55.6923 944.63 Q55.6923 943.76 56.4653 943.76 Q57.045 943.76 58.3654 944.404 Q59.6536 945.016 61.1995 946.208 Q62.7454 947.399 63.9048 949.718 Q65.0642 952.005 65.0642 954.774 Q65.0642 960.572 60.6842 964.952 Q56.272 969.299 49.7986 969.299 M47.7053 963.76 L47.7053 948.108 Q46.3204 948.108 44.7745 948.366 Q43.2287 948.591 41.1031 949.299 Q38.9453 949.976 37.5926 951.586 Q36.24 953.196 36.24 955.58 Q36.24 956.642 36.6909 957.802 Q37.1417 958.929 38.2367 960.314 Q39.3317 961.699 41.8116 962.665 Q44.2914 963.631 47.7053 963.76 Z\" fill=\"#000000\" fill-rule=\"evenodd\" fill-opacity=\"1\" /><path clip-path=\"url(#clip930)\" d=\"M 0 0 M37.9469 941.908 L36.4976 941.908 Q36.3688 938.88 34.2432 936.884 Q32.0854 934.855 29.4445 934.178 Q26.8037 933.47 23.7441 933.405 L23.7441 931.763 L35.8857 931.763 L35.8857 922.327 L37.9469 922.327 L37.9469 931.763 L56.272 931.763 Q63.3895 931.763 63.3895 927.319 Q63.3895 925.418 61.4572 924.162 Q59.4926 922.906 56.0144 922.906 L52.3751 922.906 L52.3751 921.264 L56.1432 921.264 Q59.7181 921.264 62.3911 922.906 Q65.0642 924.549 65.0642 927.802 Q65.0642 928.993 64.7422 930.185 Q64.4523 931.344 63.6794 932.89 Q62.8742 934.404 60.9419 935.37 Q58.9773 936.304 56.1432 936.304 L37.9469 936.304 L37.9469 941.908 Z\" fill=\"#000000\" fill-rule=\"evenodd\" fill-opacity=\"1\" /><path clip-path=\"url(#clip930)\" d=\"M 0 0 M64.3235 894.824 L62.2945 894.824 L62.2945 893.246 Q62.2945 889.671 61.7148 888.866 Q61.1029 888.028 59.1706 888.028 L24.4204 888.028 Q22.5203 888.028 21.9406 888.866 Q21.3287 889.703 21.3287 893.246 L21.3287 894.824 L19.2675 894.824 L19.2675 870.702 Q19.2675 862.264 25.9985 856.402 Q32.7295 850.508 42.1659 850.508 Q51.4089 850.508 57.8823 856.434 Q64.3235 862.328 64.3235 870.702 L64.3235 894.824 M59.6536 882.36 Q61.3606 882.36 61.8436 881.877 Q62.2945 881.394 62.2945 879.139 L62.2945 872.473 Q62.2945 868.125 60.5232 865.194 Q58.7197 862.264 56.6585 860.75 Q51.6988 857.111 42.1659 857.111 Q32.1498 857.111 27.4478 860.524 Q21.3287 864.937 21.3287 872.537 L21.3287 879.139 Q21.3287 881.394 21.7795 881.877 Q22.2304 882.36 23.9695 882.36 L59.6536 882.36 Z\" fill=\"#000000\" fill-rule=\"evenodd\" fill-opacity=\"1\" /><path clip-path=\"url(#clip930)\" d=\"M 0 0 M49.7986 844.963 Q43.5829 844.963 39.1707 840.969 Q34.7585 836.975 34.7585 831.243 Q34.7585 825.446 38.5266 822.451 Q42.2947 819.423 47.7053 819.423 Q48.7036 819.423 48.8969 819.681 Q49.0901 819.939 49.0901 821.066 L49.0901 839.488 Q55.8211 839.488 58.9773 837.491 Q63.3895 834.721 63.3895 830.051 Q63.3895 829.407 63.2607 828.634 Q63.1319 827.861 62.5844 826.283 Q62.0047 824.705 60.491 823.32 Q58.9773 821.935 56.5941 821.13 Q55.6601 820.937 55.6923 820.293 Q55.6923 819.423 56.4653 819.423 Q57.045 819.423 58.3654 820.067 Q59.6536 820.679 61.1995 821.871 Q62.7454 823.063 63.9048 825.381 Q65.0642 827.668 65.0642 830.438 Q65.0642 836.235 60.6842 840.615 Q56.272 844.963 49.7986 844.963 M47.7053 839.423 L47.7053 823.771 Q46.3204 823.771 44.7745 824.029 Q43.2287 824.254 41.1031 824.963 Q38.9453 825.639 37.5926 827.249 Q36.24 828.86 36.24 831.243 Q36.24 832.306 36.6909 833.465 Q37.1417 834.592 38.2367 835.977 Q39.3317 837.362 41.8116 838.328 Q44.2914 839.294 47.7053 839.423 Z\" fill=\"#000000\" fill-rule=\"evenodd\" fill-opacity=\"1\" /><path clip-path=\"url(#clip930)\" d=\"M 0 0 M64.3235 815.946 L62.2945 815.946 Q62.2945 812.436 61.8758 811.63 Q61.425 810.825 59.2994 810.825 L41.6184 810.825 Q39.1707 810.825 38.5588 811.695 Q37.9469 812.532 37.9469 815.946 L35.8857 815.946 L35.1772 806.671 L42.1014 806.671 Q35.1772 803.579 35.1772 796.912 Q35.1772 789.183 41.6184 788.12 Q39.1063 786.993 37.1417 784.642 Q35.1772 782.259 35.1772 778.555 Q35.1772 773.595 37.6248 771.631 Q39.2673 770.181 41.1031 769.892 Q42.9388 769.602 47.7053 769.602 L60.2978 769.602 Q61.6826 769.537 62.0047 768.475 Q62.2945 767.412 62.2945 764.449 L64.3235 764.449 Q64.1303 771.18 64.1303 771.824 Q64.1303 772.339 64.3235 779.296 L62.2945 779.296 Q62.2945 775.785 61.8758 774.98 Q61.425 774.143 59.2994 774.143 L43.9372 774.143 Q40.5878 774.143 38.6232 775.173 Q36.6265 776.204 36.6265 779.038 Q36.6265 782.452 39.4928 785.189 Q42.3591 787.927 47.19 787.927 L59.2994 787.927 Q61.425 787.927 61.8758 787.122 Q62.2945 786.284 62.2945 782.774 L64.3235 782.774 Q64.1303 789.505 64.1303 790.181 Q64.1303 790.697 64.3235 797.621 L62.2945 797.621 Q62.2945 794.11 61.8758 793.305 Q61.425 792.468 59.2994 792.468 L43.9372 792.468 Q40.5878 792.468 38.6232 793.498 Q36.6265 794.529 36.6265 797.363 Q36.6265 800.777 39.4928 803.515 Q42.3591 806.252 47.19 806.252 L59.2994 806.252 Q61.425 806.252 61.8758 805.447 Q62.2945 804.61 62.2945 801.131 L64.3235 801.131 Q64.1303 807.862 64.1303 808.506 Q64.1303 809.022 64.3235 815.946 Z\" fill=\"#000000\" fill-rule=\"evenodd\" fill-opacity=\"1\" /><path clip-path=\"url(#clip930)\" d=\"M 0 0 M58.0433 761.52 Q52.4395 761.52 49.4766 754.918 Q47.5764 750.956 47.0934 742.776 L44.6779 742.776 Q40.5878 742.776 38.43 744.934 Q36.24 747.06 36.24 749.765 Q36.24 754.596 39.2673 756.915 Q39.3317 754.95 40.3301 754.241 Q41.2963 753.533 42.2947 753.533 Q43.6151 753.533 44.4847 754.37 Q45.322 755.175 45.322 756.56 Q45.322 757.881 44.5169 758.75 Q43.6795 759.62 42.2303 759.62 Q39.0097 759.62 36.8841 756.721 Q34.7585 753.791 34.7585 749.636 Q34.7585 744.225 38.3978 740.618 Q39.525 739.491 40.9742 738.944 Q42.4235 738.364 43.3897 738.3 Q44.3237 738.235 46.1916 738.235 L59.3638 738.235 Q59.7503 738.235 60.3944 738.106 Q61.0385 737.978 61.8758 737.398 Q62.681 736.786 62.681 735.788 Q62.681 733.404 58.462 733.437 L54.7583 733.437 L54.7583 731.762 L58.462 731.762 Q61.9725 731.762 63.3573 733.63 Q64.71 735.465 64.71 737.172 Q64.71 739.362 63.0997 740.747 Q61.4894 742.132 59.2994 742.325 Q61.8114 743.324 63.4539 745.61 Q65.0642 747.865 65.0642 750.956 Q65.0642 753.34 64.4523 755.594 Q63.8726 757.816 62.2301 759.684 Q60.5554 761.52 58.0433 761.52 M57.9789 756.431 Q60.4266 756.431 62.0047 754.692 Q63.5828 752.953 63.5828 750.506 Q63.5828 747.736 61.4572 745.256 Q59.2994 742.776 55.0804 742.776 L48.4782 742.776 Q48.7359 750.087 51.6666 753.275 Q54.5651 756.431 57.9789 756.431 Z\" fill=\"#000000\" fill-rule=\"evenodd\" fill-opacity=\"1\" /><path clip-path=\"url(#clip930)\" d=\"M 0 0 M64.3235 728.833 L62.2945 728.833 Q62.2945 725.322 61.8758 724.517 Q61.425 723.712 59.2994 723.712 L41.6184 723.712 Q39.1707 723.712 38.5588 724.581 Q37.9469 725.419 37.9469 728.833 L35.8857 728.833 L35.1772 719.557 L42.1014 719.557 Q35.1772 716.465 35.1772 709.799 Q35.1772 704.839 37.6248 702.875 Q39.2673 701.425 41.1031 701.135 Q42.9388 700.813 47.7053 700.813 L60.2978 700.813 Q61.6826 700.749 62.0047 699.686 Q62.2945 698.623 62.2945 695.66 L64.3235 695.66 Q64.1303 702.392 64.1303 703.068 Q64.1303 703.583 64.3235 710.507 L62.2945 710.507 Q62.2945 706.997 61.8758 706.192 Q61.425 705.354 59.2994 705.354 L43.9372 705.354 Q40.5878 705.354 38.6232 706.385 Q36.6265 707.416 36.6265 710.25 Q36.6265 713.664 39.4928 716.401 Q42.3591 719.139 47.19 719.139 L59.2994 719.139 Q61.425 719.139 61.8758 718.333 Q62.2945 717.496 62.2945 714.018 L64.3235 714.018 Q64.1303 720.749 64.1303 721.393 Q64.1303 721.908 64.3235 728.833 Z\" fill=\"#000000\" fill-rule=\"evenodd\" fill-opacity=\"1\" /><path clip-path=\"url(#clip930)\" d=\"M 0 0 M50.1529 692.57 Q43.8728 692.57 39.525 688.19 Q35.1772 683.81 35.1772 677.884 Q35.1772 672.86 39.2673 669.575 L25.0001 669.575 Q22.5525 669.575 21.9406 670.444 Q21.3287 671.282 21.3287 674.696 L19.2675 674.696 L18.559 665.195 L58.5908 665.195 Q61.0385 665.195 61.6826 664.357 Q62.2945 663.488 62.2945 660.074 L64.3235 660.074 L65.0642 669.768 L60.6842 669.768 Q65.032 673.182 65.0642 678.592 Q65.0642 684.261 60.7164 688.415 Q56.3686 692.57 50.1529 692.57 M50.2173 687.095 Q56.3364 687.095 59.3638 685.195 Q63.5828 682.554 63.5828 678.27 Q63.5828 673.375 58.9773 670.477 Q57.8501 669.736 56.5297 669.768 L43.0032 669.768 Q41.6828 669.768 40.5878 670.477 Q36.6265 673.182 36.6265 677.594 Q36.6265 682.2 40.8454 685.066 Q44.0016 687.095 50.2173 687.095 Z\" fill=\"#000000\" fill-rule=\"evenodd\" fill-opacity=\"1\" /><path clip-path=\"url(#clip930)\" d=\"M 0 0 M21.2643 565.004 L32.6651 566.325 Q33.6957 566.422 34.0178 566.583 Q34.3076 566.744 34.3076 567.259 Q34.3076 567.645 34.0822 567.871 Q33.8245 568.064 33.5347 568.064 Q33.3737 568.064 32.955 568.032 Q32.5363 568 32.3431 568 Q30.3463 567.71 28.8326 567.71 Q26.0307 567.71 24.517 568.547 Q22.9712 569.384 22.2626 571.542 Q21.5219 573.7 21.5219 577.758 L21.5219 587.033 Q21.5219 589.159 21.9084 589.674 Q22.2948 590.157 24.0984 590.608 L39.9759 594.569 L39.9759 588.354 Q39.9759 586.035 39.686 584.65 Q39.3962 583.233 38.591 582.299 Q37.7537 581.333 36.6265 580.818 Q35.4992 580.27 33.4703 579.723 Q32.794 579.562 32.5363 579.401 Q32.2787 579.207 32.2787 578.789 Q32.2787 578.467 32.5041 578.241 Q32.6973 578.016 32.9872 578.016 L48.4138 581.784 Q49.1867 581.977 49.4766 582.17 Q49.7342 582.363 49.7342 582.75 Q49.7342 583.169 49.5088 583.394 Q49.2834 583.619 49.0257 583.619 Q48.7681 583.619 48.285 583.426 Q46.1916 582.943 45.0644 582.943 Q44.4203 582.943 44.0982 583.008 Q43.7762 583.04 43.3253 583.33 Q42.8422 583.587 42.6167 584.167 Q42.3913 584.747 42.2303 585.842 Q42.037 586.937 42.037 588.579 L42.037 595.085 L60.0401 599.594 Q61.2317 599.916 61.5538 599.916 Q61.9081 599.916 62.0369 599.755 Q62.1335 599.561 62.1979 599.046 Q62.2945 598.466 62.2945 597.597 L62.2945 587.967 Q62.2945 585.842 62.1013 584.135 Q61.9081 582.428 61.425 581.011 Q60.9419 579.562 60.3944 578.467 Q59.8469 577.372 58.8485 576.341 Q57.8179 575.31 56.9161 574.602 Q55.9822 573.861 54.4041 572.992 Q52.826 572.122 51.5378 571.51 Q50.2173 570.898 48.0917 569.964 Q47.3188 569.707 47.3188 569.095 Q47.3188 568.74 47.512 568.547 Q47.6731 568.354 47.8341 568.322 L48.0273 568.322 Q48.6392 568.515 48.9613 568.644 L63.1963 574.698 Q64.0014 575.053 64.1625 575.343 Q64.3235 575.632 64.3235 576.76 L64.3235 610.994 Q64.3235 611.767 64.2913 612.089 Q64.2591 612.379 64.098 612.605 Q63.9048 612.83 63.5183 612.83 Q62.9064 612.83 62.6488 612.573 Q62.3589 612.315 62.3267 612.025 Q62.2945 611.735 62.2945 610.994 Q62.2945 609.384 62.1979 608.418 Q62.1013 607.452 61.9725 606.84 Q61.8114 606.196 61.3606 605.874 Q60.9097 605.519 60.5232 605.358 Q60.1045 605.197 59.1706 604.972 L24.2916 596.276 Q23.1 595.954 22.7135 595.954 Q22.2948 595.954 22.0372 596.244 Q21.7795 596.502 21.6829 597.21 Q21.5541 597.919 21.5541 598.499 Q21.5219 599.046 21.5219 600.238 Q21.5219 601.011 21.4897 601.333 Q21.4575 601.623 21.2965 601.848 Q21.1354 602.073 20.7812 602.073 Q19.8794 602.073 19.6862 601.687 Q19.4607 601.268 19.4607 600.109 L19.4607 566.808 Q19.4607 565.488 19.7506 565.198 Q20.0082 564.876 21.2643 565.004 Z\" fill=\"#000000\" fill-rule=\"evenodd\" fill-opacity=\"1\" /><path clip-path=\"url(#clip930)\" d=\"M 0 0 M80.8129 555.875 L14.8553 555.875 L14.8553 545.923 L16.369 545.923 L16.369 551.463 L79.2992 551.463 L79.2992 545.923 L80.8129 545.923 L80.8129 555.875 Z\" fill=\"#000000\" fill-rule=\"evenodd\" fill-opacity=\"1\" /><path clip-path=\"url(#clip930)\" d=\"M 0 0 M54.8872 507.502 Q59.0417 508.372 61.425 509.499 Q65.0642 511.303 65.0642 514.362 Q65.0642 516.681 63.6472 518.324 Q62.2301 519.966 60.1045 520.353 Q65.0642 524.572 65.0642 528.952 Q65.0642 532.816 62.1335 535.264 Q59.1706 537.712 54.5007 537.712 Q49.7986 537.712 45.2898 535.393 Q40.781 533.042 37.9791 529.338 Q35.1772 525.634 35.1772 521.834 Q35.1772 517.808 39.3962 515.747 Q38.2367 515.586 37.3672 514.845 Q36.4976 514.105 36.4976 512.977 Q36.4976 512.108 36.9807 511.593 Q37.4316 511.077 38.2689 511.077 Q38.6876 511.077 40.5234 511.528 L49.7342 513.911 L55.6923 515.361 Q57.8823 515.908 58.6875 516.069 Q59.4926 516.198 60.5554 516.198 Q63.5828 516.198 63.5828 514.233 Q63.5828 513.267 62.9708 512.494 Q62.3589 511.721 61.0707 511.109 Q59.7825 510.498 58.5908 510.111 Q57.367 509.725 55.4347 509.209 Q54.6617 509.048 54.4685 508.919 Q54.2431 508.758 54.2431 508.308 Q54.2431 507.502 54.8872 507.502 M42.4235 516.552 Q42.1337 516.552 41.3285 516.778 Q40.5234 517.003 39.3962 517.518 Q38.2689 518.034 37.4638 519.161 Q36.6265 520.256 36.6265 521.737 Q36.6265 523.734 38.3334 525.828 Q40.0403 527.889 42.9388 529.402 Q45.2576 530.562 50.1207 531.818 Q54.9838 533.042 57.3992 533.042 Q58.8807 533.042 60.2011 532.72 Q61.4894 532.365 62.5522 531.367 Q63.5828 530.369 63.5828 528.823 Q63.5828 525.055 58.9129 521.351 Q58.1078 520.642 57.7857 520.481 Q57.4314 520.288 56.4653 520.03 L43.5507 516.745 Q42.5845 516.552 42.4235 516.552 Z\" fill=\"#000000\" fill-rule=\"evenodd\" fill-opacity=\"1\" /><path clip-path=\"url(#clip930)\" d=\"M 0 0 M47.8341 503.141 Q36.6909 503.141 27.7054 498.986 Q23.9373 497.215 20.7812 494.735 Q17.625 492.255 16.2401 490.613 Q14.8553 488.97 14.8553 488.519 Q14.8553 487.875 15.4994 487.843 Q15.8215 487.843 16.6266 488.712 Q27.4478 499.34 47.8341 499.308 Q68.2848 499.308 78.6873 488.97 Q79.8145 487.843 80.1688 487.843 Q80.8129 487.843 80.8129 488.519 Q80.8129 488.97 79.4925 490.548 Q78.172 492.126 75.1447 494.574 Q72.1173 497.022 68.4136 498.793 Q59.4282 503.141 47.8341 503.141 Z\" fill=\"#000000\" fill-rule=\"evenodd\" fill-opacity=\"1\" /><path clip-path=\"url(#clip930)\" d=\"M 0 0 M39.4606 450.935 Q41.1675 450.935 42.2625 452.063 Q43.3575 453.158 43.3575 454.575 Q43.3575 455.798 42.6489 456.443 Q41.9404 457.087 41.0387 457.087 Q39.7504 457.087 38.6876 456.088 Q37.6248 455.09 37.3994 453.641 Q36.6265 454.703 36.6265 456.41 Q36.6265 459.212 38.7842 461.692 Q39.7826 462.787 41.6184 463.979 Q43.4219 465.17 44.1948 465.396 L52.7938 467.489 Q53.76 467.682 58.3976 468.874 Q63.0031 470.033 63.1963 470.13 Q64.098 470.452 64.5811 471.161 Q65.0642 471.869 65.0642 472.578 Q65.0642 473.383 64.5811 473.93 Q64.098 474.478 63.2607 474.478 Q63.1319 474.478 62.6488 474.381 Q62.1657 474.285 61.4894 474.124 Q60.8131 473.963 60.4266 473.898 L45.1932 470.066 Q42.4235 469.357 41.5539 469.196 Q40.6522 469.003 39.6538 469.003 Q37.9147 469.003 37.2706 469.55 Q36.6265 470.098 36.6265 471.064 Q36.6265 472.739 38.6232 473.834 Q40.62 474.929 44.4847 475.863 Q45.5475 476.153 45.7729 476.346 Q45.9984 476.507 45.9984 476.99 Q45.9661 477.795 45.322 477.795 Q45.161 477.795 44.1304 477.537 Q43.0676 477.28 41.5217 476.797 Q39.9437 476.281 38.9453 475.734 Q38.2689 475.412 37.8181 475.122 Q37.3672 474.832 36.6587 474.252 Q35.9501 473.673 35.5637 472.803 Q35.1772 471.934 35.1772 470.871 Q35.1772 468.552 36.5942 466.909 Q38.0113 465.235 40.2335 464.848 Q39.0741 464.043 38.0757 463.045 Q37.0451 462.046 36.1112 460.211 Q35.1772 458.375 35.1772 456.41 Q35.1772 453.963 36.4332 452.449 Q37.657 450.935 39.4606 450.935 Z\" fill=\"#000000\" fill-rule=\"evenodd\" fill-opacity=\"1\" /><path clip-path=\"url(#clip930)\" d=\"M 0 0 M80.1688 448.332 Q79.8467 448.332 79.0416 447.494 Q68.2204 436.866 47.8341 436.866 Q27.3834 436.866 17.0453 447.076 Q15.8537 448.332 15.4994 448.332 Q14.8553 448.332 14.8553 447.688 Q14.8553 447.237 16.1757 445.659 Q17.4962 444.048 20.5235 441.633 Q23.5509 439.185 27.2545 437.382 Q36.24 433.034 47.8341 433.034 Q58.9773 433.034 67.9628 437.188 Q71.7308 438.96 74.887 441.44 Q78.0432 443.919 79.428 445.562 Q80.8129 447.204 80.8129 447.688 Q80.8129 448.332 80.1688 448.332 Z\" fill=\"#000000\" fill-rule=\"evenodd\" fill-opacity=\"1\" /><path clip-path=\"url(#clip930)\" d=\"M 0 0 M79.2992 422.986 L79.2992 417.447 L16.369 417.447 L16.369 422.986 L14.8553 422.986 L14.8553 413.034 L80.8129 413.034 L80.8129 422.986 L79.2992 422.986 Z\" fill=\"#000000\" fill-rule=\"evenodd\" fill-opacity=\"1\" /><polyline clip-path=\"url(#clip932)\" style=\"stroke:#009af9; stroke-width:4; stroke-opacity:1; fill:none\" points=\"\n",
       "  298.566,1388.31 520.161,1378.61 741.757,1363.2 963.352,1349.83 1184.95,1327.54 1406.54,1300.07 1628.14,1263.94 1849.73,1207.32 2071.33,1095 2292.93,672.131 \n",
       "  \n",
       "  \"/>\n",
       "<polyline clip-path=\"url(#clip932)\" style=\"stroke:#e26f46; stroke-width:4; stroke-opacity:1; fill:none\" points=\"\n",
       "  298.566,1078.21 520.161,1068.66 741.757,1054.35 963.352,1037.93 1184.95,1017.65 1406.54,991.581 1628.14,954.161 1849.73,896.783 2071.33,785.624 2292.93,384.868 \n",
       "  \n",
       "  \"/>\n",
       "<polyline clip-path=\"url(#clip932)\" style=\"stroke:#3da44d; stroke-width:4; stroke-opacity:1; fill:none\" points=\"\n",
       "  298.566,767.406 520.161,755.852 741.757,741.892 963.352,725.012 1184.95,708.388 1406.54,680.511 1628.14,643.268 1849.73,587.935 2071.33,478.357 2292.93,86.3042 \n",
       "  \n",
       "  \"/>\n",
       "<path clip-path=\"url(#clip930)\" d=\"\n",
       "M1851.24 335.168 L2282.29 335.168 L2282.29 93.2482 L1851.24 93.2482  Z\n",
       "  \" fill=\"#ffffff\" fill-rule=\"evenodd\" fill-opacity=\"1\"/>\n",
       "<polyline clip-path=\"url(#clip930)\" style=\"stroke:#000000; stroke-width:4; stroke-opacity:1; fill:none\" points=\"\n",
       "  1851.24,335.168 2282.29,335.168 2282.29,93.2482 1851.24,93.2482 1851.24,335.168 \n",
       "  \"/>\n",
       "<polyline clip-path=\"url(#clip930)\" style=\"stroke:#009af9; stroke-width:4; stroke-opacity:1; fill:none\" points=\"\n",
       "  1874.73,153.728 2015.66,153.728 \n",
       "  \"/>\n",
       "<path clip-path=\"url(#clip930)\" d=\"M 0 0 M2054.34 149.064 Q2053.62 148.647 2052.76 148.462 Q2051.93 148.254 2050.91 148.254 Q2047.3 148.254 2045.36 150.615 Q2043.44 152.953 2043.44 157.351 L2043.44 171.008 L2039.15 171.008 L2039.15 145.082 L2043.44 145.082 L2043.44 149.11 Q2044.78 146.749 2046.93 145.615 Q2049.08 144.457 2052.16 144.457 Q2052.6 144.457 2053.14 144.527 Q2053.67 144.573 2054.32 144.689 L2054.34 149.064 Z\" fill=\"#000000\" fill-rule=\"evenodd\" fill-opacity=\"1\" /><path clip-path=\"url(#clip930)\" d=\"M 0 0 M2074.43 149.481 L2104.11 149.481 L2104.11 153.369 L2074.43 153.369 L2074.43 149.481 M2074.43 158.925 L2104.11 158.925 L2104.11 162.86 L2074.43 162.86 L2074.43 158.925 Z\" fill=\"#000000\" fill-rule=\"evenodd\" fill-opacity=\"1\" /><path clip-path=\"url(#clip930)\" d=\"M 0 0 M2134.25 139.527 Q2130.63 139.527 2128.81 143.092 Q2127 146.633 2127 153.763 Q2127 160.869 2128.81 164.434 Q2130.63 167.976 2134.25 167.976 Q2137.88 167.976 2139.69 164.434 Q2141.51 160.869 2141.51 153.763 Q2141.51 146.633 2139.69 143.092 Q2137.88 139.527 2134.25 139.527 M2134.25 135.823 Q2140.06 135.823 2143.11 140.43 Q2146.19 145.013 2146.19 153.763 Q2146.19 162.49 2143.11 167.096 Q2140.06 171.679 2134.25 171.679 Q2128.44 171.679 2125.36 167.096 Q2122.3 162.49 2122.3 153.763 Q2122.3 145.013 2125.36 140.43 Q2128.44 135.823 2134.25 135.823 Z\" fill=\"#000000\" fill-rule=\"evenodd\" fill-opacity=\"1\" /><path clip-path=\"url(#clip930)\" d=\"M 0 0 M2151.26 165.129 L2156.14 165.129 L2156.14 171.008 L2151.26 171.008 L2151.26 165.129 Z\" fill=\"#000000\" fill-rule=\"evenodd\" fill-opacity=\"1\" /><path clip-path=\"url(#clip930)\" d=\"M 0 0 M2171.21 139.527 Q2167.6 139.527 2165.77 143.092 Q2163.97 146.633 2163.97 153.763 Q2163.97 160.869 2165.77 164.434 Q2167.6 167.976 2171.21 167.976 Q2174.85 167.976 2176.65 164.434 Q2178.48 160.869 2178.48 153.763 Q2178.48 146.633 2176.65 143.092 Q2174.85 139.527 2171.21 139.527 M2171.21 135.823 Q2177.02 135.823 2180.08 140.43 Q2183.16 145.013 2183.16 153.763 Q2183.16 162.49 2180.08 167.096 Q2177.02 171.679 2171.21 171.679 Q2165.4 171.679 2162.32 167.096 Q2159.27 162.49 2159.27 153.763 Q2159.27 145.013 2162.32 140.43 Q2165.4 135.823 2171.21 135.823 Z\" fill=\"#000000\" fill-rule=\"evenodd\" fill-opacity=\"1\" /><path clip-path=\"url(#clip930)\" d=\"M 0 0 M2189.04 167.073 L2196.68 167.073 L2196.68 140.707 L2188.37 142.374 L2188.37 138.115 L2196.63 136.448 L2201.31 136.448 L2201.31 167.073 L2208.94 167.073 L2208.94 171.008 L2189.04 171.008 L2189.04 167.073 Z\" fill=\"#000000\" fill-rule=\"evenodd\" fill-opacity=\"1\" /><polyline clip-path=\"url(#clip930)\" style=\"stroke:#e26f46; stroke-width:4; stroke-opacity:1; fill:none\" points=\"\n",
       "  1874.73,214.208 2015.66,214.208 \n",
       "  \"/>\n",
       "<path clip-path=\"url(#clip930)\" d=\"M 0 0 M2054.34 209.544 Q2053.62 209.127 2052.76 208.942 Q2051.93 208.734 2050.91 208.734 Q2047.3 208.734 2045.36 211.095 Q2043.44 213.433 2043.44 217.831 L2043.44 231.488 L2039.15 231.488 L2039.15 205.562 L2043.44 205.562 L2043.44 209.59 Q2044.78 207.229 2046.93 206.095 Q2049.08 204.937 2052.16 204.937 Q2052.6 204.937 2053.14 205.007 Q2053.67 205.053 2054.32 205.169 L2054.34 209.544 Z\" fill=\"#000000\" fill-rule=\"evenodd\" fill-opacity=\"1\" /><path clip-path=\"url(#clip930)\" d=\"M 0 0 M2074.43 209.961 L2104.11 209.961 L2104.11 213.849 L2074.43 213.849 L2074.43 209.961 M2074.43 219.405 L2104.11 219.405 L2104.11 223.34 L2074.43 223.34 L2074.43 219.405 Z\" fill=\"#000000\" fill-rule=\"evenodd\" fill-opacity=\"1\" /><path clip-path=\"url(#clip930)\" d=\"M 0 0 M2134.25 200.007 Q2130.63 200.007 2128.81 203.572 Q2127 207.113 2127 214.243 Q2127 221.349 2128.81 224.914 Q2130.63 228.456 2134.25 228.456 Q2137.88 228.456 2139.69 224.914 Q2141.51 221.349 2141.51 214.243 Q2141.51 207.113 2139.69 203.572 Q2137.88 200.007 2134.25 200.007 M2134.25 196.303 Q2140.06 196.303 2143.11 200.91 Q2146.19 205.493 2146.19 214.243 Q2146.19 222.97 2143.11 227.576 Q2140.06 232.159 2134.25 232.159 Q2128.44 232.159 2125.36 227.576 Q2122.3 222.97 2122.3 214.243 Q2122.3 205.493 2125.36 200.91 Q2128.44 196.303 2134.25 196.303 Z\" fill=\"#000000\" fill-rule=\"evenodd\" fill-opacity=\"1\" /><path clip-path=\"url(#clip930)\" d=\"M 0 0 M2151.26 225.609 L2156.14 225.609 L2156.14 231.488 L2151.26 231.488 L2151.26 225.609 Z\" fill=\"#000000\" fill-rule=\"evenodd\" fill-opacity=\"1\" /><path clip-path=\"url(#clip930)\" d=\"M 0 0 M2171.21 200.007 Q2167.6 200.007 2165.77 203.572 Q2163.97 207.113 2163.97 214.243 Q2163.97 221.349 2165.77 224.914 Q2167.6 228.456 2171.21 228.456 Q2174.85 228.456 2176.65 224.914 Q2178.48 221.349 2178.48 214.243 Q2178.48 207.113 2176.65 203.572 Q2174.85 200.007 2171.21 200.007 M2171.21 196.303 Q2177.02 196.303 2180.08 200.91 Q2183.16 205.493 2183.16 214.243 Q2183.16 222.97 2180.08 227.576 Q2177.02 232.159 2171.21 232.159 Q2165.4 232.159 2162.32 227.576 Q2159.27 222.97 2159.27 214.243 Q2159.27 205.493 2162.32 200.91 Q2165.4 196.303 2171.21 196.303 Z\" fill=\"#000000\" fill-rule=\"evenodd\" fill-opacity=\"1\" /><path clip-path=\"url(#clip930)\" d=\"M 0 0 M2189.04 227.553 L2196.68 227.553 L2196.68 201.187 L2188.37 202.854 L2188.37 198.595 L2196.63 196.928 L2201.31 196.928 L2201.31 227.553 L2208.94 227.553 L2208.94 231.488 L2189.04 231.488 L2189.04 227.553 Z\" fill=\"#000000\" fill-rule=\"evenodd\" fill-opacity=\"1\" /><path clip-path=\"url(#clip930)\" d=\"M 0 0 M2228.18 212.854 Q2231.54 213.572 2233.41 215.84 Q2235.31 218.109 2235.31 221.442 Q2235.31 226.558 2231.79 229.359 Q2228.27 232.159 2221.79 232.159 Q2219.62 232.159 2217.3 231.72 Q2215.01 231.303 2212.56 230.447 L2212.56 225.933 Q2214.5 227.067 2216.82 227.646 Q2219.13 228.224 2221.65 228.224 Q2226.05 228.224 2228.34 226.488 Q2230.66 224.752 2230.66 221.442 Q2230.66 218.386 2228.5 216.673 Q2226.38 214.937 2222.56 214.937 L2218.53 214.937 L2218.53 211.095 L2222.74 211.095 Q2226.19 211.095 2228.02 209.729 Q2229.85 208.34 2229.85 205.748 Q2229.85 203.086 2227.95 201.674 Q2226.07 200.238 2222.56 200.238 Q2220.63 200.238 2218.44 200.655 Q2216.24 201.072 2213.6 201.951 L2213.6 197.785 Q2216.26 197.044 2218.57 196.674 Q2220.91 196.303 2222.97 196.303 Q2228.3 196.303 2231.4 198.734 Q2234.5 201.141 2234.5 205.261 Q2234.5 208.132 2232.86 210.123 Q2231.21 212.09 2228.18 212.854 Z\" fill=\"#000000\" fill-rule=\"evenodd\" fill-opacity=\"1\" /><polyline clip-path=\"url(#clip930)\" style=\"stroke:#3da44d; stroke-width:4; stroke-opacity:1; fill:none\" points=\"\n",
       "  1874.73,274.688 2015.66,274.688 \n",
       "  \"/>\n",
       "<path clip-path=\"url(#clip930)\" d=\"M 0 0 M2054.34 270.024 Q2053.62 269.607 2052.76 269.422 Q2051.93 269.214 2050.91 269.214 Q2047.3 269.214 2045.36 271.575 Q2043.44 273.913 2043.44 278.311 L2043.44 291.968 L2039.15 291.968 L2039.15 266.042 L2043.44 266.042 L2043.44 270.07 Q2044.78 267.709 2046.93 266.575 Q2049.08 265.417 2052.16 265.417 Q2052.6 265.417 2053.14 265.487 Q2053.67 265.533 2054.32 265.649 L2054.34 270.024 Z\" fill=\"#000000\" fill-rule=\"evenodd\" fill-opacity=\"1\" /><path clip-path=\"url(#clip930)\" d=\"M 0 0 M2074.43 270.441 L2104.11 270.441 L2104.11 274.329 L2074.43 274.329 L2074.43 270.441 M2074.43 279.885 L2104.11 279.885 L2104.11 283.82 L2074.43 283.82 L2074.43 279.885 Z\" fill=\"#000000\" fill-rule=\"evenodd\" fill-opacity=\"1\" /><path clip-path=\"url(#clip930)\" d=\"M 0 0 M2134.25 260.487 Q2130.63 260.487 2128.81 264.052 Q2127 267.593 2127 274.723 Q2127 281.829 2128.81 285.394 Q2130.63 288.936 2134.25 288.936 Q2137.88 288.936 2139.69 285.394 Q2141.51 281.829 2141.51 274.723 Q2141.51 267.593 2139.69 264.052 Q2137.88 260.487 2134.25 260.487 M2134.25 256.783 Q2140.06 256.783 2143.11 261.39 Q2146.19 265.973 2146.19 274.723 Q2146.19 283.45 2143.11 288.056 Q2140.06 292.639 2134.25 292.639 Q2128.44 292.639 2125.36 288.056 Q2122.3 283.45 2122.3 274.723 Q2122.3 265.973 2125.36 261.39 Q2128.44 256.783 2134.25 256.783 Z\" fill=\"#000000\" fill-rule=\"evenodd\" fill-opacity=\"1\" /><path clip-path=\"url(#clip930)\" d=\"M 0 0 M2151.26 286.089 L2156.14 286.089 L2156.14 291.968 L2151.26 291.968 L2151.26 286.089 Z\" fill=\"#000000\" fill-rule=\"evenodd\" fill-opacity=\"1\" /><path clip-path=\"url(#clip930)\" d=\"M 0 0 M2171.21 260.487 Q2167.6 260.487 2165.77 264.052 Q2163.97 267.593 2163.97 274.723 Q2163.97 281.829 2165.77 285.394 Q2167.6 288.936 2171.21 288.936 Q2174.85 288.936 2176.65 285.394 Q2178.48 281.829 2178.48 274.723 Q2178.48 267.593 2176.65 264.052 Q2174.85 260.487 2171.21 260.487 M2171.21 256.783 Q2177.02 256.783 2180.08 261.39 Q2183.16 265.973 2183.16 274.723 Q2183.16 283.45 2180.08 288.056 Q2177.02 292.639 2171.21 292.639 Q2165.4 292.639 2162.32 288.056 Q2159.27 283.45 2159.27 274.723 Q2159.27 265.973 2162.32 261.39 Q2165.4 256.783 2171.21 256.783 Z\" fill=\"#000000\" fill-rule=\"evenodd\" fill-opacity=\"1\" /><path clip-path=\"url(#clip930)\" d=\"M 0 0 M2189.04 288.033 L2196.68 288.033 L2196.68 261.667 L2188.37 263.334 L2188.37 259.075 L2196.63 257.408 L2201.31 257.408 L2201.31 288.033 L2208.94 288.033 L2208.94 291.968 L2189.04 291.968 L2189.04 288.033 Z\" fill=\"#000000\" fill-rule=\"evenodd\" fill-opacity=\"1\" /><path clip-path=\"url(#clip930)\" d=\"M 0 0 M2212.83 257.408 L2235.06 257.408 L2235.06 259.399 L2222.51 291.968 L2217.63 291.968 L2229.43 261.343 L2212.83 261.343 L2212.83 257.408 Z\" fill=\"#000000\" fill-rule=\"evenodd\" fill-opacity=\"1\" /></svg>\n"
      ]
     },
     "execution_count": 26,
     "metadata": {},
     "output_type": "execute_result"
    }
   ],
   "source": [
    "fig = plot();\n",
    "for i in 1:M\n",
    "    plot!(fig,R,A[:,i],label=\"r = $(round(R[i],digits=3))\")\n",
    "end \n",
    "plot!(fig, xlabel=L\"\\textrm{Risk Aversion  } (\\sigma)\", ylabel=L\"\\textrm{Asset Demand  } E\\,[a(r)]\")\n",
    "fig"
   ]
  }
 ],
 "metadata": {
  "kernelspec": {
   "display_name": "Julia 1.5.4",
   "language": "julia",
   "name": "julia-1.5"
  },
  "language_info": {
   "file_extension": ".jl",
   "mimetype": "application/julia",
   "name": "julia",
   "version": "1.5.4"
  },
  "latex_envs": {
   "LaTeX_envs_menu_present": true,
   "autoclose": false,
   "autocomplete": true,
   "bibliofile": "biblio.bib",
   "cite_by": "apalike",
   "current_citInitial": 1,
   "eqLabelWithNumbers": true,
   "eqNumInitial": 1,
   "hotkeys": {
    "equation": "Ctrl-E",
    "itemize": "Ctrl-I"
   },
   "labels_anchors": false,
   "latex_user_defs": false,
   "report_style_numbering": false,
   "user_envs_cfg": false
  }
 },
 "nbformat": 4,
 "nbformat_minor": 4
}

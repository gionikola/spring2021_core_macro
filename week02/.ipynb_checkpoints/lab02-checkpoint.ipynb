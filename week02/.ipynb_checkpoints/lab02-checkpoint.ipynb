{
 "cells": [
  {
   "cell_type": "markdown",
   "metadata": {},
   "source": [
    "# Functions and Modeling Applications"
   ]
  },
  {
   "cell_type": "markdown",
   "metadata": {},
   "source": [
    "Contents:\n",
    "\n",
    "- [Functions and Modeling Applications](#Functions-and-Modeling-Applications)  \n",
    "  - [Creating Functions](#Creating-Functions)  \n",
    "  - [Solvers and Optimization](#Solvers-and-Optimization)  \n",
    "  - [Linear Algebra](#Linear-Algebra)  \n",
    "  - [Finite Markov Chains](#Finite-Markov-Chains)   \n",
    "\n",
    "\n",
    "This lab covers: \n",
    "\n",
    "(1) User-defined functions;\n",
    "\n",
    "(2) Linear algebra applications; \n",
    "\n",
    "(3) Modeling finite-state Markov chains;\n",
    "\n",
    "(4) Solvers and optimization.\n",
    "\n",
    "----"
   ]
  },
  {
   "cell_type": "markdown",
   "metadata": {},
   "source": [
    "## Creating Functions "
   ]
  },
  {
   "cell_type": "markdown",
   "metadata": {},
   "source": [
    "In this section we will cover the basics of creating custom functions."
   ]
  },
  {
   "cell_type": "markdown",
   "metadata": {},
   "source": [
    "A function is essentially an object that takes inputs, applies some sort of procedure to said inputs, and spits out a result.\n",
    "\n",
    "Functions can be handy for organizing code that is likely to be routinely re-used in the future."
   ]
  },
  {
   "cell_type": "markdown",
   "metadata": {},
   "source": [
    "Let's define a function named `add` that takes two variables, `x` and `y`, as inputs, and returns their sum."
   ]
  },
  {
   "cell_type": "code",
   "execution_count": 76,
   "metadata": {},
   "outputs": [
    {
     "data": {
      "text/plain": [
       "add (generic function with 1 method)"
      ]
     },
     "execution_count": 76,
     "metadata": {},
     "output_type": "execute_result"
    }
   ],
   "source": [
    "function add(x, y)\n",
    "    z = x + y\n",
    "    return z\n",
    "end "
   ]
  },
  {
   "cell_type": "code",
   "execution_count": 78,
   "metadata": {},
   "outputs": [
    {
     "data": {
      "text/plain": [
       "5"
      ]
     },
     "execution_count": 78,
     "metadata": {},
     "output_type": "execute_result"
    }
   ],
   "source": [
    "add(2,3)"
   ]
  },
  {
   "cell_type": "markdown",
   "metadata": {},
   "source": [
    "Now let's define a function called `all_operations` that takes takes two variables, `x` and `y`, as inputs, and returns their sum, difference, product, and quotient. "
   ]
  },
  {
   "cell_type": "code",
   "execution_count": 85,
   "metadata": {},
   "outputs": [
    {
     "data": {
      "text/plain": [
       "all_operations (generic function with 1 method)"
      ]
     },
     "execution_count": 85,
     "metadata": {},
     "output_type": "execute_result"
    }
   ],
   "source": [
    "function all_operations(x, y)\n",
    "    sum = x + y\n",
    "    difference = x - y\n",
    "    product = x * y\n",
    "    quotient = x / y \n",
    "    result = (sum, difference, product, quotient) \n",
    "    return result  \n",
    "end "
   ]
  },
  {
   "cell_type": "code",
   "execution_count": 86,
   "metadata": {},
   "outputs": [
    {
     "data": {
      "text/plain": [
       "(3, -1, 2, 0.5)"
      ]
     },
     "execution_count": 86,
     "metadata": {},
     "output_type": "execute_result"
    }
   ],
   "source": [
    "all_operations(1, 2)"
   ]
  },
  {
   "cell_type": "markdown",
   "metadata": {},
   "source": [
    "Notice that the output of `all_operations()` is a tuple with four entires.\n",
    "\n",
    "Tuples are useful as output objects because we can easily store their entries as separate variables:"
   ]
  },
  {
   "cell_type": "code",
   "execution_count": 95,
   "metadata": {},
   "outputs": [
    {
     "name": "stdout",
     "output_type": "stream",
     "text": [
      "xy_sum = 3\n",
      "xy_difference = -1\n",
      "xy_product = 2\n",
      "xy_quotient = 0.5\n"
     ]
    }
   ],
   "source": [
    "# Store output of `all_operations(1,2)` as separate variables\n",
    "xy_sum, xy_difference, xy_product, xy_quotient = all_operations(1,2)\n",
    "\n",
    "# Print all collected variables\n",
    "@show xy_sum\n",
    "@show xy_difference\n",
    "@show xy_product\n",
    "@show xy_quotient;"
   ]
  },
  {
   "cell_type": "markdown",
   "metadata": {},
   "source": [
    "An alternative (shorter) way of defining the `all_operations` function by creating an equivalent `all_operations_v2':"
   ]
  },
  {
   "cell_type": "code",
   "execution_count": 99,
   "metadata": {},
   "outputs": [
    {
     "data": {
      "text/plain": [
       "all_operations_v2 (generic function with 1 method)"
      ]
     },
     "execution_count": 99,
     "metadata": {},
     "output_type": "execute_result"
    }
   ],
   "source": [
    "function all_operations_v2(x,y)\n",
    "    (sum = x + y, difference = x - y, product = x * y, quotient = x / y)\n",
    "end "
   ]
  },
  {
   "cell_type": "markdown",
   "metadata": {},
   "source": [
    "What did we do differently?\n",
    "- We defined and stored all operation results in an unnamed tuple;\n",
    "- We didn't use `return` at the end of the function to return the output.\n",
    "\n",
    "Is this alternative way of defining `all_operations()` better? Not necessarily -- it depends on the context.\n",
    "\n",
    "Let's just apply `all_operations` and `all_operations_v2` to the same inputs and check whether the outputs match: "
   ]
  },
  {
   "cell_type": "code",
   "execution_count": 119,
   "metadata": {},
   "outputs": [
    {
     "data": {
      "text/plain": [
       "\"The two functions are the same!\""
      ]
     },
     "execution_count": 119,
     "metadata": {},
     "output_type": "execute_result"
    }
   ],
   "source": [
    "# Create var `condition` that tests whether outputs are equivalent\n",
    "condition = all_operations(1,2) == all_operations_v2(1,2)\n",
    "\n",
    "# Create fun `check` w/ input `condition`\n",
    "function check(condition)\n",
    "    if condition == true \n",
    "        result = \"The two functions are the same!\"\n",
    "    end \n",
    "    if condition != true\n",
    "        result = \"The two functions are not the same!\"\n",
    "    end \n",
    "    return result\n",
    "end \n",
    "\n",
    "# Run `check` on `condition`\n",
    "check(condition)"
   ]
  },
  {
   "cell_type": "markdown",
   "metadata": {},
   "source": [
    "The `check` function, as defined in the previous cell, is pretty clunky -- let's simplify it:"
   ]
  },
  {
   "cell_type": "code",
   "execution_count": 123,
   "metadata": {},
   "outputs": [
    {
     "data": {
      "text/plain": [
       "\"The two functions are the same!\""
      ]
     },
     "execution_count": 123,
     "metadata": {},
     "output_type": "execute_result"
    }
   ],
   "source": [
    "function check(condition)\n",
    "    if condition == true\n",
    "        return \"The two functions are the same!\"\n",
    "    else \n",
    "        return \"The two functions are not the same!\"\n",
    "    end \n",
    "end\n",
    "\n",
    "check(condition)"
   ]
  },
  {
   "cell_type": "markdown",
   "metadata": {},
   "source": [
    "Or alternatively:"
   ]
  },
  {
   "cell_type": "code",
   "execution_count": 126,
   "metadata": {},
   "outputs": [
    {
     "data": {
      "text/plain": [
       "\"The two functions are the same!\""
      ]
     },
     "execution_count": 126,
     "metadata": {},
     "output_type": "execute_result"
    }
   ],
   "source": [
    "function check(condition)\n",
    "    if condition == true \n",
    "        return \"The two functions are the same!\"\n",
    "    end \n",
    "    \"The two functions are not the same!\"\n",
    "end \n",
    "\n",
    "check(condition)"
   ]
  },
  {
   "cell_type": "markdown",
   "metadata": {},
   "source": [
    "Again -- in the case of simple functions such as the ones shown above, being super efficient is not necessary. \n",
    "\n",
    "But clunky code can make larger scripts hard to read, and potentially even run slow!"
   ]
  },
  {
   "cell_type": "markdown",
   "metadata": {},
   "source": [
    "Defining mathematical functions in Julia is easy.\n",
    "\n",
    "Let's define the polynomial mapping $f:\\mathbb{R} \\rightarrow \\mathbb{R}$ such that $f(x) = x^2 - 3x + 2$:"
   ]
  },
  {
   "cell_type": "code",
   "execution_count": 127,
   "metadata": {},
   "outputs": [
    {
     "data": {
      "text/plain": [
       "f (generic function with 1 method)"
      ]
     },
     "execution_count": 127,
     "metadata": {},
     "output_type": "execute_result"
    }
   ],
   "source": [
    "f(x) = x^2 - 3x + 2"
   ]
  },
  {
   "cell_type": "code",
   "execution_count": 132,
   "metadata": {},
   "outputs": [
    {
     "data": {
      "text/plain": [
       "2.4448264403199786"
      ]
     },
     "execution_count": 132,
     "metadata": {},
     "output_type": "execute_result"
    }
   ],
   "source": [
    "f(pi)"
   ]
  },
  {
   "cell_type": "code",
   "execution_count": 133,
   "metadata": {},
   "outputs": [
    {
     "data": {
      "text/plain": [
       "2.4448264403199786"
      ]
     },
     "execution_count": 133,
     "metadata": {},
     "output_type": "execute_result"
    }
   ],
   "source": [
    "f(π)"
   ]
  },
  {
   "cell_type": "markdown",
   "metadata": {},
   "source": [
    "We may also define **anonymous functions**.\n",
    "\n",
    "These are typically useful as arguments for other functions:"
   ]
  },
  {
   "cell_type": "code",
   "execution_count": 137,
   "metadata": {},
   "outputs": [
    {
     "data": {
      "text/plain": [
       "3-element Array{Float64,1}:\n",
       "  1.218265269901597\n",
       "  0.285024015671713\n",
       " -0.24077823459254954"
      ]
     },
     "execution_count": 137,
     "metadata": {},
     "output_type": "execute_result"
    }
   ],
   "source": [
    "map(x -> x^2 - 3x + 2, randn(3))"
   ]
  },
  {
   "cell_type": "markdown",
   "metadata": {},
   "source": [
    "---"
   ]
  },
  {
   "cell_type": "markdown",
   "metadata": {},
   "source": [
    "## Linear Algebra"
   ]
  },
  {
   "cell_type": "markdown",
   "metadata": {},
   "source": []
  },
  {
   "cell_type": "markdown",
   "metadata": {},
   "source": [
    "---"
   ]
  },
  {
   "cell_type": "markdown",
   "metadata": {},
   "source": [
    "## Finite Markov Chains"
   ]
  },
  {
   "cell_type": "markdown",
   "metadata": {},
   "source": []
  },
  {
   "cell_type": "markdown",
   "metadata": {},
   "source": [
    "---"
   ]
  },
  {
   "cell_type": "markdown",
   "metadata": {},
   "source": [
    "## Solvers and Optimization"
   ]
  },
  {
   "cell_type": "markdown",
   "metadata": {},
   "source": []
  },
  {
   "cell_type": "markdown",
   "metadata": {},
   "source": [
    "### Roots.jl"
   ]
  },
  {
   "cell_type": "markdown",
   "metadata": {},
   "source": []
  },
  {
   "cell_type": "code",
   "execution_count": 71,
   "metadata": {},
   "outputs": [],
   "source": [
    "using Roots;"
   ]
  },
  {
   "cell_type": "markdown",
   "metadata": {},
   "source": []
  },
  {
   "cell_type": "markdown",
   "metadata": {},
   "source": [
    "### NLsolve.jl"
   ]
  },
  {
   "cell_type": "markdown",
   "metadata": {},
   "source": []
  },
  {
   "cell_type": "code",
   "execution_count": 70,
   "metadata": {},
   "outputs": [],
   "source": [
    "using NLsolve;"
   ]
  },
  {
   "cell_type": "markdown",
   "metadata": {},
   "source": []
  },
  {
   "cell_type": "markdown",
   "metadata": {},
   "source": [
    "### Optim.jl"
   ]
  },
  {
   "cell_type": "markdown",
   "metadata": {},
   "source": []
  },
  {
   "cell_type": "code",
   "execution_count": 69,
   "metadata": {},
   "outputs": [],
   "source": [
    "using Optim;"
   ]
  },
  {
   "cell_type": "markdown",
   "metadata": {},
   "source": [
    "---"
   ]
  }
 ],
 "metadata": {
  "kernelspec": {
   "display_name": "Julia 1.5.4",
   "language": "julia",
   "name": "julia-1.5"
  },
  "language_info": {
   "file_extension": ".jl",
   "mimetype": "application/julia",
   "name": "julia",
   "version": "1.5.4"
  },
  "toc": {
   "base_numbering": 1,
   "nav_menu": {},
   "number_sections": true,
   "sideBar": true,
   "skip_h1_title": false,
   "title_cell": "Table of Contents",
   "title_sidebar": "Contents",
   "toc_cell": false,
   "toc_position": {},
   "toc_section_display": true,
   "toc_window_display": false
  }
 },
 "nbformat": 4,
 "nbformat_minor": 4
}

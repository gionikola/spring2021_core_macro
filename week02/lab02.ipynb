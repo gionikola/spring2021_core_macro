{
 "cells": [
  {
   "cell_type": "markdown",
   "metadata": {},
   "source": [
    "# Functions and Modeling Applications"
   ]
  },
  {
   "cell_type": "markdown",
   "metadata": {},
   "source": [
    "Contents:\n",
    "\n",
    "- [Functions and Modeling Applications](#Functions-and-Modeling-Applications)  \n",
    "  - [Creating Functions](#Creating-Functions)  \n",
    "  - [Loops](#Loops)\n",
    "  - [Linear Algebra](#Linear-Algebra)  \n",
    "  - [Finite Markov Chains](#Finite-Markov-Chains)   \n",
    "\n",
    "\n",
    "This lab covers: \n",
    "\n",
    "(1) User-defined functions;\n",
    "\n",
    "(2) Loops;\n",
    "\n",
    "(3) Linear algebra applications; \n",
    "\n",
    "(4) Modeling finite-state Markov chains.\n",
    "\n",
    "----"
   ]
  },
  {
   "cell_type": "markdown",
   "metadata": {},
   "source": [
    "## Creating Functions "
   ]
  },
  {
   "cell_type": "markdown",
   "metadata": {},
   "source": [
    "In this section we will cover the basics of creating custom functions."
   ]
  },
  {
   "cell_type": "markdown",
   "metadata": {},
   "source": [
    "A function is essentially an object that takes a set of inputs, applies some sort of procedure to said inputs, and spits out a result.\n",
    "\n",
    "Functions can be handy for organizing code that is likely to be routinely re-used in the future with varying inputs."
   ]
  },
  {
   "cell_type": "markdown",
   "metadata": {},
   "source": [
    "Let's define a function named `add` that takes two variables, `x` and `y`, as inputs, and returns their sum."
   ]
  },
  {
   "cell_type": "code",
   "execution_count": 25,
   "metadata": {},
   "outputs": [
    {
     "data": {
      "text/plain": [
       "add (generic function with 1 method)"
      ]
     },
     "execution_count": 25,
     "metadata": {},
     "output_type": "execute_result"
    }
   ],
   "source": [
    "function add(x, y)\n",
    "    z = x + y\n",
    "    return z\n",
    "end "
   ]
  },
  {
   "cell_type": "markdown",
   "metadata": {},
   "source": [
    "To check, we call on `add()` with the inputs `x=2` and `y=3` -- obviously the output is supposed to be 5. "
   ]
  },
  {
   "cell_type": "code",
   "execution_count": 26,
   "metadata": {},
   "outputs": [
    {
     "data": {
      "text/plain": [
       "5"
      ]
     },
     "execution_count": 26,
     "metadata": {},
     "output_type": "execute_result"
    }
   ],
   "source": [
    "add(2,3)"
   ]
  },
  {
   "cell_type": "markdown",
   "metadata": {},
   "source": [
    "Success!\n",
    "\n",
    "Recall that we stored the output into a variable `z` that was defined inside of the function.\n",
    "\n",
    "If we try to call on `z` in the global environment (outside of the function), we will get an error since `z` only lives within the function:"
   ]
  },
  {
   "cell_type": "code",
   "execution_count": 27,
   "metadata": {},
   "outputs": [
    {
     "ename": "LoadError",
     "evalue": "\u001b[91mUndefVarError: z not defined\u001b[39m",
     "output_type": "error",
     "traceback": [
      "\u001b[91mUndefVarError: z not defined\u001b[39m",
      "",
      "Stacktrace:",
      " [1] top-level scope",
      " [2] include_string(::Function, ::Module, ::String, ::String) at .\\loading.jl:1091"
     ]
    }
   ],
   "source": [
    "z"
   ]
  },
  {
   "cell_type": "markdown",
   "metadata": {},
   "source": [
    "Now let's define a function called `all_operations` that takes takes two variables, `x` and `y`, as inputs, and returns their sum, difference, product, and quotient. "
   ]
  },
  {
   "cell_type": "code",
   "execution_count": 28,
   "metadata": {},
   "outputs": [
    {
     "data": {
      "text/plain": [
       "all_operations (generic function with 1 method)"
      ]
     },
     "execution_count": 28,
     "metadata": {},
     "output_type": "execute_result"
    }
   ],
   "source": [
    "function all_operations(x, y)\n",
    "    sum = x + y\n",
    "    difference = x - y\n",
    "    product = x * y\n",
    "    quotient = x / y \n",
    "    result = (sum, difference, product, quotient) \n",
    "    return result  \n",
    "end "
   ]
  },
  {
   "cell_type": "markdown",
   "metadata": {},
   "source": [
    "To check whether `all_operations` works, we call on it with the inputs `x=1` and `y=2`:"
   ]
  },
  {
   "cell_type": "code",
   "execution_count": 29,
   "metadata": {},
   "outputs": [
    {
     "data": {
      "text/plain": [
       "(3, -1, 2, 0.5)"
      ]
     },
     "execution_count": 29,
     "metadata": {},
     "output_type": "execute_result"
    }
   ],
   "source": [
    "all_operations(1, 2)"
   ]
  },
  {
   "cell_type": "markdown",
   "metadata": {},
   "source": [
    "Notice that the output of `all_operations()` is a tuple with four entires.\n",
    "\n",
    "Tuples are useful as function output objects because we can easily store their entries as separate variables:"
   ]
  },
  {
   "cell_type": "code",
   "execution_count": 30,
   "metadata": {},
   "outputs": [
    {
     "name": "stdout",
     "output_type": "stream",
     "text": [
      "xy_sum = 3\n",
      "xy_difference = -1\n",
      "xy_product = 2\n",
      "xy_quotient = 0.5\n"
     ]
    }
   ],
   "source": [
    "# Store output of `all_operations(1,2)` as separate variables\n",
    "xy_sum, xy_difference, xy_product, xy_quotient = all_operations(1,2)\n",
    "\n",
    "# Print all collected variables\n",
    "@show xy_sum\n",
    "@show xy_difference\n",
    "@show xy_product\n",
    "@show xy_quotient;"
   ]
  },
  {
   "cell_type": "markdown",
   "metadata": {},
   "source": [
    "An alternative simpler way of defining the `all_operations` function by creating an equivalent `all_operations_v2`:"
   ]
  },
  {
   "cell_type": "code",
   "execution_count": 31,
   "metadata": {},
   "outputs": [
    {
     "data": {
      "text/plain": [
       "all_operations_v2 (generic function with 1 method)"
      ]
     },
     "execution_count": 31,
     "metadata": {},
     "output_type": "execute_result"
    }
   ],
   "source": [
    "function all_operations_v2(x,y)\n",
    "    (x + y, x - y, x * y, x / y)\n",
    "end "
   ]
  },
  {
   "cell_type": "markdown",
   "metadata": {},
   "source": [
    "What did we do differently?\n",
    "- We defined and stored all operation results in an unassigned tuple ;\n",
    "- We didn't use `return` at the end of the function to return the output.\n",
    "\n",
    "When we called on the function, Julia noticed the lack of a `return` command and chose the last thing it saw as the output -- in our case this was the unassigned tuple.\n",
    "\n",
    "Is this alternative way of defining `all_operations()` better? Not necessarily -- it depends on the context. For example, you might find that shorter code isn't *necessarily* easier to read.\n",
    "\n",
    "Let's just apply `all_operations()` and `all_operations_v2()` to the same inputs and check whether the outputs match using a custom-defined function `check()`: "
   ]
  },
  {
   "cell_type": "code",
   "execution_count": 32,
   "metadata": {},
   "outputs": [
    {
     "data": {
      "text/plain": [
       "\"The two functions are the same!\""
      ]
     },
     "execution_count": 32,
     "metadata": {},
     "output_type": "execute_result"
    }
   ],
   "source": [
    "# Create var. `condition` that tests whether outputs are equivalent\n",
    "condition = all_operations(1,2) == all_operations_v2(1,2)\n",
    "\n",
    "# Create fun. `check` w/ input `condition`\n",
    "function check(condition)\n",
    "    if condition == true \n",
    "        result = \"The two functions are the same!\"\n",
    "    end \n",
    "    if condition != true\n",
    "        result = \"The two functions are not the same!\"\n",
    "    end \n",
    "    return result\n",
    "end \n",
    "\n",
    "# Run `check` on `condition`\n",
    "check(condition)"
   ]
  },
  {
   "cell_type": "markdown",
   "metadata": {},
   "source": [
    "The `check()` function, as defined in the previous cell, is pretty clunky -- let's simplify it:"
   ]
  },
  {
   "cell_type": "code",
   "execution_count": 33,
   "metadata": {},
   "outputs": [
    {
     "data": {
      "text/plain": [
       "\"The two functions are the same!\""
      ]
     },
     "execution_count": 33,
     "metadata": {},
     "output_type": "execute_result"
    }
   ],
   "source": [
    "# Re-define function `check()`\n",
    "function check(condition)\n",
    "    if condition == true\n",
    "        return \"The two functions are the same!\"\n",
    "    else \n",
    "        return \"The two functions are not the same!\"\n",
    "    end \n",
    "end\n",
    "\n",
    "# Call on `check()`\n",
    "check(condition)"
   ]
  },
  {
   "cell_type": "markdown",
   "metadata": {},
   "source": [
    "Or alternatively:"
   ]
  },
  {
   "cell_type": "code",
   "execution_count": 34,
   "metadata": {},
   "outputs": [
    {
     "data": {
      "text/plain": [
       "\"The two functions are the same!\""
      ]
     },
     "execution_count": 34,
     "metadata": {},
     "output_type": "execute_result"
    }
   ],
   "source": [
    "# Re-define function `check()\n",
    "function check(condition)\n",
    "    if condition == true \n",
    "        return \"The two functions are the same!\"\n",
    "    end \n",
    "    \"The two functions are not the same!\"\n",
    "end \n",
    "\n",
    "# Call on `check()`\n",
    "check(condition)"
   ]
  },
  {
   "cell_type": "markdown",
   "metadata": {},
   "source": [
    "Again -- in the case of simple functions such as the ones shown above, being super efficient is not necessary. \n",
    "\n",
    "But clunky code can make larger scripts hard to read, and potentially even run slow!"
   ]
  },
  {
   "cell_type": "markdown",
   "metadata": {},
   "source": [
    "Now let's talk math.\n",
    "\n",
    "Defining mathematical functions in Julia is easy.\n",
    "\n",
    "Let's define the polynomial mapping $f:\\mathbb{R} \\rightarrow \\mathbb{R}$ such that $f(x) = x^2 - 3x + 2$:"
   ]
  },
  {
   "cell_type": "code",
   "execution_count": 35,
   "metadata": {
    "scrolled": true
   },
   "outputs": [
    {
     "data": {
      "text/plain": [
       "f (generic function with 1 method)"
      ]
     },
     "execution_count": 35,
     "metadata": {},
     "output_type": "execute_result"
    }
   ],
   "source": [
    "f(x) = x^2 - 3x + 2"
   ]
  },
  {
   "cell_type": "markdown",
   "metadata": {},
   "source": [
    "Suppose we're interested in knowing the value of $f(\\pi)$:"
   ]
  },
  {
   "cell_type": "code",
   "execution_count": 36,
   "metadata": {},
   "outputs": [
    {
     "data": {
      "text/plain": [
       "2.4448264403199786"
      ]
     },
     "execution_count": 36,
     "metadata": {},
     "output_type": "execute_result"
    }
   ],
   "source": [
    "f(pi)"
   ]
  },
  {
   "cell_type": "markdown",
   "metadata": {},
   "source": [
    "Alternatively:"
   ]
  },
  {
   "cell_type": "code",
   "execution_count": 37,
   "metadata": {},
   "outputs": [
    {
     "data": {
      "text/plain": [
       "2.4448264403199786"
      ]
     },
     "execution_count": 37,
     "metadata": {},
     "output_type": "execute_result"
    }
   ],
   "source": [
    "f(π)"
   ]
  },
  {
   "cell_type": "markdown",
   "metadata": {},
   "source": [
    "There are a lot of details on user-defined functions that we haven't been able to cover here, but I think the above should be enough to get you started. \n",
    "\n",
    "Visit the official Julia manual section on [functions](https://docs.julialang.org/en/v1/manual/functions/) to learn more."
   ]
  },
  {
   "cell_type": "markdown",
   "metadata": {},
   "source": [
    "---"
   ]
  },
  {
   "cell_type": "markdown",
   "metadata": {},
   "source": [
    "## Loops"
   ]
  },
  {
   "cell_type": "markdown",
   "metadata": {},
   "source": [
    "Let's print every integer between 1 and 5 using a while loop:"
   ]
  },
  {
   "cell_type": "code",
   "execution_count": 38,
   "metadata": {},
   "outputs": [
    {
     "name": "stdout",
     "output_type": "stream",
     "text": [
      "1\n",
      "2\n",
      "3\n",
      "4\n",
      "5\n"
     ]
    }
   ],
   "source": [
    "# Initial value\n",
    "i = 1\n",
    "\n",
    "# While loop:\n",
    "while i <= 5 # Run until i = 5\n",
    "    println(i) # Print i\n",
    "    i = i + 1 # Add 1 to i for the next iteration of the loop\n",
    "end "
   ]
  },
  {
   "cell_type": "markdown",
   "metadata": {},
   "source": [
    "The above can be accomplished more easily using a for loop:"
   ]
  },
  {
   "cell_type": "code",
   "execution_count": 39,
   "metadata": {},
   "outputs": [
    {
     "name": "stdout",
     "output_type": "stream",
     "text": [
      "1\n",
      "2\n",
      "3\n",
      "4\n",
      "5\n"
     ]
    }
   ],
   "source": [
    "for i in 1:5 \n",
    "    println(i)\n",
    "end "
   ]
  },
  {
   "cell_type": "markdown",
   "metadata": {},
   "source": [
    "We can pass any kind of sequence to a for loop.\n",
    "\n",
    "For example, we can print the set of odd numbers between 1 and 5 by defining a sequence called `sequence` and then iterating the values of said sequence:"
   ]
  },
  {
   "cell_type": "code",
   "execution_count": 40,
   "metadata": {},
   "outputs": [
    {
     "name": "stdout",
     "output_type": "stream",
     "text": [
      "1.0\n",
      "3.0\n",
      "5.0\n"
     ]
    }
   ],
   "source": [
    "sequence = [1.0,3.0,5.0]\n",
    "\n",
    "for i in sequence \n",
    "    println(i)\n",
    "end "
   ]
  },
  {
   "cell_type": "markdown",
   "metadata": {},
   "source": [
    "What if we want to instead print the index associated with the entries of `sequence` instead of the entry values themselves?"
   ]
  },
  {
   "cell_type": "code",
   "execution_count": 41,
   "metadata": {},
   "outputs": [
    {
     "name": "stdout",
     "output_type": "stream",
     "text": [
      "1\n",
      "2\n",
      "3\n"
     ]
    }
   ],
   "source": [
    "for i in eachindex(sequence)\n",
    "    println(i)\n",
    "end "
   ]
  },
  {
   "cell_type": "markdown",
   "metadata": {},
   "source": [
    "Suppose we want to square all values of `sequence` and store it as a separate array called `seq_out`.\n",
    "\n",
    "We can accomplish this using a for loop that goes through each entry of `sequence`, squares it, and stores it as the corresponding entry of `seq_out`:"
   ]
  },
  {
   "cell_type": "code",
   "execution_count": 42,
   "metadata": {},
   "outputs": [
    {
     "data": {
      "text/plain": [
       "3-element Array{Float64,1}:\n",
       "  1.0\n",
       "  9.0\n",
       " 25.0"
      ]
     },
     "execution_count": 42,
     "metadata": {},
     "output_type": "execute_result"
    }
   ],
   "source": [
    "# Declare `seq_out` as a vector \n",
    "# w/ the same number of entries as `sequence`\n",
    "seq_out  = zeros(length(sequence))\n",
    "\n",
    "# Run a for-loop that goes through\n",
    "# the indexes of `sequence`\n",
    "for i in eachindex(sequence) \n",
    "    seq_out[i] = sequence[i]^2\n",
    "end \n",
    "\n",
    "# Print `seq_out`\n",
    "seq_out"
   ]
  },
  {
   "cell_type": "markdown",
   "metadata": {},
   "source": [
    "Alternatively, we can use a for loop in a **comprehension**:"
   ]
  },
  {
   "cell_type": "code",
   "execution_count": 43,
   "metadata": {},
   "outputs": [
    {
     "data": {
      "text/plain": [
       "3-element Array{Float64,1}:\n",
       "  1.0\n",
       "  9.0\n",
       " 25.0"
      ]
     },
     "execution_count": 43,
     "metadata": {},
     "output_type": "execute_result"
    }
   ],
   "source": [
    "seq_out = [sequence[i]^2 for i in eachindex(sequence)]"
   ]
  },
  {
   "cell_type": "markdown",
   "metadata": {},
   "source": [
    "Even better -- we can **broadcast** (remember this from last lab?) `^2` across `sequence`."
   ]
  },
  {
   "cell_type": "code",
   "execution_count": 44,
   "metadata": {},
   "outputs": [
    {
     "data": {
      "text/plain": [
       "3-element Array{Float64,1}:\n",
       "  1.0\n",
       "  9.0\n",
       " 25.0"
      ]
     },
     "execution_count": 44,
     "metadata": {},
     "output_type": "execute_result"
    }
   ],
   "source": [
    "seq_out = sequence.^2"
   ]
  },
  {
   "cell_type": "markdown",
   "metadata": {},
   "source": [
    "---"
   ]
  },
  {
   "cell_type": "markdown",
   "metadata": {},
   "source": [
    "## Linear Algebra"
   ]
  },
  {
   "cell_type": "markdown",
   "metadata": {},
   "source": [
    "First, we load up the `LinearAlgebra` package."
   ]
  },
  {
   "cell_type": "code",
   "execution_count": 45,
   "metadata": {},
   "outputs": [],
   "source": [
    "using LinearAlgebra"
   ]
  },
  {
   "cell_type": "markdown",
   "metadata": {},
   "source": [
    "Let's assume we have vectors $a_1 = (1, 2, 3)'$ and $a_2 = (4, 5, 6)'$.\n",
    "\n",
    "We start by defining these two column vectors:"
   ]
  },
  {
   "cell_type": "code",
   "execution_count": 46,
   "metadata": {},
   "outputs": [],
   "source": [
    "a_1 = [1; 2; 3]\n",
    "a_2 = [4, 5, 6];"
   ]
  },
  {
   "cell_type": "markdown",
   "metadata": {},
   "source": [
    "Recall that whether we use `;`'s or `,`'s to separate entries in single-entry arrays, we still get column vectors."
   ]
  },
  {
   "cell_type": "markdown",
   "metadata": {},
   "source": [
    "Obviously $a_1$ and $a_2$ do not span each other, but let's just check to be sure:"
   ]
  },
  {
   "cell_type": "code",
   "execution_count": 47,
   "metadata": {},
   "outputs": [
    {
     "data": {
      "text/plain": [
       "2-element Array{Float64,1}:\n",
       " -0.0\n",
       " -0.0"
      ]
     },
     "execution_count": 47,
     "metadata": {},
     "output_type": "execute_result"
    }
   ],
   "source": [
    "A = [a_1 a_2]\n",
    "b = A \\ zeros(3)"
   ]
  },
  {
   "cell_type": "markdown",
   "metadata": {},
   "source": [
    "Since the zero vector is the only solution for $x$ in $A \\, x = b$ where $A = [ a_1 a_2 ]$, then $a_1$ and $a_2$ must be linearly independent."
   ]
  },
  {
   "cell_type": "markdown",
   "metadata": {},
   "source": [
    "Find the dot product of $a_1$ and $a_2$:"
   ]
  },
  {
   "cell_type": "code",
   "execution_count": 48,
   "metadata": {},
   "outputs": [
    {
     "data": {
      "text/plain": [
       "32"
      ]
     },
     "execution_count": 48,
     "metadata": {},
     "output_type": "execute_result"
    }
   ],
   "source": [
    "a_1' * a_2"
   ]
  },
  {
   "cell_type": "markdown",
   "metadata": {},
   "source": [
    "Alternatively:"
   ]
  },
  {
   "cell_type": "code",
   "execution_count": 49,
   "metadata": {},
   "outputs": [
    {
     "data": {
      "text/plain": [
       "32"
      ]
     },
     "execution_count": 49,
     "metadata": {},
     "output_type": "execute_result"
    }
   ],
   "source": [
    "dot(a_1, a_2)"
   ]
  },
  {
   "cell_type": "markdown",
   "metadata": {},
   "source": [
    "Now let's find $a_1 a_2'$:"
   ]
  },
  {
   "cell_type": "code",
   "execution_count": 50,
   "metadata": {},
   "outputs": [
    {
     "data": {
      "text/plain": [
       "3×3 Array{Int64,2}:\n",
       "  4   5   6\n",
       "  8  10  12\n",
       " 12  15  18"
      ]
     },
     "execution_count": 50,
     "metadata": {},
     "output_type": "execute_result"
    }
   ],
   "source": [
    "a_1 * a_2'"
   ]
  },
  {
   "cell_type": "markdown",
   "metadata": {},
   "source": [
    "Now let's add the two vectors:"
   ]
  },
  {
   "cell_type": "code",
   "execution_count": 51,
   "metadata": {},
   "outputs": [
    {
     "data": {
      "text/plain": [
       "3-element Array{Int64,1}:\n",
       " 5\n",
       " 7\n",
       " 9"
      ]
     },
     "execution_count": 51,
     "metadata": {},
     "output_type": "execute_result"
    }
   ],
   "source": [
    "a_1 + a_2 "
   ]
  },
  {
   "cell_type": "markdown",
   "metadata": {},
   "source": [
    "Subtract $a_2$ from $a_1$:"
   ]
  },
  {
   "cell_type": "code",
   "execution_count": 52,
   "metadata": {},
   "outputs": [
    {
     "data": {
      "text/plain": [
       "3-element Array{Int64,1}:\n",
       " -3\n",
       " -3\n",
       " -3"
      ]
     },
     "execution_count": 52,
     "metadata": {},
     "output_type": "execute_result"
    }
   ],
   "source": [
    "a_1 - a_2 "
   ]
  },
  {
   "cell_type": "markdown",
   "metadata": {},
   "source": [
    "Let's scale vector $a_1$ by 3:"
   ]
  },
  {
   "cell_type": "code",
   "execution_count": 53,
   "metadata": {},
   "outputs": [
    {
     "data": {
      "text/plain": [
       "3-element Array{Int64,1}:\n",
       " 3\n",
       " 6\n",
       " 9"
      ]
     },
     "execution_count": 53,
     "metadata": {},
     "output_type": "execute_result"
    }
   ],
   "source": [
    "3a_1 "
   ]
  },
  {
   "cell_type": "markdown",
   "metadata": {},
   "source": [
    "Equivalently:"
   ]
  },
  {
   "cell_type": "code",
   "execution_count": 54,
   "metadata": {},
   "outputs": [
    {
     "data": {
      "text/plain": [
       "3-element Array{Int64,1}:\n",
       " 3\n",
       " 6\n",
       " 9"
      ]
     },
     "execution_count": 54,
     "metadata": {},
     "output_type": "execute_result"
    }
   ],
   "source": [
    "3 * a_1 "
   ]
  },
  {
   "cell_type": "markdown",
   "metadata": {},
   "source": [
    "Equivalently:"
   ]
  },
  {
   "cell_type": "code",
   "execution_count": 55,
   "metadata": {},
   "outputs": [
    {
     "data": {
      "text/plain": [
       "3-element Array{Int64,1}:\n",
       " 3\n",
       " 6\n",
       " 9"
      ]
     },
     "execution_count": 55,
     "metadata": {},
     "output_type": "execute_result"
    }
   ],
   "source": [
    "3 .* a_1"
   ]
  },
  {
   "cell_type": "markdown",
   "metadata": {},
   "source": [
    "The norm of vector $a_1$:"
   ]
  },
  {
   "cell_type": "code",
   "execution_count": 56,
   "metadata": {},
   "outputs": [
    {
     "data": {
      "text/plain": [
       "3.7416573867739413"
      ]
     },
     "execution_count": 56,
     "metadata": {},
     "output_type": "execute_result"
    }
   ],
   "source": [
    "norm(a_1)"
   ]
  },
  {
   "cell_type": "markdown",
   "metadata": {},
   "source": [
    "Since $a_1$ and $a_2$ cannot span $\\mathbb{R}^3$, we can find another orthogonal vector $a_3$.\n",
    "\n",
    "Is $a_3 = a_1 + a_2$ orthogonal? (Obviously not, by definition, but let's practice checking)"
   ]
  },
  {
   "cell_type": "code",
   "execution_count": 57,
   "metadata": {},
   "outputs": [
    {
     "data": {
      "text/plain": [
       "2-element Array{Float64,1}:\n",
       " 0.9999999999999979\n",
       " 1.000000000000001"
      ]
     },
     "execution_count": 57,
     "metadata": {},
     "output_type": "execute_result"
    }
   ],
   "source": [
    "a_3 = a_1 + a_2\n",
    "b = A \\ a_3 "
   ]
  },
  {
   "cell_type": "markdown",
   "metadata": {},
   "source": [
    "Since there exists a non-trivial solution to $x$ in $[a_1 \\, a_2] \\, x = A \\, x = a_3$, then $a_3$ is not linearly independent. "
   ]
  },
  {
   "cell_type": "markdown",
   "metadata": {},
   "source": [
    "We can find a linearly independent $a_3$ by guessing some initial vector $b_3$, projecting it onto the columns of $A$ to obtain the projection $\\hat{b}_3$, and then extracting the orthogonal $a_3 = b_3 - \\hat{b}_3$:"
   ]
  },
  {
   "cell_type": "code",
   "execution_count": 58,
   "metadata": {},
   "outputs": [
    {
     "data": {
      "text/plain": [
       "3-element Array{Float64,1}:\n",
       " -8.881784197001252e-16\n",
       " -1.3322676295501878e-15\n",
       "  2.6645352591003757e-15"
      ]
     },
     "execution_count": 58,
     "metadata": {},
     "output_type": "execute_result"
    }
   ],
   "source": [
    "b_3 = [2, 3, 4]\n",
    "a_3 = b_3 - (A * inv(A'A) * A' * b_3)\n",
    "a_3"
   ]
  },
  {
   "cell_type": "markdown",
   "metadata": {},
   "source": [
    "Now let's check whether $a_3$ is actually linearly independent by redefining $A$ as $A = [a_1 \\, a_2 \\, a_3]$ and solving for $x$ in $A \\, x = 0$:"
   ]
  },
  {
   "cell_type": "code",
   "execution_count": 59,
   "metadata": {},
   "outputs": [
    {
     "data": {
      "text/plain": [
       "3-element Array{Float64,1}:\n",
       "  0.0\n",
       "  0.0\n",
       " -0.0"
      ]
     },
     "execution_count": 59,
     "metadata": {},
     "output_type": "execute_result"
    }
   ],
   "source": [
    "A = [a_1 a_2 a_3]\n",
    "A \\ zeros(3)"
   ]
  },
  {
   "cell_type": "markdown",
   "metadata": {},
   "source": [
    "Since the only solution for $x$ in $A \\, x = 0$ is the trivial solution, then $A$ must be full-rank."
   ]
  },
  {
   "cell_type": "markdown",
   "metadata": {},
   "source": [
    "Now let's check the eigenvalues and eigenvectors of $A$:"
   ]
  },
  {
   "cell_type": "code",
   "execution_count": 60,
   "metadata": {},
   "outputs": [],
   "source": [
    "eigenv_A, eigenvec_A = eigen(A);"
   ]
  },
  {
   "cell_type": "code",
   "execution_count": 61,
   "metadata": {},
   "outputs": [
    {
     "data": {
      "text/plain": [
       "3-element Array{Float64,1}:\n",
       " -0.4641016151377548\n",
       "  4.440892098500625e-15\n",
       "  6.464101615137752"
      ]
     },
     "execution_count": 61,
     "metadata": {},
     "output_type": "execute_result"
    }
   ],
   "source": [
    "eigenv_A"
   ]
  },
  {
   "cell_type": "code",
   "execution_count": 62,
   "metadata": {},
   "outputs": [
    {
     "data": {
      "text/plain": [
       "3×3 Array{Float64,2}:\n",
       " -0.491831  2.96059e-16  -0.412884\n",
       "  0.180023  1.4803e-16   -0.56401\n",
       "  0.851877  1.0          -0.715136"
      ]
     },
     "execution_count": 62,
     "metadata": {},
     "output_type": "execute_result"
    }
   ],
   "source": [
    "eigenvec_A"
   ]
  },
  {
   "cell_type": "markdown",
   "metadata": {},
   "source": [
    "---"
   ]
  },
  {
   "cell_type": "markdown",
   "metadata": {},
   "source": [
    "## Finite Markov Chains"
   ]
  },
  {
   "cell_type": "markdown",
   "metadata": {},
   "source": [
    "Suppose that for a Markov process with three states we are given an initial state distribution and a stochastic matrix. \n",
    "\n",
    "We are told to compute the state density in 10 periods (at $t=10$).\n",
    "\n",
    "The given initial distribution is $P_0 = (1/3, 1/3, 1/3)'$, while the stochastic matrix is \n",
    "\n",
    "$$M = \\begin{bmatrix} 0.95 & 0.05 & 0 \\\\ 0.15 & 0.75 & 0.1 \\\\ 0 & 0.5 & 0.5 \\end{bmatrix} \\, .$$ "
   ]
  },
  {
   "cell_type": "code",
   "execution_count": 64,
   "metadata": {},
   "outputs": [
    {
     "data": {
      "text/plain": [
       "3-element Array{Float64,1}:\n",
       " 0.6415045988833332\n",
       " 0.2941181890520833\n",
       " 0.06437721206458333"
      ]
     },
     "execution_count": 64,
     "metadata": {},
     "output_type": "execute_result"
    }
   ],
   "source": [
    "# Define initial state distr.\n",
    "P0 = [1/3, 1/3, 1/3]\n",
    "\n",
    "# Define stochastic matrix\n",
    "M = [0.95 0.05 0 ; 0.15 0.75 0.1 ; 0.0 0.5 0.5]\n",
    "\n",
    "# Compute state distr. at t = 10\n",
    "P10 = (P0' * M^(10))'"
   ]
  },
  {
   "cell_type": "markdown",
   "metadata": {},
   "source": [
    "More generally, what if we're interested in computing the state density for a variety of $n \\in \\mathbb{N}$ periods? \n",
    "\n",
    "This is when writing custom functions comes in handy!\n",
    "\n",
    "Let's create a function named `markov_chain` with inputs for $P_0$, $M$, and $n$:"
   ]
  },
  {
   "cell_type": "code",
   "execution_count": 65,
   "metadata": {},
   "outputs": [
    {
     "data": {
      "text/plain": [
       "markov_chain (generic function with 1 method)"
      ]
     },
     "execution_count": 65,
     "metadata": {},
     "output_type": "execute_result"
    }
   ],
   "source": [
    "function markov_chain(P0, M, n)\n",
    "    \n",
    "    # Start by creating a copy of P0\n",
    "    # to later feed into the loop\n",
    "    P = copy(P0) \n",
    "    \n",
    "    # Run a loop that computes\n",
    "    # P n-steps ahead\n",
    "    for i in 1:n \n",
    "        new_P = (P' * M)'\n",
    "        P = new_P\n",
    "    end \n",
    "    \n",
    "    # Return the final state distr.\n",
    "    return P\n",
    "\n",
    "end     "
   ]
  },
  {
   "cell_type": "markdown",
   "metadata": {},
   "source": [
    "We can now try our new function out using the previously-defined `P0` and `M` with `n` set to 10:"
   ]
  },
  {
   "cell_type": "code",
   "execution_count": 66,
   "metadata": {},
   "outputs": [
    {
     "data": {
      "text/plain": [
       "3-element Array{Float64,1}:\n",
       " 0.641504598883333\n",
       " 0.29411818905208326\n",
       " 0.06437721206458331"
      ]
     },
     "execution_count": 66,
     "metadata": {},
     "output_type": "execute_result"
    }
   ],
   "source": [
    "markov_chain(P0, M, 10)"
   ]
  },
  {
   "cell_type": "markdown",
   "metadata": {},
   "source": [
    "Does this match `P10`?"
   ]
  },
  {
   "cell_type": "code",
   "execution_count": 67,
   "metadata": {},
   "outputs": [
    {
     "data": {
      "text/plain": [
       "true"
      ]
     },
     "execution_count": 67,
     "metadata": {},
     "output_type": "execute_result"
    }
   ],
   "source": [
    "markov_chain(P0, M, 10) ≈ P10"
   ]
  },
  {
   "cell_type": "markdown",
   "metadata": {},
   "source": [
    "It does!\n",
    "\n",
    "We can now use this function to do a whole bunch of useful things.\n",
    "\n",
    "For example, given the same $P_0$ and $M$, we can now create a list of $P_n$ for $n = 1,2,\\ldots,20$:"
   ]
  },
  {
   "cell_type": "code",
   "execution_count": 76,
   "metadata": {},
   "outputs": [],
   "source": [
    "probabilities = [markov_chain(P0, M, n) for n in 1:20];"
   ]
  },
  {
   "cell_type": "markdown",
   "metadata": {},
   "source": [
    "We may visualize the probability of each state across time by gathering and plotting the corresponding series for all three states:"
   ]
  },
  {
   "cell_type": "code",
   "execution_count": 77,
   "metadata": {},
   "outputs": [],
   "source": [
    "state1 = zeros(20)\n",
    "state2 = zeros(20)\n",
    "state3 = zeros(20)\n",
    "\n",
    "for i in 1:20\n",
    "    state1[i] = probabilities[i][1]\n",
    "    state2[i] = probabilities[i][2]\n",
    "    state3[i] = probabilities[i][3]\n",
    "end "
   ]
  },
  {
   "cell_type": "markdown",
   "metadata": {},
   "source": [
    "Let's load the `Plots` package to make a couple of plots."
   ]
  },
  {
   "cell_type": "code",
   "execution_count": 78,
   "metadata": {},
   "outputs": [],
   "source": [
    "using Plots"
   ]
  },
  {
   "cell_type": "markdown",
   "metadata": {},
   "source": [
    "First, let's make a simple plot that contains all series:"
   ]
  },
  {
   "cell_type": "code",
   "execution_count": 79,
   "metadata": {},
   "outputs": [
    {
     "data": {
      "image/svg+xml": [
       "<?xml version=\"1.0\" encoding=\"utf-8\"?>\n",
       "<svg xmlns=\"http://www.w3.org/2000/svg\" xmlns:xlink=\"http://www.w3.org/1999/xlink\" width=\"600\" height=\"400\" viewBox=\"0 0 2400 1600\">\n",
       "<defs>\n",
       "  <clipPath id=\"clip000\">\n",
       "    <rect x=\"0\" y=\"0\" width=\"2400\" height=\"1600\"/>\n",
       "  </clipPath>\n",
       "</defs>\n",
       "<path clip-path=\"url(#clip000)\" d=\"\n",
       "M0 1600 L2400 1600 L2400 0 L0 0  Z\n",
       "  \" fill=\"#ffffff\" fill-rule=\"evenodd\" fill-opacity=\"1\"/>\n",
       "<defs>\n",
       "  <clipPath id=\"clip001\">\n",
       "    <rect x=\"480\" y=\"0\" width=\"1681\" height=\"1600\"/>\n",
       "  </clipPath>\n",
       "</defs>\n",
       "<path clip-path=\"url(#clip000)\" d=\"\n",
       "M148.334 1486.45 L2352.76 1486.45 L2352.76 47.2441 L148.334 47.2441  Z\n",
       "  \" fill=\"#ffffff\" fill-rule=\"evenodd\" fill-opacity=\"1\"/>\n",
       "<defs>\n",
       "  <clipPath id=\"clip002\">\n",
       "    <rect x=\"148\" y=\"47\" width=\"2205\" height=\"1440\"/>\n",
       "  </clipPath>\n",
       "</defs>\n",
       "<polyline clip-path=\"url(#clip002)\" style=\"stroke:#000000; stroke-width:2; stroke-opacity:0.1; fill:none\" points=\"\n",
       "  648.543,1486.45 648.543,47.2441 \n",
       "  \"/>\n",
       "<polyline clip-path=\"url(#clip002)\" style=\"stroke:#000000; stroke-width:2; stroke-opacity:0.1; fill:none\" points=\"\n",
       "  1195.82,1486.45 1195.82,47.2441 \n",
       "  \"/>\n",
       "<polyline clip-path=\"url(#clip002)\" style=\"stroke:#000000; stroke-width:2; stroke-opacity:0.1; fill:none\" points=\"\n",
       "  1743.09,1486.45 1743.09,47.2441 \n",
       "  \"/>\n",
       "<polyline clip-path=\"url(#clip002)\" style=\"stroke:#000000; stroke-width:2; stroke-opacity:0.1; fill:none\" points=\"\n",
       "  2290.37,1486.45 2290.37,47.2441 \n",
       "  \"/>\n",
       "<polyline clip-path=\"url(#clip000)\" style=\"stroke:#000000; stroke-width:4; stroke-opacity:1; fill:none\" points=\"\n",
       "  148.334,1486.45 2352.76,1486.45 \n",
       "  \"/>\n",
       "<polyline clip-path=\"url(#clip000)\" style=\"stroke:#000000; stroke-width:4; stroke-opacity:1; fill:none\" points=\"\n",
       "  648.543,1486.45 648.543,1469.18 \n",
       "  \"/>\n",
       "<polyline clip-path=\"url(#clip000)\" style=\"stroke:#000000; stroke-width:4; stroke-opacity:1; fill:none\" points=\"\n",
       "  1195.82,1486.45 1195.82,1469.18 \n",
       "  \"/>\n",
       "<polyline clip-path=\"url(#clip000)\" style=\"stroke:#000000; stroke-width:4; stroke-opacity:1; fill:none\" points=\"\n",
       "  1743.09,1486.45 1743.09,1469.18 \n",
       "  \"/>\n",
       "<polyline clip-path=\"url(#clip000)\" style=\"stroke:#000000; stroke-width:4; stroke-opacity:1; fill:none\" points=\"\n",
       "  2290.37,1486.45 2290.37,1469.18 \n",
       "  \"/>\n",
       "<path clip-path=\"url(#clip000)\" d=\"M 0 0 M638.821 1512.56 L657.177 1512.56 L657.177 1516.5 L643.103 1516.5 L643.103 1524.97 Q644.122 1524.62 645.14 1524.46 Q646.159 1524.27 647.178 1524.27 Q652.965 1524.27 656.344 1527.44 Q659.724 1530.62 659.724 1536.03 Q659.724 1541.61 656.252 1544.71 Q652.779 1547.79 646.46 1547.79 Q644.284 1547.79 642.016 1547.42 Q639.77 1547.05 637.363 1546.31 L637.363 1541.61 Q639.446 1542.74 641.668 1543.3 Q643.89 1543.86 646.367 1543.86 Q650.372 1543.86 652.71 1541.75 Q655.048 1539.64 655.048 1536.03 Q655.048 1532.42 652.71 1530.31 Q650.372 1528.21 646.367 1528.21 Q644.492 1528.21 642.617 1528.62 Q640.766 1529.04 638.821 1529.92 L638.821 1512.56 Z\" fill=\"#000000\" fill-rule=\"evenodd\" fill-opacity=\"1\" /><path clip-path=\"url(#clip000)\" d=\"M 0 0 M1172.69 1543.18 L1180.33 1543.18 L1180.33 1516.82 L1172.02 1518.49 L1172.02 1514.23 L1180.29 1512.56 L1184.96 1512.56 L1184.96 1543.18 L1192.6 1543.18 L1192.6 1547.12 L1172.69 1547.12 L1172.69 1543.18 Z\" fill=\"#000000\" fill-rule=\"evenodd\" fill-opacity=\"1\" /><path clip-path=\"url(#clip000)\" d=\"M 0 0 M1207.67 1515.64 Q1204.06 1515.64 1202.23 1519.2 Q1200.42 1522.75 1200.42 1529.87 Q1200.42 1536.98 1202.23 1540.55 Q1204.06 1544.09 1207.67 1544.09 Q1211.3 1544.09 1213.11 1540.55 Q1214.94 1536.98 1214.94 1529.87 Q1214.94 1522.75 1213.11 1519.2 Q1211.3 1515.64 1207.67 1515.64 M1207.67 1511.93 Q1213.48 1511.93 1216.54 1516.54 Q1219.61 1521.12 1219.61 1529.87 Q1219.61 1538.6 1216.54 1543.21 Q1213.48 1547.79 1207.67 1547.79 Q1201.86 1547.79 1198.78 1543.21 Q1195.73 1538.6 1195.73 1529.87 Q1195.73 1521.12 1198.78 1516.54 Q1201.86 1511.93 1207.67 1511.93 Z\" fill=\"#000000\" fill-rule=\"evenodd\" fill-opacity=\"1\" /><path clip-path=\"url(#clip000)\" d=\"M 0 0 M1720.46 1543.18 L1728.1 1543.18 L1728.1 1516.82 L1719.79 1518.49 L1719.79 1514.23 L1728.06 1512.56 L1732.73 1512.56 L1732.73 1543.18 L1740.37 1543.18 L1740.37 1547.12 L1720.46 1547.12 L1720.46 1543.18 Z\" fill=\"#000000\" fill-rule=\"evenodd\" fill-opacity=\"1\" /><path clip-path=\"url(#clip000)\" d=\"M 0 0 M1745.49 1512.56 L1763.84 1512.56 L1763.84 1516.5 L1749.77 1516.5 L1749.77 1524.97 Q1750.79 1524.62 1751.81 1524.46 Q1752.83 1524.27 1753.84 1524.27 Q1759.63 1524.27 1763.01 1527.44 Q1766.39 1530.62 1766.39 1536.03 Q1766.39 1541.61 1762.92 1544.71 Q1759.45 1547.79 1753.13 1547.79 Q1750.95 1547.79 1748.68 1547.42 Q1746.44 1547.05 1744.03 1546.31 L1744.03 1541.61 Q1746.11 1542.74 1748.34 1543.3 Q1750.56 1543.86 1753.03 1543.86 Q1757.04 1543.86 1759.38 1541.75 Q1761.71 1539.64 1761.71 1536.03 Q1761.71 1532.42 1759.38 1530.31 Q1757.04 1528.21 1753.03 1528.21 Q1751.16 1528.21 1749.28 1528.62 Q1747.43 1529.04 1745.49 1529.92 L1745.49 1512.56 Z\" fill=\"#000000\" fill-rule=\"evenodd\" fill-opacity=\"1\" /><path clip-path=\"url(#clip000)\" d=\"M 0 0 M2271.51 1543.18 L2287.83 1543.18 L2287.83 1547.12 L2265.89 1547.12 L2265.89 1543.18 Q2268.55 1540.43 2273.13 1535.8 Q2277.74 1531.15 2278.92 1529.81 Q2281.17 1527.28 2282.04 1525.55 Q2282.95 1523.79 2282.95 1522.1 Q2282.95 1519.34 2281 1517.61 Q2279.08 1515.87 2275.98 1515.87 Q2273.78 1515.87 2271.33 1516.63 Q2268.9 1517.4 2266.12 1518.95 L2266.12 1514.23 Q2268.94 1513.09 2271.4 1512.51 Q2273.85 1511.93 2275.89 1511.93 Q2281.26 1511.93 2284.45 1514.62 Q2287.65 1517.31 2287.65 1521.8 Q2287.65 1523.93 2286.84 1525.85 Q2286.05 1527.74 2283.94 1530.34 Q2283.36 1531.01 2280.26 1534.23 Q2277.16 1537.42 2271.51 1543.18 Z\" fill=\"#000000\" fill-rule=\"evenodd\" fill-opacity=\"1\" /><path clip-path=\"url(#clip000)\" d=\"M 0 0 M2302.9 1515.64 Q2299.29 1515.64 2297.46 1519.2 Q2295.66 1522.75 2295.66 1529.87 Q2295.66 1536.98 2297.46 1540.55 Q2299.29 1544.09 2302.9 1544.09 Q2306.54 1544.09 2308.34 1540.55 Q2310.17 1536.98 2310.17 1529.87 Q2310.17 1522.75 2308.34 1519.2 Q2306.54 1515.64 2302.9 1515.64 M2302.9 1511.93 Q2308.71 1511.93 2311.77 1516.54 Q2314.85 1521.12 2314.85 1529.87 Q2314.85 1538.6 2311.77 1543.21 Q2308.71 1547.79 2302.9 1547.79 Q2297.09 1547.79 2294.01 1543.21 Q2290.96 1538.6 2290.96 1529.87 Q2290.96 1521.12 2294.01 1516.54 Q2297.09 1511.93 2302.9 1511.93 Z\" fill=\"#000000\" fill-rule=\"evenodd\" fill-opacity=\"1\" /><polyline clip-path=\"url(#clip002)\" style=\"stroke:#000000; stroke-width:2; stroke-opacity:0.1; fill:none\" points=\"\n",
       "  148.334,1342.35 2352.76,1342.35 \n",
       "  \"/>\n",
       "<polyline clip-path=\"url(#clip002)\" style=\"stroke:#000000; stroke-width:2; stroke-opacity:0.1; fill:none\" points=\"\n",
       "  148.334,1134.11 2352.76,1134.11 \n",
       "  \"/>\n",
       "<polyline clip-path=\"url(#clip002)\" style=\"stroke:#000000; stroke-width:2; stroke-opacity:0.1; fill:none\" points=\"\n",
       "  148.334,925.865 2352.76,925.865 \n",
       "  \"/>\n",
       "<polyline clip-path=\"url(#clip002)\" style=\"stroke:#000000; stroke-width:2; stroke-opacity:0.1; fill:none\" points=\"\n",
       "  148.334,717.623 2352.76,717.623 \n",
       "  \"/>\n",
       "<polyline clip-path=\"url(#clip002)\" style=\"stroke:#000000; stroke-width:2; stroke-opacity:0.1; fill:none\" points=\"\n",
       "  148.334,509.38 2352.76,509.38 \n",
       "  \"/>\n",
       "<polyline clip-path=\"url(#clip002)\" style=\"stroke:#000000; stroke-width:2; stroke-opacity:0.1; fill:none\" points=\"\n",
       "  148.334,301.138 2352.76,301.138 \n",
       "  \"/>\n",
       "<polyline clip-path=\"url(#clip002)\" style=\"stroke:#000000; stroke-width:2; stroke-opacity:0.1; fill:none\" points=\"\n",
       "  148.334,92.8953 2352.76,92.8953 \n",
       "  \"/>\n",
       "<polyline clip-path=\"url(#clip000)\" style=\"stroke:#000000; stroke-width:4; stroke-opacity:1; fill:none\" points=\"\n",
       "  148.334,1486.45 148.334,47.2441 \n",
       "  \"/>\n",
       "<polyline clip-path=\"url(#clip000)\" style=\"stroke:#000000; stroke-width:4; stroke-opacity:1; fill:none\" points=\"\n",
       "  148.334,1342.35 174.787,1342.35 \n",
       "  \"/>\n",
       "<polyline clip-path=\"url(#clip000)\" style=\"stroke:#000000; stroke-width:4; stroke-opacity:1; fill:none\" points=\"\n",
       "  148.334,1134.11 174.787,1134.11 \n",
       "  \"/>\n",
       "<polyline clip-path=\"url(#clip000)\" style=\"stroke:#000000; stroke-width:4; stroke-opacity:1; fill:none\" points=\"\n",
       "  148.334,925.865 174.787,925.865 \n",
       "  \"/>\n",
       "<polyline clip-path=\"url(#clip000)\" style=\"stroke:#000000; stroke-width:4; stroke-opacity:1; fill:none\" points=\"\n",
       "  148.334,717.623 174.787,717.623 \n",
       "  \"/>\n",
       "<polyline clip-path=\"url(#clip000)\" style=\"stroke:#000000; stroke-width:4; stroke-opacity:1; fill:none\" points=\"\n",
       "  148.334,509.38 174.787,509.38 \n",
       "  \"/>\n",
       "<polyline clip-path=\"url(#clip000)\" style=\"stroke:#000000; stroke-width:4; stroke-opacity:1; fill:none\" points=\"\n",
       "  148.334,301.138 174.787,301.138 \n",
       "  \"/>\n",
       "<polyline clip-path=\"url(#clip000)\" style=\"stroke:#000000; stroke-width:4; stroke-opacity:1; fill:none\" points=\"\n",
       "  148.334,92.8953 174.787,92.8953 \n",
       "  \"/>\n",
       "<path clip-path=\"url(#clip000)\" d=\"M 0 0 M64.6495 1328.15 Q61.0384 1328.15 59.2097 1331.71 Q57.4041 1335.26 57.4041 1342.39 Q57.4041 1349.49 59.2097 1353.06 Q61.0384 1356.6 64.6495 1356.6 Q68.2837 1356.6 70.0892 1353.06 Q71.9179 1349.49 71.9179 1342.39 Q71.9179 1335.26 70.0892 1331.71 Q68.2837 1328.15 64.6495 1328.15 M64.6495 1324.45 Q70.4596 1324.45 73.5152 1329.05 Q76.5938 1333.64 76.5938 1342.39 Q76.5938 1351.11 73.5152 1355.72 Q70.4596 1360.3 64.6495 1360.3 Q58.8393 1360.3 55.7606 1355.72 Q52.7051 1351.11 52.7051 1342.39 Q52.7051 1333.64 55.7606 1329.05 Q58.8393 1324.45 64.6495 1324.45 Z\" fill=\"#000000\" fill-rule=\"evenodd\" fill-opacity=\"1\" /><path clip-path=\"url(#clip000)\" d=\"M 0 0 M81.6633 1353.75 L86.5475 1353.75 L86.5475 1359.63 L81.6633 1359.63 L81.6633 1353.75 Z\" fill=\"#000000\" fill-rule=\"evenodd\" fill-opacity=\"1\" /><path clip-path=\"url(#clip000)\" d=\"M 0 0 M92.4271 1355.7 L100.066 1355.7 L100.066 1329.33 L91.7558 1331 L91.7558 1326.74 L100.02 1325.07 L104.696 1325.07 L104.696 1355.7 L112.334 1355.7 L112.334 1359.63 L92.4271 1359.63 L92.4271 1355.7 Z\" fill=\"#000000\" fill-rule=\"evenodd\" fill-opacity=\"1\" /><path clip-path=\"url(#clip000)\" d=\"M 0 0 M65.0198 1119.91 Q61.4087 1119.91 59.58 1123.47 Q57.7745 1127.01 57.7745 1134.14 Q57.7745 1141.25 59.58 1144.81 Q61.4087 1148.36 65.0198 1148.36 Q68.6541 1148.36 70.4596 1144.81 Q72.2883 1141.25 72.2883 1134.14 Q72.2883 1127.01 70.4596 1123.47 Q68.6541 1119.91 65.0198 1119.91 M65.0198 1116.2 Q70.83 1116.2 73.8855 1120.81 Q76.9642 1125.39 76.9642 1134.14 Q76.9642 1142.87 73.8855 1147.48 Q70.83 1152.06 65.0198 1152.06 Q59.2097 1152.06 56.131 1147.48 Q53.0754 1142.87 53.0754 1134.14 Q53.0754 1125.39 56.131 1120.81 Q59.2097 1116.2 65.0198 1116.2 Z\" fill=\"#000000\" fill-rule=\"evenodd\" fill-opacity=\"1\" /><path clip-path=\"url(#clip000)\" d=\"M 0 0 M82.0336 1145.51 L86.9179 1145.51 L86.9179 1151.39 L82.0336 1151.39 L82.0336 1145.51 Z\" fill=\"#000000\" fill-rule=\"evenodd\" fill-opacity=\"1\" /><path clip-path=\"url(#clip000)\" d=\"M 0 0 M96.015 1147.45 L112.334 1147.45 L112.334 1151.39 L90.3901 1151.39 L90.3901 1147.45 Q93.0521 1144.7 97.6354 1140.07 Q102.242 1135.42 103.422 1134.07 Q105.668 1131.55 106.547 1129.81 Q107.45 1128.05 107.45 1126.37 Q107.45 1123.61 105.506 1121.87 Q103.584 1120.14 100.483 1120.14 Q98.2835 1120.14 95.8298 1120.9 Q93.3993 1121.67 90.6215 1123.22 L90.6215 1118.49 Q93.4456 1117.36 95.8993 1116.78 Q98.353 1116.2 100.39 1116.2 Q105.76 1116.2 108.955 1118.89 Q112.149 1121.57 112.149 1126.06 Q112.149 1128.19 111.339 1130.12 Q110.552 1132.01 108.446 1134.61 Q107.867 1135.28 104.765 1138.49 Q101.663 1141.69 96.015 1147.45 Z\" fill=\"#000000\" fill-rule=\"evenodd\" fill-opacity=\"1\" /><path clip-path=\"url(#clip000)\" d=\"M 0 0 M64.0708 911.664 Q60.4597 911.664 58.631 915.229 Q56.8254 918.771 56.8254 925.9 Q56.8254 933.007 58.631 936.571 Q60.4597 940.113 64.0708 940.113 Q67.705 940.113 69.5105 936.571 Q71.3392 933.007 71.3392 925.9 Q71.3392 918.771 69.5105 915.229 Q67.705 911.664 64.0708 911.664 M64.0708 907.96 Q69.8809 907.96 72.9365 912.567 Q76.0151 917.15 76.0151 925.9 Q76.0151 934.627 72.9365 939.233 Q69.8809 943.817 64.0708 943.817 Q58.2606 943.817 55.1819 939.233 Q52.1264 934.627 52.1264 925.9 Q52.1264 917.15 55.1819 912.567 Q58.2606 907.96 64.0708 907.96 Z\" fill=\"#000000\" fill-rule=\"evenodd\" fill-opacity=\"1\" /><path clip-path=\"url(#clip000)\" d=\"M 0 0 M81.0846 937.266 L85.9688 937.266 L85.9688 943.145 L81.0846 943.145 L81.0846 937.266 Z\" fill=\"#000000\" fill-rule=\"evenodd\" fill-opacity=\"1\" /><path clip-path=\"url(#clip000)\" d=\"M 0 0 M105.205 924.511 Q108.561 925.229 110.436 927.497 Q112.334 929.766 112.334 933.099 Q112.334 938.215 108.816 941.016 Q105.297 943.817 98.8159 943.817 Q96.64 943.817 94.3252 943.377 Q92.0336 942.96 89.5799 942.104 L89.5799 937.59 Q91.5243 938.724 93.8391 939.303 Q96.1539 939.882 98.6771 939.882 Q103.075 939.882 105.367 938.146 Q107.682 936.409 107.682 933.099 Q107.682 930.044 105.529 928.331 Q103.399 926.595 99.5798 926.595 L95.5521 926.595 L95.5521 922.752 L99.765 922.752 Q103.214 922.752 105.043 921.386 Q106.871 919.997 106.871 917.405 Q106.871 914.743 104.973 913.331 Q103.098 911.896 99.5798 911.896 Q97.6585 911.896 95.4595 912.312 Q93.2604 912.729 90.6215 913.609 L90.6215 909.442 Q93.2836 908.701 95.5984 908.331 Q97.9363 907.96 99.9965 907.96 Q105.321 907.96 108.422 910.391 Q111.524 912.798 111.524 916.919 Q111.524 919.789 109.881 921.78 Q108.237 923.747 105.205 924.511 Z\" fill=\"#000000\" fill-rule=\"evenodd\" fill-opacity=\"1\" /><path clip-path=\"url(#clip000)\" d=\"M 0 0 M62.9365 703.422 Q59.3254 703.422 57.4967 706.986 Q55.6912 710.528 55.6912 717.658 Q55.6912 724.764 57.4967 728.329 Q59.3254 731.871 62.9365 731.871 Q66.5707 731.871 68.3763 728.329 Q70.205 724.764 70.205 717.658 Q70.205 710.528 68.3763 706.986 Q66.5707 703.422 62.9365 703.422 M62.9365 699.718 Q68.7467 699.718 71.8022 704.324 Q74.8809 708.908 74.8809 717.658 Q74.8809 726.384 71.8022 730.991 Q68.7467 735.574 62.9365 735.574 Q57.1264 735.574 54.0477 730.991 Q50.9921 726.384 50.9921 717.658 Q50.9921 708.908 54.0477 704.324 Q57.1264 699.718 62.9365 699.718 Z\" fill=\"#000000\" fill-rule=\"evenodd\" fill-opacity=\"1\" /><path clip-path=\"url(#clip000)\" d=\"M 0 0 M79.9503 729.023 L84.8345 729.023 L84.8345 734.903 L79.9503 734.903 L79.9503 729.023 Z\" fill=\"#000000\" fill-rule=\"evenodd\" fill-opacity=\"1\" /><path clip-path=\"url(#clip000)\" d=\"M 0 0 M102.751 704.417 L90.9456 722.866 L102.751 722.866 L102.751 704.417 M101.524 700.343 L107.404 700.343 L107.404 722.866 L112.334 722.866 L112.334 726.755 L107.404 726.755 L107.404 734.903 L102.751 734.903 L102.751 726.755 L87.1493 726.755 L87.1493 722.241 L101.524 700.343 Z\" fill=\"#000000\" fill-rule=\"evenodd\" fill-opacity=\"1\" /><path clip-path=\"url(#clip000)\" d=\"M 0 0 M64.418 495.179 Q60.8069 495.179 58.9782 498.744 Q57.1726 502.286 57.1726 509.415 Q57.1726 516.522 58.9782 520.086 Q60.8069 523.628 64.418 523.628 Q68.0522 523.628 69.8578 520.086 Q71.6865 516.522 71.6865 509.415 Q71.6865 502.286 69.8578 498.744 Q68.0522 495.179 64.418 495.179 M64.418 491.475 Q70.2281 491.475 73.2837 496.082 Q76.3624 500.665 76.3624 509.415 Q76.3624 518.142 73.2837 522.748 Q70.2281 527.332 64.418 527.332 Q58.6078 527.332 55.5291 522.748 Q52.4736 518.142 52.4736 509.415 Q52.4736 500.665 55.5291 496.082 Q58.6078 491.475 64.418 491.475 Z\" fill=\"#000000\" fill-rule=\"evenodd\" fill-opacity=\"1\" /><path clip-path=\"url(#clip000)\" d=\"M 0 0 M81.4318 520.781 L86.316 520.781 L86.316 526.66 L81.4318 526.66 L81.4318 520.781 Z\" fill=\"#000000\" fill-rule=\"evenodd\" fill-opacity=\"1\" /><path clip-path=\"url(#clip000)\" d=\"M 0 0 M91.4317 492.1 L109.788 492.1 L109.788 496.036 L95.7141 496.036 L95.7141 504.508 Q96.7326 504.16 97.7511 503.998 Q98.7696 503.813 99.7882 503.813 Q105.575 503.813 108.955 506.985 Q112.334 510.156 112.334 515.572 Q112.334 521.151 108.862 524.253 Q105.39 527.332 99.0706 527.332 Q96.8947 527.332 94.6262 526.961 Q92.3808 526.591 89.9734 525.85 L89.9734 521.151 Q92.0567 522.285 94.2789 522.841 Q96.5011 523.397 98.978 523.397 Q102.983 523.397 105.321 521.29 Q107.658 519.184 107.658 515.572 Q107.658 511.961 105.321 509.855 Q102.983 507.748 98.978 507.748 Q97.103 507.748 95.228 508.165 Q93.3762 508.582 91.4317 509.461 L91.4317 492.1 Z\" fill=\"#000000\" fill-rule=\"evenodd\" fill-opacity=\"1\" /><path clip-path=\"url(#clip000)\" d=\"M 0 0 M63.2606 286.937 Q59.6495 286.937 57.8208 290.501 Q56.0152 294.043 56.0152 301.173 Q56.0152 308.279 57.8208 311.844 Q59.6495 315.385 63.2606 315.385 Q66.8948 315.385 68.7004 311.844 Q70.5291 308.279 70.5291 301.173 Q70.5291 294.043 68.7004 290.501 Q66.8948 286.937 63.2606 286.937 M63.2606 283.233 Q69.0707 283.233 72.1263 287.839 Q75.205 292.423 75.205 301.173 Q75.205 309.899 72.1263 314.506 Q69.0707 319.089 63.2606 319.089 Q57.4504 319.089 54.3717 314.506 Q51.3162 309.899 51.3162 301.173 Q51.3162 292.423 54.3717 287.839 Q57.4504 283.233 63.2606 283.233 Z\" fill=\"#000000\" fill-rule=\"evenodd\" fill-opacity=\"1\" /><path clip-path=\"url(#clip000)\" d=\"M 0 0 M80.2744 312.538 L85.1586 312.538 L85.1586 318.418 L80.2744 318.418 L80.2744 312.538 Z\" fill=\"#000000\" fill-rule=\"evenodd\" fill-opacity=\"1\" /><path clip-path=\"url(#clip000)\" d=\"M 0 0 M100.807 299.274 Q97.6585 299.274 95.8067 301.427 Q93.978 303.58 93.978 307.33 Q93.978 311.057 95.8067 313.233 Q97.6585 315.385 100.807 315.385 Q103.955 315.385 105.783 313.233 Q107.635 311.057 107.635 307.33 Q107.635 303.58 105.783 301.427 Q103.955 299.274 100.807 299.274 M110.089 284.622 L110.089 288.881 Q108.33 288.048 106.524 287.608 Q104.742 287.168 102.983 287.168 Q98.353 287.168 95.8993 290.293 Q93.4688 293.418 93.1215 299.737 Q94.4873 297.723 96.5474 296.659 Q98.6076 295.571 101.084 295.571 Q106.293 295.571 109.302 298.742 Q112.334 301.89 112.334 307.33 Q112.334 312.654 109.186 315.872 Q106.038 319.089 100.807 319.089 Q94.8113 319.089 91.6401 314.506 Q88.4688 309.899 88.4688 301.173 Q88.4688 292.978 92.3576 288.117 Q96.2465 283.233 102.797 283.233 Q104.557 283.233 106.339 283.58 Q108.145 283.927 110.089 284.622 Z\" fill=\"#000000\" fill-rule=\"evenodd\" fill-opacity=\"1\" /><path clip-path=\"url(#clip000)\" d=\"M 0 0 M64.3254 78.694 Q60.7143 78.694 58.8856 82.2587 Q57.0801 85.8004 57.0801 92.93 Q57.0801 100.036 58.8856 103.601 Q60.7143 107.143 64.3254 107.143 Q67.9596 107.143 69.7652 103.601 Q71.5939 100.036 71.5939 92.93 Q71.5939 85.8004 69.7652 82.2587 Q67.9596 78.694 64.3254 78.694 M64.3254 74.9903 Q70.1355 74.9903 73.1911 79.5967 Q76.2698 84.18 76.2698 92.93 Q76.2698 101.657 73.1911 106.263 Q70.1355 110.847 64.3254 110.847 Q58.5152 110.847 55.4365 106.263 Q52.381 101.657 52.381 92.93 Q52.381 84.18 55.4365 79.5967 Q58.5152 74.9903 64.3254 74.9903 Z\" fill=\"#000000\" fill-rule=\"evenodd\" fill-opacity=\"1\" /><path clip-path=\"url(#clip000)\" d=\"M 0 0 M81.3392 104.296 L86.2234 104.296 L86.2234 110.175 L81.3392 110.175 L81.3392 104.296 Z\" fill=\"#000000\" fill-rule=\"evenodd\" fill-opacity=\"1\" /><path clip-path=\"url(#clip000)\" d=\"M 0 0 M90.1123 75.6153 L112.334 75.6153 L112.334 77.606 L99.7882 110.175 L94.9039 110.175 L106.709 79.5504 L90.1123 79.5504 L90.1123 75.6153 Z\" fill=\"#000000\" fill-rule=\"evenodd\" fill-opacity=\"1\" /><polyline clip-path=\"url(#clip002)\" style=\"stroke:#009af9; stroke-width:4; stroke-opacity:1; fill:none\" points=\"\n",
       "  210.724,787.037 320.179,689.857 429.633,594.413 539.088,509.519 648.543,436.758 757.998,375.336 867.453,323.823 976.908,280.74 1086.36,244.752 1195.82,214.708 \n",
       "  1305.27,189.63 1414.73,168.701 1524.18,151.234 1633.64,136.657 1743.09,124.493 1852.55,114.341 1962,105.87 2071.46,98.7998 2180.91,92.8999 2290.37,87.9763 \n",
       "  \n",
       "  \"/>\n",
       "<polyline clip-path=\"url(#clip002)\" style=\"stroke:#e26f46; stroke-width:4; stroke-opacity:1; fill:none\" points=\"\n",
       "  210.724,648.209 320.179,627.384 429.633,665.909 539.088,718.491 648.543,769.838 757.998,815.418 867.453,854.452 976.908,887.392 1086.36,915.014 1195.82,938.114 \n",
       "  1305.27,957.409 1414.73,973.518 1524.18,986.963 1633.64,998.185 1743.09,1007.55 1852.55,1015.36 1962,1021.89 2071.46,1027.33 2180.91,1031.87 2290.37,1035.66 \n",
       "  \n",
       "  \"/>\n",
       "<polyline clip-path=\"url(#clip002)\" style=\"stroke:#3da44d; stroke-width:4; stroke-opacity:1; fill:none\" points=\"\n",
       "  210.724,1134.11 320.179,1252.11 429.633,1309.03 539.088,1341.34 648.543,1362.76 757.998,1378.6 867.453,1391.08 976.908,1401.22 1086.36,1409.59 1195.82,1416.53 \n",
       "  1305.27,1422.31 1414.73,1427.14 1524.18,1431.16 1633.64,1434.51 1743.09,1437.31 1852.55,1439.65 1962,1441.6 2071.46,1443.22 2180.91,1444.58 2290.37,1445.72 \n",
       "  \n",
       "  \"/>\n",
       "<path clip-path=\"url(#clip000)\" d=\"\n",
       "M1982.74 337.138 L2279.28 337.138 L2279.28 95.2176 L1982.74 95.2176  Z\n",
       "  \" fill=\"#ffffff\" fill-rule=\"evenodd\" fill-opacity=\"1\"/>\n",
       "<polyline clip-path=\"url(#clip000)\" style=\"stroke:#000000; stroke-width:4; stroke-opacity:1; fill:none\" points=\"\n",
       "  1982.74,337.138 2279.28,337.138 2279.28,95.2176 1982.74,95.2176 1982.74,337.138 \n",
       "  \"/>\n",
       "<polyline clip-path=\"url(#clip000)\" style=\"stroke:#009af9; stroke-width:4; stroke-opacity:1; fill:none\" points=\"\n",
       "  2007.24,155.698 2154.2,155.698 \n",
       "  \"/>\n",
       "<path clip-path=\"url(#clip000)\" d=\"M 0 0 M2192.53 175.385 Q2190.73 180.015 2189.02 181.427 Q2187.3 182.839 2184.43 182.839 L2181.03 182.839 L2181.03 179.274 L2183.53 179.274 Q2185.29 179.274 2186.26 178.44 Q2187.23 177.607 2188.41 174.505 L2189.18 172.561 L2178.69 147.052 L2183.2 147.052 L2191.31 167.329 L2199.41 147.052 L2203.92 147.052 L2192.53 175.385 Z\" fill=\"#000000\" fill-rule=\"evenodd\" fill-opacity=\"1\" /><path clip-path=\"url(#clip000)\" d=\"M 0 0 M2209.8 169.042 L2217.44 169.042 L2217.44 142.677 L2209.13 144.343 L2209.13 140.084 L2217.39 138.418 L2222.07 138.418 L2222.07 169.042 L2229.71 169.042 L2229.71 172.978 L2209.8 172.978 L2209.8 169.042 Z\" fill=\"#000000\" fill-rule=\"evenodd\" fill-opacity=\"1\" /><polyline clip-path=\"url(#clip000)\" style=\"stroke:#e26f46; stroke-width:4; stroke-opacity:1; fill:none\" points=\"\n",
       "  2007.24,216.178 2154.2,216.178 \n",
       "  \"/>\n",
       "<path clip-path=\"url(#clip000)\" d=\"M 0 0 M2192.53 235.865 Q2190.73 240.495 2189.02 241.907 Q2187.3 243.319 2184.43 243.319 L2181.03 243.319 L2181.03 239.754 L2183.53 239.754 Q2185.29 239.754 2186.26 238.92 Q2187.23 238.087 2188.41 234.985 L2189.18 233.041 L2178.69 207.532 L2183.2 207.532 L2191.31 227.809 L2199.41 207.532 L2203.92 207.532 L2192.53 235.865 Z\" fill=\"#000000\" fill-rule=\"evenodd\" fill-opacity=\"1\" /><path clip-path=\"url(#clip000)\" d=\"M 0 0 M2213.02 229.522 L2229.34 229.522 L2229.34 233.458 L2207.39 233.458 L2207.39 229.522 Q2210.06 226.768 2214.64 222.138 Q2219.25 217.485 2220.43 216.143 Q2222.67 213.62 2223.55 211.884 Q2224.45 210.124 2224.45 208.435 Q2224.45 205.68 2222.51 203.944 Q2220.59 202.208 2217.49 202.208 Q2215.29 202.208 2212.83 202.972 Q2210.4 203.735 2207.63 205.286 L2207.63 200.564 Q2210.45 199.43 2212.9 198.851 Q2215.36 198.273 2217.39 198.273 Q2222.76 198.273 2225.96 200.958 Q2229.15 203.643 2229.15 208.134 Q2229.15 210.263 2228.34 212.185 Q2227.56 214.083 2225.45 216.675 Q2224.87 217.347 2221.77 220.564 Q2218.67 223.759 2213.02 229.522 Z\" fill=\"#000000\" fill-rule=\"evenodd\" fill-opacity=\"1\" /><polyline clip-path=\"url(#clip000)\" style=\"stroke:#3da44d; stroke-width:4; stroke-opacity:1; fill:none\" points=\"\n",
       "  2007.24,276.658 2154.2,276.658 \n",
       "  \"/>\n",
       "<path clip-path=\"url(#clip000)\" d=\"M 0 0 M2192.53 296.345 Q2190.73 300.975 2189.02 302.387 Q2187.3 303.799 2184.43 303.799 L2181.03 303.799 L2181.03 300.234 L2183.53 300.234 Q2185.29 300.234 2186.26 299.4 Q2187.23 298.567 2188.41 295.465 L2189.18 293.521 L2178.69 268.012 L2183.2 268.012 L2191.31 288.289 L2199.41 268.012 L2203.92 268.012 L2192.53 296.345 Z\" fill=\"#000000\" fill-rule=\"evenodd\" fill-opacity=\"1\" /><path clip-path=\"url(#clip000)\" d=\"M 0 0 M2223.16 275.303 Q2226.51 276.021 2228.39 278.289 Q2230.29 280.558 2230.29 283.891 Q2230.29 289.007 2226.77 291.808 Q2223.25 294.609 2216.77 294.609 Q2214.59 294.609 2212.28 294.169 Q2209.99 293.752 2207.53 292.896 L2207.53 288.382 Q2209.48 289.516 2211.79 290.095 Q2214.11 290.674 2216.63 290.674 Q2221.03 290.674 2223.32 288.938 Q2225.64 287.201 2225.64 283.891 Q2225.64 280.836 2223.48 279.123 Q2221.35 277.387 2217.53 277.387 L2213.51 277.387 L2213.51 273.544 L2217.72 273.544 Q2221.17 273.544 2223 272.178 Q2224.83 270.79 2224.83 268.197 Q2224.83 265.535 2222.93 264.123 Q2221.05 262.688 2217.53 262.688 Q2215.61 262.688 2213.41 263.104 Q2211.21 263.521 2208.58 264.401 L2208.58 260.234 Q2211.24 259.493 2213.55 259.123 Q2215.89 258.753 2217.95 258.753 Q2223.27 258.753 2226.38 261.183 Q2229.48 263.59 2229.48 267.711 Q2229.48 270.581 2227.83 272.572 Q2226.19 274.54 2223.16 275.303 Z\" fill=\"#000000\" fill-rule=\"evenodd\" fill-opacity=\"1\" /></svg>\n"
      ]
     },
     "execution_count": 79,
     "metadata": {},
     "output_type": "execute_result"
    }
   ],
   "source": [
    "time = 1:20\n",
    "plot(time, state1) # Plot state 1 density\n",
    "plot!(time, state2) # Plot state 2 density\n",
    "plot!(time, state3) # Plot state 3 density"
   ]
  },
  {
   "cell_type": "markdown",
   "metadata": {},
   "source": [
    "Notice that with time, being in state 1 becomes more likely, while states 2 and 3 becomes less likely."
   ]
  },
  {
   "cell_type": "markdown",
   "metadata": {},
   "source": [
    "We may also create a separate plot for each series, but include them in a single composition:"
   ]
  },
  {
   "cell_type": "code",
   "execution_count": 80,
   "metadata": {},
   "outputs": [
    {
     "data": {
      "image/svg+xml": [
       "<?xml version=\"1.0\" encoding=\"utf-8\"?>\n",
       "<svg xmlns=\"http://www.w3.org/2000/svg\" xmlns:xlink=\"http://www.w3.org/1999/xlink\" width=\"600\" height=\"400\" viewBox=\"0 0 2400 1600\">\n",
       "<defs>\n",
       "  <clipPath id=\"clip040\">\n",
       "    <rect x=\"0\" y=\"0\" width=\"2400\" height=\"1600\"/>\n",
       "  </clipPath>\n",
       "</defs>\n",
       "<path clip-path=\"url(#clip040)\" d=\"\n",
       "M0 1600 L2400 1600 L2400 0 L0 0  Z\n",
       "  \" fill=\"#ffffff\" fill-rule=\"evenodd\" fill-opacity=\"1\"/>\n",
       "<defs>\n",
       "  <clipPath id=\"clip041\">\n",
       "    <rect x=\"480\" y=\"0\" width=\"1681\" height=\"1600\"/>\n",
       "  </clipPath>\n",
       "</defs>\n",
       "<path clip-path=\"url(#clip040)\" d=\"\n",
       "M175.348 419.781 L2352.76 419.781 L2352.76 123.472 L175.348 123.472  Z\n",
       "  \" fill=\"#ffffff\" fill-rule=\"evenodd\" fill-opacity=\"1\"/>\n",
       "<defs>\n",
       "  <clipPath id=\"clip042\">\n",
       "    <rect x=\"175\" y=\"123\" width=\"2178\" height=\"297\"/>\n",
       "  </clipPath>\n",
       "</defs>\n",
       "<polyline clip-path=\"url(#clip042)\" style=\"stroke:#000000; stroke-width:2; stroke-opacity:0.1; fill:none\" points=\"\n",
       "  669.427,419.781 669.427,123.472 \n",
       "  \"/>\n",
       "<polyline clip-path=\"url(#clip042)\" style=\"stroke:#000000; stroke-width:2; stroke-opacity:0.1; fill:none\" points=\"\n",
       "  1210,419.781 1210,123.472 \n",
       "  \"/>\n",
       "<polyline clip-path=\"url(#clip042)\" style=\"stroke:#000000; stroke-width:2; stroke-opacity:0.1; fill:none\" points=\"\n",
       "  1750.56,419.781 1750.56,123.472 \n",
       "  \"/>\n",
       "<polyline clip-path=\"url(#clip042)\" style=\"stroke:#000000; stroke-width:2; stroke-opacity:0.1; fill:none\" points=\"\n",
       "  2291.13,419.781 2291.13,123.472 \n",
       "  \"/>\n",
       "<polyline clip-path=\"url(#clip040)\" style=\"stroke:#000000; stroke-width:4; stroke-opacity:1; fill:none\" points=\"\n",
       "  175.348,419.781 2352.76,419.781 \n",
       "  \"/>\n",
       "<polyline clip-path=\"url(#clip040)\" style=\"stroke:#000000; stroke-width:4; stroke-opacity:1; fill:none\" points=\"\n",
       "  669.427,419.781 669.427,416.225 \n",
       "  \"/>\n",
       "<polyline clip-path=\"url(#clip040)\" style=\"stroke:#000000; stroke-width:4; stroke-opacity:1; fill:none\" points=\"\n",
       "  1210,419.781 1210,416.225 \n",
       "  \"/>\n",
       "<polyline clip-path=\"url(#clip040)\" style=\"stroke:#000000; stroke-width:4; stroke-opacity:1; fill:none\" points=\"\n",
       "  1750.56,419.781 1750.56,416.225 \n",
       "  \"/>\n",
       "<polyline clip-path=\"url(#clip040)\" style=\"stroke:#000000; stroke-width:4; stroke-opacity:1; fill:none\" points=\"\n",
       "  2291.13,419.781 2291.13,416.225 \n",
       "  \"/>\n",
       "<path clip-path=\"url(#clip040)\" d=\"M 0 0 M659.705 445.893 L678.061 445.893 L678.061 449.828 L663.987 449.828 L663.987 458.301 Q665.006 457.953 666.024 457.791 Q667.043 457.606 668.062 457.606 Q673.849 457.606 677.228 460.777 Q680.608 463.949 680.608 469.365 Q680.608 474.944 677.136 478.046 Q673.663 481.125 667.344 481.125 Q665.168 481.125 662.9 480.754 Q660.654 480.384 658.247 479.643 L658.247 474.944 Q660.33 476.078 662.552 476.634 Q664.775 477.189 667.251 477.189 Q671.256 477.189 673.594 475.083 Q675.932 472.976 675.932 469.365 Q675.932 465.754 673.594 463.648 Q671.256 461.541 667.251 461.541 Q665.376 461.541 663.501 461.958 Q661.65 462.375 659.705 463.254 L659.705 445.893 Z\" fill=\"#000000\" fill-rule=\"evenodd\" fill-opacity=\"1\" /><path clip-path=\"url(#clip040)\" d=\"M 0 0 M1186.87 476.518 L1194.51 476.518 L1194.51 450.152 L1186.2 451.819 L1186.2 447.56 L1194.46 445.893 L1199.14 445.893 L1199.14 476.518 L1206.78 476.518 L1206.78 480.453 L1186.87 480.453 L1186.87 476.518 Z\" fill=\"#000000\" fill-rule=\"evenodd\" fill-opacity=\"1\" /><path clip-path=\"url(#clip040)\" d=\"M 0 0 M1221.85 448.972 Q1218.24 448.972 1216.41 452.537 Q1214.6 456.078 1214.6 463.208 Q1214.6 470.314 1216.41 473.879 Q1218.24 477.421 1221.85 477.421 Q1225.48 477.421 1227.29 473.879 Q1229.12 470.314 1229.12 463.208 Q1229.12 456.078 1227.29 452.537 Q1225.48 448.972 1221.85 448.972 M1221.85 445.268 Q1227.66 445.268 1230.71 449.875 Q1233.79 454.458 1233.79 463.208 Q1233.79 471.935 1230.71 476.541 Q1227.66 481.125 1221.85 481.125 Q1216.04 481.125 1212.96 476.541 Q1209.9 471.935 1209.9 463.208 Q1209.9 454.458 1212.96 449.875 Q1216.04 445.268 1221.85 445.268 Z\" fill=\"#000000\" fill-rule=\"evenodd\" fill-opacity=\"1\" /><path clip-path=\"url(#clip040)\" d=\"M 0 0 M1727.94 476.518 L1735.57 476.518 L1735.57 450.152 L1727.26 451.819 L1727.26 447.56 L1735.53 445.893 L1740.2 445.893 L1740.2 476.518 L1747.84 476.518 L1747.84 480.453 L1727.94 480.453 L1727.94 476.518 Z\" fill=\"#000000\" fill-rule=\"evenodd\" fill-opacity=\"1\" /><path clip-path=\"url(#clip040)\" d=\"M 0 0 M1752.96 445.893 L1771.32 445.893 L1771.32 449.828 L1757.24 449.828 L1757.24 458.301 Q1758.26 457.953 1759.28 457.791 Q1760.3 457.606 1761.32 457.606 Q1767.1 457.606 1770.48 460.777 Q1773.86 463.949 1773.86 469.365 Q1773.86 474.944 1770.39 478.046 Q1766.92 481.125 1760.6 481.125 Q1758.42 481.125 1756.15 480.754 Q1753.91 480.384 1751.5 479.643 L1751.5 474.944 Q1753.58 476.078 1755.81 476.634 Q1758.03 477.189 1760.51 477.189 Q1764.51 477.189 1766.85 475.083 Q1769.19 472.976 1769.19 469.365 Q1769.19 465.754 1766.85 463.648 Q1764.51 461.541 1760.51 461.541 Q1758.63 461.541 1756.76 461.958 Q1754.9 462.375 1752.96 463.254 L1752.96 445.893 Z\" fill=\"#000000\" fill-rule=\"evenodd\" fill-opacity=\"1\" /><path clip-path=\"url(#clip040)\" d=\"M 0 0 M2272.28 476.518 L2288.6 476.518 L2288.6 480.453 L2266.65 480.453 L2266.65 476.518 Q2269.31 473.763 2273.9 469.134 Q2278.5 464.481 2279.68 463.138 Q2281.93 460.615 2282.81 458.879 Q2283.71 457.12 2283.71 455.43 Q2283.71 452.676 2281.77 450.939 Q2279.85 449.203 2276.74 449.203 Q2274.55 449.203 2272.09 449.967 Q2269.66 450.731 2266.88 452.282 L2266.88 447.56 Q2269.71 446.426 2272.16 445.847 Q2274.62 445.268 2276.65 445.268 Q2282.02 445.268 2285.22 447.953 Q2288.41 450.639 2288.41 455.129 Q2288.41 457.259 2287.6 459.18 Q2286.81 461.078 2284.71 463.671 Q2284.13 464.342 2281.03 467.56 Q2277.93 470.754 2272.28 476.518 Z\" fill=\"#000000\" fill-rule=\"evenodd\" fill-opacity=\"1\" /><path clip-path=\"url(#clip040)\" d=\"M 0 0 M2303.67 448.972 Q2300.05 448.972 2298.23 452.537 Q2296.42 456.078 2296.42 463.208 Q2296.42 470.314 2298.23 473.879 Q2300.05 477.421 2303.67 477.421 Q2307.3 477.421 2309.11 473.879 Q2310.93 470.314 2310.93 463.208 Q2310.93 456.078 2309.11 452.537 Q2307.3 448.972 2303.67 448.972 M2303.67 445.268 Q2309.48 445.268 2312.53 449.875 Q2315.61 454.458 2315.61 463.208 Q2315.61 471.935 2312.53 476.541 Q2309.48 481.125 2303.67 481.125 Q2297.86 481.125 2294.78 476.541 Q2291.72 471.935 2291.72 463.208 Q2291.72 454.458 2294.78 449.875 Q2297.86 445.268 2303.67 445.268 Z\" fill=\"#000000\" fill-rule=\"evenodd\" fill-opacity=\"1\" /><polyline clip-path=\"url(#clip042)\" style=\"stroke:#000000; stroke-width:2; stroke-opacity:0.1; fill:none\" points=\"\n",
       "  175.348,383.638 2352.76,383.638 \n",
       "  \"/>\n",
       "<polyline clip-path=\"url(#clip042)\" style=\"stroke:#000000; stroke-width:2; stroke-opacity:0.1; fill:none\" points=\"\n",
       "  175.348,300.367 2352.76,300.367 \n",
       "  \"/>\n",
       "<polyline clip-path=\"url(#clip042)\" style=\"stroke:#000000; stroke-width:2; stroke-opacity:0.1; fill:none\" points=\"\n",
       "  175.348,217.096 2352.76,217.096 \n",
       "  \"/>\n",
       "<polyline clip-path=\"url(#clip042)\" style=\"stroke:#000000; stroke-width:2; stroke-opacity:0.1; fill:none\" points=\"\n",
       "  175.348,133.825 2352.76,133.825 \n",
       "  \"/>\n",
       "<polyline clip-path=\"url(#clip040)\" style=\"stroke:#000000; stroke-width:4; stroke-opacity:1; fill:none\" points=\"\n",
       "  175.348,419.781 175.348,123.472 \n",
       "  \"/>\n",
       "<polyline clip-path=\"url(#clip040)\" style=\"stroke:#000000; stroke-width:4; stroke-opacity:1; fill:none\" points=\"\n",
       "  175.348,383.638 201.477,383.638 \n",
       "  \"/>\n",
       "<polyline clip-path=\"url(#clip040)\" style=\"stroke:#000000; stroke-width:4; stroke-opacity:1; fill:none\" points=\"\n",
       "  175.348,300.367 201.477,300.367 \n",
       "  \"/>\n",
       "<polyline clip-path=\"url(#clip040)\" style=\"stroke:#000000; stroke-width:4; stroke-opacity:1; fill:none\" points=\"\n",
       "  175.348,217.096 201.477,217.096 \n",
       "  \"/>\n",
       "<polyline clip-path=\"url(#clip040)\" style=\"stroke:#000000; stroke-width:4; stroke-opacity:1; fill:none\" points=\"\n",
       "  175.348,133.825 201.477,133.825 \n",
       "  \"/>\n",
       "<path clip-path=\"url(#clip040)\" d=\"M 0 0 M89.9503 369.437 Q86.3392 369.437 84.5105 373.002 Q82.7049 376.543 82.7049 383.673 Q82.7049 390.779 84.5105 394.344 Q86.3392 397.886 89.9503 397.886 Q93.5845 397.886 95.39 394.344 Q97.2187 390.779 97.2187 383.673 Q97.2187 376.543 95.39 373.002 Q93.5845 369.437 89.9503 369.437 M89.9503 365.733 Q95.7604 365.733 98.8159 370.34 Q101.895 374.923 101.895 383.673 Q101.895 392.4 98.8159 397.006 Q95.7604 401.589 89.9503 401.589 Q84.1401 401.589 81.0614 397.006 Q78.0059 392.4 78.0059 383.673 Q78.0059 374.923 81.0614 370.34 Q84.1401 365.733 89.9503 365.733 Z\" fill=\"#000000\" fill-rule=\"evenodd\" fill-opacity=\"1\" /><path clip-path=\"url(#clip040)\" d=\"M 0 0 M106.964 395.039 L111.848 395.039 L111.848 400.918 L106.964 400.918 L106.964 395.039 Z\" fill=\"#000000\" fill-rule=\"evenodd\" fill-opacity=\"1\" /><path clip-path=\"url(#clip040)\" d=\"M 0 0 M129.765 370.432 L117.959 388.881 L129.765 388.881 L129.765 370.432 M128.538 366.358 L134.418 366.358 L134.418 388.881 L139.348 388.881 L139.348 392.77 L134.418 392.77 L134.418 400.918 L129.765 400.918 L129.765 392.77 L114.163 392.77 L114.163 388.256 L128.538 366.358 Z\" fill=\"#000000\" fill-rule=\"evenodd\" fill-opacity=\"1\" /><path clip-path=\"url(#clip040)\" d=\"M 0 0 M91.4317 286.166 Q87.8206 286.166 85.9919 289.731 Q84.1864 293.272 84.1864 300.402 Q84.1864 307.508 85.9919 311.073 Q87.8206 314.615 91.4317 314.615 Q95.066 314.615 96.8715 311.073 Q98.7002 307.508 98.7002 300.402 Q98.7002 293.272 96.8715 289.731 Q95.066 286.166 91.4317 286.166 M91.4317 282.462 Q97.2419 282.462 100.297 287.069 Q103.376 291.652 103.376 300.402 Q103.376 309.129 100.297 313.735 Q97.2419 318.318 91.4317 318.318 Q85.6216 318.318 82.5429 313.735 Q79.4873 309.129 79.4873 300.402 Q79.4873 291.652 82.5429 287.069 Q85.6216 282.462 91.4317 282.462 Z\" fill=\"#000000\" fill-rule=\"evenodd\" fill-opacity=\"1\" /><path clip-path=\"url(#clip040)\" d=\"M 0 0 M108.446 311.768 L113.33 311.768 L113.33 317.647 L108.446 317.647 L108.446 311.768 Z\" fill=\"#000000\" fill-rule=\"evenodd\" fill-opacity=\"1\" /><path clip-path=\"url(#clip040)\" d=\"M 0 0 M118.445 283.087 L136.802 283.087 L136.802 287.022 L122.728 287.022 L122.728 295.494 Q123.746 295.147 124.765 294.985 Q125.783 294.8 126.802 294.8 Q132.589 294.8 135.969 297.971 Q139.348 301.143 139.348 306.559 Q139.348 312.138 135.876 315.24 Q132.404 318.318 126.084 318.318 Q123.908 318.318 121.64 317.948 Q119.395 317.578 116.987 316.837 L116.987 312.138 Q119.07 313.272 121.293 313.828 Q123.515 314.383 125.992 314.383 Q129.996 314.383 132.334 312.277 Q134.672 310.17 134.672 306.559 Q134.672 302.948 132.334 300.842 Q129.996 298.735 125.992 298.735 Q124.117 298.735 122.242 299.152 Q120.39 299.569 118.445 300.448 L118.445 283.087 Z\" fill=\"#000000\" fill-rule=\"evenodd\" fill-opacity=\"1\" /><path clip-path=\"url(#clip040)\" d=\"M 0 0 M90.2743 202.895 Q86.6632 202.895 84.8345 206.46 Q83.029 210.001 83.029 217.131 Q83.029 224.237 84.8345 227.802 Q86.6632 231.344 90.2743 231.344 Q93.9086 231.344 95.7141 227.802 Q97.5428 224.237 97.5428 217.131 Q97.5428 210.001 95.7141 206.46 Q93.9086 202.895 90.2743 202.895 M90.2743 199.191 Q96.0845 199.191 99.14 203.798 Q102.219 208.381 102.219 217.131 Q102.219 225.858 99.14 230.464 Q96.0845 235.047 90.2743 235.047 Q84.4642 235.047 81.3855 230.464 Q78.3299 225.858 78.3299 217.131 Q78.3299 208.381 81.3855 203.798 Q84.4642 199.191 90.2743 199.191 Z\" fill=\"#000000\" fill-rule=\"evenodd\" fill-opacity=\"1\" /><path clip-path=\"url(#clip040)\" d=\"M 0 0 M107.288 228.497 L112.172 228.497 L112.172 234.376 L107.288 234.376 L107.288 228.497 Z\" fill=\"#000000\" fill-rule=\"evenodd\" fill-opacity=\"1\" /><path clip-path=\"url(#clip040)\" d=\"M 0 0 M127.82 215.233 Q124.672 215.233 122.82 217.386 Q120.992 219.538 120.992 223.288 Q120.992 227.015 122.82 229.191 Q124.672 231.344 127.82 231.344 Q130.969 231.344 132.797 229.191 Q134.649 227.015 134.649 223.288 Q134.649 219.538 132.797 217.386 Q130.969 215.233 127.82 215.233 M137.103 200.58 L137.103 204.839 Q135.344 204.006 133.538 203.566 Q131.756 203.126 129.996 203.126 Q125.367 203.126 122.913 206.251 Q120.482 209.376 120.135 215.696 Q121.501 213.682 123.561 212.617 Q125.621 211.529 128.098 211.529 Q133.306 211.529 136.316 214.7 Q139.348 217.848 139.348 223.288 Q139.348 228.612 136.2 231.83 Q133.052 235.047 127.82 235.047 Q121.825 235.047 118.654 230.464 Q115.483 225.858 115.483 217.131 Q115.483 208.936 119.371 204.075 Q123.26 199.191 129.811 199.191 Q131.57 199.191 133.353 199.538 Q135.158 199.886 137.103 200.58 Z\" fill=\"#000000\" fill-rule=\"evenodd\" fill-opacity=\"1\" /><path clip-path=\"url(#clip040)\" d=\"M 0 0 M91.3391 119.624 Q87.728 119.624 85.8993 123.189 Q84.0938 126.73 84.0938 133.86 Q84.0938 140.966 85.8993 144.531 Q87.728 148.073 91.3391 148.073 Q94.9734 148.073 96.7789 144.531 Q98.6076 140.966 98.6076 133.86 Q98.6076 126.73 96.7789 123.189 Q94.9734 119.624 91.3391 119.624 M91.3391 115.92 Q97.1493 115.92 100.205 120.527 Q103.284 125.11 103.284 133.86 Q103.284 142.587 100.205 147.193 Q97.1493 151.777 91.3391 151.777 Q85.529 151.777 82.4503 147.193 Q79.3948 142.587 79.3948 133.86 Q79.3948 125.11 82.4503 120.527 Q85.529 115.92 91.3391 115.92 Z\" fill=\"#000000\" fill-rule=\"evenodd\" fill-opacity=\"1\" /><path clip-path=\"url(#clip040)\" d=\"M 0 0 M108.353 145.226 L113.237 145.226 L113.237 151.105 L108.353 151.105 L108.353 145.226 Z\" fill=\"#000000\" fill-rule=\"evenodd\" fill-opacity=\"1\" /><path clip-path=\"url(#clip040)\" d=\"M 0 0 M117.126 116.545 L139.348 116.545 L139.348 118.536 L126.802 151.105 L121.918 151.105 L133.723 120.48 L117.126 120.48 L117.126 116.545 Z\" fill=\"#000000\" fill-rule=\"evenodd\" fill-opacity=\"1\" /><path clip-path=\"url(#clip040)\" d=\"M 0 0 M984.155 12.096 L995.173 12.096 L1021.99 62.6918 L1021.99 12.096 L1029.93 12.096 L1029.93 72.576 L1018.91 72.576 L992.095 21.9802 L992.095 72.576 L984.155 72.576 L984.155 12.096 Z\" fill=\"#000000\" fill-rule=\"evenodd\" fill-opacity=\"1\" /><path clip-path=\"url(#clip040)\" d=\"M 0 0 M1055.33 32.4315 Q1049.33 32.4315 1045.85 37.1306 Q1042.37 41.7891 1042.37 49.9314 Q1042.37 58.0738 1045.81 62.7728 Q1049.29 67.4314 1055.33 67.4314 Q1061.28 67.4314 1064.77 62.7323 Q1068.25 58.0333 1068.25 49.9314 Q1068.25 41.8701 1064.77 37.1711 Q1061.28 32.4315 1055.33 32.4315 M1055.33 26.1121 Q1065.05 26.1121 1070.6 32.4315 Q1076.15 38.7509 1076.15 49.9314 Q1076.15 61.0714 1070.6 67.4314 Q1065.05 73.7508 1055.33 73.7508 Q1045.57 73.7508 1040.02 67.4314 Q1034.51 61.0714 1034.51 49.9314 Q1034.51 38.7509 1040.02 32.4315 Q1045.57 26.1121 1055.33 26.1121 Z\" fill=\"#000000\" fill-rule=\"evenodd\" fill-opacity=\"1\" /><path clip-path=\"url(#clip040)\" d=\"M 0 0 M1110.26 34.1734 Q1109 33.4443 1107.5 33.1202 Q1106.05 32.7556 1104.26 32.7556 Q1097.94 32.7556 1094.54 36.8875 Q1091.18 40.9789 1091.18 48.6757 L1091.18 72.576 L1083.69 72.576 L1083.69 27.2059 L1091.18 27.2059 L1091.18 34.2544 Q1093.53 30.1225 1097.3 28.1376 Q1101.06 26.1121 1106.45 26.1121 Q1107.22 26.1121 1108.15 26.2337 Q1109.08 26.3147 1110.22 26.5172 L1110.26 34.1734 Z\" fill=\"#000000\" fill-rule=\"evenodd\" fill-opacity=\"1\" /><path clip-path=\"url(#clip040)\" d=\"M 0 0 M1151.94 35.9153 Q1154.74 30.8922 1158.63 28.5022 Q1162.52 26.1121 1167.78 26.1121 Q1174.87 26.1121 1178.72 31.0947 Q1182.57 36.0368 1182.57 45.1919 L1182.57 72.576 L1175.07 72.576 L1175.07 45.4349 Q1175.07 38.913 1172.76 35.7533 Q1170.46 32.5936 1165.72 32.5936 Q1159.92 32.5936 1156.56 36.4419 Q1153.2 40.2903 1153.2 46.9338 L1153.2 72.576 L1145.7 72.576 L1145.7 45.4349 Q1145.7 38.8725 1143.4 35.7533 Q1141.09 32.5936 1136.27 32.5936 Q1130.55 32.5936 1127.19 36.4824 Q1123.83 40.3308 1123.83 46.9338 L1123.83 72.576 L1116.34 72.576 L1116.34 27.2059 L1123.83 27.2059 L1123.83 34.2544 Q1126.38 30.082 1129.95 28.0971 Q1133.51 26.1121 1138.41 26.1121 Q1143.36 26.1121 1146.8 28.6237 Q1150.28 31.1352 1151.94 35.9153 Z\" fill=\"#000000\" fill-rule=\"evenodd\" fill-opacity=\"1\" /><path clip-path=\"url(#clip040)\" d=\"M 0 0 M1211.01 49.7694 Q1201.97 49.7694 1198.49 51.8354 Q1195 53.9013 1195 58.8839 Q1195 62.8538 1197.6 65.2034 Q1200.23 67.5124 1204.73 67.5124 Q1210.92 67.5124 1214.65 63.1374 Q1218.42 58.7219 1218.42 51.4303 L1218.42 49.7694 L1211.01 49.7694 M1225.87 46.6907 L1225.87 72.576 L1218.42 72.576 L1218.42 65.6895 Q1215.87 69.8214 1212.06 71.8063 Q1208.25 73.7508 1202.74 73.7508 Q1195.77 73.7508 1191.64 69.8619 Q1187.55 65.9325 1187.55 59.3701 Q1187.55 51.7138 1192.65 47.825 Q1197.8 43.9361 1207.97 43.9361 L1218.42 43.9361 L1218.42 43.2069 Q1218.42 38.0623 1215.02 35.2672 Q1211.65 32.4315 1205.54 32.4315 Q1201.65 32.4315 1197.96 33.3632 Q1194.28 34.295 1190.87 36.1584 L1190.87 29.2718 Q1194.96 27.692 1198.81 26.9223 Q1202.66 26.1121 1206.31 26.1121 Q1216.15 26.1121 1221.01 31.2163 Q1225.87 36.3204 1225.87 46.6907 Z\" fill=\"#000000\" fill-rule=\"evenodd\" fill-opacity=\"1\" /><path clip-path=\"url(#clip040)\" d=\"M 0 0 M1233.69 9.54393 L1241.14 9.54393 L1241.14 72.576 L1233.69 72.576 L1233.69 9.54393 Z\" fill=\"#000000\" fill-rule=\"evenodd\" fill-opacity=\"1\" /><path clip-path=\"url(#clip040)\" d=\"M 0 0 M1316.9 63.9476 L1316.9 47.7034 L1303.53 47.7034 L1303.53 40.9789 L1325 40.9789 L1325 66.9452 Q1320.26 70.3075 1314.55 72.0494 Q1308.83 73.7508 1302.35 73.7508 Q1288.18 73.7508 1280.15 65.4869 Q1272.17 57.1826 1272.17 42.3968 Q1272.17 27.5705 1280.15 19.3066 Q1288.18 11.0023 1302.35 11.0023 Q1308.27 11.0023 1313.57 12.4606 Q1318.92 13.9189 1323.42 16.7545 L1323.42 25.464 Q1318.88 21.6156 1313.78 19.6712 Q1308.67 17.7268 1303.04 17.7268 Q1291.94 17.7268 1286.35 23.9246 Q1280.8 30.1225 1280.8 42.3968 Q1280.8 54.6305 1286.35 60.8284 Q1291.94 67.0263 1303.04 67.0263 Q1307.38 67.0263 1310.78 66.2971 Q1314.18 65.5274 1316.9 63.9476 Z\" fill=\"#000000\" fill-rule=\"evenodd\" fill-opacity=\"1\" /><path clip-path=\"url(#clip040)\" d=\"M 0 0 M1359.11 34.1734 Q1357.85 33.4443 1356.35 33.1202 Q1354.89 32.7556 1353.11 32.7556 Q1346.79 32.7556 1343.39 36.8875 Q1340.03 40.9789 1340.03 48.6757 L1340.03 72.576 L1332.53 72.576 L1332.53 27.2059 L1340.03 27.2059 L1340.03 34.2544 Q1342.38 30.1225 1346.14 28.1376 Q1349.91 26.1121 1355.3 26.1121 Q1356.07 26.1121 1357 26.2337 Q1357.93 26.3147 1359.07 26.5172 L1359.11 34.1734 Z\" fill=\"#000000\" fill-rule=\"evenodd\" fill-opacity=\"1\" /><path clip-path=\"url(#clip040)\" d=\"M 0 0 M1382.68 32.4315 Q1376.69 32.4315 1373.2 37.1306 Q1369.72 41.7891 1369.72 49.9314 Q1369.72 58.0738 1373.16 62.7728 Q1376.65 67.4314 1382.68 67.4314 Q1388.64 67.4314 1392.12 62.7323 Q1395.61 58.0333 1395.61 49.9314 Q1395.61 41.8701 1392.12 37.1711 Q1388.64 32.4315 1382.68 32.4315 M1382.68 26.1121 Q1392.4 26.1121 1397.95 32.4315 Q1403.5 38.7509 1403.5 49.9314 Q1403.5 61.0714 1397.95 67.4314 Q1392.4 73.7508 1382.68 73.7508 Q1372.92 73.7508 1367.37 67.4314 Q1361.86 61.0714 1361.86 49.9314 Q1361.86 38.7509 1367.37 32.4315 Q1372.92 26.1121 1382.68 26.1121 Z\" fill=\"#000000\" fill-rule=\"evenodd\" fill-opacity=\"1\" /><path clip-path=\"url(#clip040)\" d=\"M 0 0 M1406.99 27.2059 L1414.44 27.2059 L1423.76 62.6108 L1433.04 27.2059 L1441.83 27.2059 L1451.14 62.6108 L1460.42 27.2059 L1467.87 27.2059 L1456 72.576 L1447.21 72.576 L1437.45 35.3887 L1427.65 72.576 L1418.86 72.576 L1406.99 27.2059 Z\" fill=\"#000000\" fill-rule=\"evenodd\" fill-opacity=\"1\" /><path clip-path=\"url(#clip040)\" d=\"M 0 0 M1483.06 14.324 L1483.06 27.2059 L1498.42 27.2059 L1498.42 32.9987 L1483.06 32.9987 L1483.06 57.6282 Q1483.06 63.1779 1484.56 64.7578 Q1486.1 66.3376 1490.76 66.3376 L1498.42 66.3376 L1498.42 72.576 L1490.76 72.576 Q1482.13 72.576 1478.85 69.3758 Q1475.57 66.1351 1475.57 57.6282 L1475.57 32.9987 L1470.1 32.9987 L1470.1 27.2059 L1475.57 27.2059 L1475.57 14.324 L1483.06 14.324 Z\" fill=\"#000000\" fill-rule=\"evenodd\" fill-opacity=\"1\" /><path clip-path=\"url(#clip040)\" d=\"M 0 0 M1543.95 45.1919 L1543.95 72.576 L1536.5 72.576 L1536.5 45.4349 Q1536.5 38.994 1533.98 35.7938 Q1531.47 32.5936 1526.45 32.5936 Q1520.41 32.5936 1516.93 36.4419 Q1513.45 40.2903 1513.45 46.9338 L1513.45 72.576 L1505.95 72.576 L1505.95 9.54393 L1513.45 9.54393 L1513.45 34.2544 Q1516.12 30.163 1519.72 28.1376 Q1523.37 26.1121 1528.11 26.1121 Q1535.93 26.1121 1539.94 30.9732 Q1543.95 35.7938 1543.95 45.1919 Z\" fill=\"#000000\" fill-rule=\"evenodd\" fill-opacity=\"1\" /><polyline clip-path=\"url(#clip042)\" style=\"stroke:#009af9; stroke-width:4; stroke-opacity:1; fill:none\" points=\"\n",
       "  236.973,411.395 345.086,372.535 453.2,334.369 561.314,300.423 669.427,271.327 777.541,246.766 885.654,226.167 993.768,208.94 1101.88,194.549 1210,182.535 \n",
       "  1318.11,172.507 1426.22,164.138 1534.34,157.153 1642.45,151.325 1750.56,146.46 1858.68,142.401 1966.79,139.013 2074.9,136.186 2183.02,133.827 2291.13,131.858 \n",
       "  \n",
       "  \"/>\n",
       "<path clip-path=\"url(#clip040)\" d=\"\n",
       "M1987.22 254.309 L2280.18 254.309 L2280.18 133.349 L1987.22 133.349  Z\n",
       "  \" fill=\"#ffffff\" fill-rule=\"evenodd\" fill-opacity=\"1\"/>\n",
       "<polyline clip-path=\"url(#clip040)\" style=\"stroke:#000000; stroke-width:4; stroke-opacity:1; fill:none\" points=\"\n",
       "  1987.22,254.309 2280.18,254.309 2280.18,133.349 1987.22,133.349 1987.22,254.309 \n",
       "  \"/>\n",
       "<polyline clip-path=\"url(#clip040)\" style=\"stroke:#009af9; stroke-width:4; stroke-opacity:1; fill:none\" points=\"\n",
       "  2011.42,193.829 2156.58,193.829 \n",
       "  \"/>\n",
       "<path clip-path=\"url(#clip040)\" d=\"M 0 0 M2194.61 213.516 Q2192.81 218.146 2191.09 219.558 Q2189.38 220.97 2186.51 220.97 L2183.11 220.97 L2183.11 217.405 L2185.61 217.405 Q2187.37 217.405 2188.34 216.572 Q2189.31 215.739 2190.49 212.637 L2191.26 210.692 L2180.77 185.183 L2185.28 185.183 L2193.39 205.461 L2201.49 185.183 L2206 185.183 L2194.61 213.516 Z\" fill=\"#000000\" fill-rule=\"evenodd\" fill-opacity=\"1\" /><path clip-path=\"url(#clip040)\" d=\"M 0 0 M2211.88 207.174 L2219.52 207.174 L2219.52 180.808 L2211.21 182.475 L2211.21 178.216 L2219.47 176.549 L2224.15 176.549 L2224.15 207.174 L2231.79 207.174 L2231.79 211.109 L2211.88 211.109 L2211.88 207.174 Z\" fill=\"#000000\" fill-rule=\"evenodd\" fill-opacity=\"1\" /><path clip-path=\"url(#clip040)\" d=\"\n",
       "M175.348 953.115 L2352.76 953.115 L2352.76 656.805 L175.348 656.805  Z\n",
       "  \" fill=\"#ffffff\" fill-rule=\"evenodd\" fill-opacity=\"1\"/>\n",
       "<defs>\n",
       "  <clipPath id=\"clip043\">\n",
       "    <rect x=\"175\" y=\"656\" width=\"2178\" height=\"297\"/>\n",
       "  </clipPath>\n",
       "</defs>\n",
       "<polyline clip-path=\"url(#clip043)\" style=\"stroke:#000000; stroke-width:2; stroke-opacity:0.1; fill:none\" points=\"\n",
       "  669.427,953.115 669.427,656.805 \n",
       "  \"/>\n",
       "<polyline clip-path=\"url(#clip043)\" style=\"stroke:#000000; stroke-width:2; stroke-opacity:0.1; fill:none\" points=\"\n",
       "  1210,953.115 1210,656.805 \n",
       "  \"/>\n",
       "<polyline clip-path=\"url(#clip043)\" style=\"stroke:#000000; stroke-width:2; stroke-opacity:0.1; fill:none\" points=\"\n",
       "  1750.56,953.115 1750.56,656.805 \n",
       "  \"/>\n",
       "<polyline clip-path=\"url(#clip043)\" style=\"stroke:#000000; stroke-width:2; stroke-opacity:0.1; fill:none\" points=\"\n",
       "  2291.13,953.115 2291.13,656.805 \n",
       "  \"/>\n",
       "<polyline clip-path=\"url(#clip040)\" style=\"stroke:#000000; stroke-width:4; stroke-opacity:1; fill:none\" points=\"\n",
       "  175.348,953.115 2352.76,953.115 \n",
       "  \"/>\n",
       "<polyline clip-path=\"url(#clip040)\" style=\"stroke:#000000; stroke-width:4; stroke-opacity:1; fill:none\" points=\"\n",
       "  669.427,953.115 669.427,949.559 \n",
       "  \"/>\n",
       "<polyline clip-path=\"url(#clip040)\" style=\"stroke:#000000; stroke-width:4; stroke-opacity:1; fill:none\" points=\"\n",
       "  1210,953.115 1210,949.559 \n",
       "  \"/>\n",
       "<polyline clip-path=\"url(#clip040)\" style=\"stroke:#000000; stroke-width:4; stroke-opacity:1; fill:none\" points=\"\n",
       "  1750.56,953.115 1750.56,949.559 \n",
       "  \"/>\n",
       "<polyline clip-path=\"url(#clip040)\" style=\"stroke:#000000; stroke-width:4; stroke-opacity:1; fill:none\" points=\"\n",
       "  2291.13,953.115 2291.13,949.559 \n",
       "  \"/>\n",
       "<path clip-path=\"url(#clip040)\" d=\"M 0 0 M659.705 979.227 L678.061 979.227 L678.061 983.162 L663.987 983.162 L663.987 991.634 Q665.006 991.287 666.024 991.125 Q667.043 990.939 668.062 990.939 Q673.849 990.939 677.228 994.111 Q680.608 997.282 680.608 1002.7 Q680.608 1008.28 677.136 1011.38 Q673.663 1014.46 667.344 1014.46 Q665.168 1014.46 662.9 1014.09 Q660.654 1013.72 658.247 1012.98 L658.247 1008.28 Q660.33 1009.41 662.552 1009.97 Q664.775 1010.52 667.251 1010.52 Q671.256 1010.52 673.594 1008.42 Q675.932 1006.31 675.932 1002.7 Q675.932 999.088 673.594 996.981 Q671.256 994.875 667.251 994.875 Q665.376 994.875 663.501 995.291 Q661.65 995.708 659.705 996.588 L659.705 979.227 Z\" fill=\"#000000\" fill-rule=\"evenodd\" fill-opacity=\"1\" /><path clip-path=\"url(#clip040)\" d=\"M 0 0 M1186.87 1009.85 L1194.51 1009.85 L1194.51 983.486 L1186.2 985.152 L1186.2 980.893 L1194.46 979.227 L1199.14 979.227 L1199.14 1009.85 L1206.78 1009.85 L1206.78 1013.79 L1186.87 1013.79 L1186.87 1009.85 Z\" fill=\"#000000\" fill-rule=\"evenodd\" fill-opacity=\"1\" /><path clip-path=\"url(#clip040)\" d=\"M 0 0 M1221.85 982.305 Q1218.24 982.305 1216.41 985.87 Q1214.6 989.412 1214.6 996.541 Q1214.6 1003.65 1216.41 1007.21 Q1218.24 1010.75 1221.85 1010.75 Q1225.48 1010.75 1227.29 1007.21 Q1229.12 1003.65 1229.12 996.541 Q1229.12 989.412 1227.29 985.87 Q1225.48 982.305 1221.85 982.305 M1221.85 978.602 Q1227.66 978.602 1230.71 983.208 Q1233.79 987.791 1233.79 996.541 Q1233.79 1005.27 1230.71 1009.87 Q1227.66 1014.46 1221.85 1014.46 Q1216.04 1014.46 1212.96 1009.87 Q1209.9 1005.27 1209.9 996.541 Q1209.9 987.791 1212.96 983.208 Q1216.04 978.602 1221.85 978.602 Z\" fill=\"#000000\" fill-rule=\"evenodd\" fill-opacity=\"1\" /><path clip-path=\"url(#clip040)\" d=\"M 0 0 M1727.94 1009.85 L1735.57 1009.85 L1735.57 983.486 L1727.26 985.152 L1727.26 980.893 L1735.53 979.227 L1740.2 979.227 L1740.2 1009.85 L1747.84 1009.85 L1747.84 1013.79 L1727.94 1013.79 L1727.94 1009.85 Z\" fill=\"#000000\" fill-rule=\"evenodd\" fill-opacity=\"1\" /><path clip-path=\"url(#clip040)\" d=\"M 0 0 M1752.96 979.227 L1771.32 979.227 L1771.32 983.162 L1757.24 983.162 L1757.24 991.634 Q1758.26 991.287 1759.28 991.125 Q1760.3 990.939 1761.32 990.939 Q1767.1 990.939 1770.48 994.111 Q1773.86 997.282 1773.86 1002.7 Q1773.86 1008.28 1770.39 1011.38 Q1766.92 1014.46 1760.6 1014.46 Q1758.42 1014.46 1756.15 1014.09 Q1753.91 1013.72 1751.5 1012.98 L1751.5 1008.28 Q1753.58 1009.41 1755.81 1009.97 Q1758.03 1010.52 1760.51 1010.52 Q1764.51 1010.52 1766.85 1008.42 Q1769.19 1006.31 1769.19 1002.7 Q1769.19 999.088 1766.85 996.981 Q1764.51 994.875 1760.51 994.875 Q1758.63 994.875 1756.76 995.291 Q1754.9 995.708 1752.96 996.588 L1752.96 979.227 Z\" fill=\"#000000\" fill-rule=\"evenodd\" fill-opacity=\"1\" /><path clip-path=\"url(#clip040)\" d=\"M 0 0 M2272.28 1009.85 L2288.6 1009.85 L2288.6 1013.79 L2266.65 1013.79 L2266.65 1009.85 Q2269.31 1007.1 2273.9 1002.47 Q2278.5 997.814 2279.68 996.472 Q2281.93 993.949 2282.81 992.213 Q2283.71 990.453 2283.71 988.764 Q2283.71 986.009 2281.77 984.273 Q2279.85 982.537 2276.74 982.537 Q2274.55 982.537 2272.09 983.301 Q2269.66 984.064 2266.88 985.615 L2266.88 980.893 Q2269.71 979.759 2272.16 979.18 Q2274.62 978.602 2276.65 978.602 Q2282.02 978.602 2285.22 981.287 Q2288.41 983.972 2288.41 988.463 Q2288.41 990.592 2287.6 992.514 Q2286.81 994.412 2284.71 997.004 Q2284.13 997.676 2281.03 1000.89 Q2277.93 1004.09 2272.28 1009.85 Z\" fill=\"#000000\" fill-rule=\"evenodd\" fill-opacity=\"1\" /><path clip-path=\"url(#clip040)\" d=\"M 0 0 M2303.67 982.305 Q2300.05 982.305 2298.23 985.87 Q2296.42 989.412 2296.42 996.541 Q2296.42 1003.65 2298.23 1007.21 Q2300.05 1010.75 2303.67 1010.75 Q2307.3 1010.75 2309.11 1007.21 Q2310.93 1003.65 2310.93 996.541 Q2310.93 989.412 2309.11 985.87 Q2307.3 982.305 2303.67 982.305 M2303.67 978.602 Q2309.48 978.602 2312.53 983.208 Q2315.61 987.791 2315.61 996.541 Q2315.61 1005.27 2312.53 1009.87 Q2309.48 1014.46 2303.67 1014.46 Q2297.86 1014.46 2294.78 1009.87 Q2291.72 1005.27 2291.72 996.541 Q2291.72 987.791 2294.78 983.208 Q2297.86 978.602 2303.67 978.602 Z\" fill=\"#000000\" fill-rule=\"evenodd\" fill-opacity=\"1\" /><polyline clip-path=\"url(#clip043)\" style=\"stroke:#000000; stroke-width:2; stroke-opacity:0.1; fill:none\" points=\"\n",
       "  175.348,940.843 2352.76,940.843 \n",
       "  \"/>\n",
       "<polyline clip-path=\"url(#clip043)\" style=\"stroke:#000000; stroke-width:2; stroke-opacity:0.1; fill:none\" points=\"\n",
       "  175.348,869.554 2352.76,869.554 \n",
       "  \"/>\n",
       "<polyline clip-path=\"url(#clip043)\" style=\"stroke:#000000; stroke-width:2; stroke-opacity:0.1; fill:none\" points=\"\n",
       "  175.348,798.265 2352.76,798.265 \n",
       "  \"/>\n",
       "<polyline clip-path=\"url(#clip043)\" style=\"stroke:#000000; stroke-width:2; stroke-opacity:0.1; fill:none\" points=\"\n",
       "  175.348,726.975 2352.76,726.975 \n",
       "  \"/>\n",
       "<polyline clip-path=\"url(#clip040)\" style=\"stroke:#000000; stroke-width:4; stroke-opacity:1; fill:none\" points=\"\n",
       "  175.348,953.115 175.348,656.805 \n",
       "  \"/>\n",
       "<polyline clip-path=\"url(#clip040)\" style=\"stroke:#000000; stroke-width:4; stroke-opacity:1; fill:none\" points=\"\n",
       "  175.348,940.843 201.477,940.843 \n",
       "  \"/>\n",
       "<polyline clip-path=\"url(#clip040)\" style=\"stroke:#000000; stroke-width:4; stroke-opacity:1; fill:none\" points=\"\n",
       "  175.348,869.554 201.477,869.554 \n",
       "  \"/>\n",
       "<polyline clip-path=\"url(#clip040)\" style=\"stroke:#000000; stroke-width:4; stroke-opacity:1; fill:none\" points=\"\n",
       "  175.348,798.265 201.477,798.265 \n",
       "  \"/>\n",
       "<polyline clip-path=\"url(#clip040)\" style=\"stroke:#000000; stroke-width:4; stroke-opacity:1; fill:none\" points=\"\n",
       "  175.348,726.975 201.477,726.975 \n",
       "  \"/>\n",
       "<path clip-path=\"url(#clip040)\" d=\"M 0 0 M66.0152 926.641 Q62.4041 926.641 60.5754 930.206 Q58.7699 933.748 58.7699 940.878 Q58.7699 947.984 60.5754 951.549 Q62.4041 955.09 66.0152 955.09 Q69.6494 955.09 71.455 951.549 Q73.2837 947.984 73.2837 940.878 Q73.2837 933.748 71.455 930.206 Q69.6494 926.641 66.0152 926.641 M66.0152 922.938 Q71.8253 922.938 74.8809 927.544 Q77.9596 932.128 77.9596 940.878 Q77.9596 949.604 74.8809 954.211 Q71.8253 958.794 66.0152 958.794 Q60.205 958.794 57.1264 954.211 Q54.0708 949.604 54.0708 940.878 Q54.0708 932.128 57.1264 927.544 Q60.205 922.938 66.0152 922.938 Z\" fill=\"#000000\" fill-rule=\"evenodd\" fill-opacity=\"1\" /><path clip-path=\"url(#clip040)\" d=\"M 0 0 M83.029 952.243 L87.9132 952.243 L87.9132 958.123 L83.029 958.123 L83.029 952.243 Z\" fill=\"#000000\" fill-rule=\"evenodd\" fill-opacity=\"1\" /><path clip-path=\"url(#clip040)\" d=\"M 0 0 M97.0104 954.188 L113.33 954.188 L113.33 958.123 L91.3854 958.123 L91.3854 954.188 Q94.0475 951.433 98.6308 946.803 Q103.237 942.151 104.418 940.808 Q106.663 938.285 107.543 936.549 Q108.446 934.79 108.446 933.1 Q108.446 930.345 106.501 928.609 Q104.58 926.873 101.478 926.873 Q99.2789 926.873 96.8252 927.637 Q94.3947 928.401 91.6169 929.952 L91.6169 925.229 Q94.441 924.095 96.8947 923.517 Q99.3483 922.938 101.385 922.938 Q106.756 922.938 109.95 925.623 Q113.145 928.308 113.145 932.799 Q113.145 934.928 112.334 936.85 Q111.547 938.748 109.441 941.34 Q108.862 942.012 105.76 945.229 Q102.659 948.424 97.0104 954.188 Z\" fill=\"#000000\" fill-rule=\"evenodd\" fill-opacity=\"1\" /><path clip-path=\"url(#clip040)\" d=\"M 0 0 M118.445 923.563 L136.802 923.563 L136.802 927.498 L122.728 927.498 L122.728 935.97 Q123.746 935.623 124.765 935.461 Q125.783 935.276 126.802 935.276 Q132.589 935.276 135.969 938.447 Q139.348 941.618 139.348 947.035 Q139.348 952.614 135.876 955.715 Q132.404 958.794 126.084 958.794 Q123.908 958.794 121.64 958.424 Q119.395 958.053 116.987 957.313 L116.987 952.614 Q119.07 953.748 121.293 954.303 Q123.515 954.859 125.992 954.859 Q129.996 954.859 132.334 952.752 Q134.672 950.646 134.672 947.035 Q134.672 943.424 132.334 941.317 Q129.996 939.211 125.992 939.211 Q124.117 939.211 122.242 939.628 Q120.39 940.044 118.445 940.924 L118.445 923.563 Z\" fill=\"#000000\" fill-rule=\"evenodd\" fill-opacity=\"1\" /><path clip-path=\"url(#clip040)\" d=\"M 0 0 M64.0708 855.352 Q60.4597 855.352 58.631 858.917 Q56.8254 862.459 56.8254 869.588 Q56.8254 876.695 58.631 880.26 Q60.4597 883.801 64.0708 883.801 Q67.705 883.801 69.5105 880.26 Q71.3392 876.695 71.3392 869.588 Q71.3392 862.459 69.5105 858.917 Q67.705 855.352 64.0708 855.352 M64.0708 851.649 Q69.8809 851.649 72.9365 856.255 Q76.0151 860.838 76.0151 869.588 Q76.0151 878.315 72.9365 882.922 Q69.8809 887.505 64.0708 887.505 Q58.2606 887.505 55.1819 882.922 Q52.1264 878.315 52.1264 869.588 Q52.1264 860.838 55.1819 856.255 Q58.2606 851.649 64.0708 851.649 Z\" fill=\"#000000\" fill-rule=\"evenodd\" fill-opacity=\"1\" /><path clip-path=\"url(#clip040)\" d=\"M 0 0 M81.0846 880.954 L85.9688 880.954 L85.9688 886.834 L81.0846 886.834 L81.0846 880.954 Z\" fill=\"#000000\" fill-rule=\"evenodd\" fill-opacity=\"1\" /><path clip-path=\"url(#clip040)\" d=\"M 0 0 M105.205 868.2 Q108.561 868.917 110.436 871.186 Q112.334 873.454 112.334 876.787 Q112.334 881.903 108.816 884.704 Q105.297 887.505 98.8159 887.505 Q96.64 887.505 94.3252 887.065 Q92.0336 886.649 89.5799 885.792 L89.5799 881.278 Q91.5243 882.412 93.8391 882.991 Q96.1539 883.57 98.6771 883.57 Q103.075 883.57 105.367 881.834 Q107.682 880.098 107.682 876.787 Q107.682 873.732 105.529 872.019 Q103.399 870.283 99.5798 870.283 L95.5521 870.283 L95.5521 866.44 L99.765 866.44 Q103.214 866.44 105.043 865.075 Q106.871 863.686 106.871 861.093 Q106.871 858.431 104.973 857.019 Q103.098 855.584 99.5798 855.584 Q97.6585 855.584 95.4595 856.001 Q93.2604 856.417 90.6215 857.297 L90.6215 853.13 Q93.2836 852.389 95.5984 852.019 Q97.9363 851.649 99.9965 851.649 Q105.321 851.649 108.422 854.079 Q111.524 856.487 111.524 860.607 Q111.524 863.477 109.881 865.468 Q108.237 867.436 105.205 868.2 Z\" fill=\"#000000\" fill-rule=\"evenodd\" fill-opacity=\"1\" /><path clip-path=\"url(#clip040)\" d=\"M 0 0 M127.404 855.352 Q123.793 855.352 121.964 858.917 Q120.158 862.459 120.158 869.588 Q120.158 876.695 121.964 880.26 Q123.793 883.801 127.404 883.801 Q131.038 883.801 132.844 880.26 Q134.672 876.695 134.672 869.588 Q134.672 862.459 132.844 858.917 Q131.038 855.352 127.404 855.352 M127.404 851.649 Q133.214 851.649 136.269 856.255 Q139.348 860.838 139.348 869.588 Q139.348 878.315 136.269 882.922 Q133.214 887.505 127.404 887.505 Q121.594 887.505 118.515 882.922 Q115.459 878.315 115.459 869.588 Q115.459 860.838 118.515 856.255 Q121.594 851.649 127.404 851.649 Z\" fill=\"#000000\" fill-rule=\"evenodd\" fill-opacity=\"1\" /><path clip-path=\"url(#clip040)\" d=\"M 0 0 M65.0661 784.063 Q61.455 784.063 59.6263 787.628 Q57.8208 791.17 57.8208 798.299 Q57.8208 805.406 59.6263 808.971 Q61.455 812.512 65.0661 812.512 Q68.7004 812.512 70.5059 808.971 Q72.3346 805.406 72.3346 798.299 Q72.3346 791.17 70.5059 787.628 Q68.7004 784.063 65.0661 784.063 M65.0661 780.36 Q70.8763 780.36 73.9318 784.966 Q77.0105 789.549 77.0105 798.299 Q77.0105 807.026 73.9318 811.633 Q70.8763 816.216 65.0661 816.216 Q59.256 816.216 56.1773 811.633 Q53.1217 807.026 53.1217 798.299 Q53.1217 789.549 56.1773 784.966 Q59.256 780.36 65.0661 780.36 Z\" fill=\"#000000\" fill-rule=\"evenodd\" fill-opacity=\"1\" /><path clip-path=\"url(#clip040)\" d=\"M 0 0 M82.0799 809.665 L86.9642 809.665 L86.9642 815.545 L82.0799 815.545 L82.0799 809.665 Z\" fill=\"#000000\" fill-rule=\"evenodd\" fill-opacity=\"1\" /><path clip-path=\"url(#clip040)\" d=\"M 0 0 M106.2 796.91 Q109.557 797.628 111.432 799.897 Q113.33 802.165 113.33 805.498 Q113.33 810.614 109.811 813.415 Q106.293 816.216 99.8113 816.216 Q97.6354 816.216 95.3206 815.776 Q93.0289 815.359 90.5752 814.503 L90.5752 809.989 Q92.5197 811.123 94.8345 811.702 Q97.1493 812.281 99.6724 812.281 Q104.071 812.281 106.362 810.545 Q108.677 808.809 108.677 805.498 Q108.677 802.443 106.524 800.73 Q104.395 798.994 100.575 798.994 L96.5474 798.994 L96.5474 795.151 L100.76 795.151 Q104.209 795.151 106.038 793.785 Q107.867 792.397 107.867 789.804 Q107.867 787.142 105.969 785.73 Q104.094 784.295 100.575 784.295 Q98.6539 784.295 96.4548 784.711 Q94.2558 785.128 91.6169 786.008 L91.6169 781.841 Q94.2789 781.1 96.5937 780.73 Q98.9317 780.36 100.992 780.36 Q106.316 780.36 109.418 782.79 Q112.52 785.198 112.52 789.318 Q112.52 792.188 110.876 794.179 Q109.233 796.147 106.2 796.91 Z\" fill=\"#000000\" fill-rule=\"evenodd\" fill-opacity=\"1\" /><path clip-path=\"url(#clip040)\" d=\"M 0 0 M118.445 780.985 L136.802 780.985 L136.802 784.92 L122.728 784.92 L122.728 793.392 Q123.746 793.045 124.765 792.883 Q125.783 792.697 126.802 792.697 Q132.589 792.697 135.969 795.869 Q139.348 799.04 139.348 804.457 Q139.348 810.035 135.876 813.137 Q132.404 816.216 126.084 816.216 Q123.908 816.216 121.64 815.845 Q119.395 815.475 116.987 814.734 L116.987 810.035 Q119.07 811.17 121.293 811.725 Q123.515 812.281 125.992 812.281 Q129.996 812.281 132.334 810.174 Q134.672 808.068 134.672 804.457 Q134.672 800.846 132.334 798.739 Q129.996 796.633 125.992 796.633 Q124.117 796.633 122.242 797.049 Q120.39 797.466 118.445 798.346 L118.445 780.985 Z\" fill=\"#000000\" fill-rule=\"evenodd\" fill-opacity=\"1\" /><path clip-path=\"url(#clip040)\" d=\"M 0 0 M62.9365 712.774 Q59.3254 712.774 57.4967 716.339 Q55.6912 719.881 55.6912 727.01 Q55.6912 734.117 57.4967 737.681 Q59.3254 741.223 62.9365 741.223 Q66.5707 741.223 68.3763 737.681 Q70.205 734.117 70.205 727.01 Q70.205 719.881 68.3763 716.339 Q66.5707 712.774 62.9365 712.774 M62.9365 709.07 Q68.7467 709.07 71.8022 713.677 Q74.8809 718.26 74.8809 727.01 Q74.8809 735.737 71.8022 740.343 Q68.7467 744.927 62.9365 744.927 Q57.1264 744.927 54.0477 740.343 Q50.9921 735.737 50.9921 727.01 Q50.9921 718.26 54.0477 713.677 Q57.1264 709.07 62.9365 709.07 Z\" fill=\"#000000\" fill-rule=\"evenodd\" fill-opacity=\"1\" /><path clip-path=\"url(#clip040)\" d=\"M 0 0 M79.9503 738.376 L84.8345 738.376 L84.8345 744.255 L79.9503 744.255 L79.9503 738.376 Z\" fill=\"#000000\" fill-rule=\"evenodd\" fill-opacity=\"1\" /><path clip-path=\"url(#clip040)\" d=\"M 0 0 M102.751 713.77 L90.9456 732.218 L102.751 732.218 L102.751 713.77 M101.524 709.695 L107.404 709.695 L107.404 732.218 L112.334 732.218 L112.334 736.107 L107.404 736.107 L107.404 744.255 L102.751 744.255 L102.751 736.107 L87.1493 736.107 L87.1493 731.593 L101.524 709.695 Z\" fill=\"#000000\" fill-rule=\"evenodd\" fill-opacity=\"1\" /><path clip-path=\"url(#clip040)\" d=\"M 0 0 M127.404 712.774 Q123.793 712.774 121.964 716.339 Q120.158 719.881 120.158 727.01 Q120.158 734.117 121.964 737.681 Q123.793 741.223 127.404 741.223 Q131.038 741.223 132.844 737.681 Q134.672 734.117 134.672 727.01 Q134.672 719.881 132.844 716.339 Q131.038 712.774 127.404 712.774 M127.404 709.07 Q133.214 709.07 136.269 713.677 Q139.348 718.26 139.348 727.01 Q139.348 735.737 136.269 740.343 Q133.214 744.927 127.404 744.927 Q121.594 744.927 118.515 740.343 Q115.459 735.737 115.459 727.01 Q115.459 718.26 118.515 713.677 Q121.594 709.07 127.404 709.07 Z\" fill=\"#000000\" fill-rule=\"evenodd\" fill-opacity=\"1\" /><path clip-path=\"url(#clip040)\" d=\"M 0 0 M1111.49 577.553 Q1114.13 578.444 1116.6 581.361 Q1119.11 584.278 1121.62 589.382 L1129.93 605.909 L1121.14 605.909 L1113.4 590.394 Q1110.4 584.318 1107.57 582.333 Q1104.77 580.348 1099.91 580.348 L1091 580.348 L1091 605.909 L1082.81 605.909 L1082.81 545.429 L1101.29 545.429 Q1111.66 545.429 1116.76 549.764 Q1121.87 554.098 1121.87 562.848 Q1121.87 568.56 1119.19 572.327 Q1116.56 576.095 1111.49 577.553 M1091 552.154 L1091 573.624 L1101.29 573.624 Q1107.2 573.624 1110.2 570.91 Q1113.24 568.155 1113.24 562.848 Q1113.24 557.542 1110.2 554.868 Q1107.2 552.154 1101.29 552.154 L1091 552.154 Z\" fill=\"#000000\" fill-rule=\"evenodd\" fill-opacity=\"1\" /><path clip-path=\"url(#clip040)\" d=\"M 0 0 M1172.83 581.361 L1172.83 585.007 L1138.56 585.007 Q1139.04 592.703 1143.17 596.754 Q1147.35 600.765 1154.76 600.765 Q1159.05 600.765 1163.06 599.711 Q1167.11 598.658 1171.08 596.552 L1171.08 603.6 Q1167.07 605.302 1162.86 606.193 Q1158.65 607.084 1154.31 607.084 Q1143.46 607.084 1137.1 600.765 Q1130.78 594.445 1130.78 583.67 Q1130.78 572.53 1136.77 566.008 Q1142.81 559.445 1153.02 559.445 Q1162.17 559.445 1167.48 565.36 Q1172.83 571.234 1172.83 581.361 M1165.37 579.173 Q1165.29 573.057 1161.93 569.411 Q1158.61 565.765 1153.1 565.765 Q1146.86 565.765 1143.09 569.289 Q1139.37 572.813 1138.8 579.214 L1165.37 579.173 Z\" fill=\"#000000\" fill-rule=\"evenodd\" fill-opacity=\"1\" /><path clip-path=\"url(#clip040)\" d=\"M 0 0 M1213.29 562.281 L1213.29 569.249 Q1210.13 567.507 1206.93 566.656 Q1203.77 565.765 1200.53 565.765 Q1193.28 565.765 1189.27 570.383 Q1185.26 574.96 1185.26 583.265 Q1185.26 591.569 1189.27 596.187 Q1193.28 600.765 1200.53 600.765 Q1203.77 600.765 1206.93 599.914 Q1210.13 599.023 1213.29 597.281 L1213.29 604.167 Q1210.17 605.626 1206.81 606.355 Q1203.49 607.084 1199.72 607.084 Q1189.47 607.084 1183.44 600.643 Q1177.4 594.202 1177.4 583.265 Q1177.4 572.165 1183.48 565.805 Q1189.6 559.445 1200.21 559.445 Q1203.65 559.445 1206.93 560.175 Q1210.22 560.863 1213.29 562.281 Z\" fill=\"#000000\" fill-rule=\"evenodd\" fill-opacity=\"1\" /><path clip-path=\"url(#clip040)\" d=\"M 0 0 M1259.92 581.361 L1259.92 585.007 L1225.65 585.007 Q1226.14 592.703 1230.27 596.754 Q1234.44 600.765 1241.85 600.765 Q1246.15 600.765 1250.16 599.711 Q1254.21 598.658 1258.18 596.552 L1258.18 603.6 Q1254.17 605.302 1249.95 606.193 Q1245.74 607.084 1241.41 607.084 Q1230.55 607.084 1224.19 600.765 Q1217.87 594.445 1217.87 583.67 Q1217.87 572.53 1223.87 566.008 Q1229.9 559.445 1240.11 559.445 Q1249.27 559.445 1254.57 565.36 Q1259.92 571.234 1259.92 581.361 M1252.47 579.173 Q1252.39 573.057 1249.02 569.411 Q1245.7 565.765 1240.19 565.765 Q1233.95 565.765 1230.19 569.289 Q1226.46 572.813 1225.89 579.214 L1252.47 579.173 Z\" fill=\"#000000\" fill-rule=\"evenodd\" fill-opacity=\"1\" /><path clip-path=\"url(#clip040)\" d=\"M 0 0 M1296.66 561.876 L1296.66 568.925 Q1293.5 567.304 1290.1 566.494 Q1286.7 565.684 1283.05 565.684 Q1277.5 565.684 1274.71 567.385 Q1271.95 569.087 1271.95 572.489 Q1271.95 575.082 1273.94 576.581 Q1275.92 578.039 1281.92 579.376 L1284.47 579.943 Q1292.41 581.644 1295.73 584.764 Q1299.09 587.842 1299.09 593.392 Q1299.09 599.711 1294.07 603.398 Q1289.09 607.084 1280.34 607.084 Q1276.69 607.084 1272.72 606.355 Q1268.79 605.666 1264.42 604.248 L1264.42 596.552 Q1268.55 598.699 1272.56 599.792 Q1276.57 600.846 1280.5 600.846 Q1285.76 600.846 1288.6 599.063 Q1291.44 597.24 1291.44 593.959 Q1291.44 590.921 1289.37 589.301 Q1287.34 587.68 1280.42 586.181 L1277.83 585.574 Q1270.9 584.115 1267.82 581.118 Q1264.74 578.08 1264.74 572.813 Q1264.74 566.413 1269.28 562.929 Q1273.81 559.445 1282.16 559.445 Q1286.29 559.445 1289.94 560.053 Q1293.58 560.661 1296.66 561.876 Z\" fill=\"#000000\" fill-rule=\"evenodd\" fill-opacity=\"1\" /><path clip-path=\"url(#clip040)\" d=\"M 0 0 M1335.83 561.876 L1335.83 568.925 Q1332.67 567.304 1329.27 566.494 Q1325.87 565.684 1322.22 565.684 Q1316.67 565.684 1313.88 567.385 Q1311.12 569.087 1311.12 572.489 Q1311.12 575.082 1313.11 576.581 Q1315.09 578.039 1321.09 579.376 L1323.64 579.943 Q1331.58 581.644 1334.9 584.764 Q1338.26 587.842 1338.26 593.392 Q1338.26 599.711 1333.24 603.398 Q1328.26 607.084 1319.51 607.084 Q1315.86 607.084 1311.89 606.355 Q1307.96 605.666 1303.59 604.248 L1303.59 596.552 Q1307.72 598.699 1311.73 599.792 Q1315.74 600.846 1319.67 600.846 Q1324.94 600.846 1327.77 599.063 Q1330.61 597.24 1330.61 593.959 Q1330.61 590.921 1328.54 589.301 Q1326.52 587.68 1319.59 586.181 L1317 585.574 Q1310.07 584.115 1306.99 581.118 Q1303.91 578.08 1303.91 572.813 Q1303.91 566.413 1308.45 562.929 Q1312.99 559.445 1321.33 559.445 Q1325.46 559.445 1329.11 560.053 Q1332.76 560.661 1335.83 561.876 Z\" fill=\"#000000\" fill-rule=\"evenodd\" fill-opacity=\"1\" /><path clip-path=\"url(#clip040)\" d=\"M 0 0 M1346.08 560.539 L1353.54 560.539 L1353.54 605.909 L1346.08 605.909 L1346.08 560.539 M1346.08 542.877 L1353.54 542.877 L1353.54 552.316 L1346.08 552.316 L1346.08 542.877 Z\" fill=\"#000000\" fill-rule=\"evenodd\" fill-opacity=\"1\" /><path clip-path=\"url(#clip040)\" d=\"M 0 0 M1378.94 565.765 Q1372.94 565.765 1369.46 570.464 Q1365.97 575.122 1365.97 583.265 Q1365.97 591.407 1369.42 596.106 Q1372.9 600.765 1378.94 600.765 Q1384.89 600.765 1388.37 596.066 Q1391.86 591.367 1391.86 583.265 Q1391.86 575.203 1388.37 570.504 Q1384.89 565.765 1378.94 565.765 M1378.94 559.445 Q1388.66 559.445 1394.21 565.765 Q1399.76 572.084 1399.76 583.265 Q1399.76 594.405 1394.21 600.765 Q1388.66 607.084 1378.94 607.084 Q1369.17 607.084 1363.62 600.765 Q1358.11 594.405 1358.11 583.265 Q1358.11 572.084 1363.62 565.765 Q1369.17 559.445 1378.94 559.445 Z\" fill=\"#000000\" fill-rule=\"evenodd\" fill-opacity=\"1\" /><path clip-path=\"url(#clip040)\" d=\"M 0 0 M1445.29 578.525 L1445.29 605.909 L1437.84 605.909 L1437.84 578.768 Q1437.84 572.327 1435.32 569.127 Q1432.81 565.927 1427.79 565.927 Q1421.75 565.927 1418.27 569.775 Q1414.79 573.624 1414.79 580.267 L1414.79 605.909 L1407.29 605.909 L1407.29 560.539 L1414.79 560.539 L1414.79 567.588 Q1417.46 563.496 1421.07 561.471 Q1424.71 559.445 1429.45 559.445 Q1437.27 559.445 1441.28 564.307 Q1445.29 569.127 1445.29 578.525 Z\" fill=\"#000000\" fill-rule=\"evenodd\" fill-opacity=\"1\" /><polyline clip-path=\"url(#clip043)\" style=\"stroke:#009af9; stroke-width:4; stroke-opacity:1; fill:none\" points=\"\n",
       "  236.973,679.449 345.086,665.192 453.2,691.569 561.314,727.57 669.427,762.726 777.541,793.933 885.654,820.659 993.768,843.212 1101.88,862.124 1210,877.94 \n",
       "  1318.11,891.151 1426.22,902.18 1534.34,911.386 1642.45,919.069 1750.56,925.48 1858.68,930.831 1966.79,935.297 2074.9,939.023 2183.02,942.133 2291.13,944.728 \n",
       "  \n",
       "  \"/>\n",
       "<path clip-path=\"url(#clip040)\" d=\"\n",
       "M1987.22 787.642 L2280.18 787.642 L2280.18 666.682 L1987.22 666.682  Z\n",
       "  \" fill=\"#ffffff\" fill-rule=\"evenodd\" fill-opacity=\"1\"/>\n",
       "<polyline clip-path=\"url(#clip040)\" style=\"stroke:#000000; stroke-width:4; stroke-opacity:1; fill:none\" points=\"\n",
       "  1987.22,787.642 2280.18,787.642 2280.18,666.682 1987.22,666.682 1987.22,787.642 \n",
       "  \"/>\n",
       "<polyline clip-path=\"url(#clip040)\" style=\"stroke:#009af9; stroke-width:4; stroke-opacity:1; fill:none\" points=\"\n",
       "  2011.42,727.162 2156.58,727.162 \n",
       "  \"/>\n",
       "<path clip-path=\"url(#clip040)\" d=\"M 0 0 M2194.61 746.85 Q2192.81 751.479 2191.09 752.891 Q2189.38 754.303 2186.51 754.303 L2183.11 754.303 L2183.11 750.739 L2185.61 750.739 Q2187.37 750.739 2188.34 749.905 Q2189.31 749.072 2190.49 745.97 L2191.26 744.026 L2180.77 718.517 L2185.28 718.517 L2193.39 738.794 L2201.49 718.517 L2206 718.517 L2194.61 746.85 Z\" fill=\"#000000\" fill-rule=\"evenodd\" fill-opacity=\"1\" /><path clip-path=\"url(#clip040)\" d=\"M 0 0 M2211.88 740.507 L2219.52 740.507 L2219.52 714.142 L2211.21 715.808 L2211.21 711.549 L2219.47 709.882 L2224.15 709.882 L2224.15 740.507 L2231.79 740.507 L2231.79 744.442 L2211.88 744.442 L2211.88 740.507 Z\" fill=\"#000000\" fill-rule=\"evenodd\" fill-opacity=\"1\" /><path clip-path=\"url(#clip040)\" d=\"\n",
       "M175.348 1486.45 L2352.76 1486.45 L2352.76 1190.14 L175.348 1190.14  Z\n",
       "  \" fill=\"#ffffff\" fill-rule=\"evenodd\" fill-opacity=\"1\"/>\n",
       "<defs>\n",
       "  <clipPath id=\"clip044\">\n",
       "    <rect x=\"175\" y=\"1190\" width=\"2178\" height=\"297\"/>\n",
       "  </clipPath>\n",
       "</defs>\n",
       "<polyline clip-path=\"url(#clip044)\" style=\"stroke:#000000; stroke-width:2; stroke-opacity:0.1; fill:none\" points=\"\n",
       "  669.427,1486.45 669.427,1190.14 \n",
       "  \"/>\n",
       "<polyline clip-path=\"url(#clip044)\" style=\"stroke:#000000; stroke-width:2; stroke-opacity:0.1; fill:none\" points=\"\n",
       "  1210,1486.45 1210,1190.14 \n",
       "  \"/>\n",
       "<polyline clip-path=\"url(#clip044)\" style=\"stroke:#000000; stroke-width:2; stroke-opacity:0.1; fill:none\" points=\"\n",
       "  1750.56,1486.45 1750.56,1190.14 \n",
       "  \"/>\n",
       "<polyline clip-path=\"url(#clip044)\" style=\"stroke:#000000; stroke-width:2; stroke-opacity:0.1; fill:none\" points=\"\n",
       "  2291.13,1486.45 2291.13,1190.14 \n",
       "  \"/>\n",
       "<polyline clip-path=\"url(#clip040)\" style=\"stroke:#000000; stroke-width:4; stroke-opacity:1; fill:none\" points=\"\n",
       "  175.348,1486.45 2352.76,1486.45 \n",
       "  \"/>\n",
       "<polyline clip-path=\"url(#clip040)\" style=\"stroke:#000000; stroke-width:4; stroke-opacity:1; fill:none\" points=\"\n",
       "  669.427,1486.45 669.427,1482.89 \n",
       "  \"/>\n",
       "<polyline clip-path=\"url(#clip040)\" style=\"stroke:#000000; stroke-width:4; stroke-opacity:1; fill:none\" points=\"\n",
       "  1210,1486.45 1210,1482.89 \n",
       "  \"/>\n",
       "<polyline clip-path=\"url(#clip040)\" style=\"stroke:#000000; stroke-width:4; stroke-opacity:1; fill:none\" points=\"\n",
       "  1750.56,1486.45 1750.56,1482.89 \n",
       "  \"/>\n",
       "<polyline clip-path=\"url(#clip040)\" style=\"stroke:#000000; stroke-width:4; stroke-opacity:1; fill:none\" points=\"\n",
       "  2291.13,1486.45 2291.13,1482.89 \n",
       "  \"/>\n",
       "<path clip-path=\"url(#clip040)\" d=\"M 0 0 M659.705 1512.56 L678.061 1512.56 L678.061 1516.5 L663.987 1516.5 L663.987 1524.97 Q665.006 1524.62 666.024 1524.46 Q667.043 1524.27 668.062 1524.27 Q673.849 1524.27 677.228 1527.44 Q680.608 1530.62 680.608 1536.03 Q680.608 1541.61 677.136 1544.71 Q673.663 1547.79 667.344 1547.79 Q665.168 1547.79 662.9 1547.42 Q660.654 1547.05 658.247 1546.31 L658.247 1541.61 Q660.33 1542.74 662.552 1543.3 Q664.775 1543.86 667.251 1543.86 Q671.256 1543.86 673.594 1541.75 Q675.932 1539.64 675.932 1536.03 Q675.932 1532.42 673.594 1530.31 Q671.256 1528.21 667.251 1528.21 Q665.376 1528.21 663.501 1528.62 Q661.65 1529.04 659.705 1529.92 L659.705 1512.56 Z\" fill=\"#000000\" fill-rule=\"evenodd\" fill-opacity=\"1\" /><path clip-path=\"url(#clip040)\" d=\"M 0 0 M1186.87 1543.18 L1194.51 1543.18 L1194.51 1516.82 L1186.2 1518.49 L1186.2 1514.23 L1194.46 1512.56 L1199.14 1512.56 L1199.14 1543.18 L1206.78 1543.18 L1206.78 1547.12 L1186.87 1547.12 L1186.87 1543.18 Z\" fill=\"#000000\" fill-rule=\"evenodd\" fill-opacity=\"1\" /><path clip-path=\"url(#clip040)\" d=\"M 0 0 M1221.85 1515.64 Q1218.24 1515.64 1216.41 1519.2 Q1214.6 1522.75 1214.6 1529.87 Q1214.6 1536.98 1216.41 1540.55 Q1218.24 1544.09 1221.85 1544.09 Q1225.48 1544.09 1227.29 1540.55 Q1229.12 1536.98 1229.12 1529.87 Q1229.12 1522.75 1227.29 1519.2 Q1225.48 1515.64 1221.85 1515.64 M1221.85 1511.93 Q1227.66 1511.93 1230.71 1516.54 Q1233.79 1521.12 1233.79 1529.87 Q1233.79 1538.6 1230.71 1543.21 Q1227.66 1547.79 1221.85 1547.79 Q1216.04 1547.79 1212.96 1543.21 Q1209.9 1538.6 1209.9 1529.87 Q1209.9 1521.12 1212.96 1516.54 Q1216.04 1511.93 1221.85 1511.93 Z\" fill=\"#000000\" fill-rule=\"evenodd\" fill-opacity=\"1\" /><path clip-path=\"url(#clip040)\" d=\"M 0 0 M1727.94 1543.18 L1735.57 1543.18 L1735.57 1516.82 L1727.26 1518.49 L1727.26 1514.23 L1735.53 1512.56 L1740.2 1512.56 L1740.2 1543.18 L1747.84 1543.18 L1747.84 1547.12 L1727.94 1547.12 L1727.94 1543.18 Z\" fill=\"#000000\" fill-rule=\"evenodd\" fill-opacity=\"1\" /><path clip-path=\"url(#clip040)\" d=\"M 0 0 M1752.96 1512.56 L1771.32 1512.56 L1771.32 1516.5 L1757.24 1516.5 L1757.24 1524.97 Q1758.26 1524.62 1759.28 1524.46 Q1760.3 1524.27 1761.32 1524.27 Q1767.1 1524.27 1770.48 1527.44 Q1773.86 1530.62 1773.86 1536.03 Q1773.86 1541.61 1770.39 1544.71 Q1766.92 1547.79 1760.6 1547.79 Q1758.42 1547.79 1756.15 1547.42 Q1753.91 1547.05 1751.5 1546.31 L1751.5 1541.61 Q1753.58 1542.74 1755.81 1543.3 Q1758.03 1543.86 1760.51 1543.86 Q1764.51 1543.86 1766.85 1541.75 Q1769.19 1539.64 1769.19 1536.03 Q1769.19 1532.42 1766.85 1530.31 Q1764.51 1528.21 1760.51 1528.21 Q1758.63 1528.21 1756.76 1528.62 Q1754.9 1529.04 1752.96 1529.92 L1752.96 1512.56 Z\" fill=\"#000000\" fill-rule=\"evenodd\" fill-opacity=\"1\" /><path clip-path=\"url(#clip040)\" d=\"M 0 0 M2272.28 1543.18 L2288.6 1543.18 L2288.6 1547.12 L2266.65 1547.12 L2266.65 1543.18 Q2269.31 1540.43 2273.9 1535.8 Q2278.5 1531.15 2279.68 1529.81 Q2281.93 1527.28 2282.81 1525.55 Q2283.71 1523.79 2283.71 1522.1 Q2283.71 1519.34 2281.77 1517.61 Q2279.85 1515.87 2276.74 1515.87 Q2274.55 1515.87 2272.09 1516.63 Q2269.66 1517.4 2266.88 1518.95 L2266.88 1514.23 Q2269.71 1513.09 2272.16 1512.51 Q2274.62 1511.93 2276.65 1511.93 Q2282.02 1511.93 2285.22 1514.62 Q2288.41 1517.31 2288.41 1521.8 Q2288.41 1523.93 2287.6 1525.85 Q2286.81 1527.74 2284.71 1530.34 Q2284.13 1531.01 2281.03 1534.23 Q2277.93 1537.42 2272.28 1543.18 Z\" fill=\"#000000\" fill-rule=\"evenodd\" fill-opacity=\"1\" /><path clip-path=\"url(#clip040)\" d=\"M 0 0 M2303.67 1515.64 Q2300.05 1515.64 2298.23 1519.2 Q2296.42 1522.75 2296.42 1529.87 Q2296.42 1536.98 2298.23 1540.55 Q2300.05 1544.09 2303.67 1544.09 Q2307.3 1544.09 2309.11 1540.55 Q2310.93 1536.98 2310.93 1529.87 Q2310.93 1522.75 2309.11 1519.2 Q2307.3 1515.64 2303.67 1515.64 M2303.67 1511.93 Q2309.48 1511.93 2312.53 1516.54 Q2315.61 1521.12 2315.61 1529.87 Q2315.61 1538.6 2312.53 1543.21 Q2309.48 1547.79 2303.67 1547.79 Q2297.86 1547.79 2294.78 1543.21 Q2291.72 1538.6 2291.72 1529.87 Q2291.72 1521.12 2294.78 1516.54 Q2297.86 1511.93 2303.67 1511.93 Z\" fill=\"#000000\" fill-rule=\"evenodd\" fill-opacity=\"1\" /><polyline clip-path=\"url(#clip044)\" style=\"stroke:#000000; stroke-width:2; stroke-opacity:0.1; fill:none\" points=\"\n",
       "  175.348,1460.06 2352.76,1460.06 \n",
       "  \"/>\n",
       "<polyline clip-path=\"url(#clip044)\" style=\"stroke:#000000; stroke-width:2; stroke-opacity:0.1; fill:none\" points=\"\n",
       "  175.348,1404.02 2352.76,1404.02 \n",
       "  \"/>\n",
       "<polyline clip-path=\"url(#clip044)\" style=\"stroke:#000000; stroke-width:2; stroke-opacity:0.1; fill:none\" points=\"\n",
       "  175.348,1347.97 2352.76,1347.97 \n",
       "  \"/>\n",
       "<polyline clip-path=\"url(#clip044)\" style=\"stroke:#000000; stroke-width:2; stroke-opacity:0.1; fill:none\" points=\"\n",
       "  175.348,1291.93 2352.76,1291.93 \n",
       "  \"/>\n",
       "<polyline clip-path=\"url(#clip044)\" style=\"stroke:#000000; stroke-width:2; stroke-opacity:0.1; fill:none\" points=\"\n",
       "  175.348,1235.89 2352.76,1235.89 \n",
       "  \"/>\n",
       "<polyline clip-path=\"url(#clip040)\" style=\"stroke:#000000; stroke-width:4; stroke-opacity:1; fill:none\" points=\"\n",
       "  175.348,1486.45 175.348,1190.14 \n",
       "  \"/>\n",
       "<polyline clip-path=\"url(#clip040)\" style=\"stroke:#000000; stroke-width:4; stroke-opacity:1; fill:none\" points=\"\n",
       "  175.348,1460.06 201.477,1460.06 \n",
       "  \"/>\n",
       "<polyline clip-path=\"url(#clip040)\" style=\"stroke:#000000; stroke-width:4; stroke-opacity:1; fill:none\" points=\"\n",
       "  175.348,1404.02 201.477,1404.02 \n",
       "  \"/>\n",
       "<polyline clip-path=\"url(#clip040)\" style=\"stroke:#000000; stroke-width:4; stroke-opacity:1; fill:none\" points=\"\n",
       "  175.348,1347.97 201.477,1347.97 \n",
       "  \"/>\n",
       "<polyline clip-path=\"url(#clip040)\" style=\"stroke:#000000; stroke-width:4; stroke-opacity:1; fill:none\" points=\"\n",
       "  175.348,1291.93 201.477,1291.93 \n",
       "  \"/>\n",
       "<polyline clip-path=\"url(#clip040)\" style=\"stroke:#000000; stroke-width:4; stroke-opacity:1; fill:none\" points=\"\n",
       "  175.348,1235.89 201.477,1235.89 \n",
       "  \"/>\n",
       "<path clip-path=\"url(#clip040)\" d=\"M 0 0 M63.2606 1445.86 Q59.6495 1445.86 57.8208 1449.42 Q56.0152 1452.96 56.0152 1460.09 Q56.0152 1467.2 57.8208 1470.77 Q59.6495 1474.31 63.2606 1474.31 Q66.8948 1474.31 68.7004 1470.77 Q70.5291 1467.2 70.5291 1460.09 Q70.5291 1452.96 68.7004 1449.42 Q66.8948 1445.86 63.2606 1445.86 M63.2606 1442.15 Q69.0707 1442.15 72.1263 1446.76 Q75.205 1451.34 75.205 1460.09 Q75.205 1468.82 72.1263 1473.43 Q69.0707 1478.01 63.2606 1478.01 Q57.4504 1478.01 54.3717 1473.43 Q51.3162 1468.82 51.3162 1460.09 Q51.3162 1451.34 54.3717 1446.76 Q57.4504 1442.15 63.2606 1442.15 Z\" fill=\"#000000\" fill-rule=\"evenodd\" fill-opacity=\"1\" /><path clip-path=\"url(#clip040)\" d=\"M 0 0 M80.2744 1471.46 L85.1586 1471.46 L85.1586 1477.34 L80.2744 1477.34 L80.2744 1471.46 Z\" fill=\"#000000\" fill-rule=\"evenodd\" fill-opacity=\"1\" /><path clip-path=\"url(#clip040)\" d=\"M 0 0 M100.228 1445.86 Q96.6169 1445.86 94.7882 1449.42 Q92.9826 1452.96 92.9826 1460.09 Q92.9826 1467.2 94.7882 1470.77 Q96.6169 1474.31 100.228 1474.31 Q103.862 1474.31 105.668 1470.77 Q107.496 1467.2 107.496 1460.09 Q107.496 1452.96 105.668 1449.42 Q103.862 1445.86 100.228 1445.86 M100.228 1442.15 Q106.038 1442.15 109.094 1446.76 Q112.172 1451.34 112.172 1460.09 Q112.172 1468.82 109.094 1473.43 Q106.038 1478.01 100.228 1478.01 Q94.4178 1478.01 91.3391 1473.43 Q88.2836 1468.82 88.2836 1460.09 Q88.2836 1451.34 91.3391 1446.76 Q94.4178 1442.15 100.228 1442.15 Z\" fill=\"#000000\" fill-rule=\"evenodd\" fill-opacity=\"1\" /><path clip-path=\"url(#clip040)\" d=\"M 0 0 M127.82 1458.2 Q124.672 1458.2 122.82 1460.35 Q120.992 1462.5 120.992 1466.25 Q120.992 1469.98 122.82 1472.15 Q124.672 1474.31 127.82 1474.31 Q130.969 1474.31 132.797 1472.15 Q134.649 1469.98 134.649 1466.25 Q134.649 1462.5 132.797 1460.35 Q130.969 1458.2 127.82 1458.2 M137.103 1443.54 L137.103 1447.8 Q135.344 1446.97 133.538 1446.53 Q131.756 1446.09 129.996 1446.09 Q125.367 1446.09 122.913 1449.21 Q120.482 1452.34 120.135 1458.66 Q121.501 1456.64 123.561 1455.58 Q125.621 1454.49 128.098 1454.49 Q133.306 1454.49 136.316 1457.66 Q139.348 1460.81 139.348 1466.25 Q139.348 1471.58 136.2 1474.79 Q133.052 1478.01 127.82 1478.01 Q121.825 1478.01 118.654 1473.43 Q115.483 1468.82 115.483 1460.09 Q115.483 1451.9 119.371 1447.04 Q123.26 1442.15 129.811 1442.15 Q131.57 1442.15 133.353 1442.5 Q135.158 1442.85 137.103 1443.54 Z\" fill=\"#000000\" fill-rule=\"evenodd\" fill-opacity=\"1\" /><path clip-path=\"url(#clip040)\" d=\"M 0 0 M63.6078 1389.81 Q59.9967 1389.81 58.168 1393.38 Q56.3625 1396.92 56.3625 1404.05 Q56.3625 1411.16 58.168 1414.72 Q59.9967 1418.26 63.6078 1418.26 Q67.242 1418.26 69.0476 1414.72 Q70.8763 1411.16 70.8763 1404.05 Q70.8763 1396.92 69.0476 1393.38 Q67.242 1389.81 63.6078 1389.81 M63.6078 1386.11 Q69.418 1386.11 72.4735 1390.72 Q75.5522 1395.3 75.5522 1404.05 Q75.5522 1412.78 72.4735 1417.38 Q69.418 1421.97 63.6078 1421.97 Q57.7976 1421.97 54.719 1417.38 Q51.6634 1412.78 51.6634 1404.05 Q51.6634 1395.3 54.719 1390.72 Q57.7976 1386.11 63.6078 1386.11 Z\" fill=\"#000000\" fill-rule=\"evenodd\" fill-opacity=\"1\" /><path clip-path=\"url(#clip040)\" d=\"M 0 0 M80.6216 1415.42 L85.5058 1415.42 L85.5058 1421.3 L80.6216 1421.3 L80.6216 1415.42 Z\" fill=\"#000000\" fill-rule=\"evenodd\" fill-opacity=\"1\" /><path clip-path=\"url(#clip040)\" d=\"M 0 0 M100.575 1389.81 Q96.9641 1389.81 95.1354 1393.38 Q93.3299 1396.92 93.3299 1404.05 Q93.3299 1411.16 95.1354 1414.72 Q96.9641 1418.26 100.575 1418.26 Q104.209 1418.26 106.015 1414.72 Q107.844 1411.16 107.844 1404.05 Q107.844 1396.92 106.015 1393.38 Q104.209 1389.81 100.575 1389.81 M100.575 1386.11 Q106.385 1386.11 109.441 1390.72 Q112.52 1395.3 112.52 1404.05 Q112.52 1412.78 109.441 1417.38 Q106.385 1421.97 100.575 1421.97 Q94.765 1421.97 91.6864 1417.38 Q88.6308 1412.78 88.6308 1404.05 Q88.6308 1395.3 91.6864 1390.72 Q94.765 1386.11 100.575 1386.11 Z\" fill=\"#000000\" fill-rule=\"evenodd\" fill-opacity=\"1\" /><path clip-path=\"url(#clip040)\" d=\"M 0 0 M117.728 1420.58 L117.728 1416.32 Q119.487 1417.15 121.293 1417.59 Q123.098 1418.03 124.834 1418.03 Q129.464 1418.03 131.894 1414.93 Q134.348 1411.81 134.695 1405.46 Q133.353 1407.45 131.293 1408.52 Q129.232 1409.58 126.732 1409.58 Q121.547 1409.58 118.515 1406.46 Q115.506 1403.31 115.506 1397.87 Q115.506 1392.55 118.654 1389.33 Q121.802 1386.11 127.033 1386.11 Q133.029 1386.11 136.177 1390.72 Q139.348 1395.3 139.348 1404.05 Q139.348 1412.22 135.459 1417.11 Q131.594 1421.97 125.043 1421.97 Q123.283 1421.97 121.478 1421.62 Q119.672 1421.27 117.728 1420.58 M127.033 1405.93 Q130.182 1405.93 132.01 1403.77 Q133.862 1401.62 133.862 1397.87 Q133.862 1394.14 132.01 1391.99 Q130.182 1389.81 127.033 1389.81 Q123.885 1389.81 122.033 1391.99 Q120.205 1394.14 120.205 1397.87 Q120.205 1401.62 122.033 1403.77 Q123.885 1405.93 127.033 1405.93 Z\" fill=\"#000000\" fill-rule=\"evenodd\" fill-opacity=\"1\" /><path clip-path=\"url(#clip040)\" d=\"M 0 0 M66.2467 1333.77 Q62.6356 1333.77 60.8069 1337.34 Q59.0013 1340.88 59.0013 1348.01 Q59.0013 1355.11 60.8069 1358.68 Q62.6356 1362.22 66.2467 1362.22 Q69.8809 1362.22 71.6865 1358.68 Q73.5152 1355.11 73.5152 1348.01 Q73.5152 1340.88 71.6865 1337.34 Q69.8809 1333.77 66.2467 1333.77 M66.2467 1330.07 Q72.0568 1330.07 75.1124 1334.67 Q78.1911 1339.26 78.1911 1348.01 Q78.1911 1356.73 75.1124 1361.34 Q72.0568 1365.92 66.2467 1365.92 Q60.4365 1365.92 57.3578 1361.34 Q54.3023 1356.73 54.3023 1348.01 Q54.3023 1339.26 57.3578 1334.67 Q60.4365 1330.07 66.2467 1330.07 Z\" fill=\"#000000\" fill-rule=\"evenodd\" fill-opacity=\"1\" /><path clip-path=\"url(#clip040)\" d=\"M 0 0 M83.2605 1359.37 L88.1447 1359.37 L88.1447 1365.25 L83.2605 1365.25 L83.2605 1359.37 Z\" fill=\"#000000\" fill-rule=\"evenodd\" fill-opacity=\"1\" /><path clip-path=\"url(#clip040)\" d=\"M 0 0 M94.0243 1361.32 L101.663 1361.32 L101.663 1334.95 L93.353 1336.62 L93.353 1332.36 L101.617 1330.69 L106.293 1330.69 L106.293 1361.32 L113.932 1361.32 L113.932 1365.25 L94.0243 1365.25 L94.0243 1361.32 Z\" fill=\"#000000\" fill-rule=\"evenodd\" fill-opacity=\"1\" /><path clip-path=\"url(#clip040)\" d=\"M 0 0 M123.029 1361.32 L139.348 1361.32 L139.348 1365.25 L117.404 1365.25 L117.404 1361.32 Q120.066 1358.56 124.649 1353.93 Q129.256 1349.28 130.436 1347.94 Q132.682 1345.42 133.561 1343.68 Q134.464 1341.92 134.464 1340.23 Q134.464 1337.48 132.519 1335.74 Q130.598 1334 127.496 1334 Q125.297 1334 122.844 1334.77 Q120.413 1335.53 117.635 1337.08 L117.635 1332.36 Q120.459 1331.23 122.913 1330.65 Q125.367 1330.07 127.404 1330.07 Q132.774 1330.07 135.969 1332.75 Q139.163 1335.44 139.163 1339.93 Q139.163 1342.06 138.353 1343.98 Q137.566 1345.88 135.459 1348.47 Q134.881 1349.14 131.779 1352.36 Q128.677 1355.55 123.029 1361.32 Z\" fill=\"#000000\" fill-rule=\"evenodd\" fill-opacity=\"1\" /><path clip-path=\"url(#clip040)\" d=\"M 0 0 M65.6448 1277.73 Q62.0337 1277.73 60.205 1281.29 Q58.3995 1284.84 58.3995 1291.96 Q58.3995 1299.07 60.205 1302.64 Q62.0337 1306.18 65.6448 1306.18 Q69.2791 1306.18 71.0846 1302.64 Q72.9133 1299.07 72.9133 1291.96 Q72.9133 1284.84 71.0846 1281.29 Q69.2791 1277.73 65.6448 1277.73 M65.6448 1274.02 Q71.455 1274.02 74.5105 1278.63 Q77.5892 1283.21 77.5892 1291.96 Q77.5892 1300.69 74.5105 1305.3 Q71.455 1309.88 65.6448 1309.88 Q59.8347 1309.88 56.756 1305.3 Q53.7004 1300.69 53.7004 1291.96 Q53.7004 1283.21 56.756 1278.63 Q59.8347 1274.02 65.6448 1274.02 Z\" fill=\"#000000\" fill-rule=\"evenodd\" fill-opacity=\"1\" /><path clip-path=\"url(#clip040)\" d=\"M 0 0 M82.6586 1303.33 L87.5429 1303.33 L87.5429 1309.21 L82.6586 1309.21 L82.6586 1303.33 Z\" fill=\"#000000\" fill-rule=\"evenodd\" fill-opacity=\"1\" /><path clip-path=\"url(#clip040)\" d=\"M 0 0 M93.4225 1305.27 L101.061 1305.27 L101.061 1278.91 L92.7512 1280.58 L92.7512 1276.32 L101.015 1274.65 L105.691 1274.65 L105.691 1305.27 L113.33 1305.27 L113.33 1309.21 L93.4225 1309.21 L93.4225 1305.27 Z\" fill=\"#000000\" fill-rule=\"evenodd\" fill-opacity=\"1\" /><path clip-path=\"url(#clip040)\" d=\"M 0 0 M118.445 1274.65 L136.802 1274.65 L136.802 1278.59 L122.728 1278.59 L122.728 1287.06 Q123.746 1286.71 124.765 1286.55 Q125.783 1286.36 126.802 1286.36 Q132.589 1286.36 135.969 1289.53 Q139.348 1292.71 139.348 1298.12 Q139.348 1303.7 135.876 1306.8 Q132.404 1309.88 126.084 1309.88 Q123.908 1309.88 121.64 1309.51 Q119.395 1309.14 116.987 1308.4 L116.987 1303.7 Q119.07 1304.83 121.293 1305.39 Q123.515 1305.95 125.992 1305.95 Q129.996 1305.95 132.334 1303.84 Q134.672 1301.73 134.672 1298.12 Q134.672 1294.51 132.334 1292.4 Q129.996 1290.3 125.992 1290.3 Q124.117 1290.3 122.242 1290.71 Q120.39 1291.13 118.445 1292.01 L118.445 1274.65 Z\" fill=\"#000000\" fill-rule=\"evenodd\" fill-opacity=\"1\" /><path clip-path=\"url(#clip040)\" d=\"M 0 0 M64.7421 1221.69 Q61.131 1221.69 59.3023 1225.25 Q57.4967 1228.79 57.4967 1235.92 Q57.4967 1243.03 59.3023 1246.59 Q61.131 1250.13 64.7421 1250.13 Q68.3763 1250.13 70.1818 1246.59 Q72.0105 1243.03 72.0105 1235.92 Q72.0105 1228.79 70.1818 1225.25 Q68.3763 1221.69 64.7421 1221.69 M64.7421 1217.98 Q70.5522 1217.98 73.6077 1222.59 Q76.6864 1227.17 76.6864 1235.92 Q76.6864 1244.65 73.6077 1249.25 Q70.5522 1253.84 64.7421 1253.84 Q58.9319 1253.84 55.8532 1249.25 Q52.7977 1244.65 52.7977 1235.92 Q52.7977 1227.17 55.8532 1222.59 Q58.9319 1217.98 64.7421 1217.98 Z\" fill=\"#000000\" fill-rule=\"evenodd\" fill-opacity=\"1\" /><path clip-path=\"url(#clip040)\" d=\"M 0 0 M81.7559 1247.29 L86.6401 1247.29 L86.6401 1253.17 L81.7559 1253.17 L81.7559 1247.29 Z\" fill=\"#000000\" fill-rule=\"evenodd\" fill-opacity=\"1\" /><path clip-path=\"url(#clip040)\" d=\"M 0 0 M92.5197 1249.23 L100.159 1249.23 L100.159 1222.87 L91.8484 1224.53 L91.8484 1220.27 L100.112 1218.61 L104.788 1218.61 L104.788 1249.23 L112.427 1249.23 L112.427 1253.17 L92.5197 1253.17 L92.5197 1249.23 Z\" fill=\"#000000\" fill-rule=\"evenodd\" fill-opacity=\"1\" /><path clip-path=\"url(#clip040)\" d=\"M 0 0 M127.496 1236.75 Q124.163 1236.75 122.242 1238.54 Q120.344 1240.32 120.344 1243.44 Q120.344 1246.57 122.242 1248.35 Q124.163 1250.13 127.496 1250.13 Q130.83 1250.13 132.751 1248.35 Q134.672 1246.55 134.672 1243.44 Q134.672 1240.32 132.751 1238.54 Q130.853 1236.75 127.496 1236.75 M122.82 1234.76 Q119.811 1234.02 118.121 1231.96 Q116.455 1229.9 116.455 1226.94 Q116.455 1222.8 119.395 1220.39 Q122.357 1217.98 127.496 1217.98 Q132.658 1217.98 135.598 1220.39 Q138.538 1222.8 138.538 1226.94 Q138.538 1229.9 136.848 1231.96 Q135.181 1234.02 132.195 1234.76 Q135.575 1235.55 137.45 1237.84 Q139.348 1240.13 139.348 1243.44 Q139.348 1248.47 136.269 1251.15 Q133.214 1253.84 127.496 1253.84 Q121.779 1253.84 118.7 1251.15 Q115.645 1248.47 115.645 1243.44 Q115.645 1240.13 117.543 1237.84 Q119.441 1235.55 122.82 1234.76 M121.107 1227.38 Q121.107 1230.07 122.774 1231.57 Q124.464 1233.07 127.496 1233.07 Q130.506 1233.07 132.195 1231.57 Q133.908 1230.07 133.908 1227.38 Q133.908 1224.69 132.195 1223.19 Q130.506 1221.69 127.496 1221.69 Q124.464 1221.69 122.774 1223.19 Q121.107 1224.69 121.107 1227.38 Z\" fill=\"#000000\" fill-rule=\"evenodd\" fill-opacity=\"1\" /><path clip-path=\"url(#clip040)\" d=\"M 0 0 M977.633 1085.49 L977.633 1132.52 L987.517 1132.52 Q1000.03 1132.52 1005.83 1126.85 Q1011.66 1121.18 1011.66 1108.94 Q1011.66 1096.79 1005.83 1091.16 Q1000.03 1085.49 987.517 1085.49 L977.633 1085.49 M969.45 1078.76 L986.261 1078.76 Q1003.84 1078.76 1012.07 1086.09 Q1020.29 1093.39 1020.29 1108.94 Q1020.29 1124.58 1012.03 1131.91 Q1003.76 1139.24 986.261 1139.24 L969.45 1139.24 L969.45 1078.76 Z\" fill=\"#000000\" fill-rule=\"evenodd\" fill-opacity=\"1\" /><path clip-path=\"url(#clip040)\" d=\"M 0 0 M1066.91 1114.69 L1066.91 1118.34 L1032.64 1118.34 Q1033.13 1126.04 1037.26 1130.09 Q1041.43 1134.1 1048.85 1134.1 Q1053.14 1134.1 1057.15 1133.04 Q1061.2 1131.99 1065.17 1129.89 L1065.17 1136.93 Q1061.16 1138.64 1056.95 1139.53 Q1052.74 1140.42 1048.4 1140.42 Q1037.55 1140.42 1031.19 1134.1 Q1024.87 1127.78 1024.87 1117 Q1024.87 1105.86 1030.86 1099.34 Q1036.9 1092.78 1047.11 1092.78 Q1056.26 1092.78 1061.57 1098.69 Q1066.91 1104.57 1066.91 1114.69 M1059.46 1112.51 Q1059.38 1106.39 1056.02 1102.74 Q1052.7 1099.1 1047.19 1099.1 Q1040.95 1099.1 1037.18 1102.62 Q1033.45 1106.15 1032.89 1112.55 L1059.46 1112.51 Z\" fill=\"#000000\" fill-rule=\"evenodd\" fill-opacity=\"1\" /><path clip-path=\"url(#clip040)\" d=\"M 0 0 M1113.54 1114.69 L1113.54 1118.34 L1079.27 1118.34 Q1079.76 1126.04 1083.89 1130.09 Q1088.06 1134.1 1095.47 1134.1 Q1099.77 1134.1 1103.78 1133.04 Q1107.83 1131.99 1111.8 1129.89 L1111.8 1136.93 Q1107.79 1138.64 1103.58 1139.53 Q1099.36 1140.42 1095.03 1140.42 Q1084.17 1140.42 1077.81 1134.1 Q1071.49 1127.78 1071.49 1117 Q1071.49 1105.86 1077.49 1099.34 Q1083.52 1092.78 1093.73 1092.78 Q1102.89 1092.78 1108.19 1098.69 Q1113.54 1104.57 1113.54 1114.69 M1106.09 1112.51 Q1106.01 1106.39 1102.64 1102.74 Q1099.32 1099.1 1093.81 1099.1 Q1087.57 1099.1 1083.81 1102.62 Q1080.08 1106.15 1079.51 1112.55 L1106.09 1112.51 Z\" fill=\"#000000\" fill-rule=\"evenodd\" fill-opacity=\"1\" /><path clip-path=\"url(#clip040)\" d=\"M 0 0 M1128.57 1132.44 L1128.57 1156.5 L1121.08 1156.5 L1121.08 1093.87 L1128.57 1093.87 L1128.57 1100.76 Q1130.92 1096.71 1134.48 1094.76 Q1138.09 1092.78 1143.07 1092.78 Q1151.34 1092.78 1156.48 1099.34 Q1161.67 1105.9 1161.67 1116.6 Q1161.67 1127.29 1156.48 1133.85 Q1151.34 1140.42 1143.07 1140.42 Q1138.09 1140.42 1134.48 1138.47 Q1130.92 1136.49 1128.57 1132.44 M1153.93 1116.6 Q1153.93 1108.37 1150.53 1103.72 Q1147.16 1099.02 1141.25 1099.02 Q1135.33 1099.02 1131.93 1103.72 Q1128.57 1108.37 1128.57 1116.6 Q1128.57 1124.82 1131.93 1129.52 Q1135.33 1134.18 1141.25 1134.18 Q1147.16 1134.18 1150.53 1129.52 Q1153.93 1124.82 1153.93 1116.6 Z\" fill=\"#000000\" fill-rule=\"evenodd\" fill-opacity=\"1\" /><path clip-path=\"url(#clip040)\" d=\"M 0 0 M1224.86 1110.89 Q1227.49 1111.78 1229.96 1114.69 Q1232.48 1117.61 1234.99 1122.71 L1243.29 1139.24 L1234.5 1139.24 L1226.76 1123.73 Q1223.77 1117.65 1220.93 1115.67 Q1218.14 1113.68 1213.27 1113.68 L1204.36 1113.68 L1204.36 1139.24 L1196.18 1139.24 L1196.18 1078.76 L1214.65 1078.76 Q1225.02 1078.76 1230.13 1083.1 Q1235.23 1087.43 1235.23 1096.18 Q1235.23 1101.89 1232.56 1105.66 Q1229.92 1109.43 1224.86 1110.89 M1204.36 1085.49 L1204.36 1106.96 L1214.65 1106.96 Q1220.57 1106.96 1223.56 1104.24 Q1226.6 1101.49 1226.6 1096.18 Q1226.6 1090.87 1223.56 1088.2 Q1220.57 1085.49 1214.65 1085.49 L1204.36 1085.49 Z\" fill=\"#000000\" fill-rule=\"evenodd\" fill-opacity=\"1\" /><path clip-path=\"url(#clip040)\" d=\"M 0 0 M1286.19 1114.69 L1286.19 1118.34 L1251.92 1118.34 Q1252.41 1126.04 1256.54 1130.09 Q1260.71 1134.1 1268.12 1134.1 Q1272.42 1134.1 1276.43 1133.04 Q1280.48 1131.99 1284.45 1129.89 L1284.45 1136.93 Q1280.44 1138.64 1276.22 1139.53 Q1272.01 1140.42 1267.68 1140.42 Q1256.82 1140.42 1250.46 1134.1 Q1244.14 1127.78 1244.14 1117 Q1244.14 1105.86 1250.14 1099.34 Q1256.17 1092.78 1266.38 1092.78 Q1275.54 1092.78 1280.84 1098.69 Q1286.19 1104.57 1286.19 1114.69 M1278.74 1112.51 Q1278.66 1106.39 1275.29 1102.74 Q1271.97 1099.1 1266.46 1099.1 Q1260.22 1099.1 1256.46 1102.62 Q1252.73 1106.15 1252.16 1112.55 L1278.74 1112.51 Z\" fill=\"#000000\" fill-rule=\"evenodd\" fill-opacity=\"1\" /><path clip-path=\"url(#clip040)\" d=\"M 0 0 M1326.66 1095.61 L1326.66 1102.58 Q1323.5 1100.84 1320.3 1099.99 Q1317.14 1099.1 1313.9 1099.1 Q1306.65 1099.1 1302.64 1103.72 Q1298.63 1108.29 1298.63 1116.6 Q1298.63 1124.9 1302.64 1129.52 Q1306.65 1134.1 1313.9 1134.1 Q1317.14 1134.1 1320.3 1133.25 Q1323.5 1132.36 1326.66 1130.61 L1326.66 1137.5 Q1323.54 1138.96 1320.18 1139.69 Q1316.86 1140.42 1313.09 1140.42 Q1302.84 1140.42 1296.8 1133.98 Q1290.77 1127.54 1290.77 1116.6 Q1290.77 1105.5 1296.84 1099.14 Q1302.96 1092.78 1313.57 1092.78 Q1317.02 1092.78 1320.3 1093.51 Q1323.58 1094.2 1326.66 1095.61 Z\" fill=\"#000000\" fill-rule=\"evenodd\" fill-opacity=\"1\" /><path clip-path=\"url(#clip040)\" d=\"M 0 0 M1373.28 1114.69 L1373.28 1118.34 L1339.01 1118.34 Q1339.5 1126.04 1343.63 1130.09 Q1347.8 1134.1 1355.22 1134.1 Q1359.51 1134.1 1363.52 1133.04 Q1367.57 1131.99 1371.54 1129.89 L1371.54 1136.93 Q1367.53 1138.64 1363.32 1139.53 Q1359.11 1140.42 1354.77 1140.42 Q1343.92 1140.42 1337.56 1134.1 Q1331.24 1127.78 1331.24 1117 Q1331.24 1105.86 1337.23 1099.34 Q1343.27 1092.78 1353.48 1092.78 Q1362.63 1092.78 1367.94 1098.69 Q1373.28 1104.57 1373.28 1114.69 M1365.83 1112.51 Q1365.75 1106.39 1362.39 1102.74 Q1359.07 1099.1 1353.56 1099.1 Q1347.32 1099.1 1343.55 1102.62 Q1339.82 1106.15 1339.26 1112.55 L1365.83 1112.51 Z\" fill=\"#000000\" fill-rule=\"evenodd\" fill-opacity=\"1\" /><path clip-path=\"url(#clip040)\" d=\"M 0 0 M1410.03 1095.21 L1410.03 1102.26 Q1406.87 1100.64 1403.46 1099.83 Q1400.06 1099.02 1396.42 1099.02 Q1390.87 1099.02 1388.07 1100.72 Q1385.32 1102.42 1385.32 1105.82 Q1385.32 1108.42 1387.3 1109.91 Q1389.29 1111.37 1395.28 1112.71 L1397.83 1113.28 Q1405.77 1114.98 1409.09 1118.1 Q1412.46 1121.18 1412.46 1126.73 Q1412.46 1133.04 1407.43 1136.73 Q1402.45 1140.42 1393.7 1140.42 Q1390.06 1140.42 1386.09 1139.69 Q1382.16 1139 1377.78 1137.58 L1377.78 1129.89 Q1381.91 1132.03 1385.92 1133.13 Q1389.93 1134.18 1393.86 1134.18 Q1399.13 1134.18 1401.97 1132.4 Q1404.8 1130.57 1404.8 1127.29 Q1404.8 1124.25 1402.73 1122.63 Q1400.71 1121.01 1393.78 1119.51 L1391.19 1118.91 Q1384.26 1117.45 1381.18 1114.45 Q1378.11 1111.41 1378.11 1106.15 Q1378.11 1099.75 1382.64 1096.26 Q1387.18 1092.78 1395.52 1092.78 Q1399.66 1092.78 1403.3 1093.39 Q1406.95 1093.99 1410.03 1095.21 Z\" fill=\"#000000\" fill-rule=\"evenodd\" fill-opacity=\"1\" /><path clip-path=\"url(#clip040)\" d=\"M 0 0 M1449.2 1095.21 L1449.2 1102.26 Q1446.04 1100.64 1442.64 1099.83 Q1439.23 1099.02 1435.59 1099.02 Q1430.04 1099.02 1427.24 1100.72 Q1424.49 1102.42 1424.49 1105.82 Q1424.49 1108.42 1426.47 1109.91 Q1428.46 1111.37 1434.45 1112.71 L1437.01 1113.28 Q1444.95 1114.98 1448.27 1118.1 Q1451.63 1121.18 1451.63 1126.73 Q1451.63 1133.04 1446.61 1136.73 Q1441.62 1140.42 1432.87 1140.42 Q1429.23 1140.42 1425.26 1139.69 Q1421.33 1139 1416.95 1137.58 L1416.95 1129.89 Q1421.09 1132.03 1425.1 1133.13 Q1429.11 1134.18 1433.04 1134.18 Q1438.3 1134.18 1441.14 1132.4 Q1443.97 1130.57 1443.97 1127.29 Q1443.97 1124.25 1441.91 1122.63 Q1439.88 1121.01 1432.95 1119.51 L1430.36 1118.91 Q1423.43 1117.45 1420.36 1114.45 Q1417.28 1111.41 1417.28 1106.15 Q1417.28 1099.75 1421.81 1096.26 Q1426.35 1092.78 1434.7 1092.78 Q1438.83 1092.78 1442.47 1093.39 Q1446.12 1093.99 1449.2 1095.21 Z\" fill=\"#000000\" fill-rule=\"evenodd\" fill-opacity=\"1\" /><path clip-path=\"url(#clip040)\" d=\"M 0 0 M1459.45 1093.87 L1466.9 1093.87 L1466.9 1139.24 L1459.45 1139.24 L1459.45 1093.87 M1459.45 1076.21 L1466.9 1076.21 L1466.9 1085.65 L1459.45 1085.65 L1459.45 1076.21 Z\" fill=\"#000000\" fill-rule=\"evenodd\" fill-opacity=\"1\" /><path clip-path=\"url(#clip040)\" d=\"M 0 0 M1492.3 1099.1 Q1486.3 1099.1 1482.82 1103.8 Q1479.34 1108.46 1479.34 1116.6 Q1479.34 1124.74 1482.78 1129.44 Q1486.26 1134.1 1492.3 1134.1 Q1498.26 1134.1 1501.74 1129.4 Q1505.22 1124.7 1505.22 1116.6 Q1505.22 1108.54 1501.74 1103.84 Q1498.26 1099.1 1492.3 1099.1 M1492.3 1092.78 Q1502.02 1092.78 1507.57 1099.1 Q1513.12 1105.42 1513.12 1116.6 Q1513.12 1127.74 1507.57 1134.1 Q1502.02 1140.42 1492.3 1140.42 Q1482.54 1140.42 1476.99 1134.1 Q1471.48 1127.74 1471.48 1116.6 Q1471.48 1105.42 1476.99 1099.1 Q1482.54 1092.78 1492.3 1092.78 Z\" fill=\"#000000\" fill-rule=\"evenodd\" fill-opacity=\"1\" /><path clip-path=\"url(#clip040)\" d=\"M 0 0 M1558.65 1111.86 L1558.65 1139.24 L1551.2 1139.24 L1551.2 1112.1 Q1551.2 1105.66 1548.69 1102.46 Q1546.18 1099.26 1541.15 1099.26 Q1535.12 1099.26 1531.63 1103.11 Q1528.15 1106.96 1528.15 1113.6 L1528.15 1139.24 L1520.66 1139.24 L1520.66 1093.87 L1528.15 1093.87 L1528.15 1100.92 Q1530.82 1096.83 1534.43 1094.8 Q1538.08 1092.78 1542.81 1092.78 Q1550.63 1092.78 1554.64 1097.64 Q1558.65 1102.46 1558.65 1111.86 Z\" fill=\"#000000\" fill-rule=\"evenodd\" fill-opacity=\"1\" /><polyline clip-path=\"url(#clip044)\" style=\"stroke:#009af9; stroke-width:4; stroke-opacity:1; fill:none\" points=\"\n",
       "  236.973,1198.52 345.086,1304.38 453.2,1355.45 561.314,1384.43 669.427,1403.64 777.541,1417.85 885.654,1429.05 993.768,1438.15 1101.88,1445.65 1210,1451.88 \n",
       "  1318.11,1457.07 1426.22,1461.39 1534.34,1465 1642.45,1468.01 1750.56,1470.52 1858.68,1472.62 1966.79,1474.37 2074.9,1475.83 2183.02,1477.05 2291.13,1478.06 \n",
       "  \n",
       "  \"/>\n",
       "<path clip-path=\"url(#clip040)\" d=\"\n",
       "M1987.22 1320.98 L2280.18 1320.98 L2280.18 1200.02 L1987.22 1200.02  Z\n",
       "  \" fill=\"#ffffff\" fill-rule=\"evenodd\" fill-opacity=\"1\"/>\n",
       "<polyline clip-path=\"url(#clip040)\" style=\"stroke:#000000; stroke-width:4; stroke-opacity:1; fill:none\" points=\"\n",
       "  1987.22,1320.98 2280.18,1320.98 2280.18,1200.02 1987.22,1200.02 1987.22,1320.98 \n",
       "  \"/>\n",
       "<polyline clip-path=\"url(#clip040)\" style=\"stroke:#009af9; stroke-width:4; stroke-opacity:1; fill:none\" points=\"\n",
       "  2011.42,1260.5 2156.58,1260.5 \n",
       "  \"/>\n",
       "<path clip-path=\"url(#clip040)\" d=\"M 0 0 M2194.61 1280.18 Q2192.81 1284.81 2191.09 1286.22 Q2189.38 1287.64 2186.51 1287.64 L2183.11 1287.64 L2183.11 1284.07 L2185.61 1284.07 Q2187.37 1284.07 2188.34 1283.24 Q2189.31 1282.41 2190.49 1279.3 L2191.26 1277.36 L2180.77 1251.85 L2185.28 1251.85 L2193.39 1272.13 L2201.49 1251.85 L2206 1251.85 L2194.61 1280.18 Z\" fill=\"#000000\" fill-rule=\"evenodd\" fill-opacity=\"1\" /><path clip-path=\"url(#clip040)\" d=\"M 0 0 M2211.88 1273.84 L2219.52 1273.84 L2219.52 1247.47 L2211.21 1249.14 L2211.21 1244.88 L2219.47 1243.22 L2224.15 1243.22 L2224.15 1273.84 L2231.79 1273.84 L2231.79 1277.78 L2211.88 1277.78 L2211.88 1273.84 Z\" fill=\"#000000\" fill-rule=\"evenodd\" fill-opacity=\"1\" /></svg>\n"
      ]
     },
     "execution_count": 80,
     "metadata": {},
     "output_type": "execute_result"
    }
   ],
   "source": [
    "p1 = plot(time, state1, title = \"Normal Growth\") # Plot state 1 probability\n",
    "p2 = plot(time, state2, title = \"Recession\") # Plot state 2 probability\n",
    "p3 = plot(time, state3, title = \"Deep Recession\") # Plot state 3 probability\n",
    "plot(p1, p2, p3, layout = (3,1))"
   ]
  },
  {
   "cell_type": "markdown",
   "metadata": {},
   "source": [
    "Now let's write a function that computes the probability of a given sequence of outcomes.\n",
    "\n",
    "(You should have seen something like this on Assignment 1.)"
   ]
  },
  {
   "cell_type": "code",
   "execution_count": 81,
   "metadata": {},
   "outputs": [
    {
     "data": {
      "text/plain": [
       "outcome_prob (generic function with 1 method)"
      ]
     },
     "execution_count": 81,
     "metadata": {},
     "output_type": "execute_result"
    }
   ],
   "source": [
    "function outcome_prob(outcome, P0, M)\n",
    "\n",
    "# Make sure `outcome` contains integers\n",
    "# to allow for indexing \n",
    "outcome = floor.(Int64, outcome) \n",
    "\n",
    "# Store probability of initial state \n",
    "probability = P0[outcome[1]]\n",
    "\n",
    "# Compute probability of `outcome` sequence\n",
    "for i in 2:length(outcome)\n",
    "    probability = probability * M[outcome[i-1], outcome[i]]\n",
    "    end \n",
    "    \n",
    "    # Return `probability` -- prob. of sequence `outcome`\n",
    "    return probability\n",
    "end "
   ]
  },
  {
   "cell_type": "markdown",
   "metadata": {},
   "source": [
    "Let's keep using our previously-defined initial distribution $P_0$ and stochastic matrix $M$.\n",
    "\n",
    "We can now feed the function the following sequence of states to check its functionality: $11$ -- the probability of this sequence of outcomes should obviously be (1/3)(19/20) according to our defined $P_0$ and $M$."
   ]
  },
  {
   "cell_type": "code",
   "execution_count": 84,
   "metadata": {
    "scrolled": true
   },
   "outputs": [
    {
     "data": {
      "text/plain": [
       "0.31666666666666665"
      ]
     },
     "execution_count": 84,
     "metadata": {},
     "output_type": "execute_result"
    }
   ],
   "source": [
    "outcome_prob(ones(2), P0, M)"
   ]
  },
  {
   "cell_type": "markdown",
   "metadata": {},
   "source": [
    "What if we want to find out the probability of having one of the following outcomes: (1) $11$, and (2) $22$ ?\n",
    "\n",
    "We can use `outcome_prob()` to compute the probability of each outcome, and then find their sum."
   ]
  },
  {
   "cell_type": "code",
   "execution_count": 85,
   "metadata": {},
   "outputs": [
    {
     "data": {
      "text/plain": [
       "0.5666666666666667"
      ]
     },
     "execution_count": 85,
     "metadata": {},
     "output_type": "execute_result"
    }
   ],
   "source": [
    "outcome_prob([1,1], P0, M) + outcome_prob([2,2], P0, M)"
   ]
  },
  {
   "cell_type": "markdown",
   "metadata": {},
   "source": [
    "---"
   ]
  }
 ],
 "metadata": {
  "kernelspec": {
   "display_name": "Julia 1.5.4",
   "language": "julia",
   "name": "julia-1.5"
  },
  "language_info": {
   "file_extension": ".jl",
   "mimetype": "application/julia",
   "name": "julia",
   "version": "1.5.4"
  },
  "toc": {
   "base_numbering": 1,
   "nav_menu": {},
   "number_sections": true,
   "sideBar": true,
   "skip_h1_title": false,
   "title_cell": "Table of Contents",
   "title_sidebar": "Contents",
   "toc_cell": false,
   "toc_position": {},
   "toc_section_display": true,
   "toc_window_display": false
  }
 },
 "nbformat": 4,
 "nbformat_minor": 4
}

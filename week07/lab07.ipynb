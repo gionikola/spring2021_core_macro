{
 "cells": [
  {
   "cell_type": "markdown",
   "metadata": {},
   "source": [
    "# Recursive Competitive Equilibria"
   ]
  },
  {
   "cell_type": "markdown",
   "metadata": {},
   "source": [
    "Contents:\n",
    "\n",
    "- [Recursive Competitive Equilibria](#Recursive-Competitive-Equilibria)  \n",
    "  - [Stochastic Growth Model](#Stochastic-Growth-Model) \n",
    "  - [Transition Equations](#Transition-Equations) \n",
    "  - [Policy Functions](#Policy-Functions)   \n",
    "  - [Simulations](#Simulations)"
   ]
  },
  {
   "cell_type": "markdown",
   "metadata": {},
   "source": [
    "This lab includes:\n",
    "\n",
    "(1) An overview of a basic stochastic growth model;\n",
    "\n",
    "(2) Finding the transition equations of the model using dynamic programming;\n",
    "\n",
    "(3) Solving for the policy functions of the model using value function iteration;\n",
    "\n",
    "(4) Solving for the price system of the economy;\n",
    "\n",
    "(5) Simulating the equilibrium paths of the economy under various initial conditions."
   ]
  },
  {
   "cell_type": "markdown",
   "metadata": {},
   "source": [
    "Load all necessary packages:"
   ]
  },
  {
   "cell_type": "code",
   "execution_count": 50,
   "metadata": {
    "ExecuteTime": {
     "end_time": "2021-05-12T09:58:52.002000-07:00",
     "start_time": "2021-05-12T16:58:50.513Z"
    }
   },
   "outputs": [],
   "source": [
    "using Statistics, Plots, LinearAlgebra, Roots, QuantEcon, LaTeXStrings"
   ]
  },
  {
   "cell_type": "markdown",
   "metadata": {},
   "source": [
    "---\n",
    "\n",
    "## Stochastic Growth Model"
   ]
  },
  {
   "cell_type": "markdown",
   "metadata": {},
   "source": [
    "### Refresher\n",
    "\n",
    "Just to remind you of the nature of the model:\n",
    "\n",
    "- The economy is populated by a **household** that consumes a good, sells labor, and trades claims to date $t+1$ consumption.\n",
    "\n",
    "- On the production side, there is a firm that produces the consumption good. This is the **type I firm**.\n",
    "\n",
    "- There is also a firm that transforms output into capital and earns revenues by renting out the accumulated capital to the type I firm. This is the **type II firm**."
   ]
  },
  {
   "cell_type": "markdown",
   "metadata": {},
   "source": [
    "### Additional Restrictions / Assumptions\n",
    "\n",
    "Assume that our stochastic growth model has the exact same structure as the one presented in Chapter 12 of Ljungqvist and Sargent (covered in class yesterday).\n",
    "\n",
    "We will apply some additional restrictions on the functional forms of the utility and production functions:\n",
    "\n",
    "(1) The consumer's utility function is a function of consumption only: $u(C,1-N) = \\theta \\log(C) + (1-\\theta) \\log(1-N)$.\n",
    "\n",
    "(2) The firm's production function is a function of capital only: $F(K,N) = F(K,N) = K^\\alpha N^{1-\\alpha}$. "
   ]
  },
  {
   "cell_type": "markdown",
   "metadata": {},
   "source": [
    "### Equilibrium Objects\n",
    "\n",
    "Recall that $X = \\begin{bmatrix} K & A & s \\end{bmatrix}$ is the vector of state variables, and $X'$ is equivalent to $X$ in the next period.\n",
    "\n",
    "The following is a list of the objects that determine the **recursive competitive equilibrum**:\n",
    "\n",
    "(1) The price system $\\{ r(X), w(W), Q(X'\\,|\\,X) \\}$;\n",
    "\n",
    "(2) A perceived law of motion $K' = G(X)$ and an associated induced transition density $\\hat{\\Pi}(X'\\,|\\,X)$;\n",
    "\n",
    "(3) A household value function $J(a,X)$ and decision rules $\\sigma^c(a,X)$, $\\sigma^n(a,X)$, and $\\sigma^a(a,X;X')$."
   ]
  },
  {
   "cell_type": "markdown",
   "metadata": {},
   "source": [
    "### Obtaining Equilibrium Objects\n",
    "\n",
    "The following is an outline of our approach to obtaining most of the equilibrium objects.\n",
    "\n",
    "We largely defer to the results presented in section 12.9.2 of L&S.\n",
    "\n",
    "**(1)** As our candidate for $G(\\cdot)$ in $K' = G(X)$, we use the decision rule obtained through the planner's problem: $K' = \\Omega^K(X)$.\n",
    "\n",
    "**(2)** The price system is governed by the following equations:\n",
    "\\begin{align*}\n",
    "r(X) &= A F_k(X) \\, , \\\\\n",
    "w(X) &= A F_n(X) \\, , \\\\\n",
    "Q(X'\\,|\\,X) &= \\beta \\Pi(X'\\,|\\,X) \\frac{U_c(X')}{U_c(X)} \\left[ A(s) F_K(X') + (1-\\delta) \\right] \\, .\n",
    "\\end{align*}\n",
    "\n",
    "**(3)** The policy functions $\\sigma^c(a,X)$ and $\\sigma^n(a,X)$ are equivalent to the policy functions $\\Omega^C(X)$ and $\\Omega^N(X)$ obtained through the planner's problem.\n",
    "\n",
    "**(4)** The policy function for $a$, $\\sigma^a(a,X;X')$, will also be pinned down by the equation $a = \\left[ r(X) + (1-\\delta) \\right] K$ (section 12.9.1 of L&S).\n"
   ]
  },
  {
   "cell_type": "markdown",
   "metadata": {},
   "source": [
    "### Planner's Problem\n",
    "\n",
    "The Bellman equation for the planning problem is \n",
    "\n",
    "\\begin{align*}\n",
    "    v(K,A,s) = \\max_{C,N,K'} \\left\\{ u(C,1-N) + \\beta \\sum_{s'} \\pi(s'\\,|\\,s) v(K',A',s') \\right\\} \\, ,\n",
    "\\end{align*}\n",
    "\n",
    "subject to \n",
    "\n",
    "\\begin{align*}\n",
    "    K' + C &\\leq A(s) F(K,N) + (1-\\delta) K \\, , \\\\\n",
    "    A' &= A(s) \\, .\n",
    "\\end{align*}"
   ]
  },
  {
   "cell_type": "markdown",
   "metadata": {},
   "source": [
    "### Productivity Factor \\& Events\n",
    "\n",
    "Let $A_t = e^a_t$, where $a_t$ is the productivity shock and $A_t$ is the productivity factor.\n",
    "\n",
    "We will assume that the productivity shock in our model is driven by the following autoregressive process:\n",
    "\n",
    "\\begin{align*}\n",
    "a_t = \\rho a_{t-1} + \\gamma \\varepsilon_t \\, ,\n",
    "\\end{align*}\n",
    "\n",
    "where $\\varepsilon_t \\sim N(0,1)$, and we have $\\rho = 0.7$ and $\\gamma = 1$. \n",
    "\n",
    "Notice that $\\mathbb{E}[a_t] = 0$, as well as $\\mathbb{E}[A_t] = e^0 = 1$.\n",
    "\n",
    "We will discretize this law of motion for $a$ and create an underlying Markov process with $s_t = \\{1,2,\\ldots,25\\}$ and a stochastic matrix with entries corresponding to the nature of the given autoregressive process.\n",
    "\n",
    "How we back out the Markov chain from the given process for the productivity factor is *not* important.\n",
    "\n",
    "It *is* important to understand that the above process will give the necessary specification for the evolution of $A$ and $s_t$.\n",
    "\n",
    "In the end we have $A' = A(s)$.\n"
   ]
  },
  {
   "cell_type": "code",
   "execution_count": 7,
   "metadata": {
    "ExecuteTime": {
     "end_time": "2021-05-12T08:26:34.463000-07:00",
     "start_time": "2021-05-12T15:26:34.459Z"
    }
   },
   "outputs": [],
   "source": [
    "# Apply rouwenhorst to approximate productivity shock `productivity`\n",
    "ρ = 0.7\n",
    "σ = 1\n",
    "productivity = rouwenhorst(25, ρ, σ, 0.0);\n",
    "Π = (productivity.p) # save stochastic matrix\n",
    "a = productivity.state_values # save productivity shock values\n",
    "A = exp.(a); # save productivity factor shock values"
   ]
  },
  {
   "cell_type": "markdown",
   "metadata": {},
   "source": [
    "### Final Additional Constraint\n",
    "\n",
    "Just to make the analysis easier, assume that $\\theta = 1$ and labor is supplies inelastically at $N=1$. \n",
    "\n",
    "This effectively simplies our utility and production functions to:\n",
    "\n",
    "\\begin{align*}\n",
    "u(C,1-N) &= u(C) = \\log(C) \\, , \\text{ and } \\\\ \n",
    "F(K,N) &= F(K) = K^\\alpha \\, ,\n",
    "\\end{align*}\n",
    "\n",
    "respectively."
   ]
  },
  {
   "cell_type": "markdown",
   "metadata": {},
   "source": [
    "## Transition Equations"
   ]
  },
  {
   "cell_type": "markdown",
   "metadata": {},
   "source": [
    "To find the transition equations of the model, we start by solving the planner's problem."
   ]
  },
  {
   "cell_type": "markdown",
   "metadata": {},
   "source": [
    "### Simplifying the Planner's Bellman Equation"
   ]
  },
  {
   "cell_type": "markdown",
   "metadata": {},
   "source": [
    "The Bellman equation:\n",
    "\n",
    "\\begin{align*}\n",
    "    v(X) = \\max_{C,K'} \\left\\{ \\log(C) + \\beta \\mathbb{E} v(X') \\right\\} \\, ,\n",
    "\\end{align*}\n",
    "\n",
    "subject to \n",
    "\n",
    "\\begin{align*}\n",
    "    K' + C &= A(s) K^\\alpha + (1-\\delta) K \\, , \\\\\n",
    "    A' &= A(s) \\, .\n",
    "\\end{align*}\n",
    "\n",
    "By setting the first flow constraint to equality, we are assuming an interior solution."
   ]
  },
  {
   "cell_type": "markdown",
   "metadata": {},
   "source": [
    "Use the first flow constraint to solve for $K'$ and substitute it into $X'$ in the Bellman equation:\n",
    "\n",
    "\\begin{align*}\n",
    "    v(X) = \\max_{C} \\left\\{ \\log(C) + \\beta \\mathbb{E} v(A(s)K^\\alpha + (1-\\delta)K - C, A, s) \\right\\} \\, .\n",
    "\\end{align*}\n"
   ]
  },
  {
   "cell_type": "markdown",
   "metadata": {},
   "source": [
    "### FOC and Envelope Condition"
   ]
  },
  {
   "cell_type": "markdown",
   "metadata": {},
   "source": [
    "The first-order condition (FOC) of the Bellman equation with respect to $C$ yields\n",
    "\n",
    "\\begin{align*}\n",
    "    0 = \\frac{1}{C} + \\beta \\mathbb{E} V'(X') (-1) \\, ,\n",
    "\\end{align*}\n",
    "\n",
    "which yields \n",
    "\n",
    "\\begin{align*}\n",
    "    \\frac{1}{C} = \\beta \\mathbb{E} V'(X') \\, .\n",
    "\\end{align*}"
   ]
  },
  {
   "cell_type": "markdown",
   "metadata": {},
   "source": [
    "The envelope condition with respect to $K$:\n",
    "\n",
    "\\begin{align*}\n",
    "    V'(X) = \\beta \\mathbb{E}\\left[ V'(X') \\left( A(s) \\alpha K^{\\alpha-1} + 1 - \\delta \\right) \\right] \\, , \n",
    "\\end{align*}\n",
    "\n",
    "which is equivalent to \n",
    "\n",
    "\\begin{align*}\n",
    "    V'(X) = \\left( \\alpha K^{\\alpha-1} + 1 - \\delta \\right) \\beta \\mathbb{E}V'(X') \\, .\n",
    "\\end{align*}"
   ]
  },
  {
   "cell_type": "markdown",
   "metadata": {},
   "source": [
    "### Solving for the Euler Equation"
   ]
  },
  {
   "cell_type": "markdown",
   "metadata": {},
   "source": [
    "Further substituting in the FOC into the above envelope condition yields \n",
    "\n",
    "\\begin{align*}\n",
    "    V'(X) = \\left( \\alpha K^{\\alpha-1} + 1 - \\delta \\right) \\frac{1}{C} \\, .\n",
    "\\end{align*}"
   ]
  },
  {
   "cell_type": "markdown",
   "metadata": {},
   "source": [
    "Stepping the above equation for $V'(X)$ up by one period yields \n",
    "\n",
    "\\begin{align*}\n",
    "    V'(X') = \\left( \\alpha K'^{\\alpha-1} + 1 - \\delta \\right) \\frac{1}{C'} \\, .\n",
    "\\end{align*}"
   ]
  },
  {
   "cell_type": "markdown",
   "metadata": {},
   "source": [
    "Substituting the above back into the FOC and solving for $C'$ yields the Euler equation:\n",
    "\n",
    "\\begin{align*}\n",
    "    C' = C \\beta \\left( \\alpha K'^{\\alpha-1} + 1 - \\delta \\right) \\, .\n",
    "\\end{align*}\n",
    "\n",
    "With time indexes:\n",
    "\n",
    "\\begin{align*}\n",
    "    C_{t+1} = C_t \\beta \\left( \\alpha K_{t+1}^{\\alpha-1} + 1 - \\delta \\right) \\, .\n",
    "\\end{align*}"
   ]
  },
  {
   "cell_type": "markdown",
   "metadata": {},
   "source": [
    "### All Transition Equations"
   ]
  },
  {
   "cell_type": "markdown",
   "metadata": {},
   "source": [
    "We ended up with two transition equations.\n",
    "\n",
    "The capital accumulation equation:\n",
    "\n",
    "\\begin{align}\n",
    "\\label{eq:capital_accumulation}\n",
    "K_{t+1} = A(s_t) K_t^\\alpha + (1-\\delta)K_t - C_t \\, .\n",
    "\\end{align}\n",
    "\n",
    "The consumption Euler equation:\n",
    "\n",
    "\\begin{align}\n",
    "\\label{eq:euler}\n",
    "C_{t+1} = C_t \\beta \\left( \\alpha K_{t+1}^{\\alpha-1} + 1 - \\delta \\right) \\, .\n",
    "\\end{align}"
   ]
  },
  {
   "cell_type": "markdown",
   "metadata": {},
   "source": [
    "These will come in handy when we try to simulate the model in its recursive competitive equilibrium."
   ]
  },
  {
   "cell_type": "markdown",
   "metadata": {},
   "source": [
    "## Steady State"
   ]
  },
  {
   "cell_type": "markdown",
   "metadata": {},
   "source": [
    "We may use the given equations to solve for the following steady state values of the variables of interest:\n",
    "\n",
    "\\begin{align*}\n",
    "\\overline{K} &= \\left( \\frac{\\alpha}{\\beta^{-1} - 1 + \\delta} \\right)^{\\frac{1}{1-\\alpha}} \\, , \\\\\n",
    "\\overline{Y} &= \\overline{K}^\\alpha \\, , \\\\\n",
    "\\overline{C} &= \\overline{Y} - \\delta \\overline{K} \\, .\n",
    "\\end{align*}"
   ]
  },
  {
   "cell_type": "markdown",
   "metadata": {},
   "source": [
    "Let $\\alpha = 0.5$, $\\delta = 0.1$, $\\beta = 0.95$. \n",
    "\n",
    "Show the above steady state values:"
   ]
  },
  {
   "cell_type": "code",
   "execution_count": 16,
   "metadata": {
    "ExecuteTime": {
     "end_time": "2021-05-12T09:43:58.352000-07:00",
     "start_time": "2021-05-12T16:43:57.844Z"
    }
   },
   "outputs": [
    {
     "name": "stdout",
     "output_type": "stream",
     "text": [
      "(K̄, Ȳ, C̄) = (10.731272294887045, 3.2758620689655182, 2.202734839476814)\n"
     ]
    },
    {
     "data": {
      "text/plain": [
       "(10.731272294887045, 3.2758620689655182, 2.202734839476814)"
      ]
     },
     "execution_count": 16,
     "metadata": {},
     "output_type": "execute_result"
    }
   ],
   "source": [
    "α = 0.5\n",
    "δ = 0.1\n",
    "β = 0.95\n",
    "K̄ = ( α / ((1/β) - 1 + δ) )^(1/(1-α))\n",
    "Ȳ = K̄^α\n",
    "C̄ = Ȳ - δ*K̄\n",
    "@show K̄, Ȳ, C̄"
   ]
  },
  {
   "cell_type": "markdown",
   "metadata": {},
   "source": [
    "## Policy Functions"
   ]
  },
  {
   "cell_type": "code",
   "execution_count": 34,
   "metadata": {
    "ExecuteTime": {
     "end_time": "2021-05-12T09:52:16.030000-07:00",
     "start_time": "2021-05-12T16:52:16.020Z"
    }
   },
   "outputs": [],
   "source": [
    "function bellmanMap(V, kgrid, A, Π, α, δ, β)\n",
    "    \n",
    "    N     = length(kgrid) #Number of gridpoints of capital\n",
    "    S     = length(A) #Number of stochastic states\n",
    "    \n",
    "    V_new = zeros(S,N) #New Value function\n",
    "    n_pol = zeros(Int,S,N) #New policy rule for grid points\n",
    "    k_pol = zeros(S,N) #New policy rule for capital\n",
    "    c_pol = zeros(S,N) #consumption rule\n",
    "    \n",
    "    obj   = zeros(N) #objective to be maximized\n",
    "    \n",
    "    EV    = Π*V #precompute expected value for speed\n",
    "    \n",
    "    for n in 1:N\n",
    "        \n",
    "        for s in 1:S\n",
    "            \n",
    "            \n",
    "            for nprime in 1:N\n",
    "                \n",
    "                c = (1-δ)*kgrid[n] + A[s]*kgrid[n]^α - kgrid[nprime]\n",
    "            \n",
    "                if c <= 0\n",
    "                    obj[nprime] = -Inf #penalty if consumption <0\n",
    "                else\n",
    "                    obj[nprime] = log(c) + β*EV[s,nprime] #otherwise compute objective\n",
    "                end\n",
    "                \n",
    "            end\n",
    "                \n",
    "            #find optimal value and policy\n",
    "            V_new[s,n], n_pol[s,n] = findmax(obj)\n",
    "            k_pol[s,n]             = kgrid[n_pol[s,n]]\n",
    "            c_pol[s,n]             = (1-δ)*kgrid[n] + A[s]*kgrid[n]^α - k_pol[s,n]\n",
    "        end\n",
    "    end\n",
    "    \n",
    "    return V_new, n_pol, k_pol, c_pol\n",
    "end;"
   ]
  },
  {
   "cell_type": "code",
   "execution_count": 35,
   "metadata": {
    "ExecuteTime": {
     "end_time": "2021-05-12T09:52:17.534000-07:00",
     "start_time": "2021-05-12T16:52:17.525Z"
    }
   },
   "outputs": [],
   "source": [
    "function solveBellman(V0,kgrid,A,Π,α,δ,β,ϵ=1e-6)\n",
    "    diff = 1.\n",
    "    V,n_pol,k_pol,c_pol = bellmanMap(V0,kgrid,A,Π,α,δ,β)\n",
    "    while diff > ϵ\n",
    "        V_new,n_pol,k_pol,c_pol = bellmanMap(V,kgrid,A,Π,α,δ,β)\n",
    "        diff = norm(V_new-V,Inf)\n",
    "        V = V_new\n",
    "    end\n",
    "    return V,n_pol,k_pol,c_pol\n",
    "end;"
   ]
  },
  {
   "cell_type": "code",
   "execution_count": 44,
   "metadata": {
    "ExecuteTime": {
     "end_time": "2021-05-12T09:52:55.243000-07:00",
     "start_time": "2021-05-12T16:52:54.066Z"
    }
   },
   "outputs": [],
   "source": [
    "N = 1000\n",
    "kgrid = LinRange(K̄-5.0, K̄+5.0, N)\n",
    "S = length(A)\n",
    "\n",
    "# Solve the model\n",
    "V,n_pol,k_pol,c_pol= solveBellman(zeros(S,N), kgrid, A, Π, α, δ, β);"
   ]
  },
  {
   "cell_type": "code",
   "execution_count": 55,
   "metadata": {
    "ExecuteTime": {
     "end_time": "2021-05-12T10:00:07.740000-07:00",
     "start_time": "2021-05-12T17:00:07.673Z"
    }
   },
   "outputs": [
    {
     "data": {
      "image/svg+xml": [
       "<?xml version=\"1.0\" encoding=\"utf-8\"?>\n",
       "<svg xmlns=\"http://www.w3.org/2000/svg\" xmlns:xlink=\"http://www.w3.org/1999/xlink\" width=\"600\" height=\"400\" viewBox=\"0 0 2400 1600\">\n",
       "<defs>\n",
       "  <clipPath id=\"clip590\">\n",
       "    <rect x=\"0\" y=\"0\" width=\"2400\" height=\"1600\"/>\n",
       "  </clipPath>\n",
       "</defs>\n",
       "<path clip-path=\"url(#clip590)\" d=\"\n",
       "M0 1600 L2400 1600 L2400 0 L0 0  Z\n",
       "  \" fill=\"#ffffff\" fill-rule=\"evenodd\" fill-opacity=\"1\"/>\n",
       "<defs>\n",
       "  <clipPath id=\"clip591\">\n",
       "    <rect x=\"480\" y=\"0\" width=\"1681\" height=\"1600\"/>\n",
       "  </clipPath>\n",
       "</defs>\n",
       "<defs>\n",
       "  <clipPath id=\"clip592\">\n",
       "    <rect x=\"159\" y=\"123\" width=\"2194\" height=\"1306\"/>\n",
       "  </clipPath>\n",
       "</defs>\n",
       "<path clip-path=\"url(#clip590)\" d=\"\n",
       "M195.465 1428.41 L2352.76 1428.41 L2352.76 123.472 L195.465 123.472  Z\n",
       "  \" fill=\"#ffffff\" fill-rule=\"evenodd\" fill-opacity=\"1\"/>\n",
       "<defs>\n",
       "  <clipPath id=\"clip593\">\n",
       "    <rect x=\"195\" y=\"123\" width=\"2158\" height=\"1306\"/>\n",
       "  </clipPath>\n",
       "</defs>\n",
       "<polyline clip-path=\"url(#clip593)\" style=\"stroke:#000000; stroke-width:2; stroke-opacity:0.1; fill:none\" points=\"\n",
       "  616.488,1428.41 616.488,123.472 \n",
       "  \"/>\n",
       "<polyline clip-path=\"url(#clip593)\" style=\"stroke:#000000; stroke-width:2; stroke-opacity:0.1; fill:none\" points=\"\n",
       "  1125.28,1428.41 1125.28,123.472 \n",
       "  \"/>\n",
       "<polyline clip-path=\"url(#clip593)\" style=\"stroke:#000000; stroke-width:2; stroke-opacity:0.1; fill:none\" points=\"\n",
       "  1634.08,1428.41 1634.08,123.472 \n",
       "  \"/>\n",
       "<polyline clip-path=\"url(#clip593)\" style=\"stroke:#000000; stroke-width:2; stroke-opacity:0.1; fill:none\" points=\"\n",
       "  2142.87,1428.41 2142.87,123.472 \n",
       "  \"/>\n",
       "<polyline clip-path=\"url(#clip590)\" style=\"stroke:#000000; stroke-width:4; stroke-opacity:1; fill:none\" points=\"\n",
       "  195.465,1428.41 2352.76,1428.41 \n",
       "  \"/>\n",
       "<polyline clip-path=\"url(#clip590)\" style=\"stroke:#000000; stroke-width:4; stroke-opacity:1; fill:none\" points=\"\n",
       "  616.488,1428.41 616.488,1412.75 \n",
       "  \"/>\n",
       "<polyline clip-path=\"url(#clip590)\" style=\"stroke:#000000; stroke-width:4; stroke-opacity:1; fill:none\" points=\"\n",
       "  1125.28,1428.41 1125.28,1412.75 \n",
       "  \"/>\n",
       "<polyline clip-path=\"url(#clip590)\" style=\"stroke:#000000; stroke-width:4; stroke-opacity:1; fill:none\" points=\"\n",
       "  1634.08,1428.41 1634.08,1412.75 \n",
       "  \"/>\n",
       "<polyline clip-path=\"url(#clip590)\" style=\"stroke:#000000; stroke-width:4; stroke-opacity:1; fill:none\" points=\"\n",
       "  2142.87,1428.41 2142.87,1412.75 \n",
       "  \"/>\n",
       "<path clip-path=\"url(#clip590)\" d=\"M 0 0 M587.391 1454.52 L609.613 1454.52 L609.613 1456.52 L597.067 1489.08 L592.183 1489.08 L603.988 1458.46 L587.391 1458.46 L587.391 1454.52 Z\" fill=\"#000000\" fill-rule=\"evenodd\" fill-opacity=\"1\" /><path clip-path=\"url(#clip590)\" d=\"M 0 0 M614.683 1483.2 L619.567 1483.2 L619.567 1489.08 L614.683 1489.08 L614.683 1483.2 Z\" fill=\"#000000\" fill-rule=\"evenodd\" fill-opacity=\"1\" /><path clip-path=\"url(#clip590)\" d=\"M 0 0 M624.683 1454.52 L643.039 1454.52 L643.039 1458.46 L628.965 1458.46 L628.965 1466.93 Q629.984 1466.58 631.002 1466.42 Q632.021 1466.24 633.039 1466.24 Q638.826 1466.24 642.206 1469.41 Q645.585 1472.58 645.585 1478 Q645.585 1483.58 642.113 1486.68 Q638.641 1489.76 632.322 1489.76 Q630.146 1489.76 627.877 1489.39 Q625.632 1489.02 623.224 1488.27 L623.224 1483.58 Q625.308 1484.71 627.53 1485.27 Q629.752 1485.82 632.229 1485.82 Q636.234 1485.82 638.572 1483.71 Q640.91 1481.61 640.91 1478 Q640.91 1474.39 638.572 1472.28 Q636.234 1470.17 632.229 1470.17 Q630.354 1470.17 628.479 1470.59 Q626.627 1471.01 624.683 1471.89 L624.683 1454.52 Z\" fill=\"#000000\" fill-rule=\"evenodd\" fill-opacity=\"1\" /><path clip-path=\"url(#clip590)\" d=\"M 0 0 M1083.67 1485.15 L1091.31 1485.15 L1091.31 1458.78 L1083 1460.45 L1083 1456.19 L1091.27 1454.52 L1095.94 1454.52 L1095.94 1485.15 L1103.58 1485.15 L1103.58 1489.08 L1083.67 1489.08 L1083.67 1485.15 Z\" fill=\"#000000\" fill-rule=\"evenodd\" fill-opacity=\"1\" /><path clip-path=\"url(#clip590)\" d=\"M 0 0 M1118.65 1457.6 Q1115.04 1457.6 1113.21 1461.17 Q1111.41 1464.71 1111.41 1471.84 Q1111.41 1478.95 1113.21 1482.51 Q1115.04 1486.05 1118.65 1486.05 Q1122.29 1486.05 1124.09 1482.51 Q1125.92 1478.95 1125.92 1471.84 Q1125.92 1464.71 1124.09 1461.17 Q1122.29 1457.6 1118.65 1457.6 M1118.65 1453.9 Q1124.46 1453.9 1127.52 1458.51 Q1130.6 1463.09 1130.6 1471.84 Q1130.6 1480.57 1127.52 1485.17 Q1124.46 1489.76 1118.65 1489.76 Q1112.84 1489.76 1109.76 1485.17 Q1106.71 1480.57 1106.71 1471.84 Q1106.71 1463.09 1109.76 1458.51 Q1112.84 1453.9 1118.65 1453.9 Z\" fill=\"#000000\" fill-rule=\"evenodd\" fill-opacity=\"1\" /><path clip-path=\"url(#clip590)\" d=\"M 0 0 M1135.67 1483.2 L1140.55 1483.2 L1140.55 1489.08 L1135.67 1489.08 L1135.67 1483.2 Z\" fill=\"#000000\" fill-rule=\"evenodd\" fill-opacity=\"1\" /><path clip-path=\"url(#clip590)\" d=\"M 0 0 M1155.62 1457.6 Q1152.01 1457.6 1150.18 1461.17 Q1148.37 1464.71 1148.37 1471.84 Q1148.37 1478.95 1150.18 1482.51 Q1152.01 1486.05 1155.62 1486.05 Q1159.25 1486.05 1161.06 1482.51 Q1162.89 1478.95 1162.89 1471.84 Q1162.89 1464.71 1161.06 1461.17 Q1159.25 1457.6 1155.62 1457.6 M1155.62 1453.9 Q1161.43 1453.9 1164.48 1458.51 Q1167.56 1463.09 1167.56 1471.84 Q1167.56 1480.57 1164.48 1485.17 Q1161.43 1489.76 1155.62 1489.76 Q1149.81 1489.76 1146.73 1485.17 Q1143.67 1480.57 1143.67 1471.84 Q1143.67 1463.09 1146.73 1458.51 Q1149.81 1453.9 1155.62 1453.9 Z\" fill=\"#000000\" fill-rule=\"evenodd\" fill-opacity=\"1\" /><path clip-path=\"url(#clip590)\" d=\"M 0 0 M1593.77 1485.15 L1601.4 1485.15 L1601.4 1458.78 L1593.09 1460.45 L1593.09 1456.19 L1601.36 1454.52 L1606.03 1454.52 L1606.03 1485.15 L1613.67 1485.15 L1613.67 1489.08 L1593.77 1489.08 L1593.77 1485.15 Z\" fill=\"#000000\" fill-rule=\"evenodd\" fill-opacity=\"1\" /><path clip-path=\"url(#clip590)\" d=\"M 0 0 M1622.77 1485.15 L1639.09 1485.15 L1639.09 1489.08 L1617.15 1489.08 L1617.15 1485.15 Q1619.81 1482.39 1624.39 1477.77 Q1629 1473.11 1630.18 1471.77 Q1632.42 1469.25 1633.3 1467.51 Q1634.21 1465.75 1634.21 1464.06 Q1634.21 1461.31 1632.26 1459.57 Q1630.34 1457.83 1627.24 1457.83 Q1625.04 1457.83 1622.59 1458.6 Q1620.15 1459.36 1617.38 1460.91 L1617.38 1456.19 Q1620.2 1455.06 1622.65 1454.48 Q1625.11 1453.9 1627.15 1453.9 Q1632.52 1453.9 1635.71 1456.58 Q1638.9 1459.27 1638.9 1463.76 Q1638.9 1465.89 1638.09 1467.81 Q1637.31 1469.71 1635.2 1472.3 Q1634.62 1472.97 1631.52 1476.19 Q1628.42 1479.39 1622.77 1485.15 Z\" fill=\"#000000\" fill-rule=\"evenodd\" fill-opacity=\"1\" /><path clip-path=\"url(#clip590)\" d=\"M 0 0 M1644.16 1483.2 L1649.04 1483.2 L1649.04 1489.08 L1644.16 1489.08 L1644.16 1483.2 Z\" fill=\"#000000\" fill-rule=\"evenodd\" fill-opacity=\"1\" /><path clip-path=\"url(#clip590)\" d=\"M 0 0 M1654.16 1454.52 L1672.52 1454.52 L1672.52 1458.46 L1658.44 1458.46 L1658.44 1466.93 Q1659.46 1466.58 1660.48 1466.42 Q1661.5 1466.24 1662.52 1466.24 Q1668.3 1466.24 1671.68 1469.41 Q1675.06 1472.58 1675.06 1478 Q1675.06 1483.58 1671.59 1486.68 Q1668.12 1489.76 1661.8 1489.76 Q1659.62 1489.76 1657.35 1489.39 Q1655.11 1489.02 1652.7 1488.27 L1652.7 1483.58 Q1654.78 1484.71 1657.01 1485.27 Q1659.23 1485.82 1661.71 1485.82 Q1665.71 1485.82 1668.05 1483.71 Q1670.39 1481.61 1670.39 1478 Q1670.39 1474.39 1668.05 1472.28 Q1665.71 1470.17 1661.71 1470.17 Q1659.83 1470.17 1657.96 1470.59 Q1656.1 1471.01 1654.16 1471.89 L1654.16 1454.52 Z\" fill=\"#000000\" fill-rule=\"evenodd\" fill-opacity=\"1\" /><path clip-path=\"url(#clip590)\" d=\"M 0 0 M2101.76 1485.15 L2109.4 1485.15 L2109.4 1458.78 L2101.09 1460.45 L2101.09 1456.19 L2109.36 1454.52 L2114.03 1454.52 L2114.03 1485.15 L2121.67 1485.15 L2121.67 1489.08 L2101.76 1489.08 L2101.76 1485.15 Z\" fill=\"#000000\" fill-rule=\"evenodd\" fill-opacity=\"1\" /><path clip-path=\"url(#clip590)\" d=\"M 0 0 M2126.79 1454.52 L2145.14 1454.52 L2145.14 1458.46 L2131.07 1458.46 L2131.07 1466.93 Q2132.09 1466.58 2133.1 1466.42 Q2134.12 1466.24 2135.14 1466.24 Q2140.93 1466.24 2144.31 1469.41 Q2147.69 1472.58 2147.69 1478 Q2147.69 1483.58 2144.22 1486.68 Q2140.74 1489.76 2134.42 1489.76 Q2132.25 1489.76 2129.98 1489.39 Q2127.73 1489.02 2125.33 1488.27 L2125.33 1483.58 Q2127.41 1484.71 2129.63 1485.27 Q2131.85 1485.82 2134.33 1485.82 Q2138.34 1485.82 2140.67 1483.71 Q2143.01 1481.61 2143.01 1478 Q2143.01 1474.39 2140.67 1472.28 Q2138.34 1470.17 2134.33 1470.17 Q2132.46 1470.17 2130.58 1470.59 Q2128.73 1471.01 2126.79 1471.89 L2126.79 1454.52 Z\" fill=\"#000000\" fill-rule=\"evenodd\" fill-opacity=\"1\" /><path clip-path=\"url(#clip590)\" d=\"M 0 0 M2152.76 1483.2 L2157.64 1483.2 L2157.64 1489.08 L2152.76 1489.08 L2152.76 1483.2 Z\" fill=\"#000000\" fill-rule=\"evenodd\" fill-opacity=\"1\" /><path clip-path=\"url(#clip590)\" d=\"M 0 0 M2172.71 1457.6 Q2169.1 1457.6 2167.27 1461.17 Q2165.47 1464.71 2165.47 1471.84 Q2165.47 1478.95 2167.27 1482.51 Q2169.1 1486.05 2172.71 1486.05 Q2176.35 1486.05 2178.15 1482.51 Q2179.98 1478.95 2179.98 1471.84 Q2179.98 1464.71 2178.15 1461.17 Q2176.35 1457.6 2172.71 1457.6 M2172.71 1453.9 Q2178.52 1453.9 2181.58 1458.51 Q2184.66 1463.09 2184.66 1471.84 Q2184.66 1480.57 2181.58 1485.17 Q2178.52 1489.76 2172.71 1489.76 Q2166.9 1489.76 2163.82 1485.17 Q2160.77 1480.57 2160.77 1471.84 Q2160.77 1463.09 2163.82 1458.51 Q2166.9 1453.9 2172.71 1453.9 Z\" fill=\"#000000\" fill-rule=\"evenodd\" fill-opacity=\"1\" /><path clip-path=\"url(#clip590)\" d=\"M 0 0 M1275.11 1530.01 Q1275.11 1531.85 1273.98 1532.94 Q1272.89 1534.04 1271.5 1534.04 Q1270.28 1534.04 1269.63 1533.33 Q1268.99 1532.62 1268.99 1531.72 Q1268.99 1531.33 1269.15 1530.85 Q1269.31 1530.33 1269.67 1529.72 Q1270.05 1529.11 1270.86 1528.66 Q1271.66 1528.21 1272.76 1528.14 Q1272.53 1527.92 1272.47 1527.89 Q1271.98 1527.5 1271.08 1527.37 Q1270.95 1527.31 1270.5 1527.31 Q1268.28 1527.31 1266.03 1528.95 Q1263.8 1530.56 1261.07 1533.62 Q1257.62 1537.19 1255.4 1538.51 Q1265.16 1539.8 1265.16 1545.44 Q1265.16 1546.37 1264.9 1547.5 Q1264.38 1549.62 1264.38 1551.17 Q1264.38 1554.26 1266.48 1554.26 Q1268.51 1554.26 1269.79 1552.2 Q1271.12 1550.14 1272.21 1546.11 Q1272.37 1545.37 1272.53 1545.15 Q1272.69 1544.92 1273.14 1544.92 Q1273.95 1544.92 1273.95 1545.57 Q1273.21 1549.33 1271.57 1552.23 Q1269.47 1555.74 1266.35 1555.74 Q1263.74 1555.74 1262 1553.94 Q1260.29 1552.1 1260.29 1549.21 Q1260.29 1548.5 1260.55 1546.89 Q1260.75 1546.24 1260.75 1545.5 Q1260.75 1543.99 1259.91 1542.86 Q1259.07 1541.7 1257.72 1541.12 Q1256.37 1540.54 1255.24 1540.29 Q1254.14 1540 1253.08 1539.9 Q1249.86 1553.52 1249.41 1554.36 Q1249.12 1554.94 1248.47 1555.33 Q1247.83 1555.74 1247.15 1555.74 Q1246.51 1555.74 1245.87 1555.29 Q1245.25 1554.87 1245.25 1553.88 Q1245.25 1553.36 1245.51 1552.43 L1255.08 1514.42 L1255.27 1513.14 Q1255.27 1512.75 1255.11 1512.56 Q1254.98 1512.33 1254.21 1512.17 Q1253.47 1512.01 1251.99 1512.01 Q1251.37 1512.01 1251.08 1511.98 Q1250.83 1511.94 1250.6 1511.78 Q1250.37 1511.59 1250.37 1511.2 Q1250.37 1510.66 1250.6 1510.37 Q1250.86 1510.04 1251.05 1509.98 Q1251.24 1509.92 1251.63 1509.88 Q1252.18 1509.85 1254.01 1509.69 Q1255.85 1509.5 1257.43 1509.37 Q1259.01 1509.24 1259.68 1509.24 Q1260.07 1509.24 1260.26 1509.43 Q1260.49 1509.59 1260.52 1509.79 L1260.55 1509.95 L1253.69 1537.77 Q1256.53 1536.65 1261 1531.65 Q1266.19 1525.86 1270.63 1525.86 Q1272.73 1525.86 1273.92 1527.15 Q1275.11 1528.4 1275.11 1530.01 Z\" fill=\"#000000\" fill-rule=\"evenodd\" fill-opacity=\"1\" /><path clip-path=\"url(#clip590)\" d=\"M 0 0 M1296.05 1553.44 Q1296.05 1554.07 1295.76 1554.23 Q1295.47 1554.36 1294.65 1554.36 L1290.33 1554.36 L1286.9 1567.98 Q1286.63 1569.17 1286.63 1570.19 Q1286.63 1571.32 1286.97 1571.81 Q1287.33 1572.31 1288.07 1572.31 Q1289.54 1572.31 1291.12 1570.98 Q1292.72 1569.65 1294.07 1566.4 Q1294.25 1565.97 1294.34 1565.88 Q1294.45 1565.77 1294.74 1565.77 Q1295.31 1565.77 1295.31 1566.22 Q1295.31 1566.38 1294.99 1567.1 Q1294.7 1567.82 1294.05 1568.88 Q1293.41 1569.94 1292.58 1570.93 Q1291.77 1571.92 1290.53 1572.65 Q1289.29 1573.34 1287.96 1573.34 Q1286.09 1573.34 1284.89 1572.15 Q1283.72 1570.96 1283.72 1569.08 Q1283.72 1568.48 1284.19 1566.54 Q1284.67 1564.58 1287.24 1554.36 L1283.16 1554.36 Q1282.59 1554.36 1282.37 1554.34 Q1282.17 1554.32 1282.01 1554.2 Q1281.87 1554.07 1281.87 1553.8 Q1281.87 1553.37 1282.05 1553.19 Q1282.23 1552.99 1282.46 1552.96 Q1282.71 1552.92 1283.27 1552.92 L1287.6 1552.92 L1289.4 1545.59 Q1289.58 1544.87 1290.03 1544.47 Q1290.51 1544.04 1290.78 1543.99 Q1291.05 1543.92 1291.25 1543.92 Q1291.86 1543.92 1292.22 1544.26 Q1292.58 1544.58 1292.58 1545.16 Q1292.58 1545.48 1290.69 1552.92 L1294.74 1552.92 Q1295.26 1552.92 1295.47 1552.94 Q1295.69 1552.96 1295.87 1553.08 Q1296.05 1553.19 1296.05 1553.44 Z\" fill=\"#000000\" fill-rule=\"evenodd\" fill-opacity=\"1\" /><polyline clip-path=\"url(#clip593)\" style=\"stroke:#000000; stroke-width:2; stroke-opacity:0.1; fill:none\" points=\"\n",
       "  195.465,1316.54 2352.76,1316.54 \n",
       "  \"/>\n",
       "<polyline clip-path=\"url(#clip593)\" style=\"stroke:#000000; stroke-width:2; stroke-opacity:0.1; fill:none\" points=\"\n",
       "  195.465,1037.66 2352.76,1037.66 \n",
       "  \"/>\n",
       "<polyline clip-path=\"url(#clip593)\" style=\"stroke:#000000; stroke-width:2; stroke-opacity:0.1; fill:none\" points=\"\n",
       "  195.465,758.786 2352.76,758.786 \n",
       "  \"/>\n",
       "<polyline clip-path=\"url(#clip593)\" style=\"stroke:#000000; stroke-width:2; stroke-opacity:0.1; fill:none\" points=\"\n",
       "  195.465,479.909 2352.76,479.909 \n",
       "  \"/>\n",
       "<polyline clip-path=\"url(#clip593)\" style=\"stroke:#000000; stroke-width:2; stroke-opacity:0.1; fill:none\" points=\"\n",
       "  195.465,201.033 2352.76,201.033 \n",
       "  \"/>\n",
       "<polyline clip-path=\"url(#clip590)\" style=\"stroke:#000000; stroke-width:4; stroke-opacity:1; fill:none\" points=\"\n",
       "  195.465,1428.41 195.465,123.472 \n",
       "  \"/>\n",
       "<polyline clip-path=\"url(#clip590)\" style=\"stroke:#000000; stroke-width:4; stroke-opacity:1; fill:none\" points=\"\n",
       "  195.465,1316.54 221.352,1316.54 \n",
       "  \"/>\n",
       "<polyline clip-path=\"url(#clip590)\" style=\"stroke:#000000; stroke-width:4; stroke-opacity:1; fill:none\" points=\"\n",
       "  195.465,1037.66 221.352,1037.66 \n",
       "  \"/>\n",
       "<polyline clip-path=\"url(#clip590)\" style=\"stroke:#000000; stroke-width:4; stroke-opacity:1; fill:none\" points=\"\n",
       "  195.465,758.786 221.352,758.786 \n",
       "  \"/>\n",
       "<polyline clip-path=\"url(#clip590)\" style=\"stroke:#000000; stroke-width:4; stroke-opacity:1; fill:none\" points=\"\n",
       "  195.465,479.909 221.352,479.909 \n",
       "  \"/>\n",
       "<polyline clip-path=\"url(#clip590)\" style=\"stroke:#000000; stroke-width:4; stroke-opacity:1; fill:none\" points=\"\n",
       "  195.465,201.033 221.352,201.033 \n",
       "  \"/>\n",
       "<path clip-path=\"url(#clip590)\" d=\"M 0 0 M147.937 1314.68 Q144.789 1314.68 142.937 1316.83 Q141.109 1318.98 141.109 1322.73 Q141.109 1326.46 142.937 1328.63 Q144.789 1330.79 147.937 1330.79 Q151.085 1330.79 152.914 1328.63 Q154.766 1326.46 154.766 1322.73 Q154.766 1318.98 152.914 1316.83 Q151.085 1314.68 147.937 1314.68 M157.22 1300.02 L157.22 1304.28 Q155.46 1303.45 153.655 1303.01 Q151.872 1302.57 150.113 1302.57 Q145.484 1302.57 143.03 1305.69 Q140.599 1308.82 140.252 1315.14 Q141.618 1313.12 143.678 1312.06 Q145.738 1310.97 148.215 1310.97 Q153.423 1310.97 156.433 1314.14 Q159.465 1317.29 159.465 1322.73 Q159.465 1328.05 156.317 1331.27 Q153.169 1334.49 147.937 1334.49 Q141.942 1334.49 138.771 1329.91 Q135.599 1325.3 135.599 1316.57 Q135.599 1308.38 139.488 1303.52 Q143.377 1298.63 149.928 1298.63 Q151.687 1298.63 153.47 1298.98 Q155.275 1299.33 157.22 1300.02 Z\" fill=\"#000000\" fill-rule=\"evenodd\" fill-opacity=\"1\" /><path clip-path=\"url(#clip590)\" d=\"M 0 0 M137.243 1020.38 L159.465 1020.38 L159.465 1022.37 L146.919 1054.94 L142.035 1054.94 L153.84 1024.32 L137.243 1024.32 L137.243 1020.38 Z\" fill=\"#000000\" fill-rule=\"evenodd\" fill-opacity=\"1\" /><path clip-path=\"url(#clip590)\" d=\"M 0 0 M147.613 759.654 Q144.28 759.654 142.359 761.436 Q140.46 763.219 140.46 766.344 Q140.46 769.469 142.359 771.251 Q144.28 773.033 147.613 773.033 Q150.947 773.033 152.868 771.251 Q154.789 769.445 154.789 766.344 Q154.789 763.219 152.868 761.436 Q150.97 759.654 147.613 759.654 M142.937 757.663 Q139.928 756.922 138.238 754.862 Q136.572 752.802 136.572 749.839 Q136.572 745.696 139.511 743.288 Q142.474 740.881 147.613 740.881 Q152.775 740.881 155.715 743.288 Q158.655 745.696 158.655 749.839 Q158.655 752.802 156.965 754.862 Q155.298 756.922 152.312 757.663 Q155.692 758.45 157.567 760.742 Q159.465 763.033 159.465 766.344 Q159.465 771.367 156.386 774.052 Q153.331 776.737 147.613 776.737 Q141.896 776.737 138.817 774.052 Q135.761 771.367 135.761 766.344 Q135.761 763.033 137.66 760.742 Q139.558 758.45 142.937 757.663 M141.224 750.279 Q141.224 752.964 142.891 754.469 Q144.581 755.973 147.613 755.973 Q150.622 755.973 152.312 754.469 Q154.025 752.964 154.025 750.279 Q154.025 747.594 152.312 746.089 Q150.622 744.584 147.613 744.584 Q144.581 744.584 142.891 746.089 Q141.224 747.594 141.224 750.279 Z\" fill=\"#000000\" fill-rule=\"evenodd\" fill-opacity=\"1\" /><path clip-path=\"url(#clip590)\" d=\"M 0 0 M137.845 496.472 L137.845 492.213 Q139.604 493.046 141.41 493.486 Q143.215 493.925 144.951 493.925 Q149.581 493.925 152.011 490.824 Q154.465 487.699 154.812 481.356 Q153.47 483.347 151.409 484.412 Q149.349 485.476 146.849 485.476 Q141.664 485.476 138.632 482.351 Q135.623 479.203 135.623 473.764 Q135.623 468.44 138.771 465.222 Q141.919 462.004 147.15 462.004 Q153.146 462.004 156.294 466.611 Q159.465 471.194 159.465 479.944 Q159.465 488.115 155.576 493 Q151.71 497.861 145.16 497.861 Q143.4 497.861 141.595 497.513 Q139.789 497.166 137.845 496.472 M147.15 481.819 Q150.298 481.819 152.127 479.666 Q153.979 477.514 153.979 473.764 Q153.979 470.037 152.127 467.884 Q150.298 465.708 147.15 465.708 Q144.002 465.708 142.15 467.884 Q140.322 470.037 140.322 473.764 Q140.322 477.514 142.15 479.666 Q144.002 481.819 147.15 481.819 Z\" fill=\"#000000\" fill-rule=\"evenodd\" fill-opacity=\"1\" /><path clip-path=\"url(#clip590)\" d=\"M 0 0 M112.544 214.378 L120.183 214.378 L120.183 188.012 L111.873 189.679 L111.873 185.42 L120.137 183.753 L124.812 183.753 L124.812 214.378 L132.451 214.378 L132.451 218.313 L112.544 218.313 L112.544 214.378 Z\" fill=\"#000000\" fill-rule=\"evenodd\" fill-opacity=\"1\" /><path clip-path=\"url(#clip590)\" d=\"M 0 0 M147.521 186.832 Q143.91 186.832 142.081 190.396 Q140.275 193.938 140.275 201.068 Q140.275 208.174 142.081 211.739 Q143.91 215.281 147.521 215.281 Q151.155 215.281 152.96 211.739 Q154.789 208.174 154.789 201.068 Q154.789 193.938 152.96 190.396 Q151.155 186.832 147.521 186.832 M147.521 183.128 Q153.331 183.128 156.386 187.734 Q159.465 192.318 159.465 201.068 Q159.465 209.795 156.386 214.401 Q153.331 218.984 147.521 218.984 Q141.71 218.984 138.632 214.401 Q135.576 209.795 135.576 201.068 Q135.576 192.318 138.632 187.734 Q141.71 183.128 147.521 183.128 Z\" fill=\"#000000\" fill-rule=\"evenodd\" fill-opacity=\"1\" /><path clip-path=\"url(#clip590)\" d=\"M 0 0 M35.0458 818.233 Q36.8815 818.233 37.9765 819.36 Q39.0715 820.455 39.0715 821.84 Q39.0715 823.064 38.363 823.708 Q37.6545 824.352 36.7527 824.352 Q36.3662 824.352 35.8831 824.191 Q35.3678 824.03 34.7559 823.676 Q34.144 823.289 33.6931 822.484 Q33.2423 821.679 33.1778 820.584 Q32.9524 820.809 32.9202 820.874 Q32.5337 821.357 32.4049 822.259 Q32.3405 822.387 32.3405 822.838 Q32.3405 825.06 33.983 827.315 Q35.5933 829.537 38.6528 832.275 Q42.2277 835.721 43.5481 837.943 Q44.8364 828.184 50.4724 828.184 Q51.4064 828.184 52.5336 828.442 Q54.6592 828.957 56.205 828.957 Q59.2968 828.957 59.2968 826.864 Q59.2968 824.835 57.2356 823.547 Q55.1744 822.226 51.1487 821.131 Q50.408 820.97 50.1825 820.809 Q49.9571 820.648 49.9571 820.197 Q49.9571 819.392 50.6012 819.392 Q54.3693 820.133 57.2678 821.775 Q60.7783 823.869 60.7783 826.993 Q60.7783 829.601 58.9747 831.341 Q57.139 833.048 54.2405 833.048 Q53.5319 833.048 51.9217 832.79 Q51.2775 832.597 50.5368 832.597 Q49.0231 832.597 47.8959 833.434 Q46.7365 834.271 46.1568 835.624 Q45.5771 836.977 45.3195 838.104 Q45.0296 839.199 44.933 840.262 Q58.5561 843.482 59.3934 843.933 Q59.9731 844.223 60.3596 844.867 Q60.7783 845.511 60.7783 846.188 Q60.7783 846.832 60.3274 847.476 Q59.9087 848.088 58.9103 848.088 Q58.395 848.088 57.4611 847.83 L19.4581 838.265 L18.1699 838.072 Q17.7834 838.072 17.5902 838.233 Q17.3648 838.361 17.2037 839.134 Q17.0427 839.875 17.0427 841.357 Q17.0427 841.969 17.0105 842.258 Q16.9783 842.516 16.8173 842.741 Q16.624 842.967 16.2376 842.967 Q15.6901 842.967 15.4002 842.741 Q15.0782 842.484 15.0137 842.291 Q14.9493 842.097 14.9171 841.711 Q14.8849 841.163 14.7239 839.328 Q14.5307 837.492 14.4018 835.914 Q14.273 834.336 14.273 833.659 Q14.273 833.273 14.4662 833.08 Q14.6273 832.854 14.8205 832.822 L14.9815 832.79 L42.8074 839.65 Q41.6802 836.816 36.6883 832.339 Q30.8912 827.154 30.8912 822.709 Q30.8912 820.616 32.1795 819.424 Q33.4355 818.233 35.0458 818.233 Z\" fill=\"#000000\" fill-rule=\"evenodd\" fill-opacity=\"1\" /><path clip-path=\"url(#clip590)\" d=\"M 0 0 M59.5687 797.289 Q60.1999 797.289 60.3577 797.582 Q60.493 797.875 60.493 798.687 L60.493 803.015 L74.1096 806.442 Q75.3045 806.713 76.3189 806.713 Q77.4461 806.713 77.9421 806.375 Q78.4381 806.014 78.4381 805.27 Q78.4381 803.805 77.108 802.226 Q75.7779 800.626 72.5315 799.273 Q72.1032 799.093 72.013 799.003 Q71.9003 798.89 71.9003 798.597 Q71.9003 798.033 72.3512 798.033 Q72.509 798.033 73.2304 798.349 Q73.9518 798.642 75.0114 799.296 Q76.0709 799.927 77.0629 800.761 Q78.0548 801.573 78.7762 802.813 Q79.4751 804.053 79.4751 805.383 Q79.4751 807.254 78.2803 808.449 Q77.0854 809.621 75.2143 809.621 Q74.6056 809.621 72.6668 809.147 Q70.7055 808.674 60.493 806.104 L60.493 810.185 Q60.493 810.748 60.4704 810.974 Q60.4479 811.176 60.3352 811.334 Q60.1999 811.47 59.9294 811.47 Q59.501 811.47 59.3207 811.289 Q59.1178 811.109 59.0952 810.883 Q59.0502 810.635 59.0502 810.072 L59.0502 805.743 L51.7233 803.94 Q51.0019 803.759 50.5961 803.309 Q50.1678 802.835 50.1227 802.565 Q50.0551 802.294 50.0551 802.091 Q50.0551 801.482 50.3932 801.122 Q50.7088 800.761 51.295 800.761 Q51.6106 800.761 59.0502 802.655 L59.0502 798.597 Q59.0502 798.078 59.0727 797.875 Q59.0952 797.65 59.208 797.47 Q59.3207 797.289 59.5687 797.289 Z\" fill=\"#000000\" fill-rule=\"evenodd\" fill-opacity=\"1\" /><path clip-path=\"url(#clip590)\" d=\"M 0 0 M67.9776 781.076 Q67.9776 782.135 67.414 782.135 Q66.8504 782.135 66.8504 781.031 Q66.8504 780.895 66.873 780.67 Q66.8955 780.422 66.8955 780.377 L66.8955 767.369 L53.8425 767.369 Q53.7974 767.369 53.5945 767.391 Q53.369 767.414 53.2338 767.414 Q52.1291 767.414 52.1291 766.873 Q52.1291 766.309 53.2338 766.309 L66.8955 766.309 L66.8955 753.279 Q66.8955 753.234 66.873 753.008 Q66.8504 752.783 66.8504 752.648 Q66.8504 751.588 67.414 751.588 Q67.9776 751.565 67.9776 752.693 Q67.9776 752.828 67.9551 753.031 Q67.9325 753.234 67.9325 753.279 L67.9325 766.309 L81.6393 766.309 Q82.6989 766.309 82.6989 766.873 Q82.6989 767.414 81.5943 767.414 Q81.459 767.414 81.2335 767.391 Q81.0307 767.369 80.9856 767.369 L67.9325 767.369 L67.9325 780.377 Q67.9325 780.422 67.9551 780.692 Q67.9776 780.94 67.9776 781.076 Z\" fill=\"#000000\" fill-rule=\"evenodd\" fill-opacity=\"1\" /><path clip-path=\"url(#clip590)\" d=\"M 0 0 M52.6025 733.718 L51.1597 733.718 Q51.1597 728.172 48.2064 725.309 Q48.2064 724.52 48.3868 724.385 Q48.5671 724.25 49.4013 724.25 L75.3045 724.25 Q76.6796 724.25 77.108 723.573 Q77.5363 722.897 77.5363 719.944 L77.5363 718.478 L78.9566 718.478 Q78.8213 720.102 78.8213 725.963 Q78.8213 731.825 78.9566 733.425 L77.5363 733.425 L77.5363 731.96 Q77.5363 729.052 77.1305 728.353 Q76.7022 727.654 75.3045 727.654 L51.3852 727.654 Q52.6025 730.066 52.6025 733.718 Z\" fill=\"#000000\" fill-rule=\"evenodd\" fill-opacity=\"1\" /><path clip-path=\"url(#clip590)\" d=\"M 0 0 M806.393 12.096 L814.576 12.096 L814.576 65.6895 L844.026 65.6895 L844.026 72.576 L806.393 72.576 L806.393 12.096 Z\" fill=\"#000000\" fill-rule=\"evenodd\" fill-opacity=\"1\" /><path clip-path=\"url(#clip590)\" d=\"M 0 0 M872.463 49.7694 Q863.43 49.7694 859.946 51.8354 Q856.462 53.9013 856.462 58.8839 Q856.462 62.8538 859.055 65.2034 Q861.688 67.5124 866.184 67.5124 Q872.382 67.5124 876.109 63.1374 Q879.876 58.7219 879.876 51.4303 L879.876 49.7694 L872.463 49.7694 M887.33 46.6907 L887.33 72.576 L879.876 72.576 L879.876 65.6895 Q877.324 69.8214 873.517 71.8063 Q869.709 73.7508 864.199 73.7508 Q857.232 73.7508 853.1 69.8619 Q849.009 65.9325 849.009 59.3701 Q849.009 51.7138 854.113 47.825 Q859.257 43.9361 869.425 43.9361 L879.876 43.9361 L879.876 43.2069 Q879.876 38.0623 876.474 35.2672 Q873.111 32.4315 866.995 32.4315 Q863.106 32.4315 859.419 33.3632 Q855.733 34.295 852.33 36.1584 L852.33 29.2718 Q856.422 27.692 860.27 26.9223 Q864.118 26.1121 867.764 26.1121 Q877.608 26.1121 882.469 31.2163 Q887.33 36.3204 887.33 46.6907 Z\" fill=\"#000000\" fill-rule=\"evenodd\" fill-opacity=\"1\" /><path clip-path=\"url(#clip590)\" d=\"M 0 0 M890.814 27.2059 L898.268 27.2059 L907.585 62.6108 L916.861 27.2059 L925.652 27.2059 L934.969 62.6108 L944.245 27.2059 L951.699 27.2059 L939.83 72.576 L931.039 72.576 L921.277 35.3887 L911.474 72.576 L902.683 72.576 L890.814 27.2059 Z\" fill=\"#000000\" fill-rule=\"evenodd\" fill-opacity=\"1\" /><path clip-path=\"url(#clip590)\" d=\"M 0 0 M1003.47 32.4315 Q997.474 32.4315 993.99 37.1306 Q990.507 41.7891 990.507 49.9314 Q990.507 58.0738 993.95 62.7728 Q997.434 67.4314 1003.47 67.4314 Q1009.42 67.4314 1012.91 62.7323 Q1016.39 58.0333 1016.39 49.9314 Q1016.39 41.8701 1012.91 37.1711 Q1009.42 32.4315 1003.47 32.4315 M1003.47 26.1121 Q1013.19 26.1121 1018.74 32.4315 Q1024.29 38.7509 1024.29 49.9314 Q1024.29 61.0714 1018.74 67.4314 Q1013.19 73.7508 1003.47 73.7508 Q993.707 73.7508 988.157 67.4314 Q982.648 61.0714 982.648 49.9314 Q982.648 38.7509 988.157 32.4315 Q993.707 26.1121 1003.47 26.1121 Z\" fill=\"#000000\" fill-rule=\"evenodd\" fill-opacity=\"1\" /><path clip-path=\"url(#clip590)\" d=\"M 0 0 M1055.08 9.54393 L1055.08 15.7418 L1047.95 15.7418 Q1043.94 15.7418 1042.36 17.3622 Q1040.82 18.9825 1040.82 23.1955 L1040.82 27.2059 L1053.09 27.2059 L1053.09 32.9987 L1040.82 32.9987 L1040.82 72.576 L1033.32 72.576 L1033.32 32.9987 L1026.2 32.9987 L1026.2 27.2059 L1033.32 27.2059 L1033.32 24.0462 Q1033.32 16.471 1036.85 13.0277 Q1040.37 9.54393 1048.03 9.54393 L1055.08 9.54393 Z\" fill=\"#000000\" fill-rule=\"evenodd\" fill-opacity=\"1\" /><path clip-path=\"url(#clip590)\" d=\"M 0 0 M1089.59 12.096 L1101.78 12.096 L1117.22 53.2532 L1132.73 12.096 L1144.93 12.096 L1144.93 72.576 L1136.95 72.576 L1136.95 19.4686 L1121.35 60.9499 L1113.13 60.9499 L1097.53 19.4686 L1097.53 72.576 L1089.59 72.576 L1089.59 12.096 Z\" fill=\"#000000\" fill-rule=\"evenodd\" fill-opacity=\"1\" /><path clip-path=\"url(#clip590)\" d=\"M 0 0 M1170.33 32.4315 Q1164.33 32.4315 1160.85 37.1306 Q1157.36 41.7891 1157.36 49.9314 Q1157.36 58.0738 1160.81 62.7728 Q1164.29 67.4314 1170.33 67.4314 Q1176.28 67.4314 1179.76 62.7323 Q1183.25 58.0333 1183.25 49.9314 Q1183.25 41.8701 1179.76 37.1711 Q1176.28 32.4315 1170.33 32.4315 M1170.33 26.1121 Q1180.05 26.1121 1185.6 32.4315 Q1191.15 38.7509 1191.15 49.9314 Q1191.15 61.0714 1185.6 67.4314 Q1180.05 73.7508 1170.33 73.7508 Q1160.56 73.7508 1155.01 67.4314 Q1149.5 61.0714 1149.5 49.9314 Q1149.5 38.7509 1155.01 32.4315 Q1160.56 26.1121 1170.33 26.1121 Z\" fill=\"#000000\" fill-rule=\"evenodd\" fill-opacity=\"1\" /><path clip-path=\"url(#clip590)\" d=\"M 0 0 M1206.34 14.324 L1206.34 27.2059 L1221.69 27.2059 L1221.69 32.9987 L1206.34 32.9987 L1206.34 57.6282 Q1206.34 63.1779 1207.84 64.7578 Q1209.38 66.3376 1214.04 66.3376 L1221.69 66.3376 L1221.69 72.576 L1214.04 72.576 Q1205.41 72.576 1202.13 69.3758 Q1198.84 66.1351 1198.84 57.6282 L1198.84 32.9987 L1193.38 32.9987 L1193.38 27.2059 L1198.84 27.2059 L1198.84 14.324 L1206.34 14.324 Z\" fill=\"#000000\" fill-rule=\"evenodd\" fill-opacity=\"1\" /><path clip-path=\"url(#clip590)\" d=\"M 0 0 M1229.51 27.2059 L1236.96 27.2059 L1236.96 72.576 L1229.51 72.576 L1229.51 27.2059 M1229.51 9.54393 L1236.96 9.54393 L1236.96 18.9825 L1229.51 18.9825 L1229.51 9.54393 Z\" fill=\"#000000\" fill-rule=\"evenodd\" fill-opacity=\"1\" /><path clip-path=\"url(#clip590)\" d=\"M 0 0 M1262.36 32.4315 Q1256.37 32.4315 1252.88 37.1306 Q1249.4 41.7891 1249.4 49.9314 Q1249.4 58.0738 1252.84 62.7728 Q1256.33 67.4314 1262.36 67.4314 Q1268.32 67.4314 1271.8 62.7323 Q1275.29 58.0333 1275.29 49.9314 Q1275.29 41.8701 1271.8 37.1711 Q1268.32 32.4315 1262.36 32.4315 M1262.36 26.1121 Q1272.08 26.1121 1277.63 32.4315 Q1283.18 38.7509 1283.18 49.9314 Q1283.18 61.0714 1277.63 67.4314 Q1272.08 73.7508 1262.36 73.7508 Q1252.6 73.7508 1247.05 67.4314 Q1241.54 61.0714 1241.54 49.9314 Q1241.54 38.7509 1247.05 32.4315 Q1252.6 26.1121 1262.36 26.1121 Z\" fill=\"#000000\" fill-rule=\"evenodd\" fill-opacity=\"1\" /><path clip-path=\"url(#clip590)\" d=\"M 0 0 M1328.72 45.1919 L1328.72 72.576 L1321.26 72.576 L1321.26 45.4349 Q1321.26 38.994 1318.75 35.7938 Q1316.24 32.5936 1311.22 32.5936 Q1305.18 32.5936 1301.7 36.4419 Q1298.21 40.2903 1298.21 46.9338 L1298.21 72.576 L1290.72 72.576 L1290.72 27.2059 L1298.21 27.2059 L1298.21 34.2544 Q1300.89 30.163 1304.49 28.1376 Q1308.14 26.1121 1312.88 26.1121 Q1320.7 26.1121 1324.71 30.9732 Q1328.72 35.7938 1328.72 45.1919 Z\" fill=\"#000000\" fill-rule=\"evenodd\" fill-opacity=\"1\" /><path clip-path=\"url(#clip590)\" d=\"M 0 0 M1385.87 9.54393 L1385.87 15.7418 L1378.75 15.7418 Q1374.73 15.7418 1373.16 17.3622 Q1371.62 18.9825 1371.62 23.1955 L1371.62 27.2059 L1383.89 27.2059 L1383.89 32.9987 L1371.62 32.9987 L1371.62 72.576 L1364.12 72.576 L1364.12 32.9987 L1356.99 32.9987 L1356.99 27.2059 L1364.12 27.2059 L1364.12 24.0462 Q1364.12 16.471 1367.65 13.0277 Q1371.17 9.54393 1378.83 9.54393 L1385.87 9.54393 Z\" fill=\"#000000\" fill-rule=\"evenodd\" fill-opacity=\"1\" /><path clip-path=\"url(#clip590)\" d=\"M 0 0 M1411.27 32.4315 Q1405.28 32.4315 1401.79 37.1306 Q1398.31 41.7891 1398.31 49.9314 Q1398.31 58.0738 1401.75 62.7728 Q1405.24 67.4314 1411.27 67.4314 Q1417.23 67.4314 1420.71 62.7323 Q1424.2 58.0333 1424.2 49.9314 Q1424.2 41.8701 1420.71 37.1711 Q1417.23 32.4315 1411.27 32.4315 M1411.27 26.1121 Q1421 26.1121 1426.55 32.4315 Q1432.1 38.7509 1432.1 49.9314 Q1432.1 61.0714 1426.55 67.4314 Q1421 73.7508 1411.27 73.7508 Q1401.51 73.7508 1395.96 67.4314 Q1390.45 61.0714 1390.45 49.9314 Q1390.45 38.7509 1395.96 32.4315 Q1401.51 26.1121 1411.27 26.1121 Z\" fill=\"#000000\" fill-rule=\"evenodd\" fill-opacity=\"1\" /><path clip-path=\"url(#clip590)\" d=\"M 0 0 M1466.2 34.1734 Q1464.95 33.4443 1463.45 33.1202 Q1461.99 32.7556 1460.21 32.7556 Q1453.89 32.7556 1450.49 36.8875 Q1447.12 40.9789 1447.12 48.6757 L1447.12 72.576 L1439.63 72.576 L1439.63 27.2059 L1447.12 27.2059 L1447.12 34.2544 Q1449.47 30.1225 1453.24 28.1376 Q1457.01 26.1121 1462.4 26.1121 Q1463.17 26.1121 1464.1 26.2337 Q1465.03 26.3147 1466.16 26.5172 L1466.2 34.1734 Z\" fill=\"#000000\" fill-rule=\"evenodd\" fill-opacity=\"1\" /><path clip-path=\"url(#clip590)\" d=\"M 0 0 M1546.01 16.7545 L1546.01 25.383 Q1541.88 21.5346 1537.18 19.6307 Q1532.52 17.7268 1527.25 17.7268 Q1516.88 17.7268 1511.37 24.0867 Q1505.86 30.4061 1505.86 42.3968 Q1505.86 54.3469 1511.37 60.7069 Q1516.88 67.0263 1527.25 67.0263 Q1532.52 67.0263 1537.18 65.1223 Q1541.88 63.2184 1546.01 59.3701 L1546.01 67.9175 Q1541.71 70.8341 1536.89 72.2924 Q1532.11 73.7508 1526.77 73.7508 Q1513.03 73.7508 1505.13 65.3654 Q1497.23 56.9395 1497.23 42.3968 Q1497.23 27.8135 1505.13 19.4281 Q1513.03 11.0023 1526.77 11.0023 Q1532.19 11.0023 1536.97 12.4606 Q1541.79 13.8784 1546.01 16.7545 Z\" fill=\"#000000\" fill-rule=\"evenodd\" fill-opacity=\"1\" /><path clip-path=\"url(#clip590)\" d=\"M 0 0 M1574.44 49.7694 Q1565.41 49.7694 1561.93 51.8354 Q1558.44 53.9013 1558.44 58.8839 Q1558.44 62.8538 1561.04 65.2034 Q1563.67 67.5124 1568.17 67.5124 Q1574.36 67.5124 1578.09 63.1374 Q1581.86 58.7219 1581.86 51.4303 L1581.86 49.7694 L1574.44 49.7694 M1589.31 46.6907 L1589.31 72.576 L1581.86 72.576 L1581.86 65.6895 Q1579.31 69.8214 1575.5 71.8063 Q1571.69 73.7508 1566.18 73.7508 Q1559.21 73.7508 1555.08 69.8619 Q1550.99 65.9325 1550.99 59.3701 Q1550.99 51.7138 1556.09 47.825 Q1561.24 43.9361 1571.41 43.9361 L1581.86 43.9361 L1581.86 43.2069 Q1581.86 38.0623 1578.45 35.2672 Q1575.09 32.4315 1568.98 32.4315 Q1565.09 32.4315 1561.4 33.3632 Q1557.71 34.295 1554.31 36.1584 L1554.31 29.2718 Q1558.4 27.692 1562.25 26.9223 Q1566.1 26.1121 1569.75 26.1121 Q1579.59 26.1121 1584.45 31.2163 Q1589.31 36.3204 1589.31 46.6907 Z\" fill=\"#000000\" fill-rule=\"evenodd\" fill-opacity=\"1\" /><path clip-path=\"url(#clip590)\" d=\"M 0 0 M1604.34 65.7705 L1604.34 89.8329 L1596.85 89.8329 L1596.85 27.2059 L1604.34 27.2059 L1604.34 34.0924 Q1606.69 30.0415 1610.25 28.0971 Q1613.86 26.1121 1618.84 26.1121 Q1627.11 26.1121 1632.25 32.6746 Q1637.44 39.2371 1637.44 49.9314 Q1637.44 60.6258 1632.25 67.1883 Q1627.11 73.7508 1618.84 73.7508 Q1613.86 73.7508 1610.25 71.8063 Q1606.69 69.8214 1604.34 65.7705 M1629.7 49.9314 Q1629.7 41.7081 1626.3 37.0496 Q1622.93 32.3505 1617.02 32.3505 Q1611.11 32.3505 1607.7 37.0496 Q1604.34 41.7081 1604.34 49.9314 Q1604.34 58.1548 1607.7 62.8538 Q1611.11 67.5124 1617.02 67.5124 Q1622.93 67.5124 1626.3 62.8538 Q1629.7 58.1548 1629.7 49.9314 Z\" fill=\"#000000\" fill-rule=\"evenodd\" fill-opacity=\"1\" /><path clip-path=\"url(#clip590)\" d=\"M 0 0 M1645.25 27.2059 L1652.71 27.2059 L1652.71 72.576 L1645.25 72.576 L1645.25 27.2059 M1645.25 9.54393 L1652.71 9.54393 L1652.71 18.9825 L1645.25 18.9825 L1645.25 9.54393 Z\" fill=\"#000000\" fill-rule=\"evenodd\" fill-opacity=\"1\" /><path clip-path=\"url(#clip590)\" d=\"M 0 0 M1667.9 14.324 L1667.9 27.2059 L1683.25 27.2059 L1683.25 32.9987 L1667.9 32.9987 L1667.9 57.6282 Q1667.9 63.1779 1669.4 64.7578 Q1670.94 66.3376 1675.6 66.3376 L1683.25 66.3376 L1683.25 72.576 L1675.6 72.576 Q1666.97 72.576 1663.69 69.3758 Q1660.4 66.1351 1660.4 57.6282 L1660.4 32.9987 L1654.94 32.9987 L1654.94 27.2059 L1660.4 27.2059 L1660.4 14.324 L1667.9 14.324 Z\" fill=\"#000000\" fill-rule=\"evenodd\" fill-opacity=\"1\" /><path clip-path=\"url(#clip590)\" d=\"M 0 0 M1711.69 49.7694 Q1702.66 49.7694 1699.17 51.8354 Q1695.69 53.9013 1695.69 58.8839 Q1695.69 62.8538 1698.28 65.2034 Q1700.91 67.5124 1705.41 67.5124 Q1711.61 67.5124 1715.33 63.1374 Q1719.1 58.7219 1719.1 51.4303 L1719.1 49.7694 L1711.69 49.7694 M1726.56 46.6907 L1726.56 72.576 L1719.1 72.576 L1719.1 65.6895 Q1716.55 69.8214 1712.74 71.8063 Q1708.93 73.7508 1703.43 73.7508 Q1696.46 73.7508 1692.33 69.8619 Q1688.23 65.9325 1688.23 59.3701 Q1688.23 51.7138 1693.34 47.825 Q1698.48 43.9361 1708.65 43.9361 L1719.1 43.9361 L1719.1 43.2069 Q1719.1 38.0623 1715.7 35.2672 Q1712.34 32.4315 1706.22 32.4315 Q1702.33 32.4315 1698.65 33.3632 Q1694.96 34.295 1691.56 36.1584 L1691.56 29.2718 Q1695.65 27.692 1699.5 26.9223 Q1703.34 26.1121 1706.99 26.1121 Q1716.83 26.1121 1721.69 31.2163 Q1726.56 36.3204 1726.56 46.6907 Z\" fill=\"#000000\" fill-rule=\"evenodd\" fill-opacity=\"1\" /><path clip-path=\"url(#clip590)\" d=\"M 0 0 M1734.37 9.54393 L1741.83 9.54393 L1741.83 72.576 L1734.37 72.576 L1734.37 9.54393 Z\" fill=\"#000000\" fill-rule=\"evenodd\" fill-opacity=\"1\" /><polyline clip-path=\"url(#clip593)\" style=\"stroke:#009af9; stroke-width:12; stroke-opacity:1; fill:none\" points=\"\n",
       "  256.52,1391.48 258.558,1391.48 260.595,1391.48 262.632,1391.48 264.669,1391.48 266.706,1391.48 268.744,1391.48 270.781,1391.48 272.818,1391.48 274.855,1391.48 \n",
       "  276.893,1391.48 278.93,1391.48 280.967,1391.48 283.004,1391.48 285.041,1391.48 287.079,1391.48 289.116,1391.48 291.153,1391.48 293.19,1391.48 295.228,1391.48 \n",
       "  297.265,1391.48 299.302,1391.48 301.339,1391.48 303.376,1391.48 305.414,1391.48 307.451,1391.48 309.488,1391.48 311.525,1391.48 313.562,1391.48 315.6,1391.48 \n",
       "  317.637,1391.48 319.674,1391.48 321.711,1391.48 323.749,1391.48 325.786,1391.48 327.823,1391.48 329.86,1391.48 331.897,1391.48 333.935,1391.48 335.972,1391.48 \n",
       "  338.009,1391.48 340.046,1391.48 342.084,1391.48 344.121,1391.48 346.158,1391.48 348.195,1391.48 350.232,1391.48 352.27,1391.48 354.307,1391.48 356.344,1391.48 \n",
       "  358.381,1391.48 360.418,1391.48 362.456,1391.48 364.493,1391.48 366.53,1391.48 368.567,1391.48 370.605,1391.48 372.642,1391.48 374.679,1391.48 376.716,1391.48 \n",
       "  378.753,1391.48 380.791,1391.48 382.828,1391.48 384.865,1391.48 386.902,1391.48 388.94,1391.48 390.977,1391.48 393.014,1391.48 395.051,1391.48 397.088,1391.48 \n",
       "  399.126,1391.48 401.163,1391.48 403.2,1391.48 405.237,1391.48 407.274,1391.48 409.312,1391.48 411.349,1391.48 413.386,1391.48 415.423,1391.48 417.461,1391.48 \n",
       "  419.498,1391.48 421.535,1391.48 423.572,1391.48 425.609,1391.48 427.647,1391.48 429.684,1391.48 431.721,1391.48 433.758,1391.48 435.796,1391.48 437.833,1391.48 \n",
       "  439.87,1391.48 441.907,1391.48 443.944,1391.48 445.982,1391.48 448.019,1391.48 450.056,1391.48 452.093,1391.48 454.13,1391.48 456.168,1391.48 458.205,1391.48 \n",
       "  460.242,1391.48 462.279,1391.48 464.317,1391.48 466.354,1391.48 468.391,1391.48 470.428,1391.48 472.465,1391.48 474.503,1391.48 476.54,1391.48 478.577,1391.48 \n",
       "  480.614,1391.48 482.652,1391.48 484.689,1391.48 486.726,1391.48 488.763,1391.48 490.8,1391.48 492.838,1391.48 494.875,1391.48 496.912,1391.48 498.949,1391.48 \n",
       "  500.986,1391.48 503.024,1391.48 505.061,1391.48 507.098,1391.48 509.135,1391.48 511.173,1391.48 513.21,1391.48 515.247,1391.48 517.284,1391.48 519.321,1391.48 \n",
       "  521.359,1391.48 523.396,1391.48 525.433,1391.48 527.47,1391.48 529.508,1391.48 531.545,1212.82 533.582,1212.82 535.619,1212.82 537.656,1212.82 539.694,1210.03 \n",
       "  541.731,1210.03 543.768,1207.24 545.805,1207.24 547.842,1207.24 549.88,1204.45 551.917,1204.45 553.954,1201.65 555.991,1201.65 558.029,1201.65 560.066,1198.86 \n",
       "  562.103,1198.86 564.14,1196.07 566.177,1196.07 568.215,1193.28 570.252,1193.28 572.289,1193.28 574.326,1190.49 576.364,1190.49 578.401,1187.7 580.438,1187.7 \n",
       "  582.475,1184.91 584.512,1184.91 586.55,1184.91 588.587,1182.11 590.624,1182.11 592.661,1179.32 594.698,1179.32 596.736,1176.53 598.773,1176.53 600.81,1176.53 \n",
       "  602.847,1173.74 604.885,1173.74 606.922,1170.95 608.959,1170.95 610.996,1168.16 613.033,1168.16 615.071,1168.16 617.108,1165.36 619.145,1165.36 621.182,1162.57 \n",
       "  623.22,1162.57 625.257,1159.78 627.294,1159.78 629.331,1159.78 631.368,1156.99 633.406,1156.99 635.443,1154.2 637.48,1154.2 639.517,1151.41 641.554,1151.41 \n",
       "  643.592,1148.61 645.629,1148.61 647.666,1148.61 649.703,1145.82 651.741,1145.82 653.778,1143.03 655.815,1143.03 657.852,1140.24 659.889,1140.24 661.927,1140.24 \n",
       "  663.964,1137.45 666.001,1137.45 668.038,1134.66 670.076,1134.66 672.113,1131.87 674.15,1131.87 676.187,1131.87 678.224,1129.07 680.262,1129.07 682.299,1126.28 \n",
       "  684.336,1126.28 686.373,1123.49 688.41,1123.49 690.448,1120.7 692.485,1120.7 694.522,1120.7 696.559,1117.91 698.597,1117.91 700.634,1115.12 702.671,1115.12 \n",
       "  704.708,1112.32 706.745,1112.32 708.783,1112.32 710.82,1109.53 712.857,1109.53 714.894,1106.74 716.932,1106.74 718.969,1103.95 721.006,1103.95 723.043,1101.16 \n",
       "  725.08,1101.16 727.118,1101.16 729.155,1098.37 731.192,1098.37 733.229,1095.58 735.266,1095.58 737.304,1092.78 739.341,1092.78 741.378,1092.78 743.415,1089.99 \n",
       "  745.453,1089.99 747.49,1087.2 749.527,1087.2 751.564,1084.41 753.601,1084.41 755.639,1084.41 757.676,1081.62 759.713,1081.62 761.75,1078.83 763.788,1078.83 \n",
       "  765.825,1076.03 767.862,1076.03 769.899,1073.24 771.936,1073.24 773.974,1073.24 776.011,1070.45 778.048,1070.45 780.085,1067.66 782.122,1067.66 784.16,1064.87 \n",
       "  786.197,1064.87 788.234,1064.87 790.271,1062.08 792.309,1062.08 794.346,1059.29 796.383,1059.29 798.42,1056.49 800.457,1056.49 802.495,1053.7 804.532,1053.7 \n",
       "  806.569,1053.7 808.606,1050.91 810.644,1050.91 812.681,1048.12 814.718,1048.12 816.755,1045.33 818.792,1045.33 820.83,1045.33 822.867,1042.54 824.904,1042.54 \n",
       "  826.941,1039.74 828.978,1039.74 831.016,1036.95 833.053,1036.95 835.09,1034.16 837.127,1034.16 839.165,1034.16 841.202,1031.37 843.239,1031.37 845.276,1028.58 \n",
       "  847.313,1028.58 849.351,1025.79 851.388,1025.79 853.425,1025.79 855.462,1022.99 857.5,1022.99 859.537,1020.2 861.574,1020.2 863.611,1017.41 865.648,1017.41 \n",
       "  867.686,1014.62 869.723,1014.62 871.76,1014.62 873.797,1011.83 875.834,1011.83 877.872,1009.04 879.909,1009.04 881.946,1006.25 883.983,1006.25 886.021,1006.25 \n",
       "  888.058,1003.45 890.095,1003.45 892.132,1000.66 894.169,1000.66 896.207,997.871 898.244,997.871 900.281,995.079 902.318,995.079 904.356,995.079 906.393,992.288 \n",
       "  908.43,992.288 910.467,989.496 912.504,989.496 914.542,986.705 916.579,986.705 918.616,986.705 920.653,983.913 922.69,983.913 924.728,981.122 926.765,981.122 \n",
       "  928.802,978.33 930.839,978.33 932.877,975.539 934.914,975.539 936.951,975.539 938.988,972.747 941.025,972.747 943.063,969.955 945.1,969.955 947.137,967.164 \n",
       "  949.174,967.164 951.212,964.372 953.249,964.372 955.286,964.372 957.323,961.581 959.36,961.581 961.398,958.789 963.435,958.789 965.472,955.998 967.509,955.998 \n",
       "  969.546,955.998 971.584,953.206 973.621,953.206 975.658,950.415 977.695,950.415 979.733,947.623 981.77,947.623 983.807,944.831 985.844,944.831 987.881,944.831 \n",
       "  989.919,942.04 991.956,942.04 993.993,939.248 996.03,939.248 998.068,936.457 1000.1,936.457 1002.14,936.457 1004.18,933.665 1006.22,933.665 1008.25,930.874 \n",
       "  1010.29,930.874 1012.33,928.082 1014.37,928.082 1016.4,925.291 1018.44,925.291 1020.48,925.291 1022.51,922.499 1024.55,922.499 1026.59,919.707 1028.63,919.707 \n",
       "  1030.66,916.916 1032.7,916.916 1034.74,916.916 1036.77,914.124 1038.81,914.124 1040.85,911.333 1042.89,911.333 1044.92,908.541 1046.96,908.541 1049,905.75 \n",
       "  1051.04,905.75 1053.07,905.75 1055.11,902.958 1057.15,902.958 1059.18,900.167 1061.22,900.167 1063.26,897.375 1065.3,897.375 1067.33,897.375 1069.37,894.583 \n",
       "  1071.41,894.583 1073.44,891.792 1075.48,891.792 1077.52,889 1079.56,889 1081.59,886.209 1083.63,886.209 1085.67,886.209 1087.71,883.417 1089.74,883.417 \n",
       "  1091.78,880.626 1093.82,880.626 1095.85,877.834 1097.89,877.834 1099.93,877.834 1101.97,875.043 1104,875.043 1106.04,872.251 1108.08,872.251 1110.11,869.459 \n",
       "  1112.15,869.459 1114.19,866.668 1116.23,866.668 1118.26,866.668 1120.3,863.876 1122.34,863.876 1124.37,861.085 1126.41,861.085 1128.45,858.293 1130.49,858.293 \n",
       "  1132.52,858.293 1134.56,855.502 1136.6,855.502 1138.64,852.71 1140.67,852.71 1142.71,849.919 1144.75,849.919 1146.78,847.127 1148.82,847.127 1150.86,847.127 \n",
       "  1152.9,844.335 1154.93,844.335 1156.97,841.544 1159.01,841.544 1161.04,838.752 1163.08,838.752 1165.12,835.961 1167.16,835.961 1169.19,835.961 1171.23,833.169 \n",
       "  1173.27,833.169 1175.31,830.378 1177.34,830.378 1179.38,827.586 1181.42,827.586 1183.45,827.586 1185.49,824.795 1187.53,824.795 1189.57,822.003 1191.6,822.003 \n",
       "  1193.64,819.211 1195.68,819.211 1197.71,816.42 1199.75,816.42 1201.79,816.42 1203.83,813.628 1205.86,813.628 1207.9,810.837 1209.94,810.837 1211.98,808.045 \n",
       "  1214.01,808.045 1216.05,808.045 1218.09,805.254 1220.12,805.254 1222.16,802.462 1224.2,802.462 1226.24,799.671 1228.27,799.671 1230.31,796.879 1232.35,796.879 \n",
       "  1234.38,796.879 1236.42,794.087 1238.46,794.087 1240.5,791.296 1242.53,791.296 1244.57,788.504 1246.61,788.504 1248.65,788.504 1250.68,785.713 1252.72,785.713 \n",
       "  1254.76,782.921 1256.79,782.921 1258.83,780.13 1260.87,780.13 1262.91,777.338 1264.94,777.338 1266.98,777.338 1269.02,774.547 1271.05,774.547 1273.09,771.755 \n",
       "  1275.13,771.755 1277.17,768.963 1279.2,768.963 1281.24,768.963 1283.28,766.172 1285.32,766.172 1287.35,763.38 1289.39,763.38 1291.43,760.589 1293.46,760.589 \n",
       "  1295.5,757.797 1297.54,757.797 1299.58,757.797 1301.61,755.006 1303.65,755.006 1305.69,752.214 1307.72,752.214 1309.76,749.423 1311.8,749.423 1313.84,749.423 \n",
       "  1315.87,746.631 1317.91,746.631 1319.95,743.839 1321.99,743.839 1324.02,741.048 1326.06,741.048 1328.1,738.256 1330.13,738.256 1332.17,738.256 1334.21,735.465 \n",
       "  1336.25,735.465 1338.28,732.673 1340.32,732.673 1342.36,729.882 1344.39,729.882 1346.43,727.09 1348.47,727.09 1350.51,727.09 1352.54,724.299 1354.58,724.299 \n",
       "  1356.62,721.507 1358.65,721.507 1360.69,718.715 1362.73,718.715 1364.77,718.715 1366.8,715.924 1368.84,715.924 1370.88,713.132 1372.92,713.132 1374.95,710.341 \n",
       "  1376.99,710.341 1379.03,707.549 1381.06,707.549 1383.1,707.549 1385.14,704.758 1387.18,704.758 1389.21,701.966 1391.25,701.966 1393.29,699.175 1395.32,699.175 \n",
       "  1397.36,699.175 1399.4,696.383 1401.44,696.383 1403.47,693.591 1405.51,693.591 1407.55,690.8 1409.59,690.8 1411.62,688.008 1413.66,688.008 1415.7,688.008 \n",
       "  1417.73,685.217 1419.77,685.217 1421.81,682.425 1423.85,682.425 1425.88,679.634 1427.92,679.634 1429.96,679.634 1431.99,676.842 1434.03,676.842 1436.07,674.051 \n",
       "  1438.11,674.051 1440.14,671.259 1442.18,671.259 1444.22,668.467 1446.26,668.467 1448.29,668.467 1450.33,665.676 1452.37,665.676 1454.4,662.884 1456.44,662.884 \n",
       "  1458.48,660.093 1460.52,660.093 1462.55,660.093 1464.59,657.301 1466.63,657.301 1468.66,654.51 1470.7,654.51 1472.74,651.718 1474.78,651.718 1476.81,648.927 \n",
       "  1478.85,648.927 1480.89,648.927 1482.93,646.135 1484.96,646.135 1487,643.343 1489.04,643.343 1491.07,640.552 1493.11,640.552 1495.15,640.552 1497.19,637.76 \n",
       "  1499.22,637.76 1501.26,634.969 1503.3,634.969 1505.33,632.177 1507.37,632.177 1509.41,629.386 1511.45,629.386 1513.48,629.386 1515.52,626.594 1517.56,626.594 \n",
       "  1519.6,623.803 1521.63,623.803 1523.67,621.011 1525.71,621.011 1527.74,618.219 1529.78,618.219 1531.82,618.219 1533.86,615.428 1535.89,615.428 1537.93,612.636 \n",
       "  1539.97,612.636 1542,609.845 1544.04,609.845 1546.08,609.845 1548.12,607.053 1550.15,607.053 1552.19,604.262 1554.23,604.262 1556.27,601.47 1558.3,601.47 \n",
       "  1560.34,598.679 1562.38,598.679 1564.41,598.679 1566.45,595.887 1568.49,595.887 1570.53,593.095 1572.56,593.095 1574.6,590.304 1576.64,590.304 1578.67,590.304 \n",
       "  1580.71,587.512 1582.75,587.512 1584.79,584.721 1586.82,584.721 1588.86,581.929 1590.9,581.929 1592.93,579.138 1594.97,579.138 1597.01,579.138 1599.05,576.346 \n",
       "  1601.08,576.346 1603.12,573.555 1605.16,573.555 1607.2,570.763 1609.23,570.763 1611.27,570.763 1613.31,567.971 1615.34,567.971 1617.38,565.18 1619.42,565.18 \n",
       "  1621.46,562.388 1623.49,562.388 1625.53,559.597 1627.57,559.597 1629.6,559.597 1631.64,556.805 1633.68,556.805 1635.72,554.014 1637.75,554.014 1639.79,551.222 \n",
       "  1641.83,551.222 1643.87,551.222 1645.9,548.431 1647.94,548.431 1649.98,545.639 1652.01,545.639 1654.05,542.847 1656.09,542.847 1658.13,540.056 1660.16,540.056 \n",
       "  1662.2,540.056 1664.24,537.264 1666.27,537.264 1668.31,534.473 1670.35,534.473 1672.39,531.681 1674.42,531.681 1676.46,528.89 1678.5,528.89 1680.54,528.89 \n",
       "  1682.57,526.098 1684.61,526.098 1686.65,523.307 1688.68,523.307 1690.72,520.515 1692.76,520.515 1694.8,520.515 1696.83,517.723 1698.87,517.723 1700.91,514.932 \n",
       "  1702.94,514.932 1704.98,512.14 1707.02,512.14 1709.06,509.349 1711.09,509.349 1713.13,509.349 1715.17,506.557 1717.21,506.557 1719.24,503.766 1721.28,503.766 \n",
       "  1723.32,500.974 1725.35,500.974 1727.39,500.974 1729.43,498.183 1731.47,498.183 1733.5,495.391 1735.54,495.391 1737.58,492.599 1739.61,492.599 1741.65,489.808 \n",
       "  1743.69,489.808 1745.73,489.808 1747.76,487.016 1749.8,487.016 1751.84,484.225 1753.88,484.225 1755.91,481.433 1757.95,481.433 1759.99,481.433 1762.02,478.642 \n",
       "  1764.06,478.642 1766.1,475.85 1768.14,475.85 1770.17,473.059 1772.21,473.059 1774.25,470.267 1776.28,470.267 1778.32,470.267 1780.36,467.475 1782.4,467.475 \n",
       "  1784.43,464.684 1786.47,464.684 1788.51,461.892 1790.55,461.892 1792.58,461.892 1794.62,459.101 1796.66,459.101 1798.69,456.309 1800.73,456.309 1802.77,453.518 \n",
       "  1804.81,453.518 1806.84,450.726 1808.88,450.726 1810.92,450.726 1812.95,447.935 1814.99,447.935 1817.03,445.143 1819.07,445.143 1821.1,442.351 1823.14,442.351 \n",
       "  1825.18,439.56 1827.21,439.56 1829.25,439.56 1831.29,436.768 1833.33,436.768 1835.36,433.977 1837.4,433.977 1839.44,431.185 1841.48,431.185 1843.51,431.185 \n",
       "  1845.55,428.394 1847.59,428.394 1849.62,425.602 1851.66,425.602 1853.7,422.811 1855.74,422.811 1857.77,420.019 1859.81,420.019 1861.85,420.019 1863.88,417.227 \n",
       "  1865.92,417.227 1867.96,414.436 1870,414.436 1872.03,411.644 1874.07,411.644 1876.11,411.644 1878.15,408.853 1880.18,408.853 1882.22,406.061 1884.26,406.061 \n",
       "  1886.29,403.27 1888.33,403.27 1890.37,400.478 1892.41,400.478 1894.44,400.478 1896.48,397.687 1898.52,397.687 1900.55,394.895 1902.59,394.895 1904.63,392.103 \n",
       "  1906.67,392.103 1908.7,392.103 1910.74,389.312 1912.78,389.312 1914.82,386.52 1916.85,386.52 1918.89,383.729 1920.93,383.729 1922.96,380.937 1925,380.937 \n",
       "  1927.04,380.937 1929.08,378.146 1931.11,378.146 1933.15,375.354 1935.19,375.354 1937.22,372.563 1939.26,372.563 1941.3,372.563 1943.34,369.771 1945.37,369.771 \n",
       "  1947.41,366.979 1949.45,366.979 1951.49,364.188 1953.52,364.188 1955.56,361.396 1957.6,361.396 1959.63,361.396 1961.67,358.605 1963.71,358.605 1965.75,355.813 \n",
       "  1967.78,355.813 1969.82,353.022 1971.86,353.022 1973.89,350.23 1975.93,350.23 1977.97,350.23 1980.01,347.439 1982.04,347.439 1984.08,344.647 1986.12,344.647 \n",
       "  1988.16,341.855 1990.19,341.855 1992.23,341.855 1994.27,339.064 1996.3,339.064 1998.34,336.272 2000.38,336.272 2002.42,333.481 2004.45,333.481 2006.49,330.689 \n",
       "  2008.53,330.689 2010.56,330.689 2012.6,327.898 2014.64,327.898 2016.68,325.106 2018.71,325.106 2020.75,322.315 2022.79,322.315 2024.83,322.315 2026.86,319.523 \n",
       "  2028.9,319.523 2030.94,316.731 2032.97,316.731 2035.01,313.94 2037.05,313.94 2039.09,311.148 2041.12,311.148 2043.16,311.148 2045.2,308.357 2047.23,308.357 \n",
       "  2049.27,305.565 2051.31,305.565 2053.35,302.774 2055.38,302.774 2057.42,302.774 2059.46,299.982 2061.49,299.982 2063.53,297.191 2065.57,297.191 2067.61,294.399 \n",
       "  2069.64,294.399 2071.68,291.607 2073.72,291.607 2075.76,291.607 2077.79,288.816 2079.83,288.816 2081.87,286.024 2083.9,286.024 2085.94,283.233 2087.98,283.233 \n",
       "  2090.02,283.233 2092.05,280.441 2094.09,280.441 2096.13,277.65 2098.16,277.65 2100.2,274.858 2102.24,274.858 2104.28,272.067 2106.31,272.067 2108.35,272.067 \n",
       "  2110.39,269.275 2112.43,269.275 2114.46,266.484 2116.5,266.484 2118.54,263.692 2120.57,263.692 2122.61,260.9 2124.65,260.9 2126.69,260.9 2128.72,258.109 \n",
       "  2130.76,258.109 2132.8,255.317 2134.83,255.317 2136.87,252.526 2138.91,252.526 2140.95,252.526 2142.98,249.734 2145.02,249.734 2147.06,246.943 2149.1,246.943 \n",
       "  2151.13,244.151 2153.17,244.151 2155.21,241.36 2157.24,241.36 2159.28,241.36 2161.32,238.568 2163.36,238.568 2165.39,235.776 2167.43,235.776 2169.47,232.985 \n",
       "  2171.5,232.985 2173.54,232.985 2175.58,230.193 2177.62,230.193 2179.65,227.402 2181.69,227.402 2183.73,224.61 2185.77,224.61 2187.8,221.819 2189.84,221.819 \n",
       "  2191.88,221.819 2193.91,219.027 2195.95,219.027 2197.99,216.236 2200.03,216.236 2202.06,213.444 2204.1,213.444 2206.14,213.444 2208.17,210.652 2210.21,210.652 \n",
       "  2212.25,207.861 2214.29,207.861 2216.32,205.069 2218.36,205.069 2220.4,202.278 2222.44,202.278 2224.47,202.278 2226.51,199.486 2228.55,199.486 2230.58,196.695 \n",
       "  2232.62,196.695 2234.66,193.903 2236.7,193.903 2238.73,193.903 2240.77,191.112 2242.81,191.112 2244.84,188.32 2246.88,188.32 2248.92,185.528 2250.96,185.528 \n",
       "  2252.99,182.737 2255.03,182.737 2257.07,182.737 2259.11,179.945 2261.14,179.945 2263.18,177.154 2265.22,177.154 2267.25,174.362 2269.29,174.362 2271.33,171.571 \n",
       "  2273.37,171.571 2275.4,171.571 2277.44,168.779 2279.48,168.779 2281.51,165.988 2283.55,165.988 2285.59,163.196 2287.63,163.196 2289.66,163.196 2291.7,160.404 \n",
       "  \n",
       "  \"/>\n",
       "<path clip-path=\"url(#clip590)\" d=\"\n",
       "M1950.85 287.93 L2280.85 287.93 L2280.85 166.97 L1950.85 166.97  Z\n",
       "  \" fill=\"#ffffff\" fill-rule=\"evenodd\" fill-opacity=\"1\"/>\n",
       "<polyline clip-path=\"url(#clip590)\" style=\"stroke:#000000; stroke-width:4; stroke-opacity:1; fill:none\" points=\"\n",
       "  1950.85,287.93 2280.85,287.93 2280.85,166.97 1950.85,166.97 1950.85,287.93 \n",
       "  \"/>\n",
       "<polyline clip-path=\"url(#clip590)\" style=\"stroke:#009af9; stroke-width:4; stroke-opacity:1; fill:none\" points=\"\n",
       "  1974.82,227.45 2118.64,227.45 \n",
       "  \"/>\n",
       "<path clip-path=\"url(#clip590)\" d=\"M 0 0 M2168.16 239.8 L2168.16 230.517 L2160.52 230.517 L2160.52 226.675 L2172.79 226.675 L2172.79 241.513 Q2170.08 243.434 2166.82 244.429 Q2163.55 245.401 2159.85 245.401 Q2151.75 245.401 2147.17 240.679 Q2142.61 235.934 2142.61 227.485 Q2142.61 219.013 2147.17 214.29 Q2151.75 209.545 2159.85 209.545 Q2163.23 209.545 2166.26 210.378 Q2169.32 211.212 2171.89 212.832 L2171.89 217.809 Q2169.3 215.61 2166.38 214.499 Q2163.46 213.388 2160.24 213.388 Q2153.9 213.388 2150.71 216.929 Q2147.54 220.471 2147.54 227.485 Q2147.54 234.476 2150.71 238.017 Q2153.9 241.559 2160.24 241.559 Q2162.72 241.559 2164.67 241.142 Q2166.61 240.702 2168.16 239.8 Z\" fill=\"#000000\" fill-rule=\"evenodd\" fill-opacity=\"1\" /><path clip-path=\"url(#clip590)\" d=\"M 0 0 M2187.49 208.758 Q2184.39 214.082 2182.88 219.29 Q2181.38 224.499 2181.38 229.846 Q2181.38 235.193 2182.88 240.448 Q2184.41 245.679 2187.49 250.98 L2183.79 250.98 Q2180.31 245.54 2178.58 240.286 Q2176.87 235.031 2176.87 229.846 Q2176.87 224.684 2178.58 219.452 Q2180.29 214.221 2183.79 208.758 L2187.49 208.758 Z\" fill=\"#000000\" fill-rule=\"evenodd\" fill-opacity=\"1\" /><path clip-path=\"url(#clip590)\" d=\"M 0 0 M2190.48 210.17 L2195.5 210.17 L2204.09 223.017 L2212.72 210.17 L2217.74 210.17 L2206.63 226.767 L2218.49 244.73 L2213.46 244.73 L2203.74 230.031 L2193.95 244.73 L2188.9 244.73 L2201.24 226.281 L2190.48 210.17 Z\" fill=\"#000000\" fill-rule=\"evenodd\" fill-opacity=\"1\" /><path clip-path=\"url(#clip590)\" d=\"M 0 0 M2222.28 208.758 L2225.99 208.758 Q2229.46 214.221 2231.17 219.452 Q2232.91 224.684 2232.91 229.846 Q2232.91 235.031 2231.17 240.286 Q2229.46 245.54 2225.99 250.98 L2222.28 250.98 Q2225.36 245.679 2226.86 240.448 Q2228.39 235.193 2228.39 229.846 Q2228.39 224.499 2226.86 219.29 Q2225.36 214.082 2222.28 208.758 Z\" fill=\"#000000\" fill-rule=\"evenodd\" fill-opacity=\"1\" /></svg>\n"
      ]
     },
     "execution_count": 55,
     "metadata": {},
     "output_type": "execute_result"
    }
   ],
   "source": [
    "plot(kgrid, k_pol[1,:], title = \"Law of Motion for Capital\", label = \"G(X)\", lw=3)\n",
    "xlabel!(L\"k_t\")\n",
    "ylabel!(L\"k_{t+1}\")"
   ]
  },
  {
   "cell_type": "code",
   "execution_count": 54,
   "metadata": {
    "ExecuteTime": {
     "end_time": "2021-05-12T09:59:52.810000-07:00",
     "start_time": "2021-05-12T16:59:51.991Z"
    }
   },
   "outputs": [
    {
     "data": {
      "image/svg+xml": [
       "<?xml version=\"1.0\" encoding=\"utf-8\"?>\n",
       "<svg xmlns=\"http://www.w3.org/2000/svg\" xmlns:xlink=\"http://www.w3.org/1999/xlink\" width=\"600\" height=\"400\" viewBox=\"0 0 2400 1600\">\n",
       "<defs>\n",
       "  <clipPath id=\"clip550\">\n",
       "    <rect x=\"0\" y=\"0\" width=\"2400\" height=\"1600\"/>\n",
       "  </clipPath>\n",
       "</defs>\n",
       "<path clip-path=\"url(#clip550)\" d=\"\n",
       "M0 1600 L2400 1600 L2400 0 L0 0  Z\n",
       "  \" fill=\"#ffffff\" fill-rule=\"evenodd\" fill-opacity=\"1\"/>\n",
       "<defs>\n",
       "  <clipPath id=\"clip551\">\n",
       "    <rect x=\"480\" y=\"0\" width=\"1681\" height=\"1600\"/>\n",
       "  </clipPath>\n",
       "</defs>\n",
       "<defs>\n",
       "  <clipPath id=\"clip552\">\n",
       "    <rect x=\"175\" y=\"123\" width=\"2178\" height=\"1301\"/>\n",
       "  </clipPath>\n",
       "</defs>\n",
       "<path clip-path=\"url(#clip550)\" d=\"\n",
       "M159.296 1428.41 L2352.76 1428.41 L2352.76 123.472 L159.296 123.472  Z\n",
       "  \" fill=\"#ffffff\" fill-rule=\"evenodd\" fill-opacity=\"1\"/>\n",
       "<defs>\n",
       "  <clipPath id=\"clip553\">\n",
       "    <rect x=\"159\" y=\"123\" width=\"2194\" height=\"1306\"/>\n",
       "  </clipPath>\n",
       "</defs>\n",
       "<polyline clip-path=\"url(#clip553)\" style=\"stroke:#000000; stroke-width:2; stroke-opacity:0.1; fill:none\" points=\"\n",
       "  587.378,1428.41 587.378,123.472 \n",
       "  \"/>\n",
       "<polyline clip-path=\"url(#clip553)\" style=\"stroke:#000000; stroke-width:2; stroke-opacity:0.1; fill:none\" points=\"\n",
       "  1104.7,1428.41 1104.7,123.472 \n",
       "  \"/>\n",
       "<polyline clip-path=\"url(#clip553)\" style=\"stroke:#000000; stroke-width:2; stroke-opacity:0.1; fill:none\" points=\"\n",
       "  1622.03,1428.41 1622.03,123.472 \n",
       "  \"/>\n",
       "<polyline clip-path=\"url(#clip553)\" style=\"stroke:#000000; stroke-width:2; stroke-opacity:0.1; fill:none\" points=\"\n",
       "  2139.35,1428.41 2139.35,123.472 \n",
       "  \"/>\n",
       "<polyline clip-path=\"url(#clip550)\" style=\"stroke:#000000; stroke-width:4; stroke-opacity:1; fill:none\" points=\"\n",
       "  159.296,1428.41 2352.76,1428.41 \n",
       "  \"/>\n",
       "<polyline clip-path=\"url(#clip550)\" style=\"stroke:#000000; stroke-width:4; stroke-opacity:1; fill:none\" points=\"\n",
       "  587.378,1428.41 587.378,1412.75 \n",
       "  \"/>\n",
       "<polyline clip-path=\"url(#clip550)\" style=\"stroke:#000000; stroke-width:4; stroke-opacity:1; fill:none\" points=\"\n",
       "  1104.7,1428.41 1104.7,1412.75 \n",
       "  \"/>\n",
       "<polyline clip-path=\"url(#clip550)\" style=\"stroke:#000000; stroke-width:4; stroke-opacity:1; fill:none\" points=\"\n",
       "  1622.03,1428.41 1622.03,1412.75 \n",
       "  \"/>\n",
       "<polyline clip-path=\"url(#clip550)\" style=\"stroke:#000000; stroke-width:4; stroke-opacity:1; fill:none\" points=\"\n",
       "  2139.35,1428.41 2139.35,1412.75 \n",
       "  \"/>\n",
       "<path clip-path=\"url(#clip550)\" d=\"M 0 0 M558.281 1454.52 L580.503 1454.52 L580.503 1456.52 L567.957 1489.08 L563.073 1489.08 L574.878 1458.46 L558.281 1458.46 L558.281 1454.52 Z\" fill=\"#000000\" fill-rule=\"evenodd\" fill-opacity=\"1\" /><path clip-path=\"url(#clip550)\" d=\"M 0 0 M585.573 1483.2 L590.457 1483.2 L590.457 1489.08 L585.573 1489.08 L585.573 1483.2 Z\" fill=\"#000000\" fill-rule=\"evenodd\" fill-opacity=\"1\" /><path clip-path=\"url(#clip550)\" d=\"M 0 0 M595.572 1454.52 L613.929 1454.52 L613.929 1458.46 L599.855 1458.46 L599.855 1466.93 Q600.873 1466.58 601.892 1466.42 Q602.91 1466.24 603.929 1466.24 Q609.716 1466.24 613.096 1469.41 Q616.475 1472.58 616.475 1478 Q616.475 1483.58 613.003 1486.68 Q609.531 1489.76 603.211 1489.76 Q601.035 1489.76 598.767 1489.39 Q596.522 1489.02 594.114 1488.27 L594.114 1483.58 Q596.197 1484.71 598.42 1485.27 Q600.642 1485.82 603.119 1485.82 Q607.123 1485.82 609.461 1483.71 Q611.799 1481.61 611.799 1478 Q611.799 1474.39 609.461 1472.28 Q607.123 1470.17 603.119 1470.17 Q601.244 1470.17 599.369 1470.59 Q597.517 1471.01 595.572 1471.89 L595.572 1454.52 Z\" fill=\"#000000\" fill-rule=\"evenodd\" fill-opacity=\"1\" /><path clip-path=\"url(#clip550)\" d=\"M 0 0 M1063.09 1485.15 L1070.73 1485.15 L1070.73 1458.78 L1062.42 1460.45 L1062.42 1456.19 L1070.69 1454.52 L1075.36 1454.52 L1075.36 1485.15 L1083 1485.15 L1083 1489.08 L1063.09 1489.08 L1063.09 1485.15 Z\" fill=\"#000000\" fill-rule=\"evenodd\" fill-opacity=\"1\" /><path clip-path=\"url(#clip550)\" d=\"M 0 0 M1098.07 1457.6 Q1094.46 1457.6 1092.63 1461.17 Q1090.83 1464.71 1090.83 1471.84 Q1090.83 1478.95 1092.63 1482.51 Q1094.46 1486.05 1098.07 1486.05 Q1101.71 1486.05 1103.51 1482.51 Q1105.34 1478.95 1105.34 1471.84 Q1105.34 1464.71 1103.51 1461.17 Q1101.71 1457.6 1098.07 1457.6 M1098.07 1453.9 Q1103.88 1453.9 1106.94 1458.51 Q1110.02 1463.09 1110.02 1471.84 Q1110.02 1480.57 1106.94 1485.17 Q1103.88 1489.76 1098.07 1489.76 Q1092.26 1489.76 1089.18 1485.17 Q1086.13 1480.57 1086.13 1471.84 Q1086.13 1463.09 1089.18 1458.51 Q1092.26 1453.9 1098.07 1453.9 Z\" fill=\"#000000\" fill-rule=\"evenodd\" fill-opacity=\"1\" /><path clip-path=\"url(#clip550)\" d=\"M 0 0 M1115.09 1483.2 L1119.97 1483.2 L1119.97 1489.08 L1115.09 1489.08 L1115.09 1483.2 Z\" fill=\"#000000\" fill-rule=\"evenodd\" fill-opacity=\"1\" /><path clip-path=\"url(#clip550)\" d=\"M 0 0 M1135.04 1457.6 Q1131.43 1457.6 1129.6 1461.17 Q1127.79 1464.71 1127.79 1471.84 Q1127.79 1478.95 1129.6 1482.51 Q1131.43 1486.05 1135.04 1486.05 Q1138.67 1486.05 1140.48 1482.51 Q1142.31 1478.95 1142.31 1471.84 Q1142.31 1464.71 1140.48 1461.17 Q1138.67 1457.6 1135.04 1457.6 M1135.04 1453.9 Q1140.85 1453.9 1143.9 1458.51 Q1146.98 1463.09 1146.98 1471.84 Q1146.98 1480.57 1143.9 1485.17 Q1140.85 1489.76 1135.04 1489.76 Q1129.23 1489.76 1126.15 1485.17 Q1123.09 1480.57 1123.09 1471.84 Q1123.09 1463.09 1126.15 1458.51 Q1129.23 1453.9 1135.04 1453.9 Z\" fill=\"#000000\" fill-rule=\"evenodd\" fill-opacity=\"1\" /><path clip-path=\"url(#clip550)\" d=\"M 0 0 M1581.72 1485.15 L1589.36 1485.15 L1589.36 1458.78 L1581.05 1460.45 L1581.05 1456.19 L1589.31 1454.52 L1593.99 1454.52 L1593.99 1485.15 L1601.62 1485.15 L1601.62 1489.08 L1581.72 1489.08 L1581.72 1485.15 Z\" fill=\"#000000\" fill-rule=\"evenodd\" fill-opacity=\"1\" /><path clip-path=\"url(#clip550)\" d=\"M 0 0 M1610.72 1485.15 L1627.04 1485.15 L1627.04 1489.08 L1605.1 1489.08 L1605.1 1485.15 Q1607.76 1482.39 1612.34 1477.77 Q1616.95 1473.11 1618.13 1471.77 Q1620.37 1469.25 1621.25 1467.51 Q1622.16 1465.75 1622.16 1464.06 Q1622.16 1461.31 1620.21 1459.57 Q1618.29 1457.83 1615.19 1457.83 Q1612.99 1457.83 1610.54 1458.6 Q1608.11 1459.36 1605.33 1460.91 L1605.33 1456.19 Q1608.15 1455.06 1610.61 1454.48 Q1613.06 1453.9 1615.1 1453.9 Q1620.47 1453.9 1623.66 1456.58 Q1626.86 1459.27 1626.86 1463.76 Q1626.86 1465.89 1626.05 1467.81 Q1625.26 1469.71 1623.15 1472.3 Q1622.57 1472.97 1619.47 1476.19 Q1616.37 1479.39 1610.72 1485.15 Z\" fill=\"#000000\" fill-rule=\"evenodd\" fill-opacity=\"1\" /><path clip-path=\"url(#clip550)\" d=\"M 0 0 M1632.11 1483.2 L1636.99 1483.2 L1636.99 1489.08 L1632.11 1489.08 L1632.11 1483.2 Z\" fill=\"#000000\" fill-rule=\"evenodd\" fill-opacity=\"1\" /><path clip-path=\"url(#clip550)\" d=\"M 0 0 M1642.11 1454.52 L1660.47 1454.52 L1660.47 1458.46 L1646.39 1458.46 L1646.39 1466.93 Q1647.41 1466.58 1648.43 1466.42 Q1649.45 1466.24 1650.47 1466.24 Q1656.25 1466.24 1659.63 1469.41 Q1663.01 1472.58 1663.01 1478 Q1663.01 1483.58 1659.54 1486.68 Q1656.07 1489.76 1649.75 1489.76 Q1647.57 1489.76 1645.3 1489.39 Q1643.06 1489.02 1640.65 1488.27 L1640.65 1483.58 Q1642.73 1484.71 1644.96 1485.27 Q1647.18 1485.82 1649.66 1485.82 Q1653.66 1485.82 1656 1483.71 Q1658.34 1481.61 1658.34 1478 Q1658.34 1474.39 1656 1472.28 Q1653.66 1470.17 1649.66 1470.17 Q1647.78 1470.17 1645.91 1470.59 Q1644.05 1471.01 1642.11 1471.89 L1642.11 1454.52 Z\" fill=\"#000000\" fill-rule=\"evenodd\" fill-opacity=\"1\" /><path clip-path=\"url(#clip550)\" d=\"M 0 0 M2098.24 1485.15 L2105.88 1485.15 L2105.88 1458.78 L2097.57 1460.45 L2097.57 1456.19 L2105.84 1454.52 L2110.51 1454.52 L2110.51 1485.15 L2118.15 1485.15 L2118.15 1489.08 L2098.24 1489.08 L2098.24 1485.15 Z\" fill=\"#000000\" fill-rule=\"evenodd\" fill-opacity=\"1\" /><path clip-path=\"url(#clip550)\" d=\"M 0 0 M2123.27 1454.52 L2141.62 1454.52 L2141.62 1458.46 L2127.55 1458.46 L2127.55 1466.93 Q2128.57 1466.58 2129.59 1466.42 Q2130.6 1466.24 2131.62 1466.24 Q2137.41 1466.24 2140.79 1469.41 Q2144.17 1472.58 2144.17 1478 Q2144.17 1483.58 2140.7 1486.68 Q2137.22 1489.76 2130.91 1489.76 Q2128.73 1489.76 2126.46 1489.39 Q2124.22 1489.02 2121.81 1488.27 L2121.81 1483.58 Q2123.89 1484.71 2126.11 1485.27 Q2128.34 1485.82 2130.81 1485.82 Q2134.82 1485.82 2137.16 1483.71 Q2139.49 1481.61 2139.49 1478 Q2139.49 1474.39 2137.16 1472.28 Q2134.82 1470.17 2130.81 1470.17 Q2128.94 1470.17 2127.06 1470.59 Q2125.21 1471.01 2123.27 1471.89 L2123.27 1454.52 Z\" fill=\"#000000\" fill-rule=\"evenodd\" fill-opacity=\"1\" /><path clip-path=\"url(#clip550)\" d=\"M 0 0 M2149.24 1483.2 L2154.12 1483.2 L2154.12 1489.08 L2149.24 1489.08 L2149.24 1483.2 Z\" fill=\"#000000\" fill-rule=\"evenodd\" fill-opacity=\"1\" /><path clip-path=\"url(#clip550)\" d=\"M 0 0 M2169.19 1457.6 Q2165.58 1457.6 2163.75 1461.17 Q2161.95 1464.71 2161.95 1471.84 Q2161.95 1478.95 2163.75 1482.51 Q2165.58 1486.05 2169.19 1486.05 Q2172.83 1486.05 2174.63 1482.51 Q2176.46 1478.95 2176.46 1471.84 Q2176.46 1464.71 2174.63 1461.17 Q2172.83 1457.6 2169.19 1457.6 M2169.19 1453.9 Q2175 1453.9 2178.06 1458.51 Q2181.14 1463.09 2181.14 1471.84 Q2181.14 1480.57 2178.06 1485.17 Q2175 1489.76 2169.19 1489.76 Q2163.38 1489.76 2160.3 1485.17 Q2157.25 1480.57 2157.25 1471.84 Q2157.25 1463.09 2160.3 1458.51 Q2163.38 1453.9 2169.19 1453.9 Z\" fill=\"#000000\" fill-rule=\"evenodd\" fill-opacity=\"1\" /><path clip-path=\"url(#clip550)\" d=\"M 0 0 M1257.02 1530.01 Q1257.02 1531.85 1255.9 1532.94 Q1254.8 1534.04 1253.42 1534.04 Q1252.19 1534.04 1251.55 1533.33 Q1250.91 1532.62 1250.91 1531.72 Q1250.91 1531.33 1251.07 1530.85 Q1251.23 1530.33 1251.58 1529.72 Q1251.97 1529.11 1252.77 1528.66 Q1253.58 1528.21 1254.67 1528.14 Q1254.45 1527.92 1254.38 1527.89 Q1253.9 1527.5 1253 1527.37 Q1252.87 1527.31 1252.42 1527.31 Q1250.2 1527.31 1247.94 1528.95 Q1245.72 1530.56 1242.98 1533.62 Q1239.54 1537.19 1237.31 1538.51 Q1247.07 1539.8 1247.07 1545.44 Q1247.07 1546.37 1246.82 1547.5 Q1246.3 1549.62 1246.3 1551.17 Q1246.3 1554.26 1248.39 1554.26 Q1250.42 1554.26 1251.71 1552.2 Q1253.03 1550.14 1254.13 1546.11 Q1254.29 1545.37 1254.45 1545.15 Q1254.61 1544.92 1255.06 1544.92 Q1255.86 1544.92 1255.86 1545.57 Q1255.12 1549.33 1253.48 1552.23 Q1251.39 1555.74 1248.26 1555.74 Q1245.66 1555.74 1243.92 1553.94 Q1242.21 1552.1 1242.21 1549.21 Q1242.21 1548.5 1242.47 1546.89 Q1242.66 1546.24 1242.66 1545.5 Q1242.66 1543.99 1241.82 1542.86 Q1240.99 1541.7 1239.63 1541.12 Q1238.28 1540.54 1237.15 1540.29 Q1236.06 1540 1235 1539.9 Q1231.77 1553.52 1231.32 1554.36 Q1231.03 1554.94 1230.39 1555.33 Q1229.75 1555.74 1229.07 1555.74 Q1228.43 1555.74 1227.78 1555.29 Q1227.17 1554.87 1227.17 1553.88 Q1227.17 1553.36 1227.43 1552.43 L1236.99 1514.42 L1237.19 1513.14 Q1237.19 1512.75 1237.02 1512.56 Q1236.9 1512.33 1236.12 1512.17 Q1235.38 1512.01 1233.9 1512.01 Q1233.29 1512.01 1233 1511.98 Q1232.74 1511.94 1232.52 1511.78 Q1232.29 1511.59 1232.29 1511.2 Q1232.29 1510.66 1232.52 1510.37 Q1232.77 1510.04 1232.97 1509.98 Q1233.16 1509.92 1233.55 1509.88 Q1234.09 1509.85 1235.93 1509.69 Q1237.77 1509.5 1239.34 1509.37 Q1240.92 1509.24 1241.6 1509.24 Q1241.98 1509.24 1242.18 1509.43 Q1242.4 1509.59 1242.44 1509.79 L1242.47 1509.95 L1235.61 1537.77 Q1238.44 1536.65 1242.92 1531.65 Q1248.1 1525.86 1252.55 1525.86 Q1254.64 1525.86 1255.83 1527.15 Q1257.02 1528.4 1257.02 1530.01 Z\" fill=\"#000000\" fill-rule=\"evenodd\" fill-opacity=\"1\" /><path clip-path=\"url(#clip550)\" d=\"M 0 0 M1277.97 1553.44 Q1277.97 1554.07 1277.67 1554.23 Q1277.38 1554.36 1276.57 1554.36 L1272.24 1554.36 L1268.81 1567.98 Q1268.54 1569.17 1268.54 1570.19 Q1268.54 1571.32 1268.88 1571.81 Q1269.24 1572.31 1269.99 1572.31 Q1271.45 1572.31 1273.03 1570.98 Q1274.63 1569.65 1275.98 1566.4 Q1276.16 1565.97 1276.25 1565.88 Q1276.37 1565.77 1276.66 1565.77 Q1277.22 1565.77 1277.22 1566.22 Q1277.22 1566.38 1276.91 1567.1 Q1276.62 1567.82 1275.96 1568.88 Q1275.33 1569.94 1274.5 1570.93 Q1273.68 1571.92 1272.44 1572.65 Q1271.2 1573.34 1269.87 1573.34 Q1268 1573.34 1266.81 1572.15 Q1265.64 1570.96 1265.64 1569.08 Q1265.64 1568.48 1266.11 1566.54 Q1266.58 1564.58 1269.15 1554.36 L1265.07 1554.36 Q1264.51 1554.36 1264.28 1554.34 Q1264.08 1554.32 1263.92 1554.2 Q1263.79 1554.07 1263.79 1553.8 Q1263.79 1553.37 1263.97 1553.19 Q1264.15 1552.99 1264.37 1552.96 Q1264.62 1552.92 1265.19 1552.92 L1269.51 1552.92 L1271.32 1545.59 Q1271.5 1544.87 1271.95 1544.47 Q1272.42 1544.04 1272.69 1543.99 Q1272.96 1543.92 1273.17 1543.92 Q1273.77 1543.92 1274.14 1544.26 Q1274.5 1544.58 1274.5 1545.16 Q1274.5 1545.48 1272.6 1552.92 L1276.66 1552.92 Q1277.18 1552.92 1277.38 1552.94 Q1277.61 1552.96 1277.79 1553.08 Q1277.97 1553.19 1277.97 1553.44 Z\" fill=\"#000000\" fill-rule=\"evenodd\" fill-opacity=\"1\" /><polyline clip-path=\"url(#clip553)\" style=\"stroke:#000000; stroke-width:2; stroke-opacity:0.1; fill:none\" points=\"\n",
       "  159.296,1238.38 2352.76,1238.38 \n",
       "  \"/>\n",
       "<polyline clip-path=\"url(#clip553)\" style=\"stroke:#000000; stroke-width:2; stroke-opacity:0.1; fill:none\" points=\"\n",
       "  159.296,970.066 2352.76,970.066 \n",
       "  \"/>\n",
       "<polyline clip-path=\"url(#clip553)\" style=\"stroke:#000000; stroke-width:2; stroke-opacity:0.1; fill:none\" points=\"\n",
       "  159.296,701.755 2352.76,701.755 \n",
       "  \"/>\n",
       "<polyline clip-path=\"url(#clip553)\" style=\"stroke:#000000; stroke-width:2; stroke-opacity:0.1; fill:none\" points=\"\n",
       "  159.296,433.443 2352.76,433.443 \n",
       "  \"/>\n",
       "<polyline clip-path=\"url(#clip553)\" style=\"stroke:#000000; stroke-width:2; stroke-opacity:0.1; fill:none\" points=\"\n",
       "  159.296,165.132 2352.76,165.132 \n",
       "  \"/>\n",
       "<polyline clip-path=\"url(#clip550)\" style=\"stroke:#000000; stroke-width:4; stroke-opacity:1; fill:none\" points=\"\n",
       "  159.296,1428.41 159.296,123.472 \n",
       "  \"/>\n",
       "<polyline clip-path=\"url(#clip550)\" style=\"stroke:#000000; stroke-width:4; stroke-opacity:1; fill:none\" points=\"\n",
       "  159.296,1238.38 185.617,1238.38 \n",
       "  \"/>\n",
       "<polyline clip-path=\"url(#clip550)\" style=\"stroke:#000000; stroke-width:4; stroke-opacity:1; fill:none\" points=\"\n",
       "  159.296,970.066 185.617,970.066 \n",
       "  \"/>\n",
       "<polyline clip-path=\"url(#clip550)\" style=\"stroke:#000000; stroke-width:4; stroke-opacity:1; fill:none\" points=\"\n",
       "  159.296,701.755 185.617,701.755 \n",
       "  \"/>\n",
       "<polyline clip-path=\"url(#clip550)\" style=\"stroke:#000000; stroke-width:4; stroke-opacity:1; fill:none\" points=\"\n",
       "  159.296,433.443 185.617,433.443 \n",
       "  \"/>\n",
       "<polyline clip-path=\"url(#clip550)\" style=\"stroke:#000000; stroke-width:4; stroke-opacity:1; fill:none\" points=\"\n",
       "  159.296,165.132 185.617,165.132 \n",
       "  \"/>\n",
       "<path clip-path=\"url(#clip550)\" d=\"M 0 0 M111.351 1224.18 Q107.74 1224.18 105.912 1227.74 Q104.106 1231.28 104.106 1238.41 Q104.106 1245.52 105.912 1249.08 Q107.74 1252.63 111.351 1252.63 Q114.986 1252.63 116.791 1249.08 Q118.62 1245.52 118.62 1238.41 Q118.62 1231.28 116.791 1227.74 Q114.986 1224.18 111.351 1224.18 M111.351 1220.47 Q117.162 1220.47 120.217 1225.08 Q123.296 1229.66 123.296 1238.41 Q123.296 1247.14 120.217 1251.75 Q117.162 1256.33 111.351 1256.33 Q105.541 1256.33 102.463 1251.75 Q99.4071 1247.14 99.4071 1238.41 Q99.4071 1229.66 102.463 1225.08 Q105.541 1220.47 111.351 1220.47 Z\" fill=\"#000000\" fill-rule=\"evenodd\" fill-opacity=\"1\" /><path clip-path=\"url(#clip550)\" d=\"M 0 0 M103.389 983.411 L111.027 983.411 L111.027 957.045 L102.717 958.712 L102.717 954.453 L110.981 952.786 L115.657 952.786 L115.657 983.411 L123.296 983.411 L123.296 987.346 L103.389 987.346 L103.389 983.411 Z\" fill=\"#000000\" fill-rule=\"evenodd\" fill-opacity=\"1\" /><path clip-path=\"url(#clip550)\" d=\"M 0 0 M106.976 715.099 L123.296 715.099 L123.296 719.035 L101.352 719.035 L101.352 715.099 Q104.014 712.345 108.597 707.715 Q113.203 703.062 114.384 701.72 Q116.629 699.197 117.509 697.461 Q118.412 695.701 118.412 694.012 Q118.412 691.257 116.467 689.521 Q114.546 687.785 111.444 687.785 Q109.245 687.785 106.791 688.549 Q104.361 689.313 101.583 690.863 L101.583 686.141 Q104.407 685.007 106.861 684.428 Q109.314 683.85 111.351 683.85 Q116.722 683.85 119.916 686.535 Q123.111 689.22 123.111 693.711 Q123.111 695.84 122.3 697.762 Q121.513 699.66 119.407 702.252 Q118.828 702.924 115.726 706.141 Q112.625 709.336 106.976 715.099 Z\" fill=\"#000000\" fill-rule=\"evenodd\" fill-opacity=\"1\" /><path clip-path=\"url(#clip550)\" d=\"M 0 0 M116.166 432.089 Q119.523 432.807 121.398 435.075 Q123.296 437.344 123.296 440.677 Q123.296 445.793 119.777 448.593 Q116.259 451.394 109.777 451.394 Q107.601 451.394 105.287 450.955 Q102.995 450.538 100.541 449.681 L100.541 445.168 Q102.486 446.302 104.801 446.881 Q107.115 447.459 109.638 447.459 Q114.037 447.459 116.328 445.723 Q118.643 443.987 118.643 440.677 Q118.643 437.621 116.49 435.908 Q114.361 434.172 110.541 434.172 L106.514 434.172 L106.514 430.33 L110.726 430.33 Q114.176 430.33 116.004 428.964 Q117.833 427.575 117.833 424.983 Q117.833 422.32 115.935 420.908 Q114.06 419.473 110.541 419.473 Q108.62 419.473 106.421 419.89 Q104.222 420.307 101.583 421.186 L101.583 417.02 Q104.245 416.279 106.56 415.908 Q108.898 415.538 110.958 415.538 Q116.282 415.538 119.384 417.969 Q122.486 420.376 122.486 424.496 Q122.486 427.367 120.842 429.357 Q119.199 431.325 116.166 432.089 Z\" fill=\"#000000\" fill-rule=\"evenodd\" fill-opacity=\"1\" /><path clip-path=\"url(#clip550)\" d=\"M 0 0 M113.713 151.926 L101.907 170.375 L113.713 170.375 L113.713 151.926 M112.486 147.852 L118.365 147.852 L118.365 170.375 L123.296 170.375 L123.296 174.264 L118.365 174.264 L118.365 182.412 L113.713 182.412 L113.713 174.264 L98.1108 174.264 L98.1108 169.75 L112.486 147.852 Z\" fill=\"#000000\" fill-rule=\"evenodd\" fill-opacity=\"1\" /><path clip-path=\"url(#clip550)\" d=\"M 0 0 M40.8464 777.318 Q41.1363 777.06 41.4261 777.06 Q41.716 777.06 42.5533 777.704 Q43.3907 778.316 44.5179 779.637 Q45.6451 780.957 46.7079 782.664 Q47.7707 784.371 48.4792 786.883 Q49.2199 789.395 49.2199 792.036 Q49.2199 796.964 45.9671 799.862 Q42.7143 802.728 38.0445 802.728 Q33.5035 802.728 29.1557 800.184 Q24.7757 797.64 22.0704 793.518 Q19.3329 789.395 19.3329 785.047 Q19.3329 781.601 20.9432 779.444 Q22.5535 777.286 25.0011 777.286 Q26.9013 777.286 28.0607 778.381 Q29.2201 779.476 29.2201 780.957 Q29.2201 781.988 28.6404 782.696 Q28.0285 783.405 26.9013 783.405 Q25.452 783.405 24.3248 782.213 Q23.8739 781.762 23.6807 781.247 Q23.4552 780.7 23.4552 780.378 Q23.423 780.056 23.423 779.315 Q22.167 779.991 21.4907 781.601 Q20.7821 783.179 20.7821 784.983 Q20.7821 787.656 22.6501 790.2 Q24.4858 792.745 27.3843 794.29 Q30.2185 795.836 34.2442 796.835 Q38.2377 797.833 40.5565 797.833 Q43.7449 797.833 45.7417 796.352 Q47.7385 794.87 47.7385 791.907 Q47.7385 791.328 47.7062 790.716 Q47.674 790.072 47.3198 788.461 Q46.9655 786.819 46.3536 785.369 Q45.7417 783.92 44.4213 782.084 Q43.0686 780.217 41.2329 778.735 Q40.5565 778.22 40.5565 777.866 Q40.5565 777.576 40.8464 777.318 Z\" fill=\"#000000\" fill-rule=\"evenodd\" fill-opacity=\"1\" /><path clip-path=\"url(#clip550)\" d=\"M 0 0 M46.9144 756.071 Q47.5456 756.071 47.7034 756.364 Q47.8387 756.657 47.8387 757.468 L47.8387 761.797 L61.4553 765.224 Q62.6502 765.494 63.6647 765.494 Q64.7919 765.494 65.2878 765.156 Q65.7838 764.795 65.7838 764.051 Q65.7838 762.586 64.4537 761.008 Q63.1236 759.407 59.8772 758.055 Q59.4489 757.874 59.3587 757.784 Q59.246 757.671 59.246 757.378 Q59.246 756.815 59.6969 756.815 Q59.8547 756.815 60.5761 757.13 Q61.2975 757.423 62.3571 758.077 Q63.4167 758.708 64.4086 759.542 Q65.4005 760.354 66.122 761.594 Q66.8208 762.834 66.8208 764.164 Q66.8208 766.035 65.626 767.23 Q64.4312 768.402 62.56 768.402 Q61.9513 768.402 60.0125 767.929 Q58.0512 767.455 47.8387 764.885 L47.8387 768.966 Q47.8387 769.53 47.8161 769.755 Q47.7936 769.958 47.6809 770.116 Q47.5456 770.251 47.2751 770.251 Q46.8468 770.251 46.6664 770.071 Q46.4635 769.89 46.441 769.665 Q46.3959 769.417 46.3959 768.853 L46.3959 764.525 L39.069 762.721 Q38.3476 762.541 37.9418 762.09 Q37.5135 761.617 37.4684 761.346 Q37.4008 761.075 37.4008 760.873 Q37.4008 760.264 37.7389 759.903 Q38.0546 759.542 38.6407 759.542 Q38.9563 759.542 46.3959 761.436 L46.3959 757.378 Q46.3959 756.86 46.4184 756.657 Q46.441 756.431 46.5537 756.251 Q46.6664 756.071 46.9144 756.071 Z\" fill=\"#000000\" fill-rule=\"evenodd\" fill-opacity=\"1\" /><path clip-path=\"url(#clip550)\" d=\"M 0 0 M671.197 18.8205 L671.197 41.5461 L681.486 41.5461 Q687.198 41.5461 690.317 38.5889 Q693.436 35.6318 693.436 30.163 Q693.436 24.7348 690.317 21.7777 Q687.198 18.8205 681.486 18.8205 L671.197 18.8205 M663.014 12.096 L681.486 12.096 Q691.654 12.096 696.839 16.714 Q702.065 21.2916 702.065 30.163 Q702.065 39.1155 696.839 43.6931 Q691.654 48.2706 681.486 48.2706 L671.197 48.2706 L671.197 72.576 L663.014 72.576 L663.014 12.096 Z\" fill=\"#000000\" fill-rule=\"evenodd\" fill-opacity=\"1\" /><path clip-path=\"url(#clip550)\" d=\"M 0 0 M724.507 32.4315 Q718.511 32.4315 715.028 37.1306 Q711.544 41.7891 711.544 49.9314 Q711.544 58.0738 714.987 62.7728 Q718.471 67.4314 724.507 67.4314 Q730.462 67.4314 733.945 62.7323 Q737.429 58.0333 737.429 49.9314 Q737.429 41.8701 733.945 37.1711 Q730.462 32.4315 724.507 32.4315 M724.507 26.1121 Q734.229 26.1121 739.779 32.4315 Q745.328 38.7509 745.328 49.9314 Q745.328 61.0714 739.779 67.4314 Q734.229 73.7508 724.507 73.7508 Q714.744 73.7508 709.194 67.4314 Q703.685 61.0714 703.685 49.9314 Q703.685 38.7509 709.194 32.4315 Q714.744 26.1121 724.507 26.1121 Z\" fill=\"#000000\" fill-rule=\"evenodd\" fill-opacity=\"1\" /><path clip-path=\"url(#clip550)\" d=\"M 0 0 M753.147 9.54393 L760.6 9.54393 L760.6 72.576 L753.147 72.576 L753.147 9.54393 Z\" fill=\"#000000\" fill-rule=\"evenodd\" fill-opacity=\"1\" /><path clip-path=\"url(#clip550)\" d=\"M 0 0 M768.419 27.2059 L775.872 27.2059 L775.872 72.576 L768.419 72.576 L768.419 27.2059 M768.419 9.54393 L775.872 9.54393 L775.872 18.9825 L768.419 18.9825 L768.419 9.54393 Z\" fill=\"#000000\" fill-rule=\"evenodd\" fill-opacity=\"1\" /><path clip-path=\"url(#clip550)\" d=\"M 0 0 M816.341 28.9478 L816.341 35.9153 Q813.181 34.1734 809.981 33.3227 Q806.821 32.4315 803.58 32.4315 Q796.329 32.4315 792.319 37.0496 Q788.308 41.6271 788.308 49.9314 Q788.308 58.2358 792.319 62.8538 Q796.329 67.4314 803.58 67.4314 Q806.821 67.4314 809.981 66.5807 Q813.181 65.6895 816.341 63.9476 L816.341 70.8341 Q813.222 72.2924 809.859 73.0216 Q806.538 73.7508 802.77 73.7508 Q792.521 73.7508 786.486 67.3098 Q780.45 60.8689 780.45 49.9314 Q780.45 38.832 786.526 32.472 Q792.643 26.1121 803.256 26.1121 Q806.7 26.1121 809.981 26.8413 Q813.262 27.5299 816.341 28.9478 Z\" fill=\"#000000\" fill-rule=\"evenodd\" fill-opacity=\"1\" /><path clip-path=\"url(#clip550)\" d=\"M 0 0 M843.036 76.7889 Q839.876 84.8907 836.879 87.3618 Q833.881 89.8329 828.858 89.8329 L822.903 89.8329 L822.903 83.5945 L827.278 83.5945 Q830.357 83.5945 832.058 82.1361 Q833.76 80.6778 835.826 75.2496 L837.162 71.8468 L818.812 27.2059 L826.711 27.2059 L840.889 62.6918 L855.067 27.2059 L862.967 27.2059 L843.036 76.7889 Z\" fill=\"#000000\" fill-rule=\"evenodd\" fill-opacity=\"1\" /><path clip-path=\"url(#clip550)\" d=\"M 0 0 M897.48 12.096 L932.237 12.096 L932.237 18.9825 L905.663 18.9825 L905.663 36.8065 L929.645 36.8065 L929.645 43.6931 L905.663 43.6931 L905.663 72.576 L897.48 72.576 L897.48 12.096 Z\" fill=\"#000000\" fill-rule=\"evenodd\" fill-opacity=\"1\" /><path clip-path=\"url(#clip550)\" d=\"M 0 0 M934.749 54.671 L934.749 27.2059 L942.202 27.2059 L942.202 54.3874 Q942.202 60.8284 944.714 64.0691 Q947.225 67.2693 952.249 67.2693 Q958.284 67.2693 961.768 63.421 Q965.292 59.5726 965.292 52.9291 L965.292 27.2059 L972.746 27.2059 L972.746 72.576 L965.292 72.576 L965.292 65.6084 Q962.578 69.7404 958.973 71.7658 Q955.408 73.7508 950.669 73.7508 Q942.85 73.7508 938.8 68.8897 Q934.749 64.0286 934.749 54.671 M953.504 26.1121 L953.504 26.1121 Z\" fill=\"#000000\" fill-rule=\"evenodd\" fill-opacity=\"1\" /><path clip-path=\"url(#clip550)\" d=\"M 0 0 M1018.28 45.1919 L1018.28 72.576 L1010.82 72.576 L1010.82 45.4349 Q1010.82 38.994 1008.31 35.7938 Q1005.8 32.5936 1000.78 32.5936 Q994.743 32.5936 991.259 36.4419 Q987.775 40.2903 987.775 46.9338 L987.775 72.576 L980.281 72.576 L980.281 27.2059 L987.775 27.2059 L987.775 34.2544 Q990.449 30.163 994.054 28.1376 Q997.7 26.1121 1002.44 26.1121 Q1010.26 26.1121 1014.27 30.9732 Q1018.28 35.7938 1018.28 45.1919 Z\" fill=\"#000000\" fill-rule=\"evenodd\" fill-opacity=\"1\" /><path clip-path=\"url(#clip550)\" d=\"M 0 0 M1058.75 28.9478 L1058.75 35.9153 Q1055.59 34.1734 1052.39 33.3227 Q1049.23 32.4315 1045.99 32.4315 Q1038.74 32.4315 1034.72 37.0496 Q1030.71 41.6271 1030.71 49.9314 Q1030.71 58.2358 1034.72 62.8538 Q1038.74 67.4314 1045.99 67.4314 Q1049.23 67.4314 1052.39 66.5807 Q1055.59 65.6895 1058.75 63.9476 L1058.75 70.8341 Q1055.63 72.2924 1052.27 73.0216 Q1048.94 73.7508 1045.18 73.7508 Q1034.93 73.7508 1028.89 67.3098 Q1022.86 60.8689 1022.86 49.9314 Q1022.86 38.832 1028.93 32.472 Q1035.05 26.1121 1045.66 26.1121 Q1049.11 26.1121 1052.39 26.8413 Q1055.67 27.5299 1058.75 28.9478 Z\" fill=\"#000000\" fill-rule=\"evenodd\" fill-opacity=\"1\" /><path clip-path=\"url(#clip550)\" d=\"M 0 0 M1073.94 14.324 L1073.94 27.2059 L1089.29 27.2059 L1089.29 32.9987 L1073.94 32.9987 L1073.94 57.6282 Q1073.94 63.1779 1075.44 64.7578 Q1076.98 66.3376 1081.63 66.3376 L1089.29 66.3376 L1089.29 72.576 L1081.63 72.576 Q1073.01 72.576 1069.72 69.3758 Q1066.44 66.1351 1066.44 57.6282 L1066.44 32.9987 L1060.97 32.9987 L1060.97 27.2059 L1066.44 27.2059 L1066.44 14.324 L1073.94 14.324 Z\" fill=\"#000000\" fill-rule=\"evenodd\" fill-opacity=\"1\" /><path clip-path=\"url(#clip550)\" d=\"M 0 0 M1097.11 27.2059 L1104.56 27.2059 L1104.56 72.576 L1097.11 72.576 L1097.11 27.2059 M1097.11 9.54393 L1104.56 9.54393 L1104.56 18.9825 L1097.11 18.9825 L1097.11 9.54393 Z\" fill=\"#000000\" fill-rule=\"evenodd\" fill-opacity=\"1\" /><path clip-path=\"url(#clip550)\" d=\"M 0 0 M1129.96 32.4315 Q1123.97 32.4315 1120.48 37.1306 Q1117 41.7891 1117 49.9314 Q1117 58.0738 1120.44 62.7728 Q1123.93 67.4314 1129.96 67.4314 Q1135.92 67.4314 1139.4 62.7323 Q1142.88 58.0333 1142.88 49.9314 Q1142.88 41.8701 1139.4 37.1711 Q1135.92 32.4315 1129.96 32.4315 M1129.96 26.1121 Q1139.68 26.1121 1145.23 32.4315 Q1150.78 38.7509 1150.78 49.9314 Q1150.78 61.0714 1145.23 67.4314 Q1139.68 73.7508 1129.96 73.7508 Q1120.2 73.7508 1114.65 67.4314 Q1109.14 61.0714 1109.14 49.9314 Q1109.14 38.7509 1114.65 32.4315 Q1120.2 26.1121 1129.96 26.1121 Z\" fill=\"#000000\" fill-rule=\"evenodd\" fill-opacity=\"1\" /><path clip-path=\"url(#clip550)\" d=\"M 0 0 M1196.32 45.1919 L1196.32 72.576 L1188.86 72.576 L1188.86 45.4349 Q1188.86 38.994 1186.35 35.7938 Q1183.84 32.5936 1178.82 32.5936 Q1172.78 32.5936 1169.3 36.4419 Q1165.81 40.2903 1165.81 46.9338 L1165.81 72.576 L1158.32 72.576 L1158.32 27.2059 L1165.81 27.2059 L1165.81 34.2544 Q1168.49 30.163 1172.09 28.1376 Q1175.74 26.1121 1180.48 26.1121 Q1188.29 26.1121 1192.31 30.9732 Q1196.32 35.7938 1196.32 45.1919 Z\" fill=\"#000000\" fill-rule=\"evenodd\" fill-opacity=\"1\" /><path clip-path=\"url(#clip550)\" d=\"M 0 0 M1253.47 9.54393 L1253.47 15.7418 L1246.34 15.7418 Q1242.33 15.7418 1240.75 17.3622 Q1239.21 18.9825 1239.21 23.1955 L1239.21 27.2059 L1251.49 27.2059 L1251.49 32.9987 L1239.21 32.9987 L1239.21 72.576 L1231.72 72.576 L1231.72 32.9987 L1224.59 32.9987 L1224.59 27.2059 L1231.72 27.2059 L1231.72 24.0462 Q1231.72 16.471 1235.24 13.0277 Q1238.77 9.54393 1246.43 9.54393 L1253.47 9.54393 Z\" fill=\"#000000\" fill-rule=\"evenodd\" fill-opacity=\"1\" /><path clip-path=\"url(#clip550)\" d=\"M 0 0 M1278.87 32.4315 Q1272.88 32.4315 1269.39 37.1306 Q1265.91 41.7891 1265.91 49.9314 Q1265.91 58.0738 1269.35 62.7728 Q1272.84 67.4314 1278.87 67.4314 Q1284.83 67.4314 1288.31 62.7323 Q1291.8 58.0333 1291.8 49.9314 Q1291.8 41.8701 1288.31 37.1711 Q1284.83 32.4315 1278.87 32.4315 M1278.87 26.1121 Q1288.6 26.1121 1294.14 32.4315 Q1299.69 38.7509 1299.69 49.9314 Q1299.69 61.0714 1294.14 67.4314 Q1288.6 73.7508 1278.87 73.7508 Q1269.11 73.7508 1263.56 67.4314 Q1258.05 61.0714 1258.05 49.9314 Q1258.05 38.7509 1263.56 32.4315 Q1269.11 26.1121 1278.87 26.1121 Z\" fill=\"#000000\" fill-rule=\"evenodd\" fill-opacity=\"1\" /><path clip-path=\"url(#clip550)\" d=\"M 0 0 M1333.8 34.1734 Q1332.55 33.4443 1331.05 33.1202 Q1329.59 32.7556 1327.81 32.7556 Q1321.49 32.7556 1318.09 36.8875 Q1314.72 40.9789 1314.72 48.6757 L1314.72 72.576 L1307.23 72.576 L1307.23 27.2059 L1314.72 27.2059 L1314.72 34.2544 Q1317.07 30.1225 1320.84 28.1376 Q1324.61 26.1121 1330 26.1121 Q1330.77 26.1121 1331.7 26.2337 Q1332.63 26.3147 1333.76 26.5172 L1333.8 34.1734 Z\" fill=\"#000000\" fill-rule=\"evenodd\" fill-opacity=\"1\" /><path clip-path=\"url(#clip550)\" d=\"M 0 0 M1413.61 16.7545 L1413.61 25.383 Q1409.47 21.5346 1404.78 19.6307 Q1400.12 17.7268 1394.85 17.7268 Q1384.48 17.7268 1378.97 24.0867 Q1373.46 30.4061 1373.46 42.3968 Q1373.46 54.3469 1378.97 60.7069 Q1384.48 67.0263 1394.85 67.0263 Q1400.12 67.0263 1404.78 65.1223 Q1409.47 63.2184 1413.61 59.3701 L1413.61 67.9175 Q1409.31 70.8341 1404.49 72.2924 Q1399.71 73.7508 1394.36 73.7508 Q1380.63 73.7508 1372.73 65.3654 Q1364.83 56.9395 1364.83 42.3968 Q1364.83 27.8135 1372.73 19.4281 Q1380.63 11.0023 1394.36 11.0023 Q1399.79 11.0023 1404.57 12.4606 Q1409.39 13.8784 1413.61 16.7545 Z\" fill=\"#000000\" fill-rule=\"evenodd\" fill-opacity=\"1\" /><path clip-path=\"url(#clip550)\" d=\"M 0 0 M1439.01 32.4315 Q1433.01 32.4315 1429.53 37.1306 Q1426.04 41.7891 1426.04 49.9314 Q1426.04 58.0738 1429.49 62.7728 Q1432.97 67.4314 1439.01 67.4314 Q1444.96 67.4314 1448.44 62.7323 Q1451.93 58.0333 1451.93 49.9314 Q1451.93 41.8701 1448.44 37.1711 Q1444.96 32.4315 1439.01 32.4315 M1439.01 26.1121 Q1448.73 26.1121 1454.28 32.4315 Q1459.83 38.7509 1459.83 49.9314 Q1459.83 61.0714 1454.28 67.4314 Q1448.73 73.7508 1439.01 73.7508 Q1429.24 73.7508 1423.69 67.4314 Q1418.18 61.0714 1418.18 49.9314 Q1418.18 38.7509 1423.69 32.4315 Q1429.24 26.1121 1439.01 26.1121 Z\" fill=\"#000000\" fill-rule=\"evenodd\" fill-opacity=\"1\" /><path clip-path=\"url(#clip550)\" d=\"M 0 0 M1505.36 45.1919 L1505.36 72.576 L1497.91 72.576 L1497.91 45.4349 Q1497.91 38.994 1495.39 35.7938 Q1492.88 32.5936 1487.86 32.5936 Q1481.82 32.5936 1478.34 36.4419 Q1474.86 40.2903 1474.86 46.9338 L1474.86 72.576 L1467.36 72.576 L1467.36 27.2059 L1474.86 27.2059 L1474.86 34.2544 Q1477.53 30.163 1481.13 28.1376 Q1484.78 26.1121 1489.52 26.1121 Q1497.34 26.1121 1501.35 30.9732 Q1505.36 35.7938 1505.36 45.1919 Z\" fill=\"#000000\" fill-rule=\"evenodd\" fill-opacity=\"1\" /><path clip-path=\"url(#clip550)\" d=\"M 0 0 M1542.1 28.5427 L1542.1 35.5912 Q1538.94 33.9709 1535.54 33.1607 Q1532.14 32.3505 1528.49 32.3505 Q1522.94 32.3505 1520.14 34.0519 Q1517.39 35.7533 1517.39 39.156 Q1517.39 41.7486 1519.38 43.2475 Q1521.36 44.7058 1527.36 46.0426 L1529.91 46.6097 Q1537.85 48.3111 1541.17 51.4303 Q1544.53 54.509 1544.53 60.0587 Q1544.53 66.3781 1539.51 70.0644 Q1534.53 73.7508 1525.78 73.7508 Q1522.13 73.7508 1518.16 73.0216 Q1514.23 72.3329 1509.86 70.9151 L1509.86 63.2184 Q1513.99 65.3654 1518 66.4591 Q1522.01 67.5124 1525.94 67.5124 Q1531.2 67.5124 1534.04 65.73 Q1536.88 63.9071 1536.88 60.6258 Q1536.88 57.5877 1534.81 55.9673 Q1532.78 54.3469 1525.86 52.8481 L1523.26 52.2405 Q1516.34 50.7821 1513.26 47.7845 Q1510.18 44.7463 1510.18 39.4801 Q1510.18 33.0797 1514.72 29.5959 Q1519.25 26.1121 1527.6 26.1121 Q1531.73 26.1121 1535.38 26.7198 Q1539.02 27.3274 1542.1 28.5427 Z\" fill=\"#000000\" fill-rule=\"evenodd\" fill-opacity=\"1\" /><path clip-path=\"url(#clip550)\" d=\"M 0 0 M1551.58 54.671 L1551.58 27.2059 L1559.03 27.2059 L1559.03 54.3874 Q1559.03 60.8284 1561.55 64.0691 Q1564.06 67.2693 1569.08 67.2693 Q1575.12 67.2693 1578.6 63.421 Q1582.12 59.5726 1582.12 52.9291 L1582.12 27.2059 L1589.58 27.2059 L1589.58 72.576 L1582.12 72.576 L1582.12 65.6084 Q1579.41 69.7404 1575.8 71.7658 Q1572.24 73.7508 1567.5 73.7508 Q1559.68 73.7508 1555.63 68.8897 Q1551.58 64.0286 1551.58 54.671 M1570.34 26.1121 L1570.34 26.1121 Z\" fill=\"#000000\" fill-rule=\"evenodd\" fill-opacity=\"1\" /><path clip-path=\"url(#clip550)\" d=\"M 0 0 M1632.72 35.9153 Q1635.51 30.8922 1639.4 28.5022 Q1643.29 26.1121 1648.56 26.1121 Q1655.65 26.1121 1659.5 31.0947 Q1663.34 36.0368 1663.34 45.1919 L1663.34 72.576 L1655.85 72.576 L1655.85 45.4349 Q1655.85 38.913 1653.54 35.7533 Q1651.23 32.5936 1646.49 32.5936 Q1640.7 32.5936 1637.34 36.4419 Q1633.98 40.2903 1633.98 46.9338 L1633.98 72.576 L1626.48 72.576 L1626.48 45.4349 Q1626.48 38.8725 1624.17 35.7533 Q1621.86 32.5936 1617.04 32.5936 Q1611.33 32.5936 1607.97 36.4824 Q1604.61 40.3308 1604.61 46.9338 L1604.61 72.576 L1597.11 72.576 L1597.11 27.2059 L1604.61 27.2059 L1604.61 34.2544 Q1607.16 30.082 1610.72 28.0971 Q1614.29 26.1121 1619.19 26.1121 Q1624.13 26.1121 1627.57 28.6237 Q1631.06 31.1352 1632.72 35.9153 Z\" fill=\"#000000\" fill-rule=\"evenodd\" fill-opacity=\"1\" /><path clip-path=\"url(#clip550)\" d=\"M 0 0 M1678.37 65.7705 L1678.37 89.8329 L1670.88 89.8329 L1670.88 27.2059 L1678.37 27.2059 L1678.37 34.0924 Q1680.72 30.0415 1684.29 28.0971 Q1687.89 26.1121 1692.88 26.1121 Q1701.14 26.1121 1706.28 32.6746 Q1711.47 39.2371 1711.47 49.9314 Q1711.47 60.6258 1706.28 67.1883 Q1701.14 73.7508 1692.88 73.7508 Q1687.89 73.7508 1684.29 71.8063 Q1680.72 69.8214 1678.37 65.7705 M1703.73 49.9314 Q1703.73 41.7081 1700.33 37.0496 Q1696.97 32.3505 1691.05 32.3505 Q1685.14 32.3505 1681.74 37.0496 Q1678.37 41.7081 1678.37 49.9314 Q1678.37 58.1548 1681.74 62.8538 Q1685.14 67.5124 1691.05 67.5124 Q1696.97 67.5124 1700.33 62.8538 Q1703.73 58.1548 1703.73 49.9314 Z\" fill=\"#000000\" fill-rule=\"evenodd\" fill-opacity=\"1\" /><path clip-path=\"url(#clip550)\" d=\"M 0 0 M1726.66 14.324 L1726.66 27.2059 L1742.01 27.2059 L1742.01 32.9987 L1726.66 32.9987 L1726.66 57.6282 Q1726.66 63.1779 1728.16 64.7578 Q1729.7 66.3376 1734.36 66.3376 L1742.01 66.3376 L1742.01 72.576 L1734.36 72.576 Q1725.73 72.576 1722.45 69.3758 Q1719.17 66.1351 1719.17 57.6282 L1719.17 32.9987 L1713.7 32.9987 L1713.7 27.2059 L1719.17 27.2059 L1719.17 14.324 L1726.66 14.324 Z\" fill=\"#000000\" fill-rule=\"evenodd\" fill-opacity=\"1\" /><path clip-path=\"url(#clip550)\" d=\"M 0 0 M1749.83 27.2059 L1757.28 27.2059 L1757.28 72.576 L1749.83 72.576 L1749.83 27.2059 M1749.83 9.54393 L1757.28 9.54393 L1757.28 18.9825 L1749.83 18.9825 L1749.83 9.54393 Z\" fill=\"#000000\" fill-rule=\"evenodd\" fill-opacity=\"1\" /><path clip-path=\"url(#clip550)\" d=\"M 0 0 M1782.68 32.4315 Q1776.69 32.4315 1773.2 37.1306 Q1769.72 41.7891 1769.72 49.9314 Q1769.72 58.0738 1773.16 62.7728 Q1776.65 67.4314 1782.68 67.4314 Q1788.64 67.4314 1792.12 62.7323 Q1795.61 58.0333 1795.61 49.9314 Q1795.61 41.8701 1792.12 37.1711 Q1788.64 32.4315 1782.68 32.4315 M1782.68 26.1121 Q1792.41 26.1121 1797.96 32.4315 Q1803.51 38.7509 1803.51 49.9314 Q1803.51 61.0714 1797.96 67.4314 Q1792.41 73.7508 1782.68 73.7508 Q1772.92 73.7508 1767.37 67.4314 Q1761.86 61.0714 1761.86 49.9314 Q1761.86 38.7509 1767.37 32.4315 Q1772.92 26.1121 1782.68 26.1121 Z\" fill=\"#000000\" fill-rule=\"evenodd\" fill-opacity=\"1\" /><path clip-path=\"url(#clip550)\" d=\"M 0 0 M1849.04 45.1919 L1849.04 72.576 L1841.58 72.576 L1841.58 45.4349 Q1841.58 38.994 1839.07 35.7938 Q1836.56 32.5936 1831.54 32.5936 Q1825.5 32.5936 1822.02 36.4419 Q1818.53 40.2903 1818.53 46.9338 L1818.53 72.576 L1811.04 72.576 L1811.04 27.2059 L1818.53 27.2059 L1818.53 34.2544 Q1821.21 30.163 1824.81 28.1376 Q1828.46 26.1121 1833.2 26.1121 Q1841.02 26.1121 1845.03 30.9732 Q1849.04 35.7938 1849.04 45.1919 Z\" fill=\"#000000\" fill-rule=\"evenodd\" fill-opacity=\"1\" /><polyline clip-path=\"url(#clip553)\" style=\"stroke:#009af9; stroke-width:12; stroke-opacity:1; fill:none\" points=\"\n",
       "  221.375,1391.48 223.446,1389.06 225.518,1386.64 227.589,1384.23 229.66,1381.81 231.732,1379.39 233.803,1376.97 235.875,1374.56 237.946,1372.14 240.017,1369.72 \n",
       "  242.089,1367.3 244.16,1364.88 246.231,1362.47 248.303,1360.05 250.374,1357.63 252.445,1355.21 254.517,1352.8 256.588,1350.38 258.66,1347.96 260.731,1345.54 \n",
       "  262.802,1343.12 264.874,1340.71 266.945,1338.29 269.016,1335.87 271.088,1333.45 273.159,1331.04 275.231,1328.62 277.302,1326.2 279.373,1323.78 281.445,1321.36 \n",
       "  283.516,1318.95 285.587,1316.53 287.659,1314.11 289.73,1311.69 291.802,1309.28 293.873,1306.86 295.944,1304.44 298.016,1302.02 300.087,1299.6 302.158,1297.19 \n",
       "  304.23,1294.77 306.301,1292.35 308.373,1289.93 310.444,1287.51 312.515,1285.1 314.587,1282.68 316.658,1280.26 318.729,1277.84 320.801,1275.43 322.872,1273.01 \n",
       "  324.944,1270.59 327.015,1268.17 329.086,1265.75 331.158,1263.34 333.229,1260.92 335.3,1258.5 337.372,1256.08 339.443,1253.67 341.515,1251.25 343.586,1248.83 \n",
       "  345.657,1246.41 347.729,1243.99 349.8,1241.58 351.871,1239.16 353.943,1236.74 356.014,1234.32 358.086,1231.91 360.157,1229.49 362.228,1227.07 364.3,1224.65 \n",
       "  366.371,1222.23 368.442,1219.82 370.514,1217.4 372.585,1214.98 374.657,1212.56 376.728,1210.15 378.799,1207.73 380.871,1205.31 382.942,1202.89 385.013,1200.47 \n",
       "  387.085,1198.06 389.156,1195.64 391.228,1193.22 393.299,1190.8 395.37,1188.39 397.442,1185.97 399.513,1183.55 401.584,1181.13 403.656,1178.71 405.727,1176.3 \n",
       "  407.798,1173.88 409.87,1171.46 411.941,1169.04 414.013,1166.63 416.084,1164.21 418.155,1161.79 420.227,1159.37 422.298,1156.96 424.369,1154.54 426.441,1152.12 \n",
       "  428.512,1149.7 430.584,1147.28 432.655,1144.87 434.726,1142.45 436.798,1140.03 438.869,1137.61 440.94,1135.2 443.012,1132.78 445.083,1130.36 447.155,1127.94 \n",
       "  449.226,1125.52 451.297,1123.11 453.369,1120.69 455.44,1118.27 457.511,1115.85 459.583,1113.44 461.654,1111.02 463.726,1108.6 465.797,1106.18 467.868,1103.76 \n",
       "  469.94,1101.35 472.011,1098.93 474.082,1096.51 476.154,1094.09 478.225,1091.68 480.297,1089.26 482.368,1086.84 484.439,1084.42 486.511,1082 488.582,1079.59 \n",
       "  490.653,1077.17 492.725,1074.75 494.796,1072.33 496.868,1069.92 498.939,1067.5 501.01,1236.97 503.082,1234.55 505.153,1232.14 507.224,1229.72 509.296,1229.99 \n",
       "  511.367,1227.57 513.439,1227.84 515.51,1225.42 517.581,1223 519.653,1223.27 521.724,1220.85 523.795,1221.12 525.867,1218.7 527.938,1216.28 530.01,1216.55 \n",
       "  532.081,1214.13 534.152,1214.4 536.224,1211.98 538.295,1212.25 540.366,1209.83 542.438,1207.42 544.509,1207.69 546.581,1205.27 548.652,1205.54 550.723,1203.12 \n",
       "  552.795,1203.39 554.866,1200.97 556.937,1198.55 559.009,1198.82 561.08,1196.4 563.151,1196.67 565.223,1194.25 567.294,1194.52 569.366,1192.1 571.437,1189.68 \n",
       "  573.508,1189.95 575.58,1187.53 577.651,1187.8 579.722,1185.38 581.794,1185.65 583.865,1183.23 585.937,1180.82 588.008,1181.08 590.079,1178.67 592.151,1178.94 \n",
       "  594.222,1176.52 596.293,1176.79 598.365,1174.37 600.436,1171.95 602.508,1172.22 604.579,1169.8 606.65,1170.07 608.722,1167.65 610.793,1167.92 612.864,1165.5 \n",
       "  614.936,1165.77 617.007,1163.35 619.079,1160.93 621.15,1161.2 623.221,1158.78 625.293,1159.05 627.364,1156.63 629.435,1156.9 631.507,1154.48 633.578,1152.07 \n",
       "  635.65,1152.34 637.721,1149.92 639.792,1150.19 641.864,1147.77 643.935,1148.04 646.006,1145.62 648.078,1143.2 650.149,1143.47 652.221,1141.05 654.292,1141.32 \n",
       "  656.363,1138.9 658.435,1139.17 660.506,1136.75 662.577,1137.02 664.649,1134.6 666.72,1132.18 668.792,1132.45 670.863,1130.03 672.934,1130.3 675.006,1127.88 \n",
       "  677.077,1128.15 679.148,1125.74 681.22,1123.32 683.291,1123.59 685.363,1121.17 687.434,1121.44 689.505,1119.02 691.577,1119.29 693.648,1116.87 695.719,1117.14 \n",
       "  697.791,1114.72 699.862,1112.3 701.934,1112.57 704.005,1110.15 706.076,1110.42 708.148,1108 710.219,1108.27 712.29,1105.85 714.362,1103.43 716.433,1103.7 \n",
       "  718.504,1101.28 720.576,1101.55 722.647,1099.14 724.719,1099.4 726.79,1096.99 728.861,1094.57 730.933,1094.84 733.004,1092.42 735.075,1092.69 737.147,1090.27 \n",
       "  739.218,1090.54 741.29,1088.12 743.361,1088.39 745.432,1085.97 747.504,1083.55 749.575,1083.82 751.646,1081.4 753.718,1081.67 755.789,1079.25 757.861,1079.52 \n",
       "  759.932,1077.1 762.003,1074.69 764.075,1074.95 766.146,1072.54 768.217,1072.8 770.289,1070.39 772.36,1070.65 774.432,1068.24 776.503,1068.5 778.574,1066.09 \n",
       "  780.646,1063.67 782.717,1063.94 784.788,1061.52 786.86,1061.79 788.931,1059.37 791.003,1059.64 793.074,1057.22 795.145,1054.8 797.217,1055.07 799.288,1052.65 \n",
       "  801.359,1052.92 803.431,1050.5 805.502,1050.77 807.574,1048.35 809.645,1048.62 811.716,1046.2 813.788,1043.79 815.859,1044.05 817.93,1041.64 820.002,1041.9 \n",
       "  822.073,1039.49 824.145,1039.76 826.216,1037.34 828.287,1034.92 830.359,1035.19 832.43,1032.77 834.501,1033.04 836.573,1030.62 838.644,1030.89 840.716,1028.47 \n",
       "  842.787,1028.74 844.858,1026.32 846.93,1023.9 849.001,1024.17 851.072,1021.75 853.144,1022.02 855.215,1019.6 857.287,1019.87 859.358,1017.46 861.429,1015.04 \n",
       "  863.501,1015.31 865.572,1012.89 867.643,1013.16 869.715,1010.74 871.786,1011.01 873.857,1008.59 875.929,1008.86 878,1006.44 880.072,1004.02 882.143,1004.29 \n",
       "  884.214,1001.87 886.286,1002.14 888.357,999.722 890.428,999.99 892.5,997.573 894.571,995.155 896.643,995.423 898.714,993.005 900.785,993.273 902.857,990.856 \n",
       "  904.928,991.124 906.999,988.706 909.071,988.974 911.142,986.557 913.214,984.139 915.285,984.407 917.356,981.989 919.428,982.257 921.499,979.84 923.57,980.108 \n",
       "  925.642,977.69 927.713,977.958 929.785,975.541 931.856,973.123 933.927,973.391 935.999,970.973 938.07,971.241 940.141,968.824 942.213,969.092 944.284,966.674 \n",
       "  946.356,964.257 948.427,964.525 950.498,962.107 952.57,962.375 954.641,959.957 956.712,960.226 958.784,957.808 960.855,958.076 962.927,955.658 964.998,953.241 \n",
       "  967.069,953.509 969.141,951.091 971.212,951.359 973.283,948.941 975.355,949.21 977.426,946.792 979.498,944.374 981.569,944.642 983.64,942.225 985.712,942.493 \n",
       "  987.783,940.075 989.854,940.343 991.926,937.926 993.997,938.194 996.069,935.776 998.14,933.358 1000.21,933.626 1002.28,931.209 1004.35,931.477 1006.43,929.059 \n",
       "  1008.5,929.327 1010.57,926.91 1012.64,924.492 1014.71,924.76 1016.78,922.342 1018.85,922.611 1020.92,920.193 1023,920.461 1025.07,918.043 1027.14,918.311 \n",
       "  1029.21,915.894 1031.28,913.476 1033.35,913.744 1035.42,911.327 1037.5,911.595 1039.57,909.177 1041.64,909.445 1043.71,907.027 1045.78,904.61 1047.85,904.878 \n",
       "  1049.92,902.46 1052,902.728 1054.07,900.311 1056.14,900.579 1058.21,898.161 1060.28,898.429 1062.35,896.012 1064.42,893.594 1066.5,893.862 1068.57,891.444 \n",
       "  1070.64,891.713 1072.71,889.295 1074.78,889.563 1076.85,887.145 1078.92,884.728 1080.99,884.996 1083.07,882.578 1085.14,882.846 1087.21,880.429 1089.28,880.697 \n",
       "  1091.35,878.279 1093.42,878.547 1095.49,876.13 1097.57,873.712 1099.64,873.98 1101.71,871.562 1103.78,871.83 1105.85,869.413 1107.92,869.681 1109.99,867.263 \n",
       "  1112.07,864.846 1114.14,865.114 1116.21,862.696 1118.28,862.964 1120.35,860.547 1122.42,860.815 1124.49,858.397 1126.57,858.665 1128.64,856.247 1130.71,853.83 \n",
       "  1132.78,854.098 1134.85,851.68 1136.92,851.948 1138.99,849.531 1141.06,849.799 1143.14,847.381 1145.21,847.649 1147.28,845.232 1149.35,842.814 1151.42,843.082 \n",
       "  1153.49,840.665 1155.56,840.933 1157.64,838.515 1159.71,838.783 1161.78,836.366 1163.85,833.948 1165.92,834.216 1167.99,831.798 1170.06,832.066 1172.14,829.649 \n",
       "  1174.21,829.917 1176.28,827.499 1178.35,827.767 1180.42,825.35 1182.49,822.932 1184.56,823.2 1186.63,820.783 1188.71,821.051 1190.78,818.633 1192.85,818.901 \n",
       "  1194.92,816.484 1196.99,814.066 1199.06,814.334 1201.13,811.916 1203.21,812.185 1205.28,809.767 1207.35,810.035 1209.42,807.617 1211.49,807.886 1213.56,805.468 \n",
       "  1215.63,803.05 1217.71,803.318 1219.78,800.901 1221.85,801.169 1223.92,798.751 1225.99,799.019 1228.06,796.602 1230.13,794.184 1232.21,794.452 1234.28,792.035 \n",
       "  1236.35,792.303 1238.42,789.885 1240.49,790.153 1242.56,787.736 1244.63,788.004 1246.7,785.586 1248.78,783.168 1250.85,783.437 1252.92,781.019 1254.99,781.287 \n",
       "  1257.06,778.869 1259.13,779.138 1261.2,776.72 1263.28,774.302 1265.35,774.57 1267.42,772.153 1269.49,772.421 1271.56,770.003 1273.63,770.271 1275.7,767.854 \n",
       "  1277.78,768.122 1279.85,765.704 1281.92,763.287 1283.99,763.555 1286.06,761.137 1288.13,761.405 1290.2,758.988 1292.27,759.256 1294.35,756.838 1296.42,754.42 \n",
       "  1298.49,754.689 1300.56,752.271 1302.63,752.539 1304.7,750.121 1306.77,750.39 1308.85,747.972 1310.92,748.24 1312.99,745.823 1315.06,743.405 1317.13,743.673 \n",
       "  1319.2,741.255 1321.27,741.524 1323.35,739.106 1325.42,739.374 1327.49,736.956 1329.56,737.225 1331.63,734.807 1333.7,732.389 1335.77,732.657 1337.85,730.24 \n",
       "  1339.92,730.508 1341.99,728.09 1344.06,728.358 1346.13,725.941 1348.2,723.523 1350.27,723.791 1352.34,721.374 1354.42,721.642 1356.49,719.224 1358.56,719.492 \n",
       "  1360.63,717.075 1362.7,717.343 1364.77,714.925 1366.84,712.508 1368.92,712.776 1370.99,710.358 1373.06,710.626 1375.13,708.209 1377.2,708.477 1379.27,706.059 \n",
       "  1381.34,703.642 1383.42,703.91 1385.49,701.492 1387.56,701.76 1389.63,699.343 1391.7,699.611 1393.77,697.193 1395.84,697.461 1397.91,695.044 1399.99,692.626 \n",
       "  1402.06,692.894 1404.13,690.477 1406.2,690.745 1408.27,688.327 1410.34,688.595 1412.41,686.178 1414.49,683.76 1416.56,684.028 1418.63,681.61 1420.7,681.879 \n",
       "  1422.77,679.461 1424.84,679.729 1426.91,677.312 1428.99,677.58 1431.06,675.162 1433.13,672.744 1435.2,673.013 1437.27,670.595 1439.34,670.863 1441.41,668.445 \n",
       "  1443.49,668.714 1445.56,666.296 1447.63,663.878 1449.7,664.147 1451.77,661.729 1453.84,661.997 1455.91,659.579 1457.98,659.848 1460.06,657.43 1462.13,657.698 \n",
       "  1464.2,655.281 1466.27,652.863 1468.34,653.131 1470.41,650.713 1472.48,650.982 1474.56,648.564 1476.63,648.832 1478.7,646.415 1480.77,643.997 1482.84,644.265 \n",
       "  1484.91,641.847 1486.98,642.116 1489.06,639.698 1491.13,639.966 1493.2,637.549 1495.27,637.817 1497.34,635.399 1499.41,632.981 1501.48,633.25 1503.55,630.832 \n",
       "  1505.63,631.1 1507.7,628.683 1509.77,628.951 1511.84,626.533 1513.91,626.801 1515.98,624.384 1518.05,621.966 1520.13,622.234 1522.2,619.817 1524.27,620.085 \n",
       "  1526.34,617.667 1528.41,617.935 1530.48,615.518 1532.55,613.1 1534.63,613.368 1536.7,610.951 1538.77,611.219 1540.84,608.801 1542.91,609.069 1544.98,606.652 \n",
       "  1547.05,606.92 1549.13,604.502 1551.2,602.085 1553.27,602.353 1555.34,599.935 1557.41,600.203 1559.48,597.786 1561.55,598.054 1563.62,595.636 1565.7,593.219 \n",
       "  1567.77,593.487 1569.84,591.069 1571.91,591.337 1573.98,588.92 1576.05,589.188 1578.12,586.77 1580.2,587.038 1582.27,584.621 1584.34,582.203 1586.41,582.471 \n",
       "  1588.48,580.054 1590.55,580.322 1592.62,577.904 1594.7,578.173 1596.77,575.755 1598.84,573.337 1600.91,573.605 1602.98,571.188 1605.05,571.456 1607.12,569.038 \n",
       "  1609.2,569.307 1611.27,566.889 1613.34,567.157 1615.41,564.74 1617.48,562.322 1619.55,562.59 1621.62,560.172 1623.69,560.441 1625.77,558.023 1627.84,558.291 \n",
       "  1629.91,555.874 1631.98,553.456 1634.05,553.724 1636.12,551.307 1638.19,551.575 1640.27,549.157 1642.34,549.425 1644.41,547.008 1646.48,547.276 1648.55,544.858 \n",
       "  1650.62,542.441 1652.69,542.709 1654.77,540.291 1656.84,540.559 1658.91,538.142 1660.98,538.41 1663.05,535.992 1665.12,536.26 1667.19,533.843 1669.26,531.425 \n",
       "  1671.34,531.693 1673.41,529.276 1675.48,529.544 1677.55,527.126 1679.62,527.395 1681.69,524.977 1683.76,522.559 1685.84,522.828 1687.91,520.41 1689.98,520.678 \n",
       "  1692.05,518.261 1694.12,518.529 1696.19,516.111 1698.26,516.379 1700.34,513.962 1702.41,511.544 1704.48,511.812 1706.55,509.395 1708.62,509.663 1710.69,507.245 \n",
       "  1712.76,507.513 1714.84,505.096 1716.91,502.678 1718.98,502.946 1721.05,500.529 1723.12,500.797 1725.19,498.379 1727.26,498.647 1729.33,496.23 1731.41,496.498 \n",
       "  1733.48,494.08 1735.55,491.663 1737.62,491.931 1739.69,489.513 1741.76,489.782 1743.83,487.364 1745.91,487.632 1747.98,485.215 1750.05,482.797 1752.12,483.065 \n",
       "  1754.19,480.648 1756.26,480.916 1758.33,478.498 1760.41,478.766 1762.48,476.349 1764.55,476.617 1766.62,474.199 1768.69,471.782 1770.76,472.05 1772.83,469.632 \n",
       "  1774.9,469.9 1776.98,467.483 1779.05,467.751 1781.12,465.333 1783.19,462.916 1785.26,463.184 1787.33,460.766 1789.4,461.035 1791.48,458.617 1793.55,458.885 \n",
       "  1795.62,456.468 1797.69,456.736 1799.76,454.318 1801.83,451.901 1803.9,452.169 1805.98,449.751 1808.05,450.019 1810.12,447.602 1812.19,447.87 1814.26,445.452 \n",
       "  1816.33,445.721 1818.4,443.303 1820.48,440.885 1822.55,441.154 1824.62,438.736 1826.69,439.004 1828.76,436.587 1830.83,436.855 1832.9,434.437 1834.97,432.02 \n",
       "  1837.05,432.288 1839.12,429.87 1841.19,430.138 1843.26,427.721 1845.33,427.989 1847.4,425.571 1849.47,425.84 1851.55,423.422 1853.62,421.004 1855.69,421.273 \n",
       "  1857.76,418.855 1859.83,419.123 1861.9,416.706 1863.97,416.974 1866.05,414.556 1868.12,412.139 1870.19,412.407 1872.26,409.989 1874.33,410.257 1876.4,407.84 \n",
       "  1878.47,408.108 1880.54,405.69 1882.62,405.959 1884.69,403.541 1886.76,401.123 1888.83,401.392 1890.9,398.974 1892.97,399.242 1895.04,396.825 1897.12,397.093 \n",
       "  1899.19,394.675 1901.26,392.258 1903.33,392.526 1905.4,390.108 1907.47,390.376 1909.54,387.959 1911.62,388.227 1913.69,385.809 1915.76,386.078 1917.83,383.66 \n",
       "  1919.9,381.242 1921.97,381.511 1924.04,379.093 1926.12,379.361 1928.19,376.944 1930.26,377.212 1932.33,374.794 1934.4,372.377 1936.47,372.645 1938.54,370.227 \n",
       "  1940.61,370.495 1942.69,368.078 1944.76,368.346 1946.83,365.928 1948.9,366.197 1950.97,363.779 1953.04,361.361 1955.11,361.63 1957.19,359.212 1959.26,359.48 \n",
       "  1961.33,357.063 1963.4,357.331 1965.47,354.913 1967.54,355.181 1969.61,352.764 1971.69,350.346 1973.76,350.614 1975.83,348.197 1977.9,348.465 1979.97,346.047 \n",
       "  1982.04,346.316 1984.11,343.898 1986.18,341.48 1988.26,341.749 1990.33,339.331 1992.4,339.599 1994.47,337.182 1996.54,337.45 1998.61,335.032 2000.68,335.301 \n",
       "  2002.76,332.883 2004.83,330.465 2006.9,330.734 2008.97,328.316 2011.04,328.584 2013.11,326.167 2015.18,326.435 2017.26,324.017 2019.33,321.6 2021.4,321.868 \n",
       "  2023.47,319.45 2025.54,319.718 2027.61,317.301 2029.68,317.569 2031.76,315.151 2033.83,315.42 2035.9,313.002 2037.97,310.584 2040.04,310.853 2042.11,308.435 \n",
       "  2044.18,308.703 2046.25,306.286 2048.33,306.554 2050.4,304.136 2052.47,301.719 2054.54,301.987 2056.61,299.569 2058.68,299.838 2060.75,297.42 2062.83,297.688 \n",
       "  2064.9,295.271 2066.97,295.539 2069.04,293.121 2071.11,290.704 2073.18,290.972 2075.25,288.554 2077.33,288.823 2079.4,286.405 2081.47,286.673 2083.54,284.256 \n",
       "  2085.61,281.838 2087.68,282.106 2089.75,279.689 2091.83,279.957 2093.9,277.539 2095.97,277.807 2098.04,275.39 2100.11,275.658 2102.18,273.24 2104.25,270.823 \n",
       "  2106.32,271.091 2108.4,268.674 2110.47,268.942 2112.54,266.524 2114.61,266.792 2116.68,264.375 2118.75,264.643 2120.82,262.225 2122.9,259.808 2124.97,260.076 \n",
       "  2127.04,257.658 2129.11,257.927 2131.18,255.509 2133.25,255.777 2135.32,253.36 2137.4,250.942 2139.47,251.21 2141.54,248.793 2143.61,249.061 2145.68,246.643 \n",
       "  2147.75,246.912 2149.82,244.494 2151.89,244.762 2153.97,242.345 2156.04,239.927 2158.11,240.195 2160.18,237.778 2162.25,238.046 2164.32,235.628 2166.39,235.897 \n",
       "  2168.47,233.479 2170.54,231.061 2172.61,231.33 2174.68,228.912 2176.75,229.18 2178.82,226.763 2180.89,227.031 2182.97,224.613 2185.04,224.882 2187.11,222.464 \n",
       "  2189.18,220.046 2191.25,220.315 2193.32,217.897 2195.39,218.165 2197.47,215.748 2199.54,216.016 2201.61,213.598 2203.68,211.181 2205.75,211.449 2207.82,209.031 \n",
       "  2209.89,209.3 2211.96,206.882 2214.04,207.15 2216.11,204.733 2218.18,205.001 2220.25,202.583 2222.32,200.166 2224.39,200.434 2226.46,198.016 2228.54,198.285 \n",
       "  2230.61,195.867 2232.68,196.135 2234.75,193.718 2236.82,191.3 2238.89,191.568 2240.96,189.151 2243.04,189.419 2245.11,187.001 2247.18,187.27 2249.25,184.852 \n",
       "  2251.32,185.12 2253.39,182.703 2255.46,180.285 2257.53,180.553 2259.61,178.136 2261.68,178.404 2263.75,175.986 2265.82,176.255 2267.89,173.837 2269.96,174.105 \n",
       "  2272.03,171.688 2274.11,169.27 2276.18,169.538 2278.25,167.121 2280.32,167.389 2282.39,164.971 2284.46,165.24 2286.53,162.822 2288.61,160.404 2290.68,160.673 \n",
       "  \n",
       "  \"/>\n",
       "<path clip-path=\"url(#clip550)\" d=\"\n",
       "M1911.49 287.93 L2279.64 287.93 L2279.64 166.97 L1911.49 166.97  Z\n",
       "  \" fill=\"#ffffff\" fill-rule=\"evenodd\" fill-opacity=\"1\"/>\n",
       "<polyline clip-path=\"url(#clip550)\" style=\"stroke:#000000; stroke-width:4; stroke-opacity:1; fill:none\" points=\"\n",
       "  1911.49,287.93 2279.64,287.93 2279.64,166.97 1911.49,166.97 1911.49,287.93 \n",
       "  \"/>\n",
       "<polyline clip-path=\"url(#clip550)\" style=\"stroke:#009af9; stroke-width:4; stroke-opacity:1; fill:none\" points=\"\n",
       "  1935.86,227.45 2082.09,227.45 \n",
       "  \"/>\n",
       "<path clip-path=\"url(#clip550)\" d=\"M 0 0 M2131.83 219.916 Q2131.83 221.555 2129.49 221.555 L2124.22 221.555 Q2125.69 223.663 2125.69 226.779 Q2125.69 229.449 2124.59 231.955 Q2123.52 234.438 2121.78 236.171 Q2120.07 237.904 2117.92 238.958 Q2115.76 239.989 2113.66 239.989 Q2110.45 239.989 2108.46 237.811 Q2106.46 235.632 2106.46 232.4 Q2106.46 230.69 2107.05 228.793 Q2107.66 226.896 2108.81 225.139 Q2109.95 223.359 2111.45 221.93 Q2112.98 220.501 2114.94 219.635 Q2116.93 218.768 2119.02 218.768 L2129.96 218.768 Q2130.54 218.768 2130.85 218.815 Q2131.18 218.838 2131.5 219.119 Q2131.83 219.377 2131.83 219.916 M2122.63 226.216 Q2122.63 225.654 2122.56 225.162 Q2122.49 224.647 2122.23 223.968 Q2121.97 223.265 2121.53 222.773 Q2121.08 222.258 2120.21 221.907 Q2119.37 221.555 2118.22 221.555 Q2116.61 221.555 2114.83 222.445 Q2113.05 223.335 2111.69 225.537 Q2110.56 227.411 2110 229.847 Q2109.44 232.283 2109.44 233.735 Q2109.44 236.218 2110.63 237.576 Q2111.85 238.911 2113.7 238.911 Q2115.22 238.911 2116.96 237.881 Q2118.69 236.827 2120.03 234.836 Q2121.2 233.103 2121.9 230.573 Q2122.63 228.043 2122.63 226.216 Z\" fill=\"#000000\" fill-rule=\"evenodd\" fill-opacity=\"1\" /><path clip-path=\"url(#clip550)\" d=\"M 0 0 M2149.63 218.934 Q2149.76 219.082 2149.76 219.229 Q2149.76 219.377 2149.43 219.803 Q2149.12 220.23 2148.45 220.803 Q2147.78 221.377 2146.91 221.918 Q2146.04 222.459 2144.76 222.82 Q2143.48 223.197 2142.14 223.197 Q2139.63 223.197 2138.15 221.541 Q2136.69 219.885 2136.69 217.508 Q2136.69 215.196 2137.99 212.983 Q2139.28 210.753 2141.38 209.376 Q2143.48 207.982 2145.7 207.982 Q2147.45 207.982 2148.55 208.802 Q2149.65 209.622 2149.65 210.868 Q2149.65 211.835 2149.09 212.425 Q2148.53 213.016 2147.78 213.016 Q2147.25 213.016 2146.89 212.72 Q2146.53 212.409 2146.53 211.835 Q2146.53 211.097 2147.14 210.523 Q2147.37 210.294 2147.63 210.195 Q2147.91 210.081 2148.07 210.081 Q2148.24 210.064 2148.61 210.064 Q2148.27 209.425 2147.45 209.081 Q2146.65 208.72 2145.73 208.72 Q2144.37 208.72 2143.07 209.671 Q2141.78 210.605 2140.99 212.081 Q2140.2 213.524 2139.69 215.573 Q2139.19 217.606 2139.19 218.787 Q2139.19 220.41 2139.94 221.427 Q2140.69 222.443 2142.2 222.443 Q2142.5 222.443 2142.81 222.427 Q2143.14 222.41 2143.96 222.23 Q2144.79 222.05 2145.53 221.738 Q2146.27 221.427 2147.2 220.754 Q2148.15 220.066 2148.91 219.131 Q2149.17 218.787 2149.35 218.787 Q2149.5 218.787 2149.63 218.934 Z\" fill=\"#000000\" fill-rule=\"evenodd\" fill-opacity=\"1\" /><path clip-path=\"url(#clip550)\" d=\"M 0 0 M2154.75 227.458 Q2154.75 219.354 2157.77 212.819 Q2159.06 210.078 2160.87 207.783 Q2162.67 205.488 2163.86 204.48 Q2165.06 203.473 2165.39 203.473 Q2165.86 203.473 2165.88 203.942 Q2165.88 204.176 2165.25 204.761 Q2157.52 212.631 2157.54 227.458 Q2157.54 242.331 2165.06 249.897 Q2165.88 250.716 2165.88 250.974 Q2165.88 251.442 2165.39 251.442 Q2165.06 251.442 2163.91 250.482 Q2162.76 249.522 2160.98 247.32 Q2159.2 245.118 2157.92 242.425 Q2154.75 235.89 2154.75 227.458 Z\" fill=\"#000000\" fill-rule=\"evenodd\" fill-opacity=\"1\" /><path clip-path=\"url(#clip550)\" d=\"M 0 0 M2212.71 207.221 Q2212.71 207.642 2212.54 207.877 Q2212.4 208.087 2212.24 208.134 Q2212.07 208.158 2211.65 208.181 Q2208.3 208.345 2205.56 210.617 Q2204.88 211.203 2203.17 213.03 Q2201.49 214.857 2199.24 217.293 Q2197.01 219.728 2195.72 221.04 L2201.91 235.843 Q2202.17 236.429 2202.26 236.686 Q2202.38 236.921 2202.61 237.225 Q2202.87 237.529 2203.06 237.623 Q2203.27 237.717 2203.71 237.834 Q2204.18 237.928 2204.65 237.951 Q2205.14 237.951 2206.03 237.975 Q2206.31 237.975 2206.43 237.998 Q2206.57 237.998 2206.73 238.138 Q2206.9 238.256 2206.9 238.537 Q2206.9 238.958 2206.71 239.192 Q2206.55 239.403 2206.38 239.427 Q2206.24 239.45 2205.98 239.45 Q2205.37 239.45 2203.31 239.38 Q2201.25 239.31 2200.67 239.31 L2194.62 239.45 Q2193.9 239.45 2193.9 238.865 Q2193.9 238.56 2193.94 238.396 Q2194.01 238.209 2194.18 238.138 Q2194.34 238.045 2194.46 238.021 Q2194.58 237.998 2194.86 237.975 Q2195.72 237.881 2196.38 237.623 Q2197.06 237.342 2197.34 237.061 Q2197.65 236.78 2197.65 236.569 L2197.41 235.89 L2192.56 224.436 L2188.23 229.144 L2183.33 234.321 Q2182.05 235.703 2182.05 236.475 Q2182.05 237.764 2183.97 237.975 Q2184.55 238.021 2184.55 238.49 Q2184.55 238.935 2184.36 239.169 Q2184.2 239.38 2184.04 239.427 Q2183.9 239.45 2183.69 239.45 Q2182.82 239.45 2180.99 239.38 Q2179.19 239.31 2178.3 239.31 Q2177.55 239.31 2176.03 239.38 Q2174.5 239.45 2173.8 239.45 Q2173.52 239.45 2173.36 239.31 Q2173.19 239.169 2173.19 239.029 L2173.17 238.911 Q2173.17 238.584 2173.22 238.396 Q2173.29 238.209 2173.47 238.115 Q2173.68 238.021 2173.78 238.021 Q2173.87 237.998 2174.22 237.975 Q2176.21 237.857 2177.9 237.084 Q2179.61 236.312 2181.27 234.508 Q2181.41 234.391 2181.58 234.25 Q2181.76 234.11 2181.91 233.993 L2192.02 223.101 L2186.36 209.704 Q2186.1 209.095 2185.86 208.837 Q2185.63 208.556 2184.9 208.369 Q2184.18 208.181 2182.77 208.181 Q2182.37 208.181 2182.19 208.158 Q2182 208.134 2181.84 208.017 Q2181.67 207.9 2181.67 207.642 Q2181.67 207.197 2181.84 206.987 Q2182.02 206.752 2182.16 206.729 Q2182.33 206.682 2182.54 206.682 Q2183.12 206.682 2185.21 206.752 Q2187.29 206.823 2187.9 206.823 Q2188.91 206.823 2190.92 206.752 Q2192.96 206.682 2193.94 206.682 Q2194.67 206.682 2194.67 207.268 Q2194.67 207.642 2194.51 207.853 Q2194.34 208.064 2194.18 208.111 Q2194.01 208.158 2193.71 208.181 Q2192.8 208.275 2192.09 208.579 Q2191.41 208.86 2191.13 209.141 Q2190.88 209.399 2190.88 209.563 L2191.11 210.196 L2195.14 219.728 L2202.92 211.39 Q2203.83 210.359 2203.83 209.657 Q2203.83 208.392 2201.91 208.181 Q2201.32 208.087 2201.32 207.642 Q2201.32 207.197 2201.51 206.987 Q2201.7 206.752 2201.84 206.729 Q2202 206.682 2202.24 206.682 Q2203.1 206.682 2204.88 206.752 Q2206.69 206.823 2207.58 206.823 Q2208.33 206.823 2209.85 206.752 Q2211.37 206.682 2212.07 206.682 Q2212.35 206.682 2212.52 206.823 Q2212.68 206.94 2212.68 207.08 L2212.71 207.221 Z\" fill=\"#000000\" fill-rule=\"evenodd\" fill-opacity=\"1\" /><path clip-path=\"url(#clip550)\" d=\"M 0 0 M2212.48 250.974 Q2212.48 250.74 2213.09 250.154 Q2220.82 242.284 2220.82 227.458 Q2220.82 212.585 2213.39 205.066 Q2212.48 204.199 2212.48 203.942 Q2212.48 203.473 2212.95 203.473 Q2213.28 203.473 2214.43 204.434 Q2215.6 205.394 2217.35 207.596 Q2219.13 209.797 2220.45 212.491 Q2223.61 219.026 2223.61 227.458 Q2223.61 235.562 2220.59 242.097 Q2219.3 244.837 2217.49 247.133 Q2215.69 249.428 2214.5 250.435 Q2213.3 251.442 2212.95 251.442 Q2212.48 251.442 2212.48 250.974 Z\" fill=\"#000000\" fill-rule=\"evenodd\" fill-opacity=\"1\" /></svg>\n"
      ]
     },
     "execution_count": 54,
     "metadata": {},
     "output_type": "execute_result"
    }
   ],
   "source": [
    "plot(kgrid, c_pol[1,:], title = \"Policy Function for Consumption\", label = L\"\\sigma^c(X)\", lw=3)\n",
    "xlabel!(L\"k_t\")\n",
    "ylabel!(L\"c_t\")"
   ]
  },
  {
   "cell_type": "markdown",
   "metadata": {},
   "source": [
    "## Simulations"
   ]
  }
 ],
 "metadata": {
  "kernelspec": {
   "display_name": "Julia 1.5.4",
   "language": "julia",
   "name": "julia-1.5"
  },
  "language_info": {
   "file_extension": ".jl",
   "mimetype": "application/julia",
   "name": "julia",
   "version": "1.5.4"
  },
  "latex_envs": {
   "LaTeX_envs_menu_present": true,
   "autoclose": false,
   "autocomplete": true,
   "bibliofile": "biblio.bib",
   "cite_by": "apalike",
   "current_citInitial": 1,
   "eqLabelWithNumbers": true,
   "eqNumInitial": 1,
   "hotkeys": {
    "equation": "Ctrl-E",
    "itemize": "Ctrl-I"
   },
   "labels_anchors": false,
   "latex_user_defs": false,
   "report_style_numbering": false,
   "user_envs_cfg": false
  }
 },
 "nbformat": 4,
 "nbformat_minor": 4
}

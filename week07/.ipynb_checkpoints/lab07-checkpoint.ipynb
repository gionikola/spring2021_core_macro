{
 "cells": [
  {
   "cell_type": "markdown",
   "metadata": {},
   "source": [
    "# Recursive Competitive Equilibria"
   ]
  },
  {
   "cell_type": "markdown",
   "metadata": {},
   "source": [
    "Contents:\n",
    "\n",
    "- [Recursive Competitive Equilibria](#Recursive-Competitive-Equilibria)  \n",
    "  - [Stochastic Growth Model](#Stochastic-Growth-Model) \n",
    "  - [Transition Equations](#Transition-Equations) \n",
    "  - [Policy Functions](#Policy-Functions)   \n",
    "  - [Simulations](#Simulations)"
   ]
  },
  {
   "cell_type": "markdown",
   "metadata": {},
   "source": [
    "This lab includes:\n",
    "\n",
    "(1) An overview of a basic stochastic growth model;\n",
    "\n",
    "(2) Finding the transition equations of the model using dynamic programming;\n",
    "\n",
    "(3) Solving for the policy functions of the model using value function iteration;\n",
    "\n",
    "(4) Solving for the price system of the economy;\n",
    "\n",
    "(5) Simulating the equilibrium paths of the economy under various initial conditions."
   ]
  },
  {
   "cell_type": "markdown",
   "metadata": {},
   "source": [
    "Load all necessary packages:"
   ]
  },
  {
   "cell_type": "code",
   "execution_count": 2,
   "metadata": {
    "ExecuteTime": {
     "end_time": "2021-05-12T08:21:57.627000-07:00",
     "start_time": "2021-05-12T15:21:16.792Z"
    }
   },
   "outputs": [],
   "source": [
    "using Statistics, Plots, LinearAlgebra, Roots, QuantEcon"
   ]
  },
  {
   "cell_type": "markdown",
   "metadata": {},
   "source": [
    "---\n",
    "\n",
    "## Stochastic Growth Model"
   ]
  },
  {
   "cell_type": "markdown",
   "metadata": {},
   "source": [
    "### Refresher\n",
    "\n",
    "Just to remind you of the nature of the model:\n",
    "\n",
    "- The economy is populated by a **household** that consumes a good, sells labor, and trades claims to date $t+1$ consumption.\n",
    "\n",
    "- On the production side, there is a firm that produces the consumption good. This is the **type I firm**.\n",
    "\n",
    "- There is also a firm that transforms output into capital and earns revenues by renting out the accumulated capital to the type I firm. This is the **type II firm**."
   ]
  },
  {
   "cell_type": "markdown",
   "metadata": {},
   "source": [
    "### Additional Restrictions / Assumptions\n",
    "\n",
    "Assume that our stochastic growth model has the exact same structure as the one presented in Chapter 12 of Ljungqvist and Sargent (covered in class yesterday).\n",
    "\n",
    "We will apply some additional restrictions on the functional forms of the utility and production functions:\n",
    "\n",
    "(1) The consumer's utility function is a function of consumption only: $u(C,1-N) = \\theta \\log(C) + (1-\\theta) \\log(1-N)$.\n",
    "\n",
    "(2) The firm's production function is a function of capital only: $F(K,N) = F(K,N) = K^\\alpha N^{1-\\alpha}$. "
   ]
  },
  {
   "cell_type": "markdown",
   "metadata": {},
   "source": [
    "### Equilibrium Objects\n",
    "\n",
    "Recall that $X = \\begin{bmatrix} K & A & s \\end{bmatrix}$ is the vector of state variables, and $X'$ is equivalent to $X$ in the next period.\n",
    "\n",
    "The following is a list of the objects that determine the **recursive competitive equilibrum**:\n",
    "\n",
    "(1) The price system $\\{ r(X), w(W), Q(X'\\,|\\,X) \\}$;\n",
    "\n",
    "(2) A perceived law of motion $K' = G(X)$ and an associated induced transition density $\\hat{\\Pi}(X'\\,|\\,X)$;\n",
    "\n",
    "(3) A household value function $J(a,X)$ and decision rules $\\sigma^c(a,X)$, $\\sigma^n(a,X)$, and $\\sigma^a(a,X;X')$."
   ]
  },
  {
   "cell_type": "markdown",
   "metadata": {},
   "source": [
    "### Obtaining Equilibrium Objects\n",
    "\n",
    "The following is an outline of our approach to obtaining most of the equilibrium objects.\n",
    "\n",
    "We largely defer to the results presented in section 12.9.2 of L&S.\n",
    "\n",
    "**(1)** As our candidate for $G(\\cdot)$ in $K' = G(X)$, we use the decision rule obtained through the planner's problem: $K' = \\Omega^K(X)$.\n",
    "\n",
    "**(2)** The price system is governed by the following equations:\n",
    "\\begin{align*}\n",
    "r(X) &= A F_k(X) \\, , \\\\\n",
    "w(X) &= A F_n(X) \\, , \\\\\n",
    "Q(X'\\,|\\,X) &= \\beta \\Pi(X'\\,|\\,X) \\frac{U_c(X')}{U_c(X)} \\left[ A(s) F_K(X') + (1-\\delta) \\right] \\, .\n",
    "\\end{align*}\n",
    "\n",
    "**(3)** The policy functions $\\sigma^c(a,X)$ and $\\sigma^n(a,X)$ are equivalent to the policy functions $\\Omega^C(X)$ and $\\Omega^N(X)$ obtained through the planner's problem.\n",
    "\n",
    "**(4)** The policy function for $a$, $\\sigma^a(a,X;X')$, will also be pinned down by the equation $a = \\left[ r(X) + (1-\\delta) \\right] K$ (section 12.9.1 of L&S).\n"
   ]
  },
  {
   "cell_type": "markdown",
   "metadata": {},
   "source": [
    "### Planner's Problem\n",
    "\n",
    "The Bellman equation for the planning problem is \n",
    "\n",
    "\\begin{align*}\n",
    "    v(K,A,s) = \\max_{C,N,K'} \\left\\{ u(C,1-N) + \\beta \\sum_{s'} \\pi(s'\\,|\\,s) v(K',A',s') \\right\\} \\, ,\n",
    "\\end{align*}\n",
    "\n",
    "subject to \n",
    "\n",
    "\\begin{align*}\n",
    "    K' + C &\\leq A(s) F(K,N) + (1-\\delta) K \\, , \\\\\n",
    "    A' &= A(s) \\, .\n",
    "\\end{align*}"
   ]
  },
  {
   "cell_type": "markdown",
   "metadata": {},
   "source": [
    "### Productivity Factor \\& Events\n",
    "\n",
    "Let $A_t = e^a_t$, where $a_t$ is the productivity shock and $A_t$ is the productivity factor.\n",
    "\n",
    "We will assume that the productivity shock in our model is driven by the following autoregressive process:\n",
    "\n",
    "\\begin{align*}\n",
    "a_t = \\rho a_{t-1} + \\gamma \\varepsilon_t \\, ,\n",
    "\\end{align*}\n",
    "\n",
    "where $\\varepsilon_t \\sim N(0,1)$, and we have $\\rho = 0.7$ and $\\gamma = 1$. \n",
    "\n",
    "Notice that $\\mathbb{E}[a_t] = 0$, as well as $\\mathbb{E}[A_t] = e^0 = 1$.\n",
    "\n",
    "We will discretize this law of motion for $a$ and create an underlying Markov process with $s_t = \\{1,2,\\ldots,25\\}$ and a stochastic matrix with entries corresponding to the nature of the given autoregressive process.\n",
    "\n",
    "How we back out the Markov chain from the given process for the productivity factor is *not* important.\n",
    "\n",
    "It *is* important to understand that the above process will give the necessary specification for the evolution of $A$ and $s_t$.\n",
    "\n",
    "In the end we have $A' = A(s)$.\n"
   ]
  },
  {
   "cell_type": "code",
   "execution_count": 7,
   "metadata": {
    "ExecuteTime": {
     "end_time": "2021-05-12T08:26:34.463000-07:00",
     "start_time": "2021-05-12T15:26:34.459Z"
    }
   },
   "outputs": [],
   "source": [
    "# Apply rouwenhorst to approximate productivity shock `productivity`\n",
    "ρ = 0.7\n",
    "σ = 1\n",
    "productivity = rouwenhorst(25, ρ, σ, 0.0);\n",
    "Π = (productivity.p) # save stochastic matrix\n",
    "a = productivity.state_values # save productivity shock values\n",
    "A = exp.(a); # save productivity factor shock values"
   ]
  },
  {
   "cell_type": "markdown",
   "metadata": {},
   "source": [
    "### Final Additional Constraint\n",
    "\n",
    "Just to make the analysis easier, assume that $\\theta = 1$ and labor is supplies inelastically at $N=1$. \n",
    "\n",
    "This effectively simplies our utility and production functions to:\n",
    "\n",
    "\\begin{align*}\n",
    "u(C,1-N) &= u(C) = \\log(C) \\, , \\text{ and } \\\\ \n",
    "F(K,N) &= F(K) = K^\\alpha \\, ,\n",
    "\\end{align*}\n",
    "\n",
    "respectively."
   ]
  },
  {
   "cell_type": "markdown",
   "metadata": {},
   "source": [
    "## Transition Equations"
   ]
  },
  {
   "cell_type": "markdown",
   "metadata": {},
   "source": [
    "To find the transition equations of the model, we start by solving the planner's problem."
   ]
  },
  {
   "cell_type": "markdown",
   "metadata": {},
   "source": [
    "### Simplifying the Planner's Bellman Equation"
   ]
  },
  {
   "cell_type": "markdown",
   "metadata": {},
   "source": [
    "The Bellman equation:\n",
    "\n",
    "\\begin{align*}\n",
    "    v(X) = \\max_{C,K'} \\left\\{ \\log(C) + \\beta \\mathbb{E} v(X') \\right\\} \\, ,\n",
    "\\end{align*}\n",
    "\n",
    "subject to \n",
    "\n",
    "\\begin{align*}\n",
    "    K' + C &= A(s) K^\\alpha + (1-\\delta) K \\, , \\\\\n",
    "    A' &= A(s) \\, .\n",
    "\\end{align*}\n",
    "\n",
    "By setting the first flow constraint to equality, we are assuming an interior solution."
   ]
  },
  {
   "cell_type": "markdown",
   "metadata": {},
   "source": [
    "Use the first flow constraint to solve for $K'$ and substitute it into $X'$ in the Bellman equation:\n",
    "\n",
    "\\begin{align*}\n",
    "    v(X) = \\max_{C} \\left\\{ \\log(C) + \\beta \\mathbb{E} v(A(s)K^\\alpha + (1-\\delta)K - C, A, s) \\right\\} \\, .\n",
    "\\end{align*}\n"
   ]
  },
  {
   "cell_type": "markdown",
   "metadata": {},
   "source": [
    "### FOC and Envelope Condition"
   ]
  },
  {
   "cell_type": "markdown",
   "metadata": {},
   "source": [
    "The first-order condition (FOC) of the Bellman equation with respect to $C$ yields\n",
    "\n",
    "\\begin{align*}\n",
    "    0 = \\frac{1}{C} + \\beta \\mathbb{E} V'(X') (-1) \\, ,\n",
    "\\end{align*}\n",
    "\n",
    "which yields \n",
    "\n",
    "\\begin{align*}\n",
    "    \\frac{1}{C} = \\beta \\mathbb{E} V'(X') \\, .\n",
    "\\end{align*}"
   ]
  },
  {
   "cell_type": "markdown",
   "metadata": {},
   "source": [
    "The envelope condition with respect to $K$:\n",
    "\n",
    "\\begin{align*}\n",
    "    V'(X) = \\beta \\mathbb{E}\\left[ V'(X') \\left( A(s) \\alpha K^{\\alpha-1} + 1 - \\delta \\right) \\right] \\, , \n",
    "\\end{align*}\n",
    "\n",
    "which is equivalent to \n",
    "\n",
    "\\begin{align*}\n",
    "    V'(X) = \\left( \\alpha K^{\\alpha-1} + 1 - \\delta \\right) \\beta \\mathbb{E}V'(X') \\, .\n",
    "\\end{align*}"
   ]
  },
  {
   "cell_type": "markdown",
   "metadata": {},
   "source": [
    "### Solving for the Euler Equation"
   ]
  },
  {
   "cell_type": "markdown",
   "metadata": {},
   "source": [
    "Further substituting in the FOC into the above envelope condition yields \n",
    "\n",
    "\\begin{align*}\n",
    "    V'(X) = \\left( \\alpha K^{\\alpha-1} + 1 - \\delta \\right) \\frac{1}{C} \\, .\n",
    "\\end{align*}"
   ]
  },
  {
   "cell_type": "markdown",
   "metadata": {},
   "source": [
    "Stepping the above equation for $V'(X)$ up by one period yields \n",
    "\n",
    "\\begin{align*}\n",
    "    V'(X') = \\left( \\alpha K'^{\\alpha-1} + 1 - \\delta \\right) \\frac{1}{C'} \\, .\n",
    "\\end{align*}"
   ]
  },
  {
   "cell_type": "markdown",
   "metadata": {},
   "source": [
    "Substituting the above back into the FOC and solving for $C'$ yields the Euler equation:\n",
    "\n",
    "\\begin{align*}\n",
    "    C' = C \\beta \\left( \\alpha K'^{\\alpha-1} + 1 - \\delta \\right) \\, .\n",
    "\\end{align*}\n",
    "\n",
    "With time indexes:\n",
    "\n",
    "\\begin{align*}\n",
    "    C_{t+1} = C_t \\beta \\left( \\alpha K_{t+1}^{\\alpha-1} + 1 - \\delta \\right) \\, .\n",
    "\\end{align*}"
   ]
  },
  {
   "cell_type": "markdown",
   "metadata": {},
   "source": [
    "### All Transition Equations"
   ]
  },
  {
   "cell_type": "markdown",
   "metadata": {},
   "source": [
    "We ended up with two transition equations.\n",
    "\n",
    "The capital accumulation equation:\n",
    "\n",
    "\\begin{align}\n",
    "\\label{eq:capital_accumulation}\n",
    "K_{t+1} = A(s_t) K_t^\\alpha + (1-\\delta)K_t - C_t \\, .\n",
    "\\end{align}\n",
    "\n",
    "The consumption Euler equation:\n",
    "\n",
    "\\begin{align}\n",
    "\\label{eq:euler}\n",
    "C_{t+1} = C_t \\beta \\left( \\alpha K_{t+1}^{\\alpha-1} + 1 - \\delta \\right) \\, .\n",
    "\\end{align}"
   ]
  },
  {
   "cell_type": "markdown",
   "metadata": {},
   "source": [
    "These will come in handy when we try to simulate the model in its recursive competitive equilibrium."
   ]
  },
  {
   "cell_type": "markdown",
   "metadata": {},
   "source": [
    "## Steady State"
   ]
  },
  {
   "cell_type": "code",
   "execution_count": null,
   "metadata": {},
   "outputs": [],
   "source": []
  },
  {
   "cell_type": "markdown",
   "metadata": {},
   "source": [
    "## Policy Functions"
   ]
  },
  {
   "cell_type": "code",
   "execution_count": 13,
   "metadata": {
    "ExecuteTime": {
     "end_time": "2021-05-12T09:34:56.908000-07:00",
     "start_time": "2021-05-12T16:34:56.897Z"
    }
   },
   "outputs": [],
   "source": [
    "function bellmanMap(V,kgrid,A,Π,α,δ)\n",
    "    \n",
    "    N     = length(kgrid) #Number of gridpoints of capital\n",
    "    S     = length(A) #Number of stochastic states\n",
    "    \n",
    "    V_new = zeros(S,N) #New Value function\n",
    "    n_pol = zeros(Int,S,N) #New policy rule for grid points\n",
    "    k_pol = zeros(S,N) #New policy rule for capital\n",
    "    c_pol = zeros(S,N) #consumption rule\n",
    "    \n",
    "    obj   = zeros(N) #objective to be maximized\n",
    "    \n",
    "    EV    = Π*V #precompute expected value for speed\n",
    "    \n",
    "    for n in 1:N\n",
    "        \n",
    "        for s in 1:S\n",
    "            \n",
    "            opt_h = ones(Int,S,N)\n",
    "            \n",
    "            for nprime in 1:N\n",
    "                \n",
    "                c = (1-δ)*kgrid[n] + A[s]*(kgrid[n]^(α))*(h^(1-α)) - kgrid[nprime]\n",
    "            \n",
    "                if c <= 0\n",
    "                    obj[nprime] = -Inf #penalty if consumption <0\n",
    "                else\n",
    "                    obj[nprime] = θ*log(c)+(1-θ)*log(1-h) + β*EV[s,nprime] #otherwise compute objective\n",
    "                end\n",
    "                \n",
    "            end\n",
    "                \n",
    "            #find optimal value and policy\n",
    "            V_new[s,n], n_pol[s,n] = findmax(obj)\n",
    "            k_pol[s,n]             = kgrid[n_pol[s,n]]\n",
    "            c_pol[s,n]             = (1-δ)*kgrid[n] + A[s]*(kgrid[n]^(α)) - k_pol[s,n]\n",
    "        end\n",
    "    end\n",
    "    \n",
    "    return V_new,n_pol,k_pol,c_pol\n",
    "end;"
   ]
  },
  {
   "cell_type": "code",
   "execution_count": 14,
   "metadata": {
    "ExecuteTime": {
     "end_time": "2021-05-12T09:34:59.203000-07:00",
     "start_time": "2021-05-12T16:34:59.194Z"
    }
   },
   "outputs": [],
   "source": [
    "function solveBellman(V0,kgrid,A,Π,α,δ,ϵ=1e-6)\n",
    "    diff = 1.\n",
    "    V,n_pol,k_pol,c_pol = GrowthBellmanMapStochastic(V0,kgrid,A,Π,α,δ)\n",
    "    while diff > ϵ\n",
    "        V_new,n_pol,k_pol,c_pol = GrowthBellmanMapStochastic(V,kgrid,A,Π,α,δ)\n",
    "        diff = norm(V_new-V,Inf)\n",
    "        V = V_new\n",
    "    end\n",
    "    return V,n_pol,k_pol,c_pol\n",
    "end;"
   ]
  },
  {
   "cell_type": "markdown",
   "metadata": {},
   "source": [
    "## Simulations"
   ]
  }
 ],
 "metadata": {
  "kernelspec": {
   "display_name": "Julia 1.5.4",
   "language": "julia",
   "name": "julia-1.5"
  },
  "language_info": {
   "file_extension": ".jl",
   "mimetype": "application/julia",
   "name": "julia",
   "version": "1.5.4"
  },
  "latex_envs": {
   "LaTeX_envs_menu_present": true,
   "autoclose": false,
   "autocomplete": true,
   "bibliofile": "biblio.bib",
   "cite_by": "apalike",
   "current_citInitial": 1,
   "eqLabelWithNumbers": true,
   "eqNumInitial": 1,
   "hotkeys": {
    "equation": "Ctrl-E",
    "itemize": "Ctrl-I"
   },
   "labels_anchors": false,
   "latex_user_defs": false,
   "report_style_numbering": false,
   "user_envs_cfg": false
  }
 },
 "nbformat": 4,
 "nbformat_minor": 4
}

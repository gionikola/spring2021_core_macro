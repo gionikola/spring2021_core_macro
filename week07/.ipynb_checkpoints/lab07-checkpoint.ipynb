{
 "cells": [
  {
   "cell_type": "markdown",
   "metadata": {},
   "source": [
    "# Recursive Competitive Equilibria"
   ]
  },
  {
   "cell_type": "markdown",
   "metadata": {},
   "source": [
    "Contents:\n",
    "\n",
    "- [Recursive Competitive Equilibria](#Recursive-Competitive-Equilibria)  \n",
    "  - [Stochastic Growth Model](#Stochastic-Growth-Model)  \n",
    "  - [Transition Equations](#Transition-Equations)\n",
    "  - [Policy Functions](#Policy-Functions)   \n",
    "  - [Price System](#Price-System)\n",
    "  - [Simulations](#Simulations)"
   ]
  },
  {
   "cell_type": "markdown",
   "metadata": {},
   "source": [
    "This lab includes:\n",
    "\n",
    "(1) An overview of a basic stochastic growth model;\n",
    "\n",
    "(2) Finding the transition equations of the model using dynamic programming;\n",
    "\n",
    "(3) Solving for the policy functions of the model using value function iteration;\n",
    "\n",
    "(4) Solving for the price system of the economy;\n",
    "\n",
    "(5) Simulating the equilibrium paths of the economy under various initial conditions."
   ]
  },
  {
   "cell_type": "markdown",
   "metadata": {},
   "source": [
    "## 1. Stochastic Growth Model"
   ]
  },
  {
   "cell_type": "markdown",
   "metadata": {},
   "source": [
    "### Refresher\n",
    "\n",
    "Just to remind you of the nature of the model:\n",
    "\n",
    "- The economy is populated by a **household** that consumes a good, sells labor, and trades claims to date $t+1$ consumption.\n",
    "\n",
    "- On the production side, there is a firm that produces the consumption good. This is the **type I firm**.\n",
    "\n",
    "- There is also a firm that transforms output into capital and earns revenues by renting out the accumulated capital to the type I firm. This is the **type II firm**."
   ]
  },
  {
   "cell_type": "markdown",
   "metadata": {},
   "source": [
    "### Additional Restrictions / Assumptions\n",
    "\n",
    "Assume that our stochastic growth model has the exact same structure as the one presented in Chapter 12 of Ljungqvist and Sargent (covered in class yesterday).\n",
    "\n",
    "We will apply some additional restrictions on the functional forms of the utility and production functions:\n",
    "\n",
    "(1) The consumer's utility function is a function of consumption only: $u(C,1-N) = \\theta \\log(C) + (1-\\theta) \\log(1-N)$.\n",
    "\n",
    "(2) The firm's production function is a function of capital only: $F(K,N) = F(K,N) = K^\\alpha N^{1-\\alpha}$. "
   ]
  },
  {
   "cell_type": "markdown",
   "metadata": {},
   "source": [
    "### Equilibrium Objects\n",
    "\n",
    "Recall that $X = \\begin{bmatrix} K & A & s \\end{bmatrix}$ is the vector of state variables, and $X'$ is equivalent to $X$ in the next period.\n",
    "\n",
    "The following is a list of the objects that determine the **recursive competitive equilibrum**:\n",
    "\n",
    "(1) The price system $\\{ r(X), w(W), Q(X'\\,|\\,X) \\}$;\n",
    "\n",
    "(2) A perceived law of motion $K' = G(X)$ and an associated induced transition density $\\hat{\\Pi}(X'\\,|\\,X)$;\n",
    "\n",
    "(3) A household value function $J(a,X)$ and decision rules $\\sigma^c(a,X)$, $\\sigma^n(a,X)$, and $\\sigma^a(a,X;X')$."
   ]
  },
  {
   "cell_type": "markdown",
   "metadata": {},
   "source": [
    "### Obtaining Equilibrium Objects\n",
    "\n",
    "The following is an outline of our approach to obtaining most of the equilibrium objects.\n",
    "\n",
    "We largely defer to the results presented in section 12.9.2 of L&S.\n",
    "\n",
    "**(1)** As our candidate for $G(\\cdot)$ in $K' = G(X)$, we use the decision rule obtained through the planner's problem: $K' = \\Omega^K(X)$.\n",
    "\n",
    "**(2)** The price system is governed by the following equations:\n",
    "\\begin{align*}\n",
    "r(X) &= A F_k(X) \\, , \\\\\n",
    "w(X) &= A F_n(X) \\, , \\\\\n",
    "Q(X'\\,|\\,X) &= \\beta \\Pi(X'\\,|\\,X) \\frac{U_c(X')}{U_c(X)} \\left[ A(s) F_K(X') + (1-\\delta) \\right] \\, .\n",
    "\\end{align*}\n",
    "\n",
    "**(3)** The policy functions $\\sigma^c(a,X)$ and $\\sigma^n(a,X)$ are equivalent to the policy functions $\\Omega^C(X)$ and $\\Omega^N(X)$ obtained through the planner's problem.\n",
    "\n",
    "**(4)** The policy function for $a$, $\\sigma^a(a,X;X')$, will also be pinned down by the equation $a = \\left[ r(X) + (1-\\delta) \\right] K$ (section 12.9.1 of L&S).\n"
   ]
  },
  {
   "cell_type": "markdown",
   "metadata": {},
   "source": [
    "### Planner's Problem\n",
    "\n",
    "The Bellman equation for the planning problem is \n",
    "\n",
    "\\begin{align*}\n",
    "    v(K,A,s) = \\max_{C,N,K'} \\left\\{ u(C,1-N) + \\beta \\sum_{s'} \\pi(s'\\,|\\,s) v(K',A',s') \\right\\} \\, ,\n",
    "\\end{align*}\n",
    "\n",
    "subject to \n",
    "\n",
    "\\begin{align*}\n",
    "    K' + C &\\leq A(s) F(K,N) + (1-\\delta) K \\, , \\\\\n",
    "    A' &= A(s) \\, .\n",
    "\\end{align*}"
   ]
  },
  {
   "cell_type": "markdown",
   "metadata": {},
   "source": [
    "### Productivity Factor \\& Events\n",
    "\n",
    "We will assume that the productivity factor in our model is driven by the following autoregressive process:\n",
    "\n",
    "\\begin{align*}\n",
    "A_t = \\rho A_{t-1} + \\gamma \\varepsilon_t \\, ,\n",
    "\\end{align*}\n",
    "\n",
    "where $\\varepsilon_t \\sim N(0,1)$, and we have $\\rho = 0.7$ and $\\gamma = 1$. \n",
    "\n",
    "We will discretize this law of motion for $A$ and create an underlying Markov process with $s_t = \\{1,2,\\ldots,25\\}$ and a stochastic matrix with entries corresponding to the nature of the given autoregressive process.\n",
    "\n",
    "How we back out the Markov chain from the given process for the productivity factor is *not* important.\n",
    "\n",
    "It *is* important to understand that the above process will give the necessary specification for the evolution of $A$ and $s_t$.\n",
    "\n",
    "In the end we have $A' = A(s)$.\n"
   ]
  },
  {
   "cell_type": "markdown",
   "metadata": {},
   "source": [
    "## 2. Transition Equations "
   ]
  },
  {
   "cell_type": "markdown",
   "metadata": {},
   "source": [
    "## 3. Policy Functions"
   ]
  },
  {
   "cell_type": "markdown",
   "metadata": {},
   "source": [
    "## 4. Price System"
   ]
  },
  {
   "cell_type": "markdown",
   "metadata": {},
   "source": [
    "## 5. Simulations"
   ]
  }
 ],
 "metadata": {
  "kernelspec": {
   "display_name": "Julia 1.5.4",
   "language": "julia",
   "name": "julia-1.5"
  },
  "language_info": {
   "file_extension": ".jl",
   "mimetype": "application/julia",
   "name": "julia",
   "version": "1.5.4"
  },
  "latex_envs": {
   "LaTeX_envs_menu_present": true,
   "autoclose": false,
   "autocomplete": true,
   "bibliofile": "biblio.bib",
   "cite_by": "apalike",
   "current_citInitial": 1,
   "eqLabelWithNumbers": true,
   "eqNumInitial": 1,
   "hotkeys": {
    "equation": "Ctrl-E",
    "itemize": "Ctrl-I"
   },
   "labels_anchors": false,
   "latex_user_defs": false,
   "report_style_numbering": false,
   "user_envs_cfg": false
  }
 },
 "nbformat": 4,
 "nbformat_minor": 4
}

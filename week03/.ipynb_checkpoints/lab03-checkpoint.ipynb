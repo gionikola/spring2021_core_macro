{
 "cells": [
  {
   "cell_type": "markdown",
   "metadata": {},
   "source": [
    "# The McCall Search Model"
   ]
  },
  {
   "cell_type": "markdown",
   "metadata": {},
   "source": [
    "We start by briefly reviewing the finite-state McCall model setup.\n",
    "\n",
    "A worker wants to maximize expected lifetime utility, $\\mathbb{E} \\sum_{t=0}^\\infty \\beta^t y_t$, where $\\beta \\in (0,1)$ is the discount factor and $\\{y_t\\}$ is an income sequence.\n",
    "\n",
    "The worker starts out being unemployed, but at each period they receive a job offer with wage $w$ drawn from a finite i.i.d. distribution (known to the worker) with outcomes $\\{w_1,\\ldots,w_S\\}$ and corresponding probability weights $\\{p_1,\\ldots,p_S\\}$.\n",
    "\n",
    "At time $T$ the worker may accept the given job offer and receive the wage $w$ for all $t \\geq T$.\n",
    "\n",
    "Or the worker may reject the offer, receive the unemployment check $c > 0$ at time $T$, and repeat the job search again at $T+1$.\n",
    "\n",
    "The worker chooses whichever option is associated with a greater expected lifetime utility. Therefore, the value function $v(w)$ of this problem satisfies the Bellman equation \n",
    "\n",
    "\\begin{align*}\n",
    "    v(w) = \\max_{\\text{accept,reject}} \\left\\{ \\frac{w}{1-\\beta} \\, , \\, c + \\beta \\sum_{i \\in N} v(w_i ') p_i \\right\\} \n",
    "\\end{align*}\n",
    "\n",
    "In this lab we will combine some of the tools we've learned in the first two labs to solve for the value function of the above Bellman equation."
   ]
  },
  {
   "cell_type": "markdown",
   "metadata": {},
   "source": [
    "First we load all necessary packages."
   ]
  },
  {
   "cell_type": "code",
   "execution_count": 45,
   "metadata": {
    "ExecuteTime": {
     "end_time": "2021-04-13T02:04:44.371000-07:00",
     "start_time": "2021-04-13T09:04:44.361Z"
    }
   },
   "outputs": [],
   "source": [
    "using LinearAlgebra"
   ]
  },
  {
   "cell_type": "markdown",
   "metadata": {},
   "source": [
    "We must first create a function for the Bellman mapping."
   ]
  },
  {
   "cell_type": "code",
   "execution_count": 46,
   "metadata": {
    "ExecuteTime": {
     "end_time": "2021-04-13T02:04:45.349000-07:00",
     "start_time": "2021-04-13T09:04:45.342Z"
    }
   },
   "outputs": [
    {
     "data": {
      "text/plain": [
       "mccallbellmanmap (generic function with 1 method)"
      ]
     },
     "execution_count": 46,
     "metadata": {},
     "output_type": "execute_result"
    }
   ],
   "source": [
    "\"\"\"\n",
    "    mccallbellmanmap(v,w,π,c,β)\n",
    "\n",
    "Iterates the McCall search model bellman equation for with value function v.\n",
    "Returns the new value function.\n",
    "\n",
    "# Arguments\n",
    "* `v` vector of values for each wage\n",
    "* `w` vector of wages\n",
    "* `p` vector of probabilities for each wage\n",
    "* `c` unemployment benefits\n",
    "* `β` time discount factor\n",
    "\n",
    "\"\"\"\n",
    "\n",
    "function mccallbellmanmap(v, w, p, c, β)\n",
    "    \n",
    "    # Create empty vector for value storage\n",
    "    v_out = zeros(length(w))\n",
    "    \n",
    "    # Compute value given each wage in vector `w`\n",
    "    for i in 1:length(w)\n",
    "        \n",
    "        # Bellman map: v = max{c + β E(v'), w/(1-β)}\n",
    "        v_out[i] = max(c + β * dot(p,v), w[i]/(1-β)) \n",
    "        \n",
    "    end\n",
    "    \n",
    "    # Return value function\n",
    "    return v_out\n",
    "end"
   ]
  },
  {
   "cell_type": "markdown",
   "metadata": {},
   "source": [
    "Alternatively:"
   ]
  },
  {
   "cell_type": "code",
   "execution_count": 47,
   "metadata": {
    "ExecuteTime": {
     "end_time": "2021-04-13T02:04:46.878000-07:00",
     "start_time": "2021-04-13T09:04:46.871Z"
    },
    "scrolled": true
   },
   "outputs": [
    {
     "data": {
      "text/plain": [
       "mccallbellmanmap_v2"
      ]
     },
     "execution_count": 47,
     "metadata": {},
     "output_type": "execute_result"
    }
   ],
   "source": [
    "\"\"\"\n",
    "    mccallbellmanmap_v2(v,w,π,c,β)\n",
    "\n",
    "Iterates the McCall search model bellman equation for with value function v.\n",
    "Returns the new value function.\n",
    "\n",
    "# Arguments\n",
    "* `v` vector of values for each wage\n",
    "* `w` vector of wages\n",
    "* `p` vector of probabilities for each wage\n",
    "* `c` unemployment benefits\n",
    "* `β` time discount factor\n",
    "\n",
    "\"\"\"\n",
    "function mccallbellmanmap_v2(v, w, p, c, β)\n",
    "    \n",
    "    # Compute value of rejecting the offer\n",
    "    v_reject = c + β * dot(p,v) # this is a Float\n",
    "    \n",
    "    # Compute value of accepting the wage offer\n",
    "    v_accept = w / (1-β)\n",
    "    \n",
    "    # Compute v_reject to v_accept\n",
    "    v_out = max.(v_reject, v_accept)\n",
    "    \n",
    "    # Return value function\n",
    "    return v_out\n",
    "end"
   ]
  },
  {
   "cell_type": "markdown",
   "metadata": {},
   "source": [
    "Now let's iterate over the Bellman map to see what it does."
   ]
  },
  {
   "cell_type": "code",
   "execution_count": 48,
   "metadata": {
    "ExecuteTime": {
     "end_time": "2021-04-13T02:04:48.406000-07:00",
     "start_time": "2021-04-13T09:04:48.294Z"
    }
   },
   "outputs": [
    {
     "data": {
      "text/plain": [
       "50×10 Array{Float64,2}:\n",
       "  20.0     40.0     60.0     80.0    …  140.0    160.0    180.0  200.0\n",
       " 107.5    107.5    107.5    107.5       140.0    160.0    180.0  200.0\n",
       " 130.062  130.062  130.062  130.062     140.0    160.0    180.0  200.0\n",
       " 141.736  141.736  141.736  141.736     141.736  160.0    180.0  200.0\n",
       " 148.554  148.554  148.554  148.554     148.554  160.0    180.0  200.0\n",
       " 153.089  153.089  153.089  153.089  …  153.089  160.0    180.0  200.0\n",
       " 156.104  156.104  156.104  156.104     156.104  160.0    180.0  200.0\n",
       " 158.109  158.109  158.109  158.109     158.109  160.0    180.0  200.0\n",
       " 159.443  159.443  159.443  159.443     159.443  160.0    180.0  200.0\n",
       " 160.329  160.329  160.329  160.329     160.329  160.329  180.0  200.0\n",
       " 160.95   160.95   160.95   160.95   …  160.95   160.95   180.0  200.0\n",
       " 161.422  161.422  161.422  161.422     161.422  161.422  180.0  200.0\n",
       " 161.781  161.781  161.781  161.781     161.781  161.781  180.0  200.0\n",
       "   ⋮                                 ⋱                           \n",
       " 162.916  162.916  162.916  162.916     162.916  162.916  180.0  200.0\n",
       " 162.916  162.916  162.916  162.916     162.916  162.916  180.0  200.0\n",
       " 162.916  162.916  162.916  162.916  …  162.916  162.916  180.0  200.0\n",
       " 162.916  162.916  162.916  162.916     162.916  162.916  180.0  200.0\n",
       " 162.916  162.916  162.916  162.916     162.916  162.916  180.0  200.0\n",
       " 162.916  162.916  162.916  162.916     162.916  162.916  180.0  200.0\n",
       " 162.916  162.916  162.916  162.916     162.916  162.916  180.0  200.0\n",
       " 162.917  162.917  162.917  162.917  …  162.917  162.917  180.0  200.0\n",
       " 162.917  162.917  162.917  162.917     162.917  162.917  180.0  200.0\n",
       " 162.917  162.917  162.917  162.917     162.917  162.917  180.0  200.0\n",
       " 162.917  162.917  162.917  162.917     162.917  162.917  180.0  200.0\n",
       " 162.917  162.917  162.917  162.917     162.917  162.917  180.0  200.0"
      ]
     },
     "execution_count": 48,
     "metadata": {},
     "output_type": "execute_result"
    }
   ],
   "source": [
    "# Create discrete uniform wage distribution between 1 and 10\n",
    "# where S = # of grid points (evenly-spaced points between 1 and 10)\n",
    "S = 10\n",
    "w = LinRange(1, 10, S) \n",
    "p = ones(S)/S # each p[i] = 1/S ∀i, so that p(w[i]) = p(w[j]) ∀i,j ∈ {1,...,S}\n",
    "\n",
    "# Set model parameters:\n",
    "β = 0.95 # note that lower β causes code to converge faster\n",
    "c = 3 # unemployment wage/benefits\n",
    "\n",
    "# Initiate the value function\n",
    "v0 = zeros(S)\n",
    "\n",
    "# Iterate code J times\n",
    "J = 50\n",
    "\n",
    "# Create and initiate array containing \n",
    "# iterated value function values:\n",
    "V = zeros(J, S)\n",
    "V[1,:] = mccallbellmanmap(v0, w, p, c, β)\n",
    "\n",
    "# Keep applying Bellman map recursively \n",
    "for j in 2:J\n",
    "    V[j,:] = mccallbellmanmap_v2(V[j-1,:], w, p, c, β)\n",
    "end\n",
    "\n",
    "V"
   ]
  },
  {
   "cell_type": "markdown",
   "metadata": {},
   "source": [
    "Lastly, we define a function that solves any given finite-state McCall model."
   ]
  },
  {
   "cell_type": "code",
   "execution_count": 49,
   "metadata": {
    "ExecuteTime": {
     "end_time": "2021-04-13T02:04:50.864000-07:00",
     "start_time": "2021-04-13T09:04:50.859Z"
    }
   },
   "outputs": [
    {
     "data": {
      "text/plain": [
       "solvemccall (generic function with 2 methods)"
      ]
     },
     "execution_count": 49,
     "metadata": {},
     "output_type": "execute_result"
    }
   ],
   "source": [
    "\"\"\"\n",
    "    solvemccall(w,π,c,β[,ϵ])\n",
    "\n",
    "Iterates the McCall search model bellman equation until convergence criterion \n",
    "ϵ is reached\n",
    "\n",
    "# Arguments\n",
    "* `w` vector of wages\n",
    "* `p` vector of probabilities for each wage\n",
    "* `c` unemployment benefits\n",
    "* `β` time discount factor\n",
    "* `ϵ' Stopping criteria (default 1e-6)\n",
    "\"\"\"\n",
    "\n",
    "function solvemccall(w,p,c,β,ϵ=1e-6)\n",
    "    \n",
    "    # Initialize the value function.\n",
    "    v = w/(1-β)\n",
    "    \n",
    "    # Initiate distance from iterated mapping\n",
    "    diff = 10\n",
    "    \n",
    "    # Keep iterating on Bellman map until\n",
    "    # stopping criterium is satisfied\n",
    "    while diff > ϵ\n",
    "        \n",
    "        # New mapping of the value function\n",
    "        v_new = mccallbellmanmap(v,w,p,c,β)\n",
    "        \n",
    "        # Use supremum norm as measure of distance between \n",
    "        # old vs. new value function map\n",
    "        diff = norm(v-v_new,Inf)\n",
    "        \n",
    "        # Store new value function as original\n",
    "        # before loop potentially restarts\n",
    "        v = v_new \n",
    "    end\n",
    "    \n",
    "    # Return converged value function\n",
    "    return v\n",
    "end"
   ]
  },
  {
   "cell_type": "markdown",
   "metadata": {},
   "source": [
    "We can use our function to solve the McCall model defined by the previously-declared parameters. "
   ]
  },
  {
   "cell_type": "code",
   "execution_count": 50,
   "metadata": {
    "ExecuteTime": {
     "end_time": "2021-04-13T02:04:53.289000-07:00",
     "start_time": "2021-04-13T09:04:53.213Z"
    }
   },
   "outputs": [
    {
     "data": {
      "text/plain": [
       "10-element Array{Float64,1}:\n",
       " 162.91666382521822\n",
       " 162.91666382521822\n",
       " 162.91666382521822\n",
       " 162.91666382521822\n",
       " 162.91666382521822\n",
       " 162.91666382521822\n",
       " 162.91666382521822\n",
       " 162.91666382521822\n",
       " 179.99999999999983\n",
       " 199.99999999999983"
      ]
     },
     "execution_count": 50,
     "metadata": {},
     "output_type": "execute_result"
    }
   ],
   "source": [
    "v = solvemccall(w,p,c,β)"
   ]
  }
 ],
 "metadata": {
  "kernelspec": {
   "display_name": "Julia 1.5.4",
   "language": "julia",
   "name": "julia-1.5"
  },
  "language_info": {
   "file_extension": ".jl",
   "mimetype": "application/julia",
   "name": "julia",
   "version": "1.5.4"
  },
  "latex_envs": {
   "LaTeX_envs_menu_present": true,
   "autoclose": false,
   "autocomplete": true,
   "bibliofile": "biblio.bib",
   "cite_by": "apalike",
   "current_citInitial": 1,
   "eqLabelWithNumbers": true,
   "eqNumInitial": 1,
   "hotkeys": {
    "equation": "Ctrl-E",
    "itemize": "Ctrl-I"
   },
   "labels_anchors": false,
   "latex_user_defs": false,
   "report_style_numbering": false,
   "user_envs_cfg": false
  },
  "toc": {
   "base_numbering": 1,
   "nav_menu": {},
   "number_sections": true,
   "sideBar": true,
   "skip_h1_title": false,
   "title_cell": "Table of Contents",
   "title_sidebar": "Contents",
   "toc_cell": false,
   "toc_position": {},
   "toc_section_display": true,
   "toc_window_display": false
  }
 },
 "nbformat": 4,
 "nbformat_minor": 4
}

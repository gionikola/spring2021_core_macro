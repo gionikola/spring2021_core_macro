{
 "cells": [
  {
   "cell_type": "markdown",
   "metadata": {},
   "source": [
    "# The McCall Search Model"
   ]
  },
  {
   "cell_type": "markdown",
   "metadata": {},
   "source": []
  },
  {
   "cell_type": "code",
   "execution_count": 12,
   "metadata": {
    "ExecuteTime": {
     "end_time": "2021-04-12T23:36:06.751000-07:00",
     "start_time": "2021-04-13T06:36:06.748Z"
    }
   },
   "outputs": [],
   "source": [
    "using LinearAlgebra"
   ]
  },
  {
   "cell_type": "markdown",
   "metadata": {},
   "source": [
    "We must first create a function for the Bellman mapping."
   ]
  },
  {
   "cell_type": "code",
   "execution_count": 30,
   "metadata": {
    "ExecuteTime": {
     "end_time": "2021-04-13T01:33:03.593000-07:00",
     "start_time": "2021-04-13T08:33:03.586Z"
    }
   },
   "outputs": [
    {
     "data": {
      "text/plain": [
       "mccallbellmanmap (generic function with 1 method)"
      ]
     },
     "execution_count": 30,
     "metadata": {},
     "output_type": "execute_result"
    }
   ],
   "source": [
    "\"\"\"\n",
    "    mccallbellmanmap(v,w,π,c,β)\n",
    "\n",
    "Iterates the McCall search model bellman equation for with value function v.\n",
    "Returns the new value function.\n",
    "\n",
    "# Arguments\n",
    "* `v` vector of values for each wage\n",
    "* `w` vector of wages\n",
    "* `p` vector of probabilities for each wage\n",
    "* `c` unemployment benefits\n",
    "* `β` time discount factor\n",
    "\n",
    "\"\"\"\n",
    "\n",
    "function mccallbellmanmap(v, w, p, c, β)\n",
    "    \n",
    "    # create empty vector for value storage\n",
    "    v_out = zeros(length(w))\n",
    "    \n",
    "    # compute value given each wage in vector `w`\n",
    "    for i in 1:length(w)\n",
    "        \n",
    "        # Bellman map: v = max{c + β E(v'), w/(1-β)}\n",
    "        v_out[i] = max(c + β * dot(p,v), w[i]/(1-β)) \n",
    "        \n",
    "    end\n",
    "    \n",
    "    return v_out\n",
    "end"
   ]
  },
  {
   "cell_type": "markdown",
   "metadata": {},
   "source": [
    "Alternatively:"
   ]
  },
  {
   "cell_type": "code",
   "execution_count": 31,
   "metadata": {
    "ExecuteTime": {
     "end_time": "2021-04-13T01:33:05.333000-07:00",
     "start_time": "2021-04-13T08:33:05.326Z"
    },
    "scrolled": true
   },
   "outputs": [
    {
     "data": {
      "text/plain": [
       "mccallbellmanmap_v2"
      ]
     },
     "execution_count": 31,
     "metadata": {},
     "output_type": "execute_result"
    }
   ],
   "source": [
    "\"\"\"\n",
    "    mccallbellmanmap_v2(v,w,π,c,β)\n",
    "\n",
    "Iterates the McCall search model bellman equation for with value function v.\n",
    "Returns the new value function.\n",
    "\n",
    "# Arguments\n",
    "* `v` vector of values for each wage\n",
    "* `w` vector of wages\n",
    "* `p` vector of probabilities for each wage\n",
    "* `c` unemployment benefits\n",
    "* `β` time discount factor\n",
    "\n",
    "\"\"\"\n",
    "function mccallbellmanmap_v2(v, w, p, c, β)\n",
    "    \n",
    "    # compute value of rejecting the offer\n",
    "    v_reject = c + β * dot(p,v) # this is a Float\n",
    "    \n",
    "    # compute value of accepting the wage offer\n",
    "    v_accept = w / (1-β)\n",
    "    \n",
    "    # compute v_reject to v_accept\n",
    "    v_out = max.(v_reject, v_accept)\n",
    "    \n",
    "    return v_out\n",
    "end"
   ]
  },
  {
   "cell_type": "markdown",
   "metadata": {},
   "source": [
    "We use the Bellman map to generate a sequence of vectors of $v(w_t)$ for \"all\" $t$ and all possible realizations of $w$.."
   ]
  },
  {
   "cell_type": "code",
   "execution_count": 33,
   "metadata": {
    "ExecuteTime": {
     "end_time": "2021-04-13T01:33:29.769000-07:00",
     "start_time": "2021-04-13T08:33:29.705Z"
    }
   },
   "outputs": [
    {
     "data": {
      "text/plain": [
       "50×5 Array{Float64,2}:\n",
       "  20.0     65.0    110.0    155.0    200.0\n",
       " 107.5    107.5    110.0    155.0    200.0\n",
       " 132.2    132.2    132.2    155.0    200.0\n",
       " 145.804  145.804  145.804  155.0    200.0\n",
       " 153.558  153.558  153.558  155.0    200.0\n",
       " 157.978  157.978  157.978  157.978  200.0\n",
       " 161.063  161.063  161.063  161.063  200.0\n",
       " 163.408  163.408  163.408  163.408  200.0\n",
       " 165.19   165.19   165.19   165.19   200.0\n",
       " 166.545  166.545  166.545  166.545  200.0\n",
       " 167.574  167.574  167.574  167.574  200.0\n",
       " 168.356  168.356  168.356  168.356  200.0\n",
       " 168.951  168.951  168.951  168.951  200.0\n",
       "   ⋮                                 \n",
       " 170.832  170.832  170.832  170.832  200.0\n",
       " 170.832  170.832  170.832  170.832  200.0\n",
       " 170.832  170.832  170.832  170.832  200.0\n",
       " 170.833  170.833  170.833  170.833  200.0\n",
       " 170.833  170.833  170.833  170.833  200.0\n",
       " 170.833  170.833  170.833  170.833  200.0\n",
       " 170.833  170.833  170.833  170.833  200.0\n",
       " 170.833  170.833  170.833  170.833  200.0\n",
       " 170.833  170.833  170.833  170.833  200.0\n",
       " 170.833  170.833  170.833  170.833  200.0\n",
       " 170.833  170.833  170.833  170.833  200.0\n",
       " 170.833  170.833  170.833  170.833  200.0"
      ]
     },
     "execution_count": 33,
     "metadata": {},
     "output_type": "execute_result"
    }
   ],
   "source": [
    "# Create discrete uniform wage distribution between 1 and 10\n",
    "# where S = # of grid points (evenly-spaced points between 1 and 10)\n",
    "S = 5\n",
    "w = LinRange(1, 10, S) \n",
    "p = ones(S)/S # each p[i] = 1/S ∀i, so that p(w[i]) = p(w[j]) ∀i,j ∈ {1,...,S}\n",
    "\n",
    "# Set model parameters:\n",
    "β = 0.95 # note that lower β causes code to converge faster\n",
    "c = 3 # unemployment wage/benefits\n",
    "\n",
    "# Initiate the value function\n",
    "v0 = zeros(S)\n",
    "\n",
    "# Iterate code J times\n",
    "J = 50\n",
    "\n",
    "# Create and initiate array containing \n",
    "# iterated value function values:\n",
    "V = zeros(J, S)\n",
    "V[1,:] = mccallbellmanmap(v0, w, p, c, β)\n",
    "\n",
    "# Keep applying Bellman map recursively \n",
    "for j in 2:J\n",
    "    V[j,:] = mccallbellmanmap_v2(V[j-1,:], w, p, c, β)\n",
    "end\n",
    "\n",
    "V"
   ]
  },
  {
   "cell_type": "code",
   "execution_count": 34,
   "metadata": {
    "ExecuteTime": {
     "end_time": "2021-04-13T01:33:32.482000-07:00",
     "start_time": "2021-04-13T08:33:32.474Z"
    }
   },
   "outputs": [
    {
     "data": {
      "text/plain": [
       "solvemccall (generic function with 2 methods)"
      ]
     },
     "execution_count": 34,
     "metadata": {},
     "output_type": "execute_result"
    }
   ],
   "source": [
    "\"\"\"\n",
    "    solvemccall(w,π,c,β[,ϵ])\n",
    "\n",
    "Iterates the McCall search model bellman equation until convergence criterion \n",
    "ϵ is reached\n",
    "\n",
    "# Arguments\n",
    "* `w` vector of wages\n",
    "* `p` vector of probabilities for each wage\n",
    "* `c` unemployment benefits\n",
    "* `β` time discount factor\n",
    "* `ϵ' Stopping criteria (default 1e-6)\n",
    "\"\"\"\n",
    "\n",
    "function solvemccall(w,p,c,β,ϵ=1e-6)\n",
    "    #initialize\n",
    "    v = w/(1-β)\n",
    "    diff = 1.\n",
    "    #check if stoping criteria is reached\n",
    "    while diff > ϵ\n",
    "        v_new = mccallbellmanmap(v,w,p,c,β)\n",
    "        #use supremum norm\n",
    "        diff = norm(v-v_new,Inf)\n",
    "        v = v_new #reset v\n",
    "    end\n",
    "    return v\n",
    "end"
   ]
  },
  {
   "cell_type": "code",
   "execution_count": 10,
   "metadata": {
    "ExecuteTime": {
     "end_time": "2021-04-12T23:27:40.741000-07:00",
     "start_time": "2021-04-13T06:27:40.084Z"
    }
   },
   "outputs": [
    {
     "name": "stdout",
     "output_type": "stream",
     "text": [
      "[-7.001465860412281e-7, -7.001465860412281e-7, -7.001465860412281e-7, -7.001465860412281e-7, -7.001465860412281e-7, -7.001465860412281e-7, -7.001465860412281e-7, -7.001465860412281e-7, -7.001465860412281e-7, -7.001465860412281e-7, -7.001465860412281e-7, -7.001465860412281e-7, -7.001465860412281e-7, -7.001465860412281e-7, -7.001465860412281e-7, -7.001465860412281e-7, -7.001465860412281e-7, -7.001465860412281e-7, -7.001465860412281e-7, -7.001465860412281e-7, -7.001465860412281e-7, -7.001465860412281e-7, -7.001465860412281e-7, -7.001465860412281e-7, -7.001465860412281e-7, -7.001465860412281e-7, -7.001465860412281e-7, -7.001465860412281e-7, -7.001465860412281e-7, -7.001465860412281e-7, -7.001465860412281e-7, 0.0, 0.0, 0.0, 0.0, 0.0, 0.0, 0.0, 0.0, 0.0]\n"
     ]
    }
   ],
   "source": [
    "v = solvemccall(w,p,c,β)\n",
    "println(v - mccallbellmanmap(v,w,p,c,β))"
   ]
  }
 ],
 "metadata": {
  "kernelspec": {
   "display_name": "Julia 1.5.4",
   "language": "julia",
   "name": "julia-1.5"
  },
  "language_info": {
   "file_extension": ".jl",
   "mimetype": "application/julia",
   "name": "julia",
   "version": "1.5.4"
  },
  "latex_envs": {
   "LaTeX_envs_menu_present": true,
   "autoclose": false,
   "autocomplete": true,
   "bibliofile": "biblio.bib",
   "cite_by": "apalike",
   "current_citInitial": 1,
   "eqLabelWithNumbers": true,
   "eqNumInitial": 1,
   "hotkeys": {
    "equation": "Ctrl-E",
    "itemize": "Ctrl-I"
   },
   "labels_anchors": false,
   "latex_user_defs": false,
   "report_style_numbering": false,
   "user_envs_cfg": false
  },
  "toc": {
   "base_numbering": 1,
   "nav_menu": {},
   "number_sections": true,
   "sideBar": true,
   "skip_h1_title": false,
   "title_cell": "Table of Contents",
   "title_sidebar": "Contents",
   "toc_cell": false,
   "toc_position": {},
   "toc_section_display": true,
   "toc_window_display": false
  }
 },
 "nbformat": 4,
 "nbformat_minor": 4
}

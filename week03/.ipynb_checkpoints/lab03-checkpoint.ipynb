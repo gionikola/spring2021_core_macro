{
 "cells": [
  {
   "cell_type": "markdown",
   "metadata": {},
   "source": [
    "# The McCall Search Model"
   ]
  },
  {
   "cell_type": "markdown",
   "metadata": {},
   "source": []
  },
  {
   "cell_type": "code",
   "execution_count": 12,
   "metadata": {
    "ExecuteTime": {
     "end_time": "2021-04-12T23:36:06.751000-07:00",
     "start_time": "2021-04-13T06:36:06.748Z"
    }
   },
   "outputs": [],
   "source": [
    "using LinearAlgebra"
   ]
  },
  {
   "cell_type": "markdown",
   "metadata": {},
   "source": [
    "We must first create a function for the Bellman mapping."
   ]
  },
  {
   "cell_type": "code",
   "execution_count": 11,
   "metadata": {
    "ExecuteTime": {
     "end_time": "2021-04-12T23:36:00.340000-07:00",
     "start_time": "2021-04-13T06:36:00.332Z"
    }
   },
   "outputs": [
    {
     "data": {
      "text/plain": [
       "mccallbellmanmap (generic function with 1 method)"
      ]
     },
     "execution_count": 11,
     "metadata": {},
     "output_type": "execute_result"
    }
   ],
   "source": [
    "\"\"\"\n",
    "    mccallbellmanmap(v,w,π,c,β)\n",
    "\n",
    "Iterates the McCall search model bellman equation for with value function v.\n",
    "Returns the new value function.\n",
    "\n",
    "# Arguments\n",
    "* `v` vector of values for each wage\n",
    "* `w` vector of wages\n",
    "* `p` vector of probabilities for each wage\n",
    "* `c` unemployment benefits\n",
    "* `β` time discount factor\n",
    "\n",
    "\"\"\"\n",
    "\n",
    "function mccallbellmanmap(v, w, p, c, β)\n",
    "    \n",
    "    for i in 1:length(w)\n",
    "        v_out[i] = max(c + β * dot(p,v), w[i]/(1-β))\n",
    "    end\n",
    "    \n",
    "    return v_out\n",
    "end"
   ]
  },
  {
   "cell_type": "markdown",
   "metadata": {},
   "source": [
    "Alternatively:"
   ]
  },
  {
   "cell_type": "code",
   "execution_count": null,
   "metadata": {},
   "outputs": [],
   "source": [
    "\"\"\"\n",
    "    mccallbellmanmap_v2(v,w,π,c,β)\n",
    "\n",
    "Iterates the McCall search model bellman equation for with value function v.\n",
    "Returns the new value function.\n",
    "\n",
    "# Arguments\n",
    "* `v` vector of values for each wage\n",
    "* `w` vector of wages\n",
    "* `p` vector of probabilities for each wage\n",
    "* `c` unemployment benefits\n",
    "* `β` time discount factor\n",
    "\n",
    "\"\"\"\n",
    "function mccallbellmanmap_v2(v,  w,p,c,β)\n",
    "    \n",
    "    # compute value of rejecting the offer\n",
    "    v_reject = c + β * dot(p,v) # this is a Float\n",
    "    \n",
    "    # compute value of accepting the wage offer\n",
    "    v_accept = max.(w/(1-β))\n",
    "    \n",
    "    # compute v_reject to v_accept\n",
    "    v_out = max.(v_reject,v_accept)\n",
    "    \n",
    "    return v_out\n",
    "end"
   ]
  },
  {
   "cell_type": "code",
   "execution_count": 8,
   "metadata": {
    "ExecuteTime": {
     "end_time": "2021-04-12T23:26:42.466000-07:00",
     "start_time": "2021-04-13T06:26:42.446Z"
    }
   },
   "outputs": [],
   "source": [
    "S = 40 #number of grid points\n",
    "#uniform wage distribution between 1 10\n",
    "w = LinRange(1,10,S)\n",
    "p = ones(S)/S\n",
    "β = 0.96 #lower β will mean code will converge faster\n",
    "c = 3\n",
    "v0 = zeros(S)\n",
    "\n",
    "J = 50 #iterate code J times\n",
    "V = zeros(J,S)\n",
    "V[1,:] = mccallbellmanmap(v0,w,p,c,β)\n",
    "for j in 2:J\n",
    "    V[j,:] = mccallbellmanmap(V[j-1,:],w,p,c,β)\n",
    "end"
   ]
  },
  {
   "cell_type": "code",
   "execution_count": 9,
   "metadata": {
    "ExecuteTime": {
     "end_time": "2021-04-12T23:26:43.001000-07:00",
     "start_time": "2021-04-13T06:26:43.002Z"
    }
   },
   "outputs": [
    {
     "data": {
      "text/plain": [
       "solvemccall (generic function with 2 methods)"
      ]
     },
     "execution_count": 9,
     "metadata": {},
     "output_type": "execute_result"
    }
   ],
   "source": [
    "\"\"\"\n",
    "    solvemccall(w,π,c,β[,ϵ])\n",
    "\n",
    "Iterates the McCall search model bellman equation until convergence criterion \n",
    "ϵ is reached\n",
    "\n",
    "# Arguments\n",
    "* `w` vector of wages\n",
    "* `p` vector of probabilities for each wage\n",
    "* `c` unemployment benefits\n",
    "* `β` time discount factor\n",
    "* `ϵ' Stopping criteria (default 1e-6)\n",
    "\"\"\"\n",
    "\n",
    "function solvemccall(w,p,c,β,ϵ=1e-6)\n",
    "    #initialize\n",
    "    v = w/(1-β)\n",
    "    diff = 1.\n",
    "    #check if stoping criteria is reached\n",
    "    while diff > ϵ\n",
    "        v_new = mccallbellmanmap(v,w,p,c,β)\n",
    "        #use supremum norm\n",
    "        diff = norm(v-v_new,Inf)\n",
    "        v = v_new #reset v\n",
    "    end\n",
    "    return v\n",
    "end"
   ]
  },
  {
   "cell_type": "code",
   "execution_count": 10,
   "metadata": {
    "ExecuteTime": {
     "end_time": "2021-04-12T23:27:40.741000-07:00",
     "start_time": "2021-04-13T06:27:40.084Z"
    }
   },
   "outputs": [
    {
     "name": "stdout",
     "output_type": "stream",
     "text": [
      "[-7.001465860412281e-7, -7.001465860412281e-7, -7.001465860412281e-7, -7.001465860412281e-7, -7.001465860412281e-7, -7.001465860412281e-7, -7.001465860412281e-7, -7.001465860412281e-7, -7.001465860412281e-7, -7.001465860412281e-7, -7.001465860412281e-7, -7.001465860412281e-7, -7.001465860412281e-7, -7.001465860412281e-7, -7.001465860412281e-7, -7.001465860412281e-7, -7.001465860412281e-7, -7.001465860412281e-7, -7.001465860412281e-7, -7.001465860412281e-7, -7.001465860412281e-7, -7.001465860412281e-7, -7.001465860412281e-7, -7.001465860412281e-7, -7.001465860412281e-7, -7.001465860412281e-7, -7.001465860412281e-7, -7.001465860412281e-7, -7.001465860412281e-7, -7.001465860412281e-7, -7.001465860412281e-7, 0.0, 0.0, 0.0, 0.0, 0.0, 0.0, 0.0, 0.0, 0.0]\n"
     ]
    }
   ],
   "source": [
    "v = solvemccall(w,p,c,β)\n",
    "println(v - mccallbellmanmap(v,w,p,c,β))"
   ]
  }
 ],
 "metadata": {
  "kernelspec": {
   "display_name": "Julia 1.5.4",
   "language": "julia",
   "name": "julia-1.5"
  },
  "language_info": {
   "file_extension": ".jl",
   "mimetype": "application/julia",
   "name": "julia",
   "version": "1.5.4"
  },
  "latex_envs": {
   "LaTeX_envs_menu_present": true,
   "autoclose": false,
   "autocomplete": true,
   "bibliofile": "biblio.bib",
   "cite_by": "apalike",
   "current_citInitial": 1,
   "eqLabelWithNumbers": true,
   "eqNumInitial": 1,
   "hotkeys": {
    "equation": "Ctrl-E",
    "itemize": "Ctrl-I"
   },
   "labels_anchors": false,
   "latex_user_defs": false,
   "report_style_numbering": false,
   "user_envs_cfg": false
  },
  "toc": {
   "base_numbering": 1,
   "nav_menu": {},
   "number_sections": true,
   "sideBar": true,
   "skip_h1_title": false,
   "title_cell": "Table of Contents",
   "title_sidebar": "Contents",
   "toc_cell": false,
   "toc_position": {},
   "toc_section_display": true,
   "toc_window_display": false
  }
 },
 "nbformat": 4,
 "nbformat_minor": 4
}

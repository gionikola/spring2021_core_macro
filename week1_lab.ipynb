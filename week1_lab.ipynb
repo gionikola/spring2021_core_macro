{
 "cells": [
  {
   "cell_type": "markdown",
   "id": "engaging-nigeria",
   "metadata": {},
   "source": [
    "This is a test."
   ]
  },
  {
   "cell_type": "code",
   "execution_count": null,
   "id": "concrete-protocol",
   "metadata": {},
   "outputs": [],
   "source": []
  }
 ],
 "metadata": {
  "kernelspec": {
   "display_name": "Julia 1.5.4",
   "language": "julia",
   "name": "julia-1.5"
  },
  "language_info": {
   "file_extension": ".jl",
   "mimetype": "application/julia",
   "name": "julia",
   "version": "1.5.4"
  }
 },
 "nbformat": 4,
 "nbformat_minor": 5
}

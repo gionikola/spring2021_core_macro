{
 "cells": [
  {
   "cell_type": "markdown",
   "metadata": {},
   "source": [
    "# Introduction to Julia"
   ]
  },
  {
   "cell_type": "markdown",
   "metadata": {},
   "source": [
    "Contents:\n",
    "\n",
    "- [Introduction to Julia](#Introduction-to-Julia)  \n",
    "  - [GitHub](#GitHub)  \n",
    "  - [Work Environment](#Work-Environment)  \n",
    "  - [Jupyter Basics](#Jupyter-Basics)  \n",
    "  - [Julia Basics](#Julia-Basics)  \n",
    "  - [Linear Algebra](#Linear-Algebra)  \n",
    "\n",
    "\n",
    "In this lab we will: \n",
    "\n",
    "(1) Load the lab GitHub repository locally;\n",
    "\n",
    "(2) Set up our work environment by installing Julia and Jupyter; \n",
    "\n",
    "(3) Cover Jupyter basics; \n",
    "\n",
    "(4) Go over some Julia basics; \n",
    "\n",
    "(5) Practice simple linear algebra applications.\n",
    "\n",
    "The goal is to set up a stable work environment for the rest of the quarter while getting a taste of the Julia language.\n",
    "\n",
    "Today's material borrows quite a lot from [Quantitative Economics with Julia by QuantEcon](https://julia.quantecon.org/), so I encourage everyone to check it out for more details."
   ]
  },
  {
   "cell_type": "markdown",
   "metadata": {},
   "source": [
    "---\n",
    "## GitHub"
   ]
  },
  {
   "cell_type": "markdown",
   "metadata": {},
   "source": [
    "As you might have already noticed, all lab materials for this quarter live on GitHub. I've done so to allow for easy version control and replicability.\n",
    "\n",
    "Here I will guide you through the bare minimum of the necessary GitHub functionality required to maintain up-to-date access to lab materials. \n",
    "\n",
    "Go to the [GitHub website](https://github.com/) to create an account and register for a [student/educator discount](https://education.github.com/pack/offers) (this last part isn't necessary, but can't hurt).\n",
    "\n",
    "After finishing the above step, download and install [GitHub Desktop](https://desktop.github.com/). Open it and log into your GitHub account locally.\n",
    "\n",
    "In the GitHub Desktop interface, go to `File > Clone Repository`:\n",
    "\n",
    "![](images/github_clone_repo.png)\n",
    "\n",
    "The following box should pop up, in which we need to navigate to the `URL` tab:\n",
    "\n",
    "![](images/github_clone_url.png)\n",
    "\n",
    "Paste `https://github.com/gionikola/spring2021_core_macro_lab.git` into the URL, and then choose a folder in which you would like to keep the lab materials.\n",
    "\n",
    "Once this is done, make sure that the `Current repository` is set to `spring2021_core_macro_lab`:\n",
    "\n",
    "![](images/github_current_repo.png)\n",
    "\n",
    "Now we can automatically keep all lab documents up-to-date by periodically opening up GitHub Desktop and going to `Repository > Pull`:\n",
    "\n",
    "![](images/github_pull.png)\n"
   ]
  },
  {
   "cell_type": "markdown",
   "metadata": {},
   "source": [
    "---\n",
    "## Work Environment"
   ]
  },
  {
   "cell_type": "markdown",
   "metadata": {},
   "source": [
    "To set up the necessary work environment for these labs, we need to do the following three things:\n",
    "\n",
    "- Download and install Julia;\n",
    "- Download and install Jupyter;\n",
    "- \"Connect\" Jupyter with Julia.\n",
    "\n",
    "We will first need to download and install the current stable version of Julia by visiting [this page](https://julialang.org/downloads/) and following the instructions for the appropriate operating system. \n",
    "\n",
    "Then we will need to visit [this page](https://www.anaconda.com/products/individual) to download and install Anaconda, which essentially a package management tool that includes Jupyter. To learn more about Anaconda, read the [Wikipedia page](https://en.wikipedia.org/wiki/Anaconda_(Python_distribution)). \n",
    "\n",
    "Once both Julia and Anaconda are installed, we can perform the final step of linking Jupyter with Julia. Open Julia -- we should see the following window pop up:\n",
    "\n",
    "![](images/repl.png)\n",
    "\n",
    "This is the Julia REPL (Read-Evaluate-Print Loop). \n",
    "\n",
    "Now type `]` to enter package mode, then type `add IJulia`.\n",
    "\n",
    "![](images/repl_package_mode.png)\n",
    "\n",
    "We then click `Enter` on the keyboard to run the command. This will install the IJulia kernel, which should automatically link Julia with Jupyter. After the installation is complete, we click `Backspace` on the keyboard to leave package mode.\n",
    "\n",
    "We can now type `using IJulia; notebook()` into the REPL to launch Jupyter Notebook. If this running this command leads to an error or the prompt `install Jupyter via Conda, y/n? [y]:`, then we can alternatively launch Jupyter Notebook by finding where it lives on our machine and/or typing `jupyter notebook` into the Anaconda Prompt. In any case, we should see something similar to the following tab open in our web browser (but in a different directory):\n",
    "\n",
    "![](images/jupyter_repository.png)\n",
    "\n",
    "We can now manually navigate to our preferred directory (folder) and create new notebooks, along with other types of documents. When we open a document, it will open as a new tab in our web browser.\n",
    "\n",
    "At this point we are all set-up and ready to code!"
   ]
  },
  {
   "cell_type": "markdown",
   "metadata": {},
   "source": [
    "---\n",
    "## Jupyter Basics"
   ]
  },
  {
   "cell_type": "markdown",
   "metadata": {},
   "source": [
    "The keyboard shortcuts window says it best: \"The Jupyter Notebook has two different keyboard input modes. Edit mode allows you to type code or text into a cell and is indicated by a green cell border. Command mode binds the keyboard to notebook level commands and is indicated by a grey cell border with a blue left margin.\"\n",
    "\n",
    "At any given point in time in the Jupyter interface we are either in edit mode or command mode. We can tell which mode we are in using two indicators: (1) the color of the outline around a selected cell, and (2) the presence/absence of a pencil symbol next to the active kernel name at the upper-right corner of the notebook.\n",
    "\n",
    "If we are in edit mode, then we should see the following:\n",
    "\n",
    "![](images/jupyter_edit_mode.png)\n",
    "\n",
    "Otherwise we should see the following:\n",
    "\n",
    "![](images/jupyter_cmd_mode.png)\n",
    "\n",
    "The following is a list of some very useful shortcuts:\n",
    "\n",
    "- `Esc` triggers command mode if currently in edit mode;\n",
    "- `Enter` triggers edit mode if currently in command mode;\n",
    "- `Ctrl-Enter` runs selected cell;\n",
    "- `Shift-Enter` runs selected cell and selects the next cell below;\n",
    "- `Alt-Enter` runs selected cell and creates a new cell below;\n",
    "- `D, D` deletes selected cell.\n",
    "\n",
    "Check out more shortcuts by going into command mode and clicking the `H` key.\n",
    "\n",
    "There are three types of cells (1) code, (2) Markdown, and (3) raw. We will mostly be interested in code and Markdown cells, so we disregard the final category. We can tell what type of cell we are dealing with by either (1) looking up at our toolbar \n",
    "\n",
    "![](images/jupyter_toolbar.png)\n",
    "\n",
    "or by (2) looking to the left of the cell to check whether there is a `In [ ]:` present -- if so, then we have ourselves a code cell, otherwise it is a Markdown cell.\n",
    "\n",
    "A couple more useful shortcuts:\n",
    "\n",
    "- `M` changes a selected cell type to Markdown if in command mode;\n",
    "- `Y` changes a selected cell type to code if in command mode.\n",
    "\n",
    "Jupyter is simple and intuitive enough that the above should be enough to get us going."
   ]
  },
  {
   "cell_type": "markdown",
   "metadata": {},
   "source": [
    "---\n",
    "## Julia Basics"
   ]
  },
  {
   "cell_type": "markdown",
   "metadata": {},
   "source": [
    "### Packages"
   ]
  },
  {
   "cell_type": "markdown",
   "metadata": {},
   "source": [
    "Let us start by loading Julia packages."
   ]
  },
  {
   "cell_type": "code",
   "execution_count": 5,
   "metadata": {},
   "outputs": [],
   "source": [
    "using LinearAlgebra # Load LinearAlgebra package\n",
    "using Statistics # Load Statistics package"
   ]
  },
  {
   "cell_type": "markdown",
   "metadata": {},
   "source": [
    "Suppose we do not have the `LinearAlgebra` package available in our environment. \n",
    "\n",
    "In this case, loading LinearAlgebra with `using` will not work, since we first need to install the package using the following code: "
   ]
  },
  {
   "cell_type": "code",
   "execution_count": 8,
   "metadata": {
    "collapsed": true
   },
   "outputs": [
    {
     "name": "stderr",
     "output_type": "stream",
     "text": [
      "\u001b[32m\u001b[1m  Resolving\u001b[22m\u001b[39m package versions...\n",
      "\u001b[32m\u001b[1mNo Changes\u001b[22m\u001b[39m to `C:\\Users\\gioni\\Project.toml`\n",
      "\u001b[32m\u001b[1mNo Changes\u001b[22m\u001b[39m to `C:\\Users\\gioni\\Manifest.toml`\n"
     ]
    }
   ],
   "source": [
    "using Pkg # Load `Pkg`, which can be used to install packages\n",
    "Pkg.add(\"LinearAlgebra\") # Install `LinearAlgebra` package"
   ]
  },
  {
   "cell_type": "markdown",
   "metadata": {},
   "source": [
    "We could have alternatively opened the REPL, entered package mode by clicking `]`, and ran `add LinearAlgebra`.\n",
    "\n",
    "![](images/repl_linearalgebra.png)\n"
   ]
  },
  {
   "cell_type": "markdown",
   "metadata": {},
   "source": [
    "### Simple Data Types"
   ]
  },
  {
   "cell_type": "markdown",
   "metadata": {},
   "source": [
    "Now that basic package management is out of the way, we can start talking about data types."
   ]
  },
  {
   "cell_type": "markdown",
   "metadata": {},
   "source": [
    "Suppose we have randomly-generated variables $x$ and $y$, and would like to check whether $x > y$. Let's call this condition A. We can store the status of condition A as a Boolean variable $z$. "
   ]
  },
  {
   "cell_type": "code",
   "execution_count": 45,
   "metadata": {},
   "outputs": [
    {
     "data": {
      "text/plain": [
       "\"x = -0.41855672790727266 and y = 0.20941356839377148, therefore condition A is false.\""
      ]
     },
     "execution_count": 45,
     "metadata": {},
     "output_type": "execute_result"
    }
   ],
   "source": [
    "x = randn() # Generate random value `x`\n",
    "y = randn() # Generate random value `y`\n",
    "z = x > y   # Store status of condition A as variable `z`\n",
    "message = \"x = $(x) and y = $(y), \" * \"therefore condition A is $(z).\"\n",
    "message"
   ]
  },
  {
   "cell_type": "markdown",
   "metadata": {},
   "source": [
    "Notice that we used the `randn()` function to generate a random $x,y \\in \\mathbb{R}$. \n",
    "Furthermore, we generated a string called `message` by concatenating two separate strings using `*`.\n",
    "We print the values of variable `x`, `y`, and `z` in `message` using `$`.  "
   ]
  },
  {
   "cell_type": "markdown",
   "metadata": {},
   "source": [
    "Let's confirm that `message` is indeed a string:"
   ]
  },
  {
   "cell_type": "code",
   "execution_count": 46,
   "metadata": {},
   "outputs": [
    {
     "data": {
      "text/plain": [
       "String"
      ]
     },
     "execution_count": 46,
     "metadata": {},
     "output_type": "execute_result"
    }
   ],
   "source": [
    "typeof(message)"
   ]
  },
  {
   "cell_type": "markdown",
   "metadata": {},
   "source": [
    "Let's also check the data type of `x` (and equivalently `y`):"
   ]
  },
  {
   "cell_type": "code",
   "execution_count": 47,
   "metadata": {},
   "outputs": [
    {
     "data": {
      "text/plain": [
       "Float64"
      ]
     },
     "execution_count": 47,
     "metadata": {},
     "output_type": "execute_result"
    }
   ],
   "source": [
    "typeof(x)"
   ]
  },
  {
   "cell_type": "markdown",
   "metadata": {},
   "source": [
    "Now let's check the data type of `z`:"
   ]
  },
  {
   "cell_type": "code",
   "execution_count": 48,
   "metadata": {},
   "outputs": [
    {
     "data": {
      "text/plain": [
       "Bool"
      ]
     },
     "execution_count": 48,
     "metadata": {},
     "output_type": "execute_result"
    }
   ],
   "source": [
    "typeof(z)"
   ]
  },
  {
   "cell_type": "markdown",
   "metadata": {},
   "source": [
    "So far we've seen strings, floats, and booleans, but we also have integers:"
   ]
  },
  {
   "cell_type": "code",
   "execution_count": 49,
   "metadata": {},
   "outputs": [
    {
     "data": {
      "text/plain": [
       "Int64"
      ]
     },
     "execution_count": 49,
     "metadata": {},
     "output_type": "execute_result"
    }
   ],
   "source": [
    "y = 5\n",
    "typeof(y)"
   ]
  },
  {
   "cell_type": "markdown",
   "metadata": {},
   "source": [
    "Since we have a float `x` and an integer `y`, let's test out some basic arithmetic operations with them:"
   ]
  },
  {
   "cell_type": "code",
   "execution_count": 51,
   "metadata": {},
   "outputs": [
    {
     "name": "stdout",
     "output_type": "stream",
     "text": [
      "x + y = 4.581443272092727\n",
      "x - y = -5.418556727907273\n",
      "x * y = -2.0927836395363633\n",
      "x / y = -0.08371134558145453\n",
      "x - -y = 4.581443272092727\n",
      "3x - 4y = -21.25567018372182\n",
      "x ^ -1 = -2.3891624081635614\n"
     ]
    }
   ],
   "source": [
    "@show x + y\n",
    "@show x - y\n",
    "@show x * y\n",
    "@show x / y\n",
    "@show x - (-y)\n",
    "@show 3x - 4y\n",
    "@show x^(-1);"
   ]
  },
  {
   "cell_type": "markdown",
   "metadata": {},
   "source": [
    "Notice that we used the `@show` macro the print out equations.\n",
    "Furthermore, we ended the last line of the cell with a `;` to supress the redundant printing of the output of `x^(-1)`. \n",
    "See what happens when you construct a similar cell without `;` at the end."
   ]
  },
  {
   "cell_type": "markdown",
   "metadata": {},
   "source": [
    "But did you know we can also apply arithmetic operations to booleans?"
   ]
  },
  {
   "cell_type": "code",
   "execution_count": 53,
   "metadata": {},
   "outputs": [
    {
     "name": "stdout",
     "output_type": "stream",
     "text": [
      "z1 + 0 = 1\n",
      "z2 + 0 = 0\n",
      "z1 + z2 = 1\n",
      "x + z1 = 0.5814432720927274\n",
      "x * z1 = -0.41855672790727266\n"
     ]
    }
   ],
   "source": [
    "z1 = true # define a true boolean \n",
    "z2 = false # define a false boolean\n",
    "@show z1 + 0\n",
    "@show z2 + 0\n",
    "@show z1 + z2 \n",
    "@show x + z1\n",
    "@show x * z1;"
   ]
  },
  {
   "cell_type": "markdown",
   "metadata": {},
   "source": [
    "Let's give `x` and `y` imaginary components, and play around with the resulting imaginary numbers."
   ]
  },
  {
   "cell_type": "code",
   "execution_count": 60,
   "metadata": {},
   "outputs": [
    {
     "name": "stdout",
     "output_type": "stream",
     "text": [
      "x = x + 3im = -0.41855672790727266 + 9.0im\n",
      "y = y + 2im = 5 + 6im\n",
      "x + y = 4.581443272092727 + 15.0im\n",
      "x - y = -5.418556727907273 + 3.0im\n",
      "x * y = -56.092783639536364 + 42.48865963255636im\n",
      "x / y = 0.8509379731223545 + 0.7788744322531742im\n",
      "x - -y = 4.581443272092727 + 15.0im\n",
      "3x - 4y = -21.25567018372182 + 3.0im\n",
      "x ^ -1 = -0.005156214962679721 - 0.1108713146152038im\n"
     ]
    }
   ],
   "source": [
    "@show x = x + 3im\n",
    "@show y = y + 2im\n",
    "@show x + y\n",
    "@show x - y\n",
    "@show x * y\n",
    "@show x / y\n",
    "@show x - (-y)\n",
    "@show 3x - 4y\n",
    "@show x^(-1);"
   ]
  },
  {
   "cell_type": "markdown",
   "metadata": {},
   "source": [
    "### Arrays and Tuples"
   ]
  },
  {
   "cell_type": "markdown",
   "metadata": {},
   "source": [
    "We can also collect data into arrays."
   ]
  },
  {
   "cell_type": "code",
   "execution_count": 57,
   "metadata": {},
   "outputs": [
    {
     "data": {
      "text/plain": [
       "3-element Array{Int64,1}:\n",
       " 10\n",
       " 20\n",
       " 30"
      ]
     },
     "execution_count": 57,
     "metadata": {},
     "output_type": "execute_result"
    }
   ],
   "source": [
    "a = [10, 20, 30]"
   ]
  },
  {
   "cell_type": "code",
   "execution_count": 59,
   "metadata": {},
   "outputs": [
    {
     "data": {
      "text/plain": [
       "3-element Array{Float64,1}:\n",
       " 1.0\n",
       " 2.0\n",
       " 3.0"
      ]
     },
     "execution_count": 59,
     "metadata": {},
     "output_type": "execute_result"
    }
   ],
   "source": [
    "a = [1.0, 2.0, 3.0]"
   ]
  },
  {
   "cell_type": "markdown",
   "metadata": {},
   "source": [
    "An array "
   ]
  },
  {
   "cell_type": "markdown",
   "metadata": {},
   "source": [
    "---\n",
    "## Linear Algebra"
   ]
  },
  {
   "cell_type": "markdown",
   "metadata": {},
   "source": []
  },
  {
   "cell_type": "markdown",
   "metadata": {},
   "source": [
    "---"
   ]
  }
 ],
 "metadata": {
  "kernelspec": {
   "display_name": "Julia 1.5.4",
   "language": "julia",
   "name": "julia-1.5"
  },
  "language_info": {
   "file_extension": ".jl",
   "mimetype": "application/julia",
   "name": "julia",
   "version": "1.5.4"
  },
  "toc": {
   "base_numbering": 1,
   "nav_menu": {
    "height": "171.989px",
    "width": "198.991px"
   },
   "number_sections": true,
   "sideBar": true,
   "skip_h1_title": false,
   "title_cell": "Table of Contents",
   "title_sidebar": "Contents",
   "toc_cell": false,
   "toc_position": {},
   "toc_section_display": true,
   "toc_window_display": false
  }
 },
 "nbformat": 4,
 "nbformat_minor": 5
}

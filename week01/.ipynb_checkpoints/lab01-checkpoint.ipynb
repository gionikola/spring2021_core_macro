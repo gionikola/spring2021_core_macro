{
 "cells": [
  {
   "cell_type": "markdown",
   "metadata": {},
   "source": [
    "# Lab -- Week One"
   ]
  },
  {
   "cell_type": "markdown",
   "metadata": {},
   "source": [
    "In this lab we will: \n",
    "\n",
    "(1) Load the lab GitHub repository locally;\n",
    "\n",
    "(2) Set up our work environment by installing Julia and Jupyter; \n",
    "\n",
    "(3) Cover Jupyter basics; \n",
    "\n",
    "(4) Go over some Julia basics; \n",
    "\n",
    "(5) Practice simple optimization application; \n",
    "\n",
    "(6) Practice simple linear algebra applications.\n",
    "\n",
    "The goal is to set up a stable work environment for the rest of the quarter while getting a taste of the Julia language.\n",
    "\n",
    "Today's material is heavily based on select parts of [Quantitative Economics with Julia by QuantEcon](https://julia.quantecon.org/).\n",
    "\n"
   ]
  },
  {
   "cell_type": "markdown",
   "metadata": {},
   "source": [
    "---\n",
    "## GitHub"
   ]
  },
  {
   "cell_type": "markdown",
   "metadata": {},
   "source": [
    "As you might have already noticed, all lab materials for this quarter live on GitHub. I've done so to allow for easy version control and replicability.\n",
    "\n",
    "Here I will guide you through the bare minimum of the necessary GitHub functionality required to maintain up-to-date access to lab materials. \n",
    "\n",
    "Go to the [GitHub website](https://github.com/) to create an account and register for a [student/educator discount](https://education.github.com/pack/offers) (this last part isn't necessary, but can't hurt).\n",
    "\n",
    "After finishing the above step, download and install [GitHub Desktop](https://desktop.github.com/). Open it and log into your GitHub account locally.\n",
    "\n",
    "In the GitHub Desktop interface, go to `File > Clone Repository`:\n",
    "\n",
    "![](images/github_clone_repo.png)\n",
    "\n",
    "The following box should pop up, in which we need to navigate to the `URL` tab:\n",
    "\n",
    "![](images/github_clone_url.png)\n",
    "\n",
    "Paste `https://github.com/gionikola/spring2021_core_macro_lab.git` into the URL, and then choose a folder in which you would like to keep the lab materials.\n",
    "\n",
    "Once this is done, make sure that the `Current repository` is set to `spring2021_core_macro_lab`:\n",
    "\n",
    "![](images/github_current_repo.png)\n",
    "\n",
    "Now we can automatically keep all lab documents up-to-date by periodically opening up GitHub Desktop and going to `Repository > Pull`:\n",
    "\n",
    "![](images/github_pull.png)\n"
   ]
  },
  {
   "cell_type": "markdown",
   "metadata": {},
   "source": [
    "---\n",
    "## Basic Setup"
   ]
  },
  {
   "cell_type": "markdown",
   "metadata": {},
   "source": [
    "To set up the necessary work environment for these labs, we need to do the following three things:\n",
    "\n",
    "- Download and install Julia;\n",
    "- Download and install Jupyter;\n",
    "- \"Connect\" Jupyter with Julia.\n",
    "\n",
    "We will first need to download and install the current stable version of Julia by visiting [this page](https://julialang.org/downloads/) and following the instructions for the appropriate operating system. \n",
    "\n",
    "Then we will need to visit [this page](https://www.anaconda.com/products/individual) to download and install Anaconda, which essentially a package management tool that includes Jupyter. To learn more about Anaconda, read the [Wikipedia page](https://en.wikipedia.org/wiki/Anaconda_(Python_distribution)). \n",
    "\n",
    "Once both Julia and Anaconda are installed, we can perform the final step of linking Jupyter with Julia. Open Julia -- we should see the following window pop up:\n",
    "\n",
    "![](images/repl.png)\n",
    "\n",
    "This is the Julia REPL (Read-Evaluate-Print Loop). \n",
    "\n",
    "Now type `]` to enter package mode, then type `add IJulia`.\n",
    "\n",
    "![](images/repl_package_mode.png)\n",
    "\n",
    "We then click `Enter` on the keyboard to run the command. This will install the IJulia kernel, which should automatically link Julia with Jupyter. After the installation is complete, we click `Backspace` on the keyboard to leave package mode.\n",
    "\n",
    "We can now type `using IJulia; notebook()` into the REPL to launch Jupyter Notebook. If this running this command leads to an error or the prompt `install Jupyter via Conda, y/n? [y]:`, then we can alternatively launch Jupyter Notebook by finding where it lives on our machine and/or typing `jupyter notebook` into the Anaconda Prompt. In any case, we should see something similar to the following tab open in our web browser (but in a different directory):\n",
    "\n",
    "![](images/jupyter_repository.png)\n",
    "\n",
    "We can now manually navigate to our preferred directory (folder) and create new notebooks, along with other types of documents. When we open a document, it will open as a new tab in our web browser.\n",
    "\n",
    "At this point we are all set-up and ready to code!"
   ]
  },
  {
   "cell_type": "markdown",
   "metadata": {},
   "source": [
    "---\n",
    "## Jupyter Basics"
   ]
  },
  {
   "cell_type": "markdown",
   "metadata": {},
   "source": [
    "The keyboard shortcuts window says it best: \"The Jupyter Notebook has two different keyboard input modes. Edit mode allows you to type code or text into a cell and is indicated by a green cell border. Command mode binds the keyboard to notebook level commands and is indicated by a grey cell border with a blue left margin.\"\n",
    "\n",
    "At any given point in time in the Jupyter interface we are either in edit mode or command mode. We can tell which mode we are in using two indicators: (1) the color of the outline around a selected cell, and (2) the presence/absence of a pencil symbol next to the active kernel name at the upper-right corner of the notebook.\n",
    "\n",
    "If we are in edit mode, then we should see the following:\n",
    "\n",
    "![](images/jupyter_edit_mode.png)\n",
    "\n",
    "Otherwise we should see the following:\n",
    "\n",
    "![](images/jupyter_cmd_mode.png)\n",
    "\n",
    "The following is a list of some very useful shortcuts:\n",
    "\n",
    "- `Esc` triggers command mode if currently in edit mode;\n",
    "- `Enter` triggers edit mode if currently in command mode;\n",
    "- `Ctrl-Enter` runs selected cell;\n",
    "- `Shift-Enter` runs selected cell and selects the next cell below;\n",
    "- `Alt-Enter` runs selected cell and creates a new cell below;\n",
    "- `D, D` deletes selected cell.\n",
    "\n",
    "Check out more shortcuts by going into command mode and clicking the `H` key.\n",
    "\n",
    "There are three types of cells (1) code, (2) Markdown, and (3) raw. We will mostly be interested in code and Markdown cells, so we disregard the final category. We can tell what type of cell we are dealing with by either (1) looking up at our toolbar \n",
    "\n",
    "![](images/jupyter_toolbar.png)\n",
    "\n",
    "or by (2) looking to the left of the cell to check whether there is a `In [ ]:` present -- if so, then we have ourselves a code cell, otherwise it is a Markdown cell.\n",
    "\n",
    "A couple more useful shortcuts:\n",
    "\n",
    "- `M` changes a selected cell type to Markdown if in command mode;\n",
    "- `Y` changes a selected cell type to code if in command mode.\n",
    "\n",
    "Jupyter is simple and intuitive enough that the above should be enough to get us going."
   ]
  },
  {
   "cell_type": "markdown",
   "metadata": {},
   "source": [
    "---\n",
    "## Julia Basics"
   ]
  },
  {
   "cell_type": "markdown",
   "metadata": {},
   "source": []
  },
  {
   "cell_type": "markdown",
   "metadata": {},
   "source": [
    "---\n",
    "## Optimization"
   ]
  },
  {
   "cell_type": "markdown",
   "metadata": {},
   "source": []
  },
  {
   "cell_type": "markdown",
   "metadata": {},
   "source": [
    "---\n",
    "## Linear Algebra"
   ]
  },
  {
   "cell_type": "markdown",
   "metadata": {},
   "source": []
  },
  {
   "cell_type": "markdown",
   "metadata": {},
   "source": [
    "---"
   ]
  }
 ],
 "metadata": {
  "kernelspec": {
   "display_name": "Julia 1.5.4",
   "language": "julia",
   "name": "julia-1.5"
  },
  "language_info": {
   "file_extension": ".jl",
   "mimetype": "application/julia",
   "name": "julia",
   "version": "1.5.4"
  },
  "toc": {
   "base_numbering": 1,
   "nav_menu": {
    "height": "171.989px",
    "width": "198.991px"
   },
   "number_sections": true,
   "sideBar": true,
   "skip_h1_title": false,
   "title_cell": "Table of Contents",
   "title_sidebar": "Contents",
   "toc_cell": false,
   "toc_position": {},
   "toc_section_display": true,
   "toc_window_display": false
  }
 },
 "nbformat": 4,
 "nbformat_minor": 5
}

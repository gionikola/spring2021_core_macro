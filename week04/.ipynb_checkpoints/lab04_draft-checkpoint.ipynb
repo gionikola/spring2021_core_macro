{
 "cells": [
  {
   "cell_type": "markdown",
   "metadata": {},
   "source": [
    "### Eq. (8.2.2)\n",
    "\n",
    "A feasible allocation satisfies \n",
    "\n",
    "\\begin{align*}\n",
    "\\sum_{i} c_t^i(s^t) \\leq \\sum_{i} y_t^i(s^t)\n",
    "\\end{align*}\n",
    "\n",
    "for all $t$ and for all $s^t$."
   ]
  },
  {
   "cell_type": "markdown",
   "metadata": {},
   "source": [
    "### Eq. (8.5.1)\n",
    "\n",
    "The consumer's budget constraint is \n",
    "\n",
    "\\begin{align*}\n",
    "\\sum_{t=0}^\\infty \\sum_{s^t} q_t^0(s^t)c_t^i(s^t) \\leq \\sum_{t=0}^\\infty \\sum_{s^t} q_t^0(s^t) y_t^i(s^t) \n",
    "\\end{align*}"
   ]
  },
  {
   "cell_type": "markdown",
   "metadata": {},
   "source": [
    "### Eq. (8.5.4)\n",
    "\n",
    "\\begin{align*}\n",
    "\\beta^t u_i' (c_t^i(s^t)) \\pi_t(s^t) = \\mu_i q_t^0(s^t)\n",
    "\\end{align*}"
   ]
  },
  {
   "cell_type": "markdown",
   "metadata": {},
   "source": [
    "### Eq. (8.5.5)\n",
    "\n",
    "\\begin{align*}\n",
    "\\frac{u_i'(c_t^i(s^t))}{u_j'(c_t^j(s^t))} = \\frac{\\mu_i}{\\mu_j}\n",
    "\\end{align*}\n",
    "\n",
    "for all pairs of $(i,j)$."
   ]
  },
  {
   "cell_type": "markdown",
   "metadata": {},
   "source": [
    "### Eq. (8.5.6)\n",
    "\n",
    "An equilibrium allocation solves equations (8.2.2), (8.5.1), and (8.5.5).\n",
    "Note that equation (8.5.5) implies that \n",
    "\n",
    "\\begin{align*}\n",
    "c_t^i(s^t) = u_i'^{-1} \\left\\{ u_1' (c_t^1(s^t)) \\frac{\\mu_i}{\\mu_1} \\right\\} \n",
    "\\end{align*}"
   ]
  },
  {
   "cell_type": "markdown",
   "metadata": {},
   "source": [
    "### Eq. (8.5.7)\n",
    "\n",
    "Substitution (8.5.6) into Eq. (8.2.2) at equality gives \n",
    "\n",
    "\\begin{align*}\n",
    "\\sum_i u_i'^{-1} \\left\\{ u_1' (c_t^1(s^t)) \\frac{\\mu_i}{\\mu_1} \\right\\}  = \\sum_i y_t^i(s^t) \n",
    "\\end{align*}"
   ]
  },
  {
   "cell_type": "markdown",
   "metadata": {},
   "source": [
    "## Negishi Algorithm\n",
    "\n",
    "To compute an equilibrium, we have to determine ratios of the Lagrange multipliers, $\\mu_i/\\mu_1$, $i = 1,\\ldots,I$, that appear in equations (8.5.6) and (8.5.7).\n",
    "\n",
    "The following **Negishi algorithm** accomplishes this:\n",
    "\n",
    "(1) Fix any positive value for one $\\mu_i$, say $\\mu_1$, throughout the algorithm.\n",
    "Guess positive values for the remaining $\\mu_i$'s.\n",
    "Then solve equations (8.5.6) and (8.5.7) for a candidate consumption allocation $c^i$, $i = 1,\\ldots,I$.\n",
    "\n",
    "(2) Use (8.5.4) for any consumer $i$ to solve for the price system $q_t^0(s^t)$.\n",
    "\n",
    "(3) For $i = 1,\\ldots,I$, check the budget constraint (8.5.1).\n",
    "For those $i$'s for which the cost of consumption exceeds the value of their endowment, raise $\\mu_i$, while for those $i$'s for which the reverse inequality holds, lower $\\mu_i$.\n",
    "\n",
    "(4) Iterate to convergence on steps 1-3."
   ]
  },
  {
   "cell_type": "markdown",
   "metadata": {},
   "source": [
    "## Code "
   ]
  },
  {
   "cell_type": "markdown",
   "metadata": {},
   "source": [
    "Load all necessary packages."
   ]
  },
  {
   "cell_type": "code",
   "execution_count": 81,
   "metadata": {
    "ExecuteTime": {
     "end_time": "2021-04-20T07:00:27.031000-07:00",
     "start_time": "2021-04-20T14:00:27.027Z"
    }
   },
   "outputs": [],
   "source": [
    "using LinearAlgebra"
   ]
  },
  {
   "cell_type": "markdown",
   "metadata": {},
   "source": [
    "Specify basic model properties."
   ]
  },
  {
   "cell_type": "code",
   "execution_count": 107,
   "metadata": {
    "ExecuteTime": {
     "end_time": "2021-04-20T07:13:09.674000-07:00",
     "start_time": "2021-04-20T14:13:09.670Z"
    }
   },
   "outputs": [],
   "source": [
    "I = 2 # number of agents\n",
    "s = [1, 2] # states \n",
    "N = length(s) # total number of states \n",
    "T = 2 # total number of time periods (t = 0,1,...,T)\n",
    ";"
   ]
  },
  {
   "cell_type": "markdown",
   "metadata": {},
   "source": [
    "Create a function that generates the set of all possible histories $s^t$ for any given $t$ for the specified model."
   ]
  },
  {
   "cell_type": "code",
   "execution_count": 108,
   "metadata": {
    "ExecuteTime": {
     "end_time": "2021-04-20T07:13:10.394000-07:00",
     "start_time": "2021-04-20T14:13:10.388Z"
    }
   },
   "outputs": [
    {
     "data": {
      "text/plain": [
       "all_perm (generic function with 1 method)"
      ]
     },
     "execution_count": 108,
     "metadata": {},
     "output_type": "execute_result"
    }
   ],
   "source": [
    "all_perm(s, t) = vec(map(collect, Iterators.product(ntuple(_ -> s, t+1)...)))"
   ]
  },
  {
   "cell_type": "markdown",
   "metadata": {},
   "source": [
    "Specify some more model primitives.\n",
    "\n",
    "Specifically, set up the underlying Markov process for the state variable."
   ]
  },
  {
   "cell_type": "code",
   "execution_count": 109,
   "metadata": {
    "ExecuteTime": {
     "end_time": "2021-04-20T07:13:13.474000-07:00",
     "start_time": "2021-04-20T14:13:13.471Z"
    }
   },
   "outputs": [
    {
     "data": {
      "text/plain": [
       "2×2 Array{Float64,2}:\n",
       " 0.9  0.1\n",
       " 0.5  0.5"
      ]
     },
     "execution_count": 109,
     "metadata": {},
     "output_type": "execute_result"
    }
   ],
   "source": [
    "P0 = ones(N)/N # initial distribution\n",
    "M = [0.9 0.1; 0.5 0.5] # stochastic matrix"
   ]
  },
  {
   "cell_type": "markdown",
   "metadata": {},
   "source": [
    "Create a function that returns the probability of any given history $s^t$."
   ]
  },
  {
   "cell_type": "code",
   "execution_count": 110,
   "metadata": {
    "ExecuteTime": {
     "end_time": "2021-04-20T07:14:55.988000-07:00",
     "start_time": "2021-04-20T14:14:55.982Z"
    }
   },
   "outputs": [
    {
     "data": {
      "text/plain": [
       "outcome_prob (generic function with 1 method)"
      ]
     },
     "execution_count": 110,
     "metadata": {},
     "output_type": "execute_result"
    }
   ],
   "source": [
    "function outcome_prob(history, P0, M)\n",
    "    \n",
    "# Store probability of initial state \n",
    "probability = P0[history[1]]\n",
    "\n",
    "# Compute probability of `outcome` sequence\n",
    "for i in 2:length(history)\n",
    "    probability = probability * M[history[i-1], history[i]]\n",
    "    end \n",
    "    \n",
    "    # Return `probability` -- prob. of sequence `outcome`\n",
    "    return probability\n",
    "end "
   ]
  },
  {
   "cell_type": "markdown",
   "metadata": {},
   "source": [
    "Let's make sure that our functions work."
   ]
  },
  {
   "cell_type": "code",
   "execution_count": 117,
   "metadata": {
    "ExecuteTime": {
     "end_time": "2021-04-20T07:16:35.436000-07:00",
     "start_time": "2021-04-20T14:16:35.433Z"
    }
   },
   "outputs": [
    {
     "data": {
      "text/plain": [
       "8-element Array{Array{Int64,1},1}:\n",
       " [1, 1, 1]\n",
       " [2, 1, 1]\n",
       " [1, 2, 1]\n",
       " [2, 2, 1]\n",
       " [1, 1, 2]\n",
       " [2, 1, 2]\n",
       " [1, 2, 2]\n",
       " [2, 2, 2]"
      ]
     },
     "execution_count": 117,
     "metadata": {},
     "output_type": "execute_result"
    }
   ],
   "source": [
    "history = all_perm(s, 2)"
   ]
  },
  {
   "cell_type": "code",
   "execution_count": 118,
   "metadata": {
    "ExecuteTime": {
     "end_time": "2021-04-20T07:16:38.113000-07:00",
     "start_time": "2021-04-20T14:16:38.109Z"
    }
   },
   "outputs": [
    {
     "data": {
      "text/plain": [
       "0.225"
      ]
     },
     "execution_count": 118,
     "metadata": {},
     "output_type": "execute_result"
    }
   ],
   "source": [
    "history = all_perm(s, 2)[2]\n",
    "outcome_prob(history, P0, M)"
   ]
  }
 ],
 "metadata": {
  "kernelspec": {
   "display_name": "Julia 1.5.4",
   "language": "julia",
   "name": "julia-1.5"
  },
  "language_info": {
   "file_extension": ".jl",
   "mimetype": "application/julia",
   "name": "julia",
   "version": "1.5.4"
  },
  "latex_envs": {
   "LaTeX_envs_menu_present": true,
   "autoclose": false,
   "autocomplete": true,
   "bibliofile": "biblio.bib",
   "cite_by": "apalike",
   "current_citInitial": 1,
   "eqLabelWithNumbers": true,
   "eqNumInitial": 1,
   "hotkeys": {
    "equation": "Ctrl-E",
    "itemize": "Ctrl-I"
   },
   "labels_anchors": false,
   "latex_user_defs": false,
   "report_style_numbering": false,
   "user_envs_cfg": false
  }
 },
 "nbformat": 4,
 "nbformat_minor": 4
}

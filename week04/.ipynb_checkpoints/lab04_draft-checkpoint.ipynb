{
 "cells": [
  {
   "cell_type": "markdown",
   "metadata": {},
   "source": [
    "## Important Equations (for Reference)"
   ]
  },
  {
   "cell_type": "markdown",
   "metadata": {},
   "source": [
    "These are straight out of Ljungqvist and Sargent."
   ]
  },
  {
   "cell_type": "markdown",
   "metadata": {},
   "source": [
    "### Eq. (8.2.2)\n",
    "\n",
    "A feasible allocation satisfies \n",
    "\n",
    "\\begin{align*}\n",
    "\\sum_{i} c_t^i(s^t) \\leq \\sum_{i} y_t^i(s^t)\n",
    "\\end{align*}\n",
    "\n",
    "for all $t$ and for all $s^t$."
   ]
  },
  {
   "cell_type": "markdown",
   "metadata": {},
   "source": [
    "### Eq. (8.5.1)\n",
    "\n",
    "The consumer's budget constraint is \n",
    "\n",
    "\\begin{align*}\n",
    "\\sum_{t=0}^\\infty \\sum_{s^t} q_t^0(s^t)c_t^i(s^t) \\leq \\sum_{t=0}^\\infty \\sum_{s^t} q_t^0(s^t) y_t^i(s^t) \n",
    "\\end{align*}"
   ]
  },
  {
   "cell_type": "markdown",
   "metadata": {},
   "source": [
    "### Eq. (8.5.4)\n",
    "\n",
    "\\begin{align*}\n",
    "\\beta^t u_i' (c_t^i(s^t)) \\pi_t(s^t) = \\mu_i q_t^0(s^t)\n",
    "\\end{align*}"
   ]
  },
  {
   "cell_type": "markdown",
   "metadata": {},
   "source": [
    "### Eq. (8.5.5)\n",
    "\n",
    "\\begin{align*}\n",
    "\\frac{u_i'(c_t^i(s^t))}{u_j'(c_t^j(s^t))} = \\frac{\\mu_i}{\\mu_j}\n",
    "\\end{align*}\n",
    "\n",
    "for all pairs of $(i,j)$."
   ]
  },
  {
   "cell_type": "markdown",
   "metadata": {},
   "source": [
    "### Eq. (8.5.6)\n",
    "\n",
    "An equilibrium allocation solves equations (8.2.2), (8.5.1), and (8.5.5).\n",
    "Note that equation (8.5.5) implies that \n",
    "\n",
    "\\begin{align*}\n",
    "c_t^i(s^t) = u_i'^{-1} \\left\\{ u_1' (c_t^1(s^t)) \\frac{\\mu_i}{\\mu_1} \\right\\} \n",
    "\\end{align*}"
   ]
  },
  {
   "cell_type": "markdown",
   "metadata": {},
   "source": [
    "### Eq. (8.5.7)\n",
    "\n",
    "Substitution (8.5.6) into Eq. (8.2.2) at equality gives \n",
    "\n",
    "\\begin{align*}\n",
    "\\sum_i u_i'^{-1} \\left\\{ u_1' (c_t^1(s^t)) \\frac{\\mu_i}{\\mu_1} \\right\\}  = \\sum_i y_t^i(s^t) \n",
    "\\end{align*}"
   ]
  },
  {
   "cell_type": "markdown",
   "metadata": {},
   "source": [
    "## Negishi Algorithm\n",
    "\n",
    "To compute an equilibrium, we have to determine ratios of the Lagrange multipliers, $\\mu_i/\\mu_1$, $i = 1,\\ldots,I$, that appear in equations (8.5.6) and (8.5.7).\n",
    "\n",
    "The following **Negishi algorithm** accomplishes this:\n",
    "\n",
    "(1) Fix any positive value for one $\\mu_i$, say $\\mu_1$, throughout the algorithm.\n",
    "Guess positive values for the remaining $\\mu_i$'s.\n",
    "Then solve equations (8.5.6) and (8.5.7) for a candidate consumption allocation $c^i$, $i = 1,\\ldots,I$.\n",
    "\n",
    "(2) Use (8.5.4) for any consumer $i$ to solve for the price system $q_t^0(s^t)$.\n",
    "\n",
    "(3) For $i = 1,\\ldots,I$, check the budget constraint (8.5.1).\n",
    "For those $i$'s for which the cost of consumption exceeds the value of their endowment, raise $\\mu_i$, while for those $i$'s for which the reverse inequality holds, lower $\\mu_i$.\n",
    "\n",
    "(4) Iterate to convergence on steps 1-3."
   ]
  },
  {
   "cell_type": "markdown",
   "metadata": {},
   "source": [
    "## Basic Setup"
   ]
  },
  {
   "cell_type": "markdown",
   "metadata": {},
   "source": [
    "Load all necessary packages."
   ]
  },
  {
   "cell_type": "code",
   "execution_count": 137,
   "metadata": {
    "ExecuteTime": {
     "end_time": "2021-04-20T08:01:27.506000-07:00",
     "start_time": "2021-04-20T15:01:27.502Z"
    }
   },
   "outputs": [],
   "source": [
    "using LinearAlgebra, SymEngine"
   ]
  },
  {
   "cell_type": "markdown",
   "metadata": {},
   "source": [
    "Specify basic model properties."
   ]
  },
  {
   "cell_type": "code",
   "execution_count": 145,
   "metadata": {
    "ExecuteTime": {
     "end_time": "2021-04-20T08:02:38.652000-07:00",
     "start_time": "2021-04-20T15:02:38.634Z"
    }
   },
   "outputs": [],
   "source": [
    "I = 3 # number of agents\n",
    "μ = ones(I) # Lagrange multipliers for each agent\n",
    "s = [1, 2] # states \n",
    "N = length(s) # total number of states \n",
    "W = zeros(N,I) # empty wage matrix \n",
    "\n",
    "for i in 1:N\n",
    "    W[i,:] = randn(I) # Fill out wage matrix\n",
    "end \n",
    "\n",
    "T = 3 # total number of time periods (t = 0,1,...,T)\n",
    ";"
   ]
  },
  {
   "cell_type": "markdown",
   "metadata": {},
   "source": [
    "Create a function that generates the set of all possible histories $s^t$ for any given $t$ for the specified model."
   ]
  },
  {
   "cell_type": "code",
   "execution_count": 146,
   "metadata": {
    "ExecuteTime": {
     "end_time": "2021-04-20T08:02:44.044000-07:00",
     "start_time": "2021-04-20T15:02:44.038Z"
    }
   },
   "outputs": [
    {
     "data": {
      "text/plain": [
       "all_perm (generic function with 1 method)"
      ]
     },
     "execution_count": 146,
     "metadata": {},
     "output_type": "execute_result"
    }
   ],
   "source": [
    "all_perm(s, t) = vec(map(collect, Iterators.product(ntuple(_ -> s, t+1)...)))"
   ]
  },
  {
   "cell_type": "markdown",
   "metadata": {},
   "source": [
    "Specify some more model primitives.\n",
    "\n",
    "Specifically, set up the underlying Markov process for the state variable."
   ]
  },
  {
   "cell_type": "code",
   "execution_count": 147,
   "metadata": {
    "ExecuteTime": {
     "end_time": "2021-04-20T08:02:44.981000-07:00",
     "start_time": "2021-04-20T15:02:44.978Z"
    }
   },
   "outputs": [
    {
     "data": {
      "text/plain": [
       "2×2 Array{Float64,2}:\n",
       " 0.9  0.1\n",
       " 0.5  0.5"
      ]
     },
     "execution_count": 147,
     "metadata": {},
     "output_type": "execute_result"
    }
   ],
   "source": [
    "P0 = ones(N)/N # initial distribution\n",
    "M = [0.9 0.1; 0.5 0.5] # stochastic matrix"
   ]
  },
  {
   "cell_type": "markdown",
   "metadata": {},
   "source": [
    "Create a function that returns the probability of any given history $s^t$."
   ]
  },
  {
   "cell_type": "code",
   "execution_count": 148,
   "metadata": {
    "ExecuteTime": {
     "end_time": "2021-04-20T08:02:45.957000-07:00",
     "start_time": "2021-04-20T15:02:45.952Z"
    }
   },
   "outputs": [
    {
     "data": {
      "text/plain": [
       "outcome_prob (generic function with 1 method)"
      ]
     },
     "execution_count": 148,
     "metadata": {},
     "output_type": "execute_result"
    }
   ],
   "source": [
    "function outcome_prob(history, P0, M)\n",
    "    \n",
    "# Store probability of initial state \n",
    "probability = P0[history[1]]\n",
    "\n",
    "# Compute probability of `outcome` sequence\n",
    "for i in 2:length(history)\n",
    "    probability = probability * M[history[i-1], history[i]]\n",
    "    end \n",
    "    \n",
    "    # Return `probability` -- prob. of sequence `outcome`\n",
    "    return probability\n",
    "end "
   ]
  },
  {
   "cell_type": "markdown",
   "metadata": {},
   "source": [
    "Let's make sure that our functions work."
   ]
  },
  {
   "cell_type": "code",
   "execution_count": 149,
   "metadata": {
    "ExecuteTime": {
     "end_time": "2021-04-20T08:02:47.194000-07:00",
     "start_time": "2021-04-20T15:02:47.144Z"
    }
   },
   "outputs": [
    {
     "data": {
      "text/plain": [
       "8-element Array{Array{Int64,1},1}:\n",
       " [1, 1, 1]\n",
       " [2, 1, 1]\n",
       " [1, 2, 1]\n",
       " [2, 2, 1]\n",
       " [1, 1, 2]\n",
       " [2, 1, 2]\n",
       " [1, 2, 2]\n",
       " [2, 2, 2]"
      ]
     },
     "execution_count": 149,
     "metadata": {},
     "output_type": "execute_result"
    }
   ],
   "source": [
    "history = all_perm(s, 2)"
   ]
  },
  {
   "cell_type": "code",
   "execution_count": 150,
   "metadata": {
    "ExecuteTime": {
     "end_time": "2021-04-20T08:02:47.724000-07:00",
     "start_time": "2021-04-20T15:02:47.700Z"
    }
   },
   "outputs": [
    {
     "data": {
      "text/plain": [
       "0.225"
      ]
     },
     "execution_count": 150,
     "metadata": {},
     "output_type": "execute_result"
    }
   ],
   "source": [
    "history = all_perm(s, 2)[2]\n",
    "outcome_prob(history, P0, M)"
   ]
  },
  {
   "cell_type": "markdown",
   "metadata": {},
   "source": [
    "The above code is sufficient to allow us to set up any kind of state process."
   ]
  },
  {
   "cell_type": "markdown",
   "metadata": {},
   "source": [
    "Lastly, specify the consumers' utility functions.\n",
    "\n",
    "Here we consider a constant relative risk-aversion (CRRA) utility function:"
   ]
  },
  {
   "cell_type": "code",
   "execution_count": 190,
   "metadata": {
    "ExecuteTime": {
     "end_time": "2021-04-20T11:59:41.247000-07:00",
     "start_time": "2021-04-20T18:59:41.241Z"
    }
   },
   "outputs": [
    {
     "data": {
      "text/plain": [
       "u_inv (generic function with 1 method)"
      ]
     },
     "execution_count": 190,
     "metadata": {},
     "output_type": "execute_result"
    }
   ],
   "source": [
    "γ = 2 # specify γ parameter\n",
    "u(c) = (1-γ)^(-1) * c^(1-γ) # utility function \n",
    "u_inv(u) = (1-γ)^(1/(1-γ)) * u^(1/(1-γ)) # inverse of the utility function"
   ]
  },
  {
   "cell_type": "markdown",
   "metadata": {},
   "source": [
    "Recall that the CRRA specification can be used to solve for an equilibrium analytically."
   ]
  },
  {
   "cell_type": "markdown",
   "metadata": {},
   "source": [
    "## Step \\#1 of the Negishi Algorithm"
   ]
  },
  {
   "cell_type": "markdown",
   "metadata": {},
   "source": [
    "Guess Langrange multipliers for all agents.\n",
    "\n",
    "Recall that $\\mu_1$ (or any other $\\mu_i$) must be fixed at some arbitrary value forever.\n",
    "\n",
    "We will keep $\\mu_1 = 1$."
   ]
  },
  {
   "cell_type": "code",
   "execution_count": 191,
   "metadata": {
    "ExecuteTime": {
     "end_time": "2021-04-20T11:59:43.200000-07:00",
     "start_time": "2021-04-20T18:59:43.197Z"
    }
   },
   "outputs": [
    {
     "data": {
      "text/plain": [
       "3-element Array{Float64,1}:\n",
       " 1.0\n",
       " 1.0\n",
       " 1.0"
      ]
     },
     "execution_count": 191,
     "metadata": {},
     "output_type": "execute_result"
    }
   ],
   "source": [
    "μ = ones(I) # Lagrange multipliers for each agent"
   ]
  },
  {
   "cell_type": "markdown",
   "metadata": {},
   "source": [
    "Now we must solve Eqs. (8.5.6) and (8.5.7) for a candidate consumption allocation $c^i$ for all $i$."
   ]
  },
  {
   "cell_type": "code",
   "execution_count": 192,
   "metadata": {
    "ExecuteTime": {
     "end_time": "2021-04-20T11:59:44.686000-07:00",
     "start_time": "2021-04-20T18:59:44.683Z"
    }
   },
   "outputs": [],
   "source": [
    "using NLsolve"
   ]
  },
  {
   "cell_type": "code",
   "execution_count": 217,
   "metadata": {
    "ExecuteTime": {
     "end_time": "2021-04-20T13:00:27.472000-07:00",
     "start_time": "2021-04-20T20:00:27.463Z"
    }
   },
   "outputs": [
    {
     "data": {
      "text/plain": [
       "g (generic function with 3 methods)"
      ]
     },
     "execution_count": 217,
     "metadata": {},
     "output_type": "execute_result"
    }
   ],
   "source": [
    "# Set state as n\n",
    "n = 1\n",
    "\n",
    "# Set time as 0\n",
    "t = 0\n",
    "\n",
    "# Define system of equations \n",
    "# for a given `n` and `t`\n",
    "g(cons) = [sum([ u_inv(u(cons[1])*(μ[i]/μ[1])) - sum(W[n,:]) for i in 1:I]);\n",
    "                [cons[i] - u_inv(u(cons[1])*(μ[i]/μ[1])) for i in 2:I]]"
   ]
  },
  {
   "cell_type": "code",
   "execution_count": 229,
   "metadata": {
    "ExecuteTime": {
     "end_time": "2021-04-20T15:15:24.641000-07:00",
     "start_time": "2021-04-20T22:15:24.326Z"
    }
   },
   "outputs": [
    {
     "data": {
      "text/plain": [
       "3-element Array{Float64,1}:\n",
       " -1.759984510703931\n",
       " -1.759984510718188\n",
       " -1.759984510718188"
      ]
     },
     "execution_count": 229,
     "metadata": {},
     "output_type": "execute_result"
    }
   ],
   "source": [
    "solution = nlsolve(g, ones(I))\n",
    "solution.zero"
   ]
  },
  {
   "cell_type": "markdown",
   "metadata": {},
   "source": [
    "## Step \\#2 of the Negishi Algorithm"
   ]
  },
  {
   "cell_type": "code",
   "execution_count": null,
   "metadata": {},
   "outputs": [],
   "source": []
  },
  {
   "cell_type": "markdown",
   "metadata": {},
   "source": [
    "## Step \\#3 of the Negishi Algorithm"
   ]
  },
  {
   "cell_type": "code",
   "execution_count": null,
   "metadata": {},
   "outputs": [],
   "source": []
  },
  {
   "cell_type": "markdown",
   "metadata": {},
   "source": [
    "## Negishi Algorithm Demo"
   ]
  },
  {
   "cell_type": "markdown",
   "metadata": {},
   "source": [
    "Let's re-define all model primitives."
   ]
  },
  {
   "cell_type": "code",
   "execution_count": 243,
   "metadata": {
    "ExecuteTime": {
     "end_time": "2021-04-20T16:37:43.424000-07:00",
     "start_time": "2021-04-20T23:37:43.392Z"
    }
   },
   "outputs": [],
   "source": [
    "I = 3 # number of agents\n",
    "μ = ones(I) # Lagrange multipliers for each agent\n",
    "s = [1, 2] # states \n",
    "N = length(s) # total number of states \n",
    "W = zeros(N,I) # empty wage matrix \n",
    "β = 0.95\n",
    "\n",
    "for i in 1:N\n",
    "    W[i,:] = randn(I) # Fill out wage matrix\n",
    "end \n",
    "\n",
    "T = 3 # total number of time periods (t = 0,1,...,T)\n",
    "\n",
    "P0 = ones(N)/N # initial distribution\n",
    "M = [0.9 0.1; 0.5 0.5] # stochastic matrix\n",
    "\n",
    "γ = 2 # specify γ parameter\n",
    "u(c) = c^(-γ) # utility function derivative \n",
    "u_inv(u) = u^(-1/γ) # inverse of the utility function derivative\n",
    "\n",
    "μ = ones(I) # Lagrange multipliers for each agent\n",
    ";"
   ]
  },
  {
   "cell_type": "markdown",
   "metadata": {},
   "source": [
    "Steps 1 and 2 of Negishi's algorithm."
   ]
  },
  {
   "cell_type": "code",
   "execution_count": 283,
   "metadata": {
    "ExecuteTime": {
     "end_time": "2021-04-20T17:14:50.512000-07:00",
     "start_time": "2021-04-21T00:14:47.150Z"
    }
   },
   "outputs": [],
   "source": [
    "\"\"\"\n",
    "Steps #1 & #2 of the algorithm.\n",
    "\n",
    "Compute prices and consumption associated with all s^t.\n",
    "\n",
    "\"\"\"\n",
    "\n",
    "# Create empty containers for \n",
    "# agent consumption, prices, and probabilities\n",
    "C = zeros(T, length(all_perm(s,T)), I) # agent consumptions\n",
    "Q = zeros(T, length(all_perm(s,T))) # prices\n",
    "P = zeros(T, length(all_perm(s,T))) # probabilities\n",
    "Y = zeros(T, length(all_perm(s,T)), I) # agent incomes\n",
    "\n",
    "# Fill out all containers\n",
    "for t in 1:T\n",
    "    for st in 1:length(all_perm(s, t))\n",
    "\n",
    "        # Store realization of s^t\n",
    "        history = all_perm(s, t)[st]\n",
    "            \n",
    "        # Store final state of realized s^t\n",
    "        n = history[end]\n",
    "        \n",
    "        # Store prob. of realized s^t\n",
    "        prob = outcome_prob(history, P0, M)\n",
    "        \n",
    "        # Define system of equations\n",
    "        # equivalent to Eqs. (8.5.6) and (8.5.7)\n",
    "        g(cons) = [sum([ u_inv(u(cons[1])*(μ[i]/μ[1])) - sum(W[n,:]) for i in 1:I]);\n",
    "                        [cons[i] - u_inv(u(cons[1])*(μ[i]/μ[1])) for i in 2:I]]\n",
    "        \n",
    "        # Solve system of equations\n",
    "        solution = nlsolve(g, ones(I))\n",
    "        c = solution.zero # solution for (c_t^1(s^t),...,c_t^I(s^t))\n",
    "        \n",
    "        # Solve for price system at t given s^t\n",
    "        # using Eq. (8.5.4)\n",
    "        #z(price) = (β^t)*u(c[1])*prob - μ[1]*price[1]\n",
    "        #p_solution = nlsolve(z, [-15.0,15.0])\n",
    "        price = (β^t)*u(c[1])*prob/μ[1]\n",
    "        \n",
    "        # Store consumption\n",
    "        for i in 1:I\n",
    "            C[t,st,i] = c[i]\n",
    "        end \n",
    "        \n",
    "        # Store price\n",
    "        Q[t,st] = price\n",
    "        \n",
    "        # Store probability\n",
    "        P[t,st] = prob\n",
    "        \n",
    "        # Store income\n",
    "        for i in 1:I\n",
    "            Y[t,st,i] = W[n,i]\n",
    "        end \n",
    "        \n",
    "    end \n",
    "end "
   ]
  },
  {
   "cell_type": "markdown",
   "metadata": {},
   "source": [
    "Step 3 of Negishi's algorithm."
   ]
  },
  {
   "cell_type": "code",
   "execution_count": 284,
   "metadata": {
    "ExecuteTime": {
     "end_time": "2021-04-20T17:14:53.280000-07:00",
     "start_time": "2021-04-21T00:14:53.022Z"
    }
   },
   "outputs": [],
   "source": [
    "\"\"\"\n",
    "Step #3 of the algorithm.\n",
    "\n",
    "Check budget constraints and adjust μ.\n",
    "\"\"\"\n",
    "\n",
    "# Create empty vectors to store\n",
    "# outflows and inflows for all agents\n",
    "outflow = zeros(I)\n",
    "inflow  = zeros(I)\n",
    "\n",
    "for i in 2:I\n",
    "    \n",
    "    outflow[i] = sum([ sum([ Q[t,st]*C[t,st,i] for st in 1:length(all_perm(s, t)) ]) for t in 1:T])\n",
    "    inflow[i] = sum([ sum([ Q[t,st]*Y[t,st,i] for st in 1:length(all_perm(s, t)) ]) for t in 1:T])\n",
    "    \n",
    "    if outflow[i] > inflow[i]\n",
    "        μ[i] = μ[i]*1.1\n",
    "    elseif outflow[i] < inflow[i]\n",
    "        μ[i] = μ[i]*0.9\n",
    "    end \n",
    "    \n",
    "end "
   ]
  }
 ],
 "metadata": {
  "kernelspec": {
   "display_name": "Julia 1.5.4",
   "language": "julia",
   "name": "julia-1.5"
  },
  "language_info": {
   "file_extension": ".jl",
   "mimetype": "application/julia",
   "name": "julia",
   "version": "1.5.4"
  },
  "latex_envs": {
   "LaTeX_envs_menu_present": true,
   "autoclose": false,
   "autocomplete": true,
   "bibliofile": "biblio.bib",
   "cite_by": "apalike",
   "current_citInitial": 1,
   "eqLabelWithNumbers": true,
   "eqNumInitial": 1,
   "hotkeys": {
    "equation": "Ctrl-E",
    "itemize": "Ctrl-I"
   },
   "labels_anchors": false,
   "latex_user_defs": false,
   "report_style_numbering": false,
   "user_envs_cfg": false
  }
 },
 "nbformat": 4,
 "nbformat_minor": 4
}

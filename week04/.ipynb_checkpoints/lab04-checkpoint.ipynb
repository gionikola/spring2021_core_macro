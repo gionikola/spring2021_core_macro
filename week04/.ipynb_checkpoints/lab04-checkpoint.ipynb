{
 "cells": [
  {
   "cell_type": "markdown",
   "metadata": {},
   "source": [
    "# Solving Equilibria with Complete Markets\n",
    "\n",
    "Contents:\n",
    "\n",
    "- [Solving Equilibria with Complete Markets](#Solving-Equilibria-with-Complete-Markets)  \n",
    "  - [Key Equations](#Key-Equations)  \n",
    "  - [Negishi Algorithm](#Negishi-Algorithm)\n",
    "  - [Setting Up Complete Markets](#Setting-Up-Complete-Markets)  \n",
    "  - [Steps 1 and 2 of the Algorithm](#Steps-1-and-2-of-the-Algorithm)   \n",
    "  - [Step 3 of the Algorithm](#Step-3-of-the-Algorithm)   \n",
    "  - [Implementing the Algorithm](#Implementing-the-Algorithm)   \n",
    "\n",
    "This lab includes:\n",
    "\n",
    "(1) An overview of the key equations necessary for solving for complete market equilibria;\n",
    "\n",
    "(2) An overview of the Negishi algorithm;\n",
    "\n",
    "(3) A basic setup for a model with complete markets;\n",
    "\n",
    "(4) An application of a single iteration of steps 1 and 2 of the algorithm;\n",
    "\n",
    "(5) An application of a single iteration of step 3 of the algorithm;\n",
    "\n",
    "(6) An implementation of the full algorithm up to convergence.\n",
    "\n",
    "----"
   ]
  },
  {
   "cell_type": "markdown",
   "metadata": {},
   "source": [
    "## Key Equations"
   ]
  },
  {
   "cell_type": "markdown",
   "metadata": {},
   "source": [
    "In this section I list all equations relevant to solving for an equilibrium of a complete markets model.\n",
    "\n",
    "All equations are taken from Ljungqvist and Sargent, and numbered accordingly."
   ]
  },
  {
   "cell_type": "markdown",
   "metadata": {},
   "source": [
    "### Eq. (8.2.2)\n",
    "\n",
    "A feasible allocation satisfies \n",
    "\n",
    "\\begin{align*}\n",
    "\\sum_{i} c_t^i(s^t) \\leq \\sum_{i} y_t^i(s^t) \\, ,\n",
    "\\end{align*}\n",
    "\n",
    "for all $t$ and for all $s^t$."
   ]
  },
  {
   "cell_type": "markdown",
   "metadata": {},
   "source": [
    "### Eq. (8.5.1)\n",
    "\n",
    "The consumer's budget constraint is expressed as \n",
    "\n",
    "\\begin{align*}\n",
    "\\sum_{t=0}^\\infty \\sum_{s^t} q_t^0(s^t)c_t^i(s^t) \\leq \\sum_{t=0}^\\infty \\sum_{s^t} q_t^0(s^t) y_t^i(s^t)  \\, .\n",
    "\\end{align*}"
   ]
  },
  {
   "cell_type": "markdown",
   "metadata": {},
   "source": [
    "### Eq. (8.5.4)\n",
    "\n",
    "The following equation will later be used to solve for $q_t^0(s^t)$:\n",
    "\n",
    "\\begin{align*}\n",
    "\\beta^t u_i' (c_t^i(s^t)) \\pi_t(s^t) = \\mu_i q_t^0(s^t) \\, .\n",
    "\\end{align*}"
   ]
  },
  {
   "cell_type": "markdown",
   "metadata": {},
   "source": [
    "### Eq. (8.5.5)\n",
    "\n",
    "The following equation is obtained by dividing both sides of Eq. (8.5.4) by itself for a different $i$:\n",
    "\n",
    "\\begin{align*}\n",
    "\\frac{u_i'(c_t^i(s^t))}{u_j'(c_t^j(s^t))} = \\frac{\\mu_i}{\\mu_j} \\, ,\n",
    "\\end{align*}\n",
    "\n",
    "for all pairs of $(i,j)$."
   ]
  },
  {
   "cell_type": "markdown",
   "metadata": {},
   "source": [
    "### Eq. (8.5.6)\n",
    "\n",
    "An equilibrium allocation solves equations (8.2.2), (8.5.1), and (8.5.5).\n",
    "\n",
    "Note that equation (8.5.5) implies \n",
    "\n",
    "\\begin{align*}\n",
    "c_t^i(s^t) = u_i'^{-1} \\left\\{ u_1' (c_t^1(s^t)) \\frac{\\mu_i}{\\mu_1} \\right\\} \\, .\n",
    "\\end{align*}"
   ]
  },
  {
   "cell_type": "markdown",
   "metadata": {},
   "source": [
    "### Eq. (8.5.7)\n",
    "\n",
    "Substituting (8.5.6) into Eq. (8.2.2) at equality gives \n",
    "\n",
    "\\begin{align*}\n",
    "\\sum_i u_i'^{-1} \\left\\{ u_1' (c_t^1(s^t)) \\frac{\\mu_i}{\\mu_1} \\right\\}  = \\sum_i y_t^i(s^t) \\, .\n",
    "\\end{align*}"
   ]
  },
  {
   "cell_type": "markdown",
   "metadata": {},
   "source": [
    "## Negishi Algorithm\n",
    "\n",
    "To compute an equilibrium, we have to determine ratios of the Lagrange multipliers, $\\mu_i/\\mu_1$, $i = 1,\\ldots,I$, that appear in equations (8.5.6) and (8.5.7).\n",
    "\n",
    "The following **Negishi algorithm** accomplishes this using the following steps:\n",
    "\n",
    "### Step \\#1\n",
    "\n",
    "Fix any positive value for one $\\mu_i$, say $\\mu_1$, throughout the algorithm.\n",
    "Guess positive values for the remaining $\\mu_i$'s.\n",
    "Then solve equations (8.5.6) and (8.5.7) for a candidate consumption allocation $c^i$, $i = 1,\\ldots,I$.\n",
    "\n",
    "### Step \\#2\n",
    "\n",
    "Use (8.5.4) for any consumer $i$ to solve for the price system $q_t^0(s^t)$.\n",
    "\n",
    "### Step \\#3\n",
    "\n",
    "For $i = 1,\\ldots,I$, check the budget constraint (8.5.1).\n",
    "For those $i$'s for which the cost of consumption exceeds the value of their endowment, raise $\\mu_i$, while for those $i$'s for which the reverse inequality holds, lower $\\mu_i$.\n",
    "\n",
    "### Step \\#4\n",
    "\n",
    "Iterate to convergence on steps 1-3."
   ]
  },
  {
   "cell_type": "markdown",
   "metadata": {},
   "source": [
    "## Setting Up Complete Markets"
   ]
  },
  {
   "cell_type": "markdown",
   "metadata": {},
   "source": [
    "Load all necessary packages."
   ]
  },
  {
   "cell_type": "code",
   "execution_count": 62,
   "metadata": {
    "ExecuteTime": {
     "end_time": "2021-04-21T05:33:21.932000-07:00",
     "start_time": "2021-04-21T12:33:21.894Z"
    }
   },
   "outputs": [],
   "source": [
    "using LinearAlgebra, NLsolve"
   ]
  },
  {
   "cell_type": "markdown",
   "metadata": {},
   "source": [
    "Specify basic model properties."
   ]
  },
  {
   "cell_type": "code",
   "execution_count": 63,
   "metadata": {
    "ExecuteTime": {
     "end_time": "2021-04-21T05:33:26.759000-07:00",
     "start_time": "2021-04-21T12:33:26.714Z"
    }
   },
   "outputs": [],
   "source": [
    "I = 3 # number of agents\n",
    "μ = ones(I) # Lagrange multipliers for all agents\n",
    "s = [1, 2] # states \n",
    "N = length(s) # total number of states \n",
    "W = zeros(N,I) # empty wage matrix \n",
    "\n",
    "for i in 1:N\n",
    "    W[i,:] = randn(I) # Fill out wage matrix\n",
    "end \n",
    "\n",
    "T = 3 # total number of time periods (t = 0,1,...,T)\n",
    ";"
   ]
  },
  {
   "cell_type": "markdown",
   "metadata": {},
   "source": [
    "Create a function that generates the set of all possible histories $s^t$ for any given $t$ for the specified model."
   ]
  },
  {
   "cell_type": "code",
   "execution_count": 64,
   "metadata": {
    "ExecuteTime": {
     "end_time": "2021-04-21T05:33:27.732000-07:00",
     "start_time": "2021-04-21T12:33:27.702Z"
    }
   },
   "outputs": [
    {
     "data": {
      "text/plain": [
       "all_perm (generic function with 1 method)"
      ]
     },
     "execution_count": 64,
     "metadata": {},
     "output_type": "execute_result"
    }
   ],
   "source": [
    "all_perm(s, t) = vec(map(collect, Iterators.product(ntuple(_ -> s, t+1)...)))"
   ]
  },
  {
   "cell_type": "markdown",
   "metadata": {},
   "source": [
    "Specify some more model primitives.\n",
    "\n",
    "Specifically, set up the underlying Markov process for the state variable."
   ]
  },
  {
   "cell_type": "code",
   "execution_count": 65,
   "metadata": {
    "ExecuteTime": {
     "end_time": "2021-04-21T05:33:28.573000-07:00",
     "start_time": "2021-04-21T12:33:28.550Z"
    }
   },
   "outputs": [
    {
     "data": {
      "text/plain": [
       "2×2 Array{Float64,2}:\n",
       " 0.9  0.1\n",
       " 0.5  0.5"
      ]
     },
     "execution_count": 65,
     "metadata": {},
     "output_type": "execute_result"
    }
   ],
   "source": [
    "P0 = ones(N)/N # initial distribution\n",
    "M = [0.9 0.1; 0.5 0.5] # stochastic matrix"
   ]
  },
  {
   "cell_type": "markdown",
   "metadata": {},
   "source": [
    "Create a function that returns the probability of any given history $s^t$."
   ]
  },
  {
   "cell_type": "code",
   "execution_count": 66,
   "metadata": {
    "ExecuteTime": {
     "end_time": "2021-04-21T05:33:29.305000-07:00",
     "start_time": "2021-04-21T12:33:29.300Z"
    }
   },
   "outputs": [
    {
     "data": {
      "text/plain": [
       "outcome_prob (generic function with 1 method)"
      ]
     },
     "execution_count": 66,
     "metadata": {},
     "output_type": "execute_result"
    }
   ],
   "source": [
    "function outcome_prob(history, P0, M)\n",
    "    \n",
    "# Store probability of initial state \n",
    "probability = P0[history[1]]\n",
    "\n",
    "# Compute probability of `outcome` sequence\n",
    "for i in 2:length(history)\n",
    "    probability = probability * M[history[i-1], history[i]]\n",
    "    end \n",
    "    \n",
    "    # Return `probability` -- prob. of sequence `outcome`\n",
    "    return probability\n",
    "end "
   ]
  },
  {
   "cell_type": "markdown",
   "metadata": {},
   "source": [
    "Let's make sure that our functions work."
   ]
  },
  {
   "cell_type": "code",
   "execution_count": 67,
   "metadata": {
    "ExecuteTime": {
     "end_time": "2021-04-21T05:33:30.329000-07:00",
     "start_time": "2021-04-21T12:33:30.190Z"
    }
   },
   "outputs": [
    {
     "data": {
      "text/plain": [
       "8-element Array{Array{Int64,1},1}:\n",
       " [1, 1, 1]\n",
       " [2, 1, 1]\n",
       " [1, 2, 1]\n",
       " [2, 2, 1]\n",
       " [1, 1, 2]\n",
       " [2, 1, 2]\n",
       " [1, 2, 2]\n",
       " [2, 2, 2]"
      ]
     },
     "execution_count": 67,
     "metadata": {},
     "output_type": "execute_result"
    }
   ],
   "source": [
    "history = all_perm(s, 2)"
   ]
  },
  {
   "cell_type": "code",
   "execution_count": 68,
   "metadata": {
    "ExecuteTime": {
     "end_time": "2021-04-21T05:33:30.847000-07:00",
     "start_time": "2021-04-21T12:33:30.801Z"
    }
   },
   "outputs": [
    {
     "data": {
      "text/plain": [
       "0.405"
      ]
     },
     "execution_count": 68,
     "metadata": {},
     "output_type": "execute_result"
    }
   ],
   "source": [
    "history = all_perm(s, 2)[1]\n",
    "outcome_prob(history, P0, M)"
   ]
  },
  {
   "cell_type": "markdown",
   "metadata": {},
   "source": [
    "The above code is sufficient to allow us to set up any kind of state process."
   ]
  },
  {
   "cell_type": "markdown",
   "metadata": {},
   "source": [
    "Lastly, specify the consumers' utility functions.\n",
    "\n",
    "Here we consider a constant relative risk-aversion (CRRA) utility function:"
   ]
  },
  {
   "cell_type": "code",
   "execution_count": 69,
   "metadata": {
    "ExecuteTime": {
     "end_time": "2021-04-21T05:33:32.219000-07:00",
     "start_time": "2021-04-21T12:33:32.201Z"
    }
   },
   "outputs": [
    {
     "data": {
      "text/plain": [
       "u_inv (generic function with 1 method)"
      ]
     },
     "execution_count": 69,
     "metadata": {},
     "output_type": "execute_result"
    }
   ],
   "source": [
    "γ = 2 # specify γ parameter\n",
    "u(c) = (1-γ)^(-1) * c^(1-γ) # utility function \n",
    "u_inv(u) = (1-γ)^(1/(1-γ)) * u^(1/(1-γ)) # inverse of the utility function"
   ]
  },
  {
   "cell_type": "markdown",
   "metadata": {},
   "source": [
    "Recall that the CRRA specification can be used to solve for an equilibrium analytically."
   ]
  },
  {
   "cell_type": "markdown",
   "metadata": {},
   "source": [
    "Lastly, let's just re-define all model primitives in one place for easy reference."
   ]
  },
  {
   "cell_type": "code",
   "execution_count": 286,
   "metadata": {
    "ExecuteTime": {
     "end_time": "2021-04-21T07:04:57.203000-07:00",
     "start_time": "2021-04-21T14:04:57.180Z"
    }
   },
   "outputs": [],
   "source": [
    "I = 3 # number of agents\n",
    "μ = ones(I) # Lagrange multipliers for each agent\n",
    "s = [1, 2] # states \n",
    "N = length(s) # total number of states \n",
    "W = zeros(N,I) # empty wage matrix \n",
    "β = 0.95\n",
    "\n",
    "for i in 1:N\n",
    "    W[i,:] = rand(1:10,I) # Fill out wage matrix\n",
    "end \n",
    "\n",
    "T = 3 # total number of time periods (t = 0,1,...,T)\n",
    "\n",
    "P0 = ones(N)/N # initial distribution\n",
    "M = [0.9 0.1; 0.5 0.5] # stochastic matrix\n",
    "\n",
    "γ = 0.5 # specify γ parameter\n",
    "u(c) = c^(-γ) # utility function derivative \n",
    "u_inv(u) = u^(-1/γ) # inverse of the utility function derivative\n",
    "\n",
    "μ = [1.0,1.0,1.0] # Lagrange multipliers for each agent\n",
    ";"
   ]
  },
  {
   "cell_type": "markdown",
   "metadata": {},
   "source": [
    "## Steps 1 and 2 of the Algorithm"
   ]
  },
  {
   "cell_type": "markdown",
   "metadata": {},
   "source": []
  },
  {
   "cell_type": "code",
   "execution_count": 351,
   "metadata": {
    "ExecuteTime": {
     "end_time": "2021-04-21T07:57:50.669000-07:00",
     "start_time": "2021-04-21T14:57:44.801Z"
    }
   },
   "outputs": [],
   "source": [
    "\"\"\"\n",
    "Steps #1 & #2 of the algorithm.\n",
    "\n",
    "Compute prices and consumption associated with all s^t.\n",
    "\n",
    "\"\"\"\n",
    "\n",
    "# Create empty containers for \n",
    "# agent consumption, prices, probabilities, and income\n",
    "C = zeros(T+1, length(all_perm(s,T)), I) # agent consumptions\n",
    "Q = zeros(T+1, length(all_perm(s,T))) # prices\n",
    "P = zeros(T+1, length(all_perm(s,T))) # probabilities\n",
    "Y = zeros(T+1, length(all_perm(s,T)), I) # agent incomes\n",
    "\n",
    "# Fill out all containers\n",
    "for t in 0:T\n",
    "    for st in 1:length(all_perm(s, t))\n",
    "\n",
    "        # Store realization of s^t\n",
    "        history = all_perm(s, t)[st]\n",
    "            \n",
    "        # Store final state of realized s^t\n",
    "        n = history[end]\n",
    "        \n",
    "        # Store prob. of realized s^t\n",
    "        prob = outcome_prob(history, P0, M)\n",
    "        \n",
    "        # Define system of equations\n",
    "        # equivalent to Eqs. (8.5.6) and (8.5.7)\n",
    "        g(cons) = [sum([ u_inv(u(cons[1])*(μ[i]/μ[1])) - sum(W[n,:]) for i in 1:I]);\n",
    "                        [cons[i] - u_inv(u(cons[1])*(μ[i]/μ[1])) for i in 2:I]]\n",
    "        \n",
    "        # Solve system of equations\n",
    "        solution = nlsolve(g, ones(I))\n",
    "        c = solution.zero # solution for (c_t^1(s^t),...,c_t^I(s^t))\n",
    "        \n",
    "        # Solve for price system at t given s^t\n",
    "        # using Eq. (8.5.4)\n",
    "        #z(price) = (β^t)*u(c[1])*prob - μ[1]*price[1]\n",
    "        #p_solution = nlsolve(z, [-15.0,15.0])\n",
    "        price = (β^t)*u(c[2])*prob/μ[2]\n",
    "        \n",
    "        # Store consumption\n",
    "        for i in 1:I\n",
    "            C[t+1,st,i] = c[i]\n",
    "        end \n",
    "        \n",
    "        # Store price\n",
    "        Q[t+1,st] = price\n",
    "        \n",
    "        # Store probability\n",
    "        P[t+1,st] = prob\n",
    "        \n",
    "        # Store income\n",
    "        for i in 1:I\n",
    "            Y[t+1,st,i] = W[n,i]\n",
    "        end \n",
    "        \n",
    "    end \n",
    "end "
   ]
  },
  {
   "cell_type": "markdown",
   "metadata": {},
   "source": [
    "## Step 3 of the Algorithm"
   ]
  },
  {
   "cell_type": "markdown",
   "metadata": {},
   "source": []
  },
  {
   "cell_type": "code",
   "execution_count": 352,
   "metadata": {
    "ExecuteTime": {
     "end_time": "2021-04-21T07:57:51.008000-07:00",
     "start_time": "2021-04-21T14:57:46.533Z"
    }
   },
   "outputs": [
    {
     "name": "stdout",
     "output_type": "stream",
     "text": [
      "outflow = [0.0, 2.918476961942305, 2.918476961942305]\n",
      "inflow = [0.0, 3.124704664161001, 3.1434844469246905]\n",
      "inflow - outflow = [0.0, 0.2062277022186958, 0.22500748498238554]\n",
      "μ = [1.0, 2.5545045308449126, 2.5545045308449126]\n"
     ]
    }
   ],
   "source": [
    "\"\"\"\n",
    "Step #3 of the algorithm.\n",
    "\n",
    "Check budget constraints and adjust μ.\n",
    "\"\"\"\n",
    "\n",
    "# Create empty vectors to store\n",
    "# outflows and inflows for all agents\n",
    "outflow = zeros(I)\n",
    "inflow  = zeros(I)\n",
    "\n",
    "for i in 2:I\n",
    "    \n",
    "    outflow[i] = sum([ sum([ Q[t+1,st]*C[t+1,st,i] for st in 1:length(all_perm(s, t)) ]) for t in 0:T])\n",
    "    inflow[i] = sum([ sum([ Q[t+1,st]*Y[t+1,st,i] for st in 1:length(all_perm(s, t)) ]) for t in 0:T])\n",
    "    \n",
    "    if outflow[i] > inflow[i]\n",
    "        μ[i] = μ[i]*(1.02)\n",
    "    elseif outflow[i] < inflow[i]\n",
    "        μ[i] = μ[i]*(0.95)\n",
    "    end \n",
    "    \n",
    "end \n",
    "\n",
    "@show outflow;\n",
    "@show inflow;\n",
    "@show inflow - outflow;\n",
    "@show μ ;"
   ]
  },
  {
   "cell_type": "code",
   "execution_count": 357,
   "metadata": {
    "ExecuteTime": {
     "end_time": "2021-04-21T08:12:50.337000-07:00",
     "start_time": "2021-04-21T15:12:50.321Z"
    }
   },
   "outputs": [
    {
     "data": {
      "text/plain": [
       "4×16×3 Array{Float64,3}:\n",
       "[:, :, 1] =\n",
       " 8.0  2.0  0.0  0.0  0.0  0.0  0.0  0.0  …  0.0  0.0  0.0  0.0  0.0  0.0  0.0\n",
       " 8.0  8.0  2.0  2.0  0.0  0.0  0.0  0.0     0.0  0.0  0.0  0.0  0.0  0.0  0.0\n",
       " 8.0  8.0  8.0  8.0  2.0  2.0  2.0  2.0     0.0  0.0  0.0  0.0  0.0  0.0  0.0\n",
       " 8.0  8.0  8.0  8.0  8.0  8.0  8.0  8.0     2.0  2.0  2.0  2.0  2.0  2.0  2.0\n",
       "\n",
       "[:, :, 2] =\n",
       " 7.0  2.0  0.0  0.0  0.0  0.0  0.0  0.0  …  0.0  0.0  0.0  0.0  0.0  0.0  0.0\n",
       " 7.0  7.0  2.0  2.0  0.0  0.0  0.0  0.0     0.0  0.0  0.0  0.0  0.0  0.0  0.0\n",
       " 7.0  7.0  7.0  7.0  2.0  2.0  2.0  2.0     0.0  0.0  0.0  0.0  0.0  0.0  0.0\n",
       " 7.0  7.0  7.0  7.0  7.0  7.0  7.0  7.0     2.0  2.0  2.0  2.0  2.0  2.0  2.0\n",
       "\n",
       "[:, :, 3] =\n",
       " 3.0  10.0   0.0   0.0   0.0   0.0  …   0.0   0.0   0.0   0.0   0.0   0.0\n",
       " 3.0   3.0  10.0  10.0   0.0   0.0      0.0   0.0   0.0   0.0   0.0   0.0\n",
       " 3.0   3.0   3.0   3.0  10.0  10.0      0.0   0.0   0.0   0.0   0.0   0.0\n",
       " 3.0   3.0   3.0   3.0   3.0   3.0     10.0  10.0  10.0  10.0  10.0  10.0"
      ]
     },
     "execution_count": 357,
     "metadata": {},
     "output_type": "execute_result"
    }
   ],
   "source": [
    "Y"
   ]
  },
  {
   "cell_type": "code",
   "execution_count": 354,
   "metadata": {
    "ExecuteTime": {
     "end_time": "2021-04-21T07:58:05.350000-07:00",
     "start_time": "2021-04-21T14:58:05.266Z"
    }
   },
   "outputs": [
    {
     "data": {
      "text/plain": [
       "4×16×3 Array{Float64,3}:\n",
       "[:, :, 1] =\n",
       " 43.2603  33.6469   0.0      0.0     …   0.0      0.0      0.0      0.0\n",
       " 43.2603  43.2603  33.6469  33.6469      0.0      0.0      0.0      0.0\n",
       " 43.2603  43.2603  43.2603  43.2603      0.0      0.0      0.0      0.0\n",
       " 43.2603  43.2603  43.2603  43.2603     33.6469  33.6469  33.6469  33.6469\n",
       "\n",
       "[:, :, 2] =\n",
       " 5.36984  4.17654  0.0      0.0      …  0.0      0.0      0.0      0.0\n",
       " 5.36984  5.36984  4.17654  4.17654     0.0      0.0      0.0      0.0\n",
       " 5.36984  5.36984  5.36984  5.36984     0.0      0.0      0.0      0.0\n",
       " 5.36984  5.36984  5.36984  5.36984     4.17654  4.17654  4.17654  4.17654\n",
       "\n",
       "[:, :, 3] =\n",
       " 5.36984  4.17654  0.0      0.0      …  0.0      0.0      0.0      0.0\n",
       " 5.36984  5.36984  4.17654  4.17654     0.0      0.0      0.0      0.0\n",
       " 5.36984  5.36984  5.36984  5.36984     0.0      0.0      0.0      0.0\n",
       " 5.36984  5.36984  5.36984  5.36984     4.17654  4.17654  4.17654  4.17654"
      ]
     },
     "execution_count": 354,
     "metadata": {},
     "output_type": "execute_result"
    }
   ],
   "source": [
    "C"
   ]
  },
  {
   "cell_type": "code",
   "execution_count": 355,
   "metadata": {
    "ExecuteTime": {
     "end_time": "2021-04-21T08:06:12.724000-07:00",
     "start_time": "2021-04-21T15:06:12.720Z"
    }
   },
   "outputs": [
    {
     "data": {
      "text/plain": [
       "4×16 Array{Float64,2}:\n",
       " 0.5     0.5     0.0     0.0     0.0     …  0.0     0.0     0.0     0.0\n",
       " 0.45    0.25    0.05    0.25    0.0        0.0     0.0     0.0     0.0\n",
       " 0.405   0.225   0.025   0.125   0.045      0.0     0.0     0.0     0.0\n",
       " 0.3645  0.2025  0.0225  0.1125  0.0225     0.0225  0.0125  0.0125  0.0625"
      ]
     },
     "execution_count": 355,
     "metadata": {},
     "output_type": "execute_result"
    }
   ],
   "source": [
    "P"
   ]
  },
  {
   "cell_type": "code",
   "execution_count": 356,
   "metadata": {
    "ExecuteTime": {
     "end_time": "2021-04-21T08:07:06.566000-07:00",
     "start_time": "2021-04-21T15:07:06.562Z"
    }
   },
   "outputs": [
    {
     "data": {
      "text/plain": [
       "4×16 Array{Float64,2}:\n",
       " 0.0760195  0.086198   0.0         …  0.0        0.0        0.0\n",
       " 0.0649967  0.0361093  0.00818881     0.0        0.0        0.0\n",
       " 0.0555722  0.0308734  0.00343038     0.0        0.0        0.0\n",
       " 0.0475142  0.0263968  0.00293298     0.0018476  0.0018476  0.00923801"
      ]
     },
     "execution_count": 356,
     "metadata": {},
     "output_type": "execute_result"
    }
   ],
   "source": [
    "Q"
   ]
  },
  {
   "cell_type": "markdown",
   "metadata": {},
   "source": [
    "## Implementing the Algorithm"
   ]
  },
  {
   "cell_type": "code",
   "execution_count": 361,
   "metadata": {
    "ExecuteTime": {
     "end_time": "2021-04-21T09:38:01.681000-07:00",
     "start_time": "2021-04-21T15:50:24.285Z"
    }
   },
   "outputs": [],
   "source": [
    "μ = [1.0,1.1,0.9]\n",
    "\n",
    "for iter in 1:500\n",
    "\n",
    "# Create empty containers for \n",
    "# agent consumption, prices, probabilities, and income\n",
    "C = zeros(T+1, length(all_perm(s,T)), I) # agent consumptions\n",
    "Q = zeros(T+1, length(all_perm(s,T))) # prices\n",
    "P = zeros(T+1, length(all_perm(s,T))) # probabilities\n",
    "Y = zeros(T+1, length(all_perm(s,T)), I) # agent incomes\n",
    "\n",
    "# Fill out all containers\n",
    "for t in 0:T\n",
    "    for st in 1:length(all_perm(s, t))\n",
    "\n",
    "        # Store realization of s^t\n",
    "        history = all_perm(s, t)[st]\n",
    "            \n",
    "        # Store final state of realized s^t\n",
    "        n = history[end]\n",
    "        \n",
    "        # Store prob. of realized s^t\n",
    "        prob = outcome_prob(history, P0, M)\n",
    "        \n",
    "        # Define system of equations\n",
    "        # equivalent to Eqs. (8.5.6) and (8.5.7)\n",
    "        g(cons) = [sum([ u_inv(u(cons[1])*(μ[i]/μ[1])) - sum(W[n,:]) for i in 1:I]);\n",
    "                        [cons[i] - u_inv(u(cons[1])*(μ[i]/μ[1])) for i in 2:I]]\n",
    "        \n",
    "        # Solve system of equations\n",
    "        solution = nlsolve(g, ones(I))\n",
    "        c = solution.zero # solution for (c_t^1(s^t),...,c_t^I(s^t))\n",
    "        \n",
    "        # Solve for price system at t given s^t\n",
    "        # using Eq. (8.5.4)\n",
    "        #z(price) = (β^t)*u(c[1])*prob - μ[1]*price[1]\n",
    "        #p_solution = nlsolve(z, [-15.0,15.0])\n",
    "        price = (β^t)*u(c[2])*prob/μ[2]\n",
    "        \n",
    "        # Store consumption\n",
    "        for i in 1:I\n",
    "            C[t+1,st,i] = c[i]\n",
    "        end \n",
    "        \n",
    "        # Store price\n",
    "        Q[t+1,st] = price\n",
    "        \n",
    "        # Store probability\n",
    "        P[t+1,st] = prob\n",
    "        \n",
    "        # Store income\n",
    "        for i in 1:I\n",
    "            Y[t+1,st,i] = W[n,i]\n",
    "        end \n",
    "        \n",
    "    end \n",
    "end \n",
    "\n",
    "# Create empty vectors to store\n",
    "# outflows and inflows for all agents\n",
    "outflow = zeros(I)\n",
    "inflow  = zeros(I)\n",
    "\n",
    "for i in 2:I\n",
    "    \n",
    "    outflow[i] = sum([ sum([ Q[t+1,st]*C[t+1,st,i] for st in 1:length(all_perm(s, t)) ]) for t in 0:T])\n",
    "    inflow[i] = sum([ sum([ Q[t+1,st]*Y[t+1,st,i] for st in 1:length(all_perm(s, t)) ]) for t in 0:T])\n",
    "    \n",
    "    if outflow[i] > inflow[i]\n",
    "        μ[i] = μ[i]*(1.02)\n",
    "    elseif outflow[i] < inflow[i]\n",
    "        μ[i] = μ[i]*(0.95)\n",
    "    end \n",
    "    \n",
    "end \n",
    "    \n",
    "end "
   ]
  },
  {
   "cell_type": "code",
   "execution_count": 363,
   "metadata": {
    "ExecuteTime": {
     "end_time": "2021-04-21T09:56:36.653000-07:00",
     "start_time": "2021-04-21T16:56:36.639Z"
    }
   },
   "outputs": [
    {
     "data": {
      "text/plain": [
       "3-element Array{Float64,1}:\n",
       " 1.0\n",
       " 2.631204626094999\n",
       " 2.6646130328716"
      ]
     },
     "execution_count": 363,
     "metadata": {},
     "output_type": "execute_result"
    }
   ],
   "source": [
    "μ"
   ]
  }
 ],
 "metadata": {
  "@webio": {
   "lastCommId": null,
   "lastKernelId": null
  },
  "kernelspec": {
   "display_name": "Julia 1.5.4",
   "language": "julia",
   "name": "julia-1.5"
  },
  "language_info": {
   "file_extension": ".jl",
   "mimetype": "application/julia",
   "name": "julia",
   "version": "1.5.4"
  },
  "latex_envs": {
   "LaTeX_envs_menu_present": true,
   "autoclose": false,
   "autocomplete": true,
   "bibliofile": "biblio.bib",
   "cite_by": "apalike",
   "current_citInitial": 1,
   "eqLabelWithNumbers": true,
   "eqNumInitial": 1,
   "hotkeys": {
    "equation": "Ctrl-E",
    "itemize": "Ctrl-I"
   },
   "labels_anchors": false,
   "latex_user_defs": false,
   "report_style_numbering": false,
   "user_envs_cfg": false
  }
 },
 "nbformat": 4,
 "nbformat_minor": 4
}

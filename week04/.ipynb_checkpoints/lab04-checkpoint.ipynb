{
 "cells": [
  {
   "cell_type": "markdown",
   "metadata": {},
   "source": [
    "# Solving Equilibria with Complete Markets\n",
    "\n",
    "Contents:\n",
    "\n",
    "- [Solving Equilibria with Complete Markets](#Solving-Equilibria-with-Complete-Markets)  \n",
    "  - [Key Equations](#Key-Equations)  \n",
    "  - [Negishi Algorithm](#Negishi-Algorithm)\n",
    "  - [Setting Up Complete Markets](#Setting-Up-Complete-Markets)  \n",
    "  - [Steps 1 and 2 of the Algorithm](#Steps-1-and-2-of-the-Algorithm)   \n",
    "  - [Step 3 of the Algorithm](#Step-3-of-the-Algorithm)   \n",
    "  - [Implementing the Algorithm](#Implementing-the-Algorithm)   \n",
    "\n",
    "This lab includes:\n",
    "\n",
    "(1) An overview of the key equations necessary for solving for complete market equilibria;\n",
    "\n",
    "(2) An overview of the Negishi algorithm;\n",
    "\n",
    "(3) A basic setup for a model with complete markets;\n",
    "\n",
    "(4) An application of a single iteration of steps 1 and 2 of the algorithm;\n",
    "\n",
    "(5) An application of a single iteration of step 3 of the algorithm;\n",
    "\n",
    "(6) An implementation of the full algorithm up to convergence.\n",
    "\n",
    "----"
   ]
  },
  {
   "cell_type": "markdown",
   "metadata": {},
   "source": [
    "## Key Equations"
   ]
  },
  {
   "cell_type": "markdown",
   "metadata": {},
   "source": [
    "In this section I list all equations relevant to solving for an equilibrium of a complete markets model.\n",
    "\n",
    "All equations are taken from Ljungqvist and Sargent, and numbered accordingly."
   ]
  },
  {
   "cell_type": "markdown",
   "metadata": {},
   "source": [
    "### Eq. (8.2.2)\n",
    "\n",
    "A feasible allocation satisfies \n",
    "\n",
    "\\begin{align*}\n",
    "\\sum_{i} c_t^i(s^t) \\leq \\sum_{i} y_t^i(s^t) \\, ,\n",
    "\\end{align*}\n",
    "\n",
    "for all $t$ and for all $s^t$."
   ]
  },
  {
   "cell_type": "markdown",
   "metadata": {},
   "source": [
    "### Eq. (8.5.1)\n",
    "\n",
    "The consumer's budget constraint is expressed as \n",
    "\n",
    "\\begin{align*}\n",
    "\\sum_{t=0}^\\infty \\sum_{s^t} q_t^0(s^t)c_t^i(s^t) \\leq \\sum_{t=0}^\\infty \\sum_{s^t} q_t^0(s^t) y_t^i(s^t)  \\, .\n",
    "\\end{align*}"
   ]
  },
  {
   "cell_type": "markdown",
   "metadata": {},
   "source": [
    "### Eq. (8.5.4)\n",
    "\n",
    "The following equation will later be used to solve for $q_t^0(s^t)$:\n",
    "\n",
    "\\begin{align*}\n",
    "\\beta^t u_i' (c_t^i(s^t)) \\pi_t(s^t) = \\mu_i q_t^0(s^t) \\, .\n",
    "\\end{align*}"
   ]
  },
  {
   "cell_type": "markdown",
   "metadata": {},
   "source": [
    "### Eq. (8.5.5)\n",
    "\n",
    "The following equation is obtained by dividing both sides of Eq. (8.5.4) by itself for a different $i$:\n",
    "\n",
    "\\begin{align*}\n",
    "\\frac{u_i'(c_t^i(s^t))}{u_j'(c_t^j(s^t))} = \\frac{\\mu_i}{\\mu_j} \\, ,\n",
    "\\end{align*}\n",
    "\n",
    "for all pairs of $(i,j)$."
   ]
  },
  {
   "cell_type": "markdown",
   "metadata": {},
   "source": [
    "### Eq. (8.5.6)\n",
    "\n",
    "An equilibrium allocation solves equations (8.2.2), (8.5.1), and (8.5.5).\n",
    "\n",
    "Note that equation (8.5.5) implies \n",
    "\n",
    "\\begin{align*}\n",
    "c_t^i(s^t) = u_i'^{-1} \\left\\{ u_1' (c_t^1(s^t)) \\frac{\\mu_i}{\\mu_1} \\right\\} \\, .\n",
    "\\end{align*}"
   ]
  },
  {
   "cell_type": "markdown",
   "metadata": {},
   "source": [
    "### Eq. (8.5.7)\n",
    "\n",
    "Substituting (8.5.6) into Eq. (8.2.2) at equality gives \n",
    "\n",
    "\\begin{align*}\n",
    "\\sum_i u_i'^{-1} \\left\\{ u_1' (c_t^1(s^t)) \\frac{\\mu_i}{\\mu_1} \\right\\}  = \\sum_i y_t^i(s^t) \\, .\n",
    "\\end{align*}"
   ]
  },
  {
   "cell_type": "markdown",
   "metadata": {},
   "source": [
    "## Negishi Algorithm\n",
    "\n",
    "To compute an equilibrium, we have to determine ratios of the Lagrange multipliers, $\\mu_i/\\mu_1$, $i = 1,\\ldots,I$, that appear in equations (8.5.6) and (8.5.7).\n",
    "\n",
    "The following **Negishi algorithm** accomplishes this using the following steps:\n",
    "\n",
    "### Step \\#1\n",
    "\n",
    "Fix any positive value for one $\\mu_i$, say $\\mu_1$, throughout the algorithm.\n",
    "Guess positive values for the remaining $\\mu_i$'s.\n",
    "Then solve equations (8.5.6) and (8.5.7) for a candidate consumption allocation $c^i$, $i = 1,\\ldots,I$.\n",
    "\n",
    "### Step \\#2\n",
    "\n",
    "Use (8.5.4) for any consumer $i$ to solve for the price system $q_t^0(s^t)$.\n",
    "\n",
    "### Step \\#3\n",
    "\n",
    "For $i = 1,\\ldots,I$, check the budget constraint (8.5.1).\n",
    "For those $i$'s for which the cost of consumption exceeds the value of their endowment, raise $\\mu_i$, while for those $i$'s for which the reverse inequality holds, lower $\\mu_i$.\n",
    "\n",
    "### Step \\#4\n",
    "\n",
    "Iterate to convergence on steps 1-3."
   ]
  },
  {
   "cell_type": "markdown",
   "metadata": {},
   "source": [
    "## Setting Up Complete Markets"
   ]
  },
  {
   "cell_type": "markdown",
   "metadata": {},
   "source": [
    "Load all necessary packages."
   ]
  },
  {
   "cell_type": "code",
   "execution_count": 62,
   "metadata": {
    "ExecuteTime": {
     "end_time": "2021-04-21T05:33:21.932000-07:00",
     "start_time": "2021-04-21T12:33:21.894Z"
    }
   },
   "outputs": [],
   "source": [
    "using LinearAlgebra, NLsolve"
   ]
  },
  {
   "cell_type": "markdown",
   "metadata": {},
   "source": [
    "Specify basic model properties."
   ]
  },
  {
   "cell_type": "code",
   "execution_count": 63,
   "metadata": {
    "ExecuteTime": {
     "end_time": "2021-04-21T05:33:26.759000-07:00",
     "start_time": "2021-04-21T12:33:26.714Z"
    }
   },
   "outputs": [],
   "source": [
    "I = 3 # number of agents\n",
    "μ = ones(I) # Lagrange multipliers for all agents\n",
    "s = [1, 2] # states \n",
    "N = length(s) # total number of states \n",
    "W = zeros(N,I) # empty wage matrix \n",
    "\n",
    "for i in 1:N\n",
    "    W[i,:] = randn(I) # Fill out wage matrix\n",
    "end \n",
    "\n",
    "T = 3 # total number of time periods (t = 0,1,...,T)\n",
    ";"
   ]
  },
  {
   "cell_type": "markdown",
   "metadata": {},
   "source": [
    "Create a function that generates the set of all possible histories $s^t$ for any given $t$ for the specified model."
   ]
  },
  {
   "cell_type": "code",
   "execution_count": 364,
   "metadata": {
    "ExecuteTime": {
     "end_time": "2021-04-21T13:20:50.765000-07:00",
     "start_time": "2021-04-21T20:20:50.220Z"
    }
   },
   "outputs": [
    {
     "data": {
      "text/plain": [
       "all_perm (generic function with 1 method)"
      ]
     },
     "execution_count": 364,
     "metadata": {},
     "output_type": "execute_result"
    }
   ],
   "source": [
    "all_perm(s, t) = vec(map(collect, Iterators.product(ntuple(_ -> s, t+1)...)))"
   ]
  },
  {
   "cell_type": "markdown",
   "metadata": {},
   "source": [
    "Specify some more model primitives.\n",
    "\n",
    "Specifically, set up the underlying Markov process for the state variable."
   ]
  },
  {
   "cell_type": "code",
   "execution_count": 65,
   "metadata": {
    "ExecuteTime": {
     "end_time": "2021-04-21T05:33:28.573000-07:00",
     "start_time": "2021-04-21T12:33:28.550Z"
    }
   },
   "outputs": [
    {
     "data": {
      "text/plain": [
       "2×2 Array{Float64,2}:\n",
       " 0.9  0.1\n",
       " 0.5  0.5"
      ]
     },
     "execution_count": 65,
     "metadata": {},
     "output_type": "execute_result"
    }
   ],
   "source": [
    "P0 = ones(N)/N # initial distribution\n",
    "M = [0.9 0.1; 0.5 0.5] # stochastic matrix"
   ]
  },
  {
   "cell_type": "markdown",
   "metadata": {},
   "source": [
    "Create a function that returns the probability of any given history $s^t$."
   ]
  },
  {
   "cell_type": "code",
   "execution_count": 66,
   "metadata": {
    "ExecuteTime": {
     "end_time": "2021-04-21T05:33:29.305000-07:00",
     "start_time": "2021-04-21T12:33:29.300Z"
    }
   },
   "outputs": [
    {
     "data": {
      "text/plain": [
       "outcome_prob (generic function with 1 method)"
      ]
     },
     "execution_count": 66,
     "metadata": {},
     "output_type": "execute_result"
    }
   ],
   "source": [
    "function outcome_prob(history, P0, M)\n",
    "    \n",
    "# Store probability of initial state \n",
    "probability = P0[history[1]]\n",
    "\n",
    "# Compute probability of `outcome` sequence\n",
    "for i in 2:length(history)\n",
    "    probability = probability * M[history[i-1], history[i]]\n",
    "    end \n",
    "    \n",
    "    # Return `probability` -- prob. of sequence `outcome`\n",
    "    return probability\n",
    "end "
   ]
  },
  {
   "cell_type": "markdown",
   "metadata": {},
   "source": [
    "Let's make sure that our functions work."
   ]
  },
  {
   "cell_type": "code",
   "execution_count": 366,
   "metadata": {
    "ExecuteTime": {
     "end_time": "2021-04-21T13:23:56.341000-07:00",
     "start_time": "2021-04-21T20:23:56.324Z"
    }
   },
   "outputs": [
    {
     "data": {
      "text/plain": [
       "8-element Array{Array{Int64,1},1}:\n",
       " [1, 1, 1]\n",
       " [2, 1, 1]\n",
       " [1, 2, 1]\n",
       " [2, 2, 1]\n",
       " [1, 1, 2]\n",
       " [2, 1, 2]\n",
       " [1, 2, 2]\n",
       " [2, 2, 2]"
      ]
     },
     "execution_count": 366,
     "metadata": {},
     "output_type": "execute_result"
    }
   ],
   "source": [
    "history = all_perm(s, 2)"
   ]
  },
  {
   "cell_type": "code",
   "execution_count": 68,
   "metadata": {
    "ExecuteTime": {
     "end_time": "2021-04-21T05:33:30.847000-07:00",
     "start_time": "2021-04-21T12:33:30.801Z"
    }
   },
   "outputs": [
    {
     "data": {
      "text/plain": [
       "0.405"
      ]
     },
     "execution_count": 68,
     "metadata": {},
     "output_type": "execute_result"
    }
   ],
   "source": [
    "history = all_perm(s, 2)[1]\n",
    "outcome_prob(history, P0, M)"
   ]
  },
  {
   "cell_type": "markdown",
   "metadata": {},
   "source": [
    "The above code is sufficient to allow us to set up any kind of state process."
   ]
  },
  {
   "cell_type": "markdown",
   "metadata": {},
   "source": [
    "Lastly, specify the consumers' utility functions.\n",
    "\n",
    "Here we consider a constant relative risk-aversion (CRRA) utility function:"
   ]
  },
  {
   "cell_type": "code",
   "execution_count": 367,
   "metadata": {
    "ExecuteTime": {
     "end_time": "2021-04-21T13:28:13.946000-07:00",
     "start_time": "2021-04-21T20:28:13.830Z"
    }
   },
   "outputs": [
    {
     "data": {
      "text/plain": [
       "u_inv (generic function with 1 method)"
      ]
     },
     "execution_count": 367,
     "metadata": {},
     "output_type": "execute_result"
    }
   ],
   "source": [
    "γ = 2 # specify γ parameter\n",
    "u(c) = c^(-γ) # utility function \n",
    "u_inv(u) = u^(-1/γ) # inverse of the utility function"
   ]
  },
  {
   "cell_type": "markdown",
   "metadata": {},
   "source": [
    "Recall that the CRRA specification can be used to solve for an equilibrium analytically."
   ]
  },
  {
   "cell_type": "markdown",
   "metadata": {},
   "source": [
    "Lastly, let's just re-define all model primitives in one place for easy reference."
   ]
  },
  {
   "cell_type": "code",
   "execution_count": 369,
   "metadata": {
    "ExecuteTime": {
     "end_time": "2021-04-21T13:51:41.817000-07:00",
     "start_time": "2021-04-21T20:51:41.745Z"
    }
   },
   "outputs": [],
   "source": [
    "I = 3 # number of agents\n",
    "μ = ones(I) # Lagrange multipliers for each agent\n",
    "s = [1, 2] # states \n",
    "N = length(s) # total number of states \n",
    "W = zeros(N,I) # empty wage matrix \n",
    "β = 0.95\n",
    "\n",
    "for i in 1:N\n",
    "    W[i,:] = rand(1:10,I) # Fill out wage matrix\n",
    "end \n",
    "\n",
    "T = 3 # total number of time periods (t = 0,1,...,T)\n",
    "\n",
    "P0 = ones(N)/N # initial distribution\n",
    "M = [0.9 0.1; 0.5 0.5] # stochastic matrix\n",
    "\n",
    "γ = 0.5 # specify γ parameter\n",
    "u(c) = c^(-γ) # utility function derivative \n",
    "u_inv(u) = u^(-1/γ) # inverse of the utility function derivative\n",
    "\n",
    "μ = [1.0,1.0,1.0] # Lagrange multipliers for each agent\n",
    ";"
   ]
  },
  {
   "cell_type": "markdown",
   "metadata": {},
   "source": [
    "## Steps 1 and 2 of the Algorithm"
   ]
  },
  {
   "cell_type": "markdown",
   "metadata": {},
   "source": []
  },
  {
   "cell_type": "code",
   "execution_count": 370,
   "metadata": {
    "ExecuteTime": {
     "end_time": "2021-04-21T13:52:17.010000-07:00",
     "start_time": "2021-04-21T20:51:46.477Z"
    }
   },
   "outputs": [],
   "source": [
    "\"\"\"\n",
    "Steps #1 & #2 of the algorithm.\n",
    "\n",
    "Compute prices and consumption associated with all s^t.\n",
    "\n",
    "\"\"\"\n",
    "\n",
    "# Create empty containers for \n",
    "# agent consumption, prices, probabilities, and income\n",
    "C = zeros(T+1, length(all_perm(s,T)), I) # agent consumptions\n",
    "Q = zeros(T+1, length(all_perm(s,T))) # prices\n",
    "P = zeros(T+1, length(all_perm(s,T))) # probabilities\n",
    "Y = zeros(T+1, length(all_perm(s,T)), I) # agent endowments\n",
    "\n",
    "# Fill out all containers\n",
    "for t in 0:T\n",
    "    for st in 1:length(all_perm(s, t))\n",
    "\n",
    "        # Store realization of s^t\n",
    "        history = all_perm(s, t)[st]\n",
    "            \n",
    "        # Store final state of realized s^t\n",
    "        n = history[end]\n",
    "        \n",
    "        # Store prob. of realized s^t\n",
    "        prob = outcome_prob(history, P0, M)\n",
    "        \n",
    "        # Define system of equations\n",
    "        # equivalent to Eqs. (8.5.6) and (8.5.7)\n",
    "        g(cons) = [ sum([ u_inv(u(cons[1])*(μ[i]/μ[1])) - sum(W[n,:]) for i in 1:I]);\n",
    "                        [cons[i] - u_inv(u(cons[1])*(μ[i]/μ[1])) for i in 2:I] ]\n",
    "        \n",
    "        # Solve system of equations\n",
    "        solution = nlsolve(g, ones(I))\n",
    "        c = solution.zero # solution for (c_t^1(s^t),...,c_t^I(s^t))\n",
    "        \n",
    "        # Solve for price system at t given s^t\n",
    "        # using Eq. (8.5.4)\n",
    "        #z(price) = (β^t)*u(c[1])*prob - μ[1]*price[1]\n",
    "        #p_solution = nlsolve(z, [-15.0,15.0])\n",
    "        price = (β^t)*u(c[2])*prob/μ[2]\n",
    "        \n",
    "        # Store consumption\n",
    "        for i in 1:I\n",
    "            C[t+1,st,i] = c[i]\n",
    "        end \n",
    "        \n",
    "        # Store price\n",
    "        Q[t+1,st] = price\n",
    "        \n",
    "        # Store probability\n",
    "        P[t+1,st] = prob\n",
    "        \n",
    "        # Store endowment\n",
    "        for i in 1:I\n",
    "            Y[t+1,st,i] = W[n,i]\n",
    "        end \n",
    "        \n",
    "    end \n",
    "end "
   ]
  },
  {
   "cell_type": "markdown",
   "metadata": {},
   "source": [
    "## Step 3 of the Algorithm"
   ]
  },
  {
   "cell_type": "markdown",
   "metadata": {},
   "source": []
  },
  {
   "cell_type": "code",
   "execution_count": 371,
   "metadata": {
    "ExecuteTime": {
     "end_time": "2021-04-21T13:52:17.929000-07:00",
     "start_time": "2021-04-21T20:51:52.288Z"
    }
   },
   "outputs": [
    {
     "name": "stdout",
     "output_type": "stream",
     "text": [
      "outflow = [0.0, 17.24490473683121, 17.24490473683121]\n",
      "inflow = [0.0, 3.671200809826186, 6.8650134985572215]\n",
      "inflow - outflow = [0.0, -13.573703927005024, -10.379891238273988]\n",
      "μ = [1.0, 1.02, 1.02]\n"
     ]
    }
   ],
   "source": [
    "\"\"\"\n",
    "Step #3 of the algorithm.\n",
    "\n",
    "Check budget constraints and adjust μ.\n",
    "\"\"\"\n",
    "\n",
    "# Create empty vectors to store\n",
    "# outflows and inflows for all agents\n",
    "outflow = zeros(I)\n",
    "inflow  = zeros(I)\n",
    "\n",
    "for i in 2:I\n",
    "    \n",
    "    outflow[i] = sum([ sum([ Q[t+1,st]*C[t+1,st,i] for st in 1:length(all_perm(s, t)) ]) for t in 0:T])\n",
    "    inflow[i] = sum([ sum([ Q[t+1,st]*Y[t+1,st,i] for st in 1:length(all_perm(s, t)) ]) for t in 0:T])\n",
    "    \n",
    "    if outflow[i] > inflow[i]\n",
    "        μ[i] = μ[i]*(1.02)\n",
    "    elseif outflow[i] < inflow[i]\n",
    "        μ[i] = μ[i]*(0.95)\n",
    "    end \n",
    "    \n",
    "end \n",
    "\n",
    "@show outflow;\n",
    "@show inflow;\n",
    "@show inflow - outflow;\n",
    "@show μ ;"
   ]
  },
  {
   "cell_type": "code",
   "execution_count": 375,
   "metadata": {
    "ExecuteTime": {
     "end_time": "2021-04-21T13:55:12.866000-07:00",
     "start_time": "2021-04-21T20:55:12.796Z"
    }
   },
   "outputs": [
    {
     "data": {
      "text/plain": [
       "4×16×3 Array{Float64,3}:\n",
       "[:, :, 1] =\n",
       " 9.0  7.0  0.0  0.0  0.0  0.0  0.0  0.0  …  0.0  0.0  0.0  0.0  0.0  0.0  0.0\n",
       " 9.0  9.0  7.0  7.0  0.0  0.0  0.0  0.0     0.0  0.0  0.0  0.0  0.0  0.0  0.0\n",
       " 9.0  9.0  9.0  9.0  7.0  7.0  7.0  7.0     0.0  0.0  0.0  0.0  0.0  0.0  0.0\n",
       " 9.0  9.0  9.0  9.0  9.0  9.0  9.0  9.0     7.0  7.0  7.0  7.0  7.0  7.0  7.0\n",
       "\n",
       "[:, :, 2] =\n",
       " 4.0  6.0  0.0  0.0  0.0  0.0  0.0  0.0  …  0.0  0.0  0.0  0.0  0.0  0.0  0.0\n",
       " 4.0  4.0  6.0  6.0  0.0  0.0  0.0  0.0     0.0  0.0  0.0  0.0  0.0  0.0  0.0\n",
       " 4.0  4.0  4.0  4.0  6.0  6.0  6.0  6.0     0.0  0.0  0.0  0.0  0.0  0.0  0.0\n",
       " 4.0  4.0  4.0  4.0  4.0  4.0  4.0  4.0     6.0  6.0  6.0  6.0  6.0  6.0  6.0\n",
       "\n",
       "[:, :, 3] =\n",
       " 8.0  10.0   0.0   0.0   0.0   0.0  …   0.0   0.0   0.0   0.0   0.0   0.0\n",
       " 8.0   8.0  10.0  10.0   0.0   0.0      0.0   0.0   0.0   0.0   0.0   0.0\n",
       " 8.0   8.0   8.0   8.0  10.0  10.0      0.0   0.0   0.0   0.0   0.0   0.0\n",
       " 8.0   8.0   8.0   8.0   8.0   8.0     10.0  10.0  10.0  10.0  10.0  10.0"
      ]
     },
     "execution_count": 375,
     "metadata": {},
     "output_type": "execute_result"
    }
   ],
   "source": [
    "Y"
   ]
  },
  {
   "cell_type": "code",
   "execution_count": 376,
   "metadata": {
    "ExecuteTime": {
     "end_time": "2021-04-21T13:55:15.379000-07:00",
     "start_time": "2021-04-21T20:55:15.368Z"
    }
   },
   "outputs": [
    {
     "data": {
      "text/plain": [
       "4×16×3 Array{Float64,3}:\n",
       "[:, :, 1] =\n",
       " 21.0  23.0   0.0   0.0   0.0   0.0  …   0.0   0.0   0.0   0.0   0.0   0.0\n",
       " 21.0  21.0  23.0  23.0   0.0   0.0      0.0   0.0   0.0   0.0   0.0   0.0\n",
       " 21.0  21.0  21.0  21.0  23.0  23.0      0.0   0.0   0.0   0.0   0.0   0.0\n",
       " 21.0  21.0  21.0  21.0  21.0  21.0     23.0  23.0  23.0  23.0  23.0  23.0\n",
       "\n",
       "[:, :, 2] =\n",
       " 21.0  23.0   0.0   0.0   0.0   0.0  …   0.0   0.0   0.0   0.0   0.0   0.0\n",
       " 21.0  21.0  23.0  23.0   0.0   0.0      0.0   0.0   0.0   0.0   0.0   0.0\n",
       " 21.0  21.0  21.0  21.0  23.0  23.0      0.0   0.0   0.0   0.0   0.0   0.0\n",
       " 21.0  21.0  21.0  21.0  21.0  21.0     23.0  23.0  23.0  23.0  23.0  23.0\n",
       "\n",
       "[:, :, 3] =\n",
       " 21.0  23.0   0.0   0.0   0.0   0.0  …   0.0   0.0   0.0   0.0   0.0   0.0\n",
       " 21.0  21.0  23.0  23.0   0.0   0.0      0.0   0.0   0.0   0.0   0.0   0.0\n",
       " 21.0  21.0  21.0  21.0  23.0  23.0      0.0   0.0   0.0   0.0   0.0   0.0\n",
       " 21.0  21.0  21.0  21.0  21.0  21.0     23.0  23.0  23.0  23.0  23.0  23.0"
      ]
     },
     "execution_count": 376,
     "metadata": {},
     "output_type": "execute_result"
    }
   ],
   "source": [
    "C"
   ]
  },
  {
   "cell_type": "code",
   "execution_count": 377,
   "metadata": {
    "ExecuteTime": {
     "end_time": "2021-04-21T13:55:38.890000-07:00",
     "start_time": "2021-04-21T20:55:38.840Z"
    }
   },
   "outputs": [
    {
     "data": {
      "text/plain": [
       "4×16 Array{Float64,2}:\n",
       " 0.5     0.5     0.0     0.0     0.0     …  0.0     0.0     0.0     0.0\n",
       " 0.45    0.25    0.05    0.25    0.0        0.0     0.0     0.0     0.0\n",
       " 0.405   0.225   0.025   0.125   0.045      0.0     0.0     0.0     0.0\n",
       " 0.3645  0.2025  0.0225  0.1125  0.0225     0.0225  0.0125  0.0125  0.0625"
      ]
     },
     "execution_count": 377,
     "metadata": {},
     "output_type": "execute_result"
    }
   ],
   "source": [
    "P"
   ]
  },
  {
   "cell_type": "code",
   "execution_count": 379,
   "metadata": {
    "ExecuteTime": {
     "end_time": "2021-04-21T13:56:39.340000-07:00",
     "start_time": "2021-04-21T20:56:39.336Z"
    }
   },
   "outputs": [
    {
     "data": {
      "text/plain": [
       "4×16 Array{Float64,2}:\n",
       " 0.109109   0.104257   0.0         …  0.0         0.0         0.0\n",
       " 0.0932881  0.0518267  0.00990443     0.0         0.0         0.0\n",
       " 0.0797614  0.0443119  0.00492354     0.0         0.0         0.0\n",
       " 0.068196   0.0378866  0.00420963     0.00223469  0.00223469  0.0111734"
      ]
     },
     "execution_count": 379,
     "metadata": {},
     "output_type": "execute_result"
    }
   ],
   "source": [
    "Q"
   ]
  },
  {
   "cell_type": "markdown",
   "metadata": {},
   "source": [
    "## Implementing the Algorithm"
   ]
  },
  {
   "cell_type": "code",
   "execution_count": 361,
   "metadata": {
    "ExecuteTime": {
     "end_time": "2021-04-21T09:38:01.681000-07:00",
     "start_time": "2021-04-21T15:50:24.285Z"
    }
   },
   "outputs": [],
   "source": [
    "μ = [1.0,1.1,0.9]\n",
    "\n",
    "for iter in 1:500\n",
    "\n",
    "# Create empty containers for \n",
    "# agent consumption, prices, probabilities, and income\n",
    "C = zeros(T+1, length(all_perm(s,T)), I) # agent consumptions\n",
    "Q = zeros(T+1, length(all_perm(s,T))) # prices\n",
    "P = zeros(T+1, length(all_perm(s,T))) # probabilities\n",
    "Y = zeros(T+1, length(all_perm(s,T)), I) # agent incomes\n",
    "\n",
    "# Fill out all containers\n",
    "for t in 0:T\n",
    "    for st in 1:length(all_perm(s, t))\n",
    "\n",
    "        # Store realization of s^t\n",
    "        history = all_perm(s, t)[st]\n",
    "            \n",
    "        # Store final state of realized s^t\n",
    "        n = history[end]\n",
    "        \n",
    "        # Store prob. of realized s^t\n",
    "        prob = outcome_prob(history, P0, M)\n",
    "        \n",
    "        # Define system of equations\n",
    "        # equivalent to Eqs. (8.5.6) and (8.5.7)\n",
    "        g(cons) = [sum([ u_inv(u(cons[1])*(μ[i]/μ[1])) - sum(W[n,:]) for i in 1:I]);\n",
    "                        [cons[i] - u_inv(u(cons[1])*(μ[i]/μ[1])) for i in 2:I]]\n",
    "        \n",
    "        # Solve system of equations\n",
    "        solution = nlsolve(g, ones(I))\n",
    "        c = solution.zero # solution for (c_t^1(s^t),...,c_t^I(s^t))\n",
    "        \n",
    "        # Solve for price system at t given s^t\n",
    "        # using Eq. (8.5.4)\n",
    "        #z(price) = (β^t)*u(c[1])*prob - μ[1]*price[1]\n",
    "        #p_solution = nlsolve(z, [-15.0,15.0])\n",
    "        price = (β^t)*u(c[2])*prob/μ[2]\n",
    "        \n",
    "        # Store consumption\n",
    "        for i in 1:I\n",
    "            C[t+1,st,i] = c[i]\n",
    "        end \n",
    "        \n",
    "        # Store price\n",
    "        Q[t+1,st] = price\n",
    "        \n",
    "        # Store probability\n",
    "        P[t+1,st] = prob\n",
    "        \n",
    "        # Store income\n",
    "        for i in 1:I\n",
    "            Y[t+1,st,i] = W[n,i]\n",
    "        end \n",
    "        \n",
    "    end \n",
    "end \n",
    "\n",
    "# Create empty vectors to store\n",
    "# outflows and inflows for all agents\n",
    "outflow = zeros(I)\n",
    "inflow  = zeros(I)\n",
    "\n",
    "for i in 2:I\n",
    "    \n",
    "    outflow[i] = sum([ sum([ Q[t+1,st]*C[t+1,st,i] for st in 1:length(all_perm(s, t)) ]) for t in 0:T])\n",
    "    inflow[i] = sum([ sum([ Q[t+1,st]*Y[t+1,st,i] for st in 1:length(all_perm(s, t)) ]) for t in 0:T])\n",
    "    \n",
    "    if outflow[i] > inflow[i]\n",
    "        μ[i] = μ[i]*(1.02)\n",
    "    elseif outflow[i] < inflow[i]\n",
    "        μ[i] = μ[i]*(0.95)\n",
    "    end \n",
    "    \n",
    "end \n",
    "    \n",
    "end "
   ]
  },
  {
   "cell_type": "code",
   "execution_count": 363,
   "metadata": {
    "ExecuteTime": {
     "end_time": "2021-04-21T09:56:36.653000-07:00",
     "start_time": "2021-04-21T16:56:36.639Z"
    }
   },
   "outputs": [
    {
     "data": {
      "text/plain": [
       "3-element Array{Float64,1}:\n",
       " 1.0\n",
       " 2.631204626094999\n",
       " 2.6646130328716"
      ]
     },
     "execution_count": 363,
     "metadata": {},
     "output_type": "execute_result"
    }
   ],
   "source": [
    "μ"
   ]
  }
 ],
 "metadata": {
  "@webio": {
   "lastCommId": null,
   "lastKernelId": null
  },
  "kernelspec": {
   "display_name": "Julia 1.5.4",
   "language": "julia",
   "name": "julia-1.5"
  },
  "language_info": {
   "file_extension": ".jl",
   "mimetype": "application/julia",
   "name": "julia",
   "version": "1.5.4"
  },
  "latex_envs": {
   "LaTeX_envs_menu_present": true,
   "autoclose": false,
   "autocomplete": true,
   "bibliofile": "biblio.bib",
   "cite_by": "apalike",
   "current_citInitial": 1,
   "eqLabelWithNumbers": true,
   "eqNumInitial": 1,
   "hotkeys": {
    "equation": "Ctrl-E",
    "itemize": "Ctrl-I"
   },
   "labels_anchors": false,
   "latex_user_defs": false,
   "report_style_numbering": false,
   "user_envs_cfg": false
  }
 },
 "nbformat": 4,
 "nbformat_minor": 4
}

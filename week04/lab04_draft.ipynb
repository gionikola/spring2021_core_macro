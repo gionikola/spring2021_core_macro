{
 "cells": [
  {
   "cell_type": "markdown",
   "metadata": {},
   "source": [
    "### Eq. (8.2.2)\n",
    "\n",
    "A feasible allocation satisfies \n",
    "\n",
    "\\begin{align*}\n",
    "\\sum_{i} c_t^i(s^t) \\leq \\sum_{i} y_t^i(s^t)\n",
    "\\end{align*}\n",
    "\n",
    "for all $t$ and for all $s^t$."
   ]
  },
  {
   "cell_type": "markdown",
   "metadata": {},
   "source": [
    "### Eq. (8.5.1)\n",
    "\n",
    "The consumer's budget constraint is \n",
    "\n",
    "\\begin{align*}\n",
    "\\sum_{t=0}^\\infty \\sum_{s^t} q_t^0(s^t)c_t^i(s^t) \\leq \\sum_{t=0}^\\infty \\sum_{s^t} q_t^0(s^t) y_t^i(s^t) \n",
    "\\end{align*}"
   ]
  },
  {
   "cell_type": "markdown",
   "metadata": {},
   "source": [
    "### Eq. (8.5.4)\n",
    "\n",
    "\\begin{align*}\n",
    "\\beta^t u_i' (c_t^i(s^t)) \\pi_t(s^t) = \\mu_i q_t^0(s^t)\n",
    "\\end{align*}"
   ]
  },
  {
   "cell_type": "markdown",
   "metadata": {},
   "source": [
    "### Eq. (8.5.5)\n",
    "\n",
    "\\begin{align*}\n",
    "\\frac{u_i'(c_t^i(s^t))}{u_j'(c_t^j(s^t))} = \\frac{\\mu_i}{\\mu_j}\n",
    "\\end{align*}\n",
    "\n",
    "for all pairs of $(i,j)$."
   ]
  },
  {
   "cell_type": "markdown",
   "metadata": {},
   "source": [
    "### Eq. (8.5.6)\n",
    "\n",
    "An equilibrium allocation solves equations (8.2.2), (8.5.1), and (8.5.5).\n",
    "Note that equation (8.5.5) implies that \n",
    "\n",
    "\\begin{align*}\n",
    "c_t^i(s^t) = u_i'^{-1} \\left\\{ u_1' (c_t^1(s^t)) \\frac{\\mu_i}{\\mu_1} \\right\\} \n",
    "\\end{align*}"
   ]
  },
  {
   "cell_type": "markdown",
   "metadata": {},
   "source": [
    "### Eq. (8.5.7)\n",
    "\n",
    "Substitution (8.5.6) into Eq. (8.2.2) at equality gives \n",
    "\n",
    "\\begin{align*}\n",
    "\\sum_i u_i'^{-1} \\left\\{ u_1' (c_t^1(s^t)) \\frac{\\mu_i}{\\mu_1} \\right\\}  = \\sum_i y_t^i(s^t) \n",
    "\\end{align*}"
   ]
  },
  {
   "cell_type": "markdown",
   "metadata": {},
   "source": [
    "## Negishi Algorithm\n",
    "\n",
    "To compute an equilibrium, we have to determine ratios of the Lagrange multipliers, $\\mu_i/\\mu_1$, $i = 1,\\ldots,I$, that appear in equations (8.5.6) and (8.5.7).\n",
    "\n",
    "The following **Negishi algorithm** accomplishes this:\n",
    "\n",
    "(1) Fix any positive value for one $\\mu_i$, say $\\mu_1$, throughout the algorithm.\n",
    "Guess positive values for the remaining $\\mu_i$'s.\n",
    "Then solve equations (8.5.6) and (8.5.7) for a candidate consumption allocation $c^i$, $i = 1,\\ldots,I$.\n",
    "\n",
    "(2) Use (8.5.4) for any consumer $i$ to solve for the price system $q_t^0(s^t)$.\n",
    "\n",
    "(3) For $i = 1,\\ldots,I$, check the budget constraint (8.5.1).\n",
    "For those $i$'s for which the cost of consumption exceeds the value of their endowment, raise $\\mu_i$, while for those $i$'s for which the reverse inequality holds, lower $\\mu_i$.\n",
    "\n",
    "(4) Iterate to convergence on steps 1-3."
   ]
  },
  {
   "cell_type": "markdown",
   "metadata": {},
   "source": [
    "## Code "
   ]
  },
  {
   "cell_type": "code",
   "execution_count": 58,
   "metadata": {
    "ExecuteTime": {
     "end_time": "2021-04-20T06:45:42.007000-07:00",
     "start_time": "2021-04-20T13:45:41.985Z"
    }
   },
   "outputs": [
    {
     "ename": "LoadError",
     "evalue": "\u001b[91mArgumentError: Package Iterators not found in current path:\u001b[39m\n\u001b[91m- Run `import Pkg; Pkg.add(\"Iterators\")` to install the Iterators package.\u001b[39m\n",
     "output_type": "error",
     "traceback": [
      "\u001b[91mArgumentError: Package Iterators not found in current path:\u001b[39m\n\u001b[91m- Run `import Pkg; Pkg.add(\"Iterators\")` to install the Iterators package.\u001b[39m\n",
      "",
      "Stacktrace:",
      " [1] require(::Module, ::Symbol) at .\\loading.jl:893",
      " [2] include_string(::Function, ::Module, ::String, ::String) at .\\loading.jl:1091"
     ]
    }
   ],
   "source": [
    "using LinearAlgebra, Combinatorics, Iterators"
   ]
  },
  {
   "cell_type": "code",
   "execution_count": 34,
   "metadata": {
    "ExecuteTime": {
     "end_time": "2021-04-20T05:44:15.064000-07:00",
     "start_time": "2021-04-20T12:44:15.059Z"
    }
   },
   "outputs": [
    {
     "data": {
      "text/plain": [
       "Array{Int64,1}[]"
      ]
     },
     "execution_count": 34,
     "metadata": {},
     "output_type": "execute_result"
    }
   ],
   "source": [
    "I = 2 # number of agents\n",
    "s = [1, 2] # states \n",
    "N = length(s) # total number of states \n",
    "T = 3 # total number of time periods\n",
    "t = 3 # current time period \n",
    "\n",
    "all_perm(xs, n) = vec(map(collect, Iterators.product(ntuple(_ -> xs, n)...)))\n",
    "histories = all_perm(s, t)"
   ]
  },
  {
   "cell_type": "code",
   "execution_count": 70,
   "metadata": {
    "ExecuteTime": {
     "end_time": "2021-04-20T06:55:14.191000-07:00",
     "start_time": "2021-04-20T13:55:13.556Z"
    }
   },
   "outputs": [
    {
     "data": {
      "text/plain": [
       "81-element Array{Array{Array{Float64,1},1},1}:\n",
       " [[3.0, 3.0, 3.0, 3.0]]\n",
       " [[3.0, 3.0, 3.0, 3.0]]\n",
       " [[3.0, 3.0, 3.0, 3.0]]\n",
       " [[3.0, 3.0, 3.0, 3.0]]\n",
       " [[3.0, 3.0, 3.0, 3.0]]\n",
       " [[3.0, 3.0, 3.0, 3.0]]\n",
       " [[3.0, 3.0, 3.0, 3.0]]\n",
       " [[3.0, 3.0, 3.0, 3.0]]\n",
       " [[3.0, 3.0, 3.0, 3.0]]\n",
       " [[3.0, 3.0, 3.0, 3.0]]\n",
       " [[3.0, 3.0, 3.0, 3.0]]\n",
       " [[3.0, 3.0, 3.0, 3.0]]\n",
       " [[3.0, 3.0, 3.0, 3.0]]\n",
       " ⋮\n",
       " [[3.0, 3.0, 3.0, 3.0]]\n",
       " [[3.0, 3.0, 3.0, 3.0]]\n",
       " [[3.0, 3.0, 3.0, 3.0]]\n",
       " [[3.0, 3.0, 3.0, 3.0]]\n",
       " [[3.0, 3.0, 3.0, 3.0]]\n",
       " [[3.0, 3.0, 3.0, 3.0]]\n",
       " [[3.0, 3.0, 3.0, 3.0]]\n",
       " [[3.0, 3.0, 3.0, 3.0]]\n",
       " [[3.0, 3.0, 3.0, 3.0]]\n",
       " [[3.0, 3.0, 3.0, 3.0]]\n",
       " [[3.0, 3.0, 3.0, 3.0]]\n",
       " [[3.0, 3.0, 3.0, 3.0]]"
      ]
     },
     "execution_count": 70,
     "metadata": {},
     "output_type": "execute_result"
    }
   ],
   "source": [
    "a = zeros(4)\n",
    "[[a] for a[1]=1:3 for a[2]=1:3 for a[3]=1:3 for a[4]=1:3]"
   ]
  },
  {
   "cell_type": "code",
   "execution_count": 71,
   "metadata": {
    "ExecuteTime": {
     "end_time": "2021-04-20T06:55:50.036000-07:00",
     "start_time": "2021-04-20T13:55:49.667Z"
    }
   },
   "outputs": [
    {
     "data": {
      "text/plain": [
       "all_perm (generic function with 1 method)"
      ]
     },
     "execution_count": 71,
     "metadata": {},
     "output_type": "execute_result"
    }
   ],
   "source": [
    "all_perm(xs, n) = vec(map(collect, Iterators.product(ntuple(_ -> xs, n)...)))"
   ]
  },
  {
   "cell_type": "code",
   "execution_count": null,
   "metadata": {},
   "outputs": [],
   "source": [
    "function outcome_prob(outcome, P0, M)\n",
    "\n",
    "# Make sure `outcome` contains integers\n",
    "# to allow for indexing \n",
    "outcome = floor.(Int64, outcome) \n",
    "\n",
    "# Store probability of initial state \n",
    "probability = P0[outcome[1]]\n",
    "\n",
    "# Compute probability of `outcome` sequence\n",
    "for i in 2:length(outcome)\n",
    "    probability = probability * M[outcome[i-1], outcome[i]]\n",
    "    end \n",
    "    \n",
    "    # Return `probability` -- prob. of sequence `outcome`\n",
    "    return probability\n",
    "end "
   ]
  }
 ],
 "metadata": {
  "kernelspec": {
   "display_name": "Julia 1.5.4",
   "language": "julia",
   "name": "julia-1.5"
  },
  "language_info": {
   "file_extension": ".jl",
   "mimetype": "application/julia",
   "name": "julia",
   "version": "1.5.4"
  },
  "latex_envs": {
   "LaTeX_envs_menu_present": true,
   "autoclose": false,
   "autocomplete": true,
   "bibliofile": "biblio.bib",
   "cite_by": "apalike",
   "current_citInitial": 1,
   "eqLabelWithNumbers": true,
   "eqNumInitial": 1,
   "hotkeys": {
    "equation": "Ctrl-E",
    "itemize": "Ctrl-I"
   },
   "labels_anchors": false,
   "latex_user_defs": false,
   "report_style_numbering": false,
   "user_envs_cfg": false
  }
 },
 "nbformat": 4,
 "nbformat_minor": 4
}

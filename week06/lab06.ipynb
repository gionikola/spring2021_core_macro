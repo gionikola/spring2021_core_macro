{
 "cells": [
  {
   "cell_type": "markdown",
   "metadata": {},
   "source": [
    "# Solving Neoclassical Growth Models"
   ]
  },
  {
   "cell_type": "markdown",
   "metadata": {},
   "source": [
    "This lab includes:\n",
    "\n",
    "(1) An overview of a basic neoclassical growth model;\n",
    "\n",
    "(2) Solving a non-stochastic growth model using value function iteration;\n",
    "\n",
    "(3) Finding the optimal path using policy functions."
   ]
  },
  {
   "cell_type": "markdown",
   "metadata": {},
   "source": [
    "## A Basic Growth Model"
   ]
  },
  {
   "cell_type": "markdown",
   "metadata": {},
   "source": [
    "Consider the following economy.\n",
    "\n",
    "There is a representative agent who has preferences given by \n",
    "\n",
    "\\begin{align*}\n",
    "    \\sum_{t=0}^\\infty \\beta^t u(c_t) \\, ,\n",
    "\\end{align*}\n",
    "\n",
    "where $u(c_t) = \\log(c_t)$ and $\\beta \\in (0,1)$ is the discount factor."
   ]
  },
  {
   "cell_type": "markdown",
   "metadata": {},
   "source": [
    "The technology in this economy is given by \n",
    "\n",
    "\\begin{align*}\n",
    "    c_t + i_t &= y_t \\, , \\\\\n",
    "    y_t &= A k_{t}^\\alpha \\, , \\\\\n",
    "    k_{t+1} &= i_t + (1-\\delta) k_t \\, ,\n",
    "\\end{align*}\n",
    "\n",
    "where $c_t$ is consumption, $i_t$ is investment, $y_t$ is output, $k_t$ is capital, $\\alpha \\in (0,1)$, $A \\in \\mathbb{R}_+$ is the productivity factor, and $\\delta \\in (0,1)$ is the depreciation rate."
   ]
  },
  {
   "cell_type": "markdown",
   "metadata": {},
   "source": [
    "The social planner's problem may be expressed by the following Bellman equation:\n",
    "\n",
    "\\begin{align*}\n",
    "    V(k) = \\max_{c,i,k'} \\left\\{ \\log(c) + \\beta V(k') \\right\\}\n",
    "\\end{align*}\n",
    "\n",
    "subject to \n",
    "\n",
    "\\begin{align}\n",
    "    c + i &= A k^\\alpha \\, , \\label{eq:flow_constraint} \\\\\n",
    "    k' &= (1-\\delta) k + i \\, . \\label{eq:capital_accumulation} \n",
    "\\end{align}"
   ]
  },
  {
   "cell_type": "markdown",
   "metadata": {},
   "source": [
    "## Transition Equations"
   ]
  },
  {
   "cell_type": "markdown",
   "metadata": {},
   "source": [
    "We can simplify this system by using the first constraint to solve for $i$:\n",
    "\n",
    "\\begin{align*}\n",
    "    i = A k^\\alpha - c \\, ,\n",
    "\\end{align*}\n",
    "\n",
    "which can be substituted into the second constraint to yield \n",
    "\n",
    "\\begin{align*}\n",
    "    k' = (1-\\delta) k + A k^\\alpha - c  \\, .\n",
    "\\end{align*}\n"
   ]
  },
  {
   "cell_type": "markdown",
   "metadata": {},
   "source": [
    "The above equation for $k'$ can be substituted into the Bellman equation to yield \n",
    "\n",
    "\\begin{align*}\n",
    "    V(k) = \\max_{c} \\left\\{ \\log(c) + \\beta V\\left[ (1-\\delta)k + Ak^\\alpha - c \\right] \\right\\} \\, .\n",
    "\\end{align*}"
   ]
  },
  {
   "cell_type": "markdown",
   "metadata": {},
   "source": [
    "Using the Bellman equation we may derive the following first-order condition for $c$:\n",
    "\n",
    "\\begin{align*}\n",
    "    0 = \\frac{1}{c} + \\beta V'(k')(-1) \\, ,\n",
    "\\end{align*}\n",
    "\n",
    "which is equivalent to \n",
    "\n",
    "\\begin{align}\n",
    "\\label{eq:foc}\n",
    "    \\beta V'(k') = \\frac{1}{c} \\, .\n",
    "\\end{align}"
   ]
  },
  {
   "cell_type": "markdown",
   "metadata": {
    "ExecuteTime": {
     "end_time": "2021-05-01T21:50:52.391000-07:00",
     "start_time": "2021-05-02T04:50:50.811Z"
    }
   },
   "source": [
    "We may also use the Bellman eqation to obtain the following envelope condition:\n",
    "\n",
    "\\begin{align*}\n",
    "V'(k) = \\beta V'(k') (1 - \\delta + \\alpha A k^{\\alpha - 1} ) \\, .\n",
    "\\end{align*}"
   ]
  },
  {
   "cell_type": "markdown",
   "metadata": {},
   "source": [
    "Eq. \\eqref{eq:foc} can then be substituted into the RHS of the envelope condition to yield \n",
    "\n",
    "\\begin{align*}\n",
    "    V'(k) = \\frac{1}{c} \\left( 1 - \\delta + \\alpha A k^{\\alpha-1} \\right) \\, .\n",
    "\\end{align*}"
   ]
  },
  {
   "cell_type": "markdown",
   "metadata": {},
   "source": [
    "This equation can now be \"stepped-up\" by a period ($k'$ and $c'$ instead of $k$ and $c$) to give us\n",
    "\n",
    "\\begin{align*}\n",
    "    V'(k') = \\frac{1}{c'} \\left( 1 - \\delta + \\alpha A k'^{\\alpha-1} \\right) \\, .\n",
    "\\end{align*}"
   ]
  },
  {
   "cell_type": "markdown",
   "metadata": {},
   "source": [
    "We once again substitute Eq. \\eqref{eq:foc} into the LHS of the above equation to obtain \n",
    "\n",
    "\\begin{align*}\n",
    "    \\frac{1}{\\beta c} = \\frac{1}{c'} \\left( 1 - \\delta + \\alpha A k'^{\\alpha-1} \\right) \\, ,\n",
    "\\end{align*}\n",
    "\n",
    "which can be used to solve for $c'$:\n",
    "\n",
    "\\begin{align*}\n",
    "    c' = c \\beta \\left( 1 + \\delta \\alpha A k'^{\\alpha - 1} \\right) \\, .\n",
    "\\end{align*}"
   ]
  },
  {
   "cell_type": "markdown",
   "metadata": {},
   "source": [
    "We can now attach time indices to the above equation to obtain the Euler equation:\n",
    "\n",
    "\\begin{align}\n",
    "\\label{eq:euler}\n",
    "    c_{t+1} = c_t \\beta \\left(1 - \\delta \\alpha A k_{t+1}^{\\alpha-1} \\right) \\, .\n",
    "\\end{align}"
   ]
  },
  {
   "cell_type": "markdown",
   "metadata": {},
   "source": [
    "Therefore, the economy is governed by the system of transition equations made up by Eqs. \\eqref{eq:flow_constraint}, \\eqref{eq:capital_accumulation}, and \\eqref{eq:euler}."
   ]
  },
  {
   "cell_type": "markdown",
   "metadata": {},
   "source": [
    "I repeat all equations below for easy reference.\n",
    "\n",
    "**Capital accumulation:** \n",
    "\n",
    "\\begin{align*}\n",
    "k_{t+1} = (1-\\delta) k_t + Ak_t^{\\alpha} - c_t\n",
    "\\end{align*}\n",
    "\n",
    "**Euler equation:** \n",
    "\n",
    "\\begin{align*}\n",
    "c_{t+1} = c_t \\beta \\left( 1 + \\delta \\alpha A k_{t+1}^{\\alpha-1} \\right)\n",
    "\\end{align*}\n",
    "\n",
    "**Output:**\n",
    "\n",
    "\\begin{align*}\n",
    "y_t = A k_t^\\alpha \n",
    "\\end{align*}\n",
    "\n",
    "\n",
    "**Flow budget constraint / Investment:** \n",
    "\n",
    "\\begin{align*}\n",
    "i_t = A k_t^{\\alpha} - c_t\n",
    "\\end{align*}"
   ]
  },
  {
   "cell_type": "markdown",
   "metadata": {},
   "source": [
    "## Steady State"
   ]
  },
  {
   "cell_type": "markdown",
   "metadata": {},
   "source": [
    "In the steady state (SS), we have $c_{t+1} = c_t = \\overline{c}$ and $k_{t+1} = k_t = \\overline{k}$, which also implies SS output \n",
    "\n",
    "\\begin{align*}\n",
    "\\overline{y} = A \\overline{k}^\\alpha\n",
    "\\end{align*}\n",
    "\n",
    "and SS investment \n",
    "\n",
    "\\begin{align*}\n",
    "\\overline{i} = \\overline{y} - \\overline{c} \\, .\n",
    "\\end{align*}"
   ]
  },
  {
   "cell_type": "markdown",
   "metadata": {},
   "source": [
    "We now need to solve for $\\overline{c}$ and $\\overline{k}$."
   ]
  },
  {
   "cell_type": "markdown",
   "metadata": {},
   "source": [
    "Applying a bit of algebra to the Euler and capital accumulation equations yields \n",
    "\n",
    "\\begin{align*}\n",
    "    \\overline{k} = \\left( \\frac{\\alpha \\delta A}{\\beta^{-1} - 1} \\right)^\\frac{1}{1-\\alpha} \\, ,\n",
    "\\end{align*}\n",
    "\n",
    "along with \n",
    "\n",
    "\\begin{align*}\n",
    "    \\overline{c} = A \\overline{k}^\\alpha - \\delta \\overline{k} \\, .\n",
    "\\end{align*}"
   ]
  },
  {
   "cell_type": "markdown",
   "metadata": {},
   "source": [
    "Let's write a function named `steadyState` that will output all model parameters and steady state values:"
   ]
  },
  {
   "cell_type": "code",
   "execution_count": 16,
   "metadata": {
    "ExecuteTime": {
     "end_time": "2021-05-02T13:43:05.406000-07:00",
     "start_time": "2021-05-02T20:43:05.398Z"
    }
   },
   "outputs": [
    {
     "data": {
      "text/plain": [
       "steadyState (generic function with 5 methods)"
      ]
     },
     "execution_count": 16,
     "metadata": {},
     "output_type": "execute_result"
    }
   ],
   "source": [
    "function steadyState(α = 0.3, β = 0.98, δ = 0.02, A = 1)\n",
    "    \n",
    "    # Solve for k̄\n",
    "    k̄ = ( (β^(-1) - 1) / (α * δ * A) )^(1/(1-α))\n",
    "    \n",
    "    # Solve for ȳ\n",
    "    ȳ = A * k̄^α\n",
    "    \n",
    "    # Solve for c̄\n",
    "    c̄ = ȳ - δ * k̄\n",
    "    \n",
    "    # Solve for ī\n",
    "    ī = ȳ - c̄\n",
    "    \n",
    "    # Return model parameters and steady state variables\n",
    "    return (α = α, β = β, δ = δ, A = A, c̄ = c̄, k̄ = k̄, ȳ = ȳ, ī = ī)\n",
    "end"
   ]
  },
  {
   "cell_type": "markdown",
   "metadata": {},
   "source": [
    "We run the function and store all outputs:"
   ]
  },
  {
   "cell_type": "code",
   "execution_count": 17,
   "metadata": {
    "ExecuteTime": {
     "end_time": "2021-05-02T13:43:06.724000-07:00",
     "start_time": "2021-05-02T20:43:06.692Z"
    }
   },
   "outputs": [
    {
     "name": "stdout",
     "output_type": "stream",
     "text": [
      "c̄ = 1.574905053386881\n",
      "k̄ = 5.747828661995923\n",
      "ȳ = 1.6898616266267994\n",
      "ī = 0.11495657323991848\n"
     ]
    }
   ],
   "source": [
    "α, β, δ, A, c̄, k̄, ȳ, ī = steadyState()\n",
    "@show c̄\n",
    "@show k̄\n",
    "@show ȳ\n",
    "@show ī;"
   ]
  },
  {
   "cell_type": "markdown",
   "metadata": {},
   "source": [
    "## Solving the Model"
   ]
  },
  {
   "cell_type": "code",
   "execution_count": 6,
   "metadata": {
    "ExecuteTime": {
     "end_time": "2021-05-02T13:33:07.581000-07:00",
     "start_time": "2021-05-02T20:33:07.574Z"
    }
   },
   "outputs": [],
   "source": [
    "# Load all packages we might need\n",
    "using LinearAlgebra, Plots"
   ]
  },
  {
   "cell_type": "markdown",
   "metadata": {},
   "source": [
    "Our goal now is to computationally solve for the policy function using value function iteration.\n",
    "\n",
    "We start by constructing a function named `growthBellmanMap` that applies a single iteration of the Bellman map."
   ]
  },
  {
   "cell_type": "code",
   "execution_count": null,
   "metadata": {},
   "outputs": [],
   "source": [
    "function growthBellmanMap(V, kgrid, α, β, δ, A)\n",
    "    \n",
    "    @unpack α, β, δ, A, c̄, k̄, ȳ, ī = steadyState(α, β, δ, A)\n",
    "    \n",
    "    N     = length(kgrid) #k grid length\n",
    "    V_out = zeros(N) #new value function\n",
    "    n_pol = zeros(Int,N) #policy rule for grid points\n",
    "    k_pol = zeros(N) #policy rule for capital\n",
    "    c_pol = zeros(N) #consumption rule\n",
    "    obj   = zeros(N) #objective to be maximized wrt k′\n",
    "    \n",
    "    for n in 1:N #iterate for each initial capital\n",
    "        \n",
    "        for nprime in 1:N #iterate for choice of capital this period\n",
    "            \n",
    "            # Compute optimal consumption level\n",
    "            c = (1-δ) * kgrid[n] + A * kgrid[n]^(α) - kgrid[nprime]\n",
    "            \n",
    "            if c <= 0\n",
    "                obj[nprime] = -Inf #penalty if consumption <0\n",
    "            else\n",
    "                obj[nprime] = log(c) + β * V[nprime] #otherwise RHS of bellman equation\n",
    "            end\n",
    "        end\n",
    "        \n",
    "        V_out[n], n_pol[n] = findmax(obj) #find optimal value and the choice that gives it\n",
    "        k_pol[n]           = kgrid[n_pol[n]] #record capital policy\n",
    "        c_pol[n]           =(1-δ) * kgrid[n] + A * kgrid[n]^(α) - k_pol[n] #record consumption policy\n",
    "            \n",
    "    end\n",
    "    \n",
    "    return V_out, n_pol, k_pol, c_pol\n",
    "end"
   ]
  },
  {
   "cell_type": "markdown",
   "metadata": {},
   "source": [
    "## Generating Optimal Paths"
   ]
  }
 ],
 "metadata": {
  "kernelspec": {
   "display_name": "Julia 1.5.4",
   "language": "julia",
   "name": "julia-1.5"
  },
  "language_info": {
   "file_extension": ".jl",
   "mimetype": "application/julia",
   "name": "julia",
   "version": "1.5.4"
  },
  "latex_envs": {
   "LaTeX_envs_menu_present": true,
   "autoclose": false,
   "autocomplete": true,
   "bibliofile": "biblio.bib",
   "cite_by": "apalike",
   "current_citInitial": 1,
   "eqLabelWithNumbers": true,
   "eqNumInitial": 1,
   "hotkeys": {
    "equation": "Ctrl-E",
    "itemize": "Ctrl-I"
   },
   "labels_anchors": false,
   "latex_user_defs": false,
   "report_style_numbering": false,
   "user_envs_cfg": false
  }
 },
 "nbformat": 4,
 "nbformat_minor": 4
}

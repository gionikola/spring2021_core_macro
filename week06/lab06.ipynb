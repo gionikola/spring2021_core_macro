{
 "cells": [
  {
   "cell_type": "markdown",
   "metadata": {},
   "source": [
    "# Solving Neoclassical Growth Models"
   ]
  },
  {
   "cell_type": "markdown",
   "metadata": {},
   "source": [
    "This lab includes:\n",
    "\n",
    "(1) An overview of a basic neoclassical growth model;\n",
    "\n",
    "(2) Solving a non-stochastic growth model using value function iteration;\n",
    "\n",
    "(3) Finding the optimal path using policy functions."
   ]
  },
  {
   "cell_type": "markdown",
   "metadata": {},
   "source": [
    "## A Growth Model"
   ]
  },
  {
   "cell_type": "markdown",
   "metadata": {},
   "source": [
    "Consider the following economy.\n",
    "\n",
    "There is a representative agent who has preferences given by \n",
    "\n",
    "\\begin{align*}\n",
    "    \\sum_{t=0}^\\infty \\beta^t u(c_t) \\, ,\n",
    "\\end{align*}\n",
    "\n",
    "where $u(c_t) = \\log(c_t)$."
   ]
  },
  {
   "cell_type": "markdown",
   "metadata": {},
   "source": [
    "The technology in this economy is given by \n",
    "\n",
    "\\begin{align*}\n",
    "    c_t + i_t &= y_t \\, , \\\\\n",
    "    y_t &= A k_{t}^\\alpha \\, , \\\\\n",
    "    k_{t+1} &= i_t + (1-\\delta) k_t \\, .\n",
    "\\end{align*}"
   ]
  },
  {
   "cell_type": "markdown",
   "metadata": {},
   "source": [
    "The social planner's problem may be expressed by the following Bellman equation:\n",
    "\n",
    "\\begin{align*}\n",
    "    V(k) = \\max_{c,i,k'} \\left\\{ \\log(c) + \\beta V(k') \\right\\}\n",
    "\\end{align*}\n",
    "\n",
    "subject to \n",
    "\n",
    "\\begin{align*}\n",
    "    c + i &= A k^\\alpha \\\\\n",
    "    k' &= (1-\\delta) k + i \\, .\n",
    "\\end{align*}"
   ]
  },
  {
   "cell_type": "markdown",
   "metadata": {},
   "source": [
    "We can simplify this system by using the first constraint to solve for $i$:\n",
    "\n",
    "\\begin{align*}\n",
    "    i = A k^\\alpha - c \\, ,\n",
    "\\end{align*}\n",
    "\n",
    "which can be substituted into the second constraint to yield \n",
    "\n",
    "\\begin{align*}\n",
    "    k' = (1-\\delta) k + A k^\\alpha - c  \\, .\n",
    "\\end{align*}\n"
   ]
  },
  {
   "cell_type": "markdown",
   "metadata": {},
   "source": [
    "The above equation for $k'$ can be substituted into the Bellman equation to yield \n",
    "\n",
    "\\begin{align*}\n",
    "    V(k) = \\max_{c} \\left\\{ \\log(c) + \\beta V\\left( (1-\\delta)k + Ak^\\alpha - c \\right) \\right\\} \\, .\n",
    "\\end{align*}"
   ]
  },
  {
   "cell_type": "markdown",
   "metadata": {},
   "source": [
    "This yields the following first-order condition for $c$:\n",
    "\n",
    "\\begin{align*}\n",
    "    0 = \\frac{1}{c} + \\beta V'(k')(-1) \\, ,\n",
    "\\end{align*}\n",
    "\n",
    "which is equivalent to \n",
    "\n",
    "\\begin{align}\n",
    "\\label{eq:foc}\n",
    "    \\beta V'(k') = \\frac{1}{c} \\, .\n",
    "\\end{align}"
   ]
  },
  {
   "cell_type": "markdown",
   "metadata": {
    "ExecuteTime": {
     "end_time": "2021-05-01T21:50:52.391000-07:00",
     "start_time": "2021-05-02T04:50:50.811Z"
    }
   },
   "source": [
    "We may also use the Bellman eqation to obtain the following envelope condition:\n",
    "\n",
    "\\begin{align*}\n",
    "V'(k) = \\beta V'(k') (1 - \\delta + \\alpha A k^{\\alpha - 1} )\n",
    "\\end{align*}"
   ]
  },
  {
   "cell_type": "markdown",
   "metadata": {},
   "source": [
    "Eq. \\eqref{eq:foc} can then be used substituted into the RHS of the envelope condition to yield \n",
    "\n",
    "\\begin{align*}\n",
    "    V'(k) = \\frac{1}{c} \\left( 1 - \\delta + \\alpha A k^{\\alpha-1} \\right) \\, .\n",
    "\\end{align*}"
   ]
  },
  {
   "cell_type": "markdown",
   "metadata": {},
   "source": [
    "## Solving the Model"
   ]
  },
  {
   "cell_type": "code",
   "execution_count": null,
   "metadata": {},
   "outputs": [],
   "source": []
  },
  {
   "cell_type": "markdown",
   "metadata": {},
   "source": [
    "## Generating Optimal Paths"
   ]
  },
  {
   "cell_type": "code",
   "execution_count": null,
   "metadata": {},
   "outputs": [],
   "source": []
  }
 ],
 "metadata": {
  "kernelspec": {
   "display_name": "Julia 1.5.4",
   "language": "julia",
   "name": "julia-1.5"
  },
  "language_info": {
   "file_extension": ".jl",
   "mimetype": "application/julia",
   "name": "julia",
   "version": "1.5.4"
  },
  "latex_envs": {
   "LaTeX_envs_menu_present": true,
   "autoclose": false,
   "autocomplete": true,
   "bibliofile": "biblio.bib",
   "cite_by": "apalike",
   "current_citInitial": 1,
   "eqLabelWithNumbers": true,
   "eqNumInitial": 1,
   "hotkeys": {
    "equation": "Ctrl-E",
    "itemize": "Ctrl-I"
   },
   "labels_anchors": false,
   "latex_user_defs": false,
   "report_style_numbering": false,
   "user_envs_cfg": false
  }
 },
 "nbformat": 4,
 "nbformat_minor": 4
}

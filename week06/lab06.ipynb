{
 "cells": [
  {
   "cell_type": "markdown",
   "metadata": {},
   "source": [
    "# Solving Neoclassical Growth Models"
   ]
  },
  {
   "cell_type": "markdown",
   "metadata": {},
   "source": [
    "This lab includes:\n",
    "\n",
    "(1) An overview of a basic neoclassical growth model;\n",
    "\n",
    "(2) Solving a non-stochastic growth model using value function iteration;\n",
    "\n",
    "(3) Finding the optimal path using policy functions."
   ]
  },
  {
   "cell_type": "markdown",
   "metadata": {},
   "source": [
    "## A Basic Growth Model"
   ]
  },
  {
   "cell_type": "markdown",
   "metadata": {},
   "source": [
    "Consider the following economy.\n",
    "\n",
    "There is a representative agent who has preferences given by \n",
    "\n",
    "\\begin{align*}\n",
    "    \\sum_{t=0}^\\infty \\beta^t u(c_t) \\, ,\n",
    "\\end{align*}\n",
    "\n",
    "where $u(c_t) = \\log(c_t)$ and $\\beta \\in (0,1)$ is the discount factor."
   ]
  },
  {
   "cell_type": "markdown",
   "metadata": {},
   "source": [
    "The technology in this economy is given by \n",
    "\n",
    "\\begin{align*}\n",
    "    c_t + i_t &= y_t \\, , \\\\\n",
    "    y_t &= A k_{t}^\\alpha \\, , \\\\\n",
    "    k_{t+1} &= i_t + (1-\\delta) k_t \\, ,\n",
    "\\end{align*}\n",
    "\n",
    "where $c_t$ is consumption, $i_t$ is investment, $y_t$ is output, $k_t$ is capital, $\\alpha \\in (0,1)$, $A \\in \\mathbb{R}_+$ is the productivity factor, and $\\delta \\in (0,1)$ is the depreciation rate."
   ]
  },
  {
   "cell_type": "markdown",
   "metadata": {},
   "source": [
    "The social planner's problem may be expressed by the following Bellman equation:\n",
    "\n",
    "\\begin{align*}\n",
    "    V(k) = \\max_{c,i,k'} \\left\\{ \\log(c) + \\beta V(k') \\right\\}\n",
    "\\end{align*}\n",
    "\n",
    "subject to \n",
    "\n",
    "\\begin{align}\n",
    "    c + i &= A k^\\alpha \\, , \\label{eq:flow_constraint} \\\\\n",
    "    k' &= (1-\\delta) k + i \\, . \\label{eq:capital_accumulation} \n",
    "\\end{align}"
   ]
  },
  {
   "cell_type": "markdown",
   "metadata": {},
   "source": [
    "## Transition Equations"
   ]
  },
  {
   "cell_type": "markdown",
   "metadata": {},
   "source": [
    "We can simplify this system by using the first constraint to solve for $i$:\n",
    "\n",
    "\\begin{align*}\n",
    "    i = A k^\\alpha - c \\, ,\n",
    "\\end{align*}\n",
    "\n",
    "which can be substituted into the second constraint to yield \n",
    "\n",
    "\\begin{align*}\n",
    "    k' = (1-\\delta) k + A k^\\alpha - c  \\, .\n",
    "\\end{align*}\n"
   ]
  },
  {
   "cell_type": "markdown",
   "metadata": {},
   "source": [
    "The above equation for $k'$ can be substituted into the Bellman equation to yield \n",
    "\n",
    "\\begin{align*}\n",
    "    V(k) = \\max_{c} \\left\\{ \\log(c) + \\beta V\\left[ (1-\\delta)k + Ak^\\alpha - c \\right] \\right\\} \\, .\n",
    "\\end{align*}"
   ]
  },
  {
   "cell_type": "markdown",
   "metadata": {},
   "source": [
    "Using the Bellman equation we may derive the following first-order condition for $c$:\n",
    "\n",
    "\\begin{align*}\n",
    "    0 = \\frac{1}{c} + \\beta V'(k')(-1) \\, ,\n",
    "\\end{align*}\n",
    "\n",
    "which is equivalent to \n",
    "\n",
    "\\begin{align}\n",
    "\\label{eq:foc}\n",
    "    \\beta V'(k') = \\frac{1}{c} \\, .\n",
    "\\end{align}"
   ]
  },
  {
   "cell_type": "markdown",
   "metadata": {
    "ExecuteTime": {
     "end_time": "2021-05-01T21:50:52.391000-07:00",
     "start_time": "2021-05-02T04:50:50.811Z"
    }
   },
   "source": [
    "We may also use the Bellman eqation to obtain the following envelope condition:\n",
    "\n",
    "\\begin{align*}\n",
    "V'(k) = \\beta V'(k') (1 - \\delta + \\alpha A k^{\\alpha - 1} ) \\, .\n",
    "\\end{align*}"
   ]
  },
  {
   "cell_type": "markdown",
   "metadata": {},
   "source": [
    "Eq. \\eqref{eq:foc} can then be substituted into the RHS of the envelope condition to yield \n",
    "\n",
    "\\begin{align*}\n",
    "    V'(k) = \\frac{1}{c} \\left( 1 - \\delta + \\alpha A k^{\\alpha-1} \\right) \\, .\n",
    "\\end{align*}"
   ]
  },
  {
   "cell_type": "markdown",
   "metadata": {},
   "source": [
    "This equation can now be \"stepped-up\" by a period ($k'$ and $c'$ instead of $k$ and $c$) to give us\n",
    "\n",
    "\\begin{align*}\n",
    "    V'(k') = \\frac{1}{c'} \\left( 1 - \\delta + \\alpha A k'^{\\alpha-1} \\right) \\, .\n",
    "\\end{align*}"
   ]
  },
  {
   "cell_type": "markdown",
   "metadata": {},
   "source": [
    "We once again substitute Eq. \\eqref{eq:foc} into the LHS of the above equation to obtain \n",
    "\n",
    "\\begin{align*}\n",
    "    \\frac{1}{\\beta c} = \\frac{1}{c'} \\left( 1 - \\delta + \\alpha A k'^{\\alpha-1} \\right) \\, ,\n",
    "\\end{align*}\n",
    "\n",
    "which can be used to solve for $c'$:\n",
    "\n",
    "\\begin{align*}\n",
    "    c' = c \\beta \\left( 1 - \\delta + \\alpha A k'^{\\alpha - 1} \\right) \\, .\n",
    "\\end{align*}"
   ]
  },
  {
   "cell_type": "markdown",
   "metadata": {},
   "source": [
    "We can now attach time indices to the above equation to obtain the Euler equation:\n",
    "\n",
    "\\begin{align}\n",
    "\\label{eq:euler}\n",
    "    c_{t+1} = c_t \\beta \\left(1 - \\delta + \\alpha A k_{t+1}^{\\alpha-1} \\right) \\, .\n",
    "\\end{align}"
   ]
  },
  {
   "cell_type": "markdown",
   "metadata": {},
   "source": [
    "Therefore, the economy is governed by the system of transition equations made up by Eqs. \\eqref{eq:flow_constraint}, \\eqref{eq:capital_accumulation}, and \\eqref{eq:euler}."
   ]
  },
  {
   "cell_type": "markdown",
   "metadata": {},
   "source": [
    "I repeat all equations below for easy reference.\n",
    "\n",
    "**Capital accumulation:** \n",
    "\n",
    "\\begin{align*}\n",
    "k_{t+1} = (1-\\delta) k_t + Ak_t^{\\alpha} - c_t\n",
    "\\end{align*}\n",
    "\n",
    "**Euler equation:** \n",
    "\n",
    "\\begin{align*}\n",
    "c_{t+1} = c_t \\beta \\left( 1 - \\delta + \\alpha A k_{t+1}^{\\alpha-1} \\right)\n",
    "\\end{align*}\n",
    "\n",
    "**Output:**\n",
    "\n",
    "\\begin{align*}\n",
    "y_t = A k_t^\\alpha \n",
    "\\end{align*}\n",
    "\n",
    "\n",
    "**Flow budget constraint / Investment:** \n",
    "\n",
    "\\begin{align*}\n",
    "i_t = A k_t^{\\alpha} - c_t\n",
    "\\end{align*}"
   ]
  },
  {
   "cell_type": "markdown",
   "metadata": {},
   "source": [
    "## Steady State"
   ]
  },
  {
   "cell_type": "markdown",
   "metadata": {},
   "source": [
    "In the steady state (SS), we have $c_{t+1} = c_t = \\overline{c}$ and $k_{t+1} = k_t = \\overline{k}$, which also implies SS output \n",
    "\n",
    "\\begin{align*}\n",
    "\\overline{y} = A \\overline{k}^\\alpha\n",
    "\\end{align*}\n",
    "\n",
    "and SS investment \n",
    "\n",
    "\\begin{align*}\n",
    "\\overline{i} = \\overline{y} - \\overline{c} \\, .\n",
    "\\end{align*}"
   ]
  },
  {
   "cell_type": "markdown",
   "metadata": {},
   "source": [
    "We now need to solve for $\\overline{c}$ and $\\overline{k}$."
   ]
  },
  {
   "cell_type": "markdown",
   "metadata": {},
   "source": [
    "Applying a bit of algebra to the Euler and capital accumulation equations yields \n",
    "\n",
    "\\begin{align*}\n",
    "        \\overline{k} = \\left( \\frac{\\alpha A}{\\beta^{-1} - 1 + \\delta} \\right)^\\frac{1}{1-\\alpha} \\, ,\n",
    "\\end{align*}\n",
    "\n",
    "along with \n",
    "\n",
    "\\begin{align*}\n",
    "    \\overline{c} = A \\overline{k}^\\alpha - \\delta \\overline{k} \\, .\n",
    "\\end{align*}"
   ]
  },
  {
   "cell_type": "markdown",
   "metadata": {},
   "source": [
    "Let's write a function named `steadyState` that will output all model parameters and steady state values:"
   ]
  },
  {
   "cell_type": "code",
   "execution_count": 53,
   "metadata": {
    "ExecuteTime": {
     "end_time": "2021-05-02T14:16:52.019000-07:00",
     "start_time": "2021-05-02T21:16:52.009Z"
    }
   },
   "outputs": [
    {
     "data": {
      "text/plain": [
       "steadyState (generic function with 5 methods)"
      ]
     },
     "execution_count": 53,
     "metadata": {},
     "output_type": "execute_result"
    }
   ],
   "source": [
    "function steadyState(α = 0.3, β = 0.98, δ = 0.02, A = 1)\n",
    "    \n",
    "    # Solve for k̄\n",
    "    k̄ = (  (α * A) / (β^(-1) - 1 + δ) )^(1/(1-α))\n",
    "    \n",
    "    # Solve for ȳ\n",
    "    ȳ = A * k̄^α\n",
    "    \n",
    "    # Solve for c̄\n",
    "    c̄ = ȳ - δ * k̄\n",
    "    \n",
    "    # Solve for ī\n",
    "    ī = ȳ - c̄\n",
    "    \n",
    "    # Return model parameters and steady state variables\n",
    "    return (α = α, β = β, δ = δ, A = A, c̄ = c̄, k̄ = k̄, ȳ = ȳ, ī = ī)\n",
    "end"
   ]
  },
  {
   "cell_type": "markdown",
   "metadata": {},
   "source": [
    "We run the function and store all outputs:"
   ]
  },
  {
   "cell_type": "code",
   "execution_count": 54,
   "metadata": {
    "ExecuteTime": {
     "end_time": "2021-05-02T14:16:54.004000-07:00",
     "start_time": "2021-05-02T21:16:53.974Z"
    }
   },
   "outputs": [
    {
     "name": "stdout",
     "output_type": "stream",
     "text": [
      "c̄ = 2.0106154404398704\n",
      "k̄ = 17.53027697180669\n",
      "ȳ = 2.361220979876004\n",
      "ī = 0.3506055394361338\n"
     ]
    }
   ],
   "source": [
    "α, β, δ, A, c̄, k̄, ȳ, ī = steadyState()\n",
    "@show c̄\n",
    "@show k̄\n",
    "@show ȳ\n",
    "@show ī;"
   ]
  },
  {
   "cell_type": "markdown",
   "metadata": {},
   "source": [
    "## Solving the Model"
   ]
  },
  {
   "cell_type": "code",
   "execution_count": 39,
   "metadata": {
    "ExecuteTime": {
     "end_time": "2021-05-02T14:09:03.098000-07:00",
     "start_time": "2021-05-02T21:09:03.093Z"
    }
   },
   "outputs": [],
   "source": [
    "# Load all packages we might need\n",
    "using LinearAlgebra, Plots"
   ]
  },
  {
   "cell_type": "markdown",
   "metadata": {},
   "source": [
    "Our goal now is to computationally solve for the policy function using value function iteration.\n",
    "\n",
    "We start by constructing a function named `growthBellmanMap` that applies a single iteration of the Bellman map."
   ]
  },
  {
   "cell_type": "code",
   "execution_count": 55,
   "metadata": {
    "ExecuteTime": {
     "end_time": "2021-05-02T14:17:07.754000-07:00",
     "start_time": "2021-05-02T21:17:07.746Z"
    }
   },
   "outputs": [
    {
     "data": {
      "text/plain": [
       "growthBellmanMap (generic function with 1 method)"
      ]
     },
     "execution_count": 55,
     "metadata": {},
     "output_type": "execute_result"
    }
   ],
   "source": [
    "function growthBellmanMap(V, kgrid, α, β, δ, A)\n",
    "    \n",
    "    N     = length(kgrid) #k grid length\n",
    "    V_out = zeros(N) #new value function\n",
    "    n_pol = zeros(Int,N) #policy rule for grid points\n",
    "    k_pol = zeros(N) #policy rule for capital\n",
    "    c_pol = zeros(N) #consumption rule\n",
    "    obj   = zeros(N) #objective to be maximized wrt k′\n",
    "    \n",
    "    for n in 1:N #iterate for each initial capital\n",
    "        \n",
    "        for nprime in 1:N #iterate for choice of capital this period\n",
    "            \n",
    "            # Compute optimal consumption level\n",
    "            c = (1-δ) * kgrid[n] + A * kgrid[n]^(α) - kgrid[nprime]\n",
    "            \n",
    "            if c <= 0\n",
    "                obj[nprime] = -Inf #penalty if consumption <0\n",
    "            else\n",
    "                obj[nprime] = log(c) + β * V[nprime] #otherwise RHS of bellman equation\n",
    "            end\n",
    "        end\n",
    "        \n",
    "        V_out[n], n_pol[n] = findmax(obj) #find optimal value and the choice that gives it\n",
    "        k_pol[n]           = kgrid[n_pol[n]] #record capital policy\n",
    "        c_pol[n]           =(1-δ) * kgrid[n] + A * kgrid[n]^(α) - k_pol[n] #record consumption policy\n",
    "            \n",
    "    end\n",
    "    \n",
    "    return V_out, n_pol, k_pol, c_pol\n",
    "end"
   ]
  },
  {
   "cell_type": "markdown",
   "metadata": {},
   "source": [
    "Then we create a function named `solveGrowthBellman` that iteratively applies `growthBellmanMap` until reaching convergence.\n",
    "\n",
    "The output of the function will contain a vector representing the value function, the policy functions for $k$ and $c$, as well as an index representing the policy map from $k_t$ to $k_{t+1}$ on a given grid for $k$."
   ]
  },
  {
   "cell_type": "code",
   "execution_count": 56,
   "metadata": {
    "ExecuteTime": {
     "end_time": "2021-05-02T14:17:09.495000-07:00",
     "start_time": "2021-05-02T21:17:09.484Z"
    }
   },
   "outputs": [
    {
     "data": {
      "text/plain": [
       "solveGrowthBellman (generic function with 2 methods)"
      ]
     },
     "execution_count": 56,
     "metadata": {},
     "output_type": "execute_result"
    }
   ],
   "source": [
    "function solveGrowthBellman(V0, kgrid, α, β, δ, A, ϵ=1e-6)\n",
    "    \n",
    "    diff = 0.1\n",
    "    \n",
    "    V, n_pol, k_pol, c_pol = growthBellmanMap(V0, kgrid, α, β, δ, A)\n",
    "    \n",
    "    while diff > ϵ\n",
    "        \n",
    "        V_new, n_pol, k_pol, c_pol  = growthBellmanMap(V, kgrid, α, β, δ, A)\n",
    "        \n",
    "        diff = norm(V_new-V,Inf)\n",
    "        \n",
    "        V = V_new \n",
    "    end\n",
    "    \n",
    "    return V, n_pol, k_pol, c_pol\n",
    "end"
   ]
  },
  {
   "cell_type": "markdown",
   "metadata": {},
   "source": [
    "We now have everything we need to solve the model using value function iteration:"
   ]
  },
  {
   "cell_type": "code",
   "execution_count": 62,
   "metadata": {
    "ExecuteTime": {
     "end_time": "2021-05-02T14:17:59.032000-07:00",
     "start_time": "2021-05-02T21:17:55.442Z"
    }
   },
   "outputs": [],
   "source": [
    "# Create a grid for k\n",
    "N     = 501\n",
    "kgrid = LinRange(k̄-10,k̄+10,N) #center grid on k̄\n",
    "\n",
    "# Generate value function iteration solutions\n",
    "V, n_pol, k_pol, c_pol = solveGrowthBellman(zeros(N), kgrid, α, β, δ, A);"
   ]
  },
  {
   "cell_type": "markdown",
   "metadata": {},
   "source": [
    "We can plot the policy function for $k$:"
   ]
  },
  {
   "cell_type": "code",
   "execution_count": 74,
   "metadata": {
    "ExecuteTime": {
     "end_time": "2021-05-02T14:42:14.968000-07:00",
     "start_time": "2021-05-02T21:42:14.915Z"
    },
    "scrolled": false
   },
   "outputs": [
    {
     "data": {
      "image/svg+xml": [
       "<?xml version=\"1.0\" encoding=\"utf-8\"?>\n",
       "<svg xmlns=\"http://www.w3.org/2000/svg\" xmlns:xlink=\"http://www.w3.org/1999/xlink\" width=\"600\" height=\"400\" viewBox=\"0 0 2400 1600\">\n",
       "<defs>\n",
       "  <clipPath id=\"clip320\">\n",
       "    <rect x=\"0\" y=\"0\" width=\"2400\" height=\"1600\"/>\n",
       "  </clipPath>\n",
       "</defs>\n",
       "<path clip-path=\"url(#clip320)\" d=\"\n",
       "M0 1600 L2400 1600 L2400 0 L0 0  Z\n",
       "  \" fill=\"#ffffff\" fill-rule=\"evenodd\" fill-opacity=\"1\"/>\n",
       "<defs>\n",
       "  <clipPath id=\"clip321\">\n",
       "    <rect x=\"480\" y=\"0\" width=\"1681\" height=\"1600\"/>\n",
       "  </clipPath>\n",
       "</defs>\n",
       "<path clip-path=\"url(#clip320)\" d=\"\n",
       "M199.218 1423.18 L2352.76 1423.18 L2352.76 123.472 L199.218 123.472  Z\n",
       "  \" fill=\"#ffffff\" fill-rule=\"evenodd\" fill-opacity=\"1\"/>\n",
       "<defs>\n",
       "  <clipPath id=\"clip322\">\n",
       "    <rect x=\"199\" y=\"123\" width=\"2155\" height=\"1301\"/>\n",
       "  </clipPath>\n",
       "</defs>\n",
       "<polyline clip-path=\"url(#clip322)\" style=\"stroke:#000000; stroke-width:2; stroke-opacity:0.1; fill:none\" points=\"\n",
       "  511.047,1423.18 511.047,123.472 \n",
       "  \"/>\n",
       "<polyline clip-path=\"url(#clip322)\" style=\"stroke:#000000; stroke-width:2; stroke-opacity:0.1; fill:none\" points=\"\n",
       "  1018.96,1423.18 1018.96,123.472 \n",
       "  \"/>\n",
       "<polyline clip-path=\"url(#clip322)\" style=\"stroke:#000000; stroke-width:2; stroke-opacity:0.1; fill:none\" points=\"\n",
       "  1526.87,1423.18 1526.87,123.472 \n",
       "  \"/>\n",
       "<polyline clip-path=\"url(#clip322)\" style=\"stroke:#000000; stroke-width:2; stroke-opacity:0.1; fill:none\" points=\"\n",
       "  2034.78,1423.18 2034.78,123.472 \n",
       "  \"/>\n",
       "<polyline clip-path=\"url(#clip320)\" style=\"stroke:#000000; stroke-width:4; stroke-opacity:1; fill:none\" points=\"\n",
       "  199.218,1423.18 2352.76,1423.18 \n",
       "  \"/>\n",
       "<polyline clip-path=\"url(#clip320)\" style=\"stroke:#000000; stroke-width:4; stroke-opacity:1; fill:none\" points=\"\n",
       "  511.047,1423.18 511.047,1407.58 \n",
       "  \"/>\n",
       "<polyline clip-path=\"url(#clip320)\" style=\"stroke:#000000; stroke-width:4; stroke-opacity:1; fill:none\" points=\"\n",
       "  1018.96,1423.18 1018.96,1407.58 \n",
       "  \"/>\n",
       "<polyline clip-path=\"url(#clip320)\" style=\"stroke:#000000; stroke-width:4; stroke-opacity:1; fill:none\" points=\"\n",
       "  1526.87,1423.18 1526.87,1407.58 \n",
       "  \"/>\n",
       "<polyline clip-path=\"url(#clip320)\" style=\"stroke:#000000; stroke-width:4; stroke-opacity:1; fill:none\" points=\"\n",
       "  2034.78,1423.18 2034.78,1407.58 \n",
       "  \"/>\n",
       "<path clip-path=\"url(#clip320)\" d=\"M 0 0 M487.922 1479.92 L495.561 1479.92 L495.561 1453.55 L487.251 1455.22 L487.251 1450.96 L495.514 1449.29 L500.19 1449.29 L500.19 1479.92 L507.829 1479.92 L507.829 1483.85 L487.922 1483.85 L487.922 1479.92 Z\" fill=\"#000000\" fill-rule=\"evenodd\" fill-opacity=\"1\" /><path clip-path=\"url(#clip320)\" d=\"M 0 0 M522.899 1452.37 Q519.287 1452.37 517.459 1455.94 Q515.653 1459.48 515.653 1466.61 Q515.653 1473.71 517.459 1477.28 Q519.287 1480.82 522.899 1480.82 Q526.533 1480.82 528.338 1477.28 Q530.167 1473.71 530.167 1466.61 Q530.167 1459.48 528.338 1455.94 Q526.533 1452.37 522.899 1452.37 M522.899 1448.67 Q528.709 1448.67 531.764 1453.27 Q534.843 1457.86 534.843 1466.61 Q534.843 1475.33 531.764 1479.94 Q528.709 1484.52 522.899 1484.52 Q517.088 1484.52 514.01 1479.94 Q510.954 1475.33 510.954 1466.61 Q510.954 1457.86 514.01 1453.27 Q517.088 1448.67 522.899 1448.67 Z\" fill=\"#000000\" fill-rule=\"evenodd\" fill-opacity=\"1\" /><path clip-path=\"url(#clip320)\" d=\"M 0 0 M996.329 1479.92 L1003.97 1479.92 L1003.97 1453.55 L995.658 1455.22 L995.658 1450.96 L1003.92 1449.29 L1008.6 1449.29 L1008.6 1479.92 L1016.24 1479.92 L1016.24 1483.85 L996.329 1483.85 L996.329 1479.92 Z\" fill=\"#000000\" fill-rule=\"evenodd\" fill-opacity=\"1\" /><path clip-path=\"url(#clip320)\" d=\"M 0 0 M1021.35 1449.29 L1039.71 1449.29 L1039.71 1453.23 L1025.63 1453.23 L1025.63 1461.7 Q1026.65 1461.35 1027.67 1461.19 Q1028.69 1461 1029.71 1461 Q1035.5 1461 1038.88 1464.18 Q1042.26 1467.35 1042.26 1472.76 Q1042.26 1478.34 1038.78 1481.44 Q1035.31 1484.52 1028.99 1484.52 Q1026.82 1484.52 1024.55 1484.15 Q1022.3 1483.78 1019.89 1483.04 L1019.89 1478.34 Q1021.98 1479.48 1024.2 1480.03 Q1026.42 1480.59 1028.9 1480.59 Q1032.9 1480.59 1035.24 1478.48 Q1037.58 1476.38 1037.58 1472.76 Q1037.58 1469.15 1035.24 1467.05 Q1032.9 1464.94 1028.9 1464.94 Q1027.02 1464.94 1025.15 1465.36 Q1023.3 1465.77 1021.35 1466.65 L1021.35 1449.29 Z\" fill=\"#000000\" fill-rule=\"evenodd\" fill-opacity=\"1\" /><path clip-path=\"url(#clip320)\" d=\"M 0 0 M1508.01 1479.92 L1524.33 1479.92 L1524.33 1483.85 L1502.39 1483.85 L1502.39 1479.92 Q1505.05 1477.16 1509.63 1472.53 Q1514.24 1467.88 1515.42 1466.54 Q1517.67 1464.01 1518.54 1462.28 Q1519.45 1460.52 1519.45 1458.83 Q1519.45 1456.07 1517.5 1454.34 Q1515.58 1452.6 1512.48 1452.6 Q1510.28 1452.6 1507.83 1453.37 Q1505.4 1454.13 1502.62 1455.68 L1502.62 1450.96 Q1505.44 1449.82 1507.9 1449.25 Q1510.35 1448.67 1512.39 1448.67 Q1517.76 1448.67 1520.95 1451.35 Q1524.15 1454.04 1524.15 1458.53 Q1524.15 1460.66 1523.34 1462.58 Q1522.55 1464.48 1520.44 1467.07 Q1519.86 1467.74 1516.76 1470.96 Q1513.66 1474.15 1508.01 1479.92 Z\" fill=\"#000000\" fill-rule=\"evenodd\" fill-opacity=\"1\" /><path clip-path=\"url(#clip320)\" d=\"M 0 0 M1539.4 1452.37 Q1535.79 1452.37 1533.96 1455.94 Q1532.16 1459.48 1532.16 1466.61 Q1532.16 1473.71 1533.96 1477.28 Q1535.79 1480.82 1539.4 1480.82 Q1543.04 1480.82 1544.84 1477.28 Q1546.67 1473.71 1546.67 1466.61 Q1546.67 1459.48 1544.84 1455.94 Q1543.04 1452.37 1539.4 1452.37 M1539.4 1448.67 Q1545.21 1448.67 1548.27 1453.27 Q1551.35 1457.86 1551.35 1466.61 Q1551.35 1475.33 1548.27 1479.94 Q1545.21 1484.52 1539.4 1484.52 Q1533.59 1484.52 1530.51 1479.94 Q1527.46 1475.33 1527.46 1466.61 Q1527.46 1457.86 1530.51 1453.27 Q1533.59 1448.67 1539.4 1448.67 Z\" fill=\"#000000\" fill-rule=\"evenodd\" fill-opacity=\"1\" /><path clip-path=\"url(#clip320)\" d=\"M 0 0 M2016.42 1479.92 L2032.74 1479.92 L2032.74 1483.85 L2010.79 1483.85 L2010.79 1479.92 Q2013.46 1477.16 2018.04 1472.53 Q2022.65 1467.88 2023.83 1466.54 Q2026.07 1464.01 2026.95 1462.28 Q2027.85 1460.52 2027.85 1458.83 Q2027.85 1456.07 2025.91 1454.34 Q2023.99 1452.6 2020.89 1452.6 Q2018.69 1452.6 2016.23 1453.37 Q2013.8 1454.13 2011.03 1455.68 L2011.03 1450.96 Q2013.85 1449.82 2016.3 1449.25 Q2018.76 1448.67 2020.79 1448.67 Q2026.17 1448.67 2029.36 1451.35 Q2032.55 1454.04 2032.55 1458.53 Q2032.55 1460.66 2031.74 1462.58 Q2030.96 1464.48 2028.85 1467.07 Q2028.27 1467.74 2025.17 1470.96 Q2022.07 1474.15 2016.42 1479.92 Z\" fill=\"#000000\" fill-rule=\"evenodd\" fill-opacity=\"1\" /><path clip-path=\"url(#clip320)\" d=\"M 0 0 M2037.85 1449.29 L2056.21 1449.29 L2056.21 1453.23 L2042.14 1453.23 L2042.14 1461.7 Q2043.16 1461.35 2044.17 1461.19 Q2045.19 1461 2046.21 1461 Q2052 1461 2055.38 1464.18 Q2058.76 1467.35 2058.76 1472.76 Q2058.76 1478.34 2055.29 1481.44 Q2051.81 1484.52 2045.49 1484.52 Q2043.32 1484.52 2041.05 1484.15 Q2038.8 1483.78 2036.4 1483.04 L2036.4 1478.34 Q2038.48 1479.48 2040.7 1480.03 Q2042.92 1480.59 2045.4 1480.59 Q2049.41 1480.59 2051.74 1478.48 Q2054.08 1476.38 2054.08 1472.76 Q2054.08 1469.15 2051.74 1467.05 Q2049.41 1464.94 2045.4 1464.94 Q2043.53 1464.94 2041.65 1465.36 Q2039.8 1465.77 2037.85 1466.65 L2037.85 1449.29 Z\" fill=\"#000000\" fill-rule=\"evenodd\" fill-opacity=\"1\" /><path clip-path=\"url(#clip320)\" d=\"M 0 0 M1260.17 1518.52 L1266.06 1518.52 L1266.06 1547.77 L1283.53 1532.4 L1291.01 1532.4 L1272.1 1549.07 L1291.81 1568.04 L1284.17 1568.04 L1266.06 1550.63 L1266.06 1568.04 L1260.17 1568.04 L1260.17 1518.52 Z\" fill=\"#000000\" fill-rule=\"evenodd\" fill-opacity=\"1\" /><polyline clip-path=\"url(#clip322)\" style=\"stroke:#000000; stroke-width:2; stroke-opacity:0.1; fill:none\" points=\"\n",
       "  199.218,1234.98 2352.76,1234.98 \n",
       "  \"/>\n",
       "<polyline clip-path=\"url(#clip322)\" style=\"stroke:#000000; stroke-width:2; stroke-opacity:0.1; fill:none\" points=\"\n",
       "  199.218,928.45 2352.76,928.45 \n",
       "  \"/>\n",
       "<polyline clip-path=\"url(#clip322)\" style=\"stroke:#000000; stroke-width:2; stroke-opacity:0.1; fill:none\" points=\"\n",
       "  199.218,621.915 2352.76,621.915 \n",
       "  \"/>\n",
       "<polyline clip-path=\"url(#clip322)\" style=\"stroke:#000000; stroke-width:2; stroke-opacity:0.1; fill:none\" points=\"\n",
       "  199.218,315.38 2352.76,315.38 \n",
       "  \"/>\n",
       "<polyline clip-path=\"url(#clip320)\" style=\"stroke:#000000; stroke-width:4; stroke-opacity:1; fill:none\" points=\"\n",
       "  199.218,1423.18 199.218,123.472 \n",
       "  \"/>\n",
       "<polyline clip-path=\"url(#clip320)\" style=\"stroke:#000000; stroke-width:4; stroke-opacity:1; fill:none\" points=\"\n",
       "  199.218,1234.98 225.061,1234.98 \n",
       "  \"/>\n",
       "<polyline clip-path=\"url(#clip320)\" style=\"stroke:#000000; stroke-width:4; stroke-opacity:1; fill:none\" points=\"\n",
       "  199.218,928.45 225.061,928.45 \n",
       "  \"/>\n",
       "<polyline clip-path=\"url(#clip320)\" style=\"stroke:#000000; stroke-width:4; stroke-opacity:1; fill:none\" points=\"\n",
       "  199.218,621.915 225.061,621.915 \n",
       "  \"/>\n",
       "<polyline clip-path=\"url(#clip320)\" style=\"stroke:#000000; stroke-width:4; stroke-opacity:1; fill:none\" points=\"\n",
       "  199.218,315.38 225.061,315.38 \n",
       "  \"/>\n",
       "<path clip-path=\"url(#clip320)\" d=\"M 0 0 M116.297 1248.33 L123.936 1248.33 L123.936 1221.96 L115.626 1223.63 L115.626 1219.37 L123.89 1217.7 L128.566 1217.7 L128.566 1248.33 L136.204 1248.33 L136.204 1252.26 L116.297 1252.26 L116.297 1248.33 Z\" fill=\"#000000\" fill-rule=\"evenodd\" fill-opacity=\"1\" /><path clip-path=\"url(#clip320)\" d=\"M 0 0 M151.274 1220.78 Q147.663 1220.78 145.834 1224.35 Q144.029 1227.89 144.029 1235.02 Q144.029 1242.13 145.834 1245.69 Q147.663 1249.23 151.274 1249.23 Q154.908 1249.23 156.714 1245.69 Q158.542 1242.13 158.542 1235.02 Q158.542 1227.89 156.714 1224.35 Q154.908 1220.78 151.274 1220.78 M151.274 1217.08 Q157.084 1217.08 160.14 1221.69 Q163.218 1226.27 163.218 1235.02 Q163.218 1243.75 160.14 1248.35 Q157.084 1252.94 151.274 1252.94 Q145.464 1252.94 142.385 1248.35 Q139.329 1243.75 139.329 1235.02 Q139.329 1226.27 142.385 1221.69 Q145.464 1217.08 151.274 1217.08 Z\" fill=\"#000000\" fill-rule=\"evenodd\" fill-opacity=\"1\" /><path clip-path=\"url(#clip320)\" d=\"M 0 0 M117.293 941.794 L124.931 941.794 L124.931 915.429 L116.621 917.095 L116.621 912.836 L124.885 911.17 L129.561 911.17 L129.561 941.794 L137.2 941.794 L137.2 945.73 L117.293 945.73 L117.293 941.794 Z\" fill=\"#000000\" fill-rule=\"evenodd\" fill-opacity=\"1\" /><path clip-path=\"url(#clip320)\" d=\"M 0 0 M142.316 911.17 L160.672 911.17 L160.672 915.105 L146.598 915.105 L146.598 923.577 Q147.616 923.23 148.635 923.068 Q149.653 922.882 150.672 922.882 Q156.459 922.882 159.839 926.054 Q163.218 929.225 163.218 934.642 Q163.218 940.22 159.746 943.322 Q156.274 946.401 149.954 946.401 Q147.778 946.401 145.51 946.031 Q143.265 945.66 140.857 944.919 L140.857 940.22 Q142.941 941.355 145.163 941.91 Q147.385 942.466 149.862 942.466 Q153.866 942.466 156.204 940.359 Q158.542 938.253 158.542 934.642 Q158.542 931.031 156.204 928.924 Q153.866 926.818 149.862 926.818 Q147.987 926.818 146.112 927.234 Q144.26 927.651 142.316 928.531 L142.316 911.17 Z\" fill=\"#000000\" fill-rule=\"evenodd\" fill-opacity=\"1\" /><path clip-path=\"url(#clip320)\" d=\"M 0 0 M119.885 635.26 L136.204 635.26 L136.204 639.195 L114.26 639.195 L114.26 635.26 Q116.922 632.505 121.505 627.875 Q126.112 623.223 127.292 621.88 Q129.538 619.357 130.417 617.621 Q131.32 615.862 131.32 614.172 Q131.32 611.417 129.376 609.681 Q127.455 607.945 124.353 607.945 Q122.154 607.945 119.7 608.709 Q117.269 609.473 114.492 611.024 L114.492 606.301 Q117.316 605.167 119.769 604.588 Q122.223 604.01 124.26 604.01 Q129.63 604.01 132.825 606.695 Q136.019 609.38 136.019 613.871 Q136.019 616 135.209 617.922 Q134.422 619.82 132.316 622.412 Q131.737 623.084 128.635 626.301 Q125.533 629.496 119.885 635.26 Z\" fill=\"#000000\" fill-rule=\"evenodd\" fill-opacity=\"1\" /><path clip-path=\"url(#clip320)\" d=\"M 0 0 M151.274 607.713 Q147.663 607.713 145.834 611.278 Q144.029 614.82 144.029 621.949 Q144.029 629.056 145.834 632.621 Q147.663 636.162 151.274 636.162 Q154.908 636.162 156.714 632.621 Q158.542 629.056 158.542 621.949 Q158.542 614.82 156.714 611.278 Q154.908 607.713 151.274 607.713 M151.274 604.01 Q157.084 604.01 160.14 608.616 Q163.218 613.2 163.218 621.949 Q163.218 630.676 160.14 635.283 Q157.084 639.866 151.274 639.866 Q145.464 639.866 142.385 635.283 Q139.329 630.676 139.329 621.949 Q139.329 613.2 142.385 608.616 Q145.464 604.01 151.274 604.01 Z\" fill=\"#000000\" fill-rule=\"evenodd\" fill-opacity=\"1\" /><path clip-path=\"url(#clip320)\" d=\"M 0 0 M120.88 328.725 L137.2 328.725 L137.2 332.66 L115.256 332.66 L115.256 328.725 Q117.918 325.97 122.501 321.341 Q127.107 316.688 128.288 315.345 Q130.533 312.822 131.413 311.086 Q132.316 309.327 132.316 307.637 Q132.316 304.882 130.371 303.146 Q128.45 301.41 125.348 301.41 Q123.149 301.41 120.695 302.174 Q118.265 302.938 115.487 304.489 L115.487 299.767 Q118.311 298.632 120.765 298.054 Q123.218 297.475 125.255 297.475 Q130.626 297.475 133.82 300.16 Q137.015 302.845 137.015 307.336 Q137.015 309.466 136.204 311.387 Q135.417 313.285 133.311 315.878 Q132.732 316.549 129.63 319.766 Q126.529 322.961 120.88 328.725 Z\" fill=\"#000000\" fill-rule=\"evenodd\" fill-opacity=\"1\" /><path clip-path=\"url(#clip320)\" d=\"M 0 0 M142.316 298.1 L160.672 298.1 L160.672 302.035 L146.598 302.035 L146.598 310.507 Q147.616 310.16 148.635 309.998 Q149.653 309.813 150.672 309.813 Q156.459 309.813 159.839 312.984 Q163.218 316.155 163.218 321.572 Q163.218 327.151 159.746 330.253 Q156.274 333.331 149.954 333.331 Q147.778 333.331 145.51 332.961 Q143.265 332.59 140.857 331.85 L140.857 327.151 Q142.941 328.285 145.163 328.84 Q147.385 329.396 149.862 329.396 Q153.866 329.396 156.204 327.29 Q158.542 325.183 158.542 321.572 Q158.542 317.961 156.204 315.854 Q153.866 313.748 149.862 313.748 Q147.987 313.748 146.112 314.165 Q144.26 314.581 142.316 315.461 L142.316 298.1 Z\" fill=\"#000000\" fill-rule=\"evenodd\" fill-opacity=\"1\" /><path clip-path=\"url(#clip320)\" d=\"M 0 0 M14.479 795.765 L14.479 789.877 L43.7294 789.877 L28.3562 772.403 L28.3562 764.923 L45.0344 783.829 L64.0042 764.128 L64.0042 771.766 L46.5939 789.877 L64.0042 789.877 L64.0042 795.765 L14.479 795.765 Z\" fill=\"#000000\" fill-rule=\"evenodd\" fill-opacity=\"1\" /><path clip-path=\"url(#clip320)\" d=\"M 0 0 M28.3562 762.854 L16.4842 757.348 L16.4842 750.887 L28.3562 760.085 L28.3562 762.854 Z\" fill=\"#000000\" fill-rule=\"evenodd\" fill-opacity=\"1\" /><path clip-path=\"url(#clip320)\" d=\"M 0 0 M904.256 18.8205 L904.256 41.5461 L914.545 41.5461 Q920.257 41.5461 923.376 38.5889 Q926.495 35.6318 926.495 30.163 Q926.495 24.7348 923.376 21.7777 Q920.257 18.8205 914.545 18.8205 L904.256 18.8205 M896.073 12.096 L914.545 12.096 Q924.713 12.096 929.898 16.714 Q935.124 21.2916 935.124 30.163 Q935.124 39.1155 929.898 43.6931 Q924.713 48.2706 914.545 48.2706 L904.256 48.2706 L904.256 72.576 L896.073 72.576 L896.073 12.096 Z\" fill=\"#000000\" fill-rule=\"evenodd\" fill-opacity=\"1\" /><path clip-path=\"url(#clip320)\" d=\"M 0 0 M957.566 32.4315 Q951.57 32.4315 948.087 37.1306 Q944.603 41.7891 944.603 49.9314 Q944.603 58.0738 948.046 62.7728 Q951.53 67.4314 957.566 67.4314 Q963.521 67.4314 967.004 62.7323 Q970.488 58.0333 970.488 49.9314 Q970.488 41.8701 967.004 37.1711 Q963.521 32.4315 957.566 32.4315 M957.566 26.1121 Q967.288 26.1121 972.838 32.4315 Q978.387 38.7509 978.387 49.9314 Q978.387 61.0714 972.838 67.4314 Q967.288 73.7508 957.566 73.7508 Q947.803 73.7508 942.253 67.4314 Q936.744 61.0714 936.744 49.9314 Q936.744 38.7509 942.253 32.4315 Q947.803 26.1121 957.566 26.1121 Z\" fill=\"#000000\" fill-rule=\"evenodd\" fill-opacity=\"1\" /><path clip-path=\"url(#clip320)\" d=\"M 0 0 M986.206 9.54393 L993.659 9.54393 L993.659 72.576 L986.206 72.576 L986.206 9.54393 Z\" fill=\"#000000\" fill-rule=\"evenodd\" fill-opacity=\"1\" /><path clip-path=\"url(#clip320)\" d=\"M 0 0 M1001.48 27.2059 L1008.93 27.2059 L1008.93 72.576 L1001.48 72.576 L1001.48 27.2059 M1001.48 9.54393 L1008.93 9.54393 L1008.93 18.9825 L1001.48 18.9825 L1001.48 9.54393 Z\" fill=\"#000000\" fill-rule=\"evenodd\" fill-opacity=\"1\" /><path clip-path=\"url(#clip320)\" d=\"M 0 0 M1049.4 28.9478 L1049.4 35.9153 Q1046.24 34.1734 1043.04 33.3227 Q1039.88 32.4315 1036.64 32.4315 Q1029.39 32.4315 1025.38 37.0496 Q1021.37 41.6271 1021.37 49.9314 Q1021.37 58.2358 1025.38 62.8538 Q1029.39 67.4314 1036.64 67.4314 Q1039.88 67.4314 1043.04 66.5807 Q1046.24 65.6895 1049.4 63.9476 L1049.4 70.8341 Q1046.28 72.2924 1042.92 73.0216 Q1039.6 73.7508 1035.83 73.7508 Q1025.58 73.7508 1019.54 67.3098 Q1013.51 60.8689 1013.51 49.9314 Q1013.51 38.832 1019.59 32.472 Q1025.7 26.1121 1036.32 26.1121 Q1039.76 26.1121 1043.04 26.8413 Q1046.32 27.5299 1049.4 28.9478 Z\" fill=\"#000000\" fill-rule=\"evenodd\" fill-opacity=\"1\" /><path clip-path=\"url(#clip320)\" d=\"M 0 0 M1076.1 76.7889 Q1072.94 84.8907 1069.94 87.3618 Q1066.94 89.8329 1061.92 89.8329 L1055.96 89.8329 L1055.96 83.5945 L1060.34 83.5945 Q1063.42 83.5945 1065.12 82.1361 Q1066.82 80.6778 1068.88 75.2496 L1070.22 71.8468 L1051.87 27.2059 L1059.77 27.2059 L1073.95 62.6918 L1088.13 27.2059 L1096.03 27.2059 L1076.1 76.7889 Z\" fill=\"#000000\" fill-rule=\"evenodd\" fill-opacity=\"1\" /><path clip-path=\"url(#clip320)\" d=\"M 0 0 M1130.54 12.096 L1165.3 12.096 L1165.3 18.9825 L1138.72 18.9825 L1138.72 36.8065 L1162.7 36.8065 L1162.7 43.6931 L1138.72 43.6931 L1138.72 72.576 L1130.54 72.576 L1130.54 12.096 Z\" fill=\"#000000\" fill-rule=\"evenodd\" fill-opacity=\"1\" /><path clip-path=\"url(#clip320)\" d=\"M 0 0 M1167.81 54.671 L1167.81 27.2059 L1175.26 27.2059 L1175.26 54.3874 Q1175.26 60.8284 1177.77 64.0691 Q1180.28 67.2693 1185.31 67.2693 Q1191.34 67.2693 1194.83 63.421 Q1198.35 59.5726 1198.35 52.9291 L1198.35 27.2059 L1205.81 27.2059 L1205.81 72.576 L1198.35 72.576 L1198.35 65.6084 Q1195.64 69.7404 1192.03 71.7658 Q1188.47 73.7508 1183.73 73.7508 Q1175.91 73.7508 1171.86 68.8897 Q1167.81 64.0286 1167.81 54.671 M1186.56 26.1121 L1186.56 26.1121 Z\" fill=\"#000000\" fill-rule=\"evenodd\" fill-opacity=\"1\" /><path clip-path=\"url(#clip320)\" d=\"M 0 0 M1251.34 45.1919 L1251.34 72.576 L1243.88 72.576 L1243.88 45.4349 Q1243.88 38.994 1241.37 35.7938 Q1238.86 32.5936 1233.84 32.5936 Q1227.8 32.5936 1224.32 36.4419 Q1220.83 40.2903 1220.83 46.9338 L1220.83 72.576 L1213.34 72.576 L1213.34 27.2059 L1220.83 27.2059 L1220.83 34.2544 Q1223.51 30.163 1227.11 28.1376 Q1230.76 26.1121 1235.5 26.1121 Q1243.32 26.1121 1247.33 30.9732 Q1251.34 35.7938 1251.34 45.1919 Z\" fill=\"#000000\" fill-rule=\"evenodd\" fill-opacity=\"1\" /><path clip-path=\"url(#clip320)\" d=\"M 0 0 M1291.81 28.9478 L1291.81 35.9153 Q1288.65 34.1734 1285.45 33.3227 Q1282.29 32.4315 1279.05 32.4315 Q1271.79 32.4315 1267.78 37.0496 Q1263.77 41.6271 1263.77 49.9314 Q1263.77 58.2358 1267.78 62.8538 Q1271.79 67.4314 1279.05 67.4314 Q1282.29 67.4314 1285.45 66.5807 Q1288.65 65.6895 1291.81 63.9476 L1291.81 70.8341 Q1288.69 72.2924 1285.32 73.0216 Q1282 73.7508 1278.24 73.7508 Q1267.99 73.7508 1261.95 67.3098 Q1255.91 60.8689 1255.91 49.9314 Q1255.91 38.832 1261.99 32.472 Q1268.11 26.1121 1278.72 26.1121 Q1282.16 26.1121 1285.45 26.8413 Q1288.73 27.5299 1291.81 28.9478 Z\" fill=\"#000000\" fill-rule=\"evenodd\" fill-opacity=\"1\" /><path clip-path=\"url(#clip320)\" d=\"M 0 0 M1307 14.324 L1307 27.2059 L1322.35 27.2059 L1322.35 32.9987 L1307 32.9987 L1307 57.6282 Q1307 63.1779 1308.5 64.7578 Q1310.03 66.3376 1314.69 66.3376 L1322.35 66.3376 L1322.35 72.576 L1314.69 72.576 Q1306.07 72.576 1302.78 69.3758 Q1299.5 66.1351 1299.5 57.6282 L1299.5 32.9987 L1294.03 32.9987 L1294.03 27.2059 L1299.5 27.2059 L1299.5 14.324 L1307 14.324 Z\" fill=\"#000000\" fill-rule=\"evenodd\" fill-opacity=\"1\" /><path clip-path=\"url(#clip320)\" d=\"M 0 0 M1330.17 27.2059 L1337.62 27.2059 L1337.62 72.576 L1330.17 72.576 L1330.17 27.2059 M1330.17 9.54393 L1337.62 9.54393 L1337.62 18.9825 L1330.17 18.9825 L1330.17 9.54393 Z\" fill=\"#000000\" fill-rule=\"evenodd\" fill-opacity=\"1\" /><path clip-path=\"url(#clip320)\" d=\"M 0 0 M1363.02 32.4315 Q1357.03 32.4315 1353.54 37.1306 Q1350.06 41.7891 1350.06 49.9314 Q1350.06 58.0738 1353.5 62.7728 Q1356.98 67.4314 1363.02 67.4314 Q1368.98 67.4314 1372.46 62.7323 Q1375.94 58.0333 1375.94 49.9314 Q1375.94 41.8701 1372.46 37.1711 Q1368.98 32.4315 1363.02 32.4315 M1363.02 26.1121 Q1372.74 26.1121 1378.29 32.4315 Q1383.84 38.7509 1383.84 49.9314 Q1383.84 61.0714 1378.29 67.4314 Q1372.74 73.7508 1363.02 73.7508 Q1353.26 73.7508 1347.71 67.4314 Q1342.2 61.0714 1342.2 49.9314 Q1342.2 38.7509 1347.71 32.4315 Q1353.26 26.1121 1363.02 26.1121 Z\" fill=\"#000000\" fill-rule=\"evenodd\" fill-opacity=\"1\" /><path clip-path=\"url(#clip320)\" d=\"M 0 0 M1429.37 45.1919 L1429.37 72.576 L1421.92 72.576 L1421.92 45.4349 Q1421.92 38.994 1419.41 35.7938 Q1416.9 32.5936 1411.87 32.5936 Q1405.84 32.5936 1402.36 36.4419 Q1398.87 40.2903 1398.87 46.9338 L1398.87 72.576 L1391.38 72.576 L1391.38 27.2059 L1398.87 27.2059 L1398.87 34.2544 Q1401.54 30.163 1405.15 28.1376 Q1408.8 26.1121 1413.54 26.1121 Q1421.35 26.1121 1425.36 30.9732 Q1429.37 35.7938 1429.37 45.1919 Z\" fill=\"#000000\" fill-rule=\"evenodd\" fill-opacity=\"1\" /><path clip-path=\"url(#clip320)\" d=\"M 0 0 M1486.53 9.54393 L1486.53 15.7418 L1479.4 15.7418 Q1475.39 15.7418 1473.81 17.3622 Q1472.27 18.9825 1472.27 23.1955 L1472.27 27.2059 L1484.55 27.2059 L1484.55 32.9987 L1472.27 32.9987 L1472.27 72.576 L1464.78 72.576 L1464.78 32.9987 L1457.65 32.9987 L1457.65 27.2059 L1464.78 27.2059 L1464.78 24.0462 Q1464.78 16.471 1468.3 13.0277 Q1471.83 9.54393 1479.48 9.54393 L1486.53 9.54393 Z\" fill=\"#000000\" fill-rule=\"evenodd\" fill-opacity=\"1\" /><path clip-path=\"url(#clip320)\" d=\"M 0 0 M1511.93 32.4315 Q1505.94 32.4315 1502.45 37.1306 Q1498.97 41.7891 1498.97 49.9314 Q1498.97 58.0738 1502.41 62.7728 Q1505.9 67.4314 1511.93 67.4314 Q1517.89 67.4314 1521.37 62.7323 Q1524.85 58.0333 1524.85 49.9314 Q1524.85 41.8701 1521.37 37.1711 Q1517.89 32.4315 1511.93 32.4315 M1511.93 26.1121 Q1521.65 26.1121 1527.2 32.4315 Q1532.75 38.7509 1532.75 49.9314 Q1532.75 61.0714 1527.2 67.4314 Q1521.65 73.7508 1511.93 73.7508 Q1502.17 73.7508 1496.62 67.4314 Q1491.11 61.0714 1491.11 49.9314 Q1491.11 38.7509 1496.62 32.4315 Q1502.17 26.1121 1511.93 26.1121 Z\" fill=\"#000000\" fill-rule=\"evenodd\" fill-opacity=\"1\" /><path clip-path=\"url(#clip320)\" d=\"M 0 0 M1566.86 34.1734 Q1565.61 33.4443 1564.11 33.1202 Q1562.65 32.7556 1560.87 32.7556 Q1554.55 32.7556 1551.14 36.8875 Q1547.78 40.9789 1547.78 48.6757 L1547.78 72.576 L1540.29 72.576 L1540.29 27.2059 L1547.78 27.2059 L1547.78 34.2544 Q1550.13 30.1225 1553.9 28.1376 Q1557.67 26.1121 1563.05 26.1121 Q1563.82 26.1121 1564.76 26.2337 Q1565.69 26.3147 1566.82 26.5172 L1566.86 34.1734 Z\" fill=\"#000000\" fill-rule=\"evenodd\" fill-opacity=\"1\" /><path clip-path=\"url(#clip320)\" d=\"M 0 0 M1600.77 9.54393 L1608.26 9.54393 L1608.26 46.7717 L1630.5 27.2059 L1640.02 27.2059 L1615.96 48.4326 L1641.03 72.576 L1631.31 72.576 L1608.26 50.4176 L1608.26 72.576 L1600.77 72.576 L1600.77 9.54393 Z\" fill=\"#000000\" fill-rule=\"evenodd\" fill-opacity=\"1\" /><path clip-path=\"url(#clip320)\" d=\"M 0 0 M1655.9 12.096 L1655.9 34.5785 L1649.01 34.5785 L1649.01 12.096 L1655.9 12.096 Z\" fill=\"#000000\" fill-rule=\"evenodd\" fill-opacity=\"1\" /><polyline clip-path=\"url(#clip322)\" style=\"stroke:#000000; stroke-width:4; stroke-opacity:1; fill:none\" points=\"\n",
       "  260.167,1386.4 264.231,1383.94 268.294,1381.49 272.357,1379.04 276.421,1376.59 280.484,1374.13 284.547,1371.68 288.61,1369.23 292.674,1366.78 296.737,1364.33 \n",
       "  300.8,1361.87 304.863,1359.42 308.927,1356.97 312.99,1354.52 317.053,1352.06 321.117,1349.61 325.18,1347.16 329.243,1344.71 333.306,1342.25 337.37,1339.8 \n",
       "  341.433,1337.35 345.496,1334.9 349.56,1332.45 353.623,1329.99 357.686,1327.54 361.749,1325.09 365.813,1322.64 369.876,1320.18 373.939,1317.73 378.002,1315.28 \n",
       "  382.066,1312.83 386.129,1310.38 390.192,1307.92 394.256,1305.47 398.319,1303.02 402.382,1300.57 406.445,1298.11 410.509,1295.66 414.572,1293.21 418.635,1290.76 \n",
       "  422.699,1288.3 426.762,1285.85 430.825,1283.4 434.888,1280.95 438.952,1278.5 443.015,1276.04 447.078,1273.59 451.142,1271.14 455.205,1268.69 459.268,1266.23 \n",
       "  463.331,1263.78 467.395,1261.33 471.458,1258.88 475.521,1256.42 479.584,1253.97 483.648,1251.52 487.711,1249.07 491.774,1246.62 495.838,1244.16 499.901,1241.71 \n",
       "  503.964,1239.26 508.027,1236.81 512.091,1234.35 516.154,1231.9 520.217,1229.45 524.281,1227 528.344,1224.55 532.407,1222.09 536.47,1219.64 540.534,1217.19 \n",
       "  544.597,1214.74 548.66,1212.28 552.723,1209.83 556.787,1207.38 560.85,1204.93 564.913,1202.47 568.977,1200.02 573.04,1197.57 577.103,1195.12 581.166,1192.67 \n",
       "  585.23,1190.21 589.293,1187.76 593.356,1185.31 597.42,1182.86 601.483,1180.4 605.546,1177.95 609.609,1175.5 613.673,1173.05 617.736,1170.6 621.799,1168.14 \n",
       "  625.862,1165.69 629.926,1163.24 633.989,1160.79 638.052,1158.33 642.116,1155.88 646.179,1153.43 650.242,1150.98 654.305,1148.52 658.369,1146.07 662.432,1143.62 \n",
       "  666.495,1141.17 670.559,1138.72 674.622,1136.26 678.685,1133.81 682.748,1131.36 686.812,1128.91 690.875,1126.45 694.938,1124 699.002,1121.55 703.065,1119.1 \n",
       "  707.128,1116.65 711.191,1114.19 715.255,1111.74 719.318,1109.29 723.381,1106.84 727.444,1104.38 731.508,1101.93 735.571,1099.48 739.634,1097.03 743.698,1094.57 \n",
       "  747.761,1092.12 751.824,1089.67 755.887,1087.22 759.951,1084.77 764.014,1082.31 768.077,1079.86 772.141,1077.41 776.204,1074.96 780.267,1072.5 784.33,1070.05 \n",
       "  788.394,1067.6 792.457,1065.15 796.52,1062.69 800.583,1060.24 804.647,1057.79 808.71,1055.34 812.773,1052.89 816.837,1050.43 820.9,1047.98 824.963,1045.53 \n",
       "  829.026,1043.08 833.09,1040.62 837.153,1038.17 841.216,1035.72 845.28,1033.27 849.343,1030.82 853.406,1028.36 857.469,1025.91 861.533,1023.46 865.596,1021.01 \n",
       "  869.659,1018.55 873.722,1016.1 877.786,1013.65 881.849,1011.2 885.912,1008.74 889.976,1006.29 894.039,1003.84 898.102,1001.39 902.165,998.936 906.229,996.483 \n",
       "  910.292,994.031 914.355,991.579 918.419,989.127 922.482,986.674 926.545,984.222 930.608,981.77 934.672,979.317 938.735,976.865 942.798,974.413 946.861,971.961 \n",
       "  950.925,969.508 954.988,967.056 959.051,964.604 963.115,962.151 967.178,959.699 971.241,957.247 975.304,954.795 979.368,952.342 983.431,949.89 987.494,947.438 \n",
       "  991.558,944.985 995.621,942.533 999.684,940.081 1003.75,937.629 1007.81,935.176 1011.87,932.724 1015.94,930.272 1020,927.82 1024.06,925.367 1028.13,922.915 \n",
       "  1032.19,920.463 1036.25,918.01 1040.32,915.558 1044.38,913.106 1048.44,910.654 1052.51,908.201 1056.57,905.749 1060.63,903.297 1064.7,900.844 1068.76,898.392 \n",
       "  1072.82,895.94 1076.89,893.488 1080.95,891.035 1085.01,888.583 1089.08,886.131 1093.14,883.679 1097.2,881.226 1101.27,878.774 1105.33,876.322 1109.39,873.869 \n",
       "  1113.46,871.417 1117.52,868.965 1121.58,866.513 1125.65,864.06 1129.71,861.608 1133.77,859.156 1137.84,856.703 1141.9,854.251 1145.96,851.799 1150.03,849.347 \n",
       "  1154.09,846.894 1158.15,844.442 1162.22,841.99 1166.28,839.538 1170.34,837.085 1174.41,834.633 1178.47,832.181 1182.53,829.728 1186.59,827.276 1190.66,824.824 \n",
       "  1194.72,822.372 1198.78,819.919 1202.85,817.467 1206.91,815.015 1210.97,812.562 1215.04,810.11 1219.1,807.658 1223.16,805.206 1227.23,802.753 1231.29,800.301 \n",
       "  1235.35,797.849 1239.42,795.396 1243.48,792.944 1247.54,790.492 1251.61,788.04 1255.67,785.587 1259.73,783.135 1263.8,780.683 1267.86,778.231 1271.92,775.778 \n",
       "  1275.99,773.326 1280.05,770.874 1284.11,768.421 1288.18,765.969 1292.24,763.517 1296.3,761.065 1300.37,758.612 1304.43,756.16 1308.49,753.708 1312.56,751.255 \n",
       "  1316.62,748.803 1320.68,746.351 1324.75,743.899 1328.81,741.446 1332.87,738.994 1336.94,736.542 1341,734.09 1345.06,731.637 1349.13,729.185 1353.19,726.733 \n",
       "  1357.25,724.28 1361.32,721.828 1365.38,719.376 1369.44,716.924 1373.51,714.471 1377.57,712.019 1381.63,709.567 1385.7,707.114 1389.76,704.662 1393.82,702.21 \n",
       "  1397.89,699.758 1401.95,697.305 1406.01,694.853 1410.08,692.401 1414.14,689.949 1418.2,687.496 1422.27,685.044 1426.33,682.592 1430.39,680.139 1434.45,677.687 \n",
       "  1438.52,675.235 1442.58,672.783 1446.64,670.33 1450.71,667.878 1454.77,665.426 1458.83,662.973 1462.9,660.521 1466.96,658.069 1471.02,655.617 1475.09,653.164 \n",
       "  1479.15,650.712 1483.21,648.26 1487.28,645.807 1491.34,643.355 1495.4,640.903 1499.47,638.451 1503.53,635.998 1507.59,633.546 1511.66,631.094 1515.72,628.642 \n",
       "  1519.78,626.189 1523.85,623.737 1527.91,621.285 1531.97,618.832 1536.04,616.38 1540.1,613.928 1544.16,611.476 1548.23,609.023 1552.29,606.571 1556.35,604.119 \n",
       "  1560.42,601.666 1564.48,599.214 1568.54,596.762 1572.61,594.31 1576.67,591.857 1580.73,589.405 1584.8,586.953 1588.86,584.501 1592.92,582.048 1596.99,579.596 \n",
       "  1601.05,577.144 1605.11,574.691 1609.18,572.239 1613.24,569.787 1617.3,567.335 1621.37,564.882 1625.43,562.43 1629.49,559.978 1633.56,557.525 1637.62,555.073 \n",
       "  1641.68,552.621 1645.75,550.169 1649.81,547.716 1653.87,545.264 1657.94,542.812 1662,540.36 1666.06,537.907 1670.13,535.455 1674.19,533.003 1678.25,530.55 \n",
       "  1682.31,528.098 1686.38,525.646 1690.44,523.194 1694.5,520.741 1698.57,518.289 1702.63,515.837 1706.69,513.384 1710.76,510.932 1714.82,508.48 1718.88,506.028 \n",
       "  1722.95,503.575 1727.01,501.123 1731.07,498.671 1735.14,496.218 1739.2,493.766 1743.26,491.314 1747.33,488.862 1751.39,486.409 1755.45,483.957 1759.52,481.505 \n",
       "  1763.58,479.053 1767.64,476.6 1771.71,474.148 1775.77,471.696 1779.83,469.243 1783.9,466.791 1787.96,464.339 1792.02,461.887 1796.09,459.434 1800.15,456.982 \n",
       "  1804.21,454.53 1808.28,452.077 1812.34,449.625 1816.4,447.173 1820.47,444.721 1824.53,442.268 1828.59,439.816 1832.66,437.364 1836.72,434.912 1840.78,432.459 \n",
       "  1844.85,430.007 1848.91,427.555 1852.97,425.102 1857.04,422.65 1861.1,420.198 1865.16,417.746 1869.23,415.293 1873.29,412.841 1877.35,410.389 1881.42,407.936 \n",
       "  1885.48,405.484 1889.54,403.032 1893.61,400.58 1897.67,398.127 1901.73,395.675 1905.8,393.223 1909.86,390.771 1913.92,388.318 1917.99,385.866 1922.05,383.414 \n",
       "  1926.11,380.961 1930.17,378.509 1934.24,376.057 1938.3,373.605 1942.36,371.152 1946.43,368.7 1950.49,366.248 1954.55,363.795 1958.62,361.343 1962.68,358.891 \n",
       "  1966.74,356.439 1970.81,353.986 1974.87,351.534 1978.93,349.082 1983,346.629 1987.06,344.177 1991.12,341.725 1995.19,339.273 1999.25,336.82 2003.31,334.368 \n",
       "  2007.38,331.916 2011.44,329.464 2015.5,327.011 2019.57,324.559 2023.63,322.107 2027.69,319.654 2031.76,317.202 2035.82,314.75 2039.88,312.298 2043.95,309.845 \n",
       "  2048.01,307.393 2052.07,304.941 2056.14,302.488 2060.2,300.036 2064.26,297.584 2068.33,295.132 2072.39,292.679 2076.45,290.227 2080.52,287.775 2084.58,285.323 \n",
       "  2088.64,282.87 2092.71,280.418 2096.77,277.966 2100.83,275.513 2104.9,273.061 2108.96,270.609 2113.02,268.157 2117.09,265.704 2121.15,263.252 2125.21,260.8 \n",
       "  2129.28,258.347 2133.34,255.895 2137.4,253.443 2141.47,250.991 2145.53,248.538 2149.59,246.086 2153.66,243.634 2157.72,241.182 2161.78,238.729 2165.85,236.277 \n",
       "  2169.91,233.825 2173.97,231.372 2178.03,228.92 2182.1,226.468 2186.16,224.016 2190.22,221.563 2194.29,219.111 2198.35,216.659 2202.41,214.206 2206.48,211.754 \n",
       "  2210.54,209.302 2214.6,206.85 2218.67,204.397 2222.73,201.945 2226.79,199.493 2230.86,197.04 2234.92,194.588 2238.98,192.136 2243.05,189.684 2247.11,187.231 \n",
       "  2251.17,184.779 2255.24,182.327 2259.3,179.875 2263.36,177.422 2267.43,174.97 2271.49,172.518 2275.55,170.065 2279.62,167.613 2283.68,165.161 2287.74,162.709 \n",
       "  2291.81,160.256 \n",
       "  \"/>\n",
       "<polyline clip-path=\"url(#clip322)\" style=\"stroke:#808080; stroke-width:12; stroke-opacity:1; fill:none\" points=\"\n",
       "  260.167,773.326 264.231,773.326 268.294,773.326 272.357,773.326 276.421,773.326 280.484,773.326 284.547,773.326 288.61,773.326 292.674,773.326 296.737,773.326 \n",
       "  300.8,773.326 304.863,773.326 308.927,773.326 312.99,773.326 317.053,773.326 321.117,773.326 325.18,773.326 329.243,773.326 333.306,773.326 337.37,773.326 \n",
       "  341.433,773.326 345.496,773.326 349.56,773.326 353.623,773.326 357.686,773.326 361.749,773.326 365.813,773.326 369.876,773.326 373.939,773.326 378.002,773.326 \n",
       "  382.066,773.326 386.129,773.326 390.192,773.326 394.256,773.326 398.319,773.326 402.382,773.326 406.445,773.326 410.509,773.326 414.572,773.326 418.635,773.326 \n",
       "  422.699,773.326 426.762,773.326 430.825,773.326 434.888,773.326 438.952,773.326 443.015,773.326 447.078,773.326 451.142,773.326 455.205,773.326 459.268,773.326 \n",
       "  463.331,773.326 467.395,773.326 471.458,773.326 475.521,773.326 479.584,773.326 483.648,773.326 487.711,773.326 491.774,773.326 495.838,773.326 499.901,773.326 \n",
       "  503.964,773.326 508.027,773.326 512.091,773.326 516.154,773.326 520.217,773.326 524.281,773.326 528.344,773.326 532.407,773.326 536.47,773.326 540.534,773.326 \n",
       "  544.597,773.326 548.66,773.326 552.723,773.326 556.787,773.326 560.85,773.326 564.913,773.326 568.977,773.326 573.04,773.326 577.103,773.326 581.166,773.326 \n",
       "  585.23,773.326 589.293,773.326 593.356,773.326 597.42,773.326 601.483,773.326 605.546,773.326 609.609,773.326 613.673,773.326 617.736,773.326 621.799,773.326 \n",
       "  625.862,773.326 629.926,773.326 633.989,773.326 638.052,773.326 642.116,773.326 646.179,773.326 650.242,773.326 654.305,773.326 658.369,773.326 662.432,773.326 \n",
       "  666.495,773.326 670.559,773.326 674.622,773.326 678.685,773.326 682.748,773.326 686.812,773.326 690.875,773.326 694.938,773.326 699.002,773.326 703.065,773.326 \n",
       "  707.128,773.326 711.191,773.326 715.255,773.326 719.318,773.326 723.381,773.326 727.444,773.326 731.508,773.326 735.571,773.326 739.634,773.326 743.698,773.326 \n",
       "  747.761,773.326 751.824,773.326 755.887,773.326 759.951,773.326 764.014,773.326 768.077,773.326 772.141,773.326 776.204,773.326 780.267,773.326 784.33,773.326 \n",
       "  788.394,773.326 792.457,773.326 796.52,773.326 800.583,773.326 804.647,773.326 808.71,773.326 812.773,773.326 816.837,773.326 820.9,773.326 824.963,773.326 \n",
       "  829.026,773.326 833.09,773.326 837.153,773.326 841.216,773.326 845.28,773.326 849.343,773.326 853.406,773.326 857.469,773.326 861.533,773.326 865.596,773.326 \n",
       "  869.659,773.326 873.722,773.326 877.786,773.326 881.849,773.326 885.912,773.326 889.976,773.326 894.039,773.326 898.102,773.326 902.165,773.326 906.229,773.326 \n",
       "  910.292,773.326 914.355,773.326 918.419,773.326 922.482,773.326 926.545,773.326 930.608,773.326 934.672,773.326 938.735,773.326 942.798,773.326 946.861,773.326 \n",
       "  950.925,773.326 954.988,773.326 959.051,773.326 963.115,773.326 967.178,773.326 971.241,773.326 975.304,773.326 979.368,773.326 983.431,773.326 987.494,773.326 \n",
       "  991.558,773.326 995.621,773.326 999.684,773.326 1003.75,773.326 1007.81,773.326 1011.87,773.326 1015.94,773.326 1020,773.326 1024.06,773.326 1028.13,773.326 \n",
       "  1032.19,773.326 1036.25,773.326 1040.32,773.326 1044.38,773.326 1048.44,773.326 1052.51,773.326 1056.57,773.326 1060.63,773.326 1064.7,773.326 1068.76,773.326 \n",
       "  1072.82,773.326 1076.89,773.326 1080.95,773.326 1085.01,773.326 1089.08,773.326 1093.14,773.326 1097.2,773.326 1101.27,773.326 1105.33,773.326 1109.39,773.326 \n",
       "  1113.46,773.326 1117.52,773.326 1121.58,773.326 1125.65,773.326 1129.71,773.326 1133.77,773.326 1137.84,773.326 1141.9,773.326 1145.96,773.326 1150.03,773.326 \n",
       "  1154.09,773.326 1158.15,773.326 1162.22,773.326 1166.28,773.326 1170.34,773.326 1174.41,773.326 1178.47,773.326 1182.53,773.326 1186.59,773.326 1190.66,773.326 \n",
       "  1194.72,773.326 1198.78,773.326 1202.85,773.326 1206.91,773.326 1210.97,773.326 1215.04,773.326 1219.1,773.326 1223.16,773.326 1227.23,773.326 1231.29,773.326 \n",
       "  1235.35,773.326 1239.42,773.326 1243.48,773.326 1247.54,773.326 1251.61,773.326 1255.67,773.326 1259.73,773.326 1263.8,773.326 1267.86,773.326 1271.92,773.326 \n",
       "  1275.99,773.326 1280.05,773.326 1284.11,773.326 1288.18,773.326 1292.24,773.326 1296.3,773.326 1300.37,773.326 1304.43,773.326 1308.49,773.326 1312.56,773.326 \n",
       "  1316.62,773.326 1320.68,773.326 1324.75,773.326 1328.81,773.326 1332.87,773.326 1336.94,773.326 1341,773.326 1345.06,773.326 1349.13,773.326 1353.19,773.326 \n",
       "  1357.25,773.326 1361.32,773.326 1365.38,773.326 1369.44,773.326 1373.51,773.326 1377.57,773.326 1381.63,773.326 1385.7,773.326 1389.76,773.326 1393.82,773.326 \n",
       "  1397.89,773.326 1401.95,773.326 1406.01,773.326 1410.08,773.326 1414.14,773.326 1418.2,773.326 1422.27,773.326 1426.33,773.326 1430.39,773.326 1434.45,773.326 \n",
       "  1438.52,773.326 1442.58,773.326 1446.64,773.326 1450.71,773.326 1454.77,773.326 1458.83,773.326 1462.9,773.326 1466.96,773.326 1471.02,773.326 1475.09,773.326 \n",
       "  1479.15,773.326 1483.21,773.326 1487.28,773.326 1491.34,773.326 1495.4,773.326 1499.47,773.326 1503.53,773.326 1507.59,773.326 1511.66,773.326 1515.72,773.326 \n",
       "  1519.78,773.326 1523.85,773.326 1527.91,773.326 1531.97,773.326 1536.04,773.326 1540.1,773.326 1544.16,773.326 1548.23,773.326 1552.29,773.326 1556.35,773.326 \n",
       "  1560.42,773.326 1564.48,773.326 1568.54,773.326 1572.61,773.326 1576.67,773.326 1580.73,773.326 1584.8,773.326 1588.86,773.326 1592.92,773.326 1596.99,773.326 \n",
       "  1601.05,773.326 1605.11,773.326 1609.18,773.326 1613.24,773.326 1617.3,773.326 1621.37,773.326 1625.43,773.326 1629.49,773.326 1633.56,773.326 1637.62,773.326 \n",
       "  1641.68,773.326 1645.75,773.326 1649.81,773.326 1653.87,773.326 1657.94,773.326 1662,773.326 1666.06,773.326 1670.13,773.326 1674.19,773.326 1678.25,773.326 \n",
       "  1682.31,773.326 1686.38,773.326 1690.44,773.326 1694.5,773.326 1698.57,773.326 1702.63,773.326 1706.69,773.326 1710.76,773.326 1714.82,773.326 1718.88,773.326 \n",
       "  1722.95,773.326 1727.01,773.326 1731.07,773.326 1735.14,773.326 1739.2,773.326 1743.26,773.326 1747.33,773.326 1751.39,773.326 1755.45,773.326 1759.52,773.326 \n",
       "  1763.58,773.326 1767.64,773.326 1771.71,773.326 1775.77,773.326 1779.83,773.326 1783.9,773.326 1787.96,773.326 1792.02,773.326 1796.09,773.326 1800.15,773.326 \n",
       "  1804.21,773.326 1808.28,773.326 1812.34,773.326 1816.4,773.326 1820.47,773.326 1824.53,773.326 1828.59,773.326 1832.66,773.326 1836.72,773.326 1840.78,773.326 \n",
       "  1844.85,773.326 1848.91,773.326 1852.97,773.326 1857.04,773.326 1861.1,773.326 1865.16,773.326 1869.23,773.326 1873.29,773.326 1877.35,773.326 1881.42,773.326 \n",
       "  1885.48,773.326 1889.54,773.326 1893.61,773.326 1897.67,773.326 1901.73,773.326 1905.8,773.326 1909.86,773.326 1913.92,773.326 1917.99,773.326 1922.05,773.326 \n",
       "  1926.11,773.326 1930.17,773.326 1934.24,773.326 1938.3,773.326 1942.36,773.326 1946.43,773.326 1950.49,773.326 1954.55,773.326 1958.62,773.326 1962.68,773.326 \n",
       "  1966.74,773.326 1970.81,773.326 1974.87,773.326 1978.93,773.326 1983,773.326 1987.06,773.326 1991.12,773.326 1995.19,773.326 1999.25,773.326 2003.31,773.326 \n",
       "  2007.38,773.326 2011.44,773.326 2015.5,773.326 2019.57,773.326 2023.63,773.326 2027.69,773.326 2031.76,773.326 2035.82,773.326 2039.88,773.326 2043.95,773.326 \n",
       "  2048.01,773.326 2052.07,773.326 2056.14,773.326 2060.2,773.326 2064.26,773.326 2068.33,773.326 2072.39,773.326 2076.45,773.326 2080.52,773.326 2084.58,773.326 \n",
       "  2088.64,773.326 2092.71,773.326 2096.77,773.326 2100.83,773.326 2104.9,773.326 2108.96,773.326 2113.02,773.326 2117.09,773.326 2121.15,773.326 2125.21,773.326 \n",
       "  2129.28,773.326 2133.34,773.326 2137.4,773.326 2141.47,773.326 2145.53,773.326 2149.59,773.326 2153.66,773.326 2157.72,773.326 2161.78,773.326 2165.85,773.326 \n",
       "  2169.91,773.326 2173.97,773.326 2178.03,773.326 2182.1,773.326 2186.16,773.326 2190.22,773.326 2194.29,773.326 2198.35,773.326 2202.41,773.326 2206.48,773.326 \n",
       "  2210.54,773.326 2214.6,773.326 2218.67,773.326 2222.73,773.326 2226.79,773.326 2230.86,773.326 2234.92,773.326 2238.98,773.326 2243.05,773.326 2247.11,773.326 \n",
       "  2251.17,773.326 2255.24,773.326 2259.3,773.326 2263.36,773.326 2267.43,773.326 2271.49,773.326 2275.55,773.326 2279.62,773.326 2283.68,773.326 2287.74,773.326 \n",
       "  2291.81,773.326 \n",
       "  \"/>\n",
       "<polyline clip-path=\"url(#clip322)\" style=\"stroke:#808080; stroke-width:12; stroke-opacity:1; fill:none\" points=\"\n",
       "  1275.99,2722.89 1275.99,-1176.24 \n",
       "  \"/>\n",
       "<polyline clip-path=\"url(#clip322)\" style=\"stroke:#ff0000; stroke-width:12; stroke-opacity:1; fill:none\" points=\"\n",
       "  260.167,1359.42 264.231,1356.97 268.294,1356.97 272.357,1354.52 276.421,1352.06 280.484,1349.61 284.547,1347.16 288.61,1344.71 292.674,1342.25 296.737,1339.8 \n",
       "  300.8,1337.35 304.863,1334.9 308.927,1332.45 312.99,1329.99 317.053,1327.54 321.117,1325.09 325.18,1322.64 329.243,1320.18 333.306,1317.73 337.37,1315.28 \n",
       "  341.433,1312.83 345.496,1310.38 349.56,1307.92 353.623,1305.47 357.686,1303.02 361.749,1300.57 365.813,1298.11 369.876,1295.66 373.939,1293.21 378.002,1293.21 \n",
       "  382.066,1290.76 386.129,1288.3 390.192,1285.85 394.256,1283.4 398.319,1280.95 402.382,1278.5 406.445,1276.04 410.509,1273.59 414.572,1271.14 418.635,1268.69 \n",
       "  422.699,1266.23 426.762,1263.78 430.825,1261.33 434.888,1258.88 438.952,1256.42 443.015,1253.97 447.078,1251.52 451.142,1249.07 455.205,1246.62 459.268,1244.16 \n",
       "  463.331,1241.71 467.395,1239.26 471.458,1236.81 475.521,1234.35 479.584,1234.35 483.648,1231.9 487.711,1229.45 491.774,1227 495.838,1224.55 499.901,1222.09 \n",
       "  503.964,1219.64 508.027,1217.19 512.091,1214.74 516.154,1212.28 520.217,1209.83 524.281,1207.38 528.344,1204.93 532.407,1202.47 536.47,1200.02 540.534,1197.57 \n",
       "  544.597,1195.12 548.66,1192.67 552.723,1190.21 556.787,1187.76 560.85,1185.31 564.913,1182.86 568.977,1180.4 573.04,1177.95 577.103,1175.5 581.166,1175.5 \n",
       "  585.23,1173.05 589.293,1170.6 593.356,1168.14 597.42,1165.69 601.483,1163.24 605.546,1160.79 609.609,1158.33 613.673,1155.88 617.736,1153.43 621.799,1150.98 \n",
       "  625.862,1148.52 629.926,1146.07 633.989,1143.62 638.052,1141.17 642.116,1138.72 646.179,1136.26 650.242,1133.81 654.305,1131.36 658.369,1128.91 662.432,1126.45 \n",
       "  666.495,1124 670.559,1121.55 674.622,1119.1 678.685,1116.65 682.748,1116.65 686.812,1114.19 690.875,1111.74 694.938,1109.29 699.002,1106.84 703.065,1104.38 \n",
       "  707.128,1101.93 711.191,1099.48 715.255,1097.03 719.318,1094.57 723.381,1092.12 727.444,1089.67 731.508,1087.22 735.571,1084.77 739.634,1082.31 743.698,1079.86 \n",
       "  747.761,1077.41 751.824,1074.96 755.887,1072.5 759.951,1070.05 764.014,1067.6 768.077,1065.15 772.141,1062.69 776.204,1062.69 780.267,1060.24 784.33,1057.79 \n",
       "  788.394,1055.34 792.457,1052.89 796.52,1050.43 800.583,1047.98 804.647,1045.53 808.71,1043.08 812.773,1040.62 816.837,1038.17 820.9,1035.72 824.963,1033.27 \n",
       "  829.026,1030.82 833.09,1028.36 837.153,1025.91 841.216,1023.46 845.28,1021.01 849.343,1018.55 853.406,1016.1 857.469,1013.65 861.533,1011.2 865.596,1008.74 \n",
       "  869.659,1008.74 873.722,1006.29 877.786,1003.84 881.849,1001.39 885.912,998.936 889.976,996.483 894.039,994.031 898.102,991.579 902.165,989.127 906.229,986.674 \n",
       "  910.292,984.222 914.355,981.77 918.419,979.317 922.482,976.865 926.545,974.413 930.608,971.961 934.672,969.508 938.735,967.056 942.798,964.604 946.861,962.151 \n",
       "  950.925,959.699 954.988,957.247 959.051,954.795 963.115,954.795 967.178,952.342 971.241,949.89 975.304,947.438 979.368,944.985 983.431,942.533 987.494,940.081 \n",
       "  991.558,937.629 995.621,935.176 999.684,932.724 1003.75,930.272 1007.81,927.82 1011.87,925.367 1015.94,922.915 1020,920.463 1024.06,918.01 1028.13,915.558 \n",
       "  1032.19,913.106 1036.25,910.654 1040.32,908.201 1044.38,905.749 1048.44,903.297 1052.51,900.844 1056.57,900.844 1060.63,898.392 1064.7,895.94 1068.76,893.488 \n",
       "  1072.82,891.035 1076.89,888.583 1080.95,886.131 1085.01,883.679 1089.08,881.226 1093.14,878.774 1097.2,876.322 1101.27,873.869 1105.33,871.417 1109.39,868.965 \n",
       "  1113.46,866.513 1117.52,864.06 1121.58,861.608 1125.65,859.156 1129.71,856.703 1133.77,854.251 1137.84,851.799 1141.9,849.347 1145.96,846.894 1150.03,846.894 \n",
       "  1154.09,844.442 1158.15,841.99 1162.22,839.538 1166.28,837.085 1170.34,834.633 1174.41,832.181 1178.47,829.728 1182.53,827.276 1186.59,824.824 1190.66,822.372 \n",
       "  1194.72,819.919 1198.78,817.467 1202.85,815.015 1206.91,812.562 1210.97,810.11 1215.04,807.658 1219.1,805.206 1223.16,802.753 1227.23,800.301 1231.29,797.849 \n",
       "  1235.35,795.396 1239.42,792.944 1243.48,790.492 1247.54,788.04 1251.61,785.587 1255.67,783.135 1259.73,780.683 1263.8,780.683 1267.86,778.231 1271.92,775.778 \n",
       "  1275.99,773.326 1280.05,770.874 1284.11,768.421 1288.18,765.969 1292.24,765.969 1296.3,763.517 1300.37,761.065 1304.43,758.612 1308.49,756.16 1312.56,753.708 \n",
       "  1316.62,751.255 1320.68,748.803 1324.75,746.351 1328.81,743.899 1332.87,741.446 1336.94,738.994 1341,736.542 1345.06,734.09 1349.13,731.637 1353.19,729.185 \n",
       "  1357.25,726.733 1361.32,724.28 1365.38,721.828 1369.44,719.376 1373.51,716.924 1377.57,714.471 1381.63,712.019 1385.7,709.567 1389.76,707.114 1393.82,704.662 \n",
       "  1397.89,702.21 1401.95,699.758 1406.01,699.758 1410.08,697.305 1414.14,694.853 1418.2,692.401 1422.27,689.949 1426.33,687.496 1430.39,685.044 1434.45,682.592 \n",
       "  1438.52,680.139 1442.58,677.687 1446.64,675.235 1450.71,672.783 1454.77,670.33 1458.83,667.878 1462.9,665.426 1466.96,662.973 1471.02,660.521 1475.09,658.069 \n",
       "  1479.15,655.617 1483.21,653.164 1487.28,650.712 1491.34,648.26 1495.4,648.26 1499.47,645.807 1503.53,643.355 1507.59,640.903 1511.66,638.451 1515.72,635.998 \n",
       "  1519.78,633.546 1523.85,631.094 1527.91,628.642 1531.97,626.189 1536.04,623.737 1540.1,621.285 1544.16,618.832 1548.23,616.38 1552.29,613.928 1556.35,611.476 \n",
       "  1560.42,609.023 1564.48,606.571 1568.54,604.119 1572.61,601.666 1576.67,599.214 1580.73,596.762 1584.8,596.762 1588.86,594.31 1592.92,591.857 1596.99,589.405 \n",
       "  1601.05,586.953 1605.11,584.501 1609.18,582.048 1613.24,579.596 1617.3,577.144 1621.37,574.691 1625.43,572.239 1629.49,569.787 1633.56,567.335 1637.62,564.882 \n",
       "  1641.68,562.43 1645.75,559.978 1649.81,557.525 1653.87,555.073 1657.94,552.621 1662,550.169 1666.06,547.716 1670.13,545.264 1674.19,545.264 1678.25,542.812 \n",
       "  1682.31,540.36 1686.38,537.907 1690.44,535.455 1694.5,533.003 1698.57,530.55 1702.63,528.098 1706.69,525.646 1710.76,523.194 1714.82,520.741 1718.88,518.289 \n",
       "  1722.95,515.837 1727.01,513.384 1731.07,510.932 1735.14,508.48 1739.2,506.028 1743.26,503.575 1747.33,501.123 1751.39,498.671 1755.45,496.218 1759.52,496.218 \n",
       "  1763.58,493.766 1767.64,491.314 1771.71,488.862 1775.77,486.409 1779.83,483.957 1783.9,481.505 1787.96,479.053 1792.02,476.6 1796.09,474.148 1800.15,471.696 \n",
       "  1804.21,469.243 1808.28,466.791 1812.34,464.339 1816.4,461.887 1820.47,459.434 1824.53,456.982 1828.59,454.53 1832.66,452.077 1836.72,449.625 1840.78,449.625 \n",
       "  1844.85,447.173 1848.91,444.721 1852.97,442.268 1857.04,439.816 1861.1,437.364 1865.16,434.912 1869.23,432.459 1873.29,430.007 1877.35,427.555 1881.42,425.102 \n",
       "  1885.48,422.65 1889.54,420.198 1893.61,417.746 1897.67,415.293 1901.73,412.841 1905.8,410.389 1909.86,407.936 1913.92,405.484 1917.99,403.032 1922.05,400.58 \n",
       "  1926.11,400.58 1930.17,398.127 1934.24,395.675 1938.3,393.223 1942.36,390.771 1946.43,388.318 1950.49,385.866 1954.55,383.414 1958.62,380.961 1962.68,378.509 \n",
       "  1966.74,376.057 1970.81,373.605 1974.87,371.152 1978.93,368.7 1983,366.248 1987.06,363.795 1991.12,361.343 1995.19,358.891 1999.25,356.439 2003.31,353.986 \n",
       "  2007.38,351.534 2011.44,349.082 2015.5,349.082 2019.57,346.629 2023.63,344.177 2027.69,341.725 2031.76,339.273 2035.82,336.82 2039.88,334.368 2043.95,331.916 \n",
       "  2048.01,329.464 2052.07,327.011 2056.14,324.559 2060.2,322.107 2064.26,319.654 2068.33,317.202 2072.39,314.75 2076.45,312.298 2080.52,309.845 2084.58,307.393 \n",
       "  2088.64,304.941 2092.71,302.488 2096.77,300.036 2100.83,300.036 2104.9,297.584 2108.96,295.132 2113.02,292.679 2117.09,290.227 2121.15,287.775 2125.21,285.323 \n",
       "  2129.28,282.87 2133.34,280.418 2137.4,277.966 2141.47,275.513 2145.53,273.061 2149.59,270.609 2153.66,268.157 2157.72,265.704 2161.78,263.252 2165.85,260.8 \n",
       "  2169.91,258.347 2173.97,255.895 2178.03,253.443 2182.1,250.991 2186.16,250.991 2190.22,248.538 2194.29,246.086 2198.35,243.634 2202.41,241.182 2206.48,238.729 \n",
       "  2210.54,236.277 2214.6,233.825 2218.67,231.372 2222.73,228.92 2226.79,226.468 2230.86,224.016 2234.92,221.563 2238.98,219.111 2243.05,216.659 2247.11,214.206 \n",
       "  2251.17,211.754 2255.24,209.302 2259.3,206.85 2263.36,204.397 2267.43,204.397 2271.49,201.945 2275.55,199.493 2279.62,197.04 2283.68,194.588 2287.74,192.136 \n",
       "  2291.81,189.684 \n",
       "  \"/>\n",
       "<path clip-path=\"url(#clip320)\" d=\"\n",
       "M1828.38 469.196 L2280.97 469.196 L2280.97 166.796 L1828.38 166.796  Z\n",
       "  \" fill=\"#ffffff\" fill-rule=\"evenodd\" fill-opacity=\"1\"/>\n",
       "<polyline clip-path=\"url(#clip320)\" style=\"stroke:#000000; stroke-width:4; stroke-opacity:1; fill:none\" points=\"\n",
       "  1828.38,469.196 2280.97,469.196 2280.97,166.796 1828.38,166.796 1828.38,469.196 \n",
       "  \"/>\n",
       "<polyline clip-path=\"url(#clip320)\" style=\"stroke:#000000; stroke-width:4; stroke-opacity:1; fill:none\" points=\"\n",
       "  1852.31,227.276 1995.88,227.276 \n",
       "  \"/>\n",
       "<path clip-path=\"url(#clip320)\" d=\"M 0 0 M2024.48 213.838 L2024.48 240.713 L2030.13 240.713 Q2037.28 240.713 2040.59 237.472 Q2043.93 234.232 2043.93 227.241 Q2043.93 220.297 2040.59 217.079 Q2037.28 213.838 2030.13 213.838 L2024.48 213.838 M2019.81 209.996 L2029.41 209.996 Q2039.46 209.996 2044.16 214.186 Q2048.86 218.352 2048.86 227.241 Q2048.86 236.176 2044.13 240.366 Q2039.41 244.556 2029.41 244.556 L2019.81 244.556 L2019.81 209.996 Z\" fill=\"#000000\" fill-rule=\"evenodd\" fill-opacity=\"1\" /><path clip-path=\"url(#clip320)\" d=\"M 0 0 M2053.32 218.63 L2057.58 218.63 L2057.58 244.556 L2053.32 244.556 L2053.32 218.63 M2053.32 208.537 L2057.58 208.537 L2057.58 213.931 L2053.32 213.931 L2053.32 208.537 Z\" fill=\"#000000\" fill-rule=\"evenodd\" fill-opacity=\"1\" /><path clip-path=\"url(#clip320)\" d=\"M 0 0 M2073.83 231.523 Q2068.67 231.523 2066.68 232.704 Q2064.69 233.884 2064.69 236.732 Q2064.69 239 2066.17 240.343 Q2067.68 241.662 2070.25 241.662 Q2073.79 241.662 2075.92 239.162 Q2078.07 236.639 2078.07 232.472 L2078.07 231.523 L2073.83 231.523 M2082.33 229.764 L2082.33 244.556 L2078.07 244.556 L2078.07 240.621 Q2076.61 242.982 2074.44 244.116 Q2072.26 245.227 2069.11 245.227 Q2065.13 245.227 2062.77 243.005 Q2060.43 240.759 2060.43 237.009 Q2060.43 232.634 2063.35 230.412 Q2066.29 228.19 2072.1 228.19 L2078.07 228.19 L2078.07 227.773 Q2078.07 224.834 2076.13 223.236 Q2074.2 221.616 2070.71 221.616 Q2068.49 221.616 2066.38 222.148 Q2064.27 222.681 2062.33 223.746 L2062.33 219.81 Q2064.67 218.908 2066.87 218.468 Q2069.06 218.005 2071.15 218.005 Q2076.77 218.005 2079.55 220.922 Q2082.33 223.838 2082.33 229.764 Z\" fill=\"#000000\" fill-rule=\"evenodd\" fill-opacity=\"1\" /><path clip-path=\"url(#clip320)\" d=\"M 0 0 M2103.86 231.292 Q2103.86 226.662 2101.94 224.116 Q2100.04 221.57 2096.59 221.57 Q2093.16 221.57 2091.24 224.116 Q2089.34 226.662 2089.34 231.292 Q2089.34 235.898 2091.24 238.445 Q2093.16 240.991 2096.59 240.991 Q2100.04 240.991 2101.94 238.445 Q2103.86 235.898 2103.86 231.292 M2108.12 241.338 Q2108.12 247.958 2105.18 251.176 Q2102.24 254.417 2096.17 254.417 Q2093.93 254.417 2091.94 254.07 Q2089.94 253.745 2088.07 253.051 L2088.07 248.908 Q2089.94 249.926 2091.77 250.412 Q2093.6 250.898 2095.5 250.898 Q2099.69 250.898 2101.77 248.699 Q2103.86 246.523 2103.86 242.102 L2103.86 239.996 Q2102.54 242.287 2100.48 243.421 Q2098.42 244.556 2095.55 244.556 Q2090.78 244.556 2087.86 240.921 Q2084.94 237.287 2084.94 231.292 Q2084.94 225.273 2087.86 221.639 Q2090.78 218.005 2095.55 218.005 Q2098.42 218.005 2100.48 219.139 Q2102.54 220.273 2103.86 222.565 L2103.86 218.63 L2108.12 218.63 L2108.12 241.338 Z\" fill=\"#000000\" fill-rule=\"evenodd\" fill-opacity=\"1\" /><path clip-path=\"url(#clip320)\" d=\"M 0 0 M2122.63 221.616 Q2119.2 221.616 2117.21 224.301 Q2115.22 226.963 2115.22 231.616 Q2115.22 236.269 2117.19 238.954 Q2119.18 241.616 2122.63 241.616 Q2126.03 241.616 2128.02 238.931 Q2130.01 236.246 2130.01 231.616 Q2130.01 227.01 2128.02 224.324 Q2126.03 221.616 2122.63 221.616 M2122.63 218.005 Q2128.18 218.005 2131.36 221.616 Q2134.53 225.227 2134.53 231.616 Q2134.53 237.982 2131.36 241.616 Q2128.18 245.227 2122.63 245.227 Q2117.05 245.227 2113.88 241.616 Q2110.73 237.982 2110.73 231.616 Q2110.73 225.227 2113.88 221.616 Q2117.05 218.005 2122.63 218.005 Z\" fill=\"#000000\" fill-rule=\"evenodd\" fill-opacity=\"1\" /><path clip-path=\"url(#clip320)\" d=\"M 0 0 M2160.55 228.908 L2160.55 244.556 L2156.29 244.556 L2156.29 229.047 Q2156.29 225.366 2154.85 223.537 Q2153.42 221.709 2150.55 221.709 Q2147.1 221.709 2145.11 223.908 Q2143.12 226.107 2143.12 229.903 L2143.12 244.556 L2138.83 244.556 L2138.83 218.63 L2143.12 218.63 L2143.12 222.658 Q2144.64 220.32 2146.7 219.162 Q2148.79 218.005 2151.49 218.005 Q2155.96 218.005 2158.25 220.783 Q2160.55 223.537 2160.55 228.908 Z\" fill=\"#000000\" fill-rule=\"evenodd\" fill-opacity=\"1\" /><path clip-path=\"url(#clip320)\" d=\"M 0 0 M2176.8 231.523 Q2171.63 231.523 2169.64 232.704 Q2167.65 233.884 2167.65 236.732 Q2167.65 239 2169.13 240.343 Q2170.64 241.662 2173.21 241.662 Q2176.75 241.662 2178.88 239.162 Q2181.03 236.639 2181.03 232.472 L2181.03 231.523 L2176.8 231.523 M2185.29 229.764 L2185.29 244.556 L2181.03 244.556 L2181.03 240.621 Q2179.57 242.982 2177.4 244.116 Q2175.22 245.227 2172.07 245.227 Q2168.09 245.227 2165.73 243.005 Q2163.39 240.759 2163.39 237.009 Q2163.39 232.634 2166.31 230.412 Q2169.25 228.19 2175.06 228.19 L2181.03 228.19 L2181.03 227.773 Q2181.03 224.834 2179.09 223.236 Q2177.17 221.616 2173.67 221.616 Q2171.45 221.616 2169.34 222.148 Q2167.24 222.681 2165.29 223.746 L2165.29 219.81 Q2167.63 218.908 2169.83 218.468 Q2172.03 218.005 2174.11 218.005 Q2179.74 218.005 2182.51 220.922 Q2185.29 223.838 2185.29 229.764 Z\" fill=\"#000000\" fill-rule=\"evenodd\" fill-opacity=\"1\" /><path clip-path=\"url(#clip320)\" d=\"M 0 0 M2189.76 208.537 L2194.02 208.537 L2194.02 244.556 L2189.76 244.556 L2189.76 208.537 Z\" fill=\"#000000\" fill-rule=\"evenodd\" fill-opacity=\"1\" /><polyline clip-path=\"url(#clip320)\" style=\"stroke:#808080; stroke-width:4; stroke-opacity:1; fill:none\" points=\"\n",
       "  1852.31,287.756 1995.88,287.756 \n",
       "  \"/>\n",
       "<path clip-path=\"url(#clip320)\" d=\"M 0 0 M2019.81 269.017 L2024.09 269.017 L2024.09 290.29 L2036.8 279.11 L2042.24 279.11 L2028.49 291.239 L2042.82 305.036 L2037.26 305.036 L2024.09 292.374 L2024.09 305.036 L2019.81 305.036 L2019.81 269.017 Z\" fill=\"#000000\" fill-rule=\"evenodd\" fill-opacity=\"1\" /><path clip-path=\"url(#clip320)\" d=\"M 0 0 M2024.13 269.712 L2037.98 269.712 L2037.98 273.138 L2024.13 273.138 L2024.13 269.712 Z\" fill=\"#000000\" fill-rule=\"evenodd\" fill-opacity=\"1\" /><polyline clip-path=\"url(#clip320)\" style=\"stroke:#808080; stroke-width:4; stroke-opacity:1; fill:none\" points=\"\n",
       "  1852.31,348.236 1995.88,348.236 \n",
       "  \"/>\n",
       "<path clip-path=\"url(#clip320)\" d=\"M 0 0 M2019.81 329.497 L2024.09 329.497 L2024.09 350.77 L2036.8 339.59 L2042.24 339.59 L2028.49 351.719 L2042.82 365.516 L2037.26 365.516 L2024.09 352.854 L2024.09 365.516 L2019.81 365.516 L2019.81 329.497 Z\" fill=\"#000000\" fill-rule=\"evenodd\" fill-opacity=\"1\" /><path clip-path=\"url(#clip320)\" d=\"M 0 0 M2024.13 330.192 L2037.98 330.192 L2037.98 333.618 L2024.13 333.618 L2024.13 330.192 Z\" fill=\"#000000\" fill-rule=\"evenodd\" fill-opacity=\"1\" /><polyline clip-path=\"url(#clip320)\" style=\"stroke:#ff0000; stroke-width:4; stroke-opacity:1; fill:none\" points=\"\n",
       "  1852.31,408.716 1995.88,408.716 \n",
       "  \"/>\n",
       "<path clip-path=\"url(#clip320)\" d=\"M 0 0 M2035.82 394.607 Q2030.73 394.607 2027.72 398.403 Q2024.74 402.2 2024.74 408.75 Q2024.74 415.278 2027.72 419.074 Q2030.73 422.871 2035.82 422.871 Q2040.92 422.871 2043.88 419.074 Q2046.87 415.278 2046.87 408.75 Q2046.87 402.2 2043.88 398.403 Q2040.92 394.607 2035.82 394.607 M2035.82 390.811 Q2043.09 390.811 2047.44 395.695 Q2051.8 400.556 2051.8 408.75 Q2051.8 416.922 2047.44 421.806 Q2043.09 426.667 2035.82 426.667 Q2028.53 426.667 2024.16 421.806 Q2019.81 416.945 2019.81 408.75 Q2019.81 400.556 2024.16 395.695 Q2028.53 390.811 2035.82 390.811 Z\" fill=\"#000000\" fill-rule=\"evenodd\" fill-opacity=\"1\" /><path clip-path=\"url(#clip320)\" d=\"M 0 0 M2060.38 422.107 L2060.38 435.857 L2056.1 435.857 L2056.1 400.07 L2060.38 400.07 L2060.38 404.005 Q2061.73 401.69 2063.76 400.579 Q2065.82 399.445 2068.67 399.445 Q2073.39 399.445 2076.33 403.195 Q2079.3 406.945 2079.3 413.056 Q2079.3 419.167 2076.33 422.917 Q2073.39 426.667 2068.67 426.667 Q2065.82 426.667 2063.76 425.556 Q2061.73 424.422 2060.38 422.107 M2074.88 413.056 Q2074.88 408.357 2072.93 405.695 Q2071.01 403.01 2067.63 403.01 Q2064.25 403.01 2062.31 405.695 Q2060.38 408.357 2060.38 413.056 Q2060.38 417.755 2062.31 420.44 Q2064.25 423.102 2067.63 423.102 Q2071.01 423.102 2072.93 420.44 Q2074.88 417.755 2074.88 413.056 Z\" fill=\"#000000\" fill-rule=\"evenodd\" fill-opacity=\"1\" /><path clip-path=\"url(#clip320)\" d=\"M 0 0 M2087.98 392.709 L2087.98 400.07 L2096.75 400.07 L2096.75 403.38 L2087.98 403.38 L2087.98 417.454 Q2087.98 420.625 2088.83 421.528 Q2089.71 422.431 2092.37 422.431 L2096.75 422.431 L2096.75 425.996 L2092.37 425.996 Q2087.44 425.996 2085.57 424.167 Q2083.69 422.315 2083.69 417.454 L2083.69 403.38 L2080.57 403.38 L2080.57 400.07 L2083.69 400.07 L2083.69 392.709 L2087.98 392.709 Z\" fill=\"#000000\" fill-rule=\"evenodd\" fill-opacity=\"1\" /><path clip-path=\"url(#clip320)\" d=\"M 0 0 M2101.22 400.07 L2105.48 400.07 L2105.48 425.996 L2101.22 425.996 L2101.22 400.07 M2101.22 389.977 L2105.48 389.977 L2105.48 395.371 L2101.22 395.371 L2101.22 389.977 Z\" fill=\"#000000\" fill-rule=\"evenodd\" fill-opacity=\"1\" /><path clip-path=\"url(#clip320)\" d=\"M 0 0 M2130.13 405.047 Q2131.73 402.176 2133.95 400.811 Q2136.17 399.445 2139.18 399.445 Q2143.23 399.445 2145.43 402.292 Q2147.63 405.116 2147.63 410.348 L2147.63 425.996 L2143.35 425.996 L2143.35 410.487 Q2143.35 406.76 2142.03 404.954 Q2140.71 403.149 2138 403.149 Q2134.69 403.149 2132.77 405.348 Q2130.85 407.547 2130.85 411.343 L2130.85 425.996 L2126.56 425.996 L2126.56 410.487 Q2126.56 406.737 2125.25 404.954 Q2123.93 403.149 2121.17 403.149 Q2117.91 403.149 2115.99 405.371 Q2114.06 407.57 2114.06 411.343 L2114.06 425.996 L2109.78 425.996 L2109.78 400.07 L2114.06 400.07 L2114.06 404.098 Q2115.52 401.713 2117.56 400.579 Q2119.6 399.445 2122.4 399.445 Q2125.22 399.445 2127.19 400.88 Q2129.18 402.315 2130.13 405.047 Z\" fill=\"#000000\" fill-rule=\"evenodd\" fill-opacity=\"1\" /><path clip-path=\"url(#clip320)\" d=\"M 0 0 M2163.88 412.963 Q2158.72 412.963 2156.73 414.144 Q2154.74 415.324 2154.74 418.172 Q2154.74 420.44 2156.22 421.783 Q2157.72 423.102 2160.29 423.102 Q2163.83 423.102 2165.96 420.602 Q2168.12 418.079 2168.12 413.912 L2168.12 412.963 L2163.88 412.963 M2172.37 411.204 L2172.37 425.996 L2168.12 425.996 L2168.12 422.061 Q2166.66 424.422 2164.48 425.556 Q2162.31 426.667 2159.16 426.667 Q2155.18 426.667 2152.81 424.445 Q2150.48 422.199 2150.48 418.449 Q2150.48 414.074 2153.39 411.852 Q2156.33 409.63 2162.14 409.63 L2168.12 409.63 L2168.12 409.213 Q2168.12 406.274 2166.17 404.676 Q2164.25 403.056 2160.75 403.056 Q2158.53 403.056 2156.43 403.588 Q2154.32 404.121 2152.37 405.186 L2152.37 401.25 Q2154.71 400.348 2156.91 399.908 Q2159.11 399.445 2161.19 399.445 Q2166.82 399.445 2169.6 402.362 Q2172.37 405.278 2172.37 411.204 Z\" fill=\"#000000\" fill-rule=\"evenodd\" fill-opacity=\"1\" /><path clip-path=\"url(#clip320)\" d=\"M 0 0 M2176.84 389.977 L2181.1 389.977 L2181.1 425.996 L2176.84 425.996 L2176.84 389.977 Z\" fill=\"#000000\" fill-rule=\"evenodd\" fill-opacity=\"1\" /><path clip-path=\"url(#clip320)\" d=\"M 0 0 M2200.48 389.977 L2204.76 389.977 L2204.76 411.25 L2217.47 400.07 L2222.91 400.07 L2209.16 412.199 L2223.49 425.996 L2217.93 425.996 L2204.76 413.334 L2204.76 425.996 L2200.48 425.996 L2200.48 389.977 Z\" fill=\"#000000\" fill-rule=\"evenodd\" fill-opacity=\"1\" /><path clip-path=\"url(#clip320)\" d=\"M 0 0 M2224.41 400.07 L2228.42 391.436 L2233.11 391.436 L2226.43 400.07 L2224.41 400.07 Z\" fill=\"#000000\" fill-rule=\"evenodd\" fill-opacity=\"1\" /></svg>\n"
      ]
     },
     "execution_count": 74,
     "metadata": {},
     "output_type": "execute_result"
    }
   ],
   "source": [
    "plot(kgrid, kgrid, label = \"Diagonal\", color = \"black\")\n",
    "plot!(kgrid, fill(k̄, length(kgrid)), label = \"k̄\", color = \"gray\", lw = 3)\n",
    "vline!([k̄], label = \"k̄\", color = \"gray\",lw = 3)\n",
    "plot!(kgrid, k_pol, label = \"Optimal k′\", color = \"red\", lw = 3)\n",
    "plot!(title = \"Policy Function for k'\")\n",
    "xlabel!(\"k\")\n",
    "ylabel!(\"k′\")"
   ]
  },
  {
   "cell_type": "markdown",
   "metadata": {},
   "source": [
    "We may also plot the policy function for $c$:"
   ]
  },
  {
   "cell_type": "code",
   "execution_count": 75,
   "metadata": {
    "ExecuteTime": {
     "end_time": "2021-05-02T14:42:19.583000-07:00",
     "start_time": "2021-05-02T21:42:19.529Z"
    }
   },
   "outputs": [
    {
     "data": {
      "image/svg+xml": [
       "<?xml version=\"1.0\" encoding=\"utf-8\"?>\n",
       "<svg xmlns=\"http://www.w3.org/2000/svg\" xmlns:xlink=\"http://www.w3.org/1999/xlink\" width=\"600\" height=\"400\" viewBox=\"0 0 2400 1600\">\n",
       "<defs>\n",
       "  <clipPath id=\"clip360\">\n",
       "    <rect x=\"0\" y=\"0\" width=\"2400\" height=\"1600\"/>\n",
       "  </clipPath>\n",
       "</defs>\n",
       "<path clip-path=\"url(#clip360)\" d=\"\n",
       "M0 1600 L2400 1600 L2400 0 L0 0  Z\n",
       "  \" fill=\"#ffffff\" fill-rule=\"evenodd\" fill-opacity=\"1\"/>\n",
       "<defs>\n",
       "  <clipPath id=\"clip361\">\n",
       "    <rect x=\"480\" y=\"0\" width=\"1681\" height=\"1600\"/>\n",
       "  </clipPath>\n",
       "</defs>\n",
       "<path clip-path=\"url(#clip360)\" d=\"\n",
       "M209.658 1423.18 L2352.76 1423.18 L2352.76 123.472 L209.658 123.472  Z\n",
       "  \" fill=\"#ffffff\" fill-rule=\"evenodd\" fill-opacity=\"1\"/>\n",
       "<defs>\n",
       "  <clipPath id=\"clip362\">\n",
       "    <rect x=\"209\" y=\"123\" width=\"2144\" height=\"1301\"/>\n",
       "  </clipPath>\n",
       "</defs>\n",
       "<polyline clip-path=\"url(#clip362)\" style=\"stroke:#000000; stroke-width:2; stroke-opacity:0.1; fill:none\" points=\"\n",
       "  519.975,1423.18 519.975,123.472 \n",
       "  \"/>\n",
       "<polyline clip-path=\"url(#clip362)\" style=\"stroke:#000000; stroke-width:2; stroke-opacity:0.1; fill:none\" points=\"\n",
       "  1025.42,1423.18 1025.42,123.472 \n",
       "  \"/>\n",
       "<polyline clip-path=\"url(#clip362)\" style=\"stroke:#000000; stroke-width:2; stroke-opacity:0.1; fill:none\" points=\"\n",
       "  1530.87,1423.18 1530.87,123.472 \n",
       "  \"/>\n",
       "<polyline clip-path=\"url(#clip362)\" style=\"stroke:#000000; stroke-width:2; stroke-opacity:0.1; fill:none\" points=\"\n",
       "  2036.32,1423.18 2036.32,123.472 \n",
       "  \"/>\n",
       "<polyline clip-path=\"url(#clip360)\" style=\"stroke:#000000; stroke-width:4; stroke-opacity:1; fill:none\" points=\"\n",
       "  209.658,1423.18 2352.76,1423.18 \n",
       "  \"/>\n",
       "<polyline clip-path=\"url(#clip360)\" style=\"stroke:#000000; stroke-width:4; stroke-opacity:1; fill:none\" points=\"\n",
       "  519.975,1423.18 519.975,1407.58 \n",
       "  \"/>\n",
       "<polyline clip-path=\"url(#clip360)\" style=\"stroke:#000000; stroke-width:4; stroke-opacity:1; fill:none\" points=\"\n",
       "  1025.42,1423.18 1025.42,1407.58 \n",
       "  \"/>\n",
       "<polyline clip-path=\"url(#clip360)\" style=\"stroke:#000000; stroke-width:4; stroke-opacity:1; fill:none\" points=\"\n",
       "  1530.87,1423.18 1530.87,1407.58 \n",
       "  \"/>\n",
       "<polyline clip-path=\"url(#clip360)\" style=\"stroke:#000000; stroke-width:4; stroke-opacity:1; fill:none\" points=\"\n",
       "  2036.32,1423.18 2036.32,1407.58 \n",
       "  \"/>\n",
       "<path clip-path=\"url(#clip360)\" d=\"M 0 0 M496.85 1479.92 L504.489 1479.92 L504.489 1453.55 L496.179 1455.22 L496.179 1450.96 L504.443 1449.29 L509.118 1449.29 L509.118 1479.92 L516.757 1479.92 L516.757 1483.85 L496.85 1483.85 L496.85 1479.92 Z\" fill=\"#000000\" fill-rule=\"evenodd\" fill-opacity=\"1\" /><path clip-path=\"url(#clip360)\" d=\"M 0 0 M531.827 1452.37 Q528.216 1452.37 526.387 1455.94 Q524.581 1459.48 524.581 1466.61 Q524.581 1473.71 526.387 1477.28 Q528.216 1480.82 531.827 1480.82 Q535.461 1480.82 537.266 1477.28 Q539.095 1473.71 539.095 1466.61 Q539.095 1459.48 537.266 1455.94 Q535.461 1452.37 531.827 1452.37 M531.827 1448.67 Q537.637 1448.67 540.692 1453.27 Q543.771 1457.86 543.771 1466.61 Q543.771 1475.33 540.692 1479.94 Q537.637 1484.52 531.827 1484.52 Q526.016 1484.52 522.938 1479.94 Q519.882 1475.33 519.882 1466.61 Q519.882 1457.86 522.938 1453.27 Q526.016 1448.67 531.827 1448.67 Z\" fill=\"#000000\" fill-rule=\"evenodd\" fill-opacity=\"1\" /><path clip-path=\"url(#clip360)\" d=\"M 0 0 M1002.8 1479.92 L1010.43 1479.92 L1010.43 1453.55 L1002.12 1455.22 L1002.12 1450.96 L1010.39 1449.29 L1015.06 1449.29 L1015.06 1479.92 L1022.7 1479.92 L1022.7 1483.85 L1002.8 1483.85 L1002.8 1479.92 Z\" fill=\"#000000\" fill-rule=\"evenodd\" fill-opacity=\"1\" /><path clip-path=\"url(#clip360)\" d=\"M 0 0 M1027.82 1449.29 L1046.17 1449.29 L1046.17 1453.23 L1032.1 1453.23 L1032.1 1461.7 Q1033.12 1461.35 1034.14 1461.19 Q1035.16 1461 1036.17 1461 Q1041.96 1461 1045.34 1464.18 Q1048.72 1467.35 1048.72 1472.76 Q1048.72 1478.34 1045.25 1481.44 Q1041.78 1484.52 1035.46 1484.52 Q1033.28 1484.52 1031.01 1484.15 Q1028.77 1483.78 1026.36 1483.04 L1026.36 1478.34 Q1028.44 1479.48 1030.67 1480.03 Q1032.89 1480.59 1035.36 1480.59 Q1039.37 1480.59 1041.71 1478.48 Q1044.05 1476.38 1044.05 1472.76 Q1044.05 1469.15 1041.71 1467.05 Q1039.37 1464.94 1035.36 1464.94 Q1033.49 1464.94 1031.61 1465.36 Q1029.76 1465.77 1027.82 1466.65 L1027.82 1449.29 Z\" fill=\"#000000\" fill-rule=\"evenodd\" fill-opacity=\"1\" /><path clip-path=\"url(#clip360)\" d=\"M 0 0 M1512.02 1479.92 L1528.34 1479.92 L1528.34 1483.85 L1506.39 1483.85 L1506.39 1479.92 Q1509.05 1477.16 1513.64 1472.53 Q1518.24 1467.88 1519.42 1466.54 Q1521.67 1464.01 1522.55 1462.28 Q1523.45 1460.52 1523.45 1458.83 Q1523.45 1456.07 1521.51 1454.34 Q1519.59 1452.6 1516.48 1452.6 Q1514.28 1452.6 1511.83 1453.37 Q1509.4 1454.13 1506.62 1455.68 L1506.62 1450.96 Q1509.45 1449.82 1511.9 1449.25 Q1514.35 1448.67 1516.39 1448.67 Q1521.76 1448.67 1524.96 1451.35 Q1528.15 1454.04 1528.15 1458.53 Q1528.15 1460.66 1527.34 1462.58 Q1526.55 1464.48 1524.45 1467.07 Q1523.87 1467.74 1520.77 1470.96 Q1517.66 1474.15 1512.02 1479.92 Z\" fill=\"#000000\" fill-rule=\"evenodd\" fill-opacity=\"1\" /><path clip-path=\"url(#clip360)\" d=\"M 0 0 M1543.4 1452.37 Q1539.79 1452.37 1537.96 1455.94 Q1536.16 1459.48 1536.16 1466.61 Q1536.16 1473.71 1537.96 1477.28 Q1539.79 1480.82 1543.4 1480.82 Q1547.04 1480.82 1548.84 1477.28 Q1550.67 1473.71 1550.67 1466.61 Q1550.67 1459.48 1548.84 1455.94 Q1547.04 1452.37 1543.4 1452.37 M1543.4 1448.67 Q1549.21 1448.67 1552.27 1453.27 Q1555.35 1457.86 1555.35 1466.61 Q1555.35 1475.33 1552.27 1479.94 Q1549.21 1484.52 1543.4 1484.52 Q1537.59 1484.52 1534.52 1479.94 Q1531.46 1475.33 1531.46 1466.61 Q1531.46 1457.86 1534.52 1453.27 Q1537.59 1448.67 1543.4 1448.67 Z\" fill=\"#000000\" fill-rule=\"evenodd\" fill-opacity=\"1\" /><path clip-path=\"url(#clip360)\" d=\"M 0 0 M2017.96 1479.92 L2034.28 1479.92 L2034.28 1483.85 L2012.34 1483.85 L2012.34 1479.92 Q2015 1477.16 2019.58 1472.53 Q2024.19 1467.88 2025.37 1466.54 Q2027.61 1464.01 2028.49 1462.28 Q2029.4 1460.52 2029.4 1458.83 Q2029.4 1456.07 2027.45 1454.34 Q2025.53 1452.6 2022.43 1452.6 Q2020.23 1452.6 2017.78 1453.37 Q2015.35 1454.13 2012.57 1455.68 L2012.57 1450.96 Q2015.39 1449.82 2017.85 1449.25 Q2020.3 1448.67 2022.34 1448.67 Q2027.71 1448.67 2030.9 1451.35 Q2034.1 1454.04 2034.1 1458.53 Q2034.1 1460.66 2033.29 1462.58 Q2032.5 1464.48 2030.39 1467.07 Q2029.81 1467.74 2026.71 1470.96 Q2023.61 1474.15 2017.96 1479.92 Z\" fill=\"#000000\" fill-rule=\"evenodd\" fill-opacity=\"1\" /><path clip-path=\"url(#clip360)\" d=\"M 0 0 M2039.4 1449.29 L2057.75 1449.29 L2057.75 1453.23 L2043.68 1453.23 L2043.68 1461.7 Q2044.7 1461.35 2045.72 1461.19 Q2046.73 1461 2047.75 1461 Q2053.54 1461 2056.92 1464.18 Q2060.3 1467.35 2060.3 1472.76 Q2060.3 1478.34 2056.83 1481.44 Q2053.35 1484.52 2047.04 1484.52 Q2044.86 1484.52 2042.59 1484.15 Q2040.35 1483.78 2037.94 1483.04 L2037.94 1478.34 Q2040.02 1479.48 2042.24 1480.03 Q2044.47 1480.59 2046.94 1480.59 Q2050.95 1480.59 2053.29 1478.48 Q2055.62 1476.38 2055.62 1472.76 Q2055.62 1469.15 2053.29 1467.05 Q2050.95 1464.94 2046.94 1464.94 Q2045.07 1464.94 2043.19 1465.36 Q2041.34 1465.77 2039.4 1466.65 L2039.4 1449.29 Z\" fill=\"#000000\" fill-rule=\"evenodd\" fill-opacity=\"1\" /><path clip-path=\"url(#clip360)\" d=\"M 0 0 M1265.39 1518.52 L1271.28 1518.52 L1271.28 1547.77 L1288.75 1532.4 L1296.23 1532.4 L1277.32 1549.07 L1297.03 1568.04 L1289.39 1568.04 L1271.28 1550.63 L1271.28 1568.04 L1265.39 1568.04 L1265.39 1518.52 Z\" fill=\"#000000\" fill-rule=\"evenodd\" fill-opacity=\"1\" /><polyline clip-path=\"url(#clip362)\" style=\"stroke:#000000; stroke-width:2; stroke-opacity:0.1; fill:none\" points=\"\n",
       "  209.658,1158.9 2352.76,1158.9 \n",
       "  \"/>\n",
       "<polyline clip-path=\"url(#clip362)\" style=\"stroke:#000000; stroke-width:2; stroke-opacity:0.1; fill:none\" points=\"\n",
       "  209.658,894.472 2352.76,894.472 \n",
       "  \"/>\n",
       "<polyline clip-path=\"url(#clip362)\" style=\"stroke:#000000; stroke-width:2; stroke-opacity:0.1; fill:none\" points=\"\n",
       "  209.658,630.048 2352.76,630.048 \n",
       "  \"/>\n",
       "<polyline clip-path=\"url(#clip362)\" style=\"stroke:#000000; stroke-width:2; stroke-opacity:0.1; fill:none\" points=\"\n",
       "  209.658,365.625 2352.76,365.625 \n",
       "  \"/>\n",
       "<polyline clip-path=\"url(#clip360)\" style=\"stroke:#000000; stroke-width:4; stroke-opacity:1; fill:none\" points=\"\n",
       "  209.658,1423.18 209.658,123.472 \n",
       "  \"/>\n",
       "<polyline clip-path=\"url(#clip360)\" style=\"stroke:#000000; stroke-width:4; stroke-opacity:1; fill:none\" points=\"\n",
       "  209.658,1158.9 235.375,1158.9 \n",
       "  \"/>\n",
       "<polyline clip-path=\"url(#clip360)\" style=\"stroke:#000000; stroke-width:4; stroke-opacity:1; fill:none\" points=\"\n",
       "  209.658,894.472 235.375,894.472 \n",
       "  \"/>\n",
       "<polyline clip-path=\"url(#clip360)\" style=\"stroke:#000000; stroke-width:4; stroke-opacity:1; fill:none\" points=\"\n",
       "  209.658,630.048 235.375,630.048 \n",
       "  \"/>\n",
       "<polyline clip-path=\"url(#clip360)\" style=\"stroke:#000000; stroke-width:4; stroke-opacity:1; fill:none\" points=\"\n",
       "  209.658,365.625 235.375,365.625 \n",
       "  \"/>\n",
       "<path clip-path=\"url(#clip360)\" d=\"M 0 0 M117.779 1172.24 L125.418 1172.24 L125.418 1145.87 L117.107 1147.54 L117.107 1143.28 L125.371 1141.62 L130.047 1141.62 L130.047 1172.24 L137.686 1172.24 L137.686 1176.18 L117.779 1176.18 L117.779 1172.24 Z\" fill=\"#000000\" fill-rule=\"evenodd\" fill-opacity=\"1\" /><path clip-path=\"url(#clip360)\" d=\"M 0 0 M142.755 1170.3 L147.64 1170.3 L147.64 1176.18 L142.755 1176.18 L142.755 1170.3 Z\" fill=\"#000000\" fill-rule=\"evenodd\" fill-opacity=\"1\" /><path clip-path=\"url(#clip360)\" d=\"M 0 0 M152.755 1141.62 L171.112 1141.62 L171.112 1145.55 L157.038 1145.55 L157.038 1154.02 Q158.056 1153.68 159.075 1153.51 Q160.093 1153.33 161.112 1153.33 Q166.899 1153.33 170.278 1156.5 Q173.658 1159.67 173.658 1165.09 Q173.658 1170.67 170.186 1173.77 Q166.714 1176.85 160.394 1176.85 Q158.218 1176.85 155.95 1176.48 Q153.704 1176.11 151.297 1175.37 L151.297 1170.67 Q153.38 1171.8 155.603 1172.36 Q157.825 1172.91 160.302 1172.91 Q164.306 1172.91 166.644 1170.81 Q168.982 1168.7 168.982 1165.09 Q168.982 1161.48 166.644 1159.37 Q164.306 1157.26 160.302 1157.26 Q158.427 1157.26 156.552 1157.68 Q154.7 1158.1 152.755 1158.98 L152.755 1141.62 Z\" fill=\"#000000\" fill-rule=\"evenodd\" fill-opacity=\"1\" /><path clip-path=\"url(#clip360)\" d=\"M 0 0 M116.876 907.817 L124.515 907.817 L124.515 881.451 L116.205 883.118 L116.205 878.859 L124.468 877.192 L129.144 877.192 L129.144 907.817 L136.783 907.817 L136.783 911.752 L116.876 911.752 L116.876 907.817 Z\" fill=\"#000000\" fill-rule=\"evenodd\" fill-opacity=\"1\" /><path clip-path=\"url(#clip360)\" d=\"M 0 0 M141.853 905.872 L146.737 905.872 L146.737 911.752 L141.853 911.752 L141.853 905.872 Z\" fill=\"#000000\" fill-rule=\"evenodd\" fill-opacity=\"1\" /><path clip-path=\"url(#clip360)\" d=\"M 0 0 M161.806 895.34 Q158.473 895.34 156.552 897.122 Q154.653 898.905 154.653 902.03 Q154.653 905.155 156.552 906.937 Q158.473 908.72 161.806 908.72 Q165.14 908.72 167.061 906.937 Q168.982 905.132 168.982 902.03 Q168.982 898.905 167.061 897.122 Q165.163 895.34 161.806 895.34 M157.13 893.349 Q154.121 892.609 152.431 890.548 Q150.765 888.488 150.765 885.525 Q150.765 881.382 153.704 878.974 Q156.667 876.567 161.806 876.567 Q166.968 876.567 169.908 878.974 Q172.848 881.382 172.848 885.525 Q172.848 888.488 171.158 890.548 Q169.491 892.609 166.505 893.349 Q169.885 894.136 171.76 896.428 Q173.658 898.72 173.658 902.03 Q173.658 907.053 170.579 909.738 Q167.524 912.423 161.806 912.423 Q156.089 912.423 153.01 909.738 Q149.954 907.053 149.954 902.03 Q149.954 898.72 151.853 896.428 Q153.751 894.136 157.13 893.349 M155.417 885.965 Q155.417 888.65 157.084 890.155 Q158.774 891.659 161.806 891.659 Q164.815 891.659 166.505 890.155 Q168.218 888.65 168.218 885.965 Q168.218 883.28 166.505 881.775 Q164.815 880.271 161.806 880.271 Q158.774 880.271 157.084 881.775 Q155.417 883.28 155.417 885.965 Z\" fill=\"#000000\" fill-rule=\"evenodd\" fill-opacity=\"1\" /><path clip-path=\"url(#clip360)\" d=\"M 0 0 M121.598 643.393 L137.917 643.393 L137.917 647.328 L115.973 647.328 L115.973 643.393 Q118.635 640.638 123.218 636.009 Q127.825 631.356 129.005 630.014 Q131.251 627.49 132.13 625.754 Q133.033 623.995 133.033 622.305 Q133.033 619.551 131.089 617.815 Q129.167 616.078 126.066 616.078 Q123.867 616.078 121.413 616.842 Q118.982 617.606 116.205 619.157 L116.205 614.435 Q119.029 613.301 121.482 612.722 Q123.936 612.143 125.973 612.143 Q131.343 612.143 134.538 614.828 Q137.732 617.514 137.732 622.004 Q137.732 624.134 136.922 626.055 Q136.135 627.953 134.029 630.546 Q133.45 631.217 130.348 634.435 Q127.246 637.629 121.598 643.393 Z\" fill=\"#000000\" fill-rule=\"evenodd\" fill-opacity=\"1\" /><path clip-path=\"url(#clip360)\" d=\"M 0 0 M142.987 641.449 L147.871 641.449 L147.871 647.328 L142.987 647.328 L142.987 641.449 Z\" fill=\"#000000\" fill-rule=\"evenodd\" fill-opacity=\"1\" /><path clip-path=\"url(#clip360)\" d=\"M 0 0 M153.751 643.393 L161.39 643.393 L161.39 617.027 L153.079 618.694 L153.079 614.435 L161.343 612.768 L166.019 612.768 L166.019 643.393 L173.658 643.393 L173.658 647.328 L153.751 647.328 L153.751 643.393 Z\" fill=\"#000000\" fill-rule=\"evenodd\" fill-opacity=\"1\" /><path clip-path=\"url(#clip360)\" d=\"M 0 0 M119.885 378.969 L136.204 378.969 L136.204 382.905 L114.26 382.905 L114.26 378.969 Q116.922 376.215 121.505 371.585 Q126.112 366.932 127.292 365.59 Q129.538 363.067 130.417 361.331 Q131.32 359.571 131.32 357.882 Q131.32 355.127 129.376 353.391 Q127.455 351.655 124.353 351.655 Q122.154 351.655 119.7 352.419 Q117.269 353.182 114.492 354.733 L114.492 350.011 Q117.316 348.877 119.769 348.298 Q122.223 347.72 124.26 347.72 Q129.63 347.72 132.825 350.405 Q136.019 353.09 136.019 357.581 Q136.019 359.71 135.209 361.632 Q134.422 363.53 132.316 366.122 Q131.737 366.794 128.635 370.011 Q125.533 373.206 119.885 378.969 Z\" fill=\"#000000\" fill-rule=\"evenodd\" fill-opacity=\"1\" /><path clip-path=\"url(#clip360)\" d=\"M 0 0 M141.274 377.025 L146.158 377.025 L146.158 382.905 L141.274 382.905 L141.274 377.025 Z\" fill=\"#000000\" fill-rule=\"evenodd\" fill-opacity=\"1\" /><path clip-path=\"url(#clip360)\" d=\"M 0 0 M164.075 352.419 L152.269 370.868 L164.075 370.868 L164.075 352.419 M162.848 348.345 L168.727 348.345 L168.727 370.868 L173.658 370.868 L173.658 374.756 L168.727 374.756 L168.727 382.905 L164.075 382.905 L164.075 374.756 L148.473 374.756 L148.473 370.243 L162.848 348.345 Z\" fill=\"#000000\" fill-rule=\"evenodd\" fill-opacity=\"1\" /><path clip-path=\"url(#clip360)\" d=\"M 0 0 M29.7248 759.226 L35.1993 759.226 Q33.8307 761.709 33.1623 764.223 Q32.4621 766.706 32.4621 769.252 Q32.4621 774.949 36.0905 778.1 Q39.6872 781.251 46.212 781.251 Q52.7369 781.251 56.3653 778.1 Q59.9619 774.949 59.9619 769.252 Q59.9619 766.706 59.2935 764.223 Q58.5933 761.709 57.2247 759.226 L62.6355 759.226 Q63.7814 761.677 64.3543 764.319 Q64.9272 766.928 64.9272 769.889 Q64.9272 777.941 59.8664 782.684 Q54.8057 787.426 46.212 787.426 Q37.491 787.426 32.4939 782.652 Q27.4968 777.846 27.4968 769.507 Q27.4968 766.801 28.0697 764.223 Q28.6108 761.645 29.7248 759.226 Z\" fill=\"#000000\" fill-rule=\"evenodd\" fill-opacity=\"1\" /><path clip-path=\"url(#clip360)\" d=\"M 0 0 M920.575 18.8205 L920.575 41.5461 L930.864 41.5461 Q936.576 41.5461 939.695 38.5889 Q942.815 35.6318 942.815 30.163 Q942.815 24.7348 939.695 21.7777 Q936.576 18.8205 930.864 18.8205 L920.575 18.8205 M912.392 12.096 L930.864 12.096 Q941.032 12.096 946.217 16.714 Q951.443 21.2916 951.443 30.163 Q951.443 39.1155 946.217 43.6931 Q941.032 48.2706 930.864 48.2706 L920.575 48.2706 L920.575 72.576 L912.392 72.576 L912.392 12.096 Z\" fill=\"#000000\" fill-rule=\"evenodd\" fill-opacity=\"1\" /><path clip-path=\"url(#clip360)\" d=\"M 0 0 M973.885 32.4315 Q967.89 32.4315 964.406 37.1306 Q960.922 41.7891 960.922 49.9314 Q960.922 58.0738 964.365 62.7728 Q967.849 67.4314 973.885 67.4314 Q979.84 67.4314 983.324 62.7323 Q986.807 58.0333 986.807 49.9314 Q986.807 41.8701 983.324 37.1711 Q979.84 32.4315 973.885 32.4315 M973.885 26.1121 Q983.607 26.1121 989.157 32.4315 Q994.707 38.7509 994.707 49.9314 Q994.707 61.0714 989.157 67.4314 Q983.607 73.7508 973.885 73.7508 Q964.122 73.7508 958.573 67.4314 Q953.063 61.0714 953.063 49.9314 Q953.063 38.7509 958.573 32.4315 Q964.122 26.1121 973.885 26.1121 Z\" fill=\"#000000\" fill-rule=\"evenodd\" fill-opacity=\"1\" /><path clip-path=\"url(#clip360)\" d=\"M 0 0 M1002.52 9.54393 L1009.98 9.54393 L1009.98 72.576 L1002.52 72.576 L1002.52 9.54393 Z\" fill=\"#000000\" fill-rule=\"evenodd\" fill-opacity=\"1\" /><path clip-path=\"url(#clip360)\" d=\"M 0 0 M1017.8 27.2059 L1025.25 27.2059 L1025.25 72.576 L1017.8 72.576 L1017.8 27.2059 M1017.8 9.54393 L1025.25 9.54393 L1025.25 18.9825 L1017.8 18.9825 L1017.8 9.54393 Z\" fill=\"#000000\" fill-rule=\"evenodd\" fill-opacity=\"1\" /><path clip-path=\"url(#clip360)\" d=\"M 0 0 M1065.72 28.9478 L1065.72 35.9153 Q1062.56 34.1734 1059.36 33.3227 Q1056.2 32.4315 1052.96 32.4315 Q1045.71 32.4315 1041.7 37.0496 Q1037.69 41.6271 1037.69 49.9314 Q1037.69 58.2358 1041.7 62.8538 Q1045.71 67.4314 1052.96 67.4314 Q1056.2 67.4314 1059.36 66.5807 Q1062.56 65.6895 1065.72 63.9476 L1065.72 70.8341 Q1062.6 72.2924 1059.24 73.0216 Q1055.92 73.7508 1052.15 73.7508 Q1041.9 73.7508 1035.86 67.3098 Q1029.83 60.8689 1029.83 49.9314 Q1029.83 38.832 1035.9 32.472 Q1042.02 26.1121 1052.63 26.1121 Q1056.08 26.1121 1059.36 26.8413 Q1062.64 27.5299 1065.72 28.9478 Z\" fill=\"#000000\" fill-rule=\"evenodd\" fill-opacity=\"1\" /><path clip-path=\"url(#clip360)\" d=\"M 0 0 M1092.41 76.7889 Q1089.25 84.8907 1086.26 87.3618 Q1083.26 89.8329 1078.24 89.8329 L1072.28 89.8329 L1072.28 83.5945 L1076.66 83.5945 Q1079.74 83.5945 1081.44 82.1361 Q1083.14 80.6778 1085.2 75.2496 L1086.54 71.8468 L1068.19 27.2059 L1076.09 27.2059 L1090.27 62.6918 L1104.45 27.2059 L1112.35 27.2059 L1092.41 76.7889 Z\" fill=\"#000000\" fill-rule=\"evenodd\" fill-opacity=\"1\" /><path clip-path=\"url(#clip360)\" d=\"M 0 0 M1146.86 12.096 L1181.62 12.096 L1181.62 18.9825 L1155.04 18.9825 L1155.04 36.8065 L1179.02 36.8065 L1179.02 43.6931 L1155.04 43.6931 L1155.04 72.576 L1146.86 72.576 L1146.86 12.096 Z\" fill=\"#000000\" fill-rule=\"evenodd\" fill-opacity=\"1\" /><path clip-path=\"url(#clip360)\" d=\"M 0 0 M1184.13 54.671 L1184.13 27.2059 L1191.58 27.2059 L1191.58 54.3874 Q1191.58 60.8284 1194.09 64.0691 Q1196.6 67.2693 1201.63 67.2693 Q1207.66 67.2693 1211.15 63.421 Q1214.67 59.5726 1214.67 52.9291 L1214.67 27.2059 L1222.12 27.2059 L1222.12 72.576 L1214.67 72.576 L1214.67 65.6084 Q1211.96 69.7404 1208.35 71.7658 Q1204.79 73.7508 1200.05 73.7508 Q1192.23 73.7508 1188.18 68.8897 Q1184.13 64.0286 1184.13 54.671 M1202.88 26.1121 L1202.88 26.1121 Z\" fill=\"#000000\" fill-rule=\"evenodd\" fill-opacity=\"1\" /><path clip-path=\"url(#clip360)\" d=\"M 0 0 M1267.66 45.1919 L1267.66 72.576 L1260.2 72.576 L1260.2 45.4349 Q1260.2 38.994 1257.69 35.7938 Q1255.18 32.5936 1250.16 32.5936 Q1244.12 32.5936 1240.64 36.4419 Q1237.15 40.2903 1237.15 46.9338 L1237.15 72.576 L1229.66 72.576 L1229.66 27.2059 L1237.15 27.2059 L1237.15 34.2544 Q1239.83 30.163 1243.43 28.1376 Q1247.08 26.1121 1251.82 26.1121 Q1259.64 26.1121 1263.65 30.9732 Q1267.66 35.7938 1267.66 45.1919 Z\" fill=\"#000000\" fill-rule=\"evenodd\" fill-opacity=\"1\" /><path clip-path=\"url(#clip360)\" d=\"M 0 0 M1308.13 28.9478 L1308.13 35.9153 Q1304.97 34.1734 1301.77 33.3227 Q1298.61 32.4315 1295.36 32.4315 Q1288.11 32.4315 1284.1 37.0496 Q1280.09 41.6271 1280.09 49.9314 Q1280.09 58.2358 1284.1 62.8538 Q1288.11 67.4314 1295.36 67.4314 Q1298.61 67.4314 1301.77 66.5807 Q1304.97 65.6895 1308.13 63.9476 L1308.13 70.8341 Q1305.01 72.2924 1301.64 73.0216 Q1298.32 73.7508 1294.55 73.7508 Q1284.31 73.7508 1278.27 67.3098 Q1272.23 60.8689 1272.23 49.9314 Q1272.23 38.832 1278.31 32.472 Q1284.43 26.1121 1295.04 26.1121 Q1298.48 26.1121 1301.77 26.8413 Q1305.05 27.5299 1308.13 28.9478 Z\" fill=\"#000000\" fill-rule=\"evenodd\" fill-opacity=\"1\" /><path clip-path=\"url(#clip360)\" d=\"M 0 0 M1323.32 14.324 L1323.32 27.2059 L1338.67 27.2059 L1338.67 32.9987 L1323.32 32.9987 L1323.32 57.6282 Q1323.32 63.1779 1324.81 64.7578 Q1326.35 66.3376 1331.01 66.3376 L1338.67 66.3376 L1338.67 72.576 L1331.01 72.576 Q1322.38 72.576 1319.1 69.3758 Q1315.82 66.1351 1315.82 57.6282 L1315.82 32.9987 L1310.35 32.9987 L1310.35 27.2059 L1315.82 27.2059 L1315.82 14.324 L1323.32 14.324 Z\" fill=\"#000000\" fill-rule=\"evenodd\" fill-opacity=\"1\" /><path clip-path=\"url(#clip360)\" d=\"M 0 0 M1346.49 27.2059 L1353.94 27.2059 L1353.94 72.576 L1346.49 72.576 L1346.49 27.2059 M1346.49 9.54393 L1353.94 9.54393 L1353.94 18.9825 L1346.49 18.9825 L1346.49 9.54393 Z\" fill=\"#000000\" fill-rule=\"evenodd\" fill-opacity=\"1\" /><path clip-path=\"url(#clip360)\" d=\"M 0 0 M1379.34 32.4315 Q1373.34 32.4315 1369.86 37.1306 Q1366.38 41.7891 1366.38 49.9314 Q1366.38 58.0738 1369.82 62.7728 Q1373.3 67.4314 1379.34 67.4314 Q1385.29 67.4314 1388.78 62.7323 Q1392.26 58.0333 1392.26 49.9314 Q1392.26 41.8701 1388.78 37.1711 Q1385.29 32.4315 1379.34 32.4315 M1379.34 26.1121 Q1389.06 26.1121 1394.61 32.4315 Q1400.16 38.7509 1400.16 49.9314 Q1400.16 61.0714 1394.61 67.4314 Q1389.06 73.7508 1379.34 73.7508 Q1369.58 73.7508 1364.03 67.4314 Q1358.52 61.0714 1358.52 49.9314 Q1358.52 38.7509 1364.03 32.4315 Q1369.58 26.1121 1379.34 26.1121 Z\" fill=\"#000000\" fill-rule=\"evenodd\" fill-opacity=\"1\" /><path clip-path=\"url(#clip360)\" d=\"M 0 0 M1445.69 45.1919 L1445.69 72.576 L1438.24 72.576 L1438.24 45.4349 Q1438.24 38.994 1435.73 35.7938 Q1433.22 32.5936 1428.19 32.5936 Q1422.16 32.5936 1418.67 36.4419 Q1415.19 40.2903 1415.19 46.9338 L1415.19 72.576 L1407.7 72.576 L1407.7 27.2059 L1415.19 27.2059 L1415.19 34.2544 Q1417.86 30.163 1421.47 28.1376 Q1425.12 26.1121 1429.85 26.1121 Q1437.67 26.1121 1441.68 30.9732 Q1445.69 35.7938 1445.69 45.1919 Z\" fill=\"#000000\" fill-rule=\"evenodd\" fill-opacity=\"1\" /><path clip-path=\"url(#clip360)\" d=\"M 0 0 M1502.85 9.54393 L1502.85 15.7418 L1495.72 15.7418 Q1491.71 15.7418 1490.13 17.3622 Q1488.59 18.9825 1488.59 23.1955 L1488.59 27.2059 L1500.87 27.2059 L1500.87 32.9987 L1488.59 32.9987 L1488.59 72.576 L1481.1 72.576 L1481.1 32.9987 L1473.97 32.9987 L1473.97 27.2059 L1481.1 27.2059 L1481.1 24.0462 Q1481.1 16.471 1484.62 13.0277 Q1488.15 9.54393 1495.8 9.54393 L1502.85 9.54393 Z\" fill=\"#000000\" fill-rule=\"evenodd\" fill-opacity=\"1\" /><path clip-path=\"url(#clip360)\" d=\"M 0 0 M1528.25 32.4315 Q1522.26 32.4315 1518.77 37.1306 Q1515.29 41.7891 1515.29 49.9314 Q1515.29 58.0738 1518.73 62.7728 Q1522.22 67.4314 1528.25 67.4314 Q1534.21 67.4314 1537.69 62.7323 Q1541.17 58.0333 1541.17 49.9314 Q1541.17 41.8701 1537.69 37.1711 Q1534.21 32.4315 1528.25 32.4315 M1528.25 26.1121 Q1537.97 26.1121 1543.52 32.4315 Q1549.07 38.7509 1549.07 49.9314 Q1549.07 61.0714 1543.52 67.4314 Q1537.97 73.7508 1528.25 73.7508 Q1518.49 73.7508 1512.94 67.4314 Q1507.43 61.0714 1507.43 49.9314 Q1507.43 38.7509 1512.94 32.4315 Q1518.49 26.1121 1528.25 26.1121 Z\" fill=\"#000000\" fill-rule=\"evenodd\" fill-opacity=\"1\" /><path clip-path=\"url(#clip360)\" d=\"M 0 0 M1583.18 34.1734 Q1581.93 33.4443 1580.43 33.1202 Q1578.97 32.7556 1577.19 32.7556 Q1570.87 32.7556 1567.46 36.8875 Q1564.1 40.9789 1564.1 48.6757 L1564.1 72.576 L1556.61 72.576 L1556.61 27.2059 L1564.1 27.2059 L1564.1 34.2544 Q1566.45 30.1225 1570.22 28.1376 Q1573.99 26.1121 1579.37 26.1121 Q1580.14 26.1121 1581.08 26.2337 Q1582.01 26.3147 1583.14 26.5172 L1583.18 34.1734 Z\" fill=\"#000000\" fill-rule=\"evenodd\" fill-opacity=\"1\" /><path clip-path=\"url(#clip360)\" d=\"M 0 0 M1650.02 28.9478 L1650.02 35.9153 Q1646.86 34.1734 1643.66 33.3227 Q1640.5 32.4315 1637.26 32.4315 Q1630.01 32.4315 1626 37.0496 Q1621.99 41.6271 1621.99 49.9314 Q1621.99 58.2358 1626 62.8538 Q1630.01 67.4314 1637.26 67.4314 Q1640.5 67.4314 1643.66 66.5807 Q1646.86 65.6895 1650.02 63.9476 L1650.02 70.8341 Q1646.9 72.2924 1643.54 73.0216 Q1640.22 73.7508 1636.45 73.7508 Q1626.2 73.7508 1620.17 67.3098 Q1614.13 60.8689 1614.13 49.9314 Q1614.13 38.832 1620.21 32.472 Q1626.32 26.1121 1636.94 26.1121 Q1640.38 26.1121 1643.66 26.8413 Q1646.94 27.5299 1650.02 28.9478 Z\" fill=\"#000000\" fill-rule=\"evenodd\" fill-opacity=\"1\" /><polyline clip-path=\"url(#clip362)\" style=\"stroke:#808080; stroke-width:12; stroke-opacity:1; fill:none\" points=\"\n",
       "  270.312,708.833 274.355,708.833 278.399,708.833 282.442,708.833 286.486,708.833 290.53,708.833 294.573,708.833 298.617,708.833 302.66,708.833 306.704,708.833 \n",
       "  310.748,708.833 314.791,708.833 318.835,708.833 322.878,708.833 326.922,708.833 330.965,708.833 335.009,708.833 339.053,708.833 343.096,708.833 347.14,708.833 \n",
       "  351.183,708.833 355.227,708.833 359.27,708.833 363.314,708.833 367.358,708.833 371.401,708.833 375.445,708.833 379.488,708.833 383.532,708.833 387.576,708.833 \n",
       "  391.619,708.833 395.663,708.833 399.706,708.833 403.75,708.833 407.793,708.833 411.837,708.833 415.881,708.833 419.924,708.833 423.968,708.833 428.011,708.833 \n",
       "  432.055,708.833 436.099,708.833 440.142,708.833 444.186,708.833 448.229,708.833 452.273,708.833 456.316,708.833 460.36,708.833 464.404,708.833 468.447,708.833 \n",
       "  472.491,708.833 476.534,708.833 480.578,708.833 484.621,708.833 488.665,708.833 492.709,708.833 496.752,708.833 500.796,708.833 504.839,708.833 508.883,708.833 \n",
       "  512.927,708.833 516.97,708.833 521.014,708.833 525.057,708.833 529.101,708.833 533.144,708.833 537.188,708.833 541.232,708.833 545.275,708.833 549.319,708.833 \n",
       "  553.362,708.833 557.406,708.833 561.45,708.833 565.493,708.833 569.537,708.833 573.58,708.833 577.624,708.833 581.667,708.833 585.711,708.833 589.755,708.833 \n",
       "  593.798,708.833 597.842,708.833 601.885,708.833 605.929,708.833 609.973,708.833 614.016,708.833 618.06,708.833 622.103,708.833 626.147,708.833 630.19,708.833 \n",
       "  634.234,708.833 638.278,708.833 642.321,708.833 646.365,708.833 650.408,708.833 654.452,708.833 658.495,708.833 662.539,708.833 666.583,708.833 670.626,708.833 \n",
       "  674.67,708.833 678.713,708.833 682.757,708.833 686.801,708.833 690.844,708.833 694.888,708.833 698.931,708.833 702.975,708.833 707.018,708.833 711.062,708.833 \n",
       "  715.106,708.833 719.149,708.833 723.193,708.833 727.236,708.833 731.28,708.833 735.324,708.833 739.367,708.833 743.411,708.833 747.454,708.833 751.498,708.833 \n",
       "  755.541,708.833 759.585,708.833 763.629,708.833 767.672,708.833 771.716,708.833 775.759,708.833 779.803,708.833 783.846,708.833 787.89,708.833 791.934,708.833 \n",
       "  795.977,708.833 800.021,708.833 804.064,708.833 808.108,708.833 812.152,708.833 816.195,708.833 820.239,708.833 824.282,708.833 828.326,708.833 832.369,708.833 \n",
       "  836.413,708.833 840.457,708.833 844.5,708.833 848.544,708.833 852.587,708.833 856.631,708.833 860.675,708.833 864.718,708.833 868.762,708.833 872.805,708.833 \n",
       "  876.849,708.833 880.892,708.833 884.936,708.833 888.98,708.833 893.023,708.833 897.067,708.833 901.11,708.833 905.154,708.833 909.197,708.833 913.241,708.833 \n",
       "  917.285,708.833 921.328,708.833 925.372,708.833 929.415,708.833 933.459,708.833 937.503,708.833 941.546,708.833 945.59,708.833 949.633,708.833 953.677,708.833 \n",
       "  957.72,708.833 961.764,708.833 965.808,708.833 969.851,708.833 973.895,708.833 977.938,708.833 981.982,708.833 986.026,708.833 990.069,708.833 994.113,708.833 \n",
       "  998.156,708.833 1002.2,708.833 1006.24,708.833 1010.29,708.833 1014.33,708.833 1018.37,708.833 1022.42,708.833 1026.46,708.833 1030.5,708.833 1034.55,708.833 \n",
       "  1038.59,708.833 1042.64,708.833 1046.68,708.833 1050.72,708.833 1054.77,708.833 1058.81,708.833 1062.85,708.833 1066.9,708.833 1070.94,708.833 1074.98,708.833 \n",
       "  1079.03,708.833 1083.07,708.833 1087.12,708.833 1091.16,708.833 1095.2,708.833 1099.25,708.833 1103.29,708.833 1107.33,708.833 1111.38,708.833 1115.42,708.833 \n",
       "  1119.46,708.833 1123.51,708.833 1127.55,708.833 1131.59,708.833 1135.64,708.833 1139.68,708.833 1143.73,708.833 1147.77,708.833 1151.81,708.833 1155.86,708.833 \n",
       "  1159.9,708.833 1163.94,708.833 1167.99,708.833 1172.03,708.833 1176.07,708.833 1180.12,708.833 1184.16,708.833 1188.2,708.833 1192.25,708.833 1196.29,708.833 \n",
       "  1200.34,708.833 1204.38,708.833 1208.42,708.833 1212.47,708.833 1216.51,708.833 1220.55,708.833 1224.6,708.833 1228.64,708.833 1232.68,708.833 1236.73,708.833 \n",
       "  1240.77,708.833 1244.81,708.833 1248.86,708.833 1252.9,708.833 1256.95,708.833 1260.99,708.833 1265.03,708.833 1269.08,708.833 1273.12,708.833 1277.16,708.833 \n",
       "  1281.21,708.833 1285.25,708.833 1289.29,708.833 1293.34,708.833 1297.38,708.833 1301.42,708.833 1305.47,708.833 1309.51,708.833 1313.56,708.833 1317.6,708.833 \n",
       "  1321.64,708.833 1325.69,708.833 1329.73,708.833 1333.77,708.833 1337.82,708.833 1341.86,708.833 1345.9,708.833 1349.95,708.833 1353.99,708.833 1358.03,708.833 \n",
       "  1362.08,708.833 1366.12,708.833 1370.17,708.833 1374.21,708.833 1378.25,708.833 1382.3,708.833 1386.34,708.833 1390.38,708.833 1394.43,708.833 1398.47,708.833 \n",
       "  1402.51,708.833 1406.56,708.833 1410.6,708.833 1414.65,708.833 1418.69,708.833 1422.73,708.833 1426.78,708.833 1430.82,708.833 1434.86,708.833 1438.91,708.833 \n",
       "  1442.95,708.833 1446.99,708.833 1451.04,708.833 1455.08,708.833 1459.12,708.833 1463.17,708.833 1467.21,708.833 1471.26,708.833 1475.3,708.833 1479.34,708.833 \n",
       "  1483.39,708.833 1487.43,708.833 1491.47,708.833 1495.52,708.833 1499.56,708.833 1503.6,708.833 1507.65,708.833 1511.69,708.833 1515.73,708.833 1519.78,708.833 \n",
       "  1523.82,708.833 1527.87,708.833 1531.91,708.833 1535.95,708.833 1540,708.833 1544.04,708.833 1548.08,708.833 1552.13,708.833 1556.17,708.833 1560.21,708.833 \n",
       "  1564.26,708.833 1568.3,708.833 1572.34,708.833 1576.39,708.833 1580.43,708.833 1584.48,708.833 1588.52,708.833 1592.56,708.833 1596.61,708.833 1600.65,708.833 \n",
       "  1604.69,708.833 1608.74,708.833 1612.78,708.833 1616.82,708.833 1620.87,708.833 1624.91,708.833 1628.95,708.833 1633,708.833 1637.04,708.833 1641.09,708.833 \n",
       "  1645.13,708.833 1649.17,708.833 1653.22,708.833 1657.26,708.833 1661.3,708.833 1665.35,708.833 1669.39,708.833 1673.43,708.833 1677.48,708.833 1681.52,708.833 \n",
       "  1685.57,708.833 1689.61,708.833 1693.65,708.833 1697.7,708.833 1701.74,708.833 1705.78,708.833 1709.83,708.833 1713.87,708.833 1717.91,708.833 1721.96,708.833 \n",
       "  1726,708.833 1730.04,708.833 1734.09,708.833 1738.13,708.833 1742.18,708.833 1746.22,708.833 1750.26,708.833 1754.31,708.833 1758.35,708.833 1762.39,708.833 \n",
       "  1766.44,708.833 1770.48,708.833 1774.52,708.833 1778.57,708.833 1782.61,708.833 1786.65,708.833 1790.7,708.833 1794.74,708.833 1798.79,708.833 1802.83,708.833 \n",
       "  1806.87,708.833 1810.92,708.833 1814.96,708.833 1819,708.833 1823.05,708.833 1827.09,708.833 1831.13,708.833 1835.18,708.833 1839.22,708.833 1843.26,708.833 \n",
       "  1847.31,708.833 1851.35,708.833 1855.4,708.833 1859.44,708.833 1863.48,708.833 1867.53,708.833 1871.57,708.833 1875.61,708.833 1879.66,708.833 1883.7,708.833 \n",
       "  1887.74,708.833 1891.79,708.833 1895.83,708.833 1899.87,708.833 1903.92,708.833 1907.96,708.833 1912.01,708.833 1916.05,708.833 1920.09,708.833 1924.14,708.833 \n",
       "  1928.18,708.833 1932.22,708.833 1936.27,708.833 1940.31,708.833 1944.35,708.833 1948.4,708.833 1952.44,708.833 1956.48,708.833 1960.53,708.833 1964.57,708.833 \n",
       "  1968.62,708.833 1972.66,708.833 1976.7,708.833 1980.75,708.833 1984.79,708.833 1988.83,708.833 1992.88,708.833 1996.92,708.833 2000.96,708.833 2005.01,708.833 \n",
       "  2009.05,708.833 2013.1,708.833 2017.14,708.833 2021.18,708.833 2025.23,708.833 2029.27,708.833 2033.31,708.833 2037.36,708.833 2041.4,708.833 2045.44,708.833 \n",
       "  2049.49,708.833 2053.53,708.833 2057.57,708.833 2061.62,708.833 2065.66,708.833 2069.71,708.833 2073.75,708.833 2077.79,708.833 2081.84,708.833 2085.88,708.833 \n",
       "  2089.92,708.833 2093.97,708.833 2098.01,708.833 2102.05,708.833 2106.1,708.833 2110.14,708.833 2114.18,708.833 2118.23,708.833 2122.27,708.833 2126.32,708.833 \n",
       "  2130.36,708.833 2134.4,708.833 2138.45,708.833 2142.49,708.833 2146.53,708.833 2150.58,708.833 2154.62,708.833 2158.66,708.833 2162.71,708.833 2166.75,708.833 \n",
       "  2170.79,708.833 2174.84,708.833 2178.88,708.833 2182.93,708.833 2186.97,708.833 2191.01,708.833 2195.06,708.833 2199.1,708.833 2203.14,708.833 2207.19,708.833 \n",
       "  2211.23,708.833 2215.27,708.833 2219.32,708.833 2223.36,708.833 2227.4,708.833 2231.45,708.833 2235.49,708.833 2239.54,708.833 2243.58,708.833 2247.62,708.833 \n",
       "  2251.67,708.833 2255.71,708.833 2259.75,708.833 2263.8,708.833 2267.84,708.833 2271.88,708.833 2275.93,708.833 2279.97,708.833 2284.02,708.833 2288.06,708.833 \n",
       "  2292.1,708.833 \n",
       "  \"/>\n",
       "<polyline clip-path=\"url(#clip362)\" style=\"stroke:#808080; stroke-width:12; stroke-opacity:1; fill:none\" points=\"\n",
       "  1281.21,2722.89 1281.21,-1176.24 \n",
       "  \"/>\n",
       "<polyline clip-path=\"url(#clip362)\" style=\"stroke:#ff0000; stroke-width:12; stroke-opacity:1; fill:none\" points=\"\n",
       "  270.312,1386.4 274.355,1384.53 278.399,1347.42 282.442,1345.58 286.486,1343.74 290.53,1341.91 294.573,1340.1 298.617,1338.29 302.66,1336.49 306.704,1334.7 \n",
       "  310.748,1332.92 314.791,1331.14 318.835,1329.38 322.878,1327.62 326.922,1325.88 330.965,1324.14 335.009,1322.41 339.053,1320.69 343.096,1318.97 347.14,1317.27 \n",
       "  351.183,1315.57 355.227,1313.88 359.27,1312.2 363.314,1310.53 367.358,1308.86 371.401,1307.2 375.445,1305.55 379.488,1303.91 383.532,1302.28 387.576,1265.39 \n",
       "  391.619,1263.77 395.663,1262.16 399.706,1260.56 403.75,1258.96 407.793,1257.37 411.837,1255.79 415.881,1254.21 419.924,1252.64 423.968,1251.08 428.011,1249.53 \n",
       "  432.055,1247.98 436.099,1246.44 440.142,1244.91 444.186,1243.38 448.229,1241.86 452.273,1240.35 456.316,1238.84 460.36,1237.34 464.404,1235.84 468.447,1234.36 \n",
       "  472.491,1232.88 476.534,1231.4 480.578,1229.93 484.621,1228.47 488.665,1191.76 492.709,1190.31 496.752,1188.87 500.796,1187.43 504.839,1186 508.883,1184.58 \n",
       "  512.927,1183.16 516.97,1181.75 521.014,1180.34 525.057,1178.94 529.101,1177.54 533.144,1176.15 537.188,1174.77 541.232,1173.39 545.275,1172.02 549.319,1170.66 \n",
       "  553.362,1169.29 557.406,1167.94 561.45,1166.59 565.493,1165.25 569.537,1163.91 573.58,1162.57 577.624,1161.25 581.667,1159.92 585.711,1158.61 589.755,1122.04 \n",
       "  593.798,1120.73 597.842,1119.43 601.885,1118.14 605.929,1116.85 609.973,1115.56 614.016,1114.28 618.06,1113 622.103,1111.73 626.147,1110.47 630.19,1109.21 \n",
       "  634.234,1107.95 638.278,1106.7 642.321,1105.46 646.365,1104.22 650.408,1102.98 654.452,1101.75 658.495,1100.52 662.539,1099.3 666.583,1098.09 670.626,1096.87 \n",
       "  674.67,1095.67 678.713,1094.46 682.757,1093.27 686.801,1092.07 690.844,1055.63 694.888,1054.44 698.931,1053.26 702.975,1052.09 707.018,1050.92 711.062,1049.75 \n",
       "  715.106,1048.59 719.149,1047.43 723.193,1046.28 727.236,1045.13 731.28,1043.98 735.324,1042.84 739.367,1041.71 743.411,1040.57 747.454,1039.45 751.498,1038.32 \n",
       "  755.541,1037.2 759.585,1036.09 763.629,1034.98 767.672,1033.87 771.716,1032.77 775.759,1031.67 779.803,1030.57 783.846,994.224 787.89,993.137 791.934,992.054 \n",
       "  795.977,990.975 800.021,989.9 804.064,988.828 808.108,987.761 812.152,986.697 816.195,985.638 820.239,984.582 824.282,983.53 828.326,982.481 832.369,981.437 \n",
       "  836.413,980.396 840.457,979.359 844.5,978.326 848.544,977.296 852.587,976.27 856.631,975.247 860.675,974.229 864.718,973.213 868.762,972.202 872.805,971.194 \n",
       "  876.849,934.933 880.892,933.932 884.936,932.934 888.98,931.94 893.023,930.95 897.067,929.963 901.11,928.98 905.154,927.999 909.197,927.023 913.241,926.049 \n",
       "  917.285,925.08 921.328,924.113 925.372,923.15 929.415,922.19 933.459,921.233 937.503,920.28 941.546,919.33 945.59,918.383 949.633,917.44 953.677,916.5 \n",
       "  957.72,915.563 961.764,914.629 965.808,913.698 969.851,877.514 973.895,876.59 977.938,875.669 981.982,874.751 986.026,873.836 990.069,872.924 994.113,872.016 \n",
       "  998.156,871.11 1002.2,870.208 1006.24,869.308 1010.29,868.412 1014.33,867.518 1018.37,866.628 1022.42,865.74 1026.46,864.856 1030.5,863.974 1034.55,863.096 \n",
       "  1038.59,862.22 1042.64,861.347 1046.68,860.477 1050.72,859.611 1054.77,858.746 1058.81,857.885 1062.85,821.771 1066.9,820.915 1070.94,820.062 1074.98,819.213 \n",
       "  1079.03,818.366 1083.07,817.521 1087.12,816.68 1091.16,815.841 1095.2,815.006 1099.25,814.172 1103.29,813.342 1107.33,812.514 1111.38,811.689 1115.42,810.867 \n",
       "  1119.46,810.047 1123.51,809.231 1127.55,808.416 1131.59,807.605 1135.64,806.796 1139.68,805.99 1143.73,805.186 1147.77,804.385 1151.81,803.586 1155.86,767.534 \n",
       "  1159.9,766.741 1163.94,765.95 1167.99,765.162 1172.03,764.376 1176.07,763.593 1180.12,762.812 1184.16,762.034 1188.2,761.259 1192.25,760.486 1196.29,759.715 \n",
       "  1200.34,758.947 1204.38,758.181 1208.42,757.418 1212.47,756.657 1216.51,755.899 1220.55,755.143 1224.6,754.39 1228.64,753.639 1232.68,752.89 1236.73,752.144 \n",
       "  1240.77,751.4 1244.81,750.658 1248.86,749.919 1252.9,749.182 1256.95,748.448 1260.99,747.716 1265.03,746.986 1269.08,711.002 1273.12,710.277 1277.16,709.554 \n",
       "  1281.21,708.833 1285.25,708.115 1289.29,707.398 1293.34,706.685 1297.38,670.716 1301.42,670.007 1305.47,669.3 1309.51,668.595 1313.56,667.892 1317.6,667.192 \n",
       "  1321.64,666.494 1325.69,665.797 1329.73,665.104 1333.77,664.412 1337.82,663.722 1341.86,663.035 1345.9,662.349 1349.95,661.666 1353.99,660.985 1358.03,660.306 \n",
       "  1362.08,659.63 1366.12,658.955 1370.17,658.282 1374.21,657.612 1378.25,656.944 1382.3,656.277 1386.34,655.613 1390.38,654.951 1394.43,654.291 1398.47,653.633 \n",
       "  1402.51,652.977 1406.56,652.323 1410.6,616.414 1414.65,615.764 1418.69,615.117 1422.73,614.471 1426.78,613.827 1430.82,613.185 1434.86,612.545 1438.91,611.907 \n",
       "  1442.95,611.271 1446.99,610.637 1451.04,610.005 1455.08,609.375 1459.12,608.746 1463.17,608.12 1467.21,607.496 1471.26,606.873 1475.3,606.253 1479.34,605.634 \n",
       "  1483.39,605.017 1487.43,604.403 1491.47,603.79 1495.52,603.179 1499.56,567.313 1503.6,566.706 1507.65,566.1 1511.69,565.497 1515.73,564.895 1519.78,564.295 \n",
       "  1523.82,563.697 1527.87,563.101 1531.91,562.506 1535.95,561.914 1540,561.323 1544.04,560.734 1548.08,560.147 1552.13,559.562 1556.17,558.978 1560.21,558.396 \n",
       "  1564.26,557.816 1568.3,557.238 1572.34,556.661 1576.39,556.087 1580.43,555.514 1584.48,554.942 1588.52,519.116 1592.56,518.549 1596.61,517.982 1600.65,517.418 \n",
       "  1604.69,516.856 1608.74,516.295 1612.78,515.735 1616.82,515.178 1620.87,514.622 1624.91,514.068 1628.95,513.516 1633,512.965 1637.04,512.416 1641.09,511.868 \n",
       "  1645.13,511.323 1649.17,510.779 1653.22,510.236 1657.26,509.695 1661.3,509.156 1665.35,508.619 1669.39,508.083 1673.43,507.548 1677.48,471.759 1681.52,471.228 \n",
       "  1685.57,470.699 1689.61,470.171 1693.65,469.645 1697.7,469.12 1701.74,468.597 1705.78,468.076 1709.83,467.556 1713.87,467.038 1717.91,466.521 1721.96,466.006 \n",
       "  1726,465.492 1730.04,464.98 1734.09,464.47 1738.13,463.961 1742.18,463.453 1746.22,462.947 1750.26,462.443 1754.31,461.94 1758.35,461.439 1762.39,425.683 \n",
       "  1766.44,425.184 1770.48,424.688 1774.52,424.192 1778.57,423.699 1782.61,423.206 1786.65,422.716 1790.7,422.226 1794.74,421.739 1798.79,421.252 1802.83,420.767 \n",
       "  1806.87,420.284 1810.92,419.802 1814.96,419.322 1819,418.843 1823.05,418.365 1827.09,417.889 1831.13,417.414 1835.18,416.941 1839.22,416.469 1843.26,380.742 \n",
       "  1847.31,380.273 1851.35,379.806 1855.4,379.34 1859.44,378.875 1863.48,378.412 1867.53,377.95 1871.57,377.489 1875.61,377.03 1879.66,376.573 1883.7,376.116 \n",
       "  1887.74,375.661 1891.79,375.208 1895.83,374.756 1899.87,374.305 1903.92,373.855 1907.96,373.407 1912.01,372.961 1916.05,372.515 1920.09,372.071 1924.14,371.629 \n",
       "  1928.18,335.931 1932.22,335.491 1936.27,335.052 1940.31,334.615 1944.35,334.179 1948.4,333.744 1952.44,333.311 1956.48,332.879 1960.53,332.448 1964.57,332.019 \n",
       "  1968.62,331.591 1972.66,331.164 1976.7,330.739 1980.75,330.314 1984.79,329.892 1988.83,329.47 1992.88,329.05 1996.92,328.631 2000.96,328.213 2005.01,327.796 \n",
       "  2009.05,327.381 2013.1,326.967 2017.14,291.298 2021.18,290.887 2025.23,290.477 2029.27,290.068 2033.31,289.66 2037.36,289.254 2041.4,288.848 2045.44,288.445 \n",
       "  2049.49,288.042 2053.53,287.64 2057.57,287.24 2061.62,286.841 2065.66,286.443 2069.71,286.047 2073.75,285.652 2077.79,285.257 2081.84,284.865 2085.88,284.473 \n",
       "  2089.92,284.082 2093.97,283.693 2098.01,283.305 2102.05,247.662 2106.1,247.276 2110.14,246.891 2114.18,246.508 2118.23,246.126 2122.27,245.745 2126.32,245.365 \n",
       "  2130.36,244.986 2134.4,244.609 2138.45,244.233 2142.49,243.858 2146.53,243.484 2150.58,243.111 2154.62,242.739 2158.66,242.369 2162.71,241.999 2166.75,241.631 \n",
       "  2170.79,241.264 2174.84,240.898 2178.88,240.533 2182.93,240.17 2186.97,204.551 2191.01,204.189 2195.06,203.829 2199.1,203.47 2203.14,203.112 2207.19,202.755 \n",
       "  2211.23,202.399 2215.27,202.044 2219.32,201.691 2223.36,201.338 2227.4,200.987 2231.45,200.637 2235.49,200.288 2239.54,199.94 2243.58,199.593 2247.62,199.247 \n",
       "  2251.67,198.902 2255.71,198.558 2259.75,198.215 2263.8,197.874 2267.84,162.277 2271.88,161.937 2275.93,161.599 2279.97,161.262 2284.02,160.926 2288.06,160.59 \n",
       "  2292.1,160.256 \n",
       "  \"/>\n",
       "<path clip-path=\"url(#clip360)\" d=\"\n",
       "M1843.71 408.716 L2281.32 408.716 L2281.32 166.796 L1843.71 166.796  Z\n",
       "  \" fill=\"#ffffff\" fill-rule=\"evenodd\" fill-opacity=\"1\"/>\n",
       "<polyline clip-path=\"url(#clip360)\" style=\"stroke:#000000; stroke-width:4; stroke-opacity:1; fill:none\" points=\"\n",
       "  1843.71,408.716 2281.32,408.716 2281.32,166.796 1843.71,166.796 1843.71,408.716 \n",
       "  \"/>\n",
       "<polyline clip-path=\"url(#clip360)\" style=\"stroke:#808080; stroke-width:4; stroke-opacity:1; fill:none\" points=\"\n",
       "  1867.52,227.276 2010.39,227.276 \n",
       "  \"/>\n",
       "<path clip-path=\"url(#clip360)\" d=\"M 0 0 M2054.71 219.625 L2054.71 223.607 Q2052.91 222.611 2051.08 222.125 Q2049.27 221.616 2047.42 221.616 Q2043.28 221.616 2040.99 224.255 Q2038.7 226.871 2038.7 231.616 Q2038.7 236.361 2040.99 239 Q2043.28 241.616 2047.42 241.616 Q2049.27 241.616 2051.08 241.13 Q2052.91 240.621 2054.71 239.625 L2054.71 243.56 Q2052.93 244.394 2051.01 244.81 Q2049.11 245.227 2046.96 245.227 Q2041.1 245.227 2037.65 241.546 Q2034.21 237.866 2034.21 231.616 Q2034.21 225.273 2037.68 221.639 Q2041.17 218.005 2047.24 218.005 Q2049.21 218.005 2051.08 218.422 Q2052.96 218.815 2054.71 219.625 Z\" fill=\"#000000\" fill-rule=\"evenodd\" fill-opacity=\"1\" /><path clip-path=\"url(#clip360)\" d=\"M 0 0 M2036.03 209.232 L2049.88 209.232 L2049.88 212.658 L2036.03 212.658 L2036.03 209.232 Z\" fill=\"#000000\" fill-rule=\"evenodd\" fill-opacity=\"1\" /><polyline clip-path=\"url(#clip360)\" style=\"stroke:#808080; stroke-width:4; stroke-opacity:1; fill:none\" points=\"\n",
       "  1867.52,287.756 2010.39,287.756 \n",
       "  \"/>\n",
       "<path clip-path=\"url(#clip360)\" d=\"M 0 0 M2034.21 269.017 L2038.49 269.017 L2038.49 290.29 L2051.2 279.11 L2056.64 279.11 L2042.89 291.239 L2057.21 305.036 L2051.66 305.036 L2038.49 292.374 L2038.49 305.036 L2034.21 305.036 L2034.21 269.017 Z\" fill=\"#000000\" fill-rule=\"evenodd\" fill-opacity=\"1\" /><path clip-path=\"url(#clip360)\" d=\"M 0 0 M2038.53 269.712 L2052.38 269.712 L2052.38 273.138 L2038.53 273.138 L2038.53 269.712 Z\" fill=\"#000000\" fill-rule=\"evenodd\" fill-opacity=\"1\" /><polyline clip-path=\"url(#clip360)\" style=\"stroke:#ff0000; stroke-width:4; stroke-opacity:1; fill:none\" points=\"\n",
       "  1867.52,348.236 2010.39,348.236 \n",
       "  \"/>\n",
       "<path clip-path=\"url(#clip360)\" d=\"M 0 0 M2050.22 334.127 Q2045.13 334.127 2042.12 337.923 Q2039.14 341.72 2039.14 348.27 Q2039.14 354.798 2042.12 358.594 Q2045.13 362.391 2050.22 362.391 Q2055.32 362.391 2058.28 358.594 Q2061.27 354.798 2061.27 348.27 Q2061.27 341.72 2058.28 337.923 Q2055.32 334.127 2050.22 334.127 M2050.22 330.331 Q2057.49 330.331 2061.84 335.215 Q2066.2 340.076 2066.2 348.27 Q2066.2 356.442 2061.84 361.326 Q2057.49 366.187 2050.22 366.187 Q2042.93 366.187 2038.56 361.326 Q2034.21 356.465 2034.21 348.27 Q2034.21 340.076 2038.56 335.215 Q2042.93 330.331 2050.22 330.331 Z\" fill=\"#000000\" fill-rule=\"evenodd\" fill-opacity=\"1\" /><path clip-path=\"url(#clip360)\" d=\"M 0 0 M2074.78 361.627 L2074.78 375.377 L2070.5 375.377 L2070.5 339.59 L2074.78 339.59 L2074.78 343.525 Q2076.13 341.21 2078.16 340.099 Q2080.22 338.965 2083.07 338.965 Q2087.79 338.965 2090.73 342.715 Q2093.7 346.465 2093.7 352.576 Q2093.7 358.687 2090.73 362.437 Q2087.79 366.187 2083.07 366.187 Q2080.22 366.187 2078.16 365.076 Q2076.13 363.942 2074.78 361.627 M2089.27 352.576 Q2089.27 347.877 2087.33 345.215 Q2085.41 342.53 2082.03 342.53 Q2078.65 342.53 2076.71 345.215 Q2074.78 347.877 2074.78 352.576 Q2074.78 357.275 2076.71 359.96 Q2078.65 362.622 2082.03 362.622 Q2085.41 362.622 2087.33 359.96 Q2089.27 357.275 2089.27 352.576 Z\" fill=\"#000000\" fill-rule=\"evenodd\" fill-opacity=\"1\" /><path clip-path=\"url(#clip360)\" d=\"M 0 0 M2102.38 332.229 L2102.38 339.59 L2111.15 339.59 L2111.15 342.9 L2102.38 342.9 L2102.38 356.974 Q2102.38 360.145 2103.23 361.048 Q2104.11 361.951 2106.77 361.951 L2111.15 361.951 L2111.15 365.516 L2106.77 365.516 Q2101.84 365.516 2099.97 363.687 Q2098.09 361.835 2098.09 356.974 L2098.09 342.9 L2094.97 342.9 L2094.97 339.59 L2098.09 339.59 L2098.09 332.229 L2102.38 332.229 Z\" fill=\"#000000\" fill-rule=\"evenodd\" fill-opacity=\"1\" /><path clip-path=\"url(#clip360)\" d=\"M 0 0 M2115.62 339.59 L2119.88 339.59 L2119.88 365.516 L2115.62 365.516 L2115.62 339.59 M2115.62 329.497 L2119.88 329.497 L2119.88 334.891 L2115.62 334.891 L2115.62 329.497 Z\" fill=\"#000000\" fill-rule=\"evenodd\" fill-opacity=\"1\" /><path clip-path=\"url(#clip360)\" d=\"M 0 0 M2144.53 344.567 Q2146.13 341.696 2148.35 340.331 Q2150.57 338.965 2153.58 338.965 Q2157.63 338.965 2159.83 341.812 Q2162.03 344.636 2162.03 349.868 L2162.03 365.516 L2157.75 365.516 L2157.75 350.007 Q2157.75 346.28 2156.43 344.474 Q2155.11 342.669 2152.4 342.669 Q2149.09 342.669 2147.17 344.868 Q2145.25 347.067 2145.25 350.863 L2145.25 365.516 L2140.96 365.516 L2140.96 350.007 Q2140.96 346.257 2139.64 344.474 Q2138.33 342.669 2135.57 342.669 Q2132.31 342.669 2130.39 344.891 Q2128.46 347.09 2128.46 350.863 L2128.46 365.516 L2124.18 365.516 L2124.18 339.59 L2128.46 339.59 L2128.46 343.618 Q2129.92 341.233 2131.96 340.099 Q2134 338.965 2136.8 338.965 Q2139.62 338.965 2141.59 340.4 Q2143.58 341.835 2144.53 344.567 Z\" fill=\"#000000\" fill-rule=\"evenodd\" fill-opacity=\"1\" /><path clip-path=\"url(#clip360)\" d=\"M 0 0 M2178.28 352.483 Q2173.12 352.483 2171.13 353.664 Q2169.14 354.844 2169.14 357.692 Q2169.14 359.96 2170.62 361.303 Q2172.12 362.622 2174.69 362.622 Q2178.23 362.622 2180.36 360.122 Q2182.51 357.599 2182.51 353.432 L2182.51 352.483 L2178.28 352.483 M2186.77 350.724 L2186.77 365.516 L2182.51 365.516 L2182.51 361.581 Q2181.06 363.942 2178.88 365.076 Q2176.7 366.187 2173.56 366.187 Q2169.57 366.187 2167.21 363.965 Q2164.88 361.719 2164.88 357.969 Q2164.88 353.594 2167.79 351.372 Q2170.73 349.15 2176.54 349.15 L2182.51 349.15 L2182.51 348.733 Q2182.51 345.794 2180.57 344.196 Q2178.65 342.576 2175.15 342.576 Q2172.93 342.576 2170.82 343.108 Q2168.72 343.641 2166.77 344.706 L2166.77 340.77 Q2169.11 339.868 2171.31 339.428 Q2173.51 338.965 2175.59 338.965 Q2181.22 338.965 2184 341.882 Q2186.77 344.798 2186.77 350.724 Z\" fill=\"#000000\" fill-rule=\"evenodd\" fill-opacity=\"1\" /><path clip-path=\"url(#clip360)\" d=\"M 0 0 M2191.24 329.497 L2195.5 329.497 L2195.5 365.516 L2191.24 365.516 L2191.24 329.497 Z\" fill=\"#000000\" fill-rule=\"evenodd\" fill-opacity=\"1\" /><path clip-path=\"url(#clip360)\" d=\"M 0 0 M2233.69 340.585 L2233.69 344.567 Q2231.89 343.571 2230.06 343.085 Q2228.26 342.576 2226.4 342.576 Q2222.26 342.576 2219.97 345.215 Q2217.68 347.831 2217.68 352.576 Q2217.68 357.321 2219.97 359.96 Q2222.26 362.576 2226.4 362.576 Q2228.26 362.576 2230.06 362.09 Q2231.89 361.581 2233.69 360.585 L2233.69 364.52 Q2231.91 365.354 2229.99 365.77 Q2228.09 366.187 2225.94 366.187 Q2220.08 366.187 2216.63 362.506 Q2213.19 358.826 2213.19 352.576 Q2213.19 346.233 2216.66 342.599 Q2220.15 338.965 2226.22 338.965 Q2228.19 338.965 2230.06 339.382 Q2231.94 339.775 2233.69 340.585 Z\" fill=\"#000000\" fill-rule=\"evenodd\" fill-opacity=\"1\" /></svg>\n"
      ]
     },
     "execution_count": 75,
     "metadata": {},
     "output_type": "execute_result"
    }
   ],
   "source": [
    "plot(title = \"Policy Function for c\")\n",
    "plot!(kgrid, fill(c̄, length(kgrid)), label = \"c̄\", color = \"gray\", lw = 3)\n",
    "vline!([k̄], label = \"k̄\", color = \"gray\",lw = 3)\n",
    "plot!(kgrid, c_pol, label = \"Optimal c\", color = \"red\", lw = 3)\n",
    "xlabel!(\"k\")\n",
    "ylabel!(\"c\")"
   ]
  },
  {
   "cell_type": "markdown",
   "metadata": {},
   "source": [
    "## Generating Optimal Paths"
   ]
  },
  {
   "cell_type": "markdown",
   "metadata": {},
   "source": [
    "Let's create a function that generates the path of the economy over $T$ time periods given the relevant policy functions and $k_0$ ."
   ]
  },
  {
   "cell_type": "code",
   "execution_count": 65,
   "metadata": {
    "ExecuteTime": {
     "end_time": "2021-05-02T14:29:15.430000-07:00",
     "start_time": "2021-05-02T21:29:15.267Z"
    }
   },
   "outputs": [
    {
     "data": {
      "text/plain": [
       "growthBellmanPath (generic function with 1 method)"
      ]
     },
     "execution_count": 65,
     "metadata": {},
     "output_type": "execute_result"
    }
   ],
   "source": [
    "function growthBellmanPath(kgrid, n_pol, k_pol, c_pol, grid_initial::Int64, T::Int64)\n",
    "\n",
    "    index = fill(0,T+1) # capital grid index path\n",
    "    c = zeros(T)\n",
    "    k = zeros(T+1)\n",
    "    \n",
    "    index[1] = grid_initial\n",
    "    \n",
    "    k[1] = kgrid[index[1]]\n",
    "    \n",
    "    for t in 1:T\n",
    "        c[t] = c_pol[index[t]]\n",
    "        k[t+1] = k_pol[index[t]]\n",
    "        index[t+1] = n_pol[index[t]]\n",
    "    end \n",
    "    \n",
    "    k = k[1:T]\n",
    "    grid_pts = index[1:T]\n",
    "    \n",
    "    return k,c,grid_pts\n",
    "end"
   ]
  },
  {
   "cell_type": "markdown",
   "metadata": {},
   "source": [
    "First we plot the paths of $k$ and $c$ given the lowest possible $k_0$ from our grid."
   ]
  },
  {
   "cell_type": "code",
   "execution_count": 82,
   "metadata": {
    "ExecuteTime": {
     "end_time": "2021-05-02T14:43:52.589000-07:00",
     "start_time": "2021-05-02T21:43:52.529Z"
    }
   },
   "outputs": [
    {
     "data": {
      "image/svg+xml": [
       "<?xml version=\"1.0\" encoding=\"utf-8\"?>\n",
       "<svg xmlns=\"http://www.w3.org/2000/svg\" xmlns:xlink=\"http://www.w3.org/1999/xlink\" width=\"600\" height=\"400\" viewBox=\"0 0 2400 1600\">\n",
       "<defs>\n",
       "  <clipPath id=\"clip640\">\n",
       "    <rect x=\"0\" y=\"0\" width=\"2400\" height=\"1600\"/>\n",
       "  </clipPath>\n",
       "</defs>\n",
       "<path clip-path=\"url(#clip640)\" d=\"\n",
       "M0 1600 L2400 1600 L2400 0 L0 0  Z\n",
       "  \" fill=\"#ffffff\" fill-rule=\"evenodd\" fill-opacity=\"1\"/>\n",
       "<defs>\n",
       "  <clipPath id=\"clip641\">\n",
       "    <rect x=\"480\" y=\"0\" width=\"1681\" height=\"1600\"/>\n",
       "  </clipPath>\n",
       "</defs>\n",
       "<path clip-path=\"url(#clip640)\" d=\"\n",
       "M148.01 1423.18 L2352.76 1423.18 L2352.76 123.472 L148.01 123.472  Z\n",
       "  \" fill=\"#ffffff\" fill-rule=\"evenodd\" fill-opacity=\"1\"/>\n",
       "<defs>\n",
       "  <clipPath id=\"clip642\">\n",
       "    <rect x=\"148\" y=\"123\" width=\"2206\" height=\"1301\"/>\n",
       "  </clipPath>\n",
       "</defs>\n",
       "<polyline clip-path=\"url(#clip642)\" style=\"stroke:#000000; stroke-width:2; stroke-opacity:0.1; fill:none\" points=\"\n",
       "  189.399,1423.18 189.399,123.472 \n",
       "  \"/>\n",
       "<polyline clip-path=\"url(#clip642)\" style=\"stroke:#000000; stroke-width:2; stroke-opacity:0.1; fill:none\" points=\"\n",
       "  714.639,1423.18 714.639,123.472 \n",
       "  \"/>\n",
       "<polyline clip-path=\"url(#clip642)\" style=\"stroke:#000000; stroke-width:2; stroke-opacity:0.1; fill:none\" points=\"\n",
       "  1239.88,1423.18 1239.88,123.472 \n",
       "  \"/>\n",
       "<polyline clip-path=\"url(#clip642)\" style=\"stroke:#000000; stroke-width:2; stroke-opacity:0.1; fill:none\" points=\"\n",
       "  1765.12,1423.18 1765.12,123.472 \n",
       "  \"/>\n",
       "<polyline clip-path=\"url(#clip642)\" style=\"stroke:#000000; stroke-width:2; stroke-opacity:0.1; fill:none\" points=\"\n",
       "  2290.36,1423.18 2290.36,123.472 \n",
       "  \"/>\n",
       "<polyline clip-path=\"url(#clip640)\" style=\"stroke:#000000; stroke-width:4; stroke-opacity:1; fill:none\" points=\"\n",
       "  148.01,1423.18 2352.76,1423.18 \n",
       "  \"/>\n",
       "<polyline clip-path=\"url(#clip640)\" style=\"stroke:#000000; stroke-width:4; stroke-opacity:1; fill:none\" points=\"\n",
       "  189.399,1423.18 189.399,1407.58 \n",
       "  \"/>\n",
       "<polyline clip-path=\"url(#clip640)\" style=\"stroke:#000000; stroke-width:4; stroke-opacity:1; fill:none\" points=\"\n",
       "  714.639,1423.18 714.639,1407.58 \n",
       "  \"/>\n",
       "<polyline clip-path=\"url(#clip640)\" style=\"stroke:#000000; stroke-width:4; stroke-opacity:1; fill:none\" points=\"\n",
       "  1239.88,1423.18 1239.88,1407.58 \n",
       "  \"/>\n",
       "<polyline clip-path=\"url(#clip640)\" style=\"stroke:#000000; stroke-width:4; stroke-opacity:1; fill:none\" points=\"\n",
       "  1765.12,1423.18 1765.12,1407.58 \n",
       "  \"/>\n",
       "<polyline clip-path=\"url(#clip640)\" style=\"stroke:#000000; stroke-width:4; stroke-opacity:1; fill:none\" points=\"\n",
       "  2290.36,1423.18 2290.36,1407.58 \n",
       "  \"/>\n",
       "<path clip-path=\"url(#clip640)\" d=\"M 0 0 M189.399 1452.37 Q185.788 1452.37 183.959 1455.94 Q182.154 1459.48 182.154 1466.61 Q182.154 1473.71 183.959 1477.28 Q185.788 1480.82 189.399 1480.82 Q193.033 1480.82 194.839 1477.28 Q196.668 1473.71 196.668 1466.61 Q196.668 1459.48 194.839 1455.94 Q193.033 1452.37 189.399 1452.37 M189.399 1448.67 Q195.209 1448.67 198.265 1453.27 Q201.344 1457.86 201.344 1466.61 Q201.344 1475.33 198.265 1479.94 Q195.209 1484.52 189.399 1484.52 Q183.589 1484.52 180.51 1479.94 Q177.455 1475.33 177.455 1466.61 Q177.455 1457.86 180.51 1453.27 Q183.589 1448.67 189.399 1448.67 Z\" fill=\"#000000\" fill-rule=\"evenodd\" fill-opacity=\"1\" /><path clip-path=\"url(#clip640)\" d=\"M 0 0 M696.282 1479.92 L712.602 1479.92 L712.602 1483.85 L690.657 1483.85 L690.657 1479.92 Q693.319 1477.16 697.903 1472.53 Q702.509 1467.88 703.69 1466.54 Q705.935 1464.01 706.815 1462.28 Q707.717 1460.52 707.717 1458.83 Q707.717 1456.07 705.773 1454.34 Q703.852 1452.6 700.75 1452.6 Q698.551 1452.6 696.097 1453.37 Q693.667 1454.13 690.889 1455.68 L690.889 1450.96 Q693.713 1449.82 696.167 1449.25 Q698.62 1448.67 700.657 1448.67 Q706.028 1448.67 709.222 1451.35 Q712.417 1454.04 712.417 1458.53 Q712.417 1460.66 711.606 1462.58 Q710.819 1464.48 708.713 1467.07 Q708.134 1467.74 705.032 1470.96 Q701.93 1474.15 696.282 1479.92 Z\" fill=\"#000000\" fill-rule=\"evenodd\" fill-opacity=\"1\" /><path clip-path=\"url(#clip640)\" d=\"M 0 0 M717.717 1449.29 L736.074 1449.29 L736.074 1453.23 L722 1453.23 L722 1461.7 Q723.018 1461.35 724.037 1461.19 Q725.055 1461 726.074 1461 Q731.861 1461 735.24 1464.18 Q738.62 1467.35 738.62 1472.76 Q738.62 1478.34 735.148 1481.44 Q731.676 1484.52 725.356 1484.52 Q723.18 1484.52 720.912 1484.15 Q718.667 1483.78 716.259 1483.04 L716.259 1478.34 Q718.342 1479.48 720.565 1480.03 Q722.787 1480.59 725.264 1480.59 Q729.268 1480.59 731.606 1478.48 Q733.944 1476.38 733.944 1472.76 Q733.944 1469.15 731.606 1467.05 Q729.268 1464.94 725.264 1464.94 Q723.389 1464.94 721.514 1465.36 Q719.662 1465.77 717.717 1466.65 L717.717 1449.29 Z\" fill=\"#000000\" fill-rule=\"evenodd\" fill-opacity=\"1\" /><path clip-path=\"url(#clip640)\" d=\"M 0 0 M1216.65 1449.29 L1235.01 1449.29 L1235.01 1453.23 L1220.93 1453.23 L1220.93 1461.7 Q1221.95 1461.35 1222.97 1461.19 Q1223.99 1461 1225.01 1461 Q1230.79 1461 1234.17 1464.18 Q1237.55 1467.35 1237.55 1472.76 Q1237.55 1478.34 1234.08 1481.44 Q1230.61 1484.52 1224.29 1484.52 Q1222.11 1484.52 1219.84 1484.15 Q1217.6 1483.78 1215.19 1483.04 L1215.19 1478.34 Q1217.27 1479.48 1219.5 1480.03 Q1221.72 1480.59 1224.2 1480.59 Q1228.2 1480.59 1230.54 1478.48 Q1232.88 1476.38 1232.88 1472.76 Q1232.88 1469.15 1230.54 1467.05 Q1228.2 1464.94 1224.2 1464.94 Q1222.32 1464.94 1220.45 1465.36 Q1218.59 1465.77 1216.65 1466.65 L1216.65 1449.29 Z\" fill=\"#000000\" fill-rule=\"evenodd\" fill-opacity=\"1\" /><path clip-path=\"url(#clip640)\" d=\"M 0 0 M1252.62 1452.37 Q1249.01 1452.37 1247.18 1455.94 Q1245.38 1459.48 1245.38 1466.61 Q1245.38 1473.71 1247.18 1477.28 Q1249.01 1480.82 1252.62 1480.82 Q1256.26 1480.82 1258.06 1477.28 Q1259.89 1473.71 1259.89 1466.61 Q1259.89 1459.48 1258.06 1455.94 Q1256.26 1452.37 1252.62 1452.37 M1252.62 1448.67 Q1258.43 1448.67 1261.49 1453.27 Q1264.57 1457.86 1264.57 1466.61 Q1264.57 1475.33 1261.49 1479.94 Q1258.43 1484.52 1252.62 1484.52 Q1246.81 1484.52 1243.73 1479.94 Q1240.68 1475.33 1240.68 1466.61 Q1240.68 1457.86 1243.73 1453.27 Q1246.81 1448.67 1252.62 1448.67 Z\" fill=\"#000000\" fill-rule=\"evenodd\" fill-opacity=\"1\" /><path clip-path=\"url(#clip640)\" d=\"M 0 0 M1741 1449.29 L1763.22 1449.29 L1763.22 1451.28 L1750.67 1483.85 L1745.79 1483.85 L1757.59 1453.23 L1741 1453.23 L1741 1449.29 Z\" fill=\"#000000\" fill-rule=\"evenodd\" fill-opacity=\"1\" /><path clip-path=\"url(#clip640)\" d=\"M 0 0 M1768.34 1449.29 L1786.69 1449.29 L1786.69 1453.23 L1772.62 1453.23 L1772.62 1461.7 Q1773.64 1461.35 1774.65 1461.19 Q1775.67 1461 1776.69 1461 Q1782.48 1461 1785.86 1464.18 Q1789.24 1467.35 1789.24 1472.76 Q1789.24 1478.34 1785.77 1481.44 Q1782.29 1484.52 1775.97 1484.52 Q1773.8 1484.52 1771.53 1484.15 Q1769.28 1483.78 1766.88 1483.04 L1766.88 1478.34 Q1768.96 1479.48 1771.18 1480.03 Q1773.4 1480.59 1775.88 1480.59 Q1779.89 1480.59 1782.22 1478.48 Q1784.56 1476.38 1784.56 1472.76 Q1784.56 1469.15 1782.22 1467.05 Q1779.89 1464.94 1775.88 1464.94 Q1774.01 1464.94 1772.13 1465.36 Q1770.28 1465.77 1768.34 1466.65 L1768.34 1449.29 Z\" fill=\"#000000\" fill-rule=\"evenodd\" fill-opacity=\"1\" /><path clip-path=\"url(#clip640)\" d=\"M 0 0 M2253.73 1479.92 L2261.36 1479.92 L2261.36 1453.55 L2253.05 1455.22 L2253.05 1450.96 L2261.32 1449.29 L2265.99 1449.29 L2265.99 1479.92 L2273.63 1479.92 L2273.63 1483.85 L2253.73 1483.85 L2253.73 1479.92 Z\" fill=\"#000000\" fill-rule=\"evenodd\" fill-opacity=\"1\" /><path clip-path=\"url(#clip640)\" d=\"M 0 0 M2288.7 1452.37 Q2285.09 1452.37 2283.26 1455.94 Q2281.46 1459.48 2281.46 1466.61 Q2281.46 1473.71 2283.26 1477.28 Q2285.09 1480.82 2288.7 1480.82 Q2292.34 1480.82 2294.14 1477.28 Q2295.97 1473.71 2295.97 1466.61 Q2295.97 1459.48 2294.14 1455.94 Q2292.34 1452.37 2288.7 1452.37 M2288.7 1448.67 Q2294.51 1448.67 2297.57 1453.27 Q2300.65 1457.86 2300.65 1466.61 Q2300.65 1475.33 2297.57 1479.94 Q2294.51 1484.52 2288.7 1484.52 Q2282.89 1484.52 2279.81 1479.94 Q2276.76 1475.33 2276.76 1466.61 Q2276.76 1457.86 2279.81 1453.27 Q2282.89 1448.67 2288.7 1448.67 Z\" fill=\"#000000\" fill-rule=\"evenodd\" fill-opacity=\"1\" /><path clip-path=\"url(#clip640)\" d=\"M 0 0 M2315.72 1452.37 Q2312.11 1452.37 2310.28 1455.94 Q2308.47 1459.48 2308.47 1466.61 Q2308.47 1473.71 2310.28 1477.28 Q2312.11 1480.82 2315.72 1480.82 Q2319.35 1480.82 2321.16 1477.28 Q2322.98 1473.71 2322.98 1466.61 Q2322.98 1459.48 2321.16 1455.94 Q2319.35 1452.37 2315.72 1452.37 M2315.72 1448.67 Q2321.53 1448.67 2324.58 1453.27 Q2327.66 1457.86 2327.66 1466.61 Q2327.66 1475.33 2324.58 1479.94 Q2321.53 1484.52 2315.72 1484.52 Q2309.91 1484.52 2306.83 1479.94 Q2303.77 1475.33 2303.77 1466.61 Q2303.77 1457.86 2306.83 1453.27 Q2309.91 1448.67 2315.72 1448.67 Z\" fill=\"#000000\" fill-rule=\"evenodd\" fill-opacity=\"1\" /><path clip-path=\"url(#clip640)\" d=\"M 0 0 M1177.99 1520.52 L1218.19 1520.52 L1218.19 1525.93 L1201.32 1525.93 L1201.32 1568.04 L1194.86 1568.04 L1194.86 1525.93 L1177.99 1525.93 L1177.99 1520.52 Z\" fill=\"#000000\" fill-rule=\"evenodd\" fill-opacity=\"1\" /><path clip-path=\"url(#clip640)\" d=\"M 0 0 M1222.33 1532.4 L1228.18 1532.4 L1228.18 1568.04 L1222.33 1568.04 L1222.33 1532.4 M1222.33 1518.52 L1228.18 1518.52 L1228.18 1525.93 L1222.33 1525.93 L1222.33 1518.52 Z\" fill=\"#000000\" fill-rule=\"evenodd\" fill-opacity=\"1\" /><path clip-path=\"url(#clip640)\" d=\"M 0 0 M1262.08 1539.24 Q1264.28 1535.29 1267.33 1533.41 Q1270.39 1531.54 1274.53 1531.54 Q1280.1 1531.54 1283.12 1535.45 Q1286.14 1539.33 1286.14 1546.53 L1286.14 1568.04 L1280.25 1568.04 L1280.25 1546.72 Q1280.25 1541.59 1278.44 1539.11 Q1276.63 1536.63 1272.9 1536.63 Q1268.35 1536.63 1265.71 1539.65 Q1263.07 1542.68 1263.07 1547.9 L1263.07 1568.04 L1257.18 1568.04 L1257.18 1546.72 Q1257.18 1541.56 1255.36 1539.11 Q1253.55 1536.63 1249.76 1536.63 Q1245.27 1536.63 1242.63 1539.68 Q1239.99 1542.71 1239.99 1547.9 L1239.99 1568.04 L1234.1 1568.04 L1234.1 1532.4 L1239.99 1532.4 L1239.99 1537.93 Q1242 1534.66 1244.8 1533.1 Q1247.6 1531.54 1251.45 1531.54 Q1255.33 1531.54 1258.04 1533.51 Q1260.78 1535.48 1262.08 1539.24 Z\" fill=\"#000000\" fill-rule=\"evenodd\" fill-opacity=\"1\" /><path clip-path=\"url(#clip640)\" d=\"M 0 0 M1322.78 1548.76 L1322.78 1551.62 L1295.85 1551.62 Q1296.23 1557.67 1299.48 1560.85 Q1302.76 1564 1308.58 1564 Q1311.96 1564 1315.11 1563.17 Q1318.29 1562.35 1321.41 1560.69 L1321.41 1566.23 Q1318.26 1567.57 1314.95 1568.27 Q1311.64 1568.97 1308.23 1568.97 Q1299.7 1568.97 1294.7 1564 Q1289.74 1559.04 1289.74 1550.57 Q1289.74 1541.82 1294.45 1536.69 Q1299.19 1531.54 1307.21 1531.54 Q1314.41 1531.54 1318.58 1536.18 Q1322.78 1540.8 1322.78 1548.76 M1316.92 1547.04 Q1316.86 1542.23 1314.22 1539.37 Q1311.61 1536.5 1307.28 1536.5 Q1302.38 1536.5 1299.41 1539.27 Q1296.49 1542.04 1296.04 1547.07 L1316.92 1547.04 Z\" fill=\"#000000\" fill-rule=\"evenodd\" fill-opacity=\"1\" /><polyline clip-path=\"url(#clip642)\" style=\"stroke:#000000; stroke-width:2; stroke-opacity:0.1; fill:none\" points=\"\n",
       "  148.01,1234.66 2352.76,1234.66 \n",
       "  \"/>\n",
       "<polyline clip-path=\"url(#clip642)\" style=\"stroke:#000000; stroke-width:2; stroke-opacity:0.1; fill:none\" points=\"\n",
       "  148.01,1019.25 2352.76,1019.25 \n",
       "  \"/>\n",
       "<polyline clip-path=\"url(#clip642)\" style=\"stroke:#000000; stroke-width:2; stroke-opacity:0.1; fill:none\" points=\"\n",
       "  148.01,803.843 2352.76,803.843 \n",
       "  \"/>\n",
       "<polyline clip-path=\"url(#clip642)\" style=\"stroke:#000000; stroke-width:2; stroke-opacity:0.1; fill:none\" points=\"\n",
       "  148.01,588.436 2352.76,588.436 \n",
       "  \"/>\n",
       "<polyline clip-path=\"url(#clip642)\" style=\"stroke:#000000; stroke-width:2; stroke-opacity:0.1; fill:none\" points=\"\n",
       "  148.01,373.028 2352.76,373.028 \n",
       "  \"/>\n",
       "<polyline clip-path=\"url(#clip642)\" style=\"stroke:#000000; stroke-width:2; stroke-opacity:0.1; fill:none\" points=\"\n",
       "  148.01,157.62 2352.76,157.62 \n",
       "  \"/>\n",
       "<polyline clip-path=\"url(#clip640)\" style=\"stroke:#000000; stroke-width:4; stroke-opacity:1; fill:none\" points=\"\n",
       "  148.01,1423.18 148.01,123.472 \n",
       "  \"/>\n",
       "<polyline clip-path=\"url(#clip640)\" style=\"stroke:#000000; stroke-width:4; stroke-opacity:1; fill:none\" points=\"\n",
       "  148.01,1234.66 174.467,1234.66 \n",
       "  \"/>\n",
       "<polyline clip-path=\"url(#clip640)\" style=\"stroke:#000000; stroke-width:4; stroke-opacity:1; fill:none\" points=\"\n",
       "  148.01,1019.25 174.467,1019.25 \n",
       "  \"/>\n",
       "<polyline clip-path=\"url(#clip640)\" style=\"stroke:#000000; stroke-width:4; stroke-opacity:1; fill:none\" points=\"\n",
       "  148.01,803.843 174.467,803.843 \n",
       "  \"/>\n",
       "<polyline clip-path=\"url(#clip640)\" style=\"stroke:#000000; stroke-width:4; stroke-opacity:1; fill:none\" points=\"\n",
       "  148.01,588.436 174.467,588.436 \n",
       "  \"/>\n",
       "<polyline clip-path=\"url(#clip640)\" style=\"stroke:#000000; stroke-width:4; stroke-opacity:1; fill:none\" points=\"\n",
       "  148.01,373.028 174.467,373.028 \n",
       "  \"/>\n",
       "<polyline clip-path=\"url(#clip640)\" style=\"stroke:#000000; stroke-width:4; stroke-opacity:1; fill:none\" points=\"\n",
       "  148.01,157.62 174.467,157.62 \n",
       "  \"/>\n",
       "<path clip-path=\"url(#clip640)\" d=\"M 0 0 M64.0939 1220.46 Q60.4828 1220.46 58.6541 1224.02 Q56.8486 1227.56 56.8486 1234.69 Q56.8486 1241.8 58.6541 1245.36 Q60.4828 1248.91 64.0939 1248.91 Q67.7281 1248.91 69.5337 1245.36 Q71.3624 1241.8 71.3624 1234.69 Q71.3624 1227.56 69.5337 1224.02 Q67.7281 1220.46 64.0939 1220.46 M64.0939 1216.75 Q69.9041 1216.75 72.9596 1221.36 Q76.0383 1225.94 76.0383 1234.69 Q76.0383 1243.42 72.9596 1248.03 Q69.9041 1252.61 64.0939 1252.61 Q58.2838 1252.61 55.2051 1248.03 Q52.1495 1243.42 52.1495 1234.69 Q52.1495 1225.94 55.2051 1221.36 Q58.2838 1216.75 64.0939 1216.75 Z\" fill=\"#000000\" fill-rule=\"evenodd\" fill-opacity=\"1\" /><path clip-path=\"url(#clip640)\" d=\"M 0 0 M81.1077 1246.06 L85.9919 1246.06 L85.9919 1251.94 L81.1077 1251.94 L81.1077 1246.06 Z\" fill=\"#000000\" fill-rule=\"evenodd\" fill-opacity=\"1\" /><path clip-path=\"url(#clip640)\" d=\"M 0 0 M91.1077 1217.38 L109.464 1217.38 L109.464 1221.31 L95.39 1221.31 L95.39 1229.79 Q96.4085 1229.44 97.4271 1229.28 Q98.4456 1229.09 99.4641 1229.09 Q105.251 1229.09 108.631 1232.26 Q112.01 1235.43 112.01 1240.85 Q112.01 1246.43 108.538 1249.53 Q105.066 1252.61 98.7465 1252.61 Q96.5706 1252.61 94.3021 1252.24 Q92.0567 1251.87 89.6493 1251.13 L89.6493 1246.43 Q91.7326 1247.56 93.9549 1248.12 Q96.1771 1248.68 98.6539 1248.68 Q102.659 1248.68 104.996 1246.57 Q107.334 1244.46 107.334 1240.85 Q107.334 1237.24 104.996 1235.13 Q102.659 1233.03 98.6539 1233.03 Q96.7789 1233.03 94.9039 1233.44 Q93.0521 1233.86 91.1077 1234.74 L91.1077 1217.38 Z\" fill=\"#000000\" fill-rule=\"evenodd\" fill-opacity=\"1\" /><path clip-path=\"url(#clip640)\" d=\"M 0 0 M62.9365 1005.05 Q59.3254 1005.05 57.4967 1008.61 Q55.6912 1012.16 55.6912 1019.29 Q55.6912 1026.39 57.4967 1029.96 Q59.3254 1033.5 62.9365 1033.5 Q66.5707 1033.5 68.3763 1029.96 Q70.205 1026.39 70.205 1019.29 Q70.205 1012.16 68.3763 1008.61 Q66.5707 1005.05 62.9365 1005.05 M62.9365 1001.35 Q68.7467 1001.35 71.8022 1005.95 Q74.8809 1010.54 74.8809 1019.29 Q74.8809 1028.01 71.8022 1032.62 Q68.7467 1037.2 62.9365 1037.2 Q57.1264 1037.2 54.0477 1032.62 Q50.9921 1028.01 50.9921 1019.29 Q50.9921 1010.54 54.0477 1005.95 Q57.1264 1001.35 62.9365 1001.35 Z\" fill=\"#000000\" fill-rule=\"evenodd\" fill-opacity=\"1\" /><path clip-path=\"url(#clip640)\" d=\"M 0 0 M79.9503 1030.65 L84.8345 1030.65 L84.8345 1036.53 L79.9503 1036.53 L79.9503 1030.65 Z\" fill=\"#000000\" fill-rule=\"evenodd\" fill-opacity=\"1\" /><path clip-path=\"url(#clip640)\" d=\"M 0 0 M100.483 1017.39 Q97.3345 1017.39 95.4826 1019.54 Q93.6539 1021.69 93.6539 1025.44 Q93.6539 1029.17 95.4826 1031.35 Q97.3345 1033.5 100.483 1033.5 Q103.631 1033.5 105.459 1031.35 Q107.311 1029.17 107.311 1025.44 Q107.311 1021.69 105.459 1019.54 Q103.631 1017.39 100.483 1017.39 M109.765 1002.74 L109.765 1006.99 Q108.006 1006.16 106.2 1005.72 Q104.418 1005.28 102.659 1005.28 Q98.0289 1005.28 95.5752 1008.41 Q93.1447 1011.53 92.7975 1017.85 Q94.1632 1015.84 96.2234 1014.77 Q98.2835 1013.68 100.76 1013.68 Q105.969 1013.68 108.978 1016.86 Q112.01 1020 112.01 1025.44 Q112.01 1030.77 108.862 1033.98 Q105.714 1037.2 100.483 1037.2 Q94.4873 1037.2 91.316 1032.62 Q88.1447 1028.01 88.1447 1019.29 Q88.1447 1011.09 92.0336 1006.23 Q95.9224 1001.35 102.473 1001.35 Q104.233 1001.35 106.015 1001.69 Q107.821 1002.04 109.765 1002.74 Z\" fill=\"#000000\" fill-rule=\"evenodd\" fill-opacity=\"1\" /><path clip-path=\"url(#clip640)\" d=\"M 0 0 M64.0013 789.642 Q60.3902 789.642 58.5615 793.207 Q56.756 796.749 56.756 803.878 Q56.756 810.985 58.5615 814.549 Q60.3902 818.091 64.0013 818.091 Q67.6356 818.091 69.4411 814.549 Q71.2698 810.985 71.2698 803.878 Q71.2698 796.749 69.4411 793.207 Q67.6356 789.642 64.0013 789.642 M64.0013 785.938 Q69.8115 785.938 72.867 790.545 Q75.9457 795.128 75.9457 803.878 Q75.9457 812.605 72.867 817.211 Q69.8115 821.795 64.0013 821.795 Q58.1912 821.795 55.1125 817.211 Q52.0569 812.605 52.0569 803.878 Q52.0569 795.128 55.1125 790.545 Q58.1912 785.938 64.0013 785.938 Z\" fill=\"#000000\" fill-rule=\"evenodd\" fill-opacity=\"1\" /><path clip-path=\"url(#clip640)\" d=\"M 0 0 M81.0151 815.244 L85.8993 815.244 L85.8993 821.123 L81.0151 821.123 L81.0151 815.244 Z\" fill=\"#000000\" fill-rule=\"evenodd\" fill-opacity=\"1\" /><path clip-path=\"url(#clip640)\" d=\"M 0 0 M89.7882 786.563 L112.01 786.563 L112.01 788.554 L99.4641 821.123 L94.5799 821.123 L106.385 790.499 L89.7882 790.499 L89.7882 786.563 Z\" fill=\"#000000\" fill-rule=\"evenodd\" fill-opacity=\"1\" /><path clip-path=\"url(#clip640)\" d=\"M 0 0 M63.1911 574.234 Q59.58 574.234 57.7513 577.799 Q55.9458 581.341 55.9458 588.47 Q55.9458 595.577 57.7513 599.142 Q59.58 602.683 63.1911 602.683 Q66.8254 602.683 68.6309 599.142 Q70.4596 595.577 70.4596 588.47 Q70.4596 581.341 68.6309 577.799 Q66.8254 574.234 63.1911 574.234 M63.1911 570.531 Q69.0013 570.531 72.0568 575.137 Q75.1355 579.72 75.1355 588.47 Q75.1355 597.197 72.0568 601.804 Q69.0013 606.387 63.1911 606.387 Q57.381 606.387 54.3023 601.804 Q51.2468 597.197 51.2468 588.47 Q51.2468 579.72 54.3023 575.137 Q57.381 570.531 63.1911 570.531 Z\" fill=\"#000000\" fill-rule=\"evenodd\" fill-opacity=\"1\" /><path clip-path=\"url(#clip640)\" d=\"M 0 0 M80.2049 599.836 L85.0892 599.836 L85.0892 605.716 L80.2049 605.716 L80.2049 599.836 Z\" fill=\"#000000\" fill-rule=\"evenodd\" fill-opacity=\"1\" /><path clip-path=\"url(#clip640)\" d=\"M 0 0 M100.159 589.304 Q96.8252 589.304 94.9039 591.086 Q93.0058 592.868 93.0058 595.993 Q93.0058 599.118 94.9039 600.901 Q96.8252 602.683 100.159 602.683 Q103.492 602.683 105.413 600.901 Q107.334 599.095 107.334 595.993 Q107.334 592.868 105.413 591.086 Q103.515 589.304 100.159 589.304 M95.4826 587.313 Q92.4734 586.572 90.7836 584.512 Q89.1169 582.452 89.1169 579.489 Q89.1169 575.345 92.0567 572.938 Q95.0197 570.531 100.159 570.531 Q105.321 570.531 108.26 572.938 Q111.2 575.345 111.2 579.489 Q111.2 582.452 109.51 584.512 Q107.844 586.572 104.858 587.313 Q108.237 588.1 110.112 590.392 Q112.01 592.683 112.01 595.993 Q112.01 601.017 108.932 603.702 Q105.876 606.387 100.159 606.387 Q94.441 606.387 91.3623 603.702 Q88.3067 601.017 88.3067 595.993 Q88.3067 592.683 90.2049 590.392 Q92.103 588.1 95.4826 587.313 M93.7697 579.929 Q93.7697 582.614 95.4363 584.119 Q97.1261 585.623 100.159 585.623 Q103.168 585.623 104.858 584.119 Q106.571 582.614 106.571 579.929 Q106.571 577.244 104.858 575.739 Q103.168 574.234 100.159 574.234 Q97.1261 574.234 95.4363 575.739 Q93.7697 577.244 93.7697 579.929 Z\" fill=\"#000000\" fill-rule=\"evenodd\" fill-opacity=\"1\" /><path clip-path=\"url(#clip640)\" d=\"M 0 0 M63.2837 358.827 Q59.6726 358.827 57.8439 362.391 Q56.0384 365.933 56.0384 373.063 Q56.0384 380.169 57.8439 383.734 Q59.6726 387.275 63.2837 387.275 Q66.918 387.275 68.7235 383.734 Q70.5522 380.169 70.5522 373.063 Q70.5522 365.933 68.7235 362.391 Q66.918 358.827 63.2837 358.827 M63.2837 355.123 Q69.0939 355.123 72.1494 359.729 Q75.2281 364.313 75.2281 373.063 Q75.2281 381.789 72.1494 386.396 Q69.0939 390.979 63.2837 390.979 Q57.4736 390.979 54.3949 386.396 Q51.3393 381.789 51.3393 373.063 Q51.3393 364.313 54.3949 359.729 Q57.4736 355.123 63.2837 355.123 Z\" fill=\"#000000\" fill-rule=\"evenodd\" fill-opacity=\"1\" /><path clip-path=\"url(#clip640)\" d=\"M 0 0 M80.2975 384.428 L85.1818 384.428 L85.1818 390.308 L80.2975 390.308 L80.2975 384.428 Z\" fill=\"#000000\" fill-rule=\"evenodd\" fill-opacity=\"1\" /><path clip-path=\"url(#clip640)\" d=\"M 0 0 M90.3901 389.59 L90.3901 385.331 Q92.1493 386.164 93.9549 386.604 Q95.7604 387.044 97.4965 387.044 Q102.126 387.044 104.557 383.942 Q107.01 380.817 107.358 374.475 Q106.015 376.465 103.955 377.53 Q101.895 378.595 99.3946 378.595 Q94.2095 378.595 91.1771 375.47 Q88.1679 372.322 88.1679 366.882 Q88.1679 361.558 91.316 358.34 Q94.4641 355.123 99.6956 355.123 Q105.691 355.123 108.839 359.729 Q112.01 364.313 112.01 373.063 Q112.01 381.234 108.121 386.118 Q104.256 390.979 97.7048 390.979 Q95.9456 390.979 94.14 390.632 Q92.3345 390.285 90.3901 389.59 M99.6956 374.938 Q102.844 374.938 104.672 372.785 Q106.524 370.632 106.524 366.882 Q106.524 363.155 104.672 361.002 Q102.844 358.827 99.6956 358.827 Q96.5474 358.827 94.6956 361.002 Q92.8669 363.155 92.8669 366.882 Q92.8669 370.632 94.6956 372.785 Q96.5474 374.938 99.6956 374.938 Z\" fill=\"#000000\" fill-rule=\"evenodd\" fill-opacity=\"1\" /><path clip-path=\"url(#clip640)\" d=\"M 0 0 M55.1356 170.965 L62.7745 170.965 L62.7745 144.599 L54.4643 146.266 L54.4643 142.007 L62.7282 140.34 L67.4041 140.34 L67.4041 170.965 L75.0429 170.965 L75.0429 174.9 L55.1356 174.9 L55.1356 170.965 Z\" fill=\"#000000\" fill-rule=\"evenodd\" fill-opacity=\"1\" /><path clip-path=\"url(#clip640)\" d=\"M 0 0 M80.1123 169.02 L84.9966 169.02 L84.9966 174.9 L80.1123 174.9 L80.1123 169.02 Z\" fill=\"#000000\" fill-rule=\"evenodd\" fill-opacity=\"1\" /><path clip-path=\"url(#clip640)\" d=\"M 0 0 M100.066 143.419 Q96.4548 143.419 94.6262 146.984 Q92.8206 150.525 92.8206 157.655 Q92.8206 164.761 94.6262 168.326 Q96.4548 171.868 100.066 171.868 Q103.7 171.868 105.506 168.326 Q107.334 164.761 107.334 157.655 Q107.334 150.525 105.506 146.984 Q103.7 143.419 100.066 143.419 M100.066 139.715 Q105.876 139.715 108.932 144.322 Q112.01 148.905 112.01 157.655 Q112.01 166.382 108.932 170.988 Q105.876 175.571 100.066 175.571 Q94.2558 175.571 91.1771 170.988 Q88.1216 166.382 88.1216 157.655 Q88.1216 148.905 91.1771 144.322 Q94.2558 139.715 100.066 139.715 Z\" fill=\"#000000\" fill-rule=\"evenodd\" fill-opacity=\"1\" /><path clip-path=\"url(#clip640)\" d=\"M 0 0 M692.047 17.6457 Q683.135 17.6457 677.869 24.2892 Q672.643 30.9327 672.643 42.3968 Q672.643 53.8203 677.869 60.4638 Q683.135 67.1073 692.047 67.1073 Q700.959 67.1073 706.144 60.4638 Q711.37 53.8203 711.37 42.3968 Q711.37 30.9327 706.144 24.2892 Q700.959 17.6457 692.047 17.6457 M692.047 11.0023 Q704.767 11.0023 712.383 19.5497 Q719.998 28.0566 719.998 42.3968 Q719.998 56.6965 712.383 65.2439 Q704.767 73.7508 692.047 73.7508 Q679.287 73.7508 671.63 65.2439 Q664.015 56.737 664.015 42.3968 Q664.015 28.0566 671.63 19.5497 Q679.287 11.0023 692.047 11.0023 Z\" fill=\"#000000\" fill-rule=\"evenodd\" fill-opacity=\"1\" /><path clip-path=\"url(#clip640)\" d=\"M 0 0 M735.027 65.7705 L735.027 89.8329 L727.533 89.8329 L727.533 27.2059 L735.027 27.2059 L735.027 34.0924 Q737.377 30.0415 740.941 28.0971 Q744.547 26.1121 749.529 26.1121 Q757.793 26.1121 762.938 32.6746 Q768.123 39.2371 768.123 49.9314 Q768.123 60.6258 762.938 67.1883 Q757.793 73.7508 749.529 73.7508 Q744.547 73.7508 740.941 71.8063 Q737.377 69.8214 735.027 65.7705 M760.386 49.9314 Q760.386 41.7081 756.983 37.0496 Q753.621 32.3505 747.706 32.3505 Q741.792 32.3505 738.389 37.0496 Q735.027 41.7081 735.027 49.9314 Q735.027 58.1548 738.389 62.8538 Q741.792 67.5124 747.706 67.5124 Q753.621 67.5124 756.983 62.8538 Q760.386 58.1548 760.386 49.9314 Z\" fill=\"#000000\" fill-rule=\"evenodd\" fill-opacity=\"1\" /><path clip-path=\"url(#clip640)\" d=\"M 0 0 M783.314 14.324 L783.314 27.2059 L798.667 27.2059 L798.667 32.9987 L783.314 32.9987 L783.314 57.6282 Q783.314 63.1779 784.813 64.7578 Q786.352 66.3376 791.011 66.3376 L798.667 66.3376 L798.667 72.576 L791.011 72.576 Q782.382 72.576 779.101 69.3758 Q775.82 66.1351 775.82 57.6282 L775.82 32.9987 L770.351 32.9987 L770.351 27.2059 L775.82 27.2059 L775.82 14.324 L783.314 14.324 Z\" fill=\"#000000\" fill-rule=\"evenodd\" fill-opacity=\"1\" /><path clip-path=\"url(#clip640)\" d=\"M 0 0 M806.485 27.2059 L813.939 27.2059 L813.939 72.576 L806.485 72.576 L806.485 27.2059 M806.485 9.54393 L813.939 9.54393 L813.939 18.9825 L806.485 18.9825 L806.485 9.54393 Z\" fill=\"#000000\" fill-rule=\"evenodd\" fill-opacity=\"1\" /><path clip-path=\"url(#clip640)\" d=\"M 0 0 M857.081 35.9153 Q859.876 30.8922 863.765 28.5022 Q867.654 26.1121 872.92 26.1121 Q880.009 26.1121 883.857 31.0947 Q887.706 36.0368 887.706 45.1919 L887.706 72.576 L880.211 72.576 L880.211 45.4349 Q880.211 38.913 877.902 35.7533 Q875.593 32.5936 870.854 32.5936 Q865.061 32.5936 861.699 36.4419 Q858.337 40.2903 858.337 46.9338 L858.337 72.576 L850.842 72.576 L850.842 45.4349 Q850.842 38.8725 848.533 35.7533 Q846.224 32.5936 841.404 32.5936 Q835.692 32.5936 832.33 36.4824 Q828.968 40.3308 828.968 46.9338 L828.968 72.576 L821.473 72.576 L821.473 27.2059 L828.968 27.2059 L828.968 34.2544 Q831.52 30.082 835.084 28.0971 Q838.649 26.1121 843.551 26.1121 Q848.493 26.1121 851.936 28.6237 Q855.42 31.1352 857.081 35.9153 Z\" fill=\"#000000\" fill-rule=\"evenodd\" fill-opacity=\"1\" /><path clip-path=\"url(#clip640)\" d=\"M 0 0 M916.143 49.7694 Q907.109 49.7694 903.626 51.8354 Q900.142 53.9013 900.142 58.8839 Q900.142 62.8538 902.735 65.2034 Q905.368 67.5124 909.864 67.5124 Q916.062 67.5124 919.789 63.1374 Q923.556 58.7219 923.556 51.4303 L923.556 49.7694 L916.143 49.7694 M931.01 46.6907 L931.01 72.576 L923.556 72.576 L923.556 65.6895 Q921.004 69.8214 917.196 71.8063 Q913.388 73.7508 907.879 73.7508 Q900.912 73.7508 896.78 69.8619 Q892.688 65.9325 892.688 59.3701 Q892.688 51.7138 897.792 47.825 Q902.937 43.9361 913.105 43.9361 L923.556 43.9361 L923.556 43.2069 Q923.556 38.0623 920.153 35.2672 Q916.791 32.4315 910.674 32.4315 Q906.785 32.4315 903.099 33.3632 Q899.413 34.295 896.01 36.1584 L896.01 29.2718 Q900.101 27.692 903.95 26.9223 Q907.798 26.1121 911.444 26.1121 Q921.288 26.1121 926.149 31.2163 Q931.01 36.3204 931.01 46.6907 Z\" fill=\"#000000\" fill-rule=\"evenodd\" fill-opacity=\"1\" /><path clip-path=\"url(#clip640)\" d=\"M 0 0 M938.828 9.54393 L946.282 9.54393 L946.282 72.576 L938.828 72.576 L938.828 9.54393 Z\" fill=\"#000000\" fill-rule=\"evenodd\" fill-opacity=\"1\" /><path clip-path=\"url(#clip640)\" d=\"M 0 0 M988.978 18.8205 L988.978 41.5461 L999.268 41.5461 Q1004.98 41.5461 1008.1 38.5889 Q1011.22 35.6318 1011.22 30.163 Q1011.22 24.7348 1008.1 21.7777 Q1004.98 18.8205 999.268 18.8205 L988.978 18.8205 M980.795 12.096 L999.268 12.096 Q1009.44 12.096 1014.62 16.714 Q1019.85 21.2916 1019.85 30.163 Q1019.85 39.1155 1014.62 43.6931 Q1009.44 48.2706 999.268 48.2706 L988.978 48.2706 L988.978 72.576 L980.795 72.576 L980.795 12.096 Z\" fill=\"#000000\" fill-rule=\"evenodd\" fill-opacity=\"1\" /><path clip-path=\"url(#clip640)\" d=\"M 0 0 M1044.56 49.7694 Q1035.52 49.7694 1032.04 51.8354 Q1028.56 53.9013 1028.56 58.8839 Q1028.56 62.8538 1031.15 65.2034 Q1033.78 67.5124 1038.28 67.5124 Q1044.48 67.5124 1048.2 63.1374 Q1051.97 58.7219 1051.97 51.4303 L1051.97 49.7694 L1044.56 49.7694 M1059.42 46.6907 L1059.42 72.576 L1051.97 72.576 L1051.97 65.6895 Q1049.42 69.8214 1045.61 71.8063 Q1041.8 73.7508 1036.29 73.7508 Q1029.33 73.7508 1025.19 69.8619 Q1021.1 65.9325 1021.1 59.3701 Q1021.1 51.7138 1026.21 47.825 Q1031.35 43.9361 1041.52 43.9361 L1051.97 43.9361 L1051.97 43.2069 Q1051.97 38.0623 1048.57 35.2672 Q1045.2 32.4315 1039.09 32.4315 Q1035.2 32.4315 1031.51 33.3632 Q1027.83 34.295 1024.42 36.1584 L1024.42 29.2718 Q1028.52 27.692 1032.36 26.9223 Q1036.21 26.1121 1039.86 26.1121 Q1049.7 26.1121 1054.56 31.2163 Q1059.42 36.3204 1059.42 46.6907 Z\" fill=\"#000000\" fill-rule=\"evenodd\" fill-opacity=\"1\" /><path clip-path=\"url(#clip640)\" d=\"M 0 0 M1074.61 14.324 L1074.61 27.2059 L1089.97 27.2059 L1089.97 32.9987 L1074.61 32.9987 L1074.61 57.6282 Q1074.61 63.1779 1076.11 64.7578 Q1077.65 66.3376 1082.31 66.3376 L1089.97 66.3376 L1089.97 72.576 L1082.31 72.576 Q1073.68 72.576 1070.4 69.3758 Q1067.12 66.1351 1067.12 57.6282 L1067.12 32.9987 L1061.65 32.9987 L1061.65 27.2059 L1067.12 27.2059 L1067.12 14.324 L1074.61 14.324 Z\" fill=\"#000000\" fill-rule=\"evenodd\" fill-opacity=\"1\" /><path clip-path=\"url(#clip640)\" d=\"M 0 0 M1135.5 45.1919 L1135.5 72.576 L1128.05 72.576 L1128.05 45.4349 Q1128.05 38.994 1125.53 35.7938 Q1123.02 32.5936 1118 32.5936 Q1111.96 32.5936 1108.48 36.4419 Q1105 40.2903 1105 46.9338 L1105 72.576 L1097.5 72.576 L1097.5 9.54393 L1105 9.54393 L1105 34.2544 Q1107.67 30.163 1111.28 28.1376 Q1114.92 26.1121 1119.66 26.1121 Q1127.48 26.1121 1131.49 30.9732 Q1135.5 35.7938 1135.5 45.1919 Z\" fill=\"#000000\" fill-rule=\"evenodd\" fill-opacity=\"1\" /><path clip-path=\"url(#clip640)\" d=\"M 0 0 M1211.25 63.9476 L1211.25 47.7034 L1197.88 47.7034 L1197.88 40.9789 L1219.35 40.9789 L1219.35 66.9452 Q1214.61 70.3075 1208.9 72.0494 Q1203.19 73.7508 1196.71 73.7508 Q1182.53 73.7508 1174.51 65.4869 Q1166.53 57.1826 1166.53 42.3968 Q1166.53 27.5705 1174.51 19.3066 Q1182.53 11.0023 1196.71 11.0023 Q1202.62 11.0023 1207.93 12.4606 Q1213.28 13.9189 1217.77 16.7545 L1217.77 25.464 Q1213.24 21.6156 1208.13 19.6712 Q1203.03 17.7268 1197.4 17.7268 Q1186.3 17.7268 1180.71 23.9246 Q1175.16 30.1225 1175.16 42.3968 Q1175.16 54.6305 1180.71 60.8284 Q1186.3 67.0263 1197.4 67.0263 Q1201.73 67.0263 1205.13 66.2971 Q1208.54 65.5274 1211.25 63.9476 Z\" fill=\"#000000\" fill-rule=\"evenodd\" fill-opacity=\"1\" /><path clip-path=\"url(#clip640)\" d=\"M 0 0 M1227.17 27.2059 L1234.63 27.2059 L1234.63 72.576 L1227.17 72.576 L1227.17 27.2059 M1227.17 9.54393 L1234.63 9.54393 L1234.63 18.9825 L1227.17 18.9825 L1227.17 9.54393 Z\" fill=\"#000000\" fill-rule=\"evenodd\" fill-opacity=\"1\" /><path clip-path=\"url(#clip640)\" d=\"M 0 0 M1237.1 27.2059 L1245 27.2059 L1259.17 65.2844 L1273.35 27.2059 L1281.25 27.2059 L1264.24 72.576 L1254.11 72.576 L1237.1 27.2059 Z\" fill=\"#000000\" fill-rule=\"evenodd\" fill-opacity=\"1\" /><path clip-path=\"url(#clip640)\" d=\"M 0 0 M1327.88 48.0275 L1327.88 51.6733 L1293.61 51.6733 Q1294.09 59.3701 1298.22 63.421 Q1302.4 67.4314 1309.81 67.4314 Q1314.1 67.4314 1318.11 66.3781 Q1322.17 65.3249 1326.14 63.2184 L1326.14 70.267 Q1322.12 71.9684 1317.91 72.8596 Q1313.7 73.7508 1309.36 73.7508 Q1298.51 73.7508 1292.15 67.4314 Q1285.83 61.1119 1285.83 50.3365 Q1285.83 39.1965 1291.82 32.6746 Q1297.86 26.1121 1308.07 26.1121 Q1317.22 26.1121 1322.53 32.0264 Q1327.88 37.9003 1327.88 48.0275 M1320.42 45.84 Q1320.34 39.7232 1316.98 36.0774 Q1313.66 32.4315 1308.15 32.4315 Q1301.91 32.4315 1298.14 35.9558 Q1294.42 39.4801 1293.85 45.8805 L1320.42 45.84 Z\" fill=\"#000000\" fill-rule=\"evenodd\" fill-opacity=\"1\" /><path clip-path=\"url(#clip640)\" d=\"M 0 0 M1373.41 45.1919 L1373.41 72.576 L1365.96 72.576 L1365.96 45.4349 Q1365.96 38.994 1363.44 35.7938 Q1360.93 32.5936 1355.91 32.5936 Q1349.87 32.5936 1346.39 36.4419 Q1342.91 40.2903 1342.91 46.9338 L1342.91 72.576 L1335.41 72.576 L1335.41 27.2059 L1342.91 27.2059 L1342.91 34.2544 Q1345.58 30.163 1349.18 28.1376 Q1352.83 26.1121 1357.57 26.1121 Q1365.39 26.1121 1369.4 30.9732 Q1373.41 35.7938 1373.41 45.1919 Z\" fill=\"#000000\" fill-rule=\"evenodd\" fill-opacity=\"1\" /><path clip-path=\"url(#clip640)\" d=\"M 0 0 M1407.92 12.096 L1416.11 12.096 L1416.11 65.6895 L1445.56 65.6895 L1445.56 72.576 L1407.92 72.576 L1407.92 12.096 Z\" fill=\"#000000\" fill-rule=\"evenodd\" fill-opacity=\"1\" /><path clip-path=\"url(#clip640)\" d=\"M 0 0 M1469.5 32.4315 Q1463.5 32.4315 1460.02 37.1306 Q1456.53 41.7891 1456.53 49.9314 Q1456.53 58.0738 1459.98 62.7728 Q1463.46 67.4314 1469.5 67.4314 Q1475.45 67.4314 1478.94 62.7323 Q1482.42 58.0333 1482.42 49.9314 Q1482.42 41.8701 1478.94 37.1711 Q1475.45 32.4315 1469.5 32.4315 M1469.5 26.1121 Q1479.22 26.1121 1484.77 32.4315 Q1490.32 38.7509 1490.32 49.9314 Q1490.32 61.0714 1484.77 67.4314 Q1479.22 73.7508 1469.5 73.7508 Q1459.73 73.7508 1454.18 67.4314 Q1448.67 61.0714 1448.67 49.9314 Q1448.67 38.7509 1454.18 32.4315 Q1459.73 26.1121 1469.5 26.1121 Z\" fill=\"#000000\" fill-rule=\"evenodd\" fill-opacity=\"1\" /><path clip-path=\"url(#clip640)\" d=\"M 0 0 M1493.8 27.2059 L1501.26 27.2059 L1510.57 62.6108 L1519.85 27.2059 L1528.64 27.2059 L1537.96 62.6108 L1547.23 27.2059 L1554.69 27.2059 L1542.82 72.576 L1534.03 72.576 L1524.26 35.3887 L1514.46 72.576 L1505.67 72.576 L1493.8 27.2059 Z\" fill=\"#000000\" fill-rule=\"evenodd\" fill-opacity=\"1\" /><path clip-path=\"url(#clip640)\" d=\"M 0 0 M1589.2 12.096 L1597.38 12.096 L1597.38 72.576 L1589.2 72.576 L1589.2 12.096 Z\" fill=\"#000000\" fill-rule=\"evenodd\" fill-opacity=\"1\" /><path clip-path=\"url(#clip640)\" d=\"M 0 0 M1642.92 45.1919 L1642.92 72.576 L1635.46 72.576 L1635.46 45.4349 Q1635.46 38.994 1632.95 35.7938 Q1630.44 32.5936 1625.42 32.5936 Q1619.38 32.5936 1615.9 36.4419 Q1612.41 40.2903 1612.41 46.9338 L1612.41 72.576 L1604.92 72.576 L1604.92 27.2059 L1612.41 27.2059 L1612.41 34.2544 Q1615.09 30.163 1618.69 28.1376 Q1622.34 26.1121 1627.08 26.1121 Q1634.89 26.1121 1638.91 30.9732 Q1642.92 35.7938 1642.92 45.1919 Z\" fill=\"#000000\" fill-rule=\"evenodd\" fill-opacity=\"1\" /><path clip-path=\"url(#clip640)\" d=\"M 0 0 M1650.73 27.2059 L1658.19 27.2059 L1658.19 72.576 L1650.73 72.576 L1650.73 27.2059 M1650.73 9.54393 L1658.19 9.54393 L1658.19 18.9825 L1650.73 18.9825 L1650.73 9.54393 Z\" fill=\"#000000\" fill-rule=\"evenodd\" fill-opacity=\"1\" /><path clip-path=\"url(#clip640)\" d=\"M 0 0 M1673.38 14.324 L1673.38 27.2059 L1688.73 27.2059 L1688.73 32.9987 L1673.38 32.9987 L1673.38 57.6282 Q1673.38 63.1779 1674.88 64.7578 Q1676.42 66.3376 1681.08 66.3376 L1688.73 66.3376 L1688.73 72.576 L1681.08 72.576 Q1672.45 72.576 1669.17 69.3758 Q1665.88 66.1351 1665.88 57.6282 L1665.88 32.9987 L1660.42 32.9987 L1660.42 27.2059 L1665.88 27.2059 L1665.88 14.324 L1673.38 14.324 Z\" fill=\"#000000\" fill-rule=\"evenodd\" fill-opacity=\"1\" /><path clip-path=\"url(#clip640)\" d=\"M 0 0 M1696.55 27.2059 L1704 27.2059 L1704 72.576 L1696.55 72.576 L1696.55 27.2059 M1696.55 9.54393 L1704 9.54393 L1704 18.9825 L1696.55 18.9825 L1696.55 9.54393 Z\" fill=\"#000000\" fill-rule=\"evenodd\" fill-opacity=\"1\" /><path clip-path=\"url(#clip640)\" d=\"M 0 0 M1732.44 49.7694 Q1723.41 49.7694 1719.92 51.8354 Q1716.44 53.9013 1716.44 58.8839 Q1716.44 62.8538 1719.03 65.2034 Q1721.67 67.5124 1726.16 67.5124 Q1732.36 67.5124 1736.09 63.1374 Q1739.85 58.7219 1739.85 51.4303 L1739.85 49.7694 L1732.44 49.7694 M1747.31 46.6907 L1747.31 72.576 L1739.85 72.576 L1739.85 65.6895 Q1737.3 69.8214 1733.49 71.8063 Q1729.69 73.7508 1724.18 73.7508 Q1717.21 73.7508 1713.08 69.8619 Q1708.99 65.9325 1708.99 59.3701 Q1708.99 51.7138 1714.09 47.825 Q1719.23 43.9361 1729.4 43.9361 L1739.85 43.9361 L1739.85 43.2069 Q1739.85 38.0623 1736.45 35.2672 Q1733.09 32.4315 1726.97 32.4315 Q1723.08 32.4315 1719.4 33.3632 Q1715.71 34.295 1712.31 36.1584 L1712.31 29.2718 Q1716.4 27.692 1720.25 26.9223 Q1724.1 26.1121 1727.74 26.1121 Q1737.59 26.1121 1742.45 31.2163 Q1747.31 36.3204 1747.31 46.6907 Z\" fill=\"#000000\" fill-rule=\"evenodd\" fill-opacity=\"1\" /><path clip-path=\"url(#clip640)\" d=\"M 0 0 M1755.13 9.54393 L1762.58 9.54393 L1762.58 72.576 L1755.13 72.576 L1755.13 9.54393 Z\" fill=\"#000000\" fill-rule=\"evenodd\" fill-opacity=\"1\" /><path clip-path=\"url(#clip640)\" d=\"M 0 0 M1796.49 9.54393 L1803.98 9.54393 L1803.98 46.7717 L1826.22 27.2059 L1835.74 27.2059 L1811.68 48.4326 L1836.75 72.576 L1827.03 72.576 L1803.98 50.4176 L1803.98 72.576 L1796.49 72.576 L1796.49 9.54393 Z\" fill=\"#000000\" fill-rule=\"evenodd\" fill-opacity=\"1\" /><polyline clip-path=\"url(#clip642)\" style=\"stroke:#009af9; stroke-width:12; stroke-opacity:1; fill:none\" points=\"\n",
       "  210.409,981.194 231.418,914.035 252.428,893.053 273.438,830.19 294.447,812.951 315.457,796.393 336.466,737.616 357.476,723.965 378.485,710.761 399.495,655.127 \n",
       "  420.505,644.275 441.514,633.719 462.524,623.446 483.533,570.59 504.543,562.225 525.553,554.045 546.562,503.19 567.572,496.656 588.581,490.239 609.591,483.935 \n",
       "  630.6,477.744 651.61,428.806 672.62,424.016 693.629,419.292 714.639,414.633 735.648,410.038 756.658,362.652 777.668,359.293 798.677,355.968 819.687,352.677 \n",
       "  840.696,349.419 861.706,346.194 882.715,343.001 903.725,339.839 924.735,293.855 945.744,291.786 966.754,289.73 987.763,287.688 1008.77,285.66 1029.78,283.644 \n",
       "  1050.79,281.642 1071.8,279.653 1092.81,277.677 1113.82,275.713 1134.83,273.763 1155.84,228.971 1176.85,228.007 1197.86,227.046 1218.87,226.087 1239.88,225.133 \n",
       "  1260.89,224.181 1281.9,223.232 1302.91,222.286 1323.92,221.344 1344.93,220.404 1365.94,219.467 1386.95,218.534 1407.95,217.603 1428.96,216.675 1449.97,215.751 \n",
       "  1470.98,214.829 1491.99,213.91 1513,212.994 1534.01,212.081 1555.02,211.171 1576.03,210.264 1597.04,209.36 1618.05,208.459 1639.06,207.56 1660.07,206.665 \n",
       "  1681.08,205.772 1702.09,204.882 1723.1,203.995 1744.11,160.256 1765.12,160.256 1786.13,160.256 1807.14,160.256 1828.15,160.256 1849.16,160.256 1870.17,160.256 \n",
       "  1891.18,160.256 1912.18,160.256 1933.19,160.256 1954.2,160.256 1975.21,160.256 1996.22,160.256 2017.23,160.256 2038.24,160.256 2059.25,160.256 2080.26,160.256 \n",
       "  2101.27,160.256 2122.28,160.256 2143.29,160.256 2164.3,160.256 2185.31,160.256 2206.32,160.256 2227.33,160.256 2248.34,160.256 2269.35,160.256 2290.36,160.256 \n",
       "  \n",
       "  \"/>\n",
       "<polyline clip-path=\"url(#clip642)\" style=\"stroke:#e26f46; stroke-width:12; stroke-opacity:1; fill:none\" points=\"\n",
       "  210.409,1386.4 231.418,1332.33 252.428,1283.18 273.438,1234.03 294.447,1189.79 315.457,1145.56 336.466,1101.32 357.476,1062 378.485,1022.68 399.495,983.357 \n",
       "  420.505,948.952 441.514,914.546 462.524,880.14 483.533,845.734 504.543,816.244 525.553,786.753 546.562,757.263 567.572,732.687 588.581,708.112 609.591,683.536 \n",
       "  630.6,658.961 651.61,634.385 672.62,614.725 693.629,595.064 714.639,575.404 735.648,555.743 756.658,536.083 777.668,521.338 798.677,506.592 819.687,491.847 \n",
       "  840.696,477.102 861.706,462.356 882.715,447.611 903.725,432.866 924.735,418.121 945.744,408.29 966.754,398.46 987.763,388.63 1008.77,378.8 1029.78,368.969 \n",
       "  1050.79,359.139 1071.8,349.309 1092.81,339.479 1113.82,329.649 1134.83,319.818 1155.84,309.988 1176.85,305.073 1197.86,300.158 1218.87,295.243 1239.88,290.328 \n",
       "  1260.89,285.413 1281.9,280.498 1302.91,275.583 1323.92,270.667 1344.93,265.752 1365.94,260.837 1386.95,255.922 1407.95,251.007 1428.96,246.092 1449.97,241.177 \n",
       "  1470.98,236.262 1491.99,231.347 1513,226.432 1534.01,221.516 1555.02,216.601 1576.03,211.686 1597.04,206.771 1618.05,201.856 1639.06,196.941 1660.07,192.026 \n",
       "  1681.08,187.111 1702.09,182.196 1723.1,177.281 1744.11,172.365 1765.12,172.365 1786.13,172.365 1807.14,172.365 1828.15,172.365 1849.16,172.365 1870.17,172.365 \n",
       "  1891.18,172.365 1912.18,172.365 1933.19,172.365 1954.2,172.365 1975.21,172.365 1996.22,172.365 2017.23,172.365 2038.24,172.365 2059.25,172.365 2080.26,172.365 \n",
       "  2101.27,172.365 2122.28,172.365 2143.29,172.365 2164.3,172.365 2185.31,172.365 2206.32,172.365 2227.33,172.365 2248.34,172.365 2269.35,172.365 2290.36,172.365 \n",
       "  \n",
       "  \"/>\n",
       "<path clip-path=\"url(#clip640)\" d=\"\n",
       "M1757.6 348.236 L2279.26 348.236 L2279.26 166.796 L1757.6 166.796  Z\n",
       "  \" fill=\"#ffffff\" fill-rule=\"evenodd\" fill-opacity=\"1\"/>\n",
       "<polyline clip-path=\"url(#clip640)\" style=\"stroke:#000000; stroke-width:4; stroke-opacity:1; fill:none\" points=\"\n",
       "  1757.6,348.236 2279.26,348.236 2279.26,166.796 1757.6,166.796 1757.6,348.236 \n",
       "  \"/>\n",
       "<polyline clip-path=\"url(#clip640)\" style=\"stroke:#009af9; stroke-width:4; stroke-opacity:1; fill:none\" points=\"\n",
       "  1782.1,227.276 1929.08,227.276 \n",
       "  \"/>\n",
       "<path clip-path=\"url(#clip640)\" d=\"M 0 0 M1981.45 212.658 L1981.45 217.588 Q1979.09 215.389 1976.41 214.301 Q1973.74 213.213 1970.73 213.213 Q1964.81 213.213 1961.66 216.848 Q1958.51 220.459 1958.51 227.31 Q1958.51 234.139 1961.66 237.773 Q1964.81 241.384 1970.73 241.384 Q1973.74 241.384 1976.41 240.296 Q1979.09 239.209 1981.45 237.009 L1981.45 241.894 Q1979 243.56 1976.24 244.394 Q1973.51 245.227 1970.46 245.227 Q1962.61 245.227 1958.1 240.435 Q1953.58 235.621 1953.58 227.31 Q1953.58 218.977 1958.1 214.186 Q1962.61 209.371 1970.46 209.371 Q1973.56 209.371 1976.29 210.204 Q1979.04 211.014 1981.45 212.658 Z\" fill=\"#000000\" fill-rule=\"evenodd\" fill-opacity=\"1\" /><path clip-path=\"url(#clip640)\" d=\"M 0 0 M1995.97 221.616 Q1992.54 221.616 1990.55 224.301 Q1988.56 226.963 1988.56 231.616 Q1988.56 236.269 1990.53 238.954 Q1992.52 241.616 1995.97 241.616 Q1999.37 241.616 2001.36 238.931 Q2003.35 236.246 2003.35 231.616 Q2003.35 227.01 2001.36 224.324 Q1999.37 221.616 1995.97 221.616 M1995.97 218.005 Q2001.52 218.005 2004.69 221.616 Q2007.86 225.227 2007.86 231.616 Q2007.86 237.982 2004.69 241.616 Q2001.52 245.227 1995.97 245.227 Q1990.39 245.227 1987.22 241.616 Q1984.07 237.982 1984.07 231.616 Q1984.07 225.227 1987.22 221.616 Q1990.39 218.005 1995.97 218.005 Z\" fill=\"#000000\" fill-rule=\"evenodd\" fill-opacity=\"1\" /><path clip-path=\"url(#clip640)\" d=\"M 0 0 M2033.88 228.908 L2033.88 244.556 L2029.62 244.556 L2029.62 229.047 Q2029.62 225.366 2028.19 223.537 Q2026.75 221.709 2023.88 221.709 Q2020.43 221.709 2018.44 223.908 Q2016.45 226.107 2016.45 229.903 L2016.45 244.556 L2012.17 244.556 L2012.17 218.63 L2016.45 218.63 L2016.45 222.658 Q2017.98 220.32 2020.04 219.162 Q2022.12 218.005 2024.83 218.005 Q2029.3 218.005 2031.59 220.783 Q2033.88 223.537 2033.88 228.908 Z\" fill=\"#000000\" fill-rule=\"evenodd\" fill-opacity=\"1\" /><path clip-path=\"url(#clip640)\" d=\"M 0 0 M2054.88 219.394 L2054.88 223.422 Q2053.07 222.496 2051.13 222.033 Q2049.18 221.57 2047.1 221.57 Q2043.93 221.57 2042.33 222.542 Q2040.76 223.514 2040.76 225.459 Q2040.76 226.94 2041.89 227.797 Q2043.03 228.63 2046.45 229.394 L2047.91 229.718 Q2052.45 230.69 2054.35 232.472 Q2056.27 234.232 2056.27 237.403 Q2056.27 241.014 2053.4 243.121 Q2050.55 245.227 2045.55 245.227 Q2043.47 245.227 2041.2 244.81 Q2038.95 244.417 2036.45 243.607 L2036.45 239.209 Q2038.81 240.435 2041.1 241.06 Q2043.4 241.662 2045.64 241.662 Q2048.65 241.662 2050.27 240.644 Q2051.89 239.602 2051.89 237.727 Q2051.89 235.991 2050.71 235.065 Q2049.55 234.139 2045.6 233.283 L2044.11 232.935 Q2040.16 232.102 2038.4 230.389 Q2036.64 228.653 2036.64 225.644 Q2036.64 221.986 2039.23 219.996 Q2041.82 218.005 2046.59 218.005 Q2048.95 218.005 2051.03 218.352 Q2053.12 218.699 2054.88 219.394 Z\" fill=\"#000000\" fill-rule=\"evenodd\" fill-opacity=\"1\" /><path clip-path=\"url(#clip640)\" d=\"M 0 0 M2060.29 234.324 L2060.29 218.63 L2064.55 218.63 L2064.55 234.162 Q2064.55 237.843 2065.99 239.695 Q2067.42 241.523 2070.29 241.523 Q2073.74 241.523 2075.73 239.324 Q2077.75 237.125 2077.75 233.329 L2077.75 218.63 L2082.01 218.63 L2082.01 244.556 L2077.75 244.556 L2077.75 240.574 Q2076.2 242.935 2074.14 244.093 Q2072.1 245.227 2069.39 245.227 Q2064.92 245.227 2062.61 242.449 Q2060.29 239.671 2060.29 234.324 M2071.01 218.005 L2071.01 218.005 Z\" fill=\"#000000\" fill-rule=\"evenodd\" fill-opacity=\"1\" /><path clip-path=\"url(#clip640)\" d=\"M 0 0 M2106.66 223.607 Q2108.26 220.736 2110.48 219.371 Q2112.7 218.005 2115.71 218.005 Q2119.76 218.005 2121.96 220.852 Q2124.16 223.676 2124.16 228.908 L2124.16 244.556 L2119.88 244.556 L2119.88 229.047 Q2119.88 225.32 2118.56 223.514 Q2117.24 221.709 2114.53 221.709 Q2111.22 221.709 2109.3 223.908 Q2107.38 226.107 2107.38 229.903 L2107.38 244.556 L2103.09 244.556 L2103.09 229.047 Q2103.09 225.297 2101.78 223.514 Q2100.46 221.709 2097.7 221.709 Q2094.44 221.709 2092.52 223.931 Q2090.59 226.13 2090.59 229.903 L2090.59 244.556 L2086.31 244.556 L2086.31 218.63 L2090.59 218.63 L2090.59 222.658 Q2092.05 220.273 2094.09 219.139 Q2096.13 218.005 2098.93 218.005 Q2101.75 218.005 2103.72 219.44 Q2105.71 220.875 2106.66 223.607 Z\" fill=\"#000000\" fill-rule=\"evenodd\" fill-opacity=\"1\" /><path clip-path=\"url(#clip640)\" d=\"M 0 0 M2132.75 240.667 L2132.75 254.417 L2128.47 254.417 L2128.47 218.63 L2132.75 218.63 L2132.75 222.565 Q2134.09 220.25 2136.13 219.139 Q2138.19 218.005 2141.03 218.005 Q2145.76 218.005 2148.7 221.755 Q2151.66 225.505 2151.66 231.616 Q2151.66 237.727 2148.7 241.477 Q2145.76 245.227 2141.03 245.227 Q2138.19 245.227 2136.13 244.116 Q2134.09 242.982 2132.75 240.667 M2147.24 231.616 Q2147.24 226.917 2145.29 224.255 Q2143.37 221.57 2139.99 221.57 Q2136.61 221.57 2134.67 224.255 Q2132.75 226.917 2132.75 231.616 Q2132.75 236.315 2134.67 239 Q2136.61 241.662 2139.99 241.662 Q2143.37 241.662 2145.29 239 Q2147.24 236.315 2147.24 231.616 Z\" fill=\"#000000\" fill-rule=\"evenodd\" fill-opacity=\"1\" /><path clip-path=\"url(#clip640)\" d=\"M 0 0 M2160.34 211.269 L2160.34 218.63 L2169.11 218.63 L2169.11 221.94 L2160.34 221.94 L2160.34 236.014 Q2160.34 239.185 2161.2 240.088 Q2162.08 240.991 2164.74 240.991 L2169.11 240.991 L2169.11 244.556 L2164.74 244.556 Q2159.81 244.556 2157.93 242.727 Q2156.06 240.875 2156.06 236.014 L2156.06 221.94 L2152.93 221.94 L2152.93 218.63 L2156.06 218.63 L2156.06 211.269 L2160.34 211.269 Z\" fill=\"#000000\" fill-rule=\"evenodd\" fill-opacity=\"1\" /><path clip-path=\"url(#clip640)\" d=\"M 0 0 M2173.58 218.63 L2177.84 218.63 L2177.84 244.556 L2173.58 244.556 L2173.58 218.63 M2173.58 208.537 L2177.84 208.537 L2177.84 213.931 L2173.58 213.931 L2173.58 208.537 Z\" fill=\"#000000\" fill-rule=\"evenodd\" fill-opacity=\"1\" /><path clip-path=\"url(#clip640)\" d=\"M 0 0 M2192.35 221.616 Q2188.93 221.616 2186.94 224.301 Q2184.95 226.963 2184.95 231.616 Q2184.95 236.269 2186.91 238.954 Q2188.9 241.616 2192.35 241.616 Q2195.76 241.616 2197.75 238.931 Q2199.74 236.246 2199.74 231.616 Q2199.74 227.01 2197.75 224.324 Q2195.76 221.616 2192.35 221.616 M2192.35 218.005 Q2197.91 218.005 2201.08 221.616 Q2204.25 225.227 2204.25 231.616 Q2204.25 237.982 2201.08 241.616 Q2197.91 245.227 2192.35 245.227 Q2186.77 245.227 2183.6 241.616 Q2180.46 237.982 2180.46 231.616 Q2180.46 225.227 2183.6 221.616 Q2186.77 218.005 2192.35 218.005 Z\" fill=\"#000000\" fill-rule=\"evenodd\" fill-opacity=\"1\" /><path clip-path=\"url(#clip640)\" d=\"M 0 0 M2230.27 228.908 L2230.27 244.556 L2226.01 244.556 L2226.01 229.047 Q2226.01 225.366 2224.58 223.537 Q2223.14 221.709 2220.27 221.709 Q2216.82 221.709 2214.83 223.908 Q2212.84 226.107 2212.84 229.903 L2212.84 244.556 L2208.56 244.556 L2208.56 218.63 L2212.84 218.63 L2212.84 222.658 Q2214.37 220.32 2216.43 219.162 Q2218.51 218.005 2221.22 218.005 Q2225.69 218.005 2227.98 220.783 Q2230.27 223.537 2230.27 228.908 Z\" fill=\"#000000\" fill-rule=\"evenodd\" fill-opacity=\"1\" /><polyline clip-path=\"url(#clip640)\" style=\"stroke:#e26f46; stroke-width:4; stroke-opacity:1; fill:none\" points=\"\n",
       "  1782.1,287.756 1929.08,287.756 \n",
       "  \"/>\n",
       "<path clip-path=\"url(#clip640)\" d=\"M 0 0 M1981.45 273.138 L1981.45 278.068 Q1979.09 275.869 1976.41 274.781 Q1973.74 273.693 1970.73 273.693 Q1964.81 273.693 1961.66 277.328 Q1958.51 280.939 1958.51 287.79 Q1958.51 294.619 1961.66 298.253 Q1964.81 301.864 1970.73 301.864 Q1973.74 301.864 1976.41 300.776 Q1979.09 299.689 1981.45 297.489 L1981.45 302.374 Q1979 304.04 1976.24 304.874 Q1973.51 305.707 1970.46 305.707 Q1962.61 305.707 1958.1 300.915 Q1953.58 296.101 1953.58 287.79 Q1953.58 279.457 1958.1 274.666 Q1962.61 269.851 1970.46 269.851 Q1973.56 269.851 1976.29 270.684 Q1979.04 271.494 1981.45 273.138 Z\" fill=\"#000000\" fill-rule=\"evenodd\" fill-opacity=\"1\" /><path clip-path=\"url(#clip640)\" d=\"M 0 0 M1997.7 292.003 Q1992.54 292.003 1990.55 293.184 Q1988.56 294.364 1988.56 297.212 Q1988.56 299.48 1990.04 300.823 Q1991.54 302.142 1994.11 302.142 Q1997.66 302.142 1999.79 299.642 Q2001.94 297.119 2001.94 292.952 L2001.94 292.003 L1997.7 292.003 M2006.2 290.244 L2006.2 305.036 L2001.94 305.036 L2001.94 301.101 Q2000.48 303.462 1998.3 304.596 Q1996.13 305.707 1992.98 305.707 Q1989 305.707 1986.64 303.485 Q1984.3 301.239 1984.3 297.489 Q1984.3 293.114 1987.22 290.892 Q1990.16 288.67 1995.97 288.67 L2001.94 288.67 L2001.94 288.253 Q2001.94 285.314 1999.99 283.716 Q1998.07 282.096 1994.58 282.096 Q1992.35 282.096 1990.25 282.628 Q1988.14 283.161 1986.2 284.226 L1986.2 280.29 Q1988.54 279.388 1990.73 278.948 Q1992.93 278.485 1995.02 278.485 Q2000.64 278.485 2003.42 281.402 Q2006.2 284.318 2006.2 290.244 Z\" fill=\"#000000\" fill-rule=\"evenodd\" fill-opacity=\"1\" /><path clip-path=\"url(#clip640)\" d=\"M 0 0 M2014.79 301.147 L2014.79 314.897 L2010.5 314.897 L2010.5 279.11 L2014.79 279.11 L2014.79 283.045 Q2016.13 280.73 2018.16 279.619 Q2020.22 278.485 2023.07 278.485 Q2027.79 278.485 2030.73 282.235 Q2033.7 285.985 2033.7 292.096 Q2033.7 298.207 2030.73 301.957 Q2027.79 305.707 2023.07 305.707 Q2020.22 305.707 2018.16 304.596 Q2016.13 303.462 2014.79 301.147 M2029.28 292.096 Q2029.28 287.397 2027.33 284.735 Q2025.41 282.05 2022.03 282.05 Q2018.65 282.05 2016.71 284.735 Q2014.79 287.397 2014.79 292.096 Q2014.79 296.795 2016.71 299.48 Q2018.65 302.142 2022.03 302.142 Q2025.41 302.142 2027.33 299.48 Q2029.28 296.795 2029.28 292.096 Z\" fill=\"#000000\" fill-rule=\"evenodd\" fill-opacity=\"1\" /><path clip-path=\"url(#clip640)\" d=\"M 0 0 M2038.16 279.11 L2042.42 279.11 L2042.42 305.036 L2038.16 305.036 L2038.16 279.11 M2038.16 269.017 L2042.42 269.017 L2042.42 274.411 L2038.16 274.411 L2038.16 269.017 Z\" fill=\"#000000\" fill-rule=\"evenodd\" fill-opacity=\"1\" /><path clip-path=\"url(#clip640)\" d=\"M 0 0 M2051.1 271.749 L2051.1 279.11 L2059.88 279.11 L2059.88 282.42 L2051.1 282.42 L2051.1 296.494 Q2051.1 299.665 2051.96 300.568 Q2052.84 301.471 2055.5 301.471 L2059.88 301.471 L2059.88 305.036 L2055.5 305.036 Q2050.57 305.036 2048.7 303.207 Q2046.82 301.355 2046.82 296.494 L2046.82 282.42 L2043.7 282.42 L2043.7 279.11 L2046.82 279.11 L2046.82 271.749 L2051.1 271.749 Z\" fill=\"#000000\" fill-rule=\"evenodd\" fill-opacity=\"1\" /><path clip-path=\"url(#clip640)\" d=\"M 0 0 M2076.13 292.003 Q2070.97 292.003 2068.97 293.184 Q2066.98 294.364 2066.98 297.212 Q2066.98 299.48 2068.47 300.823 Q2069.97 302.142 2072.54 302.142 Q2076.08 302.142 2078.21 299.642 Q2080.36 297.119 2080.36 292.952 L2080.36 292.003 L2076.13 292.003 M2084.62 290.244 L2084.62 305.036 L2080.36 305.036 L2080.36 301.101 Q2078.91 303.462 2076.73 304.596 Q2074.55 305.707 2071.41 305.707 Q2067.42 305.707 2065.06 303.485 Q2062.72 301.239 2062.72 297.489 Q2062.72 293.114 2065.64 290.892 Q2068.58 288.67 2074.39 288.67 L2080.36 288.67 L2080.36 288.253 Q2080.36 285.314 2078.42 283.716 Q2076.5 282.096 2073 282.096 Q2070.78 282.096 2068.67 282.628 Q2066.57 283.161 2064.62 284.226 L2064.62 280.29 Q2066.96 279.388 2069.16 278.948 Q2071.36 278.485 2073.44 278.485 Q2079.07 278.485 2081.84 281.402 Q2084.62 284.318 2084.62 290.244 Z\" fill=\"#000000\" fill-rule=\"evenodd\" fill-opacity=\"1\" /><path clip-path=\"url(#clip640)\" d=\"M 0 0 M2089.09 269.017 L2093.35 269.017 L2093.35 305.036 L2089.09 305.036 L2089.09 269.017 Z\" fill=\"#000000\" fill-rule=\"evenodd\" fill-opacity=\"1\" /></svg>\n"
      ]
     },
     "execution_count": 82,
     "metadata": {},
     "output_type": "execute_result"
    }
   ],
   "source": [
    "T = 100\n",
    "k_path, c_path, grid_path = growthBellmanPath(kgrid, n_pol, k_pol, c_pol, 1, T)\n",
    "time = 1:T\n",
    "plot(time, c_path./c̄, label = \"Consumption\", lw=3)\n",
    "plot!(time, k_path./k̄, label = \"Capital\", lw =3, title = \"Optimal Path Given Low Initial k\")\n",
    "xlabel!(\"Time\")"
   ]
  },
  {
   "cell_type": "markdown",
   "metadata": {},
   "source": [
    "Notice that a low initial capital implies a low initial consumption level.\n",
    "\n",
    "Over time, both variable seem to grow uniformly and ultimately convergence to their respective steady states."
   ]
  },
  {
   "cell_type": "markdown",
   "metadata": {},
   "source": [
    "Next, we plot the paths of $k$ and $c$ once again, but this time given the highest possible value for $k_0$ from our grid."
   ]
  },
  {
   "cell_type": "code",
   "execution_count": 88,
   "metadata": {
    "ExecuteTime": {
     "end_time": "2021-05-02T14:46:36.360000-07:00",
     "start_time": "2021-05-02T21:46:36.317Z"
    }
   },
   "outputs": [
    {
     "data": {
      "image/svg+xml": [
       "<?xml version=\"1.0\" encoding=\"utf-8\"?>\n",
       "<svg xmlns=\"http://www.w3.org/2000/svg\" xmlns:xlink=\"http://www.w3.org/1999/xlink\" width=\"600\" height=\"400\" viewBox=\"0 0 2400 1600\">\n",
       "<defs>\n",
       "  <clipPath id=\"clip680\">\n",
       "    <rect x=\"0\" y=\"0\" width=\"2400\" height=\"1600\"/>\n",
       "  </clipPath>\n",
       "</defs>\n",
       "<path clip-path=\"url(#clip680)\" d=\"\n",
       "M0 1600 L2400 1600 L2400 0 L0 0  Z\n",
       "  \" fill=\"#ffffff\" fill-rule=\"evenodd\" fill-opacity=\"1\"/>\n",
       "<defs>\n",
       "  <clipPath id=\"clip681\">\n",
       "    <rect x=\"480\" y=\"0\" width=\"1681\" height=\"1600\"/>\n",
       "  </clipPath>\n",
       "</defs>\n",
       "<path clip-path=\"url(#clip680)\" d=\"\n",
       "M145.024 1423.18 L2352.76 1423.18 L2352.76 123.472 L145.024 123.472  Z\n",
       "  \" fill=\"#ffffff\" fill-rule=\"evenodd\" fill-opacity=\"1\"/>\n",
       "<defs>\n",
       "  <clipPath id=\"clip682\">\n",
       "    <rect x=\"145\" y=\"123\" width=\"2209\" height=\"1301\"/>\n",
       "  </clipPath>\n",
       "</defs>\n",
       "<polyline clip-path=\"url(#clip682)\" style=\"stroke:#000000; stroke-width:2; stroke-opacity:0.1; fill:none\" points=\"\n",
       "  186.469,1423.18 186.469,123.472 \n",
       "  \"/>\n",
       "<polyline clip-path=\"url(#clip682)\" style=\"stroke:#000000; stroke-width:2; stroke-opacity:0.1; fill:none\" points=\"\n",
       "  712.42,1423.18 712.42,123.472 \n",
       "  \"/>\n",
       "<polyline clip-path=\"url(#clip682)\" style=\"stroke:#000000; stroke-width:2; stroke-opacity:0.1; fill:none\" points=\"\n",
       "  1238.37,1423.18 1238.37,123.472 \n",
       "  \"/>\n",
       "<polyline clip-path=\"url(#clip682)\" style=\"stroke:#000000; stroke-width:2; stroke-opacity:0.1; fill:none\" points=\"\n",
       "  1764.32,1423.18 1764.32,123.472 \n",
       "  \"/>\n",
       "<polyline clip-path=\"url(#clip682)\" style=\"stroke:#000000; stroke-width:2; stroke-opacity:0.1; fill:none\" points=\"\n",
       "  2290.27,1423.18 2290.27,123.472 \n",
       "  \"/>\n",
       "<polyline clip-path=\"url(#clip680)\" style=\"stroke:#000000; stroke-width:4; stroke-opacity:1; fill:none\" points=\"\n",
       "  145.024,1423.18 2352.76,1423.18 \n",
       "  \"/>\n",
       "<polyline clip-path=\"url(#clip680)\" style=\"stroke:#000000; stroke-width:4; stroke-opacity:1; fill:none\" points=\"\n",
       "  186.469,1423.18 186.469,1407.58 \n",
       "  \"/>\n",
       "<polyline clip-path=\"url(#clip680)\" style=\"stroke:#000000; stroke-width:4; stroke-opacity:1; fill:none\" points=\"\n",
       "  712.42,1423.18 712.42,1407.58 \n",
       "  \"/>\n",
       "<polyline clip-path=\"url(#clip680)\" style=\"stroke:#000000; stroke-width:4; stroke-opacity:1; fill:none\" points=\"\n",
       "  1238.37,1423.18 1238.37,1407.58 \n",
       "  \"/>\n",
       "<polyline clip-path=\"url(#clip680)\" style=\"stroke:#000000; stroke-width:4; stroke-opacity:1; fill:none\" points=\"\n",
       "  1764.32,1423.18 1764.32,1407.58 \n",
       "  \"/>\n",
       "<polyline clip-path=\"url(#clip680)\" style=\"stroke:#000000; stroke-width:4; stroke-opacity:1; fill:none\" points=\"\n",
       "  2290.27,1423.18 2290.27,1407.58 \n",
       "  \"/>\n",
       "<path clip-path=\"url(#clip680)\" d=\"M 0 0 M186.469 1452.37 Q182.858 1452.37 181.029 1455.94 Q179.224 1459.48 179.224 1466.61 Q179.224 1473.71 181.029 1477.28 Q182.858 1480.82 186.469 1480.82 Q190.103 1480.82 191.909 1477.28 Q193.738 1473.71 193.738 1466.61 Q193.738 1459.48 191.909 1455.94 Q190.103 1452.37 186.469 1452.37 M186.469 1448.67 Q192.279 1448.67 195.335 1453.27 Q198.414 1457.86 198.414 1466.61 Q198.414 1475.33 195.335 1479.94 Q192.279 1484.52 186.469 1484.52 Q180.659 1484.52 177.58 1479.94 Q174.525 1475.33 174.525 1466.61 Q174.525 1457.86 177.58 1453.27 Q180.659 1448.67 186.469 1448.67 Z\" fill=\"#000000\" fill-rule=\"evenodd\" fill-opacity=\"1\" /><path clip-path=\"url(#clip680)\" d=\"M 0 0 M694.064 1479.92 L710.383 1479.92 L710.383 1483.85 L688.439 1483.85 L688.439 1479.92 Q691.101 1477.16 695.684 1472.53 Q700.291 1467.88 701.471 1466.54 Q703.716 1464.01 704.596 1462.28 Q705.499 1460.52 705.499 1458.83 Q705.499 1456.07 703.554 1454.34 Q701.633 1452.6 698.531 1452.6 Q696.332 1452.6 693.879 1453.37 Q691.448 1454.13 688.67 1455.68 L688.67 1450.96 Q691.494 1449.82 693.948 1449.25 Q696.402 1448.67 698.439 1448.67 Q703.809 1448.67 707.003 1451.35 Q710.198 1454.04 710.198 1458.53 Q710.198 1460.66 709.388 1462.58 Q708.601 1464.48 706.494 1467.07 Q705.916 1467.74 702.814 1470.96 Q699.712 1474.15 694.064 1479.92 Z\" fill=\"#000000\" fill-rule=\"evenodd\" fill-opacity=\"1\" /><path clip-path=\"url(#clip680)\" d=\"M 0 0 M715.499 1449.29 L733.855 1449.29 L733.855 1453.23 L719.781 1453.23 L719.781 1461.7 Q720.8 1461.35 721.818 1461.19 Q722.837 1461 723.855 1461 Q729.642 1461 733.022 1464.18 Q736.401 1467.35 736.401 1472.76 Q736.401 1478.34 732.929 1481.44 Q729.457 1484.52 723.138 1484.52 Q720.962 1484.52 718.693 1484.15 Q716.448 1483.78 714.04 1483.04 L714.04 1478.34 Q716.124 1479.48 718.346 1480.03 Q720.568 1480.59 723.045 1480.59 Q727.05 1480.59 729.388 1478.48 Q731.726 1476.38 731.726 1472.76 Q731.726 1469.15 729.388 1467.05 Q727.05 1464.94 723.045 1464.94 Q721.17 1464.94 719.295 1465.36 Q717.443 1465.77 715.499 1466.65 L715.499 1449.29 Z\" fill=\"#000000\" fill-rule=\"evenodd\" fill-opacity=\"1\" /><path clip-path=\"url(#clip680)\" d=\"M 0 0 M1215.14 1449.29 L1233.5 1449.29 L1233.5 1453.23 L1219.42 1453.23 L1219.42 1461.7 Q1220.44 1461.35 1221.46 1461.19 Q1222.48 1461 1223.5 1461 Q1229.29 1461 1232.67 1464.18 Q1236.04 1467.35 1236.04 1472.76 Q1236.04 1478.34 1232.57 1481.44 Q1229.1 1484.52 1222.78 1484.52 Q1220.6 1484.52 1218.34 1484.15 Q1216.09 1483.78 1213.68 1483.04 L1213.68 1478.34 Q1215.77 1479.48 1217.99 1480.03 Q1220.21 1480.59 1222.69 1480.59 Q1226.69 1480.59 1229.03 1478.48 Q1231.37 1476.38 1231.37 1472.76 Q1231.37 1469.15 1229.03 1467.05 Q1226.69 1464.94 1222.69 1464.94 Q1220.81 1464.94 1218.94 1465.36 Q1217.09 1465.77 1215.14 1466.65 L1215.14 1449.29 Z\" fill=\"#000000\" fill-rule=\"evenodd\" fill-opacity=\"1\" /><path clip-path=\"url(#clip680)\" d=\"M 0 0 M1251.11 1452.37 Q1247.5 1452.37 1245.67 1455.94 Q1243.87 1459.48 1243.87 1466.61 Q1243.87 1473.71 1245.67 1477.28 Q1247.5 1480.82 1251.11 1480.82 Q1254.75 1480.82 1256.55 1477.28 Q1258.38 1473.71 1258.38 1466.61 Q1258.38 1459.48 1256.55 1455.94 Q1254.75 1452.37 1251.11 1452.37 M1251.11 1448.67 Q1256.92 1448.67 1259.98 1453.27 Q1263.06 1457.86 1263.06 1466.61 Q1263.06 1475.33 1259.98 1479.94 Q1256.92 1484.52 1251.11 1484.52 Q1245.3 1484.52 1242.23 1479.94 Q1239.17 1475.33 1239.17 1466.61 Q1239.17 1457.86 1242.23 1453.27 Q1245.3 1448.67 1251.11 1448.67 Z\" fill=\"#000000\" fill-rule=\"evenodd\" fill-opacity=\"1\" /><path clip-path=\"url(#clip680)\" d=\"M 0 0 M1740.2 1449.29 L1762.42 1449.29 L1762.42 1451.28 L1749.88 1483.85 L1744.99 1483.85 L1756.8 1453.23 L1740.2 1453.23 L1740.2 1449.29 Z\" fill=\"#000000\" fill-rule=\"evenodd\" fill-opacity=\"1\" /><path clip-path=\"url(#clip680)\" d=\"M 0 0 M1767.54 1449.29 L1785.9 1449.29 L1785.9 1453.23 L1771.82 1453.23 L1771.82 1461.7 Q1772.84 1461.35 1773.86 1461.19 Q1774.88 1461 1775.9 1461 Q1781.68 1461 1785.06 1464.18 Q1788.44 1467.35 1788.44 1472.76 Q1788.44 1478.34 1784.97 1481.44 Q1781.5 1484.52 1775.18 1484.52 Q1773 1484.52 1770.73 1484.15 Q1768.49 1483.78 1766.08 1483.04 L1766.08 1478.34 Q1768.16 1479.48 1770.39 1480.03 Q1772.61 1480.59 1775.09 1480.59 Q1779.09 1480.59 1781.43 1478.48 Q1783.77 1476.38 1783.77 1472.76 Q1783.77 1469.15 1781.43 1467.05 Q1779.09 1464.94 1775.09 1464.94 Q1773.21 1464.94 1771.34 1465.36 Q1769.48 1465.77 1767.54 1466.65 L1767.54 1449.29 Z\" fill=\"#000000\" fill-rule=\"evenodd\" fill-opacity=\"1\" /><path clip-path=\"url(#clip680)\" d=\"M 0 0 M2253.64 1479.92 L2261.28 1479.92 L2261.28 1453.55 L2252.97 1455.22 L2252.97 1450.96 L2261.23 1449.29 L2265.91 1449.29 L2265.91 1479.92 L2273.55 1479.92 L2273.55 1483.85 L2253.64 1483.85 L2253.64 1479.92 Z\" fill=\"#000000\" fill-rule=\"evenodd\" fill-opacity=\"1\" /><path clip-path=\"url(#clip680)\" d=\"M 0 0 M2288.62 1452.37 Q2285.01 1452.37 2283.18 1455.94 Q2281.37 1459.48 2281.37 1466.61 Q2281.37 1473.71 2283.18 1477.28 Q2285.01 1480.82 2288.62 1480.82 Q2292.25 1480.82 2294.06 1477.28 Q2295.89 1473.71 2295.89 1466.61 Q2295.89 1459.48 2294.06 1455.94 Q2292.25 1452.37 2288.62 1452.37 M2288.62 1448.67 Q2294.43 1448.67 2297.48 1453.27 Q2300.56 1457.86 2300.56 1466.61 Q2300.56 1475.33 2297.48 1479.94 Q2294.43 1484.52 2288.62 1484.52 Q2282.81 1484.52 2279.73 1479.94 Q2276.67 1475.33 2276.67 1466.61 Q2276.67 1457.86 2279.73 1453.27 Q2282.81 1448.67 2288.62 1448.67 Z\" fill=\"#000000\" fill-rule=\"evenodd\" fill-opacity=\"1\" /><path clip-path=\"url(#clip680)\" d=\"M 0 0 M2315.63 1452.37 Q2312.02 1452.37 2310.19 1455.94 Q2308.39 1459.48 2308.39 1466.61 Q2308.39 1473.71 2310.19 1477.28 Q2312.02 1480.82 2315.63 1480.82 Q2319.27 1480.82 2321.07 1477.28 Q2322.9 1473.71 2322.9 1466.61 Q2322.9 1459.48 2321.07 1455.94 Q2319.27 1452.37 2315.63 1452.37 M2315.63 1448.67 Q2321.44 1448.67 2324.5 1453.27 Q2327.58 1457.86 2327.58 1466.61 Q2327.58 1475.33 2324.5 1479.94 Q2321.44 1484.52 2315.63 1484.52 Q2309.82 1484.52 2306.74 1479.94 Q2303.69 1475.33 2303.69 1466.61 Q2303.69 1457.86 2306.74 1453.27 Q2309.82 1448.67 2315.63 1448.67 Z\" fill=\"#000000\" fill-rule=\"evenodd\" fill-opacity=\"1\" /><path clip-path=\"url(#clip680)\" d=\"M 0 0 M1176.5 1520.52 L1216.7 1520.52 L1216.7 1525.93 L1199.83 1525.93 L1199.83 1568.04 L1193.37 1568.04 L1193.37 1525.93 L1176.5 1525.93 L1176.5 1520.52 Z\" fill=\"#000000\" fill-rule=\"evenodd\" fill-opacity=\"1\" /><path clip-path=\"url(#clip680)\" d=\"M 0 0 M1220.83 1532.4 L1226.69 1532.4 L1226.69 1568.04 L1220.83 1568.04 L1220.83 1532.4 M1220.83 1518.52 L1226.69 1518.52 L1226.69 1525.93 L1220.83 1525.93 L1220.83 1518.52 Z\" fill=\"#000000\" fill-rule=\"evenodd\" fill-opacity=\"1\" /><path clip-path=\"url(#clip680)\" d=\"M 0 0 M1260.59 1539.24 Q1262.78 1535.29 1265.84 1533.41 Q1268.89 1531.54 1273.03 1531.54 Q1278.6 1531.54 1281.63 1535.45 Q1284.65 1539.33 1284.65 1546.53 L1284.65 1568.04 L1278.76 1568.04 L1278.76 1546.72 Q1278.76 1541.59 1276.95 1539.11 Q1275.13 1536.63 1271.41 1536.63 Q1266.86 1536.63 1264.22 1539.65 Q1261.57 1542.68 1261.57 1547.9 L1261.57 1568.04 L1255.69 1568.04 L1255.69 1546.72 Q1255.69 1541.56 1253.87 1539.11 Q1252.06 1536.63 1248.27 1536.63 Q1243.78 1536.63 1241.14 1539.68 Q1238.5 1542.71 1238.5 1547.9 L1238.5 1568.04 L1232.61 1568.04 L1232.61 1532.4 L1238.5 1532.4 L1238.5 1537.93 Q1240.5 1534.66 1243.3 1533.1 Q1246.11 1531.54 1249.96 1531.54 Q1253.84 1531.54 1256.54 1533.51 Q1259.28 1535.48 1260.59 1539.24 Z\" fill=\"#000000\" fill-rule=\"evenodd\" fill-opacity=\"1\" /><path clip-path=\"url(#clip680)\" d=\"M 0 0 M1321.28 1548.76 L1321.28 1551.62 L1294.36 1551.62 Q1294.74 1557.67 1297.99 1560.85 Q1301.26 1564 1307.09 1564 Q1310.46 1564 1313.61 1563.17 Q1316.8 1562.35 1319.92 1560.69 L1319.92 1566.23 Q1316.76 1567.57 1313.45 1568.27 Q1310.14 1568.97 1306.74 1568.97 Q1298.21 1568.97 1293.21 1564 Q1288.25 1559.04 1288.25 1550.57 Q1288.25 1541.82 1292.96 1536.69 Q1297.7 1531.54 1305.72 1531.54 Q1312.91 1531.54 1317.08 1536.18 Q1321.28 1540.8 1321.28 1548.76 M1315.43 1547.04 Q1315.36 1542.23 1312.72 1539.37 Q1310.11 1536.5 1305.78 1536.5 Q1300.88 1536.5 1297.92 1539.27 Q1294.99 1542.04 1294.55 1547.07 L1315.43 1547.04 Z\" fill=\"#000000\" fill-rule=\"evenodd\" fill-opacity=\"1\" /><polyline clip-path=\"url(#clip682)\" style=\"stroke:#000000; stroke-width:2; stroke-opacity:0.1; fill:none\" points=\"\n",
       "  145.024,1389.01 2352.76,1389.01 \n",
       "  \"/>\n",
       "<polyline clip-path=\"url(#clip682)\" style=\"stroke:#000000; stroke-width:2; stroke-opacity:0.1; fill:none\" points=\"\n",
       "  145.024,1173.6 2352.76,1173.6 \n",
       "  \"/>\n",
       "<polyline clip-path=\"url(#clip682)\" style=\"stroke:#000000; stroke-width:2; stroke-opacity:0.1; fill:none\" points=\"\n",
       "  145.024,958.2 2352.76,958.2 \n",
       "  \"/>\n",
       "<polyline clip-path=\"url(#clip682)\" style=\"stroke:#000000; stroke-width:2; stroke-opacity:0.1; fill:none\" points=\"\n",
       "  145.024,742.797 2352.76,742.797 \n",
       "  \"/>\n",
       "<polyline clip-path=\"url(#clip682)\" style=\"stroke:#000000; stroke-width:2; stroke-opacity:0.1; fill:none\" points=\"\n",
       "  145.024,527.393 2352.76,527.393 \n",
       "  \"/>\n",
       "<polyline clip-path=\"url(#clip682)\" style=\"stroke:#000000; stroke-width:2; stroke-opacity:0.1; fill:none\" points=\"\n",
       "  145.024,311.99 2352.76,311.99 \n",
       "  \"/>\n",
       "<polyline clip-path=\"url(#clip680)\" style=\"stroke:#000000; stroke-width:4; stroke-opacity:1; fill:none\" points=\"\n",
       "  145.024,1423.18 145.024,123.472 \n",
       "  \"/>\n",
       "<polyline clip-path=\"url(#clip680)\" style=\"stroke:#000000; stroke-width:4; stroke-opacity:1; fill:none\" points=\"\n",
       "  145.024,1389.01 171.517,1389.01 \n",
       "  \"/>\n",
       "<polyline clip-path=\"url(#clip680)\" style=\"stroke:#000000; stroke-width:4; stroke-opacity:1; fill:none\" points=\"\n",
       "  145.024,1173.6 171.517,1173.6 \n",
       "  \"/>\n",
       "<polyline clip-path=\"url(#clip680)\" style=\"stroke:#000000; stroke-width:4; stroke-opacity:1; fill:none\" points=\"\n",
       "  145.024,958.2 171.517,958.2 \n",
       "  \"/>\n",
       "<polyline clip-path=\"url(#clip680)\" style=\"stroke:#000000; stroke-width:4; stroke-opacity:1; fill:none\" points=\"\n",
       "  145.024,742.797 171.517,742.797 \n",
       "  \"/>\n",
       "<polyline clip-path=\"url(#clip680)\" style=\"stroke:#000000; stroke-width:4; stroke-opacity:1; fill:none\" points=\"\n",
       "  145.024,527.393 171.517,527.393 \n",
       "  \"/>\n",
       "<polyline clip-path=\"url(#clip680)\" style=\"stroke:#000000; stroke-width:4; stroke-opacity:1; fill:none\" points=\"\n",
       "  145.024,311.99 171.517,311.99 \n",
       "  \"/>\n",
       "<path clip-path=\"url(#clip680)\" d=\"M 0 0 M52.1495 1402.35 L59.7884 1402.35 L59.7884 1375.99 L51.4782 1377.65 L51.4782 1373.39 L59.7421 1371.73 L64.418 1371.73 L64.418 1402.35 L72.0568 1402.35 L72.0568 1406.29 L52.1495 1406.29 L52.1495 1402.35 Z\" fill=\"#000000\" fill-rule=\"evenodd\" fill-opacity=\"1\" /><path clip-path=\"url(#clip680)\" d=\"M 0 0 M77.1262 1400.41 L82.0105 1400.41 L82.0105 1406.29 L77.1262 1406.29 L77.1262 1400.41 Z\" fill=\"#000000\" fill-rule=\"evenodd\" fill-opacity=\"1\" /><path clip-path=\"url(#clip680)\" d=\"M 0 0 M97.0798 1374.81 Q93.4688 1374.81 91.6401 1378.37 Q89.8345 1381.91 89.8345 1389.04 Q89.8345 1396.15 91.6401 1399.71 Q93.4688 1403.25 97.0798 1403.25 Q100.714 1403.25 102.52 1399.71 Q104.348 1396.15 104.348 1389.04 Q104.348 1381.91 102.52 1378.37 Q100.714 1374.81 97.0798 1374.81 M97.0798 1371.1 Q102.89 1371.1 105.946 1375.71 Q109.024 1380.29 109.024 1389.04 Q109.024 1397.77 105.946 1402.37 Q102.89 1406.96 97.0798 1406.96 Q91.2697 1406.96 88.191 1402.37 Q85.1355 1397.77 85.1355 1389.04 Q85.1355 1380.29 88.191 1375.71 Q91.2697 1371.1 97.0798 1371.1 Z\" fill=\"#000000\" fill-rule=\"evenodd\" fill-opacity=\"1\" /><path clip-path=\"url(#clip680)\" d=\"M 0 0 M53.3764 1186.95 L61.0152 1186.95 L61.0152 1160.58 L52.7051 1162.25 L52.7051 1157.99 L60.9689 1156.32 L65.6448 1156.32 L65.6448 1186.95 L73.2837 1186.95 L73.2837 1190.88 L53.3764 1190.88 L53.3764 1186.95 Z\" fill=\"#000000\" fill-rule=\"evenodd\" fill-opacity=\"1\" /><path clip-path=\"url(#clip680)\" d=\"M 0 0 M78.3531 1185 L83.2373 1185 L83.2373 1190.88 L78.3531 1190.88 L78.3531 1185 Z\" fill=\"#000000\" fill-rule=\"evenodd\" fill-opacity=\"1\" /><path clip-path=\"url(#clip680)\" d=\"M 0 0 M89.1169 1186.95 L96.7558 1186.95 L96.7558 1160.58 L88.4456 1162.25 L88.4456 1157.99 L96.7095 1156.32 L101.385 1156.32 L101.385 1186.95 L109.024 1186.95 L109.024 1190.88 L89.1169 1190.88 L89.1169 1186.95 Z\" fill=\"#000000\" fill-rule=\"evenodd\" fill-opacity=\"1\" /><path clip-path=\"url(#clip680)\" d=\"M 0 0 M53.7467 971.545 L61.3856 971.545 L61.3856 945.179 L53.0754 946.846 L53.0754 942.587 L61.3393 940.92 L66.0152 940.92 L66.0152 971.545 L73.654 971.545 L73.654 975.48 L53.7467 975.48 L53.7467 971.545 Z\" fill=\"#000000\" fill-rule=\"evenodd\" fill-opacity=\"1\" /><path clip-path=\"url(#clip680)\" d=\"M 0 0 M78.7235 969.601 L83.6077 969.601 L83.6077 975.48 L78.7235 975.48 L78.7235 969.601 Z\" fill=\"#000000\" fill-rule=\"evenodd\" fill-opacity=\"1\" /><path clip-path=\"url(#clip680)\" d=\"M 0 0 M92.7049 971.545 L109.024 971.545 L109.024 975.48 L87.0799 975.48 L87.0799 971.545 Q89.7419 968.79 94.3252 964.161 Q98.9317 959.508 100.112 958.165 Q102.358 955.642 103.237 953.906 Q104.14 952.147 104.14 950.457 Q104.14 947.703 102.196 945.966 Q100.274 944.23 97.1724 944.23 Q94.9734 944.23 92.5197 944.994 Q90.0891 945.758 87.3114 947.309 L87.3114 942.587 Q90.1354 941.453 92.5891 940.874 Q95.0428 940.295 97.0798 940.295 Q102.45 940.295 105.645 942.98 Q108.839 945.666 108.839 950.156 Q108.839 952.286 108.029 954.207 Q107.242 956.105 105.135 958.698 Q104.557 959.369 101.455 962.587 Q98.353 965.781 92.7049 971.545 Z\" fill=\"#000000\" fill-rule=\"evenodd\" fill-opacity=\"1\" /><path clip-path=\"url(#clip680)\" d=\"M 0 0 M52.7977 756.142 L60.4365 756.142 L60.4365 729.776 L52.1264 731.443 L52.1264 727.183 L60.3902 725.517 L65.0661 725.517 L65.0661 756.142 L72.705 756.142 L72.705 760.077 L52.7977 760.077 L52.7977 756.142 Z\" fill=\"#000000\" fill-rule=\"evenodd\" fill-opacity=\"1\" /><path clip-path=\"url(#clip680)\" d=\"M 0 0 M77.7744 754.197 L82.6586 754.197 L82.6586 760.077 L77.7744 760.077 L77.7744 754.197 Z\" fill=\"#000000\" fill-rule=\"evenodd\" fill-opacity=\"1\" /><path clip-path=\"url(#clip680)\" d=\"M 0 0 M101.895 741.443 Q105.251 742.16 107.126 744.429 Q109.024 746.697 109.024 750.031 Q109.024 755.146 105.506 757.947 Q101.987 760.748 95.5058 760.748 Q93.3299 760.748 91.0151 760.308 Q88.7234 759.892 86.2697 759.035 L86.2697 754.521 Q88.2141 755.655 90.529 756.234 Q92.8438 756.813 95.3669 756.813 Q99.765 756.813 102.057 755.077 Q104.371 753.341 104.371 750.031 Q104.371 746.975 102.219 745.262 Q100.089 743.526 96.2697 743.526 L92.2419 743.526 L92.2419 739.683 L96.4548 739.683 Q99.9039 739.683 101.733 738.318 Q103.561 736.929 103.561 734.336 Q103.561 731.674 101.663 730.262 Q99.7882 728.827 96.2697 728.827 Q94.3484 728.827 92.1493 729.244 Q89.9503 729.66 87.3114 730.54 L87.3114 726.373 Q89.9734 725.633 92.2882 725.262 Q94.6262 724.892 96.6863 724.892 Q102.01 724.892 105.112 727.322 Q108.214 729.73 108.214 733.85 Q108.214 736.72 106.571 738.711 Q104.927 740.679 101.895 741.443 Z\" fill=\"#000000\" fill-rule=\"evenodd\" fill-opacity=\"1\" /><path clip-path=\"url(#clip680)\" d=\"M 0 0 M51.6634 540.738 L59.3023 540.738 L59.3023 514.373 L50.9921 516.039 L50.9921 511.78 L59.256 510.113 L63.9319 510.113 L63.9319 540.738 L71.5707 540.738 L71.5707 544.673 L51.6634 544.673 L51.6634 540.738 Z\" fill=\"#000000\" fill-rule=\"evenodd\" fill-opacity=\"1\" /><path clip-path=\"url(#clip680)\" d=\"M 0 0 M76.6401 538.794 L81.5244 538.794 L81.5244 544.673 L76.6401 544.673 L76.6401 538.794 Z\" fill=\"#000000\" fill-rule=\"evenodd\" fill-opacity=\"1\" /><path clip-path=\"url(#clip680)\" d=\"M 0 0 M99.4409 514.187 L87.6354 532.636 L99.4409 532.636 L99.4409 514.187 M98.2141 510.113 L104.094 510.113 L104.094 532.636 L109.024 532.636 L109.024 536.525 L104.094 536.525 L104.094 544.673 L99.4409 544.673 L99.4409 536.525 L83.8392 536.525 L83.8392 532.011 L98.2141 510.113 Z\" fill=\"#000000\" fill-rule=\"evenodd\" fill-opacity=\"1\" /><path clip-path=\"url(#clip680)\" d=\"M 0 0 M53.1449 325.335 L60.7837 325.335 L60.7837 298.969 L52.4736 300.636 L52.4736 296.377 L60.7374 294.71 L65.4133 294.71 L65.4133 325.335 L73.0522 325.335 L73.0522 329.27 L53.1449 329.27 L53.1449 325.335 Z\" fill=\"#000000\" fill-rule=\"evenodd\" fill-opacity=\"1\" /><path clip-path=\"url(#clip680)\" d=\"M 0 0 M78.1216 323.39 L83.0058 323.39 L83.0058 329.27 L78.1216 329.27 L78.1216 323.39 Z\" fill=\"#000000\" fill-rule=\"evenodd\" fill-opacity=\"1\" /><path clip-path=\"url(#clip680)\" d=\"M 0 0 M88.1216 294.71 L106.478 294.71 L106.478 298.645 L92.4039 298.645 L92.4039 307.117 Q93.4225 306.77 94.441 306.608 Q95.4595 306.423 96.478 306.423 Q102.265 306.423 105.645 309.594 Q109.024 312.765 109.024 318.182 Q109.024 323.761 105.552 326.863 Q102.08 329.941 95.7604 329.941 Q93.5845 329.941 91.316 329.571 Q89.0706 329.201 86.6632 328.46 L86.6632 323.761 Q88.7466 324.895 90.9688 325.451 Q93.191 326.006 95.6678 326.006 Q99.6724 326.006 102.01 323.9 Q104.348 321.793 104.348 318.182 Q104.348 314.571 102.01 312.465 Q99.6724 310.358 95.6678 310.358 Q93.7928 310.358 91.9178 310.775 Q90.066 311.191 88.1216 312.071 L88.1216 294.71 Z\" fill=\"#000000\" fill-rule=\"evenodd\" fill-opacity=\"1\" /><path clip-path=\"url(#clip680)\" d=\"M 0 0 M687.921 17.6457 Q679.009 17.6457 673.743 24.2892 Q668.517 30.9327 668.517 42.3968 Q668.517 53.8203 673.743 60.4638 Q679.009 67.1073 687.921 67.1073 Q696.833 67.1073 702.018 60.4638 Q707.244 53.8203 707.244 42.3968 Q707.244 30.9327 702.018 24.2892 Q696.833 17.6457 687.921 17.6457 M687.921 11.0023 Q700.641 11.0023 708.256 19.5497 Q715.872 28.0566 715.872 42.3968 Q715.872 56.6965 708.256 65.2439 Q700.641 73.7508 687.921 73.7508 Q675.16 73.7508 667.504 65.2439 Q659.889 56.737 659.889 42.3968 Q659.889 28.0566 667.504 19.5497 Q675.16 11.0023 687.921 11.0023 Z\" fill=\"#000000\" fill-rule=\"evenodd\" fill-opacity=\"1\" /><path clip-path=\"url(#clip680)\" d=\"M 0 0 M730.901 65.7705 L730.901 89.8329 L723.407 89.8329 L723.407 27.2059 L730.901 27.2059 L730.901 34.0924 Q733.25 30.0415 736.815 28.0971 Q740.421 26.1121 745.403 26.1121 Q753.667 26.1121 758.812 32.6746 Q763.997 39.2371 763.997 49.9314 Q763.997 60.6258 758.812 67.1883 Q753.667 73.7508 745.403 73.7508 Q740.421 73.7508 736.815 71.8063 Q733.25 69.8214 730.901 65.7705 M756.26 49.9314 Q756.26 41.7081 752.857 37.0496 Q749.495 32.3505 743.58 32.3505 Q737.666 32.3505 734.263 37.0496 Q730.901 41.7081 730.901 49.9314 Q730.901 58.1548 734.263 62.8538 Q737.666 67.5124 743.58 67.5124 Q749.495 67.5124 752.857 62.8538 Q756.26 58.1548 756.26 49.9314 Z\" fill=\"#000000\" fill-rule=\"evenodd\" fill-opacity=\"1\" /><path clip-path=\"url(#clip680)\" d=\"M 0 0 M779.188 14.324 L779.188 27.2059 L794.541 27.2059 L794.541 32.9987 L779.188 32.9987 L779.188 57.6282 Q779.188 63.1779 780.687 64.7578 Q782.226 66.3376 786.884 66.3376 L794.541 66.3376 L794.541 72.576 L786.884 72.576 Q778.256 72.576 774.975 69.3758 Q771.694 66.1351 771.694 57.6282 L771.694 32.9987 L766.225 32.9987 L766.225 27.2059 L771.694 27.2059 L771.694 14.324 L779.188 14.324 Z\" fill=\"#000000\" fill-rule=\"evenodd\" fill-opacity=\"1\" /><path clip-path=\"url(#clip680)\" d=\"M 0 0 M802.359 27.2059 L809.813 27.2059 L809.813 72.576 L802.359 72.576 L802.359 27.2059 M802.359 9.54393 L809.813 9.54393 L809.813 18.9825 L802.359 18.9825 L802.359 9.54393 Z\" fill=\"#000000\" fill-rule=\"evenodd\" fill-opacity=\"1\" /><path clip-path=\"url(#clip680)\" d=\"M 0 0 M852.955 35.9153 Q855.75 30.8922 859.639 28.5022 Q863.528 26.1121 868.794 26.1121 Q875.883 26.1121 879.731 31.0947 Q883.58 36.0368 883.58 45.1919 L883.58 72.576 L876.085 72.576 L876.085 45.4349 Q876.085 38.913 873.776 35.7533 Q871.467 32.5936 866.728 32.5936 Q860.935 32.5936 857.573 36.4419 Q854.21 40.2903 854.21 46.9338 L854.21 72.576 L846.716 72.576 L846.716 45.4349 Q846.716 38.8725 844.407 35.7533 Q842.098 32.5936 837.278 32.5936 Q831.566 32.5936 828.204 36.4824 Q824.841 40.3308 824.841 46.9338 L824.841 72.576 L817.347 72.576 L817.347 27.2059 L824.841 27.2059 L824.841 34.2544 Q827.393 30.082 830.958 28.0971 Q834.523 26.1121 839.425 26.1121 Q844.367 26.1121 847.81 28.6237 Q851.294 31.1352 852.955 35.9153 Z\" fill=\"#000000\" fill-rule=\"evenodd\" fill-opacity=\"1\" /><path clip-path=\"url(#clip680)\" d=\"M 0 0 M912.017 49.7694 Q902.983 49.7694 899.5 51.8354 Q896.016 53.9013 896.016 58.8839 Q896.016 62.8538 898.608 65.2034 Q901.241 67.5124 905.738 67.5124 Q911.936 67.5124 915.663 63.1374 Q919.43 58.7219 919.43 51.4303 L919.43 49.7694 L912.017 49.7694 M926.884 46.6907 L926.884 72.576 L919.43 72.576 L919.43 65.6895 Q916.878 69.8214 913.07 71.8063 Q909.262 73.7508 903.753 73.7508 Q896.785 73.7508 892.654 69.8619 Q888.562 65.9325 888.562 59.3701 Q888.562 51.7138 893.666 47.825 Q898.811 43.9361 908.979 43.9361 L919.43 43.9361 L919.43 43.2069 Q919.43 38.0623 916.027 35.2672 Q912.665 32.4315 906.548 32.4315 Q902.659 32.4315 898.973 33.3632 Q895.287 34.295 891.884 36.1584 L891.884 29.2718 Q895.975 27.692 899.824 26.9223 Q903.672 26.1121 907.318 26.1121 Q917.162 26.1121 922.023 31.2163 Q926.884 36.3204 926.884 46.6907 Z\" fill=\"#000000\" fill-rule=\"evenodd\" fill-opacity=\"1\" /><path clip-path=\"url(#clip680)\" d=\"M 0 0 M934.702 9.54393 L942.156 9.54393 L942.156 72.576 L934.702 72.576 L934.702 9.54393 Z\" fill=\"#000000\" fill-rule=\"evenodd\" fill-opacity=\"1\" /><path clip-path=\"url(#clip680)\" d=\"M 0 0 M984.852 18.8205 L984.852 41.5461 L995.141 41.5461 Q1000.85 41.5461 1003.97 38.5889 Q1007.09 35.6318 1007.09 30.163 Q1007.09 24.7348 1003.97 21.7777 Q1000.85 18.8205 995.141 18.8205 L984.852 18.8205 M976.669 12.096 L995.141 12.096 Q1005.31 12.096 1010.49 16.714 Q1015.72 21.2916 1015.72 30.163 Q1015.72 39.1155 1010.49 43.6931 Q1005.31 48.2706 995.141 48.2706 L984.852 48.2706 L984.852 72.576 L976.669 72.576 L976.669 12.096 Z\" fill=\"#000000\" fill-rule=\"evenodd\" fill-opacity=\"1\" /><path clip-path=\"url(#clip680)\" d=\"M 0 0 M1040.43 49.7694 Q1031.4 49.7694 1027.91 51.8354 Q1024.43 53.9013 1024.43 58.8839 Q1024.43 62.8538 1027.02 65.2034 Q1029.66 67.5124 1034.15 67.5124 Q1040.35 67.5124 1044.08 63.1374 Q1047.84 58.7219 1047.84 51.4303 L1047.84 49.7694 L1040.43 49.7694 M1055.3 46.6907 L1055.3 72.576 L1047.84 72.576 L1047.84 65.6895 Q1045.29 69.8214 1041.48 71.8063 Q1037.68 73.7508 1032.17 73.7508 Q1025.2 73.7508 1021.07 69.8619 Q1016.98 65.9325 1016.98 59.3701 Q1016.98 51.7138 1022.08 47.825 Q1027.22 43.9361 1037.39 43.9361 L1047.84 43.9361 L1047.84 43.2069 Q1047.84 38.0623 1044.44 35.2672 Q1041.08 32.4315 1034.96 32.4315 Q1031.07 32.4315 1027.39 33.3632 Q1023.7 34.295 1020.3 36.1584 L1020.3 29.2718 Q1024.39 27.692 1028.24 26.9223 Q1032.09 26.1121 1035.73 26.1121 Q1045.58 26.1121 1050.44 31.2163 Q1055.3 36.3204 1055.3 46.6907 Z\" fill=\"#000000\" fill-rule=\"evenodd\" fill-opacity=\"1\" /><path clip-path=\"url(#clip680)\" d=\"M 0 0 M1070.49 14.324 L1070.49 27.2059 L1085.84 27.2059 L1085.84 32.9987 L1070.49 32.9987 L1070.49 57.6282 Q1070.49 63.1779 1071.99 64.7578 Q1073.53 66.3376 1078.18 66.3376 L1085.84 66.3376 L1085.84 72.576 L1078.18 72.576 Q1069.56 72.576 1066.28 69.3758 Q1062.99 66.1351 1062.99 57.6282 L1062.99 32.9987 L1057.53 32.9987 L1057.53 27.2059 L1062.99 27.2059 L1062.99 14.324 L1070.49 14.324 Z\" fill=\"#000000\" fill-rule=\"evenodd\" fill-opacity=\"1\" /><path clip-path=\"url(#clip680)\" d=\"M 0 0 M1131.37 45.1919 L1131.37 72.576 L1123.92 72.576 L1123.92 45.4349 Q1123.92 38.994 1121.41 35.7938 Q1118.9 32.5936 1113.87 32.5936 Q1107.84 32.5936 1104.35 36.4419 Q1100.87 40.2903 1100.87 46.9338 L1100.87 72.576 L1093.38 72.576 L1093.38 9.54393 L1100.87 9.54393 L1100.87 34.2544 Q1103.54 30.163 1107.15 28.1376 Q1110.79 26.1121 1115.53 26.1121 Q1123.35 26.1121 1127.36 30.9732 Q1131.37 35.7938 1131.37 45.1919 Z\" fill=\"#000000\" fill-rule=\"evenodd\" fill-opacity=\"1\" /><path clip-path=\"url(#clip680)\" d=\"M 0 0 M1207.13 63.9476 L1207.13 47.7034 L1193.76 47.7034 L1193.76 40.9789 L1215.23 40.9789 L1215.23 66.9452 Q1210.49 70.3075 1204.78 72.0494 Q1199.06 73.7508 1192.58 73.7508 Q1178.4 73.7508 1170.38 65.4869 Q1162.4 57.1826 1162.4 42.3968 Q1162.4 27.5705 1170.38 19.3066 Q1178.4 11.0023 1192.58 11.0023 Q1198.5 11.0023 1203.8 12.4606 Q1209.15 13.9189 1213.65 16.7545 L1213.65 25.464 Q1209.11 21.6156 1204.01 19.6712 Q1198.9 17.7268 1193.27 17.7268 Q1182.17 17.7268 1176.58 23.9246 Q1171.03 30.1225 1171.03 42.3968 Q1171.03 54.6305 1176.58 60.8284 Q1182.17 67.0263 1193.27 67.0263 Q1197.61 67.0263 1201.01 66.2971 Q1204.41 65.5274 1207.13 63.9476 Z\" fill=\"#000000\" fill-rule=\"evenodd\" fill-opacity=\"1\" /><path clip-path=\"url(#clip680)\" d=\"M 0 0 M1223.05 27.2059 L1230.5 27.2059 L1230.5 72.576 L1223.05 72.576 L1223.05 27.2059 M1223.05 9.54393 L1230.5 9.54393 L1230.5 18.9825 L1223.05 18.9825 L1223.05 9.54393 Z\" fill=\"#000000\" fill-rule=\"evenodd\" fill-opacity=\"1\" /><path clip-path=\"url(#clip680)\" d=\"M 0 0 M1232.97 27.2059 L1240.87 27.2059 L1255.05 65.2844 L1269.23 27.2059 L1277.12 27.2059 L1260.11 72.576 L1249.98 72.576 L1232.97 27.2059 Z\" fill=\"#000000\" fill-rule=\"evenodd\" fill-opacity=\"1\" /><path clip-path=\"url(#clip680)\" d=\"M 0 0 M1323.75 48.0275 L1323.75 51.6733 L1289.48 51.6733 Q1289.97 59.3701 1294.1 63.421 Q1298.27 67.4314 1305.68 67.4314 Q1309.98 67.4314 1313.99 66.3781 Q1318.04 65.3249 1322.01 63.2184 L1322.01 70.267 Q1318 71.9684 1313.79 72.8596 Q1309.57 73.7508 1305.24 73.7508 Q1294.38 73.7508 1288.02 67.4314 Q1281.7 61.1119 1281.7 50.3365 Q1281.7 39.1965 1287.7 32.6746 Q1293.73 26.1121 1303.94 26.1121 Q1313.1 26.1121 1318.4 32.0264 Q1323.75 37.9003 1323.75 48.0275 M1316.3 45.84 Q1316.22 39.7232 1312.85 36.0774 Q1309.53 32.4315 1304.02 32.4315 Q1297.78 32.4315 1294.02 35.9558 Q1290.29 39.4801 1289.72 45.8805 L1316.3 45.84 Z\" fill=\"#000000\" fill-rule=\"evenodd\" fill-opacity=\"1\" /><path clip-path=\"url(#clip680)\" d=\"M 0 0 M1369.28 45.1919 L1369.28 72.576 L1361.83 72.576 L1361.83 45.4349 Q1361.83 38.994 1359.32 35.7938 Q1356.81 32.5936 1351.78 32.5936 Q1345.75 32.5936 1342.26 36.4419 Q1338.78 40.2903 1338.78 46.9338 L1338.78 72.576 L1331.29 72.576 L1331.29 27.2059 L1338.78 27.2059 L1338.78 34.2544 Q1341.45 30.163 1345.06 28.1376 Q1348.7 26.1121 1353.44 26.1121 Q1361.26 26.1121 1365.27 30.9732 Q1369.28 35.7938 1369.28 45.1919 Z\" fill=\"#000000\" fill-rule=\"evenodd\" fill-opacity=\"1\" /><path clip-path=\"url(#clip680)\" d=\"M 0 0 M1403.8 12.096 L1411.98 12.096 L1411.98 36.8875 L1441.71 36.8875 L1441.71 12.096 L1449.9 12.096 L1449.9 72.576 L1441.71 72.576 L1441.71 43.7741 L1411.98 43.7741 L1411.98 72.576 L1403.8 72.576 L1403.8 12.096 Z\" fill=\"#000000\" fill-rule=\"evenodd\" fill-opacity=\"1\" /><path clip-path=\"url(#clip680)\" d=\"M 0 0 M1457.71 27.2059 L1465.17 27.2059 L1465.17 72.576 L1457.71 72.576 L1457.71 27.2059 M1457.71 9.54393 L1465.17 9.54393 L1465.17 18.9825 L1457.71 18.9825 L1457.71 9.54393 Z\" fill=\"#000000\" fill-rule=\"evenodd\" fill-opacity=\"1\" /><path clip-path=\"url(#clip680)\" d=\"M 0 0 M1502.84 49.3643 Q1502.84 41.2625 1499.48 36.8065 Q1496.16 32.3505 1490.12 32.3505 Q1484.13 32.3505 1480.76 36.8065 Q1477.44 41.2625 1477.44 49.3643 Q1477.44 57.4256 1480.76 61.8816 Q1484.13 66.3376 1490.12 66.3376 Q1496.16 66.3376 1499.48 61.8816 Q1502.84 57.4256 1502.84 49.3643 M1510.29 66.9452 Q1510.29 78.5308 1505.15 84.1616 Q1500.01 89.8329 1489.39 89.8329 Q1485.46 89.8329 1481.98 89.2252 Q1478.5 88.6581 1475.21 87.4428 L1475.21 80.1917 Q1478.5 81.9741 1481.7 82.8248 Q1484.9 83.6755 1488.22 83.6755 Q1495.55 83.6755 1499.2 79.8271 Q1502.84 76.0193 1502.84 68.282 L1502.84 64.5957 Q1500.53 68.6061 1496.93 70.5911 Q1493.32 72.576 1488.3 72.576 Q1479.95 72.576 1474.85 66.2161 Q1469.75 59.8562 1469.75 49.3643 Q1469.75 38.832 1474.85 32.472 Q1479.95 26.1121 1488.3 26.1121 Q1493.32 26.1121 1496.93 28.0971 Q1500.53 30.082 1502.84 34.0924 L1502.84 27.2059 L1510.29 27.2059 L1510.29 66.9452 Z\" fill=\"#000000\" fill-rule=\"evenodd\" fill-opacity=\"1\" /><path clip-path=\"url(#clip680)\" d=\"M 0 0 M1555.83 45.1919 L1555.83 72.576 L1548.37 72.576 L1548.37 45.4349 Q1548.37 38.994 1545.86 35.7938 Q1543.35 32.5936 1538.33 32.5936 Q1532.29 32.5936 1528.81 36.4419 Q1525.32 40.2903 1525.32 46.9338 L1525.32 72.576 L1517.83 72.576 L1517.83 9.54393 L1525.32 9.54393 L1525.32 34.2544 Q1528 30.163 1531.6 28.1376 Q1535.25 26.1121 1539.99 26.1121 Q1547.81 26.1121 1551.82 30.9732 Q1555.83 35.7938 1555.83 45.1919 Z\" fill=\"#000000\" fill-rule=\"evenodd\" fill-opacity=\"1\" /><path clip-path=\"url(#clip680)\" d=\"M 0 0 M1590.34 12.096 L1598.52 12.096 L1598.52 72.576 L1590.34 72.576 L1590.34 12.096 Z\" fill=\"#000000\" fill-rule=\"evenodd\" fill-opacity=\"1\" /><path clip-path=\"url(#clip680)\" d=\"M 0 0 M1644.06 45.1919 L1644.06 72.576 L1636.6 72.576 L1636.6 45.4349 Q1636.6 38.994 1634.09 35.7938 Q1631.58 32.5936 1626.56 32.5936 Q1620.52 32.5936 1617.04 36.4419 Q1613.55 40.2903 1613.55 46.9338 L1613.55 72.576 L1606.06 72.576 L1606.06 27.2059 L1613.55 27.2059 L1613.55 34.2544 Q1616.23 30.163 1619.83 28.1376 Q1623.48 26.1121 1628.22 26.1121 Q1636.03 26.1121 1640.05 30.9732 Q1644.06 35.7938 1644.06 45.1919 Z\" fill=\"#000000\" fill-rule=\"evenodd\" fill-opacity=\"1\" /><path clip-path=\"url(#clip680)\" d=\"M 0 0 M1651.87 27.2059 L1659.33 27.2059 L1659.33 72.576 L1651.87 72.576 L1651.87 27.2059 M1651.87 9.54393 L1659.33 9.54393 L1659.33 18.9825 L1651.87 18.9825 L1651.87 9.54393 Z\" fill=\"#000000\" fill-rule=\"evenodd\" fill-opacity=\"1\" /><path clip-path=\"url(#clip680)\" d=\"M 0 0 M1674.52 14.324 L1674.52 27.2059 L1689.87 27.2059 L1689.87 32.9987 L1674.52 32.9987 L1674.52 57.6282 Q1674.52 63.1779 1676.02 64.7578 Q1677.56 66.3376 1682.22 66.3376 L1689.87 66.3376 L1689.87 72.576 L1682.22 72.576 Q1673.59 72.576 1670.31 69.3758 Q1667.02 66.1351 1667.02 57.6282 L1667.02 32.9987 L1661.56 32.9987 L1661.56 27.2059 L1667.02 27.2059 L1667.02 14.324 L1674.52 14.324 Z\" fill=\"#000000\" fill-rule=\"evenodd\" fill-opacity=\"1\" /><path clip-path=\"url(#clip680)\" d=\"M 0 0 M1697.69 27.2059 L1705.14 27.2059 L1705.14 72.576 L1697.69 72.576 L1697.69 27.2059 M1697.69 9.54393 L1705.14 9.54393 L1705.14 18.9825 L1697.69 18.9825 L1697.69 9.54393 Z\" fill=\"#000000\" fill-rule=\"evenodd\" fill-opacity=\"1\" /><path clip-path=\"url(#clip680)\" d=\"M 0 0 M1733.58 49.7694 Q1724.55 49.7694 1721.06 51.8354 Q1717.58 53.9013 1717.58 58.8839 Q1717.58 62.8538 1720.17 65.2034 Q1722.81 67.5124 1727.3 67.5124 Q1733.5 67.5124 1737.23 63.1374 Q1740.99 58.7219 1740.99 51.4303 L1740.99 49.7694 L1733.58 49.7694 M1748.45 46.6907 L1748.45 72.576 L1740.99 72.576 L1740.99 65.6895 Q1738.44 69.8214 1734.63 71.8063 Q1730.83 73.7508 1725.32 73.7508 Q1718.35 73.7508 1714.22 69.8619 Q1710.13 65.9325 1710.13 59.3701 Q1710.13 51.7138 1715.23 47.825 Q1720.37 43.9361 1730.54 43.9361 L1740.99 43.9361 L1740.99 43.2069 Q1740.99 38.0623 1737.59 35.2672 Q1734.23 32.4315 1728.11 32.4315 Q1724.22 32.4315 1720.54 33.3632 Q1716.85 34.295 1713.45 36.1584 L1713.45 29.2718 Q1717.54 27.692 1721.39 26.9223 Q1725.24 26.1121 1728.88 26.1121 Q1738.73 26.1121 1743.59 31.2163 Q1748.45 36.3204 1748.45 46.6907 Z\" fill=\"#000000\" fill-rule=\"evenodd\" fill-opacity=\"1\" /><path clip-path=\"url(#clip680)\" d=\"M 0 0 M1756.27 9.54393 L1763.72 9.54393 L1763.72 72.576 L1756.27 72.576 L1756.27 9.54393 Z\" fill=\"#000000\" fill-rule=\"evenodd\" fill-opacity=\"1\" /><path clip-path=\"url(#clip680)\" d=\"M 0 0 M1797.63 9.54393 L1805.12 9.54393 L1805.12 46.7717 L1827.36 27.2059 L1836.88 27.2059 L1812.82 48.4326 L1837.89 72.576 L1828.17 72.576 L1805.12 50.4176 L1805.12 72.576 L1797.63 72.576 L1797.63 9.54393 Z\" fill=\"#000000\" fill-rule=\"evenodd\" fill-opacity=\"1\" /><polyline clip-path=\"url(#clip682)\" style=\"stroke:#009af9; stroke-width:12; stroke-opacity:1; fill:none\" points=\"\n",
       "  207.507,722.228 228.545,770.04 249.583,774.753 270.621,822.484 291.659,827.065 312.697,874.643 333.735,879.021 354.773,926.375 375.811,930.48 396.85,934.688 \n",
       "  417.888,981.852 438.926,985.711 459.964,989.653 481.002,1036.53 502.04,1040.05 523.078,1043.64 544.116,1090.14 565.154,1093.23 586.192,1096.37 607.23,1099.56 \n",
       "  628.268,1145.65 649.306,1148.28 670.344,1150.94 691.382,1153.63 712.42,1156.35 733.458,1201.96 754.496,1204.05 775.534,1206.16 796.572,1208.28 817.61,1210.43 \n",
       "  838.648,1212.6 859.686,1214.79 880.724,1216.99 901.762,1262.08 922.8,1263.57 943.839,1265.08 964.877,1266.59 985.915,1268.12 1006.95,1269.65 1027.99,1271.2 \n",
       "  1049.03,1272.75 1070.07,1274.31 1091.1,1275.88 1112.14,1320.32 1133.18,1321.12 1154.22,1321.91 1175.26,1322.71 1196.29,1323.52 1217.33,1324.32 1238.37,1325.13 \n",
       "  1259.41,1325.94 1280.45,1326.75 1301.49,1327.56 1322.52,1328.38 1343.56,1329.2 1364.6,1330.02 1385.64,1330.85 1406.68,1331.68 1427.71,1332.51 1448.75,1333.34 \n",
       "  1469.79,1334.18 1490.83,1335.01 1511.87,1335.86 1532.9,1336.7 1553.94,1337.54 1574.98,1338.39 1596.02,1339.24 1617.06,1340.1 1638.09,1340.96 1659.13,1341.82 \n",
       "  1680.17,1342.68 1701.21,1386.4 1722.25,1386.4 1743.28,1386.4 1764.32,1386.4 1785.36,1386.4 1806.4,1386.4 1827.44,1386.4 1848.47,1386.4 1869.51,1386.4 \n",
       "  1890.55,1386.4 1911.59,1386.4 1932.63,1386.4 1953.66,1386.4 1974.7,1386.4 1995.74,1386.4 2016.78,1386.4 2037.82,1386.4 2058.85,1386.4 2079.89,1386.4 \n",
       "  2100.93,1386.4 2121.97,1386.4 2143.01,1386.4 2164.04,1386.4 2185.08,1386.4 2206.12,1386.4 2227.16,1386.4 2248.2,1386.4 2269.23,1386.4 2290.27,1386.4 \n",
       "  \n",
       "  \"/>\n",
       "<polyline clip-path=\"url(#clip682)\" style=\"stroke:#e26f46; stroke-width:12; stroke-opacity:1; fill:none\" points=\"\n",
       "  207.507,160.256 228.545,219.236 249.583,273.301 270.621,327.366 291.659,376.516 312.697,425.666 333.735,469.901 354.773,514.136 375.811,553.457 396.85,592.777 \n",
       "  417.888,632.097 438.926,666.502 459.964,700.907 481.002,735.312 502.04,764.802 523.078,794.292 544.116,823.782 565.154,848.357 586.192,872.932 607.23,897.507 \n",
       "  628.268,922.082 649.306,941.742 670.344,961.402 691.382,981.062 712.42,1000.72 733.458,1020.38 754.496,1035.13 775.534,1049.87 796.572,1064.62 817.61,1079.36 \n",
       "  838.648,1094.11 859.686,1108.85 880.724,1123.6 901.762,1138.34 922.8,1148.17 943.839,1158 964.877,1167.83 985.915,1177.66 1006.95,1187.49 1027.99,1197.32 \n",
       "  1049.03,1207.15 1070.07,1216.98 1091.1,1226.81 1112.14,1236.64 1133.18,1241.56 1154.22,1246.47 1175.26,1251.39 1196.29,1256.3 1217.33,1261.22 1238.37,1266.13 \n",
       "  1259.41,1271.05 1280.45,1275.96 1301.49,1280.88 1322.52,1285.79 1343.56,1290.71 1364.6,1295.62 1385.64,1300.54 1406.68,1305.45 1427.71,1310.37 1448.75,1315.28 \n",
       "  1469.79,1320.2 1490.83,1325.11 1511.87,1330.03 1532.9,1334.94 1553.94,1339.86 1574.98,1344.77 1596.02,1349.69 1617.06,1354.6 1638.09,1359.52 1659.13,1364.43 \n",
       "  1680.17,1369.35 1701.21,1374.26 1722.25,1374.26 1743.28,1374.26 1764.32,1374.26 1785.36,1374.26 1806.4,1374.26 1827.44,1374.26 1848.47,1374.26 1869.51,1374.26 \n",
       "  1890.55,1374.26 1911.59,1374.26 1932.63,1374.26 1953.66,1374.26 1974.7,1374.26 1995.74,1374.26 2016.78,1374.26 2037.82,1374.26 2058.85,1374.26 2079.89,1374.26 \n",
       "  2100.93,1374.26 2121.97,1374.26 2143.01,1374.26 2164.04,1374.26 2185.08,1374.26 2206.12,1374.26 2227.16,1374.26 2248.2,1374.26 2269.23,1374.26 2290.27,1374.26 \n",
       "  \n",
       "  \"/>\n",
       "<path clip-path=\"url(#clip680)\" d=\"\n",
       "M1757.17 348.236 L2279.16 348.236 L2279.16 166.796 L1757.17 166.796  Z\n",
       "  \" fill=\"#ffffff\" fill-rule=\"evenodd\" fill-opacity=\"1\"/>\n",
       "<polyline clip-path=\"url(#clip680)\" style=\"stroke:#000000; stroke-width:4; stroke-opacity:1; fill:none\" points=\"\n",
       "  1757.17,348.236 2279.16,348.236 2279.16,166.796 1757.17,166.796 1757.17,348.236 \n",
       "  \"/>\n",
       "<polyline clip-path=\"url(#clip680)\" style=\"stroke:#009af9; stroke-width:4; stroke-opacity:1; fill:none\" points=\"\n",
       "  1781.7,227.276 1928.89,227.276 \n",
       "  \"/>\n",
       "<path clip-path=\"url(#clip680)\" d=\"M 0 0 M1981.29 212.658 L1981.29 217.588 Q1978.92 215.389 1976.24 214.301 Q1973.58 213.213 1970.57 213.213 Q1964.64 213.213 1961.49 216.848 Q1958.35 220.459 1958.35 227.31 Q1958.35 234.139 1961.49 237.773 Q1964.64 241.384 1970.57 241.384 Q1973.58 241.384 1976.24 240.296 Q1978.92 239.209 1981.29 237.009 L1981.29 241.894 Q1978.83 243.56 1976.08 244.394 Q1973.35 245.227 1970.29 245.227 Q1962.44 245.227 1957.93 240.435 Q1953.42 235.621 1953.42 227.31 Q1953.42 218.977 1957.93 214.186 Q1962.44 209.371 1970.29 209.371 Q1973.39 209.371 1976.12 210.204 Q1978.88 211.014 1981.29 212.658 Z\" fill=\"#000000\" fill-rule=\"evenodd\" fill-opacity=\"1\" /><path clip-path=\"url(#clip680)\" d=\"M 0 0 M1995.8 221.616 Q1992.37 221.616 1990.38 224.301 Q1988.39 226.963 1988.39 231.616 Q1988.39 236.269 1990.36 238.954 Q1992.35 241.616 1995.8 241.616 Q1999.2 241.616 2001.19 238.931 Q2003.18 236.246 2003.18 231.616 Q2003.18 227.01 2001.19 224.324 Q1999.2 221.616 1995.8 221.616 M1995.8 218.005 Q2001.36 218.005 2004.53 221.616 Q2007.7 225.227 2007.7 231.616 Q2007.7 237.982 2004.53 241.616 Q2001.36 245.227 1995.8 245.227 Q1990.22 245.227 1987.05 241.616 Q1983.9 237.982 1983.9 231.616 Q1983.9 225.227 1987.05 221.616 Q1990.22 218.005 1995.8 218.005 Z\" fill=\"#000000\" fill-rule=\"evenodd\" fill-opacity=\"1\" /><path clip-path=\"url(#clip680)\" d=\"M 0 0 M2033.72 228.908 L2033.72 244.556 L2029.46 244.556 L2029.46 229.047 Q2029.46 225.366 2028.02 223.537 Q2026.59 221.709 2023.72 221.709 Q2020.27 221.709 2018.28 223.908 Q2016.29 226.107 2016.29 229.903 L2016.29 244.556 L2012 244.556 L2012 218.63 L2016.29 218.63 L2016.29 222.658 Q2017.81 220.32 2019.87 219.162 Q2021.96 218.005 2024.67 218.005 Q2029.13 218.005 2031.42 220.783 Q2033.72 223.537 2033.72 228.908 Z\" fill=\"#000000\" fill-rule=\"evenodd\" fill-opacity=\"1\" /><path clip-path=\"url(#clip680)\" d=\"M 0 0 M2054.71 219.394 L2054.71 223.422 Q2052.91 222.496 2050.96 222.033 Q2049.02 221.57 2046.93 221.57 Q2043.76 221.57 2042.17 222.542 Q2040.59 223.514 2040.59 225.459 Q2040.59 226.94 2041.73 227.797 Q2042.86 228.63 2046.29 229.394 L2047.74 229.718 Q2052.28 230.69 2054.18 232.472 Q2056.1 234.232 2056.1 237.403 Q2056.1 241.014 2053.23 243.121 Q2050.38 245.227 2045.38 245.227 Q2043.3 245.227 2041.03 244.81 Q2038.79 244.417 2036.29 243.607 L2036.29 239.209 Q2038.65 240.435 2040.94 241.06 Q2043.23 241.662 2045.48 241.662 Q2048.48 241.662 2050.11 240.644 Q2051.73 239.602 2051.73 237.727 Q2051.73 235.991 2050.54 235.065 Q2049.39 234.139 2045.43 233.283 L2043.95 232.935 Q2039.99 232.102 2038.23 230.389 Q2036.47 228.653 2036.47 225.644 Q2036.47 221.986 2039.06 219.996 Q2041.66 218.005 2046.42 218.005 Q2048.79 218.005 2050.87 218.352 Q2052.95 218.699 2054.71 219.394 Z\" fill=\"#000000\" fill-rule=\"evenodd\" fill-opacity=\"1\" /><path clip-path=\"url(#clip680)\" d=\"M 0 0 M2060.13 234.324 L2060.13 218.63 L2064.39 218.63 L2064.39 234.162 Q2064.39 237.843 2065.82 239.695 Q2067.26 241.523 2070.13 241.523 Q2073.58 241.523 2075.57 239.324 Q2077.58 237.125 2077.58 233.329 L2077.58 218.63 L2081.84 218.63 L2081.84 244.556 L2077.58 244.556 L2077.58 240.574 Q2076.03 242.935 2073.97 244.093 Q2071.93 245.227 2069.23 245.227 Q2064.76 245.227 2062.44 242.449 Q2060.13 239.671 2060.13 234.324 M2070.85 218.005 L2070.85 218.005 Z\" fill=\"#000000\" fill-rule=\"evenodd\" fill-opacity=\"1\" /><path clip-path=\"url(#clip680)\" d=\"M 0 0 M2106.49 223.607 Q2108.09 220.736 2110.31 219.371 Q2112.54 218.005 2115.54 218.005 Q2119.6 218.005 2121.79 220.852 Q2123.99 223.676 2123.99 228.908 L2123.99 244.556 L2119.71 244.556 L2119.71 229.047 Q2119.71 225.32 2118.39 223.514 Q2117.07 221.709 2114.36 221.709 Q2111.05 221.709 2109.13 223.908 Q2107.21 226.107 2107.21 229.903 L2107.21 244.556 L2102.93 244.556 L2102.93 229.047 Q2102.93 225.297 2101.61 223.514 Q2100.29 221.709 2097.54 221.709 Q2094.27 221.709 2092.35 223.931 Q2090.43 226.13 2090.43 229.903 L2090.43 244.556 L2086.15 244.556 L2086.15 218.63 L2090.43 218.63 L2090.43 222.658 Q2091.89 220.273 2093.92 219.139 Q2095.96 218.005 2098.76 218.005 Q2101.59 218.005 2103.55 219.44 Q2105.54 220.875 2106.49 223.607 Z\" fill=\"#000000\" fill-rule=\"evenodd\" fill-opacity=\"1\" /><path clip-path=\"url(#clip680)\" d=\"M 0 0 M2132.58 240.667 L2132.58 254.417 L2128.3 254.417 L2128.3 218.63 L2132.58 218.63 L2132.58 222.565 Q2133.92 220.25 2135.96 219.139 Q2138.02 218.005 2140.87 218.005 Q2145.59 218.005 2148.53 221.755 Q2151.49 225.505 2151.49 231.616 Q2151.49 237.727 2148.53 241.477 Q2145.59 245.227 2140.87 245.227 Q2138.02 245.227 2135.96 244.116 Q2133.92 242.982 2132.58 240.667 M2147.07 231.616 Q2147.07 226.917 2145.13 224.255 Q2143.21 221.57 2139.83 221.57 Q2136.45 221.57 2134.5 224.255 Q2132.58 226.917 2132.58 231.616 Q2132.58 236.315 2134.5 239 Q2136.45 241.662 2139.83 241.662 Q2143.21 241.662 2145.13 239 Q2147.07 236.315 2147.07 231.616 Z\" fill=\"#000000\" fill-rule=\"evenodd\" fill-opacity=\"1\" /><path clip-path=\"url(#clip680)\" d=\"M 0 0 M2160.17 211.269 L2160.17 218.63 L2168.95 218.63 L2168.95 221.94 L2160.17 221.94 L2160.17 236.014 Q2160.17 239.185 2161.03 240.088 Q2161.91 240.991 2164.57 240.991 L2168.95 240.991 L2168.95 244.556 L2164.57 244.556 Q2159.64 244.556 2157.77 242.727 Q2155.89 240.875 2155.89 236.014 L2155.89 221.94 L2152.77 221.94 L2152.77 218.63 L2155.89 218.63 L2155.89 211.269 L2160.17 211.269 Z\" fill=\"#000000\" fill-rule=\"evenodd\" fill-opacity=\"1\" /><path clip-path=\"url(#clip680)\" d=\"M 0 0 M2173.41 218.63 L2177.67 218.63 L2177.67 244.556 L2173.41 244.556 L2173.41 218.63 M2173.41 208.537 L2177.67 208.537 L2177.67 213.931 L2173.41 213.931 L2173.41 208.537 Z\" fill=\"#000000\" fill-rule=\"evenodd\" fill-opacity=\"1\" /><path clip-path=\"url(#clip680)\" d=\"M 0 0 M2192.19 221.616 Q2188.76 221.616 2186.77 224.301 Q2184.78 226.963 2184.78 231.616 Q2184.78 236.269 2186.75 238.954 Q2188.74 241.616 2192.19 241.616 Q2195.59 241.616 2197.58 238.931 Q2199.57 236.246 2199.57 231.616 Q2199.57 227.01 2197.58 224.324 Q2195.59 221.616 2192.19 221.616 M2192.19 218.005 Q2197.74 218.005 2200.91 221.616 Q2204.09 225.227 2204.09 231.616 Q2204.09 237.982 2200.91 241.616 Q2197.74 245.227 2192.19 245.227 Q2186.61 245.227 2183.44 241.616 Q2180.29 237.982 2180.29 231.616 Q2180.29 225.227 2183.44 221.616 Q2186.61 218.005 2192.19 218.005 Z\" fill=\"#000000\" fill-rule=\"evenodd\" fill-opacity=\"1\" /><path clip-path=\"url(#clip680)\" d=\"M 0 0 M2230.1 228.908 L2230.1 244.556 L2225.84 244.556 L2225.84 229.047 Q2225.84 225.366 2224.41 223.537 Q2222.97 221.709 2220.1 221.709 Q2216.66 221.709 2214.66 223.908 Q2212.67 226.107 2212.67 229.903 L2212.67 244.556 L2208.39 244.556 L2208.39 218.63 L2212.67 218.63 L2212.67 222.658 Q2214.2 220.32 2216.26 219.162 Q2218.34 218.005 2221.05 218.005 Q2225.52 218.005 2227.81 220.783 Q2230.1 223.537 2230.1 228.908 Z\" fill=\"#000000\" fill-rule=\"evenodd\" fill-opacity=\"1\" /><polyline clip-path=\"url(#clip680)\" style=\"stroke:#e26f46; stroke-width:4; stroke-opacity:1; fill:none\" points=\"\n",
       "  1781.7,287.756 1928.89,287.756 \n",
       "  \"/>\n",
       "<path clip-path=\"url(#clip680)\" d=\"M 0 0 M1981.29 273.138 L1981.29 278.068 Q1978.92 275.869 1976.24 274.781 Q1973.58 273.693 1970.57 273.693 Q1964.64 273.693 1961.49 277.328 Q1958.35 280.939 1958.35 287.79 Q1958.35 294.619 1961.49 298.253 Q1964.64 301.864 1970.57 301.864 Q1973.58 301.864 1976.24 300.776 Q1978.92 299.689 1981.29 297.489 L1981.29 302.374 Q1978.83 304.04 1976.08 304.874 Q1973.35 305.707 1970.29 305.707 Q1962.44 305.707 1957.93 300.915 Q1953.42 296.101 1953.42 287.79 Q1953.42 279.457 1957.93 274.666 Q1962.44 269.851 1970.29 269.851 Q1973.39 269.851 1976.12 270.684 Q1978.88 271.494 1981.29 273.138 Z\" fill=\"#000000\" fill-rule=\"evenodd\" fill-opacity=\"1\" /><path clip-path=\"url(#clip680)\" d=\"M 0 0 M1997.54 292.003 Q1992.37 292.003 1990.38 293.184 Q1988.39 294.364 1988.39 297.212 Q1988.39 299.48 1989.87 300.823 Q1991.38 302.142 1993.95 302.142 Q1997.49 302.142 1999.62 299.642 Q2001.77 297.119 2001.77 292.952 L2001.77 292.003 L1997.54 292.003 M2006.03 290.244 L2006.03 305.036 L2001.77 305.036 L2001.77 301.101 Q2000.31 303.462 1998.14 304.596 Q1995.96 305.707 1992.81 305.707 Q1988.83 305.707 1986.47 303.485 Q1984.13 301.239 1984.13 297.489 Q1984.13 293.114 1987.05 290.892 Q1989.99 288.67 1995.8 288.67 L2001.77 288.67 L2001.77 288.253 Q2001.77 285.314 1999.83 283.716 Q1997.91 282.096 1994.41 282.096 Q1992.19 282.096 1990.08 282.628 Q1987.98 283.161 1986.03 284.226 L1986.03 280.29 Q1988.37 279.388 1990.57 278.948 Q1992.77 278.485 1994.85 278.485 Q2000.48 278.485 2003.25 281.402 Q2006.03 284.318 2006.03 290.244 Z\" fill=\"#000000\" fill-rule=\"evenodd\" fill-opacity=\"1\" /><path clip-path=\"url(#clip680)\" d=\"M 0 0 M2014.62 301.147 L2014.62 314.897 L2010.34 314.897 L2010.34 279.11 L2014.62 279.11 L2014.62 283.045 Q2015.96 280.73 2018 279.619 Q2020.06 278.485 2022.91 278.485 Q2027.63 278.485 2030.57 282.235 Q2033.53 285.985 2033.53 292.096 Q2033.53 298.207 2030.57 301.957 Q2027.63 305.707 2022.91 305.707 Q2020.06 305.707 2018 304.596 Q2015.96 303.462 2014.62 301.147 M2029.11 292.096 Q2029.11 287.397 2027.17 284.735 Q2025.24 282.05 2021.86 282.05 Q2018.48 282.05 2016.54 284.735 Q2014.62 287.397 2014.62 292.096 Q2014.62 296.795 2016.54 299.48 Q2018.48 302.142 2021.86 302.142 Q2025.24 302.142 2027.17 299.48 Q2029.11 296.795 2029.11 292.096 Z\" fill=\"#000000\" fill-rule=\"evenodd\" fill-opacity=\"1\" /><path clip-path=\"url(#clip680)\" d=\"M 0 0 M2038 279.11 L2042.26 279.11 L2042.26 305.036 L2038 305.036 L2038 279.11 M2038 269.017 L2042.26 269.017 L2042.26 274.411 L2038 274.411 L2038 269.017 Z\" fill=\"#000000\" fill-rule=\"evenodd\" fill-opacity=\"1\" /><path clip-path=\"url(#clip680)\" d=\"M 0 0 M2050.94 271.749 L2050.94 279.11 L2059.71 279.11 L2059.71 282.42 L2050.94 282.42 L2050.94 296.494 Q2050.94 299.665 2051.79 300.568 Q2052.67 301.471 2055.34 301.471 L2059.71 301.471 L2059.71 305.036 L2055.34 305.036 Q2050.41 305.036 2048.53 303.207 Q2046.66 301.355 2046.66 296.494 L2046.66 282.42 L2043.53 282.42 L2043.53 279.11 L2046.66 279.11 L2046.66 271.749 L2050.94 271.749 Z\" fill=\"#000000\" fill-rule=\"evenodd\" fill-opacity=\"1\" /><path clip-path=\"url(#clip680)\" d=\"M 0 0 M2075.96 292.003 Q2070.8 292.003 2068.81 293.184 Q2066.82 294.364 2066.82 297.212 Q2066.82 299.48 2068.3 300.823 Q2069.8 302.142 2072.37 302.142 Q2075.92 302.142 2078.04 299.642 Q2080.2 297.119 2080.2 292.952 L2080.2 292.003 L2075.96 292.003 M2084.46 290.244 L2084.46 305.036 L2080.2 305.036 L2080.2 301.101 Q2078.74 303.462 2076.56 304.596 Q2074.39 305.707 2071.24 305.707 Q2067.26 305.707 2064.9 303.485 Q2062.56 301.239 2062.56 297.489 Q2062.56 293.114 2065.48 290.892 Q2068.42 288.67 2074.23 288.67 L2080.2 288.67 L2080.2 288.253 Q2080.2 285.314 2078.25 283.716 Q2076.33 282.096 2072.84 282.096 Q2070.61 282.096 2068.51 282.628 Q2066.4 283.161 2064.46 284.226 L2064.46 280.29 Q2066.79 279.388 2068.99 278.948 Q2071.19 278.485 2073.28 278.485 Q2078.9 278.485 2081.68 281.402 Q2084.46 284.318 2084.46 290.244 Z\" fill=\"#000000\" fill-rule=\"evenodd\" fill-opacity=\"1\" /><path clip-path=\"url(#clip680)\" d=\"M 0 0 M2088.92 269.017 L2093.18 269.017 L2093.18 305.036 L2088.92 305.036 L2088.92 269.017 Z\" fill=\"#000000\" fill-rule=\"evenodd\" fill-opacity=\"1\" /></svg>\n"
      ]
     },
     "execution_count": 88,
     "metadata": {},
     "output_type": "execute_result"
    }
   ],
   "source": [
    "T = 100\n",
    "k_path, c_path, grid_path = growthBellmanPath(kgrid, n_pol, k_pol, c_pol, length(kgrid), T)\n",
    "time = 1:T\n",
    "plot(time, c_path./c̄, label = \"Consumption\", lw = 3)\n",
    "plot!(time, k_path./k̄, label = \"Capital\", lw = 3, title = \"Optimal Path Given High Initial k\")\n",
    "xlabel!(\"Time\")"
   ]
  },
  {
   "cell_type": "markdown",
   "metadata": {
    "ExecuteTime": {
     "end_time": "2021-05-02T14:57:33.720000-07:00",
     "start_time": "2021-05-02T21:57:33.708Z"
    }
   },
   "source": [
    "Notice that a high initial capital implies a high initial consumption level.\n",
    "\n",
    "Over time, both variable seem to experience uniform negative growth until they convergence to their respective steady states."
   ]
  }
 ],
 "metadata": {
  "kernelspec": {
   "display_name": "Julia 1.5.4",
   "language": "julia",
   "name": "julia-1.5"
  },
  "language_info": {
   "file_extension": ".jl",
   "mimetype": "application/julia",
   "name": "julia",
   "version": "1.5.4"
  },
  "latex_envs": {
   "LaTeX_envs_menu_present": true,
   "autoclose": false,
   "autocomplete": true,
   "bibliofile": "biblio.bib",
   "cite_by": "apalike",
   "current_citInitial": 1,
   "eqLabelWithNumbers": true,
   "eqNumInitial": 1,
   "hotkeys": {
    "equation": "Ctrl-E",
    "itemize": "Ctrl-I"
   },
   "labels_anchors": false,
   "latex_user_defs": false,
   "report_style_numbering": false,
   "user_envs_cfg": false
  }
 },
 "nbformat": 4,
 "nbformat_minor": 4
}

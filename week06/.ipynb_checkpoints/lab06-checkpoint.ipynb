{
 "cells": [
  {
   "cell_type": "markdown",
   "metadata": {},
   "source": [
    "# Solving Neoclassical Growth Models"
   ]
  },
  {
   "cell_type": "markdown",
   "metadata": {},
   "source": [
    "Contents:\n",
    "\n",
    "- [Solving Neoclassical Growth Models](#Solving-Neoclassical-Growth-Models)  \n",
    "  - [A Basic Growth Model](#A-Basic-Growth-Model)  \n",
    "  - [Transition Equations](#Transition-Equations)\n",
    "  - [Steady State](#Steady-State)  \n",
    "  - [Solving the Model](#Solving-the-Model)   \n",
    "  - [Generating Optimal Paths](#Generating-Optimal-Paths)"
   ]
  },
  {
   "cell_type": "markdown",
   "metadata": {},
   "source": [
    "This lab includes:\n",
    "\n",
    "(1) An overview of a basic neoclassical growth model;\n",
    "\n",
    "(2) Solving a non-stochastic growth model using value function iteration;\n",
    "\n",
    "(3) Finding the optimal path using policy functions."
   ]
  },
  {
   "cell_type": "markdown",
   "metadata": {},
   "source": [
    "## A Basic Growth Model"
   ]
  },
  {
   "cell_type": "markdown",
   "metadata": {},
   "source": [
    "Consider the following economy.\n",
    "\n",
    "There is a representative agent who has preferences given by \n",
    "\n",
    "\\begin{align*}\n",
    "    \\sum_{t=0}^\\infty \\beta^t u(c_t) \\, ,\n",
    "\\end{align*}\n",
    "\n",
    "where $u(c_t) = \\log(c_t)$ and $\\beta \\in (0,1)$ is the discount factor."
   ]
  },
  {
   "cell_type": "markdown",
   "metadata": {},
   "source": [
    "The technology in this economy is given by \n",
    "\n",
    "\\begin{align*}\n",
    "    c_t + i_t &= y_t \\, , \\\\\n",
    "    y_t &= A k_{t}^\\alpha \\, , \\\\\n",
    "    k_{t+1} &= i_t + (1-\\delta) k_t \\, ,\n",
    "\\end{align*}\n",
    "\n",
    "where $c_t$ is consumption, $i_t$ is investment, $y_t$ is output, $k_t$ is capital, $\\alpha \\in (0,1)$, $A \\in \\mathbb{R}_+$ is the productivity factor, and $\\delta \\in (0,1)$ is the depreciation rate."
   ]
  },
  {
   "cell_type": "markdown",
   "metadata": {},
   "source": [
    "The social planner's problem may be expressed by the following Bellman equation:\n",
    "\n",
    "\\begin{align*}\n",
    "    V(k) = \\max_{c,i,k'} \\left\\{ \\log(c) + \\beta V(k') \\right\\}\n",
    "\\end{align*}\n",
    "\n",
    "subject to \n",
    "\n",
    "\\begin{align}\n",
    "    c + i &= A k^\\alpha \\, , \\label{eq:flow_constraint} \\\\\n",
    "    k' &= (1-\\delta) k + i \\, . \\label{eq:capital_accumulation} \n",
    "\\end{align}"
   ]
  },
  {
   "cell_type": "markdown",
   "metadata": {},
   "source": [
    "## Transition Equations"
   ]
  },
  {
   "cell_type": "markdown",
   "metadata": {},
   "source": [
    "We can simplify this system by using the first constraint to solve for $i$:\n",
    "\n",
    "\\begin{align*}\n",
    "    i = A k^\\alpha - c \\, ,\n",
    "\\end{align*}\n",
    "\n",
    "which can be substituted into the second constraint to yield \n",
    "\n",
    "\\begin{align*}\n",
    "    k' = (1-\\delta) k + A k^\\alpha - c  \\, .\n",
    "\\end{align*}\n"
   ]
  },
  {
   "cell_type": "markdown",
   "metadata": {},
   "source": [
    "The above equation for $k'$ can be substituted into the Bellman equation to yield \n",
    "\n",
    "\\begin{align*}\n",
    "    V(k) = \\max_{c} \\left\\{ \\log(c) + \\beta V\\left[ (1-\\delta)k + Ak^\\alpha - c \\right] \\right\\} \\, .\n",
    "\\end{align*}"
   ]
  },
  {
   "cell_type": "markdown",
   "metadata": {},
   "source": [
    "Using the Bellman equation we may derive the following first-order condition for $c$:\n",
    "\n",
    "\\begin{align*}\n",
    "    0 = \\frac{1}{c} + \\beta V'(k')(-1) \\, ,\n",
    "\\end{align*}\n",
    "\n",
    "which is equivalent to \n",
    "\n",
    "\\begin{align}\n",
    "\\label{eq:foc}\n",
    "    \\beta V'(k') = \\frac{1}{c} \\, .\n",
    "\\end{align}"
   ]
  },
  {
   "cell_type": "markdown",
   "metadata": {
    "ExecuteTime": {
     "end_time": "2021-05-01T21:50:52.391000-07:00",
     "start_time": "2021-05-02T04:50:50.811Z"
    }
   },
   "source": [
    "We may also use the Bellman eqation to obtain the following envelope condition:\n",
    "\n",
    "\\begin{align*}\n",
    "V'(k) = \\beta V'(k') (1 - \\delta + \\alpha A k^{\\alpha - 1} ) \\, .\n",
    "\\end{align*}"
   ]
  },
  {
   "cell_type": "markdown",
   "metadata": {},
   "source": [
    "Eq. \\eqref{eq:foc} can then be substituted into the RHS of the envelope condition to yield \n",
    "\n",
    "\\begin{align*}\n",
    "    V'(k) = \\frac{1}{c} \\left( 1 - \\delta + \\alpha A k^{\\alpha-1} \\right) \\, .\n",
    "\\end{align*}"
   ]
  },
  {
   "cell_type": "markdown",
   "metadata": {},
   "source": [
    "This equation can now be \"stepped-up\" by a period ($k'$ and $c'$ instead of $k$ and $c$) to give us\n",
    "\n",
    "\\begin{align*}\n",
    "    V'(k') = \\frac{1}{c'} \\left( 1 - \\delta + \\alpha A k'^{\\alpha-1} \\right) \\, .\n",
    "\\end{align*}"
   ]
  },
  {
   "cell_type": "markdown",
   "metadata": {},
   "source": [
    "We once again substitute Eq. \\eqref{eq:foc} into the LHS of the above equation to obtain \n",
    "\n",
    "\\begin{align*}\n",
    "    \\frac{1}{\\beta c} = \\frac{1}{c'} \\left( 1 - \\delta + \\alpha A k'^{\\alpha-1} \\right) \\, ,\n",
    "\\end{align*}\n",
    "\n",
    "which can be used to solve for $c'$:\n",
    "\n",
    "\\begin{align*}\n",
    "    c' = c \\beta \\left( 1 - \\delta + \\alpha A k'^{\\alpha - 1} \\right) \\, .\n",
    "\\end{align*}"
   ]
  },
  {
   "cell_type": "markdown",
   "metadata": {},
   "source": [
    "We can now attach time indices to the above equation to obtain the Euler equation:\n",
    "\n",
    "\\begin{align}\n",
    "\\label{eq:euler}\n",
    "    c_{t+1} = c_t \\beta \\left(1 - \\delta + \\alpha A k_{t+1}^{\\alpha-1} \\right) \\, .\n",
    "\\end{align}"
   ]
  },
  {
   "cell_type": "markdown",
   "metadata": {},
   "source": [
    "Therefore, the economy is governed by the system of transition equations made up by Eqs. \\eqref{eq:flow_constraint}, \\eqref{eq:capital_accumulation}, and \\eqref{eq:euler}."
   ]
  },
  {
   "cell_type": "markdown",
   "metadata": {},
   "source": [
    "I repeat all equations below for easy reference.\n",
    "\n",
    "**Capital accumulation:** \n",
    "\n",
    "\\begin{align*}\n",
    "k_{t+1} = (1-\\delta) k_t + Ak_t^{\\alpha} - c_t\n",
    "\\end{align*}\n",
    "\n",
    "**Euler equation:** \n",
    "\n",
    "\\begin{align*}\n",
    "c_{t+1} = c_t \\beta \\left( 1 - \\delta + \\alpha A k_{t+1}^{\\alpha-1} \\right)\n",
    "\\end{align*}\n",
    "\n",
    "**Output:**\n",
    "\n",
    "\\begin{align*}\n",
    "y_t = A k_t^\\alpha \n",
    "\\end{align*}\n",
    "\n",
    "\n",
    "**Flow budget constraint / Investment:** \n",
    "\n",
    "\\begin{align*}\n",
    "i_t = A k_t^{\\alpha} - c_t\n",
    "\\end{align*}"
   ]
  },
  {
   "cell_type": "markdown",
   "metadata": {},
   "source": [
    "## Steady State"
   ]
  },
  {
   "cell_type": "markdown",
   "metadata": {},
   "source": [
    "In the steady state (SS), we have $c_{t+1} = c_t = \\overline{c}$ and $k_{t+1} = k_t = \\overline{k}$, which also implies SS output \n",
    "\n",
    "\\begin{align*}\n",
    "\\overline{y} = A \\overline{k}^\\alpha\n",
    "\\end{align*}\n",
    "\n",
    "and SS investment \n",
    "\n",
    "\\begin{align*}\n",
    "\\overline{i} = \\overline{y} - \\overline{c} \\, .\n",
    "\\end{align*}"
   ]
  },
  {
   "cell_type": "markdown",
   "metadata": {},
   "source": [
    "We now need to solve for $\\overline{c}$ and $\\overline{k}$."
   ]
  },
  {
   "cell_type": "markdown",
   "metadata": {},
   "source": [
    "Applying a bit of algebra to the Euler and capital accumulation equations yields \n",
    "\n",
    "\\begin{align*}\n",
    "        \\overline{k} = \\left( \\frac{\\alpha A}{\\beta^{-1} - 1 + \\delta} \\right)^\\frac{1}{1-\\alpha} \\, ,\n",
    "\\end{align*}\n",
    "\n",
    "along with \n",
    "\n",
    "\\begin{align*}\n",
    "    \\overline{c} = A \\overline{k}^\\alpha - \\delta \\overline{k} \\, .\n",
    "\\end{align*}"
   ]
  },
  {
   "cell_type": "markdown",
   "metadata": {},
   "source": [
    "Let's write a function named `steadyState` that will output all model parameters and steady state values:"
   ]
  },
  {
   "cell_type": "code",
   "execution_count": 1,
   "metadata": {
    "ExecuteTime": {
     "end_time": "2021-05-03T02:09:02.652000-07:00",
     "start_time": "2021-05-03T09:09:00.886Z"
    }
   },
   "outputs": [
    {
     "data": {
      "text/plain": [
       "steadyState"
      ]
     },
     "execution_count": 1,
     "metadata": {},
     "output_type": "execute_result"
    }
   ],
   "source": [
    "\"\"\"\n",
    "   steadyState(α, β, δ, A)\n",
    "\n",
    "Solves for the steady state of the growth model.\n",
    "\n",
    "# Arguments\n",
    "* `α` -- production function parameter\n",
    "* `β` -- discount factor \n",
    "* `δ` -- depreciation rate \n",
    "* `A` -- productivity factor\n",
    "\n",
    "\"\"\"\n",
    "function steadyState(α = 0.3, β = 0.98, δ = 0.02, A = 1)\n",
    "    \n",
    "    # Solve for k̄\n",
    "    k̄ = (  (α * A) / (β^(-1) - 1 + δ) )^(1/(1-α))\n",
    "    \n",
    "    # Solve for ȳ\n",
    "    ȳ = A * k̄^α\n",
    "    \n",
    "    # Solve for c̄\n",
    "    c̄ = ȳ - δ * k̄\n",
    "    \n",
    "    # Solve for ī\n",
    "    ī = ȳ - c̄\n",
    "    \n",
    "    # Return model parameters and steady state variables\n",
    "    return (α = α, β = β, δ = δ, A = A, c̄ = c̄, k̄ = k̄, ȳ = ȳ, ī = ī)\n",
    "end"
   ]
  },
  {
   "cell_type": "markdown",
   "metadata": {},
   "source": [
    "We run the function and store all outputs:"
   ]
  },
  {
   "cell_type": "code",
   "execution_count": 2,
   "metadata": {
    "ExecuteTime": {
     "end_time": "2021-05-03T02:09:05.699000-07:00",
     "start_time": "2021-05-03T09:09:05.517Z"
    }
   },
   "outputs": [
    {
     "name": "stdout",
     "output_type": "stream",
     "text": [
      "c̄ = 2.0106154404398704\n",
      "k̄ = 17.53027697180669\n",
      "ȳ = 2.361220979876004\n",
      "ī = 0.3506055394361338\n"
     ]
    }
   ],
   "source": [
    "# Generate and save steady state objects\n",
    "α, β, δ, A, c̄, k̄, ȳ, ī = steadyState()\n",
    "\n",
    "# Print steady state values\n",
    "@show c̄\n",
    "@show k̄\n",
    "@show ȳ\n",
    "@show ī;"
   ]
  },
  {
   "cell_type": "markdown",
   "metadata": {},
   "source": [
    "## Solving the Model"
   ]
  },
  {
   "cell_type": "markdown",
   "metadata": {},
   "source": [
    "Let's load the packages we might need."
   ]
  },
  {
   "cell_type": "code",
   "execution_count": 12,
   "metadata": {
    "ExecuteTime": {
     "end_time": "2021-05-03T02:11:59.182000-07:00",
     "start_time": "2021-05-03T09:11:59.174Z"
    }
   },
   "outputs": [],
   "source": [
    "# Load all packages we might need\n",
    "using LinearAlgebra, Plots, LaTeXStrings"
   ]
  },
  {
   "cell_type": "markdown",
   "metadata": {},
   "source": [
    "Our goal now is to computationally solve for the policy function using value function iteration.\n",
    "\n",
    "We start by constructing a function named `growthBellmanMap` that applies a single iteration of the Bellman map."
   ]
  },
  {
   "cell_type": "code",
   "execution_count": 4,
   "metadata": {
    "ExecuteTime": {
     "end_time": "2021-05-03T02:09:30.758000-07:00",
     "start_time": "2021-05-03T09:09:28.883Z"
    }
   },
   "outputs": [
    {
     "data": {
      "text/plain": [
       "growthBellmanMap"
      ]
     },
     "execution_count": 4,
     "metadata": {},
     "output_type": "execute_result"
    }
   ],
   "source": [
    "\"\"\"\n",
    "   growthBellmanMap(V, kgrid, α, β, δ, A)\n",
    "\n",
    "Applies a single iteration of the Bellman map to the model.\n",
    "Returns a new iteration of the value and policy functions.\n",
    "\n",
    "# Arguments\n",
    "* `V`     -- An initial value function\n",
    "* `kgrid` -- A grid of k values over some interval\n",
    "* `α`     -- production function parameter\n",
    "* `β`     -- discount factor \n",
    "* `δ`     -- depreciation rate \n",
    "* `A`     -- productivity factor\n",
    "\n",
    "\"\"\"\n",
    "function growthBellmanMap(V, kgrid, α, β, δ, A)\n",
    "    \n",
    "    N     = length(kgrid) #k grid length\n",
    "    V_out = zeros(N) #new value function\n",
    "    n_pol = zeros(Int,N) #policy rule for grid points\n",
    "    k_pol = zeros(N) #policy rule for capital\n",
    "    c_pol = zeros(N) #consumption rule\n",
    "    obj   = zeros(N) #objective to be maximized wrt k′\n",
    "    \n",
    "    for n in 1:N #iterate for each initial capital\n",
    "        \n",
    "        for nprime in 1:N #iterate for choice of capital this period\n",
    "            \n",
    "            # Compute optimal consumption level\n",
    "            c = (1-δ) * kgrid[n] + A * kgrid[n]^(α) - kgrid[nprime]\n",
    "            \n",
    "            if c <= 0\n",
    "                obj[nprime] = -Inf #penalty if consumption <0\n",
    "            else\n",
    "                obj[nprime] = log(c) + β * V[nprime] #otherwise RHS of bellman equation\n",
    "            end\n",
    "        end\n",
    "        \n",
    "        V_out[n], n_pol[n] = findmax(obj) #find optimal value and the choice that gives it\n",
    "        k_pol[n]           = kgrid[n_pol[n]] #record capital policy\n",
    "        c_pol[n]           =(1-δ) * kgrid[n] + A * kgrid[n]^(α) - k_pol[n] #record consumption policy\n",
    "            \n",
    "    end\n",
    "    \n",
    "    return V_out, n_pol, k_pol, c_pol\n",
    "end"
   ]
  },
  {
   "cell_type": "markdown",
   "metadata": {},
   "source": [
    "Then we create a function named `solveGrowthBellman` that iteratively applies `growthBellmanMap` until reaching convergence.\n",
    "\n",
    "The output of the function will contain a vector representing the value function, the policy functions for $k$ and $c$, as well as an index representing the policy map from $k_t$ to $k_{t+1}$ on a given grid for $k$."
   ]
  },
  {
   "cell_type": "code",
   "execution_count": 5,
   "metadata": {
    "ExecuteTime": {
     "end_time": "2021-05-03T02:09:34.290000-07:00",
     "start_time": "2021-05-03T09:09:34.279Z"
    }
   },
   "outputs": [
    {
     "data": {
      "text/plain": [
       "solveGrowthBellman"
      ]
     },
     "execution_count": 5,
     "metadata": {},
     "output_type": "execute_result"
    }
   ],
   "source": [
    "\"\"\"\n",
    "   solveGrowthBellman(V0, kgrid, α, β, δ, A, ϵ)\n",
    "\n",
    "Applies the Bellman map until convergence.\n",
    "Returns final iterations of the value and policy functions.\n",
    "\n",
    "# Arguments\n",
    "* `V`     -- initial value function\n",
    "* `kgrid` -- grid of k values over some interval\n",
    "* `α`     -- production function parameter\n",
    "* `β`     -- discount factor \n",
    "* `δ`     -- depreciation rate \n",
    "* `A`     -- productivity factor\n",
    "* `ϵ`     -- convergence condition\n",
    "\n",
    "\"\"\"\n",
    "function solveGrowthBellman(V0, kgrid, α, β, δ, A, ϵ=1e-6)\n",
    "    \n",
    "    # Initialize the convergence metric\n",
    "    diff = 0.1\n",
    "    \n",
    "    # Apply the first iteration of the Bellman map\n",
    "    V, n_pol, k_pol, c_pol = growthBellmanMap(V0, kgrid, α, β, δ, A)\n",
    "    \n",
    "    # Apply the Bellman map until convergence\n",
    "    while diff > ϵ\n",
    "        \n",
    "        V_new, n_pol, k_pol, c_pol  = growthBellmanMap(V, kgrid, α, β, δ, A)\n",
    "        \n",
    "        diff = norm(V_new-V,Inf) #update convergence metric\n",
    "        \n",
    "        V = V_new #update value function\n",
    "    end\n",
    "    \n",
    "    # Return final value function, policy function map indexes, \n",
    "    # and policy functions for k and c\n",
    "    return V, n_pol, k_pol, c_pol\n",
    "end"
   ]
  },
  {
   "cell_type": "markdown",
   "metadata": {},
   "source": [
    "We now have everything we need to solve the model using value function iteration:"
   ]
  },
  {
   "cell_type": "code",
   "execution_count": 6,
   "metadata": {
    "ExecuteTime": {
     "end_time": "2021-05-03T02:09:40.972000-07:00",
     "start_time": "2021-05-03T09:09:36.507Z"
    }
   },
   "outputs": [],
   "source": [
    "# Create a grid for k\n",
    "N     = 501\n",
    "kgrid = LinRange(k̄-10,k̄+10,N) #center grid on k̄\n",
    "\n",
    "# Generate value function iteration solutions\n",
    "V, n_pol, k_pol, c_pol = solveGrowthBellman(zeros(N), kgrid, α, β, δ, A);"
   ]
  },
  {
   "cell_type": "markdown",
   "metadata": {},
   "source": [
    "We can plot the policy function for $k$:"
   ]
  },
  {
   "cell_type": "code",
   "execution_count": 120,
   "metadata": {
    "ExecuteTime": {
     "end_time": "2021-05-03T02:49:04.359000-07:00",
     "start_time": "2021-05-03T09:49:04.296Z"
    },
    "scrolled": false
   },
   "outputs": [
    {
     "data": {
      "image/svg+xml": [
       "<?xml version=\"1.0\" encoding=\"utf-8\"?>\n",
       "<svg xmlns=\"http://www.w3.org/2000/svg\" xmlns:xlink=\"http://www.w3.org/1999/xlink\" width=\"600\" height=\"400\" viewBox=\"0 0 2400 1600\">\n",
       "<defs>\n",
       "  <clipPath id=\"clip380\">\n",
       "    <rect x=\"0\" y=\"0\" width=\"2400\" height=\"1600\"/>\n",
       "  </clipPath>\n",
       "</defs>\n",
       "<path clip-path=\"url(#clip380)\" d=\"\n",
       "M0 1600 L2400 1600 L2400 0 L0 0  Z\n",
       "  \" fill=\"#ffffff\" fill-rule=\"evenodd\" fill-opacity=\"1\"/>\n",
       "<defs>\n",
       "  <clipPath id=\"clip381\">\n",
       "    <rect x=\"480\" y=\"0\" width=\"1681\" height=\"1600\"/>\n",
       "  </clipPath>\n",
       "</defs>\n",
       "<defs>\n",
       "  <clipPath id=\"clip382\">\n",
       "    <rect x=\"196\" y=\"121\" width=\"2157\" height=\"1308\"/>\n",
       "  </clipPath>\n",
       "</defs>\n",
       "<path clip-path=\"url(#clip380)\" d=\"\n",
       "M196.831 1428.41 L2352.76 1428.41 L2352.76 121.249 L196.831 121.249  Z\n",
       "  \" fill=\"#ffffff\" fill-rule=\"evenodd\" fill-opacity=\"1\"/>\n",
       "<polyline clip-path=\"url(#clip382)\" style=\"stroke:#000000; stroke-width:2; stroke-opacity:0.1; fill:none\" points=\"\n",
       "  509.005,1428.41 509.005,121.249 \n",
       "  \"/>\n",
       "<polyline clip-path=\"url(#clip382)\" style=\"stroke:#000000; stroke-width:2; stroke-opacity:0.1; fill:none\" points=\"\n",
       "  1017.48,1428.41 1017.48,121.249 \n",
       "  \"/>\n",
       "<polyline clip-path=\"url(#clip382)\" style=\"stroke:#000000; stroke-width:2; stroke-opacity:0.1; fill:none\" points=\"\n",
       "  1525.95,1428.41 1525.95,121.249 \n",
       "  \"/>\n",
       "<polyline clip-path=\"url(#clip382)\" style=\"stroke:#000000; stroke-width:2; stroke-opacity:0.1; fill:none\" points=\"\n",
       "  2034.42,1428.41 2034.42,121.249 \n",
       "  \"/>\n",
       "<polyline clip-path=\"url(#clip380)\" style=\"stroke:#000000; stroke-width:4; stroke-opacity:1; fill:none\" points=\"\n",
       "  196.831,1428.41 2352.76,1428.41 \n",
       "  \"/>\n",
       "<polyline clip-path=\"url(#clip380)\" style=\"stroke:#000000; stroke-width:4; stroke-opacity:1; fill:none\" points=\"\n",
       "  509.005,1428.41 509.005,1412.73 \n",
       "  \"/>\n",
       "<polyline clip-path=\"url(#clip380)\" style=\"stroke:#000000; stroke-width:4; stroke-opacity:1; fill:none\" points=\"\n",
       "  1017.48,1428.41 1017.48,1412.73 \n",
       "  \"/>\n",
       "<polyline clip-path=\"url(#clip380)\" style=\"stroke:#000000; stroke-width:4; stroke-opacity:1; fill:none\" points=\"\n",
       "  1525.95,1428.41 1525.95,1412.73 \n",
       "  \"/>\n",
       "<polyline clip-path=\"url(#clip380)\" style=\"stroke:#000000; stroke-width:4; stroke-opacity:1; fill:none\" points=\"\n",
       "  2034.42,1428.41 2034.42,1412.73 \n",
       "  \"/>\n",
       "<path clip-path=\"url(#clip380)\" d=\"M 0 0 M485.88 1485.15 L493.519 1485.15 L493.519 1458.78 L485.209 1460.45 L485.209 1456.19 L493.473 1454.52 L498.149 1454.52 L498.149 1485.15 L505.787 1485.15 L505.787 1489.08 L485.88 1489.08 L485.88 1485.15 Z\" fill=\"#000000\" fill-rule=\"evenodd\" fill-opacity=\"1\" /><path clip-path=\"url(#clip380)\" d=\"M 0 0 M520.857 1457.6 Q517.246 1457.6 515.417 1461.17 Q513.611 1464.71 513.611 1471.84 Q513.611 1478.95 515.417 1482.51 Q517.246 1486.05 520.857 1486.05 Q524.491 1486.05 526.297 1482.51 Q528.125 1478.95 528.125 1471.84 Q528.125 1464.71 526.297 1461.17 Q524.491 1457.6 520.857 1457.6 M520.857 1453.9 Q526.667 1453.9 529.722 1458.51 Q532.801 1463.09 532.801 1471.84 Q532.801 1480.57 529.722 1485.17 Q526.667 1489.76 520.857 1489.76 Q515.047 1489.76 511.968 1485.17 Q508.912 1480.57 508.912 1471.84 Q508.912 1463.09 511.968 1458.51 Q515.047 1453.9 520.857 1453.9 Z\" fill=\"#000000\" fill-rule=\"evenodd\" fill-opacity=\"1\" /><path clip-path=\"url(#clip380)\" d=\"M 0 0 M994.851 1485.15 L1002.49 1485.15 L1002.49 1458.78 L994.179 1460.45 L994.179 1456.19 L1002.44 1454.52 L1007.12 1454.52 L1007.12 1485.15 L1014.76 1485.15 L1014.76 1489.08 L994.851 1489.08 L994.851 1485.15 Z\" fill=\"#000000\" fill-rule=\"evenodd\" fill-opacity=\"1\" /><path clip-path=\"url(#clip380)\" d=\"M 0 0 M1019.87 1454.52 L1038.23 1454.52 L1038.23 1458.46 L1024.16 1458.46 L1024.16 1466.93 Q1025.17 1466.58 1026.19 1466.42 Q1027.21 1466.24 1028.23 1466.24 Q1034.02 1466.24 1037.4 1469.41 Q1040.78 1472.58 1040.78 1478 Q1040.78 1483.58 1037.3 1486.68 Q1033.83 1489.76 1027.51 1489.76 Q1025.34 1489.76 1023.07 1489.39 Q1020.82 1489.02 1018.42 1488.27 L1018.42 1483.58 Q1020.5 1484.71 1022.72 1485.27 Q1024.94 1485.82 1027.42 1485.82 Q1031.42 1485.82 1033.76 1483.71 Q1036.1 1481.61 1036.1 1478 Q1036.1 1474.39 1033.76 1472.28 Q1031.42 1470.17 1027.42 1470.17 Q1025.54 1470.17 1023.67 1470.59 Q1021.82 1471.01 1019.87 1471.89 L1019.87 1454.52 Z\" fill=\"#000000\" fill-rule=\"evenodd\" fill-opacity=\"1\" /><path clip-path=\"url(#clip380)\" d=\"M 0 0 M1507.1 1485.15 L1523.42 1485.15 L1523.42 1489.08 L1501.47 1489.08 L1501.47 1485.15 Q1504.13 1482.39 1508.72 1477.77 Q1513.32 1473.11 1514.5 1471.77 Q1516.75 1469.25 1517.63 1467.51 Q1518.53 1465.75 1518.53 1464.06 Q1518.53 1461.31 1516.59 1459.57 Q1514.67 1457.83 1511.56 1457.83 Q1509.37 1457.83 1506.91 1458.6 Q1504.48 1459.36 1501.7 1460.91 L1501.7 1456.19 Q1504.53 1455.06 1506.98 1454.48 Q1509.43 1453.9 1511.47 1453.9 Q1516.84 1453.9 1520.04 1456.58 Q1523.23 1459.27 1523.23 1463.76 Q1523.23 1465.89 1522.42 1467.81 Q1521.63 1469.71 1519.53 1472.3 Q1518.95 1472.97 1515.85 1476.19 Q1512.74 1479.39 1507.1 1485.15 Z\" fill=\"#000000\" fill-rule=\"evenodd\" fill-opacity=\"1\" /><path clip-path=\"url(#clip380)\" d=\"M 0 0 M1538.49 1457.6 Q1534.87 1457.6 1533.05 1461.17 Q1531.24 1464.71 1531.24 1471.84 Q1531.24 1478.95 1533.05 1482.51 Q1534.87 1486.05 1538.49 1486.05 Q1542.12 1486.05 1543.93 1482.51 Q1545.75 1478.95 1545.75 1471.84 Q1545.75 1464.71 1543.93 1461.17 Q1542.12 1457.6 1538.49 1457.6 M1538.49 1453.9 Q1544.3 1453.9 1547.35 1458.51 Q1550.43 1463.09 1550.43 1471.84 Q1550.43 1480.57 1547.35 1485.17 Q1544.3 1489.76 1538.49 1489.76 Q1532.68 1489.76 1529.6 1485.17 Q1526.54 1480.57 1526.54 1471.84 Q1526.54 1463.09 1529.6 1458.51 Q1532.68 1453.9 1538.49 1453.9 Z\" fill=\"#000000\" fill-rule=\"evenodd\" fill-opacity=\"1\" /><path clip-path=\"url(#clip380)\" d=\"M 0 0 M2016.07 1485.15 L2032.39 1485.15 L2032.39 1489.08 L2010.44 1489.08 L2010.44 1485.15 Q2013.1 1482.39 2017.69 1477.77 Q2022.29 1473.11 2023.47 1471.77 Q2025.72 1469.25 2026.6 1467.51 Q2027.5 1465.75 2027.5 1464.06 Q2027.5 1461.31 2025.56 1459.57 Q2023.64 1457.83 2020.53 1457.83 Q2018.34 1457.83 2015.88 1458.6 Q2013.45 1459.36 2010.67 1460.91 L2010.67 1456.19 Q2013.5 1455.06 2015.95 1454.48 Q2018.41 1453.9 2020.44 1453.9 Q2025.81 1453.9 2029.01 1456.58 Q2032.2 1459.27 2032.2 1463.76 Q2032.2 1465.89 2031.39 1467.81 Q2030.6 1469.71 2028.5 1472.3 Q2027.92 1472.97 2024.82 1476.19 Q2021.72 1479.39 2016.07 1485.15 Z\" fill=\"#000000\" fill-rule=\"evenodd\" fill-opacity=\"1\" /><path clip-path=\"url(#clip380)\" d=\"M 0 0 M2037.5 1454.52 L2055.86 1454.52 L2055.86 1458.46 L2041.78 1458.46 L2041.78 1466.93 Q2042.8 1466.58 2043.82 1466.42 Q2044.84 1466.24 2045.86 1466.24 Q2051.65 1466.24 2055.03 1469.41 Q2058.41 1472.58 2058.41 1478 Q2058.41 1483.58 2054.93 1486.68 Q2051.46 1489.76 2045.14 1489.76 Q2042.97 1489.76 2040.7 1489.39 Q2038.45 1489.02 2036.04 1488.27 L2036.04 1483.58 Q2038.13 1484.71 2040.35 1485.27 Q2042.57 1485.82 2045.05 1485.82 Q2049.05 1485.82 2051.39 1483.71 Q2053.73 1481.61 2053.73 1478 Q2053.73 1474.39 2051.39 1472.28 Q2049.05 1470.17 2045.05 1470.17 Q2043.17 1470.17 2041.3 1470.59 Q2039.45 1471.01 2037.5 1471.89 L2037.5 1454.52 Z\" fill=\"#000000\" fill-rule=\"evenodd\" fill-opacity=\"1\" /><path clip-path=\"url(#clip380)\" d=\"M 0 0 M1274.56 1530.01 Q1274.56 1531.85 1273.44 1532.94 Q1272.34 1534.04 1270.96 1534.04 Q1269.73 1534.04 1269.09 1533.33 Q1268.44 1532.62 1268.44 1531.72 Q1268.44 1531.33 1268.6 1530.85 Q1268.77 1530.33 1269.12 1529.72 Q1269.51 1529.11 1270.31 1528.66 Q1271.12 1528.21 1272.21 1528.14 Q1271.99 1527.92 1271.92 1527.89 Q1271.44 1527.5 1270.54 1527.37 Q1270.41 1527.31 1269.96 1527.31 Q1267.73 1527.31 1265.48 1528.95 Q1263.26 1530.56 1260.52 1533.62 Q1257.07 1537.19 1254.85 1538.51 Q1264.61 1539.8 1264.61 1545.44 Q1264.61 1546.37 1264.35 1547.5 Q1263.84 1549.62 1263.84 1551.17 Q1263.84 1554.26 1265.93 1554.26 Q1267.96 1554.26 1269.25 1552.2 Q1270.57 1550.14 1271.66 1546.11 Q1271.83 1545.37 1271.99 1545.15 Q1272.15 1544.92 1272.6 1544.92 Q1273.4 1544.92 1273.4 1545.57 Q1272.66 1549.33 1271.02 1552.23 Q1268.93 1555.74 1265.8 1555.74 Q1263.19 1555.74 1261.45 1553.94 Q1259.75 1552.1 1259.75 1549.21 Q1259.75 1548.5 1260.01 1546.89 Q1260.2 1546.24 1260.2 1545.5 Q1260.2 1543.99 1259.36 1542.86 Q1258.52 1541.7 1257.17 1541.12 Q1255.82 1540.54 1254.69 1540.29 Q1253.6 1540 1252.53 1539.9 Q1249.31 1553.52 1248.86 1554.36 Q1248.57 1554.94 1247.93 1555.33 Q1247.28 1555.74 1246.61 1555.74 Q1245.96 1555.74 1245.32 1555.29 Q1244.71 1554.87 1244.71 1553.88 Q1244.71 1553.36 1244.97 1552.43 L1254.53 1514.42 L1254.72 1513.14 Q1254.72 1512.75 1254.56 1512.56 Q1254.43 1512.33 1253.66 1512.17 Q1252.92 1512.01 1251.44 1512.01 Q1250.83 1512.01 1250.54 1511.98 Q1250.28 1511.94 1250.05 1511.78 Q1249.83 1511.59 1249.83 1511.2 Q1249.83 1510.66 1250.05 1510.37 Q1250.31 1510.04 1250.5 1509.98 Q1250.7 1509.92 1251.08 1509.88 Q1251.63 1509.85 1253.47 1509.69 Q1255.3 1509.5 1256.88 1509.37 Q1258.46 1509.24 1259.14 1509.24 Q1259.52 1509.24 1259.72 1509.43 Q1259.94 1509.59 1259.97 1509.79 L1260.01 1509.95 L1253.15 1537.77 Q1255.98 1536.65 1260.46 1531.65 Q1265.64 1525.86 1270.09 1525.86 Q1272.18 1525.86 1273.37 1527.15 Q1274.56 1528.4 1274.56 1530.01 Z\" fill=\"#000000\" fill-rule=\"evenodd\" fill-opacity=\"1\" /><path clip-path=\"url(#clip380)\" d=\"M 0 0 M1295.51 1553.44 Q1295.51 1554.07 1295.21 1554.23 Q1294.92 1554.36 1294.11 1554.36 L1289.78 1554.36 L1286.35 1567.98 Q1286.08 1569.17 1286.08 1570.19 Q1286.08 1571.32 1286.42 1571.81 Q1286.78 1572.31 1287.53 1572.31 Q1288.99 1572.31 1290.57 1570.98 Q1292.17 1569.65 1293.52 1566.4 Q1293.7 1565.97 1293.79 1565.88 Q1293.91 1565.77 1294.2 1565.77 Q1294.76 1565.77 1294.76 1566.22 Q1294.76 1566.38 1294.45 1567.1 Q1294.15 1567.82 1293.5 1568.88 Q1292.87 1569.94 1292.03 1570.93 Q1291.22 1571.92 1289.98 1572.65 Q1288.74 1573.34 1287.41 1573.34 Q1285.54 1573.34 1284.35 1572.15 Q1283.17 1570.96 1283.17 1569.08 Q1283.17 1568.48 1283.65 1566.54 Q1284.12 1564.58 1286.69 1554.36 L1282.61 1554.36 Q1282.05 1554.36 1281.82 1554.34 Q1281.62 1554.32 1281.46 1554.2 Q1281.33 1554.07 1281.33 1553.8 Q1281.33 1553.37 1281.51 1553.19 Q1281.69 1552.99 1281.91 1552.96 Q1282.16 1552.92 1282.72 1552.92 L1287.05 1552.92 L1288.86 1545.59 Q1289.04 1544.87 1289.49 1544.47 Q1289.96 1544.04 1290.23 1543.99 Q1290.5 1543.92 1290.7 1543.92 Q1291.31 1543.92 1291.67 1544.26 Q1292.03 1544.58 1292.03 1545.16 Q1292.03 1545.48 1290.14 1552.92 L1294.2 1552.92 Q1294.72 1552.92 1294.92 1552.94 Q1295.15 1552.96 1295.33 1553.08 Q1295.51 1553.19 1295.51 1553.44 Z\" fill=\"#000000\" fill-rule=\"evenodd\" fill-opacity=\"1\" /><polyline clip-path=\"url(#clip382)\" style=\"stroke:#000000; stroke-width:2; stroke-opacity:0.1; fill:none\" points=\"\n",
       "  196.831,1239.14 2352.76,1239.14 \n",
       "  \"/>\n",
       "<polyline clip-path=\"url(#clip382)\" style=\"stroke:#000000; stroke-width:2; stroke-opacity:0.1; fill:none\" points=\"\n",
       "  196.831,930.844 2352.76,930.844 \n",
       "  \"/>\n",
       "<polyline clip-path=\"url(#clip382)\" style=\"stroke:#000000; stroke-width:2; stroke-opacity:0.1; fill:none\" points=\"\n",
       "  196.831,622.551 2352.76,622.551 \n",
       "  \"/>\n",
       "<polyline clip-path=\"url(#clip382)\" style=\"stroke:#000000; stroke-width:2; stroke-opacity:0.1; fill:none\" points=\"\n",
       "  196.831,314.258 2352.76,314.258 \n",
       "  \"/>\n",
       "<polyline clip-path=\"url(#clip380)\" style=\"stroke:#000000; stroke-width:4; stroke-opacity:1; fill:none\" points=\"\n",
       "  196.831,1428.41 196.831,121.249 \n",
       "  \"/>\n",
       "<polyline clip-path=\"url(#clip380)\" style=\"stroke:#000000; stroke-width:4; stroke-opacity:1; fill:none\" points=\"\n",
       "  196.831,1239.14 222.702,1239.14 \n",
       "  \"/>\n",
       "<polyline clip-path=\"url(#clip380)\" style=\"stroke:#000000; stroke-width:4; stroke-opacity:1; fill:none\" points=\"\n",
       "  196.831,930.844 222.702,930.844 \n",
       "  \"/>\n",
       "<polyline clip-path=\"url(#clip380)\" style=\"stroke:#000000; stroke-width:4; stroke-opacity:1; fill:none\" points=\"\n",
       "  196.831,622.551 222.702,622.551 \n",
       "  \"/>\n",
       "<polyline clip-path=\"url(#clip380)\" style=\"stroke:#000000; stroke-width:4; stroke-opacity:1; fill:none\" points=\"\n",
       "  196.831,314.258 222.702,314.258 \n",
       "  \"/>\n",
       "<path clip-path=\"url(#clip380)\" d=\"M 0 0 M113.91 1252.48 L121.549 1252.48 L121.549 1226.12 L113.238 1227.78 L113.238 1223.52 L121.502 1221.86 L126.178 1221.86 L126.178 1252.48 L133.817 1252.48 L133.817 1256.42 L113.91 1256.42 L113.91 1252.48 Z\" fill=\"#000000\" fill-rule=\"evenodd\" fill-opacity=\"1\" /><path clip-path=\"url(#clip380)\" d=\"M 0 0 M148.886 1224.94 Q145.275 1224.94 143.447 1228.5 Q141.641 1232.04 141.641 1239.17 Q141.641 1246.28 143.447 1249.84 Q145.275 1253.39 148.886 1253.39 Q152.521 1253.39 154.326 1249.84 Q156.155 1246.28 156.155 1239.17 Q156.155 1232.04 154.326 1228.5 Q152.521 1224.94 148.886 1224.94 M148.886 1221.23 Q154.697 1221.23 157.752 1225.84 Q160.831 1230.42 160.831 1239.17 Q160.831 1247.9 157.752 1252.51 Q154.697 1257.09 148.886 1257.09 Q143.076 1257.09 139.998 1252.51 Q136.942 1247.9 136.942 1239.17 Q136.942 1230.42 139.998 1225.84 Q143.076 1221.23 148.886 1221.23 Z\" fill=\"#000000\" fill-rule=\"evenodd\" fill-opacity=\"1\" /><path clip-path=\"url(#clip380)\" d=\"M 0 0 M114.905 944.189 L122.544 944.189 L122.544 917.823 L114.234 919.49 L114.234 915.231 L122.498 913.564 L127.174 913.564 L127.174 944.189 L134.812 944.189 L134.812 948.124 L114.905 948.124 L114.905 944.189 Z\" fill=\"#000000\" fill-rule=\"evenodd\" fill-opacity=\"1\" /><path clip-path=\"url(#clip380)\" d=\"M 0 0 M139.928 913.564 L158.284 913.564 L158.284 917.499 L144.21 917.499 L144.21 925.972 Q145.229 925.624 146.247 925.462 Q147.266 925.277 148.284 925.277 Q154.072 925.277 157.451 928.448 Q160.831 931.62 160.831 937.036 Q160.831 942.615 157.359 945.717 Q153.886 948.796 147.567 948.796 Q145.391 948.796 143.122 948.425 Q140.877 948.055 138.47 947.314 L138.47 942.615 Q140.553 943.749 142.775 944.305 Q144.997 944.86 147.474 944.86 Q151.479 944.86 153.817 942.754 Q156.155 940.647 156.155 937.036 Q156.155 933.425 153.817 931.319 Q151.479 929.212 147.474 929.212 Q145.599 929.212 143.724 929.629 Q141.872 930.046 139.928 930.925 L139.928 913.564 Z\" fill=\"#000000\" fill-rule=\"evenodd\" fill-opacity=\"1\" /><path clip-path=\"url(#clip380)\" d=\"M 0 0 M117.498 635.896 L133.817 635.896 L133.817 639.831 L111.873 639.831 L111.873 635.896 Q114.535 633.141 119.118 628.512 Q123.724 623.859 124.905 622.516 Q127.15 619.993 128.03 618.257 Q128.933 616.498 128.933 614.808 Q128.933 612.053 126.988 610.317 Q125.067 608.581 121.965 608.581 Q119.766 608.581 117.312 609.345 Q114.882 610.109 112.104 611.66 L112.104 606.938 Q114.928 605.803 117.382 605.225 Q119.836 604.646 121.873 604.646 Q127.243 604.646 130.437 607.331 Q133.632 610.016 133.632 614.507 Q133.632 616.637 132.822 618.558 Q132.035 620.456 129.928 623.049 Q129.349 623.72 126.248 626.938 Q123.146 630.132 117.498 635.896 Z\" fill=\"#000000\" fill-rule=\"evenodd\" fill-opacity=\"1\" /><path clip-path=\"url(#clip380)\" d=\"M 0 0 M148.886 608.35 Q145.275 608.35 143.447 611.914 Q141.641 615.456 141.641 622.586 Q141.641 629.692 143.447 633.257 Q145.275 636.799 148.886 636.799 Q152.521 636.799 154.326 633.257 Q156.155 629.692 156.155 622.586 Q156.155 615.456 154.326 611.914 Q152.521 608.35 148.886 608.35 M148.886 604.646 Q154.697 604.646 157.752 609.252 Q160.831 613.836 160.831 622.586 Q160.831 631.312 157.752 635.919 Q154.697 640.502 148.886 640.502 Q143.076 640.502 139.998 635.919 Q136.942 631.312 136.942 622.586 Q136.942 613.836 139.998 609.252 Q143.076 604.646 148.886 604.646 Z\" fill=\"#000000\" fill-rule=\"evenodd\" fill-opacity=\"1\" /><path clip-path=\"url(#clip380)\" d=\"M 0 0 M118.493 327.603 L134.812 327.603 L134.812 331.538 L112.868 331.538 L112.868 327.603 Q115.53 324.848 120.113 320.218 Q124.72 315.566 125.9 314.223 Q128.146 311.7 129.025 309.964 Q129.928 308.204 129.928 306.515 Q129.928 303.76 127.984 302.024 Q126.062 300.288 122.961 300.288 Q120.761 300.288 118.308 301.052 Q115.877 301.816 113.1 303.367 L113.1 298.644 Q115.924 297.51 118.377 296.931 Q120.831 296.353 122.868 296.353 Q128.238 296.353 131.433 299.038 Q134.627 301.723 134.627 306.214 Q134.627 308.343 133.817 310.265 Q133.03 312.163 130.923 314.755 Q130.345 315.427 127.243 318.644 Q124.141 321.839 118.493 327.603 Z\" fill=\"#000000\" fill-rule=\"evenodd\" fill-opacity=\"1\" /><path clip-path=\"url(#clip380)\" d=\"M 0 0 M139.928 296.978 L158.284 296.978 L158.284 300.913 L144.21 300.913 L144.21 309.385 Q145.229 309.038 146.247 308.876 Q147.266 308.691 148.284 308.691 Q154.072 308.691 157.451 311.862 Q160.831 315.033 160.831 320.45 Q160.831 326.028 157.359 329.13 Q153.886 332.209 147.567 332.209 Q145.391 332.209 143.122 331.839 Q140.877 331.468 138.47 330.727 L138.47 326.028 Q140.553 327.163 142.775 327.718 Q144.997 328.274 147.474 328.274 Q151.479 328.274 153.817 326.167 Q156.155 324.061 156.155 320.45 Q156.155 316.839 153.817 314.732 Q151.479 312.626 147.474 312.626 Q145.599 312.626 143.724 313.042 Q141.872 313.459 139.928 314.339 L139.928 296.978 Z\" fill=\"#000000\" fill-rule=\"evenodd\" fill-opacity=\"1\" /><path clip-path=\"url(#clip380)\" d=\"M 0 0 M35.0458 817.121 Q36.8815 817.121 37.9765 818.248 Q39.0715 819.343 39.0715 820.728 Q39.0715 821.952 38.363 822.596 Q37.6545 823.24 36.7527 823.24 Q36.3662 823.24 35.8831 823.079 Q35.3678 822.918 34.7559 822.564 Q34.144 822.178 33.6931 821.372 Q33.2423 820.567 33.1778 819.472 Q32.9524 819.698 32.9202 819.762 Q32.5337 820.245 32.4049 821.147 Q32.3405 821.276 32.3405 821.727 Q32.3405 823.949 33.983 826.203 Q35.5933 828.426 38.6528 831.163 Q42.2277 834.609 43.5481 836.831 Q44.8364 827.073 50.4724 827.073 Q51.4064 827.073 52.5336 827.331 Q54.6592 827.846 56.205 827.846 Q59.2968 827.846 59.2968 825.752 Q59.2968 823.723 57.2356 822.435 Q55.1744 821.115 51.1487 820.02 Q50.408 819.859 50.1825 819.698 Q49.9571 819.537 49.9571 819.086 Q49.9571 818.281 50.6012 818.281 Q54.3693 819.021 57.2678 820.664 Q60.7783 822.757 60.7783 825.881 Q60.7783 828.49 58.9747 830.229 Q57.139 831.936 54.2405 831.936 Q53.5319 831.936 51.9217 831.678 Q51.2775 831.485 50.5368 831.485 Q49.0231 831.485 47.8959 832.322 Q46.7365 833.16 46.1568 834.512 Q45.5771 835.865 45.3195 836.992 Q45.0296 838.087 44.933 839.15 Q58.5561 842.371 59.3934 842.822 Q59.9731 843.111 60.3596 843.756 Q60.7783 844.4 60.7783 845.076 Q60.7783 845.72 60.3274 846.364 Q59.9087 846.976 58.9103 846.976 Q58.395 846.976 57.4611 846.718 L19.4581 837.153 L18.1699 836.96 Q17.7834 836.96 17.5902 837.121 Q17.3648 837.25 17.2037 838.023 Q17.0427 838.764 17.0427 840.245 Q17.0427 840.857 17.0105 841.147 Q16.9783 841.404 16.8173 841.63 Q16.624 841.855 16.2376 841.855 Q15.6901 841.855 15.4002 841.63 Q15.0782 841.372 15.0137 841.179 Q14.9493 840.986 14.9171 840.599 Q14.8849 840.052 14.7239 838.216 Q14.5307 836.38 14.4018 834.802 Q14.273 833.224 14.273 832.548 Q14.273 832.161 14.4662 831.968 Q14.6273 831.743 14.8205 831.711 L14.9815 831.678 L42.8074 838.538 Q41.6802 835.704 36.6883 831.227 Q30.8912 826.042 30.8912 821.598 Q30.8912 819.504 32.1795 818.313 Q33.4355 817.121 35.0458 817.121 Z\" fill=\"#000000\" fill-rule=\"evenodd\" fill-opacity=\"1\" /><path clip-path=\"url(#clip380)\" d=\"M 0 0 M59.5687 796.178 Q60.1999 796.178 60.3577 796.471 Q60.493 796.764 60.493 797.575 L60.493 801.904 L74.1096 805.331 Q75.3045 805.601 76.3189 805.601 Q77.4461 805.601 77.9421 805.263 Q78.4381 804.902 78.4381 804.158 Q78.4381 802.693 77.108 801.115 Q75.7779 799.514 72.5315 798.162 Q72.1032 797.981 72.013 797.891 Q71.9003 797.778 71.9003 797.485 Q71.9003 796.922 72.3512 796.922 Q72.509 796.922 73.2304 797.237 Q73.9518 797.53 75.0114 798.184 Q76.0709 798.815 77.0629 799.65 Q78.0548 800.461 78.7762 801.701 Q79.4751 802.941 79.4751 804.271 Q79.4751 806.142 78.2803 807.337 Q77.0854 808.509 75.2143 808.509 Q74.6056 808.509 72.6668 808.036 Q70.7055 807.562 60.493 804.992 L60.493 809.073 Q60.493 809.637 60.4704 809.862 Q60.4479 810.065 60.3352 810.223 Q60.1999 810.358 59.9294 810.358 Q59.501 810.358 59.3207 810.178 Q59.1178 809.997 59.0952 809.772 Q59.0502 809.524 59.0502 808.96 L59.0502 804.632 L51.7233 802.828 Q51.0019 802.648 50.5961 802.197 Q50.1678 801.724 50.1227 801.453 Q50.0551 801.183 50.0551 800.98 Q50.0551 800.371 50.3932 800.01 Q50.7088 799.65 51.295 799.65 Q51.6106 799.65 59.0502 801.543 L59.0502 797.485 Q59.0502 796.967 59.0727 796.764 Q59.0952 796.538 59.208 796.358 Q59.3207 796.178 59.5687 796.178 Z\" fill=\"#000000\" fill-rule=\"evenodd\" fill-opacity=\"1\" /><path clip-path=\"url(#clip380)\" d=\"M 0 0 M67.9776 779.964 Q67.9776 781.024 67.414 781.024 Q66.8504 781.024 66.8504 779.919 Q66.8504 779.784 66.873 779.558 Q66.8955 779.31 66.8955 779.265 L66.8955 766.257 L53.8425 766.257 Q53.7974 766.257 53.5945 766.28 Q53.369 766.302 53.2338 766.302 Q52.1291 766.302 52.1291 765.761 Q52.1291 765.198 53.2338 765.198 L66.8955 765.198 L66.8955 752.167 Q66.8955 752.122 66.873 751.897 Q66.8504 751.671 66.8504 751.536 Q66.8504 750.476 67.414 750.476 Q67.9776 750.454 67.9776 751.581 Q67.9776 751.716 67.9551 751.919 Q67.9325 752.122 67.9325 752.167 L67.9325 765.198 L81.6393 765.198 Q82.6989 765.198 82.6989 765.761 Q82.6989 766.302 81.5943 766.302 Q81.459 766.302 81.2335 766.28 Q81.0307 766.257 80.9856 766.257 L67.9325 766.257 L67.9325 779.265 Q67.9325 779.31 67.9551 779.581 Q67.9776 779.829 67.9776 779.964 Z\" fill=\"#000000\" fill-rule=\"evenodd\" fill-opacity=\"1\" /><path clip-path=\"url(#clip380)\" d=\"M 0 0 M52.6025 732.607 L51.1597 732.607 Q51.1597 727.061 48.2064 724.198 Q48.2064 723.409 48.3868 723.273 Q48.5671 723.138 49.4013 723.138 L75.3045 723.138 Q76.6796 723.138 77.108 722.462 Q77.5363 721.786 77.5363 718.832 L77.5363 717.367 L78.9566 717.367 Q78.8213 718.99 78.8213 724.852 Q78.8213 730.713 78.9566 732.314 L77.5363 732.314 L77.5363 730.848 Q77.5363 727.94 77.1305 727.241 Q76.7022 726.542 75.3045 726.542 L51.3852 726.542 Q52.6025 728.955 52.6025 732.607 Z\" fill=\"#000000\" fill-rule=\"evenodd\" fill-opacity=\"1\" /><path clip-path=\"url(#clip380)\" d=\"M 0 0 M820.473 67.2542 L820.473 64.6718 L822.482 64.6718 Q827.031 64.6718 828.056 63.934 Q829.122 63.1552 829.122 60.6959 L829.122 16.4684 Q829.122 14.0501 828.056 13.3123 Q826.991 12.5335 822.482 12.5335 L820.473 12.5335 L820.473 9.91016 L850.108 9.91016 Q858.593 9.91016 864.25 14.5829 Q869.906 19.2557 869.906 25.5271 Q869.906 31.7574 864.127 36.2663 Q858.388 40.7341 850.764 40.7341 L836.582 40.7341 L836.582 60.6959 Q836.582 63.1142 837.607 63.893 Q838.672 64.6718 843.222 64.6718 L845.231 64.6718 L845.231 67.2542 Q842.28 67.0082 832.811 67.0082 Q823.424 67.0082 820.473 67.2542 M836.336 38.5617 L847.895 38.5617 Q851.666 38.5617 854.412 37.4959 Q857.159 36.4302 858.388 35.1596 Q859.659 33.8479 860.356 31.7574 Q861.094 29.626 861.176 28.4783 Q861.258 27.2896 861.258 25.5271 Q861.258 23.6826 861.176 22.5349 Q861.094 21.3462 860.356 19.2557 Q859.659 17.1243 858.388 15.8536 Q857.159 14.5419 854.412 13.5582 Q851.707 12.5335 847.895 12.5335 L840.435 12.5335 Q837.566 12.5335 836.951 13.1073 Q836.336 13.6812 836.336 15.8946 L836.336 38.5617 Z\" fill=\"#000000\" fill-rule=\"evenodd\" fill-opacity=\"1\" /><path clip-path=\"url(#clip380)\" d=\"M 0 0 M879.006 62.7453 Q873.472 57.2528 873.472 49.3009 Q873.472 41.3079 878.883 35.4875 Q884.334 29.626 892.122 29.626 Q899.746 29.626 905.198 35.4465 Q910.69 41.226 910.69 49.3009 Q910.69 57.2118 905.157 62.7043 Q899.664 68.1969 892.04 68.1969 Q884.58 68.1969 879.006 62.7453 M880.44 48.604 Q880.44 56.7609 882.572 60.4499 Q885.851 66.0655 892.122 66.0655 Q895.238 66.0655 897.82 64.3849 Q900.443 62.7043 901.878 59.8761 Q903.722 56.1871 903.722 48.604 Q903.722 40.5291 901.509 36.9631 Q898.23 31.5115 892.04 31.5115 Q889.335 31.5115 886.671 32.9461 Q884.047 34.3398 882.449 37.127 Q880.44 40.8161 880.44 48.604 Z\" fill=\"#000000\" fill-rule=\"evenodd\" fill-opacity=\"1\" /><path clip-path=\"url(#clip380)\" d=\"M 0 0 M915.035 67.2542 L915.035 64.6718 Q919.503 64.6718 920.527 64.139 Q921.552 63.5651 921.552 60.8598 L921.552 17.2062 Q921.552 14.0911 920.445 13.3123 Q919.38 12.5335 915.035 12.5335 L915.035 9.91016 L927.086 9.00839 L927.086 60.8598 Q927.086 63.5651 928.151 64.139 Q929.217 64.6718 933.644 64.6718 L933.644 67.2542 Q932.619 67.2542 930.488 67.1722 Q928.356 67.0902 926.799 67.0492 Q925.241 67.0082 924.339 67.0082 Q923.356 67.0082 915.035 67.2542 Z\" fill=\"#000000\" fill-rule=\"evenodd\" fill-opacity=\"1\" /><path clip-path=\"url(#clip380)\" d=\"M 0 0 M938.048 67.2542 L938.048 64.6718 Q942.516 64.6718 943.541 64.139 Q944.566 63.5651 944.566 60.8598 L944.566 38.2747 Q944.566 35.1596 943.5 34.4217 Q942.475 33.6839 938.376 33.6839 L938.376 31.0606 L950.099 30.1589 L950.099 60.9418 Q950.099 63.4422 951.001 64.057 Q951.903 64.6718 956.002 64.6718 L956.002 67.2542 Q947.435 67.0082 947.271 67.0082 Q946.123 67.0082 938.048 67.2542 M941.573 15.5257 Q941.573 13.8451 942.844 12.4925 Q944.156 11.0988 946 11.0988 Q947.845 11.0988 949.156 12.3695 Q950.468 13.5992 950.468 15.5667 Q950.468 17.4932 949.156 18.7638 Q947.845 19.9935 946 19.9935 Q944.074 19.9935 942.803 18.6409 Q941.573 17.2882 941.573 15.5257 Z\" fill=\"#000000\" fill-rule=\"evenodd\" fill-opacity=\"1\" /><path clip-path=\"url(#clip380)\" d=\"M 0 0 M966.391 62.6634 Q961.062 57.0888 961.062 49.1369 Q961.062 41.144 966.309 35.4055 Q971.555 29.626 979.261 29.626 Q984.385 29.626 988.238 32.0854 Q992.091 34.5037 992.091 38.6436 Q992.091 40.4882 990.984 41.5539 Q989.918 42.5786 988.238 42.5786 Q986.475 42.5786 985.41 41.5129 Q984.385 40.4062 984.385 38.7256 Q984.385 37.9878 984.631 37.25 Q984.877 36.5122 985.778 35.7334 Q986.721 34.9546 988.32 34.8316 Q985.328 31.7574 979.507 31.7574 Q979.425 31.7574 979.343 31.7574 Q975.08 31.7574 971.555 35.7744 Q968.03 39.7913 968.03 48.9729 Q968.03 53.7687 969.178 57.2938 Q970.367 60.7779 972.293 62.5814 Q974.22 64.3849 976.105 65.2457 Q977.991 66.0655 979.835 66.0655 Q988.074 66.0655 990.861 57.2528 Q991.107 56.433 991.927 56.433 Q993.034 56.433 993.034 57.2528 Q993.034 57.6627 992.706 58.7284 Q992.378 59.7941 991.353 61.4747 Q990.328 63.1552 988.853 64.6308 Q987.418 66.0655 984.836 67.1312 Q982.294 68.1969 979.097 68.1969 Q971.719 68.1969 966.391 62.6634 Z\" fill=\"#000000\" fill-rule=\"evenodd\" fill-opacity=\"1\" /><path clip-path=\"url(#clip380)\" d=\"M 0 0 M997.957 77.6654 Q997.957 75.9029 998.982 74.9601 Q1000.05 74.0584 1001.48 74.0584 Q1003 74.0584 1003.98 75.0011 Q1005.01 75.9849 1005.01 77.5835 Q1005.01 80.6986 1001.73 81.1085 Q1003.33 82.6251 1005.66 82.6251 Q1008.16 82.6251 1010.17 80.7806 Q1012.22 78.9361 1013.08 77.1736 Q1013.98 75.411 1015.25 72.2139 Q1016.44 69.7135 1017.34 67.2542 L1004.76 36.5942 Q1003.94 34.5857 1002.67 34.1348 Q1001.4 33.6839 997.957 33.6839 L997.957 31.0606 Q1001.73 31.3066 1006.11 31.3066 Q1008.7 31.3066 1015.25 31.0606 L1015.25 33.6839 Q1010.54 33.6839 1010.54 35.8564 Q1010.54 36.1023 1011.03 37.373 L1020.38 59.9581 L1028.86 39.2995 Q1029.35 38.1108 1029.35 37.291 Q1029.35 33.8479 1025.42 33.6839 L1025.42 31.0606 Q1030.95 31.3066 1032.72 31.3066 Q1036.16 31.3066 1038.99 31.0606 L1038.99 33.6839 Q1033.37 33.6839 1031.2 39.0535 L1016.4 74.8782 Q1012.39 84.4287 1005.66 84.4697 Q1002.47 84.4697 1000.21 82.5022 Q997.957 80.5347 997.957 77.6654 Z\" fill=\"#000000\" fill-rule=\"evenodd\" fill-opacity=\"1\" /><path clip-path=\"url(#clip380)\" d=\"M 0 0 M1069.39 67.2542 L1069.39 64.6718 L1071.4 64.6718 Q1075.95 64.6718 1076.98 63.934 Q1078.04 63.1552 1078.04 60.6959 L1078.04 16.7144 Q1078.04 14.296 1076.98 13.5582 Q1075.91 12.7794 1071.4 12.7794 L1069.39 12.7794 L1069.39 10.1561 L1115.46 10.1561 L1117.8 29.0521 L1115.71 29.0521 Q1115.14 24.2564 1114.36 21.5511 Q1113.62 18.8048 1111.9 16.6324 Q1110.18 14.46 1107.27 13.6402 Q1104.4 12.7794 1099.68 12.7794 L1089.6 12.7794 Q1086.73 12.7794 1086.12 13.3942 Q1085.5 13.9681 1085.5 16.1405 L1085.5 37.373 L1092.72 37.373 Q1098.41 37.373 1100.01 35.3235 Q1101.61 33.274 1101.61 27.5355 L1103.7 27.5355 L1103.7 49.7927 L1101.61 49.7927 Q1101.61 44.0132 1100.01 42.0048 Q1098.41 39.9553 1092.72 39.9553 L1085.5 39.9553 L1085.5 60.6139 Q1085.5 62.3764 1085.79 63.0732 Q1086.07 63.7291 1087.84 64.2209 Q1089.6 64.6718 1093.45 64.6718 L1096.24 64.6718 L1096.24 67.2542 Q1093.21 67.0082 1082.14 67.0082 Q1072.34 67.0082 1069.39 67.2542 Z\" fill=\"#000000\" fill-rule=\"evenodd\" fill-opacity=\"1\" /><path clip-path=\"url(#clip380)\" d=\"M 0 0 M1123.45 33.6839 L1123.45 31.0606 L1135.79 30.1589 L1135.79 58.0316 Q1135.79 60.04 1135.95 61.2287 Q1136.12 62.3764 1136.77 63.7291 Q1137.47 65.0817 1139.03 65.6966 Q1140.63 66.3114 1143.17 66.3114 Q1147.72 66.3114 1150.51 62.5814 Q1153.33 58.8514 1153.33 53.3178 L1153.33 38.3567 Q1153.33 35.2415 1152.23 34.4627 Q1151.12 33.6839 1146.78 33.6839 L1146.78 31.0606 L1159.11 30.1589 L1159.11 59.9581 Q1159.11 63.0732 1160.18 63.893 Q1161.29 64.6718 1165.67 64.6718 L1165.67 67.2542 L1153.58 68.1969 L1153.58 60.6139 Q1150.05 68.1559 1142.76 68.1969 Q1139.07 68.1969 1136.53 67.2542 Q1134.03 66.3114 1132.76 65.1637 Q1131.49 63.975 1130.79 61.7206 Q1130.13 59.4662 1130.05 58.0726 Q1129.97 56.6789 1129.97 53.9736 L1129.97 41.3899 Q1129.97 35.6924 1129.15 34.7087 Q1128.33 33.6839 1123.45 33.6839 Z\" fill=\"#000000\" fill-rule=\"evenodd\" fill-opacity=\"1\" /><path clip-path=\"url(#clip380)\" d=\"M 0 0 M1169.56 67.2542 L1169.56 64.6718 Q1174.03 64.6718 1175.05 64.139 Q1176.08 63.5651 1176.08 60.8598 L1176.08 38.3567 Q1176.08 35.2415 1174.97 34.4627 Q1173.91 33.6839 1169.56 33.6839 L1169.56 31.0606 L1181.37 30.1589 L1181.37 38.9716 Q1185.3 30.1589 1193.79 30.1589 Q1200.1 30.1589 1202.6 33.274 Q1204.44 35.3645 1204.81 37.7009 Q1205.22 40.0373 1205.22 46.1037 L1205.22 62.1305 Q1205.3 63.893 1206.66 64.3029 Q1208.01 64.6718 1211.78 64.6718 L1211.78 67.2542 Q1203.21 67.0082 1202.35 67.0082 Q1201.7 67.0082 1192.88 67.2542 L1192.88 64.6718 Q1197.35 64.6718 1198.38 64.139 Q1199.44 63.5651 1199.44 60.8598 L1199.44 41.3079 Q1199.44 37.0451 1198.13 34.5447 Q1196.82 32.0034 1193.21 32.0034 Q1188.87 32.0034 1185.38 35.6514 Q1181.9 39.2995 1181.9 45.4479 L1181.9 60.8598 Q1181.9 63.5651 1182.92 64.139 Q1183.99 64.6718 1188.42 64.6718 L1188.42 67.2542 Q1179.85 67.0082 1179.03 67.0082 Q1178.37 67.0082 1169.56 67.2542 Z\" fill=\"#000000\" fill-rule=\"evenodd\" fill-opacity=\"1\" /><path clip-path=\"url(#clip380)\" d=\"M 0 0 M1221 62.6634 Q1215.67 57.0888 1215.67 49.1369 Q1215.67 41.144 1220.92 35.4055 Q1226.16 29.626 1233.87 29.626 Q1238.99 29.626 1242.85 32.0854 Q1246.7 34.5037 1246.7 38.6436 Q1246.7 40.4882 1245.59 41.5539 Q1244.53 42.5786 1242.85 42.5786 Q1241.08 42.5786 1240.02 41.5129 Q1238.99 40.4062 1238.99 38.7256 Q1238.99 37.9878 1239.24 37.25 Q1239.48 36.5122 1240.39 35.7334 Q1241.33 34.9546 1242.93 34.8316 Q1239.94 31.7574 1234.11 31.7574 Q1234.03 31.7574 1233.95 31.7574 Q1229.69 31.7574 1226.16 35.7744 Q1222.64 39.7913 1222.64 48.9729 Q1222.64 53.7687 1223.79 57.2938 Q1224.97 60.7779 1226.9 62.5814 Q1228.83 64.3849 1230.71 65.2457 Q1232.6 66.0655 1234.44 66.0655 Q1242.68 66.0655 1245.47 57.2528 Q1245.71 56.433 1246.53 56.433 Q1247.64 56.433 1247.64 57.2528 Q1247.64 57.6627 1247.31 58.7284 Q1246.99 59.7941 1245.96 61.4747 Q1244.94 63.1552 1243.46 64.6308 Q1242.03 66.0655 1239.44 67.1312 Q1236.9 68.1969 1233.7 68.1969 Q1226.33 68.1969 1221 62.6634 Z\" fill=\"#000000\" fill-rule=\"evenodd\" fill-opacity=\"1\" /><path clip-path=\"url(#clip380)\" d=\"M 0 0 M1252.56 33.6839 L1252.56 31.8394 Q1256.42 31.6755 1258.96 28.9702 Q1261.54 26.2239 1262.4 22.8628 Q1263.3 19.5016 1263.39 15.6077 L1265.48 15.6077 L1265.48 31.0606 L1277.49 31.0606 L1277.49 33.6839 L1265.48 33.6839 L1265.48 57.0068 Q1265.48 66.0655 1271.13 66.0655 Q1273.55 66.0655 1275.15 63.6061 Q1276.75 61.1058 1276.75 56.6789 L1276.75 52.0471 L1278.84 52.0471 L1278.84 56.8429 Q1278.84 61.3927 1276.75 64.7948 Q1274.66 68.1969 1270.52 68.1969 Q1269 68.1969 1267.48 67.787 Q1266.01 67.4181 1264.04 66.4344 Q1262.11 65.4096 1260.89 62.9503 Q1259.7 60.4499 1259.7 56.8429 L1259.7 33.6839 L1252.56 33.6839 Z\" fill=\"#000000\" fill-rule=\"evenodd\" fill-opacity=\"1\" /><path clip-path=\"url(#clip380)\" d=\"M 0 0 M1284.79 67.2542 L1284.79 64.6718 Q1289.26 64.6718 1290.28 64.139 Q1291.31 63.5651 1291.31 60.8598 L1291.31 38.2747 Q1291.31 35.1596 1290.24 34.4217 Q1289.22 33.6839 1285.12 33.6839 L1285.12 31.0606 L1296.84 30.1589 L1296.84 60.9418 Q1296.84 63.4422 1297.74 64.057 Q1298.65 64.6718 1302.74 64.6718 L1302.74 67.2542 Q1294.18 67.0082 1294.01 67.0082 Q1292.87 67.0082 1284.79 67.2542 M1288.32 15.5257 Q1288.32 13.8451 1289.59 12.4925 Q1290.9 11.0988 1292.74 11.0988 Q1294.59 11.0988 1295.9 12.3695 Q1297.21 13.5992 1297.21 15.5667 Q1297.21 17.4932 1295.9 18.7638 Q1294.59 19.9935 1292.74 19.9935 Q1290.82 19.9935 1289.55 18.6409 Q1288.32 17.2882 1288.32 15.5257 Z\" fill=\"#000000\" fill-rule=\"evenodd\" fill-opacity=\"1\" /><path clip-path=\"url(#clip380)\" d=\"M 0 0 M1313.34 62.7453 Q1307.81 57.2528 1307.81 49.3009 Q1307.81 41.3079 1313.22 35.4875 Q1318.67 29.626 1326.46 29.626 Q1334.08 29.626 1339.53 35.4465 Q1345.02 41.226 1345.02 49.3009 Q1345.02 57.2118 1339.49 62.7043 Q1334 68.1969 1326.37 68.1969 Q1318.91 68.1969 1313.34 62.7453 M1314.77 48.604 Q1314.77 56.7609 1316.9 60.4499 Q1320.18 66.0655 1326.46 66.0655 Q1329.57 66.0655 1332.15 64.3849 Q1334.78 62.7043 1336.21 59.8761 Q1338.06 56.1871 1338.06 48.604 Q1338.06 40.5291 1335.84 36.9631 Q1332.56 31.5115 1326.37 31.5115 Q1323.67 31.5115 1321 32.9461 Q1318.38 34.3398 1316.78 37.127 Q1314.77 40.8161 1314.77 48.604 Z\" fill=\"#000000\" fill-rule=\"evenodd\" fill-opacity=\"1\" /><path clip-path=\"url(#clip380)\" d=\"M 0 0 M1349.37 67.2542 L1349.37 64.6718 Q1353.84 64.6718 1354.86 64.139 Q1355.89 63.5651 1355.89 60.8598 L1355.89 38.3567 Q1355.89 35.2415 1354.78 34.4627 Q1353.71 33.6839 1349.37 33.6839 L1349.37 31.0606 L1361.17 30.1589 L1361.17 38.9716 Q1365.11 30.1589 1373.59 30.1589 Q1379.9 30.1589 1382.41 33.274 Q1384.25 35.3645 1384.62 37.7009 Q1385.03 40.0373 1385.03 46.1037 L1385.03 62.1305 Q1385.11 63.893 1386.46 64.3029 Q1387.82 64.6718 1391.59 64.6718 L1391.59 67.2542 Q1383.02 67.0082 1382.16 67.0082 Q1381.5 67.0082 1372.69 67.2542 L1372.69 64.6718 Q1377.16 64.6718 1378.18 64.139 Q1379.25 63.5651 1379.25 60.8598 L1379.25 41.3079 Q1379.25 37.0451 1377.94 34.5447 Q1376.63 32.0034 1373.02 32.0034 Q1368.67 32.0034 1365.19 35.6514 Q1361.71 39.2995 1361.71 45.4479 L1361.71 60.8598 Q1361.71 63.5651 1362.73 64.139 Q1363.8 64.6718 1368.22 64.6718 L1368.22 67.2542 Q1359.66 67.0082 1358.84 67.0082 Q1358.18 67.0082 1349.37 67.2542 Z\" fill=\"#000000\" fill-rule=\"evenodd\" fill-opacity=\"1\" /><path clip-path=\"url(#clip380)\" d=\"M 0 0 M1423.12 33.6839 L1423.12 31.0606 L1429.72 31.0606 L1429.72 21.4281 Q1429.72 15.1978 1433.73 11.6317 Q1437.79 8.06564 1442.75 8.06564 Q1446.03 8.06564 1448.16 9.82818 Q1450.29 11.5907 1450.29 13.9681 Q1450.29 15.5667 1449.31 16.6324 Q1448.37 17.6571 1446.6 17.6571 Q1444.92 17.6571 1443.94 16.5914 Q1443 15.5257 1443 14.0501 Q1443 11.3448 1445.5 10.525 Q1444.23 9.95115 1442.75 9.91016 Q1439.72 9.91016 1437.34 13.0253 Q1435 16.1405 1435 21.3462 L1435 31.0606 L1444.84 31.0606 L1444.84 33.6839 L1435.29 33.6839 L1435.29 60.6959 Q1435.29 63.1142 1436.27 63.893 Q1437.3 64.6718 1441.64 64.6718 L1443.41 64.6718 L1443.41 67.2542 Q1440.05 67.0082 1432.75 67.0082 Q1431.72 67.0082 1430.13 67.0492 Q1428.57 67.0902 1426.44 67.1722 Q1424.35 67.2542 1423.2 67.2542 L1423.2 64.6718 Q1427.67 64.6718 1428.69 64.139 Q1429.72 63.5651 1429.72 60.8598 L1429.72 33.6839 L1423.12 33.6839 Z\" fill=\"#000000\" fill-rule=\"evenodd\" fill-opacity=\"1\" /><path clip-path=\"url(#clip380)\" d=\"M 0 0 M1449.48 62.7453 Q1443.94 57.2528 1443.94 49.3009 Q1443.94 41.3079 1449.35 35.4875 Q1454.81 29.626 1462.59 29.626 Q1470.22 29.626 1475.67 35.4465 Q1481.16 41.226 1481.16 49.3009 Q1481.16 57.2118 1475.63 62.7043 Q1470.14 68.1969 1462.51 68.1969 Q1455.05 68.1969 1449.48 62.7453 M1450.91 48.604 Q1450.91 56.7609 1453.04 60.4499 Q1456.32 66.0655 1462.59 66.0655 Q1465.71 66.0655 1468.29 64.3849 Q1470.91 62.7043 1472.35 59.8761 Q1474.19 56.1871 1474.19 48.604 Q1474.19 40.5291 1471.98 36.9631 Q1468.7 31.5115 1462.51 31.5115 Q1459.81 31.5115 1457.14 32.9461 Q1454.52 34.3398 1452.92 37.127 Q1450.91 40.8161 1450.91 48.604 Z\" fill=\"#000000\" fill-rule=\"evenodd\" fill-opacity=\"1\" /><path clip-path=\"url(#clip380)\" d=\"M 0 0 M1485.51 67.2542 L1485.51 64.6718 Q1489.97 64.6718 1491 64.139 Q1492.06 63.5651 1492.06 60.8598 L1492.06 38.3567 Q1492.06 35.2415 1490.96 34.4627 Q1489.89 33.6839 1485.51 33.6839 L1485.51 31.0606 L1497.19 30.1589 L1497.19 39.3814 Q1498.38 35.7744 1500.88 32.9871 Q1503.42 30.1589 1507.52 30.1589 Q1510.22 30.1589 1511.94 31.6755 Q1513.71 33.1921 1513.71 35.2825 Q1513.71 37.127 1512.56 38.0698 Q1511.45 38.9716 1510.1 38.9716 Q1508.58 38.9716 1507.52 38.0288 Q1506.49 37.0451 1506.49 35.3645 Q1506.49 34.3398 1506.94 33.561 Q1507.44 32.7412 1507.8 32.4543 Q1508.17 32.1673 1508.42 32.0854 Q1508.26 32.0034 1507.52 32.0034 Q1502.89 32.0034 1500.22 36.6352 Q1497.6 41.226 1497.6 47.7842 L1497.6 60.6959 Q1497.6 63.1142 1498.58 63.893 Q1499.61 64.6718 1503.99 64.6718 L1505.76 64.6718 L1505.76 67.2542 Q1502.39 67.0082 1495.1 67.0082 Q1494.07 67.0082 1492.47 67.0492 Q1490.88 67.0902 1488.79 67.1722 Q1486.7 67.2542 1485.51 67.2542 Z\" fill=\"#000000\" fill-rule=\"evenodd\" fill-opacity=\"1\" /><path clip-path=\"url(#clip380)\" d=\"M 0 0 M1583.61 35.4465 Q1583.61 37.7829 1582.18 39.1765 Q1580.79 40.5701 1579.02 40.5701 Q1577.47 40.5701 1576.65 39.6684 Q1575.83 38.7666 1575.83 37.6189 Q1575.83 37.127 1576.03 36.5122 Q1576.24 35.8564 1576.69 35.0776 Q1577.18 34.2988 1578.2 33.7249 Q1579.23 33.1511 1580.62 33.0691 Q1580.34 32.7822 1580.25 32.7412 Q1579.64 32.2493 1578.49 32.0854 Q1578.33 32.0034 1577.75 32.0034 Q1574.93 32.0034 1572.06 34.0938 Q1569.23 36.1433 1565.74 40.0373 Q1561.36 44.5871 1558.53 46.2676 Q1570.95 47.9072 1570.95 55.0803 Q1570.95 56.269 1570.62 57.7037 Q1569.97 60.4089 1569.97 62.3764 Q1569.97 66.3114 1572.63 66.3114 Q1575.21 66.3114 1576.85 63.6881 Q1578.53 61.0648 1579.93 55.9411 Q1580.13 54.9984 1580.34 54.7114 Q1580.54 54.4245 1581.11 54.4245 Q1582.14 54.4245 1582.14 55.2443 Q1581.2 60.04 1579.11 63.7291 Q1576.44 68.1969 1572.47 68.1969 Q1569.15 68.1969 1566.93 65.9015 Q1564.76 63.5651 1564.76 59.8761 Q1564.76 58.9743 1565.09 56.9249 Q1565.33 56.1051 1565.33 55.1623 Q1565.33 53.2358 1564.27 51.8012 Q1563.2 50.3256 1561.48 49.5878 Q1559.76 48.85 1558.32 48.5221 Q1556.93 48.1532 1555.58 48.0302 Q1551.48 65.3686 1550.91 66.4344 Q1550.54 67.1722 1549.72 67.664 Q1548.9 68.1969 1548.04 68.1969 Q1547.22 68.1969 1546.4 67.6231 Q1545.62 67.0902 1545.62 65.8195 Q1545.62 65.1637 1545.95 63.975 L1558.12 15.6077 L1558.37 13.9681 Q1558.37 13.4762 1558.16 13.2303 Q1558 12.9434 1557.01 12.7384 Q1556.07 12.5335 1554.18 12.5335 Q1553.41 12.5335 1553.04 12.4925 Q1552.71 12.4515 1552.42 12.2465 Q1552.14 12.0006 1552.14 11.5087 Q1552.14 10.8119 1552.42 10.443 Q1552.75 10.0331 1553 9.95115 Q1553.24 9.86917 1553.73 9.82818 Q1554.43 9.78719 1556.77 9.58224 Q1559.1 9.33631 1561.11 9.17235 Q1563.12 9.00839 1563.98 9.00839 Q1564.47 9.00839 1564.72 9.25433 Q1565.01 9.45927 1565.05 9.70521 L1565.09 9.91016 L1556.36 45.3249 Q1559.96 43.8903 1565.66 37.5369 Q1572.26 30.1589 1577.92 30.1589 Q1580.58 30.1589 1582.1 31.7984 Q1583.61 33.397 1583.61 35.4465 Z\" fill=\"#000000\" fill-rule=\"evenodd\" fill-opacity=\"1\" /><path clip-path=\"url(#clip380)\" d=\"M 0 0 M1610.25 66.7342 Q1610.25 67.5376 1609.88 67.7385 Q1609.5 67.9106 1608.47 67.9106 L1602.96 67.9106 L1598.6 85.2409 Q1598.26 86.7616 1598.26 88.0528 Q1598.26 89.4874 1598.69 90.1186 Q1599.15 90.7499 1600.09 90.7499 Q1601.96 90.7499 1603.97 89.057 Q1606 87.3641 1607.73 83.2324 Q1607.96 82.6873 1608.07 82.5725 Q1608.21 82.429 1608.59 82.429 Q1609.3 82.429 1609.3 83.0029 Q1609.3 83.2037 1608.9 84.1219 Q1608.53 85.04 1607.7 86.3886 Q1606.89 87.7371 1605.83 88.9996 Q1604.8 90.2621 1603.22 91.1802 Q1601.64 92.0697 1599.95 92.0697 Q1597.57 92.0697 1596.05 90.549 Q1594.56 89.0283 1594.56 86.6468 Q1594.56 85.8721 1595.16 83.4046 Q1595.76 80.9083 1599.03 67.9106 L1593.84 67.9106 Q1593.12 67.9106 1592.83 67.8819 Q1592.58 67.8532 1592.38 67.7098 Q1592.2 67.5376 1592.2 67.1933 Q1592.2 66.6482 1592.43 66.4186 Q1592.66 66.1604 1592.95 66.1317 Q1593.26 66.0743 1593.98 66.0743 L1599.49 66.0743 L1601.79 56.7492 Q1602.02 55.8311 1602.59 55.3146 Q1603.19 54.7695 1603.54 54.7121 Q1603.88 54.626 1604.14 54.626 Q1604.91 54.626 1605.37 55.0564 Q1605.83 55.4581 1605.83 56.2041 Q1605.83 56.6058 1603.42 66.0743 L1608.59 66.0743 Q1609.25 66.0743 1609.5 66.103 Q1609.79 66.1317 1610.02 66.2752 Q1610.25 66.4186 1610.25 66.7342 Z\" fill=\"#000000\" fill-rule=\"evenodd\" fill-opacity=\"1\" /><path clip-path=\"url(#clip380)\" d=\"M 0 0 M1630.85 77.4365 Q1629.5 77.4365 1629.5 76.7192 Q1629.5 76.0019 1630.91 76.0019 Q1631.08 76.0019 1631.36 76.0306 Q1631.68 76.0593 1631.74 76.0593 L1648.29 76.0593 L1648.29 59.4463 Q1648.29 59.389 1648.26 59.1307 Q1648.24 58.8438 1648.24 58.6716 Q1648.24 57.2657 1648.92 57.2657 Q1649.64 57.2657 1649.64 58.6716 L1649.64 76.0593 L1666.23 76.0593 Q1666.28 76.0593 1666.57 76.0306 Q1666.86 76.0019 1667.03 76.0019 Q1668.38 76.0019 1668.38 76.7192 Q1668.41 77.4365 1666.97 77.4365 Q1666.8 77.4365 1666.54 77.4078 Q1666.28 77.3792 1666.23 77.3792 L1649.64 77.3792 L1649.64 94.8242 Q1649.64 96.1727 1648.92 96.1727 Q1648.24 96.1727 1648.24 94.7668 Q1648.24 94.5946 1648.26 94.3077 Q1648.29 94.0495 1648.29 93.9921 L1648.29 77.3792 L1631.74 77.3792 Q1631.68 77.3792 1631.34 77.4078 Q1631.02 77.4365 1630.85 77.4365 Z\" fill=\"#000000\" fill-rule=\"evenodd\" fill-opacity=\"1\" /><path clip-path=\"url(#clip380)\" d=\"M 0 0 M1691.06 57.8683 L1691.06 56.0319 Q1698.12 56.0319 1701.76 52.2732 Q1702.77 52.2732 1702.94 52.5028 Q1703.11 52.7323 1703.11 53.7939 L1703.11 86.7616 Q1703.11 88.5118 1703.97 89.057 Q1704.83 89.6022 1708.59 89.6022 L1710.46 89.6022 L1710.46 91.4098 Q1708.39 91.2376 1700.93 91.2376 Q1693.47 91.2376 1691.43 91.4098 L1691.43 89.6022 L1693.3 89.6022 Q1697 89.6022 1697.89 89.0857 Q1698.78 88.5405 1698.78 86.7616 L1698.78 56.3189 Q1695.71 57.8683 1691.06 57.8683 Z\" fill=\"#000000\" fill-rule=\"evenodd\" fill-opacity=\"1\" /><polyline clip-path=\"url(#clip382)\" style=\"stroke:#000000; stroke-width:4; stroke-opacity:1; fill:none\" points=\"\n",
       "  257.847,1391.42 261.915,1388.95 265.983,1386.48 270.051,1384.02 274.119,1381.55 278.186,1379.09 282.254,1376.62 286.322,1374.15 290.39,1371.69 294.458,1369.22 \n",
       "  298.525,1366.75 302.593,1364.29 306.661,1361.82 310.729,1359.35 314.796,1356.89 318.864,1354.42 322.932,1351.96 327,1349.49 331.068,1347.02 335.135,1344.56 \n",
       "  339.203,1342.09 343.271,1339.62 347.339,1337.16 351.406,1334.69 355.474,1332.23 359.542,1329.76 363.61,1327.29 367.678,1324.83 371.745,1322.36 375.813,1319.89 \n",
       "  379.881,1317.43 383.949,1314.96 388.017,1312.49 392.084,1310.03 396.152,1307.56 400.22,1305.1 404.288,1302.63 408.355,1300.16 412.423,1297.7 416.491,1295.23 \n",
       "  420.559,1292.76 424.627,1290.3 428.694,1287.83 432.762,1285.36 436.83,1282.9 440.898,1280.43 444.966,1277.97 449.033,1275.5 453.101,1273.03 457.169,1270.57 \n",
       "  461.237,1268.1 465.304,1265.63 469.372,1263.17 473.44,1260.7 477.508,1258.23 481.576,1255.77 485.643,1253.3 489.711,1250.84 493.779,1248.37 497.847,1245.9 \n",
       "  501.914,1243.44 505.982,1240.97 510.05,1238.5 514.118,1236.04 518.186,1233.57 522.253,1231.1 526.321,1228.64 530.389,1226.17 534.457,1223.71 538.525,1221.24 \n",
       "  542.592,1218.77 546.66,1216.31 550.728,1213.84 554.796,1211.37 558.863,1208.91 562.931,1206.44 566.999,1203.98 571.067,1201.51 575.135,1199.04 579.202,1196.58 \n",
       "  583.27,1194.11 587.338,1191.64 591.406,1189.18 595.473,1186.71 599.541,1184.24 603.609,1181.78 607.677,1179.31 611.745,1176.85 615.812,1174.38 619.88,1171.91 \n",
       "  623.948,1169.45 628.016,1166.98 632.084,1164.51 636.151,1162.05 640.219,1159.58 644.287,1157.11 648.355,1154.65 652.422,1152.18 656.49,1149.72 660.558,1147.25 \n",
       "  664.626,1144.78 668.694,1142.32 672.761,1139.85 676.829,1137.38 680.897,1134.92 684.965,1132.45 689.033,1129.98 693.1,1127.52 697.168,1125.05 701.236,1122.59 \n",
       "  705.304,1120.12 709.371,1117.65 713.439,1115.19 717.507,1112.72 721.575,1110.25 725.643,1107.79 729.71,1105.32 733.778,1102.85 737.846,1100.39 741.914,1097.92 \n",
       "  745.981,1095.46 750.049,1092.99 754.117,1090.52 758.185,1088.06 762.253,1085.59 766.32,1083.12 770.388,1080.66 774.456,1078.19 778.524,1075.73 782.592,1073.26 \n",
       "  786.659,1070.79 790.727,1068.33 794.795,1065.86 798.863,1063.39 802.93,1060.93 806.998,1058.46 811.066,1055.99 815.134,1053.53 819.202,1051.06 823.269,1048.6 \n",
       "  827.337,1046.13 831.405,1043.66 835.473,1041.2 839.54,1038.73 843.608,1036.26 847.676,1033.8 851.744,1031.33 855.812,1028.86 859.879,1026.4 863.947,1023.93 \n",
       "  868.015,1021.47 872.083,1019 876.151,1016.53 880.218,1014.07 884.286,1011.6 888.354,1009.13 892.422,1006.67 896.489,1004.2 900.557,1001.73 904.625,999.268 \n",
       "  908.693,996.802 912.761,994.336 916.828,991.869 920.896,989.403 924.964,986.937 929.032,984.47 933.1,982.004 937.167,979.538 941.235,977.071 945.303,974.605 \n",
       "  949.371,972.138 953.438,969.672 957.506,967.206 961.574,964.739 965.642,962.273 969.71,959.807 973.777,957.34 977.845,954.874 981.913,952.408 985.981,949.941 \n",
       "  990.048,947.475 994.116,945.009 998.184,942.542 1002.25,940.076 1006.32,937.61 1010.39,935.143 1014.46,932.677 1018.52,930.211 1022.59,927.744 1026.66,925.278 \n",
       "  1030.73,922.812 1034.79,920.345 1038.86,917.879 1042.93,915.413 1047,912.946 1051.07,910.48 1055.13,908.013 1059.2,905.547 1063.27,903.081 1067.34,900.614 \n",
       "  1071.4,898.148 1075.47,895.682 1079.54,893.215 1083.61,890.749 1087.68,888.283 1091.74,885.816 1095.81,883.35 1099.88,880.884 1103.95,878.417 1108.01,875.951 \n",
       "  1112.08,873.485 1116.15,871.018 1120.22,868.552 1124.29,866.086 1128.35,863.619 1132.42,861.153 1136.49,858.687 1140.56,856.22 1144.62,853.754 1148.69,851.288 \n",
       "  1152.76,848.821 1156.83,846.355 1160.9,843.888 1164.96,841.422 1169.03,838.956 1173.1,836.489 1177.17,834.023 1181.23,831.557 1185.3,829.09 1189.37,826.624 \n",
       "  1193.44,824.158 1197.51,821.691 1201.57,819.225 1205.64,816.759 1209.71,814.292 1213.78,811.826 1217.84,809.36 1221.91,806.893 1225.98,804.427 1230.05,801.961 \n",
       "  1234.12,799.494 1238.18,797.028 1242.25,794.562 1246.32,792.095 1250.39,789.629 1254.45,787.163 1258.52,784.696 1262.59,782.23 1266.66,779.763 1270.73,777.297 \n",
       "  1274.79,774.831 1278.86,772.364 1282.93,769.898 1287,767.432 1291.06,764.965 1295.13,762.499 1299.2,760.033 1303.27,757.566 1307.34,755.1 1311.4,752.634 \n",
       "  1315.47,750.167 1319.54,747.701 1323.61,745.235 1327.67,742.768 1331.74,740.302 1335.81,737.836 1339.88,735.369 1343.95,732.903 1348.01,730.437 1352.08,727.97 \n",
       "  1356.15,725.504 1360.22,723.038 1364.28,720.571 1368.35,718.105 1372.42,715.638 1376.49,713.172 1380.56,710.706 1384.62,708.239 1388.69,705.773 1392.76,703.307 \n",
       "  1396.83,700.84 1400.89,698.374 1404.96,695.908 1409.03,693.441 1413.1,690.975 1417.17,688.509 1421.23,686.042 1425.3,683.576 1429.37,681.11 1433.44,678.643 \n",
       "  1437.5,676.177 1441.57,673.711 1445.64,671.244 1449.71,668.778 1453.78,666.312 1457.84,663.845 1461.91,661.379 1465.98,658.912 1470.05,656.446 1474.11,653.98 \n",
       "  1478.18,651.513 1482.25,649.047 1486.32,646.581 1490.39,644.114 1494.45,641.648 1498.52,639.182 1502.59,636.715 1506.66,634.249 1510.72,631.783 1514.79,629.316 \n",
       "  1518.86,626.85 1522.93,624.384 1527,621.917 1531.06,619.451 1535.13,616.985 1539.2,614.518 1543.27,612.052 1547.33,609.586 1551.4,607.119 1555.47,604.653 \n",
       "  1559.54,602.187 1563.61,599.72 1567.67,597.254 1571.74,594.787 1575.81,592.321 1579.88,589.855 1583.94,587.388 1588.01,584.922 1592.08,582.456 1596.15,579.989 \n",
       "  1600.22,577.523 1604.28,575.057 1608.35,572.59 1612.42,570.124 1616.49,567.658 1620.55,565.191 1624.62,562.725 1628.69,560.259 1632.76,557.792 1636.83,555.326 \n",
       "  1640.89,552.86 1644.96,550.393 1649.03,547.927 1653.1,545.461 1657.16,542.994 1661.23,540.528 1665.3,538.062 1669.37,535.595 1673.44,533.129 1677.5,530.662 \n",
       "  1681.57,528.196 1685.64,525.73 1689.71,523.263 1693.78,520.797 1697.84,518.331 1701.91,515.864 1705.98,513.398 1710.05,510.932 1714.11,508.465 1718.18,505.999 \n",
       "  1722.25,503.533 1726.32,501.066 1730.39,498.6 1734.45,496.134 1738.52,493.667 1742.59,491.201 1746.66,488.735 1750.72,486.268 1754.79,483.802 1758.86,481.336 \n",
       "  1762.93,478.869 1767,476.403 1771.06,473.937 1775.13,471.47 1779.2,469.004 1783.27,466.537 1787.33,464.071 1791.4,461.605 1795.47,459.138 1799.54,456.672 \n",
       "  1803.61,454.206 1807.67,451.739 1811.74,449.273 1815.81,446.807 1819.88,444.34 1823.94,441.874 1828.01,439.408 1832.08,436.941 1836.15,434.475 1840.22,432.009 \n",
       "  1844.28,429.542 1848.35,427.076 1852.42,424.61 1856.49,422.143 1860.55,419.677 1864.62,417.211 1868.69,414.744 1872.76,412.278 1876.83,409.812 1880.89,407.345 \n",
       "  1884.96,404.879 1889.03,402.412 1893.1,399.946 1897.16,397.48 1901.23,395.013 1905.3,392.547 1909.37,390.081 1913.44,387.614 1917.5,385.148 1921.57,382.682 \n",
       "  1925.64,380.215 1929.71,377.749 1933.77,375.283 1937.84,372.816 1941.91,370.35 1945.98,367.884 1950.05,365.417 1954.11,362.951 1958.18,360.485 1962.25,358.018 \n",
       "  1966.32,355.552 1970.38,353.086 1974.45,350.619 1978.52,348.153 1982.59,345.687 1986.66,343.22 1990.72,340.754 1994.79,338.287 1998.86,335.821 2002.93,333.355 \n",
       "  2006.99,330.888 2011.06,328.422 2015.13,325.956 2019.2,323.489 2023.27,321.023 2027.33,318.557 2031.4,316.09 2035.47,313.624 2039.54,311.158 2043.6,308.691 \n",
       "  2047.67,306.225 2051.74,303.759 2055.81,301.292 2059.88,298.826 2063.94,296.36 2068.01,293.893 2072.08,291.427 2076.15,288.961 2080.21,286.494 2084.28,284.028 \n",
       "  2088.35,281.562 2092.42,279.095 2096.49,276.629 2100.55,274.162 2104.62,271.696 2108.69,269.23 2112.76,266.763 2116.82,264.297 2120.89,261.831 2124.96,259.364 \n",
       "  2129.03,256.898 2133.1,254.432 2137.16,251.965 2141.23,249.499 2145.3,247.033 2149.37,244.566 2153.43,242.1 2157.5,239.634 2161.57,237.167 2165.64,234.701 \n",
       "  2169.71,232.235 2173.77,229.768 2177.84,227.302 2181.91,224.836 2185.98,222.369 2190.04,219.903 2194.11,217.437 2198.18,214.97 2202.25,212.504 2206.32,210.037 \n",
       "  2210.38,207.571 2214.45,205.105 2218.52,202.638 2222.59,200.172 2226.65,197.706 2230.72,195.239 2234.79,192.773 2238.86,190.307 2242.93,187.84 2246.99,185.374 \n",
       "  2251.06,182.908 2255.13,180.441 2259.2,177.975 2263.26,175.509 2267.33,173.042 2271.4,170.576 2275.47,168.11 2279.54,165.643 2283.6,163.177 2287.67,160.711 \n",
       "  2291.74,158.244 \n",
       "  \"/>\n",
       "<polyline clip-path=\"url(#clip382)\" style=\"stroke:#808080; stroke-width:8; stroke-opacity:1; fill:none\" stroke-dasharray=\"32, 20\" points=\"\n",
       "  257.847,774.831 261.915,774.831 265.983,774.831 270.051,774.831 274.119,774.831 278.186,774.831 282.254,774.831 286.322,774.831 290.39,774.831 294.458,774.831 \n",
       "  298.525,774.831 302.593,774.831 306.661,774.831 310.729,774.831 314.796,774.831 318.864,774.831 322.932,774.831 327,774.831 331.068,774.831 335.135,774.831 \n",
       "  339.203,774.831 343.271,774.831 347.339,774.831 351.406,774.831 355.474,774.831 359.542,774.831 363.61,774.831 367.678,774.831 371.745,774.831 375.813,774.831 \n",
       "  379.881,774.831 383.949,774.831 388.017,774.831 392.084,774.831 396.152,774.831 400.22,774.831 404.288,774.831 408.355,774.831 412.423,774.831 416.491,774.831 \n",
       "  420.559,774.831 424.627,774.831 428.694,774.831 432.762,774.831 436.83,774.831 440.898,774.831 444.966,774.831 449.033,774.831 453.101,774.831 457.169,774.831 \n",
       "  461.237,774.831 465.304,774.831 469.372,774.831 473.44,774.831 477.508,774.831 481.576,774.831 485.643,774.831 489.711,774.831 493.779,774.831 497.847,774.831 \n",
       "  501.914,774.831 505.982,774.831 510.05,774.831 514.118,774.831 518.186,774.831 522.253,774.831 526.321,774.831 530.389,774.831 534.457,774.831 538.525,774.831 \n",
       "  542.592,774.831 546.66,774.831 550.728,774.831 554.796,774.831 558.863,774.831 562.931,774.831 566.999,774.831 571.067,774.831 575.135,774.831 579.202,774.831 \n",
       "  583.27,774.831 587.338,774.831 591.406,774.831 595.473,774.831 599.541,774.831 603.609,774.831 607.677,774.831 611.745,774.831 615.812,774.831 619.88,774.831 \n",
       "  623.948,774.831 628.016,774.831 632.084,774.831 636.151,774.831 640.219,774.831 644.287,774.831 648.355,774.831 652.422,774.831 656.49,774.831 660.558,774.831 \n",
       "  664.626,774.831 668.694,774.831 672.761,774.831 676.829,774.831 680.897,774.831 684.965,774.831 689.033,774.831 693.1,774.831 697.168,774.831 701.236,774.831 \n",
       "  705.304,774.831 709.371,774.831 713.439,774.831 717.507,774.831 721.575,774.831 725.643,774.831 729.71,774.831 733.778,774.831 737.846,774.831 741.914,774.831 \n",
       "  745.981,774.831 750.049,774.831 754.117,774.831 758.185,774.831 762.253,774.831 766.32,774.831 770.388,774.831 774.456,774.831 778.524,774.831 782.592,774.831 \n",
       "  786.659,774.831 790.727,774.831 794.795,774.831 798.863,774.831 802.93,774.831 806.998,774.831 811.066,774.831 815.134,774.831 819.202,774.831 823.269,774.831 \n",
       "  827.337,774.831 831.405,774.831 835.473,774.831 839.54,774.831 843.608,774.831 847.676,774.831 851.744,774.831 855.812,774.831 859.879,774.831 863.947,774.831 \n",
       "  868.015,774.831 872.083,774.831 876.151,774.831 880.218,774.831 884.286,774.831 888.354,774.831 892.422,774.831 896.489,774.831 900.557,774.831 904.625,774.831 \n",
       "  908.693,774.831 912.761,774.831 916.828,774.831 920.896,774.831 924.964,774.831 929.032,774.831 933.1,774.831 937.167,774.831 941.235,774.831 945.303,774.831 \n",
       "  949.371,774.831 953.438,774.831 957.506,774.831 961.574,774.831 965.642,774.831 969.71,774.831 973.777,774.831 977.845,774.831 981.913,774.831 985.981,774.831 \n",
       "  990.048,774.831 994.116,774.831 998.184,774.831 1002.25,774.831 1006.32,774.831 1010.39,774.831 1014.46,774.831 1018.52,774.831 1022.59,774.831 1026.66,774.831 \n",
       "  1030.73,774.831 1034.79,774.831 1038.86,774.831 1042.93,774.831 1047,774.831 1051.07,774.831 1055.13,774.831 1059.2,774.831 1063.27,774.831 1067.34,774.831 \n",
       "  1071.4,774.831 1075.47,774.831 1079.54,774.831 1083.61,774.831 1087.68,774.831 1091.74,774.831 1095.81,774.831 1099.88,774.831 1103.95,774.831 1108.01,774.831 \n",
       "  1112.08,774.831 1116.15,774.831 1120.22,774.831 1124.29,774.831 1128.35,774.831 1132.42,774.831 1136.49,774.831 1140.56,774.831 1144.62,774.831 1148.69,774.831 \n",
       "  1152.76,774.831 1156.83,774.831 1160.9,774.831 1164.96,774.831 1169.03,774.831 1173.1,774.831 1177.17,774.831 1181.23,774.831 1185.3,774.831 1189.37,774.831 \n",
       "  1193.44,774.831 1197.51,774.831 1201.57,774.831 1205.64,774.831 1209.71,774.831 1213.78,774.831 1217.84,774.831 1221.91,774.831 1225.98,774.831 1230.05,774.831 \n",
       "  1234.12,774.831 1238.18,774.831 1242.25,774.831 1246.32,774.831 1250.39,774.831 1254.45,774.831 1258.52,774.831 1262.59,774.831 1266.66,774.831 1270.73,774.831 \n",
       "  1274.79,774.831 1278.86,774.831 1282.93,774.831 1287,774.831 1291.06,774.831 1295.13,774.831 1299.2,774.831 1303.27,774.831 1307.34,774.831 1311.4,774.831 \n",
       "  1315.47,774.831 1319.54,774.831 1323.61,774.831 1327.67,774.831 1331.74,774.831 1335.81,774.831 1339.88,774.831 1343.95,774.831 1348.01,774.831 1352.08,774.831 \n",
       "  1356.15,774.831 1360.22,774.831 1364.28,774.831 1368.35,774.831 1372.42,774.831 1376.49,774.831 1380.56,774.831 1384.62,774.831 1388.69,774.831 1392.76,774.831 \n",
       "  1396.83,774.831 1400.89,774.831 1404.96,774.831 1409.03,774.831 1413.1,774.831 1417.17,774.831 1421.23,774.831 1425.3,774.831 1429.37,774.831 1433.44,774.831 \n",
       "  1437.5,774.831 1441.57,774.831 1445.64,774.831 1449.71,774.831 1453.78,774.831 1457.84,774.831 1461.91,774.831 1465.98,774.831 1470.05,774.831 1474.11,774.831 \n",
       "  1478.18,774.831 1482.25,774.831 1486.32,774.831 1490.39,774.831 1494.45,774.831 1498.52,774.831 1502.59,774.831 1506.66,774.831 1510.72,774.831 1514.79,774.831 \n",
       "  1518.86,774.831 1522.93,774.831 1527,774.831 1531.06,774.831 1535.13,774.831 1539.2,774.831 1543.27,774.831 1547.33,774.831 1551.4,774.831 1555.47,774.831 \n",
       "  1559.54,774.831 1563.61,774.831 1567.67,774.831 1571.74,774.831 1575.81,774.831 1579.88,774.831 1583.94,774.831 1588.01,774.831 1592.08,774.831 1596.15,774.831 \n",
       "  1600.22,774.831 1604.28,774.831 1608.35,774.831 1612.42,774.831 1616.49,774.831 1620.55,774.831 1624.62,774.831 1628.69,774.831 1632.76,774.831 1636.83,774.831 \n",
       "  1640.89,774.831 1644.96,774.831 1649.03,774.831 1653.1,774.831 1657.16,774.831 1661.23,774.831 1665.3,774.831 1669.37,774.831 1673.44,774.831 1677.5,774.831 \n",
       "  1681.57,774.831 1685.64,774.831 1689.71,774.831 1693.78,774.831 1697.84,774.831 1701.91,774.831 1705.98,774.831 1710.05,774.831 1714.11,774.831 1718.18,774.831 \n",
       "  1722.25,774.831 1726.32,774.831 1730.39,774.831 1734.45,774.831 1738.52,774.831 1742.59,774.831 1746.66,774.831 1750.72,774.831 1754.79,774.831 1758.86,774.831 \n",
       "  1762.93,774.831 1767,774.831 1771.06,774.831 1775.13,774.831 1779.2,774.831 1783.27,774.831 1787.33,774.831 1791.4,774.831 1795.47,774.831 1799.54,774.831 \n",
       "  1803.61,774.831 1807.67,774.831 1811.74,774.831 1815.81,774.831 1819.88,774.831 1823.94,774.831 1828.01,774.831 1832.08,774.831 1836.15,774.831 1840.22,774.831 \n",
       "  1844.28,774.831 1848.35,774.831 1852.42,774.831 1856.49,774.831 1860.55,774.831 1864.62,774.831 1868.69,774.831 1872.76,774.831 1876.83,774.831 1880.89,774.831 \n",
       "  1884.96,774.831 1889.03,774.831 1893.1,774.831 1897.16,774.831 1901.23,774.831 1905.3,774.831 1909.37,774.831 1913.44,774.831 1917.5,774.831 1921.57,774.831 \n",
       "  1925.64,774.831 1929.71,774.831 1933.77,774.831 1937.84,774.831 1941.91,774.831 1945.98,774.831 1950.05,774.831 1954.11,774.831 1958.18,774.831 1962.25,774.831 \n",
       "  1966.32,774.831 1970.38,774.831 1974.45,774.831 1978.52,774.831 1982.59,774.831 1986.66,774.831 1990.72,774.831 1994.79,774.831 1998.86,774.831 2002.93,774.831 \n",
       "  2006.99,774.831 2011.06,774.831 2015.13,774.831 2019.2,774.831 2023.27,774.831 2027.33,774.831 2031.4,774.831 2035.47,774.831 2039.54,774.831 2043.6,774.831 \n",
       "  2047.67,774.831 2051.74,774.831 2055.81,774.831 2059.88,774.831 2063.94,774.831 2068.01,774.831 2072.08,774.831 2076.15,774.831 2080.21,774.831 2084.28,774.831 \n",
       "  2088.35,774.831 2092.42,774.831 2096.49,774.831 2100.55,774.831 2104.62,774.831 2108.69,774.831 2112.76,774.831 2116.82,774.831 2120.89,774.831 2124.96,774.831 \n",
       "  2129.03,774.831 2133.1,774.831 2137.16,774.831 2141.23,774.831 2145.3,774.831 2149.37,774.831 2153.43,774.831 2157.5,774.831 2161.57,774.831 2165.64,774.831 \n",
       "  2169.71,774.831 2173.77,774.831 2177.84,774.831 2181.91,774.831 2185.98,774.831 2190.04,774.831 2194.11,774.831 2198.18,774.831 2202.25,774.831 2206.32,774.831 \n",
       "  2210.38,774.831 2214.45,774.831 2218.52,774.831 2222.59,774.831 2226.65,774.831 2230.72,774.831 2234.79,774.831 2238.86,774.831 2242.93,774.831 2246.99,774.831 \n",
       "  2251.06,774.831 2255.13,774.831 2259.2,774.831 2263.26,774.831 2267.33,774.831 2271.4,774.831 2275.47,774.831 2279.54,774.831 2283.6,774.831 2287.67,774.831 \n",
       "  2291.74,774.831 \n",
       "  \"/>\n",
       "<polyline clip-path=\"url(#clip382)\" style=\"stroke:#808080; stroke-width:8; stroke-opacity:1; fill:none\" stroke-dasharray=\"32, 20\" points=\"\n",
       "  1274.79,2735.58 1274.79,-1185.91 \n",
       "  \"/>\n",
       "<polyline clip-path=\"url(#clip382)\" style=\"stroke:#ffa500; stroke-width:12; stroke-opacity:1; fill:none\" points=\"\n",
       "  257.847,1364.29 261.915,1361.82 265.983,1361.82 270.051,1359.35 274.119,1356.89 278.186,1354.42 282.254,1351.96 286.322,1349.49 290.39,1347.02 294.458,1344.56 \n",
       "  298.525,1342.09 302.593,1339.62 306.661,1337.16 310.729,1334.69 314.796,1332.23 318.864,1329.76 322.932,1327.29 327,1324.83 331.068,1322.36 335.135,1319.89 \n",
       "  339.203,1317.43 343.271,1314.96 347.339,1312.49 351.406,1310.03 355.474,1307.56 359.542,1305.1 363.61,1302.63 367.678,1300.16 371.745,1297.7 375.813,1297.7 \n",
       "  379.881,1295.23 383.949,1292.76 388.017,1290.3 392.084,1287.83 396.152,1285.36 400.22,1282.9 404.288,1280.43 408.355,1277.97 412.423,1275.5 416.491,1273.03 \n",
       "  420.559,1270.57 424.627,1268.1 428.694,1265.63 432.762,1263.17 436.83,1260.7 440.898,1258.23 444.966,1255.77 449.033,1253.3 453.101,1250.84 457.169,1248.37 \n",
       "  461.237,1245.9 465.304,1243.44 469.372,1240.97 473.44,1238.5 477.508,1238.5 481.576,1236.04 485.643,1233.57 489.711,1231.1 493.779,1228.64 497.847,1226.17 \n",
       "  501.914,1223.71 505.982,1221.24 510.05,1218.77 514.118,1216.31 518.186,1213.84 522.253,1211.37 526.321,1208.91 530.389,1206.44 534.457,1203.98 538.525,1201.51 \n",
       "  542.592,1199.04 546.66,1196.58 550.728,1194.11 554.796,1191.64 558.863,1189.18 562.931,1186.71 566.999,1184.24 571.067,1181.78 575.135,1179.31 579.202,1179.31 \n",
       "  583.27,1176.85 587.338,1174.38 591.406,1171.91 595.473,1169.45 599.541,1166.98 603.609,1164.51 607.677,1162.05 611.745,1159.58 615.812,1157.11 619.88,1154.65 \n",
       "  623.948,1152.18 628.016,1149.72 632.084,1147.25 636.151,1144.78 640.219,1142.32 644.287,1139.85 648.355,1137.38 652.422,1134.92 656.49,1132.45 660.558,1129.98 \n",
       "  664.626,1127.52 668.694,1125.05 672.761,1122.59 676.829,1120.12 680.897,1120.12 684.965,1117.65 689.033,1115.19 693.1,1112.72 697.168,1110.25 701.236,1107.79 \n",
       "  705.304,1105.32 709.371,1102.85 713.439,1100.39 717.507,1097.92 721.575,1095.46 725.643,1092.99 729.71,1090.52 733.778,1088.06 737.846,1085.59 741.914,1083.12 \n",
       "  745.981,1080.66 750.049,1078.19 754.117,1075.73 758.185,1073.26 762.253,1070.79 766.32,1068.33 770.388,1065.86 774.456,1065.86 778.524,1063.39 782.592,1060.93 \n",
       "  786.659,1058.46 790.727,1055.99 794.795,1053.53 798.863,1051.06 802.93,1048.6 806.998,1046.13 811.066,1043.66 815.134,1041.2 819.202,1038.73 823.269,1036.26 \n",
       "  827.337,1033.8 831.405,1031.33 835.473,1028.86 839.54,1026.4 843.608,1023.93 847.676,1021.47 851.744,1019 855.812,1016.53 859.879,1014.07 863.947,1011.6 \n",
       "  868.015,1011.6 872.083,1009.13 876.151,1006.67 880.218,1004.2 884.286,1001.73 888.354,999.268 892.422,996.802 896.489,994.336 900.557,991.869 904.625,989.403 \n",
       "  908.693,986.937 912.761,984.47 916.828,982.004 920.896,979.538 924.964,977.071 929.032,974.605 933.1,972.138 937.167,969.672 941.235,967.206 945.303,964.739 \n",
       "  949.371,962.273 953.438,959.807 957.506,957.34 961.574,957.34 965.642,954.874 969.71,952.408 973.777,949.941 977.845,947.475 981.913,945.009 985.981,942.542 \n",
       "  990.048,940.076 994.116,937.61 998.184,935.143 1002.25,932.677 1006.32,930.211 1010.39,927.744 1014.46,925.278 1018.52,922.812 1022.59,920.345 1026.66,917.879 \n",
       "  1030.73,915.413 1034.79,912.946 1038.86,910.48 1042.93,908.013 1047,905.547 1051.07,903.081 1055.13,903.081 1059.2,900.614 1063.27,898.148 1067.34,895.682 \n",
       "  1071.4,893.215 1075.47,890.749 1079.54,888.283 1083.61,885.816 1087.68,883.35 1091.74,880.884 1095.81,878.417 1099.88,875.951 1103.95,873.485 1108.01,871.018 \n",
       "  1112.08,868.552 1116.15,866.086 1120.22,863.619 1124.29,861.153 1128.35,858.687 1132.42,856.22 1136.49,853.754 1140.56,851.288 1144.62,848.821 1148.69,848.821 \n",
       "  1152.76,846.355 1156.83,843.888 1160.9,841.422 1164.96,838.956 1169.03,836.489 1173.1,834.023 1177.17,831.557 1181.23,829.09 1185.3,826.624 1189.37,824.158 \n",
       "  1193.44,821.691 1197.51,819.225 1201.57,816.759 1205.64,814.292 1209.71,811.826 1213.78,809.36 1217.84,806.893 1221.91,804.427 1225.98,801.961 1230.05,799.494 \n",
       "  1234.12,797.028 1238.18,794.562 1242.25,792.095 1246.32,789.629 1250.39,787.163 1254.45,784.696 1258.52,782.23 1262.59,782.23 1266.66,779.763 1270.73,777.297 \n",
       "  1274.79,774.831 1278.86,772.364 1282.93,769.898 1287,767.432 1291.06,767.432 1295.13,764.965 1299.2,762.499 1303.27,760.033 1307.34,757.566 1311.4,755.1 \n",
       "  1315.47,752.634 1319.54,750.167 1323.61,747.701 1327.67,745.235 1331.74,742.768 1335.81,740.302 1339.88,737.836 1343.95,735.369 1348.01,732.903 1352.08,730.437 \n",
       "  1356.15,727.97 1360.22,725.504 1364.28,723.038 1368.35,720.571 1372.42,718.105 1376.49,715.638 1380.56,713.172 1384.62,710.706 1388.69,708.239 1392.76,705.773 \n",
       "  1396.83,703.307 1400.89,700.84 1404.96,700.84 1409.03,698.374 1413.1,695.908 1417.17,693.441 1421.23,690.975 1425.3,688.509 1429.37,686.042 1433.44,683.576 \n",
       "  1437.5,681.11 1441.57,678.643 1445.64,676.177 1449.71,673.711 1453.78,671.244 1457.84,668.778 1461.91,666.312 1465.98,663.845 1470.05,661.379 1474.11,658.912 \n",
       "  1478.18,656.446 1482.25,653.98 1486.32,651.513 1490.39,649.047 1494.45,649.047 1498.52,646.581 1502.59,644.114 1506.66,641.648 1510.72,639.182 1514.79,636.715 \n",
       "  1518.86,634.249 1522.93,631.783 1527,629.316 1531.06,626.85 1535.13,624.384 1539.2,621.917 1543.27,619.451 1547.33,616.985 1551.4,614.518 1555.47,612.052 \n",
       "  1559.54,609.586 1563.61,607.119 1567.67,604.653 1571.74,602.187 1575.81,599.72 1579.88,597.254 1583.94,597.254 1588.01,594.787 1592.08,592.321 1596.15,589.855 \n",
       "  1600.22,587.388 1604.28,584.922 1608.35,582.456 1612.42,579.989 1616.49,577.523 1620.55,575.057 1624.62,572.59 1628.69,570.124 1632.76,567.658 1636.83,565.191 \n",
       "  1640.89,562.725 1644.96,560.259 1649.03,557.792 1653.1,555.326 1657.16,552.86 1661.23,550.393 1665.3,547.927 1669.37,545.461 1673.44,545.461 1677.5,542.994 \n",
       "  1681.57,540.528 1685.64,538.062 1689.71,535.595 1693.78,533.129 1697.84,530.662 1701.91,528.196 1705.98,525.73 1710.05,523.263 1714.11,520.797 1718.18,518.331 \n",
       "  1722.25,515.864 1726.32,513.398 1730.39,510.932 1734.45,508.465 1738.52,505.999 1742.59,503.533 1746.66,501.066 1750.72,498.6 1754.79,496.134 1758.86,496.134 \n",
       "  1762.93,493.667 1767,491.201 1771.06,488.735 1775.13,486.268 1779.2,483.802 1783.27,481.336 1787.33,478.869 1791.4,476.403 1795.47,473.937 1799.54,471.47 \n",
       "  1803.61,469.004 1807.67,466.537 1811.74,464.071 1815.81,461.605 1819.88,459.138 1823.94,456.672 1828.01,454.206 1832.08,451.739 1836.15,449.273 1840.22,449.273 \n",
       "  1844.28,446.807 1848.35,444.34 1852.42,441.874 1856.49,439.408 1860.55,436.941 1864.62,434.475 1868.69,432.009 1872.76,429.542 1876.83,427.076 1880.89,424.61 \n",
       "  1884.96,422.143 1889.03,419.677 1893.1,417.211 1897.16,414.744 1901.23,412.278 1905.3,409.812 1909.37,407.345 1913.44,404.879 1917.5,402.412 1921.57,399.946 \n",
       "  1925.64,399.946 1929.71,397.48 1933.77,395.013 1937.84,392.547 1941.91,390.081 1945.98,387.614 1950.05,385.148 1954.11,382.682 1958.18,380.215 1962.25,377.749 \n",
       "  1966.32,375.283 1970.38,372.816 1974.45,370.35 1978.52,367.884 1982.59,365.417 1986.66,362.951 1990.72,360.485 1994.79,358.018 1998.86,355.552 2002.93,353.086 \n",
       "  2006.99,350.619 2011.06,348.153 2015.13,348.153 2019.2,345.687 2023.27,343.22 2027.33,340.754 2031.4,338.287 2035.47,335.821 2039.54,333.355 2043.6,330.888 \n",
       "  2047.67,328.422 2051.74,325.956 2055.81,323.489 2059.88,321.023 2063.94,318.557 2068.01,316.09 2072.08,313.624 2076.15,311.158 2080.21,308.691 2084.28,306.225 \n",
       "  2088.35,303.759 2092.42,301.292 2096.49,298.826 2100.55,298.826 2104.62,296.36 2108.69,293.893 2112.76,291.427 2116.82,288.961 2120.89,286.494 2124.96,284.028 \n",
       "  2129.03,281.562 2133.1,279.095 2137.16,276.629 2141.23,274.162 2145.3,271.696 2149.37,269.23 2153.43,266.763 2157.5,264.297 2161.57,261.831 2165.64,259.364 \n",
       "  2169.71,256.898 2173.77,254.432 2177.84,251.965 2181.91,249.499 2185.98,249.499 2190.04,247.033 2194.11,244.566 2198.18,242.1 2202.25,239.634 2206.32,237.167 \n",
       "  2210.38,234.701 2214.45,232.235 2218.52,229.768 2222.59,227.302 2226.65,224.836 2230.72,222.369 2234.79,219.903 2238.86,217.437 2242.93,214.97 2246.99,212.504 \n",
       "  2251.06,210.037 2255.13,207.571 2259.2,205.105 2263.26,202.638 2267.33,202.638 2271.4,200.172 2275.47,197.706 2279.54,195.239 2283.6,192.773 2287.67,190.307 \n",
       "  2291.74,187.84 \n",
       "  \"/>\n",
       "<path clip-path=\"url(#clip380)\" d=\"\n",
       "M1829.17 406.741 L2280.89 406.741 L2280.89 164.821 L1829.17 164.821  Z\n",
       "  \" fill=\"#ffffff\" fill-rule=\"evenodd\" fill-opacity=\"1\"/>\n",
       "<polyline clip-path=\"url(#clip380)\" style=\"stroke:#000000; stroke-width:4; stroke-opacity:1; fill:none\" points=\"\n",
       "  1829.17,406.741 2280.89,406.741 2280.89,164.821 1829.17,164.821 1829.17,406.741 \n",
       "  \"/>\n",
       "<polyline clip-path=\"url(#clip380)\" style=\"stroke:#000000; stroke-width:4; stroke-opacity:1; fill:none\" points=\"\n",
       "  1853.12,225.301 1996.85,225.301 \n",
       "  \"/>\n",
       "<path clip-path=\"url(#clip380)\" d=\"M 0 0 M2036.41 212.095 L2024.6 230.544 L2036.41 230.544 L2036.41 212.095 M2035.18 208.021 L2041.06 208.021 L2041.06 230.544 L2045.99 230.544 L2045.99 234.433 L2041.06 234.433 L2041.06 242.581 L2036.41 242.581 L2036.41 234.433 L2020.81 234.433 L2020.81 229.919 L2035.18 208.021 Z\" fill=\"#000000\" fill-rule=\"evenodd\" fill-opacity=\"1\" /><path clip-path=\"url(#clip380)\" d=\"M 0 0 M2051.11 208.021 L2069.46 208.021 L2069.46 211.956 L2055.39 211.956 L2055.39 220.428 Q2056.41 220.081 2057.43 219.919 Q2058.45 219.734 2059.46 219.734 Q2065.25 219.734 2068.63 222.905 Q2072.01 226.077 2072.01 231.493 Q2072.01 237.072 2068.54 240.174 Q2065.07 243.252 2058.75 243.252 Q2056.57 243.252 2054.3 242.882 Q2052.06 242.512 2049.65 241.771 L2049.65 237.072 Q2051.73 238.206 2053.96 238.762 Q2056.18 239.317 2058.65 239.317 Q2062.66 239.317 2065 237.211 Q2067.34 235.104 2067.34 231.493 Q2067.34 227.882 2065 225.776 Q2062.66 223.669 2058.65 223.669 Q2056.78 223.669 2054.9 224.086 Q2053.05 224.503 2051.11 225.382 L2051.11 208.021 Z\" fill=\"#000000\" fill-rule=\"evenodd\" fill-opacity=\"1\" /><path clip-path=\"url(#clip380)\" d=\"M 0 0 M2083.86 210.382 Q2082.01 210.382 2080.74 211.679 Q2079.46 212.952 2079.46 214.803 Q2079.46 216.632 2080.74 217.905 Q2082.01 219.155 2083.86 219.155 Q2085.71 219.155 2086.99 217.905 Q2088.26 216.632 2088.26 214.803 Q2088.26 212.975 2086.96 211.679 Q2085.69 210.382 2083.86 210.382 M2083.86 207.396 Q2085.34 207.396 2086.71 207.975 Q2088.08 208.53 2089.07 209.595 Q2090.14 210.637 2090.67 211.956 Q2091.2 213.276 2091.2 214.803 Q2091.2 217.859 2089.05 219.989 Q2086.92 222.095 2083.82 222.095 Q2080.69 222.095 2078.61 220.012 Q2076.52 217.928 2076.52 214.803 Q2076.52 211.702 2078.65 209.549 Q2080.78 207.396 2083.86 207.396 Z\" fill=\"#000000\" fill-rule=\"evenodd\" fill-opacity=\"1\" /><path clip-path=\"url(#clip380)\" d=\"M 0 0 M2110.74 206.563 L2115 206.563 L2115 242.581 L2110.74 242.581 L2110.74 206.563 Z\" fill=\"#000000\" fill-rule=\"evenodd\" fill-opacity=\"1\" /><path clip-path=\"url(#clip380)\" d=\"M 0 0 M2119.46 216.655 L2123.72 216.655 L2123.72 242.581 L2119.46 242.581 L2119.46 216.655 M2119.46 206.563 L2123.72 206.563 L2123.72 211.956 L2119.46 211.956 L2119.46 206.563 Z\" fill=\"#000000\" fill-rule=\"evenodd\" fill-opacity=\"1\" /><path clip-path=\"url(#clip380)\" d=\"M 0 0 M2149.74 226.933 L2149.74 242.581 L2145.48 242.581 L2145.48 227.072 Q2145.48 223.391 2144.05 221.563 Q2142.61 219.734 2139.74 219.734 Q2136.29 219.734 2134.3 221.933 Q2132.31 224.132 2132.31 227.928 L2132.31 242.581 L2128.03 242.581 L2128.03 216.655 L2132.31 216.655 L2132.31 220.683 Q2133.84 218.345 2135.9 217.188 Q2137.98 216.03 2140.69 216.03 Q2145.16 216.03 2147.45 218.808 Q2149.74 221.563 2149.74 226.933 Z\" fill=\"#000000\" fill-rule=\"evenodd\" fill-opacity=\"1\" /><path clip-path=\"url(#clip380)\" d=\"M 0 0 M2176.39 228.553 L2176.39 230.637 L2156.8 230.637 Q2157.08 235.035 2159.44 237.35 Q2161.83 239.641 2166.06 239.641 Q2168.52 239.641 2170.81 239.039 Q2173.12 238.438 2175.39 237.234 L2175.39 241.262 Q2173.1 242.234 2170.69 242.743 Q2168.28 243.252 2165.81 243.252 Q2159.6 243.252 2155.97 239.641 Q2152.36 236.03 2152.36 229.873 Q2152.36 223.507 2155.78 219.78 Q2159.23 216.03 2165.07 216.03 Q2170.3 216.03 2173.33 219.41 Q2176.39 222.766 2176.39 228.553 M2172.13 227.303 Q2172.08 223.808 2170.16 221.725 Q2168.26 219.641 2165.11 219.641 Q2161.55 219.641 2159.39 221.655 Q2157.27 223.669 2156.94 227.327 L2172.13 227.303 Z\" fill=\"#000000\" fill-rule=\"evenodd\" fill-opacity=\"1\" /><polyline clip-path=\"url(#clip380)\" style=\"stroke:#808080; stroke-width:4; stroke-opacity:1; fill:none\" stroke-dasharray=\"16, 10\" points=\"\n",
       "  1853.12,285.781 1996.85,285.781 \n",
       "  \"/>\n",
       "<path clip-path=\"url(#clip380)\" d=\"M 0 0 M2020.81 267.043 L2025.09 267.043 L2025.09 288.316 L2037.8 277.135 L2043.24 277.135 L2029.49 289.265 L2043.82 303.061 L2038.26 303.061 L2025.09 290.399 L2025.09 303.061 L2020.81 303.061 L2020.81 267.043 Z\" fill=\"#000000\" fill-rule=\"evenodd\" fill-opacity=\"1\" /><path clip-path=\"url(#clip380)\" d=\"M 0 0 M2025.14 267.737 L2038.98 267.737 L2038.98 271.163 L2025.14 271.163 L2025.14 267.737 Z\" fill=\"#000000\" fill-rule=\"evenodd\" fill-opacity=\"1\" /><polyline clip-path=\"url(#clip380)\" style=\"stroke:#ffa500; stroke-width:4; stroke-opacity:1; fill:none\" points=\"\n",
       "  1853.12,346.261 1996.85,346.261 \n",
       "  \"/>\n",
       "<path clip-path=\"url(#clip380)\" d=\"M 0 0 M2036.83 332.152 Q2031.73 332.152 2028.72 335.949 Q2025.74 339.745 2025.74 346.296 Q2025.74 352.824 2028.72 356.62 Q2031.73 360.416 2036.83 360.416 Q2041.92 360.416 2044.88 356.62 Q2047.87 352.824 2047.87 346.296 Q2047.87 339.745 2044.88 335.949 Q2041.92 332.152 2036.83 332.152 M2036.83 328.356 Q2044.09 328.356 2048.45 333.24 Q2052.8 338.101 2052.8 346.296 Q2052.8 354.467 2048.45 359.351 Q2044.09 364.212 2036.83 364.212 Q2029.53 364.212 2025.16 359.351 Q2020.81 354.49 2020.81 346.296 Q2020.81 338.101 2025.16 333.24 Q2029.53 328.356 2036.83 328.356 Z\" fill=\"#000000\" fill-rule=\"evenodd\" fill-opacity=\"1\" /><path clip-path=\"url(#clip380)\" d=\"M 0 0 M2061.39 359.652 L2061.39 373.402 L2057.1 373.402 L2057.1 337.615 L2061.39 337.615 L2061.39 341.55 Q2062.73 339.236 2064.77 338.125 Q2066.83 336.99 2069.67 336.99 Q2074.4 336.99 2077.33 340.74 Q2080.3 344.49 2080.3 350.601 Q2080.3 356.712 2077.33 360.462 Q2074.4 364.212 2069.67 364.212 Q2066.83 364.212 2064.77 363.101 Q2062.73 361.967 2061.39 359.652 M2075.88 350.601 Q2075.88 345.902 2073.93 343.24 Q2072.01 340.555 2068.63 340.555 Q2065.25 340.555 2063.31 343.24 Q2061.39 345.902 2061.39 350.601 Q2061.39 355.3 2063.31 357.986 Q2065.25 360.648 2068.63 360.648 Q2072.01 360.648 2073.93 357.986 Q2075.88 355.3 2075.88 350.601 Z\" fill=\"#000000\" fill-rule=\"evenodd\" fill-opacity=\"1\" /><path clip-path=\"url(#clip380)\" d=\"M 0 0 M2088.98 330.254 L2088.98 337.615 L2097.75 337.615 L2097.75 340.925 L2088.98 340.925 L2088.98 354.999 Q2088.98 358.171 2089.83 359.074 Q2090.71 359.976 2093.38 359.976 L2097.75 359.976 L2097.75 363.541 L2093.38 363.541 Q2088.45 363.541 2086.57 361.712 Q2084.7 359.861 2084.7 354.999 L2084.7 340.925 L2081.57 340.925 L2081.57 337.615 L2084.7 337.615 L2084.7 330.254 L2088.98 330.254 Z\" fill=\"#000000\" fill-rule=\"evenodd\" fill-opacity=\"1\" /><path clip-path=\"url(#clip380)\" d=\"M 0 0 M2102.22 337.615 L2106.48 337.615 L2106.48 363.541 L2102.22 363.541 L2102.22 337.615 M2102.22 327.523 L2106.48 327.523 L2106.48 332.916 L2102.22 332.916 L2102.22 327.523 Z\" fill=\"#000000\" fill-rule=\"evenodd\" fill-opacity=\"1\" /><path clip-path=\"url(#clip380)\" d=\"M 0 0 M2131.13 342.592 Q2132.73 339.722 2134.95 338.356 Q2137.17 336.99 2140.18 336.99 Q2144.23 336.99 2146.43 339.838 Q2148.63 342.662 2148.63 347.893 L2148.63 363.541 L2144.35 363.541 L2144.35 348.032 Q2144.35 344.305 2143.03 342.5 Q2141.71 340.694 2139 340.694 Q2135.69 340.694 2133.77 342.893 Q2131.85 345.092 2131.85 348.888 L2131.85 363.541 L2127.57 363.541 L2127.57 348.032 Q2127.57 344.282 2126.25 342.5 Q2124.93 340.694 2122.17 340.694 Q2118.91 340.694 2116.99 342.916 Q2115.07 345.115 2115.07 348.888 L2115.07 363.541 L2110.78 363.541 L2110.78 337.615 L2115.07 337.615 L2115.07 341.643 Q2116.52 339.259 2118.56 338.125 Q2120.6 336.99 2123.4 336.99 Q2126.22 336.99 2128.19 338.426 Q2130.18 339.861 2131.13 342.592 Z\" fill=\"#000000\" fill-rule=\"evenodd\" fill-opacity=\"1\" /><path clip-path=\"url(#clip380)\" d=\"M 0 0 M2164.88 350.509 Q2159.72 350.509 2157.73 351.689 Q2155.74 352.87 2155.74 355.717 Q2155.74 357.986 2157.22 359.328 Q2158.72 360.648 2161.29 360.648 Q2164.83 360.648 2166.96 358.148 Q2169.12 355.624 2169.12 351.458 L2169.12 350.509 L2164.88 350.509 M2173.38 348.75 L2173.38 363.541 L2169.12 363.541 L2169.12 359.606 Q2167.66 361.967 2165.48 363.101 Q2163.31 364.212 2160.16 364.212 Q2156.18 364.212 2153.82 361.99 Q2151.48 359.745 2151.48 355.995 Q2151.48 351.62 2154.39 349.398 Q2157.33 347.175 2163.14 347.175 L2169.12 347.175 L2169.12 346.759 Q2169.12 343.819 2167.17 342.222 Q2165.25 340.601 2161.76 340.601 Q2159.53 340.601 2157.43 341.134 Q2155.32 341.666 2153.38 342.731 L2153.38 338.796 Q2155.71 337.893 2157.91 337.453 Q2160.11 336.99 2162.2 336.99 Q2167.82 336.99 2170.6 339.907 Q2173.38 342.824 2173.38 348.75 Z\" fill=\"#000000\" fill-rule=\"evenodd\" fill-opacity=\"1\" /><path clip-path=\"url(#clip380)\" d=\"M 0 0 M2177.84 327.523 L2182.1 327.523 L2182.1 363.541 L2177.84 363.541 L2177.84 327.523 Z\" fill=\"#000000\" fill-rule=\"evenodd\" fill-opacity=\"1\" /><path clip-path=\"url(#clip380)\" d=\"M 0 0 M2201.48 327.523 L2205.76 327.523 L2205.76 348.796 L2218.47 337.615 L2223.91 337.615 L2210.16 349.745 L2224.49 363.541 L2218.93 363.541 L2205.76 350.879 L2205.76 363.541 L2201.48 363.541 L2201.48 327.523 Z\" fill=\"#000000\" fill-rule=\"evenodd\" fill-opacity=\"1\" /><path clip-path=\"url(#clip380)\" d=\"M 0 0 M2232.98 328.981 L2232.98 341.828 L2229.05 341.828 L2229.05 328.981 L2232.98 328.981 Z\" fill=\"#000000\" fill-rule=\"evenodd\" fill-opacity=\"1\" /></svg>\n"
      ]
     },
     "execution_count": 120,
     "metadata": {},
     "output_type": "execute_result"
    }
   ],
   "source": [
    "plot(kgrid, kgrid, label = \"45° line\", color = \"black\")\n",
    "plot!(kgrid, fill(k̄, length(kgrid)), label = \"k̄\", color = \"gray\", lw = 2, linestyle = :dash)\n",
    "vline!([k̄], label = \"\", color = \"gray\",lw = 2, linestyle = :dash)\n",
    "plot!(kgrid, k_pol, label = \"Optimal k'\", color = \"orange\", lw = 3)\n",
    "title!(\"\\$ \\\\textrm{Policy Function for } k_{t+1} \\$\")\n",
    "xlabel!(\"\\$k_{t}\\$\")\n",
    "ylabel!(\"\\$k_{t+1}\\$\")"
   ]
  },
  {
   "cell_type": "markdown",
   "metadata": {},
   "source": [
    "We may also plot the policy function for $c$:"
   ]
  },
  {
   "cell_type": "code",
   "execution_count": 125,
   "metadata": {
    "ExecuteTime": {
     "end_time": "2021-05-03T02:50:38.483000-07:00",
     "start_time": "2021-05-03T09:50:38.424Z"
    }
   },
   "outputs": [
    {
     "data": {
      "image/svg+xml": [
       "<?xml version=\"1.0\" encoding=\"utf-8\"?>\n",
       "<svg xmlns=\"http://www.w3.org/2000/svg\" xmlns:xlink=\"http://www.w3.org/1999/xlink\" width=\"600\" height=\"400\" viewBox=\"0 0 2400 1600\">\n",
       "<defs>\n",
       "  <clipPath id=\"clip580\">\n",
       "    <rect x=\"0\" y=\"0\" width=\"2400\" height=\"1600\"/>\n",
       "  </clipPath>\n",
       "</defs>\n",
       "<path clip-path=\"url(#clip580)\" d=\"\n",
       "M0 1600 L2400 1600 L2400 0 L0 0  Z\n",
       "  \" fill=\"#ffffff\" fill-rule=\"evenodd\" fill-opacity=\"1\"/>\n",
       "<defs>\n",
       "  <clipPath id=\"clip581\">\n",
       "    <rect x=\"480\" y=\"0\" width=\"1681\" height=\"1600\"/>\n",
       "  </clipPath>\n",
       "</defs>\n",
       "<defs>\n",
       "  <clipPath id=\"clip582\">\n",
       "    <rect x=\"193\" y=\"117\" width=\"2160\" height=\"1312\"/>\n",
       "  </clipPath>\n",
       "</defs>\n",
       "<path clip-path=\"url(#clip580)\" d=\"\n",
       "M193.509 1428.41 L2352.76 1428.41 L2352.76 117.612 L193.509 117.612  Z\n",
       "  \" fill=\"#ffffff\" fill-rule=\"evenodd\" fill-opacity=\"1\"/>\n",
       "<polyline clip-path=\"url(#clip582)\" style=\"stroke:#000000; stroke-width:2; stroke-opacity:0.1; fill:none\" points=\"\n",
       "  506.164,1428.41 506.164,117.612 \n",
       "  \"/>\n",
       "<polyline clip-path=\"url(#clip582)\" style=\"stroke:#000000; stroke-width:2; stroke-opacity:0.1; fill:none\" points=\"\n",
       "  1015.42,1428.41 1015.42,117.612 \n",
       "  \"/>\n",
       "<polyline clip-path=\"url(#clip582)\" style=\"stroke:#000000; stroke-width:2; stroke-opacity:0.1; fill:none\" points=\"\n",
       "  1524.68,1428.41 1524.68,117.612 \n",
       "  \"/>\n",
       "<polyline clip-path=\"url(#clip582)\" style=\"stroke:#000000; stroke-width:2; stroke-opacity:0.1; fill:none\" points=\"\n",
       "  2033.93,1428.41 2033.93,117.612 \n",
       "  \"/>\n",
       "<polyline clip-path=\"url(#clip580)\" style=\"stroke:#000000; stroke-width:4; stroke-opacity:1; fill:none\" points=\"\n",
       "  193.509,1428.41 2352.76,1428.41 \n",
       "  \"/>\n",
       "<polyline clip-path=\"url(#clip580)\" style=\"stroke:#000000; stroke-width:4; stroke-opacity:1; fill:none\" points=\"\n",
       "  506.164,1428.41 506.164,1412.68 \n",
       "  \"/>\n",
       "<polyline clip-path=\"url(#clip580)\" style=\"stroke:#000000; stroke-width:4; stroke-opacity:1; fill:none\" points=\"\n",
       "  1015.42,1428.41 1015.42,1412.68 \n",
       "  \"/>\n",
       "<polyline clip-path=\"url(#clip580)\" style=\"stroke:#000000; stroke-width:4; stroke-opacity:1; fill:none\" points=\"\n",
       "  1524.68,1428.41 1524.68,1412.68 \n",
       "  \"/>\n",
       "<polyline clip-path=\"url(#clip580)\" style=\"stroke:#000000; stroke-width:4; stroke-opacity:1; fill:none\" points=\"\n",
       "  2033.93,1428.41 2033.93,1412.68 \n",
       "  \"/>\n",
       "<path clip-path=\"url(#clip580)\" d=\"M 0 0 M483.039 1485.15 L490.678 1485.15 L490.678 1458.78 L482.368 1460.45 L482.368 1456.19 L490.632 1454.52 L495.307 1454.52 L495.307 1485.15 L502.946 1485.15 L502.946 1489.08 L483.039 1489.08 L483.039 1485.15 Z\" fill=\"#000000\" fill-rule=\"evenodd\" fill-opacity=\"1\" /><path clip-path=\"url(#clip580)\" d=\"M 0 0 M518.016 1457.6 Q514.405 1457.6 512.576 1461.17 Q510.77 1464.71 510.77 1471.84 Q510.77 1478.95 512.576 1482.51 Q514.405 1486.05 518.016 1486.05 Q521.65 1486.05 523.455 1482.51 Q525.284 1478.95 525.284 1471.84 Q525.284 1464.71 523.455 1461.17 Q521.65 1457.6 518.016 1457.6 M518.016 1453.9 Q523.826 1453.9 526.881 1458.51 Q529.96 1463.09 529.96 1471.84 Q529.96 1480.57 526.881 1485.17 Q523.826 1489.76 518.016 1489.76 Q512.205 1489.76 509.127 1485.17 Q506.071 1480.57 506.071 1471.84 Q506.071 1463.09 509.127 1458.51 Q512.205 1453.9 518.016 1453.9 Z\" fill=\"#000000\" fill-rule=\"evenodd\" fill-opacity=\"1\" /><path clip-path=\"url(#clip580)\" d=\"M 0 0 M992.793 1485.15 L1000.43 1485.15 L1000.43 1458.78 L992.122 1460.45 L992.122 1456.19 L1000.39 1454.52 L1005.06 1454.52 L1005.06 1485.15 L1012.7 1485.15 L1012.7 1489.08 L992.793 1489.08 L992.793 1485.15 Z\" fill=\"#000000\" fill-rule=\"evenodd\" fill-opacity=\"1\" /><path clip-path=\"url(#clip580)\" d=\"M 0 0 M1017.82 1454.52 L1036.17 1454.52 L1036.17 1458.46 L1022.1 1458.46 L1022.1 1466.93 Q1023.12 1466.58 1024.14 1466.42 Q1025.15 1466.24 1026.17 1466.24 Q1031.96 1466.24 1035.34 1469.41 Q1038.72 1472.58 1038.72 1478 Q1038.72 1483.58 1035.25 1486.68 Q1031.77 1489.76 1025.45 1489.76 Q1023.28 1489.76 1021.01 1489.39 Q1018.77 1489.02 1016.36 1488.27 L1016.36 1483.58 Q1018.44 1484.71 1020.66 1485.27 Q1022.89 1485.82 1025.36 1485.82 Q1029.37 1485.82 1031.7 1483.71 Q1034.04 1481.61 1034.04 1478 Q1034.04 1474.39 1031.7 1472.28 Q1029.37 1470.17 1025.36 1470.17 Q1023.49 1470.17 1021.61 1470.59 Q1019.76 1471.01 1017.82 1471.89 L1017.82 1454.52 Z\" fill=\"#000000\" fill-rule=\"evenodd\" fill-opacity=\"1\" /><path clip-path=\"url(#clip580)\" d=\"M 0 0 M1505.82 1485.15 L1522.14 1485.15 L1522.14 1489.08 L1500.2 1489.08 L1500.2 1485.15 Q1502.86 1482.39 1507.44 1477.77 Q1512.05 1473.11 1513.23 1471.77 Q1515.48 1469.25 1516.36 1467.51 Q1517.26 1465.75 1517.26 1464.06 Q1517.26 1461.31 1515.31 1459.57 Q1513.39 1457.83 1510.29 1457.83 Q1508.09 1457.83 1505.64 1458.6 Q1503.21 1459.36 1500.43 1460.91 L1500.43 1456.19 Q1503.25 1455.06 1505.71 1454.48 Q1508.16 1453.9 1510.2 1453.9 Q1515.57 1453.9 1518.76 1456.58 Q1521.96 1459.27 1521.96 1463.76 Q1521.96 1465.89 1521.15 1467.81 Q1520.36 1469.71 1518.25 1472.3 Q1517.67 1472.97 1514.57 1476.19 Q1511.47 1479.39 1505.82 1485.15 Z\" fill=\"#000000\" fill-rule=\"evenodd\" fill-opacity=\"1\" /><path clip-path=\"url(#clip580)\" d=\"M 0 0 M1537.21 1457.6 Q1533.6 1457.6 1531.77 1461.17 Q1529.97 1464.71 1529.97 1471.84 Q1529.97 1478.95 1531.77 1482.51 Q1533.6 1486.05 1537.21 1486.05 Q1540.85 1486.05 1542.65 1482.51 Q1544.48 1478.95 1544.48 1471.84 Q1544.48 1464.71 1542.65 1461.17 Q1540.85 1457.6 1537.21 1457.6 M1537.21 1453.9 Q1543.02 1453.9 1546.08 1458.51 Q1549.16 1463.09 1549.16 1471.84 Q1549.16 1480.57 1546.08 1485.17 Q1543.02 1489.76 1537.21 1489.76 Q1531.4 1489.76 1528.32 1485.17 Q1525.27 1480.57 1525.27 1471.84 Q1525.27 1463.09 1528.32 1458.51 Q1531.4 1453.9 1537.21 1453.9 Z\" fill=\"#000000\" fill-rule=\"evenodd\" fill-opacity=\"1\" /><path clip-path=\"url(#clip580)\" d=\"M 0 0 M2015.58 1485.15 L2031.9 1485.15 L2031.9 1489.08 L2009.95 1489.08 L2009.95 1485.15 Q2012.61 1482.39 2017.2 1477.77 Q2021.8 1473.11 2022.98 1471.77 Q2025.23 1469.25 2026.11 1467.51 Q2027.01 1465.75 2027.01 1464.06 Q2027.01 1461.31 2025.07 1459.57 Q2023.15 1457.83 2020.04 1457.83 Q2017.85 1457.83 2015.39 1458.6 Q2012.96 1459.36 2010.18 1460.91 L2010.18 1456.19 Q2013.01 1455.06 2015.46 1454.48 Q2017.91 1453.9 2019.95 1453.9 Q2025.32 1453.9 2028.52 1456.58 Q2031.71 1459.27 2031.71 1463.76 Q2031.71 1465.89 2030.9 1467.81 Q2030.11 1469.71 2028.01 1472.3 Q2027.43 1472.97 2024.33 1476.19 Q2021.22 1479.39 2015.58 1485.15 Z\" fill=\"#000000\" fill-rule=\"evenodd\" fill-opacity=\"1\" /><path clip-path=\"url(#clip580)\" d=\"M 0 0 M2037.01 1454.52 L2055.37 1454.52 L2055.37 1458.46 L2041.29 1458.46 L2041.29 1466.93 Q2042.31 1466.58 2043.33 1466.42 Q2044.35 1466.24 2045.37 1466.24 Q2051.16 1466.24 2054.53 1469.41 Q2057.91 1472.58 2057.91 1478 Q2057.91 1483.58 2054.44 1486.68 Q2050.97 1489.76 2044.65 1489.76 Q2042.47 1489.76 2040.21 1489.39 Q2037.96 1489.02 2035.55 1488.27 L2035.55 1483.58 Q2037.64 1484.71 2039.86 1485.27 Q2042.08 1485.82 2044.56 1485.82 Q2048.56 1485.82 2050.9 1483.71 Q2053.24 1481.61 2053.24 1478 Q2053.24 1474.39 2050.9 1472.28 Q2048.56 1470.17 2044.56 1470.17 Q2042.68 1470.17 2040.81 1470.59 Q2038.96 1471.01 2037.01 1471.89 L2037.01 1454.52 Z\" fill=\"#000000\" fill-rule=\"evenodd\" fill-opacity=\"1\" /><path clip-path=\"url(#clip580)\" d=\"M 0 0 M1274.13 1530.01 Q1274.13 1531.85 1273 1532.94 Q1271.91 1534.04 1270.52 1534.04 Q1269.3 1534.04 1268.66 1533.33 Q1268.01 1532.62 1268.01 1531.72 Q1268.01 1531.33 1268.17 1530.85 Q1268.33 1530.33 1268.69 1529.72 Q1269.07 1529.11 1269.88 1528.66 Q1270.68 1528.21 1271.78 1528.14 Q1271.55 1527.92 1271.49 1527.89 Q1271.01 1527.5 1270.1 1527.37 Q1269.98 1527.31 1269.53 1527.31 Q1267.3 1527.31 1265.05 1528.95 Q1262.83 1530.56 1260.09 1533.62 Q1256.64 1537.19 1254.42 1538.51 Q1264.18 1539.8 1264.18 1545.44 Q1264.18 1546.37 1263.92 1547.5 Q1263.41 1549.62 1263.41 1551.17 Q1263.41 1554.26 1265.5 1554.26 Q1267.53 1554.26 1268.82 1552.2 Q1270.14 1550.14 1271.23 1546.11 Q1271.39 1545.37 1271.55 1545.15 Q1271.72 1544.92 1272.17 1544.92 Q1272.97 1544.92 1272.97 1545.57 Q1272.23 1549.33 1270.59 1552.23 Q1268.49 1555.74 1265.37 1555.74 Q1262.76 1555.74 1261.02 1553.94 Q1259.32 1552.1 1259.32 1549.21 Q1259.32 1548.5 1259.57 1546.89 Q1259.77 1546.24 1259.77 1545.5 Q1259.77 1543.99 1258.93 1542.86 Q1258.09 1541.7 1256.74 1541.12 Q1255.39 1540.54 1254.26 1540.29 Q1253.16 1540 1252.1 1539.9 Q1248.88 1553.52 1248.43 1554.36 Q1248.14 1554.94 1247.5 1555.33 Q1246.85 1555.74 1246.18 1555.74 Q1245.53 1555.74 1244.89 1555.29 Q1244.28 1554.87 1244.28 1553.88 Q1244.28 1553.36 1244.53 1552.43 L1254.1 1514.42 L1254.29 1513.14 Q1254.29 1512.75 1254.13 1512.56 Q1254 1512.33 1253.23 1512.17 Q1252.49 1512.01 1251.01 1512.01 Q1250.39 1512.01 1250.11 1511.98 Q1249.85 1511.94 1249.62 1511.78 Q1249.4 1511.59 1249.4 1511.2 Q1249.4 1510.66 1249.62 1510.37 Q1249.88 1510.04 1250.07 1509.98 Q1250.27 1509.92 1250.65 1509.88 Q1251.2 1509.85 1253.04 1509.69 Q1254.87 1509.5 1256.45 1509.37 Q1258.03 1509.24 1258.7 1509.24 Q1259.09 1509.24 1259.28 1509.43 Q1259.51 1509.59 1259.54 1509.79 L1259.57 1509.95 L1252.71 1537.77 Q1255.55 1536.65 1260.02 1531.65 Q1265.21 1525.86 1269.65 1525.86 Q1271.75 1525.86 1272.94 1527.15 Q1274.13 1528.4 1274.13 1530.01 Z\" fill=\"#000000\" fill-rule=\"evenodd\" fill-opacity=\"1\" /><path clip-path=\"url(#clip580)\" d=\"M 0 0 M1295.07 1553.44 Q1295.07 1554.07 1294.78 1554.23 Q1294.49 1554.36 1293.68 1554.36 L1289.35 1554.36 L1285.92 1567.98 Q1285.65 1569.17 1285.65 1570.19 Q1285.65 1571.32 1285.99 1571.81 Q1286.35 1572.31 1287.09 1572.31 Q1288.56 1572.31 1290.14 1570.98 Q1291.74 1569.65 1293.09 1566.4 Q1293.27 1565.97 1293.36 1565.88 Q1293.47 1565.77 1293.77 1565.77 Q1294.33 1565.77 1294.33 1566.22 Q1294.33 1566.38 1294.01 1567.1 Q1293.72 1567.82 1293.07 1568.88 Q1292.44 1569.94 1291.6 1570.93 Q1290.79 1571.92 1289.55 1572.65 Q1288.31 1573.34 1286.98 1573.34 Q1285.11 1573.34 1283.91 1572.15 Q1282.74 1570.96 1282.74 1569.08 Q1282.74 1568.48 1283.22 1566.54 Q1283.69 1564.58 1286.26 1554.36 L1282.18 1554.36 Q1281.62 1554.36 1281.39 1554.34 Q1281.19 1554.32 1281.03 1554.2 Q1280.89 1554.07 1280.89 1553.8 Q1280.89 1553.37 1281.07 1553.19 Q1281.25 1552.99 1281.48 1552.96 Q1281.73 1552.92 1282.29 1552.92 L1286.62 1552.92 L1288.42 1545.59 Q1288.6 1544.87 1289.05 1544.47 Q1289.53 1544.04 1289.8 1543.99 Q1290.07 1543.92 1290.27 1543.92 Q1290.88 1543.92 1291.24 1544.26 Q1291.6 1544.58 1291.6 1545.16 Q1291.6 1545.48 1289.71 1552.92 L1293.77 1552.92 Q1294.29 1552.92 1294.49 1552.94 Q1294.71 1552.96 1294.89 1553.08 Q1295.07 1553.19 1295.07 1553.44 Z\" fill=\"#000000\" fill-rule=\"evenodd\" fill-opacity=\"1\" /><polyline clip-path=\"url(#clip582)\" style=\"stroke:#000000; stroke-width:2; stroke-opacity:0.1; fill:none\" points=\"\n",
       "  193.509,1161.87 2352.76,1161.87 \n",
       "  \"/>\n",
       "<polyline clip-path=\"url(#clip582)\" style=\"stroke:#000000; stroke-width:2; stroke-opacity:0.1; fill:none\" points=\"\n",
       "  193.509,895.192 2352.76,895.192 \n",
       "  \"/>\n",
       "<polyline clip-path=\"url(#clip582)\" style=\"stroke:#000000; stroke-width:2; stroke-opacity:0.1; fill:none\" points=\"\n",
       "  193.509,628.512 2352.76,628.512 \n",
       "  \"/>\n",
       "<polyline clip-path=\"url(#clip582)\" style=\"stroke:#000000; stroke-width:2; stroke-opacity:0.1; fill:none\" points=\"\n",
       "  193.509,361.831 2352.76,361.831 \n",
       "  \"/>\n",
       "<polyline clip-path=\"url(#clip580)\" style=\"stroke:#000000; stroke-width:4; stroke-opacity:1; fill:none\" points=\"\n",
       "  193.509,1428.41 193.509,117.612 \n",
       "  \"/>\n",
       "<polyline clip-path=\"url(#clip580)\" style=\"stroke:#000000; stroke-width:4; stroke-opacity:1; fill:none\" points=\"\n",
       "  193.509,1161.87 219.42,1161.87 \n",
       "  \"/>\n",
       "<polyline clip-path=\"url(#clip580)\" style=\"stroke:#000000; stroke-width:4; stroke-opacity:1; fill:none\" points=\"\n",
       "  193.509,895.192 219.42,895.192 \n",
       "  \"/>\n",
       "<polyline clip-path=\"url(#clip580)\" style=\"stroke:#000000; stroke-width:4; stroke-opacity:1; fill:none\" points=\"\n",
       "  193.509,628.512 219.42,628.512 \n",
       "  \"/>\n",
       "<polyline clip-path=\"url(#clip580)\" style=\"stroke:#000000; stroke-width:4; stroke-opacity:1; fill:none\" points=\"\n",
       "  193.509,361.831 219.42,361.831 \n",
       "  \"/>\n",
       "<path clip-path=\"url(#clip580)\" d=\"M 0 0 M101.629 1175.22 L109.268 1175.22 L109.268 1148.85 L100.958 1150.52 L100.958 1146.26 L109.222 1144.59 L113.898 1144.59 L113.898 1175.22 L121.537 1175.22 L121.537 1179.15 L101.629 1179.15 L101.629 1175.22 Z\" fill=\"#000000\" fill-rule=\"evenodd\" fill-opacity=\"1\" /><path clip-path=\"url(#clip580)\" d=\"M 0 0 M126.606 1173.27 L131.49 1173.27 L131.49 1179.15 L126.606 1179.15 L126.606 1173.27 Z\" fill=\"#000000\" fill-rule=\"evenodd\" fill-opacity=\"1\" /><path clip-path=\"url(#clip580)\" d=\"M 0 0 M136.606 1144.59 L154.962 1144.59 L154.962 1148.53 L140.888 1148.53 L140.888 1157 Q141.907 1156.65 142.925 1156.49 Q143.944 1156.31 144.962 1156.31 Q150.749 1156.31 154.129 1159.48 Q157.509 1162.65 157.509 1168.06 Q157.509 1173.64 154.036 1176.75 Q150.564 1179.82 144.245 1179.82 Q142.069 1179.82 139.8 1179.45 Q137.555 1179.08 135.148 1178.34 L135.148 1173.64 Q137.231 1174.78 139.453 1175.33 Q141.675 1175.89 144.152 1175.89 Q148.157 1175.89 150.495 1173.78 Q152.833 1171.68 152.833 1168.06 Q152.833 1164.45 150.495 1162.35 Q148.157 1160.24 144.152 1160.24 Q142.277 1160.24 140.402 1160.66 Q138.55 1161.07 136.606 1161.95 L136.606 1144.59 Z\" fill=\"#000000\" fill-rule=\"evenodd\" fill-opacity=\"1\" /><path clip-path=\"url(#clip580)\" d=\"M 0 0 M100.727 908.537 L108.365 908.537 L108.365 882.171 L100.055 883.838 L100.055 879.579 L108.319 877.912 L112.995 877.912 L112.995 908.537 L120.634 908.537 L120.634 912.472 L100.727 912.472 L100.727 908.537 Z\" fill=\"#000000\" fill-rule=\"evenodd\" fill-opacity=\"1\" /><path clip-path=\"url(#clip580)\" d=\"M 0 0 M125.703 906.593 L130.587 906.593 L130.587 912.472 L125.703 912.472 L125.703 906.593 Z\" fill=\"#000000\" fill-rule=\"evenodd\" fill-opacity=\"1\" /><path clip-path=\"url(#clip580)\" d=\"M 0 0 M145.657 896.06 Q142.324 896.06 140.402 897.843 Q138.504 899.625 138.504 902.75 Q138.504 905.875 140.402 907.657 Q142.324 909.44 145.657 909.44 Q148.99 909.44 150.911 907.657 Q152.833 905.852 152.833 902.75 Q152.833 899.625 150.911 897.843 Q149.013 896.06 145.657 896.06 M140.981 894.069 Q137.972 893.329 136.282 891.269 Q134.615 889.208 134.615 886.245 Q134.615 882.102 137.555 879.695 Q140.518 877.287 145.657 877.287 Q150.819 877.287 153.759 879.695 Q156.698 882.102 156.698 886.245 Q156.698 889.208 155.009 891.269 Q153.342 893.329 150.356 894.069 Q153.735 894.857 155.61 897.148 Q157.509 899.44 157.509 902.75 Q157.509 907.773 154.43 910.458 Q151.374 913.143 145.657 913.143 Q139.939 913.143 136.861 910.458 Q133.805 907.773 133.805 902.75 Q133.805 899.44 135.703 897.148 Q137.601 894.857 140.981 894.069 M139.268 886.685 Q139.268 889.37 140.935 890.875 Q142.624 892.38 145.657 892.38 Q148.666 892.38 150.356 890.875 Q152.069 889.37 152.069 886.685 Q152.069 884 150.356 882.495 Q148.666 880.991 145.657 880.991 Q142.624 880.991 140.935 882.495 Q139.268 884 139.268 886.685 Z\" fill=\"#000000\" fill-rule=\"evenodd\" fill-opacity=\"1\" /><path clip-path=\"url(#clip580)\" d=\"M 0 0 M105.449 641.856 L121.768 641.856 L121.768 645.792 L99.8237 645.792 L99.8237 641.856 Q102.486 639.102 107.069 634.472 Q111.676 629.819 112.856 628.477 Q115.101 625.954 115.981 624.218 Q116.884 622.458 116.884 620.769 Q116.884 618.014 114.939 616.278 Q113.018 614.542 109.916 614.542 Q107.717 614.542 105.264 615.306 Q102.833 616.07 100.055 617.62 L100.055 612.898 Q102.879 611.764 105.333 611.185 Q107.787 610.607 109.824 610.607 Q115.194 610.607 118.388 613.292 Q121.583 615.977 121.583 620.468 Q121.583 622.597 120.773 624.519 Q119.986 626.417 117.879 629.009 Q117.3 629.681 114.199 632.898 Q111.097 636.093 105.449 641.856 Z\" fill=\"#000000\" fill-rule=\"evenodd\" fill-opacity=\"1\" /><path clip-path=\"url(#clip580)\" d=\"M 0 0 M126.837 639.912 L131.722 639.912 L131.722 645.792 L126.837 645.792 L126.837 639.912 Z\" fill=\"#000000\" fill-rule=\"evenodd\" fill-opacity=\"1\" /><path clip-path=\"url(#clip580)\" d=\"M 0 0 M137.601 641.856 L145.24 641.856 L145.24 615.491 L136.93 617.158 L136.93 612.898 L145.194 611.232 L149.87 611.232 L149.87 641.856 L157.509 641.856 L157.509 645.792 L137.601 645.792 L137.601 641.856 Z\" fill=\"#000000\" fill-rule=\"evenodd\" fill-opacity=\"1\" /><path clip-path=\"url(#clip580)\" d=\"M 0 0 M103.736 375.176 L120.055 375.176 L120.055 379.111 L98.1108 379.111 L98.1108 375.176 Q100.773 372.421 105.356 367.792 Q109.963 363.139 111.143 361.796 Q113.388 359.273 114.268 357.537 Q115.171 355.778 115.171 354.088 Q115.171 351.333 113.226 349.597 Q111.305 347.861 108.203 347.861 Q106.004 347.861 103.551 348.625 Q101.12 349.389 98.3423 350.94 L98.3423 346.218 Q101.166 345.083 103.62 344.505 Q106.074 343.926 108.111 343.926 Q113.481 343.926 116.675 346.611 Q119.87 349.296 119.87 353.787 Q119.87 355.917 119.06 357.838 Q118.273 359.736 116.166 362.329 Q115.588 363 112.486 366.218 Q109.384 369.412 103.736 375.176 Z\" fill=\"#000000\" fill-rule=\"evenodd\" fill-opacity=\"1\" /><path clip-path=\"url(#clip580)\" d=\"M 0 0 M125.125 373.231 L130.009 373.231 L130.009 379.111 L125.125 379.111 L125.125 373.231 Z\" fill=\"#000000\" fill-rule=\"evenodd\" fill-opacity=\"1\" /><path clip-path=\"url(#clip580)\" d=\"M 0 0 M147.925 348.625 L136.12 367.074 L147.925 367.074 L147.925 348.625 M146.698 344.551 L152.578 344.551 L152.578 367.074 L157.509 367.074 L157.509 370.963 L152.578 370.963 L152.578 379.111 L147.925 379.111 L147.925 370.963 L132.324 370.963 L132.324 366.449 L146.698 344.551 Z\" fill=\"#000000\" fill-rule=\"evenodd\" fill-opacity=\"1\" /><path clip-path=\"url(#clip580)\" d=\"M 0 0 M40.8464 774.388 Q41.1363 774.13 41.4261 774.13 Q41.716 774.13 42.5533 774.774 Q43.3907 775.386 44.5179 776.707 Q45.6451 778.027 46.7079 779.734 Q47.7707 781.441 48.4792 783.953 Q49.2199 786.465 49.2199 789.106 Q49.2199 794.033 45.9671 796.932 Q42.7143 799.798 38.0445 799.798 Q33.5035 799.798 29.1557 797.254 Q24.7757 794.71 22.0704 790.587 Q19.3329 786.465 19.3329 782.117 Q19.3329 778.671 20.9432 776.513 Q22.5535 774.356 25.0011 774.356 Q26.9013 774.356 28.0607 775.451 Q29.2201 776.546 29.2201 778.027 Q29.2201 779.058 28.6404 779.766 Q28.0285 780.475 26.9013 780.475 Q25.452 780.475 24.3248 779.283 Q23.8739 778.832 23.6807 778.317 Q23.4552 777.77 23.4552 777.447 Q23.423 777.125 23.423 776.385 Q22.167 777.061 21.4907 778.671 Q20.7821 780.249 20.7821 782.053 Q20.7821 784.726 22.6501 787.27 Q24.4858 789.815 27.3843 791.36 Q30.2185 792.906 34.2442 793.905 Q38.2377 794.903 40.5565 794.903 Q43.7449 794.903 45.7417 793.422 Q47.7385 791.94 47.7385 788.977 Q47.7385 788.397 47.7062 787.786 Q47.674 787.141 47.3198 785.531 Q46.9655 783.889 46.3536 782.439 Q45.7417 780.99 44.4213 779.154 Q43.0686 777.286 41.2329 775.805 Q40.5565 775.29 40.5565 774.935 Q40.5565 774.646 40.8464 774.388 Z\" fill=\"#000000\" fill-rule=\"evenodd\" fill-opacity=\"1\" /><path clip-path=\"url(#clip580)\" d=\"M 0 0 M46.9144 753.141 Q47.5456 753.141 47.7034 753.434 Q47.8387 753.727 47.8387 754.538 L47.8387 758.867 L61.4553 762.293 Q62.6502 762.564 63.6647 762.564 Q64.7919 762.564 65.2878 762.226 Q65.7838 761.865 65.7838 761.121 Q65.7838 759.656 64.4537 758.078 Q63.1236 756.477 59.8772 755.124 Q59.4489 754.944 59.3587 754.854 Q59.246 754.741 59.246 754.448 Q59.246 753.885 59.6969 753.885 Q59.8547 753.885 60.5761 754.2 Q61.2975 754.493 62.3571 755.147 Q63.4167 755.778 64.4086 756.612 Q65.4005 757.424 66.122 758.664 Q66.8208 759.904 66.8208 761.234 Q66.8208 763.105 65.626 764.3 Q64.4312 765.472 62.56 765.472 Q61.9513 765.472 60.0125 764.999 Q58.0512 764.525 47.8387 761.955 L47.8387 766.036 Q47.8387 766.599 47.8161 766.825 Q47.7936 767.028 47.6809 767.186 Q47.5456 767.321 47.2751 767.321 Q46.8468 767.321 46.6664 767.14 Q46.4635 766.96 46.441 766.735 Q46.3959 766.487 46.3959 765.923 L46.3959 761.595 L39.069 759.791 Q38.3476 759.611 37.9418 759.16 Q37.5135 758.686 37.4684 758.416 Q37.4008 758.145 37.4008 757.942 Q37.4008 757.334 37.7389 756.973 Q38.0546 756.612 38.6407 756.612 Q38.9563 756.612 46.3959 758.506 L46.3959 754.448 Q46.3959 753.93 46.4184 753.727 Q46.441 753.501 46.5537 753.321 Q46.6664 753.141 46.9144 753.141 Z\" fill=\"#000000\" fill-rule=\"evenodd\" fill-opacity=\"1\" /><path clip-path=\"url(#clip580)\" d=\"M 0 0 M876.498 66.7086 L876.498 64.1263 L878.506 64.1263 Q883.056 64.1263 884.081 63.3885 Q885.146 62.6097 885.146 60.1503 L885.146 15.9229 Q885.146 13.5045 884.081 12.7667 Q883.015 11.9879 878.506 11.9879 L876.498 11.9879 L876.498 9.36459 L906.133 9.36459 Q914.618 9.36459 920.274 14.0374 Q925.931 18.7101 925.931 24.9815 Q925.931 31.2119 920.151 35.7207 Q914.413 40.1885 906.789 40.1885 L892.606 40.1885 L892.606 60.1503 Q892.606 62.5687 893.631 63.3475 Q894.697 64.1263 899.247 64.1263 L901.255 64.1263 L901.255 66.7086 Q898.304 66.4627 888.835 66.4627 Q879.449 66.4627 876.498 66.7086 M892.36 38.0161 L903.919 38.0161 Q907.69 38.0161 910.437 36.9504 Q913.183 35.8847 914.413 34.614 Q915.683 33.3023 916.38 31.2119 Q917.118 29.0804 917.2 27.9327 Q917.282 26.744 917.282 24.9815 Q917.282 23.137 917.2 21.9893 Q917.118 20.8006 916.38 18.7101 Q915.683 16.5787 914.413 15.308 Q913.183 13.9964 910.437 13.0126 Q907.731 11.9879 903.919 11.9879 L896.459 11.9879 Q893.59 11.9879 892.975 12.5618 Q892.36 13.1356 892.36 15.349 L892.36 38.0161 Z\" fill=\"#000000\" fill-rule=\"evenodd\" fill-opacity=\"1\" /><path clip-path=\"url(#clip580)\" d=\"M 0 0 M935.03 62.1998 Q929.497 56.7072 929.497 48.7553 Q929.497 40.7624 934.907 34.9419 Q940.359 29.0804 948.147 29.0804 Q955.771 29.0804 961.222 34.9009 Q966.715 40.6804 966.715 48.7553 Q966.715 56.6662 961.181 62.1588 Q955.689 67.6513 948.065 67.6513 Q940.605 67.6513 935.03 62.1998 M936.465 48.0585 Q936.465 56.2153 938.596 59.9044 Q941.875 65.5199 948.147 65.5199 Q951.262 65.5199 953.844 63.8393 Q956.468 62.1588 957.902 59.3305 Q959.747 55.6415 959.747 48.0585 Q959.747 39.9836 957.533 36.4175 Q954.254 30.9659 948.065 30.9659 Q945.359 30.9659 942.695 32.4006 Q940.072 33.7942 938.473 36.5815 Q936.465 40.2705 936.465 48.0585 Z\" fill=\"#000000\" fill-rule=\"evenodd\" fill-opacity=\"1\" /><path clip-path=\"url(#clip580)\" d=\"M 0 0 M971.059 66.7086 L971.059 64.1263 Q975.527 64.1263 976.552 63.5934 Q977.576 63.0196 977.576 60.3143 L977.576 16.6607 Q977.576 13.5455 976.47 12.7667 Q975.404 11.9879 971.059 11.9879 L971.059 9.36459 L983.11 8.46283 L983.11 60.3143 Q983.11 63.0196 984.176 63.5934 Q985.241 64.1263 989.668 64.1263 L989.668 66.7086 Q988.644 66.7086 986.512 66.6266 Q984.381 66.5446 982.823 66.5036 Q981.265 66.4627 980.364 66.4627 Q979.38 66.4627 971.059 66.7086 Z\" fill=\"#000000\" fill-rule=\"evenodd\" fill-opacity=\"1\" /><path clip-path=\"url(#clip580)\" d=\"M 0 0 M994.073 66.7086 L994.073 64.1263 Q998.541 64.1263 999.565 63.5934 Q1000.59 63.0196 1000.59 60.3143 L1000.59 37.7292 Q1000.59 34.614 999.524 33.8762 Q998.5 33.1384 994.401 33.1384 L994.401 30.5151 L1006.12 29.6133 L1006.12 60.3962 Q1006.12 62.8966 1007.03 63.5114 Q1007.93 64.1263 1012.03 64.1263 L1012.03 66.7086 Q1003.46 66.4627 1003.3 66.4627 Q1002.15 66.4627 994.073 66.7086 M997.598 14.9801 Q997.598 13.2996 998.868 11.9469 Q1000.18 10.5533 1002.02 10.5533 Q1003.87 10.5533 1005.18 11.824 Q1006.49 13.0536 1006.49 15.0211 Q1006.49 16.9476 1005.18 18.2183 Q1003.87 19.448 1002.02 19.448 Q1000.1 19.448 998.827 18.0953 Q997.598 16.7427 997.598 14.9801 Z\" fill=\"#000000\" fill-rule=\"evenodd\" fill-opacity=\"1\" /><path clip-path=\"url(#clip580)\" d=\"M 0 0 M1022.41 62.1178 Q1017.09 56.5433 1017.09 48.5913 Q1017.09 40.5984 1022.33 34.8599 Q1027.58 29.0804 1035.29 29.0804 Q1040.41 29.0804 1044.26 31.5398 Q1048.12 33.9582 1048.12 38.0981 Q1048.12 39.9426 1047.01 41.0083 Q1045.94 42.033 1044.26 42.033 Q1042.5 42.033 1041.43 40.9673 Q1040.41 39.8606 1040.41 38.1801 Q1040.41 37.4422 1040.66 36.7044 Q1040.9 35.9666 1041.8 35.1878 Q1042.75 34.409 1044.34 34.2861 Q1041.35 31.2119 1035.53 31.2119 Q1035.45 31.2119 1035.37 31.2119 Q1031.1 31.2119 1027.58 35.2288 Q1024.05 39.2458 1024.05 48.4274 Q1024.05 53.2231 1025.2 56.7482 Q1026.39 60.2323 1028.32 62.0358 Q1030.24 63.8393 1032.13 64.7001 Q1034.01 65.5199 1035.86 65.5199 Q1044.1 65.5199 1046.89 56.7072 Q1047.13 55.8874 1047.95 55.8874 Q1049.06 55.8874 1049.06 56.7072 Q1049.06 57.1171 1048.73 58.1828 Q1048.4 59.2485 1047.38 60.9291 Q1046.35 62.6097 1044.88 64.0853 Q1043.44 65.5199 1040.86 66.5856 Q1038.32 67.6513 1035.12 67.6513 Q1027.74 67.6513 1022.41 62.1178 Z\" fill=\"#000000\" fill-rule=\"evenodd\" fill-opacity=\"1\" /><path clip-path=\"url(#clip580)\" d=\"M 0 0 M1053.98 77.1199 Q1053.98 75.3573 1055.01 74.4146 Q1056.07 73.5128 1057.51 73.5128 Q1059.02 73.5128 1060.01 74.4556 Q1061.03 75.4393 1061.03 77.0379 Q1061.03 80.1531 1057.75 80.563 Q1059.35 82.0796 1061.69 82.0796 Q1064.19 82.0796 1066.2 80.2351 Q1068.25 78.3905 1069.11 76.628 Q1070.01 74.8655 1071.28 71.6683 Q1072.47 69.168 1073.37 66.7086 L1060.79 36.0486 Q1059.97 34.0401 1058.69 33.5893 Q1057.42 33.1384 1053.98 33.1384 L1053.98 30.5151 Q1057.75 30.761 1062.14 30.761 Q1064.72 30.761 1071.28 30.5151 L1071.28 33.1384 Q1066.56 33.1384 1066.56 35.3108 Q1066.56 35.5567 1067.06 36.8274 L1076.4 59.4125 L1084.89 38.7539 Q1085.38 37.5652 1085.38 36.7454 Q1085.38 33.3023 1081.44 33.1384 L1081.44 30.5151 Q1086.98 30.761 1088.74 30.761 Q1092.18 30.761 1095.01 30.5151 L1095.01 33.1384 Q1089.4 33.1384 1087.22 38.508 L1072.43 74.3326 Q1068.41 83.8831 1061.69 83.9241 Q1058.49 83.9241 1056.24 81.9566 Q1053.98 79.9891 1053.98 77.1199 Z\" fill=\"#000000\" fill-rule=\"evenodd\" fill-opacity=\"1\" /><path clip-path=\"url(#clip580)\" d=\"M 0 0 M1125.42 66.7086 L1125.42 64.1263 L1127.43 64.1263 Q1131.98 64.1263 1133 63.3885 Q1134.07 62.6097 1134.07 60.1503 L1134.07 16.1688 Q1134.07 13.7504 1133 13.0126 Q1131.93 12.2338 1127.43 12.2338 L1125.42 12.2338 L1125.42 9.61053 L1171.49 9.61053 L1173.83 28.5066 L1171.73 28.5066 Q1171.16 23.7108 1170.38 21.0055 Q1169.64 18.2593 1167.92 16.0868 Q1166.2 13.9144 1163.29 13.0946 Q1160.42 12.2338 1155.71 12.2338 L1145.62 12.2338 Q1142.76 12.2338 1142.14 12.8487 Q1141.53 13.4225 1141.53 15.595 L1141.53 36.8274 L1148.74 36.8274 Q1154.44 36.8274 1156.04 34.7779 Q1157.63 32.7285 1157.63 26.99 L1159.72 26.99 L1159.72 49.2472 L1157.63 49.2472 Q1157.63 43.4677 1156.04 41.4592 Q1154.44 39.4097 1148.74 39.4097 L1141.53 39.4097 L1141.53 60.0683 Q1141.53 61.8309 1141.81 62.5277 Q1142.1 63.1835 1143.86 63.6754 Q1145.62 64.1263 1149.48 64.1263 L1152.26 64.1263 L1152.26 66.7086 Q1149.23 66.4627 1138.16 66.4627 Q1128.37 66.4627 1125.42 66.7086 Z\" fill=\"#000000\" fill-rule=\"evenodd\" fill-opacity=\"1\" /><path clip-path=\"url(#clip580)\" d=\"M 0 0 M1179.48 33.1384 L1179.48 30.5151 L1191.81 29.6133 L1191.81 57.486 Q1191.81 59.4945 1191.98 60.6832 Q1192.14 61.8309 1192.8 63.1835 Q1193.5 64.5362 1195.05 65.151 Q1196.65 65.7658 1199.19 65.7658 Q1203.74 65.7658 1206.53 62.0358 Q1209.36 58.3058 1209.36 52.7722 L1209.36 37.8112 Q1209.36 34.696 1208.25 33.9172 Q1207.14 33.1384 1202.8 33.1384 L1202.8 30.5151 L1215.14 29.6133 L1215.14 59.4125 Q1215.14 62.5277 1216.2 63.3475 Q1217.31 64.1263 1221.7 64.1263 L1221.7 66.7086 L1209.6 67.6513 L1209.6 60.0683 Q1206.08 67.6104 1198.78 67.6513 Q1195.09 67.6513 1192.55 66.7086 Q1190.05 65.7658 1188.78 64.6181 Q1187.51 63.4295 1186.81 61.175 Q1186.16 58.9206 1186.08 57.527 Q1185.99 56.1334 1185.99 53.4281 L1185.99 40.8444 Q1185.99 35.1468 1185.17 34.1631 Q1184.35 33.1384 1179.48 33.1384 Z\" fill=\"#000000\" fill-rule=\"evenodd\" fill-opacity=\"1\" /><path clip-path=\"url(#clip580)\" d=\"M 0 0 M1225.59 66.7086 L1225.59 64.1263 Q1230.05 64.1263 1231.08 63.5934 Q1232.1 63.0196 1232.1 60.3143 L1232.1 37.8112 Q1232.1 34.696 1231 33.9172 Q1229.93 33.1384 1225.59 33.1384 L1225.59 30.5151 L1237.39 29.6133 L1237.39 38.426 Q1241.33 29.6133 1249.81 29.6133 Q1256.12 29.6133 1258.62 32.7285 Q1260.47 34.8189 1260.84 37.1553 Q1261.25 39.4917 1261.25 45.5581 L1261.25 61.5849 Q1261.33 63.3475 1262.68 63.7574 Q1264.03 64.1263 1267.8 64.1263 L1267.8 66.7086 Q1259.24 66.4627 1258.38 66.4627 Q1257.72 66.4627 1248.91 66.7086 L1248.91 64.1263 Q1253.38 64.1263 1254.4 63.5934 Q1255.47 63.0196 1255.47 60.3143 L1255.47 40.7624 Q1255.47 36.4995 1254.16 33.9991 Q1252.84 31.4578 1249.24 31.4578 Q1244.89 31.4578 1241.41 35.1059 Q1237.92 38.7539 1237.92 44.9023 L1237.92 60.3143 Q1237.92 63.0196 1238.95 63.5934 Q1240.01 64.1263 1244.44 64.1263 L1244.44 66.7086 Q1235.87 66.4627 1235.05 66.4627 Q1234.4 66.4627 1225.59 66.7086 Z\" fill=\"#000000\" fill-rule=\"evenodd\" fill-opacity=\"1\" /><path clip-path=\"url(#clip580)\" d=\"M 0 0 M1277.02 62.1178 Q1271.69 56.5433 1271.69 48.5913 Q1271.69 40.5984 1276.94 34.8599 Q1282.19 29.0804 1289.89 29.0804 Q1295.02 29.0804 1298.87 31.5398 Q1302.72 33.9582 1302.72 38.0981 Q1302.72 39.9426 1301.62 41.0083 Q1300.55 42.033 1298.87 42.033 Q1297.11 42.033 1296.04 40.9673 Q1295.02 39.8606 1295.02 38.1801 Q1295.02 37.4422 1295.26 36.7044 Q1295.51 35.9666 1296.41 35.1878 Q1297.35 34.409 1298.95 34.2861 Q1295.96 31.2119 1290.14 31.2119 Q1290.06 31.2119 1289.98 31.2119 Q1285.71 31.2119 1282.19 35.2288 Q1278.66 39.2458 1278.66 48.4274 Q1278.66 53.2231 1279.81 56.7482 Q1281 60.2323 1282.93 62.0358 Q1284.85 63.8393 1286.74 64.7001 Q1288.62 65.5199 1290.47 65.5199 Q1298.71 65.5199 1301.49 56.7072 Q1301.74 55.8874 1302.56 55.8874 Q1303.67 55.8874 1303.67 56.7072 Q1303.67 57.1171 1303.34 58.1828 Q1303.01 59.2485 1301.99 60.9291 Q1300.96 62.6097 1299.48 64.0853 Q1298.05 65.5199 1295.47 66.5856 Q1292.93 67.6513 1289.73 67.6513 Q1282.35 67.6513 1277.02 62.1178 Z\" fill=\"#000000\" fill-rule=\"evenodd\" fill-opacity=\"1\" /><path clip-path=\"url(#clip580)\" d=\"M 0 0 M1308.59 33.1384 L1308.59 31.2939 Q1312.44 31.1299 1314.98 28.4246 Q1317.57 25.6783 1318.43 22.3172 Q1319.33 18.9561 1319.41 15.0621 L1321.5 15.0621 L1321.5 30.5151 L1333.51 30.5151 L1333.51 33.1384 L1321.5 33.1384 L1321.5 56.4613 Q1321.5 65.5199 1327.16 65.5199 Q1329.58 65.5199 1331.17 63.0605 Q1332.77 60.5602 1332.77 56.1334 L1332.77 51.5016 L1334.86 51.5016 L1334.86 56.2973 Q1334.86 60.8471 1332.77 64.2492 Q1330.68 67.6513 1326.54 67.6513 Q1325.03 67.6513 1323.51 67.2415 Q1322.03 66.8726 1320.07 65.8888 Q1318.14 64.8641 1316.91 62.4047 Q1315.72 59.9044 1315.72 56.2973 L1315.72 33.1384 L1308.59 33.1384 Z\" fill=\"#000000\" fill-rule=\"evenodd\" fill-opacity=\"1\" /><path clip-path=\"url(#clip580)\" d=\"M 0 0 M1340.82 66.7086 L1340.82 64.1263 Q1345.28 64.1263 1346.31 63.5934 Q1347.33 63.0196 1347.33 60.3143 L1347.33 37.7292 Q1347.33 34.614 1346.27 33.8762 Q1345.24 33.1384 1341.14 33.1384 L1341.14 30.5151 L1352.87 29.6133 L1352.87 60.3962 Q1352.87 62.8966 1353.77 63.5114 Q1354.67 64.1263 1358.77 64.1263 L1358.77 66.7086 Q1350.2 66.4627 1350.04 66.4627 Q1348.89 66.4627 1340.82 66.7086 M1344.34 14.9801 Q1344.34 13.2996 1345.61 11.9469 Q1346.92 10.5533 1348.77 10.5533 Q1350.61 10.5533 1351.92 11.824 Q1353.24 13.0536 1353.24 15.0211 Q1353.24 16.9476 1351.92 18.2183 Q1350.61 19.448 1348.77 19.448 Q1346.84 19.448 1345.57 18.0953 Q1344.34 16.7427 1344.34 14.9801 Z\" fill=\"#000000\" fill-rule=\"evenodd\" fill-opacity=\"1\" /><path clip-path=\"url(#clip580)\" d=\"M 0 0 M1369.36 62.1998 Q1363.83 56.7072 1363.83 48.7553 Q1363.83 40.7624 1369.24 34.9419 Q1374.69 29.0804 1382.48 29.0804 Q1390.1 29.0804 1395.56 34.9009 Q1401.05 40.6804 1401.05 48.7553 Q1401.05 56.6662 1395.51 62.1588 Q1390.02 67.6513 1382.4 67.6513 Q1374.94 67.6513 1369.36 62.1998 M1370.8 48.0585 Q1370.8 56.2153 1372.93 59.9044 Q1376.21 65.5199 1382.48 65.5199 Q1385.59 65.5199 1388.18 63.8393 Q1390.8 62.1588 1392.24 59.3305 Q1394.08 55.6415 1394.08 48.0585 Q1394.08 39.9836 1391.87 36.4175 Q1388.59 30.9659 1382.4 30.9659 Q1379.69 30.9659 1377.03 32.4006 Q1374.4 33.7942 1372.81 36.5815 Q1370.8 40.2705 1370.8 48.0585 Z\" fill=\"#000000\" fill-rule=\"evenodd\" fill-opacity=\"1\" /><path clip-path=\"url(#clip580)\" d=\"M 0 0 M1405.39 66.7086 L1405.39 64.1263 Q1409.86 64.1263 1410.88 63.5934 Q1411.91 63.0196 1411.91 60.3143 L1411.91 37.8112 Q1411.91 34.696 1410.8 33.9172 Q1409.74 33.1384 1405.39 33.1384 L1405.39 30.5151 L1417.2 29.6133 L1417.2 38.426 Q1421.13 29.6133 1429.62 29.6133 Q1435.93 29.6133 1438.43 32.7285 Q1440.27 34.8189 1440.64 37.1553 Q1441.05 39.4917 1441.05 45.5581 L1441.05 61.5849 Q1441.13 63.3475 1442.49 63.7574 Q1443.84 64.1263 1447.61 64.1263 L1447.61 66.7086 Q1439.04 66.4627 1438.18 66.4627 Q1437.53 66.4627 1428.72 66.7086 L1428.72 64.1263 Q1433.18 64.1263 1434.21 63.5934 Q1435.27 63.0196 1435.27 60.3143 L1435.27 40.7624 Q1435.27 36.4995 1433.96 33.9991 Q1432.65 31.4578 1429.04 31.4578 Q1424.7 31.4578 1421.21 35.1059 Q1417.73 38.7539 1417.73 44.9023 L1417.73 60.3143 Q1417.73 63.0196 1418.75 63.5934 Q1419.82 64.1263 1424.25 64.1263 L1424.25 66.7086 Q1415.68 66.4627 1414.86 66.4627 Q1414.2 66.4627 1405.39 66.7086 Z\" fill=\"#000000\" fill-rule=\"evenodd\" fill-opacity=\"1\" /><path clip-path=\"url(#clip580)\" d=\"M 0 0 M1479.14 33.1384 L1479.14 30.5151 L1485.74 30.5151 L1485.74 20.8826 Q1485.74 14.6522 1489.76 11.0861 Q1493.82 7.52008 1498.78 7.52008 Q1502.05 7.52008 1504.19 9.28262 Q1506.32 11.0452 1506.32 13.4225 Q1506.32 15.0211 1505.33 16.0868 Q1504.39 17.1116 1502.63 17.1116 Q1500.95 17.1116 1499.96 16.0458 Q1499.02 14.9801 1499.02 13.5045 Q1499.02 10.7992 1501.52 9.97943 Q1500.25 9.40558 1498.78 9.36459 Q1495.74 9.36459 1493.36 12.4798 Q1491.03 15.595 1491.03 20.8006 L1491.03 30.5151 L1500.87 30.5151 L1500.87 33.1384 L1491.32 33.1384 L1491.32 60.1503 Q1491.32 62.5687 1492.3 63.3475 Q1493.32 64.1263 1497.67 64.1263 L1499.43 64.1263 L1499.43 66.7086 Q1496.07 66.4627 1488.77 66.4627 Q1487.75 66.4627 1486.15 66.5036 Q1484.59 66.5446 1482.46 66.6266 Q1480.37 66.7086 1479.22 66.7086 L1479.22 64.1263 Q1483.69 64.1263 1484.72 63.5934 Q1485.74 63.0196 1485.74 60.3143 L1485.74 33.1384 L1479.14 33.1384 Z\" fill=\"#000000\" fill-rule=\"evenodd\" fill-opacity=\"1\" /><path clip-path=\"url(#clip580)\" d=\"M 0 0 M1505.5 62.1998 Q1499.97 56.7072 1499.97 48.7553 Q1499.97 40.7624 1505.38 34.9419 Q1510.83 29.0804 1518.62 29.0804 Q1526.24 29.0804 1531.69 34.9009 Q1537.19 40.6804 1537.19 48.7553 Q1537.19 56.6662 1531.65 62.1588 Q1526.16 67.6513 1518.54 67.6513 Q1511.08 67.6513 1505.5 62.1998 M1506.94 48.0585 Q1506.94 56.2153 1509.07 59.9044 Q1512.35 65.5199 1518.62 65.5199 Q1521.73 65.5199 1524.32 63.8393 Q1526.94 62.1588 1528.37 59.3305 Q1530.22 55.6415 1530.22 48.0585 Q1530.22 39.9836 1528.01 36.4175 Q1524.73 30.9659 1518.54 30.9659 Q1515.83 30.9659 1513.17 32.4006 Q1510.54 33.7942 1508.95 36.5815 Q1506.94 40.2705 1506.94 48.0585 Z\" fill=\"#000000\" fill-rule=\"evenodd\" fill-opacity=\"1\" /><path clip-path=\"url(#clip580)\" d=\"M 0 0 M1541.53 66.7086 L1541.53 64.1263 Q1546 64.1263 1547.02 63.5934 Q1548.09 63.0196 1548.09 60.3143 L1548.09 37.8112 Q1548.09 34.696 1546.98 33.9172 Q1545.92 33.1384 1541.53 33.1384 L1541.53 30.5151 L1553.21 29.6133 L1553.21 38.8359 Q1554.4 35.2288 1556.9 32.4416 Q1559.44 29.6133 1563.54 29.6133 Q1566.25 29.6133 1567.97 31.1299 Q1569.73 32.6465 1569.73 34.737 Q1569.73 36.5815 1568.58 37.5242 Q1567.48 38.426 1566.12 38.426 Q1564.61 38.426 1563.54 37.4832 Q1562.52 36.4995 1562.52 34.8189 Q1562.52 33.7942 1562.97 33.0154 Q1563.46 32.1956 1563.83 31.9087 Q1564.2 31.6218 1564.44 31.5398 Q1564.28 31.4578 1563.54 31.4578 Q1558.91 31.4578 1556.25 36.0896 Q1553.62 40.6804 1553.62 47.2387 L1553.62 60.1503 Q1553.62 62.5687 1554.61 63.3475 Q1555.63 64.1263 1560.02 64.1263 L1561.78 64.1263 L1561.78 66.7086 Q1558.42 66.4627 1551.12 66.4627 Q1550.1 66.4627 1548.5 66.5036 Q1546.9 66.5446 1544.81 66.6266 Q1542.72 66.7086 1541.53 66.7086 Z\" fill=\"#000000\" fill-rule=\"evenodd\" fill-opacity=\"1\" /><path clip-path=\"url(#clip580)\" d=\"M 0 0 M1633.98 56.9941 Q1634.31 57.363 1634.31 57.7319 Q1634.31 58.1008 1633.49 59.1666 Q1632.71 60.2323 1631.03 61.6669 Q1629.35 63.1015 1627.18 64.4542 Q1625.01 65.8068 1621.81 66.7086 Q1618.61 67.6513 1615.25 67.6513 Q1608.98 67.6513 1605.29 63.5114 Q1601.64 59.3715 1601.64 53.4281 Q1601.64 47.6486 1604.88 42.115 Q1608.12 36.5405 1613.37 33.0974 Q1618.61 29.6133 1624.15 29.6133 Q1628.53 29.6133 1631.28 31.6628 Q1634.02 33.7122 1634.02 36.8274 Q1634.02 39.2458 1632.63 40.7214 Q1631.24 42.197 1629.35 42.197 Q1628.04 42.197 1627.14 41.4592 Q1626.24 40.6804 1626.24 39.2458 Q1626.24 37.4013 1627.75 35.9666 Q1628.33 35.3928 1628.98 35.1468 Q1629.68 34.8599 1630.09 34.8599 Q1630.5 34.8189 1631.44 34.8189 Q1630.58 33.2204 1628.53 32.3596 Q1626.52 31.4578 1624.23 31.4578 Q1620.83 31.4578 1617.59 33.8352 Q1614.35 36.1716 1612.38 39.8606 Q1610.41 43.4677 1609.14 48.5913 Q1607.87 53.674 1607.87 56.6252 Q1607.87 60.6832 1609.76 63.2245 Q1611.64 65.7658 1615.41 65.7658 Q1616.15 65.7658 1616.93 65.7249 Q1617.75 65.6839 1619.8 65.233 Q1621.89 64.7821 1623.74 64.0033 Q1625.58 63.2245 1627.92 61.5439 Q1630.29 59.8224 1632.18 57.486 Q1632.84 56.6252 1633.29 56.6252 Q1633.65 56.6252 1633.98 56.9941 Z\" fill=\"#000000\" fill-rule=\"evenodd\" fill-opacity=\"1\" /><path clip-path=\"url(#clip580)\" d=\"M 0 0 M1660.99 64.7909 Q1660.99 65.5943 1660.62 65.7951 Q1660.25 65.9673 1659.21 65.9673 L1653.71 65.9673 L1649.34 83.2975 Q1649 84.8182 1649 86.1094 Q1649 87.544 1649.43 88.1752 Q1649.89 88.8065 1650.84 88.8065 Q1652.7 88.8065 1654.71 87.1136 Q1656.75 85.4208 1658.47 81.289 Q1658.7 80.7439 1658.81 80.6291 Q1658.96 80.4857 1659.33 80.4857 Q1660.05 80.4857 1660.05 81.0595 Q1660.05 81.2604 1659.65 82.1785 Q1659.27 83.0967 1658.44 84.4452 Q1657.64 85.7938 1656.57 87.0562 Q1655.54 88.3187 1653.96 89.2369 Q1652.39 90.1263 1650.69 90.1263 Q1648.31 90.1263 1646.79 88.6056 Q1645.3 87.0849 1645.3 84.7035 Q1645.3 83.9288 1645.9 81.4612 Q1646.5 78.965 1649.77 65.9673 L1644.58 65.9673 Q1643.86 65.9673 1643.58 65.9386 Q1643.32 65.9099 1643.12 65.7664 Q1642.95 65.5943 1642.95 65.2499 Q1642.95 64.7048 1643.18 64.4752 Q1643.41 64.217 1643.69 64.1883 Q1644.01 64.1309 1644.72 64.1309 L1650.23 64.1309 L1652.53 54.8059 Q1652.76 53.8877 1653.33 53.3712 Q1653.94 52.8261 1654.28 52.7687 Q1654.62 52.6826 1654.88 52.6826 Q1655.66 52.6826 1656.12 53.113 Q1656.57 53.5147 1656.57 54.2607 Q1656.57 54.6624 1654.16 64.1309 L1659.33 64.1309 Q1659.99 64.1309 1660.25 64.1596 Q1660.53 64.1883 1660.76 64.3318 Q1660.99 64.4752 1660.99 64.7909 Z\" fill=\"#000000\" fill-rule=\"evenodd\" fill-opacity=\"1\" /><polyline clip-path=\"url(#clip582)\" style=\"stroke:#008000; stroke-width:8; stroke-opacity:1; fill:none\" stroke-dasharray=\"32, 20\" points=\"\n",
       "  254.619,707.969 258.693,707.969 262.767,707.969 266.842,707.969 270.916,707.969 274.99,707.969 279.064,707.969 283.138,707.969 287.212,707.969 291.286,707.969 \n",
       "  295.36,707.969 299.434,707.969 303.508,707.969 307.582,707.969 311.656,707.969 315.73,707.969 319.804,707.969 323.878,707.969 327.952,707.969 332.026,707.969 \n",
       "  336.1,707.969 340.174,707.969 344.249,707.969 348.323,707.969 352.397,707.969 356.471,707.969 360.545,707.969 364.619,707.969 368.693,707.969 372.767,707.969 \n",
       "  376.841,707.969 380.915,707.969 384.989,707.969 389.063,707.969 393.137,707.969 397.211,707.969 401.285,707.969 405.359,707.969 409.433,707.969 413.507,707.969 \n",
       "  417.581,707.969 421.655,707.969 425.73,707.969 429.804,707.969 433.878,707.969 437.952,707.969 442.026,707.969 446.1,707.969 450.174,707.969 454.248,707.969 \n",
       "  458.322,707.969 462.396,707.969 466.47,707.969 470.544,707.969 474.618,707.969 478.692,707.969 482.766,707.969 486.84,707.969 490.914,707.969 494.988,707.969 \n",
       "  499.062,707.969 503.137,707.969 507.211,707.969 511.285,707.969 515.359,707.969 519.433,707.969 523.507,707.969 527.581,707.969 531.655,707.969 535.729,707.969 \n",
       "  539.803,707.969 543.877,707.969 547.951,707.969 552.025,707.969 556.099,707.969 560.173,707.969 564.247,707.969 568.321,707.969 572.395,707.969 576.469,707.969 \n",
       "  580.544,707.969 584.618,707.969 588.692,707.969 592.766,707.969 596.84,707.969 600.914,707.969 604.988,707.969 609.062,707.969 613.136,707.969 617.21,707.969 \n",
       "  621.284,707.969 625.358,707.969 629.432,707.969 633.506,707.969 637.58,707.969 641.654,707.969 645.728,707.969 649.802,707.969 653.876,707.969 657.95,707.969 \n",
       "  662.025,707.969 666.099,707.969 670.173,707.969 674.247,707.969 678.321,707.969 682.395,707.969 686.469,707.969 690.543,707.969 694.617,707.969 698.691,707.969 \n",
       "  702.765,707.969 706.839,707.969 710.913,707.969 714.987,707.969 719.061,707.969 723.135,707.969 727.209,707.969 731.283,707.969 735.357,707.969 739.432,707.969 \n",
       "  743.506,707.969 747.58,707.969 751.654,707.969 755.728,707.969 759.802,707.969 763.876,707.969 767.95,707.969 772.024,707.969 776.098,707.969 780.172,707.969 \n",
       "  784.246,707.969 788.32,707.969 792.394,707.969 796.468,707.969 800.542,707.969 804.616,707.969 808.69,707.969 812.764,707.969 816.838,707.969 820.913,707.969 \n",
       "  824.987,707.969 829.061,707.969 833.135,707.969 837.209,707.969 841.283,707.969 845.357,707.969 849.431,707.969 853.505,707.969 857.579,707.969 861.653,707.969 \n",
       "  865.727,707.969 869.801,707.969 873.875,707.969 877.949,707.969 882.023,707.969 886.097,707.969 890.171,707.969 894.245,707.969 898.32,707.969 902.394,707.969 \n",
       "  906.468,707.969 910.542,707.969 914.616,707.969 918.69,707.969 922.764,707.969 926.838,707.969 930.912,707.969 934.986,707.969 939.06,707.969 943.134,707.969 \n",
       "  947.208,707.969 951.282,707.969 955.356,707.969 959.43,707.969 963.504,707.969 967.578,707.969 971.652,707.969 975.726,707.969 979.801,707.969 983.875,707.969 \n",
       "  987.949,707.969 992.023,707.969 996.097,707.969 1000.17,707.969 1004.24,707.969 1008.32,707.969 1012.39,707.969 1016.47,707.969 1020.54,707.969 1024.62,707.969 \n",
       "  1028.69,707.969 1032.76,707.969 1036.84,707.969 1040.91,707.969 1044.99,707.969 1049.06,707.969 1053.13,707.969 1057.21,707.969 1061.28,707.969 1065.36,707.969 \n",
       "  1069.43,707.969 1073.5,707.969 1077.58,707.969 1081.65,707.969 1085.73,707.969 1089.8,707.969 1093.87,707.969 1097.95,707.969 1102.02,707.969 1106.1,707.969 \n",
       "  1110.17,707.969 1114.24,707.969 1118.32,707.969 1122.39,707.969 1126.47,707.969 1130.54,707.969 1134.61,707.969 1138.69,707.969 1142.76,707.969 1146.84,707.969 \n",
       "  1150.91,707.969 1154.98,707.969 1159.06,707.969 1163.13,707.969 1167.21,707.969 1171.28,707.969 1175.36,707.969 1179.43,707.969 1183.5,707.969 1187.58,707.969 \n",
       "  1191.65,707.969 1195.73,707.969 1199.8,707.969 1203.87,707.969 1207.95,707.969 1212.02,707.969 1216.1,707.969 1220.17,707.969 1224.24,707.969 1228.32,707.969 \n",
       "  1232.39,707.969 1236.47,707.969 1240.54,707.969 1244.61,707.969 1248.69,707.969 1252.76,707.969 1256.84,707.969 1260.91,707.969 1264.98,707.969 1269.06,707.969 \n",
       "  1273.13,707.969 1277.21,707.969 1281.28,707.969 1285.35,707.969 1289.43,707.969 1293.5,707.969 1297.58,707.969 1301.65,707.969 1305.72,707.969 1309.8,707.969 \n",
       "  1313.87,707.969 1317.95,707.969 1322.02,707.969 1326.09,707.969 1330.17,707.969 1334.24,707.969 1338.32,707.969 1342.39,707.969 1346.47,707.969 1350.54,707.969 \n",
       "  1354.61,707.969 1358.69,707.969 1362.76,707.969 1366.84,707.969 1370.91,707.969 1374.98,707.969 1379.06,707.969 1383.13,707.969 1387.21,707.969 1391.28,707.969 \n",
       "  1395.35,707.969 1399.43,707.969 1403.5,707.969 1407.58,707.969 1411.65,707.969 1415.72,707.969 1419.8,707.969 1423.87,707.969 1427.95,707.969 1432.02,707.969 \n",
       "  1436.09,707.969 1440.17,707.969 1444.24,707.969 1448.32,707.969 1452.39,707.969 1456.46,707.969 1460.54,707.969 1464.61,707.969 1468.69,707.969 1472.76,707.969 \n",
       "  1476.83,707.969 1480.91,707.969 1484.98,707.969 1489.06,707.969 1493.13,707.969 1497.21,707.969 1501.28,707.969 1505.35,707.969 1509.43,707.969 1513.5,707.969 \n",
       "  1517.58,707.969 1521.65,707.969 1525.72,707.969 1529.8,707.969 1533.87,707.969 1537.95,707.969 1542.02,707.969 1546.09,707.969 1550.17,707.969 1554.24,707.969 \n",
       "  1558.32,707.969 1562.39,707.969 1566.46,707.969 1570.54,707.969 1574.61,707.969 1578.69,707.969 1582.76,707.969 1586.83,707.969 1590.91,707.969 1594.98,707.969 \n",
       "  1599.06,707.969 1603.13,707.969 1607.2,707.969 1611.28,707.969 1615.35,707.969 1619.43,707.969 1623.5,707.969 1627.57,707.969 1631.65,707.969 1635.72,707.969 \n",
       "  1639.8,707.969 1643.87,707.969 1647.94,707.969 1652.02,707.969 1656.09,707.969 1660.17,707.969 1664.24,707.969 1668.32,707.969 1672.39,707.969 1676.46,707.969 \n",
       "  1680.54,707.969 1684.61,707.969 1688.69,707.969 1692.76,707.969 1696.83,707.969 1700.91,707.969 1704.98,707.969 1709.06,707.969 1713.13,707.969 1717.2,707.969 \n",
       "  1721.28,707.969 1725.35,707.969 1729.43,707.969 1733.5,707.969 1737.57,707.969 1741.65,707.969 1745.72,707.969 1749.8,707.969 1753.87,707.969 1757.94,707.969 \n",
       "  1762.02,707.969 1766.09,707.969 1770.17,707.969 1774.24,707.969 1778.31,707.969 1782.39,707.969 1786.46,707.969 1790.54,707.969 1794.61,707.969 1798.68,707.969 \n",
       "  1802.76,707.969 1806.83,707.969 1810.91,707.969 1814.98,707.969 1819.06,707.969 1823.13,707.969 1827.2,707.969 1831.28,707.969 1835.35,707.969 1839.43,707.969 \n",
       "  1843.5,707.969 1847.57,707.969 1851.65,707.969 1855.72,707.969 1859.8,707.969 1863.87,707.969 1867.94,707.969 1872.02,707.969 1876.09,707.969 1880.17,707.969 \n",
       "  1884.24,707.969 1888.31,707.969 1892.39,707.969 1896.46,707.969 1900.54,707.969 1904.61,707.969 1908.68,707.969 1912.76,707.969 1916.83,707.969 1920.91,707.969 \n",
       "  1924.98,707.969 1929.05,707.969 1933.13,707.969 1937.2,707.969 1941.28,707.969 1945.35,707.969 1949.42,707.969 1953.5,707.969 1957.57,707.969 1961.65,707.969 \n",
       "  1965.72,707.969 1969.8,707.969 1973.87,707.969 1977.94,707.969 1982.02,707.969 1986.09,707.969 1990.17,707.969 1994.24,707.969 1998.31,707.969 2002.39,707.969 \n",
       "  2006.46,707.969 2010.54,707.969 2014.61,707.969 2018.68,707.969 2022.76,707.969 2026.83,707.969 2030.91,707.969 2034.98,707.969 2039.05,707.969 2043.13,707.969 \n",
       "  2047.2,707.969 2051.28,707.969 2055.35,707.969 2059.42,707.969 2063.5,707.969 2067.57,707.969 2071.65,707.969 2075.72,707.969 2079.79,707.969 2083.87,707.969 \n",
       "  2087.94,707.969 2092.02,707.969 2096.09,707.969 2100.16,707.969 2104.24,707.969 2108.31,707.969 2112.39,707.969 2116.46,707.969 2120.53,707.969 2124.61,707.969 \n",
       "  2128.68,707.969 2132.76,707.969 2136.83,707.969 2140.91,707.969 2144.98,707.969 2149.05,707.969 2153.13,707.969 2157.2,707.969 2161.28,707.969 2165.35,707.969 \n",
       "  2169.42,707.969 2173.5,707.969 2177.57,707.969 2181.65,707.969 2185.72,707.969 2189.79,707.969 2193.87,707.969 2197.94,707.969 2202.02,707.969 2206.09,707.969 \n",
       "  2210.16,707.969 2214.24,707.969 2218.31,707.969 2222.39,707.969 2226.46,707.969 2230.53,707.969 2234.61,707.969 2238.68,707.969 2242.76,707.969 2246.83,707.969 \n",
       "  2250.9,707.969 2254.98,707.969 2259.05,707.969 2263.13,707.969 2267.2,707.969 2271.27,707.969 2275.35,707.969 2279.42,707.969 2283.5,707.969 2287.57,707.969 \n",
       "  2291.65,707.969 \n",
       "  \"/>\n",
       "<polyline clip-path=\"url(#clip582)\" style=\"stroke:#808080; stroke-width:8; stroke-opacity:1; fill:none\" stroke-dasharray=\"32, 20\" points=\"\n",
       "  1273.13,2739.21 1273.13,-1193.19 \n",
       "  \"/>\n",
       "<polyline clip-path=\"url(#clip582)\" style=\"stroke:#008000; stroke-width:12; stroke-opacity:1; fill:none\" points=\"\n",
       "  254.619,1391.31 258.693,1389.43 262.767,1352.01 266.842,1350.15 270.916,1348.29 274.99,1346.45 279.064,1344.62 283.138,1342.8 287.212,1340.98 291.286,1339.18 \n",
       "  295.36,1337.38 299.434,1335.59 303.508,1333.81 307.582,1332.04 311.656,1330.28 315.73,1328.53 319.804,1326.78 323.878,1325.04 327.952,1323.32 332.026,1321.6 \n",
       "  336.1,1319.88 340.174,1318.18 344.249,1316.49 348.323,1314.8 352.397,1313.12 356.471,1311.45 360.545,1309.78 364.619,1308.13 368.693,1306.48 372.767,1269.28 \n",
       "  376.841,1267.65 380.915,1266.02 384.989,1264.4 389.063,1262.79 393.137,1261.19 397.211,1259.59 401.285,1258 405.359,1256.42 409.433,1254.85 413.507,1253.28 \n",
       "  417.581,1251.72 421.655,1250.16 425.73,1248.62 429.804,1247.08 433.878,1245.54 437.952,1244.02 442.026,1242.5 446.1,1240.99 450.174,1239.48 454.248,1237.98 \n",
       "  458.322,1236.49 462.396,1235 466.47,1233.52 470.544,1232.04 474.618,1195.02 478.692,1193.56 482.766,1192.1 486.84,1190.65 490.914,1189.21 494.988,1187.77 \n",
       "  499.062,1186.34 503.137,1184.92 507.211,1183.5 511.285,1182.09 515.359,1180.68 519.433,1179.28 523.507,1177.88 527.581,1176.49 531.655,1175.11 535.729,1173.73 \n",
       "  539.803,1172.36 543.877,1170.99 547.951,1169.63 552.025,1168.28 556.099,1166.93 560.173,1165.58 564.247,1164.24 568.321,1162.91 572.395,1161.58 576.469,1124.7 \n",
       "  580.544,1123.39 584.618,1122.07 588.692,1120.77 592.766,1119.46 596.84,1118.17 600.914,1116.88 604.988,1115.59 609.062,1114.31 613.136,1113.03 617.21,1111.76 \n",
       "  621.284,1110.5 625.358,1109.24 629.432,1107.98 633.506,1106.73 637.58,1105.48 641.654,1104.24 645.728,1103 649.802,1101.77 653.876,1100.54 657.95,1099.32 \n",
       "  662.025,1098.1 666.099,1096.89 670.173,1095.68 674.247,1094.48 678.321,1057.72 682.395,1056.53 686.469,1055.34 690.543,1054.15 694.617,1052.97 698.691,1051.8 \n",
       "  702.765,1050.62 706.839,1049.46 710.913,1048.29 714.987,1047.13 719.061,1045.98 723.135,1044.83 727.209,1043.68 731.283,1042.54 735.357,1041.4 739.432,1040.27 \n",
       "  743.506,1039.14 747.58,1038.02 751.654,1036.9 755.728,1035.78 759.802,1034.67 763.876,1033.56 767.95,1032.45 772.024,995.796 776.098,994.699 780.172,993.607 \n",
       "  784.246,992.519 788.32,991.434 792.394,990.354 796.468,989.277 800.542,988.205 804.616,987.136 808.69,986.071 812.764,985.01 816.838,983.953 820.913,982.899 \n",
       "  824.987,981.85 829.061,980.804 833.135,979.761 837.209,978.723 841.283,977.688 845.357,976.657 849.431,975.63 853.505,974.606 857.579,973.585 861.653,972.569 \n",
       "  865.727,935.998 869.801,934.989 873.875,933.983 877.949,932.981 882.023,931.982 886.097,930.986 890.171,929.994 894.245,929.006 898.32,928.021 902.394,927.039 \n",
       "  906.468,926.061 910.542,925.086 914.616,924.115 918.69,923.147 922.764,922.182 926.838,921.221 930.912,920.263 934.986,919.308 939.06,918.356 943.134,917.408 \n",
       "  947.208,916.463 951.282,915.521 955.356,914.583 959.43,878.09 963.504,877.158 967.578,876.229 971.652,875.303 975.726,874.38 979.801,873.461 983.875,872.544 \n",
       "  987.949,871.631 992.023,870.721 996.097,869.814 1000.17,868.909 1004.24,868.008 1008.32,867.11 1012.39,866.215 1016.47,865.323 1020.54,864.434 1024.62,863.548 \n",
       "  1028.69,862.665 1032.76,861.785 1036.84,860.908 1040.91,860.033 1044.99,859.162 1049.06,858.293 1053.13,821.87 1057.21,821.007 1061.28,820.148 1065.36,819.291 \n",
       "  1069.43,818.436 1073.5,817.585 1077.58,816.736 1081.65,815.891 1085.73,815.047 1089.8,814.207 1093.87,813.37 1097.95,812.535 1102.02,811.703 1106.1,810.874 \n",
       "  1110.17,810.047 1114.24,809.223 1118.32,808.402 1122.39,807.584 1126.47,806.768 1130.54,805.955 1134.61,805.144 1138.69,804.336 1142.76,803.531 1146.84,767.171 \n",
       "  1150.91,766.371 1154.98,765.573 1159.06,764.778 1163.13,763.986 1167.21,763.196 1171.28,762.409 1175.36,761.624 1179.43,760.842 1183.5,760.062 1187.58,759.285 \n",
       "  1191.65,758.511 1195.73,757.738 1199.8,756.969 1203.87,756.201 1207.95,755.437 1212.02,754.674 1216.1,753.914 1220.17,753.157 1224.24,752.402 1228.32,751.649 \n",
       "  1232.39,750.899 1236.47,750.151 1240.54,749.406 1244.61,748.662 1248.69,747.922 1252.76,747.183 1256.84,746.447 1260.91,710.156 1264.98,709.425 1269.06,708.696 \n",
       "  1273.13,707.969 1277.21,707.244 1281.28,706.522 1285.35,705.802 1289.43,669.527 1293.5,668.811 1297.58,668.098 1301.65,667.387 1305.72,666.679 1309.8,665.972 \n",
       "  1313.87,665.268 1317.95,664.566 1322.02,663.866 1326.09,663.168 1330.17,662.473 1334.24,661.78 1338.32,661.089 1342.39,660.4 1346.47,659.713 1350.54,659.028 \n",
       "  1354.61,658.346 1358.69,657.665 1362.76,656.987 1366.84,656.311 1370.91,655.637 1374.98,654.965 1379.06,654.295 1383.13,653.627 1387.21,652.961 1391.28,652.297 \n",
       "  1395.35,651.636 1399.43,650.976 1403.5,614.761 1407.58,614.106 1411.65,613.452 1415.72,612.801 1419.8,612.152 1423.87,611.504 1427.95,610.859 1432.02,610.215 \n",
       "  1436.09,609.574 1440.17,608.934 1444.24,608.297 1448.32,607.661 1452.39,607.028 1456.46,606.396 1460.54,605.767 1464.61,605.139 1468.69,604.513 1472.76,603.889 \n",
       "  1476.83,603.267 1480.91,602.647 1484.98,602.029 1489.06,601.413 1493.13,565.241 1497.21,564.628 1501.28,564.018 1505.35,563.409 1509.43,562.802 1513.5,562.197 \n",
       "  1517.58,561.594 1521.65,560.993 1525.72,560.393 1529.8,559.796 1533.87,559.2 1537.95,558.606 1542.02,558.014 1546.09,557.423 1550.17,556.835 1554.24,556.248 \n",
       "  1558.32,555.663 1562.39,555.08 1566.46,554.498 1570.54,553.919 1574.61,553.341 1578.69,552.765 1582.76,516.633 1586.83,516.06 1590.91,515.489 1594.98,514.92 \n",
       "  1599.06,514.353 1603.13,513.787 1607.2,513.223 1611.28,512.661 1615.35,512.1 1619.43,511.542 1623.5,510.984 1627.57,510.429 1631.65,509.875 1635.72,509.323 \n",
       "  1639.8,508.773 1643.87,508.224 1647.94,507.677 1652.02,507.131 1656.09,506.588 1660.17,506.046 1664.24,505.505 1668.32,504.966 1672.39,468.872 1676.46,468.336 \n",
       "  1680.54,467.802 1684.61,467.27 1688.69,466.739 1692.76,466.21 1696.83,465.683 1700.91,465.157 1704.98,464.632 1709.06,464.11 1713.13,463.589 1717.2,463.069 \n",
       "  1721.28,462.551 1725.35,462.035 1729.43,461.52 1733.5,461.006 1737.57,460.495 1741.65,459.985 1745.72,459.476 1749.8,458.969 1753.87,458.463 1757.94,422.402 \n",
       "  1762.02,421.899 1766.09,421.398 1770.17,420.899 1774.24,420.401 1778.31,419.904 1782.39,419.409 1786.46,418.916 1790.54,418.424 1794.61,417.934 1798.68,417.445 \n",
       "  1802.76,416.957 1806.83,416.471 1810.91,415.986 1814.98,415.503 1819.06,415.022 1823.13,414.542 1827.2,414.063 1831.28,413.586 1835.35,413.11 1839.43,377.078 \n",
       "  1843.5,376.605 1847.57,376.133 1851.65,375.663 1855.72,375.195 1859.8,374.727 1863.87,374.262 1867.94,373.797 1872.02,373.334 1876.09,372.873 1880.17,372.412 \n",
       "  1884.24,371.954 1888.31,371.496 1892.39,371.04 1896.46,370.585 1900.54,370.132 1904.61,369.68 1908.68,369.23 1912.76,368.781 1916.83,368.333 1920.91,367.886 \n",
       "  1924.98,331.884 1929.05,331.44 1933.13,330.998 1937.2,330.557 1941.28,330.117 1945.35,329.679 1949.42,329.242 1953.5,328.806 1957.57,328.372 1961.65,327.939 \n",
       "  1965.72,327.507 1969.8,327.076 1973.87,326.647 1977.94,326.22 1982.02,325.793 1986.09,325.368 1990.17,324.944 1994.24,324.521 1998.31,324.1 2002.39,323.68 \n",
       "  2006.46,323.261 2010.54,322.844 2014.61,286.87 2018.68,286.455 2022.76,286.042 2026.83,285.629 2030.91,285.218 2034.98,284.808 2039.05,284.4 2043.13,283.992 \n",
       "  2047.2,283.586 2051.28,283.181 2055.35,282.778 2059.42,282.375 2063.5,281.974 2067.57,281.574 2071.65,281.176 2075.72,280.778 2079.79,280.382 2083.87,279.987 \n",
       "  2087.94,279.593 2092.02,279.2 2096.09,278.809 2100.16,242.861 2104.24,242.472 2108.31,242.085 2112.39,241.698 2116.46,241.313 2120.53,240.928 2124.61,240.545 \n",
       "  2128.68,240.163 2132.76,239.783 2136.83,239.403 2140.91,239.025 2144.98,238.648 2149.05,238.272 2153.13,237.897 2157.2,237.523 2161.28,237.151 2165.35,236.779 \n",
       "  2169.42,236.409 2173.5,236.04 2177.57,235.672 2181.65,235.306 2185.72,199.383 2189.79,199.018 2193.87,198.655 2197.94,198.292 2202.02,197.931 2206.09,197.571 \n",
       "  2210.16,197.213 2214.24,196.855 2218.31,196.498 2222.39,196.143 2226.46,195.788 2230.53,195.435 2234.61,195.083 2238.68,194.732 2242.76,194.382 2246.83,194.033 \n",
       "  2250.9,193.685 2254.98,193.339 2259.05,192.993 2263.13,192.649 2267.2,156.748 2271.27,156.406 2275.35,156.064 2279.42,155.724 2283.5,155.385 2287.57,155.047 \n",
       "  2291.65,154.71 \n",
       "  \"/>\n",
       "<path clip-path=\"url(#clip580)\" d=\"\n",
       "M1841.37 403.225 L2280.78 403.225 L2280.78 161.305 L1841.37 161.305  Z\n",
       "  \" fill=\"#ffffff\" fill-rule=\"evenodd\" fill-opacity=\"1\"/>\n",
       "<polyline clip-path=\"url(#clip580)\" style=\"stroke:#000000; stroke-width:4; stroke-opacity:1; fill:none\" points=\"\n",
       "  1841.37,403.225 2280.78,403.225 2280.78,161.305 1841.37,161.305 1841.37,403.225 \n",
       "  \"/>\n",
       "<polyline clip-path=\"url(#clip580)\" style=\"stroke:#008000; stroke-width:4; stroke-opacity:1; fill:none\" stroke-dasharray=\"16, 10\" points=\"\n",
       "  1865.37,221.785 2009.32,221.785 \n",
       "  \"/>\n",
       "<path clip-path=\"url(#clip580)\" d=\"M 0 0 M2053.82 214.135 L2053.82 218.116 Q2052.01 217.121 2050.18 216.635 Q2048.38 216.126 2046.53 216.126 Q2042.38 216.126 2040.09 218.764 Q2037.8 221.38 2037.8 226.126 Q2037.8 230.871 2040.09 233.51 Q2042.38 236.125 2046.53 236.125 Q2048.38 236.125 2050.18 235.639 Q2052.01 235.13 2053.82 234.135 L2053.82 238.07 Q2052.03 238.903 2050.11 239.32 Q2048.22 239.737 2046.06 239.737 Q2040.21 239.737 2036.76 236.056 Q2033.31 232.375 2033.31 226.126 Q2033.31 219.783 2036.78 216.149 Q2040.28 212.514 2046.34 212.514 Q2048.31 212.514 2050.18 212.931 Q2052.06 213.325 2053.82 214.135 Z\" fill=\"#000000\" fill-rule=\"evenodd\" fill-opacity=\"1\" /><path clip-path=\"url(#clip580)\" d=\"M 0 0 M2035.14 203.741 L2048.98 203.741 L2048.98 207.167 L2035.14 207.167 L2035.14 203.741 Z\" fill=\"#000000\" fill-rule=\"evenodd\" fill-opacity=\"1\" /><polyline clip-path=\"url(#clip580)\" style=\"stroke:#808080; stroke-width:4; stroke-opacity:1; fill:none\" stroke-dasharray=\"16, 10\" points=\"\n",
       "  1865.37,282.265 2009.32,282.265 \n",
       "  \"/>\n",
       "<path clip-path=\"url(#clip580)\" d=\"M 0 0 M2033.31 263.527 L2037.59 263.527 L2037.59 284.8 L2050.3 273.619 L2055.74 273.619 L2041.99 285.749 L2056.32 299.545 L2050.76 299.545 L2037.59 286.883 L2037.59 299.545 L2033.31 299.545 L2033.31 263.527 Z\" fill=\"#000000\" fill-rule=\"evenodd\" fill-opacity=\"1\" /><path clip-path=\"url(#clip580)\" d=\"M 0 0 M2037.64 264.221 L2051.48 264.221 L2051.48 267.647 L2037.64 267.647 L2037.64 264.221 Z\" fill=\"#000000\" fill-rule=\"evenodd\" fill-opacity=\"1\" /><polyline clip-path=\"url(#clip580)\" style=\"stroke:#008000; stroke-width:4; stroke-opacity:1; fill:none\" points=\"\n",
       "  1865.37,342.745 2009.32,342.745 \n",
       "  \"/>\n",
       "<path clip-path=\"url(#clip580)\" d=\"M 0 0 M2049.33 328.637 Q2044.23 328.637 2041.22 332.433 Q2038.24 336.229 2038.24 342.78 Q2038.24 349.308 2041.22 353.104 Q2044.23 356.9 2049.33 356.9 Q2054.42 356.9 2057.38 353.104 Q2060.37 349.308 2060.37 342.78 Q2060.37 336.229 2057.38 332.433 Q2054.42 328.637 2049.33 328.637 M2049.33 324.84 Q2056.59 324.84 2060.95 329.725 Q2065.3 334.586 2065.3 342.78 Q2065.3 350.951 2060.95 355.835 Q2056.59 360.697 2049.33 360.697 Q2042.03 360.697 2037.66 355.835 Q2033.31 350.974 2033.31 342.78 Q2033.31 334.586 2037.66 329.725 Q2042.03 324.84 2049.33 324.84 Z\" fill=\"#000000\" fill-rule=\"evenodd\" fill-opacity=\"1\" /><path clip-path=\"url(#clip580)\" d=\"M 0 0 M2073.89 356.136 L2073.89 369.886 L2069.6 369.886 L2069.6 334.099 L2073.89 334.099 L2073.89 338.035 Q2075.23 335.72 2077.27 334.609 Q2079.33 333.474 2082.17 333.474 Q2086.9 333.474 2089.84 337.224 Q2092.8 340.974 2092.8 347.086 Q2092.8 353.197 2089.84 356.947 Q2086.9 360.697 2082.17 360.697 Q2079.33 360.697 2077.27 359.585 Q2075.23 358.451 2073.89 356.136 M2088.38 347.086 Q2088.38 342.386 2086.43 339.724 Q2084.51 337.039 2081.13 337.039 Q2077.75 337.039 2075.81 339.724 Q2073.89 342.386 2073.89 347.086 Q2073.89 351.785 2075.81 354.47 Q2077.75 357.132 2081.13 357.132 Q2084.51 357.132 2086.43 354.47 Q2088.38 351.785 2088.38 347.086 Z\" fill=\"#000000\" fill-rule=\"evenodd\" fill-opacity=\"1\" /><path clip-path=\"url(#clip580)\" d=\"M 0 0 M2101.48 326.738 L2101.48 334.099 L2110.25 334.099 L2110.25 337.41 L2101.48 337.41 L2101.48 351.484 Q2101.48 354.655 2102.34 355.558 Q2103.22 356.46 2105.88 356.46 L2110.25 356.46 L2110.25 360.025 L2105.88 360.025 Q2100.95 360.025 2099.07 358.197 Q2097.2 356.345 2097.2 351.484 L2097.2 337.41 L2094.07 337.41 L2094.07 334.099 L2097.2 334.099 L2097.2 326.738 L2101.48 326.738 Z\" fill=\"#000000\" fill-rule=\"evenodd\" fill-opacity=\"1\" /><path clip-path=\"url(#clip580)\" d=\"M 0 0 M2114.72 334.099 L2118.98 334.099 L2118.98 360.025 L2114.72 360.025 L2114.72 334.099 M2114.72 324.007 L2118.98 324.007 L2118.98 329.4 L2114.72 329.4 L2114.72 324.007 Z\" fill=\"#000000\" fill-rule=\"evenodd\" fill-opacity=\"1\" /><path clip-path=\"url(#clip580)\" d=\"M 0 0 M2143.63 339.076 Q2145.23 336.206 2147.45 334.84 Q2149.67 333.474 2152.68 333.474 Q2156.73 333.474 2158.93 336.322 Q2161.13 339.146 2161.13 344.377 L2161.13 360.025 L2156.85 360.025 L2156.85 344.516 Q2156.85 340.789 2155.53 338.984 Q2154.21 337.178 2151.5 337.178 Q2148.19 337.178 2146.27 339.377 Q2144.35 341.576 2144.35 345.373 L2144.35 360.025 L2140.07 360.025 L2140.07 344.516 Q2140.07 340.766 2138.75 338.984 Q2137.43 337.178 2134.67 337.178 Q2131.41 337.178 2129.49 339.4 Q2127.57 341.599 2127.57 345.373 L2127.57 360.025 L2123.28 360.025 L2123.28 334.099 L2127.57 334.099 L2127.57 338.127 Q2129.03 335.743 2131.06 334.609 Q2133.1 333.474 2135.9 333.474 Q2138.72 333.474 2140.69 334.91 Q2142.68 336.345 2143.63 339.076 Z\" fill=\"#000000\" fill-rule=\"evenodd\" fill-opacity=\"1\" /><path clip-path=\"url(#clip580)\" d=\"M 0 0 M2177.38 346.993 Q2172.22 346.993 2170.23 348.173 Q2168.24 349.354 2168.24 352.201 Q2168.24 354.47 2169.72 355.812 Q2171.22 357.132 2173.79 357.132 Q2177.34 357.132 2179.46 354.632 Q2181.62 352.109 2181.62 347.942 L2181.62 346.993 L2177.38 346.993 M2185.88 345.234 L2185.88 360.025 L2181.62 360.025 L2181.62 356.09 Q2180.16 358.451 2177.98 359.585 Q2175.81 360.697 2172.66 360.697 Q2168.68 360.697 2166.32 358.474 Q2163.98 356.229 2163.98 352.479 Q2163.98 348.104 2166.9 345.882 Q2169.84 343.66 2175.65 343.66 L2181.62 343.66 L2181.62 343.243 Q2181.62 340.303 2179.67 338.706 Q2177.75 337.086 2174.26 337.086 Q2172.03 337.086 2169.93 337.618 Q2167.82 338.15 2165.88 339.215 L2165.88 335.28 Q2168.21 334.377 2170.41 333.937 Q2172.61 333.474 2174.7 333.474 Q2180.32 333.474 2183.1 336.391 Q2185.88 339.308 2185.88 345.234 Z\" fill=\"#000000\" fill-rule=\"evenodd\" fill-opacity=\"1\" /><path clip-path=\"url(#clip580)\" d=\"M 0 0 M2190.34 324.007 L2194.6 324.007 L2194.6 360.025 L2190.34 360.025 L2190.34 324.007 Z\" fill=\"#000000\" fill-rule=\"evenodd\" fill-opacity=\"1\" /><path clip-path=\"url(#clip580)\" d=\"M 0 0 M2232.8 335.095 L2232.8 339.076 Q2230.99 338.081 2229.16 337.595 Q2227.36 337.086 2225.51 337.086 Q2221.36 337.086 2219.07 339.724 Q2216.78 342.34 2216.78 347.086 Q2216.78 351.831 2219.07 354.47 Q2221.36 357.085 2225.51 357.085 Q2227.36 357.085 2229.16 356.599 Q2230.99 356.09 2232.8 355.095 L2232.8 359.03 Q2231.02 359.863 2229.09 360.28 Q2227.2 360.697 2225.04 360.697 Q2219.19 360.697 2215.74 357.016 Q2212.29 353.335 2212.29 347.086 Q2212.29 340.743 2215.76 337.109 Q2219.26 333.474 2225.32 333.474 Q2227.29 333.474 2229.16 333.891 Q2231.04 334.285 2232.8 335.095 Z\" fill=\"#000000\" fill-rule=\"evenodd\" fill-opacity=\"1\" /></svg>\n"
      ]
     },
     "execution_count": 125,
     "metadata": {},
     "output_type": "execute_result"
    }
   ],
   "source": [
    "plot(title = \"\\$ \\\\textrm{Policy Function for } c_t \\$\")\n",
    "plot!(kgrid, fill(c̄, length(kgrid)), label = \"c̄\", color = \"green\", lw = 2, linestyle = :dash)\n",
    "vline!([k̄], label = \"k̄\", color = \"gray\", lw = 2,  linestyle = :dash)\n",
    "plot!(kgrid, c_pol, label = \"Optimal c\", color = \"green\", lw = 3)\n",
    "xlabel!(\"\\$k_t\\$\")\n",
    "ylabel!(\"\\$c_t\\$\")"
   ]
  },
  {
   "cell_type": "markdown",
   "metadata": {},
   "source": [
    "## Generating Optimal Paths"
   ]
  },
  {
   "cell_type": "markdown",
   "metadata": {},
   "source": [
    "Let's create a function that generates the path of the economy over $T$ time periods given the relevant policy functions and $k_0$ ."
   ]
  },
  {
   "cell_type": "code",
   "execution_count": 72,
   "metadata": {
    "ExecuteTime": {
     "end_time": "2021-05-03T02:29:21.787000-07:00",
     "start_time": "2021-05-03T09:29:21.630Z"
    }
   },
   "outputs": [
    {
     "data": {
      "text/plain": [
       "growthBellmanPath"
      ]
     },
     "execution_count": 72,
     "metadata": {},
     "output_type": "execute_result"
    }
   ],
   "source": [
    "\"\"\"\n",
    "   growthBellmanPath(kgrid, n_pol, k_pol, c_pol, grid_initial, T)\n",
    "\n",
    "Applies the Bellman map until convergence.\n",
    "Returns final iterations of the value and policy functions.\n",
    "\n",
    "# Arguments\n",
    "* `kgrid`        -- grid of k values over some interval\n",
    "* `n_pol`        -- capital policy grid index map\n",
    "* `k_pol`        -- capital policy function\n",
    "* `c_pol`        -- consumption policy function\n",
    "* `grid_initial` -- initial index of k\n",
    "* `T`            -- length of time interval\n",
    "\n",
    "\"\"\"\n",
    "function growthBellmanPath(kgrid, n_pol, k_pol, c_pol, grid_initial::Int64, T::Int64)\n",
    "\n",
    "    index = fill(0,T+1) # capital grid index path\n",
    "    c = zeros(T)        # empty vector to store consumption path\n",
    "    k = zeros(T+1)      # empty vector to store capital path\n",
    "    \n",
    "    index[1] = grid_initial # store t=0 capital index\n",
    "    \n",
    "    k[1] = kgrid[index[1]] # store capital at t=0\n",
    "    \n",
    "    for t in 1:T\n",
    "        c[t] = c_pol[index[t]] # store consumption at t\n",
    "        k[t+1] = k_pol[index[t]] # store capital t+1\n",
    "        index[t+1] = n_pol[index[t]] # store t+1 capital index\n",
    "    end \n",
    "    \n",
    "    k = k[1:T]             # cut the last entry of k path \n",
    "    grid_pts = index[1:T]  # cut the last entry of capital index path\n",
    "    \n",
    "    # Return capital, consumption, and capital index paths\n",
    "    return k, c, grid_pts\n",
    "end"
   ]
  },
  {
   "cell_type": "markdown",
   "metadata": {},
   "source": [
    "First we plot the paths of $k$ and $c$ given the lowest possible $k_0$ from our grid."
   ]
  },
  {
   "cell_type": "code",
   "execution_count": 73,
   "metadata": {
    "ExecuteTime": {
     "end_time": "2021-05-03T02:29:24.493000-07:00",
     "start_time": "2021-05-03T09:29:23.844Z"
    }
   },
   "outputs": [
    {
     "data": {
      "image/svg+xml": [
       "<?xml version=\"1.0\" encoding=\"utf-8\"?>\n",
       "<svg xmlns=\"http://www.w3.org/2000/svg\" xmlns:xlink=\"http://www.w3.org/1999/xlink\" width=\"600\" height=\"400\" viewBox=\"0 0 2400 1600\">\n",
       "<defs>\n",
       "  <clipPath id=\"clip700\">\n",
       "    <rect x=\"0\" y=\"0\" width=\"2400\" height=\"1600\"/>\n",
       "  </clipPath>\n",
       "</defs>\n",
       "<path clip-path=\"url(#clip700)\" d=\"\n",
       "M0 1600 L2400 1600 L2400 0 L0 0  Z\n",
       "  \" fill=\"#ffffff\" fill-rule=\"evenodd\" fill-opacity=\"1\"/>\n",
       "<defs>\n",
       "  <clipPath id=\"clip701\">\n",
       "    <rect x=\"480\" y=\"0\" width=\"1681\" height=\"1600\"/>\n",
       "  </clipPath>\n",
       "</defs>\n",
       "<defs>\n",
       "  <clipPath id=\"clip702\">\n",
       "    <rect x=\"196\" y=\"121\" width=\"2157\" height=\"1308\"/>\n",
       "  </clipPath>\n",
       "</defs>\n",
       "<path clip-path=\"url(#clip700)\" d=\"\n",
       "M148.01 1423.18 L2352.76 1423.18 L2352.76 118.959 L148.01 118.959  Z\n",
       "  \" fill=\"#ffffff\" fill-rule=\"evenodd\" fill-opacity=\"1\"/>\n",
       "<defs>\n",
       "  <clipPath id=\"clip703\">\n",
       "    <rect x=\"148\" y=\"118\" width=\"2206\" height=\"1305\"/>\n",
       "  </clipPath>\n",
       "</defs>\n",
       "<polyline clip-path=\"url(#clip703)\" style=\"stroke:#000000; stroke-width:2; stroke-opacity:0.1; fill:none\" points=\"\n",
       "  189.399,1423.18 189.399,118.959 \n",
       "  \"/>\n",
       "<polyline clip-path=\"url(#clip703)\" style=\"stroke:#000000; stroke-width:2; stroke-opacity:0.1; fill:none\" points=\"\n",
       "  714.639,1423.18 714.639,118.959 \n",
       "  \"/>\n",
       "<polyline clip-path=\"url(#clip703)\" style=\"stroke:#000000; stroke-width:2; stroke-opacity:0.1; fill:none\" points=\"\n",
       "  1239.88,1423.18 1239.88,118.959 \n",
       "  \"/>\n",
       "<polyline clip-path=\"url(#clip703)\" style=\"stroke:#000000; stroke-width:2; stroke-opacity:0.1; fill:none\" points=\"\n",
       "  1765.12,1423.18 1765.12,118.959 \n",
       "  \"/>\n",
       "<polyline clip-path=\"url(#clip703)\" style=\"stroke:#000000; stroke-width:2; stroke-opacity:0.1; fill:none\" points=\"\n",
       "  2290.36,1423.18 2290.36,118.959 \n",
       "  \"/>\n",
       "<polyline clip-path=\"url(#clip700)\" style=\"stroke:#000000; stroke-width:4; stroke-opacity:1; fill:none\" points=\"\n",
       "  148.01,1423.18 2352.76,1423.18 \n",
       "  \"/>\n",
       "<polyline clip-path=\"url(#clip700)\" style=\"stroke:#000000; stroke-width:4; stroke-opacity:1; fill:none\" points=\"\n",
       "  189.399,1423.18 189.399,1407.53 \n",
       "  \"/>\n",
       "<polyline clip-path=\"url(#clip700)\" style=\"stroke:#000000; stroke-width:4; stroke-opacity:1; fill:none\" points=\"\n",
       "  714.639,1423.18 714.639,1407.53 \n",
       "  \"/>\n",
       "<polyline clip-path=\"url(#clip700)\" style=\"stroke:#000000; stroke-width:4; stroke-opacity:1; fill:none\" points=\"\n",
       "  1239.88,1423.18 1239.88,1407.53 \n",
       "  \"/>\n",
       "<polyline clip-path=\"url(#clip700)\" style=\"stroke:#000000; stroke-width:4; stroke-opacity:1; fill:none\" points=\"\n",
       "  1765.12,1423.18 1765.12,1407.53 \n",
       "  \"/>\n",
       "<polyline clip-path=\"url(#clip700)\" style=\"stroke:#000000; stroke-width:4; stroke-opacity:1; fill:none\" points=\"\n",
       "  2290.36,1423.18 2290.36,1407.53 \n",
       "  \"/>\n",
       "<path clip-path=\"url(#clip700)\" d=\"M 0 0 M189.399 1452.37 Q185.788 1452.37 183.959 1455.94 Q182.154 1459.48 182.154 1466.61 Q182.154 1473.71 183.959 1477.28 Q185.788 1480.82 189.399 1480.82 Q193.033 1480.82 194.839 1477.28 Q196.668 1473.71 196.668 1466.61 Q196.668 1459.48 194.839 1455.94 Q193.033 1452.37 189.399 1452.37 M189.399 1448.67 Q195.209 1448.67 198.265 1453.27 Q201.344 1457.86 201.344 1466.61 Q201.344 1475.33 198.265 1479.94 Q195.209 1484.52 189.399 1484.52 Q183.589 1484.52 180.51 1479.94 Q177.455 1475.33 177.455 1466.61 Q177.455 1457.86 180.51 1453.27 Q183.589 1448.67 189.399 1448.67 Z\" fill=\"#000000\" fill-rule=\"evenodd\" fill-opacity=\"1\" /><path clip-path=\"url(#clip700)\" d=\"M 0 0 M696.282 1479.92 L712.602 1479.92 L712.602 1483.85 L690.657 1483.85 L690.657 1479.92 Q693.319 1477.16 697.903 1472.53 Q702.509 1467.88 703.69 1466.54 Q705.935 1464.01 706.815 1462.28 Q707.717 1460.52 707.717 1458.83 Q707.717 1456.07 705.773 1454.34 Q703.852 1452.6 700.75 1452.6 Q698.551 1452.6 696.097 1453.37 Q693.667 1454.13 690.889 1455.68 L690.889 1450.96 Q693.713 1449.82 696.167 1449.25 Q698.62 1448.67 700.657 1448.67 Q706.028 1448.67 709.222 1451.35 Q712.417 1454.04 712.417 1458.53 Q712.417 1460.66 711.606 1462.58 Q710.819 1464.48 708.713 1467.07 Q708.134 1467.74 705.032 1470.96 Q701.93 1474.15 696.282 1479.92 Z\" fill=\"#000000\" fill-rule=\"evenodd\" fill-opacity=\"1\" /><path clip-path=\"url(#clip700)\" d=\"M 0 0 M717.717 1449.29 L736.074 1449.29 L736.074 1453.23 L722 1453.23 L722 1461.7 Q723.018 1461.35 724.037 1461.19 Q725.055 1461 726.074 1461 Q731.861 1461 735.24 1464.18 Q738.62 1467.35 738.62 1472.76 Q738.62 1478.34 735.148 1481.44 Q731.676 1484.52 725.356 1484.52 Q723.18 1484.52 720.912 1484.15 Q718.667 1483.78 716.259 1483.04 L716.259 1478.34 Q718.342 1479.48 720.565 1480.03 Q722.787 1480.59 725.264 1480.59 Q729.268 1480.59 731.606 1478.48 Q733.944 1476.38 733.944 1472.76 Q733.944 1469.15 731.606 1467.05 Q729.268 1464.94 725.264 1464.94 Q723.389 1464.94 721.514 1465.36 Q719.662 1465.77 717.717 1466.65 L717.717 1449.29 Z\" fill=\"#000000\" fill-rule=\"evenodd\" fill-opacity=\"1\" /><path clip-path=\"url(#clip700)\" d=\"M 0 0 M1216.65 1449.29 L1235.01 1449.29 L1235.01 1453.23 L1220.93 1453.23 L1220.93 1461.7 Q1221.95 1461.35 1222.97 1461.19 Q1223.99 1461 1225.01 1461 Q1230.79 1461 1234.17 1464.18 Q1237.55 1467.35 1237.55 1472.76 Q1237.55 1478.34 1234.08 1481.44 Q1230.61 1484.52 1224.29 1484.52 Q1222.11 1484.52 1219.84 1484.15 Q1217.6 1483.78 1215.19 1483.04 L1215.19 1478.34 Q1217.27 1479.48 1219.5 1480.03 Q1221.72 1480.59 1224.2 1480.59 Q1228.2 1480.59 1230.54 1478.48 Q1232.88 1476.38 1232.88 1472.76 Q1232.88 1469.15 1230.54 1467.05 Q1228.2 1464.94 1224.2 1464.94 Q1222.32 1464.94 1220.45 1465.36 Q1218.59 1465.77 1216.65 1466.65 L1216.65 1449.29 Z\" fill=\"#000000\" fill-rule=\"evenodd\" fill-opacity=\"1\" /><path clip-path=\"url(#clip700)\" d=\"M 0 0 M1252.62 1452.37 Q1249.01 1452.37 1247.18 1455.94 Q1245.38 1459.48 1245.38 1466.61 Q1245.38 1473.71 1247.18 1477.28 Q1249.01 1480.82 1252.62 1480.82 Q1256.26 1480.82 1258.06 1477.28 Q1259.89 1473.71 1259.89 1466.61 Q1259.89 1459.48 1258.06 1455.94 Q1256.26 1452.37 1252.62 1452.37 M1252.62 1448.67 Q1258.43 1448.67 1261.49 1453.27 Q1264.57 1457.86 1264.57 1466.61 Q1264.57 1475.33 1261.49 1479.94 Q1258.43 1484.52 1252.62 1484.52 Q1246.81 1484.52 1243.73 1479.94 Q1240.68 1475.33 1240.68 1466.61 Q1240.68 1457.86 1243.73 1453.27 Q1246.81 1448.67 1252.62 1448.67 Z\" fill=\"#000000\" fill-rule=\"evenodd\" fill-opacity=\"1\" /><path clip-path=\"url(#clip700)\" d=\"M 0 0 M1741 1449.29 L1763.22 1449.29 L1763.22 1451.28 L1750.67 1483.85 L1745.79 1483.85 L1757.59 1453.23 L1741 1453.23 L1741 1449.29 Z\" fill=\"#000000\" fill-rule=\"evenodd\" fill-opacity=\"1\" /><path clip-path=\"url(#clip700)\" d=\"M 0 0 M1768.34 1449.29 L1786.69 1449.29 L1786.69 1453.23 L1772.62 1453.23 L1772.62 1461.7 Q1773.64 1461.35 1774.65 1461.19 Q1775.67 1461 1776.69 1461 Q1782.48 1461 1785.86 1464.18 Q1789.24 1467.35 1789.24 1472.76 Q1789.24 1478.34 1785.77 1481.44 Q1782.29 1484.52 1775.97 1484.52 Q1773.8 1484.52 1771.53 1484.15 Q1769.28 1483.78 1766.88 1483.04 L1766.88 1478.34 Q1768.96 1479.48 1771.18 1480.03 Q1773.4 1480.59 1775.88 1480.59 Q1779.89 1480.59 1782.22 1478.48 Q1784.56 1476.38 1784.56 1472.76 Q1784.56 1469.15 1782.22 1467.05 Q1779.89 1464.94 1775.88 1464.94 Q1774.01 1464.94 1772.13 1465.36 Q1770.28 1465.77 1768.34 1466.65 L1768.34 1449.29 Z\" fill=\"#000000\" fill-rule=\"evenodd\" fill-opacity=\"1\" /><path clip-path=\"url(#clip700)\" d=\"M 0 0 M2253.73 1479.92 L2261.36 1479.92 L2261.36 1453.55 L2253.05 1455.22 L2253.05 1450.96 L2261.32 1449.29 L2265.99 1449.29 L2265.99 1479.92 L2273.63 1479.92 L2273.63 1483.85 L2253.73 1483.85 L2253.73 1479.92 Z\" fill=\"#000000\" fill-rule=\"evenodd\" fill-opacity=\"1\" /><path clip-path=\"url(#clip700)\" d=\"M 0 0 M2288.7 1452.37 Q2285.09 1452.37 2283.26 1455.94 Q2281.46 1459.48 2281.46 1466.61 Q2281.46 1473.71 2283.26 1477.28 Q2285.09 1480.82 2288.7 1480.82 Q2292.34 1480.82 2294.14 1477.28 Q2295.97 1473.71 2295.97 1466.61 Q2295.97 1459.48 2294.14 1455.94 Q2292.34 1452.37 2288.7 1452.37 M2288.7 1448.67 Q2294.51 1448.67 2297.57 1453.27 Q2300.65 1457.86 2300.65 1466.61 Q2300.65 1475.33 2297.57 1479.94 Q2294.51 1484.52 2288.7 1484.52 Q2282.89 1484.52 2279.81 1479.94 Q2276.76 1475.33 2276.76 1466.61 Q2276.76 1457.86 2279.81 1453.27 Q2282.89 1448.67 2288.7 1448.67 Z\" fill=\"#000000\" fill-rule=\"evenodd\" fill-opacity=\"1\" /><path clip-path=\"url(#clip700)\" d=\"M 0 0 M2315.72 1452.37 Q2312.11 1452.37 2310.28 1455.94 Q2308.47 1459.48 2308.47 1466.61 Q2308.47 1473.71 2310.28 1477.28 Q2312.11 1480.82 2315.72 1480.82 Q2319.35 1480.82 2321.16 1477.28 Q2322.98 1473.71 2322.98 1466.61 Q2322.98 1459.48 2321.16 1455.94 Q2319.35 1452.37 2315.72 1452.37 M2315.72 1448.67 Q2321.53 1448.67 2324.58 1453.27 Q2327.66 1457.86 2327.66 1466.61 Q2327.66 1475.33 2324.58 1479.94 Q2321.53 1484.52 2315.72 1484.52 Q2309.91 1484.52 2306.83 1479.94 Q2303.77 1475.33 2303.77 1466.61 Q2303.77 1457.86 2306.83 1453.27 Q2309.91 1448.67 2315.72 1448.67 Z\" fill=\"#000000\" fill-rule=\"evenodd\" fill-opacity=\"1\" /><path clip-path=\"url(#clip700)\" d=\"M 0 0 M1177.99 1520.52 L1218.19 1520.52 L1218.19 1525.93 L1201.32 1525.93 L1201.32 1568.04 L1194.86 1568.04 L1194.86 1525.93 L1177.99 1525.93 L1177.99 1520.52 Z\" fill=\"#000000\" fill-rule=\"evenodd\" fill-opacity=\"1\" /><path clip-path=\"url(#clip700)\" d=\"M 0 0 M1222.33 1532.4 L1228.18 1532.4 L1228.18 1568.04 L1222.33 1568.04 L1222.33 1532.4 M1222.33 1518.52 L1228.18 1518.52 L1228.18 1525.93 L1222.33 1525.93 L1222.33 1518.52 Z\" fill=\"#000000\" fill-rule=\"evenodd\" fill-opacity=\"1\" /><path clip-path=\"url(#clip700)\" d=\"M 0 0 M1262.08 1539.24 Q1264.28 1535.29 1267.33 1533.41 Q1270.39 1531.54 1274.53 1531.54 Q1280.1 1531.54 1283.12 1535.45 Q1286.14 1539.33 1286.14 1546.53 L1286.14 1568.04 L1280.25 1568.04 L1280.25 1546.72 Q1280.25 1541.59 1278.44 1539.11 Q1276.63 1536.63 1272.9 1536.63 Q1268.35 1536.63 1265.71 1539.65 Q1263.07 1542.68 1263.07 1547.9 L1263.07 1568.04 L1257.18 1568.04 L1257.18 1546.72 Q1257.18 1541.56 1255.36 1539.11 Q1253.55 1536.63 1249.76 1536.63 Q1245.27 1536.63 1242.63 1539.68 Q1239.99 1542.71 1239.99 1547.9 L1239.99 1568.04 L1234.1 1568.04 L1234.1 1532.4 L1239.99 1532.4 L1239.99 1537.93 Q1242 1534.66 1244.8 1533.1 Q1247.6 1531.54 1251.45 1531.54 Q1255.33 1531.54 1258.04 1533.51 Q1260.78 1535.48 1262.08 1539.24 Z\" fill=\"#000000\" fill-rule=\"evenodd\" fill-opacity=\"1\" /><path clip-path=\"url(#clip700)\" d=\"M 0 0 M1322.78 1548.76 L1322.78 1551.62 L1295.85 1551.62 Q1296.23 1557.67 1299.48 1560.85 Q1302.76 1564 1308.58 1564 Q1311.96 1564 1315.11 1563.17 Q1318.29 1562.35 1321.41 1560.69 L1321.41 1566.23 Q1318.26 1567.57 1314.95 1568.27 Q1311.64 1568.97 1308.23 1568.97 Q1299.7 1568.97 1294.7 1564 Q1289.74 1559.04 1289.74 1550.57 Q1289.74 1541.82 1294.45 1536.69 Q1299.19 1531.54 1307.21 1531.54 Q1314.41 1531.54 1318.58 1536.18 Q1322.78 1540.8 1322.78 1548.76 M1316.92 1547.04 Q1316.86 1542.23 1314.22 1539.37 Q1311.61 1536.5 1307.28 1536.5 Q1302.38 1536.5 1299.41 1539.27 Q1296.49 1542.04 1296.04 1547.07 L1316.92 1547.04 Z\" fill=\"#000000\" fill-rule=\"evenodd\" fill-opacity=\"1\" /><polyline clip-path=\"url(#clip703)\" style=\"stroke:#000000; stroke-width:2; stroke-opacity:0.1; fill:none\" points=\"\n",
       "  148.01,1234 2352.76,1234 \n",
       "  \"/>\n",
       "<polyline clip-path=\"url(#clip703)\" style=\"stroke:#000000; stroke-width:2; stroke-opacity:0.1; fill:none\" points=\"\n",
       "  148.01,1017.85 2352.76,1017.85 \n",
       "  \"/>\n",
       "<polyline clip-path=\"url(#clip703)\" style=\"stroke:#000000; stroke-width:2; stroke-opacity:0.1; fill:none\" points=\"\n",
       "  148.01,801.693 2352.76,801.693 \n",
       "  \"/>\n",
       "<polyline clip-path=\"url(#clip703)\" style=\"stroke:#000000; stroke-width:2; stroke-opacity:0.1; fill:none\" points=\"\n",
       "  148.01,585.537 2352.76,585.537 \n",
       "  \"/>\n",
       "<polyline clip-path=\"url(#clip703)\" style=\"stroke:#000000; stroke-width:2; stroke-opacity:0.1; fill:none\" points=\"\n",
       "  148.01,369.382 2352.76,369.382 \n",
       "  \"/>\n",
       "<polyline clip-path=\"url(#clip703)\" style=\"stroke:#000000; stroke-width:2; stroke-opacity:0.1; fill:none\" points=\"\n",
       "  148.01,153.226 2352.76,153.226 \n",
       "  \"/>\n",
       "<polyline clip-path=\"url(#clip700)\" style=\"stroke:#000000; stroke-width:4; stroke-opacity:1; fill:none\" points=\"\n",
       "  148.01,1423.18 148.01,118.959 \n",
       "  \"/>\n",
       "<polyline clip-path=\"url(#clip700)\" style=\"stroke:#000000; stroke-width:4; stroke-opacity:1; fill:none\" points=\"\n",
       "  148.01,1234 174.467,1234 \n",
       "  \"/>\n",
       "<polyline clip-path=\"url(#clip700)\" style=\"stroke:#000000; stroke-width:4; stroke-opacity:1; fill:none\" points=\"\n",
       "  148.01,1017.85 174.467,1017.85 \n",
       "  \"/>\n",
       "<polyline clip-path=\"url(#clip700)\" style=\"stroke:#000000; stroke-width:4; stroke-opacity:1; fill:none\" points=\"\n",
       "  148.01,801.693 174.467,801.693 \n",
       "  \"/>\n",
       "<polyline clip-path=\"url(#clip700)\" style=\"stroke:#000000; stroke-width:4; stroke-opacity:1; fill:none\" points=\"\n",
       "  148.01,585.537 174.467,585.537 \n",
       "  \"/>\n",
       "<polyline clip-path=\"url(#clip700)\" style=\"stroke:#000000; stroke-width:4; stroke-opacity:1; fill:none\" points=\"\n",
       "  148.01,369.382 174.467,369.382 \n",
       "  \"/>\n",
       "<polyline clip-path=\"url(#clip700)\" style=\"stroke:#000000; stroke-width:4; stroke-opacity:1; fill:none\" points=\"\n",
       "  148.01,153.226 174.467,153.226 \n",
       "  \"/>\n",
       "<path clip-path=\"url(#clip700)\" d=\"M 0 0 M64.0939 1219.8 Q60.4828 1219.8 58.6541 1223.37 Q56.8486 1226.91 56.8486 1234.04 Q56.8486 1241.15 58.6541 1244.71 Q60.4828 1248.25 64.0939 1248.25 Q67.7281 1248.25 69.5337 1244.71 Q71.3624 1241.15 71.3624 1234.04 Q71.3624 1226.91 69.5337 1223.37 Q67.7281 1219.8 64.0939 1219.8 M64.0939 1216.1 Q69.9041 1216.1 72.9596 1220.71 Q76.0383 1225.29 76.0383 1234.04 Q76.0383 1242.77 72.9596 1247.37 Q69.9041 1251.96 64.0939 1251.96 Q58.2838 1251.96 55.2051 1247.37 Q52.1495 1242.77 52.1495 1234.04 Q52.1495 1225.29 55.2051 1220.71 Q58.2838 1216.1 64.0939 1216.1 Z\" fill=\"#000000\" fill-rule=\"evenodd\" fill-opacity=\"1\" /><path clip-path=\"url(#clip700)\" d=\"M 0 0 M81.1077 1245.4 L85.9919 1245.4 L85.9919 1251.28 L81.1077 1251.28 L81.1077 1245.4 Z\" fill=\"#000000\" fill-rule=\"evenodd\" fill-opacity=\"1\" /><path clip-path=\"url(#clip700)\" d=\"M 0 0 M91.1077 1216.72 L109.464 1216.72 L109.464 1220.66 L95.39 1220.66 L95.39 1229.13 Q96.4085 1228.78 97.4271 1228.62 Q98.4456 1228.44 99.4641 1228.44 Q105.251 1228.44 108.631 1231.61 Q112.01 1234.78 112.01 1240.2 Q112.01 1245.78 108.538 1248.88 Q105.066 1251.96 98.7465 1251.96 Q96.5706 1251.96 94.3021 1251.59 Q92.0567 1251.21 89.6493 1250.47 L89.6493 1245.78 Q91.7326 1246.91 93.9549 1247.46 Q96.1771 1248.02 98.6539 1248.02 Q102.659 1248.02 104.996 1245.91 Q107.334 1243.81 107.334 1240.2 Q107.334 1236.59 104.996 1234.48 Q102.659 1232.37 98.6539 1232.37 Q96.7789 1232.37 94.9039 1232.79 Q93.0521 1233.21 91.1077 1234.09 L91.1077 1216.72 Z\" fill=\"#000000\" fill-rule=\"evenodd\" fill-opacity=\"1\" /><path clip-path=\"url(#clip700)\" d=\"M 0 0 M62.9365 1003.65 Q59.3254 1003.65 57.4967 1007.21 Q55.6912 1010.75 55.6912 1017.88 Q55.6912 1024.99 57.4967 1028.55 Q59.3254 1032.1 62.9365 1032.1 Q66.5707 1032.1 68.3763 1028.55 Q70.205 1024.99 70.205 1017.88 Q70.205 1010.75 68.3763 1007.21 Q66.5707 1003.65 62.9365 1003.65 M62.9365 999.944 Q68.7467 999.944 71.8022 1004.55 Q74.8809 1009.13 74.8809 1017.88 Q74.8809 1026.61 71.8022 1031.22 Q68.7467 1035.8 62.9365 1035.8 Q57.1264 1035.8 54.0477 1031.22 Q50.9921 1026.61 50.9921 1017.88 Q50.9921 1009.13 54.0477 1004.55 Q57.1264 999.944 62.9365 999.944 Z\" fill=\"#000000\" fill-rule=\"evenodd\" fill-opacity=\"1\" /><path clip-path=\"url(#clip700)\" d=\"M 0 0 M79.9503 1029.25 L84.8345 1029.25 L84.8345 1035.13 L79.9503 1035.13 L79.9503 1029.25 Z\" fill=\"#000000\" fill-rule=\"evenodd\" fill-opacity=\"1\" /><path clip-path=\"url(#clip700)\" d=\"M 0 0 M100.483 1015.99 Q97.3345 1015.99 95.4826 1018.14 Q93.6539 1020.29 93.6539 1024.04 Q93.6539 1027.77 95.4826 1029.94 Q97.3345 1032.1 100.483 1032.1 Q103.631 1032.1 105.459 1029.94 Q107.311 1027.77 107.311 1024.04 Q107.311 1020.29 105.459 1018.14 Q103.631 1015.99 100.483 1015.99 M109.765 1001.33 L109.765 1005.59 Q108.006 1004.76 106.2 1004.32 Q104.418 1003.88 102.659 1003.88 Q98.0289 1003.88 95.5752 1007 Q93.1447 1010.13 92.7975 1016.45 Q94.1632 1014.43 96.2234 1013.37 Q98.2835 1012.28 100.76 1012.28 Q105.969 1012.28 108.978 1015.45 Q112.01 1018.6 112.01 1024.04 Q112.01 1029.36 108.862 1032.58 Q105.714 1035.8 100.483 1035.8 Q94.4873 1035.8 91.316 1031.22 Q88.1447 1026.61 88.1447 1017.88 Q88.1447 1009.69 92.0336 1004.83 Q95.9224 999.944 102.473 999.944 Q104.233 999.944 106.015 1000.29 Q107.821 1000.64 109.765 1001.33 Z\" fill=\"#000000\" fill-rule=\"evenodd\" fill-opacity=\"1\" /><path clip-path=\"url(#clip700)\" d=\"M 0 0 M64.0013 787.492 Q60.3902 787.492 58.5615 791.056 Q56.756 794.598 56.756 801.728 Q56.756 808.834 58.5615 812.399 Q60.3902 815.941 64.0013 815.941 Q67.6356 815.941 69.4411 812.399 Q71.2698 808.834 71.2698 801.728 Q71.2698 794.598 69.4411 791.056 Q67.6356 787.492 64.0013 787.492 M64.0013 783.788 Q69.8115 783.788 72.867 788.394 Q75.9457 792.978 75.9457 801.728 Q75.9457 810.455 72.867 815.061 Q69.8115 819.644 64.0013 819.644 Q58.1912 819.644 55.1125 815.061 Q52.0569 810.455 52.0569 801.728 Q52.0569 792.978 55.1125 788.394 Q58.1912 783.788 64.0013 783.788 Z\" fill=\"#000000\" fill-rule=\"evenodd\" fill-opacity=\"1\" /><path clip-path=\"url(#clip700)\" d=\"M 0 0 M81.0151 813.093 L85.8993 813.093 L85.8993 818.973 L81.0151 818.973 L81.0151 813.093 Z\" fill=\"#000000\" fill-rule=\"evenodd\" fill-opacity=\"1\" /><path clip-path=\"url(#clip700)\" d=\"M 0 0 M89.7882 784.413 L112.01 784.413 L112.01 786.404 L99.4641 818.973 L94.5799 818.973 L106.385 788.348 L89.7882 788.348 L89.7882 784.413 Z\" fill=\"#000000\" fill-rule=\"evenodd\" fill-opacity=\"1\" /><path clip-path=\"url(#clip700)\" d=\"M 0 0 M63.1911 571.336 Q59.58 571.336 57.7513 574.901 Q55.9458 578.442 55.9458 585.572 Q55.9458 592.678 57.7513 596.243 Q59.58 599.785 63.1911 599.785 Q66.8254 599.785 68.6309 596.243 Q70.4596 592.678 70.4596 585.572 Q70.4596 578.442 68.6309 574.901 Q66.8254 571.336 63.1911 571.336 M63.1911 567.632 Q69.0013 567.632 72.0568 572.239 Q75.1355 576.822 75.1355 585.572 Q75.1355 594.299 72.0568 598.905 Q69.0013 603.489 63.1911 603.489 Q57.381 603.489 54.3023 598.905 Q51.2468 594.299 51.2468 585.572 Q51.2468 576.822 54.3023 572.239 Q57.381 567.632 63.1911 567.632 Z\" fill=\"#000000\" fill-rule=\"evenodd\" fill-opacity=\"1\" /><path clip-path=\"url(#clip700)\" d=\"M 0 0 M80.2049 596.938 L85.0892 596.938 L85.0892 602.817 L80.2049 602.817 L80.2049 596.938 Z\" fill=\"#000000\" fill-rule=\"evenodd\" fill-opacity=\"1\" /><path clip-path=\"url(#clip700)\" d=\"M 0 0 M100.159 586.405 Q96.8252 586.405 94.9039 588.188 Q93.0058 589.97 93.0058 593.095 Q93.0058 596.22 94.9039 598.003 Q96.8252 599.785 100.159 599.785 Q103.492 599.785 105.413 598.003 Q107.334 596.197 107.334 593.095 Q107.334 589.97 105.413 588.188 Q103.515 586.405 100.159 586.405 M95.4826 584.415 Q92.4734 583.674 90.7836 581.614 Q89.1169 579.554 89.1169 576.591 Q89.1169 572.447 92.0567 570.04 Q95.0197 567.632 100.159 567.632 Q105.321 567.632 108.26 570.04 Q111.2 572.447 111.2 576.591 Q111.2 579.554 109.51 581.614 Q107.844 583.674 104.858 584.415 Q108.237 585.202 110.112 587.493 Q112.01 589.785 112.01 593.095 Q112.01 598.118 108.932 600.803 Q105.876 603.489 100.159 603.489 Q94.441 603.489 91.3623 600.803 Q88.3067 598.118 88.3067 593.095 Q88.3067 589.785 90.2049 587.493 Q92.103 585.202 95.4826 584.415 M93.7697 577.03 Q93.7697 579.716 95.4363 581.22 Q97.1261 582.725 100.159 582.725 Q103.168 582.725 104.858 581.22 Q106.571 579.716 106.571 577.03 Q106.571 574.345 104.858 572.841 Q103.168 571.336 100.159 571.336 Q97.1261 571.336 95.4363 572.841 Q93.7697 574.345 93.7697 577.03 Z\" fill=\"#000000\" fill-rule=\"evenodd\" fill-opacity=\"1\" /><path clip-path=\"url(#clip700)\" d=\"M 0 0 M63.2837 355.18 Q59.6726 355.18 57.8439 358.745 Q56.0384 362.287 56.0384 369.416 Q56.0384 376.523 57.8439 380.088 Q59.6726 383.629 63.2837 383.629 Q66.918 383.629 68.7235 380.088 Q70.5522 376.523 70.5522 369.416 Q70.5522 362.287 68.7235 358.745 Q66.918 355.18 63.2837 355.18 M63.2837 351.477 Q69.0939 351.477 72.1494 356.083 Q75.2281 360.666 75.2281 369.416 Q75.2281 378.143 72.1494 382.75 Q69.0939 387.333 63.2837 387.333 Q57.4736 387.333 54.3949 382.75 Q51.3393 378.143 51.3393 369.416 Q51.3393 360.666 54.3949 356.083 Q57.4736 351.477 63.2837 351.477 Z\" fill=\"#000000\" fill-rule=\"evenodd\" fill-opacity=\"1\" /><path clip-path=\"url(#clip700)\" d=\"M 0 0 M80.2975 380.782 L85.1818 380.782 L85.1818 386.662 L80.2975 386.662 L80.2975 380.782 Z\" fill=\"#000000\" fill-rule=\"evenodd\" fill-opacity=\"1\" /><path clip-path=\"url(#clip700)\" d=\"M 0 0 M90.3901 385.944 L90.3901 381.685 Q92.1493 382.518 93.9549 382.958 Q95.7604 383.398 97.4965 383.398 Q102.126 383.398 104.557 380.296 Q107.01 377.171 107.358 370.828 Q106.015 372.819 103.955 373.884 Q101.895 374.949 99.3946 374.949 Q94.2095 374.949 91.1771 371.824 Q88.1679 368.676 88.1679 363.236 Q88.1679 357.912 91.316 354.694 Q94.4641 351.477 99.6956 351.477 Q105.691 351.477 108.839 356.083 Q112.01 360.666 112.01 369.416 Q112.01 377.588 108.121 382.472 Q104.256 387.333 97.7048 387.333 Q95.9456 387.333 94.14 386.986 Q92.3345 386.638 90.3901 385.944 M99.6956 371.291 Q102.844 371.291 104.672 369.139 Q106.524 366.986 106.524 363.236 Q106.524 359.509 104.672 357.356 Q102.844 355.18 99.6956 355.18 Q96.5474 355.18 94.6956 357.356 Q92.8669 359.509 92.8669 363.236 Q92.8669 366.986 94.6956 369.139 Q96.5474 371.291 99.6956 371.291 Z\" fill=\"#000000\" fill-rule=\"evenodd\" fill-opacity=\"1\" /><path clip-path=\"url(#clip700)\" d=\"M 0 0 M55.1356 166.571 L62.7745 166.571 L62.7745 140.205 L54.4643 141.872 L54.4643 137.613 L62.7282 135.946 L67.4041 135.946 L67.4041 166.571 L75.0429 166.571 L75.0429 170.506 L55.1356 170.506 L55.1356 166.571 Z\" fill=\"#000000\" fill-rule=\"evenodd\" fill-opacity=\"1\" /><path clip-path=\"url(#clip700)\" d=\"M 0 0 M80.1123 164.626 L84.9966 164.626 L84.9966 170.506 L80.1123 170.506 L80.1123 164.626 Z\" fill=\"#000000\" fill-rule=\"evenodd\" fill-opacity=\"1\" /><path clip-path=\"url(#clip700)\" d=\"M 0 0 M100.066 139.025 Q96.4548 139.025 94.6262 142.589 Q92.8206 146.131 92.8206 153.261 Q92.8206 160.367 94.6262 163.932 Q96.4548 167.474 100.066 167.474 Q103.7 167.474 105.506 163.932 Q107.334 160.367 107.334 153.261 Q107.334 146.131 105.506 142.589 Q103.7 139.025 100.066 139.025 M100.066 135.321 Q105.876 135.321 108.932 139.927 Q112.01 144.511 112.01 153.261 Q112.01 161.987 108.932 166.594 Q105.876 171.177 100.066 171.177 Q94.2558 171.177 91.1771 166.594 Q88.1216 161.987 88.1216 153.261 Q88.1216 144.511 91.1771 139.927 Q94.2558 135.321 100.066 135.321 Z\" fill=\"#000000\" fill-rule=\"evenodd\" fill-opacity=\"1\" /><path clip-path=\"url(#clip700)\" d=\"M 0 0 M736.116 38.4642 Q736.116 25.6345 744.314 16.6989 Q752.552 7.7222 763.988 7.7222 Q775.506 7.7222 783.704 16.6989 Q791.943 25.6755 791.943 38.4642 Q791.943 51.1298 783.704 59.9425 Q775.465 68.7552 763.988 68.7552 Q752.675 68.7552 744.396 59.9835 Q736.116 51.2118 736.116 38.4642 M744.764 37.2755 Q744.764 45.0634 746.609 51.0479 Q748.453 56.9913 751.405 60.2295 Q754.397 63.4676 757.594 65.0252 Q760.791 66.5828 764.07 66.5828 Q767.268 66.5828 770.383 65.0662 Q773.539 63.5496 776.531 60.3524 Q779.523 57.1553 781.409 51.1708 Q783.294 45.1864 783.294 37.2755 Q783.294 31.1271 781.983 26.2084 Q780.671 21.2487 778.622 18.2564 Q776.572 15.2642 773.908 13.2967 Q771.285 11.3293 768.784 10.5915 Q766.325 9.81265 763.988 9.81265 Q761.037 9.81265 757.963 11.1243 Q754.889 12.436 751.774 15.3462 Q748.699 18.2155 746.732 23.913 Q744.764 29.5695 744.764 37.2755 Z\" fill=\"#000000\" fill-rule=\"evenodd\" fill-opacity=\"1\" /><path clip-path=\"url(#clip700)\" d=\"M 0 0 M800.692 80.6011 Q805.16 80.6011 806.184 80.0273 Q807.25 79.4944 807.25 76.8301 L807.25 37.5214 Q807.25 34.7341 806.184 34.0373 Q805.16 33.3405 800.692 33.3405 L800.692 30.7172 L812.784 29.8154 L812.784 35.349 Q817.825 29.8154 824.548 29.8154 Q831.68 29.8154 836.885 35.349 Q842.091 40.8825 842.091 48.7935 Q842.091 56.7864 836.557 62.3199 Q831.024 67.8535 823.359 67.8535 Q819.178 67.8535 816.35 65.722 Q813.562 63.5496 813.03 61.951 L813.03 62.7298 L813.03 76.8301 Q813.03 79.5354 814.095 80.0683 Q815.161 80.6011 819.588 80.6011 L819.588 83.1835 Q810.775 82.9375 810.119 82.9375 Q809.3 82.9375 800.692 83.1835 L800.692 80.6011 M813.03 57.3602 Q813.03 58.6309 813.194 59.0818 Q813.399 59.5326 814.218 60.8853 Q817.538 65.968 822.949 65.968 Q822.99 65.968 823.031 65.968 Q827.827 65.968 831.475 61.0902 Q835.123 56.1715 835.123 48.7935 Q835.123 41.7433 831.803 36.8246 Q828.483 31.9059 823.892 31.9059 Q820.613 31.9059 817.743 33.6684 Q814.874 35.431 813.03 38.6281 L813.03 57.3602 Z\" fill=\"#000000\" fill-rule=\"evenodd\" fill-opacity=\"1\" /><path clip-path=\"url(#clip700)\" d=\"M 0 0 M845.675 33.3405 L845.675 31.496 Q849.528 31.332 852.07 28.6267 Q854.652 25.8805 855.513 22.5193 Q856.414 19.1582 856.496 15.2642 L858.587 15.2642 L858.587 30.7172 L870.597 30.7172 L870.597 33.3405 L858.587 33.3405 L858.587 56.6634 Q858.587 65.722 864.243 65.722 Q866.662 65.722 868.26 63.2627 Q869.859 60.7623 869.859 56.3355 L869.859 51.7037 L871.949 51.7037 L871.949 56.4994 Q871.949 61.0493 869.859 64.4514 Q867.768 67.8535 863.629 67.8535 Q862.112 67.8535 860.595 67.4436 Q859.12 67.0747 857.152 66.0909 Q855.226 65.0662 853.996 62.6068 Q852.807 60.1065 852.807 56.4994 L852.807 33.3405 L845.675 33.3405 Z\" fill=\"#000000\" fill-rule=\"evenodd\" fill-opacity=\"1\" /><path clip-path=\"url(#clip700)\" d=\"M 0 0 M877.902 66.9107 L877.902 64.3284 Q882.37 64.3284 883.395 63.7955 Q884.42 63.2217 884.42 60.5164 L884.42 37.9313 Q884.42 34.8161 883.354 34.0783 Q882.329 33.3405 878.23 33.3405 L878.23 30.7172 L889.953 29.8154 L889.953 60.5984 Q889.953 63.0987 890.855 63.7136 Q891.757 64.3284 895.856 64.3284 L895.856 66.9107 Q887.289 66.6648 887.125 66.6648 Q885.977 66.6648 877.902 66.9107 M881.427 15.1822 Q881.427 13.5017 882.698 12.149 Q884.01 10.7554 885.854 10.7554 Q887.699 10.7554 889.01 12.0261 Q890.322 13.2558 890.322 15.2232 Q890.322 17.1497 889.01 18.4204 Q887.699 19.6501 885.854 19.6501 Q883.928 19.6501 882.657 18.2974 Q881.427 16.9448 881.427 15.1822 Z\" fill=\"#000000\" fill-rule=\"evenodd\" fill-opacity=\"1\" /><path clip-path=\"url(#clip700)\" d=\"M 0 0 M900.916 66.9107 L900.916 64.3284 Q905.384 64.3284 906.409 63.7955 Q907.433 63.2217 907.433 60.5164 L907.433 38.0133 Q907.433 34.8981 906.327 34.1193 Q905.261 33.3405 900.916 33.3405 L900.916 30.7172 L912.721 29.8154 L912.721 38.6281 Q916.656 29.8154 925.141 29.8154 Q934.978 29.8154 936.331 38.0133 Q937.765 34.8161 940.758 32.3158 Q943.791 29.8154 948.505 29.8154 Q954.817 29.8154 957.317 32.9306 Q959.162 35.0211 959.531 37.3574 Q959.9 39.6938 959.9 45.7603 L959.9 61.7871 Q959.982 63.5496 961.334 63.9595 Q962.687 64.3284 966.458 64.3284 L966.458 66.9107 Q957.891 66.6648 957.071 66.6648 Q956.415 66.6648 947.562 66.9107 L947.562 64.3284 Q952.03 64.3284 953.054 63.7955 Q954.12 63.2217 954.12 60.5164 L954.12 40.9645 Q954.12 36.7016 952.808 34.2013 Q951.497 31.6599 947.89 31.6599 Q943.545 31.6599 940.061 35.308 Q936.577 38.956 936.577 45.1044 L936.577 60.5164 Q936.577 63.2217 937.601 63.7955 Q938.667 64.3284 943.135 64.3284 L943.135 66.9107 Q934.568 66.6648 933.707 66.6648 Q933.052 66.6648 924.239 66.9107 L924.239 64.3284 Q928.707 64.3284 929.731 63.7955 Q930.797 63.2217 930.797 60.5164 L930.797 40.9645 Q930.797 36.7016 929.486 34.2013 Q928.174 31.6599 924.567 31.6599 Q920.222 31.6599 916.738 35.308 Q913.254 38.956 913.254 45.1044 L913.254 60.5164 Q913.254 63.2217 914.279 63.7955 Q915.344 64.3284 919.771 64.3284 L919.771 66.9107 Q911.204 66.6648 910.385 66.6648 Q909.729 66.6648 900.916 66.9107 Z\" fill=\"#000000\" fill-rule=\"evenodd\" fill-opacity=\"1\" /><path clip-path=\"url(#clip700)\" d=\"M 0 0 M970.119 58.9178 Q970.119 51.7857 978.522 48.0147 Q983.564 45.5963 993.975 44.9815 L993.975 41.9073 Q993.975 36.7016 991.229 33.9553 Q988.523 31.1681 985.08 31.1681 Q978.932 31.1681 975.981 35.0211 Q978.481 35.103 979.383 36.3737 Q980.285 37.6034 980.285 38.8741 Q980.285 40.5546 979.219 41.6613 Q978.194 42.727 976.432 42.727 Q974.751 42.727 973.644 41.7023 Q972.538 40.6366 972.538 38.7921 Q972.538 34.6931 976.227 31.9879 Q979.957 29.2826 985.244 29.2826 Q992.13 29.2826 996.721 33.9143 Q998.156 35.349 998.853 37.1935 Q999.59 39.038 999.672 40.2677 Q999.754 41.4564 999.754 43.8338 L999.754 60.5984 Q999.754 61.0902 999.918 61.91 Q1000.08 62.7298 1000.82 63.7955 Q1001.6 64.8203 1002.87 64.8203 Q1005.9 64.8203 1005.86 59.4507 L1005.86 54.7369 L1007.99 54.7369 L1007.99 59.4507 Q1007.99 63.9185 1005.62 65.681 Q1003.28 67.4026 1001.11 67.4026 Q998.32 67.4026 996.557 65.3531 Q994.795 63.3037 994.549 60.5164 Q993.278 63.7136 990.368 65.804 Q987.499 67.8535 983.564 67.8535 Q980.53 67.8535 977.661 67.0747 Q974.833 66.3369 972.456 64.2464 Q970.119 62.115 970.119 58.9178 M976.595 58.8358 Q976.595 61.951 978.809 63.9595 Q981.022 65.968 984.138 65.968 Q987.663 65.968 990.819 63.2627 Q993.975 60.5164 993.975 55.1468 L993.975 46.744 Q984.67 47.0719 980.612 50.8019 Q976.595 54.491 976.595 58.8358 Z\" fill=\"#000000\" fill-rule=\"evenodd\" fill-opacity=\"1\" /><path clip-path=\"url(#clip700)\" d=\"M 0 0 M1011.68 66.9107 L1011.68 64.3284 Q1016.15 64.3284 1017.17 63.7955 Q1018.2 63.2217 1018.2 60.5164 L1018.2 16.8628 Q1018.2 13.7476 1017.09 12.9688 Q1016.03 12.19 1011.68 12.19 L1011.68 9.56672 L1023.73 8.66495 L1023.73 60.5164 Q1023.73 63.2217 1024.8 63.7955 Q1025.86 64.3284 1030.29 64.3284 L1030.29 66.9107 Q1029.27 66.9107 1027.13 66.8287 Q1025 66.7468 1023.45 66.7058 Q1021.89 66.6648 1020.99 66.6648 Q1020 66.6648 1011.68 66.9107 Z\" fill=\"#000000\" fill-rule=\"evenodd\" fill-opacity=\"1\" /><path clip-path=\"url(#clip700)\" d=\"M 0 0 M1062.34 66.9107 L1062.34 64.3284 L1064.34 64.3284 Q1068.89 64.3284 1069.92 63.5906 Q1070.98 62.8118 1070.98 60.3524 L1070.98 16.125 Q1070.98 13.7066 1069.92 12.9688 Q1068.85 12.19 1064.34 12.19 L1062.34 12.19 L1062.34 9.56672 L1091.97 9.56672 Q1100.46 9.56672 1106.11 14.2395 Q1111.77 18.9123 1111.77 25.1836 Q1111.77 31.414 1105.99 35.9228 Q1100.25 40.3907 1092.63 40.3907 L1078.44 40.3907 L1078.44 60.3524 Q1078.44 62.7708 1079.47 63.5496 Q1080.54 64.3284 1085.09 64.3284 L1087.09 64.3284 L1087.09 66.9107 Q1084.14 66.6648 1074.67 66.6648 Q1065.29 66.6648 1062.34 66.9107 M1078.2 38.2182 L1089.76 38.2182 Q1093.53 38.2182 1096.28 37.1525 Q1099.02 36.0868 1100.25 34.8161 Q1101.52 33.5045 1102.22 31.414 Q1102.96 29.2826 1103.04 28.1349 Q1103.12 26.9462 1103.12 25.1836 Q1103.12 23.3391 1103.04 22.1914 Q1102.96 21.0027 1102.22 18.9123 Q1101.52 16.7808 1100.25 15.5102 Q1099.02 14.1985 1096.28 13.2148 Q1093.57 12.19 1089.76 12.19 L1082.3 12.19 Q1079.43 12.19 1078.81 12.7639 Q1078.2 13.3377 1078.2 15.5512 L1078.2 38.2182 Z\" fill=\"#000000\" fill-rule=\"evenodd\" fill-opacity=\"1\" /><path clip-path=\"url(#clip700)\" d=\"M 0 0 M1115.09 58.9178 Q1115.09 51.7857 1123.49 48.0147 Q1128.53 45.5963 1138.94 44.9815 L1138.94 41.9073 Q1138.94 36.7016 1136.19 33.9553 Q1133.49 31.1681 1130.05 31.1681 Q1123.9 31.1681 1120.95 35.0211 Q1123.45 35.103 1124.35 36.3737 Q1125.25 37.6034 1125.25 38.8741 Q1125.25 40.5546 1124.18 41.6613 Q1123.16 42.727 1121.4 42.727 Q1119.72 42.727 1118.61 41.7023 Q1117.5 40.6366 1117.5 38.7921 Q1117.5 34.6931 1121.19 31.9879 Q1124.92 29.2826 1130.21 29.2826 Q1137.1 29.2826 1141.69 33.9143 Q1143.12 35.349 1143.82 37.1935 Q1144.56 39.038 1144.64 40.2677 Q1144.72 41.4564 1144.72 43.8338 L1144.72 60.5984 Q1144.72 61.0902 1144.88 61.91 Q1145.05 62.7298 1145.79 63.7955 Q1146.56 64.8203 1147.84 64.8203 Q1150.87 64.8203 1150.83 59.4507 L1150.83 54.7369 L1152.96 54.7369 L1152.96 59.4507 Q1152.96 63.9185 1150.58 65.681 Q1148.25 67.4026 1146.07 67.4026 Q1143.29 67.4026 1141.52 65.3531 Q1139.76 63.3037 1139.51 60.5164 Q1138.24 63.7136 1135.33 65.804 Q1132.46 67.8535 1128.53 67.8535 Q1125.5 67.8535 1122.63 67.0747 Q1119.8 66.3369 1117.42 64.2464 Q1115.09 62.115 1115.09 58.9178 M1121.56 58.8358 Q1121.56 61.951 1123.77 63.9595 Q1125.99 65.968 1129.1 65.968 Q1132.63 65.968 1135.78 63.2627 Q1138.94 60.5164 1138.94 55.1468 L1138.94 46.744 Q1129.64 47.0719 1125.58 50.8019 Q1121.56 54.491 1121.56 58.8358 Z\" fill=\"#000000\" fill-rule=\"evenodd\" fill-opacity=\"1\" /><path clip-path=\"url(#clip700)\" d=\"M 0 0 M1156.65 33.3405 L1156.65 31.496 Q1160.5 31.332 1163.04 28.6267 Q1165.62 25.8805 1166.48 22.5193 Q1167.39 19.1582 1167.47 15.2642 L1169.56 15.2642 L1169.56 30.7172 L1181.57 30.7172 L1181.57 33.3405 L1169.56 33.3405 L1169.56 56.6634 Q1169.56 65.722 1175.22 65.722 Q1177.63 65.722 1179.23 63.2627 Q1180.83 60.7623 1180.83 56.3355 L1180.83 51.7037 L1182.92 51.7037 L1182.92 56.4994 Q1182.92 61.0493 1180.83 64.4514 Q1178.74 67.8535 1174.6 67.8535 Q1173.08 67.8535 1171.57 67.4436 Q1170.09 67.0747 1168.12 66.0909 Q1166.2 65.0662 1164.97 62.6068 Q1163.78 60.1065 1163.78 56.4994 L1163.78 33.3405 L1156.65 33.3405 Z\" fill=\"#000000\" fill-rule=\"evenodd\" fill-opacity=\"1\" /><path clip-path=\"url(#clip700)\" d=\"M 0 0 M1188.37 66.9107 L1188.37 64.3284 Q1192.84 64.3284 1193.87 63.7955 Q1194.89 63.2217 1194.89 60.5164 L1194.89 16.8628 Q1194.89 13.7476 1193.79 12.9688 Q1192.72 12.19 1188.37 12.19 L1188.37 9.56672 L1200.43 8.66495 L1200.43 37.8493 L1200.51 37.8493 Q1201.86 34.8161 1204.89 32.3158 Q1207.93 29.8154 1212.6 29.8154 Q1218.91 29.8154 1221.41 32.9306 Q1223.26 35.0211 1223.63 37.3574 Q1224.04 39.6938 1224.04 45.7603 L1224.04 61.7871 Q1224.12 63.5496 1225.47 63.9595 Q1226.82 64.3284 1230.59 64.3284 L1230.59 66.9107 Q1222.03 66.6648 1221.17 66.6648 Q1220.51 66.6648 1211.7 66.9107 L1211.7 64.3284 Q1216.17 64.3284 1217.19 63.7955 Q1218.26 63.2217 1218.26 60.5164 L1218.26 40.9645 Q1218.26 36.7016 1216.94 34.2013 Q1215.63 31.6599 1212.03 31.6599 Q1207.68 31.6599 1204.2 35.308 Q1200.71 38.956 1200.71 45.1044 L1200.71 60.5164 Q1200.71 63.2217 1201.74 63.7955 Q1202.8 64.3284 1207.23 64.3284 L1207.23 66.9107 Q1198.66 66.6648 1197.84 66.6648 Q1197.19 66.6648 1188.37 66.9107 Z\" fill=\"#000000\" fill-rule=\"evenodd\" fill-opacity=\"1\" /><path clip-path=\"url(#clip700)\" d=\"M 0 0 M1270.73 59.8606 Q1262.12 50.9659 1262.12 38.2182 Q1262.12 25.4296 1270.81 16.5759 Q1279.5 7.7222 1291.31 7.7222 Q1294.26 7.7222 1296.76 8.41902 Q1299.3 9.07485 1301.31 10.4275 Q1303.32 11.7392 1304.34 12.6409 Q1305.41 13.5017 1306.84 14.9363 L1311.06 8.74693 Q1311.72 7.7222 1312.38 7.7222 Q1313.07 7.7222 1313.2 8.13209 Q1313.32 8.501 1313.32 9.73068 L1313.32 29.6515 Q1313.32 31.0041 1313.16 31.332 Q1312.99 31.6599 1311.97 31.6599 Q1311.15 31.6599 1310.98 31.414 Q1310.82 31.1681 1310.61 30.2253 Q1309.34 21.1667 1304.26 15.7561 Q1299.22 10.3455 1292.33 10.3455 Q1290.32 10.3455 1288.07 10.7964 Q1285.86 11.2473 1282.58 12.9688 Q1279.34 14.6904 1276.84 17.5186 Q1274.38 20.3059 1272.58 25.7165 Q1270.77 31.0861 1270.77 38.2182 Q1270.77 45.2684 1272.58 50.679 Q1274.38 56.0895 1276.88 58.9178 Q1279.42 61.7051 1282.7 63.4676 Q1286.02 65.2302 1288.36 65.722 Q1290.73 66.1729 1292.82 66.1729 Q1294.26 66.1729 1295.94 65.886 Q1297.62 65.5581 1300.12 64.6563 Q1302.66 63.7136 1304.26 61.5001 Q1305.86 59.2867 1305.86 56.0076 L1305.86 50.638 Q1305.86 48.1376 1304.63 47.3588 Q1303.4 46.58 1298.03 46.58 L1295.37 46.58 L1295.37 43.9977 Q1298.4 44.2436 1308.85 44.2436 Q1309.79 44.2436 1319.1 43.9977 L1319.1 46.58 Q1315.08 46.58 1314.18 47.1949 Q1313.32 47.7687 1313.32 50.2691 L1313.32 64.9022 Q1313.32 66.8287 1312.58 66.8287 Q1311.93 66.8287 1309.96 64.9432 Q1308.03 63.0577 1307.17 61.6231 Q1305.16 65.1482 1300.78 66.9517 Q1296.43 68.7552 1291.47 68.7552 Q1279.38 68.7552 1270.73 59.8606 Z\" fill=\"#000000\" fill-rule=\"evenodd\" fill-opacity=\"1\" /><path clip-path=\"url(#clip700)\" d=\"M 0 0 M1327.27 66.9107 L1327.27 64.3284 Q1331.74 64.3284 1332.76 63.7955 Q1333.79 63.2217 1333.79 60.5164 L1333.79 37.9313 Q1333.79 34.8161 1332.72 34.0783 Q1331.69 33.3405 1327.6 33.3405 L1327.6 30.7172 L1339.32 29.8154 L1339.32 60.5984 Q1339.32 63.0987 1340.22 63.7136 Q1341.12 64.3284 1345.22 64.3284 L1345.22 66.9107 Q1336.65 66.6648 1336.49 66.6648 Q1335.34 66.6648 1327.27 66.9107 M1330.79 15.1822 Q1330.79 13.5017 1332.06 12.149 Q1333.38 10.7554 1335.22 10.7554 Q1337.06 10.7554 1338.38 12.0261 Q1339.69 13.2558 1339.69 15.2232 Q1339.69 17.1497 1338.38 18.4204 Q1337.06 19.6501 1335.22 19.6501 Q1333.29 19.6501 1332.02 18.2974 Q1330.79 16.9448 1330.79 15.1822 Z\" fill=\"#000000\" fill-rule=\"evenodd\" fill-opacity=\"1\" /><path clip-path=\"url(#clip700)\" d=\"M 0 0 M1350.28 33.3405 L1350.28 30.7172 Q1354.05 30.9631 1358.44 30.9631 Q1360.04 30.9631 1367.58 30.7172 L1367.58 33.3405 Q1362.78 33.3405 1362.78 35.5129 Q1362.78 35.8408 1363.28 36.9476 L1372.7 60.3524 L1381.27 38.956 Q1381.76 37.5214 1381.76 36.9476 Q1381.76 35.5129 1380.78 34.4882 Q1379.83 33.4225 1377.74 33.3405 L1377.74 30.7172 Q1382.01 30.9631 1385.04 30.9631 Q1388.48 30.9631 1391.31 30.7172 L1391.31 33.3405 Q1388.81 33.3405 1387.05 34.4882 Q1385.29 35.5949 1384.71 36.5787 Q1384.18 37.5214 1383.61 38.956 L1372.62 66.2549 Q1371.97 67.8535 1370.86 67.8535 Q1370.12 67.8535 1369.79 67.5256 Q1369.51 67.2386 1369.1 66.2549 L1357 36.4557 Q1356.18 34.3652 1355.12 33.8734 Q1354.05 33.3405 1350.28 33.3405 Z\" fill=\"#000000\" fill-rule=\"evenodd\" fill-opacity=\"1\" /><path clip-path=\"url(#clip700)\" d=\"M 0 0 M1393.2 48.4246 Q1393.2 40.5136 1398.28 34.8981 Q1403.37 29.2826 1410.66 29.2826 Q1418.04 29.2826 1421.85 34.0783 Q1425.71 38.8741 1425.71 45.7603 Q1425.71 47.0309 1425.38 47.2769 Q1425.05 47.5228 1423.62 47.5228 L1400.17 47.5228 Q1400.17 56.0895 1402.71 60.1065 Q1406.24 65.722 1412.18 65.722 Q1413 65.722 1413.98 65.5581 Q1414.97 65.3941 1416.98 64.6973 Q1418.98 63.9595 1420.75 62.033 Q1422.51 60.1065 1423.53 57.0733 Q1423.78 55.8846 1424.6 55.9256 Q1425.71 55.9256 1425.71 56.9093 Q1425.71 57.6471 1424.89 59.3277 Q1424.11 60.9673 1422.59 62.9348 Q1421.07 64.9022 1418.12 66.3779 Q1415.21 67.8535 1411.69 67.8535 Q1404.31 67.8535 1398.74 62.2789 Q1393.2 56.6634 1393.2 48.4246 M1400.25 45.7603 L1420.17 45.7603 Q1420.17 43.9977 1419.84 42.0302 Q1419.56 40.0627 1418.66 37.3574 Q1417.8 34.6112 1415.75 32.8896 Q1413.7 31.1681 1410.66 31.1681 Q1409.31 31.1681 1407.83 31.7419 Q1406.4 32.3158 1404.64 33.7094 Q1402.88 35.103 1401.65 38.2592 Q1400.42 41.4154 1400.25 45.7603 Z\" fill=\"#000000\" fill-rule=\"evenodd\" fill-opacity=\"1\" /><path clip-path=\"url(#clip700)\" d=\"M 0 0 M1430.1 66.9107 L1430.1 64.3284 Q1434.56 64.3284 1435.59 63.7955 Q1436.61 63.2217 1436.61 60.5164 L1436.61 38.0133 Q1436.61 34.8981 1435.51 34.1193 Q1434.44 33.3405 1430.1 33.3405 L1430.1 30.7172 L1441.9 29.8154 L1441.9 38.6281 Q1445.84 29.8154 1454.32 29.8154 Q1460.63 29.8154 1463.13 32.9306 Q1464.98 35.0211 1465.35 37.3574 Q1465.76 39.6938 1465.76 45.7603 L1465.76 61.7871 Q1465.84 63.5496 1467.19 63.9595 Q1468.54 64.3284 1472.32 64.3284 L1472.32 66.9107 Q1463.75 66.6648 1462.89 66.6648 Q1462.23 66.6648 1453.42 66.9107 L1453.42 64.3284 Q1457.89 64.3284 1458.91 63.7955 Q1459.98 63.2217 1459.98 60.5164 L1459.98 40.9645 Q1459.98 36.7016 1458.67 34.2013 Q1457.35 31.6599 1453.75 31.6599 Q1449.4 31.6599 1445.92 35.308 Q1442.43 38.956 1442.43 45.1044 L1442.43 60.5164 Q1442.43 63.2217 1443.46 63.7955 Q1444.52 64.3284 1448.95 64.3284 L1448.95 66.9107 Q1440.38 66.6648 1439.56 66.6648 Q1438.91 66.6648 1430.1 66.9107 Z\" fill=\"#000000\" fill-rule=\"evenodd\" fill-opacity=\"1\" /><path clip-path=\"url(#clip700)\" d=\"M 0 0 M1503.85 66.9107 L1503.85 64.3284 L1505.85 64.3284 Q1510.4 64.3284 1511.43 63.5906 Q1512.49 62.8118 1512.49 60.3524 L1512.49 16.125 Q1512.49 13.7066 1511.43 12.9688 Q1510.36 12.19 1505.85 12.19 L1503.85 12.19 L1503.85 9.56672 Q1506.8 9.81265 1516.59 9.81265 Q1527.66 9.81265 1530.69 9.56672 L1530.69 12.19 L1527.91 12.19 Q1524.05 12.19 1522.29 12.6819 Q1520.53 13.1738 1520.24 13.8706 Q1519.95 14.5264 1519.95 16.207 L1519.95 60.9673 Q1519.95 63.1397 1520.57 63.7545 Q1521.22 64.3284 1524.05 64.3284 L1530.94 64.3284 Q1535.2 64.3284 1538.28 63.0577 Q1541.35 61.7871 1542.99 60.1885 Q1544.63 58.5899 1545.7 55.5977 Q1546.8 52.5645 1547.13 50.638 Q1547.5 48.7115 1547.83 45.2684 L1549.92 45.2684 L1547.58 66.9107 L1503.85 66.9107 Z\" fill=\"#000000\" fill-rule=\"evenodd\" fill-opacity=\"1\" /><path clip-path=\"url(#clip700)\" d=\"M 0 0 M1561.33 62.4019 Q1555.8 56.9093 1555.8 48.9574 Q1555.8 40.9645 1561.21 35.144 Q1566.66 29.2826 1574.45 29.2826 Q1582.07 29.2826 1587.52 35.103 Q1593.02 40.8825 1593.02 48.9574 Q1593.02 56.8683 1587.48 62.3609 Q1581.99 67.8535 1574.37 67.8535 Q1566.91 67.8535 1561.33 62.4019 M1562.77 48.2606 Q1562.77 56.4175 1564.9 60.1065 Q1568.18 65.722 1574.45 65.722 Q1577.56 65.722 1580.15 64.0415 Q1582.77 62.3609 1584.2 59.5326 Q1586.05 55.8436 1586.05 48.2606 Q1586.05 40.1857 1583.84 36.6196 Q1580.56 31.1681 1574.37 31.1681 Q1571.66 31.1681 1569 32.6027 Q1566.37 33.9963 1564.78 36.7836 Q1562.77 40.4726 1562.77 48.2606 Z\" fill=\"#000000\" fill-rule=\"evenodd\" fill-opacity=\"1\" /><path clip-path=\"url(#clip700)\" d=\"M 0 0 M1596.99 33.3405 L1596.99 30.7172 Q1601.54 30.9631 1604.77 30.9631 Q1606.37 30.9631 1613.96 30.7172 L1613.96 33.3405 Q1609 33.3405 1609 35.5949 Q1609 36.0868 1609.41 37.1115 L1617.4 59.5326 L1624.61 39.202 Q1623.1 35.103 1622.69 34.6112 Q1621.66 33.3405 1617.4 33.3405 L1617.4 30.7172 Q1621.17 30.9631 1624.86 30.9631 Q1626.29 30.9631 1633.59 30.7172 L1633.59 33.3405 Q1628.63 33.3405 1628.63 35.5949 Q1628.63 35.9228 1629.04 37.1935 L1637.36 60.5984 L1644.98 39.12 Q1645.39 38.0133 1645.44 37.3574 Q1645.44 35.5129 1644.12 34.4882 Q1642.81 33.4225 1640.56 33.3405 L1640.56 30.7172 Q1645.35 30.9631 1648.35 30.9631 Q1651.71 30.9631 1654.49 30.7172 L1654.49 33.3405 Q1649.29 33.5045 1647.44 38.7101 L1637.61 66.2549 Q1636.66 67.7715 1635.93 67.8535 Q1634.82 67.8535 1634.25 66.2549 L1625.68 42.3991 L1617.19 66.1729 Q1616.87 67.1976 1616.58 67.5256 Q1616.29 67.8535 1615.51 67.8535 Q1614.78 67.8535 1614.45 67.4026 Q1614.12 66.9927 1613.75 65.968 L1603.18 36.2507 Q1602.44 34.3242 1601.33 33.8324 Q1600.27 33.3405 1596.99 33.3405 Z\" fill=\"#000000\" fill-rule=\"evenodd\" fill-opacity=\"1\" /><path clip-path=\"url(#clip700)\" d=\"M 0 0 M1722.61 35.103 Q1722.61 37.4394 1721.18 38.8331 Q1719.79 40.2267 1718.02 40.2267 Q1716.47 40.2267 1715.65 39.3249 Q1714.83 38.4232 1714.83 37.2755 Q1714.83 36.7836 1715.03 36.1688 Q1715.24 35.5129 1715.69 34.7341 Q1716.18 33.9553 1717.2 33.3815 Q1718.23 32.8076 1719.62 32.7257 Q1719.33 32.4387 1719.25 32.3977 Q1718.64 31.9059 1717.49 31.7419 Q1717.33 31.6599 1716.75 31.6599 Q1713.92 31.6599 1711.05 33.7504 Q1708.23 35.7999 1704.74 39.6938 Q1700.36 44.2436 1697.53 45.9242 Q1709.95 47.5638 1709.95 54.7369 Q1709.95 55.9256 1709.62 57.3602 Q1708.96 60.0655 1708.96 62.033 Q1708.96 65.968 1711.63 65.968 Q1714.21 65.968 1715.85 63.3447 Q1717.53 60.7213 1718.92 55.5977 Q1719.13 54.6549 1719.33 54.368 Q1719.54 54.0811 1720.11 54.0811 Q1721.14 54.0811 1721.14 54.9009 Q1720.2 59.6966 1718.1 63.3856 Q1715.44 67.8535 1711.46 67.8535 Q1708.14 67.8535 1705.93 65.5581 Q1703.76 63.2217 1703.76 59.5326 Q1703.76 58.6309 1704.09 56.5814 Q1704.33 55.7616 1704.33 54.8189 Q1704.33 52.8924 1703.27 51.4578 Q1702.2 49.9821 1700.48 49.2443 Q1698.76 48.5065 1697.32 48.1786 Q1695.93 47.8097 1694.58 47.6867 Q1690.48 65.0252 1689.9 66.0909 Q1689.54 66.8287 1688.72 67.3206 Q1687.9 67.8535 1687.03 67.8535 Q1686.22 67.8535 1685.4 67.2796 Q1684.62 66.7468 1684.62 65.4761 Q1684.62 64.8203 1684.94 63.6316 L1697.12 15.2642 L1697.36 13.6247 Q1697.36 13.1328 1697.16 12.8869 Q1697 12.5999 1696.01 12.395 Q1695.07 12.19 1693.18 12.19 Q1692.4 12.19 1692.04 12.149 Q1691.71 12.1081 1691.42 11.9031 Q1691.13 11.6572 1691.13 11.1653 Q1691.13 10.4685 1691.42 10.0996 Q1691.75 9.68969 1691.99 9.60771 Q1692.24 9.52573 1692.73 9.48474 Q1693.43 9.44375 1695.77 9.2388 Q1698.1 8.99287 1700.11 8.82891 Q1702.12 8.66495 1702.98 8.66495 Q1703.47 8.66495 1703.72 8.91089 Q1704 9.11584 1704.05 9.36177 L1704.09 9.56672 L1695.36 44.9815 Q1698.96 43.5468 1704.66 37.1935 Q1711.26 29.8154 1716.92 29.8154 Q1719.58 29.8154 1721.1 31.455 Q1722.61 33.0536 1722.61 35.103 Z\" fill=\"#000000\" fill-rule=\"evenodd\" fill-opacity=\"1\" /><path clip-path=\"url(#clip700)\" d=\"M 0 0 M1731.2 72.2728 Q1731.2 63.6363 1733.38 58.9307 Q1736.42 51.9298 1743.6 51.9298 Q1745.12 51.9298 1746.7 52.3602 Q1748.3 52.7619 1750.31 54.34 Q1752.35 55.918 1753.58 58.5004 Q1755.93 63.4929 1755.93 72.2728 Q1755.93 80.8518 1753.75 85.5287 Q1750.57 92.3575 1743.54 92.3575 Q1740.9 92.3575 1738.2 91.009 Q1735.53 89.6604 1733.84 86.4182 Q1731.2 81.5691 1731.2 72.2728 M1736.08 71.5554 Q1736.08 80.4214 1736.71 83.9506 Q1737.43 87.7667 1739.38 89.4309 Q1741.36 91.0663 1743.54 91.0663 Q1745.89 91.0663 1747.84 89.3161 Q1749.82 87.5372 1750.43 83.7211 Q1751.09 79.9623 1751.06 71.5554 Q1751.06 63.3781 1750.48 60.1071 Q1749.71 56.291 1747.64 54.7703 Q1745.61 53.2209 1743.54 53.2209 Q1742.76 53.2209 1741.93 53.4505 Q1741.13 53.68 1739.95 54.34 Q1738.78 54.9999 1737.86 56.6354 Q1736.97 58.2708 1736.54 60.7384 Q1736.08 63.9232 1736.08 71.5554 Z\" fill=\"#000000\" fill-rule=\"evenodd\" fill-opacity=\"1\" /><polyline clip-path=\"url(#clip703)\" style=\"stroke:#009af9; stroke-width:12; stroke-opacity:1; fill:none\" points=\"\n",
       "  210.409,979.66 231.418,912.267 252.428,891.213 273.438,828.131 294.447,810.833 315.457,794.216 336.466,735.236 357.476,721.538 378.485,708.288 399.495,652.46 \n",
       "  420.505,641.571 441.514,630.978 462.524,620.669 483.533,567.63 504.543,559.236 525.553,551.027 546.562,499.996 567.572,493.439 588.581,486.999 609.591,480.674 \n",
       "  630.6,474.461 651.61,425.354 672.62,420.547 693.629,415.806 714.639,411.131 735.648,406.52 756.658,358.969 777.668,355.599 798.677,352.263 819.687,348.96 \n",
       "  840.696,345.691 861.706,342.454 882.715,339.25 903.725,336.078 924.735,289.934 945.744,287.858 966.754,285.795 987.763,283.746 1008.77,281.71 1029.78,279.688 \n",
       "  1050.79,277.679 1071.8,275.683 1092.81,273.7 1113.82,271.729 1134.83,269.772 1155.84,224.825 1176.85,223.857 1197.86,222.892 1218.87,221.931 1239.88,220.973 \n",
       "  1260.89,220.018 1281.9,219.066 1302.91,218.117 1323.92,217.171 1344.93,216.228 1365.94,215.288 1386.95,214.351 1407.95,213.417 1428.96,212.486 1449.97,211.558 \n",
       "  1470.98,210.633 1491.99,209.711 1513,208.792 1534.01,207.876 1555.02,206.963 1576.03,206.053 1597.04,205.146 1618.05,204.241 1639.06,203.339 1660.07,202.441 \n",
       "  1681.08,201.545 1702.09,200.652 1723.1,199.762 1744.11,155.871 1765.12,155.871 1786.13,155.871 1807.14,155.871 1828.15,155.871 1849.16,155.871 1870.17,155.871 \n",
       "  1891.18,155.871 1912.18,155.871 1933.19,155.871 1954.2,155.871 1975.21,155.871 1996.22,155.871 2017.23,155.871 2038.24,155.871 2059.25,155.871 2080.26,155.871 \n",
       "  2101.27,155.871 2122.28,155.871 2143.29,155.871 2164.3,155.871 2185.31,155.871 2206.32,155.871 2227.33,155.871 2248.34,155.871 2269.35,155.871 2290.36,155.871 \n",
       "  \n",
       "  \"/>\n",
       "<polyline clip-path=\"url(#clip703)\" style=\"stroke:#e26f46; stroke-width:12; stroke-opacity:1; fill:none\" points=\"\n",
       "  210.409,1386.27 231.418,1332.01 252.428,1282.69 273.438,1233.37 294.447,1188.98 315.457,1144.59 336.466,1100.2 357.476,1060.74 378.485,1021.29 399.495,981.83 \n",
       "  420.505,947.305 441.514,912.78 462.524,878.255 483.533,843.729 504.543,814.136 525.553,784.543 546.562,754.95 567.572,730.29 588.581,705.629 609.591,680.968 \n",
       "  630.6,656.307 651.61,631.646 672.62,611.918 693.629,592.189 714.639,572.46 735.648,552.732 756.658,533.003 777.668,518.206 798.677,503.41 819.687,488.613 \n",
       "  840.696,473.817 861.706,459.02 882.715,444.224 903.725,429.427 924.735,414.631 945.744,404.767 966.754,394.902 987.763,385.038 1008.77,375.174 1029.78,365.309 \n",
       "  1050.79,355.445 1071.8,345.58 1092.81,335.716 1113.82,325.852 1134.83,315.987 1155.84,306.123 1176.85,301.191 1197.86,296.259 1218.87,291.327 1239.88,286.394 \n",
       "  1260.89,281.462 1281.9,276.53 1302.91,271.598 1323.92,266.666 1344.93,261.734 1365.94,256.801 1386.95,251.869 1407.95,246.937 1428.96,242.005 1449.97,237.073 \n",
       "  1470.98,232.141 1491.99,227.208 1513,222.276 1534.01,217.344 1555.02,212.412 1576.03,207.48 1597.04,202.548 1618.05,197.615 1639.06,192.683 1660.07,187.751 \n",
       "  1681.08,182.819 1702.09,177.887 1723.1,172.955 1744.11,168.022 1765.12,168.022 1786.13,168.022 1807.14,168.022 1828.15,168.022 1849.16,168.022 1870.17,168.022 \n",
       "  1891.18,168.022 1912.18,168.022 1933.19,168.022 1954.2,168.022 1975.21,168.022 1996.22,168.022 2017.23,168.022 2038.24,168.022 2059.25,168.022 2080.26,168.022 \n",
       "  2101.27,168.022 2122.28,168.022 2143.29,168.022 2164.3,168.022 2185.31,168.022 2206.32,168.022 2227.33,168.022 2248.34,168.022 2269.35,168.022 2290.36,168.022 \n",
       "  \n",
       "  \"/>\n",
       "<path clip-path=\"url(#clip700)\" d=\"\n",
       "M1757.6 343.873 L2279.26 343.873 L2279.26 162.433 L1757.6 162.433  Z\n",
       "  \" fill=\"#ffffff\" fill-rule=\"evenodd\" fill-opacity=\"1\"/>\n",
       "<polyline clip-path=\"url(#clip700)\" style=\"stroke:#000000; stroke-width:4; stroke-opacity:1; fill:none\" points=\"\n",
       "  1757.6,343.873 2279.26,343.873 2279.26,162.433 1757.6,162.433 1757.6,343.873 \n",
       "  \"/>\n",
       "<polyline clip-path=\"url(#clip700)\" style=\"stroke:#009af9; stroke-width:4; stroke-opacity:1; fill:none\" points=\"\n",
       "  1782.1,222.913 1929.08,222.913 \n",
       "  \"/>\n",
       "<path clip-path=\"url(#clip700)\" d=\"M 0 0 M1981.45 208.295 L1981.45 213.226 Q1979.09 211.027 1976.41 209.939 Q1973.74 208.851 1970.73 208.851 Q1964.81 208.851 1961.66 212.485 Q1958.51 216.096 1958.51 222.948 Q1958.51 229.777 1961.66 233.411 Q1964.81 237.022 1970.73 237.022 Q1973.74 237.022 1976.41 235.934 Q1979.09 234.846 1981.45 232.647 L1981.45 237.531 Q1979 239.198 1976.24 240.031 Q1973.51 240.865 1970.46 240.865 Q1962.61 240.865 1958.1 236.073 Q1953.58 231.258 1953.58 222.948 Q1953.58 214.615 1958.1 209.823 Q1962.61 205.008 1970.46 205.008 Q1973.56 205.008 1976.29 205.842 Q1979.04 206.652 1981.45 208.295 Z\" fill=\"#000000\" fill-rule=\"evenodd\" fill-opacity=\"1\" /><path clip-path=\"url(#clip700)\" d=\"M 0 0 M1995.97 217.254 Q1992.54 217.254 1990.55 219.939 Q1988.56 222.601 1988.56 227.254 Q1988.56 231.906 1990.53 234.592 Q1992.52 237.254 1995.97 237.254 Q1999.37 237.254 2001.36 234.568 Q2003.35 231.883 2003.35 227.254 Q2003.35 222.647 2001.36 219.962 Q1999.37 217.254 1995.97 217.254 M1995.97 213.643 Q2001.52 213.643 2004.69 217.254 Q2007.86 220.865 2007.86 227.254 Q2007.86 233.619 2004.69 237.254 Q2001.52 240.865 1995.97 240.865 Q1990.39 240.865 1987.22 237.254 Q1984.07 233.619 1984.07 227.254 Q1984.07 220.865 1987.22 217.254 Q1990.39 213.643 1995.97 213.643 Z\" fill=\"#000000\" fill-rule=\"evenodd\" fill-opacity=\"1\" /><path clip-path=\"url(#clip700)\" d=\"M 0 0 M2033.88 224.545 L2033.88 240.193 L2029.62 240.193 L2029.62 224.684 Q2029.62 221.004 2028.19 219.175 Q2026.75 217.346 2023.88 217.346 Q2020.43 217.346 2018.44 219.545 Q2016.45 221.744 2016.45 225.541 L2016.45 240.193 L2012.17 240.193 L2012.17 214.268 L2016.45 214.268 L2016.45 218.295 Q2017.98 215.957 2020.04 214.8 Q2022.12 213.643 2024.83 213.643 Q2029.3 213.643 2031.59 216.42 Q2033.88 219.175 2033.88 224.545 Z\" fill=\"#000000\" fill-rule=\"evenodd\" fill-opacity=\"1\" /><path clip-path=\"url(#clip700)\" d=\"M 0 0 M2054.88 215.032 L2054.88 219.059 Q2053.07 218.133 2051.13 217.67 Q2049.18 217.207 2047.1 217.207 Q2043.93 217.207 2042.33 218.18 Q2040.76 219.152 2040.76 221.096 Q2040.76 222.578 2041.89 223.434 Q2043.03 224.268 2046.45 225.031 L2047.91 225.356 Q2052.45 226.328 2054.35 228.11 Q2056.27 229.869 2056.27 233.041 Q2056.27 236.652 2053.4 238.758 Q2050.55 240.865 2045.55 240.865 Q2043.47 240.865 2041.2 240.448 Q2038.95 240.055 2036.45 239.244 L2036.45 234.846 Q2038.81 236.073 2041.1 236.698 Q2043.4 237.3 2045.64 237.3 Q2048.65 237.3 2050.27 236.281 Q2051.89 235.24 2051.89 233.365 Q2051.89 231.629 2050.71 230.703 Q2049.55 229.777 2045.6 228.92 L2044.11 228.573 Q2040.16 227.74 2038.4 226.027 Q2036.64 224.291 2036.64 221.281 Q2036.64 217.624 2039.23 215.633 Q2041.82 213.643 2046.59 213.643 Q2048.95 213.643 2051.03 213.99 Q2053.12 214.337 2054.88 215.032 Z\" fill=\"#000000\" fill-rule=\"evenodd\" fill-opacity=\"1\" /><path clip-path=\"url(#clip700)\" d=\"M 0 0 M2060.29 229.962 L2060.29 214.268 L2064.55 214.268 L2064.55 229.8 Q2064.55 233.481 2065.99 235.332 Q2067.42 237.161 2070.29 237.161 Q2073.74 237.161 2075.73 234.962 Q2077.75 232.763 2077.75 228.967 L2077.75 214.268 L2082.01 214.268 L2082.01 240.193 L2077.75 240.193 L2077.75 236.212 Q2076.2 238.573 2074.14 239.73 Q2072.1 240.865 2069.39 240.865 Q2064.92 240.865 2062.61 238.087 Q2060.29 235.309 2060.29 229.962 M2071.01 213.643 L2071.01 213.643 Z\" fill=\"#000000\" fill-rule=\"evenodd\" fill-opacity=\"1\" /><path clip-path=\"url(#clip700)\" d=\"M 0 0 M2106.66 219.244 Q2108.26 216.374 2110.48 215.008 Q2112.7 213.643 2115.71 213.643 Q2119.76 213.643 2121.96 216.49 Q2124.16 219.314 2124.16 224.545 L2124.16 240.193 L2119.88 240.193 L2119.88 224.684 Q2119.88 220.957 2118.56 219.152 Q2117.24 217.346 2114.53 217.346 Q2111.22 217.346 2109.3 219.545 Q2107.38 221.744 2107.38 225.541 L2107.38 240.193 L2103.09 240.193 L2103.09 224.684 Q2103.09 220.934 2101.78 219.152 Q2100.46 217.346 2097.7 217.346 Q2094.44 217.346 2092.52 219.569 Q2090.59 221.768 2090.59 225.541 L2090.59 240.193 L2086.31 240.193 L2086.31 214.268 L2090.59 214.268 L2090.59 218.295 Q2092.05 215.911 2094.09 214.777 Q2096.13 213.643 2098.93 213.643 Q2101.75 213.643 2103.72 215.078 Q2105.71 216.513 2106.66 219.244 Z\" fill=\"#000000\" fill-rule=\"evenodd\" fill-opacity=\"1\" /><path clip-path=\"url(#clip700)\" d=\"M 0 0 M2132.75 236.305 L2132.75 250.054 L2128.47 250.054 L2128.47 214.268 L2132.75 214.268 L2132.75 218.203 Q2134.09 215.888 2136.13 214.777 Q2138.19 213.643 2141.03 213.643 Q2145.76 213.643 2148.7 217.393 Q2151.66 221.143 2151.66 227.254 Q2151.66 233.365 2148.7 237.115 Q2145.76 240.865 2141.03 240.865 Q2138.19 240.865 2136.13 239.754 Q2134.09 238.619 2132.75 236.305 M2147.24 227.254 Q2147.24 222.555 2145.29 219.893 Q2143.37 217.207 2139.99 217.207 Q2136.61 217.207 2134.67 219.893 Q2132.75 222.555 2132.75 227.254 Q2132.75 231.953 2134.67 234.638 Q2136.61 237.3 2139.99 237.3 Q2143.37 237.3 2145.29 234.638 Q2147.24 231.953 2147.24 227.254 Z\" fill=\"#000000\" fill-rule=\"evenodd\" fill-opacity=\"1\" /><path clip-path=\"url(#clip700)\" d=\"M 0 0 M2160.34 206.907 L2160.34 214.268 L2169.11 214.268 L2169.11 217.578 L2160.34 217.578 L2160.34 231.652 Q2160.34 234.823 2161.2 235.726 Q2162.08 236.629 2164.74 236.629 L2169.11 236.629 L2169.11 240.193 L2164.74 240.193 Q2159.81 240.193 2157.93 238.365 Q2156.06 236.513 2156.06 231.652 L2156.06 217.578 L2152.93 217.578 L2152.93 214.268 L2156.06 214.268 L2156.06 206.907 L2160.34 206.907 Z\" fill=\"#000000\" fill-rule=\"evenodd\" fill-opacity=\"1\" /><path clip-path=\"url(#clip700)\" d=\"M 0 0 M2173.58 214.268 L2177.84 214.268 L2177.84 240.193 L2173.58 240.193 L2173.58 214.268 M2173.58 204.175 L2177.84 204.175 L2177.84 209.569 L2173.58 209.569 L2173.58 204.175 Z\" fill=\"#000000\" fill-rule=\"evenodd\" fill-opacity=\"1\" /><path clip-path=\"url(#clip700)\" d=\"M 0 0 M2192.35 217.254 Q2188.93 217.254 2186.94 219.939 Q2184.95 222.601 2184.95 227.254 Q2184.95 231.906 2186.91 234.592 Q2188.9 237.254 2192.35 237.254 Q2195.76 237.254 2197.75 234.568 Q2199.74 231.883 2199.74 227.254 Q2199.74 222.647 2197.75 219.962 Q2195.76 217.254 2192.35 217.254 M2192.35 213.643 Q2197.91 213.643 2201.08 217.254 Q2204.25 220.865 2204.25 227.254 Q2204.25 233.619 2201.08 237.254 Q2197.91 240.865 2192.35 240.865 Q2186.77 240.865 2183.6 237.254 Q2180.46 233.619 2180.46 227.254 Q2180.46 220.865 2183.6 217.254 Q2186.77 213.643 2192.35 213.643 Z\" fill=\"#000000\" fill-rule=\"evenodd\" fill-opacity=\"1\" /><path clip-path=\"url(#clip700)\" d=\"M 0 0 M2230.27 224.545 L2230.27 240.193 L2226.01 240.193 L2226.01 224.684 Q2226.01 221.004 2224.58 219.175 Q2223.14 217.346 2220.27 217.346 Q2216.82 217.346 2214.83 219.545 Q2212.84 221.744 2212.84 225.541 L2212.84 240.193 L2208.56 240.193 L2208.56 214.268 L2212.84 214.268 L2212.84 218.295 Q2214.37 215.957 2216.43 214.8 Q2218.51 213.643 2221.22 213.643 Q2225.69 213.643 2227.98 216.42 Q2230.27 219.175 2230.27 224.545 Z\" fill=\"#000000\" fill-rule=\"evenodd\" fill-opacity=\"1\" /><polyline clip-path=\"url(#clip700)\" style=\"stroke:#e26f46; stroke-width:4; stroke-opacity:1; fill:none\" points=\"\n",
       "  1782.1,283.393 1929.08,283.393 \n",
       "  \"/>\n",
       "<path clip-path=\"url(#clip700)\" d=\"M 0 0 M1981.45 268.775 L1981.45 273.706 Q1979.09 271.507 1976.41 270.419 Q1973.74 269.331 1970.73 269.331 Q1964.81 269.331 1961.66 272.965 Q1958.51 276.576 1958.51 283.428 Q1958.51 290.257 1961.66 293.891 Q1964.81 297.502 1970.73 297.502 Q1973.74 297.502 1976.41 296.414 Q1979.09 295.326 1981.45 293.127 L1981.45 298.011 Q1979 299.678 1976.24 300.511 Q1973.51 301.345 1970.46 301.345 Q1962.61 301.345 1958.1 296.553 Q1953.58 291.738 1953.58 283.428 Q1953.58 275.095 1958.1 270.303 Q1962.61 265.488 1970.46 265.488 Q1973.56 265.488 1976.29 266.322 Q1979.04 267.132 1981.45 268.775 Z\" fill=\"#000000\" fill-rule=\"evenodd\" fill-opacity=\"1\" /><path clip-path=\"url(#clip700)\" d=\"M 0 0 M1997.7 287.641 Q1992.54 287.641 1990.55 288.822 Q1988.56 290.002 1988.56 292.849 Q1988.56 295.118 1990.04 296.46 Q1991.54 297.78 1994.11 297.78 Q1997.66 297.78 1999.79 295.28 Q2001.94 292.757 2001.94 288.59 L2001.94 287.641 L1997.7 287.641 M2006.2 285.882 L2006.2 300.673 L2001.94 300.673 L2001.94 296.738 Q2000.48 299.099 1998.3 300.234 Q1996.13 301.345 1992.98 301.345 Q1989 301.345 1986.64 299.123 Q1984.3 296.877 1984.3 293.127 Q1984.3 288.752 1987.22 286.53 Q1990.16 284.308 1995.97 284.308 L2001.94 284.308 L2001.94 283.891 Q2001.94 280.951 1999.99 279.354 Q1998.07 277.734 1994.58 277.734 Q1992.35 277.734 1990.25 278.266 Q1988.14 278.799 1986.2 279.863 L1986.2 275.928 Q1988.54 275.025 1990.73 274.586 Q1992.93 274.123 1995.02 274.123 Q2000.64 274.123 2003.42 277.039 Q2006.2 279.956 2006.2 285.882 Z\" fill=\"#000000\" fill-rule=\"evenodd\" fill-opacity=\"1\" /><path clip-path=\"url(#clip700)\" d=\"M 0 0 M2014.79 296.785 L2014.79 310.534 L2010.5 310.534 L2010.5 274.748 L2014.79 274.748 L2014.79 278.683 Q2016.13 276.368 2018.16 275.257 Q2020.22 274.123 2023.07 274.123 Q2027.79 274.123 2030.73 277.873 Q2033.7 281.623 2033.7 287.734 Q2033.7 293.845 2030.73 297.595 Q2027.79 301.345 2023.07 301.345 Q2020.22 301.345 2018.16 300.234 Q2016.13 299.099 2014.79 296.785 M2029.28 287.734 Q2029.28 283.035 2027.33 280.373 Q2025.41 277.687 2022.03 277.687 Q2018.65 277.687 2016.71 280.373 Q2014.79 283.035 2014.79 287.734 Q2014.79 292.433 2016.71 295.118 Q2018.65 297.78 2022.03 297.78 Q2025.41 297.78 2027.33 295.118 Q2029.28 292.433 2029.28 287.734 Z\" fill=\"#000000\" fill-rule=\"evenodd\" fill-opacity=\"1\" /><path clip-path=\"url(#clip700)\" d=\"M 0 0 M2038.16 274.748 L2042.42 274.748 L2042.42 300.673 L2038.16 300.673 L2038.16 274.748 M2038.16 264.655 L2042.42 264.655 L2042.42 270.049 L2038.16 270.049 L2038.16 264.655 Z\" fill=\"#000000\" fill-rule=\"evenodd\" fill-opacity=\"1\" /><path clip-path=\"url(#clip700)\" d=\"M 0 0 M2051.1 267.387 L2051.1 274.748 L2059.88 274.748 L2059.88 278.058 L2051.1 278.058 L2051.1 292.132 Q2051.1 295.303 2051.96 296.206 Q2052.84 297.109 2055.5 297.109 L2059.88 297.109 L2059.88 300.673 L2055.5 300.673 Q2050.57 300.673 2048.7 298.845 Q2046.82 296.993 2046.82 292.132 L2046.82 278.058 L2043.7 278.058 L2043.7 274.748 L2046.82 274.748 L2046.82 267.387 L2051.1 267.387 Z\" fill=\"#000000\" fill-rule=\"evenodd\" fill-opacity=\"1\" /><path clip-path=\"url(#clip700)\" d=\"M 0 0 M2076.13 287.641 Q2070.97 287.641 2068.97 288.822 Q2066.98 290.002 2066.98 292.849 Q2066.98 295.118 2068.47 296.46 Q2069.97 297.78 2072.54 297.78 Q2076.08 297.78 2078.21 295.28 Q2080.36 292.757 2080.36 288.59 L2080.36 287.641 L2076.13 287.641 M2084.62 285.882 L2084.62 300.673 L2080.36 300.673 L2080.36 296.738 Q2078.91 299.099 2076.73 300.234 Q2074.55 301.345 2071.41 301.345 Q2067.42 301.345 2065.06 299.123 Q2062.72 296.877 2062.72 293.127 Q2062.72 288.752 2065.64 286.53 Q2068.58 284.308 2074.39 284.308 L2080.36 284.308 L2080.36 283.891 Q2080.36 280.951 2078.42 279.354 Q2076.5 277.734 2073 277.734 Q2070.78 277.734 2068.67 278.266 Q2066.57 278.799 2064.62 279.863 L2064.62 275.928 Q2066.96 275.025 2069.16 274.586 Q2071.36 274.123 2073.44 274.123 Q2079.07 274.123 2081.84 277.039 Q2084.62 279.956 2084.62 285.882 Z\" fill=\"#000000\" fill-rule=\"evenodd\" fill-opacity=\"1\" /><path clip-path=\"url(#clip700)\" d=\"M 0 0 M2089.09 264.655 L2093.35 264.655 L2093.35 300.673 L2089.09 300.673 L2089.09 264.655 Z\" fill=\"#000000\" fill-rule=\"evenodd\" fill-opacity=\"1\" /></svg>\n"
      ]
     },
     "execution_count": 73,
     "metadata": {},
     "output_type": "execute_result"
    }
   ],
   "source": [
    "T = 100\n",
    "k_path, c_path, grid_path = growthBellmanPath(kgrid, n_pol, k_pol, c_pol, 1, T)\n",
    "time = 1:T\n",
    "plot(time, c_path./c̄, label = \"Consumption\", lw=3)\n",
    "plot!(time, k_path./k̄, label = \"Capital\", lw =3, title = \"\\$ \\\\textrm{Optimal Path Given Low } k_0 \\$\")\n",
    "xlabel!(\"Time\")"
   ]
  },
  {
   "cell_type": "markdown",
   "metadata": {},
   "source": [
    "Notice that a low initial capital implies a low initial consumption level.\n",
    "\n",
    "Over time, both variable seem to grow uniformly and ultimately convergence to their respective steady states."
   ]
  },
  {
   "cell_type": "markdown",
   "metadata": {},
   "source": [
    "Next, we plot the paths of $k$ and $c$ once again, but this time given the highest possible value for $k_0$ from our grid."
   ]
  },
  {
   "cell_type": "code",
   "execution_count": 74,
   "metadata": {
    "ExecuteTime": {
     "end_time": "2021-05-03T02:29:44.772000-07:00",
     "start_time": "2021-05-03T09:29:44.716Z"
    }
   },
   "outputs": [
    {
     "data": {
      "image/svg+xml": [
       "<?xml version=\"1.0\" encoding=\"utf-8\"?>\n",
       "<svg xmlns=\"http://www.w3.org/2000/svg\" xmlns:xlink=\"http://www.w3.org/1999/xlink\" width=\"600\" height=\"400\" viewBox=\"0 0 2400 1600\">\n",
       "<defs>\n",
       "  <clipPath id=\"clip740\">\n",
       "    <rect x=\"0\" y=\"0\" width=\"2400\" height=\"1600\"/>\n",
       "  </clipPath>\n",
       "</defs>\n",
       "<path clip-path=\"url(#clip740)\" d=\"\n",
       "M0 1600 L2400 1600 L2400 0 L0 0  Z\n",
       "  \" fill=\"#ffffff\" fill-rule=\"evenodd\" fill-opacity=\"1\"/>\n",
       "<defs>\n",
       "  <clipPath id=\"clip741\">\n",
       "    <rect x=\"480\" y=\"0\" width=\"1681\" height=\"1600\"/>\n",
       "  </clipPath>\n",
       "</defs>\n",
       "<defs>\n",
       "  <clipPath id=\"clip742\">\n",
       "    <rect x=\"148\" y=\"118\" width=\"2206\" height=\"1305\"/>\n",
       "  </clipPath>\n",
       "</defs>\n",
       "<path clip-path=\"url(#clip740)\" d=\"\n",
       "M145.024 1423.18 L2352.76 1423.18 L2352.76 118.959 L145.024 118.959  Z\n",
       "  \" fill=\"#ffffff\" fill-rule=\"evenodd\" fill-opacity=\"1\"/>\n",
       "<defs>\n",
       "  <clipPath id=\"clip743\">\n",
       "    <rect x=\"145\" y=\"118\" width=\"2209\" height=\"1305\"/>\n",
       "  </clipPath>\n",
       "</defs>\n",
       "<polyline clip-path=\"url(#clip743)\" style=\"stroke:#000000; stroke-width:2; stroke-opacity:0.1; fill:none\" points=\"\n",
       "  186.469,1423.18 186.469,118.959 \n",
       "  \"/>\n",
       "<polyline clip-path=\"url(#clip743)\" style=\"stroke:#000000; stroke-width:2; stroke-opacity:0.1; fill:none\" points=\"\n",
       "  712.42,1423.18 712.42,118.959 \n",
       "  \"/>\n",
       "<polyline clip-path=\"url(#clip743)\" style=\"stroke:#000000; stroke-width:2; stroke-opacity:0.1; fill:none\" points=\"\n",
       "  1238.37,1423.18 1238.37,118.959 \n",
       "  \"/>\n",
       "<polyline clip-path=\"url(#clip743)\" style=\"stroke:#000000; stroke-width:2; stroke-opacity:0.1; fill:none\" points=\"\n",
       "  1764.32,1423.18 1764.32,118.959 \n",
       "  \"/>\n",
       "<polyline clip-path=\"url(#clip743)\" style=\"stroke:#000000; stroke-width:2; stroke-opacity:0.1; fill:none\" points=\"\n",
       "  2290.27,1423.18 2290.27,118.959 \n",
       "  \"/>\n",
       "<polyline clip-path=\"url(#clip740)\" style=\"stroke:#000000; stroke-width:4; stroke-opacity:1; fill:none\" points=\"\n",
       "  145.024,1423.18 2352.76,1423.18 \n",
       "  \"/>\n",
       "<polyline clip-path=\"url(#clip740)\" style=\"stroke:#000000; stroke-width:4; stroke-opacity:1; fill:none\" points=\"\n",
       "  186.469,1423.18 186.469,1407.53 \n",
       "  \"/>\n",
       "<polyline clip-path=\"url(#clip740)\" style=\"stroke:#000000; stroke-width:4; stroke-opacity:1; fill:none\" points=\"\n",
       "  712.42,1423.18 712.42,1407.53 \n",
       "  \"/>\n",
       "<polyline clip-path=\"url(#clip740)\" style=\"stroke:#000000; stroke-width:4; stroke-opacity:1; fill:none\" points=\"\n",
       "  1238.37,1423.18 1238.37,1407.53 \n",
       "  \"/>\n",
       "<polyline clip-path=\"url(#clip740)\" style=\"stroke:#000000; stroke-width:4; stroke-opacity:1; fill:none\" points=\"\n",
       "  1764.32,1423.18 1764.32,1407.53 \n",
       "  \"/>\n",
       "<polyline clip-path=\"url(#clip740)\" style=\"stroke:#000000; stroke-width:4; stroke-opacity:1; fill:none\" points=\"\n",
       "  2290.27,1423.18 2290.27,1407.53 \n",
       "  \"/>\n",
       "<path clip-path=\"url(#clip740)\" d=\"M 0 0 M186.469 1452.37 Q182.858 1452.37 181.029 1455.94 Q179.224 1459.48 179.224 1466.61 Q179.224 1473.71 181.029 1477.28 Q182.858 1480.82 186.469 1480.82 Q190.103 1480.82 191.909 1477.28 Q193.738 1473.71 193.738 1466.61 Q193.738 1459.48 191.909 1455.94 Q190.103 1452.37 186.469 1452.37 M186.469 1448.67 Q192.279 1448.67 195.335 1453.27 Q198.414 1457.86 198.414 1466.61 Q198.414 1475.33 195.335 1479.94 Q192.279 1484.52 186.469 1484.52 Q180.659 1484.52 177.58 1479.94 Q174.525 1475.33 174.525 1466.61 Q174.525 1457.86 177.58 1453.27 Q180.659 1448.67 186.469 1448.67 Z\" fill=\"#000000\" fill-rule=\"evenodd\" fill-opacity=\"1\" /><path clip-path=\"url(#clip740)\" d=\"M 0 0 M694.064 1479.92 L710.383 1479.92 L710.383 1483.85 L688.439 1483.85 L688.439 1479.92 Q691.101 1477.16 695.684 1472.53 Q700.291 1467.88 701.471 1466.54 Q703.716 1464.01 704.596 1462.28 Q705.499 1460.52 705.499 1458.83 Q705.499 1456.07 703.554 1454.34 Q701.633 1452.6 698.531 1452.6 Q696.332 1452.6 693.879 1453.37 Q691.448 1454.13 688.67 1455.68 L688.67 1450.96 Q691.494 1449.82 693.948 1449.25 Q696.402 1448.67 698.439 1448.67 Q703.809 1448.67 707.003 1451.35 Q710.198 1454.04 710.198 1458.53 Q710.198 1460.66 709.388 1462.58 Q708.601 1464.48 706.494 1467.07 Q705.916 1467.74 702.814 1470.96 Q699.712 1474.15 694.064 1479.92 Z\" fill=\"#000000\" fill-rule=\"evenodd\" fill-opacity=\"1\" /><path clip-path=\"url(#clip740)\" d=\"M 0 0 M715.499 1449.29 L733.855 1449.29 L733.855 1453.23 L719.781 1453.23 L719.781 1461.7 Q720.8 1461.35 721.818 1461.19 Q722.837 1461 723.855 1461 Q729.642 1461 733.022 1464.18 Q736.401 1467.35 736.401 1472.76 Q736.401 1478.34 732.929 1481.44 Q729.457 1484.52 723.138 1484.52 Q720.962 1484.52 718.693 1484.15 Q716.448 1483.78 714.04 1483.04 L714.04 1478.34 Q716.124 1479.48 718.346 1480.03 Q720.568 1480.59 723.045 1480.59 Q727.05 1480.59 729.388 1478.48 Q731.726 1476.38 731.726 1472.76 Q731.726 1469.15 729.388 1467.05 Q727.05 1464.94 723.045 1464.94 Q721.17 1464.94 719.295 1465.36 Q717.443 1465.77 715.499 1466.65 L715.499 1449.29 Z\" fill=\"#000000\" fill-rule=\"evenodd\" fill-opacity=\"1\" /><path clip-path=\"url(#clip740)\" d=\"M 0 0 M1215.14 1449.29 L1233.5 1449.29 L1233.5 1453.23 L1219.42 1453.23 L1219.42 1461.7 Q1220.44 1461.35 1221.46 1461.19 Q1222.48 1461 1223.5 1461 Q1229.29 1461 1232.67 1464.18 Q1236.04 1467.35 1236.04 1472.76 Q1236.04 1478.34 1232.57 1481.44 Q1229.1 1484.52 1222.78 1484.52 Q1220.6 1484.52 1218.34 1484.15 Q1216.09 1483.78 1213.68 1483.04 L1213.68 1478.34 Q1215.77 1479.48 1217.99 1480.03 Q1220.21 1480.59 1222.69 1480.59 Q1226.69 1480.59 1229.03 1478.48 Q1231.37 1476.38 1231.37 1472.76 Q1231.37 1469.15 1229.03 1467.05 Q1226.69 1464.94 1222.69 1464.94 Q1220.81 1464.94 1218.94 1465.36 Q1217.09 1465.77 1215.14 1466.65 L1215.14 1449.29 Z\" fill=\"#000000\" fill-rule=\"evenodd\" fill-opacity=\"1\" /><path clip-path=\"url(#clip740)\" d=\"M 0 0 M1251.11 1452.37 Q1247.5 1452.37 1245.67 1455.94 Q1243.87 1459.48 1243.87 1466.61 Q1243.87 1473.71 1245.67 1477.28 Q1247.5 1480.82 1251.11 1480.82 Q1254.75 1480.82 1256.55 1477.28 Q1258.38 1473.71 1258.38 1466.61 Q1258.38 1459.48 1256.55 1455.94 Q1254.75 1452.37 1251.11 1452.37 M1251.11 1448.67 Q1256.92 1448.67 1259.98 1453.27 Q1263.06 1457.86 1263.06 1466.61 Q1263.06 1475.33 1259.98 1479.94 Q1256.92 1484.52 1251.11 1484.52 Q1245.3 1484.52 1242.23 1479.94 Q1239.17 1475.33 1239.17 1466.61 Q1239.17 1457.86 1242.23 1453.27 Q1245.3 1448.67 1251.11 1448.67 Z\" fill=\"#000000\" fill-rule=\"evenodd\" fill-opacity=\"1\" /><path clip-path=\"url(#clip740)\" d=\"M 0 0 M1740.2 1449.29 L1762.42 1449.29 L1762.42 1451.28 L1749.88 1483.85 L1744.99 1483.85 L1756.8 1453.23 L1740.2 1453.23 L1740.2 1449.29 Z\" fill=\"#000000\" fill-rule=\"evenodd\" fill-opacity=\"1\" /><path clip-path=\"url(#clip740)\" d=\"M 0 0 M1767.54 1449.29 L1785.9 1449.29 L1785.9 1453.23 L1771.82 1453.23 L1771.82 1461.7 Q1772.84 1461.35 1773.86 1461.19 Q1774.88 1461 1775.9 1461 Q1781.68 1461 1785.06 1464.18 Q1788.44 1467.35 1788.44 1472.76 Q1788.44 1478.34 1784.97 1481.44 Q1781.5 1484.52 1775.18 1484.52 Q1773 1484.52 1770.73 1484.15 Q1768.49 1483.78 1766.08 1483.04 L1766.08 1478.34 Q1768.16 1479.48 1770.39 1480.03 Q1772.61 1480.59 1775.09 1480.59 Q1779.09 1480.59 1781.43 1478.48 Q1783.77 1476.38 1783.77 1472.76 Q1783.77 1469.15 1781.43 1467.05 Q1779.09 1464.94 1775.09 1464.94 Q1773.21 1464.94 1771.34 1465.36 Q1769.48 1465.77 1767.54 1466.65 L1767.54 1449.29 Z\" fill=\"#000000\" fill-rule=\"evenodd\" fill-opacity=\"1\" /><path clip-path=\"url(#clip740)\" d=\"M 0 0 M2253.64 1479.92 L2261.28 1479.92 L2261.28 1453.55 L2252.97 1455.22 L2252.97 1450.96 L2261.23 1449.29 L2265.91 1449.29 L2265.91 1479.92 L2273.55 1479.92 L2273.55 1483.85 L2253.64 1483.85 L2253.64 1479.92 Z\" fill=\"#000000\" fill-rule=\"evenodd\" fill-opacity=\"1\" /><path clip-path=\"url(#clip740)\" d=\"M 0 0 M2288.62 1452.37 Q2285.01 1452.37 2283.18 1455.94 Q2281.37 1459.48 2281.37 1466.61 Q2281.37 1473.71 2283.18 1477.28 Q2285.01 1480.82 2288.62 1480.82 Q2292.25 1480.82 2294.06 1477.28 Q2295.89 1473.71 2295.89 1466.61 Q2295.89 1459.48 2294.06 1455.94 Q2292.25 1452.37 2288.62 1452.37 M2288.62 1448.67 Q2294.43 1448.67 2297.48 1453.27 Q2300.56 1457.86 2300.56 1466.61 Q2300.56 1475.33 2297.48 1479.94 Q2294.43 1484.52 2288.62 1484.52 Q2282.81 1484.52 2279.73 1479.94 Q2276.67 1475.33 2276.67 1466.61 Q2276.67 1457.86 2279.73 1453.27 Q2282.81 1448.67 2288.62 1448.67 Z\" fill=\"#000000\" fill-rule=\"evenodd\" fill-opacity=\"1\" /><path clip-path=\"url(#clip740)\" d=\"M 0 0 M2315.63 1452.37 Q2312.02 1452.37 2310.19 1455.94 Q2308.39 1459.48 2308.39 1466.61 Q2308.39 1473.71 2310.19 1477.28 Q2312.02 1480.82 2315.63 1480.82 Q2319.27 1480.82 2321.07 1477.28 Q2322.9 1473.71 2322.9 1466.61 Q2322.9 1459.48 2321.07 1455.94 Q2319.27 1452.37 2315.63 1452.37 M2315.63 1448.67 Q2321.44 1448.67 2324.5 1453.27 Q2327.58 1457.86 2327.58 1466.61 Q2327.58 1475.33 2324.5 1479.94 Q2321.44 1484.52 2315.63 1484.52 Q2309.82 1484.52 2306.74 1479.94 Q2303.69 1475.33 2303.69 1466.61 Q2303.69 1457.86 2306.74 1453.27 Q2309.82 1448.67 2315.63 1448.67 Z\" fill=\"#000000\" fill-rule=\"evenodd\" fill-opacity=\"1\" /><path clip-path=\"url(#clip740)\" d=\"M 0 0 M1176.5 1520.52 L1216.7 1520.52 L1216.7 1525.93 L1199.83 1525.93 L1199.83 1568.04 L1193.37 1568.04 L1193.37 1525.93 L1176.5 1525.93 L1176.5 1520.52 Z\" fill=\"#000000\" fill-rule=\"evenodd\" fill-opacity=\"1\" /><path clip-path=\"url(#clip740)\" d=\"M 0 0 M1220.83 1532.4 L1226.69 1532.4 L1226.69 1568.04 L1220.83 1568.04 L1220.83 1532.4 M1220.83 1518.52 L1226.69 1518.52 L1226.69 1525.93 L1220.83 1525.93 L1220.83 1518.52 Z\" fill=\"#000000\" fill-rule=\"evenodd\" fill-opacity=\"1\" /><path clip-path=\"url(#clip740)\" d=\"M 0 0 M1260.59 1539.24 Q1262.78 1535.29 1265.84 1533.41 Q1268.89 1531.54 1273.03 1531.54 Q1278.6 1531.54 1281.63 1535.45 Q1284.65 1539.33 1284.65 1546.53 L1284.65 1568.04 L1278.76 1568.04 L1278.76 1546.72 Q1278.76 1541.59 1276.95 1539.11 Q1275.13 1536.63 1271.41 1536.63 Q1266.86 1536.63 1264.22 1539.65 Q1261.57 1542.68 1261.57 1547.9 L1261.57 1568.04 L1255.69 1568.04 L1255.69 1546.72 Q1255.69 1541.56 1253.87 1539.11 Q1252.06 1536.63 1248.27 1536.63 Q1243.78 1536.63 1241.14 1539.68 Q1238.5 1542.71 1238.5 1547.9 L1238.5 1568.04 L1232.61 1568.04 L1232.61 1532.4 L1238.5 1532.4 L1238.5 1537.93 Q1240.5 1534.66 1243.3 1533.1 Q1246.11 1531.54 1249.96 1531.54 Q1253.84 1531.54 1256.54 1533.51 Q1259.28 1535.48 1260.59 1539.24 Z\" fill=\"#000000\" fill-rule=\"evenodd\" fill-opacity=\"1\" /><path clip-path=\"url(#clip740)\" d=\"M 0 0 M1321.28 1548.76 L1321.28 1551.62 L1294.36 1551.62 Q1294.74 1557.67 1297.99 1560.85 Q1301.26 1564 1307.09 1564 Q1310.46 1564 1313.61 1563.17 Q1316.8 1562.35 1319.92 1560.69 L1319.92 1566.23 Q1316.76 1567.57 1313.45 1568.27 Q1310.14 1568.97 1306.74 1568.97 Q1298.21 1568.97 1293.21 1564 Q1288.25 1559.04 1288.25 1550.57 Q1288.25 1541.82 1292.96 1536.69 Q1297.7 1531.54 1305.72 1531.54 Q1312.91 1531.54 1317.08 1536.18 Q1321.28 1540.8 1321.28 1548.76 M1315.43 1547.04 Q1315.36 1542.23 1312.72 1539.37 Q1310.11 1536.5 1305.78 1536.5 Q1300.88 1536.5 1297.92 1539.27 Q1294.99 1542.04 1294.55 1547.07 L1315.43 1547.04 Z\" fill=\"#000000\" fill-rule=\"evenodd\" fill-opacity=\"1\" /><polyline clip-path=\"url(#clip743)\" style=\"stroke:#000000; stroke-width:2; stroke-opacity:0.1; fill:none\" points=\"\n",
       "  145.024,1388.89 2352.76,1388.89 \n",
       "  \"/>\n",
       "<polyline clip-path=\"url(#clip743)\" style=\"stroke:#000000; stroke-width:2; stroke-opacity:0.1; fill:none\" points=\"\n",
       "  145.024,1172.74 2352.76,1172.74 \n",
       "  \"/>\n",
       "<polyline clip-path=\"url(#clip743)\" style=\"stroke:#000000; stroke-width:2; stroke-opacity:0.1; fill:none\" points=\"\n",
       "  145.024,956.586 2352.76,956.586 \n",
       "  \"/>\n",
       "<polyline clip-path=\"url(#clip743)\" style=\"stroke:#000000; stroke-width:2; stroke-opacity:0.1; fill:none\" points=\"\n",
       "  145.024,740.434 2352.76,740.434 \n",
       "  \"/>\n",
       "<polyline clip-path=\"url(#clip743)\" style=\"stroke:#000000; stroke-width:2; stroke-opacity:0.1; fill:none\" points=\"\n",
       "  145.024,524.283 2352.76,524.283 \n",
       "  \"/>\n",
       "<polyline clip-path=\"url(#clip743)\" style=\"stroke:#000000; stroke-width:2; stroke-opacity:0.1; fill:none\" points=\"\n",
       "  145.024,308.132 2352.76,308.132 \n",
       "  \"/>\n",
       "<polyline clip-path=\"url(#clip740)\" style=\"stroke:#000000; stroke-width:4; stroke-opacity:1; fill:none\" points=\"\n",
       "  145.024,1423.18 145.024,118.959 \n",
       "  \"/>\n",
       "<polyline clip-path=\"url(#clip740)\" style=\"stroke:#000000; stroke-width:4; stroke-opacity:1; fill:none\" points=\"\n",
       "  145.024,1388.89 171.517,1388.89 \n",
       "  \"/>\n",
       "<polyline clip-path=\"url(#clip740)\" style=\"stroke:#000000; stroke-width:4; stroke-opacity:1; fill:none\" points=\"\n",
       "  145.024,1172.74 171.517,1172.74 \n",
       "  \"/>\n",
       "<polyline clip-path=\"url(#clip740)\" style=\"stroke:#000000; stroke-width:4; stroke-opacity:1; fill:none\" points=\"\n",
       "  145.024,956.586 171.517,956.586 \n",
       "  \"/>\n",
       "<polyline clip-path=\"url(#clip740)\" style=\"stroke:#000000; stroke-width:4; stroke-opacity:1; fill:none\" points=\"\n",
       "  145.024,740.434 171.517,740.434 \n",
       "  \"/>\n",
       "<polyline clip-path=\"url(#clip740)\" style=\"stroke:#000000; stroke-width:4; stroke-opacity:1; fill:none\" points=\"\n",
       "  145.024,524.283 171.517,524.283 \n",
       "  \"/>\n",
       "<polyline clip-path=\"url(#clip740)\" style=\"stroke:#000000; stroke-width:4; stroke-opacity:1; fill:none\" points=\"\n",
       "  145.024,308.132 171.517,308.132 \n",
       "  \"/>\n",
       "<path clip-path=\"url(#clip740)\" d=\"M 0 0 M52.1495 1402.23 L59.7884 1402.23 L59.7884 1375.87 L51.4782 1377.53 L51.4782 1373.27 L59.7421 1371.61 L64.418 1371.61 L64.418 1402.23 L72.0568 1402.23 L72.0568 1406.17 L52.1495 1406.17 L52.1495 1402.23 Z\" fill=\"#000000\" fill-rule=\"evenodd\" fill-opacity=\"1\" /><path clip-path=\"url(#clip740)\" d=\"M 0 0 M77.1262 1400.29 L82.0105 1400.29 L82.0105 1406.17 L77.1262 1406.17 L77.1262 1400.29 Z\" fill=\"#000000\" fill-rule=\"evenodd\" fill-opacity=\"1\" /><path clip-path=\"url(#clip740)\" d=\"M 0 0 M97.0798 1374.69 Q93.4688 1374.69 91.6401 1378.25 Q89.8345 1381.79 89.8345 1388.92 Q89.8345 1396.03 91.6401 1399.59 Q93.4688 1403.14 97.0798 1403.14 Q100.714 1403.14 102.52 1399.59 Q104.348 1396.03 104.348 1388.92 Q104.348 1381.79 102.52 1378.25 Q100.714 1374.69 97.0798 1374.69 M97.0798 1370.98 Q102.89 1370.98 105.946 1375.59 Q109.024 1380.17 109.024 1388.92 Q109.024 1397.65 105.946 1402.26 Q102.89 1406.84 97.0798 1406.84 Q91.2697 1406.84 88.191 1402.26 Q85.1355 1397.65 85.1355 1388.92 Q85.1355 1380.17 88.191 1375.59 Q91.2697 1370.98 97.0798 1370.98 Z\" fill=\"#000000\" fill-rule=\"evenodd\" fill-opacity=\"1\" /><path clip-path=\"url(#clip740)\" d=\"M 0 0 M53.3764 1186.08 L61.0152 1186.08 L61.0152 1159.72 L52.7051 1161.38 L52.7051 1157.12 L60.9689 1155.46 L65.6448 1155.46 L65.6448 1186.08 L73.2837 1186.08 L73.2837 1190.02 L53.3764 1190.02 L53.3764 1186.08 Z\" fill=\"#000000\" fill-rule=\"evenodd\" fill-opacity=\"1\" /><path clip-path=\"url(#clip740)\" d=\"M 0 0 M78.3531 1184.14 L83.2373 1184.14 L83.2373 1190.02 L78.3531 1190.02 L78.3531 1184.14 Z\" fill=\"#000000\" fill-rule=\"evenodd\" fill-opacity=\"1\" /><path clip-path=\"url(#clip740)\" d=\"M 0 0 M89.1169 1186.08 L96.7558 1186.08 L96.7558 1159.72 L88.4456 1161.38 L88.4456 1157.12 L96.7095 1155.46 L101.385 1155.46 L101.385 1186.08 L109.024 1186.08 L109.024 1190.02 L89.1169 1190.02 L89.1169 1186.08 Z\" fill=\"#000000\" fill-rule=\"evenodd\" fill-opacity=\"1\" /><path clip-path=\"url(#clip740)\" d=\"M 0 0 M53.7467 969.931 L61.3856 969.931 L61.3856 943.565 L53.0754 945.232 L53.0754 940.972 L61.3393 939.306 L66.0152 939.306 L66.0152 969.931 L73.654 969.931 L73.654 973.866 L53.7467 973.866 L53.7467 969.931 Z\" fill=\"#000000\" fill-rule=\"evenodd\" fill-opacity=\"1\" /><path clip-path=\"url(#clip740)\" d=\"M 0 0 M78.7235 967.986 L83.6077 967.986 L83.6077 973.866 L78.7235 973.866 L78.7235 967.986 Z\" fill=\"#000000\" fill-rule=\"evenodd\" fill-opacity=\"1\" /><path clip-path=\"url(#clip740)\" d=\"M 0 0 M92.7049 969.931 L109.024 969.931 L109.024 973.866 L87.0799 973.866 L87.0799 969.931 Q89.7419 967.176 94.3252 962.546 Q98.9317 957.894 100.112 956.551 Q102.358 954.028 103.237 952.292 Q104.14 950.532 104.14 948.843 Q104.14 946.088 102.196 944.352 Q100.274 942.616 97.1724 942.616 Q94.9734 942.616 92.5197 943.38 Q90.0891 944.144 87.3114 945.695 L87.3114 940.972 Q90.1354 939.838 92.5891 939.259 Q95.0428 938.681 97.0798 938.681 Q102.45 938.681 105.645 941.366 Q108.839 944.051 108.839 948.542 Q108.839 950.671 108.029 952.593 Q107.242 954.491 105.135 957.083 Q104.557 957.755 101.455 960.972 Q98.353 964.167 92.7049 969.931 Z\" fill=\"#000000\" fill-rule=\"evenodd\" fill-opacity=\"1\" /><path clip-path=\"url(#clip740)\" d=\"M 0 0 M52.7977 753.779 L60.4365 753.779 L60.4365 727.414 L52.1264 729.08 L52.1264 724.821 L60.3902 723.154 L65.0661 723.154 L65.0661 753.779 L72.705 753.779 L72.705 757.714 L52.7977 757.714 L52.7977 753.779 Z\" fill=\"#000000\" fill-rule=\"evenodd\" fill-opacity=\"1\" /><path clip-path=\"url(#clip740)\" d=\"M 0 0 M77.7744 751.835 L82.6586 751.835 L82.6586 757.714 L77.7744 757.714 L77.7744 751.835 Z\" fill=\"#000000\" fill-rule=\"evenodd\" fill-opacity=\"1\" /><path clip-path=\"url(#clip740)\" d=\"M 0 0 M101.895 739.08 Q105.251 739.798 107.126 742.066 Q109.024 744.335 109.024 747.668 Q109.024 752.784 105.506 755.585 Q101.987 758.386 95.5058 758.386 Q93.3299 758.386 91.0151 757.946 Q88.7234 757.529 86.2697 756.673 L86.2697 752.159 Q88.2141 753.293 90.529 753.872 Q92.8438 754.451 95.3669 754.451 Q99.765 754.451 102.057 752.714 Q104.371 750.978 104.371 747.668 Q104.371 744.613 102.219 742.9 Q100.089 741.164 96.2697 741.164 L92.2419 741.164 L92.2419 737.321 L96.4548 737.321 Q99.9039 737.321 101.733 735.955 Q103.561 734.566 103.561 731.974 Q103.561 729.312 101.663 727.9 Q99.7882 726.465 96.2697 726.465 Q94.3484 726.465 92.1493 726.881 Q89.9503 727.298 87.3114 728.178 L87.3114 724.011 Q89.9734 723.27 92.2882 722.9 Q94.6262 722.529 96.6863 722.529 Q102.01 722.529 105.112 724.96 Q108.214 727.367 108.214 731.488 Q108.214 734.358 106.571 736.349 Q104.927 738.316 101.895 739.08 Z\" fill=\"#000000\" fill-rule=\"evenodd\" fill-opacity=\"1\" /><path clip-path=\"url(#clip740)\" d=\"M 0 0 M51.6634 537.628 L59.3023 537.628 L59.3023 511.262 L50.9921 512.929 L50.9921 508.67 L59.256 507.003 L63.9319 507.003 L63.9319 537.628 L71.5707 537.628 L71.5707 541.563 L51.6634 541.563 L51.6634 537.628 Z\" fill=\"#000000\" fill-rule=\"evenodd\" fill-opacity=\"1\" /><path clip-path=\"url(#clip740)\" d=\"M 0 0 M76.6401 535.684 L81.5244 535.684 L81.5244 541.563 L76.6401 541.563 L76.6401 535.684 Z\" fill=\"#000000\" fill-rule=\"evenodd\" fill-opacity=\"1\" /><path clip-path=\"url(#clip740)\" d=\"M 0 0 M99.4409 511.077 L87.6354 529.526 L99.4409 529.526 L99.4409 511.077 M98.2141 507.003 L104.094 507.003 L104.094 529.526 L109.024 529.526 L109.024 533.415 L104.094 533.415 L104.094 541.563 L99.4409 541.563 L99.4409 533.415 L83.8392 533.415 L83.8392 528.901 L98.2141 507.003 Z\" fill=\"#000000\" fill-rule=\"evenodd\" fill-opacity=\"1\" /><path clip-path=\"url(#clip740)\" d=\"M 0 0 M53.1449 321.477 L60.7837 321.477 L60.7837 295.111 L52.4736 296.778 L52.4736 292.518 L60.7374 290.852 L65.4133 290.852 L65.4133 321.477 L73.0522 321.477 L73.0522 325.412 L53.1449 325.412 L53.1449 321.477 Z\" fill=\"#000000\" fill-rule=\"evenodd\" fill-opacity=\"1\" /><path clip-path=\"url(#clip740)\" d=\"M 0 0 M78.1216 319.532 L83.0058 319.532 L83.0058 325.412 L78.1216 325.412 L78.1216 319.532 Z\" fill=\"#000000\" fill-rule=\"evenodd\" fill-opacity=\"1\" /><path clip-path=\"url(#clip740)\" d=\"M 0 0 M88.1216 290.852 L106.478 290.852 L106.478 294.787 L92.4039 294.787 L92.4039 303.259 Q93.4225 302.912 94.441 302.75 Q95.4595 302.565 96.478 302.565 Q102.265 302.565 105.645 305.736 Q109.024 308.907 109.024 314.324 Q109.024 319.903 105.552 323.004 Q102.08 326.083 95.7604 326.083 Q93.5845 326.083 91.316 325.713 Q89.0706 325.342 86.6632 324.602 L86.6632 319.903 Q88.7466 321.037 90.9688 321.592 Q93.191 322.148 95.6678 322.148 Q99.6724 322.148 102.01 320.041 Q104.348 317.935 104.348 314.324 Q104.348 310.713 102.01 308.606 Q99.6724 306.5 95.6678 306.5 Q93.7928 306.5 91.9178 306.917 Q90.066 307.333 88.1216 308.213 L88.1216 290.852 Z\" fill=\"#000000\" fill-rule=\"evenodd\" fill-opacity=\"1\" /><path clip-path=\"url(#clip740)\" d=\"M 0 0 M724.674 38.4642 Q724.674 25.6345 732.872 16.6989 Q741.11 7.7222 752.546 7.7222 Q764.064 7.7222 772.262 16.6989 Q780.501 25.6755 780.501 38.4642 Q780.501 51.1298 772.262 59.9425 Q764.023 68.7552 752.546 68.7552 Q741.233 68.7552 732.953 59.9835 Q724.674 51.2118 724.674 38.4642 M733.322 37.2755 Q733.322 45.0634 735.167 51.0479 Q737.011 56.9913 739.963 60.2295 Q742.955 63.4676 746.152 65.0252 Q749.349 66.5828 752.628 66.5828 Q755.826 66.5828 758.941 65.0662 Q762.097 63.5496 765.089 60.3524 Q768.081 57.1553 769.967 51.1708 Q771.852 45.1864 771.852 37.2755 Q771.852 31.1271 770.541 26.2084 Q769.229 21.2487 767.18 18.2564 Q765.13 15.2642 762.466 13.2967 Q759.842 11.3293 757.342 10.5915 Q754.883 9.81265 752.546 9.81265 Q749.595 9.81265 746.521 11.1243 Q743.447 12.436 740.332 15.3462 Q737.257 18.2155 735.29 23.913 Q733.322 29.5695 733.322 37.2755 Z\" fill=\"#000000\" fill-rule=\"evenodd\" fill-opacity=\"1\" /><path clip-path=\"url(#clip740)\" d=\"M 0 0 M789.25 80.6011 Q793.718 80.6011 794.742 80.0273 Q795.808 79.4944 795.808 76.8301 L795.808 37.5214 Q795.808 34.7341 794.742 34.0373 Q793.718 33.3405 789.25 33.3405 L789.25 30.7172 L801.342 29.8154 L801.342 35.349 Q806.383 29.8154 813.106 29.8154 Q820.238 29.8154 825.443 35.349 Q830.649 40.8825 830.649 48.7935 Q830.649 56.7864 825.115 62.3199 Q819.582 67.8535 811.917 67.8535 Q807.736 67.8535 804.908 65.722 Q802.12 63.5496 801.588 61.951 L801.588 62.7298 L801.588 76.8301 Q801.588 79.5354 802.653 80.0683 Q803.719 80.6011 808.146 80.6011 L808.146 83.1835 Q799.333 82.9375 798.677 82.9375 Q797.858 82.9375 789.25 83.1835 L789.25 80.6011 M801.588 57.3602 Q801.588 58.6309 801.752 59.0818 Q801.956 59.5326 802.776 60.8853 Q806.096 65.968 811.507 65.968 Q811.548 65.968 811.589 65.968 Q816.385 65.968 820.033 61.0902 Q823.681 56.1715 823.681 48.7935 Q823.681 41.7433 820.361 36.8246 Q817.041 31.9059 812.45 31.9059 Q809.171 31.9059 806.301 33.6684 Q803.432 35.431 801.588 38.6281 L801.588 57.3602 Z\" fill=\"#000000\" fill-rule=\"evenodd\" fill-opacity=\"1\" /><path clip-path=\"url(#clip740)\" d=\"M 0 0 M834.233 33.3405 L834.233 31.496 Q838.086 31.332 840.627 28.6267 Q843.21 25.8805 844.071 22.5193 Q844.972 19.1582 845.054 15.2642 L847.145 15.2642 L847.145 30.7172 L859.155 30.7172 L859.155 33.3405 L847.145 33.3405 L847.145 56.6634 Q847.145 65.722 852.801 65.722 Q855.22 65.722 856.818 63.2627 Q858.417 60.7623 858.417 56.3355 L858.417 51.7037 L860.507 51.7037 L860.507 56.4994 Q860.507 61.0493 858.417 64.4514 Q856.326 67.8535 852.186 67.8535 Q850.67 67.8535 849.153 67.4436 Q847.678 67.0747 845.71 66.0909 Q843.784 65.0662 842.554 62.6068 Q841.365 60.1065 841.365 56.4994 L841.365 33.3405 L834.233 33.3405 Z\" fill=\"#000000\" fill-rule=\"evenodd\" fill-opacity=\"1\" /><path clip-path=\"url(#clip740)\" d=\"M 0 0 M866.46 66.9107 L866.46 64.3284 Q870.928 64.3284 871.953 63.7955 Q872.978 63.2217 872.978 60.5164 L872.978 37.9313 Q872.978 34.8161 871.912 34.0783 Q870.887 33.3405 866.788 33.3405 L866.788 30.7172 L878.511 29.8154 L878.511 60.5984 Q878.511 63.0987 879.413 63.7136 Q880.315 64.3284 884.414 64.3284 L884.414 66.9107 Q875.847 66.6648 875.683 66.6648 Q874.535 66.6648 866.46 66.9107 M869.985 15.1822 Q869.985 13.5017 871.256 12.149 Q872.568 10.7554 874.412 10.7554 Q876.257 10.7554 877.568 12.0261 Q878.88 13.2558 878.88 15.2232 Q878.88 17.1497 877.568 18.4204 Q876.257 19.6501 874.412 19.6501 Q872.486 19.6501 871.215 18.2974 Q869.985 16.9448 869.985 15.1822 Z\" fill=\"#000000\" fill-rule=\"evenodd\" fill-opacity=\"1\" /><path clip-path=\"url(#clip740)\" d=\"M 0 0 M889.474 66.9107 L889.474 64.3284 Q893.942 64.3284 894.967 63.7955 Q895.991 63.2217 895.991 60.5164 L895.991 38.0133 Q895.991 34.8981 894.885 34.1193 Q893.819 33.3405 889.474 33.3405 L889.474 30.7172 L901.279 29.8154 L901.279 38.6281 Q905.214 29.8154 913.699 29.8154 Q923.536 29.8154 924.889 38.0133 Q926.323 34.8161 929.316 32.3158 Q932.349 29.8154 937.063 29.8154 Q943.375 29.8154 945.875 32.9306 Q947.72 35.0211 948.089 37.3574 Q948.458 39.6938 948.458 45.7603 L948.458 61.7871 Q948.54 63.5496 949.892 63.9595 Q951.245 64.3284 955.016 64.3284 L955.016 66.9107 Q946.449 66.6648 945.629 66.6648 Q944.973 66.6648 936.12 66.9107 L936.12 64.3284 Q940.588 64.3284 941.612 63.7955 Q942.678 63.2217 942.678 60.5164 L942.678 40.9645 Q942.678 36.7016 941.366 34.2013 Q940.055 31.6599 936.448 31.6599 Q932.103 31.6599 928.619 35.308 Q925.135 38.956 925.135 45.1044 L925.135 60.5164 Q925.135 63.2217 926.159 63.7955 Q927.225 64.3284 931.693 64.3284 L931.693 66.9107 Q923.126 66.6648 922.265 66.6648 Q921.61 66.6648 912.797 66.9107 L912.797 64.3284 Q917.265 64.3284 918.289 63.7955 Q919.355 63.2217 919.355 60.5164 L919.355 40.9645 Q919.355 36.7016 918.043 34.2013 Q916.732 31.6599 913.125 31.6599 Q908.78 31.6599 905.296 35.308 Q901.812 38.956 901.812 45.1044 L901.812 60.5164 Q901.812 63.2217 902.836 63.7955 Q903.902 64.3284 908.329 64.3284 L908.329 66.9107 Q899.762 66.6648 898.942 66.6648 Q898.287 66.6648 889.474 66.9107 Z\" fill=\"#000000\" fill-rule=\"evenodd\" fill-opacity=\"1\" /><path clip-path=\"url(#clip740)\" d=\"M 0 0 M958.677 58.9178 Q958.677 51.7857 967.08 48.0147 Q972.122 45.5963 982.533 44.9815 L982.533 41.9073 Q982.533 36.7016 979.787 33.9553 Q977.081 31.1681 973.638 31.1681 Q967.49 31.1681 964.539 35.0211 Q967.039 35.103 967.941 36.3737 Q968.842 37.6034 968.842 38.8741 Q968.842 40.5546 967.777 41.6613 Q966.752 42.727 964.989 42.727 Q963.309 42.727 962.202 41.7023 Q961.096 40.6366 961.096 38.7921 Q961.096 34.6931 964.785 31.9879 Q968.515 29.2826 973.802 29.2826 Q980.688 29.2826 985.279 33.9143 Q986.714 35.349 987.411 37.1935 Q988.148 39.038 988.23 40.2677 Q988.312 41.4564 988.312 43.8338 L988.312 60.5984 Q988.312 61.0902 988.476 61.91 Q988.64 62.7298 989.378 63.7955 Q990.157 64.8203 991.428 64.8203 Q994.461 64.8203 994.42 59.4507 L994.42 54.7369 L996.551 54.7369 L996.551 59.4507 Q996.551 63.9185 994.174 65.681 Q991.837 67.4026 989.665 67.4026 Q986.878 67.4026 985.115 65.3531 Q983.353 63.3037 983.107 60.5164 Q981.836 63.7136 978.926 65.804 Q976.057 67.8535 972.122 67.8535 Q969.088 67.8535 966.219 67.0747 Q963.391 66.3369 961.014 64.2464 Q958.677 62.115 958.677 58.9178 M965.153 58.8358 Q965.153 61.951 967.367 63.9595 Q969.58 65.968 972.695 65.968 Q976.221 65.968 979.377 63.2627 Q982.533 60.5164 982.533 55.1468 L982.533 46.744 Q973.228 47.0719 969.17 50.8019 Q965.153 54.491 965.153 58.8358 Z\" fill=\"#000000\" fill-rule=\"evenodd\" fill-opacity=\"1\" /><path clip-path=\"url(#clip740)\" d=\"M 0 0 M1000.24 66.9107 L1000.24 64.3284 Q1004.71 64.3284 1005.73 63.7955 Q1006.76 63.2217 1006.76 60.5164 L1006.76 16.8628 Q1006.76 13.7476 1005.65 12.9688 Q1004.58 12.19 1000.24 12.19 L1000.24 9.56672 L1012.29 8.66495 L1012.29 60.5164 Q1012.29 63.2217 1013.36 63.7955 Q1014.42 64.3284 1018.85 64.3284 L1018.85 66.9107 Q1017.82 66.9107 1015.69 66.8287 Q1013.56 66.7468 1012 66.7058 Q1010.45 66.6648 1009.54 66.6648 Q1008.56 66.6648 1000.24 66.9107 Z\" fill=\"#000000\" fill-rule=\"evenodd\" fill-opacity=\"1\" /><path clip-path=\"url(#clip740)\" d=\"M 0 0 M1050.89 66.9107 L1050.89 64.3284 L1052.9 64.3284 Q1057.45 64.3284 1058.48 63.5906 Q1059.54 62.8118 1059.54 60.3524 L1059.54 16.125 Q1059.54 13.7066 1058.48 12.9688 Q1057.41 12.19 1052.9 12.19 L1050.89 12.19 L1050.89 9.56672 L1080.53 9.56672 Q1089.01 9.56672 1094.67 14.2395 Q1100.33 18.9123 1100.33 25.1836 Q1100.33 31.414 1094.55 35.9228 Q1088.81 40.3907 1081.19 40.3907 L1067 40.3907 L1067 60.3524 Q1067 62.7708 1068.03 63.5496 Q1069.09 64.3284 1073.64 64.3284 L1075.65 64.3284 L1075.65 66.9107 Q1072.7 66.6648 1063.23 66.6648 Q1053.85 66.6648 1050.89 66.9107 M1066.76 38.2182 L1078.32 38.2182 Q1082.09 38.2182 1084.83 37.1525 Q1087.58 36.0868 1088.81 34.8161 Q1090.08 33.5045 1090.78 31.414 Q1091.51 29.2826 1091.6 28.1349 Q1091.68 26.9462 1091.68 25.1836 Q1091.68 23.3391 1091.6 22.1914 Q1091.51 21.0027 1090.78 18.9123 Q1090.08 16.7808 1088.81 15.5102 Q1087.58 14.1985 1084.83 13.2148 Q1082.13 12.19 1078.32 12.19 L1070.86 12.19 Q1067.99 12.19 1067.37 12.7639 Q1066.76 13.3377 1066.76 15.5512 L1066.76 38.2182 Z\" fill=\"#000000\" fill-rule=\"evenodd\" fill-opacity=\"1\" /><path clip-path=\"url(#clip740)\" d=\"M 0 0 M1103.64 58.9178 Q1103.64 51.7857 1112.05 48.0147 Q1117.09 45.5963 1127.5 44.9815 L1127.5 41.9073 Q1127.5 36.7016 1124.75 33.9553 Q1122.05 31.1681 1118.6 31.1681 Q1112.46 31.1681 1109.5 35.0211 Q1112 35.103 1112.91 36.3737 Q1113.81 37.6034 1113.81 38.8741 Q1113.81 40.5546 1112.74 41.6613 Q1111.72 42.727 1109.96 42.727 Q1108.27 42.727 1107.17 41.7023 Q1106.06 40.6366 1106.06 38.7921 Q1106.06 34.6931 1109.75 31.9879 Q1113.48 29.2826 1118.77 29.2826 Q1125.65 29.2826 1130.25 33.9143 Q1131.68 35.349 1132.38 37.1935 Q1133.11 39.038 1133.2 40.2677 Q1133.28 41.4564 1133.28 43.8338 L1133.28 60.5984 Q1133.28 61.0902 1133.44 61.91 Q1133.61 62.7298 1134.34 63.7955 Q1135.12 64.8203 1136.39 64.8203 Q1139.43 64.8203 1139.39 59.4507 L1139.39 54.7369 L1141.52 54.7369 L1141.52 59.4507 Q1141.52 63.9185 1139.14 65.681 Q1136.8 67.4026 1134.63 67.4026 Q1131.84 67.4026 1130.08 65.3531 Q1128.32 63.3037 1128.07 60.5164 Q1126.8 63.7136 1123.89 65.804 Q1121.02 67.8535 1117.09 67.8535 Q1114.05 67.8535 1111.18 67.0747 Q1108.36 66.3369 1105.98 64.2464 Q1103.64 62.115 1103.64 58.9178 M1110.12 58.8358 Q1110.12 61.951 1112.33 63.9595 Q1114.55 65.968 1117.66 65.968 Q1121.19 65.968 1124.34 63.2627 Q1127.5 60.5164 1127.5 55.1468 L1127.5 46.744 Q1118.19 47.0719 1114.14 50.8019 Q1110.12 54.491 1110.12 58.8358 Z\" fill=\"#000000\" fill-rule=\"evenodd\" fill-opacity=\"1\" /><path clip-path=\"url(#clip740)\" d=\"M 0 0 M1145.21 33.3405 L1145.21 31.496 Q1149.06 31.332 1151.6 28.6267 Q1154.18 25.8805 1155.04 22.5193 Q1155.94 19.1582 1156.03 15.2642 L1158.12 15.2642 L1158.12 30.7172 L1170.13 30.7172 L1170.13 33.3405 L1158.12 33.3405 L1158.12 56.6634 Q1158.12 65.722 1163.77 65.722 Q1166.19 65.722 1167.79 63.2627 Q1169.39 60.7623 1169.39 56.3355 L1169.39 51.7037 L1171.48 51.7037 L1171.48 56.4994 Q1171.48 61.0493 1169.39 64.4514 Q1167.3 67.8535 1163.16 67.8535 Q1161.64 67.8535 1160.13 67.4436 Q1158.65 67.0747 1156.68 66.0909 Q1154.76 65.0662 1153.53 62.6068 Q1152.34 60.1065 1152.34 56.4994 L1152.34 33.3405 L1145.21 33.3405 Z\" fill=\"#000000\" fill-rule=\"evenodd\" fill-opacity=\"1\" /><path clip-path=\"url(#clip740)\" d=\"M 0 0 M1176.93 66.9107 L1176.93 64.3284 Q1181.4 64.3284 1182.43 63.7955 Q1183.45 63.2217 1183.45 60.5164 L1183.45 16.8628 Q1183.45 13.7476 1182.34 12.9688 Q1181.28 12.19 1176.93 12.19 L1176.93 9.56672 L1188.98 8.66495 L1188.98 37.8493 L1189.07 37.8493 Q1190.42 34.8161 1193.45 32.3158 Q1196.48 29.8154 1201.16 29.8154 Q1207.47 29.8154 1209.97 32.9306 Q1211.81 35.0211 1212.18 37.3574 Q1212.59 39.6938 1212.59 45.7603 L1212.59 61.7871 Q1212.68 63.5496 1214.03 63.9595 Q1215.38 64.3284 1219.15 64.3284 L1219.15 66.9107 Q1210.58 66.6648 1209.72 66.6648 Q1209.07 66.6648 1200.26 66.9107 L1200.26 64.3284 Q1204.72 64.3284 1205.75 63.7955 Q1206.81 63.2217 1206.81 60.5164 L1206.81 40.9645 Q1206.81 36.7016 1205.5 34.2013 Q1204.19 31.6599 1200.58 31.6599 Q1196.24 31.6599 1192.75 35.308 Q1189.27 38.956 1189.27 45.1044 L1189.27 60.5164 Q1189.27 63.2217 1190.3 63.7955 Q1191.36 64.3284 1195.79 64.3284 L1195.79 66.9107 Q1187.22 66.6648 1186.4 66.6648 Q1185.75 66.6648 1176.93 66.9107 Z\" fill=\"#000000\" fill-rule=\"evenodd\" fill-opacity=\"1\" /><path clip-path=\"url(#clip740)\" d=\"M 0 0 M1259.29 59.8606 Q1250.68 50.9659 1250.68 38.2182 Q1250.68 25.4296 1259.37 16.5759 Q1268.06 7.7222 1279.87 7.7222 Q1282.82 7.7222 1285.32 8.41902 Q1287.86 9.07485 1289.87 10.4275 Q1291.88 11.7392 1292.9 12.6409 Q1293.97 13.5017 1295.4 14.9363 L1299.62 8.74693 Q1300.28 7.7222 1300.93 7.7222 Q1301.63 7.7222 1301.75 8.13209 Q1301.88 8.501 1301.88 9.73068 L1301.88 29.6515 Q1301.88 31.0041 1301.71 31.332 Q1301.55 31.6599 1300.52 31.6599 Q1299.7 31.6599 1299.54 31.414 Q1299.38 31.1681 1299.17 30.2253 Q1297.9 21.1667 1292.82 15.7561 Q1287.78 10.3455 1280.89 10.3455 Q1278.88 10.3455 1276.63 10.7964 Q1274.41 11.2473 1271.14 12.9688 Q1267.9 14.6904 1265.4 17.5186 Q1262.94 20.3059 1261.13 25.7165 Q1259.33 31.0861 1259.33 38.2182 Q1259.33 45.2684 1261.13 50.679 Q1262.94 56.0895 1265.44 58.9178 Q1267.98 61.7051 1271.26 63.4676 Q1274.58 65.2302 1276.91 65.722 Q1279.29 66.1729 1281.38 66.1729 Q1282.82 66.1729 1284.5 65.886 Q1286.18 65.5581 1288.68 64.6563 Q1291.22 63.7136 1292.82 61.5001 Q1294.42 59.2867 1294.42 56.0076 L1294.42 50.638 Q1294.42 48.1376 1293.19 47.3588 Q1291.96 46.58 1286.59 46.58 L1283.92 46.58 L1283.92 43.9977 Q1286.96 44.2436 1297.41 44.2436 Q1298.35 44.2436 1307.66 43.9977 L1307.66 46.58 Q1303.64 46.58 1302.74 47.1949 Q1301.88 47.7687 1301.88 50.2691 L1301.88 64.9022 Q1301.88 66.8287 1301.14 66.8287 Q1300.48 66.8287 1298.52 64.9432 Q1296.59 63.0577 1295.73 61.6231 Q1293.72 65.1482 1289.33 66.9517 Q1284.99 68.7552 1280.03 68.7552 Q1267.94 68.7552 1259.29 59.8606 Z\" fill=\"#000000\" fill-rule=\"evenodd\" fill-opacity=\"1\" /><path clip-path=\"url(#clip740)\" d=\"M 0 0 M1315.83 66.9107 L1315.83 64.3284 Q1320.29 64.3284 1321.32 63.7955 Q1322.34 63.2217 1322.34 60.5164 L1322.34 37.9313 Q1322.34 34.8161 1321.28 34.0783 Q1320.25 33.3405 1316.15 33.3405 L1316.15 30.7172 L1327.88 29.8154 L1327.88 60.5984 Q1327.88 63.0987 1328.78 63.7136 Q1329.68 64.3284 1333.78 64.3284 L1333.78 66.9107 Q1325.21 66.6648 1325.05 66.6648 Q1323.9 66.6648 1315.83 66.9107 M1319.35 15.1822 Q1319.35 13.5017 1320.62 12.149 Q1321.93 10.7554 1323.78 10.7554 Q1325.62 10.7554 1326.93 12.0261 Q1328.25 13.2558 1328.25 15.2232 Q1328.25 17.1497 1326.93 18.4204 Q1325.62 19.6501 1323.78 19.6501 Q1321.85 19.6501 1320.58 18.2974 Q1319.35 16.9448 1319.35 15.1822 Z\" fill=\"#000000\" fill-rule=\"evenodd\" fill-opacity=\"1\" /><path clip-path=\"url(#clip740)\" d=\"M 0 0 M1338.84 33.3405 L1338.84 30.7172 Q1342.61 30.9631 1347 30.9631 Q1348.6 30.9631 1356.14 30.7172 L1356.14 33.3405 Q1351.34 33.3405 1351.34 35.5129 Q1351.34 35.8408 1351.83 36.9476 L1361.26 60.3524 L1369.83 38.956 Q1370.32 37.5214 1370.32 36.9476 Q1370.32 35.5129 1369.34 34.4882 Q1368.39 33.4225 1366.3 33.3405 L1366.3 30.7172 Q1370.57 30.9631 1373.6 30.9631 Q1377.04 30.9631 1379.87 30.7172 L1379.87 33.3405 Q1377.37 33.3405 1375.61 34.4882 Q1373.84 35.5949 1373.27 36.5787 Q1372.74 37.5214 1372.16 38.956 L1361.18 66.2549 Q1360.52 67.8535 1359.42 67.8535 Q1358.68 67.8535 1358.35 67.5256 Q1358.06 67.2386 1357.65 66.2549 L1345.56 36.4557 Q1344.74 34.3652 1343.68 33.8734 Q1342.61 33.3405 1338.84 33.3405 Z\" fill=\"#000000\" fill-rule=\"evenodd\" fill-opacity=\"1\" /><path clip-path=\"url(#clip740)\" d=\"M 0 0 M1381.76 48.4246 Q1381.76 40.5136 1386.84 34.8981 Q1391.92 29.2826 1399.22 29.2826 Q1406.6 29.2826 1410.41 34.0783 Q1414.26 38.8741 1414.26 45.7603 Q1414.26 47.0309 1413.94 47.2769 Q1413.61 47.5228 1412.17 47.5228 L1388.73 47.5228 Q1388.73 56.0895 1391.27 60.1065 Q1394.79 65.722 1400.74 65.722 Q1401.56 65.722 1402.54 65.5581 Q1403.52 65.3941 1405.53 64.6973 Q1407.54 63.9595 1409.3 62.033 Q1411.07 60.1065 1412.09 57.0733 Q1412.34 55.8846 1413.16 55.9256 Q1414.26 55.9256 1414.26 56.9093 Q1414.26 57.6471 1413.44 59.3277 Q1412.67 60.9673 1411.15 62.9348 Q1409.63 64.9022 1406.68 66.3779 Q1403.77 67.8535 1400.25 67.8535 Q1392.87 67.8535 1387.29 62.2789 Q1381.76 56.6634 1381.76 48.4246 M1388.81 45.7603 L1408.73 45.7603 Q1408.73 43.9977 1408.4 42.0302 Q1408.12 40.0627 1407.21 37.3574 Q1406.35 34.6112 1404.3 32.8896 Q1402.25 31.1681 1399.22 31.1681 Q1397.87 31.1681 1396.39 31.7419 Q1394.96 32.3158 1393.2 33.7094 Q1391.43 35.103 1390.2 38.2592 Q1388.97 41.4154 1388.81 45.7603 Z\" fill=\"#000000\" fill-rule=\"evenodd\" fill-opacity=\"1\" /><path clip-path=\"url(#clip740)\" d=\"M 0 0 M1418.65 66.9107 L1418.65 64.3284 Q1423.12 64.3284 1424.15 63.7955 Q1425.17 63.2217 1425.17 60.5164 L1425.17 38.0133 Q1425.17 34.8981 1424.06 34.1193 Q1423 33.3405 1418.65 33.3405 L1418.65 30.7172 L1430.46 29.8154 L1430.46 38.6281 Q1434.39 29.8154 1442.88 29.8154 Q1449.19 29.8154 1451.69 32.9306 Q1453.54 35.0211 1453.91 37.3574 Q1454.32 39.6938 1454.32 45.7603 L1454.32 61.7871 Q1454.4 63.5496 1455.75 63.9595 Q1457.1 64.3284 1460.87 64.3284 L1460.87 66.9107 Q1452.31 66.6648 1451.45 66.6648 Q1450.79 66.6648 1441.98 66.9107 L1441.98 64.3284 Q1446.45 64.3284 1447.47 63.7955 Q1448.54 63.2217 1448.54 60.5164 L1448.54 40.9645 Q1448.54 36.7016 1447.22 34.2013 Q1445.91 31.6599 1442.31 31.6599 Q1437.96 31.6599 1434.48 35.308 Q1430.99 38.956 1430.99 45.1044 L1430.99 60.5164 Q1430.99 63.2217 1432.02 63.7955 Q1433.08 64.3284 1437.51 64.3284 L1437.51 66.9107 Q1428.94 66.6648 1428.12 66.6648 Q1427.47 66.6648 1418.65 66.9107 Z\" fill=\"#000000\" fill-rule=\"evenodd\" fill-opacity=\"1\" /><path clip-path=\"url(#clip740)\" d=\"M 0 0 M1492.4 66.9107 L1492.4 64.3284 L1494.41 64.3284 Q1498.96 64.3284 1499.99 63.5906 Q1501.05 62.8118 1501.05 60.3524 L1501.05 16.125 Q1501.05 13.7066 1499.99 12.9688 Q1498.92 12.19 1494.41 12.19 L1492.4 12.19 L1492.4 9.56672 Q1495.35 9.81265 1504.82 9.81265 Q1514.21 9.81265 1517.16 9.56672 L1517.16 12.19 L1515.15 12.19 Q1510.6 12.19 1509.54 12.9688 Q1508.51 13.7066 1508.51 16.125 L1508.51 35.7589 L1533.6 35.7589 L1533.6 16.125 Q1533.6 13.7066 1532.53 12.9688 Q1531.51 12.19 1526.96 12.19 L1524.95 12.19 L1524.95 9.56672 Q1527.9 9.81265 1537.37 9.81265 Q1546.76 9.81265 1549.71 9.56672 L1549.71 12.19 L1547.7 12.19 Q1543.15 12.19 1542.08 12.9688 Q1541.06 13.7066 1541.06 16.125 L1541.06 60.3524 Q1541.06 62.7708 1542.12 63.5496 Q1543.19 64.3284 1547.7 64.3284 L1549.71 64.3284 L1549.71 66.9107 Q1546.76 66.6648 1537.29 66.6648 Q1527.9 66.6648 1524.95 66.9107 L1524.95 64.3284 L1526.96 64.3284 Q1531.51 64.3284 1532.53 63.5906 Q1533.6 62.8118 1533.6 60.3524 L1533.6 38.3822 L1508.51 38.3822 L1508.51 60.3524 Q1508.51 62.7708 1509.54 63.5496 Q1510.6 64.3284 1515.15 64.3284 L1517.16 64.3284 L1517.16 66.9107 Q1514.21 66.6648 1504.74 66.6648 Q1495.35 66.6648 1492.4 66.9107 Z\" fill=\"#000000\" fill-rule=\"evenodd\" fill-opacity=\"1\" /><path clip-path=\"url(#clip740)\" d=\"M 0 0 M1554.75 66.9107 L1554.75 64.3284 Q1559.22 64.3284 1560.24 63.7955 Q1561.26 63.2217 1561.26 60.5164 L1561.26 37.9313 Q1561.26 34.8161 1560.2 34.0783 Q1559.17 33.3405 1555.08 33.3405 L1555.08 30.7172 L1566.8 29.8154 L1566.8 60.5984 Q1566.8 63.0987 1567.7 63.7136 Q1568.6 64.3284 1572.7 64.3284 L1572.7 66.9107 Q1564.13 66.6648 1563.97 66.6648 Q1562.82 66.6648 1554.75 66.9107 M1558.27 15.1822 Q1558.27 13.5017 1559.54 12.149 Q1560.85 10.7554 1562.7 10.7554 Q1564.54 10.7554 1565.86 12.0261 Q1567.17 13.2558 1567.17 15.2232 Q1567.17 17.1497 1565.86 18.4204 Q1564.54 19.6501 1562.7 19.6501 Q1560.77 19.6501 1559.5 18.2974 Q1558.27 16.9448 1558.27 15.1822 Z\" fill=\"#000000\" fill-rule=\"evenodd\" fill-opacity=\"1\" /><path clip-path=\"url(#clip740)\" d=\"M 0 0 M1577.76 73.551 Q1577.76 70.8457 1579.81 68.5093 Q1581.9 66.1729 1585.51 65.1482 Q1581.82 62.8118 1581.82 57.6881 Q1581.82 53.7532 1584.4 50.72 Q1580.47 47.4408 1580.47 42.0712 Q1580.47 37.1115 1584.4 33.4635 Q1588.34 29.8154 1594.07 29.8154 Q1599.12 29.8154 1602.97 32.8486 Q1606.99 28.9137 1611.86 28.8727 Q1614.04 28.8727 1615.06 30.2253 Q1616.13 31.578 1616.13 33.0126 Q1616.13 34.2833 1615.31 34.8981 Q1614.53 35.5129 1613.71 35.5129 Q1612.68 35.5129 1611.95 34.8571 Q1611.25 34.1603 1611.25 33.0946 Q1611.25 31.332 1612.6 30.7992 Q1612.36 30.7172 1611.78 30.7172 Q1607.68 30.7172 1604.2 33.9963 Q1607.64 37.1935 1607.64 42.1532 Q1607.64 47.1129 1603.71 50.7609 Q1599.77 54.409 1594.07 54.409 Q1589.36 54.409 1585.75 51.7857 Q1584.32 53.4662 1584.32 55.7616 Q1584.32 57.8521 1585.59 59.4917 Q1586.86 61.1312 1588.79 61.3772 Q1589.36 61.4591 1595.06 61.4591 Q1598.42 61.4591 1600.26 61.5411 Q1602.11 61.6231 1604.73 62.197 Q1607.4 62.7298 1609.49 63.7955 Q1614.94 66.8287 1614.98 73.387 Q1614.98 78.1828 1609.45 81.175 Q1603.95 84.2082 1596.33 84.2082 Q1588.62 84.2082 1583.17 81.134 Q1577.76 78.1008 1577.76 73.551 M1582.15 73.551 Q1582.15 76.9941 1586.2 79.6174 Q1590.26 82.2817 1596.41 82.2817 Q1602.44 82.2817 1606.49 79.6584 Q1610.59 77.0761 1610.59 73.551 Q1610.59 71.0506 1609.16 69.4521 Q1607.72 67.8535 1604.77 67.1976 Q1601.86 66.5828 1599.81 66.4598 Q1597.76 66.3369 1593.99 66.3369 L1589.03 66.3369 Q1586.16 66.5008 1584.16 68.5913 Q1582.15 70.6817 1582.15 73.551 M1586.74 42.1532 Q1586.74 52.4825 1594.07 52.4825 Q1597.76 52.4825 1600.02 49.1214 Q1601.37 46.867 1601.37 42.0712 Q1601.37 31.7419 1594.07 31.7419 Q1590.39 31.7419 1588.09 35.103 Q1586.74 37.3574 1586.74 42.1532 Z\" fill=\"#000000\" fill-rule=\"evenodd\" fill-opacity=\"1\" /><path clip-path=\"url(#clip740)\" d=\"M 0 0 M1619.32 66.9107 L1619.32 64.3284 Q1623.79 64.3284 1624.82 63.7955 Q1625.84 63.2217 1625.84 60.5164 L1625.84 16.8628 Q1625.84 13.7476 1624.73 12.9688 Q1623.67 12.19 1619.32 12.19 L1619.32 9.56672 L1631.37 8.66495 L1631.37 37.8493 L1631.46 37.8493 Q1632.81 34.8161 1635.84 32.3158 Q1638.88 29.8154 1643.55 29.8154 Q1649.86 29.8154 1652.36 32.9306 Q1654.21 35.0211 1654.57 37.3574 Q1654.98 39.6938 1654.98 45.7603 L1654.98 61.7871 Q1655.07 63.5496 1656.42 63.9595 Q1657.77 64.3284 1661.54 64.3284 L1661.54 66.9107 Q1652.98 66.6648 1652.11 66.6648 Q1651.46 66.6648 1642.65 66.9107 L1642.65 64.3284 Q1647.11 64.3284 1648.14 63.7955 Q1649.2 63.2217 1649.2 60.5164 L1649.2 40.9645 Q1649.2 36.7016 1647.89 34.2013 Q1646.58 31.6599 1642.97 31.6599 Q1638.63 31.6599 1635.15 35.308 Q1631.66 38.956 1631.66 45.1044 L1631.66 60.5164 Q1631.66 63.2217 1632.69 63.7955 Q1633.75 64.3284 1638.18 64.3284 L1638.18 66.9107 Q1629.61 66.6648 1628.79 66.6648 Q1628.14 66.6648 1619.32 66.9107 Z\" fill=\"#000000\" fill-rule=\"evenodd\" fill-opacity=\"1\" /><path clip-path=\"url(#clip740)\" d=\"M 0 0 M1731.07 35.103 Q1731.07 37.4394 1729.63 38.8331 Q1728.24 40.2267 1726.48 40.2267 Q1724.92 40.2267 1724.1 39.3249 Q1723.28 38.4232 1723.28 37.2755 Q1723.28 36.7836 1723.49 36.1688 Q1723.69 35.5129 1724.14 34.7341 Q1724.63 33.9553 1725.66 33.3815 Q1726.68 32.8076 1728.08 32.7257 Q1727.79 32.4387 1727.71 32.3977 Q1727.09 31.9059 1725.95 31.7419 Q1725.78 31.6599 1725.21 31.6599 Q1722.38 31.6599 1719.51 33.7504 Q1716.68 35.7999 1713.2 39.6938 Q1708.81 44.2436 1705.98 45.9242 Q1718.4 47.5638 1718.4 54.7369 Q1718.4 55.9256 1718.08 57.3602 Q1717.42 60.0655 1717.42 62.033 Q1717.42 65.968 1720.08 65.968 Q1722.67 65.968 1724.31 63.3447 Q1725.99 60.7213 1727.38 55.5977 Q1727.59 54.6549 1727.79 54.368 Q1728 54.0811 1728.57 54.0811 Q1729.59 54.0811 1729.59 54.9009 Q1728.65 59.6966 1726.56 63.3856 Q1723.9 67.8535 1719.92 67.8535 Q1716.6 67.8535 1714.39 65.5581 Q1712.21 63.2217 1712.21 59.5326 Q1712.21 58.6309 1712.54 56.5814 Q1712.79 55.7616 1712.79 54.8189 Q1712.79 52.8924 1711.72 51.4578 Q1710.66 49.9821 1708.94 49.2443 Q1707.21 48.5065 1705.78 48.1786 Q1704.39 47.8097 1703.03 47.6867 Q1698.93 65.0252 1698.36 66.0909 Q1697.99 66.8287 1697.17 67.3206 Q1696.35 67.8535 1695.49 67.8535 Q1694.67 67.8535 1693.85 67.2796 Q1693.07 66.7468 1693.07 65.4761 Q1693.07 64.8203 1693.4 63.6316 L1705.57 15.2642 L1705.82 13.6247 Q1705.82 13.1328 1705.62 12.8869 Q1705.45 12.5999 1704.47 12.395 Q1703.52 12.19 1701.64 12.19 Q1700.86 12.19 1700.49 12.149 Q1700.16 12.1081 1699.88 11.9031 Q1699.59 11.6572 1699.59 11.1653 Q1699.59 10.4685 1699.88 10.0996 Q1700.2 9.68969 1700.45 9.60771 Q1700.7 9.52573 1701.19 9.48474 Q1701.89 9.44375 1704.22 9.2388 Q1706.56 8.99287 1708.57 8.82891 Q1710.57 8.66495 1711.44 8.66495 Q1711.93 8.66495 1712.17 8.91089 Q1712.46 9.11584 1712.5 9.36177 L1712.54 9.56672 L1703.81 44.9815 Q1707.42 43.5468 1713.12 37.1935 Q1719.72 29.8154 1725.37 29.8154 Q1728.04 29.8154 1729.55 31.455 Q1731.07 33.0536 1731.07 35.103 Z\" fill=\"#000000\" fill-rule=\"evenodd\" fill-opacity=\"1\" /><path clip-path=\"url(#clip740)\" d=\"M 0 0 M1739.66 72.2728 Q1739.66 63.6363 1741.84 58.9307 Q1744.88 51.9298 1752.05 51.9298 Q1753.57 51.9298 1755.15 52.3602 Q1756.76 52.7619 1758.77 54.34 Q1760.8 55.918 1762.04 58.5004 Q1764.39 63.4929 1764.39 72.2728 Q1764.39 80.8518 1762.21 85.5287 Q1759.02 92.3575 1752 92.3575 Q1749.36 92.3575 1746.66 91.009 Q1743.99 89.6604 1742.3 86.4182 Q1739.66 81.5691 1739.66 72.2728 M1744.54 71.5554 Q1744.54 80.4214 1745.17 83.9506 Q1745.88 87.7667 1747.83 89.4309 Q1749.81 91.0663 1752 91.0663 Q1754.35 91.0663 1756.3 89.3161 Q1758.28 87.5372 1758.88 83.7211 Q1759.54 79.9623 1759.51 71.5554 Q1759.51 63.3781 1758.94 60.1071 Q1758.16 56.291 1756.1 54.7703 Q1754.06 53.2209 1752 53.2209 Q1751.22 53.2209 1750.39 53.4505 Q1749.59 53.68 1748.41 54.34 Q1747.23 54.9999 1746.31 56.6354 Q1745.42 58.2708 1744.99 60.7384 Q1744.54 63.9232 1744.54 71.5554 Z\" fill=\"#000000\" fill-rule=\"evenodd\" fill-opacity=\"1\" /><polyline clip-path=\"url(#clip743)\" style=\"stroke:#009af9; stroke-width:12; stroke-opacity:1; fill:none\" points=\"\n",
       "  207.507,719.795 228.545,767.773 249.583,772.502 270.621,820.398 291.659,824.995 312.697,872.738 333.735,877.131 354.773,924.65 375.811,928.77 396.85,932.991 \n",
       "  417.888,980.319 438.926,984.192 459.964,988.147 481.002,1035.19 502.04,1038.72 523.078,1042.32 544.116,1088.98 565.154,1092.09 586.192,1095.24 607.23,1098.44 \n",
       "  628.268,1144.69 649.306,1147.32 670.344,1149.99 691.382,1152.69 712.42,1155.42 733.458,1201.19 754.496,1203.29 775.534,1205.4 796.572,1207.54 817.61,1209.69 \n",
       "  838.648,1211.87 859.686,1214.06 880.724,1216.28 901.762,1261.52 922.8,1263.02 943.839,1264.53 964.877,1266.05 985.915,1267.58 1006.95,1269.12 1027.99,1270.67 \n",
       "  1049.03,1272.23 1070.07,1273.8 1091.1,1275.37 1112.14,1319.96 1133.18,1320.76 1154.22,1321.56 1175.26,1322.36 1196.29,1323.17 1217.33,1323.98 1238.37,1324.79 \n",
       "  1259.41,1325.6 1280.45,1326.41 1301.49,1327.23 1322.52,1328.05 1343.56,1328.88 1364.6,1329.7 1385.64,1330.53 1406.68,1331.36 1427.71,1332.19 1448.75,1333.03 \n",
       "  1469.79,1333.87 1490.83,1334.71 1511.87,1335.55 1532.9,1336.4 1553.94,1337.25 1574.98,1338.1 1596.02,1338.95 1617.06,1339.81 1638.09,1340.67 1659.13,1341.53 \n",
       "  1680.17,1342.4 1701.21,1386.27 1722.25,1386.27 1743.28,1386.27 1764.32,1386.27 1785.36,1386.27 1806.4,1386.27 1827.44,1386.27 1848.47,1386.27 1869.51,1386.27 \n",
       "  1890.55,1386.27 1911.59,1386.27 1932.63,1386.27 1953.66,1386.27 1974.7,1386.27 1995.74,1386.27 2016.78,1386.27 2037.82,1386.27 2058.85,1386.27 2079.89,1386.27 \n",
       "  2100.93,1386.27 2121.97,1386.27 2143.01,1386.27 2164.04,1386.27 2185.08,1386.27 2206.12,1386.27 2227.16,1386.27 2248.2,1386.27 2269.23,1386.27 2290.27,1386.27 \n",
       "  \n",
       "  \"/>\n",
       "<polyline clip-path=\"url(#clip743)\" style=\"stroke:#e26f46; stroke-width:12; stroke-opacity:1; fill:none\" points=\"\n",
       "  207.507,155.871 228.545,215.056 249.583,269.309 270.621,323.562 291.659,372.882 312.697,422.203 333.735,466.592 354.773,510.98 375.811,550.437 396.85,589.893 \n",
       "  417.888,629.35 438.926,663.874 459.964,698.399 481.002,732.923 502.04,762.516 523.078,792.108 544.116,821.7 565.154,846.361 586.192,871.021 607.23,895.681 \n",
       "  628.268,920.342 649.306,940.07 670.344,959.798 691.382,979.527 712.42,999.255 733.458,1018.98 754.496,1033.78 775.534,1048.58 796.572,1063.37 817.61,1078.17 \n",
       "  838.648,1092.96 859.686,1107.76 880.724,1122.56 901.762,1137.35 922.8,1147.22 943.839,1157.08 964.877,1166.95 985.915,1176.81 1006.95,1186.67 1027.99,1196.54 \n",
       "  1049.03,1206.4 1070.07,1216.27 1091.1,1226.13 1112.14,1235.99 1133.18,1240.93 1154.22,1245.86 1175.26,1250.79 1196.29,1255.72 1217.33,1260.65 1238.37,1265.59 \n",
       "  1259.41,1270.52 1280.45,1275.45 1301.49,1280.38 1322.52,1285.31 1343.56,1290.25 1364.6,1295.18 1385.64,1300.11 1406.68,1305.04 1427.71,1309.98 1448.75,1314.91 \n",
       "  1469.79,1319.84 1490.83,1324.77 1511.87,1329.7 1532.9,1334.64 1553.94,1339.57 1574.98,1344.5 1596.02,1349.43 1617.06,1354.36 1638.09,1359.3 1659.13,1364.23 \n",
       "  1680.17,1369.16 1701.21,1374.09 1722.25,1374.09 1743.28,1374.09 1764.32,1374.09 1785.36,1374.09 1806.4,1374.09 1827.44,1374.09 1848.47,1374.09 1869.51,1374.09 \n",
       "  1890.55,1374.09 1911.59,1374.09 1932.63,1374.09 1953.66,1374.09 1974.7,1374.09 1995.74,1374.09 2016.78,1374.09 2037.82,1374.09 2058.85,1374.09 2079.89,1374.09 \n",
       "  2100.93,1374.09 2121.97,1374.09 2143.01,1374.09 2164.04,1374.09 2185.08,1374.09 2206.12,1374.09 2227.16,1374.09 2248.2,1374.09 2269.23,1374.09 2290.27,1374.09 \n",
       "  \n",
       "  \"/>\n",
       "<path clip-path=\"url(#clip740)\" d=\"\n",
       "M1757.17 343.873 L2279.16 343.873 L2279.16 162.433 L1757.17 162.433  Z\n",
       "  \" fill=\"#ffffff\" fill-rule=\"evenodd\" fill-opacity=\"1\"/>\n",
       "<polyline clip-path=\"url(#clip740)\" style=\"stroke:#000000; stroke-width:4; stroke-opacity:1; fill:none\" points=\"\n",
       "  1757.17,343.873 2279.16,343.873 2279.16,162.433 1757.17,162.433 1757.17,343.873 \n",
       "  \"/>\n",
       "<polyline clip-path=\"url(#clip740)\" style=\"stroke:#009af9; stroke-width:4; stroke-opacity:1; fill:none\" points=\"\n",
       "  1781.7,222.913 1928.89,222.913 \n",
       "  \"/>\n",
       "<path clip-path=\"url(#clip740)\" d=\"M 0 0 M1981.29 208.295 L1981.29 213.226 Q1978.92 211.027 1976.24 209.939 Q1973.58 208.851 1970.57 208.851 Q1964.64 208.851 1961.49 212.485 Q1958.35 216.096 1958.35 222.948 Q1958.35 229.777 1961.49 233.411 Q1964.64 237.022 1970.57 237.022 Q1973.58 237.022 1976.24 235.934 Q1978.92 234.846 1981.29 232.647 L1981.29 237.531 Q1978.83 239.198 1976.08 240.031 Q1973.35 240.865 1970.29 240.865 Q1962.44 240.865 1957.93 236.073 Q1953.42 231.258 1953.42 222.948 Q1953.42 214.615 1957.93 209.823 Q1962.44 205.008 1970.29 205.008 Q1973.39 205.008 1976.12 205.842 Q1978.88 206.652 1981.29 208.295 Z\" fill=\"#000000\" fill-rule=\"evenodd\" fill-opacity=\"1\" /><path clip-path=\"url(#clip740)\" d=\"M 0 0 M1995.8 217.254 Q1992.37 217.254 1990.38 219.939 Q1988.39 222.601 1988.39 227.254 Q1988.39 231.906 1990.36 234.592 Q1992.35 237.254 1995.8 237.254 Q1999.2 237.254 2001.19 234.568 Q2003.18 231.883 2003.18 227.254 Q2003.18 222.647 2001.19 219.962 Q1999.2 217.254 1995.8 217.254 M1995.8 213.643 Q2001.36 213.643 2004.53 217.254 Q2007.7 220.865 2007.7 227.254 Q2007.7 233.619 2004.53 237.254 Q2001.36 240.865 1995.8 240.865 Q1990.22 240.865 1987.05 237.254 Q1983.9 233.619 1983.9 227.254 Q1983.9 220.865 1987.05 217.254 Q1990.22 213.643 1995.8 213.643 Z\" fill=\"#000000\" fill-rule=\"evenodd\" fill-opacity=\"1\" /><path clip-path=\"url(#clip740)\" d=\"M 0 0 M2033.72 224.545 L2033.72 240.193 L2029.46 240.193 L2029.46 224.684 Q2029.46 221.004 2028.02 219.175 Q2026.59 217.346 2023.72 217.346 Q2020.27 217.346 2018.28 219.545 Q2016.29 221.744 2016.29 225.541 L2016.29 240.193 L2012 240.193 L2012 214.268 L2016.29 214.268 L2016.29 218.295 Q2017.81 215.957 2019.87 214.8 Q2021.96 213.643 2024.67 213.643 Q2029.13 213.643 2031.42 216.42 Q2033.72 219.175 2033.72 224.545 Z\" fill=\"#000000\" fill-rule=\"evenodd\" fill-opacity=\"1\" /><path clip-path=\"url(#clip740)\" d=\"M 0 0 M2054.71 215.032 L2054.71 219.059 Q2052.91 218.133 2050.96 217.67 Q2049.02 217.207 2046.93 217.207 Q2043.76 217.207 2042.17 218.18 Q2040.59 219.152 2040.59 221.096 Q2040.59 222.578 2041.73 223.434 Q2042.86 224.268 2046.29 225.031 L2047.74 225.356 Q2052.28 226.328 2054.18 228.11 Q2056.1 229.869 2056.1 233.041 Q2056.1 236.652 2053.23 238.758 Q2050.38 240.865 2045.38 240.865 Q2043.3 240.865 2041.03 240.448 Q2038.79 240.055 2036.29 239.244 L2036.29 234.846 Q2038.65 236.073 2040.94 236.698 Q2043.23 237.3 2045.48 237.3 Q2048.48 237.3 2050.11 236.281 Q2051.73 235.24 2051.73 233.365 Q2051.73 231.629 2050.54 230.703 Q2049.39 229.777 2045.43 228.92 L2043.95 228.573 Q2039.99 227.74 2038.23 226.027 Q2036.47 224.291 2036.47 221.281 Q2036.47 217.624 2039.06 215.633 Q2041.66 213.643 2046.42 213.643 Q2048.79 213.643 2050.87 213.99 Q2052.95 214.337 2054.71 215.032 Z\" fill=\"#000000\" fill-rule=\"evenodd\" fill-opacity=\"1\" /><path clip-path=\"url(#clip740)\" d=\"M 0 0 M2060.13 229.962 L2060.13 214.268 L2064.39 214.268 L2064.39 229.8 Q2064.39 233.481 2065.82 235.332 Q2067.26 237.161 2070.13 237.161 Q2073.58 237.161 2075.57 234.962 Q2077.58 232.763 2077.58 228.967 L2077.58 214.268 L2081.84 214.268 L2081.84 240.193 L2077.58 240.193 L2077.58 236.212 Q2076.03 238.573 2073.97 239.73 Q2071.93 240.865 2069.23 240.865 Q2064.76 240.865 2062.44 238.087 Q2060.13 235.309 2060.13 229.962 M2070.85 213.643 L2070.85 213.643 Z\" fill=\"#000000\" fill-rule=\"evenodd\" fill-opacity=\"1\" /><path clip-path=\"url(#clip740)\" d=\"M 0 0 M2106.49 219.244 Q2108.09 216.374 2110.31 215.008 Q2112.54 213.643 2115.54 213.643 Q2119.6 213.643 2121.79 216.49 Q2123.99 219.314 2123.99 224.545 L2123.99 240.193 L2119.71 240.193 L2119.71 224.684 Q2119.71 220.957 2118.39 219.152 Q2117.07 217.346 2114.36 217.346 Q2111.05 217.346 2109.13 219.545 Q2107.21 221.744 2107.21 225.541 L2107.21 240.193 L2102.93 240.193 L2102.93 224.684 Q2102.93 220.934 2101.61 219.152 Q2100.29 217.346 2097.54 217.346 Q2094.27 217.346 2092.35 219.569 Q2090.43 221.768 2090.43 225.541 L2090.43 240.193 L2086.15 240.193 L2086.15 214.268 L2090.43 214.268 L2090.43 218.295 Q2091.89 215.911 2093.92 214.777 Q2095.96 213.643 2098.76 213.643 Q2101.59 213.643 2103.55 215.078 Q2105.54 216.513 2106.49 219.244 Z\" fill=\"#000000\" fill-rule=\"evenodd\" fill-opacity=\"1\" /><path clip-path=\"url(#clip740)\" d=\"M 0 0 M2132.58 236.305 L2132.58 250.054 L2128.3 250.054 L2128.3 214.268 L2132.58 214.268 L2132.58 218.203 Q2133.92 215.888 2135.96 214.777 Q2138.02 213.643 2140.87 213.643 Q2145.59 213.643 2148.53 217.393 Q2151.49 221.143 2151.49 227.254 Q2151.49 233.365 2148.53 237.115 Q2145.59 240.865 2140.87 240.865 Q2138.02 240.865 2135.96 239.754 Q2133.92 238.619 2132.58 236.305 M2147.07 227.254 Q2147.07 222.555 2145.13 219.893 Q2143.21 217.207 2139.83 217.207 Q2136.45 217.207 2134.5 219.893 Q2132.58 222.555 2132.58 227.254 Q2132.58 231.953 2134.5 234.638 Q2136.45 237.3 2139.83 237.3 Q2143.21 237.3 2145.13 234.638 Q2147.07 231.953 2147.07 227.254 Z\" fill=\"#000000\" fill-rule=\"evenodd\" fill-opacity=\"1\" /><path clip-path=\"url(#clip740)\" d=\"M 0 0 M2160.17 206.907 L2160.17 214.268 L2168.95 214.268 L2168.95 217.578 L2160.17 217.578 L2160.17 231.652 Q2160.17 234.823 2161.03 235.726 Q2161.91 236.629 2164.57 236.629 L2168.95 236.629 L2168.95 240.193 L2164.57 240.193 Q2159.64 240.193 2157.77 238.365 Q2155.89 236.513 2155.89 231.652 L2155.89 217.578 L2152.77 217.578 L2152.77 214.268 L2155.89 214.268 L2155.89 206.907 L2160.17 206.907 Z\" fill=\"#000000\" fill-rule=\"evenodd\" fill-opacity=\"1\" /><path clip-path=\"url(#clip740)\" d=\"M 0 0 M2173.41 214.268 L2177.67 214.268 L2177.67 240.193 L2173.41 240.193 L2173.41 214.268 M2173.41 204.175 L2177.67 204.175 L2177.67 209.569 L2173.41 209.569 L2173.41 204.175 Z\" fill=\"#000000\" fill-rule=\"evenodd\" fill-opacity=\"1\" /><path clip-path=\"url(#clip740)\" d=\"M 0 0 M2192.19 217.254 Q2188.76 217.254 2186.77 219.939 Q2184.78 222.601 2184.78 227.254 Q2184.78 231.906 2186.75 234.592 Q2188.74 237.254 2192.19 237.254 Q2195.59 237.254 2197.58 234.568 Q2199.57 231.883 2199.57 227.254 Q2199.57 222.647 2197.58 219.962 Q2195.59 217.254 2192.19 217.254 M2192.19 213.643 Q2197.74 213.643 2200.91 217.254 Q2204.09 220.865 2204.09 227.254 Q2204.09 233.619 2200.91 237.254 Q2197.74 240.865 2192.19 240.865 Q2186.61 240.865 2183.44 237.254 Q2180.29 233.619 2180.29 227.254 Q2180.29 220.865 2183.44 217.254 Q2186.61 213.643 2192.19 213.643 Z\" fill=\"#000000\" fill-rule=\"evenodd\" fill-opacity=\"1\" /><path clip-path=\"url(#clip740)\" d=\"M 0 0 M2230.1 224.545 L2230.1 240.193 L2225.84 240.193 L2225.84 224.684 Q2225.84 221.004 2224.41 219.175 Q2222.97 217.346 2220.1 217.346 Q2216.66 217.346 2214.66 219.545 Q2212.67 221.744 2212.67 225.541 L2212.67 240.193 L2208.39 240.193 L2208.39 214.268 L2212.67 214.268 L2212.67 218.295 Q2214.2 215.957 2216.26 214.8 Q2218.34 213.643 2221.05 213.643 Q2225.52 213.643 2227.81 216.42 Q2230.1 219.175 2230.1 224.545 Z\" fill=\"#000000\" fill-rule=\"evenodd\" fill-opacity=\"1\" /><polyline clip-path=\"url(#clip740)\" style=\"stroke:#e26f46; stroke-width:4; stroke-opacity:1; fill:none\" points=\"\n",
       "  1781.7,283.393 1928.89,283.393 \n",
       "  \"/>\n",
       "<path clip-path=\"url(#clip740)\" d=\"M 0 0 M1981.29 268.775 L1981.29 273.706 Q1978.92 271.507 1976.24 270.419 Q1973.58 269.331 1970.57 269.331 Q1964.64 269.331 1961.49 272.965 Q1958.35 276.576 1958.35 283.428 Q1958.35 290.257 1961.49 293.891 Q1964.64 297.502 1970.57 297.502 Q1973.58 297.502 1976.24 296.414 Q1978.92 295.326 1981.29 293.127 L1981.29 298.011 Q1978.83 299.678 1976.08 300.511 Q1973.35 301.345 1970.29 301.345 Q1962.44 301.345 1957.93 296.553 Q1953.42 291.738 1953.42 283.428 Q1953.42 275.095 1957.93 270.303 Q1962.44 265.488 1970.29 265.488 Q1973.39 265.488 1976.12 266.322 Q1978.88 267.132 1981.29 268.775 Z\" fill=\"#000000\" fill-rule=\"evenodd\" fill-opacity=\"1\" /><path clip-path=\"url(#clip740)\" d=\"M 0 0 M1997.54 287.641 Q1992.37 287.641 1990.38 288.822 Q1988.39 290.002 1988.39 292.849 Q1988.39 295.118 1989.87 296.46 Q1991.38 297.78 1993.95 297.78 Q1997.49 297.78 1999.62 295.28 Q2001.77 292.757 2001.77 288.59 L2001.77 287.641 L1997.54 287.641 M2006.03 285.882 L2006.03 300.673 L2001.77 300.673 L2001.77 296.738 Q2000.31 299.099 1998.14 300.234 Q1995.96 301.345 1992.81 301.345 Q1988.83 301.345 1986.47 299.123 Q1984.13 296.877 1984.13 293.127 Q1984.13 288.752 1987.05 286.53 Q1989.99 284.308 1995.8 284.308 L2001.77 284.308 L2001.77 283.891 Q2001.77 280.951 1999.83 279.354 Q1997.91 277.734 1994.41 277.734 Q1992.19 277.734 1990.08 278.266 Q1987.98 278.799 1986.03 279.863 L1986.03 275.928 Q1988.37 275.025 1990.57 274.586 Q1992.77 274.123 1994.85 274.123 Q2000.48 274.123 2003.25 277.039 Q2006.03 279.956 2006.03 285.882 Z\" fill=\"#000000\" fill-rule=\"evenodd\" fill-opacity=\"1\" /><path clip-path=\"url(#clip740)\" d=\"M 0 0 M2014.62 296.785 L2014.62 310.534 L2010.34 310.534 L2010.34 274.748 L2014.62 274.748 L2014.62 278.683 Q2015.96 276.368 2018 275.257 Q2020.06 274.123 2022.91 274.123 Q2027.63 274.123 2030.57 277.873 Q2033.53 281.623 2033.53 287.734 Q2033.53 293.845 2030.57 297.595 Q2027.63 301.345 2022.91 301.345 Q2020.06 301.345 2018 300.234 Q2015.96 299.099 2014.62 296.785 M2029.11 287.734 Q2029.11 283.035 2027.17 280.373 Q2025.24 277.687 2021.86 277.687 Q2018.48 277.687 2016.54 280.373 Q2014.62 283.035 2014.62 287.734 Q2014.62 292.433 2016.54 295.118 Q2018.48 297.78 2021.86 297.78 Q2025.24 297.78 2027.17 295.118 Q2029.11 292.433 2029.11 287.734 Z\" fill=\"#000000\" fill-rule=\"evenodd\" fill-opacity=\"1\" /><path clip-path=\"url(#clip740)\" d=\"M 0 0 M2038 274.748 L2042.26 274.748 L2042.26 300.673 L2038 300.673 L2038 274.748 M2038 264.655 L2042.26 264.655 L2042.26 270.049 L2038 270.049 L2038 264.655 Z\" fill=\"#000000\" fill-rule=\"evenodd\" fill-opacity=\"1\" /><path clip-path=\"url(#clip740)\" d=\"M 0 0 M2050.94 267.387 L2050.94 274.748 L2059.71 274.748 L2059.71 278.058 L2050.94 278.058 L2050.94 292.132 Q2050.94 295.303 2051.79 296.206 Q2052.67 297.109 2055.34 297.109 L2059.71 297.109 L2059.71 300.673 L2055.34 300.673 Q2050.41 300.673 2048.53 298.845 Q2046.66 296.993 2046.66 292.132 L2046.66 278.058 L2043.53 278.058 L2043.53 274.748 L2046.66 274.748 L2046.66 267.387 L2050.94 267.387 Z\" fill=\"#000000\" fill-rule=\"evenodd\" fill-opacity=\"1\" /><path clip-path=\"url(#clip740)\" d=\"M 0 0 M2075.96 287.641 Q2070.8 287.641 2068.81 288.822 Q2066.82 290.002 2066.82 292.849 Q2066.82 295.118 2068.3 296.46 Q2069.8 297.78 2072.37 297.78 Q2075.92 297.78 2078.04 295.28 Q2080.2 292.757 2080.2 288.59 L2080.2 287.641 L2075.96 287.641 M2084.46 285.882 L2084.46 300.673 L2080.2 300.673 L2080.2 296.738 Q2078.74 299.099 2076.56 300.234 Q2074.39 301.345 2071.24 301.345 Q2067.26 301.345 2064.9 299.123 Q2062.56 296.877 2062.56 293.127 Q2062.56 288.752 2065.48 286.53 Q2068.42 284.308 2074.23 284.308 L2080.2 284.308 L2080.2 283.891 Q2080.2 280.951 2078.25 279.354 Q2076.33 277.734 2072.84 277.734 Q2070.61 277.734 2068.51 278.266 Q2066.4 278.799 2064.46 279.863 L2064.46 275.928 Q2066.79 275.025 2068.99 274.586 Q2071.19 274.123 2073.28 274.123 Q2078.9 274.123 2081.68 277.039 Q2084.46 279.956 2084.46 285.882 Z\" fill=\"#000000\" fill-rule=\"evenodd\" fill-opacity=\"1\" /><path clip-path=\"url(#clip740)\" d=\"M 0 0 M2088.92 264.655 L2093.18 264.655 L2093.18 300.673 L2088.92 300.673 L2088.92 264.655 Z\" fill=\"#000000\" fill-rule=\"evenodd\" fill-opacity=\"1\" /></svg>\n"
      ]
     },
     "execution_count": 74,
     "metadata": {},
     "output_type": "execute_result"
    }
   ],
   "source": [
    "T = 100\n",
    "k_path, c_path, grid_path = growthBellmanPath(kgrid, n_pol, k_pol, c_pol, length(kgrid), T)\n",
    "time = 1:T\n",
    "plot(time, c_path./c̄, label = \"Consumption\", lw = 3)\n",
    "plot!(time, k_path./k̄, label = \"Capital\", lw = 3, title = \"\\$ \\\\textrm{Optimal Path Given High } k_0 \\$\")\n",
    "xlabel!(\"Time\")"
   ]
  },
  {
   "cell_type": "markdown",
   "metadata": {
    "ExecuteTime": {
     "end_time": "2021-05-02T14:57:33.720000-07:00",
     "start_time": "2021-05-02T21:57:33.708Z"
    }
   },
   "source": [
    "Notice that a high initial capital implies a high initial consumption level.\n",
    "\n",
    "Over time, both variable seem to experience uniform negative growth until they convergence to their respective steady states."
   ]
  }
 ],
 "metadata": {
  "kernelspec": {
   "display_name": "Julia 1.5.4",
   "language": "julia",
   "name": "julia-1.5"
  },
  "language_info": {
   "file_extension": ".jl",
   "mimetype": "application/julia",
   "name": "julia",
   "version": "1.5.4"
  },
  "latex_envs": {
   "LaTeX_envs_menu_present": true,
   "autoclose": false,
   "autocomplete": true,
   "bibliofile": "biblio.bib",
   "cite_by": "apalike",
   "current_citInitial": 1,
   "eqLabelWithNumbers": true,
   "eqNumInitial": 1,
   "hotkeys": {
    "equation": "Ctrl-E",
    "itemize": "Ctrl-I"
   },
   "labels_anchors": false,
   "latex_user_defs": false,
   "report_style_numbering": false,
   "user_envs_cfg": false
  }
 },
 "nbformat": 4,
 "nbformat_minor": 4
}

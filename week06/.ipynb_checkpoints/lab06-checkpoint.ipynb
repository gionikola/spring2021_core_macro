{
 "cells": [
  {
   "cell_type": "markdown",
   "metadata": {},
   "source": [
    "# Solving Neoclassical Growth Models"
   ]
  },
  {
   "cell_type": "markdown",
   "metadata": {},
   "source": [
    "This lab includes:\n",
    "\n",
    "(1) An overview of a basic neoclassical growth model;\n",
    "\n",
    "(2) Solving a non-stochastic growth model using value function iteration;\n",
    "\n",
    "(3) Finding the optimal path using policy functions."
   ]
  },
  {
   "cell_type": "markdown",
   "metadata": {},
   "source": [
    "## A Basic Growth Model"
   ]
  },
  {
   "cell_type": "markdown",
   "metadata": {},
   "source": [
    "Consider the following economy.\n",
    "\n",
    "There is a representative agent who has preferences given by \n",
    "\n",
    "\\begin{align*}\n",
    "    \\sum_{t=0}^\\infty \\beta^t u(c_t) \\, ,\n",
    "\\end{align*}\n",
    "\n",
    "where $u(c_t) = \\log(c_t)$ and $\\beta \\in (0,1)$ is the discount factor."
   ]
  },
  {
   "cell_type": "markdown",
   "metadata": {},
   "source": [
    "The technology in this economy is given by \n",
    "\n",
    "\\begin{align*}\n",
    "    c_t + i_t &= y_t \\, , \\\\\n",
    "    y_t &= A k_{t}^\\alpha \\, , \\\\\n",
    "    k_{t+1} &= i_t + (1-\\delta) k_t \\, ,\n",
    "\\end{align*}\n",
    "\n",
    "where $c_t$ is consumption, $i_t$ is investment, $y_t$ is output, $k_t$ is capital, $\\alpha \\in (0,1)$, $A \\in \\mathbb{R}_+$ is the productivity factor, and $\\delta \\in (0,1)$ is the depreciation rate."
   ]
  },
  {
   "cell_type": "markdown",
   "metadata": {},
   "source": [
    "The social planner's problem may be expressed by the following Bellman equation:\n",
    "\n",
    "\\begin{align*}\n",
    "    V(k) = \\max_{c,i,k'} \\left\\{ \\log(c) + \\beta V(k') \\right\\}\n",
    "\\end{align*}\n",
    "\n",
    "subject to \n",
    "\n",
    "\\begin{align}\n",
    "    c + i &= A k^\\alpha \\, , \\label{eq:flow_constraint} \\\\\n",
    "    k' &= (1-\\delta) k + i \\, . \\label{eq:capital_accumulation} \n",
    "\\end{align}"
   ]
  },
  {
   "cell_type": "markdown",
   "metadata": {},
   "source": [
    "## Transition Equations"
   ]
  },
  {
   "cell_type": "markdown",
   "metadata": {},
   "source": [
    "We can simplify this system by using the first constraint to solve for $i$:\n",
    "\n",
    "\\begin{align*}\n",
    "    i = A k^\\alpha - c \\, ,\n",
    "\\end{align*}\n",
    "\n",
    "which can be substituted into the second constraint to yield \n",
    "\n",
    "\\begin{align*}\n",
    "    k' = (1-\\delta) k + A k^\\alpha - c  \\, .\n",
    "\\end{align*}\n"
   ]
  },
  {
   "cell_type": "markdown",
   "metadata": {},
   "source": [
    "The above equation for $k'$ can be substituted into the Bellman equation to yield \n",
    "\n",
    "\\begin{align*}\n",
    "    V(k) = \\max_{c} \\left\\{ \\log(c) + \\beta V\\left[ (1-\\delta)k + Ak^\\alpha - c \\right] \\right\\} \\, .\n",
    "\\end{align*}"
   ]
  },
  {
   "cell_type": "markdown",
   "metadata": {},
   "source": [
    "Using the Bellman equation we may derive the following first-order condition for $c$:\n",
    "\n",
    "\\begin{align*}\n",
    "    0 = \\frac{1}{c} + \\beta V'(k')(-1) \\, ,\n",
    "\\end{align*}\n",
    "\n",
    "which is equivalent to \n",
    "\n",
    "\\begin{align}\n",
    "\\label{eq:foc}\n",
    "    \\beta V'(k') = \\frac{1}{c} \\, .\n",
    "\\end{align}"
   ]
  },
  {
   "cell_type": "markdown",
   "metadata": {
    "ExecuteTime": {
     "end_time": "2021-05-01T21:50:52.391000-07:00",
     "start_time": "2021-05-02T04:50:50.811Z"
    }
   },
   "source": [
    "We may also use the Bellman eqation to obtain the following envelope condition:\n",
    "\n",
    "\\begin{align*}\n",
    "V'(k) = \\beta V'(k') (1 - \\delta + \\alpha A k^{\\alpha - 1} ) \\, .\n",
    "\\end{align*}"
   ]
  },
  {
   "cell_type": "markdown",
   "metadata": {},
   "source": [
    "Eq. \\eqref{eq:foc} can then be substituted into the RHS of the envelope condition to yield \n",
    "\n",
    "\\begin{align*}\n",
    "    V'(k) = \\frac{1}{c} \\left( 1 - \\delta + \\alpha A k^{\\alpha-1} \\right) \\, .\n",
    "\\end{align*}"
   ]
  },
  {
   "cell_type": "markdown",
   "metadata": {},
   "source": [
    "This equation can now be \"stepped-up\" by a period ($k'$ and $c'$ instead of $k$ and $c$) to give us\n",
    "\n",
    "\\begin{align*}\n",
    "    V'(k') = \\frac{1}{c'} \\left( 1 - \\delta + \\alpha A k'^{\\alpha-1} \\right) \\, .\n",
    "\\end{align*}"
   ]
  },
  {
   "cell_type": "markdown",
   "metadata": {},
   "source": [
    "We once again substitute Eq. \\eqref{eq:foc} into the LHS of the above equation to obtain \n",
    "\n",
    "\\begin{align*}\n",
    "    \\frac{1}{\\beta c} = \\frac{1}{c'} \\left( 1 - \\delta + \\alpha A k'^{\\alpha-1} \\right) \\, ,\n",
    "\\end{align*}\n",
    "\n",
    "which can be used to solve for $c'$:\n",
    "\n",
    "\\begin{align*}\n",
    "    c' = c \\beta \\left( 1 - \\delta + \\alpha A k'^{\\alpha - 1} \\right) \\, .\n",
    "\\end{align*}"
   ]
  },
  {
   "cell_type": "markdown",
   "metadata": {},
   "source": [
    "We can now attach time indices to the above equation to obtain the Euler equation:\n",
    "\n",
    "\\begin{align}\n",
    "\\label{eq:euler}\n",
    "    c_{t+1} = c_t \\beta \\left(1 - \\delta + \\alpha A k_{t+1}^{\\alpha-1} \\right) \\, .\n",
    "\\end{align}"
   ]
  },
  {
   "cell_type": "markdown",
   "metadata": {},
   "source": [
    "Therefore, the economy is governed by the system of transition equations made up by Eqs. \\eqref{eq:flow_constraint}, \\eqref{eq:capital_accumulation}, and \\eqref{eq:euler}."
   ]
  },
  {
   "cell_type": "markdown",
   "metadata": {},
   "source": [
    "I repeat all equations below for easy reference.\n",
    "\n",
    "**Capital accumulation:** \n",
    "\n",
    "\\begin{align*}\n",
    "k_{t+1} = (1-\\delta) k_t + Ak_t^{\\alpha} - c_t\n",
    "\\end{align*}\n",
    "\n",
    "**Euler equation:** \n",
    "\n",
    "\\begin{align*}\n",
    "c_{t+1} = c_t \\beta \\left( 1 - \\delta + \\alpha A k_{t+1}^{\\alpha-1} \\right)\n",
    "\\end{align*}\n",
    "\n",
    "**Output:**\n",
    "\n",
    "\\begin{align*}\n",
    "y_t = A k_t^\\alpha \n",
    "\\end{align*}\n",
    "\n",
    "\n",
    "**Flow budget constraint / Investment:** \n",
    "\n",
    "\\begin{align*}\n",
    "i_t = A k_t^{\\alpha} - c_t\n",
    "\\end{align*}"
   ]
  },
  {
   "cell_type": "markdown",
   "metadata": {},
   "source": [
    "## Steady State"
   ]
  },
  {
   "cell_type": "markdown",
   "metadata": {},
   "source": [
    "In the steady state (SS), we have $c_{t+1} = c_t = \\overline{c}$ and $k_{t+1} = k_t = \\overline{k}$, which also implies SS output \n",
    "\n",
    "\\begin{align*}\n",
    "\\overline{y} = A \\overline{k}^\\alpha\n",
    "\\end{align*}\n",
    "\n",
    "and SS investment \n",
    "\n",
    "\\begin{align*}\n",
    "\\overline{i} = \\overline{y} - \\overline{c} \\, .\n",
    "\\end{align*}"
   ]
  },
  {
   "cell_type": "markdown",
   "metadata": {},
   "source": [
    "We now need to solve for $\\overline{c}$ and $\\overline{k}$."
   ]
  },
  {
   "cell_type": "markdown",
   "metadata": {},
   "source": [
    "Applying a bit of algebra to the Euler and capital accumulation equations yields \n",
    "\n",
    "\\begin{align*}\n",
    "        \\overline{k} = \\left( \\frac{\\alpha A}{\\beta^{-1} - 1 + \\delta} \\right)^\\frac{1}{1-\\alpha} \\, ,\n",
    "\\end{align*}\n",
    "\n",
    "along with \n",
    "\n",
    "\\begin{align*}\n",
    "    \\overline{c} = A \\overline{k}^\\alpha - \\delta \\overline{k} \\, .\n",
    "\\end{align*}"
   ]
  },
  {
   "cell_type": "markdown",
   "metadata": {},
   "source": [
    "Let's write a function named `steadyState` that will output all model parameters and steady state values:"
   ]
  },
  {
   "cell_type": "code",
   "execution_count": 53,
   "metadata": {
    "ExecuteTime": {
     "end_time": "2021-05-02T14:16:52.019000-07:00",
     "start_time": "2021-05-02T21:16:52.009Z"
    }
   },
   "outputs": [
    {
     "data": {
      "text/plain": [
       "steadyState (generic function with 5 methods)"
      ]
     },
     "execution_count": 53,
     "metadata": {},
     "output_type": "execute_result"
    }
   ],
   "source": [
    "function steadyState(α = 0.3, β = 0.98, δ = 0.02, A = 1)\n",
    "    \n",
    "    # Solve for k̄\n",
    "    k̄ = (  (α * A) / (β^(-1) - 1 + δ) )^(1/(1-α))\n",
    "    \n",
    "    # Solve for ȳ\n",
    "    ȳ = A * k̄^α\n",
    "    \n",
    "    # Solve for c̄\n",
    "    c̄ = ȳ - δ * k̄\n",
    "    \n",
    "    # Solve for ī\n",
    "    ī = ȳ - c̄\n",
    "    \n",
    "    # Return model parameters and steady state variables\n",
    "    return (α = α, β = β, δ = δ, A = A, c̄ = c̄, k̄ = k̄, ȳ = ȳ, ī = ī)\n",
    "end"
   ]
  },
  {
   "cell_type": "markdown",
   "metadata": {},
   "source": [
    "We run the function and store all outputs:"
   ]
  },
  {
   "cell_type": "code",
   "execution_count": 54,
   "metadata": {
    "ExecuteTime": {
     "end_time": "2021-05-02T14:16:54.004000-07:00",
     "start_time": "2021-05-02T21:16:53.974Z"
    }
   },
   "outputs": [
    {
     "name": "stdout",
     "output_type": "stream",
     "text": [
      "c̄ = 2.0106154404398704\n",
      "k̄ = 17.53027697180669\n",
      "ȳ = 2.361220979876004\n",
      "ī = 0.3506055394361338\n"
     ]
    }
   ],
   "source": [
    "α, β, δ, A, c̄, k̄, ȳ, ī = steadyState()\n",
    "@show c̄\n",
    "@show k̄\n",
    "@show ȳ\n",
    "@show ī;"
   ]
  },
  {
   "cell_type": "markdown",
   "metadata": {},
   "source": [
    "## Solving the Model"
   ]
  },
  {
   "cell_type": "code",
   "execution_count": 39,
   "metadata": {
    "ExecuteTime": {
     "end_time": "2021-05-02T14:09:03.098000-07:00",
     "start_time": "2021-05-02T21:09:03.093Z"
    }
   },
   "outputs": [],
   "source": [
    "# Load all packages we might need\n",
    "using LinearAlgebra, Plots"
   ]
  },
  {
   "cell_type": "markdown",
   "metadata": {},
   "source": [
    "Our goal now is to computationally solve for the policy function using value function iteration.\n",
    "\n",
    "We start by constructing a function named `growthBellmanMap` that applies a single iteration of the Bellman map."
   ]
  },
  {
   "cell_type": "code",
   "execution_count": 55,
   "metadata": {
    "ExecuteTime": {
     "end_time": "2021-05-02T14:17:07.754000-07:00",
     "start_time": "2021-05-02T21:17:07.746Z"
    }
   },
   "outputs": [
    {
     "data": {
      "text/plain": [
       "growthBellmanMap (generic function with 1 method)"
      ]
     },
     "execution_count": 55,
     "metadata": {},
     "output_type": "execute_result"
    }
   ],
   "source": [
    "function growthBellmanMap(V, kgrid, α, β, δ, A)\n",
    "    \n",
    "    N     = length(kgrid) #k grid length\n",
    "    V_out = zeros(N) #new value function\n",
    "    n_pol = zeros(Int,N) #policy rule for grid points\n",
    "    k_pol = zeros(N) #policy rule for capital\n",
    "    c_pol = zeros(N) #consumption rule\n",
    "    obj   = zeros(N) #objective to be maximized wrt k′\n",
    "    \n",
    "    for n in 1:N #iterate for each initial capital\n",
    "        \n",
    "        for nprime in 1:N #iterate for choice of capital this period\n",
    "            \n",
    "            # Compute optimal consumption level\n",
    "            c = (1-δ) * kgrid[n] + A * kgrid[n]^(α) - kgrid[nprime]\n",
    "            \n",
    "            if c <= 0\n",
    "                obj[nprime] = -Inf #penalty if consumption <0\n",
    "            else\n",
    "                obj[nprime] = log(c) + β * V[nprime] #otherwise RHS of bellman equation\n",
    "            end\n",
    "        end\n",
    "        \n",
    "        V_out[n], n_pol[n] = findmax(obj) #find optimal value and the choice that gives it\n",
    "        k_pol[n]           = kgrid[n_pol[n]] #record capital policy\n",
    "        c_pol[n]           =(1-δ) * kgrid[n] + A * kgrid[n]^(α) - k_pol[n] #record consumption policy\n",
    "            \n",
    "    end\n",
    "    \n",
    "    return V_out, n_pol, k_pol, c_pol\n",
    "end"
   ]
  },
  {
   "cell_type": "code",
   "execution_count": 56,
   "metadata": {
    "ExecuteTime": {
     "end_time": "2021-05-02T14:17:09.495000-07:00",
     "start_time": "2021-05-02T21:17:09.484Z"
    }
   },
   "outputs": [
    {
     "data": {
      "text/plain": [
       "solveGrowthBellman (generic function with 2 methods)"
      ]
     },
     "execution_count": 56,
     "metadata": {},
     "output_type": "execute_result"
    }
   ],
   "source": [
    "function solveGrowthBellman(V0, kgrid, α, β, δ, A, ϵ=1e-6)\n",
    "    \n",
    "    diff = 0.1\n",
    "    \n",
    "    V, n_pol, k_pol, c_pol = growthBellmanMap(V0, kgrid, α, β, δ, A)\n",
    "    \n",
    "    while diff > ϵ\n",
    "        \n",
    "        V_new, n_pol, k_pol, c_pol  = growthBellmanMap(V, kgrid, α, β, δ, A)\n",
    "        \n",
    "        diff = norm(V_new-V,Inf)\n",
    "        \n",
    "        V = V_new \n",
    "    end\n",
    "    \n",
    "    return V, n_pol, k_pol, c_pol\n",
    "end"
   ]
  },
  {
   "cell_type": "code",
   "execution_count": 62,
   "metadata": {
    "ExecuteTime": {
     "end_time": "2021-05-02T14:17:59.032000-07:00",
     "start_time": "2021-05-02T21:17:55.442Z"
    }
   },
   "outputs": [],
   "source": [
    "N     = 501\n",
    "kgrid = LinRange(k̄-10,k̄+10,N)\n",
    "\n",
    "V, n_pol, k_pol, c_pol = solveGrowthBellman(zeros(N), kgrid, α, β, δ, A);"
   ]
  },
  {
   "cell_type": "code",
   "execution_count": 63,
   "metadata": {
    "ExecuteTime": {
     "end_time": "2021-05-02T14:18:00.478000-07:00",
     "start_time": "2021-05-02T21:18:00.407Z"
    }
   },
   "outputs": [
    {
     "data": {
      "image/svg+xml": [
       "<?xml version=\"1.0\" encoding=\"utf-8\"?>\n",
       "<svg xmlns=\"http://www.w3.org/2000/svg\" xmlns:xlink=\"http://www.w3.org/1999/xlink\" width=\"600\" height=\"400\" viewBox=\"0 0 2400 1600\">\n",
       "<defs>\n",
       "  <clipPath id=\"clip960\">\n",
       "    <rect x=\"0\" y=\"0\" width=\"2400\" height=\"1600\"/>\n",
       "  </clipPath>\n",
       "</defs>\n",
       "<path clip-path=\"url(#clip960)\" d=\"\n",
       "M0 1600 L2400 1600 L2400 0 L0 0  Z\n",
       "  \" fill=\"#ffffff\" fill-rule=\"evenodd\" fill-opacity=\"1\"/>\n",
       "<defs>\n",
       "  <clipPath id=\"clip961\">\n",
       "    <rect x=\"480\" y=\"0\" width=\"1681\" height=\"1600\"/>\n",
       "  </clipPath>\n",
       "</defs>\n",
       "<path clip-path=\"url(#clip960)\" d=\"\n",
       "M199.218 1423.18 L2352.76 1423.18 L2352.76 123.472 L199.218 123.472  Z\n",
       "  \" fill=\"#ffffff\" fill-rule=\"evenodd\" fill-opacity=\"1\"/>\n",
       "<defs>\n",
       "  <clipPath id=\"clip962\">\n",
       "    <rect x=\"199\" y=\"123\" width=\"2155\" height=\"1301\"/>\n",
       "  </clipPath>\n",
       "</defs>\n",
       "<polyline clip-path=\"url(#clip962)\" style=\"stroke:#000000; stroke-width:2; stroke-opacity:0.1; fill:none\" points=\"\n",
       "  511.047,1423.18 511.047,123.472 \n",
       "  \"/>\n",
       "<polyline clip-path=\"url(#clip962)\" style=\"stroke:#000000; stroke-width:2; stroke-opacity:0.1; fill:none\" points=\"\n",
       "  1018.96,1423.18 1018.96,123.472 \n",
       "  \"/>\n",
       "<polyline clip-path=\"url(#clip962)\" style=\"stroke:#000000; stroke-width:2; stroke-opacity:0.1; fill:none\" points=\"\n",
       "  1526.87,1423.18 1526.87,123.472 \n",
       "  \"/>\n",
       "<polyline clip-path=\"url(#clip962)\" style=\"stroke:#000000; stroke-width:2; stroke-opacity:0.1; fill:none\" points=\"\n",
       "  2034.78,1423.18 2034.78,123.472 \n",
       "  \"/>\n",
       "<polyline clip-path=\"url(#clip960)\" style=\"stroke:#000000; stroke-width:4; stroke-opacity:1; fill:none\" points=\"\n",
       "  199.218,1423.18 2352.76,1423.18 \n",
       "  \"/>\n",
       "<polyline clip-path=\"url(#clip960)\" style=\"stroke:#000000; stroke-width:4; stroke-opacity:1; fill:none\" points=\"\n",
       "  511.047,1423.18 511.047,1407.58 \n",
       "  \"/>\n",
       "<polyline clip-path=\"url(#clip960)\" style=\"stroke:#000000; stroke-width:4; stroke-opacity:1; fill:none\" points=\"\n",
       "  1018.96,1423.18 1018.96,1407.58 \n",
       "  \"/>\n",
       "<polyline clip-path=\"url(#clip960)\" style=\"stroke:#000000; stroke-width:4; stroke-opacity:1; fill:none\" points=\"\n",
       "  1526.87,1423.18 1526.87,1407.58 \n",
       "  \"/>\n",
       "<polyline clip-path=\"url(#clip960)\" style=\"stroke:#000000; stroke-width:4; stroke-opacity:1; fill:none\" points=\"\n",
       "  2034.78,1423.18 2034.78,1407.58 \n",
       "  \"/>\n",
       "<path clip-path=\"url(#clip960)\" d=\"M 0 0 M487.922 1479.92 L495.561 1479.92 L495.561 1453.55 L487.251 1455.22 L487.251 1450.96 L495.514 1449.29 L500.19 1449.29 L500.19 1479.92 L507.829 1479.92 L507.829 1483.85 L487.922 1483.85 L487.922 1479.92 Z\" fill=\"#000000\" fill-rule=\"evenodd\" fill-opacity=\"1\" /><path clip-path=\"url(#clip960)\" d=\"M 0 0 M522.899 1452.37 Q519.287 1452.37 517.459 1455.94 Q515.653 1459.48 515.653 1466.61 Q515.653 1473.71 517.459 1477.28 Q519.287 1480.82 522.899 1480.82 Q526.533 1480.82 528.338 1477.28 Q530.167 1473.71 530.167 1466.61 Q530.167 1459.48 528.338 1455.94 Q526.533 1452.37 522.899 1452.37 M522.899 1448.67 Q528.709 1448.67 531.764 1453.27 Q534.843 1457.86 534.843 1466.61 Q534.843 1475.33 531.764 1479.94 Q528.709 1484.52 522.899 1484.52 Q517.088 1484.52 514.01 1479.94 Q510.954 1475.33 510.954 1466.61 Q510.954 1457.86 514.01 1453.27 Q517.088 1448.67 522.899 1448.67 Z\" fill=\"#000000\" fill-rule=\"evenodd\" fill-opacity=\"1\" /><path clip-path=\"url(#clip960)\" d=\"M 0 0 M996.329 1479.92 L1003.97 1479.92 L1003.97 1453.55 L995.658 1455.22 L995.658 1450.96 L1003.92 1449.29 L1008.6 1449.29 L1008.6 1479.92 L1016.24 1479.92 L1016.24 1483.85 L996.329 1483.85 L996.329 1479.92 Z\" fill=\"#000000\" fill-rule=\"evenodd\" fill-opacity=\"1\" /><path clip-path=\"url(#clip960)\" d=\"M 0 0 M1021.35 1449.29 L1039.71 1449.29 L1039.71 1453.23 L1025.63 1453.23 L1025.63 1461.7 Q1026.65 1461.35 1027.67 1461.19 Q1028.69 1461 1029.71 1461 Q1035.5 1461 1038.88 1464.18 Q1042.26 1467.35 1042.26 1472.76 Q1042.26 1478.34 1038.78 1481.44 Q1035.31 1484.52 1028.99 1484.52 Q1026.82 1484.52 1024.55 1484.15 Q1022.3 1483.78 1019.89 1483.04 L1019.89 1478.34 Q1021.98 1479.48 1024.2 1480.03 Q1026.42 1480.59 1028.9 1480.59 Q1032.9 1480.59 1035.24 1478.48 Q1037.58 1476.38 1037.58 1472.76 Q1037.58 1469.15 1035.24 1467.05 Q1032.9 1464.94 1028.9 1464.94 Q1027.02 1464.94 1025.15 1465.36 Q1023.3 1465.77 1021.35 1466.65 L1021.35 1449.29 Z\" fill=\"#000000\" fill-rule=\"evenodd\" fill-opacity=\"1\" /><path clip-path=\"url(#clip960)\" d=\"M 0 0 M1508.01 1479.92 L1524.33 1479.92 L1524.33 1483.85 L1502.39 1483.85 L1502.39 1479.92 Q1505.05 1477.16 1509.63 1472.53 Q1514.24 1467.88 1515.42 1466.54 Q1517.67 1464.01 1518.54 1462.28 Q1519.45 1460.52 1519.45 1458.83 Q1519.45 1456.07 1517.5 1454.34 Q1515.58 1452.6 1512.48 1452.6 Q1510.28 1452.6 1507.83 1453.37 Q1505.4 1454.13 1502.62 1455.68 L1502.62 1450.96 Q1505.44 1449.82 1507.9 1449.25 Q1510.35 1448.67 1512.39 1448.67 Q1517.76 1448.67 1520.95 1451.35 Q1524.15 1454.04 1524.15 1458.53 Q1524.15 1460.66 1523.34 1462.58 Q1522.55 1464.48 1520.44 1467.07 Q1519.86 1467.74 1516.76 1470.96 Q1513.66 1474.15 1508.01 1479.92 Z\" fill=\"#000000\" fill-rule=\"evenodd\" fill-opacity=\"1\" /><path clip-path=\"url(#clip960)\" d=\"M 0 0 M1539.4 1452.37 Q1535.79 1452.37 1533.96 1455.94 Q1532.16 1459.48 1532.16 1466.61 Q1532.16 1473.71 1533.96 1477.28 Q1535.79 1480.82 1539.4 1480.82 Q1543.04 1480.82 1544.84 1477.28 Q1546.67 1473.71 1546.67 1466.61 Q1546.67 1459.48 1544.84 1455.94 Q1543.04 1452.37 1539.4 1452.37 M1539.4 1448.67 Q1545.21 1448.67 1548.27 1453.27 Q1551.35 1457.86 1551.35 1466.61 Q1551.35 1475.33 1548.27 1479.94 Q1545.21 1484.52 1539.4 1484.52 Q1533.59 1484.52 1530.51 1479.94 Q1527.46 1475.33 1527.46 1466.61 Q1527.46 1457.86 1530.51 1453.27 Q1533.59 1448.67 1539.4 1448.67 Z\" fill=\"#000000\" fill-rule=\"evenodd\" fill-opacity=\"1\" /><path clip-path=\"url(#clip960)\" d=\"M 0 0 M2016.42 1479.92 L2032.74 1479.92 L2032.74 1483.85 L2010.79 1483.85 L2010.79 1479.92 Q2013.46 1477.16 2018.04 1472.53 Q2022.65 1467.88 2023.83 1466.54 Q2026.07 1464.01 2026.95 1462.28 Q2027.85 1460.52 2027.85 1458.83 Q2027.85 1456.07 2025.91 1454.34 Q2023.99 1452.6 2020.89 1452.6 Q2018.69 1452.6 2016.23 1453.37 Q2013.8 1454.13 2011.03 1455.68 L2011.03 1450.96 Q2013.85 1449.82 2016.3 1449.25 Q2018.76 1448.67 2020.79 1448.67 Q2026.17 1448.67 2029.36 1451.35 Q2032.55 1454.04 2032.55 1458.53 Q2032.55 1460.66 2031.74 1462.58 Q2030.96 1464.48 2028.85 1467.07 Q2028.27 1467.74 2025.17 1470.96 Q2022.07 1474.15 2016.42 1479.92 Z\" fill=\"#000000\" fill-rule=\"evenodd\" fill-opacity=\"1\" /><path clip-path=\"url(#clip960)\" d=\"M 0 0 M2037.85 1449.29 L2056.21 1449.29 L2056.21 1453.23 L2042.14 1453.23 L2042.14 1461.7 Q2043.16 1461.35 2044.17 1461.19 Q2045.19 1461 2046.21 1461 Q2052 1461 2055.38 1464.18 Q2058.76 1467.35 2058.76 1472.76 Q2058.76 1478.34 2055.29 1481.44 Q2051.81 1484.52 2045.49 1484.52 Q2043.32 1484.52 2041.05 1484.15 Q2038.8 1483.78 2036.4 1483.04 L2036.4 1478.34 Q2038.48 1479.48 2040.7 1480.03 Q2042.92 1480.59 2045.4 1480.59 Q2049.41 1480.59 2051.74 1478.48 Q2054.08 1476.38 2054.08 1472.76 Q2054.08 1469.15 2051.74 1467.05 Q2049.41 1464.94 2045.4 1464.94 Q2043.53 1464.94 2041.65 1465.36 Q2039.8 1465.77 2037.85 1466.65 L2037.85 1449.29 Z\" fill=\"#000000\" fill-rule=\"evenodd\" fill-opacity=\"1\" /><path clip-path=\"url(#clip960)\" d=\"M 0 0 M1260.17 1518.52 L1266.06 1518.52 L1266.06 1547.77 L1283.53 1532.4 L1291.01 1532.4 L1272.1 1549.07 L1291.81 1568.04 L1284.17 1568.04 L1266.06 1550.63 L1266.06 1568.04 L1260.17 1568.04 L1260.17 1518.52 Z\" fill=\"#000000\" fill-rule=\"evenodd\" fill-opacity=\"1\" /><polyline clip-path=\"url(#clip962)\" style=\"stroke:#000000; stroke-width:2; stroke-opacity:0.1; fill:none\" points=\"\n",
       "  199.218,1234.98 2352.76,1234.98 \n",
       "  \"/>\n",
       "<polyline clip-path=\"url(#clip962)\" style=\"stroke:#000000; stroke-width:2; stroke-opacity:0.1; fill:none\" points=\"\n",
       "  199.218,928.45 2352.76,928.45 \n",
       "  \"/>\n",
       "<polyline clip-path=\"url(#clip962)\" style=\"stroke:#000000; stroke-width:2; stroke-opacity:0.1; fill:none\" points=\"\n",
       "  199.218,621.915 2352.76,621.915 \n",
       "  \"/>\n",
       "<polyline clip-path=\"url(#clip962)\" style=\"stroke:#000000; stroke-width:2; stroke-opacity:0.1; fill:none\" points=\"\n",
       "  199.218,315.38 2352.76,315.38 \n",
       "  \"/>\n",
       "<polyline clip-path=\"url(#clip960)\" style=\"stroke:#000000; stroke-width:4; stroke-opacity:1; fill:none\" points=\"\n",
       "  199.218,1423.18 199.218,123.472 \n",
       "  \"/>\n",
       "<polyline clip-path=\"url(#clip960)\" style=\"stroke:#000000; stroke-width:4; stroke-opacity:1; fill:none\" points=\"\n",
       "  199.218,1234.98 225.061,1234.98 \n",
       "  \"/>\n",
       "<polyline clip-path=\"url(#clip960)\" style=\"stroke:#000000; stroke-width:4; stroke-opacity:1; fill:none\" points=\"\n",
       "  199.218,928.45 225.061,928.45 \n",
       "  \"/>\n",
       "<polyline clip-path=\"url(#clip960)\" style=\"stroke:#000000; stroke-width:4; stroke-opacity:1; fill:none\" points=\"\n",
       "  199.218,621.915 225.061,621.915 \n",
       "  \"/>\n",
       "<polyline clip-path=\"url(#clip960)\" style=\"stroke:#000000; stroke-width:4; stroke-opacity:1; fill:none\" points=\"\n",
       "  199.218,315.38 225.061,315.38 \n",
       "  \"/>\n",
       "<path clip-path=\"url(#clip960)\" d=\"M 0 0 M116.297 1248.33 L123.936 1248.33 L123.936 1221.96 L115.626 1223.63 L115.626 1219.37 L123.89 1217.7 L128.566 1217.7 L128.566 1248.33 L136.204 1248.33 L136.204 1252.26 L116.297 1252.26 L116.297 1248.33 Z\" fill=\"#000000\" fill-rule=\"evenodd\" fill-opacity=\"1\" /><path clip-path=\"url(#clip960)\" d=\"M 0 0 M151.274 1220.78 Q147.663 1220.78 145.834 1224.35 Q144.029 1227.89 144.029 1235.02 Q144.029 1242.13 145.834 1245.69 Q147.663 1249.23 151.274 1249.23 Q154.908 1249.23 156.714 1245.69 Q158.542 1242.13 158.542 1235.02 Q158.542 1227.89 156.714 1224.35 Q154.908 1220.78 151.274 1220.78 M151.274 1217.08 Q157.084 1217.08 160.14 1221.69 Q163.218 1226.27 163.218 1235.02 Q163.218 1243.75 160.14 1248.35 Q157.084 1252.94 151.274 1252.94 Q145.464 1252.94 142.385 1248.35 Q139.329 1243.75 139.329 1235.02 Q139.329 1226.27 142.385 1221.69 Q145.464 1217.08 151.274 1217.08 Z\" fill=\"#000000\" fill-rule=\"evenodd\" fill-opacity=\"1\" /><path clip-path=\"url(#clip960)\" d=\"M 0 0 M117.293 941.794 L124.931 941.794 L124.931 915.429 L116.621 917.095 L116.621 912.836 L124.885 911.17 L129.561 911.17 L129.561 941.794 L137.2 941.794 L137.2 945.73 L117.293 945.73 L117.293 941.794 Z\" fill=\"#000000\" fill-rule=\"evenodd\" fill-opacity=\"1\" /><path clip-path=\"url(#clip960)\" d=\"M 0 0 M142.316 911.17 L160.672 911.17 L160.672 915.105 L146.598 915.105 L146.598 923.577 Q147.616 923.23 148.635 923.068 Q149.653 922.882 150.672 922.882 Q156.459 922.882 159.839 926.054 Q163.218 929.225 163.218 934.642 Q163.218 940.22 159.746 943.322 Q156.274 946.401 149.954 946.401 Q147.778 946.401 145.51 946.031 Q143.265 945.66 140.857 944.919 L140.857 940.22 Q142.941 941.355 145.163 941.91 Q147.385 942.466 149.862 942.466 Q153.866 942.466 156.204 940.359 Q158.542 938.253 158.542 934.642 Q158.542 931.031 156.204 928.924 Q153.866 926.818 149.862 926.818 Q147.987 926.818 146.112 927.234 Q144.26 927.651 142.316 928.531 L142.316 911.17 Z\" fill=\"#000000\" fill-rule=\"evenodd\" fill-opacity=\"1\" /><path clip-path=\"url(#clip960)\" d=\"M 0 0 M119.885 635.26 L136.204 635.26 L136.204 639.195 L114.26 639.195 L114.26 635.26 Q116.922 632.505 121.505 627.875 Q126.112 623.223 127.292 621.88 Q129.538 619.357 130.417 617.621 Q131.32 615.862 131.32 614.172 Q131.32 611.417 129.376 609.681 Q127.455 607.945 124.353 607.945 Q122.154 607.945 119.7 608.709 Q117.269 609.473 114.492 611.024 L114.492 606.301 Q117.316 605.167 119.769 604.588 Q122.223 604.01 124.26 604.01 Q129.63 604.01 132.825 606.695 Q136.019 609.38 136.019 613.871 Q136.019 616 135.209 617.922 Q134.422 619.82 132.316 622.412 Q131.737 623.084 128.635 626.301 Q125.533 629.496 119.885 635.26 Z\" fill=\"#000000\" fill-rule=\"evenodd\" fill-opacity=\"1\" /><path clip-path=\"url(#clip960)\" d=\"M 0 0 M151.274 607.713 Q147.663 607.713 145.834 611.278 Q144.029 614.82 144.029 621.949 Q144.029 629.056 145.834 632.621 Q147.663 636.162 151.274 636.162 Q154.908 636.162 156.714 632.621 Q158.542 629.056 158.542 621.949 Q158.542 614.82 156.714 611.278 Q154.908 607.713 151.274 607.713 M151.274 604.01 Q157.084 604.01 160.14 608.616 Q163.218 613.2 163.218 621.949 Q163.218 630.676 160.14 635.283 Q157.084 639.866 151.274 639.866 Q145.464 639.866 142.385 635.283 Q139.329 630.676 139.329 621.949 Q139.329 613.2 142.385 608.616 Q145.464 604.01 151.274 604.01 Z\" fill=\"#000000\" fill-rule=\"evenodd\" fill-opacity=\"1\" /><path clip-path=\"url(#clip960)\" d=\"M 0 0 M120.88 328.725 L137.2 328.725 L137.2 332.66 L115.256 332.66 L115.256 328.725 Q117.918 325.97 122.501 321.341 Q127.107 316.688 128.288 315.345 Q130.533 312.822 131.413 311.086 Q132.316 309.327 132.316 307.637 Q132.316 304.882 130.371 303.146 Q128.45 301.41 125.348 301.41 Q123.149 301.41 120.695 302.174 Q118.265 302.938 115.487 304.489 L115.487 299.767 Q118.311 298.632 120.765 298.054 Q123.218 297.475 125.255 297.475 Q130.626 297.475 133.82 300.16 Q137.015 302.845 137.015 307.336 Q137.015 309.466 136.204 311.387 Q135.417 313.285 133.311 315.878 Q132.732 316.549 129.63 319.766 Q126.529 322.961 120.88 328.725 Z\" fill=\"#000000\" fill-rule=\"evenodd\" fill-opacity=\"1\" /><path clip-path=\"url(#clip960)\" d=\"M 0 0 M142.316 298.1 L160.672 298.1 L160.672 302.035 L146.598 302.035 L146.598 310.507 Q147.616 310.16 148.635 309.998 Q149.653 309.813 150.672 309.813 Q156.459 309.813 159.839 312.984 Q163.218 316.155 163.218 321.572 Q163.218 327.151 159.746 330.253 Q156.274 333.331 149.954 333.331 Q147.778 333.331 145.51 332.961 Q143.265 332.59 140.857 331.85 L140.857 327.151 Q142.941 328.285 145.163 328.84 Q147.385 329.396 149.862 329.396 Q153.866 329.396 156.204 327.29 Q158.542 325.183 158.542 321.572 Q158.542 317.961 156.204 315.854 Q153.866 313.748 149.862 313.748 Q147.987 313.748 146.112 314.165 Q144.26 314.581 142.316 315.461 L142.316 298.1 Z\" fill=\"#000000\" fill-rule=\"evenodd\" fill-opacity=\"1\" /><path clip-path=\"url(#clip960)\" d=\"M 0 0 M14.479 795.765 L14.479 789.877 L43.7294 789.877 L28.3562 772.403 L28.3562 764.923 L45.0344 783.829 L64.0042 764.128 L64.0042 771.766 L46.5939 789.877 L64.0042 789.877 L64.0042 795.765 L14.479 795.765 Z\" fill=\"#000000\" fill-rule=\"evenodd\" fill-opacity=\"1\" /><path clip-path=\"url(#clip960)\" d=\"M 0 0 M28.3562 762.854 L16.4842 757.348 L16.4842 750.887 L28.3562 760.085 L28.3562 762.854 Z\" fill=\"#000000\" fill-rule=\"evenodd\" fill-opacity=\"1\" /><path clip-path=\"url(#clip960)\" d=\"M 0 0 M934.719 18.8205 L934.719 41.5461 L945.008 41.5461 Q950.72 41.5461 953.839 38.5889 Q956.958 35.6318 956.958 30.163 Q956.958 24.7348 953.839 21.7777 Q950.72 18.8205 945.008 18.8205 L934.719 18.8205 M926.536 12.096 L945.008 12.096 Q955.176 12.096 960.361 16.714 Q965.587 21.2916 965.587 30.163 Q965.587 39.1155 960.361 43.6931 Q955.176 48.2706 945.008 48.2706 L934.719 48.2706 L934.719 72.576 L926.536 72.576 L926.536 12.096 Z\" fill=\"#000000\" fill-rule=\"evenodd\" fill-opacity=\"1\" /><path clip-path=\"url(#clip960)\" d=\"M 0 0 M988.029 32.4315 Q982.033 32.4315 978.549 37.1306 Q975.066 41.7891 975.066 49.9314 Q975.066 58.0738 978.509 62.7728 Q981.993 67.4314 988.029 67.4314 Q993.983 67.4314 997.467 62.7323 Q1000.95 58.0333 1000.95 49.9314 Q1000.95 41.8701 997.467 37.1711 Q993.983 32.4315 988.029 32.4315 M988.029 26.1121 Q997.751 26.1121 1003.3 32.4315 Q1008.85 38.7509 1008.85 49.9314 Q1008.85 61.0714 1003.3 67.4314 Q997.751 73.7508 988.029 73.7508 Q978.266 73.7508 972.716 67.4314 Q967.207 61.0714 967.207 49.9314 Q967.207 38.7509 972.716 32.4315 Q978.266 26.1121 988.029 26.1121 Z\" fill=\"#000000\" fill-rule=\"evenodd\" fill-opacity=\"1\" /><path clip-path=\"url(#clip960)\" d=\"M 0 0 M1016.67 9.54393 L1024.12 9.54393 L1024.12 72.576 L1016.67 72.576 L1016.67 9.54393 Z\" fill=\"#000000\" fill-rule=\"evenodd\" fill-opacity=\"1\" /><path clip-path=\"url(#clip960)\" d=\"M 0 0 M1031.94 27.2059 L1039.39 27.2059 L1039.39 72.576 L1031.94 72.576 L1031.94 27.2059 M1031.94 9.54393 L1039.39 9.54393 L1039.39 18.9825 L1031.94 18.9825 L1031.94 9.54393 Z\" fill=\"#000000\" fill-rule=\"evenodd\" fill-opacity=\"1\" /><path clip-path=\"url(#clip960)\" d=\"M 0 0 M1079.86 28.9478 L1079.86 35.9153 Q1076.7 34.1734 1073.5 33.3227 Q1070.34 32.4315 1067.1 32.4315 Q1059.85 32.4315 1055.84 37.0496 Q1051.83 41.6271 1051.83 49.9314 Q1051.83 58.2358 1055.84 62.8538 Q1059.85 67.4314 1067.1 67.4314 Q1070.34 67.4314 1073.5 66.5807 Q1076.7 65.6895 1079.86 63.9476 L1079.86 70.8341 Q1076.74 72.2924 1073.38 73.0216 Q1070.06 73.7508 1066.29 73.7508 Q1056.04 73.7508 1050.01 67.3098 Q1043.97 60.8689 1043.97 49.9314 Q1043.97 38.832 1050.05 32.472 Q1056.16 26.1121 1066.78 26.1121 Q1070.22 26.1121 1073.5 26.8413 Q1076.78 27.5299 1079.86 28.9478 Z\" fill=\"#000000\" fill-rule=\"evenodd\" fill-opacity=\"1\" /><path clip-path=\"url(#clip960)\" d=\"M 0 0 M1106.56 76.7889 Q1103.4 84.8907 1100.4 87.3618 Q1097.4 89.8329 1092.38 89.8329 L1086.43 89.8329 L1086.43 83.5945 L1090.8 83.5945 Q1093.88 83.5945 1095.58 82.1361 Q1097.28 80.6778 1099.35 75.2496 L1100.68 71.8468 L1082.33 27.2059 L1090.23 27.2059 L1104.41 62.6918 L1118.59 27.2059 L1126.49 27.2059 L1106.56 76.7889 Z\" fill=\"#000000\" fill-rule=\"evenodd\" fill-opacity=\"1\" /><path clip-path=\"url(#clip960)\" d=\"M 0 0 M1161 12.096 L1195.76 12.096 L1195.76 18.9825 L1169.18 18.9825 L1169.18 36.8065 L1193.17 36.8065 L1193.17 43.6931 L1169.18 43.6931 L1169.18 72.576 L1161 72.576 L1161 12.096 Z\" fill=\"#000000\" fill-rule=\"evenodd\" fill-opacity=\"1\" /><path clip-path=\"url(#clip960)\" d=\"M 0 0 M1198.27 54.671 L1198.27 27.2059 L1205.72 27.2059 L1205.72 54.3874 Q1205.72 60.8284 1208.24 64.0691 Q1210.75 67.2693 1215.77 67.2693 Q1221.81 67.2693 1225.29 63.421 Q1228.81 59.5726 1228.81 52.9291 L1228.81 27.2059 L1236.27 27.2059 L1236.27 72.576 L1228.81 72.576 L1228.81 65.6084 Q1226.1 69.7404 1222.49 71.7658 Q1218.93 73.7508 1214.19 73.7508 Q1206.37 73.7508 1202.32 68.8897 Q1198.27 64.0286 1198.27 54.671 M1217.03 26.1121 L1217.03 26.1121 Z\" fill=\"#000000\" fill-rule=\"evenodd\" fill-opacity=\"1\" /><path clip-path=\"url(#clip960)\" d=\"M 0 0 M1281.8 45.1919 L1281.8 72.576 L1274.35 72.576 L1274.35 45.4349 Q1274.35 38.994 1271.83 35.7938 Q1269.32 32.5936 1264.3 32.5936 Q1258.26 32.5936 1254.78 36.4419 Q1251.3 40.2903 1251.3 46.9338 L1251.3 72.576 L1243.8 72.576 L1243.8 27.2059 L1251.3 27.2059 L1251.3 34.2544 Q1253.97 30.163 1257.58 28.1376 Q1261.22 26.1121 1265.96 26.1121 Q1273.78 26.1121 1277.79 30.9732 Q1281.8 35.7938 1281.8 45.1919 Z\" fill=\"#000000\" fill-rule=\"evenodd\" fill-opacity=\"1\" /><path clip-path=\"url(#clip960)\" d=\"M 0 0 M1322.27 28.9478 L1322.27 35.9153 Q1319.11 34.1734 1315.91 33.3227 Q1312.75 32.4315 1309.51 32.4315 Q1302.26 32.4315 1298.25 37.0496 Q1294.24 41.6271 1294.24 49.9314 Q1294.24 58.2358 1298.25 62.8538 Q1302.26 67.4314 1309.51 67.4314 Q1312.75 67.4314 1315.91 66.5807 Q1319.11 65.6895 1322.27 63.9476 L1322.27 70.8341 Q1319.15 72.2924 1315.79 73.0216 Q1312.47 73.7508 1308.7 73.7508 Q1298.45 73.7508 1292.41 67.3098 Q1286.38 60.8689 1286.38 49.9314 Q1286.38 38.832 1292.45 32.472 Q1298.57 26.1121 1309.18 26.1121 Q1312.63 26.1121 1315.91 26.8413 Q1319.19 27.5299 1322.27 28.9478 Z\" fill=\"#000000\" fill-rule=\"evenodd\" fill-opacity=\"1\" /><path clip-path=\"url(#clip960)\" d=\"M 0 0 M1337.46 14.324 L1337.46 27.2059 L1352.81 27.2059 L1352.81 32.9987 L1337.46 32.9987 L1337.46 57.6282 Q1337.46 63.1779 1338.96 64.7578 Q1340.5 66.3376 1345.16 66.3376 L1352.81 66.3376 L1352.81 72.576 L1345.16 72.576 Q1336.53 72.576 1333.25 69.3758 Q1329.97 66.1351 1329.97 57.6282 L1329.97 32.9987 L1324.5 32.9987 L1324.5 27.2059 L1329.97 27.2059 L1329.97 14.324 L1337.46 14.324 Z\" fill=\"#000000\" fill-rule=\"evenodd\" fill-opacity=\"1\" /><path clip-path=\"url(#clip960)\" d=\"M 0 0 M1360.63 27.2059 L1368.08 27.2059 L1368.08 72.576 L1360.63 72.576 L1360.63 27.2059 M1360.63 9.54393 L1368.08 9.54393 L1368.08 18.9825 L1360.63 18.9825 L1360.63 9.54393 Z\" fill=\"#000000\" fill-rule=\"evenodd\" fill-opacity=\"1\" /><path clip-path=\"url(#clip960)\" d=\"M 0 0 M1393.48 32.4315 Q1387.49 32.4315 1384 37.1306 Q1380.52 41.7891 1380.52 49.9314 Q1380.52 58.0738 1383.96 62.7728 Q1387.45 67.4314 1393.48 67.4314 Q1399.44 67.4314 1402.92 62.7323 Q1406.41 58.0333 1406.41 49.9314 Q1406.41 41.8701 1402.92 37.1711 Q1399.44 32.4315 1393.48 32.4315 M1393.48 26.1121 Q1403.21 26.1121 1408.76 32.4315 Q1414.31 38.7509 1414.31 49.9314 Q1414.31 61.0714 1408.76 67.4314 Q1403.21 73.7508 1393.48 73.7508 Q1383.72 73.7508 1378.17 67.4314 Q1372.66 61.0714 1372.66 49.9314 Q1372.66 38.7509 1378.17 32.4315 Q1383.72 26.1121 1393.48 26.1121 Z\" fill=\"#000000\" fill-rule=\"evenodd\" fill-opacity=\"1\" /><path clip-path=\"url(#clip960)\" d=\"M 0 0 M1459.84 45.1919 L1459.84 72.576 L1452.38 72.576 L1452.38 45.4349 Q1452.38 38.994 1449.87 35.7938 Q1447.36 32.5936 1442.34 32.5936 Q1436.3 32.5936 1432.82 36.4419 Q1429.33 40.2903 1429.33 46.9338 L1429.33 72.576 L1421.84 72.576 L1421.84 27.2059 L1429.33 27.2059 L1429.33 34.2544 Q1432.01 30.163 1435.61 28.1376 Q1439.26 26.1121 1444 26.1121 Q1451.82 26.1121 1455.83 30.9732 Q1459.84 35.7938 1459.84 45.1919 Z\" fill=\"#000000\" fill-rule=\"evenodd\" fill-opacity=\"1\" /><path clip-path=\"url(#clip960)\" d=\"M 0 0 M1502.53 18.8205 L1502.53 41.5461 L1512.82 41.5461 Q1518.53 41.5461 1521.65 38.5889 Q1524.77 35.6318 1524.77 30.163 Q1524.77 24.7348 1521.65 21.7777 Q1518.53 18.8205 1512.82 18.8205 L1502.53 18.8205 M1494.35 12.096 L1512.82 12.096 Q1522.99 12.096 1528.18 16.714 Q1533.4 21.2916 1533.4 30.163 Q1533.4 39.1155 1528.18 43.6931 Q1522.99 48.2706 1512.82 48.2706 L1502.53 48.2706 L1502.53 72.576 L1494.35 72.576 L1494.35 12.096 Z\" fill=\"#000000\" fill-rule=\"evenodd\" fill-opacity=\"1\" /><path clip-path=\"url(#clip960)\" d=\"M 0 0 M1541.22 9.54393 L1548.67 9.54393 L1548.67 72.576 L1541.22 72.576 L1541.22 9.54393 Z\" fill=\"#000000\" fill-rule=\"evenodd\" fill-opacity=\"1\" /><path clip-path=\"url(#clip960)\" d=\"M 0 0 M1574.07 32.4315 Q1568.08 32.4315 1564.59 37.1306 Q1561.11 41.7891 1561.11 49.9314 Q1561.11 58.0738 1564.55 62.7728 Q1568.04 67.4314 1574.07 67.4314 Q1580.03 67.4314 1583.51 62.7323 Q1587 58.0333 1587 49.9314 Q1587 41.8701 1583.51 37.1711 Q1580.03 32.4315 1574.07 32.4315 M1574.07 26.1121 Q1583.8 26.1121 1589.34 32.4315 Q1594.89 38.7509 1594.89 49.9314 Q1594.89 61.0714 1589.34 67.4314 Q1583.8 73.7508 1574.07 73.7508 Q1564.31 73.7508 1558.76 67.4314 Q1553.25 61.0714 1553.25 49.9314 Q1553.25 38.7509 1558.76 32.4315 Q1564.31 26.1121 1574.07 26.1121 Z\" fill=\"#000000\" fill-rule=\"evenodd\" fill-opacity=\"1\" /><path clip-path=\"url(#clip960)\" d=\"M 0 0 M1610.09 14.324 L1610.09 27.2059 L1625.44 27.2059 L1625.44 32.9987 L1610.09 32.9987 L1610.09 57.6282 Q1610.09 63.1779 1611.58 64.7578 Q1613.12 66.3376 1617.78 66.3376 L1625.44 66.3376 L1625.44 72.576 L1617.78 72.576 Q1609.15 72.576 1605.87 69.3758 Q1602.59 66.1351 1602.59 57.6282 L1602.59 32.9987 L1597.12 32.9987 L1597.12 27.2059 L1602.59 27.2059 L1602.59 14.324 L1610.09 14.324 Z\" fill=\"#000000\" fill-rule=\"evenodd\" fill-opacity=\"1\" /><polyline clip-path=\"url(#clip962)\" style=\"stroke:#000000; stroke-width:4; stroke-opacity:1; fill:none\" points=\"\n",
       "  260.167,1386.4 264.231,1383.94 268.294,1381.49 272.357,1379.04 276.421,1376.59 280.484,1374.13 284.547,1371.68 288.61,1369.23 292.674,1366.78 296.737,1364.33 \n",
       "  300.8,1361.87 304.863,1359.42 308.927,1356.97 312.99,1354.52 317.053,1352.06 321.117,1349.61 325.18,1347.16 329.243,1344.71 333.306,1342.25 337.37,1339.8 \n",
       "  341.433,1337.35 345.496,1334.9 349.56,1332.45 353.623,1329.99 357.686,1327.54 361.749,1325.09 365.813,1322.64 369.876,1320.18 373.939,1317.73 378.002,1315.28 \n",
       "  382.066,1312.83 386.129,1310.38 390.192,1307.92 394.256,1305.47 398.319,1303.02 402.382,1300.57 406.445,1298.11 410.509,1295.66 414.572,1293.21 418.635,1290.76 \n",
       "  422.699,1288.3 426.762,1285.85 430.825,1283.4 434.888,1280.95 438.952,1278.5 443.015,1276.04 447.078,1273.59 451.142,1271.14 455.205,1268.69 459.268,1266.23 \n",
       "  463.331,1263.78 467.395,1261.33 471.458,1258.88 475.521,1256.42 479.584,1253.97 483.648,1251.52 487.711,1249.07 491.774,1246.62 495.838,1244.16 499.901,1241.71 \n",
       "  503.964,1239.26 508.027,1236.81 512.091,1234.35 516.154,1231.9 520.217,1229.45 524.281,1227 528.344,1224.55 532.407,1222.09 536.47,1219.64 540.534,1217.19 \n",
       "  544.597,1214.74 548.66,1212.28 552.723,1209.83 556.787,1207.38 560.85,1204.93 564.913,1202.47 568.977,1200.02 573.04,1197.57 577.103,1195.12 581.166,1192.67 \n",
       "  585.23,1190.21 589.293,1187.76 593.356,1185.31 597.42,1182.86 601.483,1180.4 605.546,1177.95 609.609,1175.5 613.673,1173.05 617.736,1170.6 621.799,1168.14 \n",
       "  625.862,1165.69 629.926,1163.24 633.989,1160.79 638.052,1158.33 642.116,1155.88 646.179,1153.43 650.242,1150.98 654.305,1148.52 658.369,1146.07 662.432,1143.62 \n",
       "  666.495,1141.17 670.559,1138.72 674.622,1136.26 678.685,1133.81 682.748,1131.36 686.812,1128.91 690.875,1126.45 694.938,1124 699.002,1121.55 703.065,1119.1 \n",
       "  707.128,1116.65 711.191,1114.19 715.255,1111.74 719.318,1109.29 723.381,1106.84 727.444,1104.38 731.508,1101.93 735.571,1099.48 739.634,1097.03 743.698,1094.57 \n",
       "  747.761,1092.12 751.824,1089.67 755.887,1087.22 759.951,1084.77 764.014,1082.31 768.077,1079.86 772.141,1077.41 776.204,1074.96 780.267,1072.5 784.33,1070.05 \n",
       "  788.394,1067.6 792.457,1065.15 796.52,1062.69 800.583,1060.24 804.647,1057.79 808.71,1055.34 812.773,1052.89 816.837,1050.43 820.9,1047.98 824.963,1045.53 \n",
       "  829.026,1043.08 833.09,1040.62 837.153,1038.17 841.216,1035.72 845.28,1033.27 849.343,1030.82 853.406,1028.36 857.469,1025.91 861.533,1023.46 865.596,1021.01 \n",
       "  869.659,1018.55 873.722,1016.1 877.786,1013.65 881.849,1011.2 885.912,1008.74 889.976,1006.29 894.039,1003.84 898.102,1001.39 902.165,998.936 906.229,996.483 \n",
       "  910.292,994.031 914.355,991.579 918.419,989.127 922.482,986.674 926.545,984.222 930.608,981.77 934.672,979.317 938.735,976.865 942.798,974.413 946.861,971.961 \n",
       "  950.925,969.508 954.988,967.056 959.051,964.604 963.115,962.151 967.178,959.699 971.241,957.247 975.304,954.795 979.368,952.342 983.431,949.89 987.494,947.438 \n",
       "  991.558,944.985 995.621,942.533 999.684,940.081 1003.75,937.629 1007.81,935.176 1011.87,932.724 1015.94,930.272 1020,927.82 1024.06,925.367 1028.13,922.915 \n",
       "  1032.19,920.463 1036.25,918.01 1040.32,915.558 1044.38,913.106 1048.44,910.654 1052.51,908.201 1056.57,905.749 1060.63,903.297 1064.7,900.844 1068.76,898.392 \n",
       "  1072.82,895.94 1076.89,893.488 1080.95,891.035 1085.01,888.583 1089.08,886.131 1093.14,883.679 1097.2,881.226 1101.27,878.774 1105.33,876.322 1109.39,873.869 \n",
       "  1113.46,871.417 1117.52,868.965 1121.58,866.513 1125.65,864.06 1129.71,861.608 1133.77,859.156 1137.84,856.703 1141.9,854.251 1145.96,851.799 1150.03,849.347 \n",
       "  1154.09,846.894 1158.15,844.442 1162.22,841.99 1166.28,839.538 1170.34,837.085 1174.41,834.633 1178.47,832.181 1182.53,829.728 1186.59,827.276 1190.66,824.824 \n",
       "  1194.72,822.372 1198.78,819.919 1202.85,817.467 1206.91,815.015 1210.97,812.562 1215.04,810.11 1219.1,807.658 1223.16,805.206 1227.23,802.753 1231.29,800.301 \n",
       "  1235.35,797.849 1239.42,795.396 1243.48,792.944 1247.54,790.492 1251.61,788.04 1255.67,785.587 1259.73,783.135 1263.8,780.683 1267.86,778.231 1271.92,775.778 \n",
       "  1275.99,773.326 1280.05,770.874 1284.11,768.421 1288.18,765.969 1292.24,763.517 1296.3,761.065 1300.37,758.612 1304.43,756.16 1308.49,753.708 1312.56,751.255 \n",
       "  1316.62,748.803 1320.68,746.351 1324.75,743.899 1328.81,741.446 1332.87,738.994 1336.94,736.542 1341,734.09 1345.06,731.637 1349.13,729.185 1353.19,726.733 \n",
       "  1357.25,724.28 1361.32,721.828 1365.38,719.376 1369.44,716.924 1373.51,714.471 1377.57,712.019 1381.63,709.567 1385.7,707.114 1389.76,704.662 1393.82,702.21 \n",
       "  1397.89,699.758 1401.95,697.305 1406.01,694.853 1410.08,692.401 1414.14,689.949 1418.2,687.496 1422.27,685.044 1426.33,682.592 1430.39,680.139 1434.45,677.687 \n",
       "  1438.52,675.235 1442.58,672.783 1446.64,670.33 1450.71,667.878 1454.77,665.426 1458.83,662.973 1462.9,660.521 1466.96,658.069 1471.02,655.617 1475.09,653.164 \n",
       "  1479.15,650.712 1483.21,648.26 1487.28,645.807 1491.34,643.355 1495.4,640.903 1499.47,638.451 1503.53,635.998 1507.59,633.546 1511.66,631.094 1515.72,628.642 \n",
       "  1519.78,626.189 1523.85,623.737 1527.91,621.285 1531.97,618.832 1536.04,616.38 1540.1,613.928 1544.16,611.476 1548.23,609.023 1552.29,606.571 1556.35,604.119 \n",
       "  1560.42,601.666 1564.48,599.214 1568.54,596.762 1572.61,594.31 1576.67,591.857 1580.73,589.405 1584.8,586.953 1588.86,584.501 1592.92,582.048 1596.99,579.596 \n",
       "  1601.05,577.144 1605.11,574.691 1609.18,572.239 1613.24,569.787 1617.3,567.335 1621.37,564.882 1625.43,562.43 1629.49,559.978 1633.56,557.525 1637.62,555.073 \n",
       "  1641.68,552.621 1645.75,550.169 1649.81,547.716 1653.87,545.264 1657.94,542.812 1662,540.36 1666.06,537.907 1670.13,535.455 1674.19,533.003 1678.25,530.55 \n",
       "  1682.31,528.098 1686.38,525.646 1690.44,523.194 1694.5,520.741 1698.57,518.289 1702.63,515.837 1706.69,513.384 1710.76,510.932 1714.82,508.48 1718.88,506.028 \n",
       "  1722.95,503.575 1727.01,501.123 1731.07,498.671 1735.14,496.218 1739.2,493.766 1743.26,491.314 1747.33,488.862 1751.39,486.409 1755.45,483.957 1759.52,481.505 \n",
       "  1763.58,479.053 1767.64,476.6 1771.71,474.148 1775.77,471.696 1779.83,469.243 1783.9,466.791 1787.96,464.339 1792.02,461.887 1796.09,459.434 1800.15,456.982 \n",
       "  1804.21,454.53 1808.28,452.077 1812.34,449.625 1816.4,447.173 1820.47,444.721 1824.53,442.268 1828.59,439.816 1832.66,437.364 1836.72,434.912 1840.78,432.459 \n",
       "  1844.85,430.007 1848.91,427.555 1852.97,425.102 1857.04,422.65 1861.1,420.198 1865.16,417.746 1869.23,415.293 1873.29,412.841 1877.35,410.389 1881.42,407.936 \n",
       "  1885.48,405.484 1889.54,403.032 1893.61,400.58 1897.67,398.127 1901.73,395.675 1905.8,393.223 1909.86,390.771 1913.92,388.318 1917.99,385.866 1922.05,383.414 \n",
       "  1926.11,380.961 1930.17,378.509 1934.24,376.057 1938.3,373.605 1942.36,371.152 1946.43,368.7 1950.49,366.248 1954.55,363.795 1958.62,361.343 1962.68,358.891 \n",
       "  1966.74,356.439 1970.81,353.986 1974.87,351.534 1978.93,349.082 1983,346.629 1987.06,344.177 1991.12,341.725 1995.19,339.273 1999.25,336.82 2003.31,334.368 \n",
       "  2007.38,331.916 2011.44,329.464 2015.5,327.011 2019.57,324.559 2023.63,322.107 2027.69,319.654 2031.76,317.202 2035.82,314.75 2039.88,312.298 2043.95,309.845 \n",
       "  2048.01,307.393 2052.07,304.941 2056.14,302.488 2060.2,300.036 2064.26,297.584 2068.33,295.132 2072.39,292.679 2076.45,290.227 2080.52,287.775 2084.58,285.323 \n",
       "  2088.64,282.87 2092.71,280.418 2096.77,277.966 2100.83,275.513 2104.9,273.061 2108.96,270.609 2113.02,268.157 2117.09,265.704 2121.15,263.252 2125.21,260.8 \n",
       "  2129.28,258.347 2133.34,255.895 2137.4,253.443 2141.47,250.991 2145.53,248.538 2149.59,246.086 2153.66,243.634 2157.72,241.182 2161.78,238.729 2165.85,236.277 \n",
       "  2169.91,233.825 2173.97,231.372 2178.03,228.92 2182.1,226.468 2186.16,224.016 2190.22,221.563 2194.29,219.111 2198.35,216.659 2202.41,214.206 2206.48,211.754 \n",
       "  2210.54,209.302 2214.6,206.85 2218.67,204.397 2222.73,201.945 2226.79,199.493 2230.86,197.04 2234.92,194.588 2238.98,192.136 2243.05,189.684 2247.11,187.231 \n",
       "  2251.17,184.779 2255.24,182.327 2259.3,179.875 2263.36,177.422 2267.43,174.97 2271.49,172.518 2275.55,170.065 2279.62,167.613 2283.68,165.161 2287.74,162.709 \n",
       "  2291.81,160.256 \n",
       "  \"/>\n",
       "<polyline clip-path=\"url(#clip962)\" style=\"stroke:#808080; stroke-width:12; stroke-opacity:1; fill:none\" points=\"\n",
       "  260.167,773.326 264.231,773.326 268.294,773.326 272.357,773.326 276.421,773.326 280.484,773.326 284.547,773.326 288.61,773.326 292.674,773.326 296.737,773.326 \n",
       "  300.8,773.326 304.863,773.326 308.927,773.326 312.99,773.326 317.053,773.326 321.117,773.326 325.18,773.326 329.243,773.326 333.306,773.326 337.37,773.326 \n",
       "  341.433,773.326 345.496,773.326 349.56,773.326 353.623,773.326 357.686,773.326 361.749,773.326 365.813,773.326 369.876,773.326 373.939,773.326 378.002,773.326 \n",
       "  382.066,773.326 386.129,773.326 390.192,773.326 394.256,773.326 398.319,773.326 402.382,773.326 406.445,773.326 410.509,773.326 414.572,773.326 418.635,773.326 \n",
       "  422.699,773.326 426.762,773.326 430.825,773.326 434.888,773.326 438.952,773.326 443.015,773.326 447.078,773.326 451.142,773.326 455.205,773.326 459.268,773.326 \n",
       "  463.331,773.326 467.395,773.326 471.458,773.326 475.521,773.326 479.584,773.326 483.648,773.326 487.711,773.326 491.774,773.326 495.838,773.326 499.901,773.326 \n",
       "  503.964,773.326 508.027,773.326 512.091,773.326 516.154,773.326 520.217,773.326 524.281,773.326 528.344,773.326 532.407,773.326 536.47,773.326 540.534,773.326 \n",
       "  544.597,773.326 548.66,773.326 552.723,773.326 556.787,773.326 560.85,773.326 564.913,773.326 568.977,773.326 573.04,773.326 577.103,773.326 581.166,773.326 \n",
       "  585.23,773.326 589.293,773.326 593.356,773.326 597.42,773.326 601.483,773.326 605.546,773.326 609.609,773.326 613.673,773.326 617.736,773.326 621.799,773.326 \n",
       "  625.862,773.326 629.926,773.326 633.989,773.326 638.052,773.326 642.116,773.326 646.179,773.326 650.242,773.326 654.305,773.326 658.369,773.326 662.432,773.326 \n",
       "  666.495,773.326 670.559,773.326 674.622,773.326 678.685,773.326 682.748,773.326 686.812,773.326 690.875,773.326 694.938,773.326 699.002,773.326 703.065,773.326 \n",
       "  707.128,773.326 711.191,773.326 715.255,773.326 719.318,773.326 723.381,773.326 727.444,773.326 731.508,773.326 735.571,773.326 739.634,773.326 743.698,773.326 \n",
       "  747.761,773.326 751.824,773.326 755.887,773.326 759.951,773.326 764.014,773.326 768.077,773.326 772.141,773.326 776.204,773.326 780.267,773.326 784.33,773.326 \n",
       "  788.394,773.326 792.457,773.326 796.52,773.326 800.583,773.326 804.647,773.326 808.71,773.326 812.773,773.326 816.837,773.326 820.9,773.326 824.963,773.326 \n",
       "  829.026,773.326 833.09,773.326 837.153,773.326 841.216,773.326 845.28,773.326 849.343,773.326 853.406,773.326 857.469,773.326 861.533,773.326 865.596,773.326 \n",
       "  869.659,773.326 873.722,773.326 877.786,773.326 881.849,773.326 885.912,773.326 889.976,773.326 894.039,773.326 898.102,773.326 902.165,773.326 906.229,773.326 \n",
       "  910.292,773.326 914.355,773.326 918.419,773.326 922.482,773.326 926.545,773.326 930.608,773.326 934.672,773.326 938.735,773.326 942.798,773.326 946.861,773.326 \n",
       "  950.925,773.326 954.988,773.326 959.051,773.326 963.115,773.326 967.178,773.326 971.241,773.326 975.304,773.326 979.368,773.326 983.431,773.326 987.494,773.326 \n",
       "  991.558,773.326 995.621,773.326 999.684,773.326 1003.75,773.326 1007.81,773.326 1011.87,773.326 1015.94,773.326 1020,773.326 1024.06,773.326 1028.13,773.326 \n",
       "  1032.19,773.326 1036.25,773.326 1040.32,773.326 1044.38,773.326 1048.44,773.326 1052.51,773.326 1056.57,773.326 1060.63,773.326 1064.7,773.326 1068.76,773.326 \n",
       "  1072.82,773.326 1076.89,773.326 1080.95,773.326 1085.01,773.326 1089.08,773.326 1093.14,773.326 1097.2,773.326 1101.27,773.326 1105.33,773.326 1109.39,773.326 \n",
       "  1113.46,773.326 1117.52,773.326 1121.58,773.326 1125.65,773.326 1129.71,773.326 1133.77,773.326 1137.84,773.326 1141.9,773.326 1145.96,773.326 1150.03,773.326 \n",
       "  1154.09,773.326 1158.15,773.326 1162.22,773.326 1166.28,773.326 1170.34,773.326 1174.41,773.326 1178.47,773.326 1182.53,773.326 1186.59,773.326 1190.66,773.326 \n",
       "  1194.72,773.326 1198.78,773.326 1202.85,773.326 1206.91,773.326 1210.97,773.326 1215.04,773.326 1219.1,773.326 1223.16,773.326 1227.23,773.326 1231.29,773.326 \n",
       "  1235.35,773.326 1239.42,773.326 1243.48,773.326 1247.54,773.326 1251.61,773.326 1255.67,773.326 1259.73,773.326 1263.8,773.326 1267.86,773.326 1271.92,773.326 \n",
       "  1275.99,773.326 1280.05,773.326 1284.11,773.326 1288.18,773.326 1292.24,773.326 1296.3,773.326 1300.37,773.326 1304.43,773.326 1308.49,773.326 1312.56,773.326 \n",
       "  1316.62,773.326 1320.68,773.326 1324.75,773.326 1328.81,773.326 1332.87,773.326 1336.94,773.326 1341,773.326 1345.06,773.326 1349.13,773.326 1353.19,773.326 \n",
       "  1357.25,773.326 1361.32,773.326 1365.38,773.326 1369.44,773.326 1373.51,773.326 1377.57,773.326 1381.63,773.326 1385.7,773.326 1389.76,773.326 1393.82,773.326 \n",
       "  1397.89,773.326 1401.95,773.326 1406.01,773.326 1410.08,773.326 1414.14,773.326 1418.2,773.326 1422.27,773.326 1426.33,773.326 1430.39,773.326 1434.45,773.326 \n",
       "  1438.52,773.326 1442.58,773.326 1446.64,773.326 1450.71,773.326 1454.77,773.326 1458.83,773.326 1462.9,773.326 1466.96,773.326 1471.02,773.326 1475.09,773.326 \n",
       "  1479.15,773.326 1483.21,773.326 1487.28,773.326 1491.34,773.326 1495.4,773.326 1499.47,773.326 1503.53,773.326 1507.59,773.326 1511.66,773.326 1515.72,773.326 \n",
       "  1519.78,773.326 1523.85,773.326 1527.91,773.326 1531.97,773.326 1536.04,773.326 1540.1,773.326 1544.16,773.326 1548.23,773.326 1552.29,773.326 1556.35,773.326 \n",
       "  1560.42,773.326 1564.48,773.326 1568.54,773.326 1572.61,773.326 1576.67,773.326 1580.73,773.326 1584.8,773.326 1588.86,773.326 1592.92,773.326 1596.99,773.326 \n",
       "  1601.05,773.326 1605.11,773.326 1609.18,773.326 1613.24,773.326 1617.3,773.326 1621.37,773.326 1625.43,773.326 1629.49,773.326 1633.56,773.326 1637.62,773.326 \n",
       "  1641.68,773.326 1645.75,773.326 1649.81,773.326 1653.87,773.326 1657.94,773.326 1662,773.326 1666.06,773.326 1670.13,773.326 1674.19,773.326 1678.25,773.326 \n",
       "  1682.31,773.326 1686.38,773.326 1690.44,773.326 1694.5,773.326 1698.57,773.326 1702.63,773.326 1706.69,773.326 1710.76,773.326 1714.82,773.326 1718.88,773.326 \n",
       "  1722.95,773.326 1727.01,773.326 1731.07,773.326 1735.14,773.326 1739.2,773.326 1743.26,773.326 1747.33,773.326 1751.39,773.326 1755.45,773.326 1759.52,773.326 \n",
       "  1763.58,773.326 1767.64,773.326 1771.71,773.326 1775.77,773.326 1779.83,773.326 1783.9,773.326 1787.96,773.326 1792.02,773.326 1796.09,773.326 1800.15,773.326 \n",
       "  1804.21,773.326 1808.28,773.326 1812.34,773.326 1816.4,773.326 1820.47,773.326 1824.53,773.326 1828.59,773.326 1832.66,773.326 1836.72,773.326 1840.78,773.326 \n",
       "  1844.85,773.326 1848.91,773.326 1852.97,773.326 1857.04,773.326 1861.1,773.326 1865.16,773.326 1869.23,773.326 1873.29,773.326 1877.35,773.326 1881.42,773.326 \n",
       "  1885.48,773.326 1889.54,773.326 1893.61,773.326 1897.67,773.326 1901.73,773.326 1905.8,773.326 1909.86,773.326 1913.92,773.326 1917.99,773.326 1922.05,773.326 \n",
       "  1926.11,773.326 1930.17,773.326 1934.24,773.326 1938.3,773.326 1942.36,773.326 1946.43,773.326 1950.49,773.326 1954.55,773.326 1958.62,773.326 1962.68,773.326 \n",
       "  1966.74,773.326 1970.81,773.326 1974.87,773.326 1978.93,773.326 1983,773.326 1987.06,773.326 1991.12,773.326 1995.19,773.326 1999.25,773.326 2003.31,773.326 \n",
       "  2007.38,773.326 2011.44,773.326 2015.5,773.326 2019.57,773.326 2023.63,773.326 2027.69,773.326 2031.76,773.326 2035.82,773.326 2039.88,773.326 2043.95,773.326 \n",
       "  2048.01,773.326 2052.07,773.326 2056.14,773.326 2060.2,773.326 2064.26,773.326 2068.33,773.326 2072.39,773.326 2076.45,773.326 2080.52,773.326 2084.58,773.326 \n",
       "  2088.64,773.326 2092.71,773.326 2096.77,773.326 2100.83,773.326 2104.9,773.326 2108.96,773.326 2113.02,773.326 2117.09,773.326 2121.15,773.326 2125.21,773.326 \n",
       "  2129.28,773.326 2133.34,773.326 2137.4,773.326 2141.47,773.326 2145.53,773.326 2149.59,773.326 2153.66,773.326 2157.72,773.326 2161.78,773.326 2165.85,773.326 \n",
       "  2169.91,773.326 2173.97,773.326 2178.03,773.326 2182.1,773.326 2186.16,773.326 2190.22,773.326 2194.29,773.326 2198.35,773.326 2202.41,773.326 2206.48,773.326 \n",
       "  2210.54,773.326 2214.6,773.326 2218.67,773.326 2222.73,773.326 2226.79,773.326 2230.86,773.326 2234.92,773.326 2238.98,773.326 2243.05,773.326 2247.11,773.326 \n",
       "  2251.17,773.326 2255.24,773.326 2259.3,773.326 2263.36,773.326 2267.43,773.326 2271.49,773.326 2275.55,773.326 2279.62,773.326 2283.68,773.326 2287.74,773.326 \n",
       "  2291.81,773.326 \n",
       "  \"/>\n",
       "<polyline clip-path=\"url(#clip962)\" style=\"stroke:#808080; stroke-width:12; stroke-opacity:1; fill:none\" points=\"\n",
       "  1275.99,2722.89 1275.99,-1176.24 \n",
       "  \"/>\n",
       "<polyline clip-path=\"url(#clip962)\" style=\"stroke:#ff0000; stroke-width:12; stroke-opacity:1; fill:none\" points=\"\n",
       "  260.167,1359.42 264.231,1356.97 268.294,1356.97 272.357,1354.52 276.421,1352.06 280.484,1349.61 284.547,1347.16 288.61,1344.71 292.674,1342.25 296.737,1339.8 \n",
       "  300.8,1337.35 304.863,1334.9 308.927,1332.45 312.99,1329.99 317.053,1327.54 321.117,1325.09 325.18,1322.64 329.243,1320.18 333.306,1317.73 337.37,1315.28 \n",
       "  341.433,1312.83 345.496,1310.38 349.56,1307.92 353.623,1305.47 357.686,1303.02 361.749,1300.57 365.813,1298.11 369.876,1295.66 373.939,1293.21 378.002,1293.21 \n",
       "  382.066,1290.76 386.129,1288.3 390.192,1285.85 394.256,1283.4 398.319,1280.95 402.382,1278.5 406.445,1276.04 410.509,1273.59 414.572,1271.14 418.635,1268.69 \n",
       "  422.699,1266.23 426.762,1263.78 430.825,1261.33 434.888,1258.88 438.952,1256.42 443.015,1253.97 447.078,1251.52 451.142,1249.07 455.205,1246.62 459.268,1244.16 \n",
       "  463.331,1241.71 467.395,1239.26 471.458,1236.81 475.521,1234.35 479.584,1234.35 483.648,1231.9 487.711,1229.45 491.774,1227 495.838,1224.55 499.901,1222.09 \n",
       "  503.964,1219.64 508.027,1217.19 512.091,1214.74 516.154,1212.28 520.217,1209.83 524.281,1207.38 528.344,1204.93 532.407,1202.47 536.47,1200.02 540.534,1197.57 \n",
       "  544.597,1195.12 548.66,1192.67 552.723,1190.21 556.787,1187.76 560.85,1185.31 564.913,1182.86 568.977,1180.4 573.04,1177.95 577.103,1175.5 581.166,1175.5 \n",
       "  585.23,1173.05 589.293,1170.6 593.356,1168.14 597.42,1165.69 601.483,1163.24 605.546,1160.79 609.609,1158.33 613.673,1155.88 617.736,1153.43 621.799,1150.98 \n",
       "  625.862,1148.52 629.926,1146.07 633.989,1143.62 638.052,1141.17 642.116,1138.72 646.179,1136.26 650.242,1133.81 654.305,1131.36 658.369,1128.91 662.432,1126.45 \n",
       "  666.495,1124 670.559,1121.55 674.622,1119.1 678.685,1116.65 682.748,1116.65 686.812,1114.19 690.875,1111.74 694.938,1109.29 699.002,1106.84 703.065,1104.38 \n",
       "  707.128,1101.93 711.191,1099.48 715.255,1097.03 719.318,1094.57 723.381,1092.12 727.444,1089.67 731.508,1087.22 735.571,1084.77 739.634,1082.31 743.698,1079.86 \n",
       "  747.761,1077.41 751.824,1074.96 755.887,1072.5 759.951,1070.05 764.014,1067.6 768.077,1065.15 772.141,1062.69 776.204,1062.69 780.267,1060.24 784.33,1057.79 \n",
       "  788.394,1055.34 792.457,1052.89 796.52,1050.43 800.583,1047.98 804.647,1045.53 808.71,1043.08 812.773,1040.62 816.837,1038.17 820.9,1035.72 824.963,1033.27 \n",
       "  829.026,1030.82 833.09,1028.36 837.153,1025.91 841.216,1023.46 845.28,1021.01 849.343,1018.55 853.406,1016.1 857.469,1013.65 861.533,1011.2 865.596,1008.74 \n",
       "  869.659,1008.74 873.722,1006.29 877.786,1003.84 881.849,1001.39 885.912,998.936 889.976,996.483 894.039,994.031 898.102,991.579 902.165,989.127 906.229,986.674 \n",
       "  910.292,984.222 914.355,981.77 918.419,979.317 922.482,976.865 926.545,974.413 930.608,971.961 934.672,969.508 938.735,967.056 942.798,964.604 946.861,962.151 \n",
       "  950.925,959.699 954.988,957.247 959.051,954.795 963.115,954.795 967.178,952.342 971.241,949.89 975.304,947.438 979.368,944.985 983.431,942.533 987.494,940.081 \n",
       "  991.558,937.629 995.621,935.176 999.684,932.724 1003.75,930.272 1007.81,927.82 1011.87,925.367 1015.94,922.915 1020,920.463 1024.06,918.01 1028.13,915.558 \n",
       "  1032.19,913.106 1036.25,910.654 1040.32,908.201 1044.38,905.749 1048.44,903.297 1052.51,900.844 1056.57,900.844 1060.63,898.392 1064.7,895.94 1068.76,893.488 \n",
       "  1072.82,891.035 1076.89,888.583 1080.95,886.131 1085.01,883.679 1089.08,881.226 1093.14,878.774 1097.2,876.322 1101.27,873.869 1105.33,871.417 1109.39,868.965 \n",
       "  1113.46,866.513 1117.52,864.06 1121.58,861.608 1125.65,859.156 1129.71,856.703 1133.77,854.251 1137.84,851.799 1141.9,849.347 1145.96,846.894 1150.03,846.894 \n",
       "  1154.09,844.442 1158.15,841.99 1162.22,839.538 1166.28,837.085 1170.34,834.633 1174.41,832.181 1178.47,829.728 1182.53,827.276 1186.59,824.824 1190.66,822.372 \n",
       "  1194.72,819.919 1198.78,817.467 1202.85,815.015 1206.91,812.562 1210.97,810.11 1215.04,807.658 1219.1,805.206 1223.16,802.753 1227.23,800.301 1231.29,797.849 \n",
       "  1235.35,795.396 1239.42,792.944 1243.48,790.492 1247.54,788.04 1251.61,785.587 1255.67,783.135 1259.73,780.683 1263.8,780.683 1267.86,778.231 1271.92,775.778 \n",
       "  1275.99,773.326 1280.05,770.874 1284.11,768.421 1288.18,765.969 1292.24,765.969 1296.3,763.517 1300.37,761.065 1304.43,758.612 1308.49,756.16 1312.56,753.708 \n",
       "  1316.62,751.255 1320.68,748.803 1324.75,746.351 1328.81,743.899 1332.87,741.446 1336.94,738.994 1341,736.542 1345.06,734.09 1349.13,731.637 1353.19,729.185 \n",
       "  1357.25,726.733 1361.32,724.28 1365.38,721.828 1369.44,719.376 1373.51,716.924 1377.57,714.471 1381.63,712.019 1385.7,709.567 1389.76,707.114 1393.82,704.662 \n",
       "  1397.89,702.21 1401.95,699.758 1406.01,699.758 1410.08,697.305 1414.14,694.853 1418.2,692.401 1422.27,689.949 1426.33,687.496 1430.39,685.044 1434.45,682.592 \n",
       "  1438.52,680.139 1442.58,677.687 1446.64,675.235 1450.71,672.783 1454.77,670.33 1458.83,667.878 1462.9,665.426 1466.96,662.973 1471.02,660.521 1475.09,658.069 \n",
       "  1479.15,655.617 1483.21,653.164 1487.28,650.712 1491.34,648.26 1495.4,648.26 1499.47,645.807 1503.53,643.355 1507.59,640.903 1511.66,638.451 1515.72,635.998 \n",
       "  1519.78,633.546 1523.85,631.094 1527.91,628.642 1531.97,626.189 1536.04,623.737 1540.1,621.285 1544.16,618.832 1548.23,616.38 1552.29,613.928 1556.35,611.476 \n",
       "  1560.42,609.023 1564.48,606.571 1568.54,604.119 1572.61,601.666 1576.67,599.214 1580.73,596.762 1584.8,596.762 1588.86,594.31 1592.92,591.857 1596.99,589.405 \n",
       "  1601.05,586.953 1605.11,584.501 1609.18,582.048 1613.24,579.596 1617.3,577.144 1621.37,574.691 1625.43,572.239 1629.49,569.787 1633.56,567.335 1637.62,564.882 \n",
       "  1641.68,562.43 1645.75,559.978 1649.81,557.525 1653.87,555.073 1657.94,552.621 1662,550.169 1666.06,547.716 1670.13,545.264 1674.19,545.264 1678.25,542.812 \n",
       "  1682.31,540.36 1686.38,537.907 1690.44,535.455 1694.5,533.003 1698.57,530.55 1702.63,528.098 1706.69,525.646 1710.76,523.194 1714.82,520.741 1718.88,518.289 \n",
       "  1722.95,515.837 1727.01,513.384 1731.07,510.932 1735.14,508.48 1739.2,506.028 1743.26,503.575 1747.33,501.123 1751.39,498.671 1755.45,496.218 1759.52,496.218 \n",
       "  1763.58,493.766 1767.64,491.314 1771.71,488.862 1775.77,486.409 1779.83,483.957 1783.9,481.505 1787.96,479.053 1792.02,476.6 1796.09,474.148 1800.15,471.696 \n",
       "  1804.21,469.243 1808.28,466.791 1812.34,464.339 1816.4,461.887 1820.47,459.434 1824.53,456.982 1828.59,454.53 1832.66,452.077 1836.72,449.625 1840.78,449.625 \n",
       "  1844.85,447.173 1848.91,444.721 1852.97,442.268 1857.04,439.816 1861.1,437.364 1865.16,434.912 1869.23,432.459 1873.29,430.007 1877.35,427.555 1881.42,425.102 \n",
       "  1885.48,422.65 1889.54,420.198 1893.61,417.746 1897.67,415.293 1901.73,412.841 1905.8,410.389 1909.86,407.936 1913.92,405.484 1917.99,403.032 1922.05,400.58 \n",
       "  1926.11,400.58 1930.17,398.127 1934.24,395.675 1938.3,393.223 1942.36,390.771 1946.43,388.318 1950.49,385.866 1954.55,383.414 1958.62,380.961 1962.68,378.509 \n",
       "  1966.74,376.057 1970.81,373.605 1974.87,371.152 1978.93,368.7 1983,366.248 1987.06,363.795 1991.12,361.343 1995.19,358.891 1999.25,356.439 2003.31,353.986 \n",
       "  2007.38,351.534 2011.44,349.082 2015.5,349.082 2019.57,346.629 2023.63,344.177 2027.69,341.725 2031.76,339.273 2035.82,336.82 2039.88,334.368 2043.95,331.916 \n",
       "  2048.01,329.464 2052.07,327.011 2056.14,324.559 2060.2,322.107 2064.26,319.654 2068.33,317.202 2072.39,314.75 2076.45,312.298 2080.52,309.845 2084.58,307.393 \n",
       "  2088.64,304.941 2092.71,302.488 2096.77,300.036 2100.83,300.036 2104.9,297.584 2108.96,295.132 2113.02,292.679 2117.09,290.227 2121.15,287.775 2125.21,285.323 \n",
       "  2129.28,282.87 2133.34,280.418 2137.4,277.966 2141.47,275.513 2145.53,273.061 2149.59,270.609 2153.66,268.157 2157.72,265.704 2161.78,263.252 2165.85,260.8 \n",
       "  2169.91,258.347 2173.97,255.895 2178.03,253.443 2182.1,250.991 2186.16,250.991 2190.22,248.538 2194.29,246.086 2198.35,243.634 2202.41,241.182 2206.48,238.729 \n",
       "  2210.54,236.277 2214.6,233.825 2218.67,231.372 2222.73,228.92 2226.79,226.468 2230.86,224.016 2234.92,221.563 2238.98,219.111 2243.05,216.659 2247.11,214.206 \n",
       "  2251.17,211.754 2255.24,209.302 2259.3,206.85 2263.36,204.397 2267.43,204.397 2271.49,201.945 2275.55,199.493 2279.62,197.04 2283.68,194.588 2287.74,192.136 \n",
       "  2291.81,189.684 \n",
       "  \"/>\n",
       "<path clip-path=\"url(#clip960)\" d=\"\n",
       "M1591.28 469.196 L2280.97 469.196 L2280.97 166.796 L1591.28 166.796  Z\n",
       "  \" fill=\"#ffffff\" fill-rule=\"evenodd\" fill-opacity=\"1\"/>\n",
       "<polyline clip-path=\"url(#clip960)\" style=\"stroke:#000000; stroke-width:4; stroke-opacity:1; fill:none\" points=\"\n",
       "  1591.28,469.196 2280.97,469.196 2280.97,166.796 1591.28,166.796 1591.28,469.196 \n",
       "  \"/>\n",
       "<polyline clip-path=\"url(#clip960)\" style=\"stroke:#000000; stroke-width:4; stroke-opacity:1; fill:none\" points=\"\n",
       "  1615.2,227.276 1758.77,227.276 \n",
       "  \"/>\n",
       "<path clip-path=\"url(#clip960)\" d=\"M 0 0 M1787.38 213.838 L1787.38 240.713 L1793.02 240.713 Q1800.18 240.713 1803.49 237.472 Q1806.82 234.232 1806.82 227.241 Q1806.82 220.297 1803.49 217.079 Q1800.18 213.838 1793.02 213.838 L1787.38 213.838 M1782.7 209.996 L1792.31 209.996 Q1802.35 209.996 1807.05 214.186 Q1811.75 218.352 1811.75 227.241 Q1811.75 236.176 1807.03 240.366 Q1802.31 244.556 1792.31 244.556 L1782.7 244.556 L1782.7 209.996 Z\" fill=\"#000000\" fill-rule=\"evenodd\" fill-opacity=\"1\" /><path clip-path=\"url(#clip960)\" d=\"M 0 0 M1816.22 218.63 L1820.48 218.63 L1820.48 244.556 L1816.22 244.556 L1816.22 218.63 M1816.22 208.537 L1820.48 208.537 L1820.48 213.931 L1816.22 213.931 L1816.22 208.537 Z\" fill=\"#000000\" fill-rule=\"evenodd\" fill-opacity=\"1\" /><path clip-path=\"url(#clip960)\" d=\"M 0 0 M1836.73 231.523 Q1831.57 231.523 1829.58 232.704 Q1827.58 233.884 1827.58 236.732 Q1827.58 239 1829.07 240.343 Q1830.57 241.662 1833.14 241.662 Q1836.68 241.662 1838.81 239.162 Q1840.96 236.639 1840.96 232.472 L1840.96 231.523 L1836.73 231.523 M1845.22 229.764 L1845.22 244.556 L1840.96 244.556 L1840.96 240.621 Q1839.51 242.982 1837.33 244.116 Q1835.15 245.227 1832.01 245.227 Q1828.02 245.227 1825.66 243.005 Q1823.33 240.759 1823.33 237.009 Q1823.33 232.634 1826.24 230.412 Q1829.18 228.19 1834.99 228.19 L1840.96 228.19 L1840.96 227.773 Q1840.96 224.834 1839.02 223.236 Q1837.1 221.616 1833.6 221.616 Q1831.38 221.616 1829.27 222.148 Q1827.17 222.681 1825.22 223.746 L1825.22 219.81 Q1827.56 218.908 1829.76 218.468 Q1831.96 218.005 1834.04 218.005 Q1839.67 218.005 1842.45 220.922 Q1845.22 223.838 1845.22 229.764 Z\" fill=\"#000000\" fill-rule=\"evenodd\" fill-opacity=\"1\" /><path clip-path=\"url(#clip960)\" d=\"M 0 0 M1866.75 231.292 Q1866.75 226.662 1864.83 224.116 Q1862.93 221.57 1859.48 221.57 Q1856.06 221.57 1854.14 224.116 Q1852.24 226.662 1852.24 231.292 Q1852.24 235.898 1854.14 238.445 Q1856.06 240.991 1859.48 240.991 Q1862.93 240.991 1864.83 238.445 Q1866.75 235.898 1866.75 231.292 M1871.01 241.338 Q1871.01 247.958 1868.07 251.176 Q1865.13 254.417 1859.07 254.417 Q1856.82 254.417 1854.83 254.07 Q1852.84 253.745 1850.96 253.051 L1850.96 248.908 Q1852.84 249.926 1854.67 250.412 Q1856.5 250.898 1858.39 250.898 Q1862.58 250.898 1864.67 248.699 Q1866.75 246.523 1866.75 242.102 L1866.75 239.996 Q1865.43 242.287 1863.37 243.421 Q1861.31 244.556 1858.44 244.556 Q1853.67 244.556 1850.76 240.921 Q1847.84 237.287 1847.84 231.292 Q1847.84 225.273 1850.76 221.639 Q1853.67 218.005 1858.44 218.005 Q1861.31 218.005 1863.37 219.139 Q1865.43 220.273 1866.75 222.565 L1866.75 218.63 L1871.01 218.63 L1871.01 241.338 Z\" fill=\"#000000\" fill-rule=\"evenodd\" fill-opacity=\"1\" /><path clip-path=\"url(#clip960)\" d=\"M 0 0 M1885.52 221.616 Q1882.1 221.616 1880.11 224.301 Q1878.12 226.963 1878.12 231.616 Q1878.12 236.269 1880.08 238.954 Q1882.08 241.616 1885.52 241.616 Q1888.93 241.616 1890.92 238.931 Q1892.91 236.246 1892.91 231.616 Q1892.91 227.01 1890.92 224.324 Q1888.93 221.616 1885.52 221.616 M1885.52 218.005 Q1891.08 218.005 1894.25 221.616 Q1897.42 225.227 1897.42 231.616 Q1897.42 237.982 1894.25 241.616 Q1891.08 245.227 1885.52 245.227 Q1879.95 245.227 1876.77 241.616 Q1873.63 237.982 1873.63 231.616 Q1873.63 225.227 1876.77 221.616 Q1879.95 218.005 1885.52 218.005 Z\" fill=\"#000000\" fill-rule=\"evenodd\" fill-opacity=\"1\" /><path clip-path=\"url(#clip960)\" d=\"M 0 0 M1923.44 228.908 L1923.44 244.556 L1919.18 244.556 L1919.18 229.047 Q1919.18 225.366 1917.75 223.537 Q1916.31 221.709 1913.44 221.709 Q1909.99 221.709 1908 223.908 Q1906.01 226.107 1906.01 229.903 L1906.01 244.556 L1901.73 244.556 L1901.73 218.63 L1906.01 218.63 L1906.01 222.658 Q1907.54 220.32 1909.6 219.162 Q1911.68 218.005 1914.39 218.005 Q1918.86 218.005 1921.15 220.783 Q1923.44 223.537 1923.44 228.908 Z\" fill=\"#000000\" fill-rule=\"evenodd\" fill-opacity=\"1\" /><path clip-path=\"url(#clip960)\" d=\"M 0 0 M1939.69 231.523 Q1934.53 231.523 1932.54 232.704 Q1930.55 233.884 1930.55 236.732 Q1930.55 239 1932.03 240.343 Q1933.53 241.662 1936.1 241.662 Q1939.64 241.662 1941.77 239.162 Q1943.93 236.639 1943.93 232.472 L1943.93 231.523 L1939.69 231.523 M1948.19 229.764 L1948.19 244.556 L1943.93 244.556 L1943.93 240.621 Q1942.47 242.982 1940.29 244.116 Q1938.12 245.227 1934.97 245.227 Q1930.99 245.227 1928.63 243.005 Q1926.29 240.759 1926.29 237.009 Q1926.29 232.634 1929.2 230.412 Q1932.14 228.19 1937.95 228.19 L1943.93 228.19 L1943.93 227.773 Q1943.93 224.834 1941.98 223.236 Q1940.06 221.616 1936.57 221.616 Q1934.34 221.616 1932.24 222.148 Q1930.13 222.681 1928.19 223.746 L1928.19 219.81 Q1930.52 218.908 1932.72 218.468 Q1934.92 218.005 1937.01 218.005 Q1942.63 218.005 1945.41 220.922 Q1948.19 223.838 1948.19 229.764 Z\" fill=\"#000000\" fill-rule=\"evenodd\" fill-opacity=\"1\" /><path clip-path=\"url(#clip960)\" d=\"M 0 0 M1952.65 208.537 L1956.91 208.537 L1956.91 244.556 L1952.65 244.556 L1952.65 208.537 Z\" fill=\"#000000\" fill-rule=\"evenodd\" fill-opacity=\"1\" /><polyline clip-path=\"url(#clip960)\" style=\"stroke:#808080; stroke-width:4; stroke-opacity:1; fill:none\" points=\"\n",
       "  1615.2,287.756 1758.77,287.756 \n",
       "  \"/>\n",
       "<path clip-path=\"url(#clip960)\" d=\"M 0 0 M1782.7 269.017 L1786.98 269.017 L1786.98 290.29 L1799.69 279.11 L1805.13 279.11 L1791.38 291.239 L1805.71 305.036 L1800.15 305.036 L1786.98 292.374 L1786.98 305.036 L1782.7 305.036 L1782.7 269.017 Z\" fill=\"#000000\" fill-rule=\"evenodd\" fill-opacity=\"1\" /><path clip-path=\"url(#clip960)\" d=\"M 0 0 M1787.03 269.712 L1800.87 269.712 L1800.87 273.138 L1787.03 273.138 L1787.03 269.712 Z\" fill=\"#000000\" fill-rule=\"evenodd\" fill-opacity=\"1\" /><polyline clip-path=\"url(#clip960)\" style=\"stroke:#808080; stroke-width:4; stroke-opacity:1; fill:none\" points=\"\n",
       "  1615.2,348.236 1758.77,348.236 \n",
       "  \"/>\n",
       "<path clip-path=\"url(#clip960)\" d=\"M 0 0 M1782.7 329.497 L1786.98 329.497 L1786.98 350.77 L1799.69 339.59 L1805.13 339.59 L1791.38 351.719 L1805.71 365.516 L1800.15 365.516 L1786.98 352.854 L1786.98 365.516 L1782.7 365.516 L1782.7 329.497 Z\" fill=\"#000000\" fill-rule=\"evenodd\" fill-opacity=\"1\" /><path clip-path=\"url(#clip960)\" d=\"M 0 0 M1787.03 330.192 L1800.87 330.192 L1800.87 333.618 L1787.03 333.618 L1787.03 330.192 Z\" fill=\"#000000\" fill-rule=\"evenodd\" fill-opacity=\"1\" /><polyline clip-path=\"url(#clip960)\" style=\"stroke:#ff0000; stroke-width:4; stroke-opacity:1; fill:none\" points=\"\n",
       "  1615.2,408.716 1758.77,408.716 \n",
       "  \"/>\n",
       "<path clip-path=\"url(#clip960)\" d=\"M 0 0 M1787.38 395.278 L1787.38 408.264 L1793.26 408.264 Q1796.52 408.264 1798.3 406.575 Q1800.08 404.885 1800.08 401.76 Q1800.08 398.658 1798.3 396.968 Q1796.52 395.278 1793.26 395.278 L1787.38 395.278 M1782.7 391.436 L1793.26 391.436 Q1799.07 391.436 1802.03 394.075 Q1805.02 396.69 1805.02 401.76 Q1805.02 406.875 1802.03 409.491 Q1799.07 412.107 1793.26 412.107 L1787.38 412.107 L1787.38 425.996 L1782.7 425.996 L1782.7 391.436 Z\" fill=\"#000000\" fill-rule=\"evenodd\" fill-opacity=\"1\" /><path clip-path=\"url(#clip960)\" d=\"M 0 0 M1817.84 403.056 Q1814.41 403.056 1812.42 405.741 Q1810.43 408.403 1810.43 413.056 Q1810.43 417.709 1812.4 420.394 Q1814.39 423.056 1817.84 423.056 Q1821.24 423.056 1823.23 420.371 Q1825.22 417.686 1825.22 413.056 Q1825.22 408.45 1823.23 405.764 Q1821.24 403.056 1817.84 403.056 M1817.84 399.445 Q1823.39 399.445 1826.57 403.056 Q1829.74 406.667 1829.74 413.056 Q1829.74 419.422 1826.57 423.056 Q1823.39 426.667 1817.84 426.667 Q1812.26 426.667 1809.09 423.056 Q1805.94 419.422 1805.94 413.056 Q1805.94 406.667 1809.09 403.056 Q1812.26 399.445 1817.84 399.445 Z\" fill=\"#000000\" fill-rule=\"evenodd\" fill-opacity=\"1\" /><path clip-path=\"url(#clip960)\" d=\"M 0 0 M1834.21 389.977 L1838.46 389.977 L1838.46 425.996 L1834.21 425.996 L1834.21 389.977 Z\" fill=\"#000000\" fill-rule=\"evenodd\" fill-opacity=\"1\" /><path clip-path=\"url(#clip960)\" d=\"M 0 0 M1842.93 400.07 L1847.19 400.07 L1847.19 425.996 L1842.93 425.996 L1842.93 400.07 M1842.93 389.977 L1847.19 389.977 L1847.19 395.371 L1842.93 395.371 L1842.93 389.977 Z\" fill=\"#000000\" fill-rule=\"evenodd\" fill-opacity=\"1\" /><path clip-path=\"url(#clip960)\" d=\"M 0 0 M1870.32 401.065 L1870.32 405.047 Q1868.51 404.051 1866.68 403.565 Q1864.88 403.056 1863.02 403.056 Q1858.88 403.056 1856.59 405.695 Q1854.3 408.311 1854.3 413.056 Q1854.3 417.801 1856.59 420.44 Q1858.88 423.056 1863.02 423.056 Q1864.88 423.056 1866.68 422.57 Q1868.51 422.061 1870.32 421.065 L1870.32 425 Q1868.53 425.834 1866.61 426.25 Q1864.71 426.667 1862.56 426.667 Q1856.7 426.667 1853.26 422.986 Q1849.81 419.306 1849.81 413.056 Q1849.81 406.713 1853.28 403.079 Q1856.77 399.445 1862.84 399.445 Q1864.81 399.445 1866.68 399.862 Q1868.56 400.255 1870.32 401.065 Z\" fill=\"#000000\" fill-rule=\"evenodd\" fill-opacity=\"1\" /><path clip-path=\"url(#clip960)\" d=\"M 0 0 M1885.57 428.403 Q1883.76 433.033 1882.05 434.445 Q1880.34 435.857 1877.47 435.857 L1874.07 435.857 L1874.07 432.292 L1876.57 432.292 Q1878.33 432.292 1879.3 431.459 Q1880.27 430.625 1881.45 427.523 L1882.21 425.579 L1871.73 400.07 L1876.24 400.07 L1884.34 420.348 L1892.45 400.07 L1896.96 400.07 L1885.57 428.403 Z\" fill=\"#000000\" fill-rule=\"evenodd\" fill-opacity=\"1\" /><path clip-path=\"url(#clip960)\" d=\"M 0 0 M1916.68 391.436 L1936.54 391.436 L1936.54 395.371 L1921.36 395.371 L1921.36 405.556 L1935.06 405.556 L1935.06 409.491 L1921.36 409.491 L1921.36 425.996 L1916.68 425.996 L1916.68 391.436 Z\" fill=\"#000000\" fill-rule=\"evenodd\" fill-opacity=\"1\" /><path clip-path=\"url(#clip960)\" d=\"M 0 0 M1937.98 415.764 L1937.98 400.07 L1942.24 400.07 L1942.24 415.602 Q1942.24 419.283 1943.67 421.135 Q1945.11 422.963 1947.98 422.963 Q1951.43 422.963 1953.42 420.764 Q1955.43 418.565 1955.43 414.769 L1955.43 400.07 L1959.69 400.07 L1959.69 425.996 L1955.43 425.996 L1955.43 422.014 Q1953.88 424.375 1951.82 425.533 Q1949.78 426.667 1947.07 426.667 Q1942.61 426.667 1940.29 423.889 Q1937.98 421.111 1937.98 415.764 M1948.7 399.445 L1948.7 399.445 Z\" fill=\"#000000\" fill-rule=\"evenodd\" fill-opacity=\"1\" /><path clip-path=\"url(#clip960)\" d=\"M 0 0 M1985.71 410.348 L1985.71 425.996 L1981.45 425.996 L1981.45 410.487 Q1981.45 406.806 1980.01 404.977 Q1978.58 403.149 1975.71 403.149 Q1972.26 403.149 1970.27 405.348 Q1968.28 407.547 1968.28 411.343 L1968.28 425.996 L1964 425.996 L1964 400.07 L1968.28 400.07 L1968.28 404.098 Q1969.81 401.76 1971.87 400.602 Q1973.95 399.445 1976.66 399.445 Q1981.13 399.445 1983.42 402.223 Q1985.71 404.977 1985.71 410.348 Z\" fill=\"#000000\" fill-rule=\"evenodd\" fill-opacity=\"1\" /><path clip-path=\"url(#clip960)\" d=\"M 0 0 M2008.83 401.065 L2008.83 405.047 Q2007.03 404.051 2005.2 403.565 Q2003.39 403.056 2001.54 403.056 Q1997.4 403.056 1995.11 405.695 Q1992.82 408.311 1992.82 413.056 Q1992.82 417.801 1995.11 420.44 Q1997.4 423.056 2001.54 423.056 Q2003.39 423.056 2005.2 422.57 Q2007.03 422.061 2008.83 421.065 L2008.83 425 Q2007.05 425.834 2005.13 426.25 Q2003.23 426.667 2001.08 426.667 Q1995.22 426.667 1991.77 422.986 Q1988.32 419.306 1988.32 413.056 Q1988.32 406.713 1991.8 403.079 Q1995.29 399.445 2001.36 399.445 Q2003.32 399.445 2005.2 399.862 Q2007.07 400.255 2008.83 401.065 Z\" fill=\"#000000\" fill-rule=\"evenodd\" fill-opacity=\"1\" /><path clip-path=\"url(#clip960)\" d=\"M 0 0 M2017.51 392.709 L2017.51 400.07 L2026.29 400.07 L2026.29 403.38 L2017.51 403.38 L2017.51 417.454 Q2017.51 420.625 2018.37 421.528 Q2019.25 422.431 2021.91 422.431 L2026.29 422.431 L2026.29 425.996 L2021.91 425.996 Q2016.98 425.996 2015.11 424.167 Q2013.23 422.315 2013.23 417.454 L2013.23 403.38 L2010.11 403.38 L2010.11 400.07 L2013.23 400.07 L2013.23 392.709 L2017.51 392.709 Z\" fill=\"#000000\" fill-rule=\"evenodd\" fill-opacity=\"1\" /><path clip-path=\"url(#clip960)\" d=\"M 0 0 M2030.75 400.07 L2035.01 400.07 L2035.01 425.996 L2030.75 425.996 L2030.75 400.07 M2030.75 389.977 L2035.01 389.977 L2035.01 395.371 L2030.75 395.371 L2030.75 389.977 Z\" fill=\"#000000\" fill-rule=\"evenodd\" fill-opacity=\"1\" /><path clip-path=\"url(#clip960)\" d=\"M 0 0 M2049.53 403.056 Q2046.1 403.056 2044.11 405.741 Q2042.12 408.403 2042.12 413.056 Q2042.12 417.709 2044.09 420.394 Q2046.08 423.056 2049.53 423.056 Q2052.93 423.056 2054.92 420.371 Q2056.91 417.686 2056.91 413.056 Q2056.91 408.45 2054.92 405.764 Q2052.93 403.056 2049.53 403.056 M2049.53 399.445 Q2055.08 399.445 2058.25 403.056 Q2061.43 406.667 2061.43 413.056 Q2061.43 419.422 2058.25 423.056 Q2055.08 426.667 2049.53 426.667 Q2043.95 426.667 2040.78 423.056 Q2037.63 419.422 2037.63 413.056 Q2037.63 406.667 2040.78 403.056 Q2043.95 399.445 2049.53 399.445 Z\" fill=\"#000000\" fill-rule=\"evenodd\" fill-opacity=\"1\" /><path clip-path=\"url(#clip960)\" d=\"M 0 0 M2087.44 410.348 L2087.44 425.996 L2083.19 425.996 L2083.19 410.487 Q2083.19 406.806 2081.75 404.977 Q2080.31 403.149 2077.44 403.149 Q2074 403.149 2072 405.348 Q2070.01 407.547 2070.01 411.343 L2070.01 425.996 L2065.73 425.996 L2065.73 400.07 L2070.01 400.07 L2070.01 404.098 Q2071.54 401.76 2073.6 400.602 Q2075.69 399.445 2078.39 399.445 Q2082.86 399.445 2085.15 402.223 Q2087.44 404.977 2087.44 410.348 Z\" fill=\"#000000\" fill-rule=\"evenodd\" fill-opacity=\"1\" /><path clip-path=\"url(#clip960)\" d=\"M 0 0 M2130.73 421.065 L2130.73 411.783 L2123.09 411.783 L2123.09 407.94 L2135.36 407.94 L2135.36 422.778 Q2132.65 424.699 2129.39 425.695 Q2126.12 426.667 2122.42 426.667 Q2114.32 426.667 2109.74 421.945 Q2105.18 417.199 2105.18 408.75 Q2105.18 400.278 2109.74 395.556 Q2114.32 390.811 2122.42 390.811 Q2125.8 390.811 2128.83 391.644 Q2131.89 392.477 2134.46 394.098 L2134.46 399.075 Q2131.87 396.876 2128.95 395.764 Q2126.03 394.653 2122.81 394.653 Q2116.47 394.653 2113.28 398.195 Q2110.11 401.737 2110.11 408.75 Q2110.11 415.741 2113.28 419.283 Q2116.47 422.824 2122.81 422.824 Q2125.29 422.824 2127.24 422.408 Q2129.18 421.968 2130.73 421.065 Z\" fill=\"#000000\" fill-rule=\"evenodd\" fill-opacity=\"1\" /><path clip-path=\"url(#clip960)\" d=\"M 0 0 M2154.85 404.051 Q2154.13 403.635 2153.28 403.45 Q2152.44 403.241 2151.43 403.241 Q2147.81 403.241 2145.87 405.602 Q2143.95 407.94 2143.95 412.338 L2143.95 425.996 L2139.67 425.996 L2139.67 400.07 L2143.95 400.07 L2143.95 404.098 Q2145.29 401.737 2147.44 400.602 Q2149.6 399.445 2152.68 399.445 Q2153.12 399.445 2153.65 399.514 Q2154.18 399.561 2154.83 399.676 L2154.85 404.051 Z\" fill=\"#000000\" fill-rule=\"evenodd\" fill-opacity=\"1\" /><path clip-path=\"url(#clip960)\" d=\"M 0 0 M2171.1 412.963 Q2165.94 412.963 2163.95 414.144 Q2161.96 415.324 2161.96 418.172 Q2161.96 420.44 2163.44 421.783 Q2164.94 423.102 2167.51 423.102 Q2171.06 423.102 2173.18 420.602 Q2175.34 418.079 2175.34 413.912 L2175.34 412.963 L2171.1 412.963 M2179.6 411.204 L2179.6 425.996 L2175.34 425.996 L2175.34 422.061 Q2173.88 424.422 2171.7 425.556 Q2169.53 426.667 2166.38 426.667 Q2162.4 426.667 2160.04 424.445 Q2157.7 422.199 2157.7 418.449 Q2157.7 414.074 2160.62 411.852 Q2163.56 409.63 2169.37 409.63 L2175.34 409.63 L2175.34 409.213 Q2175.34 406.274 2173.39 404.676 Q2171.47 403.056 2167.98 403.056 Q2165.75 403.056 2163.65 403.588 Q2161.54 404.121 2159.6 405.186 L2159.6 401.25 Q2161.93 400.348 2164.13 399.908 Q2166.33 399.445 2168.42 399.445 Q2174.04 399.445 2176.82 402.362 Q2179.6 405.278 2179.6 411.204 Z\" fill=\"#000000\" fill-rule=\"evenodd\" fill-opacity=\"1\" /><path clip-path=\"url(#clip960)\" d=\"M 0 0 M2188.18 422.107 L2188.18 435.857 L2183.9 435.857 L2183.9 400.07 L2188.18 400.07 L2188.18 404.005 Q2189.53 401.69 2191.56 400.579 Q2193.62 399.445 2196.47 399.445 Q2201.19 399.445 2204.13 403.195 Q2207.1 406.945 2207.1 413.056 Q2207.1 419.167 2204.13 422.917 Q2201.19 426.667 2196.47 426.667 Q2193.62 426.667 2191.56 425.556 Q2189.53 424.422 2188.18 422.107 M2202.68 413.056 Q2202.68 408.357 2200.73 405.695 Q2198.81 403.01 2195.43 403.01 Q2192.05 403.01 2190.11 405.695 Q2188.18 408.357 2188.18 413.056 Q2188.18 417.755 2190.11 420.44 Q2192.05 423.102 2195.43 423.102 Q2198.81 423.102 2200.73 420.44 Q2202.68 417.755 2202.68 413.056 Z\" fill=\"#000000\" fill-rule=\"evenodd\" fill-opacity=\"1\" /><path clip-path=\"url(#clip960)\" d=\"M 0 0 M2233.11 410.348 L2233.11 425.996 L2228.86 425.996 L2228.86 410.487 Q2228.86 406.806 2227.42 404.977 Q2225.99 403.149 2223.11 403.149 Q2219.67 403.149 2217.68 405.348 Q2215.68 407.547 2215.68 411.343 L2215.68 425.996 L2211.4 425.996 L2211.4 389.977 L2215.68 389.977 L2215.68 404.098 Q2217.21 401.76 2219.27 400.602 Q2221.36 399.445 2224.06 399.445 Q2228.53 399.445 2230.82 402.223 Q2233.11 404.977 2233.11 410.348 Z\" fill=\"#000000\" fill-rule=\"evenodd\" fill-opacity=\"1\" /></svg>\n"
      ]
     },
     "execution_count": 63,
     "metadata": {},
     "output_type": "execute_result"
    }
   ],
   "source": [
    "plot(kgrid, kgrid, label = \"Diagonal\", color = \"black\")\n",
    "plot!(kgrid, fill(k̄, length(kgrid)), label = \"k̄\", color = \"gray\", lw = 3)\n",
    "vline!([k̄], label = \"k̄\", color = \"gray\",lw = 3)\n",
    "plot!(kgrid, k_pol, label = \"Policy Function Graph\", color = \"red\", lw = 3)\n",
    "plot!(title = \"Policy Function Plot\")\n",
    "xlabel!(\"k\")\n",
    "ylabel!(\"k′\")"
   ]
  },
  {
   "cell_type": "code",
   "execution_count": 64,
   "metadata": {
    "ExecuteTime": {
     "end_time": "2021-05-02T14:18:03.098000-07:00",
     "start_time": "2021-05-02T21:18:03.050Z"
    }
   },
   "outputs": [
    {
     "data": {
      "image/svg+xml": [
       "<?xml version=\"1.0\" encoding=\"utf-8\"?>\n",
       "<svg xmlns=\"http://www.w3.org/2000/svg\" xmlns:xlink=\"http://www.w3.org/1999/xlink\" width=\"600\" height=\"400\" viewBox=\"0 0 2400 1600\">\n",
       "<defs>\n",
       "  <clipPath id=\"clip000\">\n",
       "    <rect x=\"0\" y=\"0\" width=\"2400\" height=\"1600\"/>\n",
       "  </clipPath>\n",
       "</defs>\n",
       "<path clip-path=\"url(#clip000)\" d=\"\n",
       "M0 1600 L2400 1600 L2400 0 L0 0  Z\n",
       "  \" fill=\"#ffffff\" fill-rule=\"evenodd\" fill-opacity=\"1\"/>\n",
       "<defs>\n",
       "  <clipPath id=\"clip001\">\n",
       "    <rect x=\"480\" y=\"0\" width=\"1681\" height=\"1600\"/>\n",
       "  </clipPath>\n",
       "</defs>\n",
       "<path clip-path=\"url(#clip000)\" d=\"\n",
       "M209.658 1423.18 L2352.76 1423.18 L2352.76 123.472 L209.658 123.472  Z\n",
       "  \" fill=\"#ffffff\" fill-rule=\"evenodd\" fill-opacity=\"1\"/>\n",
       "<defs>\n",
       "  <clipPath id=\"clip002\">\n",
       "    <rect x=\"209\" y=\"123\" width=\"2144\" height=\"1301\"/>\n",
       "  </clipPath>\n",
       "</defs>\n",
       "<polyline clip-path=\"url(#clip002)\" style=\"stroke:#000000; stroke-width:2; stroke-opacity:0.1; fill:none\" points=\"\n",
       "  519.975,1423.18 519.975,123.472 \n",
       "  \"/>\n",
       "<polyline clip-path=\"url(#clip002)\" style=\"stroke:#000000; stroke-width:2; stroke-opacity:0.1; fill:none\" points=\"\n",
       "  1025.42,1423.18 1025.42,123.472 \n",
       "  \"/>\n",
       "<polyline clip-path=\"url(#clip002)\" style=\"stroke:#000000; stroke-width:2; stroke-opacity:0.1; fill:none\" points=\"\n",
       "  1530.87,1423.18 1530.87,123.472 \n",
       "  \"/>\n",
       "<polyline clip-path=\"url(#clip002)\" style=\"stroke:#000000; stroke-width:2; stroke-opacity:0.1; fill:none\" points=\"\n",
       "  2036.32,1423.18 2036.32,123.472 \n",
       "  \"/>\n",
       "<polyline clip-path=\"url(#clip000)\" style=\"stroke:#000000; stroke-width:4; stroke-opacity:1; fill:none\" points=\"\n",
       "  209.658,1423.18 2352.76,1423.18 \n",
       "  \"/>\n",
       "<polyline clip-path=\"url(#clip000)\" style=\"stroke:#000000; stroke-width:4; stroke-opacity:1; fill:none\" points=\"\n",
       "  519.975,1423.18 519.975,1407.58 \n",
       "  \"/>\n",
       "<polyline clip-path=\"url(#clip000)\" style=\"stroke:#000000; stroke-width:4; stroke-opacity:1; fill:none\" points=\"\n",
       "  1025.42,1423.18 1025.42,1407.58 \n",
       "  \"/>\n",
       "<polyline clip-path=\"url(#clip000)\" style=\"stroke:#000000; stroke-width:4; stroke-opacity:1; fill:none\" points=\"\n",
       "  1530.87,1423.18 1530.87,1407.58 \n",
       "  \"/>\n",
       "<polyline clip-path=\"url(#clip000)\" style=\"stroke:#000000; stroke-width:4; stroke-opacity:1; fill:none\" points=\"\n",
       "  2036.32,1423.18 2036.32,1407.58 \n",
       "  \"/>\n",
       "<path clip-path=\"url(#clip000)\" d=\"M 0 0 M496.85 1479.92 L504.489 1479.92 L504.489 1453.55 L496.179 1455.22 L496.179 1450.96 L504.443 1449.29 L509.118 1449.29 L509.118 1479.92 L516.757 1479.92 L516.757 1483.85 L496.85 1483.85 L496.85 1479.92 Z\" fill=\"#000000\" fill-rule=\"evenodd\" fill-opacity=\"1\" /><path clip-path=\"url(#clip000)\" d=\"M 0 0 M531.827 1452.37 Q528.216 1452.37 526.387 1455.94 Q524.581 1459.48 524.581 1466.61 Q524.581 1473.71 526.387 1477.28 Q528.216 1480.82 531.827 1480.82 Q535.461 1480.82 537.266 1477.28 Q539.095 1473.71 539.095 1466.61 Q539.095 1459.48 537.266 1455.94 Q535.461 1452.37 531.827 1452.37 M531.827 1448.67 Q537.637 1448.67 540.692 1453.27 Q543.771 1457.86 543.771 1466.61 Q543.771 1475.33 540.692 1479.94 Q537.637 1484.52 531.827 1484.52 Q526.016 1484.52 522.938 1479.94 Q519.882 1475.33 519.882 1466.61 Q519.882 1457.86 522.938 1453.27 Q526.016 1448.67 531.827 1448.67 Z\" fill=\"#000000\" fill-rule=\"evenodd\" fill-opacity=\"1\" /><path clip-path=\"url(#clip000)\" d=\"M 0 0 M1002.8 1479.92 L1010.43 1479.92 L1010.43 1453.55 L1002.12 1455.22 L1002.12 1450.96 L1010.39 1449.29 L1015.06 1449.29 L1015.06 1479.92 L1022.7 1479.92 L1022.7 1483.85 L1002.8 1483.85 L1002.8 1479.92 Z\" fill=\"#000000\" fill-rule=\"evenodd\" fill-opacity=\"1\" /><path clip-path=\"url(#clip000)\" d=\"M 0 0 M1027.82 1449.29 L1046.17 1449.29 L1046.17 1453.23 L1032.1 1453.23 L1032.1 1461.7 Q1033.12 1461.35 1034.14 1461.19 Q1035.16 1461 1036.17 1461 Q1041.96 1461 1045.34 1464.18 Q1048.72 1467.35 1048.72 1472.76 Q1048.72 1478.34 1045.25 1481.44 Q1041.78 1484.52 1035.46 1484.52 Q1033.28 1484.52 1031.01 1484.15 Q1028.77 1483.78 1026.36 1483.04 L1026.36 1478.34 Q1028.44 1479.48 1030.67 1480.03 Q1032.89 1480.59 1035.36 1480.59 Q1039.37 1480.59 1041.71 1478.48 Q1044.05 1476.38 1044.05 1472.76 Q1044.05 1469.15 1041.71 1467.05 Q1039.37 1464.94 1035.36 1464.94 Q1033.49 1464.94 1031.61 1465.36 Q1029.76 1465.77 1027.82 1466.65 L1027.82 1449.29 Z\" fill=\"#000000\" fill-rule=\"evenodd\" fill-opacity=\"1\" /><path clip-path=\"url(#clip000)\" d=\"M 0 0 M1512.02 1479.92 L1528.34 1479.92 L1528.34 1483.85 L1506.39 1483.85 L1506.39 1479.92 Q1509.05 1477.16 1513.64 1472.53 Q1518.24 1467.88 1519.42 1466.54 Q1521.67 1464.01 1522.55 1462.28 Q1523.45 1460.52 1523.45 1458.83 Q1523.45 1456.07 1521.51 1454.34 Q1519.59 1452.6 1516.48 1452.6 Q1514.28 1452.6 1511.83 1453.37 Q1509.4 1454.13 1506.62 1455.68 L1506.62 1450.96 Q1509.45 1449.82 1511.9 1449.25 Q1514.35 1448.67 1516.39 1448.67 Q1521.76 1448.67 1524.96 1451.35 Q1528.15 1454.04 1528.15 1458.53 Q1528.15 1460.66 1527.34 1462.58 Q1526.55 1464.48 1524.45 1467.07 Q1523.87 1467.74 1520.77 1470.96 Q1517.66 1474.15 1512.02 1479.92 Z\" fill=\"#000000\" fill-rule=\"evenodd\" fill-opacity=\"1\" /><path clip-path=\"url(#clip000)\" d=\"M 0 0 M1543.4 1452.37 Q1539.79 1452.37 1537.96 1455.94 Q1536.16 1459.48 1536.16 1466.61 Q1536.16 1473.71 1537.96 1477.28 Q1539.79 1480.82 1543.4 1480.82 Q1547.04 1480.82 1548.84 1477.28 Q1550.67 1473.71 1550.67 1466.61 Q1550.67 1459.48 1548.84 1455.94 Q1547.04 1452.37 1543.4 1452.37 M1543.4 1448.67 Q1549.21 1448.67 1552.27 1453.27 Q1555.35 1457.86 1555.35 1466.61 Q1555.35 1475.33 1552.27 1479.94 Q1549.21 1484.52 1543.4 1484.52 Q1537.59 1484.52 1534.52 1479.94 Q1531.46 1475.33 1531.46 1466.61 Q1531.46 1457.86 1534.52 1453.27 Q1537.59 1448.67 1543.4 1448.67 Z\" fill=\"#000000\" fill-rule=\"evenodd\" fill-opacity=\"1\" /><path clip-path=\"url(#clip000)\" d=\"M 0 0 M2017.96 1479.92 L2034.28 1479.92 L2034.28 1483.85 L2012.34 1483.85 L2012.34 1479.92 Q2015 1477.16 2019.58 1472.53 Q2024.19 1467.88 2025.37 1466.54 Q2027.61 1464.01 2028.49 1462.28 Q2029.4 1460.52 2029.4 1458.83 Q2029.4 1456.07 2027.45 1454.34 Q2025.53 1452.6 2022.43 1452.6 Q2020.23 1452.6 2017.78 1453.37 Q2015.35 1454.13 2012.57 1455.68 L2012.57 1450.96 Q2015.39 1449.82 2017.85 1449.25 Q2020.3 1448.67 2022.34 1448.67 Q2027.71 1448.67 2030.9 1451.35 Q2034.1 1454.04 2034.1 1458.53 Q2034.1 1460.66 2033.29 1462.58 Q2032.5 1464.48 2030.39 1467.07 Q2029.81 1467.74 2026.71 1470.96 Q2023.61 1474.15 2017.96 1479.92 Z\" fill=\"#000000\" fill-rule=\"evenodd\" fill-opacity=\"1\" /><path clip-path=\"url(#clip000)\" d=\"M 0 0 M2039.4 1449.29 L2057.75 1449.29 L2057.75 1453.23 L2043.68 1453.23 L2043.68 1461.7 Q2044.7 1461.35 2045.72 1461.19 Q2046.73 1461 2047.75 1461 Q2053.54 1461 2056.92 1464.18 Q2060.3 1467.35 2060.3 1472.76 Q2060.3 1478.34 2056.83 1481.44 Q2053.35 1484.52 2047.04 1484.52 Q2044.86 1484.52 2042.59 1484.15 Q2040.35 1483.78 2037.94 1483.04 L2037.94 1478.34 Q2040.02 1479.48 2042.24 1480.03 Q2044.47 1480.59 2046.94 1480.59 Q2050.95 1480.59 2053.29 1478.48 Q2055.62 1476.38 2055.62 1472.76 Q2055.62 1469.15 2053.29 1467.05 Q2050.95 1464.94 2046.94 1464.94 Q2045.07 1464.94 2043.19 1465.36 Q2041.34 1465.77 2039.4 1466.65 L2039.4 1449.29 Z\" fill=\"#000000\" fill-rule=\"evenodd\" fill-opacity=\"1\" /><path clip-path=\"url(#clip000)\" d=\"M 0 0 M1265.39 1518.52 L1271.28 1518.52 L1271.28 1547.77 L1288.75 1532.4 L1296.23 1532.4 L1277.32 1549.07 L1297.03 1568.04 L1289.39 1568.04 L1271.28 1550.63 L1271.28 1568.04 L1265.39 1568.04 L1265.39 1518.52 Z\" fill=\"#000000\" fill-rule=\"evenodd\" fill-opacity=\"1\" /><polyline clip-path=\"url(#clip002)\" style=\"stroke:#000000; stroke-width:2; stroke-opacity:0.1; fill:none\" points=\"\n",
       "  209.658,1158.9 2352.76,1158.9 \n",
       "  \"/>\n",
       "<polyline clip-path=\"url(#clip002)\" style=\"stroke:#000000; stroke-width:2; stroke-opacity:0.1; fill:none\" points=\"\n",
       "  209.658,894.472 2352.76,894.472 \n",
       "  \"/>\n",
       "<polyline clip-path=\"url(#clip002)\" style=\"stroke:#000000; stroke-width:2; stroke-opacity:0.1; fill:none\" points=\"\n",
       "  209.658,630.048 2352.76,630.048 \n",
       "  \"/>\n",
       "<polyline clip-path=\"url(#clip002)\" style=\"stroke:#000000; stroke-width:2; stroke-opacity:0.1; fill:none\" points=\"\n",
       "  209.658,365.625 2352.76,365.625 \n",
       "  \"/>\n",
       "<polyline clip-path=\"url(#clip000)\" style=\"stroke:#000000; stroke-width:4; stroke-opacity:1; fill:none\" points=\"\n",
       "  209.658,1423.18 209.658,123.472 \n",
       "  \"/>\n",
       "<polyline clip-path=\"url(#clip000)\" style=\"stroke:#000000; stroke-width:4; stroke-opacity:1; fill:none\" points=\"\n",
       "  209.658,1158.9 235.375,1158.9 \n",
       "  \"/>\n",
       "<polyline clip-path=\"url(#clip000)\" style=\"stroke:#000000; stroke-width:4; stroke-opacity:1; fill:none\" points=\"\n",
       "  209.658,894.472 235.375,894.472 \n",
       "  \"/>\n",
       "<polyline clip-path=\"url(#clip000)\" style=\"stroke:#000000; stroke-width:4; stroke-opacity:1; fill:none\" points=\"\n",
       "  209.658,630.048 235.375,630.048 \n",
       "  \"/>\n",
       "<polyline clip-path=\"url(#clip000)\" style=\"stroke:#000000; stroke-width:4; stroke-opacity:1; fill:none\" points=\"\n",
       "  209.658,365.625 235.375,365.625 \n",
       "  \"/>\n",
       "<path clip-path=\"url(#clip000)\" d=\"M 0 0 M117.779 1172.24 L125.418 1172.24 L125.418 1145.87 L117.107 1147.54 L117.107 1143.28 L125.371 1141.62 L130.047 1141.62 L130.047 1172.24 L137.686 1172.24 L137.686 1176.18 L117.779 1176.18 L117.779 1172.24 Z\" fill=\"#000000\" fill-rule=\"evenodd\" fill-opacity=\"1\" /><path clip-path=\"url(#clip000)\" d=\"M 0 0 M142.755 1170.3 L147.64 1170.3 L147.64 1176.18 L142.755 1176.18 L142.755 1170.3 Z\" fill=\"#000000\" fill-rule=\"evenodd\" fill-opacity=\"1\" /><path clip-path=\"url(#clip000)\" d=\"M 0 0 M152.755 1141.62 L171.112 1141.62 L171.112 1145.55 L157.038 1145.55 L157.038 1154.02 Q158.056 1153.68 159.075 1153.51 Q160.093 1153.33 161.112 1153.33 Q166.899 1153.33 170.278 1156.5 Q173.658 1159.67 173.658 1165.09 Q173.658 1170.67 170.186 1173.77 Q166.714 1176.85 160.394 1176.85 Q158.218 1176.85 155.95 1176.48 Q153.704 1176.11 151.297 1175.37 L151.297 1170.67 Q153.38 1171.8 155.603 1172.36 Q157.825 1172.91 160.302 1172.91 Q164.306 1172.91 166.644 1170.81 Q168.982 1168.7 168.982 1165.09 Q168.982 1161.48 166.644 1159.37 Q164.306 1157.26 160.302 1157.26 Q158.427 1157.26 156.552 1157.68 Q154.7 1158.1 152.755 1158.98 L152.755 1141.62 Z\" fill=\"#000000\" fill-rule=\"evenodd\" fill-opacity=\"1\" /><path clip-path=\"url(#clip000)\" d=\"M 0 0 M116.876 907.817 L124.515 907.817 L124.515 881.451 L116.205 883.118 L116.205 878.859 L124.468 877.192 L129.144 877.192 L129.144 907.817 L136.783 907.817 L136.783 911.752 L116.876 911.752 L116.876 907.817 Z\" fill=\"#000000\" fill-rule=\"evenodd\" fill-opacity=\"1\" /><path clip-path=\"url(#clip000)\" d=\"M 0 0 M141.853 905.872 L146.737 905.872 L146.737 911.752 L141.853 911.752 L141.853 905.872 Z\" fill=\"#000000\" fill-rule=\"evenodd\" fill-opacity=\"1\" /><path clip-path=\"url(#clip000)\" d=\"M 0 0 M161.806 895.34 Q158.473 895.34 156.552 897.122 Q154.653 898.905 154.653 902.03 Q154.653 905.155 156.552 906.937 Q158.473 908.72 161.806 908.72 Q165.14 908.72 167.061 906.937 Q168.982 905.132 168.982 902.03 Q168.982 898.905 167.061 897.122 Q165.163 895.34 161.806 895.34 M157.13 893.349 Q154.121 892.609 152.431 890.548 Q150.765 888.488 150.765 885.525 Q150.765 881.382 153.704 878.974 Q156.667 876.567 161.806 876.567 Q166.968 876.567 169.908 878.974 Q172.848 881.382 172.848 885.525 Q172.848 888.488 171.158 890.548 Q169.491 892.609 166.505 893.349 Q169.885 894.136 171.76 896.428 Q173.658 898.72 173.658 902.03 Q173.658 907.053 170.579 909.738 Q167.524 912.423 161.806 912.423 Q156.089 912.423 153.01 909.738 Q149.954 907.053 149.954 902.03 Q149.954 898.72 151.853 896.428 Q153.751 894.136 157.13 893.349 M155.417 885.965 Q155.417 888.65 157.084 890.155 Q158.774 891.659 161.806 891.659 Q164.815 891.659 166.505 890.155 Q168.218 888.65 168.218 885.965 Q168.218 883.28 166.505 881.775 Q164.815 880.271 161.806 880.271 Q158.774 880.271 157.084 881.775 Q155.417 883.28 155.417 885.965 Z\" fill=\"#000000\" fill-rule=\"evenodd\" fill-opacity=\"1\" /><path clip-path=\"url(#clip000)\" d=\"M 0 0 M121.598 643.393 L137.917 643.393 L137.917 647.328 L115.973 647.328 L115.973 643.393 Q118.635 640.638 123.218 636.009 Q127.825 631.356 129.005 630.014 Q131.251 627.49 132.13 625.754 Q133.033 623.995 133.033 622.305 Q133.033 619.551 131.089 617.815 Q129.167 616.078 126.066 616.078 Q123.867 616.078 121.413 616.842 Q118.982 617.606 116.205 619.157 L116.205 614.435 Q119.029 613.301 121.482 612.722 Q123.936 612.143 125.973 612.143 Q131.343 612.143 134.538 614.828 Q137.732 617.514 137.732 622.004 Q137.732 624.134 136.922 626.055 Q136.135 627.953 134.029 630.546 Q133.45 631.217 130.348 634.435 Q127.246 637.629 121.598 643.393 Z\" fill=\"#000000\" fill-rule=\"evenodd\" fill-opacity=\"1\" /><path clip-path=\"url(#clip000)\" d=\"M 0 0 M142.987 641.449 L147.871 641.449 L147.871 647.328 L142.987 647.328 L142.987 641.449 Z\" fill=\"#000000\" fill-rule=\"evenodd\" fill-opacity=\"1\" /><path clip-path=\"url(#clip000)\" d=\"M 0 0 M153.751 643.393 L161.39 643.393 L161.39 617.027 L153.079 618.694 L153.079 614.435 L161.343 612.768 L166.019 612.768 L166.019 643.393 L173.658 643.393 L173.658 647.328 L153.751 647.328 L153.751 643.393 Z\" fill=\"#000000\" fill-rule=\"evenodd\" fill-opacity=\"1\" /><path clip-path=\"url(#clip000)\" d=\"M 0 0 M119.885 378.969 L136.204 378.969 L136.204 382.905 L114.26 382.905 L114.26 378.969 Q116.922 376.215 121.505 371.585 Q126.112 366.932 127.292 365.59 Q129.538 363.067 130.417 361.331 Q131.32 359.571 131.32 357.882 Q131.32 355.127 129.376 353.391 Q127.455 351.655 124.353 351.655 Q122.154 351.655 119.7 352.419 Q117.269 353.182 114.492 354.733 L114.492 350.011 Q117.316 348.877 119.769 348.298 Q122.223 347.72 124.26 347.72 Q129.63 347.72 132.825 350.405 Q136.019 353.09 136.019 357.581 Q136.019 359.71 135.209 361.632 Q134.422 363.53 132.316 366.122 Q131.737 366.794 128.635 370.011 Q125.533 373.206 119.885 378.969 Z\" fill=\"#000000\" fill-rule=\"evenodd\" fill-opacity=\"1\" /><path clip-path=\"url(#clip000)\" d=\"M 0 0 M141.274 377.025 L146.158 377.025 L146.158 382.905 L141.274 382.905 L141.274 377.025 Z\" fill=\"#000000\" fill-rule=\"evenodd\" fill-opacity=\"1\" /><path clip-path=\"url(#clip000)\" d=\"M 0 0 M164.075 352.419 L152.269 370.868 L164.075 370.868 L164.075 352.419 M162.848 348.345 L168.727 348.345 L168.727 370.868 L173.658 370.868 L173.658 374.756 L168.727 374.756 L168.727 382.905 L164.075 382.905 L164.075 374.756 L148.473 374.756 L148.473 370.243 L162.848 348.345 Z\" fill=\"#000000\" fill-rule=\"evenodd\" fill-opacity=\"1\" /><path clip-path=\"url(#clip000)\" d=\"M 0 0 M29.7248 759.226 L35.1993 759.226 Q33.8307 761.709 33.1623 764.223 Q32.4621 766.706 32.4621 769.252 Q32.4621 774.949 36.0905 778.1 Q39.6872 781.251 46.212 781.251 Q52.7369 781.251 56.3653 778.1 Q59.9619 774.949 59.9619 769.252 Q59.9619 766.706 59.2935 764.223 Q58.5933 761.709 57.2247 759.226 L62.6355 759.226 Q63.7814 761.677 64.3543 764.319 Q64.9272 766.928 64.9272 769.889 Q64.9272 777.941 59.8664 782.684 Q54.8057 787.426 46.212 787.426 Q37.491 787.426 32.4939 782.652 Q27.4968 777.846 27.4968 769.507 Q27.4968 766.801 28.0697 764.223 Q28.6108 761.645 29.7248 759.226 Z\" fill=\"#000000\" fill-rule=\"evenodd\" fill-opacity=\"1\" /><path clip-path=\"url(#clip000)\" d=\"M 0 0 M939.939 18.8205 L939.939 41.5461 L950.228 41.5461 Q955.94 41.5461 959.059 38.5889 Q962.178 35.6318 962.178 30.163 Q962.178 24.7348 959.059 21.7777 Q955.94 18.8205 950.228 18.8205 L939.939 18.8205 M931.756 12.096 L950.228 12.096 Q960.396 12.096 965.581 16.714 Q970.806 21.2916 970.806 30.163 Q970.806 39.1155 965.581 43.6931 Q960.396 48.2706 950.228 48.2706 L939.939 48.2706 L939.939 72.576 L931.756 72.576 L931.756 12.096 Z\" fill=\"#000000\" fill-rule=\"evenodd\" fill-opacity=\"1\" /><path clip-path=\"url(#clip000)\" d=\"M 0 0 M993.248 32.4315 Q987.253 32.4315 983.769 37.1306 Q980.286 41.7891 980.286 49.9314 Q980.286 58.0738 983.729 62.7728 Q987.213 67.4314 993.248 67.4314 Q999.203 67.4314 1002.69 62.7323 Q1006.17 58.0333 1006.17 49.9314 Q1006.17 41.8701 1002.69 37.1711 Q999.203 32.4315 993.248 32.4315 M993.248 26.1121 Q1002.97 26.1121 1008.52 32.4315 Q1014.07 38.7509 1014.07 49.9314 Q1014.07 61.0714 1008.52 67.4314 Q1002.97 73.7508 993.248 73.7508 Q983.486 73.7508 977.936 67.4314 Q972.427 61.0714 972.427 49.9314 Q972.427 38.7509 977.936 32.4315 Q983.486 26.1121 993.248 26.1121 Z\" fill=\"#000000\" fill-rule=\"evenodd\" fill-opacity=\"1\" /><path clip-path=\"url(#clip000)\" d=\"M 0 0 M1021.89 9.54393 L1029.34 9.54393 L1029.34 72.576 L1021.89 72.576 L1021.89 9.54393 Z\" fill=\"#000000\" fill-rule=\"evenodd\" fill-opacity=\"1\" /><path clip-path=\"url(#clip000)\" d=\"M 0 0 M1037.16 27.2059 L1044.61 27.2059 L1044.61 72.576 L1037.16 72.576 L1037.16 27.2059 M1037.16 9.54393 L1044.61 9.54393 L1044.61 18.9825 L1037.16 18.9825 L1037.16 9.54393 Z\" fill=\"#000000\" fill-rule=\"evenodd\" fill-opacity=\"1\" /><path clip-path=\"url(#clip000)\" d=\"M 0 0 M1085.08 28.9478 L1085.08 35.9153 Q1081.92 34.1734 1078.72 33.3227 Q1075.56 32.4315 1072.32 32.4315 Q1065.07 32.4315 1061.06 37.0496 Q1057.05 41.6271 1057.05 49.9314 Q1057.05 58.2358 1061.06 62.8538 Q1065.07 67.4314 1072.32 67.4314 Q1075.56 67.4314 1078.72 66.5807 Q1081.92 65.6895 1085.08 63.9476 L1085.08 70.8341 Q1081.96 72.2924 1078.6 73.0216 Q1075.28 73.7508 1071.51 73.7508 Q1061.26 73.7508 1055.23 67.3098 Q1049.19 60.8689 1049.19 49.9314 Q1049.19 38.832 1055.27 32.472 Q1061.38 26.1121 1072 26.1121 Q1075.44 26.1121 1078.72 26.8413 Q1082 27.5299 1085.08 28.9478 Z\" fill=\"#000000\" fill-rule=\"evenodd\" fill-opacity=\"1\" /><path clip-path=\"url(#clip000)\" d=\"M 0 0 M1111.78 76.7889 Q1108.62 84.8907 1105.62 87.3618 Q1102.62 89.8329 1097.6 89.8329 L1091.64 89.8329 L1091.64 83.5945 L1096.02 83.5945 Q1099.1 83.5945 1100.8 82.1361 Q1102.5 80.6778 1104.57 75.2496 L1105.9 71.8468 L1087.55 27.2059 L1095.45 27.2059 L1109.63 62.6918 L1123.81 27.2059 L1131.71 27.2059 L1111.78 76.7889 Z\" fill=\"#000000\" fill-rule=\"evenodd\" fill-opacity=\"1\" /><path clip-path=\"url(#clip000)\" d=\"M 0 0 M1166.22 12.096 L1200.98 12.096 L1200.98 18.9825 L1174.4 18.9825 L1174.4 36.8065 L1198.39 36.8065 L1198.39 43.6931 L1174.4 43.6931 L1174.4 72.576 L1166.22 72.576 L1166.22 12.096 Z\" fill=\"#000000\" fill-rule=\"evenodd\" fill-opacity=\"1\" /><path clip-path=\"url(#clip000)\" d=\"M 0 0 M1203.49 54.671 L1203.49 27.2059 L1210.94 27.2059 L1210.94 54.3874 Q1210.94 60.8284 1213.46 64.0691 Q1215.97 67.2693 1220.99 67.2693 Q1227.03 67.2693 1230.51 63.421 Q1234.03 59.5726 1234.03 52.9291 L1234.03 27.2059 L1241.49 27.2059 L1241.49 72.576 L1234.03 72.576 L1234.03 65.6084 Q1231.32 69.7404 1227.71 71.7658 Q1224.15 73.7508 1219.41 73.7508 Q1211.59 73.7508 1207.54 68.8897 Q1203.49 64.0286 1203.49 54.671 M1222.25 26.1121 L1222.25 26.1121 Z\" fill=\"#000000\" fill-rule=\"evenodd\" fill-opacity=\"1\" /><path clip-path=\"url(#clip000)\" d=\"M 0 0 M1287.02 45.1919 L1287.02 72.576 L1279.57 72.576 L1279.57 45.4349 Q1279.57 38.994 1277.05 35.7938 Q1274.54 32.5936 1269.52 32.5936 Q1263.48 32.5936 1260 36.4419 Q1256.52 40.2903 1256.52 46.9338 L1256.52 72.576 L1249.02 72.576 L1249.02 27.2059 L1256.52 27.2059 L1256.52 34.2544 Q1259.19 30.163 1262.8 28.1376 Q1266.44 26.1121 1271.18 26.1121 Q1279 26.1121 1283.01 30.9732 Q1287.02 35.7938 1287.02 45.1919 Z\" fill=\"#000000\" fill-rule=\"evenodd\" fill-opacity=\"1\" /><path clip-path=\"url(#clip000)\" d=\"M 0 0 M1327.49 28.9478 L1327.49 35.9153 Q1324.33 34.1734 1321.13 33.3227 Q1317.97 32.4315 1314.73 32.4315 Q1307.48 32.4315 1303.47 37.0496 Q1299.46 41.6271 1299.46 49.9314 Q1299.46 58.2358 1303.47 62.8538 Q1307.48 67.4314 1314.73 67.4314 Q1317.97 67.4314 1321.13 66.5807 Q1324.33 65.6895 1327.49 63.9476 L1327.49 70.8341 Q1324.37 72.2924 1321.01 73.0216 Q1317.69 73.7508 1313.92 73.7508 Q1303.67 73.7508 1297.63 67.3098 Q1291.6 60.8689 1291.6 49.9314 Q1291.6 38.832 1297.67 32.472 Q1303.79 26.1121 1314.4 26.1121 Q1317.85 26.1121 1321.13 26.8413 Q1324.41 27.5299 1327.49 28.9478 Z\" fill=\"#000000\" fill-rule=\"evenodd\" fill-opacity=\"1\" /><path clip-path=\"url(#clip000)\" d=\"M 0 0 M1342.68 14.324 L1342.68 27.2059 L1358.03 27.2059 L1358.03 32.9987 L1342.68 32.9987 L1342.68 57.6282 Q1342.68 63.1779 1344.18 64.7578 Q1345.72 66.3376 1350.38 66.3376 L1358.03 66.3376 L1358.03 72.576 L1350.38 72.576 Q1341.75 72.576 1338.47 69.3758 Q1335.19 66.1351 1335.19 57.6282 L1335.19 32.9987 L1329.72 32.9987 L1329.72 27.2059 L1335.19 27.2059 L1335.19 14.324 L1342.68 14.324 Z\" fill=\"#000000\" fill-rule=\"evenodd\" fill-opacity=\"1\" /><path clip-path=\"url(#clip000)\" d=\"M 0 0 M1365.85 27.2059 L1373.3 27.2059 L1373.3 72.576 L1365.85 72.576 L1365.85 27.2059 M1365.85 9.54393 L1373.3 9.54393 L1373.3 18.9825 L1365.85 18.9825 L1365.85 9.54393 Z\" fill=\"#000000\" fill-rule=\"evenodd\" fill-opacity=\"1\" /><path clip-path=\"url(#clip000)\" d=\"M 0 0 M1398.7 32.4315 Q1392.71 32.4315 1389.22 37.1306 Q1385.74 41.7891 1385.74 49.9314 Q1385.74 58.0738 1389.18 62.7728 Q1392.67 67.4314 1398.7 67.4314 Q1404.66 67.4314 1408.14 62.7323 Q1411.63 58.0333 1411.63 49.9314 Q1411.63 41.8701 1408.14 37.1711 Q1404.66 32.4315 1398.7 32.4315 M1398.7 26.1121 Q1408.43 26.1121 1413.98 32.4315 Q1419.53 38.7509 1419.53 49.9314 Q1419.53 61.0714 1413.98 67.4314 Q1408.43 73.7508 1398.7 73.7508 Q1388.94 73.7508 1383.39 67.4314 Q1377.88 61.0714 1377.88 49.9314 Q1377.88 38.7509 1383.39 32.4315 Q1388.94 26.1121 1398.7 26.1121 Z\" fill=\"#000000\" fill-rule=\"evenodd\" fill-opacity=\"1\" /><path clip-path=\"url(#clip000)\" d=\"M 0 0 M1465.06 45.1919 L1465.06 72.576 L1457.6 72.576 L1457.6 45.4349 Q1457.6 38.994 1455.09 35.7938 Q1452.58 32.5936 1447.56 32.5936 Q1441.52 32.5936 1438.04 36.4419 Q1434.55 40.2903 1434.55 46.9338 L1434.55 72.576 L1427.06 72.576 L1427.06 27.2059 L1434.55 27.2059 L1434.55 34.2544 Q1437.23 30.163 1440.83 28.1376 Q1444.48 26.1121 1449.22 26.1121 Q1457.04 26.1121 1461.05 30.9732 Q1465.06 35.7938 1465.06 45.1919 Z\" fill=\"#000000\" fill-rule=\"evenodd\" fill-opacity=\"1\" /><path clip-path=\"url(#clip000)\" d=\"M 0 0 M1507.75 18.8205 L1507.75 41.5461 L1518.04 41.5461 Q1523.75 41.5461 1526.87 38.5889 Q1529.99 35.6318 1529.99 30.163 Q1529.99 24.7348 1526.87 21.7777 Q1523.75 18.8205 1518.04 18.8205 L1507.75 18.8205 M1499.57 12.096 L1518.04 12.096 Q1528.21 12.096 1533.4 16.714 Q1538.62 21.2916 1538.62 30.163 Q1538.62 39.1155 1533.4 43.6931 Q1528.21 48.2706 1518.04 48.2706 L1507.75 48.2706 L1507.75 72.576 L1499.57 72.576 L1499.57 12.096 Z\" fill=\"#000000\" fill-rule=\"evenodd\" fill-opacity=\"1\" /><path clip-path=\"url(#clip000)\" d=\"M 0 0 M1546.44 9.54393 L1553.89 9.54393 L1553.89 72.576 L1546.44 72.576 L1546.44 9.54393 Z\" fill=\"#000000\" fill-rule=\"evenodd\" fill-opacity=\"1\" /><path clip-path=\"url(#clip000)\" d=\"M 0 0 M1579.29 32.4315 Q1573.3 32.4315 1569.81 37.1306 Q1566.33 41.7891 1566.33 49.9314 Q1566.33 58.0738 1569.77 62.7728 Q1573.26 67.4314 1579.29 67.4314 Q1585.25 67.4314 1588.73 62.7323 Q1592.22 58.0333 1592.22 49.9314 Q1592.22 41.8701 1588.73 37.1711 Q1585.25 32.4315 1579.29 32.4315 M1579.29 26.1121 Q1589.01 26.1121 1594.56 32.4315 Q1600.11 38.7509 1600.11 49.9314 Q1600.11 61.0714 1594.56 67.4314 Q1589.01 73.7508 1579.29 73.7508 Q1569.53 73.7508 1563.98 67.4314 Q1558.47 61.0714 1558.47 49.9314 Q1558.47 38.7509 1563.98 32.4315 Q1569.53 26.1121 1579.29 26.1121 Z\" fill=\"#000000\" fill-rule=\"evenodd\" fill-opacity=\"1\" /><path clip-path=\"url(#clip000)\" d=\"M 0 0 M1615.31 14.324 L1615.31 27.2059 L1630.66 27.2059 L1630.66 32.9987 L1615.31 32.9987 L1615.31 57.6282 Q1615.31 63.1779 1616.8 64.7578 Q1618.34 66.3376 1623 66.3376 L1630.66 66.3376 L1630.66 72.576 L1623 72.576 Q1614.37 72.576 1611.09 69.3758 Q1607.81 66.1351 1607.81 57.6282 L1607.81 32.9987 L1602.34 32.9987 L1602.34 27.2059 L1607.81 27.2059 L1607.81 14.324 L1615.31 14.324 Z\" fill=\"#000000\" fill-rule=\"evenodd\" fill-opacity=\"1\" /><polyline clip-path=\"url(#clip002)\" style=\"stroke:#808080; stroke-width:12; stroke-opacity:1; fill:none\" points=\"\n",
       "  270.312,708.833 274.355,708.833 278.399,708.833 282.442,708.833 286.486,708.833 290.53,708.833 294.573,708.833 298.617,708.833 302.66,708.833 306.704,708.833 \n",
       "  310.748,708.833 314.791,708.833 318.835,708.833 322.878,708.833 326.922,708.833 330.965,708.833 335.009,708.833 339.053,708.833 343.096,708.833 347.14,708.833 \n",
       "  351.183,708.833 355.227,708.833 359.27,708.833 363.314,708.833 367.358,708.833 371.401,708.833 375.445,708.833 379.488,708.833 383.532,708.833 387.576,708.833 \n",
       "  391.619,708.833 395.663,708.833 399.706,708.833 403.75,708.833 407.793,708.833 411.837,708.833 415.881,708.833 419.924,708.833 423.968,708.833 428.011,708.833 \n",
       "  432.055,708.833 436.099,708.833 440.142,708.833 444.186,708.833 448.229,708.833 452.273,708.833 456.316,708.833 460.36,708.833 464.404,708.833 468.447,708.833 \n",
       "  472.491,708.833 476.534,708.833 480.578,708.833 484.621,708.833 488.665,708.833 492.709,708.833 496.752,708.833 500.796,708.833 504.839,708.833 508.883,708.833 \n",
       "  512.927,708.833 516.97,708.833 521.014,708.833 525.057,708.833 529.101,708.833 533.144,708.833 537.188,708.833 541.232,708.833 545.275,708.833 549.319,708.833 \n",
       "  553.362,708.833 557.406,708.833 561.45,708.833 565.493,708.833 569.537,708.833 573.58,708.833 577.624,708.833 581.667,708.833 585.711,708.833 589.755,708.833 \n",
       "  593.798,708.833 597.842,708.833 601.885,708.833 605.929,708.833 609.973,708.833 614.016,708.833 618.06,708.833 622.103,708.833 626.147,708.833 630.19,708.833 \n",
       "  634.234,708.833 638.278,708.833 642.321,708.833 646.365,708.833 650.408,708.833 654.452,708.833 658.495,708.833 662.539,708.833 666.583,708.833 670.626,708.833 \n",
       "  674.67,708.833 678.713,708.833 682.757,708.833 686.801,708.833 690.844,708.833 694.888,708.833 698.931,708.833 702.975,708.833 707.018,708.833 711.062,708.833 \n",
       "  715.106,708.833 719.149,708.833 723.193,708.833 727.236,708.833 731.28,708.833 735.324,708.833 739.367,708.833 743.411,708.833 747.454,708.833 751.498,708.833 \n",
       "  755.541,708.833 759.585,708.833 763.629,708.833 767.672,708.833 771.716,708.833 775.759,708.833 779.803,708.833 783.846,708.833 787.89,708.833 791.934,708.833 \n",
       "  795.977,708.833 800.021,708.833 804.064,708.833 808.108,708.833 812.152,708.833 816.195,708.833 820.239,708.833 824.282,708.833 828.326,708.833 832.369,708.833 \n",
       "  836.413,708.833 840.457,708.833 844.5,708.833 848.544,708.833 852.587,708.833 856.631,708.833 860.675,708.833 864.718,708.833 868.762,708.833 872.805,708.833 \n",
       "  876.849,708.833 880.892,708.833 884.936,708.833 888.98,708.833 893.023,708.833 897.067,708.833 901.11,708.833 905.154,708.833 909.197,708.833 913.241,708.833 \n",
       "  917.285,708.833 921.328,708.833 925.372,708.833 929.415,708.833 933.459,708.833 937.503,708.833 941.546,708.833 945.59,708.833 949.633,708.833 953.677,708.833 \n",
       "  957.72,708.833 961.764,708.833 965.808,708.833 969.851,708.833 973.895,708.833 977.938,708.833 981.982,708.833 986.026,708.833 990.069,708.833 994.113,708.833 \n",
       "  998.156,708.833 1002.2,708.833 1006.24,708.833 1010.29,708.833 1014.33,708.833 1018.37,708.833 1022.42,708.833 1026.46,708.833 1030.5,708.833 1034.55,708.833 \n",
       "  1038.59,708.833 1042.64,708.833 1046.68,708.833 1050.72,708.833 1054.77,708.833 1058.81,708.833 1062.85,708.833 1066.9,708.833 1070.94,708.833 1074.98,708.833 \n",
       "  1079.03,708.833 1083.07,708.833 1087.12,708.833 1091.16,708.833 1095.2,708.833 1099.25,708.833 1103.29,708.833 1107.33,708.833 1111.38,708.833 1115.42,708.833 \n",
       "  1119.46,708.833 1123.51,708.833 1127.55,708.833 1131.59,708.833 1135.64,708.833 1139.68,708.833 1143.73,708.833 1147.77,708.833 1151.81,708.833 1155.86,708.833 \n",
       "  1159.9,708.833 1163.94,708.833 1167.99,708.833 1172.03,708.833 1176.07,708.833 1180.12,708.833 1184.16,708.833 1188.2,708.833 1192.25,708.833 1196.29,708.833 \n",
       "  1200.34,708.833 1204.38,708.833 1208.42,708.833 1212.47,708.833 1216.51,708.833 1220.55,708.833 1224.6,708.833 1228.64,708.833 1232.68,708.833 1236.73,708.833 \n",
       "  1240.77,708.833 1244.81,708.833 1248.86,708.833 1252.9,708.833 1256.95,708.833 1260.99,708.833 1265.03,708.833 1269.08,708.833 1273.12,708.833 1277.16,708.833 \n",
       "  1281.21,708.833 1285.25,708.833 1289.29,708.833 1293.34,708.833 1297.38,708.833 1301.42,708.833 1305.47,708.833 1309.51,708.833 1313.56,708.833 1317.6,708.833 \n",
       "  1321.64,708.833 1325.69,708.833 1329.73,708.833 1333.77,708.833 1337.82,708.833 1341.86,708.833 1345.9,708.833 1349.95,708.833 1353.99,708.833 1358.03,708.833 \n",
       "  1362.08,708.833 1366.12,708.833 1370.17,708.833 1374.21,708.833 1378.25,708.833 1382.3,708.833 1386.34,708.833 1390.38,708.833 1394.43,708.833 1398.47,708.833 \n",
       "  1402.51,708.833 1406.56,708.833 1410.6,708.833 1414.65,708.833 1418.69,708.833 1422.73,708.833 1426.78,708.833 1430.82,708.833 1434.86,708.833 1438.91,708.833 \n",
       "  1442.95,708.833 1446.99,708.833 1451.04,708.833 1455.08,708.833 1459.12,708.833 1463.17,708.833 1467.21,708.833 1471.26,708.833 1475.3,708.833 1479.34,708.833 \n",
       "  1483.39,708.833 1487.43,708.833 1491.47,708.833 1495.52,708.833 1499.56,708.833 1503.6,708.833 1507.65,708.833 1511.69,708.833 1515.73,708.833 1519.78,708.833 \n",
       "  1523.82,708.833 1527.87,708.833 1531.91,708.833 1535.95,708.833 1540,708.833 1544.04,708.833 1548.08,708.833 1552.13,708.833 1556.17,708.833 1560.21,708.833 \n",
       "  1564.26,708.833 1568.3,708.833 1572.34,708.833 1576.39,708.833 1580.43,708.833 1584.48,708.833 1588.52,708.833 1592.56,708.833 1596.61,708.833 1600.65,708.833 \n",
       "  1604.69,708.833 1608.74,708.833 1612.78,708.833 1616.82,708.833 1620.87,708.833 1624.91,708.833 1628.95,708.833 1633,708.833 1637.04,708.833 1641.09,708.833 \n",
       "  1645.13,708.833 1649.17,708.833 1653.22,708.833 1657.26,708.833 1661.3,708.833 1665.35,708.833 1669.39,708.833 1673.43,708.833 1677.48,708.833 1681.52,708.833 \n",
       "  1685.57,708.833 1689.61,708.833 1693.65,708.833 1697.7,708.833 1701.74,708.833 1705.78,708.833 1709.83,708.833 1713.87,708.833 1717.91,708.833 1721.96,708.833 \n",
       "  1726,708.833 1730.04,708.833 1734.09,708.833 1738.13,708.833 1742.18,708.833 1746.22,708.833 1750.26,708.833 1754.31,708.833 1758.35,708.833 1762.39,708.833 \n",
       "  1766.44,708.833 1770.48,708.833 1774.52,708.833 1778.57,708.833 1782.61,708.833 1786.65,708.833 1790.7,708.833 1794.74,708.833 1798.79,708.833 1802.83,708.833 \n",
       "  1806.87,708.833 1810.92,708.833 1814.96,708.833 1819,708.833 1823.05,708.833 1827.09,708.833 1831.13,708.833 1835.18,708.833 1839.22,708.833 1843.26,708.833 \n",
       "  1847.31,708.833 1851.35,708.833 1855.4,708.833 1859.44,708.833 1863.48,708.833 1867.53,708.833 1871.57,708.833 1875.61,708.833 1879.66,708.833 1883.7,708.833 \n",
       "  1887.74,708.833 1891.79,708.833 1895.83,708.833 1899.87,708.833 1903.92,708.833 1907.96,708.833 1912.01,708.833 1916.05,708.833 1920.09,708.833 1924.14,708.833 \n",
       "  1928.18,708.833 1932.22,708.833 1936.27,708.833 1940.31,708.833 1944.35,708.833 1948.4,708.833 1952.44,708.833 1956.48,708.833 1960.53,708.833 1964.57,708.833 \n",
       "  1968.62,708.833 1972.66,708.833 1976.7,708.833 1980.75,708.833 1984.79,708.833 1988.83,708.833 1992.88,708.833 1996.92,708.833 2000.96,708.833 2005.01,708.833 \n",
       "  2009.05,708.833 2013.1,708.833 2017.14,708.833 2021.18,708.833 2025.23,708.833 2029.27,708.833 2033.31,708.833 2037.36,708.833 2041.4,708.833 2045.44,708.833 \n",
       "  2049.49,708.833 2053.53,708.833 2057.57,708.833 2061.62,708.833 2065.66,708.833 2069.71,708.833 2073.75,708.833 2077.79,708.833 2081.84,708.833 2085.88,708.833 \n",
       "  2089.92,708.833 2093.97,708.833 2098.01,708.833 2102.05,708.833 2106.1,708.833 2110.14,708.833 2114.18,708.833 2118.23,708.833 2122.27,708.833 2126.32,708.833 \n",
       "  2130.36,708.833 2134.4,708.833 2138.45,708.833 2142.49,708.833 2146.53,708.833 2150.58,708.833 2154.62,708.833 2158.66,708.833 2162.71,708.833 2166.75,708.833 \n",
       "  2170.79,708.833 2174.84,708.833 2178.88,708.833 2182.93,708.833 2186.97,708.833 2191.01,708.833 2195.06,708.833 2199.1,708.833 2203.14,708.833 2207.19,708.833 \n",
       "  2211.23,708.833 2215.27,708.833 2219.32,708.833 2223.36,708.833 2227.4,708.833 2231.45,708.833 2235.49,708.833 2239.54,708.833 2243.58,708.833 2247.62,708.833 \n",
       "  2251.67,708.833 2255.71,708.833 2259.75,708.833 2263.8,708.833 2267.84,708.833 2271.88,708.833 2275.93,708.833 2279.97,708.833 2284.02,708.833 2288.06,708.833 \n",
       "  2292.1,708.833 \n",
       "  \"/>\n",
       "<polyline clip-path=\"url(#clip002)\" style=\"stroke:#808080; stroke-width:12; stroke-opacity:1; fill:none\" points=\"\n",
       "  1281.21,2722.89 1281.21,-1176.24 \n",
       "  \"/>\n",
       "<polyline clip-path=\"url(#clip002)\" style=\"stroke:#ff0000; stroke-width:12; stroke-opacity:1; fill:none\" points=\"\n",
       "  270.312,1386.4 274.355,1384.53 278.399,1347.42 282.442,1345.58 286.486,1343.74 290.53,1341.91 294.573,1340.1 298.617,1338.29 302.66,1336.49 306.704,1334.7 \n",
       "  310.748,1332.92 314.791,1331.14 318.835,1329.38 322.878,1327.62 326.922,1325.88 330.965,1324.14 335.009,1322.41 339.053,1320.69 343.096,1318.97 347.14,1317.27 \n",
       "  351.183,1315.57 355.227,1313.88 359.27,1312.2 363.314,1310.53 367.358,1308.86 371.401,1307.2 375.445,1305.55 379.488,1303.91 383.532,1302.28 387.576,1265.39 \n",
       "  391.619,1263.77 395.663,1262.16 399.706,1260.56 403.75,1258.96 407.793,1257.37 411.837,1255.79 415.881,1254.21 419.924,1252.64 423.968,1251.08 428.011,1249.53 \n",
       "  432.055,1247.98 436.099,1246.44 440.142,1244.91 444.186,1243.38 448.229,1241.86 452.273,1240.35 456.316,1238.84 460.36,1237.34 464.404,1235.84 468.447,1234.36 \n",
       "  472.491,1232.88 476.534,1231.4 480.578,1229.93 484.621,1228.47 488.665,1191.76 492.709,1190.31 496.752,1188.87 500.796,1187.43 504.839,1186 508.883,1184.58 \n",
       "  512.927,1183.16 516.97,1181.75 521.014,1180.34 525.057,1178.94 529.101,1177.54 533.144,1176.15 537.188,1174.77 541.232,1173.39 545.275,1172.02 549.319,1170.66 \n",
       "  553.362,1169.29 557.406,1167.94 561.45,1166.59 565.493,1165.25 569.537,1163.91 573.58,1162.57 577.624,1161.25 581.667,1159.92 585.711,1158.61 589.755,1122.04 \n",
       "  593.798,1120.73 597.842,1119.43 601.885,1118.14 605.929,1116.85 609.973,1115.56 614.016,1114.28 618.06,1113 622.103,1111.73 626.147,1110.47 630.19,1109.21 \n",
       "  634.234,1107.95 638.278,1106.7 642.321,1105.46 646.365,1104.22 650.408,1102.98 654.452,1101.75 658.495,1100.52 662.539,1099.3 666.583,1098.09 670.626,1096.87 \n",
       "  674.67,1095.67 678.713,1094.46 682.757,1093.27 686.801,1092.07 690.844,1055.63 694.888,1054.44 698.931,1053.26 702.975,1052.09 707.018,1050.92 711.062,1049.75 \n",
       "  715.106,1048.59 719.149,1047.43 723.193,1046.28 727.236,1045.13 731.28,1043.98 735.324,1042.84 739.367,1041.71 743.411,1040.57 747.454,1039.45 751.498,1038.32 \n",
       "  755.541,1037.2 759.585,1036.09 763.629,1034.98 767.672,1033.87 771.716,1032.77 775.759,1031.67 779.803,1030.57 783.846,994.224 787.89,993.137 791.934,992.054 \n",
       "  795.977,990.975 800.021,989.9 804.064,988.828 808.108,987.761 812.152,986.697 816.195,985.638 820.239,984.582 824.282,983.53 828.326,982.481 832.369,981.437 \n",
       "  836.413,980.396 840.457,979.359 844.5,978.326 848.544,977.296 852.587,976.27 856.631,975.247 860.675,974.229 864.718,973.213 868.762,972.202 872.805,971.194 \n",
       "  876.849,934.933 880.892,933.932 884.936,932.934 888.98,931.94 893.023,930.95 897.067,929.963 901.11,928.98 905.154,927.999 909.197,927.023 913.241,926.049 \n",
       "  917.285,925.08 921.328,924.113 925.372,923.15 929.415,922.19 933.459,921.233 937.503,920.28 941.546,919.33 945.59,918.383 949.633,917.44 953.677,916.5 \n",
       "  957.72,915.563 961.764,914.629 965.808,913.698 969.851,877.514 973.895,876.59 977.938,875.669 981.982,874.751 986.026,873.836 990.069,872.924 994.113,872.016 \n",
       "  998.156,871.11 1002.2,870.208 1006.24,869.308 1010.29,868.412 1014.33,867.518 1018.37,866.628 1022.42,865.74 1026.46,864.856 1030.5,863.974 1034.55,863.096 \n",
       "  1038.59,862.22 1042.64,861.347 1046.68,860.477 1050.72,859.611 1054.77,858.746 1058.81,857.885 1062.85,821.771 1066.9,820.915 1070.94,820.062 1074.98,819.213 \n",
       "  1079.03,818.366 1083.07,817.521 1087.12,816.68 1091.16,815.841 1095.2,815.006 1099.25,814.172 1103.29,813.342 1107.33,812.514 1111.38,811.689 1115.42,810.867 \n",
       "  1119.46,810.047 1123.51,809.231 1127.55,808.416 1131.59,807.605 1135.64,806.796 1139.68,805.99 1143.73,805.186 1147.77,804.385 1151.81,803.586 1155.86,767.534 \n",
       "  1159.9,766.741 1163.94,765.95 1167.99,765.162 1172.03,764.376 1176.07,763.593 1180.12,762.812 1184.16,762.034 1188.2,761.259 1192.25,760.486 1196.29,759.715 \n",
       "  1200.34,758.947 1204.38,758.181 1208.42,757.418 1212.47,756.657 1216.51,755.899 1220.55,755.143 1224.6,754.39 1228.64,753.639 1232.68,752.89 1236.73,752.144 \n",
       "  1240.77,751.4 1244.81,750.658 1248.86,749.919 1252.9,749.182 1256.95,748.448 1260.99,747.716 1265.03,746.986 1269.08,711.002 1273.12,710.277 1277.16,709.554 \n",
       "  1281.21,708.833 1285.25,708.115 1289.29,707.398 1293.34,706.685 1297.38,670.716 1301.42,670.007 1305.47,669.3 1309.51,668.595 1313.56,667.892 1317.6,667.192 \n",
       "  1321.64,666.494 1325.69,665.797 1329.73,665.104 1333.77,664.412 1337.82,663.722 1341.86,663.035 1345.9,662.349 1349.95,661.666 1353.99,660.985 1358.03,660.306 \n",
       "  1362.08,659.63 1366.12,658.955 1370.17,658.282 1374.21,657.612 1378.25,656.944 1382.3,656.277 1386.34,655.613 1390.38,654.951 1394.43,654.291 1398.47,653.633 \n",
       "  1402.51,652.977 1406.56,652.323 1410.6,616.414 1414.65,615.764 1418.69,615.117 1422.73,614.471 1426.78,613.827 1430.82,613.185 1434.86,612.545 1438.91,611.907 \n",
       "  1442.95,611.271 1446.99,610.637 1451.04,610.005 1455.08,609.375 1459.12,608.746 1463.17,608.12 1467.21,607.496 1471.26,606.873 1475.3,606.253 1479.34,605.634 \n",
       "  1483.39,605.017 1487.43,604.403 1491.47,603.79 1495.52,603.179 1499.56,567.313 1503.6,566.706 1507.65,566.1 1511.69,565.497 1515.73,564.895 1519.78,564.295 \n",
       "  1523.82,563.697 1527.87,563.101 1531.91,562.506 1535.95,561.914 1540,561.323 1544.04,560.734 1548.08,560.147 1552.13,559.562 1556.17,558.978 1560.21,558.396 \n",
       "  1564.26,557.816 1568.3,557.238 1572.34,556.661 1576.39,556.087 1580.43,555.514 1584.48,554.942 1588.52,519.116 1592.56,518.549 1596.61,517.982 1600.65,517.418 \n",
       "  1604.69,516.856 1608.74,516.295 1612.78,515.735 1616.82,515.178 1620.87,514.622 1624.91,514.068 1628.95,513.516 1633,512.965 1637.04,512.416 1641.09,511.868 \n",
       "  1645.13,511.323 1649.17,510.779 1653.22,510.236 1657.26,509.695 1661.3,509.156 1665.35,508.619 1669.39,508.083 1673.43,507.548 1677.48,471.759 1681.52,471.228 \n",
       "  1685.57,470.699 1689.61,470.171 1693.65,469.645 1697.7,469.12 1701.74,468.597 1705.78,468.076 1709.83,467.556 1713.87,467.038 1717.91,466.521 1721.96,466.006 \n",
       "  1726,465.492 1730.04,464.98 1734.09,464.47 1738.13,463.961 1742.18,463.453 1746.22,462.947 1750.26,462.443 1754.31,461.94 1758.35,461.439 1762.39,425.683 \n",
       "  1766.44,425.184 1770.48,424.688 1774.52,424.192 1778.57,423.699 1782.61,423.206 1786.65,422.716 1790.7,422.226 1794.74,421.739 1798.79,421.252 1802.83,420.767 \n",
       "  1806.87,420.284 1810.92,419.802 1814.96,419.322 1819,418.843 1823.05,418.365 1827.09,417.889 1831.13,417.414 1835.18,416.941 1839.22,416.469 1843.26,380.742 \n",
       "  1847.31,380.273 1851.35,379.806 1855.4,379.34 1859.44,378.875 1863.48,378.412 1867.53,377.95 1871.57,377.489 1875.61,377.03 1879.66,376.573 1883.7,376.116 \n",
       "  1887.74,375.661 1891.79,375.208 1895.83,374.756 1899.87,374.305 1903.92,373.855 1907.96,373.407 1912.01,372.961 1916.05,372.515 1920.09,372.071 1924.14,371.629 \n",
       "  1928.18,335.931 1932.22,335.491 1936.27,335.052 1940.31,334.615 1944.35,334.179 1948.4,333.744 1952.44,333.311 1956.48,332.879 1960.53,332.448 1964.57,332.019 \n",
       "  1968.62,331.591 1972.66,331.164 1976.7,330.739 1980.75,330.314 1984.79,329.892 1988.83,329.47 1992.88,329.05 1996.92,328.631 2000.96,328.213 2005.01,327.796 \n",
       "  2009.05,327.381 2013.1,326.967 2017.14,291.298 2021.18,290.887 2025.23,290.477 2029.27,290.068 2033.31,289.66 2037.36,289.254 2041.4,288.848 2045.44,288.445 \n",
       "  2049.49,288.042 2053.53,287.64 2057.57,287.24 2061.62,286.841 2065.66,286.443 2069.71,286.047 2073.75,285.652 2077.79,285.257 2081.84,284.865 2085.88,284.473 \n",
       "  2089.92,284.082 2093.97,283.693 2098.01,283.305 2102.05,247.662 2106.1,247.276 2110.14,246.891 2114.18,246.508 2118.23,246.126 2122.27,245.745 2126.32,245.365 \n",
       "  2130.36,244.986 2134.4,244.609 2138.45,244.233 2142.49,243.858 2146.53,243.484 2150.58,243.111 2154.62,242.739 2158.66,242.369 2162.71,241.999 2166.75,241.631 \n",
       "  2170.79,241.264 2174.84,240.898 2178.88,240.533 2182.93,240.17 2186.97,204.551 2191.01,204.189 2195.06,203.829 2199.1,203.47 2203.14,203.112 2207.19,202.755 \n",
       "  2211.23,202.399 2215.27,202.044 2219.32,201.691 2223.36,201.338 2227.4,200.987 2231.45,200.637 2235.49,200.288 2239.54,199.94 2243.58,199.593 2247.62,199.247 \n",
       "  2251.67,198.902 2255.71,198.558 2259.75,198.215 2263.8,197.874 2267.84,162.277 2271.88,161.937 2275.93,161.599 2279.97,161.262 2284.02,160.926 2288.06,160.59 \n",
       "  2292.1,160.256 \n",
       "  \"/>\n",
       "<path clip-path=\"url(#clip000)\" d=\"\n",
       "M1843.71 408.716 L2281.32 408.716 L2281.32 166.796 L1843.71 166.796  Z\n",
       "  \" fill=\"#ffffff\" fill-rule=\"evenodd\" fill-opacity=\"1\"/>\n",
       "<polyline clip-path=\"url(#clip000)\" style=\"stroke:#000000; stroke-width:4; stroke-opacity:1; fill:none\" points=\"\n",
       "  1843.71,408.716 2281.32,408.716 2281.32,166.796 1843.71,166.796 1843.71,408.716 \n",
       "  \"/>\n",
       "<polyline clip-path=\"url(#clip000)\" style=\"stroke:#808080; stroke-width:4; stroke-opacity:1; fill:none\" points=\"\n",
       "  1867.52,227.276 2010.39,227.276 \n",
       "  \"/>\n",
       "<path clip-path=\"url(#clip000)\" d=\"M 0 0 M2054.71 219.625 L2054.71 223.607 Q2052.91 222.611 2051.08 222.125 Q2049.27 221.616 2047.42 221.616 Q2043.28 221.616 2040.99 224.255 Q2038.7 226.871 2038.7 231.616 Q2038.7 236.361 2040.99 239 Q2043.28 241.616 2047.42 241.616 Q2049.27 241.616 2051.08 241.13 Q2052.91 240.621 2054.71 239.625 L2054.71 243.56 Q2052.93 244.394 2051.01 244.81 Q2049.11 245.227 2046.96 245.227 Q2041.1 245.227 2037.65 241.546 Q2034.21 237.866 2034.21 231.616 Q2034.21 225.273 2037.68 221.639 Q2041.17 218.005 2047.24 218.005 Q2049.21 218.005 2051.08 218.422 Q2052.96 218.815 2054.71 219.625 Z\" fill=\"#000000\" fill-rule=\"evenodd\" fill-opacity=\"1\" /><path clip-path=\"url(#clip000)\" d=\"M 0 0 M2036.03 209.232 L2049.88 209.232 L2049.88 212.658 L2036.03 212.658 L2036.03 209.232 Z\" fill=\"#000000\" fill-rule=\"evenodd\" fill-opacity=\"1\" /><polyline clip-path=\"url(#clip000)\" style=\"stroke:#808080; stroke-width:4; stroke-opacity:1; fill:none\" points=\"\n",
       "  1867.52,287.756 2010.39,287.756 \n",
       "  \"/>\n",
       "<path clip-path=\"url(#clip000)\" d=\"M 0 0 M2034.21 269.017 L2038.49 269.017 L2038.49 290.29 L2051.2 279.11 L2056.64 279.11 L2042.89 291.239 L2057.21 305.036 L2051.66 305.036 L2038.49 292.374 L2038.49 305.036 L2034.21 305.036 L2034.21 269.017 Z\" fill=\"#000000\" fill-rule=\"evenodd\" fill-opacity=\"1\" /><path clip-path=\"url(#clip000)\" d=\"M 0 0 M2038.53 269.712 L2052.38 269.712 L2052.38 273.138 L2038.53 273.138 L2038.53 269.712 Z\" fill=\"#000000\" fill-rule=\"evenodd\" fill-opacity=\"1\" /><polyline clip-path=\"url(#clip000)\" style=\"stroke:#ff0000; stroke-width:4; stroke-opacity:1; fill:none\" points=\"\n",
       "  1867.52,348.236 2010.39,348.236 \n",
       "  \"/>\n",
       "<path clip-path=\"url(#clip000)\" d=\"M 0 0 M2050.22 334.127 Q2045.13 334.127 2042.12 337.923 Q2039.14 341.72 2039.14 348.27 Q2039.14 354.798 2042.12 358.594 Q2045.13 362.391 2050.22 362.391 Q2055.32 362.391 2058.28 358.594 Q2061.27 354.798 2061.27 348.27 Q2061.27 341.72 2058.28 337.923 Q2055.32 334.127 2050.22 334.127 M2050.22 330.331 Q2057.49 330.331 2061.84 335.215 Q2066.2 340.076 2066.2 348.27 Q2066.2 356.442 2061.84 361.326 Q2057.49 366.187 2050.22 366.187 Q2042.93 366.187 2038.56 361.326 Q2034.21 356.465 2034.21 348.27 Q2034.21 340.076 2038.56 335.215 Q2042.93 330.331 2050.22 330.331 Z\" fill=\"#000000\" fill-rule=\"evenodd\" fill-opacity=\"1\" /><path clip-path=\"url(#clip000)\" d=\"M 0 0 M2074.78 361.627 L2074.78 375.377 L2070.5 375.377 L2070.5 339.59 L2074.78 339.59 L2074.78 343.525 Q2076.13 341.21 2078.16 340.099 Q2080.22 338.965 2083.07 338.965 Q2087.79 338.965 2090.73 342.715 Q2093.7 346.465 2093.7 352.576 Q2093.7 358.687 2090.73 362.437 Q2087.79 366.187 2083.07 366.187 Q2080.22 366.187 2078.16 365.076 Q2076.13 363.942 2074.78 361.627 M2089.27 352.576 Q2089.27 347.877 2087.33 345.215 Q2085.41 342.53 2082.03 342.53 Q2078.65 342.53 2076.71 345.215 Q2074.78 347.877 2074.78 352.576 Q2074.78 357.275 2076.71 359.96 Q2078.65 362.622 2082.03 362.622 Q2085.41 362.622 2087.33 359.96 Q2089.27 357.275 2089.27 352.576 Z\" fill=\"#000000\" fill-rule=\"evenodd\" fill-opacity=\"1\" /><path clip-path=\"url(#clip000)\" d=\"M 0 0 M2102.38 332.229 L2102.38 339.59 L2111.15 339.59 L2111.15 342.9 L2102.38 342.9 L2102.38 356.974 Q2102.38 360.145 2103.23 361.048 Q2104.11 361.951 2106.77 361.951 L2111.15 361.951 L2111.15 365.516 L2106.77 365.516 Q2101.84 365.516 2099.97 363.687 Q2098.09 361.835 2098.09 356.974 L2098.09 342.9 L2094.97 342.9 L2094.97 339.59 L2098.09 339.59 L2098.09 332.229 L2102.38 332.229 Z\" fill=\"#000000\" fill-rule=\"evenodd\" fill-opacity=\"1\" /><path clip-path=\"url(#clip000)\" d=\"M 0 0 M2115.62 339.59 L2119.88 339.59 L2119.88 365.516 L2115.62 365.516 L2115.62 339.59 M2115.62 329.497 L2119.88 329.497 L2119.88 334.891 L2115.62 334.891 L2115.62 329.497 Z\" fill=\"#000000\" fill-rule=\"evenodd\" fill-opacity=\"1\" /><path clip-path=\"url(#clip000)\" d=\"M 0 0 M2144.53 344.567 Q2146.13 341.696 2148.35 340.331 Q2150.57 338.965 2153.58 338.965 Q2157.63 338.965 2159.83 341.812 Q2162.03 344.636 2162.03 349.868 L2162.03 365.516 L2157.75 365.516 L2157.75 350.007 Q2157.75 346.28 2156.43 344.474 Q2155.11 342.669 2152.4 342.669 Q2149.09 342.669 2147.17 344.868 Q2145.25 347.067 2145.25 350.863 L2145.25 365.516 L2140.96 365.516 L2140.96 350.007 Q2140.96 346.257 2139.64 344.474 Q2138.33 342.669 2135.57 342.669 Q2132.31 342.669 2130.39 344.891 Q2128.46 347.09 2128.46 350.863 L2128.46 365.516 L2124.18 365.516 L2124.18 339.59 L2128.46 339.59 L2128.46 343.618 Q2129.92 341.233 2131.96 340.099 Q2134 338.965 2136.8 338.965 Q2139.62 338.965 2141.59 340.4 Q2143.58 341.835 2144.53 344.567 Z\" fill=\"#000000\" fill-rule=\"evenodd\" fill-opacity=\"1\" /><path clip-path=\"url(#clip000)\" d=\"M 0 0 M2178.28 352.483 Q2173.12 352.483 2171.13 353.664 Q2169.14 354.844 2169.14 357.692 Q2169.14 359.96 2170.62 361.303 Q2172.12 362.622 2174.69 362.622 Q2178.23 362.622 2180.36 360.122 Q2182.51 357.599 2182.51 353.432 L2182.51 352.483 L2178.28 352.483 M2186.77 350.724 L2186.77 365.516 L2182.51 365.516 L2182.51 361.581 Q2181.06 363.942 2178.88 365.076 Q2176.7 366.187 2173.56 366.187 Q2169.57 366.187 2167.21 363.965 Q2164.88 361.719 2164.88 357.969 Q2164.88 353.594 2167.79 351.372 Q2170.73 349.15 2176.54 349.15 L2182.51 349.15 L2182.51 348.733 Q2182.51 345.794 2180.57 344.196 Q2178.65 342.576 2175.15 342.576 Q2172.93 342.576 2170.82 343.108 Q2168.72 343.641 2166.77 344.706 L2166.77 340.77 Q2169.11 339.868 2171.31 339.428 Q2173.51 338.965 2175.59 338.965 Q2181.22 338.965 2184 341.882 Q2186.77 344.798 2186.77 350.724 Z\" fill=\"#000000\" fill-rule=\"evenodd\" fill-opacity=\"1\" /><path clip-path=\"url(#clip000)\" d=\"M 0 0 M2191.24 329.497 L2195.5 329.497 L2195.5 365.516 L2191.24 365.516 L2191.24 329.497 Z\" fill=\"#000000\" fill-rule=\"evenodd\" fill-opacity=\"1\" /><path clip-path=\"url(#clip000)\" d=\"M 0 0 M2233.69 340.585 L2233.69 344.567 Q2231.89 343.571 2230.06 343.085 Q2228.26 342.576 2226.4 342.576 Q2222.26 342.576 2219.97 345.215 Q2217.68 347.831 2217.68 352.576 Q2217.68 357.321 2219.97 359.96 Q2222.26 362.576 2226.4 362.576 Q2228.26 362.576 2230.06 362.09 Q2231.89 361.581 2233.69 360.585 L2233.69 364.52 Q2231.91 365.354 2229.99 365.77 Q2228.09 366.187 2225.94 366.187 Q2220.08 366.187 2216.63 362.506 Q2213.19 358.826 2213.19 352.576 Q2213.19 346.233 2216.66 342.599 Q2220.15 338.965 2226.22 338.965 Q2228.19 338.965 2230.06 339.382 Q2231.94 339.775 2233.69 340.585 Z\" fill=\"#000000\" fill-rule=\"evenodd\" fill-opacity=\"1\" /></svg>\n"
      ]
     },
     "execution_count": 64,
     "metadata": {},
     "output_type": "execute_result"
    }
   ],
   "source": [
    "plot(title = \"Policy Function Plot\")\n",
    "plot!(kgrid, fill(c̄, length(kgrid)), label = \"c̄\", color = \"gray\", lw = 3)\n",
    "vline!([k̄], label = \"k̄\", color = \"gray\",lw = 3)\n",
    "plot!(kgrid, c_pol, label = \"Optimal c\", color = \"red\", lw = 3)\n",
    "xlabel!(\"k\")\n",
    "ylabel!(\"c\")"
   ]
  },
  {
   "cell_type": "markdown",
   "metadata": {},
   "source": [
    "## Generating Optimal Paths"
   ]
  }
 ],
 "metadata": {
  "kernelspec": {
   "display_name": "Julia 1.5.4",
   "language": "julia",
   "name": "julia-1.5"
  },
  "language_info": {
   "file_extension": ".jl",
   "mimetype": "application/julia",
   "name": "julia",
   "version": "1.5.4"
  },
  "latex_envs": {
   "LaTeX_envs_menu_present": true,
   "autoclose": false,
   "autocomplete": true,
   "bibliofile": "biblio.bib",
   "cite_by": "apalike",
   "current_citInitial": 1,
   "eqLabelWithNumbers": true,
   "eqNumInitial": 1,
   "hotkeys": {
    "equation": "Ctrl-E",
    "itemize": "Ctrl-I"
   },
   "labels_anchors": false,
   "latex_user_defs": false,
   "report_style_numbering": false,
   "user_envs_cfg": false
  }
 },
 "nbformat": 4,
 "nbformat_minor": 4
}

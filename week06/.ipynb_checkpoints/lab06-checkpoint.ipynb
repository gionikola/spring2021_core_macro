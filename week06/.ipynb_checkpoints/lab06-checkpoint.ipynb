{
 "cells": [
  {
   "cell_type": "markdown",
   "metadata": {},
   "source": [
    "# Solving Neoclassical Growth Models"
   ]
  },
  {
   "cell_type": "markdown",
   "metadata": {},
   "source": [
    "This lab includes:\n",
    "\n",
    "(1) An overview of a basic neoclassical growth model;\n",
    "\n",
    "(2) Solving a non-stochastic growth model using value function iteration;\n",
    "\n",
    "(3) Finding the optimal path using policy functions."
   ]
  },
  {
   "cell_type": "markdown",
   "metadata": {},
   "source": [
    "## A Basic Growth Model"
   ]
  },
  {
   "cell_type": "markdown",
   "metadata": {},
   "source": [
    "Consider the following economy.\n",
    "\n",
    "There is a representative agent who has preferences given by \n",
    "\n",
    "\\begin{align*}\n",
    "    \\sum_{t=0}^\\infty \\beta^t u(c_t) \\, ,\n",
    "\\end{align*}\n",
    "\n",
    "where $u(c_t) = \\log(c_t)$ and $\\beta \\in (0,1)$ is the discount factor."
   ]
  },
  {
   "cell_type": "markdown",
   "metadata": {},
   "source": [
    "The technology in this economy is given by \n",
    "\n",
    "\\begin{align*}\n",
    "    c_t + i_t &= y_t \\, , \\\\\n",
    "    y_t &= A k_{t}^\\alpha \\, , \\\\\n",
    "    k_{t+1} &= i_t + (1-\\delta) k_t \\, ,\n",
    "\\end{align*}\n",
    "\n",
    "where $c_t$ is consumption, $i_t$ is investment, $y_t$ is output, $k_t$ is capital, $\\alpha \\in (0,1)$, $A \\in \\mathbb{R}_+$ is the productivity factor, and $\\delta \\in (0,1)$ is the depreciation rate."
   ]
  },
  {
   "cell_type": "markdown",
   "metadata": {},
   "source": [
    "The social planner's problem may be expressed by the following Bellman equation:\n",
    "\n",
    "\\begin{align*}\n",
    "    V(k) = \\max_{c,i,k'} \\left\\{ \\log(c) + \\beta V(k') \\right\\}\n",
    "\\end{align*}\n",
    "\n",
    "subject to \n",
    "\n",
    "\\begin{align}\n",
    "    c + i &= A k^\\alpha \\, , \\label{eq:flow_constraint} \\\\\n",
    "    k' &= (1-\\delta) k + i \\, . \\label{eq:capital_accumulation} \n",
    "\\end{align}"
   ]
  },
  {
   "cell_type": "markdown",
   "metadata": {},
   "source": [
    "## Transition Equations"
   ]
  },
  {
   "cell_type": "markdown",
   "metadata": {},
   "source": [
    "We can simplify this system by using the first constraint to solve for $i$:\n",
    "\n",
    "\\begin{align*}\n",
    "    i = A k^\\alpha - c \\, ,\n",
    "\\end{align*}\n",
    "\n",
    "which can be substituted into the second constraint to yield \n",
    "\n",
    "\\begin{align*}\n",
    "    k' = (1-\\delta) k + A k^\\alpha - c  \\, .\n",
    "\\end{align*}\n"
   ]
  },
  {
   "cell_type": "markdown",
   "metadata": {},
   "source": [
    "The above equation for $k'$ can be substituted into the Bellman equation to yield \n",
    "\n",
    "\\begin{align*}\n",
    "    V(k) = \\max_{c} \\left\\{ \\log(c) + \\beta V\\left[ (1-\\delta)k + Ak^\\alpha - c \\right] \\right\\} \\, .\n",
    "\\end{align*}"
   ]
  },
  {
   "cell_type": "markdown",
   "metadata": {},
   "source": [
    "Using the Bellman equation we may derive the following first-order condition for $c$:\n",
    "\n",
    "\\begin{align*}\n",
    "    0 = \\frac{1}{c} + \\beta V'(k')(-1) \\, ,\n",
    "\\end{align*}\n",
    "\n",
    "which is equivalent to \n",
    "\n",
    "\\begin{align}\n",
    "\\label{eq:foc}\n",
    "    \\beta V'(k') = \\frac{1}{c} \\, .\n",
    "\\end{align}"
   ]
  },
  {
   "cell_type": "markdown",
   "metadata": {
    "ExecuteTime": {
     "end_time": "2021-05-01T21:50:52.391000-07:00",
     "start_time": "2021-05-02T04:50:50.811Z"
    }
   },
   "source": [
    "We may also use the Bellman eqation to obtain the following envelope condition:\n",
    "\n",
    "\\begin{align*}\n",
    "V'(k) = \\beta V'(k') (1 - \\delta + \\alpha A k^{\\alpha - 1} ) \\, .\n",
    "\\end{align*}"
   ]
  },
  {
   "cell_type": "markdown",
   "metadata": {},
   "source": [
    "Eq. \\eqref{eq:foc} can then be substituted into the RHS of the envelope condition to yield \n",
    "\n",
    "\\begin{align*}\n",
    "    V'(k) = \\frac{1}{c} \\left( 1 - \\delta + \\alpha A k^{\\alpha-1} \\right) \\, .\n",
    "\\end{align*}"
   ]
  },
  {
   "cell_type": "markdown",
   "metadata": {},
   "source": [
    "This equation can now be \"stepped-up\" by a period ($k'$ and $c'$ instead of $k$ and $c$) to give us\n",
    "\n",
    "\\begin{align*}\n",
    "    V'(k') = \\frac{1}{c'} \\left( 1 - \\delta + \\alpha A k'^{\\alpha-1} \\right) \\, .\n",
    "\\end{align*}"
   ]
  },
  {
   "cell_type": "markdown",
   "metadata": {},
   "source": [
    "We once again substitute Eq. \\eqref{eq:foc} into the LHS of the above equation to obtain \n",
    "\n",
    "\\begin{align*}\n",
    "    \\frac{1}{\\beta c} = \\frac{1}{c'} \\left( 1 - \\delta + \\alpha A k'^{\\alpha-1} \\right) \\, ,\n",
    "\\end{align*}\n",
    "\n",
    "which can be used to solve for $c'$:\n",
    "\n",
    "\\begin{align*}\n",
    "    c' = c \\beta \\left( 1 + \\delta \\alpha A k'^{\\alpha - 1} \\right) \\, .\n",
    "\\end{align*}"
   ]
  },
  {
   "cell_type": "markdown",
   "metadata": {},
   "source": [
    "We can now attach time indices to the above equation to obtain the Euler equation:\n",
    "\n",
    "\\begin{align}\n",
    "\\label{eq:euler}\n",
    "    c_{t+1} = c_t \\beta \\left(1 - \\delta \\alpha A k_{t+1}^{\\alpha-1} \\right) \\, .\n",
    "\\end{align}"
   ]
  },
  {
   "cell_type": "markdown",
   "metadata": {},
   "source": [
    "Therefore, the economy is governed by the system of transition equations made up by Eqs. \\eqref{eq:flow_constraint}, \\eqref{eq:capital_accumulation}, and \\eqref{eq:euler}."
   ]
  },
  {
   "cell_type": "markdown",
   "metadata": {},
   "source": [
    "I repeat all equations below for easy reference.\n",
    "\n",
    "**Capital accumulation:** \n",
    "\n",
    "\\begin{align*}\n",
    "k_{t+1} = (1-\\delta) k_t + Ak_t^{\\alpha} - c_t\n",
    "\\end{align*}\n",
    "\n",
    "**Euler equation:** \n",
    "\n",
    "\\begin{align*}\n",
    "c_{t+1} = c_t \\beta \\left( 1 + \\delta \\alpha A k_{t+1}^{\\alpha-1} \\right)\n",
    "\\end{align*}\n",
    "\n",
    "**Output:**\n",
    "\n",
    "\\begin{align*}\n",
    "y_t = A k_t^\\alpha \n",
    "\\end{align*}\n",
    "\n",
    "\n",
    "**Flow budget constraint / Investment:** \n",
    "\n",
    "\\begin{align*}\n",
    "i_t = A k_t^{\\alpha} - c_t\n",
    "\\end{align*}"
   ]
  },
  {
   "cell_type": "markdown",
   "metadata": {},
   "source": [
    "## Steady State"
   ]
  },
  {
   "cell_type": "markdown",
   "metadata": {},
   "source": [
    "In the steady state (SS), we have $c_{t+1} = c_t = \\overline{c}$ and $k_{t+1} = k_t = \\overline{k}$, which also implies SS output \n",
    "\n",
    "\\begin{align*}\n",
    "\\overline{y} = A \\overline{k}^\\alpha\n",
    "\\end{align*}\n",
    "\n",
    "and SS investment \n",
    "\n",
    "\\begin{align*}\n",
    "\\overline{i} = \\overline{y} - \\overline{c} \\, .\n",
    "\\end{align*}"
   ]
  },
  {
   "cell_type": "markdown",
   "metadata": {},
   "source": [
    "We now need to solve for $\\overline{c}$ and $\\overline{k}$."
   ]
  },
  {
   "cell_type": "markdown",
   "metadata": {},
   "source": [
    "Applying a bit of algebra to the Euler and capital accumulation equations yields \n",
    "\n",
    "\\begin{align*}\n",
    "    \\overline{k} = \\left( \\frac{\\alpha \\delta A}{\\beta^{-1} - 1} \\right)^\\frac{1}{1-\\alpha} \\, ,\n",
    "\\end{align*}\n",
    "\n",
    "along with \n",
    "\n",
    "\\begin{align*}\n",
    "    \\overline{c} = A \\overline{k}^\\alpha - \\delta \\overline{k} \\, .\n",
    "\\end{align*}"
   ]
  },
  {
   "cell_type": "markdown",
   "metadata": {},
   "source": [
    "Let's write a function named `steadyState` that will output all model parameters and steady state values:"
   ]
  },
  {
   "cell_type": "code",
   "execution_count": 16,
   "metadata": {
    "ExecuteTime": {
     "end_time": "2021-05-02T13:43:05.406000-07:00",
     "start_time": "2021-05-02T20:43:05.398Z"
    }
   },
   "outputs": [
    {
     "data": {
      "text/plain": [
       "steadyState (generic function with 5 methods)"
      ]
     },
     "execution_count": 16,
     "metadata": {},
     "output_type": "execute_result"
    }
   ],
   "source": [
    "function steadyState(α = 0.3, β = 0.98, δ = 0.02, A = 1)\n",
    "    \n",
    "    # Solve for k̄\n",
    "    k̄ = ( (β^(-1) - 1) / (α * δ * A) )^(1/(1-α))\n",
    "    \n",
    "    # Solve for ȳ\n",
    "    ȳ = A * k̄^α\n",
    "    \n",
    "    # Solve for c̄\n",
    "    c̄ = ȳ - δ * k̄\n",
    "    \n",
    "    # Solve for ī\n",
    "    ī = ȳ - c̄\n",
    "    \n",
    "    # Return model parameters and steady state variables\n",
    "    return (α = α, β = β, δ = δ, A = A, c̄ = c̄, k̄ = k̄, ȳ = ȳ, ī = ī)\n",
    "end"
   ]
  },
  {
   "cell_type": "markdown",
   "metadata": {},
   "source": [
    "We run the function and store all outputs:"
   ]
  },
  {
   "cell_type": "code",
   "execution_count": 17,
   "metadata": {
    "ExecuteTime": {
     "end_time": "2021-05-02T13:43:06.724000-07:00",
     "start_time": "2021-05-02T20:43:06.692Z"
    }
   },
   "outputs": [
    {
     "name": "stdout",
     "output_type": "stream",
     "text": [
      "c̄ = 1.574905053386881\n",
      "k̄ = 5.747828661995923\n",
      "ȳ = 1.6898616266267994\n",
      "ī = 0.11495657323991848\n"
     ]
    }
   ],
   "source": [
    "α, β, δ, A, c̄, k̄, ȳ, ī = steadyState()\n",
    "@show c̄\n",
    "@show k̄\n",
    "@show ȳ\n",
    "@show ī;"
   ]
  },
  {
   "cell_type": "markdown",
   "metadata": {},
   "source": [
    "## Solving the Model"
   ]
  },
  {
   "cell_type": "code",
   "execution_count": 6,
   "metadata": {
    "ExecuteTime": {
     "end_time": "2021-05-02T13:33:07.581000-07:00",
     "start_time": "2021-05-02T20:33:07.574Z"
    }
   },
   "outputs": [],
   "source": [
    "# Load all packages we might need\n",
    "using LinearAlgebra, Plots"
   ]
  },
  {
   "cell_type": "markdown",
   "metadata": {},
   "source": [
    "Our goal now is to computationally solve for the policy function using value function iteration.\n",
    "\n",
    "We start by constructing a function named `growthBellmanMap` that applies a single iteration of the Bellman map."
   ]
  },
  {
   "cell_type": "code",
   "execution_count": 18,
   "metadata": {
    "ExecuteTime": {
     "end_time": "2021-05-02T13:55:11.878000-07:00",
     "start_time": "2021-05-02T20:55:11.735Z"
    }
   },
   "outputs": [
    {
     "data": {
      "text/plain": [
       "growthBellmanMap (generic function with 1 method)"
      ]
     },
     "execution_count": 18,
     "metadata": {},
     "output_type": "execute_result"
    }
   ],
   "source": [
    "function growthBellmanMap(V, kgrid, α, β, δ, A)\n",
    "    \n",
    "    N     = length(kgrid) #k grid length\n",
    "    V_out = zeros(N) #new value function\n",
    "    n_pol = zeros(Int,N) #policy rule for grid points\n",
    "    k_pol = zeros(N) #policy rule for capital\n",
    "    c_pol = zeros(N) #consumption rule\n",
    "    obj   = zeros(N) #objective to be maximized wrt k′\n",
    "    \n",
    "    for n in 1:N #iterate for each initial capital\n",
    "        \n",
    "        for nprime in 1:N #iterate for choice of capital this period\n",
    "            \n",
    "            # Compute optimal consumption level\n",
    "            c = (1-δ) * kgrid[n] + A * kgrid[n]^(α) - kgrid[nprime]\n",
    "            \n",
    "            if c <= 0\n",
    "                obj[nprime] = -Inf #penalty if consumption <0\n",
    "            else\n",
    "                obj[nprime] = log(c) + β * V[nprime] #otherwise RHS of bellman equation\n",
    "            end\n",
    "        end\n",
    "        \n",
    "        V_out[n], n_pol[n] = findmax(obj) #find optimal value and the choice that gives it\n",
    "        k_pol[n]           = kgrid[n_pol[n]] #record capital policy\n",
    "        c_pol[n]           =(1-δ) * kgrid[n] + A * kgrid[n]^(α) - k_pol[n] #record consumption policy\n",
    "            \n",
    "    end\n",
    "    \n",
    "    return V_out, n_pol, k_pol, c_pol\n",
    "end"
   ]
  },
  {
   "cell_type": "code",
   "execution_count": 19,
   "metadata": {
    "ExecuteTime": {
     "end_time": "2021-05-02T13:55:12.951000-07:00",
     "start_time": "2021-05-02T20:55:12.765Z"
    }
   },
   "outputs": [
    {
     "data": {
      "text/plain": [
       "solveGrowthBellman (generic function with 2 methods)"
      ]
     },
     "execution_count": 19,
     "metadata": {},
     "output_type": "execute_result"
    }
   ],
   "source": [
    "function solveGrowthBellman(V0, kgrid, α, β, δ, A, ϵ=1e-7)\n",
    "    \n",
    "    diff = 0.1\n",
    "    \n",
    "    V, n_pol, k_pol, c_pol = growthBellmanMap(V0, kgrid, α, β, δ, A)\n",
    "    \n",
    "    while diff > ϵ\n",
    "        \n",
    "        V_new, n_pol, k_pol, c_pol  = growthBellmanMap(V, kgrid, α, β, δ, A)\n",
    "        \n",
    "        diff = norm(V_new-V,Inf)\n",
    "        \n",
    "        V = V_new \n",
    "    end\n",
    "    \n",
    "    return V, n_pol, k_pol, c_pol\n",
    "end"
   ]
  },
  {
   "cell_type": "code",
   "execution_count": 20,
   "metadata": {
    "ExecuteTime": {
     "end_time": "2021-05-02T13:55:16.018000-07:00",
     "start_time": "2021-05-02T20:55:14.735Z"
    }
   },
   "outputs": [],
   "source": [
    "N     = 200\n",
    "kgrid = LinRange(k̄-3,k̄+3,N)\n",
    "\n",
    "V, n_pol, k_pol, c_pol = solveGrowthBellman(zeros(N), kgrid, α, β, δ, A);"
   ]
  },
  {
   "cell_type": "code",
   "execution_count": 21,
   "metadata": {
    "ExecuteTime": {
     "end_time": "2021-05-02T13:56:05.650000-07:00",
     "start_time": "2021-05-02T20:55:50.300Z"
    }
   },
   "outputs": [
    {
     "data": {
      "image/svg+xml": [
       "<?xml version=\"1.0\" encoding=\"utf-8\"?>\n",
       "<svg xmlns=\"http://www.w3.org/2000/svg\" xmlns:xlink=\"http://www.w3.org/1999/xlink\" width=\"600\" height=\"400\" viewBox=\"0 0 2400 1600\">\n",
       "<defs>\n",
       "  <clipPath id=\"clip320\">\n",
       "    <rect x=\"0\" y=\"0\" width=\"2400\" height=\"1600\"/>\n",
       "  </clipPath>\n",
       "</defs>\n",
       "<path clip-path=\"url(#clip320)\" d=\"\n",
       "M0 1600 L2400 1600 L2400 0 L0 0  Z\n",
       "  \" fill=\"#ffffff\" fill-rule=\"evenodd\" fill-opacity=\"1\"/>\n",
       "<defs>\n",
       "  <clipPath id=\"clip321\">\n",
       "    <rect x=\"480\" y=\"0\" width=\"1681\" height=\"1600\"/>\n",
       "  </clipPath>\n",
       "</defs>\n",
       "<path clip-path=\"url(#clip320)\" d=\"\n",
       "M175.445 1423.18 L2352.76 1423.18 L2352.76 123.472 L175.445 123.472  Z\n",
       "  \" fill=\"#ffffff\" fill-rule=\"evenodd\" fill-opacity=\"1\"/>\n",
       "<defs>\n",
       "  <clipPath id=\"clip322\">\n",
       "    <rect x=\"175\" y=\"123\" width=\"2178\" height=\"1301\"/>\n",
       "  </clipPath>\n",
       "</defs>\n",
       "<polyline clip-path=\"url(#clip322)\" style=\"stroke:#000000; stroke-width:2; stroke-opacity:0.1; fill:none\" points=\"\n",
       "  323.397,1423.18 323.397,123.472 \n",
       "  \"/>\n",
       "<polyline clip-path=\"url(#clip322)\" style=\"stroke:#000000; stroke-width:2; stroke-opacity:0.1; fill:none\" points=\"\n",
       "  665.741,1423.18 665.741,123.472 \n",
       "  \"/>\n",
       "<polyline clip-path=\"url(#clip322)\" style=\"stroke:#000000; stroke-width:2; stroke-opacity:0.1; fill:none\" points=\"\n",
       "  1008.09,1423.18 1008.09,123.472 \n",
       "  \"/>\n",
       "<polyline clip-path=\"url(#clip322)\" style=\"stroke:#000000; stroke-width:2; stroke-opacity:0.1; fill:none\" points=\"\n",
       "  1350.43,1423.18 1350.43,123.472 \n",
       "  \"/>\n",
       "<polyline clip-path=\"url(#clip322)\" style=\"stroke:#000000; stroke-width:2; stroke-opacity:0.1; fill:none\" points=\"\n",
       "  1692.77,1423.18 1692.77,123.472 \n",
       "  \"/>\n",
       "<polyline clip-path=\"url(#clip322)\" style=\"stroke:#000000; stroke-width:2; stroke-opacity:0.1; fill:none\" points=\"\n",
       "  2035.12,1423.18 2035.12,123.472 \n",
       "  \"/>\n",
       "<polyline clip-path=\"url(#clip320)\" style=\"stroke:#000000; stroke-width:4; stroke-opacity:1; fill:none\" points=\"\n",
       "  175.445,1423.18 2352.76,1423.18 \n",
       "  \"/>\n",
       "<polyline clip-path=\"url(#clip320)\" style=\"stroke:#000000; stroke-width:4; stroke-opacity:1; fill:none\" points=\"\n",
       "  323.397,1423.18 323.397,1407.58 \n",
       "  \"/>\n",
       "<polyline clip-path=\"url(#clip320)\" style=\"stroke:#000000; stroke-width:4; stroke-opacity:1; fill:none\" points=\"\n",
       "  665.741,1423.18 665.741,1407.58 \n",
       "  \"/>\n",
       "<polyline clip-path=\"url(#clip320)\" style=\"stroke:#000000; stroke-width:4; stroke-opacity:1; fill:none\" points=\"\n",
       "  1008.09,1423.18 1008.09,1407.58 \n",
       "  \"/>\n",
       "<polyline clip-path=\"url(#clip320)\" style=\"stroke:#000000; stroke-width:4; stroke-opacity:1; fill:none\" points=\"\n",
       "  1350.43,1423.18 1350.43,1407.58 \n",
       "  \"/>\n",
       "<polyline clip-path=\"url(#clip320)\" style=\"stroke:#000000; stroke-width:4; stroke-opacity:1; fill:none\" points=\"\n",
       "  1692.77,1423.18 1692.77,1407.58 \n",
       "  \"/>\n",
       "<polyline clip-path=\"url(#clip320)\" style=\"stroke:#000000; stroke-width:4; stroke-opacity:1; fill:none\" points=\"\n",
       "  2035.12,1423.18 2035.12,1407.58 \n",
       "  \"/>\n",
       "<path clip-path=\"url(#clip320)\" d=\"M 0 0 M327.644 1465.22 Q331.001 1465.94 332.876 1468.2 Q334.774 1470.47 334.774 1473.81 Q334.774 1478.92 331.255 1481.72 Q327.737 1484.52 321.255 1484.52 Q319.08 1484.52 316.765 1484.08 Q314.473 1483.67 312.019 1482.81 L312.019 1478.3 Q313.964 1479.43 316.279 1480.01 Q318.593 1480.59 321.117 1480.59 Q325.515 1480.59 327.806 1478.85 Q330.121 1477.12 330.121 1473.81 Q330.121 1470.75 327.968 1469.04 Q325.839 1467.3 322.019 1467.3 L317.992 1467.3 L317.992 1463.46 L322.205 1463.46 Q325.654 1463.46 327.482 1462.09 Q329.311 1460.7 329.311 1458.11 Q329.311 1455.45 327.413 1454.04 Q325.538 1452.6 322.019 1452.6 Q320.098 1452.6 317.899 1453.02 Q315.7 1453.44 313.061 1454.31 L313.061 1450.15 Q315.723 1449.41 318.038 1449.04 Q320.376 1448.67 322.436 1448.67 Q327.76 1448.67 330.862 1451.1 Q333.964 1453.5 333.964 1457.63 Q333.964 1460.5 332.32 1462.49 Q330.677 1464.45 327.644 1465.22 Z\" fill=\"#000000\" fill-rule=\"evenodd\" fill-opacity=\"1\" /><path clip-path=\"url(#clip320)\" d=\"M 0 0 M668.75 1453.37 L656.945 1471.81 L668.75 1471.81 L668.75 1453.37 M667.524 1449.29 L673.403 1449.29 L673.403 1471.81 L678.334 1471.81 L678.334 1475.7 L673.403 1475.7 L673.403 1483.85 L668.75 1483.85 L668.75 1475.7 L653.149 1475.7 L653.149 1471.19 L667.524 1449.29 Z\" fill=\"#000000\" fill-rule=\"evenodd\" fill-opacity=\"1\" /><path clip-path=\"url(#clip320)\" d=\"M 0 0 M998.363 1449.29 L1016.72 1449.29 L1016.72 1453.23 L1002.65 1453.23 L1002.65 1461.7 Q1003.66 1461.35 1004.68 1461.19 Q1005.7 1461 1006.72 1461 Q1012.51 1461 1015.89 1464.18 Q1019.27 1467.35 1019.27 1472.76 Q1019.27 1478.34 1015.79 1481.44 Q1012.32 1484.52 1006 1484.52 Q1003.83 1484.52 1001.56 1484.15 Q999.312 1483.78 996.905 1483.04 L996.905 1478.34 Q998.988 1479.48 1001.21 1480.03 Q1003.43 1480.59 1005.91 1480.59 Q1009.91 1480.59 1012.25 1478.48 Q1014.59 1476.38 1014.59 1472.76 Q1014.59 1469.15 1012.25 1467.05 Q1009.91 1464.94 1005.91 1464.94 Q1004.03 1464.94 1002.16 1465.36 Q1000.31 1465.77 998.363 1466.65 L998.363 1449.29 Z\" fill=\"#000000\" fill-rule=\"evenodd\" fill-opacity=\"1\" /><path clip-path=\"url(#clip320)\" d=\"M 0 0 M1350.84 1464.71 Q1347.69 1464.71 1345.84 1466.86 Q1344.01 1469.01 1344.01 1472.76 Q1344.01 1476.49 1345.84 1478.67 Q1347.69 1480.82 1350.84 1480.82 Q1353.98 1480.82 1355.81 1478.67 Q1357.66 1476.49 1357.66 1472.76 Q1357.66 1469.01 1355.81 1466.86 Q1353.98 1464.71 1350.84 1464.71 M1360.12 1450.06 L1360.12 1454.31 Q1358.36 1453.48 1356.55 1453.04 Q1354.77 1452.6 1353.01 1452.6 Q1348.38 1452.6 1345.93 1455.73 Q1343.5 1458.85 1343.15 1465.17 Q1344.52 1463.16 1346.58 1462.09 Q1348.64 1461 1351.11 1461 Q1356.32 1461 1359.33 1464.18 Q1362.36 1467.32 1362.36 1472.76 Q1362.36 1478.09 1359.21 1481.31 Q1356.07 1484.52 1350.84 1484.52 Q1344.84 1484.52 1341.67 1479.94 Q1338.5 1475.33 1338.5 1466.61 Q1338.5 1458.41 1342.39 1453.55 Q1346.27 1448.67 1352.83 1448.67 Q1354.59 1448.67 1356.37 1449.01 Q1358.17 1449.36 1360.12 1450.06 Z\" fill=\"#000000\" fill-rule=\"evenodd\" fill-opacity=\"1\" /><path clip-path=\"url(#clip320)\" d=\"M 0 0 M1681.66 1449.29 L1703.89 1449.29 L1703.89 1451.28 L1691.34 1483.85 L1686.46 1483.85 L1698.26 1453.23 L1681.66 1453.23 L1681.66 1449.29 Z\" fill=\"#000000\" fill-rule=\"evenodd\" fill-opacity=\"1\" /><path clip-path=\"url(#clip320)\" d=\"M 0 0 M2035.12 1467.44 Q2031.79 1467.44 2029.86 1469.22 Q2027.97 1471 2027.97 1474.13 Q2027.97 1477.25 2029.86 1479.04 Q2031.79 1480.82 2035.12 1480.82 Q2038.45 1480.82 2040.37 1479.04 Q2042.29 1477.23 2042.29 1474.13 Q2042.29 1471 2040.37 1469.22 Q2038.48 1467.44 2035.12 1467.44 M2030.44 1465.45 Q2027.43 1464.71 2025.74 1462.65 Q2024.08 1460.59 2024.08 1457.63 Q2024.08 1453.48 2027.02 1451.07 Q2029.98 1448.67 2035.12 1448.67 Q2040.28 1448.67 2043.22 1451.07 Q2046.16 1453.48 2046.16 1457.63 Q2046.16 1460.59 2044.47 1462.65 Q2042.8 1464.71 2039.82 1465.45 Q2043.2 1466.24 2045.07 1468.53 Q2046.97 1470.82 2046.97 1474.13 Q2046.97 1479.15 2043.89 1481.84 Q2040.84 1484.52 2035.12 1484.52 Q2029.4 1484.52 2026.32 1481.84 Q2023.27 1479.15 2023.27 1474.13 Q2023.27 1470.82 2025.17 1468.53 Q2027.06 1466.24 2030.44 1465.45 M2028.73 1458.06 Q2028.73 1460.75 2030.4 1462.25 Q2032.09 1463.76 2035.12 1463.76 Q2038.13 1463.76 2039.82 1462.25 Q2041.53 1460.75 2041.53 1458.06 Q2041.53 1455.38 2039.82 1453.88 Q2038.13 1452.37 2035.12 1452.37 Q2032.09 1452.37 2030.4 1453.88 Q2028.73 1455.38 2028.73 1458.06 Z\" fill=\"#000000\" fill-rule=\"evenodd\" fill-opacity=\"1\" /><path clip-path=\"url(#clip320)\" d=\"M 0 0 M1248.28 1518.52 L1254.17 1518.52 L1254.17 1547.77 L1271.64 1532.4 L1279.12 1532.4 L1260.22 1549.07 L1279.92 1568.04 L1272.28 1568.04 L1254.17 1550.63 L1254.17 1568.04 L1248.28 1568.04 L1248.28 1518.52 Z\" fill=\"#000000\" fill-rule=\"evenodd\" fill-opacity=\"1\" /><polyline clip-path=\"url(#clip322)\" style=\"stroke:#000000; stroke-width:2; stroke-opacity:0.1; fill:none\" points=\"\n",
       "  175.445,1334.86 2352.76,1334.86 \n",
       "  \"/>\n",
       "<polyline clip-path=\"url(#clip322)\" style=\"stroke:#000000; stroke-width:2; stroke-opacity:0.1; fill:none\" points=\"\n",
       "  175.445,1130.51 2352.76,1130.51 \n",
       "  \"/>\n",
       "<polyline clip-path=\"url(#clip322)\" style=\"stroke:#000000; stroke-width:2; stroke-opacity:0.1; fill:none\" points=\"\n",
       "  175.445,926.15 2352.76,926.15 \n",
       "  \"/>\n",
       "<polyline clip-path=\"url(#clip322)\" style=\"stroke:#000000; stroke-width:2; stroke-opacity:0.1; fill:none\" points=\"\n",
       "  175.445,721.793 2352.76,721.793 \n",
       "  \"/>\n",
       "<polyline clip-path=\"url(#clip322)\" style=\"stroke:#000000; stroke-width:2; stroke-opacity:0.1; fill:none\" points=\"\n",
       "  175.445,517.437 2352.76,517.437 \n",
       "  \"/>\n",
       "<polyline clip-path=\"url(#clip322)\" style=\"stroke:#000000; stroke-width:2; stroke-opacity:0.1; fill:none\" points=\"\n",
       "  175.445,313.08 2352.76,313.08 \n",
       "  \"/>\n",
       "<polyline clip-path=\"url(#clip320)\" style=\"stroke:#000000; stroke-width:4; stroke-opacity:1; fill:none\" points=\"\n",
       "  175.445,1423.18 175.445,123.472 \n",
       "  \"/>\n",
       "<polyline clip-path=\"url(#clip320)\" style=\"stroke:#000000; stroke-width:4; stroke-opacity:1; fill:none\" points=\"\n",
       "  175.445,1334.86 201.573,1334.86 \n",
       "  \"/>\n",
       "<polyline clip-path=\"url(#clip320)\" style=\"stroke:#000000; stroke-width:4; stroke-opacity:1; fill:none\" points=\"\n",
       "  175.445,1130.51 201.573,1130.51 \n",
       "  \"/>\n",
       "<polyline clip-path=\"url(#clip320)\" style=\"stroke:#000000; stroke-width:4; stroke-opacity:1; fill:none\" points=\"\n",
       "  175.445,926.15 201.573,926.15 \n",
       "  \"/>\n",
       "<polyline clip-path=\"url(#clip320)\" style=\"stroke:#000000; stroke-width:4; stroke-opacity:1; fill:none\" points=\"\n",
       "  175.445,721.793 201.573,721.793 \n",
       "  \"/>\n",
       "<polyline clip-path=\"url(#clip320)\" style=\"stroke:#000000; stroke-width:4; stroke-opacity:1; fill:none\" points=\"\n",
       "  175.445,517.437 201.573,517.437 \n",
       "  \"/>\n",
       "<polyline clip-path=\"url(#clip320)\" style=\"stroke:#000000; stroke-width:4; stroke-opacity:1; fill:none\" points=\"\n",
       "  175.445,313.08 201.573,313.08 \n",
       "  \"/>\n",
       "<path clip-path=\"url(#clip320)\" d=\"M 0 0 M132.316 1333.51 Q135.672 1334.23 137.547 1336.49 Q139.445 1338.76 139.445 1342.1 Q139.445 1347.21 135.927 1350.01 Q132.408 1352.81 125.927 1352.81 Q123.751 1352.81 121.436 1352.37 Q119.144 1351.96 116.691 1351.1 L116.691 1346.59 Q118.635 1347.72 120.95 1348.3 Q123.265 1348.88 125.788 1348.88 Q130.186 1348.88 132.478 1347.14 Q134.792 1345.41 134.792 1342.1 Q134.792 1339.04 132.64 1337.33 Q130.51 1335.59 126.691 1335.59 L122.663 1335.59 L122.663 1331.75 L126.876 1331.75 Q130.325 1331.75 132.154 1330.38 Q133.982 1328.99 133.982 1326.4 Q133.982 1323.74 132.084 1322.33 Q130.209 1320.89 126.691 1320.89 Q124.769 1320.89 122.57 1321.31 Q120.371 1321.73 117.732 1322.61 L117.732 1318.44 Q120.394 1317.7 122.709 1317.33 Q125.047 1316.96 127.107 1316.96 Q132.431 1316.96 135.533 1319.39 Q138.635 1321.8 138.635 1325.92 Q138.635 1328.79 136.992 1330.78 Q135.348 1332.74 132.316 1333.51 Z\" fill=\"#000000\" fill-rule=\"evenodd\" fill-opacity=\"1\" /><path clip-path=\"url(#clip320)\" d=\"M 0 0 M129.862 1117.3 L118.056 1135.75 L129.862 1135.75 L129.862 1117.3 M128.635 1113.23 L134.515 1113.23 L134.515 1135.75 L139.445 1135.75 L139.445 1139.64 L134.515 1139.64 L134.515 1147.79 L129.862 1147.79 L129.862 1139.64 L114.26 1139.64 L114.26 1135.12 L128.635 1113.23 Z\" fill=\"#000000\" fill-rule=\"evenodd\" fill-opacity=\"1\" /><path clip-path=\"url(#clip320)\" d=\"M 0 0 M118.543 908.87 L136.899 908.87 L136.899 912.805 L122.825 912.805 L122.825 921.277 Q123.843 920.93 124.862 920.768 Q125.88 920.583 126.899 920.583 Q132.686 920.583 136.066 923.754 Q139.445 926.925 139.445 932.342 Q139.445 937.92 135.973 941.022 Q132.501 944.101 126.181 944.101 Q124.005 944.101 121.737 943.731 Q119.492 943.36 117.084 942.619 L117.084 937.92 Q119.168 939.055 121.39 939.61 Q123.612 940.166 126.089 940.166 Q130.093 940.166 132.431 938.059 Q134.769 935.953 134.769 932.342 Q134.769 928.731 132.431 926.624 Q130.093 924.518 126.089 924.518 Q124.214 924.518 122.339 924.934 Q120.487 925.351 118.543 926.231 L118.543 908.87 Z\" fill=\"#000000\" fill-rule=\"evenodd\" fill-opacity=\"1\" /><path clip-path=\"url(#clip320)\" d=\"M 0 0 M127.917 719.93 Q124.769 719.93 122.918 722.082 Q121.089 724.235 121.089 727.985 Q121.089 731.712 122.918 733.888 Q124.769 736.041 127.917 736.041 Q131.066 736.041 132.894 733.888 Q134.746 731.712 134.746 727.985 Q134.746 724.235 132.894 722.082 Q131.066 719.93 127.917 719.93 M137.2 705.277 L137.2 709.536 Q135.441 708.703 133.635 708.263 Q131.853 707.823 130.093 707.823 Q125.464 707.823 123.01 710.948 Q120.58 714.073 120.232 720.393 Q121.598 718.379 123.658 717.314 Q125.718 716.226 128.195 716.226 Q133.404 716.226 136.413 719.397 Q139.445 722.545 139.445 727.985 Q139.445 733.309 136.297 736.527 Q133.149 739.744 127.917 739.744 Q121.922 739.744 118.751 735.161 Q115.58 730.555 115.58 721.828 Q115.58 713.633 119.468 708.772 Q123.357 703.888 129.908 703.888 Q131.667 703.888 133.45 704.235 Q135.255 704.583 137.2 705.277 Z\" fill=\"#000000\" fill-rule=\"evenodd\" fill-opacity=\"1\" /><path clip-path=\"url(#clip320)\" d=\"M 0 0 M117.223 500.157 L139.445 500.157 L139.445 502.147 L126.899 534.717 L122.015 534.717 L133.82 504.092 L117.223 504.092 L117.223 500.157 Z\" fill=\"#000000\" fill-rule=\"evenodd\" fill-opacity=\"1\" /><path clip-path=\"url(#clip320)\" d=\"M 0 0 M127.593 313.948 Q124.26 313.948 122.339 315.73 Q120.441 317.513 120.441 320.638 Q120.441 323.763 122.339 325.545 Q124.26 327.328 127.593 327.328 Q130.927 327.328 132.848 325.545 Q134.769 323.74 134.769 320.638 Q134.769 317.513 132.848 315.73 Q130.95 313.948 127.593 313.948 M122.918 311.957 Q119.908 311.217 118.218 309.156 Q116.552 307.096 116.552 304.133 Q116.552 299.99 119.492 297.582 Q122.455 295.175 127.593 295.175 Q132.755 295.175 135.695 297.582 Q138.635 299.99 138.635 304.133 Q138.635 307.096 136.945 309.156 Q135.279 311.217 132.292 311.957 Q135.672 312.744 137.547 315.036 Q139.445 317.328 139.445 320.638 Q139.445 325.661 136.367 328.346 Q133.311 331.031 127.593 331.031 Q121.876 331.031 118.797 328.346 Q115.742 325.661 115.742 320.638 Q115.742 317.328 117.64 315.036 Q119.538 312.744 122.918 311.957 M121.205 304.573 Q121.205 307.258 122.871 308.763 Q124.561 310.268 127.593 310.268 Q130.603 310.268 132.292 308.763 Q134.005 307.258 134.005 304.573 Q134.005 301.888 132.292 300.383 Q130.603 298.879 127.593 298.879 Q124.561 298.879 122.871 300.383 Q121.205 301.888 121.205 304.573 Z\" fill=\"#000000\" fill-rule=\"evenodd\" fill-opacity=\"1\" /><path clip-path=\"url(#clip320)\" d=\"M 0 0 M14.479 795.765 L14.479 789.877 L43.7294 789.877 L28.3562 772.403 L28.3562 764.923 L45.0344 783.829 L64.0042 764.128 L64.0042 771.766 L46.5939 789.877 L64.0042 789.877 L64.0042 795.765 L14.479 795.765 Z\" fill=\"#000000\" fill-rule=\"evenodd\" fill-opacity=\"1\" /><path clip-path=\"url(#clip320)\" d=\"M 0 0 M28.3562 762.854 L16.4842 757.348 L16.4842 750.887 L28.3562 760.085 L28.3562 762.854 Z\" fill=\"#000000\" fill-rule=\"evenodd\" fill-opacity=\"1\" /><path clip-path=\"url(#clip320)\" d=\"M 0 0 M922.832 18.8205 L922.832 41.5461 L933.121 41.5461 Q938.833 41.5461 941.952 38.5889 Q945.072 35.6318 945.072 30.163 Q945.072 24.7348 941.952 21.7777 Q938.833 18.8205 933.121 18.8205 L922.832 18.8205 M914.649 12.096 L933.121 12.096 Q943.289 12.096 948.474 16.714 Q953.7 21.2916 953.7 30.163 Q953.7 39.1155 948.474 43.6931 Q943.289 48.2706 933.121 48.2706 L922.832 48.2706 L922.832 72.576 L914.649 72.576 L914.649 12.096 Z\" fill=\"#000000\" fill-rule=\"evenodd\" fill-opacity=\"1\" /><path clip-path=\"url(#clip320)\" d=\"M 0 0 M976.142 32.4315 Q970.147 32.4315 966.663 37.1306 Q963.179 41.7891 963.179 49.9314 Q963.179 58.0738 966.622 62.7728 Q970.106 67.4314 976.142 67.4314 Q982.097 67.4314 985.581 62.7323 Q989.064 58.0333 989.064 49.9314 Q989.064 41.8701 985.581 37.1711 Q982.097 32.4315 976.142 32.4315 M976.142 26.1121 Q985.864 26.1121 991.414 32.4315 Q996.964 38.7509 996.964 49.9314 Q996.964 61.0714 991.414 67.4314 Q985.864 73.7508 976.142 73.7508 Q966.379 73.7508 960.83 67.4314 Q955.32 61.0714 955.32 49.9314 Q955.32 38.7509 960.83 32.4315 Q966.379 26.1121 976.142 26.1121 Z\" fill=\"#000000\" fill-rule=\"evenodd\" fill-opacity=\"1\" /><path clip-path=\"url(#clip320)\" d=\"M 0 0 M1004.78 9.54393 L1012.24 9.54393 L1012.24 72.576 L1004.78 72.576 L1004.78 9.54393 Z\" fill=\"#000000\" fill-rule=\"evenodd\" fill-opacity=\"1\" /><path clip-path=\"url(#clip320)\" d=\"M 0 0 M1020.05 27.2059 L1027.51 27.2059 L1027.51 72.576 L1020.05 72.576 L1020.05 27.2059 M1020.05 9.54393 L1027.51 9.54393 L1027.51 18.9825 L1020.05 18.9825 L1020.05 9.54393 Z\" fill=\"#000000\" fill-rule=\"evenodd\" fill-opacity=\"1\" /><path clip-path=\"url(#clip320)\" d=\"M 0 0 M1067.98 28.9478 L1067.98 35.9153 Q1064.82 34.1734 1061.62 33.3227 Q1058.46 32.4315 1055.22 32.4315 Q1047.96 32.4315 1043.95 37.0496 Q1039.94 41.6271 1039.94 49.9314 Q1039.94 58.2358 1043.95 62.8538 Q1047.96 67.4314 1055.22 67.4314 Q1058.46 67.4314 1061.62 66.5807 Q1064.82 65.6895 1067.98 63.9476 L1067.98 70.8341 Q1064.86 72.2924 1061.49 73.0216 Q1058.17 73.7508 1054.41 73.7508 Q1044.16 73.7508 1038.12 67.3098 Q1032.09 60.8689 1032.09 49.9314 Q1032.09 38.832 1038.16 32.472 Q1044.28 26.1121 1054.89 26.1121 Q1058.33 26.1121 1061.62 26.8413 Q1064.9 27.5299 1067.98 28.9478 Z\" fill=\"#000000\" fill-rule=\"evenodd\" fill-opacity=\"1\" /><path clip-path=\"url(#clip320)\" d=\"M 0 0 M1094.67 76.7889 Q1091.51 84.8907 1088.51 87.3618 Q1085.52 89.8329 1080.49 89.8329 L1074.54 89.8329 L1074.54 83.5945 L1078.91 83.5945 Q1081.99 83.5945 1083.69 82.1361 Q1085.39 80.6778 1087.46 75.2496 L1088.8 71.8468 L1070.45 27.2059 L1078.35 27.2059 L1092.52 62.6918 L1106.7 27.2059 L1114.6 27.2059 L1094.67 76.7889 Z\" fill=\"#000000\" fill-rule=\"evenodd\" fill-opacity=\"1\" /><path clip-path=\"url(#clip320)\" d=\"M 0 0 M1149.12 12.096 L1183.87 12.096 L1183.87 18.9825 L1157.3 18.9825 L1157.3 36.8065 L1181.28 36.8065 L1181.28 43.6931 L1157.3 43.6931 L1157.3 72.576 L1149.12 72.576 L1149.12 12.096 Z\" fill=\"#000000\" fill-rule=\"evenodd\" fill-opacity=\"1\" /><path clip-path=\"url(#clip320)\" d=\"M 0 0 M1186.38 54.671 L1186.38 27.2059 L1193.84 27.2059 L1193.84 54.3874 Q1193.84 60.8284 1196.35 64.0691 Q1198.86 67.2693 1203.88 67.2693 Q1209.92 67.2693 1213.4 63.421 Q1216.93 59.5726 1216.93 52.9291 L1216.93 27.2059 L1224.38 27.2059 L1224.38 72.576 L1216.93 72.576 L1216.93 65.6084 Q1214.21 69.7404 1210.61 71.7658 Q1207.04 73.7508 1202.3 73.7508 Q1194.49 73.7508 1190.43 68.8897 Q1186.38 64.0286 1186.38 54.671 M1205.14 26.1121 L1205.14 26.1121 Z\" fill=\"#000000\" fill-rule=\"evenodd\" fill-opacity=\"1\" /><path clip-path=\"url(#clip320)\" d=\"M 0 0 M1269.91 45.1919 L1269.91 72.576 L1262.46 72.576 L1262.46 45.4349 Q1262.46 38.994 1259.95 35.7938 Q1257.44 32.5936 1252.41 32.5936 Q1246.38 32.5936 1242.89 36.4419 Q1239.41 40.2903 1239.41 46.9338 L1239.41 72.576 L1231.92 72.576 L1231.92 27.2059 L1239.41 27.2059 L1239.41 34.2544 Q1242.08 30.163 1245.69 28.1376 Q1249.34 26.1121 1254.07 26.1121 Q1261.89 26.1121 1265.9 30.9732 Q1269.91 35.7938 1269.91 45.1919 Z\" fill=\"#000000\" fill-rule=\"evenodd\" fill-opacity=\"1\" /><path clip-path=\"url(#clip320)\" d=\"M 0 0 M1310.38 28.9478 L1310.38 35.9153 Q1307.22 34.1734 1304.02 33.3227 Q1300.86 32.4315 1297.62 32.4315 Q1290.37 32.4315 1286.36 37.0496 Q1282.35 41.6271 1282.35 49.9314 Q1282.35 58.2358 1286.36 62.8538 Q1290.37 67.4314 1297.62 67.4314 Q1300.86 67.4314 1304.02 66.5807 Q1307.22 65.6895 1310.38 63.9476 L1310.38 70.8341 Q1307.26 72.2924 1303.9 73.0216 Q1300.58 73.7508 1296.81 73.7508 Q1286.56 73.7508 1280.53 67.3098 Q1274.49 60.8689 1274.49 49.9314 Q1274.49 38.832 1280.57 32.472 Q1286.68 26.1121 1297.3 26.1121 Q1300.74 26.1121 1304.02 26.8413 Q1307.3 27.5299 1310.38 28.9478 Z\" fill=\"#000000\" fill-rule=\"evenodd\" fill-opacity=\"1\" /><path clip-path=\"url(#clip320)\" d=\"M 0 0 M1325.57 14.324 L1325.57 27.2059 L1340.93 27.2059 L1340.93 32.9987 L1325.57 32.9987 L1325.57 57.6282 Q1325.57 63.1779 1327.07 64.7578 Q1328.61 66.3376 1333.27 66.3376 L1340.93 66.3376 L1340.93 72.576 L1333.27 72.576 Q1324.64 72.576 1321.36 69.3758 Q1318.08 66.1351 1318.08 57.6282 L1318.08 32.9987 L1312.61 32.9987 L1312.61 27.2059 L1318.08 27.2059 L1318.08 14.324 L1325.57 14.324 Z\" fill=\"#000000\" fill-rule=\"evenodd\" fill-opacity=\"1\" /><path clip-path=\"url(#clip320)\" d=\"M 0 0 M1348.74 27.2059 L1356.2 27.2059 L1356.2 72.576 L1348.74 72.576 L1348.74 27.2059 M1348.74 9.54393 L1356.2 9.54393 L1356.2 18.9825 L1348.74 18.9825 L1348.74 9.54393 Z\" fill=\"#000000\" fill-rule=\"evenodd\" fill-opacity=\"1\" /><path clip-path=\"url(#clip320)\" d=\"M 0 0 M1381.6 32.4315 Q1375.6 32.4315 1372.12 37.1306 Q1368.63 41.7891 1368.63 49.9314 Q1368.63 58.0738 1372.08 62.7728 Q1375.56 67.4314 1381.6 67.4314 Q1387.55 67.4314 1391.04 62.7323 Q1394.52 58.0333 1394.52 49.9314 Q1394.52 41.8701 1391.04 37.1711 Q1387.55 32.4315 1381.6 32.4315 M1381.6 26.1121 Q1391.32 26.1121 1396.87 32.4315 Q1402.42 38.7509 1402.42 49.9314 Q1402.42 61.0714 1396.87 67.4314 Q1391.32 73.7508 1381.6 73.7508 Q1371.83 73.7508 1366.28 67.4314 Q1360.78 61.0714 1360.78 49.9314 Q1360.78 38.7509 1366.28 32.4315 Q1371.83 26.1121 1381.6 26.1121 Z\" fill=\"#000000\" fill-rule=\"evenodd\" fill-opacity=\"1\" /><path clip-path=\"url(#clip320)\" d=\"M 0 0 M1447.95 45.1919 L1447.95 72.576 L1440.5 72.576 L1440.5 45.4349 Q1440.5 38.994 1437.99 35.7938 Q1435.47 32.5936 1430.45 32.5936 Q1424.42 32.5936 1420.93 36.4419 Q1417.45 40.2903 1417.45 46.9338 L1417.45 72.576 L1409.95 72.576 L1409.95 27.2059 L1417.45 27.2059 L1417.45 34.2544 Q1420.12 30.163 1423.73 28.1376 Q1427.37 26.1121 1432.11 26.1121 Q1439.93 26.1121 1443.94 30.9732 Q1447.95 35.7938 1447.95 45.1919 Z\" fill=\"#000000\" fill-rule=\"evenodd\" fill-opacity=\"1\" /><path clip-path=\"url(#clip320)\" d=\"M 0 0 M1490.65 18.8205 L1490.65 41.5461 L1500.94 41.5461 Q1506.65 41.5461 1509.77 38.5889 Q1512.89 35.6318 1512.89 30.163 Q1512.89 24.7348 1509.77 21.7777 Q1506.65 18.8205 1500.94 18.8205 L1490.65 18.8205 M1482.46 12.096 L1500.94 12.096 Q1511.1 12.096 1516.29 16.714 Q1521.52 21.2916 1521.52 30.163 Q1521.52 39.1155 1516.29 43.6931 Q1511.1 48.2706 1500.94 48.2706 L1490.65 48.2706 L1490.65 72.576 L1482.46 72.576 L1482.46 12.096 Z\" fill=\"#000000\" fill-rule=\"evenodd\" fill-opacity=\"1\" /><path clip-path=\"url(#clip320)\" d=\"M 0 0 M1529.33 9.54393 L1536.79 9.54393 L1536.79 72.576 L1529.33 72.576 L1529.33 9.54393 Z\" fill=\"#000000\" fill-rule=\"evenodd\" fill-opacity=\"1\" /><path clip-path=\"url(#clip320)\" d=\"M 0 0 M1562.19 32.4315 Q1556.19 32.4315 1552.71 37.1306 Q1549.22 41.7891 1549.22 49.9314 Q1549.22 58.0738 1552.67 62.7728 Q1556.15 67.4314 1562.19 67.4314 Q1568.14 67.4314 1571.62 62.7323 Q1575.11 58.0333 1575.11 49.9314 Q1575.11 41.8701 1571.62 37.1711 Q1568.14 32.4315 1562.19 32.4315 M1562.19 26.1121 Q1571.91 26.1121 1577.46 32.4315 Q1583.01 38.7509 1583.01 49.9314 Q1583.01 61.0714 1577.46 67.4314 Q1571.91 73.7508 1562.19 73.7508 Q1552.42 73.7508 1546.87 67.4314 Q1541.36 61.0714 1541.36 49.9314 Q1541.36 38.7509 1546.87 32.4315 Q1552.42 26.1121 1562.19 26.1121 Z\" fill=\"#000000\" fill-rule=\"evenodd\" fill-opacity=\"1\" /><path clip-path=\"url(#clip320)\" d=\"M 0 0 M1598.2 14.324 L1598.2 27.2059 L1613.55 27.2059 L1613.55 32.9987 L1598.2 32.9987 L1598.2 57.6282 Q1598.2 63.1779 1599.7 64.7578 Q1601.24 66.3376 1605.9 66.3376 L1613.55 66.3376 L1613.55 72.576 L1605.9 72.576 Q1597.27 72.576 1593.99 69.3758 Q1590.7 66.1351 1590.7 57.6282 L1590.7 32.9987 L1585.24 32.9987 L1585.24 27.2059 L1590.7 27.2059 L1590.7 14.324 L1598.2 14.324 Z\" fill=\"#000000\" fill-rule=\"evenodd\" fill-opacity=\"1\" /><polyline clip-path=\"url(#clip322)\" style=\"stroke:#000000; stroke-width:4; stroke-opacity:1; fill:none\" points=\"\n",
       "  237.067,1386.4 247.389,1380.23 257.711,1374.07 268.033,1367.91 278.355,1361.75 288.677,1355.59 298.999,1349.43 309.321,1343.27 319.643,1337.1 329.965,1330.94 \n",
       "  340.287,1324.78 350.609,1318.62 360.931,1312.46 371.252,1306.3 381.574,1300.13 391.896,1293.97 402.218,1287.81 412.54,1281.65 422.862,1275.49 433.184,1269.33 \n",
       "  443.506,1263.17 453.828,1257 464.15,1250.84 474.472,1244.68 484.794,1238.52 495.116,1232.36 505.438,1226.2 515.76,1220.04 526.082,1213.87 536.404,1207.71 \n",
       "  546.726,1201.55 557.047,1195.39 567.369,1189.23 577.691,1183.07 588.013,1176.9 598.335,1170.74 608.657,1164.58 618.979,1158.42 629.301,1152.26 639.623,1146.1 \n",
       "  649.945,1139.94 660.267,1133.77 670.589,1127.61 680.911,1121.45 691.233,1115.29 701.555,1109.13 711.877,1102.97 722.199,1096.8 732.52,1090.64 742.842,1084.48 \n",
       "  753.164,1078.32 763.486,1072.16 773.808,1066 784.13,1059.84 794.452,1053.67 804.774,1047.51 815.096,1041.35 825.418,1035.19 835.74,1029.03 846.062,1022.87 \n",
       "  856.384,1016.71 866.706,1010.54 877.028,1004.38 887.35,998.221 897.672,992.059 907.994,985.898 918.315,979.736 928.637,973.575 938.959,967.413 949.281,961.252 \n",
       "  959.603,955.09 969.925,948.929 980.247,942.767 990.569,936.606 1000.89,930.444 1011.21,924.283 1021.53,918.121 1031.86,911.96 1042.18,905.798 1052.5,899.637 \n",
       "  1062.82,893.475 1073.14,887.314 1083.47,881.152 1093.79,874.991 1104.11,868.829 1114.43,862.668 1124.75,856.506 1135.08,850.345 1145.4,844.183 1155.72,838.022 \n",
       "  1166.04,831.86 1176.36,825.699 1186.69,819.537 1197.01,813.376 1207.33,807.214 1217.65,801.053 1227.97,794.891 1238.3,788.73 1248.62,782.568 1258.94,776.407 \n",
       "  1269.26,770.245 1279.58,764.084 1289.91,757.922 1300.23,751.761 1310.55,745.599 1320.87,739.438 1331.19,733.276 1341.52,727.115 1351.84,720.953 1362.16,714.792 \n",
       "  1372.48,708.63 1382.8,702.469 1393.12,696.307 1403.45,690.146 1413.77,683.984 1424.09,677.823 1434.41,671.661 1444.73,665.5 1455.06,659.338 1465.38,653.177 \n",
       "  1475.7,647.015 1486.02,640.854 1496.34,634.692 1506.67,628.531 1516.99,622.369 1527.31,616.208 1537.63,610.046 1547.95,603.885 1558.28,597.723 1568.6,591.562 \n",
       "  1578.92,585.4 1589.24,579.239 1599.56,573.077 1609.89,566.916 1620.21,560.754 1630.53,554.593 1640.85,548.431 1651.17,542.27 1661.5,536.108 1671.82,529.947 \n",
       "  1682.14,523.785 1692.46,517.624 1702.78,511.462 1713.11,505.301 1723.43,499.139 1733.75,492.978 1744.07,486.816 1754.39,480.655 1764.71,474.493 1775.04,468.332 \n",
       "  1785.36,462.17 1795.68,456.009 1806,449.847 1816.32,443.686 1826.65,437.524 1836.97,431.362 1847.29,425.201 1857.61,419.039 1867.93,412.878 1878.26,406.716 \n",
       "  1888.58,400.555 1898.9,394.393 1909.22,388.232 1919.54,382.07 1929.87,375.909 1940.19,369.747 1950.51,363.586 1960.83,357.424 1971.15,351.263 1981.48,345.101 \n",
       "  1991.8,338.94 2002.12,332.778 2012.44,326.617 2022.76,320.455 2033.09,314.294 2043.41,308.132 2053.73,301.971 2064.05,295.809 2074.37,289.648 2084.7,283.486 \n",
       "  2095.02,277.325 2105.34,271.163 2115.66,265.002 2125.98,258.84 2136.3,252.679 2146.63,246.517 2156.95,240.356 2167.27,234.194 2177.59,228.033 2187.91,221.871 \n",
       "  2198.24,215.71 2208.56,209.548 2218.88,203.387 2229.2,197.225 2239.52,191.064 2249.85,184.902 2260.17,178.741 2270.49,172.579 2280.81,166.418 2291.13,160.256 \n",
       "  \n",
       "  \"/>\n",
       "<polyline clip-path=\"url(#clip322)\" style=\"stroke:#808080; stroke-width:12; stroke-opacity:1; fill:none\" points=\"\n",
       "  237.067,773.326 247.389,773.326 257.711,773.326 268.033,773.326 278.355,773.326 288.677,773.326 298.999,773.326 309.321,773.326 319.643,773.326 329.965,773.326 \n",
       "  340.287,773.326 350.609,773.326 360.931,773.326 371.252,773.326 381.574,773.326 391.896,773.326 402.218,773.326 412.54,773.326 422.862,773.326 433.184,773.326 \n",
       "  443.506,773.326 453.828,773.326 464.15,773.326 474.472,773.326 484.794,773.326 495.116,773.326 505.438,773.326 515.76,773.326 526.082,773.326 536.404,773.326 \n",
       "  546.726,773.326 557.047,773.326 567.369,773.326 577.691,773.326 588.013,773.326 598.335,773.326 608.657,773.326 618.979,773.326 629.301,773.326 639.623,773.326 \n",
       "  649.945,773.326 660.267,773.326 670.589,773.326 680.911,773.326 691.233,773.326 701.555,773.326 711.877,773.326 722.199,773.326 732.52,773.326 742.842,773.326 \n",
       "  753.164,773.326 763.486,773.326 773.808,773.326 784.13,773.326 794.452,773.326 804.774,773.326 815.096,773.326 825.418,773.326 835.74,773.326 846.062,773.326 \n",
       "  856.384,773.326 866.706,773.326 877.028,773.326 887.35,773.326 897.672,773.326 907.994,773.326 918.315,773.326 928.637,773.326 938.959,773.326 949.281,773.326 \n",
       "  959.603,773.326 969.925,773.326 980.247,773.326 990.569,773.326 1000.89,773.326 1011.21,773.326 1021.53,773.326 1031.86,773.326 1042.18,773.326 1052.5,773.326 \n",
       "  1062.82,773.326 1073.14,773.326 1083.47,773.326 1093.79,773.326 1104.11,773.326 1114.43,773.326 1124.75,773.326 1135.08,773.326 1145.4,773.326 1155.72,773.326 \n",
       "  1166.04,773.326 1176.36,773.326 1186.69,773.326 1197.01,773.326 1207.33,773.326 1217.65,773.326 1227.97,773.326 1238.3,773.326 1248.62,773.326 1258.94,773.326 \n",
       "  1269.26,773.326 1279.58,773.326 1289.91,773.326 1300.23,773.326 1310.55,773.326 1320.87,773.326 1331.19,773.326 1341.52,773.326 1351.84,773.326 1362.16,773.326 \n",
       "  1372.48,773.326 1382.8,773.326 1393.12,773.326 1403.45,773.326 1413.77,773.326 1424.09,773.326 1434.41,773.326 1444.73,773.326 1455.06,773.326 1465.38,773.326 \n",
       "  1475.7,773.326 1486.02,773.326 1496.34,773.326 1506.67,773.326 1516.99,773.326 1527.31,773.326 1537.63,773.326 1547.95,773.326 1558.28,773.326 1568.6,773.326 \n",
       "  1578.92,773.326 1589.24,773.326 1599.56,773.326 1609.89,773.326 1620.21,773.326 1630.53,773.326 1640.85,773.326 1651.17,773.326 1661.5,773.326 1671.82,773.326 \n",
       "  1682.14,773.326 1692.46,773.326 1702.78,773.326 1713.11,773.326 1723.43,773.326 1733.75,773.326 1744.07,773.326 1754.39,773.326 1764.71,773.326 1775.04,773.326 \n",
       "  1785.36,773.326 1795.68,773.326 1806,773.326 1816.32,773.326 1826.65,773.326 1836.97,773.326 1847.29,773.326 1857.61,773.326 1867.93,773.326 1878.26,773.326 \n",
       "  1888.58,773.326 1898.9,773.326 1909.22,773.326 1919.54,773.326 1929.87,773.326 1940.19,773.326 1950.51,773.326 1960.83,773.326 1971.15,773.326 1981.48,773.326 \n",
       "  1991.8,773.326 2002.12,773.326 2012.44,773.326 2022.76,773.326 2033.09,773.326 2043.41,773.326 2053.73,773.326 2064.05,773.326 2074.37,773.326 2084.7,773.326 \n",
       "  2095.02,773.326 2105.34,773.326 2115.66,773.326 2125.98,773.326 2136.3,773.326 2146.63,773.326 2156.95,773.326 2167.27,773.326 2177.59,773.326 2187.91,773.326 \n",
       "  2198.24,773.326 2208.56,773.326 2218.88,773.326 2229.2,773.326 2239.52,773.326 2249.85,773.326 2260.17,773.326 2270.49,773.326 2280.81,773.326 2291.13,773.326 \n",
       "  \n",
       "  \"/>\n",
       "<polyline clip-path=\"url(#clip322)\" style=\"stroke:#808080; stroke-width:12; stroke-opacity:1; fill:none\" points=\"\n",
       "  1264.1,2722.89 1264.1,-1176.24 \n",
       "  \"/>\n",
       "<polyline clip-path=\"url(#clip322)\" style=\"stroke:#ff0000; stroke-width:12; stroke-opacity:1; fill:none\" points=\"\n",
       "  237.067,1281.65 247.389,1275.49 257.711,1269.33 268.033,1263.17 278.355,1257 288.677,1250.84 298.999,1244.68 309.321,1238.52 319.643,1232.36 329.965,1226.2 \n",
       "  340.287,1220.04 350.609,1213.87 360.931,1207.71 371.252,1201.55 381.574,1195.39 391.896,1189.23 402.218,1183.07 412.54,1176.9 422.862,1170.74 433.184,1164.58 \n",
       "  443.506,1158.42 453.828,1158.42 464.15,1152.26 474.472,1146.1 484.794,1139.94 495.116,1133.77 505.438,1127.61 515.76,1121.45 526.082,1115.29 536.404,1109.13 \n",
       "  546.726,1102.97 557.047,1096.8 567.369,1090.64 577.691,1084.48 588.013,1078.32 598.335,1072.16 608.657,1066 618.979,1059.84 629.301,1053.67 639.623,1047.51 \n",
       "  649.945,1041.35 660.267,1035.19 670.589,1029.03 680.911,1022.87 691.233,1016.71 701.555,1010.54 711.877,1004.38 722.199,998.221 732.52,992.059 742.842,985.898 \n",
       "  753.164,979.736 763.486,973.575 773.808,973.575 784.13,967.413 794.452,961.252 804.774,955.09 815.096,948.929 825.418,942.767 835.74,936.606 846.062,930.444 \n",
       "  856.384,924.283 866.706,918.121 877.028,911.96 887.35,905.798 897.672,899.637 907.994,893.475 918.315,887.314 928.637,881.152 938.959,874.991 949.281,868.829 \n",
       "  959.603,862.668 969.925,856.506 980.247,850.345 990.569,844.183 1000.89,838.022 1011.21,838.022 1021.53,831.86 1031.86,825.699 1042.18,819.537 1052.5,813.376 \n",
       "  1062.82,807.214 1073.14,801.053 1083.47,794.891 1093.79,788.73 1104.11,782.568 1114.43,776.407 1124.75,770.245 1135.08,764.084 1145.4,757.922 1155.72,751.761 \n",
       "  1166.04,745.599 1176.36,739.438 1186.69,733.276 1197.01,727.115 1207.33,720.953 1217.65,714.792 1227.97,714.792 1238.3,708.63 1248.62,702.469 1258.94,696.307 \n",
       "  1269.26,690.146 1279.58,683.984 1289.91,677.823 1300.23,671.661 1310.55,665.5 1320.87,659.338 1331.19,653.177 1341.52,647.015 1351.84,640.854 1362.16,634.692 \n",
       "  1372.48,628.531 1382.8,628.531 1393.12,622.369 1403.45,616.208 1413.77,610.046 1424.09,603.885 1434.41,597.723 1444.73,591.562 1455.06,585.4 1465.38,579.239 \n",
       "  1475.7,573.077 1486.02,566.916 1496.34,560.754 1506.67,554.593 1516.99,548.431 1527.31,548.431 1537.63,542.27 1547.95,536.108 1558.28,529.947 1568.6,523.785 \n",
       "  1578.92,517.624 1589.24,511.462 1599.56,505.301 1609.89,499.139 1620.21,492.978 1630.53,486.816 1640.85,480.655 1651.17,474.493 1661.5,474.493 1671.82,468.332 \n",
       "  1682.14,462.17 1692.46,456.009 1702.78,449.847 1713.11,443.686 1723.43,437.524 1733.75,431.362 1744.07,425.201 1754.39,419.039 1764.71,412.878 1775.04,406.716 \n",
       "  1785.36,406.716 1795.68,400.555 1806,394.393 1816.32,388.232 1826.65,382.07 1836.97,375.909 1847.29,369.747 1857.61,363.586 1867.93,357.424 1878.26,351.263 \n",
       "  1888.58,345.101 1898.9,345.101 1909.22,338.94 1919.54,332.778 1929.87,326.617 1940.19,320.455 1950.51,314.294 1960.83,308.132 1971.15,301.971 1981.48,295.809 \n",
       "  1991.8,289.648 2002.12,289.648 2012.44,283.486 2022.76,277.325 2033.09,271.163 2043.41,265.002 2053.73,258.84 2064.05,252.679 2074.37,252.679 2084.7,246.517 \n",
       "  2095.02,240.356 2105.34,234.194 2115.66,228.033 2125.98,221.871 2136.3,221.871 2146.63,215.71 2156.95,209.548 2167.27,203.387 2177.59,197.225 2187.91,197.225 \n",
       "  2198.24,191.064 2208.56,184.902 2218.88,178.741 2229.2,178.741 2239.52,172.579 2249.85,166.418 2260.17,166.418 2270.49,160.256 2280.81,160.256 2291.13,160.256 \n",
       "  \n",
       "  \"/>\n",
       "<path clip-path=\"url(#clip320)\" d=\"\n",
       "M1587.84 469.196 L2280.18 469.196 L2280.18 166.796 L1587.84 166.796  Z\n",
       "  \" fill=\"#ffffff\" fill-rule=\"evenodd\" fill-opacity=\"1\"/>\n",
       "<polyline clip-path=\"url(#clip320)\" style=\"stroke:#000000; stroke-width:4; stroke-opacity:1; fill:none\" points=\"\n",
       "  1587.84,469.196 2280.18,469.196 2280.18,166.796 1587.84,166.796 1587.84,469.196 \n",
       "  \"/>\n",
       "<polyline clip-path=\"url(#clip320)\" style=\"stroke:#000000; stroke-width:4; stroke-opacity:1; fill:none\" points=\"\n",
       "  1612.03,227.276 1757.19,227.276 \n",
       "  \"/>\n",
       "<path clip-path=\"url(#clip320)\" d=\"M 0 0 M1786.06 213.838 L1786.06 240.713 L1791.7 240.713 Q1798.86 240.713 1802.17 237.472 Q1805.5 234.232 1805.5 227.241 Q1805.5 220.297 1802.17 217.079 Q1798.86 213.838 1791.7 213.838 L1786.06 213.838 M1781.38 209.996 L1790.99 209.996 Q1801.03 209.996 1805.73 214.186 Q1810.43 218.352 1810.43 227.241 Q1810.43 236.176 1805.71 240.366 Q1800.99 244.556 1790.99 244.556 L1781.38 244.556 L1781.38 209.996 Z\" fill=\"#000000\" fill-rule=\"evenodd\" fill-opacity=\"1\" /><path clip-path=\"url(#clip320)\" d=\"M 0 0 M1814.9 218.63 L1819.16 218.63 L1819.16 244.556 L1814.9 244.556 L1814.9 218.63 M1814.9 208.537 L1819.16 208.537 L1819.16 213.931 L1814.9 213.931 L1814.9 208.537 Z\" fill=\"#000000\" fill-rule=\"evenodd\" fill-opacity=\"1\" /><path clip-path=\"url(#clip320)\" d=\"M 0 0 M1835.41 231.523 Q1830.25 231.523 1828.25 232.704 Q1826.26 233.884 1826.26 236.732 Q1826.26 239 1827.75 240.343 Q1829.25 241.662 1831.82 241.662 Q1835.36 241.662 1837.49 239.162 Q1839.64 236.639 1839.64 232.472 L1839.64 231.523 L1835.41 231.523 M1843.9 229.764 L1843.9 244.556 L1839.64 244.556 L1839.64 240.621 Q1838.19 242.982 1836.01 244.116 Q1833.83 245.227 1830.69 245.227 Q1826.7 245.227 1824.34 243.005 Q1822 240.759 1822 237.009 Q1822 232.634 1824.92 230.412 Q1827.86 228.19 1833.67 228.19 L1839.64 228.19 L1839.64 227.773 Q1839.64 224.834 1837.7 223.236 Q1835.78 221.616 1832.28 221.616 Q1830.06 221.616 1827.95 222.148 Q1825.85 222.681 1823.9 223.746 L1823.9 219.81 Q1826.24 218.908 1828.44 218.468 Q1830.64 218.005 1832.72 218.005 Q1838.35 218.005 1841.12 220.922 Q1843.9 223.838 1843.9 229.764 Z\" fill=\"#000000\" fill-rule=\"evenodd\" fill-opacity=\"1\" /><path clip-path=\"url(#clip320)\" d=\"M 0 0 M1865.43 231.292 Q1865.43 226.662 1863.51 224.116 Q1861.61 221.57 1858.16 221.57 Q1854.74 221.57 1852.81 224.116 Q1850.92 226.662 1850.92 231.292 Q1850.92 235.898 1852.81 238.445 Q1854.74 240.991 1858.16 240.991 Q1861.61 240.991 1863.51 238.445 Q1865.43 235.898 1865.43 231.292 M1869.69 241.338 Q1869.69 247.958 1866.75 251.176 Q1863.81 254.417 1857.75 254.417 Q1855.5 254.417 1853.51 254.07 Q1851.52 253.745 1849.64 253.051 L1849.64 248.908 Q1851.52 249.926 1853.35 250.412 Q1855.18 250.898 1857.07 250.898 Q1861.26 250.898 1863.35 248.699 Q1865.43 246.523 1865.43 242.102 L1865.43 239.996 Q1864.11 242.287 1862.05 243.421 Q1859.99 244.556 1857.12 244.556 Q1852.35 244.556 1849.44 240.921 Q1846.52 237.287 1846.52 231.292 Q1846.52 225.273 1849.44 221.639 Q1852.35 218.005 1857.12 218.005 Q1859.99 218.005 1862.05 219.139 Q1864.11 220.273 1865.43 222.565 L1865.43 218.63 L1869.69 218.63 L1869.69 241.338 Z\" fill=\"#000000\" fill-rule=\"evenodd\" fill-opacity=\"1\" /><path clip-path=\"url(#clip320)\" d=\"M 0 0 M1884.2 221.616 Q1880.78 221.616 1878.79 224.301 Q1876.8 226.963 1876.8 231.616 Q1876.8 236.269 1878.76 238.954 Q1880.75 241.616 1884.2 241.616 Q1887.61 241.616 1889.6 238.931 Q1891.59 236.246 1891.59 231.616 Q1891.59 227.01 1889.6 224.324 Q1887.61 221.616 1884.2 221.616 M1884.2 218.005 Q1889.76 218.005 1892.93 221.616 Q1896.1 225.227 1896.1 231.616 Q1896.1 237.982 1892.93 241.616 Q1889.76 245.227 1884.2 245.227 Q1878.62 245.227 1875.45 241.616 Q1872.31 237.982 1872.31 231.616 Q1872.31 225.227 1875.45 221.616 Q1878.62 218.005 1884.2 218.005 Z\" fill=\"#000000\" fill-rule=\"evenodd\" fill-opacity=\"1\" /><path clip-path=\"url(#clip320)\" d=\"M 0 0 M1922.12 228.908 L1922.12 244.556 L1917.86 244.556 L1917.86 229.047 Q1917.86 225.366 1916.43 223.537 Q1914.99 221.709 1912.12 221.709 Q1908.67 221.709 1906.68 223.908 Q1904.69 226.107 1904.69 229.903 L1904.69 244.556 L1900.41 244.556 L1900.41 218.63 L1904.69 218.63 L1904.69 222.658 Q1906.22 220.32 1908.28 219.162 Q1910.36 218.005 1913.07 218.005 Q1917.54 218.005 1919.83 220.783 Q1922.12 223.537 1922.12 228.908 Z\" fill=\"#000000\" fill-rule=\"evenodd\" fill-opacity=\"1\" /><path clip-path=\"url(#clip320)\" d=\"M 0 0 M1938.37 231.523 Q1933.21 231.523 1931.22 232.704 Q1929.23 233.884 1929.23 236.732 Q1929.23 239 1930.71 240.343 Q1932.21 241.662 1934.78 241.662 Q1938.32 241.662 1940.45 239.162 Q1942.61 236.639 1942.61 232.472 L1942.61 231.523 L1938.37 231.523 M1946.87 229.764 L1946.87 244.556 L1942.61 244.556 L1942.61 240.621 Q1941.15 242.982 1938.97 244.116 Q1936.8 245.227 1933.65 245.227 Q1929.67 245.227 1927.31 243.005 Q1924.97 240.759 1924.97 237.009 Q1924.97 232.634 1927.88 230.412 Q1930.82 228.19 1936.63 228.19 L1942.61 228.19 L1942.61 227.773 Q1942.61 224.834 1940.66 223.236 Q1938.74 221.616 1935.24 221.616 Q1933.02 221.616 1930.92 222.148 Q1928.81 222.681 1926.87 223.746 L1926.87 219.81 Q1929.2 218.908 1931.4 218.468 Q1933.6 218.005 1935.68 218.005 Q1941.31 218.005 1944.09 220.922 Q1946.87 223.838 1946.87 229.764 Z\" fill=\"#000000\" fill-rule=\"evenodd\" fill-opacity=\"1\" /><path clip-path=\"url(#clip320)\" d=\"M 0 0 M1951.33 208.537 L1955.59 208.537 L1955.59 244.556 L1951.33 244.556 L1951.33 208.537 Z\" fill=\"#000000\" fill-rule=\"evenodd\" fill-opacity=\"1\" /><polyline clip-path=\"url(#clip320)\" style=\"stroke:#808080; stroke-width:4; stroke-opacity:1; fill:none\" points=\"\n",
       "  1612.03,287.756 1757.19,287.756 \n",
       "  \"/>\n",
       "<path clip-path=\"url(#clip320)\" d=\"M 0 0 M1781.38 269.017 L1785.66 269.017 L1785.66 290.29 L1798.37 279.11 L1803.81 279.11 L1790.06 291.239 L1804.39 305.036 L1798.83 305.036 L1785.66 292.374 L1785.66 305.036 L1781.38 305.036 L1781.38 269.017 Z\" fill=\"#000000\" fill-rule=\"evenodd\" fill-opacity=\"1\" /><path clip-path=\"url(#clip320)\" d=\"M 0 0 M1785.71 269.712 L1799.55 269.712 L1799.55 273.138 L1785.71 273.138 L1785.71 269.712 Z\" fill=\"#000000\" fill-rule=\"evenodd\" fill-opacity=\"1\" /><polyline clip-path=\"url(#clip320)\" style=\"stroke:#808080; stroke-width:4; stroke-opacity:1; fill:none\" points=\"\n",
       "  1612.03,348.236 1757.19,348.236 \n",
       "  \"/>\n",
       "<path clip-path=\"url(#clip320)\" d=\"M 0 0 M1781.38 329.497 L1785.66 329.497 L1785.66 350.77 L1798.37 339.59 L1803.81 339.59 L1790.06 351.719 L1804.39 365.516 L1798.83 365.516 L1785.66 352.854 L1785.66 365.516 L1781.38 365.516 L1781.38 329.497 Z\" fill=\"#000000\" fill-rule=\"evenodd\" fill-opacity=\"1\" /><path clip-path=\"url(#clip320)\" d=\"M 0 0 M1785.71 330.192 L1799.55 330.192 L1799.55 333.618 L1785.71 333.618 L1785.71 330.192 Z\" fill=\"#000000\" fill-rule=\"evenodd\" fill-opacity=\"1\" /><polyline clip-path=\"url(#clip320)\" style=\"stroke:#ff0000; stroke-width:4; stroke-opacity:1; fill:none\" points=\"\n",
       "  1612.03,408.716 1757.19,408.716 \n",
       "  \"/>\n",
       "<path clip-path=\"url(#clip320)\" d=\"M 0 0 M1786.06 395.278 L1786.06 408.264 L1791.94 408.264 Q1795.2 408.264 1796.98 406.575 Q1798.76 404.885 1798.76 401.76 Q1798.76 398.658 1796.98 396.968 Q1795.2 395.278 1791.94 395.278 L1786.06 395.278 M1781.38 391.436 L1791.94 391.436 Q1797.75 391.436 1800.71 394.075 Q1803.69 396.69 1803.69 401.76 Q1803.69 406.875 1800.71 409.491 Q1797.75 412.107 1791.94 412.107 L1786.06 412.107 L1786.06 425.996 L1781.38 425.996 L1781.38 391.436 Z\" fill=\"#000000\" fill-rule=\"evenodd\" fill-opacity=\"1\" /><path clip-path=\"url(#clip320)\" d=\"M 0 0 M1816.52 403.056 Q1813.09 403.056 1811.1 405.741 Q1809.11 408.403 1809.11 413.056 Q1809.11 417.709 1811.08 420.394 Q1813.07 423.056 1816.52 423.056 Q1819.92 423.056 1821.91 420.371 Q1823.9 417.686 1823.9 413.056 Q1823.9 408.45 1821.91 405.764 Q1819.92 403.056 1816.52 403.056 M1816.52 399.445 Q1822.07 399.445 1825.25 403.056 Q1828.42 406.667 1828.42 413.056 Q1828.42 419.422 1825.25 423.056 Q1822.07 426.667 1816.52 426.667 Q1810.94 426.667 1807.77 423.056 Q1804.62 419.422 1804.62 413.056 Q1804.62 406.667 1807.77 403.056 Q1810.94 399.445 1816.52 399.445 Z\" fill=\"#000000\" fill-rule=\"evenodd\" fill-opacity=\"1\" /><path clip-path=\"url(#clip320)\" d=\"M 0 0 M1832.88 389.977 L1837.14 389.977 L1837.14 425.996 L1832.88 425.996 L1832.88 389.977 Z\" fill=\"#000000\" fill-rule=\"evenodd\" fill-opacity=\"1\" /><path clip-path=\"url(#clip320)\" d=\"M 0 0 M1841.61 400.07 L1845.87 400.07 L1845.87 425.996 L1841.61 425.996 L1841.61 400.07 M1841.61 389.977 L1845.87 389.977 L1845.87 395.371 L1841.61 395.371 L1841.61 389.977 Z\" fill=\"#000000\" fill-rule=\"evenodd\" fill-opacity=\"1\" /><path clip-path=\"url(#clip320)\" d=\"M 0 0 M1869 401.065 L1869 405.047 Q1867.19 404.051 1865.36 403.565 Q1863.56 403.056 1861.7 403.056 Q1857.56 403.056 1855.27 405.695 Q1852.98 408.311 1852.98 413.056 Q1852.98 417.801 1855.27 420.44 Q1857.56 423.056 1861.7 423.056 Q1863.56 423.056 1865.36 422.57 Q1867.19 422.061 1869 421.065 L1869 425 Q1867.21 425.834 1865.29 426.25 Q1863.39 426.667 1861.24 426.667 Q1855.38 426.667 1851.94 422.986 Q1848.49 419.306 1848.49 413.056 Q1848.49 406.713 1851.96 403.079 Q1855.45 399.445 1861.52 399.445 Q1863.49 399.445 1865.36 399.862 Q1867.24 400.255 1869 401.065 Z\" fill=\"#000000\" fill-rule=\"evenodd\" fill-opacity=\"1\" /><path clip-path=\"url(#clip320)\" d=\"M 0 0 M1884.25 428.403 Q1882.44 433.033 1880.73 434.445 Q1879.02 435.857 1876.15 435.857 L1872.75 435.857 L1872.75 432.292 L1875.25 432.292 Q1877 432.292 1877.98 431.459 Q1878.95 430.625 1880.13 427.523 L1880.89 425.579 L1870.41 400.07 L1874.92 400.07 L1883.02 420.348 L1891.12 400.07 L1895.64 400.07 L1884.25 428.403 Z\" fill=\"#000000\" fill-rule=\"evenodd\" fill-opacity=\"1\" /><path clip-path=\"url(#clip320)\" d=\"M 0 0 M1915.36 391.436 L1935.22 391.436 L1935.22 395.371 L1920.04 395.371 L1920.04 405.556 L1933.74 405.556 L1933.74 409.491 L1920.04 409.491 L1920.04 425.996 L1915.36 425.996 L1915.36 391.436 Z\" fill=\"#000000\" fill-rule=\"evenodd\" fill-opacity=\"1\" /><path clip-path=\"url(#clip320)\" d=\"M 0 0 M1936.66 415.764 L1936.66 400.07 L1940.92 400.07 L1940.92 415.602 Q1940.92 419.283 1942.35 421.135 Q1943.79 422.963 1946.66 422.963 Q1950.11 422.963 1952.1 420.764 Q1954.11 418.565 1954.11 414.769 L1954.11 400.07 L1958.37 400.07 L1958.37 425.996 L1954.11 425.996 L1954.11 422.014 Q1952.56 424.375 1950.5 425.533 Q1948.46 426.667 1945.75 426.667 Q1941.29 426.667 1938.97 423.889 Q1936.66 421.111 1936.66 415.764 M1947.37 399.445 L1947.37 399.445 Z\" fill=\"#000000\" fill-rule=\"evenodd\" fill-opacity=\"1\" /><path clip-path=\"url(#clip320)\" d=\"M 0 0 M1984.39 410.348 L1984.39 425.996 L1980.13 425.996 L1980.13 410.487 Q1980.13 406.806 1978.69 404.977 Q1977.26 403.149 1974.39 403.149 Q1970.94 403.149 1968.95 405.348 Q1966.96 407.547 1966.96 411.343 L1966.96 425.996 L1962.68 425.996 L1962.68 400.07 L1966.96 400.07 L1966.96 404.098 Q1968.49 401.76 1970.55 400.602 Q1972.63 399.445 1975.34 399.445 Q1979.8 399.445 1982.1 402.223 Q1984.39 404.977 1984.39 410.348 Z\" fill=\"#000000\" fill-rule=\"evenodd\" fill-opacity=\"1\" /><path clip-path=\"url(#clip320)\" d=\"M 0 0 M2007.51 401.065 L2007.51 405.047 Q2005.71 404.051 2003.88 403.565 Q2002.07 403.056 2000.22 403.056 Q1996.08 403.056 1993.79 405.695 Q1991.49 408.311 1991.49 413.056 Q1991.49 417.801 1993.79 420.44 Q1996.08 423.056 2000.22 423.056 Q2002.07 423.056 2003.88 422.57 Q2005.71 422.061 2007.51 421.065 L2007.51 425 Q2005.73 425.834 2003.81 426.25 Q2001.91 426.667 1999.76 426.667 Q1993.9 426.667 1990.45 422.986 Q1987 419.306 1987 413.056 Q1987 406.713 1990.48 403.079 Q1993.97 399.445 2000.04 399.445 Q2002 399.445 2003.88 399.862 Q2005.75 400.255 2007.51 401.065 Z\" fill=\"#000000\" fill-rule=\"evenodd\" fill-opacity=\"1\" /><path clip-path=\"url(#clip320)\" d=\"M 0 0 M2016.19 392.709 L2016.19 400.07 L2024.97 400.07 L2024.97 403.38 L2016.19 403.38 L2016.19 417.454 Q2016.19 420.625 2017.05 421.528 Q2017.93 422.431 2020.59 422.431 L2024.97 422.431 L2024.97 425.996 L2020.59 425.996 Q2015.66 425.996 2013.79 424.167 Q2011.91 422.315 2011.91 417.454 L2011.91 403.38 L2008.79 403.38 L2008.79 400.07 L2011.91 400.07 L2011.91 392.709 L2016.19 392.709 Z\" fill=\"#000000\" fill-rule=\"evenodd\" fill-opacity=\"1\" /><path clip-path=\"url(#clip320)\" d=\"M 0 0 M2029.43 400.07 L2033.69 400.07 L2033.69 425.996 L2029.43 425.996 L2029.43 400.07 M2029.43 389.977 L2033.69 389.977 L2033.69 395.371 L2029.43 395.371 L2029.43 389.977 Z\" fill=\"#000000\" fill-rule=\"evenodd\" fill-opacity=\"1\" /><path clip-path=\"url(#clip320)\" d=\"M 0 0 M2048.21 403.056 Q2044.78 403.056 2042.79 405.741 Q2040.8 408.403 2040.8 413.056 Q2040.8 417.709 2042.77 420.394 Q2044.76 423.056 2048.21 423.056 Q2051.61 423.056 2053.6 420.371 Q2055.59 417.686 2055.59 413.056 Q2055.59 408.45 2053.6 405.764 Q2051.61 403.056 2048.21 403.056 M2048.21 399.445 Q2053.76 399.445 2056.93 403.056 Q2060.11 406.667 2060.11 413.056 Q2060.11 419.422 2056.93 423.056 Q2053.76 426.667 2048.21 426.667 Q2042.63 426.667 2039.46 423.056 Q2036.31 419.422 2036.31 413.056 Q2036.31 406.667 2039.46 403.056 Q2042.63 399.445 2048.21 399.445 Z\" fill=\"#000000\" fill-rule=\"evenodd\" fill-opacity=\"1\" /><path clip-path=\"url(#clip320)\" d=\"M 0 0 M2086.12 410.348 L2086.12 425.996 L2081.86 425.996 L2081.86 410.487 Q2081.86 406.806 2080.43 404.977 Q2078.99 403.149 2076.12 403.149 Q2072.67 403.149 2070.68 405.348 Q2068.69 407.547 2068.69 411.343 L2068.69 425.996 L2064.41 425.996 L2064.41 400.07 L2068.69 400.07 L2068.69 404.098 Q2070.22 401.76 2072.28 400.602 Q2074.36 399.445 2077.07 399.445 Q2081.54 399.445 2083.83 402.223 Q2086.12 404.977 2086.12 410.348 Z\" fill=\"#000000\" fill-rule=\"evenodd\" fill-opacity=\"1\" /><path clip-path=\"url(#clip320)\" d=\"M 0 0 M2129.41 421.065 L2129.41 411.783 L2121.77 411.783 L2121.77 407.94 L2134.04 407.94 L2134.04 422.778 Q2131.33 424.699 2128.07 425.695 Q2124.8 426.667 2121.1 426.667 Q2113 426.667 2108.42 421.945 Q2103.86 417.199 2103.86 408.75 Q2103.86 400.278 2108.42 395.556 Q2113 390.811 2121.1 390.811 Q2124.48 390.811 2127.51 391.644 Q2130.57 392.477 2133.14 394.098 L2133.14 399.075 Q2130.54 396.876 2127.63 395.764 Q2124.71 394.653 2121.49 394.653 Q2115.15 394.653 2111.96 398.195 Q2108.79 401.737 2108.79 408.75 Q2108.79 415.741 2111.96 419.283 Q2115.15 422.824 2121.49 422.824 Q2123.97 422.824 2125.92 422.408 Q2127.86 421.968 2129.41 421.065 Z\" fill=\"#000000\" fill-rule=\"evenodd\" fill-opacity=\"1\" /><path clip-path=\"url(#clip320)\" d=\"M 0 0 M2153.53 404.051 Q2152.81 403.635 2151.96 403.45 Q2151.12 403.241 2150.1 403.241 Q2146.49 403.241 2144.55 405.602 Q2142.63 407.94 2142.63 412.338 L2142.63 425.996 L2138.35 425.996 L2138.35 400.07 L2142.63 400.07 L2142.63 404.098 Q2143.97 401.737 2146.12 400.602 Q2148.28 399.445 2151.35 399.445 Q2151.79 399.445 2152.33 399.514 Q2152.86 399.561 2153.51 399.676 L2153.53 404.051 Z\" fill=\"#000000\" fill-rule=\"evenodd\" fill-opacity=\"1\" /><path clip-path=\"url(#clip320)\" d=\"M 0 0 M2169.78 412.963 Q2164.62 412.963 2162.63 414.144 Q2160.64 415.324 2160.64 418.172 Q2160.64 420.44 2162.12 421.783 Q2163.62 423.102 2166.19 423.102 Q2169.73 423.102 2171.86 420.602 Q2174.02 418.079 2174.02 413.912 L2174.02 412.963 L2169.78 412.963 M2178.28 411.204 L2178.28 425.996 L2174.02 425.996 L2174.02 422.061 Q2172.56 424.422 2170.38 425.556 Q2168.21 426.667 2165.06 426.667 Q2161.08 426.667 2158.72 424.445 Q2156.38 422.199 2156.38 418.449 Q2156.38 414.074 2159.29 411.852 Q2162.23 409.63 2168.04 409.63 L2174.02 409.63 L2174.02 409.213 Q2174.02 406.274 2172.07 404.676 Q2170.15 403.056 2166.66 403.056 Q2164.43 403.056 2162.33 403.588 Q2160.22 404.121 2158.28 405.186 L2158.28 401.25 Q2160.61 400.348 2162.81 399.908 Q2165.01 399.445 2167.1 399.445 Q2172.72 399.445 2175.5 402.362 Q2178.28 405.278 2178.28 411.204 Z\" fill=\"#000000\" fill-rule=\"evenodd\" fill-opacity=\"1\" /><path clip-path=\"url(#clip320)\" d=\"M 0 0 M2186.86 422.107 L2186.86 435.857 L2182.58 435.857 L2182.58 400.07 L2186.86 400.07 L2186.86 404.005 Q2188.21 401.69 2190.24 400.579 Q2192.3 399.445 2195.15 399.445 Q2199.87 399.445 2202.81 403.195 Q2205.78 406.945 2205.78 413.056 Q2205.78 419.167 2202.81 422.917 Q2199.87 426.667 2195.15 426.667 Q2192.3 426.667 2190.24 425.556 Q2188.21 424.422 2186.86 422.107 M2201.35 413.056 Q2201.35 408.357 2199.41 405.695 Q2197.49 403.01 2194.11 403.01 Q2190.73 403.01 2188.79 405.695 Q2186.86 408.357 2186.86 413.056 Q2186.86 417.755 2188.79 420.44 Q2190.73 423.102 2194.11 423.102 Q2197.49 423.102 2199.41 420.44 Q2201.35 417.755 2201.35 413.056 Z\" fill=\"#000000\" fill-rule=\"evenodd\" fill-opacity=\"1\" /><path clip-path=\"url(#clip320)\" d=\"M 0 0 M2231.79 410.348 L2231.79 425.996 L2227.53 425.996 L2227.53 410.487 Q2227.53 406.806 2226.1 404.977 Q2224.66 403.149 2221.79 403.149 Q2218.35 403.149 2216.35 405.348 Q2214.36 407.547 2214.36 411.343 L2214.36 425.996 L2210.08 425.996 L2210.08 389.977 L2214.36 389.977 L2214.36 404.098 Q2215.89 401.76 2217.95 400.602 Q2220.04 399.445 2222.74 399.445 Q2227.21 399.445 2229.5 402.223 Q2231.79 404.977 2231.79 410.348 Z\" fill=\"#000000\" fill-rule=\"evenodd\" fill-opacity=\"1\" /></svg>\n"
      ]
     },
     "execution_count": 21,
     "metadata": {},
     "output_type": "execute_result"
    }
   ],
   "source": [
    "plot(kgrid, kgrid, label = \"Diagonal\", color = \"black\")\n",
    "plot!(kgrid, fill(k̄, length(kgrid)), label = \"k̄\", color = \"gray\", lw = 3)\n",
    "vline!([k̄], label = \"k̄\", color = \"gray\",lw = 3)\n",
    "plot!(kgrid, k_pol, label = \"Policy Function Graph\", color = \"red\", lw = 3)\n",
    "plot!(title = \"Policy Function Plot\")\n",
    "xlabel!(\"k\")\n",
    "ylabel!(\"k′\")"
   ]
  },
  {
   "cell_type": "code",
   "execution_count": 22,
   "metadata": {
    "ExecuteTime": {
     "end_time": "2021-05-02T13:56:57.115000-07:00",
     "start_time": "2021-05-02T20:56:57.044Z"
    }
   },
   "outputs": [
    {
     "data": {
      "image/svg+xml": [
       "<?xml version=\"1.0\" encoding=\"utf-8\"?>\n",
       "<svg xmlns=\"http://www.w3.org/2000/svg\" xmlns:xlink=\"http://www.w3.org/1999/xlink\" width=\"600\" height=\"400\" viewBox=\"0 0 2400 1600\">\n",
       "<defs>\n",
       "  <clipPath id=\"clip360\">\n",
       "    <rect x=\"0\" y=\"0\" width=\"2400\" height=\"1600\"/>\n",
       "  </clipPath>\n",
       "</defs>\n",
       "<path clip-path=\"url(#clip360)\" d=\"\n",
       "M0 1600 L2400 1600 L2400 0 L0 0  Z\n",
       "  \" fill=\"#ffffff\" fill-rule=\"evenodd\" fill-opacity=\"1\"/>\n",
       "<defs>\n",
       "  <clipPath id=\"clip361\">\n",
       "    <rect x=\"480\" y=\"0\" width=\"1681\" height=\"1600\"/>\n",
       "  </clipPath>\n",
       "</defs>\n",
       "<path clip-path=\"url(#clip360)\" d=\"\n",
       "M211.024 1423.18 L2352.76 1423.18 L2352.76 123.472 L211.024 123.472  Z\n",
       "  \" fill=\"#ffffff\" fill-rule=\"evenodd\" fill-opacity=\"1\"/>\n",
       "<defs>\n",
       "  <clipPath id=\"clip362\">\n",
       "    <rect x=\"211\" y=\"123\" width=\"2143\" height=\"1301\"/>\n",
       "  </clipPath>\n",
       "</defs>\n",
       "<polyline clip-path=\"url(#clip362)\" style=\"stroke:#000000; stroke-width:2; stroke-opacity:0.1; fill:none\" points=\"\n",
       "  356.558,1423.18 356.558,123.472 \n",
       "  \"/>\n",
       "<polyline clip-path=\"url(#clip362)\" style=\"stroke:#000000; stroke-width:2; stroke-opacity:0.1; fill:none\" points=\"\n",
       "  693.308,1423.18 693.308,123.472 \n",
       "  \"/>\n",
       "<polyline clip-path=\"url(#clip362)\" style=\"stroke:#000000; stroke-width:2; stroke-opacity:0.1; fill:none\" points=\"\n",
       "  1030.06,1423.18 1030.06,123.472 \n",
       "  \"/>\n",
       "<polyline clip-path=\"url(#clip362)\" style=\"stroke:#000000; stroke-width:2; stroke-opacity:0.1; fill:none\" points=\"\n",
       "  1366.81,1423.18 1366.81,123.472 \n",
       "  \"/>\n",
       "<polyline clip-path=\"url(#clip362)\" style=\"stroke:#000000; stroke-width:2; stroke-opacity:0.1; fill:none\" points=\"\n",
       "  1703.56,1423.18 1703.56,123.472 \n",
       "  \"/>\n",
       "<polyline clip-path=\"url(#clip362)\" style=\"stroke:#000000; stroke-width:2; stroke-opacity:0.1; fill:none\" points=\"\n",
       "  2040.31,1423.18 2040.31,123.472 \n",
       "  \"/>\n",
       "<polyline clip-path=\"url(#clip360)\" style=\"stroke:#000000; stroke-width:4; stroke-opacity:1; fill:none\" points=\"\n",
       "  211.024,1423.18 2352.76,1423.18 \n",
       "  \"/>\n",
       "<polyline clip-path=\"url(#clip360)\" style=\"stroke:#000000; stroke-width:4; stroke-opacity:1; fill:none\" points=\"\n",
       "  356.558,1423.18 356.558,1407.58 \n",
       "  \"/>\n",
       "<polyline clip-path=\"url(#clip360)\" style=\"stroke:#000000; stroke-width:4; stroke-opacity:1; fill:none\" points=\"\n",
       "  693.308,1423.18 693.308,1407.58 \n",
       "  \"/>\n",
       "<polyline clip-path=\"url(#clip360)\" style=\"stroke:#000000; stroke-width:4; stroke-opacity:1; fill:none\" points=\"\n",
       "  1030.06,1423.18 1030.06,1407.58 \n",
       "  \"/>\n",
       "<polyline clip-path=\"url(#clip360)\" style=\"stroke:#000000; stroke-width:4; stroke-opacity:1; fill:none\" points=\"\n",
       "  1366.81,1423.18 1366.81,1407.58 \n",
       "  \"/>\n",
       "<polyline clip-path=\"url(#clip360)\" style=\"stroke:#000000; stroke-width:4; stroke-opacity:1; fill:none\" points=\"\n",
       "  1703.56,1423.18 1703.56,1407.58 \n",
       "  \"/>\n",
       "<polyline clip-path=\"url(#clip360)\" style=\"stroke:#000000; stroke-width:4; stroke-opacity:1; fill:none\" points=\"\n",
       "  2040.31,1423.18 2040.31,1407.58 \n",
       "  \"/>\n",
       "<path clip-path=\"url(#clip360)\" d=\"M 0 0 M360.805 1465.22 Q364.162 1465.94 366.037 1468.2 Q367.935 1470.47 367.935 1473.81 Q367.935 1478.92 364.416 1481.72 Q360.898 1484.52 354.416 1484.52 Q352.24 1484.52 349.926 1484.08 Q347.634 1483.67 345.18 1482.81 L345.18 1478.3 Q347.125 1479.43 349.44 1480.01 Q351.754 1480.59 354.277 1480.59 Q358.676 1480.59 360.967 1478.85 Q363.282 1477.12 363.282 1473.81 Q363.282 1470.75 361.129 1469.04 Q359 1467.3 355.18 1467.3 L351.153 1467.3 L351.153 1463.46 L355.365 1463.46 Q358.814 1463.46 360.643 1462.09 Q362.472 1460.7 362.472 1458.11 Q362.472 1455.45 360.574 1454.04 Q358.699 1452.6 355.18 1452.6 Q353.259 1452.6 351.06 1453.02 Q348.861 1453.44 346.222 1454.31 L346.222 1450.15 Q348.884 1449.41 351.199 1449.04 Q353.537 1448.67 355.597 1448.67 Q360.921 1448.67 364.023 1451.1 Q367.125 1453.5 367.125 1457.63 Q367.125 1460.5 365.481 1462.49 Q363.838 1464.45 360.805 1465.22 Z\" fill=\"#000000\" fill-rule=\"evenodd\" fill-opacity=\"1\" /><path clip-path=\"url(#clip360)\" d=\"M 0 0 M696.317 1453.37 L684.512 1471.81 L696.317 1471.81 L696.317 1453.37 M695.09 1449.29 L700.97 1449.29 L700.97 1471.81 L705.9 1471.81 L705.9 1475.7 L700.97 1475.7 L700.97 1483.85 L696.317 1483.85 L696.317 1475.7 L680.715 1475.7 L680.715 1471.19 L695.09 1449.29 Z\" fill=\"#000000\" fill-rule=\"evenodd\" fill-opacity=\"1\" /><path clip-path=\"url(#clip360)\" d=\"M 0 0 M1020.34 1449.29 L1038.69 1449.29 L1038.69 1453.23 L1024.62 1453.23 L1024.62 1461.7 Q1025.64 1461.35 1026.66 1461.19 Q1027.67 1461 1028.69 1461 Q1034.48 1461 1037.86 1464.18 Q1041.24 1467.35 1041.24 1472.76 Q1041.24 1478.34 1037.77 1481.44 Q1034.29 1484.52 1027.97 1484.52 Q1025.8 1484.52 1023.53 1484.15 Q1021.29 1483.78 1018.88 1483.04 L1018.88 1478.34 Q1020.96 1479.48 1023.18 1480.03 Q1025.41 1480.59 1027.88 1480.59 Q1031.89 1480.59 1034.22 1478.48 Q1036.56 1476.38 1036.56 1472.76 Q1036.56 1469.15 1034.22 1467.05 Q1031.89 1464.94 1027.88 1464.94 Q1026.01 1464.94 1024.13 1465.36 Q1022.28 1465.77 1020.34 1466.65 L1020.34 1449.29 Z\" fill=\"#000000\" fill-rule=\"evenodd\" fill-opacity=\"1\" /><path clip-path=\"url(#clip360)\" d=\"M 0 0 M1367.21 1464.71 Q1364.07 1464.71 1362.21 1466.86 Q1360.39 1469.01 1360.39 1472.76 Q1360.39 1476.49 1362.21 1478.67 Q1364.07 1480.82 1367.21 1480.82 Q1370.36 1480.82 1372.19 1478.67 Q1374.04 1476.49 1374.04 1472.76 Q1374.04 1469.01 1372.19 1466.86 Q1370.36 1464.71 1367.21 1464.71 M1376.5 1450.06 L1376.5 1454.31 Q1374.74 1453.48 1372.93 1453.04 Q1371.15 1452.6 1369.39 1452.6 Q1364.76 1452.6 1362.31 1455.73 Q1359.88 1458.85 1359.53 1465.17 Q1360.89 1463.16 1362.95 1462.09 Q1365.01 1461 1367.49 1461 Q1372.7 1461 1375.71 1464.18 Q1378.74 1467.32 1378.74 1472.76 Q1378.74 1478.09 1375.59 1481.31 Q1372.45 1484.52 1367.21 1484.52 Q1361.22 1484.52 1358.05 1479.94 Q1354.88 1475.33 1354.88 1466.61 Q1354.88 1458.41 1358.76 1453.55 Q1362.65 1448.67 1369.2 1448.67 Q1370.96 1448.67 1372.75 1449.01 Q1374.55 1449.36 1376.5 1450.06 Z\" fill=\"#000000\" fill-rule=\"evenodd\" fill-opacity=\"1\" /><path clip-path=\"url(#clip360)\" d=\"M 0 0 M1692.45 1449.29 L1714.67 1449.29 L1714.67 1451.28 L1702.12 1483.85 L1697.24 1483.85 L1709.05 1453.23 L1692.45 1453.23 L1692.45 1449.29 Z\" fill=\"#000000\" fill-rule=\"evenodd\" fill-opacity=\"1\" /><path clip-path=\"url(#clip360)\" d=\"M 0 0 M2040.31 1467.44 Q2036.98 1467.44 2035.05 1469.22 Q2033.16 1471 2033.16 1474.13 Q2033.16 1477.25 2035.05 1479.04 Q2036.98 1480.82 2040.31 1480.82 Q2043.64 1480.82 2045.56 1479.04 Q2047.49 1477.23 2047.49 1474.13 Q2047.49 1471 2045.56 1469.22 Q2043.67 1467.44 2040.31 1467.44 M2035.63 1465.45 Q2032.62 1464.71 2030.93 1462.65 Q2029.27 1460.59 2029.27 1457.63 Q2029.27 1453.48 2032.21 1451.07 Q2035.17 1448.67 2040.31 1448.67 Q2045.47 1448.67 2048.41 1451.07 Q2051.35 1453.48 2051.35 1457.63 Q2051.35 1460.59 2049.66 1462.65 Q2047.99 1464.71 2045.01 1465.45 Q2048.39 1466.24 2050.26 1468.53 Q2052.16 1470.82 2052.16 1474.13 Q2052.16 1479.15 2049.08 1481.84 Q2046.03 1484.52 2040.31 1484.52 Q2034.59 1484.52 2031.51 1481.84 Q2028.46 1479.15 2028.46 1474.13 Q2028.46 1470.82 2030.36 1468.53 Q2032.25 1466.24 2035.63 1465.45 M2033.92 1458.06 Q2033.92 1460.75 2035.59 1462.25 Q2037.28 1463.76 2040.31 1463.76 Q2043.32 1463.76 2045.01 1462.25 Q2046.72 1460.75 2046.72 1458.06 Q2046.72 1455.38 2045.01 1453.88 Q2043.32 1452.37 2040.31 1452.37 Q2037.28 1452.37 2035.59 1453.88 Q2033.92 1455.38 2033.92 1458.06 Z\" fill=\"#000000\" fill-rule=\"evenodd\" fill-opacity=\"1\" /><path clip-path=\"url(#clip360)\" d=\"M 0 0 M1266.07 1518.52 L1271.96 1518.52 L1271.96 1547.77 L1289.43 1532.4 L1296.91 1532.4 L1278.01 1549.07 L1297.71 1568.04 L1290.07 1568.04 L1271.96 1550.63 L1271.96 1568.04 L1266.07 1568.04 L1266.07 1518.52 Z\" fill=\"#000000\" fill-rule=\"evenodd\" fill-opacity=\"1\" /><polyline clip-path=\"url(#clip362)\" style=\"stroke:#000000; stroke-width:2; stroke-opacity:0.1; fill:none\" points=\"\n",
       "  211.024,1369.35 2352.76,1369.35 \n",
       "  \"/>\n",
       "<polyline clip-path=\"url(#clip362)\" style=\"stroke:#000000; stroke-width:2; stroke-opacity:0.1; fill:none\" points=\"\n",
       "  211.024,1112.59 2352.76,1112.59 \n",
       "  \"/>\n",
       "<polyline clip-path=\"url(#clip362)\" style=\"stroke:#000000; stroke-width:2; stroke-opacity:0.1; fill:none\" points=\"\n",
       "  211.024,855.834 2352.76,855.834 \n",
       "  \"/>\n",
       "<polyline clip-path=\"url(#clip362)\" style=\"stroke:#000000; stroke-width:2; stroke-opacity:0.1; fill:none\" points=\"\n",
       "  211.024,599.075 2352.76,599.075 \n",
       "  \"/>\n",
       "<polyline clip-path=\"url(#clip362)\" style=\"stroke:#000000; stroke-width:2; stroke-opacity:0.1; fill:none\" points=\"\n",
       "  211.024,342.316 2352.76,342.316 \n",
       "  \"/>\n",
       "<polyline clip-path=\"url(#clip360)\" style=\"stroke:#000000; stroke-width:4; stroke-opacity:1; fill:none\" points=\"\n",
       "  211.024,1423.18 211.024,123.472 \n",
       "  \"/>\n",
       "<polyline clip-path=\"url(#clip360)\" style=\"stroke:#000000; stroke-width:4; stroke-opacity:1; fill:none\" points=\"\n",
       "  211.024,1369.35 236.725,1369.35 \n",
       "  \"/>\n",
       "<polyline clip-path=\"url(#clip360)\" style=\"stroke:#000000; stroke-width:4; stroke-opacity:1; fill:none\" points=\"\n",
       "  211.024,1112.59 236.725,1112.59 \n",
       "  \"/>\n",
       "<polyline clip-path=\"url(#clip360)\" style=\"stroke:#000000; stroke-width:4; stroke-opacity:1; fill:none\" points=\"\n",
       "  211.024,855.834 236.725,855.834 \n",
       "  \"/>\n",
       "<polyline clip-path=\"url(#clip360)\" style=\"stroke:#000000; stroke-width:4; stroke-opacity:1; fill:none\" points=\"\n",
       "  211.024,599.075 236.725,599.075 \n",
       "  \"/>\n",
       "<polyline clip-path=\"url(#clip360)\" style=\"stroke:#000000; stroke-width:4; stroke-opacity:1; fill:none\" points=\"\n",
       "  211.024,342.316 236.725,342.316 \n",
       "  \"/>\n",
       "<path clip-path=\"url(#clip360)\" d=\"M 0 0 M126.205 1355.15 Q122.593 1355.15 120.765 1358.72 Q118.959 1362.26 118.959 1369.39 Q118.959 1376.49 120.765 1380.06 Q122.593 1383.6 126.205 1383.6 Q129.839 1383.6 131.644 1380.06 Q133.473 1376.49 133.473 1369.39 Q133.473 1362.26 131.644 1358.72 Q129.839 1355.15 126.205 1355.15 M126.205 1351.45 Q132.015 1351.45 135.07 1356.05 Q138.149 1360.64 138.149 1369.39 Q138.149 1378.11 135.07 1382.72 Q132.015 1387.3 126.205 1387.3 Q120.394 1387.3 117.316 1382.72 Q114.26 1378.11 114.26 1369.39 Q114.26 1360.64 117.316 1356.05 Q120.394 1351.45 126.205 1351.45 Z\" fill=\"#000000\" fill-rule=\"evenodd\" fill-opacity=\"1\" /><path clip-path=\"url(#clip360)\" d=\"M 0 0 M143.218 1380.75 L148.103 1380.75 L148.103 1386.63 L143.218 1386.63 L143.218 1380.75 Z\" fill=\"#000000\" fill-rule=\"evenodd\" fill-opacity=\"1\" /><path clip-path=\"url(#clip360)\" d=\"M 0 0 M163.172 1370.22 Q159.839 1370.22 157.917 1372 Q156.019 1373.79 156.019 1376.91 Q156.019 1380.04 157.917 1381.82 Q159.839 1383.6 163.172 1383.6 Q166.505 1383.6 168.427 1381.82 Q170.348 1380.01 170.348 1376.91 Q170.348 1373.79 168.427 1372 Q166.528 1370.22 163.172 1370.22 M158.496 1368.23 Q155.487 1367.49 153.797 1365.43 Q152.13 1363.37 152.13 1360.41 Q152.13 1356.26 155.07 1353.86 Q158.033 1351.45 163.172 1351.45 Q168.334 1351.45 171.274 1353.86 Q174.214 1356.26 174.214 1360.41 Q174.214 1363.37 172.524 1365.43 Q170.857 1367.49 167.871 1368.23 Q171.251 1369.02 173.126 1371.31 Q175.024 1373.6 175.024 1376.91 Q175.024 1381.93 171.945 1384.62 Q168.889 1387.3 163.172 1387.3 Q157.454 1387.3 154.376 1384.62 Q151.32 1381.93 151.32 1376.91 Q151.32 1373.6 153.218 1371.31 Q155.116 1369.02 158.496 1368.23 M156.783 1360.85 Q156.783 1363.53 158.45 1365.04 Q160.14 1366.54 163.172 1366.54 Q166.181 1366.54 167.871 1365.04 Q169.584 1363.53 169.584 1360.85 Q169.584 1358.16 167.871 1356.66 Q166.181 1355.15 163.172 1355.15 Q160.14 1355.15 158.45 1356.66 Q156.783 1358.16 156.783 1360.85 Z\" fill=\"#000000\" fill-rule=\"evenodd\" fill-opacity=\"1\" /><path clip-path=\"url(#clip360)\" d=\"M 0 0 M118.149 1125.94 L125.788 1125.94 L125.788 1099.57 L117.478 1101.24 L117.478 1096.98 L125.742 1095.31 L130.417 1095.31 L130.417 1125.94 L138.056 1125.94 L138.056 1129.87 L118.149 1129.87 L118.149 1125.94 Z\" fill=\"#000000\" fill-rule=\"evenodd\" fill-opacity=\"1\" /><path clip-path=\"url(#clip360)\" d=\"M 0 0 M143.126 1123.99 L148.01 1123.99 L148.01 1129.87 L143.126 1129.87 L143.126 1123.99 Z\" fill=\"#000000\" fill-rule=\"evenodd\" fill-opacity=\"1\" /><path clip-path=\"url(#clip360)\" d=\"M 0 0 M163.079 1098.39 Q159.468 1098.39 157.64 1101.96 Q155.834 1105.5 155.834 1112.63 Q155.834 1119.73 157.64 1123.3 Q159.468 1126.84 163.079 1126.84 Q166.714 1126.84 168.519 1123.3 Q170.348 1119.73 170.348 1112.63 Q170.348 1105.5 168.519 1101.96 Q166.714 1098.39 163.079 1098.39 M163.079 1094.69 Q168.889 1094.69 171.945 1099.3 Q175.024 1103.88 175.024 1112.63 Q175.024 1121.36 171.945 1125.96 Q168.889 1130.54 163.079 1130.54 Q157.269 1130.54 154.19 1125.96 Q151.135 1121.36 151.135 1112.63 Q151.135 1103.88 154.19 1099.3 Q157.269 1094.69 163.079 1094.69 Z\" fill=\"#000000\" fill-rule=\"evenodd\" fill-opacity=\"1\" /><path clip-path=\"url(#clip360)\" d=\"M 0 0 M119.746 869.179 L127.385 869.179 L127.385 842.814 L119.075 844.48 L119.075 840.221 L127.339 838.554 L132.015 838.554 L132.015 869.179 L139.654 869.179 L139.654 873.114 L119.746 873.114 L119.746 869.179 Z\" fill=\"#000000\" fill-rule=\"evenodd\" fill-opacity=\"1\" /><path clip-path=\"url(#clip360)\" d=\"M 0 0 M144.723 867.235 L149.607 867.235 L149.607 873.114 L144.723 873.114 L144.723 867.235 Z\" fill=\"#000000\" fill-rule=\"evenodd\" fill-opacity=\"1\" /><path clip-path=\"url(#clip360)\" d=\"M 0 0 M158.704 869.179 L175.024 869.179 L175.024 873.114 L153.079 873.114 L153.079 869.179 Q155.741 866.425 160.325 861.795 Q164.931 857.142 166.112 855.8 Q168.357 853.277 169.237 851.54 Q170.139 849.781 170.139 848.091 Q170.139 845.337 168.195 843.601 Q166.274 841.865 163.172 841.865 Q160.973 841.865 158.519 842.628 Q156.089 843.392 153.311 844.943 L153.311 840.221 Q156.135 839.087 158.589 838.508 Q161.042 837.929 163.079 837.929 Q168.45 837.929 171.644 840.615 Q174.839 843.3 174.839 847.79 Q174.839 849.92 174.028 851.841 Q173.241 853.74 171.135 856.332 Q170.556 857.003 167.454 860.221 Q164.352 863.415 158.704 869.179 Z\" fill=\"#000000\" fill-rule=\"evenodd\" fill-opacity=\"1\" /><path clip-path=\"url(#clip360)\" d=\"M 0 0 M117.663 612.42 L125.302 612.42 L125.302 586.055 L116.992 587.721 L116.992 583.462 L125.255 581.795 L129.931 581.795 L129.931 612.42 L137.57 612.42 L137.57 616.355 L117.663 616.355 L117.663 612.42 Z\" fill=\"#000000\" fill-rule=\"evenodd\" fill-opacity=\"1\" /><path clip-path=\"url(#clip360)\" d=\"M 0 0 M142.64 610.476 L147.524 610.476 L147.524 616.355 L142.64 616.355 L142.64 610.476 Z\" fill=\"#000000\" fill-rule=\"evenodd\" fill-opacity=\"1\" /><path clip-path=\"url(#clip360)\" d=\"M 0 0 M165.44 585.869 L153.635 604.318 L165.44 604.318 L165.44 585.869 M164.214 581.795 L170.093 581.795 L170.093 604.318 L175.024 604.318 L175.024 608.207 L170.093 608.207 L170.093 616.355 L165.44 616.355 L165.44 608.207 L149.839 608.207 L149.839 603.693 L164.214 581.795 Z\" fill=\"#000000\" fill-rule=\"evenodd\" fill-opacity=\"1\" /><path clip-path=\"url(#clip360)\" d=\"M 0 0 M117.987 355.661 L125.626 355.661 L125.626 329.295 L117.316 330.962 L117.316 326.703 L125.58 325.036 L130.255 325.036 L130.255 355.661 L137.894 355.661 L137.894 359.596 L117.987 359.596 L117.987 355.661 Z\" fill=\"#000000\" fill-rule=\"evenodd\" fill-opacity=\"1\" /><path clip-path=\"url(#clip360)\" d=\"M 0 0 M142.964 353.717 L147.848 353.717 L147.848 359.596 L142.964 359.596 L142.964 353.717 Z\" fill=\"#000000\" fill-rule=\"evenodd\" fill-opacity=\"1\" /><path clip-path=\"url(#clip360)\" d=\"M 0 0 M163.496 340.453 Q160.348 340.453 158.496 342.606 Q156.667 344.758 156.667 348.508 Q156.667 352.235 158.496 354.411 Q160.348 356.564 163.496 356.564 Q166.644 356.564 168.473 354.411 Q170.325 352.235 170.325 348.508 Q170.325 344.758 168.473 342.606 Q166.644 340.453 163.496 340.453 M172.778 325.8 L172.778 330.059 Q171.019 329.226 169.214 328.786 Q167.431 328.346 165.672 328.346 Q161.042 328.346 158.589 331.471 Q156.158 334.596 155.811 340.916 Q157.177 338.902 159.237 337.837 Q161.297 336.749 163.774 336.749 Q168.982 336.749 171.991 339.92 Q175.024 343.069 175.024 348.508 Q175.024 353.832 171.876 357.05 Q168.727 360.267 163.496 360.267 Q157.501 360.267 154.329 355.684 Q151.158 351.078 151.158 342.351 Q151.158 334.157 155.047 329.295 Q158.936 324.411 165.487 324.411 Q167.246 324.411 169.028 324.758 Q170.834 325.106 172.778 325.8 Z\" fill=\"#000000\" fill-rule=\"evenodd\" fill-opacity=\"1\" /><path clip-path=\"url(#clip360)\" d=\"M 0 0 M29.7248 759.226 L35.1993 759.226 Q33.8307 761.709 33.1623 764.223 Q32.4621 766.706 32.4621 769.252 Q32.4621 774.949 36.0905 778.1 Q39.6872 781.251 46.212 781.251 Q52.7369 781.251 56.3653 778.1 Q59.9619 774.949 59.9619 769.252 Q59.9619 766.706 59.2935 764.223 Q58.5933 761.709 57.2247 759.226 L62.6355 759.226 Q63.7814 761.677 64.3543 764.319 Q64.9272 766.928 64.9272 769.889 Q64.9272 777.941 59.8664 782.684 Q54.8057 787.426 46.212 787.426 Q37.491 787.426 32.4939 782.652 Q27.4968 777.846 27.4968 769.507 Q27.4968 766.801 28.0697 764.223 Q28.6108 761.645 29.7248 759.226 Z\" fill=\"#000000\" fill-rule=\"evenodd\" fill-opacity=\"1\" /><path clip-path=\"url(#clip360)\" d=\"M 0 0 M940.621 18.8205 L940.621 41.5461 L950.911 41.5461 Q956.622 41.5461 959.742 38.5889 Q962.861 35.6318 962.861 30.163 Q962.861 24.7348 959.742 21.7777 Q956.622 18.8205 950.911 18.8205 L940.621 18.8205 M932.439 12.096 L950.911 12.096 Q961.078 12.096 966.264 16.714 Q971.489 21.2916 971.489 30.163 Q971.489 39.1155 966.264 43.6931 Q961.078 48.2706 950.911 48.2706 L940.621 48.2706 L940.621 72.576 L932.439 72.576 L932.439 12.096 Z\" fill=\"#000000\" fill-rule=\"evenodd\" fill-opacity=\"1\" /><path clip-path=\"url(#clip360)\" d=\"M 0 0 M993.931 32.4315 Q987.936 32.4315 984.452 37.1306 Q980.968 41.7891 980.968 49.9314 Q980.968 58.0738 984.412 62.7728 Q987.895 67.4314 993.931 67.4314 Q999.886 67.4314 1003.37 62.7323 Q1006.85 58.0333 1006.85 49.9314 Q1006.85 41.8701 1003.37 37.1711 Q999.886 32.4315 993.931 32.4315 M993.931 26.1121 Q1003.65 26.1121 1009.2 32.4315 Q1014.75 38.7509 1014.75 49.9314 Q1014.75 61.0714 1009.2 67.4314 Q1003.65 73.7508 993.931 73.7508 Q984.169 73.7508 978.619 67.4314 Q973.11 61.0714 973.11 49.9314 Q973.11 38.7509 978.619 32.4315 Q984.169 26.1121 993.931 26.1121 Z\" fill=\"#000000\" fill-rule=\"evenodd\" fill-opacity=\"1\" /><path clip-path=\"url(#clip360)\" d=\"M 0 0 M1022.57 9.54393 L1030.02 9.54393 L1030.02 72.576 L1022.57 72.576 L1022.57 9.54393 Z\" fill=\"#000000\" fill-rule=\"evenodd\" fill-opacity=\"1\" /><path clip-path=\"url(#clip360)\" d=\"M 0 0 M1037.84 27.2059 L1045.3 27.2059 L1045.3 72.576 L1037.84 72.576 L1037.84 27.2059 M1037.84 9.54393 L1045.3 9.54393 L1045.3 18.9825 L1037.84 18.9825 L1037.84 9.54393 Z\" fill=\"#000000\" fill-rule=\"evenodd\" fill-opacity=\"1\" /><path clip-path=\"url(#clip360)\" d=\"M 0 0 M1085.77 28.9478 L1085.77 35.9153 Q1082.61 34.1734 1079.41 33.3227 Q1076.25 32.4315 1073 32.4315 Q1065.75 32.4315 1061.74 37.0496 Q1057.73 41.6271 1057.73 49.9314 Q1057.73 58.2358 1061.74 62.8538 Q1065.75 67.4314 1073 67.4314 Q1076.25 67.4314 1079.41 66.5807 Q1082.61 65.6895 1085.77 63.9476 L1085.77 70.8341 Q1082.65 72.2924 1079.28 73.0216 Q1075.96 73.7508 1072.19 73.7508 Q1061.95 73.7508 1055.91 67.3098 Q1049.87 60.8689 1049.87 49.9314 Q1049.87 38.832 1055.95 32.472 Q1062.07 26.1121 1072.68 26.1121 Q1076.12 26.1121 1079.41 26.8413 Q1082.69 27.5299 1085.77 28.9478 Z\" fill=\"#000000\" fill-rule=\"evenodd\" fill-opacity=\"1\" /><path clip-path=\"url(#clip360)\" d=\"M 0 0 M1112.46 76.7889 Q1109.3 84.8907 1106.3 87.3618 Q1103.31 89.8329 1098.28 89.8329 L1092.33 89.8329 L1092.33 83.5945 L1096.7 83.5945 Q1099.78 83.5945 1101.48 82.1361 Q1103.18 80.6778 1105.25 75.2496 L1106.59 71.8468 L1088.24 27.2059 L1096.14 27.2059 L1110.31 62.6918 L1124.49 27.2059 L1132.39 27.2059 L1112.46 76.7889 Z\" fill=\"#000000\" fill-rule=\"evenodd\" fill-opacity=\"1\" /><path clip-path=\"url(#clip360)\" d=\"M 0 0 M1166.9 12.096 L1201.66 12.096 L1201.66 18.9825 L1175.09 18.9825 L1175.09 36.8065 L1199.07 36.8065 L1199.07 43.6931 L1175.09 43.6931 L1175.09 72.576 L1166.9 72.576 L1166.9 12.096 Z\" fill=\"#000000\" fill-rule=\"evenodd\" fill-opacity=\"1\" /><path clip-path=\"url(#clip360)\" d=\"M 0 0 M1204.17 54.671 L1204.17 27.2059 L1211.63 27.2059 L1211.63 54.3874 Q1211.63 60.8284 1214.14 64.0691 Q1216.65 67.2693 1221.67 67.2693 Q1227.71 67.2693 1231.19 63.421 Q1234.72 59.5726 1234.72 52.9291 L1234.72 27.2059 L1242.17 27.2059 L1242.17 72.576 L1234.72 72.576 L1234.72 65.6084 Q1232 69.7404 1228.4 71.7658 Q1224.83 73.7508 1220.09 73.7508 Q1212.28 73.7508 1208.22 68.8897 Q1204.17 64.0286 1204.17 54.671 M1222.93 26.1121 L1222.93 26.1121 Z\" fill=\"#000000\" fill-rule=\"evenodd\" fill-opacity=\"1\" /><path clip-path=\"url(#clip360)\" d=\"M 0 0 M1287.7 45.1919 L1287.7 72.576 L1280.25 72.576 L1280.25 45.4349 Q1280.25 38.994 1277.74 35.7938 Q1275.23 32.5936 1270.2 32.5936 Q1264.17 32.5936 1260.68 36.4419 Q1257.2 40.2903 1257.2 46.9338 L1257.2 72.576 L1249.71 72.576 L1249.71 27.2059 L1257.2 27.2059 L1257.2 34.2544 Q1259.87 30.163 1263.48 28.1376 Q1267.12 26.1121 1271.86 26.1121 Q1279.68 26.1121 1283.69 30.9732 Q1287.7 35.7938 1287.7 45.1919 Z\" fill=\"#000000\" fill-rule=\"evenodd\" fill-opacity=\"1\" /><path clip-path=\"url(#clip360)\" d=\"M 0 0 M1328.17 28.9478 L1328.17 35.9153 Q1325.01 34.1734 1321.81 33.3227 Q1318.65 32.4315 1315.41 32.4315 Q1308.16 32.4315 1304.15 37.0496 Q1300.14 41.6271 1300.14 49.9314 Q1300.14 58.2358 1304.15 62.8538 Q1308.16 67.4314 1315.41 67.4314 Q1318.65 67.4314 1321.81 66.5807 Q1325.01 65.6895 1328.17 63.9476 L1328.17 70.8341 Q1325.05 72.2924 1321.69 73.0216 Q1318.37 73.7508 1314.6 73.7508 Q1304.35 73.7508 1298.32 67.3098 Q1292.28 60.8689 1292.28 49.9314 Q1292.28 38.832 1298.36 32.472 Q1304.47 26.1121 1315.09 26.1121 Q1318.53 26.1121 1321.81 26.8413 Q1325.09 27.5299 1328.17 28.9478 Z\" fill=\"#000000\" fill-rule=\"evenodd\" fill-opacity=\"1\" /><path clip-path=\"url(#clip360)\" d=\"M 0 0 M1343.36 14.324 L1343.36 27.2059 L1358.72 27.2059 L1358.72 32.9987 L1343.36 32.9987 L1343.36 57.6282 Q1343.36 63.1779 1344.86 64.7578 Q1346.4 66.3376 1351.06 66.3376 L1358.72 66.3376 L1358.72 72.576 L1351.06 72.576 Q1342.43 72.576 1339.15 69.3758 Q1335.87 66.1351 1335.87 57.6282 L1335.87 32.9987 L1330.4 32.9987 L1330.4 27.2059 L1335.87 27.2059 L1335.87 14.324 L1343.36 14.324 Z\" fill=\"#000000\" fill-rule=\"evenodd\" fill-opacity=\"1\" /><path clip-path=\"url(#clip360)\" d=\"M 0 0 M1366.53 27.2059 L1373.99 27.2059 L1373.99 72.576 L1366.53 72.576 L1366.53 27.2059 M1366.53 9.54393 L1373.99 9.54393 L1373.99 18.9825 L1366.53 18.9825 L1366.53 9.54393 Z\" fill=\"#000000\" fill-rule=\"evenodd\" fill-opacity=\"1\" /><path clip-path=\"url(#clip360)\" d=\"M 0 0 M1399.39 32.4315 Q1393.39 32.4315 1389.91 37.1306 Q1386.42 41.7891 1386.42 49.9314 Q1386.42 58.0738 1389.87 62.7728 Q1393.35 67.4314 1399.39 67.4314 Q1405.34 67.4314 1408.82 62.7323 Q1412.31 58.0333 1412.31 49.9314 Q1412.31 41.8701 1408.82 37.1711 Q1405.34 32.4315 1399.39 32.4315 M1399.39 26.1121 Q1409.11 26.1121 1414.66 32.4315 Q1420.21 38.7509 1420.21 49.9314 Q1420.21 61.0714 1414.66 67.4314 Q1409.11 73.7508 1399.39 73.7508 Q1389.62 73.7508 1384.07 67.4314 Q1378.56 61.0714 1378.56 49.9314 Q1378.56 38.7509 1384.07 32.4315 Q1389.62 26.1121 1399.39 26.1121 Z\" fill=\"#000000\" fill-rule=\"evenodd\" fill-opacity=\"1\" /><path clip-path=\"url(#clip360)\" d=\"M 0 0 M1465.74 45.1919 L1465.74 72.576 L1458.29 72.576 L1458.29 45.4349 Q1458.29 38.994 1455.77 35.7938 Q1453.26 32.5936 1448.24 32.5936 Q1442.2 32.5936 1438.72 36.4419 Q1435.24 40.2903 1435.24 46.9338 L1435.24 72.576 L1427.74 72.576 L1427.74 27.2059 L1435.24 27.2059 L1435.24 34.2544 Q1437.91 30.163 1441.52 28.1376 Q1445.16 26.1121 1449.9 26.1121 Q1457.72 26.1121 1461.73 30.9732 Q1465.74 35.7938 1465.74 45.1919 Z\" fill=\"#000000\" fill-rule=\"evenodd\" fill-opacity=\"1\" /><path clip-path=\"url(#clip360)\" d=\"M 0 0 M1508.44 18.8205 L1508.44 41.5461 L1518.73 41.5461 Q1524.44 41.5461 1527.56 38.5889 Q1530.68 35.6318 1530.68 30.163 Q1530.68 24.7348 1527.56 21.7777 Q1524.44 18.8205 1518.73 18.8205 L1508.44 18.8205 M1500.25 12.096 L1518.73 12.096 Q1528.89 12.096 1534.08 16.714 Q1539.3 21.2916 1539.3 30.163 Q1539.3 39.1155 1534.08 43.6931 Q1528.89 48.2706 1518.73 48.2706 L1508.44 48.2706 L1508.44 72.576 L1500.25 72.576 L1500.25 12.096 Z\" fill=\"#000000\" fill-rule=\"evenodd\" fill-opacity=\"1\" /><path clip-path=\"url(#clip360)\" d=\"M 0 0 M1547.12 9.54393 L1554.58 9.54393 L1554.58 72.576 L1547.12 72.576 L1547.12 9.54393 Z\" fill=\"#000000\" fill-rule=\"evenodd\" fill-opacity=\"1\" /><path clip-path=\"url(#clip360)\" d=\"M 0 0 M1579.98 32.4315 Q1573.98 32.4315 1570.5 37.1306 Q1567.01 41.7891 1567.01 49.9314 Q1567.01 58.0738 1570.46 62.7728 Q1573.94 67.4314 1579.98 67.4314 Q1585.93 67.4314 1589.41 62.7323 Q1592.9 58.0333 1592.9 49.9314 Q1592.9 41.8701 1589.41 37.1711 Q1585.93 32.4315 1579.98 32.4315 M1579.98 26.1121 Q1589.7 26.1121 1595.25 32.4315 Q1600.8 38.7509 1600.8 49.9314 Q1600.8 61.0714 1595.25 67.4314 Q1589.7 73.7508 1579.98 73.7508 Q1570.21 73.7508 1564.66 67.4314 Q1559.15 61.0714 1559.15 49.9314 Q1559.15 38.7509 1564.66 32.4315 Q1570.21 26.1121 1579.98 26.1121 Z\" fill=\"#000000\" fill-rule=\"evenodd\" fill-opacity=\"1\" /><path clip-path=\"url(#clip360)\" d=\"M 0 0 M1615.99 14.324 L1615.99 27.2059 L1631.34 27.2059 L1631.34 32.9987 L1615.99 32.9987 L1615.99 57.6282 Q1615.99 63.1779 1617.49 64.7578 Q1619.03 66.3376 1623.68 66.3376 L1631.34 66.3376 L1631.34 72.576 L1623.68 72.576 Q1615.06 72.576 1611.78 69.3758 Q1608.49 66.1351 1608.49 57.6282 L1608.49 32.9987 L1603.03 32.9987 L1603.03 27.2059 L1608.49 27.2059 L1608.49 14.324 L1615.99 14.324 Z\" fill=\"#000000\" fill-rule=\"evenodd\" fill-opacity=\"1\" /><polyline clip-path=\"url(#clip362)\" style=\"stroke:#808080; stroke-width:12; stroke-opacity:1; fill:none\" points=\"\n",
       "  271.639,374.533 281.792,374.533 291.945,374.533 302.099,374.533 312.252,374.533 322.405,374.533 332.558,374.533 342.712,374.533 352.865,374.533 363.018,374.533 \n",
       "  373.172,374.533 383.325,374.533 393.478,374.533 403.631,374.533 413.785,374.533 423.938,374.533 434.091,374.533 444.244,374.533 454.398,374.533 464.551,374.533 \n",
       "  474.704,374.533 484.858,374.533 495.011,374.533 505.164,374.533 515.317,374.533 525.471,374.533 535.624,374.533 545.777,374.533 555.931,374.533 566.084,374.533 \n",
       "  576.237,374.533 586.39,374.533 596.544,374.533 606.697,374.533 616.85,374.533 627.003,374.533 637.157,374.533 647.31,374.533 657.463,374.533 667.617,374.533 \n",
       "  677.77,374.533 687.923,374.533 698.076,374.533 708.23,374.533 718.383,374.533 728.536,374.533 738.69,374.533 748.843,374.533 758.996,374.533 769.149,374.533 \n",
       "  779.303,374.533 789.456,374.533 799.609,374.533 809.762,374.533 819.916,374.533 830.069,374.533 840.222,374.533 850.376,374.533 860.529,374.533 870.682,374.533 \n",
       "  880.835,374.533 890.989,374.533 901.142,374.533 911.295,374.533 921.448,374.533 931.602,374.533 941.755,374.533 951.908,374.533 962.062,374.533 972.215,374.533 \n",
       "  982.368,374.533 992.521,374.533 1002.67,374.533 1012.83,374.533 1022.98,374.533 1033.13,374.533 1043.29,374.533 1053.44,374.533 1063.59,374.533 1073.75,374.533 \n",
       "  1083.9,374.533 1094.05,374.533 1104.21,374.533 1114.36,374.533 1124.51,374.533 1134.67,374.533 1144.82,374.533 1154.97,374.533 1165.13,374.533 1175.28,374.533 \n",
       "  1185.43,374.533 1195.59,374.533 1205.74,374.533 1215.89,374.533 1226.05,374.533 1236.2,374.533 1246.35,374.533 1256.51,374.533 1266.66,374.533 1276.81,374.533 \n",
       "  1286.97,374.533 1297.12,374.533 1307.27,374.533 1317.43,374.533 1327.58,374.533 1337.73,374.533 1347.89,374.533 1358.04,374.533 1368.19,374.533 1378.35,374.533 \n",
       "  1388.5,374.533 1398.65,374.533 1408.81,374.533 1418.96,374.533 1429.11,374.533 1439.27,374.533 1449.42,374.533 1459.57,374.533 1469.73,374.533 1479.88,374.533 \n",
       "  1490.03,374.533 1500.19,374.533 1510.34,374.533 1520.49,374.533 1530.65,374.533 1540.8,374.533 1550.95,374.533 1561.1,374.533 1571.26,374.533 1581.41,374.533 \n",
       "  1591.56,374.533 1601.72,374.533 1611.87,374.533 1622.02,374.533 1632.18,374.533 1642.33,374.533 1652.48,374.533 1662.64,374.533 1672.79,374.533 1682.94,374.533 \n",
       "  1693.1,374.533 1703.25,374.533 1713.4,374.533 1723.56,374.533 1733.71,374.533 1743.86,374.533 1754.02,374.533 1764.17,374.533 1774.32,374.533 1784.48,374.533 \n",
       "  1794.63,374.533 1804.78,374.533 1814.94,374.533 1825.09,374.533 1835.24,374.533 1845.4,374.533 1855.55,374.533 1865.7,374.533 1875.86,374.533 1886.01,374.533 \n",
       "  1896.16,374.533 1906.32,374.533 1916.47,374.533 1926.62,374.533 1936.78,374.533 1946.93,374.533 1957.08,374.533 1967.24,374.533 1977.39,374.533 1987.54,374.533 \n",
       "  1997.7,374.533 2007.85,374.533 2018,374.533 2028.16,374.533 2038.31,374.533 2048.46,374.533 2058.62,374.533 2068.77,374.533 2078.92,374.533 2089.08,374.533 \n",
       "  2099.23,374.533 2109.38,374.533 2119.54,374.533 2129.69,374.533 2139.84,374.533 2149.99,374.533 2160.15,374.533 2170.3,374.533 2180.45,374.533 2190.61,374.533 \n",
       "  2200.76,374.533 2210.91,374.533 2221.07,374.533 2231.22,374.533 2241.37,374.533 2251.53,374.533 2261.68,374.533 2271.83,374.533 2281.99,374.533 2292.14,374.533 \n",
       "  \n",
       "  \"/>\n",
       "<polyline clip-path=\"url(#clip362)\" style=\"stroke:#808080; stroke-width:12; stroke-opacity:1; fill:none\" points=\"\n",
       "  1281.89,2722.89 1281.89,-1176.24 \n",
       "  \"/>\n",
       "<polyline clip-path=\"url(#clip362)\" style=\"stroke:#ff0000; stroke-width:12; stroke-opacity:1; fill:none\" points=\"\n",
       "  271.639,1386.4 281.792,1381.47 291.945,1376.58 302.099,1371.74 312.252,1366.94 322.405,1362.18 332.558,1357.47 342.712,1352.79 352.865,1348.15 363.018,1343.54 \n",
       "  373.172,1338.98 383.325,1334.45 393.478,1329.96 403.631,1325.5 413.785,1321.08 423.938,1316.69 434.091,1312.34 444.244,1308.02 454.398,1303.73 464.551,1299.48 \n",
       "  474.704,1295.26 484.858,1252.36 495.011,1248.2 505.164,1244.07 515.317,1239.97 525.471,1235.9 535.624,1231.86 545.777,1227.84 555.931,1223.86 566.084,1219.9 \n",
       "  576.237,1215.97 586.39,1212.07 596.544,1208.2 606.697,1204.35 616.85,1200.53 627.003,1196.73 637.157,1192.96 647.31,1189.21 657.463,1185.49 667.617,1181.79 \n",
       "  677.77,1178.12 687.923,1174.47 698.076,1170.84 708.23,1167.24 718.383,1163.66 728.536,1160.1 738.69,1156.56 748.843,1153.05 758.996,1149.55 769.149,1146.08 \n",
       "  779.303,1142.63 789.456,1139.2 799.609,1097.09 809.762,1093.7 819.916,1090.33 830.069,1086.98 840.222,1083.66 850.376,1080.35 860.529,1077.06 870.682,1073.79 \n",
       "  880.835,1070.54 890.989,1067.3 901.142,1064.09 911.295,1060.89 921.448,1057.71 931.602,1054.55 941.755,1051.41 951.908,1048.28 962.062,1045.17 972.215,1042.08 \n",
       "  982.368,1039.01 992.521,1035.95 1002.67,1032.91 1012.83,1029.88 1022.98,1026.88 1033.13,985.175 1043.29,982.198 1053.44,979.237 1063.59,976.291 1073.75,973.361 \n",
       "  1083.9,970.445 1094.05,967.545 1104.21,964.66 1114.36,961.789 1124.51,958.934 1134.67,956.092 1144.82,953.265 1154.97,950.452 1165.13,947.653 1175.28,944.868 \n",
       "  1185.43,942.097 1195.59,939.34 1205.74,936.596 1215.89,933.866 1226.05,931.149 1236.2,928.445 1246.35,887.046 1256.51,884.368 1266.66,881.703 1276.81,879.051 \n",
       "  1286.97,876.411 1297.12,873.784 1307.27,871.169 1317.43,868.566 1327.58,865.975 1337.73,863.397 1347.89,860.83 1358.04,858.275 1368.19,855.732 1378.35,853.201 \n",
       "  1388.5,850.681 1398.65,809.465 1408.81,806.968 1418.96,804.483 1429.11,802.008 1439.27,799.544 1449.42,797.092 1459.57,794.65 1469.73,792.219 1479.88,789.799 \n",
       "  1490.03,787.389 1500.19,784.99 1510.34,782.602 1520.49,780.224 1530.65,777.856 1540.8,736.791 1550.95,734.443 1561.1,732.105 1571.26,729.778 1581.41,727.46 \n",
       "  1591.56,725.152 1601.72,722.854 1611.87,720.566 1622.02,718.287 1632.18,716.018 1642.33,713.758 1652.48,711.507 1662.64,709.266 1672.79,668.327 1682.94,666.104 \n",
       "  1693.1,663.89 1703.25,661.685 1713.4,659.49 1723.56,657.303 1733.71,655.125 1743.86,652.956 1754.02,650.795 1764.17,648.644 1774.32,646.5 1784.48,644.366 \n",
       "  1794.63,603.532 1804.78,601.414 1814.94,599.305 1825.09,597.204 1835.24,595.111 1845.4,593.026 1855.55,590.949 1865.7,588.881 1875.86,586.82 1886.01,584.767 \n",
       "  1896.16,582.723 1906.32,541.978 1916.47,539.949 1926.62,537.928 1936.78,535.914 1946.93,533.908 1957.08,531.91 1967.24,529.919 1977.39,527.936 1987.54,525.96 \n",
       "  1997.7,523.991 2007.85,483.322 2018,481.368 2028.16,479.422 2038.31,477.482 2048.46,475.55 2058.62,473.625 2068.77,471.707 2078.92,431.088 2089.08,429.184 \n",
       "  2099.23,427.287 2109.38,425.396 2119.54,423.513 2129.69,421.636 2139.84,381.059 2149.99,379.195 2160.15,377.339 2170.3,375.489 2180.45,373.646 2190.61,333.102 \n",
       "  2200.76,331.271 2210.91,329.447 2221.07,327.63 2231.22,287.112 2241.37,285.307 2251.53,283.509 2261.68,243.01 2271.83,241.224 2281.99,200.737 2292.14,160.256 \n",
       "  \n",
       "  \"/>\n",
       "<path clip-path=\"url(#clip360)\" d=\"\n",
       "M1843.9 408.716 L2281.36 408.716 L2281.36 166.796 L1843.9 166.796  Z\n",
       "  \" fill=\"#ffffff\" fill-rule=\"evenodd\" fill-opacity=\"1\"/>\n",
       "<polyline clip-path=\"url(#clip360)\" style=\"stroke:#000000; stroke-width:4; stroke-opacity:1; fill:none\" points=\"\n",
       "  1843.9,408.716 2281.36,408.716 2281.36,166.796 1843.9,166.796 1843.9,408.716 \n",
       "  \"/>\n",
       "<polyline clip-path=\"url(#clip360)\" style=\"stroke:#808080; stroke-width:4; stroke-opacity:1; fill:none\" points=\"\n",
       "  1867.7,227.276 2010.48,227.276 \n",
       "  \"/>\n",
       "<path clip-path=\"url(#clip360)\" d=\"M 0 0 M2054.79 219.625 L2054.79 223.607 Q2052.98 222.611 2051.16 222.125 Q2049.35 221.616 2047.5 221.616 Q2043.36 221.616 2041.06 224.255 Q2038.77 226.871 2038.77 231.616 Q2038.77 236.361 2041.06 239 Q2043.36 241.616 2047.5 241.616 Q2049.35 241.616 2051.16 241.13 Q2052.98 240.621 2054.79 239.625 L2054.79 243.56 Q2053.01 244.394 2051.09 244.81 Q2049.19 245.227 2047.04 245.227 Q2041.18 245.227 2037.73 241.546 Q2034.28 237.866 2034.28 231.616 Q2034.28 225.273 2037.75 221.639 Q2041.25 218.005 2047.31 218.005 Q2049.28 218.005 2051.16 218.422 Q2053.03 218.815 2054.79 219.625 Z\" fill=\"#000000\" fill-rule=\"evenodd\" fill-opacity=\"1\" /><path clip-path=\"url(#clip360)\" d=\"M 0 0 M2036.11 209.232 L2049.95 209.232 L2049.95 212.658 L2036.11 212.658 L2036.11 209.232 Z\" fill=\"#000000\" fill-rule=\"evenodd\" fill-opacity=\"1\" /><polyline clip-path=\"url(#clip360)\" style=\"stroke:#808080; stroke-width:4; stroke-opacity:1; fill:none\" points=\"\n",
       "  1867.7,287.756 2010.48,287.756 \n",
       "  \"/>\n",
       "<path clip-path=\"url(#clip360)\" d=\"M 0 0 M2034.28 269.017 L2038.56 269.017 L2038.56 290.29 L2051.27 279.11 L2056.71 279.11 L2042.96 291.239 L2057.29 305.036 L2051.73 305.036 L2038.56 292.374 L2038.56 305.036 L2034.28 305.036 L2034.28 269.017 Z\" fill=\"#000000\" fill-rule=\"evenodd\" fill-opacity=\"1\" /><path clip-path=\"url(#clip360)\" d=\"M 0 0 M2038.61 269.712 L2052.45 269.712 L2052.45 273.138 L2038.61 273.138 L2038.61 269.712 Z\" fill=\"#000000\" fill-rule=\"evenodd\" fill-opacity=\"1\" /><polyline clip-path=\"url(#clip360)\" style=\"stroke:#ff0000; stroke-width:4; stroke-opacity:1; fill:none\" points=\"\n",
       "  1867.7,348.236 2010.48,348.236 \n",
       "  \"/>\n",
       "<path clip-path=\"url(#clip360)\" d=\"M 0 0 M2050.3 334.127 Q2045.21 334.127 2042.2 337.923 Q2039.21 341.72 2039.21 348.27 Q2039.21 354.798 2042.2 358.594 Q2045.21 362.391 2050.3 362.391 Q2055.39 362.391 2058.36 358.594 Q2061.34 354.798 2061.34 348.27 Q2061.34 341.72 2058.36 337.923 Q2055.39 334.127 2050.3 334.127 M2050.3 330.331 Q2057.57 330.331 2061.92 335.215 Q2066.27 340.076 2066.27 348.27 Q2066.27 356.442 2061.92 361.326 Q2057.57 366.187 2050.3 366.187 Q2043.01 366.187 2038.63 361.326 Q2034.28 356.465 2034.28 348.27 Q2034.28 340.076 2038.63 335.215 Q2043.01 330.331 2050.3 330.331 Z\" fill=\"#000000\" fill-rule=\"evenodd\" fill-opacity=\"1\" /><path clip-path=\"url(#clip360)\" d=\"M 0 0 M2074.86 361.627 L2074.86 375.377 L2070.58 375.377 L2070.58 339.59 L2074.86 339.59 L2074.86 343.525 Q2076.2 341.21 2078.24 340.099 Q2080.3 338.965 2083.15 338.965 Q2087.87 338.965 2090.81 342.715 Q2093.77 346.465 2093.77 352.576 Q2093.77 358.687 2090.81 362.437 Q2087.87 366.187 2083.15 366.187 Q2080.3 366.187 2078.24 365.076 Q2076.2 363.942 2074.86 361.627 M2089.35 352.576 Q2089.35 347.877 2087.41 345.215 Q2085.48 342.53 2082.1 342.53 Q2078.73 342.53 2076.78 345.215 Q2074.86 347.877 2074.86 352.576 Q2074.86 357.275 2076.78 359.96 Q2078.73 362.622 2082.1 362.622 Q2085.48 362.622 2087.41 359.96 Q2089.35 357.275 2089.35 352.576 Z\" fill=\"#000000\" fill-rule=\"evenodd\" fill-opacity=\"1\" /><path clip-path=\"url(#clip360)\" d=\"M 0 0 M2102.45 332.229 L2102.45 339.59 L2111.23 339.59 L2111.23 342.9 L2102.45 342.9 L2102.45 356.974 Q2102.45 360.145 2103.31 361.048 Q2104.19 361.951 2106.85 361.951 L2111.23 361.951 L2111.23 365.516 L2106.85 365.516 Q2101.92 365.516 2100.04 363.687 Q2098.17 361.835 2098.17 356.974 L2098.17 342.9 L2095.04 342.9 L2095.04 339.59 L2098.17 339.59 L2098.17 332.229 L2102.45 332.229 Z\" fill=\"#000000\" fill-rule=\"evenodd\" fill-opacity=\"1\" /><path clip-path=\"url(#clip360)\" d=\"M 0 0 M2115.69 339.59 L2119.95 339.59 L2119.95 365.516 L2115.69 365.516 L2115.69 339.59 M2115.69 329.497 L2119.95 329.497 L2119.95 334.891 L2115.69 334.891 L2115.69 329.497 Z\" fill=\"#000000\" fill-rule=\"evenodd\" fill-opacity=\"1\" /><path clip-path=\"url(#clip360)\" d=\"M 0 0 M2144.6 344.567 Q2146.2 341.696 2148.42 340.331 Q2150.65 338.965 2153.66 338.965 Q2157.71 338.965 2159.91 341.812 Q2162.1 344.636 2162.1 349.868 L2162.1 365.516 L2157.82 365.516 L2157.82 350.007 Q2157.82 346.28 2156.5 344.474 Q2155.18 342.669 2152.47 342.669 Q2149.16 342.669 2147.24 344.868 Q2145.32 347.067 2145.32 350.863 L2145.32 365.516 L2141.04 365.516 L2141.04 350.007 Q2141.04 346.257 2139.72 344.474 Q2138.4 342.669 2135.65 342.669 Q2132.38 342.669 2130.46 344.891 Q2128.54 347.09 2128.54 350.863 L2128.54 365.516 L2124.26 365.516 L2124.26 339.59 L2128.54 339.59 L2128.54 343.618 Q2130 341.233 2132.04 340.099 Q2134.07 338.965 2136.87 338.965 Q2139.7 338.965 2141.66 340.4 Q2143.66 341.835 2144.6 344.567 Z\" fill=\"#000000\" fill-rule=\"evenodd\" fill-opacity=\"1\" /><path clip-path=\"url(#clip360)\" d=\"M 0 0 M2178.35 352.483 Q2173.19 352.483 2171.2 353.664 Q2169.21 354.844 2169.21 357.692 Q2169.21 359.96 2170.69 361.303 Q2172.2 362.622 2174.77 362.622 Q2178.31 362.622 2180.44 360.122 Q2182.59 357.599 2182.59 353.432 L2182.59 352.483 L2178.35 352.483 M2186.85 350.724 L2186.85 365.516 L2182.59 365.516 L2182.59 361.581 Q2181.13 363.942 2178.96 365.076 Q2176.78 366.187 2173.63 366.187 Q2169.65 366.187 2167.29 363.965 Q2164.95 361.719 2164.95 357.969 Q2164.95 353.594 2167.87 351.372 Q2170.81 349.15 2176.62 349.15 L2182.59 349.15 L2182.59 348.733 Q2182.59 345.794 2180.65 344.196 Q2178.72 342.576 2175.23 342.576 Q2173.01 342.576 2170.9 343.108 Q2168.79 343.641 2166.85 344.706 L2166.85 340.77 Q2169.19 339.868 2171.39 339.428 Q2173.59 338.965 2175.67 338.965 Q2181.29 338.965 2184.07 341.882 Q2186.85 344.798 2186.85 350.724 Z\" fill=\"#000000\" fill-rule=\"evenodd\" fill-opacity=\"1\" /><path clip-path=\"url(#clip360)\" d=\"M 0 0 M2191.32 329.497 L2195.58 329.497 L2195.58 365.516 L2191.32 365.516 L2191.32 329.497 Z\" fill=\"#000000\" fill-rule=\"evenodd\" fill-opacity=\"1\" /><path clip-path=\"url(#clip360)\" d=\"M 0 0 M2233.77 340.585 L2233.77 344.567 Q2231.97 343.571 2230.14 343.085 Q2228.33 342.576 2226.48 342.576 Q2222.34 342.576 2220.04 345.215 Q2217.75 347.831 2217.75 352.576 Q2217.75 357.321 2220.04 359.96 Q2222.34 362.576 2226.48 362.576 Q2228.33 362.576 2230.14 362.09 Q2231.97 361.581 2233.77 360.585 L2233.77 364.52 Q2231.99 365.354 2230.07 365.77 Q2228.17 366.187 2226.02 366.187 Q2220.16 366.187 2216.71 362.506 Q2213.26 358.826 2213.26 352.576 Q2213.26 346.233 2216.73 342.599 Q2220.23 338.965 2226.29 338.965 Q2228.26 338.965 2230.14 339.382 Q2232.01 339.775 2233.77 340.585 Z\" fill=\"#000000\" fill-rule=\"evenodd\" fill-opacity=\"1\" /></svg>\n"
      ]
     },
     "execution_count": 22,
     "metadata": {},
     "output_type": "execute_result"
    }
   ],
   "source": [
    "plot(title = \"Policy Function Plot\")\n",
    "plot!(kgrid, fill(c̄, length(kgrid)), label = \"c̄\", color = \"gray\", lw = 3)\n",
    "vline!([k̄], label = \"k̄\", color = \"gray\",lw = 3)\n",
    "plot!(kgrid, c_pol, label = \"Optimal c\", color = \"red\", lw = 3)\n",
    "xlabel!(\"k\")\n",
    "ylabel!(\"c\")"
   ]
  },
  {
   "cell_type": "markdown",
   "metadata": {},
   "source": [
    "## Generating Optimal Paths"
   ]
  }
 ],
 "metadata": {
  "kernelspec": {
   "display_name": "Julia 1.5.4",
   "language": "julia",
   "name": "julia-1.5"
  },
  "language_info": {
   "file_extension": ".jl",
   "mimetype": "application/julia",
   "name": "julia",
   "version": "1.5.4"
  },
  "latex_envs": {
   "LaTeX_envs_menu_present": true,
   "autoclose": false,
   "autocomplete": true,
   "bibliofile": "biblio.bib",
   "cite_by": "apalike",
   "current_citInitial": 1,
   "eqLabelWithNumbers": true,
   "eqNumInitial": 1,
   "hotkeys": {
    "equation": "Ctrl-E",
    "itemize": "Ctrl-I"
   },
   "labels_anchors": false,
   "latex_user_defs": false,
   "report_style_numbering": false,
   "user_envs_cfg": false
  }
 },
 "nbformat": 4,
 "nbformat_minor": 4
}
